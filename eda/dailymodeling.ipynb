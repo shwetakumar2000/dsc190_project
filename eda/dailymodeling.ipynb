{
 "cells": [
  {
   "cell_type": "code",
   "execution_count": 1,
   "metadata": {},
   "outputs": [
    {
     "output_type": "stream",
     "name": "stderr",
     "text": [
      "C:\\Users\\Staro\\.virtualenvs\\dsc190-FVH1D0fH\\lib\\site-packages\\backtesting\\_plotting.py:45: UserWarning: Jupyter Notebook detected. Setting Bokeh output to notebook. This may not work in Jupyter clients without JavaScript support (e.g. PyCharm, Spyder IDE). Reset with `backtesting.set_bokeh_output(notebook=False)`.\n  warnings.warn('Jupyter Notebook detected. '\n"
     ]
    },
    {
     "output_type": "display_data",
     "data": {
      "text/html": "\n    <div class=\"bk-root\">\n        <a href=\"https://bokeh.org\" target=\"_blank\" class=\"bk-logo bk-logo-small bk-logo-notebook\"></a>\n        <span id=\"1002\">Loading BokehJS ...</span>\n    </div>"
     },
     "metadata": {}
    },
    {
     "output_type": "display_data",
     "data": {
      "application/javascript": "\n(function(root) {\n  function now() {\n    return new Date();\n  }\n\n  var force = true;\n\n  if (typeof root._bokeh_onload_callbacks === \"undefined\" || force === true) {\n    root._bokeh_onload_callbacks = [];\n    root._bokeh_is_loading = undefined;\n  }\n\n  var JS_MIME_TYPE = 'application/javascript';\n  var HTML_MIME_TYPE = 'text/html';\n  var EXEC_MIME_TYPE = 'application/vnd.bokehjs_exec.v0+json';\n  var CLASS_NAME = 'output_bokeh rendered_html';\n\n  /**\n   * Render data to the DOM node\n   */\n  function render(props, node) {\n    var script = document.createElement(\"script\");\n    node.appendChild(script);\n  }\n\n  /**\n   * Handle when an output is cleared or removed\n   */\n  function handleClearOutput(event, handle) {\n    var cell = handle.cell;\n\n    var id = cell.output_area._bokeh_element_id;\n    var server_id = cell.output_area._bokeh_server_id;\n    // Clean up Bokeh references\n    if (id != null && id in Bokeh.index) {\n      Bokeh.index[id].model.document.clear();\n      delete Bokeh.index[id];\n    }\n\n    if (server_id !== undefined) {\n      // Clean up Bokeh references\n      var cmd = \"from bokeh.io.state import curstate; print(curstate().uuid_to_server['\" + server_id + \"'].get_sessions()[0].document.roots[0]._id)\";\n      cell.notebook.kernel.execute(cmd, {\n        iopub: {\n          output: function(msg) {\n            var id = msg.content.text.trim();\n            if (id in Bokeh.index) {\n              Bokeh.index[id].model.document.clear();\n              delete Bokeh.index[id];\n            }\n          }\n        }\n      });\n      // Destroy server and session\n      var cmd = \"import bokeh.io.notebook as ion; ion.destroy_server('\" + server_id + \"')\";\n      cell.notebook.kernel.execute(cmd);\n    }\n  }\n\n  /**\n   * Handle when a new output is added\n   */\n  function handleAddOutput(event, handle) {\n    var output_area = handle.output_area;\n    var output = handle.output;\n\n    // limit handleAddOutput to display_data with EXEC_MIME_TYPE content only\n    if ((output.output_type != \"display_data\") || (!Object.prototype.hasOwnProperty.call(output.data, EXEC_MIME_TYPE))) {\n      return\n    }\n\n    var toinsert = output_area.element.find(\".\" + CLASS_NAME.split(' ')[0]);\n\n    if (output.metadata[EXEC_MIME_TYPE][\"id\"] !== undefined) {\n      toinsert[toinsert.length - 1].firstChild.textContent = output.data[JS_MIME_TYPE];\n      // store reference to embed id on output_area\n      output_area._bokeh_element_id = output.metadata[EXEC_MIME_TYPE][\"id\"];\n    }\n    if (output.metadata[EXEC_MIME_TYPE][\"server_id\"] !== undefined) {\n      var bk_div = document.createElement(\"div\");\n      bk_div.innerHTML = output.data[HTML_MIME_TYPE];\n      var script_attrs = bk_div.children[0].attributes;\n      for (var i = 0; i < script_attrs.length; i++) {\n        toinsert[toinsert.length - 1].firstChild.setAttribute(script_attrs[i].name, script_attrs[i].value);\n        toinsert[toinsert.length - 1].firstChild.textContent = bk_div.children[0].textContent\n      }\n      // store reference to server id on output_area\n      output_area._bokeh_server_id = output.metadata[EXEC_MIME_TYPE][\"server_id\"];\n    }\n  }\n\n  function register_renderer(events, OutputArea) {\n\n    function append_mime(data, metadata, element) {\n      // create a DOM node to render to\n      var toinsert = this.create_output_subarea(\n        metadata,\n        CLASS_NAME,\n        EXEC_MIME_TYPE\n      );\n      this.keyboard_manager.register_events(toinsert);\n      // Render to node\n      var props = {data: data, metadata: metadata[EXEC_MIME_TYPE]};\n      render(props, toinsert[toinsert.length - 1]);\n      element.append(toinsert);\n      return toinsert\n    }\n\n    /* Handle when an output is cleared or removed */\n    events.on('clear_output.CodeCell', handleClearOutput);\n    events.on('delete.Cell', handleClearOutput);\n\n    /* Handle when a new output is added */\n    events.on('output_added.OutputArea', handleAddOutput);\n\n    /**\n     * Register the mime type and append_mime function with output_area\n     */\n    OutputArea.prototype.register_mime_type(EXEC_MIME_TYPE, append_mime, {\n      /* Is output safe? */\n      safe: true,\n      /* Index of renderer in `output_area.display_order` */\n      index: 0\n    });\n  }\n\n  // register the mime type if in Jupyter Notebook environment and previously unregistered\n  if (root.Jupyter !== undefined) {\n    var events = require('base/js/events');\n    var OutputArea = require('notebook/js/outputarea').OutputArea;\n\n    if (OutputArea.prototype.mime_types().indexOf(EXEC_MIME_TYPE) == -1) {\n      register_renderer(events, OutputArea);\n    }\n  }\n\n  \n  if (typeof (root._bokeh_timeout) === \"undefined\" || force === true) {\n    root._bokeh_timeout = Date.now() + 5000;\n    root._bokeh_failed_load = false;\n  }\n\n  var NB_LOAD_WARNING = {'data': {'text/html':\n     \"<div style='background-color: #fdd'>\\n\"+\n     \"<p>\\n\"+\n     \"BokehJS does not appear to have successfully loaded. If loading BokehJS from CDN, this \\n\"+\n     \"may be due to a slow or bad network connection. Possible fixes:\\n\"+\n     \"</p>\\n\"+\n     \"<ul>\\n\"+\n     \"<li>re-rerun `output_notebook()` to attempt to load from CDN again, or</li>\\n\"+\n     \"<li>use INLINE resources instead, as so:</li>\\n\"+\n     \"</ul>\\n\"+\n     \"<code>\\n\"+\n     \"from bokeh.resources import INLINE\\n\"+\n     \"output_notebook(resources=INLINE)\\n\"+\n     \"</code>\\n\"+\n     \"</div>\"}};\n\n  function display_loaded() {\n    var el = document.getElementById(\"1002\");\n    if (el != null) {\n      el.textContent = \"BokehJS is loading...\";\n    }\n    if (root.Bokeh !== undefined) {\n      if (el != null) {\n        el.textContent = \"BokehJS \" + root.Bokeh.version + \" successfully loaded.\";\n      }\n    } else if (Date.now() < root._bokeh_timeout) {\n      setTimeout(display_loaded, 100)\n    }\n  }\n\n\n  function run_callbacks() {\n    try {\n      root._bokeh_onload_callbacks.forEach(function(callback) {\n        if (callback != null)\n          callback();\n      });\n    } finally {\n      delete root._bokeh_onload_callbacks\n    }\n    console.debug(\"Bokeh: all callbacks have finished\");\n  }\n\n  function load_libs(css_urls, js_urls, callback) {\n    if (css_urls == null) css_urls = [];\n    if (js_urls == null) js_urls = [];\n\n    root._bokeh_onload_callbacks.push(callback);\n    if (root._bokeh_is_loading > 0) {\n      console.debug(\"Bokeh: BokehJS is being loaded, scheduling callback at\", now());\n      return null;\n    }\n    if (js_urls == null || js_urls.length === 0) {\n      run_callbacks();\n      return null;\n    }\n    console.debug(\"Bokeh: BokehJS not loaded, scheduling load and callback at\", now());\n    root._bokeh_is_loading = css_urls.length + js_urls.length;\n\n    function on_load() {\n      root._bokeh_is_loading--;\n      if (root._bokeh_is_loading === 0) {\n        console.debug(\"Bokeh: all BokehJS libraries/stylesheets loaded\");\n        run_callbacks()\n      }\n    }\n\n    function on_error(url) {\n      console.error(\"failed to load \" + url);\n    }\n\n    for (let i = 0; i < css_urls.length; i++) {\n      const url = css_urls[i];\n      const element = document.createElement(\"link\");\n      element.onload = on_load;\n      element.onerror = on_error.bind(null, url);\n      element.rel = \"stylesheet\";\n      element.type = \"text/css\";\n      element.href = url;\n      console.debug(\"Bokeh: injecting link tag for BokehJS stylesheet: \", url);\n      document.body.appendChild(element);\n    }\n\n    const hashes = {\"https://cdn.bokeh.org/bokeh/release/bokeh-2.3.0.min.js\": \"HjagQp6T0/7bxYTAXbLotF1MLAGWmhkY5siA1Gc/pcEgvgRPtMsRn0gQtMwGKiw1\", \"https://cdn.bokeh.org/bokeh/release/bokeh-widgets-2.3.0.min.js\": \"ZEPPTjL+mdyqgIq+/pl9KTwzji8Kow2NnI3zWY8+sFinWP/SYJ80BnfeJsa45iYj\", \"https://cdn.bokeh.org/bokeh/release/bokeh-tables-2.3.0.min.js\": \"exLqv2ACDRIaV7ZK1iL8aGzGYQvKVuT3U2CT7FsQREBxRah6JrkVCoFy0koY1YqV\"};\n\n    for (let i = 0; i < js_urls.length; i++) {\n      const url = js_urls[i];\n      const element = document.createElement('script');\n      element.onload = on_load;\n      element.onerror = on_error.bind(null, url);\n      element.async = false;\n      element.src = url;\n      if (url in hashes) {\n        element.crossOrigin = \"anonymous\";\n        element.integrity = \"sha384-\" + hashes[url];\n      }\n      console.debug(\"Bokeh: injecting script tag for BokehJS library: \", url);\n      document.head.appendChild(element);\n    }\n  };\n\n  function inject_raw_css(css) {\n    const element = document.createElement(\"style\");\n    element.appendChild(document.createTextNode(css));\n    document.body.appendChild(element);\n  }\n\n  \n  var js_urls = [\"https://cdn.bokeh.org/bokeh/release/bokeh-2.3.0.min.js\", \"https://cdn.bokeh.org/bokeh/release/bokeh-widgets-2.3.0.min.js\", \"https://cdn.bokeh.org/bokeh/release/bokeh-tables-2.3.0.min.js\"];\n  var css_urls = [];\n  \n\n  var inline_js = [\n    function(Bokeh) {\n      Bokeh.set_log_level(\"info\");\n    },\n    function(Bokeh) {\n    \n    \n    }\n  ];\n\n  function run_inline_js() {\n    \n    if (root.Bokeh !== undefined || force === true) {\n      \n    for (var i = 0; i < inline_js.length; i++) {\n      inline_js[i].call(root, root.Bokeh);\n    }\n    if (force === true) {\n        display_loaded();\n      }} else if (Date.now() < root._bokeh_timeout) {\n      setTimeout(run_inline_js, 100);\n    } else if (!root._bokeh_failed_load) {\n      console.log(\"Bokeh: BokehJS failed to load within specified timeout.\");\n      root._bokeh_failed_load = true;\n    } else if (force !== true) {\n      var cell = $(document.getElementById(\"1002\")).parents('.cell').data().cell;\n      cell.output_area.append_execute_result(NB_LOAD_WARNING)\n    }\n\n  }\n\n  if (root._bokeh_is_loading === 0) {\n    console.debug(\"Bokeh: BokehJS loaded, going straight to plotting\");\n    run_inline_js();\n  } else {\n    load_libs(css_urls, js_urls, function() {\n      console.debug(\"Bokeh: BokehJS plotting callback run at\", now());\n      run_inline_js();\n    });\n  }\n}(window));",
      "application/vnd.bokehjs_load.v0+json": "\n(function(root) {\n  function now() {\n    return new Date();\n  }\n\n  var force = true;\n\n  if (typeof root._bokeh_onload_callbacks === \"undefined\" || force === true) {\n    root._bokeh_onload_callbacks = [];\n    root._bokeh_is_loading = undefined;\n  }\n\n  \n\n  \n  if (typeof (root._bokeh_timeout) === \"undefined\" || force === true) {\n    root._bokeh_timeout = Date.now() + 5000;\n    root._bokeh_failed_load = false;\n  }\n\n  var NB_LOAD_WARNING = {'data': {'text/html':\n     \"<div style='background-color: #fdd'>\\n\"+\n     \"<p>\\n\"+\n     \"BokehJS does not appear to have successfully loaded. If loading BokehJS from CDN, this \\n\"+\n     \"may be due to a slow or bad network connection. Possible fixes:\\n\"+\n     \"</p>\\n\"+\n     \"<ul>\\n\"+\n     \"<li>re-rerun `output_notebook()` to attempt to load from CDN again, or</li>\\n\"+\n     \"<li>use INLINE resources instead, as so:</li>\\n\"+\n     \"</ul>\\n\"+\n     \"<code>\\n\"+\n     \"from bokeh.resources import INLINE\\n\"+\n     \"output_notebook(resources=INLINE)\\n\"+\n     \"</code>\\n\"+\n     \"</div>\"}};\n\n  function display_loaded() {\n    var el = document.getElementById(\"1002\");\n    if (el != null) {\n      el.textContent = \"BokehJS is loading...\";\n    }\n    if (root.Bokeh !== undefined) {\n      if (el != null) {\n        el.textContent = \"BokehJS \" + root.Bokeh.version + \" successfully loaded.\";\n      }\n    } else if (Date.now() < root._bokeh_timeout) {\n      setTimeout(display_loaded, 100)\n    }\n  }\n\n\n  function run_callbacks() {\n    try {\n      root._bokeh_onload_callbacks.forEach(function(callback) {\n        if (callback != null)\n          callback();\n      });\n    } finally {\n      delete root._bokeh_onload_callbacks\n    }\n    console.debug(\"Bokeh: all callbacks have finished\");\n  }\n\n  function load_libs(css_urls, js_urls, callback) {\n    if (css_urls == null) css_urls = [];\n    if (js_urls == null) js_urls = [];\n\n    root._bokeh_onload_callbacks.push(callback);\n    if (root._bokeh_is_loading > 0) {\n      console.debug(\"Bokeh: BokehJS is being loaded, scheduling callback at\", now());\n      return null;\n    }\n    if (js_urls == null || js_urls.length === 0) {\n      run_callbacks();\n      return null;\n    }\n    console.debug(\"Bokeh: BokehJS not loaded, scheduling load and callback at\", now());\n    root._bokeh_is_loading = css_urls.length + js_urls.length;\n\n    function on_load() {\n      root._bokeh_is_loading--;\n      if (root._bokeh_is_loading === 0) {\n        console.debug(\"Bokeh: all BokehJS libraries/stylesheets loaded\");\n        run_callbacks()\n      }\n    }\n\n    function on_error(url) {\n      console.error(\"failed to load \" + url);\n    }\n\n    for (let i = 0; i < css_urls.length; i++) {\n      const url = css_urls[i];\n      const element = document.createElement(\"link\");\n      element.onload = on_load;\n      element.onerror = on_error.bind(null, url);\n      element.rel = \"stylesheet\";\n      element.type = \"text/css\";\n      element.href = url;\n      console.debug(\"Bokeh: injecting link tag for BokehJS stylesheet: \", url);\n      document.body.appendChild(element);\n    }\n\n    const hashes = {\"https://cdn.bokeh.org/bokeh/release/bokeh-2.3.0.min.js\": \"HjagQp6T0/7bxYTAXbLotF1MLAGWmhkY5siA1Gc/pcEgvgRPtMsRn0gQtMwGKiw1\", \"https://cdn.bokeh.org/bokeh/release/bokeh-widgets-2.3.0.min.js\": \"ZEPPTjL+mdyqgIq+/pl9KTwzji8Kow2NnI3zWY8+sFinWP/SYJ80BnfeJsa45iYj\", \"https://cdn.bokeh.org/bokeh/release/bokeh-tables-2.3.0.min.js\": \"exLqv2ACDRIaV7ZK1iL8aGzGYQvKVuT3U2CT7FsQREBxRah6JrkVCoFy0koY1YqV\"};\n\n    for (let i = 0; i < js_urls.length; i++) {\n      const url = js_urls[i];\n      const element = document.createElement('script');\n      element.onload = on_load;\n      element.onerror = on_error.bind(null, url);\n      element.async = false;\n      element.src = url;\n      if (url in hashes) {\n        element.crossOrigin = \"anonymous\";\n        element.integrity = \"sha384-\" + hashes[url];\n      }\n      console.debug(\"Bokeh: injecting script tag for BokehJS library: \", url);\n      document.head.appendChild(element);\n    }\n  };\n\n  function inject_raw_css(css) {\n    const element = document.createElement(\"style\");\n    element.appendChild(document.createTextNode(css));\n    document.body.appendChild(element);\n  }\n\n  \n  var js_urls = [\"https://cdn.bokeh.org/bokeh/release/bokeh-2.3.0.min.js\", \"https://cdn.bokeh.org/bokeh/release/bokeh-widgets-2.3.0.min.js\", \"https://cdn.bokeh.org/bokeh/release/bokeh-tables-2.3.0.min.js\"];\n  var css_urls = [];\n  \n\n  var inline_js = [\n    function(Bokeh) {\n      Bokeh.set_log_level(\"info\");\n    },\n    function(Bokeh) {\n    \n    \n    }\n  ];\n\n  function run_inline_js() {\n    \n    if (root.Bokeh !== undefined || force === true) {\n      \n    for (var i = 0; i < inline_js.length; i++) {\n      inline_js[i].call(root, root.Bokeh);\n    }\n    if (force === true) {\n        display_loaded();\n      }} else if (Date.now() < root._bokeh_timeout) {\n      setTimeout(run_inline_js, 100);\n    } else if (!root._bokeh_failed_load) {\n      console.log(\"Bokeh: BokehJS failed to load within specified timeout.\");\n      root._bokeh_failed_load = true;\n    } else if (force !== true) {\n      var cell = $(document.getElementById(\"1002\")).parents('.cell').data().cell;\n      cell.output_area.append_execute_result(NB_LOAD_WARNING)\n    }\n\n  }\n\n  if (root._bokeh_is_loading === 0) {\n    console.debug(\"Bokeh: BokehJS loaded, going straight to plotting\");\n    run_inline_js();\n  } else {\n    load_libs(css_urls, js_urls, function() {\n      console.debug(\"Bokeh: BokehJS plotting callback run at\", now());\n      run_inline_js();\n    });\n  }\n}(window));"
     },
     "metadata": {}
    }
   ],
   "source": [
    "import numpy as np\n",
    "import pandas as pd\n",
    "import matplotlib.pyplot as plt\n",
    "from time import sleep\n",
    "\n",
    "from pandas_datareader import data as pdr\n",
    "import pandas_ta as ta #commented out for me for now, I (Ben) had some dependency issues\n",
    "\n",
    "import yfinance as yf\n",
    "# import quandl as qd # not used, ignor ples\n",
    "from backtesting import Backtest, Strategy"
   ]
  },
  {
   "cell_type": "code",
   "execution_count": 2,
   "metadata": {},
   "outputs": [],
   "source": [
    "yf.pdr_override() # for use with pandas-datareader, optional"
   ]
  },
  {
   "cell_type": "markdown",
   "metadata": {},
   "source": [
    "uncomment below if you need to update/generate your monthly and daily csv files."
   ]
  },
  {
   "cell_type": "code",
   "execution_count": 3,
   "metadata": {
    "tags": []
   },
   "outputs": [],
   "source": [
    "# ticker = pd.read_csv('ticker.csv')['Ticker']\n",
    "# tickers = ticker.to_list() # This is a list of all tickers in the SP500\n",
    "# tickers = [x.replace('.','-') for x in tickers] # yahoo has '-' instead of '.' for tickers, eg BRK.B\n",
    "\n",
    "# ## below is how I got monthly and daily pandas dataframes of all stocks in one huge dict.  \n",
    "# monthly_sp500 = {}\n",
    "# daily_sp500 = {}\n",
    "# for tkr in tickers: # run all 500 at your own risk, it takes a while lol\n",
    "# # for tkr in tickers[:10]:\n",
    "#     print('Grabbing ' + tkr + \" data!\")\n",
    "#     monthly_sp500[tkr] = pdr.get_data_yahoo(tkr, start=\"2010-01-01\", interval = \"1mo\")\n",
    "#     daily_sp500[tkr] = pdr.get_data_yahoo(tkr,start=\"2010-01-01\")\n",
    "#     sleep(.1) # not planning on ddos-ing yahoo today\n",
    "# monthly_sp500['AAPL'] # take AAPL, for example\n",
    "\n",
    "# ## everything in one stupid large dataframe\n",
    "# sp500m = monthly_sp500[tickers[0]] # monthly\n",
    "# sp500m['Name'] = tickers[0]\n",
    "\n",
    "# sp500d = daily_sp500[tickers[0]] # daily\n",
    "# sp500d['Name'] = tickers[0]\n",
    "\n",
    "# # for tkr in tickers[1:10]:\n",
    "# for tkr in tickers[1:]:\n",
    "#     df1 = monthly_sp500[tkr] # monthly\n",
    "#     df1['Name'] = tkr\n",
    "#     sp500m = sp500m.append(df1)\n",
    "\n",
    "#     df2 = daily_sp500[tkr] # daily\n",
    "#     df2['Name'] = tkr\n",
    "#     sp500d = sp500d.append(df2)\n",
    "\n",
    "# sp500m.to_csv('SP500_monthly.csv') # run/uncomment some of these to save these to csv\n",
    "# sp500d.to_csv('SP500_daily.csv')"
   ]
  },
  {
   "cell_type": "code",
   "execution_count": 4,
   "metadata": {},
   "outputs": [
    {
     "output_type": "execute_result",
     "data": {
      "text/plain": [
       "               Date       Open       High        Low      Close  Adj Close  \\\n",
       "0        2010-01-04   7.622500   7.660714   7.585000   7.643214   6.583586   \n",
       "1        2010-01-05   7.664286   7.699643   7.616071   7.656429   6.594968   \n",
       "2        2010-01-06   7.656429   7.686786   7.526786   7.534643   6.490066   \n",
       "3        2010-01-07   7.562500   7.571429   7.466071   7.520714   6.478067   \n",
       "4        2010-01-08   7.510714   7.571429   7.466429   7.570714   6.521136   \n",
       "...             ...        ...        ...        ...        ...        ...   \n",
       "1365206  2021-03-04  23.020000  23.330000  22.389999  22.770000  22.770000   \n",
       "1365207  2021-03-05  22.940001  23.549999  22.510000  23.500000  23.500000   \n",
       "1365208  2021-03-08  23.500000  23.760000  22.980000  23.230000  23.230000   \n",
       "1365209  2021-03-09  24.000000  24.459999  23.389999  23.799999  23.799999   \n",
       "1365210  2021-03-10  23.860001  24.770000  23.709999  24.370001  24.370001   \n",
       "\n",
       "              Volume  Name  \n",
       "0        493729600.0  AAPL  \n",
       "1        601904800.0  AAPL  \n",
       "2        552160000.0  AAPL  \n",
       "3        477131200.0  AAPL  \n",
       "4        447610800.0  AAPL  \n",
       "...              ...   ...  \n",
       "1365206     345900.0   NWS  \n",
       "1365207     515500.0   NWS  \n",
       "1365208     754500.0   NWS  \n",
       "1365209     632600.0   NWS  \n",
       "1365210     787033.0   NWS  \n",
       "\n",
       "[1365210 rows x 8 columns]"
      ],
      "text/html": "<div>\n<style scoped>\n    .dataframe tbody tr th:only-of-type {\n        vertical-align: middle;\n    }\n\n    .dataframe tbody tr th {\n        vertical-align: top;\n    }\n\n    .dataframe thead th {\n        text-align: right;\n    }\n</style>\n<table border=\"1\" class=\"dataframe\">\n  <thead>\n    <tr style=\"text-align: right;\">\n      <th></th>\n      <th>Date</th>\n      <th>Open</th>\n      <th>High</th>\n      <th>Low</th>\n      <th>Close</th>\n      <th>Adj Close</th>\n      <th>Volume</th>\n      <th>Name</th>\n    </tr>\n  </thead>\n  <tbody>\n    <tr>\n      <th>0</th>\n      <td>2010-01-04</td>\n      <td>7.622500</td>\n      <td>7.660714</td>\n      <td>7.585000</td>\n      <td>7.643214</td>\n      <td>6.583586</td>\n      <td>493729600.0</td>\n      <td>AAPL</td>\n    </tr>\n    <tr>\n      <th>1</th>\n      <td>2010-01-05</td>\n      <td>7.664286</td>\n      <td>7.699643</td>\n      <td>7.616071</td>\n      <td>7.656429</td>\n      <td>6.594968</td>\n      <td>601904800.0</td>\n      <td>AAPL</td>\n    </tr>\n    <tr>\n      <th>2</th>\n      <td>2010-01-06</td>\n      <td>7.656429</td>\n      <td>7.686786</td>\n      <td>7.526786</td>\n      <td>7.534643</td>\n      <td>6.490066</td>\n      <td>552160000.0</td>\n      <td>AAPL</td>\n    </tr>\n    <tr>\n      <th>3</th>\n      <td>2010-01-07</td>\n      <td>7.562500</td>\n      <td>7.571429</td>\n      <td>7.466071</td>\n      <td>7.520714</td>\n      <td>6.478067</td>\n      <td>477131200.0</td>\n      <td>AAPL</td>\n    </tr>\n    <tr>\n      <th>4</th>\n      <td>2010-01-08</td>\n      <td>7.510714</td>\n      <td>7.571429</td>\n      <td>7.466429</td>\n      <td>7.570714</td>\n      <td>6.521136</td>\n      <td>447610800.0</td>\n      <td>AAPL</td>\n    </tr>\n    <tr>\n      <th>...</th>\n      <td>...</td>\n      <td>...</td>\n      <td>...</td>\n      <td>...</td>\n      <td>...</td>\n      <td>...</td>\n      <td>...</td>\n      <td>...</td>\n    </tr>\n    <tr>\n      <th>1365206</th>\n      <td>2021-03-04</td>\n      <td>23.020000</td>\n      <td>23.330000</td>\n      <td>22.389999</td>\n      <td>22.770000</td>\n      <td>22.770000</td>\n      <td>345900.0</td>\n      <td>NWS</td>\n    </tr>\n    <tr>\n      <th>1365207</th>\n      <td>2021-03-05</td>\n      <td>22.940001</td>\n      <td>23.549999</td>\n      <td>22.510000</td>\n      <td>23.500000</td>\n      <td>23.500000</td>\n      <td>515500.0</td>\n      <td>NWS</td>\n    </tr>\n    <tr>\n      <th>1365208</th>\n      <td>2021-03-08</td>\n      <td>23.500000</td>\n      <td>23.760000</td>\n      <td>22.980000</td>\n      <td>23.230000</td>\n      <td>23.230000</td>\n      <td>754500.0</td>\n      <td>NWS</td>\n    </tr>\n    <tr>\n      <th>1365209</th>\n      <td>2021-03-09</td>\n      <td>24.000000</td>\n      <td>24.459999</td>\n      <td>23.389999</td>\n      <td>23.799999</td>\n      <td>23.799999</td>\n      <td>632600.0</td>\n      <td>NWS</td>\n    </tr>\n    <tr>\n      <th>1365210</th>\n      <td>2021-03-10</td>\n      <td>23.860001</td>\n      <td>24.770000</td>\n      <td>23.709999</td>\n      <td>24.370001</td>\n      <td>24.370001</td>\n      <td>787033.0</td>\n      <td>NWS</td>\n    </tr>\n  </tbody>\n</table>\n<p>1365210 rows × 8 columns</p>\n</div>"
     },
     "metadata": {},
     "execution_count": 4
    }
   ],
   "source": [
    "# df = pd.read_csv('SP500_monthly.csv').infer_objects().dropna()\n",
    "df = pd.read_csv('SP500_daily.csv').infer_objects().dropna()\n",
    "# df = sp500m.infer_objects().dropna()#.reset_index() # dataframe of all we basically want, OHLC data w/ adjusted close. didnt set any ind\n",
    "df"
   ]
  },
  {
   "cell_type": "code",
   "execution_count": 5,
   "metadata": {},
   "outputs": [],
   "source": [
    "# j=1\n",
    "# k=2\n",
    "# # the 'midpoints' for each observe and hold period. midpoint in this context is where we switch from the observation period len=j to the holding period len=k\n",
    "# j_end = pd.date_range(st+pd.DateOffset(months=j*3), et, freq=str(k*3)+\"MS\")\n",
    "# j_end.strftime(\"%Y-%m-%d\").to_list()[:10]"
   ]
  },
  {
   "cell_type": "code",
   "execution_count": 6,
   "metadata": {},
   "outputs": [],
   "source": [
    "# pd.date_range(st+pd.DateOffset(days=j), et)"
   ]
  },
  {
   "cell_type": "code",
   "execution_count": 7,
   "metadata": {},
   "outputs": [
    {
     "output_type": "stream",
     "name": "stdout",
     "text": [
      "204\n"
     ]
    },
    {
     "output_type": "execute_result",
     "data": {
      "text/plain": [
       "     j_start   midpoint      k_end\n",
       "0 2010-01-04 2010-01-14 2010-02-02\n",
       "1 2010-01-24 2010-02-03 2010-02-22\n",
       "2 2010-02-13 2010-02-23 2010-03-14\n",
       "3 2010-03-05 2010-03-15 2010-04-03\n",
       "4 2010-03-25 2010-04-04 2010-04-23"
      ],
      "text/html": "<div>\n<style scoped>\n    .dataframe tbody tr th:only-of-type {\n        vertical-align: middle;\n    }\n\n    .dataframe tbody tr th {\n        vertical-align: top;\n    }\n\n    .dataframe thead th {\n        text-align: right;\n    }\n</style>\n<table border=\"1\" class=\"dataframe\">\n  <thead>\n    <tr style=\"text-align: right;\">\n      <th></th>\n      <th>j_start</th>\n      <th>midpoint</th>\n      <th>k_end</th>\n    </tr>\n  </thead>\n  <tbody>\n    <tr>\n      <th>0</th>\n      <td>2010-01-04</td>\n      <td>2010-01-14</td>\n      <td>2010-02-02</td>\n    </tr>\n    <tr>\n      <th>1</th>\n      <td>2010-01-24</td>\n      <td>2010-02-03</td>\n      <td>2010-02-22</td>\n    </tr>\n    <tr>\n      <th>2</th>\n      <td>2010-02-13</td>\n      <td>2010-02-23</td>\n      <td>2010-03-14</td>\n    </tr>\n    <tr>\n      <th>3</th>\n      <td>2010-03-05</td>\n      <td>2010-03-15</td>\n      <td>2010-04-03</td>\n    </tr>\n    <tr>\n      <th>4</th>\n      <td>2010-03-25</td>\n      <td>2010-04-04</td>\n      <td>2010-04-23</td>\n    </tr>\n  </tbody>\n</table>\n</div>"
     },
     "metadata": {},
     "execution_count": 7
    }
   ],
   "source": [
    "# def generate_momentum_returns(j=25,k=50):\n",
    "def generate_daily_timetable(j=10, k=20):\n",
    "    '''aims to generate the MONTHLY table of times for each observe/hold period. The midpoint in this context is where we switch from the observation period len=j to the holding period len=k'''\n",
    "    j_end = pd.date_range(pd.to_datetime(df.Date.min())+pd.DateOffset(days=j), pd.to_datetime(df.Date.max()), freq=str(k)+\"D\") # the 'midpoints' for each observe and hold period. \n",
    "    j_start = j_end + pd.DateOffset(days=-j) # based on the midpoint, get the start point for each observe and hold period\n",
    "    k_end = j_end + pd.DateOffset(days=k-1) # based on the midpoint, get the end point for each observe and hold period\n",
    "    timetable = pd.DataFrame({'j_start': j_start, 'midpoint': j_end, 'k_end': k_end}).infer_objects()\n",
    "    return timetable, j, k\n",
    "timedf, j, k = generate_daily_timetable()\n",
    "print(timedf.shape[0])\n",
    "timedf.head() ##NOTE THE K_END VALUE IS NO LONGER EQUAL TO THE NEXT MIDPOINT BUT OFFSET BY 1"
   ]
  },
  {
   "cell_type": "code",
   "execution_count": 8,
   "metadata": {},
   "outputs": [
    {
     "output_type": "execute_result",
     "data": {
      "text/plain": [
       "               Date       Open       High        Low      Close  Adj Close  \\\n",
       "0        2010-01-04   7.622500   7.660714   7.585000   7.643214   6.583586   \n",
       "1        2010-01-05   7.664286   7.699643   7.616071   7.656429   6.594968   \n",
       "2        2010-01-06   7.656429   7.686786   7.526786   7.534643   6.490066   \n",
       "3        2010-01-07   7.562500   7.571429   7.466071   7.520714   6.478067   \n",
       "4        2010-01-08   7.510714   7.571429   7.466429   7.570714   6.521136   \n",
       "...             ...        ...        ...        ...        ...        ...   \n",
       "1365206  2021-03-04  23.020000  23.330000  22.389999  22.770000  22.770000   \n",
       "1365207  2021-03-05  22.940001  23.549999  22.510000  23.500000  23.500000   \n",
       "1365208  2021-03-08  23.500000  23.760000  22.980000  23.230000  23.230000   \n",
       "1365209  2021-03-09  24.000000  24.459999  23.389999  23.799999  23.799999   \n",
       "1365210  2021-03-10  23.860001  24.770000  23.709999  24.370001  24.370001   \n",
       "\n",
       "              Volume  Name  \n",
       "0        493729600.0  AAPL  \n",
       "1        601904800.0  AAPL  \n",
       "2        552160000.0  AAPL  \n",
       "3        477131200.0  AAPL  \n",
       "4        447610800.0  AAPL  \n",
       "...              ...   ...  \n",
       "1365206     345900.0   NWS  \n",
       "1365207     515500.0   NWS  \n",
       "1365208     754500.0   NWS  \n",
       "1365209     632600.0   NWS  \n",
       "1365210     787033.0   NWS  \n",
       "\n",
       "[1365210 rows x 8 columns]"
      ],
      "text/html": "<div>\n<style scoped>\n    .dataframe tbody tr th:only-of-type {\n        vertical-align: middle;\n    }\n\n    .dataframe tbody tr th {\n        vertical-align: top;\n    }\n\n    .dataframe thead th {\n        text-align: right;\n    }\n</style>\n<table border=\"1\" class=\"dataframe\">\n  <thead>\n    <tr style=\"text-align: right;\">\n      <th></th>\n      <th>Date</th>\n      <th>Open</th>\n      <th>High</th>\n      <th>Low</th>\n      <th>Close</th>\n      <th>Adj Close</th>\n      <th>Volume</th>\n      <th>Name</th>\n    </tr>\n  </thead>\n  <tbody>\n    <tr>\n      <th>0</th>\n      <td>2010-01-04</td>\n      <td>7.622500</td>\n      <td>7.660714</td>\n      <td>7.585000</td>\n      <td>7.643214</td>\n      <td>6.583586</td>\n      <td>493729600.0</td>\n      <td>AAPL</td>\n    </tr>\n    <tr>\n      <th>1</th>\n      <td>2010-01-05</td>\n      <td>7.664286</td>\n      <td>7.699643</td>\n      <td>7.616071</td>\n      <td>7.656429</td>\n      <td>6.594968</td>\n      <td>601904800.0</td>\n      <td>AAPL</td>\n    </tr>\n    <tr>\n      <th>2</th>\n      <td>2010-01-06</td>\n      <td>7.656429</td>\n      <td>7.686786</td>\n      <td>7.526786</td>\n      <td>7.534643</td>\n      <td>6.490066</td>\n      <td>552160000.0</td>\n      <td>AAPL</td>\n    </tr>\n    <tr>\n      <th>3</th>\n      <td>2010-01-07</td>\n      <td>7.562500</td>\n      <td>7.571429</td>\n      <td>7.466071</td>\n      <td>7.520714</td>\n      <td>6.478067</td>\n      <td>477131200.0</td>\n      <td>AAPL</td>\n    </tr>\n    <tr>\n      <th>4</th>\n      <td>2010-01-08</td>\n      <td>7.510714</td>\n      <td>7.571429</td>\n      <td>7.466429</td>\n      <td>7.570714</td>\n      <td>6.521136</td>\n      <td>447610800.0</td>\n      <td>AAPL</td>\n    </tr>\n    <tr>\n      <th>...</th>\n      <td>...</td>\n      <td>...</td>\n      <td>...</td>\n      <td>...</td>\n      <td>...</td>\n      <td>...</td>\n      <td>...</td>\n      <td>...</td>\n    </tr>\n    <tr>\n      <th>1365206</th>\n      <td>2021-03-04</td>\n      <td>23.020000</td>\n      <td>23.330000</td>\n      <td>22.389999</td>\n      <td>22.770000</td>\n      <td>22.770000</td>\n      <td>345900.0</td>\n      <td>NWS</td>\n    </tr>\n    <tr>\n      <th>1365207</th>\n      <td>2021-03-05</td>\n      <td>22.940001</td>\n      <td>23.549999</td>\n      <td>22.510000</td>\n      <td>23.500000</td>\n      <td>23.500000</td>\n      <td>515500.0</td>\n      <td>NWS</td>\n    </tr>\n    <tr>\n      <th>1365208</th>\n      <td>2021-03-08</td>\n      <td>23.500000</td>\n      <td>23.760000</td>\n      <td>22.980000</td>\n      <td>23.230000</td>\n      <td>23.230000</td>\n      <td>754500.0</td>\n      <td>NWS</td>\n    </tr>\n    <tr>\n      <th>1365209</th>\n      <td>2021-03-09</td>\n      <td>24.000000</td>\n      <td>24.459999</td>\n      <td>23.389999</td>\n      <td>23.799999</td>\n      <td>23.799999</td>\n      <td>632600.0</td>\n      <td>NWS</td>\n    </tr>\n    <tr>\n      <th>1365210</th>\n      <td>2021-03-10</td>\n      <td>23.860001</td>\n      <td>24.770000</td>\n      <td>23.709999</td>\n      <td>24.370001</td>\n      <td>24.370001</td>\n      <td>787033.0</td>\n      <td>NWS</td>\n    </tr>\n  </tbody>\n</table>\n<p>1365210 rows × 8 columns</p>\n</div>"
     },
     "metadata": {},
     "execution_count": 8
    }
   ],
   "source": [
    "df"
   ]
  },
  {
   "cell_type": "code",
   "execution_count": 9,
   "metadata": {},
   "outputs": [
    {
     "output_type": "execute_result",
     "data": {
      "text/plain": [
       "              Date        Open        High         Low       Close  \\\n",
       "0       2010-01-04    7.622500    7.660714    7.585000    7.643214   \n",
       "1       2010-01-04   30.620001   31.100000   30.590000   30.950001   \n",
       "2       2010-01-04  136.250000  136.610001  133.139999  133.899994   \n",
       "3       2010-01-04  313.788788  315.070068  312.432434  313.688690   \n",
       "4       2010-01-04  312.304413  313.579620  310.954468  312.204773   \n",
       "...            ...         ...         ...         ...         ...   \n",
       "750681  2021-02-25   32.490002   33.110001   31.750000   31.910000   \n",
       "750682  2021-02-25   21.940001   22.620001   21.490000   21.590000   \n",
       "750683  2021-02-25   25.309999   25.790001   24.920000   25.350000   \n",
       "750684  2021-02-25   18.280001   18.870001   18.020000   18.100000   \n",
       "750685  2021-02-25   23.350000   23.540001   22.629999   22.650000   \n",
       "\n",
       "         Adj Close       Volume   Name       date  period  \n",
       "0         6.583586  493729600.0   AAPL 2010-01-04       0  \n",
       "1        24.049969   38409100.0   MSFT 2010-01-04       0  \n",
       "2       133.899994    7599900.0   AMZN 2010-01-04       0  \n",
       "3       313.688690    3908488.0  GOOGL 2010-01-04       0  \n",
       "4       312.204773    3927065.0   GOOG 2010-01-04       0  \n",
       "...            ...          ...    ...        ...     ...  \n",
       "750681   31.910000    1604200.0    VNT 2021-02-25     203  \n",
       "750682   21.590000    6187100.0    UAA 2021-02-25     203  \n",
       "750683   25.350000    3828900.0    XRX 2021-02-25     203  \n",
       "750684   18.100000    2355480.0     UA 2021-02-25     203  \n",
       "750685   22.650000     383000.0    NWS 2021-02-25     203  \n",
       "\n",
       "[750686 rows x 10 columns]"
      ],
      "text/html": "<div>\n<style scoped>\n    .dataframe tbody tr th:only-of-type {\n        vertical-align: middle;\n    }\n\n    .dataframe tbody tr th {\n        vertical-align: top;\n    }\n\n    .dataframe thead th {\n        text-align: right;\n    }\n</style>\n<table border=\"1\" class=\"dataframe\">\n  <thead>\n    <tr style=\"text-align: right;\">\n      <th></th>\n      <th>Date</th>\n      <th>Open</th>\n      <th>High</th>\n      <th>Low</th>\n      <th>Close</th>\n      <th>Adj Close</th>\n      <th>Volume</th>\n      <th>Name</th>\n      <th>date</th>\n      <th>period</th>\n    </tr>\n  </thead>\n  <tbody>\n    <tr>\n      <th>0</th>\n      <td>2010-01-04</td>\n      <td>7.622500</td>\n      <td>7.660714</td>\n      <td>7.585000</td>\n      <td>7.643214</td>\n      <td>6.583586</td>\n      <td>493729600.0</td>\n      <td>AAPL</td>\n      <td>2010-01-04</td>\n      <td>0</td>\n    </tr>\n    <tr>\n      <th>1</th>\n      <td>2010-01-04</td>\n      <td>30.620001</td>\n      <td>31.100000</td>\n      <td>30.590000</td>\n      <td>30.950001</td>\n      <td>24.049969</td>\n      <td>38409100.0</td>\n      <td>MSFT</td>\n      <td>2010-01-04</td>\n      <td>0</td>\n    </tr>\n    <tr>\n      <th>2</th>\n      <td>2010-01-04</td>\n      <td>136.250000</td>\n      <td>136.610001</td>\n      <td>133.139999</td>\n      <td>133.899994</td>\n      <td>133.899994</td>\n      <td>7599900.0</td>\n      <td>AMZN</td>\n      <td>2010-01-04</td>\n      <td>0</td>\n    </tr>\n    <tr>\n      <th>3</th>\n      <td>2010-01-04</td>\n      <td>313.788788</td>\n      <td>315.070068</td>\n      <td>312.432434</td>\n      <td>313.688690</td>\n      <td>313.688690</td>\n      <td>3908488.0</td>\n      <td>GOOGL</td>\n      <td>2010-01-04</td>\n      <td>0</td>\n    </tr>\n    <tr>\n      <th>4</th>\n      <td>2010-01-04</td>\n      <td>312.304413</td>\n      <td>313.579620</td>\n      <td>310.954468</td>\n      <td>312.204773</td>\n      <td>312.204773</td>\n      <td>3927065.0</td>\n      <td>GOOG</td>\n      <td>2010-01-04</td>\n      <td>0</td>\n    </tr>\n    <tr>\n      <th>...</th>\n      <td>...</td>\n      <td>...</td>\n      <td>...</td>\n      <td>...</td>\n      <td>...</td>\n      <td>...</td>\n      <td>...</td>\n      <td>...</td>\n      <td>...</td>\n      <td>...</td>\n    </tr>\n    <tr>\n      <th>750681</th>\n      <td>2021-02-25</td>\n      <td>32.490002</td>\n      <td>33.110001</td>\n      <td>31.750000</td>\n      <td>31.910000</td>\n      <td>31.910000</td>\n      <td>1604200.0</td>\n      <td>VNT</td>\n      <td>2021-02-25</td>\n      <td>203</td>\n    </tr>\n    <tr>\n      <th>750682</th>\n      <td>2021-02-25</td>\n      <td>21.940001</td>\n      <td>22.620001</td>\n      <td>21.490000</td>\n      <td>21.590000</td>\n      <td>21.590000</td>\n      <td>6187100.0</td>\n      <td>UAA</td>\n      <td>2021-02-25</td>\n      <td>203</td>\n    </tr>\n    <tr>\n      <th>750683</th>\n      <td>2021-02-25</td>\n      <td>25.309999</td>\n      <td>25.790001</td>\n      <td>24.920000</td>\n      <td>25.350000</td>\n      <td>25.350000</td>\n      <td>3828900.0</td>\n      <td>XRX</td>\n      <td>2021-02-25</td>\n      <td>203</td>\n    </tr>\n    <tr>\n      <th>750684</th>\n      <td>2021-02-25</td>\n      <td>18.280001</td>\n      <td>18.870001</td>\n      <td>18.020000</td>\n      <td>18.100000</td>\n      <td>18.100000</td>\n      <td>2355480.0</td>\n      <td>UA</td>\n      <td>2021-02-25</td>\n      <td>203</td>\n    </tr>\n    <tr>\n      <th>750685</th>\n      <td>2021-02-25</td>\n      <td>23.350000</td>\n      <td>23.540001</td>\n      <td>22.629999</td>\n      <td>22.650000</td>\n      <td>22.650000</td>\n      <td>383000.0</td>\n      <td>NWS</td>\n      <td>2021-02-25</td>\n      <td>203</td>\n    </tr>\n  </tbody>\n</table>\n<p>750686 rows × 10 columns</p>\n</div>"
     },
     "metadata": {},
     "execution_count": 9
    }
   ],
   "source": [
    "from itertools import chain\n",
    "def get_daily_j(id=-1):\n",
    "    jtimes = pd.DataFrame(list(chain.from_iterable(pd.date_range(timedf[\"j_start\"],timedf[\"midpoint\"]) for _,timedf in timedf.iterrows())), columns=(\"date\",))\n",
    "    jtimes['date'] = jtimes['date'].astype('datetime64[ns]')\n",
    "    jtimes['period'] = (jtimes['date'].isin(timedf['midpoint'])).shift(1).cumsum().fillna(0).astype(int)\n",
    "    df_ = df.copy()\n",
    "    if 'date' not in df_.columns: \n",
    "        df_['date'] = pd.to_datetime(df_['Date'])\n",
    "    df_['date'] = pd.to_datetime(df_['date'])\n",
    "    df_ = df_.merge(jtimes, how='inner', left_on='date', right_on='date')\n",
    "    if id==-1: \n",
    "        return df_ # this filters out periods that dont end prettily\n",
    "    else:\n",
    "        return df_[df_['period']==id].drop(columns='period')\n",
    "# get_j_df = get_daily_j\n",
    "def get_daily_k(id=-1):\n",
    "    ktimes = pd.DataFrame(list(chain.from_iterable(pd.date_range(timedf[\"midpoint\"],timedf[\"k_end\"]) for _,timedf in timedf.iterrows())), columns=(\"date\",))\n",
    "    ktimes['date'] = ktimes['date'].astype('datetime64[ns]')\n",
    "    ktimes['period'] = (ktimes['date'].isin(timedf['k_end'])).shift(1).cumsum().fillna(0).astype(int)\n",
    "    df_ = df.copy()\n",
    "    if 'date' not in df_.columns: \n",
    "        df_['date'] = pd.to_datetime(df_['Date'])\n",
    "    df_['date'] = pd.to_datetime(df_['date'])\n",
    "    df_ = df_.merge(ktimes, how='inner', left_on='date', right_on='date')\n",
    "    if id==-1: \n",
    "        return df_ # this filters out periods that dont end prettily\n",
    "    else:\n",
    "        return df_[df_['period']==id].drop(columns='period')\n",
    "get_daily_j()#.period.plot()"
   ]
  },
  {
   "cell_type": "code",
   "execution_count": 10,
   "metadata": {},
   "outputs": [
    {
     "output_type": "execute_result",
     "data": {
      "text/plain": [
       "            Date        Open        High         Low       Close   Adj Close  \\\n",
       "0     2010-01-04    7.622500    7.660714    7.585000    7.643214    6.583586   \n",
       "1     2010-01-04   30.620001   31.100000   30.590000   30.950001   24.049969   \n",
       "2     2010-01-04  136.250000  136.610001  133.139999  133.899994  133.899994   \n",
       "3     2010-01-04  313.788788  315.070068  312.432434  313.688690  313.688690   \n",
       "4     2010-01-04  312.304413  313.579620  310.954468  312.204773  312.204773   \n",
       "...          ...         ...         ...         ...         ...         ...   \n",
       "4053  2010-01-14   13.330000   13.455000   13.120000   13.335000    7.969944   \n",
       "4054  2010-01-14   20.080000   20.100000   19.620001   19.740000   14.824924   \n",
       "4055  2010-01-14   52.028835   53.202885   51.493305   52.100925   37.844513   \n",
       "4056  2010-01-14    3.633750    3.643750    3.583750    3.612500    3.612500   \n",
       "4057  2010-01-14   23.478262   23.715414   23.320158   23.425560   15.010876   \n",
       "\n",
       "           Volume   Name       date  \n",
       "0     493729600.0   AAPL 2010-01-04  \n",
       "1      38409100.0   MSFT 2010-01-04  \n",
       "2       7599900.0   AMZN 2010-01-04  \n",
       "3       3908488.0  GOOGL 2010-01-04  \n",
       "4       3927065.0   GOOG 2010-01-04  \n",
       "...           ...    ...        ...  \n",
       "4053     897000.0    HFC 2010-01-14  \n",
       "4054   10180300.0    GPS 2010-01-14  \n",
       "4055    1401541.0    SLG 2010-01-14  \n",
       "4056    5499200.0    UAA 2010-01-14  \n",
       "4057    3510261.0    XRX 2010-01-14  \n",
       "\n",
       "[4058 rows x 9 columns]"
      ],
      "text/html": "<div>\n<style scoped>\n    .dataframe tbody tr th:only-of-type {\n        vertical-align: middle;\n    }\n\n    .dataframe tbody tr th {\n        vertical-align: top;\n    }\n\n    .dataframe thead th {\n        text-align: right;\n    }\n</style>\n<table border=\"1\" class=\"dataframe\">\n  <thead>\n    <tr style=\"text-align: right;\">\n      <th></th>\n      <th>Date</th>\n      <th>Open</th>\n      <th>High</th>\n      <th>Low</th>\n      <th>Close</th>\n      <th>Adj Close</th>\n      <th>Volume</th>\n      <th>Name</th>\n      <th>date</th>\n    </tr>\n  </thead>\n  <tbody>\n    <tr>\n      <th>0</th>\n      <td>2010-01-04</td>\n      <td>7.622500</td>\n      <td>7.660714</td>\n      <td>7.585000</td>\n      <td>7.643214</td>\n      <td>6.583586</td>\n      <td>493729600.0</td>\n      <td>AAPL</td>\n      <td>2010-01-04</td>\n    </tr>\n    <tr>\n      <th>1</th>\n      <td>2010-01-04</td>\n      <td>30.620001</td>\n      <td>31.100000</td>\n      <td>30.590000</td>\n      <td>30.950001</td>\n      <td>24.049969</td>\n      <td>38409100.0</td>\n      <td>MSFT</td>\n      <td>2010-01-04</td>\n    </tr>\n    <tr>\n      <th>2</th>\n      <td>2010-01-04</td>\n      <td>136.250000</td>\n      <td>136.610001</td>\n      <td>133.139999</td>\n      <td>133.899994</td>\n      <td>133.899994</td>\n      <td>7599900.0</td>\n      <td>AMZN</td>\n      <td>2010-01-04</td>\n    </tr>\n    <tr>\n      <th>3</th>\n      <td>2010-01-04</td>\n      <td>313.788788</td>\n      <td>315.070068</td>\n      <td>312.432434</td>\n      <td>313.688690</td>\n      <td>313.688690</td>\n      <td>3908488.0</td>\n      <td>GOOGL</td>\n      <td>2010-01-04</td>\n    </tr>\n    <tr>\n      <th>4</th>\n      <td>2010-01-04</td>\n      <td>312.304413</td>\n      <td>313.579620</td>\n      <td>310.954468</td>\n      <td>312.204773</td>\n      <td>312.204773</td>\n      <td>3927065.0</td>\n      <td>GOOG</td>\n      <td>2010-01-04</td>\n    </tr>\n    <tr>\n      <th>...</th>\n      <td>...</td>\n      <td>...</td>\n      <td>...</td>\n      <td>...</td>\n      <td>...</td>\n      <td>...</td>\n      <td>...</td>\n      <td>...</td>\n      <td>...</td>\n    </tr>\n    <tr>\n      <th>4053</th>\n      <td>2010-01-14</td>\n      <td>13.330000</td>\n      <td>13.455000</td>\n      <td>13.120000</td>\n      <td>13.335000</td>\n      <td>7.969944</td>\n      <td>897000.0</td>\n      <td>HFC</td>\n      <td>2010-01-14</td>\n    </tr>\n    <tr>\n      <th>4054</th>\n      <td>2010-01-14</td>\n      <td>20.080000</td>\n      <td>20.100000</td>\n      <td>19.620001</td>\n      <td>19.740000</td>\n      <td>14.824924</td>\n      <td>10180300.0</td>\n      <td>GPS</td>\n      <td>2010-01-14</td>\n    </tr>\n    <tr>\n      <th>4055</th>\n      <td>2010-01-14</td>\n      <td>52.028835</td>\n      <td>53.202885</td>\n      <td>51.493305</td>\n      <td>52.100925</td>\n      <td>37.844513</td>\n      <td>1401541.0</td>\n      <td>SLG</td>\n      <td>2010-01-14</td>\n    </tr>\n    <tr>\n      <th>4056</th>\n      <td>2010-01-14</td>\n      <td>3.633750</td>\n      <td>3.643750</td>\n      <td>3.583750</td>\n      <td>3.612500</td>\n      <td>3.612500</td>\n      <td>5499200.0</td>\n      <td>UAA</td>\n      <td>2010-01-14</td>\n    </tr>\n    <tr>\n      <th>4057</th>\n      <td>2010-01-14</td>\n      <td>23.478262</td>\n      <td>23.715414</td>\n      <td>23.320158</td>\n      <td>23.425560</td>\n      <td>15.010876</td>\n      <td>3510261.0</td>\n      <td>XRX</td>\n      <td>2010-01-14</td>\n    </tr>\n  </tbody>\n</table>\n<p>4058 rows × 9 columns</p>\n</div>"
     },
     "metadata": {},
     "execution_count": 10
    }
   ],
   "source": [
    "get_daily_j(0)"
   ]
  },
  {
   "cell_type": "code",
   "execution_count": 11,
   "metadata": {},
   "outputs": [
    {
     "output_type": "execute_result",
     "data": {
      "text/plain": [
       "              Date        Open        High         Low       Close  \\\n",
       "0       2010-01-04    7.622500    7.660714    7.585000    7.643214   \n",
       "1       2010-01-04   30.620001   31.100000   30.590000   30.950001   \n",
       "2       2010-01-04  136.250000  136.610001  133.139999  133.899994   \n",
       "3       2010-01-04  313.788788  315.070068  312.432434  313.688690   \n",
       "4       2010-01-04  312.304413  313.579620  310.954468  312.204773   \n",
       "...            ...         ...         ...         ...         ...   \n",
       "750681  2021-02-25   32.490002   33.110001   31.750000   31.910000   \n",
       "750682  2021-02-25   21.940001   22.620001   21.490000   21.590000   \n",
       "750683  2021-02-25   25.309999   25.790001   24.920000   25.350000   \n",
       "750684  2021-02-25   18.280001   18.870001   18.020000   18.100000   \n",
       "750685  2021-02-25   23.350000   23.540001   22.629999   22.650000   \n",
       "\n",
       "         Adj Close       Volume   Name       date  period  \n",
       "0         6.583586  493729600.0   AAPL 2010-01-04       0  \n",
       "1        24.049969   38409100.0   MSFT 2010-01-04       0  \n",
       "2       133.899994    7599900.0   AMZN 2010-01-04       0  \n",
       "3       313.688690    3908488.0  GOOGL 2010-01-04       0  \n",
       "4       312.204773    3927065.0   GOOG 2010-01-04       0  \n",
       "...            ...          ...    ...        ...     ...  \n",
       "750681   31.910000    1604200.0    VNT 2021-02-25     203  \n",
       "750682   21.590000    6187100.0    UAA 2021-02-25     203  \n",
       "750683   25.350000    3828900.0    XRX 2021-02-25     203  \n",
       "750684   18.100000    2355480.0     UA 2021-02-25     203  \n",
       "750685   22.650000     383000.0    NWS 2021-02-25     203  \n",
       "\n",
       "[750686 rows x 10 columns]"
      ],
      "text/html": "<div>\n<style scoped>\n    .dataframe tbody tr th:only-of-type {\n        vertical-align: middle;\n    }\n\n    .dataframe tbody tr th {\n        vertical-align: top;\n    }\n\n    .dataframe thead th {\n        text-align: right;\n    }\n</style>\n<table border=\"1\" class=\"dataframe\">\n  <thead>\n    <tr style=\"text-align: right;\">\n      <th></th>\n      <th>Date</th>\n      <th>Open</th>\n      <th>High</th>\n      <th>Low</th>\n      <th>Close</th>\n      <th>Adj Close</th>\n      <th>Volume</th>\n      <th>Name</th>\n      <th>date</th>\n      <th>period</th>\n    </tr>\n  </thead>\n  <tbody>\n    <tr>\n      <th>0</th>\n      <td>2010-01-04</td>\n      <td>7.622500</td>\n      <td>7.660714</td>\n      <td>7.585000</td>\n      <td>7.643214</td>\n      <td>6.583586</td>\n      <td>493729600.0</td>\n      <td>AAPL</td>\n      <td>2010-01-04</td>\n      <td>0</td>\n    </tr>\n    <tr>\n      <th>1</th>\n      <td>2010-01-04</td>\n      <td>30.620001</td>\n      <td>31.100000</td>\n      <td>30.590000</td>\n      <td>30.950001</td>\n      <td>24.049969</td>\n      <td>38409100.0</td>\n      <td>MSFT</td>\n      <td>2010-01-04</td>\n      <td>0</td>\n    </tr>\n    <tr>\n      <th>2</th>\n      <td>2010-01-04</td>\n      <td>136.250000</td>\n      <td>136.610001</td>\n      <td>133.139999</td>\n      <td>133.899994</td>\n      <td>133.899994</td>\n      <td>7599900.0</td>\n      <td>AMZN</td>\n      <td>2010-01-04</td>\n      <td>0</td>\n    </tr>\n    <tr>\n      <th>3</th>\n      <td>2010-01-04</td>\n      <td>313.788788</td>\n      <td>315.070068</td>\n      <td>312.432434</td>\n      <td>313.688690</td>\n      <td>313.688690</td>\n      <td>3908488.0</td>\n      <td>GOOGL</td>\n      <td>2010-01-04</td>\n      <td>0</td>\n    </tr>\n    <tr>\n      <th>4</th>\n      <td>2010-01-04</td>\n      <td>312.304413</td>\n      <td>313.579620</td>\n      <td>310.954468</td>\n      <td>312.204773</td>\n      <td>312.204773</td>\n      <td>3927065.0</td>\n      <td>GOOG</td>\n      <td>2010-01-04</td>\n      <td>0</td>\n    </tr>\n    <tr>\n      <th>...</th>\n      <td>...</td>\n      <td>...</td>\n      <td>...</td>\n      <td>...</td>\n      <td>...</td>\n      <td>...</td>\n      <td>...</td>\n      <td>...</td>\n      <td>...</td>\n      <td>...</td>\n    </tr>\n    <tr>\n      <th>750681</th>\n      <td>2021-02-25</td>\n      <td>32.490002</td>\n      <td>33.110001</td>\n      <td>31.750000</td>\n      <td>31.910000</td>\n      <td>31.910000</td>\n      <td>1604200.0</td>\n      <td>VNT</td>\n      <td>2021-02-25</td>\n      <td>203</td>\n    </tr>\n    <tr>\n      <th>750682</th>\n      <td>2021-02-25</td>\n      <td>21.940001</td>\n      <td>22.620001</td>\n      <td>21.490000</td>\n      <td>21.590000</td>\n      <td>21.590000</td>\n      <td>6187100.0</td>\n      <td>UAA</td>\n      <td>2021-02-25</td>\n      <td>203</td>\n    </tr>\n    <tr>\n      <th>750683</th>\n      <td>2021-02-25</td>\n      <td>25.309999</td>\n      <td>25.790001</td>\n      <td>24.920000</td>\n      <td>25.350000</td>\n      <td>25.350000</td>\n      <td>3828900.0</td>\n      <td>XRX</td>\n      <td>2021-02-25</td>\n      <td>203</td>\n    </tr>\n    <tr>\n      <th>750684</th>\n      <td>2021-02-25</td>\n      <td>18.280001</td>\n      <td>18.870001</td>\n      <td>18.020000</td>\n      <td>18.100000</td>\n      <td>18.100000</td>\n      <td>2355480.0</td>\n      <td>UA</td>\n      <td>2021-02-25</td>\n      <td>203</td>\n    </tr>\n    <tr>\n      <th>750685</th>\n      <td>2021-02-25</td>\n      <td>23.350000</td>\n      <td>23.540001</td>\n      <td>22.629999</td>\n      <td>22.650000</td>\n      <td>22.650000</td>\n      <td>383000.0</td>\n      <td>NWS</td>\n      <td>2021-02-25</td>\n      <td>203</td>\n    </tr>\n  </tbody>\n</table>\n<p>750686 rows × 10 columns</p>\n</div>"
     },
     "metadata": {},
     "execution_count": 11
    }
   ],
   "source": [
    "get_daily_j()#.period.plot()"
   ]
  },
  {
   "cell_type": "code",
   "execution_count": 12,
   "metadata": {},
   "outputs": [],
   "source": [
    "# def generate_timetable(j=1, k=2):\n",
    "#     '''aims to generate the MONTHLY table of times for each observe/hold period. The midpoint in this context is where we switch from the observation period len=j to the holding period len=k'''\n",
    "    \n",
    "#     j_end = pd.date_range(st+pd.DateOffset(months=j*3), et, freq=str(k*3)+\"MS\") # the 'midpoints' for each observe and hold period. \n",
    "#     j_start = j_end + pd.DateOffset(months=-j*3) # based on the midpoint, get the start point for each observe and hold period\n",
    "#     k_end = j_end + pd.DateOffset(months=k*3) # based on the midpoint, get the end point for each observe and hold period\n",
    "#     timetable = pd.DataFrame({'j_start': j_start, 'midpoint': j_end, 'k_end': k_end}).infer_objects()\n",
    "#     return timetable, j, k\n",
    "# timedf, j, k = generate_timetable(3, 2)\n",
    "# timedf.head()"
   ]
  },
  {
   "cell_type": "code",
   "execution_count": 13,
   "metadata": {},
   "outputs": [
    {
     "output_type": "execute_result",
     "data": {
      "text/plain": [
       "0          2010-01-04\n",
       "1          2010-01-05\n",
       "2          2010-01-06\n",
       "3          2010-01-07\n",
       "4          2010-01-08\n",
       "              ...    \n",
       "1365206    2021-03-04\n",
       "1365207    2021-03-05\n",
       "1365208    2021-03-08\n",
       "1365209    2021-03-09\n",
       "1365210    2021-03-10\n",
       "Name: Date, Length: 1365210, dtype: object"
      ]
     },
     "metadata": {},
     "execution_count": 13
    }
   ],
   "source": [
    "df['Date']"
   ]
  },
  {
   "cell_type": "code",
   "execution_count": 14,
   "metadata": {},
   "outputs": [],
   "source": [
    "midpoint = timedf.iloc[0].midpoint"
   ]
  },
  {
   "cell_type": "code",
   "execution_count": 15,
   "metadata": {
    "tags": []
   },
   "outputs": [],
   "source": [
    "# def get_j_df(id=-1, j=j):\n",
    "#     '''this should spit out a dataframe of data in the observational period j given specific id or midpoint value. \n",
    "#     if unspecified it throws all of them at you with an extra identifying column \"periods\"'''\n",
    "#     if (id==-1): # not really sure why we need this but ill include it. this adds a sector column to the data for future filtering purposes if needed\n",
    "#         df_i = pd.DataFrame(columns=df.columns.to_list()+['period']) #dummy empty df\n",
    "#         for i in timedf.index: \n",
    "#             # print(timedf.iloc[i].j_start,timedf.iloc[i].midpoint)\n",
    "#             df_ = df[(timedf.iloc[i].j_start <= pd.to_datetime(df['Date']))&(pd.to_datetime(df['Date']) <= timedf.iloc[i].midpoint)] # gets dates btw start and midpt\n",
    "#             df_['period'] = i\n",
    "#             df_i = pd.concat([df_i, df_])\n",
    "\n",
    "#         return df_i\n",
    "#     return df[(timedf.iloc[id].j_start <= pd.to_datetime(df['Date']))&(pd.to_datetime(df['Date']) <= timedf.iloc[id].midpoint)] # gets dates btw start and midpt from table\n",
    "# get_j_df(0)"
   ]
  },
  {
   "cell_type": "code",
   "execution_count": 16,
   "metadata": {},
   "outputs": [],
   "source": [
    "# def get_k_df(id=-1, k=k):\n",
    "#     '''this should spit out a dataframe of data in the holding period k given specific id or midpoint value. \n",
    "#     if unspecified it throws all of them at you with an extra identifying column \"periods\"'''\n",
    "#     if (id==-1): # we can decide if this is useful later this adds a sector column to the data for future filtering purposes if needed\n",
    "#         df_i = pd.DataFrame(columns=df.columns.to_list()+['period']) #dummy empty df\n",
    "#         for i in timedf.index: \n",
    "#             # print(timedf.iloc[i].j_start,timedf.iloc[i].midpoint)\n",
    "#             df_ = df[(timedf.iloc[i].midpoint <= pd.to_datetime(df['Date']))&(pd.to_datetime(df['Date']) <= timedf.iloc[i].k_end)] # gets dates btw midpt and end\n",
    "#             df_['period'] = i\n",
    "#             df_i = pd.concat([df_i, df_])\n",
    "\n",
    "#         return df_i\n",
    "#     return df[(timedf.iloc[id].midpoint <= pd.to_datetime(df['Date']))&(pd.to_datetime(df['Date']) <= timedf.iloc[id].k_end)] # gets dates btw midpt and end\n",
    "# get_k_df()"
   ]
  },
  {
   "cell_type": "markdown",
   "metadata": {},
   "source": [
    "# Data Analysis: using the above functions for building portfolios"
   ]
  },
  {
   "cell_type": "code",
   "execution_count": 17,
   "metadata": {},
   "outputs": [
    {
     "output_type": "execute_result",
     "data": {
      "text/plain": [
       "       j_start   midpoint      k_end\n",
       "0   2010-01-04 2010-01-14 2010-02-02\n",
       "1   2010-01-24 2010-02-03 2010-02-22\n",
       "2   2010-02-13 2010-02-23 2010-03-14\n",
       "3   2010-03-05 2010-03-15 2010-04-03\n",
       "4   2010-03-25 2010-04-04 2010-04-23\n",
       "..         ...        ...        ...\n",
       "199 2020-11-27 2020-12-07 2020-12-26\n",
       "200 2020-12-17 2020-12-27 2021-01-15\n",
       "201 2021-01-06 2021-01-16 2021-02-04\n",
       "202 2021-01-26 2021-02-05 2021-02-24\n",
       "203 2021-02-15 2021-02-25 2021-03-16\n",
       "\n",
       "[204 rows x 3 columns]"
      ],
      "text/html": "<div>\n<style scoped>\n    .dataframe tbody tr th:only-of-type {\n        vertical-align: middle;\n    }\n\n    .dataframe tbody tr th {\n        vertical-align: top;\n    }\n\n    .dataframe thead th {\n        text-align: right;\n    }\n</style>\n<table border=\"1\" class=\"dataframe\">\n  <thead>\n    <tr style=\"text-align: right;\">\n      <th></th>\n      <th>j_start</th>\n      <th>midpoint</th>\n      <th>k_end</th>\n    </tr>\n  </thead>\n  <tbody>\n    <tr>\n      <th>0</th>\n      <td>2010-01-04</td>\n      <td>2010-01-14</td>\n      <td>2010-02-02</td>\n    </tr>\n    <tr>\n      <th>1</th>\n      <td>2010-01-24</td>\n      <td>2010-02-03</td>\n      <td>2010-02-22</td>\n    </tr>\n    <tr>\n      <th>2</th>\n      <td>2010-02-13</td>\n      <td>2010-02-23</td>\n      <td>2010-03-14</td>\n    </tr>\n    <tr>\n      <th>3</th>\n      <td>2010-03-05</td>\n      <td>2010-03-15</td>\n      <td>2010-04-03</td>\n    </tr>\n    <tr>\n      <th>4</th>\n      <td>2010-03-25</td>\n      <td>2010-04-04</td>\n      <td>2010-04-23</td>\n    </tr>\n    <tr>\n      <th>...</th>\n      <td>...</td>\n      <td>...</td>\n      <td>...</td>\n    </tr>\n    <tr>\n      <th>199</th>\n      <td>2020-11-27</td>\n      <td>2020-12-07</td>\n      <td>2020-12-26</td>\n    </tr>\n    <tr>\n      <th>200</th>\n      <td>2020-12-17</td>\n      <td>2020-12-27</td>\n      <td>2021-01-15</td>\n    </tr>\n    <tr>\n      <th>201</th>\n      <td>2021-01-06</td>\n      <td>2021-01-16</td>\n      <td>2021-02-04</td>\n    </tr>\n    <tr>\n      <th>202</th>\n      <td>2021-01-26</td>\n      <td>2021-02-05</td>\n      <td>2021-02-24</td>\n    </tr>\n    <tr>\n      <th>203</th>\n      <td>2021-02-15</td>\n      <td>2021-02-25</td>\n      <td>2021-03-16</td>\n    </tr>\n  </tbody>\n</table>\n<p>204 rows × 3 columns</p>\n</div>"
     },
     "metadata": {},
     "execution_count": 17
    }
   ],
   "source": [
    "timedf,j,k = generate_daily_timetable(j=10, k=20) # with j as 3 and k as 2\n",
    "timedf"
   ]
  },
  {
   "cell_type": "code",
   "execution_count": 18,
   "metadata": {},
   "outputs": [
    {
     "output_type": "execute_result",
     "data": {
      "text/plain": [
       "            Date       Open       High        Low      Close  Adj Close  \\\n",
       "Name                                                                      \n",
       "DPZ   2010-01-14  10.800000  11.570000  10.700000  11.310000   9.616241   \n",
       "ILMN  2010-01-14  40.150002  40.330002  38.439999  39.029999  39.029999   \n",
       "MGM   2010-01-14  12.370000  12.870000  12.220000  12.380000  11.700339   \n",
       "LEN   2010-01-14  16.243855  16.558504  16.007866  16.076696  15.112182   \n",
       "ZION  2010-01-14  16.360001  16.850000  16.250000  16.709999  14.602304   \n",
       "...          ...        ...        ...        ...        ...        ...   \n",
       "PWR   2010-01-14  20.209999  20.400000  19.340000  19.440001  19.238916   \n",
       "URI   2010-01-14   8.970000   9.000000   8.870000   8.980000   8.980000   \n",
       "EXPE  2010-01-14  46.799999  48.040001  46.040001  46.119999  30.376251   \n",
       "GPN   2010-01-14  23.780001  23.959999  23.475000  23.490000  23.119432   \n",
       "TMUS  2010-01-14  12.420000  12.840000  12.400000  12.460000  10.323699   \n",
       "\n",
       "          Volume       date  pct_change  cum_return  adj_close_shifted  \\\n",
       "Name                                                                     \n",
       "DPZ    5085400.0 2010-01-14    0.100194    0.302995           8.026290   \n",
       "ILMN   3640600.0 2010-01-14   -0.036534    0.277578          33.820000   \n",
       "MGM   37690800.0 2010-01-14   -0.000807    0.272354          10.301594   \n",
       "LEN    5075644.0 2010-01-14    0.006154    0.256726          15.028997   \n",
       "ZION   4677900.0 2010-01-14    0.022018    0.253563          14.427528   \n",
       "...          ...        ...         ...         ...                ...   \n",
       "PWR    5720000.0 2010-01-14   -0.057683   -0.084746          20.762983   \n",
       "URI    1102000.0 2010-01-14    0.002232   -0.105578           9.300000   \n",
       "EXPE   2316950.0 2010-01-14   -0.021638   -0.106894          31.654005   \n",
       "GPN    2981600.0 2010-01-14   -0.017361   -0.108031          23.532810   \n",
       "TMUS   4879400.0 2010-01-14   -0.015798   -0.218319          11.914511   \n",
       "\n",
       "      adj_change  \n",
       "Name              \n",
       "DPZ     1.198093  \n",
       "ILMN    1.154051  \n",
       "MGM     1.135780  \n",
       "LEN     1.005535  \n",
       "ZION    1.012114  \n",
       "...          ...  \n",
       "PWR     0.926597  \n",
       "URI     0.965591  \n",
       "EXPE    0.959634  \n",
       "GPN     0.982434  \n",
       "TMUS    0.866481  \n",
       "\n",
       "[451 rows x 12 columns]"
      ],
      "text/html": "<div>\n<style scoped>\n    .dataframe tbody tr th:only-of-type {\n        vertical-align: middle;\n    }\n\n    .dataframe tbody tr th {\n        vertical-align: top;\n    }\n\n    .dataframe thead th {\n        text-align: right;\n    }\n</style>\n<table border=\"1\" class=\"dataframe\">\n  <thead>\n    <tr style=\"text-align: right;\">\n      <th></th>\n      <th>Date</th>\n      <th>Open</th>\n      <th>High</th>\n      <th>Low</th>\n      <th>Close</th>\n      <th>Adj Close</th>\n      <th>Volume</th>\n      <th>date</th>\n      <th>pct_change</th>\n      <th>cum_return</th>\n      <th>adj_close_shifted</th>\n      <th>adj_change</th>\n    </tr>\n    <tr>\n      <th>Name</th>\n      <th></th>\n      <th></th>\n      <th></th>\n      <th></th>\n      <th></th>\n      <th></th>\n      <th></th>\n      <th></th>\n      <th></th>\n      <th></th>\n      <th></th>\n      <th></th>\n    </tr>\n  </thead>\n  <tbody>\n    <tr>\n      <th>DPZ</th>\n      <td>2010-01-14</td>\n      <td>10.800000</td>\n      <td>11.570000</td>\n      <td>10.700000</td>\n      <td>11.310000</td>\n      <td>9.616241</td>\n      <td>5085400.0</td>\n      <td>2010-01-14</td>\n      <td>0.100194</td>\n      <td>0.302995</td>\n      <td>8.026290</td>\n      <td>1.198093</td>\n    </tr>\n    <tr>\n      <th>ILMN</th>\n      <td>2010-01-14</td>\n      <td>40.150002</td>\n      <td>40.330002</td>\n      <td>38.439999</td>\n      <td>39.029999</td>\n      <td>39.029999</td>\n      <td>3640600.0</td>\n      <td>2010-01-14</td>\n      <td>-0.036534</td>\n      <td>0.277578</td>\n      <td>33.820000</td>\n      <td>1.154051</td>\n    </tr>\n    <tr>\n      <th>MGM</th>\n      <td>2010-01-14</td>\n      <td>12.370000</td>\n      <td>12.870000</td>\n      <td>12.220000</td>\n      <td>12.380000</td>\n      <td>11.700339</td>\n      <td>37690800.0</td>\n      <td>2010-01-14</td>\n      <td>-0.000807</td>\n      <td>0.272354</td>\n      <td>10.301594</td>\n      <td>1.135780</td>\n    </tr>\n    <tr>\n      <th>LEN</th>\n      <td>2010-01-14</td>\n      <td>16.243855</td>\n      <td>16.558504</td>\n      <td>16.007866</td>\n      <td>16.076696</td>\n      <td>15.112182</td>\n      <td>5075644.0</td>\n      <td>2010-01-14</td>\n      <td>0.006154</td>\n      <td>0.256726</td>\n      <td>15.028997</td>\n      <td>1.005535</td>\n    </tr>\n    <tr>\n      <th>ZION</th>\n      <td>2010-01-14</td>\n      <td>16.360001</td>\n      <td>16.850000</td>\n      <td>16.250000</td>\n      <td>16.709999</td>\n      <td>14.602304</td>\n      <td>4677900.0</td>\n      <td>2010-01-14</td>\n      <td>0.022018</td>\n      <td>0.253563</td>\n      <td>14.427528</td>\n      <td>1.012114</td>\n    </tr>\n    <tr>\n      <th>...</th>\n      <td>...</td>\n      <td>...</td>\n      <td>...</td>\n      <td>...</td>\n      <td>...</td>\n      <td>...</td>\n      <td>...</td>\n      <td>...</td>\n      <td>...</td>\n      <td>...</td>\n      <td>...</td>\n      <td>...</td>\n    </tr>\n    <tr>\n      <th>PWR</th>\n      <td>2010-01-14</td>\n      <td>20.209999</td>\n      <td>20.400000</td>\n      <td>19.340000</td>\n      <td>19.440001</td>\n      <td>19.238916</td>\n      <td>5720000.0</td>\n      <td>2010-01-14</td>\n      <td>-0.057683</td>\n      <td>-0.084746</td>\n      <td>20.762983</td>\n      <td>0.926597</td>\n    </tr>\n    <tr>\n      <th>URI</th>\n      <td>2010-01-14</td>\n      <td>8.970000</td>\n      <td>9.000000</td>\n      <td>8.870000</td>\n      <td>8.980000</td>\n      <td>8.980000</td>\n      <td>1102000.0</td>\n      <td>2010-01-14</td>\n      <td>0.002232</td>\n      <td>-0.105578</td>\n      <td>9.300000</td>\n      <td>0.965591</td>\n    </tr>\n    <tr>\n      <th>EXPE</th>\n      <td>2010-01-14</td>\n      <td>46.799999</td>\n      <td>48.040001</td>\n      <td>46.040001</td>\n      <td>46.119999</td>\n      <td>30.376251</td>\n      <td>2316950.0</td>\n      <td>2010-01-14</td>\n      <td>-0.021638</td>\n      <td>-0.106894</td>\n      <td>31.654005</td>\n      <td>0.959634</td>\n    </tr>\n    <tr>\n      <th>GPN</th>\n      <td>2010-01-14</td>\n      <td>23.780001</td>\n      <td>23.959999</td>\n      <td>23.475000</td>\n      <td>23.490000</td>\n      <td>23.119432</td>\n      <td>2981600.0</td>\n      <td>2010-01-14</td>\n      <td>-0.017361</td>\n      <td>-0.108031</td>\n      <td>23.532810</td>\n      <td>0.982434</td>\n    </tr>\n    <tr>\n      <th>TMUS</th>\n      <td>2010-01-14</td>\n      <td>12.420000</td>\n      <td>12.840000</td>\n      <td>12.400000</td>\n      <td>12.460000</td>\n      <td>10.323699</td>\n      <td>4879400.0</td>\n      <td>2010-01-14</td>\n      <td>-0.015798</td>\n      <td>-0.218319</td>\n      <td>11.914511</td>\n      <td>0.866481</td>\n    </tr>\n  </tbody>\n</table>\n<p>451 rows × 12 columns</p>\n</div>"
     },
     "metadata": {},
     "execution_count": 18
    }
   ],
   "source": [
    "df0 = get_daily_j(0).set_index('Name') # i dont know why, but you have to set index to name for the groupby's to work\n",
    "df0['pct_change'] = df0['Adj Close'].groupby('Name').pct_change()\n",
    "df0['cum_return'] = (df0['pct_change']+1).groupby('Name').cumprod().fillna(1)-1\n",
    "df0['adj_close_shifted'] = df0['Adj Close'].groupby('Name').shift(3)#.bfill(0) # filing the value with the backfill TODO check this later\n",
    "df0['adj_change'] = df0['Adj Close']/df0['adj_close_shifted'] #.bfill(0) \n",
    "\n",
    "features = df0.groupby('Name').tail(1).sort_values(['cum_return'], ascending=False)\n",
    "features"
   ]
  },
  {
   "cell_type": "code",
   "execution_count": 19,
   "metadata": {},
   "outputs": [],
   "source": [
    "# monthly_sp500['PYPL'].head() # TODO we should write about some of the issues of yahoofinance as a datasource, that should be sufficient"
   ]
  },
  {
   "cell_type": "code",
   "execution_count": 20,
   "metadata": {},
   "outputs": [
    {
     "output_type": "execute_result",
     "data": {
      "text/plain": [
       "Index(['DPZ', 'ILMN', 'MGM', 'LEN', 'ZION', 'RF', 'HBAN', 'TXT', 'IT', 'DAL'], dtype='object', name='Name')"
      ]
     },
     "metadata": {},
     "execution_count": 20
    }
   ],
   "source": [
    "# this calculates the winner and loser tickers given n\n",
    "n = 50\n",
    "get_percents = lambda n: features.shape[0]//n+1 # this function gets us n percent number of tickers\n",
    "winner_tickers = features[:get_percents(n)].index\n",
    "winner_tickers"
   ]
  },
  {
   "cell_type": "code",
   "execution_count": 21,
   "metadata": {},
   "outputs": [
    {
     "output_type": "execute_result",
     "data": {
      "text/plain": [
       "Index(['T', 'AMD', 'MPWR', 'ALGN', 'CRM', 'PWR', 'URI', 'EXPE', 'GPN', 'TMUS'], dtype='object', name='Name')"
      ]
     },
     "metadata": {},
     "execution_count": 21
    }
   ],
   "source": [
    "loser_tickers = features[-get_percents(n):].index\n",
    "loser_tickers"
   ]
  },
  {
   "cell_type": "code",
   "execution_count": 22,
   "metadata": {},
   "outputs": [],
   "source": [
    "# equally weight\n",
    "weights = np.ones(get_percents(n))/(get_percents(n))"
   ]
  },
  {
   "cell_type": "code",
   "execution_count": 23,
   "metadata": {},
   "outputs": [
    {
     "output_type": "execute_result",
     "data": {
      "text/plain": [
       "Date\n",
       "2010-01-04    0.000000\n",
       "2010-01-05    0.027465\n",
       "2010-01-06    0.051667\n",
       "2010-01-07    0.129314\n",
       "2010-01-08    0.128945\n",
       "2010-01-11    0.152255\n",
       "2010-01-12    0.175668\n",
       "2010-01-13    0.202810\n",
       "2010-01-14    0.236339\n",
       "dtype: float64"
      ]
     },
     "metadata": {},
     "execution_count": 23
    }
   ],
   "source": [
    "winner_df0 = df0.loc[winner_tickers.to_list()]\n",
    "winner_df0 = winner_df0.pivot_table(index='Date',columns='Name')['pct_change'].fillna(0) # \n",
    "winner_df0\n",
    "# winner_df0.dot(weights) # gives us the percent change of the portfolios\n",
    "winner_performance = (winner_df0.dot(weights)+1).cumprod() - 1 # gets cumulative return for a period\n",
    "winner_performance"
   ]
  },
  {
   "cell_type": "code",
   "execution_count": 24,
   "metadata": {},
   "outputs": [
    {
     "output_type": "stream",
     "name": "stdout",
     "text": [
      ".weights 226\n"
     ]
    },
    {
     "output_type": "execute_result",
     "data": {
      "text/plain": [
       "             winners    losers\n",
       "Date                          \n",
       "2010-01-04  0.000000  0.000000\n",
       "2010-01-05  0.011233 -0.003176\n",
       "2010-01-06  0.019181 -0.006703\n",
       "2010-01-07  0.033485 -0.008937\n",
       "2010-01-08  0.038624 -0.008034\n",
       "2010-01-11  0.044524 -0.008212\n",
       "2010-01-12  0.037897 -0.022858\n",
       "2010-01-13  0.050982 -0.014785\n",
       "2010-01-14  0.057363 -0.018062"
      ],
      "text/html": "<div>\n<style scoped>\n    .dataframe tbody tr th:only-of-type {\n        vertical-align: middle;\n    }\n\n    .dataframe tbody tr th {\n        vertical-align: top;\n    }\n\n    .dataframe thead th {\n        text-align: right;\n    }\n</style>\n<table border=\"1\" class=\"dataframe\">\n  <thead>\n    <tr style=\"text-align: right;\">\n      <th></th>\n      <th>winners</th>\n      <th>losers</th>\n    </tr>\n    <tr>\n      <th>Date</th>\n      <th></th>\n      <th></th>\n    </tr>\n  </thead>\n  <tbody>\n    <tr>\n      <th>2010-01-04</th>\n      <td>0.000000</td>\n      <td>0.000000</td>\n    </tr>\n    <tr>\n      <th>2010-01-05</th>\n      <td>0.011233</td>\n      <td>-0.003176</td>\n    </tr>\n    <tr>\n      <th>2010-01-06</th>\n      <td>0.019181</td>\n      <td>-0.006703</td>\n    </tr>\n    <tr>\n      <th>2010-01-07</th>\n      <td>0.033485</td>\n      <td>-0.008937</td>\n    </tr>\n    <tr>\n      <th>2010-01-08</th>\n      <td>0.038624</td>\n      <td>-0.008034</td>\n    </tr>\n    <tr>\n      <th>2010-01-11</th>\n      <td>0.044524</td>\n      <td>-0.008212</td>\n    </tr>\n    <tr>\n      <th>2010-01-12</th>\n      <td>0.037897</td>\n      <td>-0.022858</td>\n    </tr>\n    <tr>\n      <th>2010-01-13</th>\n      <td>0.050982</td>\n      <td>-0.014785</td>\n    </tr>\n    <tr>\n      <th>2010-01-14</th>\n      <td>0.057363</td>\n      <td>-0.018062</td>\n    </tr>\n  </tbody>\n</table>\n</div>"
     },
     "metadata": {},
     "execution_count": 24
    }
   ],
   "source": [
    "def get_cum_return(data):\n",
    "    '''gets cumulative return based on adjusted closing price of all tickers in input dataframe'''\n",
    "    df_ = data.set_index('Name')\n",
    "\n",
    "    # df_['pct_change'] = df_['Adj Close'].groupby('Name').pct_change()\n",
    "    df_['pct_change'] = df_['Adj Close'].groupby('Name').pct_change()\n",
    "    df_['cum_return'] = (df_['pct_change']+1).groupby('Name').cumprod().fillna(1)-1\n",
    "    df_['adj_close_shifted'] = df_['Adj Close'].groupby('Name').shift(3)#.bfill(0) # filing the value with the backfill TODO check this later\n",
    "    df_['adj_change'] = df_['Adj Close']/df_['adj_close_shifted'] #.bfill(0) \n",
    "    df_['adj_close_shifted'] = df_['Adj Close'].groupby('Name').shift(3)#.bfill(0) # filing the value with the backfill TODO check this later\n",
    "    df_['adj_change'] = df_['Adj Close']/df_['adj_close_shifted'] #.bfill(0) \n",
    "    \n",
    "    return df_\n",
    "\n",
    "def get_percents(n): \n",
    "    '''this function gets us n percent number of tickers'''\n",
    "    return features.shape[0]//n+1\n",
    "\n",
    "def get_portfolios(period=0, n=50):   \n",
    "    '''returns the portfolios we want from a particular period'''\n",
    "    ## Gets the portfolio(s) in question we want to look at\n",
    "    data = get_cum_return(get_daily_j(period))\n",
    "    features = data.groupby('Name').tail(1).sort_values(['cum_return'], ascending=False) # sorts tickers by cumulative return\n",
    "\n",
    "    winner_tickers = features[:get_percents(n)].index # we get the top/bottom n percent tickers\n",
    "    loser_tickers = features[-get_percents(n):].index # only winner and loser portfolios for now, we could expand later\n",
    "    # TODO add more portfolios if we have time\n",
    "    # print(len(winner_tickers), len(loser_tickers))\n",
    "    print('.', end='')\n",
    "    return (winner_tickers.to_list(), loser_tickers.to_list())\n",
    "\n",
    "def get_portfolio_performance(period=0, n=2, weights=None, hold=False):\n",
    "    '''Gets all portfolios' cumulative return performance based on n period \n",
    "    keyword args:\n",
    "    period      -- the nth period of data we are looking at, default 0\n",
    "    portfolio   -- the particular type of portfolio we want to be looking at (winner or loser, etc) default winner/momentum\n",
    "    n           -- the percentage of tickers we want to be looking at\n",
    "    weights     -- how to weight the portfolio values. if unspecified (None) we assume equal weighting in the portfolio\n",
    "    hold        -- if true returns the performance evaluation of the holding period k, else returns the performance of the observation period j\n",
    "    '''\n",
    "    winner_tickers, loser_tickers = get_portfolios(period, n)\n",
    "\n",
    "    ## evaluates the performance of portfolios on either hold or observational data\n",
    "    eval_df = get_cum_return(get_k_df(period)) if hold else get_cum_return(get_daily_j(period))# we get the return from the hold period\n",
    "    \n",
    "    weights = np.ones(get_percents(n))/(get_percents(n)) if not weights else weights # set weights\n",
    "    print('weights', len(weights))\n",
    "    winner_eval = eval_df.loc[winner_tickers] # first the winners\n",
    "    winner_eval = winner_eval.pivot_table(index='Date',columns='Name')['pct_change'].fillna(0)\n",
    "    winner_performance = (winner_eval.dot(weights)+1).cumprod() - 1 # cumulative return\n",
    "\n",
    "    loser_eval = eval_df.loc[loser_tickers] # then the losers\n",
    "    loser_eval = loser_eval.pivot_table(index='Date',columns='Name')['pct_change'].fillna(0)\n",
    "    loser_performance = (loser_eval.dot(weights)+1).cumprod() - 1 # cumulative return\n",
    "\n",
    "    output = pd.DataFrame({'winners': winner_performance, 'losers': loser_performance})\n",
    "    return output\n",
    "get_portfolio_performance()"
   ]
  },
  {
   "cell_type": "code",
   "execution_count": 25,
   "metadata": {},
   "outputs": [
    {
     "output_type": "stream",
     "name": "stdout",
     "text": [
      "."
     ]
    },
    {
     "output_type": "execute_result",
     "data": {
      "text/plain": [
       "(['NFLX', 'DHI', 'LYV', 'PRGO', 'STE', 'PHM', 'LEN', 'REGN', 'EMR', 'SHW'],\n",
       " ['MPWR', 'IP', 'IVZ', 'WU', 'FTNT', 'AIG', 'ALK', 'IDXX', 'AVY', 'QCOM'])"
      ]
     },
     "metadata": {},
     "execution_count": 25
    }
   ],
   "source": [
    "get_portfolios(1)"
   ]
  },
  {
   "cell_type": "code",
   "execution_count": 26,
   "metadata": {},
   "outputs": [],
   "source": [
    "# 10/500\n",
    "# pf = pd.DataFrame({'idx':timedf.index})\n",
    "# pf['mom'], pf['rev'] = zip(*pf['idx'].map(get_portfolios))\n",
    "# pf"
   ]
  },
  {
   "cell_type": "code",
   "execution_count": 27,
   "metadata": {},
   "outputs": [],
   "source": [
    "# portfolios = {'mom':{}, 'rev':{}}\n",
    "# for i in timedf.index:\n",
    "#     # print(i)\n",
    "#     mom, rev = get_portfolios(i)\n",
    "#     portfolios['mom'][i] = mom\n",
    "#     portfolios['rev'][i] = rev\n",
    "# # portfolios['mom'][0]\n",
    "# pf = timedf.merge(pd.DataFrame(portfolios), left_index=True, right_index=True)\n",
    "# pf.head()"
   ]
  },
  {
   "cell_type": "code",
   "execution_count": 28,
   "metadata": {},
   "outputs": [],
   "source": [
    "# def get_portfolio_pct(lst, date, weights=None):\n",
    "#     '''given list of tickers, generates a EQUAL WEIGHTED INDEX portfolio and aggregates their performance'''\n",
    "#     portfolio_df = df[df['Name'].isin(lst)] #filters df by lst\n",
    "#     portfolio_df = get_cum_return(portfolio_df)[['Date','pct_change']] # we get cum return\n",
    "#     portfolio_df = portfolio_df.groupby('Date').mean()\n",
    "#     value = portfolio_df[pd.to_datetime(portfolio_df.index)==pd.to_datetime(date)].values\n",
    "#     # print('.', end='')\n",
    "#     return 0 if (value.shape[0]==0 or np.isnan(value[0,0])) else value[0,0] # will need to spend time staring at the output to see if most columns are good\n",
    "    # im thinking the only good value we can get out of this is percent change and maybe cum_return, ohlc columns are garbage\n",
    "# temp = get_portfolio_pct(['NFLX', 'LVS', 'URI', 'CMG', 'FFIV'], dpf.Date[0])\n",
    "# temp\n"
   ]
  },
  {
   "cell_type": "code",
   "execution_count": 29,
   "metadata": {},
   "outputs": [],
   "source": [
    "# dpf = pd.DataFrame({'Date':pd.date_range(df.Date.min(), df.Date.max(), freq=\"D\")}).merge(pf[['k_end', 'mom', 'rev']].reset_index(), how='left', left_on='Date', right_on='k_end').bfill().ffill()\n",
    "# dpf['mom_pct_change'] = dpf.apply(lambda x: get_portfolio_pct(x.mom, x.Date), axis=1)\n",
    "# dpf['rev_pct_change'] = dpf.apply(lambda x: get_portfolio_pct(x.rev, x.Date), axis=1)\n",
    "# dpf['index'] = dpf['index'].astype(int)\n",
    "# dpf = dpf.drop(['mom', 'rev', 'k_end'], axis=1)\n",
    "# dpf['mom_return'] = ((dpf['mom_pct_change']+1).cumprod()-1) * 100\n",
    "# dpf['rev_return'] = ((dpf['rev_pct_change']+1).cumprod()-1) * 100\n",
    "# dpf[['mom_return', 'rev_return', 'Date']].set_index('Date').plot(figsize=(12,8))\n",
    "# dpf"
   ]
  },
  {
   "cell_type": "code",
   "execution_count": 30,
   "metadata": {},
   "outputs": [],
   "source": [
    "# spc = pdr.get_data_yahoo(\"^GSPC\", start=\"2009-10-01\")\n",
    "# spc"
   ]
  },
  {
   "cell_type": "code",
   "execution_count": 31,
   "metadata": {},
   "outputs": [],
   "source": [
    "import matplotlib.ticker as mtick\n",
    "\n",
    "# fig = plt.figure(1, (12,8))\n",
    "# ax = fig.add_subplot(1,1,1)\n",
    "# fmt = '%.0f%%' # Format you want the ticks, e.g. '40%'\n",
    "# xticks = mtick.FormatStrFormatter(fmt)\n",
    "# ax.yaxis.set_major_formatter(xticks)\n",
    "# spc['pctc'] = spc['Adj Close'].pct_change()\n",
    "# spc['cumprod'] =((spc['pctc']+1).cumprod()-1)*100\n",
    "# sp500 = spc.merge(dpf, how='left', left_index=True, right_on='Date')\n",
    "# sp500[['Date', 'mom_return', 'rev_return','cumprod']].set_index('Date').plot.area(ax=ax,stacked=False,figsize=(12,8)) # plotted\n",
    "# ax.legend([\"Momentum\", \"Reversal\", \"S&P500\"])\n",
    "# fig.savefig('performance.png')"
   ]
  },
  {
   "cell_type": "code",
   "execution_count": 32,
   "metadata": {},
   "outputs": [],
   "source": [
    "# sp500 = sp500.drop(['mom_return', 'rev_return'], axis=1) # mom_retunr and rev_return, beware of use\n",
    "# sp500 = sp500.reset_index(drop=True).set_index('Date')\n",
    "\n",
    "# sp500.ta.cci(length=4,append=True)\n",
    "# sp500.ta.kdj(length=4,append=True)\n",
    "# sp500.ta.rsi(length=4,append=True)\n",
    "# sp500.ta.bop(length=4,append=True)\n",
    "# sp500.ta.willr(length=4,append=True)\n",
    "# sp500.ta.pdist(length=4,append=True)\n",
    "# sp500.ta.kc(length=4,append=True)\n",
    "# sp500.ta.adx(length=4,append=True)\n",
    "# sp500.ta.qstick(length=4,append=True)\n",
    "# sp500.ta.roc(length=4,append=True)\n",
    "# # sp500.ta.ao(length=4,append=True)\n",
    "# # sp500.ta.macd(fast=4,slow=8,append=True)\n",
    "# sp500.ta.stdev(length=4,append=True)\n",
    "# sp500.ta.pvol(append=True)\n",
    "# sp500.ta.efi(length=4, append=True)\n",
    "# sp500 = sp500[sp500.index.isin(pd.date_range(timedf.j_start.min(), timedf.k_end.max()))]\n",
    "# sp500"
   ]
  },
  {
   "cell_type": "code",
   "execution_count": 33,
   "metadata": {},
   "outputs": [],
   "source": [
    "get_j_df = get_daily_j\n",
    "get_k_df = get_daily_k\n",
    "# get_j_df().groupby('period').count()\n"
   ]
  },
  {
   "cell_type": "markdown",
   "metadata": {},
   "source": [
    "# START HERE! avoid most everything above"
   ]
  },
  {
   "cell_type": "code",
   "execution_count": 34,
   "metadata": {},
   "outputs": [
    {
     "output_type": "execute_result",
     "data": {
      "text/plain": [
       "       j_start   midpoint      k_end\n",
       "0   2010-01-04 2010-01-14 2010-02-02\n",
       "1   2010-01-24 2010-02-03 2010-02-22\n",
       "2   2010-02-13 2010-02-23 2010-03-14\n",
       "3   2010-03-05 2010-03-15 2010-04-03\n",
       "4   2010-03-25 2010-04-04 2010-04-23\n",
       "..         ...        ...        ...\n",
       "199 2020-11-27 2020-12-07 2020-12-26\n",
       "200 2020-12-17 2020-12-27 2021-01-15\n",
       "201 2021-01-06 2021-01-16 2021-02-04\n",
       "202 2021-01-26 2021-02-05 2021-02-24\n",
       "203 2021-02-15 2021-02-25 2021-03-16\n",
       "\n",
       "[204 rows x 3 columns]"
      ],
      "text/html": "<div>\n<style scoped>\n    .dataframe tbody tr th:only-of-type {\n        vertical-align: middle;\n    }\n\n    .dataframe tbody tr th {\n        vertical-align: top;\n    }\n\n    .dataframe thead th {\n        text-align: right;\n    }\n</style>\n<table border=\"1\" class=\"dataframe\">\n  <thead>\n    <tr style=\"text-align: right;\">\n      <th></th>\n      <th>j_start</th>\n      <th>midpoint</th>\n      <th>k_end</th>\n    </tr>\n  </thead>\n  <tbody>\n    <tr>\n      <th>0</th>\n      <td>2010-01-04</td>\n      <td>2010-01-14</td>\n      <td>2010-02-02</td>\n    </tr>\n    <tr>\n      <th>1</th>\n      <td>2010-01-24</td>\n      <td>2010-02-03</td>\n      <td>2010-02-22</td>\n    </tr>\n    <tr>\n      <th>2</th>\n      <td>2010-02-13</td>\n      <td>2010-02-23</td>\n      <td>2010-03-14</td>\n    </tr>\n    <tr>\n      <th>3</th>\n      <td>2010-03-05</td>\n      <td>2010-03-15</td>\n      <td>2010-04-03</td>\n    </tr>\n    <tr>\n      <th>4</th>\n      <td>2010-03-25</td>\n      <td>2010-04-04</td>\n      <td>2010-04-23</td>\n    </tr>\n    <tr>\n      <th>...</th>\n      <td>...</td>\n      <td>...</td>\n      <td>...</td>\n    </tr>\n    <tr>\n      <th>199</th>\n      <td>2020-11-27</td>\n      <td>2020-12-07</td>\n      <td>2020-12-26</td>\n    </tr>\n    <tr>\n      <th>200</th>\n      <td>2020-12-17</td>\n      <td>2020-12-27</td>\n      <td>2021-01-15</td>\n    </tr>\n    <tr>\n      <th>201</th>\n      <td>2021-01-06</td>\n      <td>2021-01-16</td>\n      <td>2021-02-04</td>\n    </tr>\n    <tr>\n      <th>202</th>\n      <td>2021-01-26</td>\n      <td>2021-02-05</td>\n      <td>2021-02-24</td>\n    </tr>\n    <tr>\n      <th>203</th>\n      <td>2021-02-15</td>\n      <td>2021-02-25</td>\n      <td>2021-03-16</td>\n    </tr>\n  </tbody>\n</table>\n<p>204 rows × 3 columns</p>\n</div>"
     },
     "metadata": {},
     "execution_count": 34
    }
   ],
   "source": [
    "df = pd.read_csv('SP500_daily.csv').infer_objects().dropna()\n",
    "def pull_data(j=10,k=20):\n",
    "    # this runs on bad code. Please restart the kernel and run all if you run into issues.\n",
    "    tdf, j, k = generate_daily_timetable(j=j,k=k)\n",
    "    df_ = pd.read_csv('daily_j'+str(j)+'_k'+str(k)+'.csv')\n",
    "    return tdf, df_, j, k\n",
    "timedf, df, j, k= pull_data(10,20)\n",
    "timedf"
   ]
  },
  {
   "cell_type": "code",
   "execution_count": 35,
   "metadata": {},
   "outputs": [
    {
     "output_type": "execute_result",
     "data": {
      "text/plain": [
       "            date         open         high          low        close  \\\n",
       "0     2010-01-04  1116.560059  1133.869995  1116.560059  1132.989990   \n",
       "1     2010-01-05  1132.660034  1136.630005  1129.660034  1136.520020   \n",
       "2     2010-01-06  1135.709961  1139.189941  1133.949951  1137.140015   \n",
       "3     2010-01-07  1136.270020  1142.459961  1131.319946  1141.689941   \n",
       "4     2010-01-08  1140.520020  1145.390015  1136.219971  1144.979980   \n",
       "...          ...          ...          ...          ...          ...   \n",
       "2810  2021-03-04  3818.530029  3843.669922  3723.340088  3768.469971   \n",
       "2811  2021-03-05  3793.580078  3851.689941  3730.189941  3841.939941   \n",
       "2812  2021-03-08  3844.389893  3881.060059  3819.250000  3821.350098   \n",
       "2813  2021-03-09  3851.929932  3903.760010  3851.929932  3875.439941   \n",
       "2814  2021-03-10  3891.989990  3917.350098  3885.729980  3898.810059   \n",
       "\n",
       "        adj_close      volume      pctc     cumprod  index  ...     KCBe_4_2  \\\n",
       "0     1132.989990  3991400000  0.016043   10.015052      0  ...  1125.862247   \n",
       "1     1136.520020  2491020000  0.003116   10.357824      0  ...  1130.125356   \n",
       "2     1137.140015  4972660000  0.000546   10.418026      0  ...  1132.931219   \n",
       "3     1141.689941  5270680000  0.004001   10.859831      0  ...  1136.434708   \n",
       "4     1144.979980  4389590000  0.002882   11.179299      0  ...  1139.852817   \n",
       "...           ...         ...       ...         ...    ...  ...          ...   \n",
       "2810  3768.469971  7142240000 -0.013417  265.924170    202  ...  3817.461671   \n",
       "2811  3841.939941  6842570000  0.019496  273.058216    202  ...  3827.252979   \n",
       "2812  3821.350098  5852240000 -0.005359  271.058910    202  ...  3824.891827   \n",
       "2813  3875.439941  5496340000  0.014155  276.311117    202  ...  3845.111072   \n",
       "2814  3898.810059  2661222204  0.006030  278.580390    202  ...  3866.590667   \n",
       "\n",
       "         KCUe_4_2      ADX_4      DMP_4      DMN_4       QS_4     ROC_4  \\\n",
       "0     1150.908327  31.353875  25.824193  20.473821   0.867462  0.461966   \n",
       "1     1150.728981  29.868441  28.282059  16.820527   2.419983  0.916362   \n",
       "2     1149.485386  31.780718  31.403334  14.268415   2.554993  0.951685   \n",
       "3     1155.279220  36.597717  30.786961   9.977320   6.784973  2.384536   \n",
       "4     1158.495559  42.725905  31.076194   7.501304   3.792480  1.058261   \n",
       "...           ...        ...        ...        ...        ...       ...   \n",
       "2810  3989.228356  40.559639   9.643459  52.792746 -17.092468 -1.119870   \n",
       "2811  4027.512990  45.509728   8.607734  34.821798 -19.830017 -1.534672   \n",
       "2812  3994.495880  41.137035  15.906452  28.289774 -17.252502 -1.264503   \n",
       "2813  4012.801434  32.350414  18.817021  21.215170  -0.307495  1.458745   \n",
       "2814  4000.733009  25.965217  20.790230  18.139277  13.912537  3.458700   \n",
       "\n",
       "        STDEV_4          PVOL         EFI_4  \n",
       "0      7.420261  4.522216e+12  2.361978e+10  \n",
       "1      9.419172  2.831094e+12  1.768922e+10  \n",
       "2     10.387101  5.654611e+12  1.184674e+10  \n",
       "3      3.572899  6.017482e+12  1.670053e+10  \n",
       "4      3.996610  5.025993e+12  1.579709e+10  \n",
       "...         ...           ...           ...  \n",
       "2810  58.500739  2.691532e+13 -2.281458e+11  \n",
       "2811  43.056661  2.628874e+13  6.420190e+10  \n",
       "2812  31.279697  2.236346e+13 -9.677543e+09  \n",
       "2813  44.822448  2.130074e+13  1.131119e+11  \n",
       "2814  34.462928  1.037560e+13  9.274440e+10  \n",
       "\n",
       "[2815 rows x 31 columns]"
      ],
      "text/html": "<div>\n<style scoped>\n    .dataframe tbody tr th:only-of-type {\n        vertical-align: middle;\n    }\n\n    .dataframe tbody tr th {\n        vertical-align: top;\n    }\n\n    .dataframe thead th {\n        text-align: right;\n    }\n</style>\n<table border=\"1\" class=\"dataframe\">\n  <thead>\n    <tr style=\"text-align: right;\">\n      <th></th>\n      <th>date</th>\n      <th>open</th>\n      <th>high</th>\n      <th>low</th>\n      <th>close</th>\n      <th>adj_close</th>\n      <th>volume</th>\n      <th>pctc</th>\n      <th>cumprod</th>\n      <th>index</th>\n      <th>...</th>\n      <th>KCBe_4_2</th>\n      <th>KCUe_4_2</th>\n      <th>ADX_4</th>\n      <th>DMP_4</th>\n      <th>DMN_4</th>\n      <th>QS_4</th>\n      <th>ROC_4</th>\n      <th>STDEV_4</th>\n      <th>PVOL</th>\n      <th>EFI_4</th>\n    </tr>\n  </thead>\n  <tbody>\n    <tr>\n      <th>0</th>\n      <td>2010-01-04</td>\n      <td>1116.560059</td>\n      <td>1133.869995</td>\n      <td>1116.560059</td>\n      <td>1132.989990</td>\n      <td>1132.989990</td>\n      <td>3991400000</td>\n      <td>0.016043</td>\n      <td>10.015052</td>\n      <td>0</td>\n      <td>...</td>\n      <td>1125.862247</td>\n      <td>1150.908327</td>\n      <td>31.353875</td>\n      <td>25.824193</td>\n      <td>20.473821</td>\n      <td>0.867462</td>\n      <td>0.461966</td>\n      <td>7.420261</td>\n      <td>4.522216e+12</td>\n      <td>2.361978e+10</td>\n    </tr>\n    <tr>\n      <th>1</th>\n      <td>2010-01-05</td>\n      <td>1132.660034</td>\n      <td>1136.630005</td>\n      <td>1129.660034</td>\n      <td>1136.520020</td>\n      <td>1136.520020</td>\n      <td>2491020000</td>\n      <td>0.003116</td>\n      <td>10.357824</td>\n      <td>0</td>\n      <td>...</td>\n      <td>1130.125356</td>\n      <td>1150.728981</td>\n      <td>29.868441</td>\n      <td>28.282059</td>\n      <td>16.820527</td>\n      <td>2.419983</td>\n      <td>0.916362</td>\n      <td>9.419172</td>\n      <td>2.831094e+12</td>\n      <td>1.768922e+10</td>\n    </tr>\n    <tr>\n      <th>2</th>\n      <td>2010-01-06</td>\n      <td>1135.709961</td>\n      <td>1139.189941</td>\n      <td>1133.949951</td>\n      <td>1137.140015</td>\n      <td>1137.140015</td>\n      <td>4972660000</td>\n      <td>0.000546</td>\n      <td>10.418026</td>\n      <td>0</td>\n      <td>...</td>\n      <td>1132.931219</td>\n      <td>1149.485386</td>\n      <td>31.780718</td>\n      <td>31.403334</td>\n      <td>14.268415</td>\n      <td>2.554993</td>\n      <td>0.951685</td>\n      <td>10.387101</td>\n      <td>5.654611e+12</td>\n      <td>1.184674e+10</td>\n    </tr>\n    <tr>\n      <th>3</th>\n      <td>2010-01-07</td>\n      <td>1136.270020</td>\n      <td>1142.459961</td>\n      <td>1131.319946</td>\n      <td>1141.689941</td>\n      <td>1141.689941</td>\n      <td>5270680000</td>\n      <td>0.004001</td>\n      <td>10.859831</td>\n      <td>0</td>\n      <td>...</td>\n      <td>1136.434708</td>\n      <td>1155.279220</td>\n      <td>36.597717</td>\n      <td>30.786961</td>\n      <td>9.977320</td>\n      <td>6.784973</td>\n      <td>2.384536</td>\n      <td>3.572899</td>\n      <td>6.017482e+12</td>\n      <td>1.670053e+10</td>\n    </tr>\n    <tr>\n      <th>4</th>\n      <td>2010-01-08</td>\n      <td>1140.520020</td>\n      <td>1145.390015</td>\n      <td>1136.219971</td>\n      <td>1144.979980</td>\n      <td>1144.979980</td>\n      <td>4389590000</td>\n      <td>0.002882</td>\n      <td>11.179299</td>\n      <td>0</td>\n      <td>...</td>\n      <td>1139.852817</td>\n      <td>1158.495559</td>\n      <td>42.725905</td>\n      <td>31.076194</td>\n      <td>7.501304</td>\n      <td>3.792480</td>\n      <td>1.058261</td>\n      <td>3.996610</td>\n      <td>5.025993e+12</td>\n      <td>1.579709e+10</td>\n    </tr>\n    <tr>\n      <th>...</th>\n      <td>...</td>\n      <td>...</td>\n      <td>...</td>\n      <td>...</td>\n      <td>...</td>\n      <td>...</td>\n      <td>...</td>\n      <td>...</td>\n      <td>...</td>\n      <td>...</td>\n      <td>...</td>\n      <td>...</td>\n      <td>...</td>\n      <td>...</td>\n      <td>...</td>\n      <td>...</td>\n      <td>...</td>\n      <td>...</td>\n      <td>...</td>\n      <td>...</td>\n      <td>...</td>\n    </tr>\n    <tr>\n      <th>2810</th>\n      <td>2021-03-04</td>\n      <td>3818.530029</td>\n      <td>3843.669922</td>\n      <td>3723.340088</td>\n      <td>3768.469971</td>\n      <td>3768.469971</td>\n      <td>7142240000</td>\n      <td>-0.013417</td>\n      <td>265.924170</td>\n      <td>202</td>\n      <td>...</td>\n      <td>3817.461671</td>\n      <td>3989.228356</td>\n      <td>40.559639</td>\n      <td>9.643459</td>\n      <td>52.792746</td>\n      <td>-17.092468</td>\n      <td>-1.119870</td>\n      <td>58.500739</td>\n      <td>2.691532e+13</td>\n      <td>-2.281458e+11</td>\n    </tr>\n    <tr>\n      <th>2811</th>\n      <td>2021-03-05</td>\n      <td>3793.580078</td>\n      <td>3851.689941</td>\n      <td>3730.189941</td>\n      <td>3841.939941</td>\n      <td>3841.939941</td>\n      <td>6842570000</td>\n      <td>0.019496</td>\n      <td>273.058216</td>\n      <td>202</td>\n      <td>...</td>\n      <td>3827.252979</td>\n      <td>4027.512990</td>\n      <td>45.509728</td>\n      <td>8.607734</td>\n      <td>34.821798</td>\n      <td>-19.830017</td>\n      <td>-1.534672</td>\n      <td>43.056661</td>\n      <td>2.628874e+13</td>\n      <td>6.420190e+10</td>\n    </tr>\n    <tr>\n      <th>2812</th>\n      <td>2021-03-08</td>\n      <td>3844.389893</td>\n      <td>3881.060059</td>\n      <td>3819.250000</td>\n      <td>3821.350098</td>\n      <td>3821.350098</td>\n      <td>5852240000</td>\n      <td>-0.005359</td>\n      <td>271.058910</td>\n      <td>202</td>\n      <td>...</td>\n      <td>3824.891827</td>\n      <td>3994.495880</td>\n      <td>41.137035</td>\n      <td>15.906452</td>\n      <td>28.289774</td>\n      <td>-17.252502</td>\n      <td>-1.264503</td>\n      <td>31.279697</td>\n      <td>2.236346e+13</td>\n      <td>-9.677543e+09</td>\n    </tr>\n    <tr>\n      <th>2813</th>\n      <td>2021-03-09</td>\n      <td>3851.929932</td>\n      <td>3903.760010</td>\n      <td>3851.929932</td>\n      <td>3875.439941</td>\n      <td>3875.439941</td>\n      <td>5496340000</td>\n      <td>0.014155</td>\n      <td>276.311117</td>\n      <td>202</td>\n      <td>...</td>\n      <td>3845.111072</td>\n      <td>4012.801434</td>\n      <td>32.350414</td>\n      <td>18.817021</td>\n      <td>21.215170</td>\n      <td>-0.307495</td>\n      <td>1.458745</td>\n      <td>44.822448</td>\n      <td>2.130074e+13</td>\n      <td>1.131119e+11</td>\n    </tr>\n    <tr>\n      <th>2814</th>\n      <td>2021-03-10</td>\n      <td>3891.989990</td>\n      <td>3917.350098</td>\n      <td>3885.729980</td>\n      <td>3898.810059</td>\n      <td>3898.810059</td>\n      <td>2661222204</td>\n      <td>0.006030</td>\n      <td>278.580390</td>\n      <td>202</td>\n      <td>...</td>\n      <td>3866.590667</td>\n      <td>4000.733009</td>\n      <td>25.965217</td>\n      <td>20.790230</td>\n      <td>18.139277</td>\n      <td>13.912537</td>\n      <td>3.458700</td>\n      <td>34.462928</td>\n      <td>1.037560e+13</td>\n      <td>9.274440e+10</td>\n    </tr>\n  </tbody>\n</table>\n<p>2815 rows × 31 columns</p>\n</div>"
     },
     "metadata": {},
     "execution_count": 35
    }
   ],
   "source": [
    "df['index'] = df['index'].astype(int)\n",
    "df # all the features you neeeed"
   ]
  },
  {
   "cell_type": "code",
   "execution_count": 36,
   "metadata": {},
   "outputs": [
    {
     "output_type": "execute_result",
     "data": {
      "text/plain": [
       "       j_start   midpoint      k_end\n",
       "0   2010-01-04 2010-01-14 2010-02-02\n",
       "1   2010-01-24 2010-02-03 2010-02-22\n",
       "2   2010-02-13 2010-02-23 2010-03-14\n",
       "3   2010-03-05 2010-03-15 2010-04-03\n",
       "4   2010-03-25 2010-04-04 2010-04-23\n",
       "..         ...        ...        ...\n",
       "199 2020-11-27 2020-12-07 2020-12-26\n",
       "200 2020-12-17 2020-12-27 2021-01-15\n",
       "201 2021-01-06 2021-01-16 2021-02-04\n",
       "202 2021-01-26 2021-02-05 2021-02-24\n",
       "203 2021-02-15 2021-02-25 2021-03-16\n",
       "\n",
       "[204 rows x 3 columns]"
      ],
      "text/html": "<div>\n<style scoped>\n    .dataframe tbody tr th:only-of-type {\n        vertical-align: middle;\n    }\n\n    .dataframe tbody tr th {\n        vertical-align: top;\n    }\n\n    .dataframe thead th {\n        text-align: right;\n    }\n</style>\n<table border=\"1\" class=\"dataframe\">\n  <thead>\n    <tr style=\"text-align: right;\">\n      <th></th>\n      <th>j_start</th>\n      <th>midpoint</th>\n      <th>k_end</th>\n    </tr>\n  </thead>\n  <tbody>\n    <tr>\n      <th>0</th>\n      <td>2010-01-04</td>\n      <td>2010-01-14</td>\n      <td>2010-02-02</td>\n    </tr>\n    <tr>\n      <th>1</th>\n      <td>2010-01-24</td>\n      <td>2010-02-03</td>\n      <td>2010-02-22</td>\n    </tr>\n    <tr>\n      <th>2</th>\n      <td>2010-02-13</td>\n      <td>2010-02-23</td>\n      <td>2010-03-14</td>\n    </tr>\n    <tr>\n      <th>3</th>\n      <td>2010-03-05</td>\n      <td>2010-03-15</td>\n      <td>2010-04-03</td>\n    </tr>\n    <tr>\n      <th>4</th>\n      <td>2010-03-25</td>\n      <td>2010-04-04</td>\n      <td>2010-04-23</td>\n    </tr>\n    <tr>\n      <th>...</th>\n      <td>...</td>\n      <td>...</td>\n      <td>...</td>\n    </tr>\n    <tr>\n      <th>199</th>\n      <td>2020-11-27</td>\n      <td>2020-12-07</td>\n      <td>2020-12-26</td>\n    </tr>\n    <tr>\n      <th>200</th>\n      <td>2020-12-17</td>\n      <td>2020-12-27</td>\n      <td>2021-01-15</td>\n    </tr>\n    <tr>\n      <th>201</th>\n      <td>2021-01-06</td>\n      <td>2021-01-16</td>\n      <td>2021-02-04</td>\n    </tr>\n    <tr>\n      <th>202</th>\n      <td>2021-01-26</td>\n      <td>2021-02-05</td>\n      <td>2021-02-24</td>\n    </tr>\n    <tr>\n      <th>203</th>\n      <td>2021-02-15</td>\n      <td>2021-02-25</td>\n      <td>2021-03-16</td>\n    </tr>\n  </tbody>\n</table>\n<p>204 rows × 3 columns</p>\n</div>"
     },
     "metadata": {},
     "execution_count": 36
    }
   ],
   "source": [
    "timedf"
   ]
  },
  {
   "cell_type": "markdown",
   "metadata": {},
   "source": [
    "# Charting"
   ]
  },
  {
   "cell_type": "code",
   "execution_count": 37,
   "metadata": {},
   "outputs": [
    {
     "output_type": "display_data",
     "data": {
      "text/plain": "<Figure size 576x360 with 1 Axes>",
      "image/svg+xml": "<?xml version=\"1.0\" encoding=\"utf-8\" standalone=\"no\"?>\r\n<!DOCTYPE svg PUBLIC \"-//W3C//DTD SVG 1.1//EN\"\r\n  \"http://www.w3.org/Graphics/SVG/1.1/DTD/svg11.dtd\">\r\n<svg height=\"332.435565pt\" version=\"1.1\" viewBox=\"0 0 506.847069 332.435565\" width=\"506.847069pt\" xmlns=\"http://www.w3.org/2000/svg\" xmlns:xlink=\"http://www.w3.org/1999/xlink\">\r\n <metadata>\r\n  <rdf:RDF xmlns:cc=\"http://creativecommons.org/ns#\" xmlns:dc=\"http://purl.org/dc/elements/1.1/\" xmlns:rdf=\"http://www.w3.org/1999/02/22-rdf-syntax-ns#\">\r\n   <cc:Work>\r\n    <dc:type rdf:resource=\"http://purl.org/dc/dcmitype/StillImage\"/>\r\n    <dc:date>2021-03-12T04:18:46.411578</dc:date>\r\n    <dc:format>image/svg+xml</dc:format>\r\n    <dc:creator>\r\n     <cc:Agent>\r\n      <dc:title>Matplotlib v3.4.0rc3, https://matplotlib.org/</dc:title>\r\n     </cc:Agent>\r\n    </dc:creator>\r\n   </cc:Work>\r\n  </rdf:RDF>\r\n </metadata>\r\n <defs>\r\n  <style type=\"text/css\">*{stroke-linecap:butt;stroke-linejoin:round;}</style>\r\n </defs>\r\n <g id=\"figure_1\">\r\n  <g id=\"patch_1\">\r\n   <path d=\"M 0 332.435565 \r\nL 506.847069 332.435565 \r\nL 506.847069 0 \r\nL 0 0 \r\nz\r\n\" style=\"fill:none;\"/>\r\n  </g>\r\n  <g id=\"axes_1\">\r\n   <g id=\"patch_2\">\r\n    <path d=\"M 53.247069 267.118125 \r\nL 499.647069 267.118125 \r\nL 499.647069 22.318125 \r\nL 53.247069 22.318125 \r\nz\r\n\" style=\"fill:#ffffff;\"/>\r\n   </g>\r\n   <g id=\"matplotlib.axis_1\">\r\n    <g id=\"xtick_1\">\r\n     <g id=\"line2d_1\">\r\n      <defs>\r\n       <path d=\"M 0 0 \r\nL 0 3.5 \r\n\" id=\"m67b32076bf\" style=\"stroke:#000000;stroke-width:0.8;\"/>\r\n      </defs>\r\n      <g>\r\n       <use style=\"stroke:#000000;stroke-width:0.8;\" x=\"62.36867\" xlink:href=\"#m67b32076bf\" y=\"267.118125\"/>\r\n      </g>\r\n     </g>\r\n     <g id=\"text_1\">\r\n      <!-- 2010-01-01 -->\r\n      <g transform=\"translate(10.999219 309.756377)rotate(-30)scale(0.1 -0.1)\">\r\n       <defs>\r\n        <path d=\"M 1228 531 \r\nL 3431 531 \r\nL 3431 0 \r\nL 469 0 \r\nL 469 531 \r\nQ 828 903 1448 1529 \r\nQ 2069 2156 2228 2338 \r\nQ 2531 2678 2651 2914 \r\nQ 2772 3150 2772 3378 \r\nQ 2772 3750 2511 3984 \r\nQ 2250 4219 1831 4219 \r\nQ 1534 4219 1204 4116 \r\nQ 875 4013 500 3803 \r\nL 500 4441 \r\nQ 881 4594 1212 4672 \r\nQ 1544 4750 1819 4750 \r\nQ 2544 4750 2975 4387 \r\nQ 3406 4025 3406 3419 \r\nQ 3406 3131 3298 2873 \r\nQ 3191 2616 2906 2266 \r\nQ 2828 2175 2409 1742 \r\nQ 1991 1309 1228 531 \r\nz\r\n\" id=\"DejaVuSans-32\" transform=\"scale(0.015625)\"/>\r\n        <path d=\"M 2034 4250 \r\nQ 1547 4250 1301 3770 \r\nQ 1056 3291 1056 2328 \r\nQ 1056 1369 1301 889 \r\nQ 1547 409 2034 409 \r\nQ 2525 409 2770 889 \r\nQ 3016 1369 3016 2328 \r\nQ 3016 3291 2770 3770 \r\nQ 2525 4250 2034 4250 \r\nz\r\nM 2034 4750 \r\nQ 2819 4750 3233 4129 \r\nQ 3647 3509 3647 2328 \r\nQ 3647 1150 3233 529 \r\nQ 2819 -91 2034 -91 \r\nQ 1250 -91 836 529 \r\nQ 422 1150 422 2328 \r\nQ 422 3509 836 4129 \r\nQ 1250 4750 2034 4750 \r\nz\r\n\" id=\"DejaVuSans-30\" transform=\"scale(0.015625)\"/>\r\n        <path d=\"M 794 531 \r\nL 1825 531 \r\nL 1825 4091 \r\nL 703 3866 \r\nL 703 4441 \r\nL 1819 4666 \r\nL 2450 4666 \r\nL 2450 531 \r\nL 3481 531 \r\nL 3481 0 \r\nL 794 0 \r\nL 794 531 \r\nz\r\n\" id=\"DejaVuSans-31\" transform=\"scale(0.015625)\"/>\r\n        <path d=\"M 313 2009 \r\nL 1997 2009 \r\nL 1997 1497 \r\nL 313 1497 \r\nL 313 2009 \r\nz\r\n\" id=\"DejaVuSans-2d\" transform=\"scale(0.015625)\"/>\r\n       </defs>\r\n       <use xlink:href=\"#DejaVuSans-32\"/>\r\n       <use x=\"63.623047\" xlink:href=\"#DejaVuSans-30\"/>\r\n       <use x=\"127.246094\" xlink:href=\"#DejaVuSans-31\"/>\r\n       <use x=\"190.869141\" xlink:href=\"#DejaVuSans-30\"/>\r\n       <use x=\"254.492188\" xlink:href=\"#DejaVuSans-2d\"/>\r\n       <use x=\"290.576172\" xlink:href=\"#DejaVuSans-30\"/>\r\n       <use x=\"354.199219\" xlink:href=\"#DejaVuSans-31\"/>\r\n       <use x=\"417.822266\" xlink:href=\"#DejaVuSans-2d\"/>\r\n       <use x=\"453.90625\" xlink:href=\"#DejaVuSans-30\"/>\r\n       <use x=\"517.529297\" xlink:href=\"#DejaVuSans-31\"/>\r\n      </g>\r\n     </g>\r\n    </g>\r\n    <g id=\"xtick_2\">\r\n     <g id=\"line2d_2\">\r\n      <g>\r\n       <use style=\"stroke:#000000;stroke-width:0.8;\" x=\"114.492106\" xlink:href=\"#m67b32076bf\" y=\"267.118125\"/>\r\n      </g>\r\n     </g>\r\n     <g id=\"text_2\">\r\n      <!-- 2010-01-15 -->\r\n      <g transform=\"translate(63.122655 309.756377)rotate(-30)scale(0.1 -0.1)\">\r\n       <defs>\r\n        <path d=\"M 691 4666 \r\nL 3169 4666 \r\nL 3169 4134 \r\nL 1269 4134 \r\nL 1269 2991 \r\nQ 1406 3038 1543 3061 \r\nQ 1681 3084 1819 3084 \r\nQ 2600 3084 3056 2656 \r\nQ 3513 2228 3513 1497 \r\nQ 3513 744 3044 326 \r\nQ 2575 -91 1722 -91 \r\nQ 1428 -91 1123 -41 \r\nQ 819 9 494 109 \r\nL 494 744 \r\nQ 775 591 1075 516 \r\nQ 1375 441 1709 441 \r\nQ 2250 441 2565 725 \r\nQ 2881 1009 2881 1497 \r\nQ 2881 1984 2565 2268 \r\nQ 2250 2553 1709 2553 \r\nQ 1456 2553 1204 2497 \r\nQ 953 2441 691 2322 \r\nL 691 4666 \r\nz\r\n\" id=\"DejaVuSans-35\" transform=\"scale(0.015625)\"/>\r\n       </defs>\r\n       <use xlink:href=\"#DejaVuSans-32\"/>\r\n       <use x=\"63.623047\" xlink:href=\"#DejaVuSans-30\"/>\r\n       <use x=\"127.246094\" xlink:href=\"#DejaVuSans-31\"/>\r\n       <use x=\"190.869141\" xlink:href=\"#DejaVuSans-30\"/>\r\n       <use x=\"254.492188\" xlink:href=\"#DejaVuSans-2d\"/>\r\n       <use x=\"290.576172\" xlink:href=\"#DejaVuSans-30\"/>\r\n       <use x=\"354.199219\" xlink:href=\"#DejaVuSans-31\"/>\r\n       <use x=\"417.822266\" xlink:href=\"#DejaVuSans-2d\"/>\r\n       <use x=\"453.90625\" xlink:href=\"#DejaVuSans-31\"/>\r\n       <use x=\"517.529297\" xlink:href=\"#DejaVuSans-35\"/>\r\n      </g>\r\n     </g>\r\n    </g>\r\n    <g id=\"xtick_3\">\r\n     <g id=\"line2d_3\">\r\n      <g>\r\n       <use style=\"stroke:#000000;stroke-width:0.8;\" x=\"177.78485\" xlink:href=\"#m67b32076bf\" y=\"267.118125\"/>\r\n      </g>\r\n     </g>\r\n     <g id=\"text_3\">\r\n      <!-- 2010-02-01 -->\r\n      <g transform=\"translate(126.415399 309.756377)rotate(-30)scale(0.1 -0.1)\">\r\n       <use xlink:href=\"#DejaVuSans-32\"/>\r\n       <use x=\"63.623047\" xlink:href=\"#DejaVuSans-30\"/>\r\n       <use x=\"127.246094\" xlink:href=\"#DejaVuSans-31\"/>\r\n       <use x=\"190.869141\" xlink:href=\"#DejaVuSans-30\"/>\r\n       <use x=\"254.492188\" xlink:href=\"#DejaVuSans-2d\"/>\r\n       <use x=\"290.576172\" xlink:href=\"#DejaVuSans-30\"/>\r\n       <use x=\"354.199219\" xlink:href=\"#DejaVuSans-32\"/>\r\n       <use x=\"417.822266\" xlink:href=\"#DejaVuSans-2d\"/>\r\n       <use x=\"453.90625\" xlink:href=\"#DejaVuSans-30\"/>\r\n       <use x=\"517.529297\" xlink:href=\"#DejaVuSans-31\"/>\r\n      </g>\r\n     </g>\r\n    </g>\r\n    <g id=\"xtick_4\">\r\n     <g id=\"line2d_4\">\r\n      <g>\r\n       <use style=\"stroke:#000000;stroke-width:0.8;\" x=\"229.908286\" xlink:href=\"#m67b32076bf\" y=\"267.118125\"/>\r\n      </g>\r\n     </g>\r\n     <g id=\"text_4\">\r\n      <!-- 2010-02-15 -->\r\n      <g transform=\"translate(178.538835 309.756377)rotate(-30)scale(0.1 -0.1)\">\r\n       <use xlink:href=\"#DejaVuSans-32\"/>\r\n       <use x=\"63.623047\" xlink:href=\"#DejaVuSans-30\"/>\r\n       <use x=\"127.246094\" xlink:href=\"#DejaVuSans-31\"/>\r\n       <use x=\"190.869141\" xlink:href=\"#DejaVuSans-30\"/>\r\n       <use x=\"254.492188\" xlink:href=\"#DejaVuSans-2d\"/>\r\n       <use x=\"290.576172\" xlink:href=\"#DejaVuSans-30\"/>\r\n       <use x=\"354.199219\" xlink:href=\"#DejaVuSans-32\"/>\r\n       <use x=\"417.822266\" xlink:href=\"#DejaVuSans-2d\"/>\r\n       <use x=\"453.90625\" xlink:href=\"#DejaVuSans-31\"/>\r\n       <use x=\"517.529297\" xlink:href=\"#DejaVuSans-35\"/>\r\n      </g>\r\n     </g>\r\n    </g>\r\n    <g id=\"xtick_5\">\r\n     <g id=\"line2d_5\">\r\n      <g>\r\n       <use style=\"stroke:#000000;stroke-width:0.8;\" x=\"282.031723\" xlink:href=\"#m67b32076bf\" y=\"267.118125\"/>\r\n      </g>\r\n     </g>\r\n     <g id=\"text_5\">\r\n      <!-- 2010-03-01 -->\r\n      <g transform=\"translate(230.662271 309.756377)rotate(-30)scale(0.1 -0.1)\">\r\n       <defs>\r\n        <path d=\"M 2597 2516 \r\nQ 3050 2419 3304 2112 \r\nQ 3559 1806 3559 1356 \r\nQ 3559 666 3084 287 \r\nQ 2609 -91 1734 -91 \r\nQ 1441 -91 1130 -33 \r\nQ 819 25 488 141 \r\nL 488 750 \r\nQ 750 597 1062 519 \r\nQ 1375 441 1716 441 \r\nQ 2309 441 2620 675 \r\nQ 2931 909 2931 1356 \r\nQ 2931 1769 2642 2001 \r\nQ 2353 2234 1838 2234 \r\nL 1294 2234 \r\nL 1294 2753 \r\nL 1863 2753 \r\nQ 2328 2753 2575 2939 \r\nQ 2822 3125 2822 3475 \r\nQ 2822 3834 2567 4026 \r\nQ 2313 4219 1838 4219 \r\nQ 1578 4219 1281 4162 \r\nQ 984 4106 628 3988 \r\nL 628 4550 \r\nQ 988 4650 1302 4700 \r\nQ 1616 4750 1894 4750 \r\nQ 2613 4750 3031 4423 \r\nQ 3450 4097 3450 3541 \r\nQ 3450 3153 3228 2886 \r\nQ 3006 2619 2597 2516 \r\nz\r\n\" id=\"DejaVuSans-33\" transform=\"scale(0.015625)\"/>\r\n       </defs>\r\n       <use xlink:href=\"#DejaVuSans-32\"/>\r\n       <use x=\"63.623047\" xlink:href=\"#DejaVuSans-30\"/>\r\n       <use x=\"127.246094\" xlink:href=\"#DejaVuSans-31\"/>\r\n       <use x=\"190.869141\" xlink:href=\"#DejaVuSans-30\"/>\r\n       <use x=\"254.492188\" xlink:href=\"#DejaVuSans-2d\"/>\r\n       <use x=\"290.576172\" xlink:href=\"#DejaVuSans-30\"/>\r\n       <use x=\"354.199219\" xlink:href=\"#DejaVuSans-33\"/>\r\n       <use x=\"417.822266\" xlink:href=\"#DejaVuSans-2d\"/>\r\n       <use x=\"453.90625\" xlink:href=\"#DejaVuSans-30\"/>\r\n       <use x=\"517.529297\" xlink:href=\"#DejaVuSans-31\"/>\r\n      </g>\r\n     </g>\r\n    </g>\r\n    <g id=\"xtick_6\">\r\n     <g id=\"line2d_6\">\r\n      <g>\r\n       <use style=\"stroke:#000000;stroke-width:0.8;\" x=\"334.155159\" xlink:href=\"#m67b32076bf\" y=\"267.118125\"/>\r\n      </g>\r\n     </g>\r\n     <g id=\"text_6\">\r\n      <!-- 2010-03-15 -->\r\n      <g transform=\"translate(282.785707 309.756377)rotate(-30)scale(0.1 -0.1)\">\r\n       <use xlink:href=\"#DejaVuSans-32\"/>\r\n       <use x=\"63.623047\" xlink:href=\"#DejaVuSans-30\"/>\r\n       <use x=\"127.246094\" xlink:href=\"#DejaVuSans-31\"/>\r\n       <use x=\"190.869141\" xlink:href=\"#DejaVuSans-30\"/>\r\n       <use x=\"254.492188\" xlink:href=\"#DejaVuSans-2d\"/>\r\n       <use x=\"290.576172\" xlink:href=\"#DejaVuSans-30\"/>\r\n       <use x=\"354.199219\" xlink:href=\"#DejaVuSans-33\"/>\r\n       <use x=\"417.822266\" xlink:href=\"#DejaVuSans-2d\"/>\r\n       <use x=\"453.90625\" xlink:href=\"#DejaVuSans-31\"/>\r\n       <use x=\"517.529297\" xlink:href=\"#DejaVuSans-35\"/>\r\n      </g>\r\n     </g>\r\n    </g>\r\n    <g id=\"xtick_7\">\r\n     <g id=\"line2d_7\">\r\n      <g>\r\n       <use style=\"stroke:#000000;stroke-width:0.8;\" x=\"397.447903\" xlink:href=\"#m67b32076bf\" y=\"267.118125\"/>\r\n      </g>\r\n     </g>\r\n     <g id=\"text_7\">\r\n      <!-- 2010-04-01 -->\r\n      <g transform=\"translate(346.078451 309.756377)rotate(-30)scale(0.1 -0.1)\">\r\n       <defs>\r\n        <path d=\"M 2419 4116 \r\nL 825 1625 \r\nL 2419 1625 \r\nL 2419 4116 \r\nz\r\nM 2253 4666 \r\nL 3047 4666 \r\nL 3047 1625 \r\nL 3713 1625 \r\nL 3713 1100 \r\nL 3047 1100 \r\nL 3047 0 \r\nL 2419 0 \r\nL 2419 1100 \r\nL 313 1100 \r\nL 313 1709 \r\nL 2253 4666 \r\nz\r\n\" id=\"DejaVuSans-34\" transform=\"scale(0.015625)\"/>\r\n       </defs>\r\n       <use xlink:href=\"#DejaVuSans-32\"/>\r\n       <use x=\"63.623047\" xlink:href=\"#DejaVuSans-30\"/>\r\n       <use x=\"127.246094\" xlink:href=\"#DejaVuSans-31\"/>\r\n       <use x=\"190.869141\" xlink:href=\"#DejaVuSans-30\"/>\r\n       <use x=\"254.492188\" xlink:href=\"#DejaVuSans-2d\"/>\r\n       <use x=\"290.576172\" xlink:href=\"#DejaVuSans-30\"/>\r\n       <use x=\"354.199219\" xlink:href=\"#DejaVuSans-34\"/>\r\n       <use x=\"417.822266\" xlink:href=\"#DejaVuSans-2d\"/>\r\n       <use x=\"453.90625\" xlink:href=\"#DejaVuSans-30\"/>\r\n       <use x=\"517.529297\" xlink:href=\"#DejaVuSans-31\"/>\r\n      </g>\r\n     </g>\r\n    </g>\r\n    <g id=\"xtick_8\">\r\n     <g id=\"line2d_8\">\r\n      <g>\r\n       <use style=\"stroke:#000000;stroke-width:0.8;\" x=\"449.571339\" xlink:href=\"#m67b32076bf\" y=\"267.118125\"/>\r\n      </g>\r\n     </g>\r\n     <g id=\"text_8\">\r\n      <!-- 2010-04-15 -->\r\n      <g transform=\"translate(398.201888 309.756377)rotate(-30)scale(0.1 -0.1)\">\r\n       <use xlink:href=\"#DejaVuSans-32\"/>\r\n       <use x=\"63.623047\" xlink:href=\"#DejaVuSans-30\"/>\r\n       <use x=\"127.246094\" xlink:href=\"#DejaVuSans-31\"/>\r\n       <use x=\"190.869141\" xlink:href=\"#DejaVuSans-30\"/>\r\n       <use x=\"254.492188\" xlink:href=\"#DejaVuSans-2d\"/>\r\n       <use x=\"290.576172\" xlink:href=\"#DejaVuSans-30\"/>\r\n       <use x=\"354.199219\" xlink:href=\"#DejaVuSans-34\"/>\r\n       <use x=\"417.822266\" xlink:href=\"#DejaVuSans-2d\"/>\r\n       <use x=\"453.90625\" xlink:href=\"#DejaVuSans-31\"/>\r\n       <use x=\"517.529297\" xlink:href=\"#DejaVuSans-35\"/>\r\n      </g>\r\n     </g>\r\n    </g>\r\n    <g id=\"text_9\">\r\n     <!-- Date -->\r\n     <g transform=\"translate(264.496288 323.155877)scale(0.1 -0.1)\">\r\n      <defs>\r\n       <path d=\"M 1259 4147 \r\nL 1259 519 \r\nL 2022 519 \r\nQ 2988 519 3436 956 \r\nQ 3884 1394 3884 2338 \r\nQ 3884 3275 3436 3711 \r\nQ 2988 4147 2022 4147 \r\nL 1259 4147 \r\nz\r\nM 628 4666 \r\nL 1925 4666 \r\nQ 3281 4666 3915 4102 \r\nQ 4550 3538 4550 2338 \r\nQ 4550 1131 3912 565 \r\nQ 3275 0 1925 0 \r\nL 628 0 \r\nL 628 4666 \r\nz\r\n\" id=\"DejaVuSans-44\" transform=\"scale(0.015625)\"/>\r\n       <path d=\"M 2194 1759 \r\nQ 1497 1759 1228 1600 \r\nQ 959 1441 959 1056 \r\nQ 959 750 1161 570 \r\nQ 1363 391 1709 391 \r\nQ 2188 391 2477 730 \r\nQ 2766 1069 2766 1631 \r\nL 2766 1759 \r\nL 2194 1759 \r\nz\r\nM 3341 1997 \r\nL 3341 0 \r\nL 2766 0 \r\nL 2766 531 \r\nQ 2569 213 2275 61 \r\nQ 1981 -91 1556 -91 \r\nQ 1019 -91 701 211 \r\nQ 384 513 384 1019 \r\nQ 384 1609 779 1909 \r\nQ 1175 2209 1959 2209 \r\nL 2766 2209 \r\nL 2766 2266 \r\nQ 2766 2663 2505 2880 \r\nQ 2244 3097 1772 3097 \r\nQ 1472 3097 1187 3025 \r\nQ 903 2953 641 2809 \r\nL 641 3341 \r\nQ 956 3463 1253 3523 \r\nQ 1550 3584 1831 3584 \r\nQ 2591 3584 2966 3190 \r\nQ 3341 2797 3341 1997 \r\nz\r\n\" id=\"DejaVuSans-61\" transform=\"scale(0.015625)\"/>\r\n       <path d=\"M 1172 4494 \r\nL 1172 3500 \r\nL 2356 3500 \r\nL 2356 3053 \r\nL 1172 3053 \r\nL 1172 1153 \r\nQ 1172 725 1289 603 \r\nQ 1406 481 1766 481 \r\nL 2356 481 \r\nL 2356 0 \r\nL 1766 0 \r\nQ 1100 0 847 248 \r\nQ 594 497 594 1153 \r\nL 594 3053 \r\nL 172 3053 \r\nL 172 3500 \r\nL 594 3500 \r\nL 594 4494 \r\nL 1172 4494 \r\nz\r\n\" id=\"DejaVuSans-74\" transform=\"scale(0.015625)\"/>\r\n       <path d=\"M 3597 1894 \r\nL 3597 1613 \r\nL 953 1613 \r\nQ 991 1019 1311 708 \r\nQ 1631 397 2203 397 \r\nQ 2534 397 2845 478 \r\nQ 3156 559 3463 722 \r\nL 3463 178 \r\nQ 3153 47 2828 -22 \r\nQ 2503 -91 2169 -91 \r\nQ 1331 -91 842 396 \r\nQ 353 884 353 1716 \r\nQ 353 2575 817 3079 \r\nQ 1281 3584 2069 3584 \r\nQ 2775 3584 3186 3129 \r\nQ 3597 2675 3597 1894 \r\nz\r\nM 3022 2063 \r\nQ 3016 2534 2758 2815 \r\nQ 2500 3097 2075 3097 \r\nQ 1594 3097 1305 2825 \r\nQ 1016 2553 972 2059 \r\nL 3022 2063 \r\nz\r\n\" id=\"DejaVuSans-65\" transform=\"scale(0.015625)\"/>\r\n      </defs>\r\n      <use xlink:href=\"#DejaVuSans-44\"/>\r\n      <use x=\"77.001953\" xlink:href=\"#DejaVuSans-61\"/>\r\n      <use x=\"138.28125\" xlink:href=\"#DejaVuSans-74\"/>\r\n      <use x=\"177.490234\" xlink:href=\"#DejaVuSans-65\"/>\r\n     </g>\r\n    </g>\r\n   </g>\r\n   <g id=\"matplotlib.axis_2\">\r\n    <g id=\"ytick_1\">\r\n     <g id=\"line2d_9\">\r\n      <defs>\r\n       <path d=\"M 0 0 \r\nL -3.5 0 \r\n\" id=\"m1d9faf765a\" style=\"stroke:#000000;stroke-width:0.8;\"/>\r\n      </defs>\r\n      <g>\r\n       <use style=\"stroke:#000000;stroke-width:0.8;\" x=\"53.247069\" xlink:href=\"#m1d9faf765a\" y=\"255.990852\"/>\r\n      </g>\r\n     </g>\r\n     <g id=\"text_10\">\r\n      <!-- 0 -->\r\n      <g transform=\"translate(39.884569 259.790071)scale(0.1 -0.1)\">\r\n       <use xlink:href=\"#DejaVuSans-30\"/>\r\n      </g>\r\n     </g>\r\n    </g>\r\n    <g id=\"ytick_2\">\r\n     <g id=\"line2d_10\">\r\n      <g>\r\n       <use style=\"stroke:#000000;stroke-width:0.8;\" x=\"53.247069\" xlink:href=\"#m1d9faf765a\" y=\"200.354489\"/>\r\n      </g>\r\n     </g>\r\n     <g id=\"text_11\">\r\n      <!-- 1 -->\r\n      <g transform=\"translate(39.884569 204.153707)scale(0.1 -0.1)\">\r\n       <use xlink:href=\"#DejaVuSans-31\"/>\r\n      </g>\r\n     </g>\r\n    </g>\r\n    <g id=\"ytick_3\">\r\n     <g id=\"line2d_11\">\r\n      <g>\r\n       <use style=\"stroke:#000000;stroke-width:0.8;\" x=\"53.247069\" xlink:href=\"#m1d9faf765a\" y=\"144.718125\"/>\r\n      </g>\r\n     </g>\r\n     <g id=\"text_12\">\r\n      <!-- 2 -->\r\n      <g transform=\"translate(39.884569 148.517344)scale(0.1 -0.1)\">\r\n       <use xlink:href=\"#DejaVuSans-32\"/>\r\n      </g>\r\n     </g>\r\n    </g>\r\n    <g id=\"ytick_4\">\r\n     <g id=\"line2d_12\">\r\n      <g>\r\n       <use style=\"stroke:#000000;stroke-width:0.8;\" x=\"53.247069\" xlink:href=\"#m1d9faf765a\" y=\"89.081761\"/>\r\n      </g>\r\n     </g>\r\n     <g id=\"text_13\">\r\n      <!-- 3 -->\r\n      <g transform=\"translate(39.884569 92.88098)scale(0.1 -0.1)\">\r\n       <use xlink:href=\"#DejaVuSans-33\"/>\r\n      </g>\r\n     </g>\r\n    </g>\r\n    <g id=\"ytick_5\">\r\n     <g id=\"line2d_13\">\r\n      <g>\r\n       <use style=\"stroke:#000000;stroke-width:0.8;\" x=\"53.247069\" xlink:href=\"#m1d9faf765a\" y=\"33.445398\"/>\r\n      </g>\r\n     </g>\r\n     <g id=\"text_14\">\r\n      <!-- 4 -->\r\n      <g transform=\"translate(39.884569 37.244616)scale(0.1 -0.1)\">\r\n       <use xlink:href=\"#DejaVuSans-34\"/>\r\n      </g>\r\n     </g>\r\n    </g>\r\n    <g id=\"text_15\">\r\n     <!-- Period -->\r\n     <g transform=\"translate(33.804881 160.306406)rotate(-90)scale(0.1 -0.1)\">\r\n      <defs>\r\n       <path d=\"M 1259 4147 \r\nL 1259 2394 \r\nL 2053 2394 \r\nQ 2494 2394 2734 2622 \r\nQ 2975 2850 2975 3272 \r\nQ 2975 3691 2734 3919 \r\nQ 2494 4147 2053 4147 \r\nL 1259 4147 \r\nz\r\nM 628 4666 \r\nL 2053 4666 \r\nQ 2838 4666 3239 4311 \r\nQ 3641 3956 3641 3272 \r\nQ 3641 2581 3239 2228 \r\nQ 2838 1875 2053 1875 \r\nL 1259 1875 \r\nL 1259 0 \r\nL 628 0 \r\nL 628 4666 \r\nz\r\n\" id=\"DejaVuSans-50\" transform=\"scale(0.015625)\"/>\r\n       <path d=\"M 2631 2963 \r\nQ 2534 3019 2420 3045 \r\nQ 2306 3072 2169 3072 \r\nQ 1681 3072 1420 2755 \r\nQ 1159 2438 1159 1844 \r\nL 1159 0 \r\nL 581 0 \r\nL 581 3500 \r\nL 1159 3500 \r\nL 1159 2956 \r\nQ 1341 3275 1631 3429 \r\nQ 1922 3584 2338 3584 \r\nQ 2397 3584 2469 3576 \r\nQ 2541 3569 2628 3553 \r\nL 2631 2963 \r\nz\r\n\" id=\"DejaVuSans-72\" transform=\"scale(0.015625)\"/>\r\n       <path d=\"M 603 3500 \r\nL 1178 3500 \r\nL 1178 0 \r\nL 603 0 \r\nL 603 3500 \r\nz\r\nM 603 4863 \r\nL 1178 4863 \r\nL 1178 4134 \r\nL 603 4134 \r\nL 603 4863 \r\nz\r\n\" id=\"DejaVuSans-69\" transform=\"scale(0.015625)\"/>\r\n       <path d=\"M 1959 3097 \r\nQ 1497 3097 1228 2736 \r\nQ 959 2375 959 1747 \r\nQ 959 1119 1226 758 \r\nQ 1494 397 1959 397 \r\nQ 2419 397 2687 759 \r\nQ 2956 1122 2956 1747 \r\nQ 2956 2369 2687 2733 \r\nQ 2419 3097 1959 3097 \r\nz\r\nM 1959 3584 \r\nQ 2709 3584 3137 3096 \r\nQ 3566 2609 3566 1747 \r\nQ 3566 888 3137 398 \r\nQ 2709 -91 1959 -91 \r\nQ 1206 -91 779 398 \r\nQ 353 888 353 1747 \r\nQ 353 2609 779 3096 \r\nQ 1206 3584 1959 3584 \r\nz\r\n\" id=\"DejaVuSans-6f\" transform=\"scale(0.015625)\"/>\r\n       <path d=\"M 2906 2969 \r\nL 2906 4863 \r\nL 3481 4863 \r\nL 3481 0 \r\nL 2906 0 \r\nL 2906 525 \r\nQ 2725 213 2448 61 \r\nQ 2172 -91 1784 -91 \r\nQ 1150 -91 751 415 \r\nQ 353 922 353 1747 \r\nQ 353 2572 751 3078 \r\nQ 1150 3584 1784 3584 \r\nQ 2172 3584 2448 3432 \r\nQ 2725 3281 2906 2969 \r\nz\r\nM 947 1747 \r\nQ 947 1113 1208 752 \r\nQ 1469 391 1925 391 \r\nQ 2381 391 2643 752 \r\nQ 2906 1113 2906 1747 \r\nQ 2906 2381 2643 2742 \r\nQ 2381 3103 1925 3103 \r\nQ 1469 3103 1208 2742 \r\nQ 947 2381 947 1747 \r\nz\r\n\" id=\"DejaVuSans-64\" transform=\"scale(0.015625)\"/>\r\n      </defs>\r\n      <use xlink:href=\"#DejaVuSans-50\"/>\r\n      <use x=\"56.677734\" xlink:href=\"#DejaVuSans-65\"/>\r\n      <use x=\"118.201172\" xlink:href=\"#DejaVuSans-72\"/>\r\n      <use x=\"159.314453\" xlink:href=\"#DejaVuSans-69\"/>\r\n      <use x=\"187.097656\" xlink:href=\"#DejaVuSans-6f\"/>\r\n      <use x=\"248.279297\" xlink:href=\"#DejaVuSans-64\"/>\r\n     </g>\r\n    </g>\r\n   </g>\r\n   <g id=\"LineCollection_1\">\r\n    <path clip-path=\"url(#p1515f04e52)\" d=\"M 73.537978 255.990852 \r\nL 110.769004 255.990852 \r\n\" style=\"fill:none;stroke:#d3d3d3;stroke-width:15;\"/>\r\n   </g>\r\n   <g id=\"LineCollection_2\">\r\n    <path clip-path=\"url(#p1515f04e52)\" d=\"M 110.769004 255.990852 \r\nL 181.507953 255.990852 \r\n\" style=\"fill:none;stroke:#808080;stroke-width:15;\"/>\r\n   </g>\r\n   <g id=\"LineCollection_3\">\r\n    <path clip-path=\"url(#p1515f04e52)\" d=\"M 148.00003 200.354489 \r\nL 185.231055 200.354489 \r\n\" style=\"fill:none;stroke:#d3d3d3;stroke-width:15;\"/>\r\n   </g>\r\n   <g id=\"LineCollection_4\">\r\n    <path clip-path=\"url(#p1515f04e52)\" d=\"M 185.231055 200.354489 \r\nL 255.970005 200.354489 \r\n\" style=\"fill:none;stroke:#808080;stroke-width:15;\"/>\r\n   </g>\r\n   <g id=\"LineCollection_5\">\r\n    <path clip-path=\"url(#p1515f04e52)\" d=\"M 222.462081 144.718125 \r\nL 259.693107 144.718125 \r\n\" style=\"fill:none;stroke:#d3d3d3;stroke-width:15;\"/>\r\n   </g>\r\n   <g id=\"LineCollection_6\">\r\n    <path clip-path=\"url(#p1515f04e52)\" d=\"M 259.693107 144.718125 \r\nL 330.432056 144.718125 \r\n\" style=\"fill:none;stroke:#808080;stroke-width:15;\"/>\r\n   </g>\r\n   <g id=\"LineCollection_7\">\r\n    <path clip-path=\"url(#p1515f04e52)\" d=\"M 296.924133 89.081761 \r\nL 334.155159 89.081761 \r\n\" style=\"fill:none;stroke:#d3d3d3;stroke-width:15;\"/>\r\n   </g>\r\n   <g id=\"LineCollection_8\">\r\n    <path clip-path=\"url(#p1515f04e52)\" d=\"M 334.155159 89.081761 \r\nL 404.894108 89.081761 \r\n\" style=\"fill:none;stroke:#808080;stroke-width:15;\"/>\r\n   </g>\r\n   <g id=\"LineCollection_9\">\r\n    <path clip-path=\"url(#p1515f04e52)\" d=\"M 371.386185 33.445398 \r\nL 408.617211 33.445398 \r\n\" style=\"fill:none;stroke:#d3d3d3;stroke-width:15;\"/>\r\n   </g>\r\n   <g id=\"LineCollection_10\">\r\n    <path clip-path=\"url(#p1515f04e52)\" d=\"M 408.617211 33.445398 \r\nL 479.35616 33.445398 \r\n\" style=\"fill:none;stroke:#808080;stroke-width:15;\"/>\r\n   </g>\r\n   <g id=\"patch_3\">\r\n    <path d=\"M 53.247069 267.118125 \r\nL 53.247069 22.318125 \r\n\" style=\"fill:none;stroke:#000000;stroke-linecap:square;stroke-linejoin:miter;stroke-width:0.8;\"/>\r\n   </g>\r\n   <g id=\"patch_4\">\r\n    <path d=\"M 499.647069 267.118125 \r\nL 499.647069 22.318125 \r\n\" style=\"fill:none;stroke:#000000;stroke-linecap:square;stroke-linejoin:miter;stroke-width:0.8;\"/>\r\n   </g>\r\n   <g id=\"patch_5\">\r\n    <path d=\"M 53.247069 267.118125 \r\nL 499.647069 267.118125 \r\n\" style=\"fill:none;stroke:#000000;stroke-linecap:square;stroke-linejoin:miter;stroke-width:0.8;\"/>\r\n   </g>\r\n   <g id=\"patch_6\">\r\n    <path d=\"M 53.247069 22.318125 \r\nL 499.647069 22.318125 \r\n\" style=\"fill:none;stroke:#000000;stroke-linecap:square;stroke-linejoin:miter;stroke-width:0.8;\"/>\r\n   </g>\r\n   <g id=\"text_16\">\r\n    <!-- Observe and Hold Periods (j=10, k=20 days) -->\r\n    <g transform=\"translate(141.948631 16.318125)scale(0.12 -0.12)\">\r\n     <defs>\r\n      <path d=\"M 2522 4238 \r\nQ 1834 4238 1429 3725 \r\nQ 1025 3213 1025 2328 \r\nQ 1025 1447 1429 934 \r\nQ 1834 422 2522 422 \r\nQ 3209 422 3611 934 \r\nQ 4013 1447 4013 2328 \r\nQ 4013 3213 3611 3725 \r\nQ 3209 4238 2522 4238 \r\nz\r\nM 2522 4750 \r\nQ 3503 4750 4090 4092 \r\nQ 4678 3434 4678 2328 \r\nQ 4678 1225 4090 567 \r\nQ 3503 -91 2522 -91 \r\nQ 1538 -91 948 565 \r\nQ 359 1222 359 2328 \r\nQ 359 3434 948 4092 \r\nQ 1538 4750 2522 4750 \r\nz\r\n\" id=\"DejaVuSans-4f\" transform=\"scale(0.015625)\"/>\r\n      <path d=\"M 3116 1747 \r\nQ 3116 2381 2855 2742 \r\nQ 2594 3103 2138 3103 \r\nQ 1681 3103 1420 2742 \r\nQ 1159 2381 1159 1747 \r\nQ 1159 1113 1420 752 \r\nQ 1681 391 2138 391 \r\nQ 2594 391 2855 752 \r\nQ 3116 1113 3116 1747 \r\nz\r\nM 1159 2969 \r\nQ 1341 3281 1617 3432 \r\nQ 1894 3584 2278 3584 \r\nQ 2916 3584 3314 3078 \r\nQ 3713 2572 3713 1747 \r\nQ 3713 922 3314 415 \r\nQ 2916 -91 2278 -91 \r\nQ 1894 -91 1617 61 \r\nQ 1341 213 1159 525 \r\nL 1159 0 \r\nL 581 0 \r\nL 581 4863 \r\nL 1159 4863 \r\nL 1159 2969 \r\nz\r\n\" id=\"DejaVuSans-62\" transform=\"scale(0.015625)\"/>\r\n      <path d=\"M 2834 3397 \r\nL 2834 2853 \r\nQ 2591 2978 2328 3040 \r\nQ 2066 3103 1784 3103 \r\nQ 1356 3103 1142 2972 \r\nQ 928 2841 928 2578 \r\nQ 928 2378 1081 2264 \r\nQ 1234 2150 1697 2047 \r\nL 1894 2003 \r\nQ 2506 1872 2764 1633 \r\nQ 3022 1394 3022 966 \r\nQ 3022 478 2636 193 \r\nQ 2250 -91 1575 -91 \r\nQ 1294 -91 989 -36 \r\nQ 684 19 347 128 \r\nL 347 722 \r\nQ 666 556 975 473 \r\nQ 1284 391 1588 391 \r\nQ 1994 391 2212 530 \r\nQ 2431 669 2431 922 \r\nQ 2431 1156 2273 1281 \r\nQ 2116 1406 1581 1522 \r\nL 1381 1569 \r\nQ 847 1681 609 1914 \r\nQ 372 2147 372 2553 \r\nQ 372 3047 722 3315 \r\nQ 1072 3584 1716 3584 \r\nQ 2034 3584 2315 3537 \r\nQ 2597 3491 2834 3397 \r\nz\r\n\" id=\"DejaVuSans-73\" transform=\"scale(0.015625)\"/>\r\n      <path d=\"M 191 3500 \r\nL 800 3500 \r\nL 1894 563 \r\nL 2988 3500 \r\nL 3597 3500 \r\nL 2284 0 \r\nL 1503 0 \r\nL 191 3500 \r\nz\r\n\" id=\"DejaVuSans-76\" transform=\"scale(0.015625)\"/>\r\n      <path id=\"DejaVuSans-20\" transform=\"scale(0.015625)\"/>\r\n      <path d=\"M 3513 2113 \r\nL 3513 0 \r\nL 2938 0 \r\nL 2938 2094 \r\nQ 2938 2591 2744 2837 \r\nQ 2550 3084 2163 3084 \r\nQ 1697 3084 1428 2787 \r\nQ 1159 2491 1159 1978 \r\nL 1159 0 \r\nL 581 0 \r\nL 581 3500 \r\nL 1159 3500 \r\nL 1159 2956 \r\nQ 1366 3272 1645 3428 \r\nQ 1925 3584 2291 3584 \r\nQ 2894 3584 3203 3211 \r\nQ 3513 2838 3513 2113 \r\nz\r\n\" id=\"DejaVuSans-6e\" transform=\"scale(0.015625)\"/>\r\n      <path d=\"M 628 4666 \r\nL 1259 4666 \r\nL 1259 2753 \r\nL 3553 2753 \r\nL 3553 4666 \r\nL 4184 4666 \r\nL 4184 0 \r\nL 3553 0 \r\nL 3553 2222 \r\nL 1259 2222 \r\nL 1259 0 \r\nL 628 0 \r\nL 628 4666 \r\nz\r\n\" id=\"DejaVuSans-48\" transform=\"scale(0.015625)\"/>\r\n      <path d=\"M 603 4863 \r\nL 1178 4863 \r\nL 1178 0 \r\nL 603 0 \r\nL 603 4863 \r\nz\r\n\" id=\"DejaVuSans-6c\" transform=\"scale(0.015625)\"/>\r\n      <path d=\"M 1984 4856 \r\nQ 1566 4138 1362 3434 \r\nQ 1159 2731 1159 2009 \r\nQ 1159 1288 1364 580 \r\nQ 1569 -128 1984 -844 \r\nL 1484 -844 \r\nQ 1016 -109 783 600 \r\nQ 550 1309 550 2009 \r\nQ 550 2706 781 3412 \r\nQ 1013 4119 1484 4856 \r\nL 1984 4856 \r\nz\r\n\" id=\"DejaVuSans-28\" transform=\"scale(0.015625)\"/>\r\n      <path d=\"M 603 3500 \r\nL 1178 3500 \r\nL 1178 -63 \r\nQ 1178 -731 923 -1031 \r\nQ 669 -1331 103 -1331 \r\nL -116 -1331 \r\nL -116 -844 \r\nL 38 -844 \r\nQ 366 -844 484 -692 \r\nQ 603 -541 603 -63 \r\nL 603 3500 \r\nz\r\nM 603 4863 \r\nL 1178 4863 \r\nL 1178 4134 \r\nL 603 4134 \r\nL 603 4863 \r\nz\r\n\" id=\"DejaVuSans-6a\" transform=\"scale(0.015625)\"/>\r\n      <path d=\"M 678 2906 \r\nL 4684 2906 \r\nL 4684 2381 \r\nL 678 2381 \r\nL 678 2906 \r\nz\r\nM 678 1631 \r\nL 4684 1631 \r\nL 4684 1100 \r\nL 678 1100 \r\nL 678 1631 \r\nz\r\n\" id=\"DejaVuSans-3d\" transform=\"scale(0.015625)\"/>\r\n      <path d=\"M 750 794 \r\nL 1409 794 \r\nL 1409 256 \r\nL 897 -744 \r\nL 494 -744 \r\nL 750 256 \r\nL 750 794 \r\nz\r\n\" id=\"DejaVuSans-2c\" transform=\"scale(0.015625)\"/>\r\n      <path d=\"M 581 4863 \r\nL 1159 4863 \r\nL 1159 1991 \r\nL 2875 3500 \r\nL 3609 3500 \r\nL 1753 1863 \r\nL 3688 0 \r\nL 2938 0 \r\nL 1159 1709 \r\nL 1159 0 \r\nL 581 0 \r\nL 581 4863 \r\nz\r\n\" id=\"DejaVuSans-6b\" transform=\"scale(0.015625)\"/>\r\n      <path d=\"M 2059 -325 \r\nQ 1816 -950 1584 -1140 \r\nQ 1353 -1331 966 -1331 \r\nL 506 -1331 \r\nL 506 -850 \r\nL 844 -850 \r\nQ 1081 -850 1212 -737 \r\nQ 1344 -625 1503 -206 \r\nL 1606 56 \r\nL 191 3500 \r\nL 800 3500 \r\nL 1894 763 \r\nL 2988 3500 \r\nL 3597 3500 \r\nL 2059 -325 \r\nz\r\n\" id=\"DejaVuSans-79\" transform=\"scale(0.015625)\"/>\r\n      <path d=\"M 513 4856 \r\nL 1013 4856 \r\nQ 1481 4119 1714 3412 \r\nQ 1947 2706 1947 2009 \r\nQ 1947 1309 1714 600 \r\nQ 1481 -109 1013 -844 \r\nL 513 -844 \r\nQ 928 -128 1133 580 \r\nQ 1338 1288 1338 2009 \r\nQ 1338 2731 1133 3434 \r\nQ 928 4138 513 4856 \r\nz\r\n\" id=\"DejaVuSans-29\" transform=\"scale(0.015625)\"/>\r\n     </defs>\r\n     <use xlink:href=\"#DejaVuSans-4f\"/>\r\n     <use x=\"78.710938\" xlink:href=\"#DejaVuSans-62\"/>\r\n     <use x=\"142.1875\" xlink:href=\"#DejaVuSans-73\"/>\r\n     <use x=\"194.287109\" xlink:href=\"#DejaVuSans-65\"/>\r\n     <use x=\"255.810547\" xlink:href=\"#DejaVuSans-72\"/>\r\n     <use x=\"296.923828\" xlink:href=\"#DejaVuSans-76\"/>\r\n     <use x=\"356.103516\" xlink:href=\"#DejaVuSans-65\"/>\r\n     <use x=\"417.626953\" xlink:href=\"#DejaVuSans-20\"/>\r\n     <use x=\"449.414062\" xlink:href=\"#DejaVuSans-61\"/>\r\n     <use x=\"510.693359\" xlink:href=\"#DejaVuSans-6e\"/>\r\n     <use x=\"574.072266\" xlink:href=\"#DejaVuSans-64\"/>\r\n     <use x=\"637.548828\" xlink:href=\"#DejaVuSans-20\"/>\r\n     <use x=\"669.335938\" xlink:href=\"#DejaVuSans-48\"/>\r\n     <use x=\"744.53125\" xlink:href=\"#DejaVuSans-6f\"/>\r\n     <use x=\"805.712891\" xlink:href=\"#DejaVuSans-6c\"/>\r\n     <use x=\"833.496094\" xlink:href=\"#DejaVuSans-64\"/>\r\n     <use x=\"896.972656\" xlink:href=\"#DejaVuSans-20\"/>\r\n     <use x=\"928.759766\" xlink:href=\"#DejaVuSans-50\"/>\r\n     <use x=\"985.4375\" xlink:href=\"#DejaVuSans-65\"/>\r\n     <use x=\"1046.960938\" xlink:href=\"#DejaVuSans-72\"/>\r\n     <use x=\"1088.074219\" xlink:href=\"#DejaVuSans-69\"/>\r\n     <use x=\"1115.857422\" xlink:href=\"#DejaVuSans-6f\"/>\r\n     <use x=\"1177.039062\" xlink:href=\"#DejaVuSans-64\"/>\r\n     <use x=\"1240.515625\" xlink:href=\"#DejaVuSans-73\"/>\r\n     <use x=\"1292.615234\" xlink:href=\"#DejaVuSans-20\"/>\r\n     <use x=\"1324.402344\" xlink:href=\"#DejaVuSans-28\"/>\r\n     <use x=\"1363.416016\" xlink:href=\"#DejaVuSans-6a\"/>\r\n     <use x=\"1391.199219\" xlink:href=\"#DejaVuSans-3d\"/>\r\n     <use x=\"1474.988281\" xlink:href=\"#DejaVuSans-31\"/>\r\n     <use x=\"1538.611328\" xlink:href=\"#DejaVuSans-30\"/>\r\n     <use x=\"1602.234375\" xlink:href=\"#DejaVuSans-2c\"/>\r\n     <use x=\"1634.021484\" xlink:href=\"#DejaVuSans-20\"/>\r\n     <use x=\"1665.808594\" xlink:href=\"#DejaVuSans-6b\"/>\r\n     <use x=\"1723.71875\" xlink:href=\"#DejaVuSans-3d\"/>\r\n     <use x=\"1807.507812\" xlink:href=\"#DejaVuSans-32\"/>\r\n     <use x=\"1871.130859\" xlink:href=\"#DejaVuSans-30\"/>\r\n     <use x=\"1934.753906\" xlink:href=\"#DejaVuSans-20\"/>\r\n     <use x=\"1966.541016\" xlink:href=\"#DejaVuSans-64\"/>\r\n     <use x=\"2030.017578\" xlink:href=\"#DejaVuSans-61\"/>\r\n     <use x=\"2091.296875\" xlink:href=\"#DejaVuSans-79\"/>\r\n     <use x=\"2150.476562\" xlink:href=\"#DejaVuSans-73\"/>\r\n     <use x=\"2202.576172\" xlink:href=\"#DejaVuSans-29\"/>\r\n    </g>\r\n   </g>\r\n   <g id=\"legend_1\">\r\n    <g id=\"patch_7\">\r\n     <path d=\"M 60.247069 59.674375 \r\nL 188.178319 59.674375 \r\nQ 190.178319 59.674375 190.178319 57.674375 \r\nL 190.178319 29.318125 \r\nQ 190.178319 27.318125 188.178319 27.318125 \r\nL 60.247069 27.318125 \r\nQ 58.247069 27.318125 58.247069 29.318125 \r\nL 58.247069 57.674375 \r\nQ 58.247069 59.674375 60.247069 59.674375 \r\nz\r\n\" style=\"fill:#ffffff;opacity:0.8;stroke:#cccccc;stroke-linejoin:miter;\"/>\r\n    </g>\r\n    <g id=\"line2d_14\">\r\n     <path d=\"M 62.247069 35.416562 \r\nL 82.247069 35.416562 \r\n\" style=\"fill:none;stroke:#d3d3d3;stroke-width:15;\"/>\r\n    </g>\r\n    <g id=\"text_17\">\r\n     <!-- Observation period -->\r\n     <g transform=\"translate(90.247069 38.916562)scale(0.1 -0.1)\">\r\n      <defs>\r\n       <path d=\"M 1159 525 \r\nL 1159 -1331 \r\nL 581 -1331 \r\nL 581 3500 \r\nL 1159 3500 \r\nL 1159 2969 \r\nQ 1341 3281 1617 3432 \r\nQ 1894 3584 2278 3584 \r\nQ 2916 3584 3314 3078 \r\nQ 3713 2572 3713 1747 \r\nQ 3713 922 3314 415 \r\nQ 2916 -91 2278 -91 \r\nQ 1894 -91 1617 61 \r\nQ 1341 213 1159 525 \r\nz\r\nM 3116 1747 \r\nQ 3116 2381 2855 2742 \r\nQ 2594 3103 2138 3103 \r\nQ 1681 3103 1420 2742 \r\nQ 1159 2381 1159 1747 \r\nQ 1159 1113 1420 752 \r\nQ 1681 391 2138 391 \r\nQ 2594 391 2855 752 \r\nQ 3116 1113 3116 1747 \r\nz\r\n\" id=\"DejaVuSans-70\" transform=\"scale(0.015625)\"/>\r\n      </defs>\r\n      <use xlink:href=\"#DejaVuSans-4f\"/>\r\n      <use x=\"78.710938\" xlink:href=\"#DejaVuSans-62\"/>\r\n      <use x=\"142.1875\" xlink:href=\"#DejaVuSans-73\"/>\r\n      <use x=\"194.287109\" xlink:href=\"#DejaVuSans-65\"/>\r\n      <use x=\"255.810547\" xlink:href=\"#DejaVuSans-72\"/>\r\n      <use x=\"296.923828\" xlink:href=\"#DejaVuSans-76\"/>\r\n      <use x=\"356.103516\" xlink:href=\"#DejaVuSans-61\"/>\r\n      <use x=\"417.382812\" xlink:href=\"#DejaVuSans-74\"/>\r\n      <use x=\"456.591797\" xlink:href=\"#DejaVuSans-69\"/>\r\n      <use x=\"484.375\" xlink:href=\"#DejaVuSans-6f\"/>\r\n      <use x=\"545.556641\" xlink:href=\"#DejaVuSans-6e\"/>\r\n      <use x=\"608.935547\" xlink:href=\"#DejaVuSans-20\"/>\r\n      <use x=\"640.722656\" xlink:href=\"#DejaVuSans-70\"/>\r\n      <use x=\"704.199219\" xlink:href=\"#DejaVuSans-65\"/>\r\n      <use x=\"765.722656\" xlink:href=\"#DejaVuSans-72\"/>\r\n      <use x=\"806.835938\" xlink:href=\"#DejaVuSans-69\"/>\r\n      <use x=\"834.619141\" xlink:href=\"#DejaVuSans-6f\"/>\r\n      <use x=\"895.800781\" xlink:href=\"#DejaVuSans-64\"/>\r\n     </g>\r\n    </g>\r\n    <g id=\"line2d_15\">\r\n     <path d=\"M 62.247069 50.094688 \r\nL 82.247069 50.094688 \r\n\" style=\"fill:none;stroke:#808080;stroke-width:15;\"/>\r\n    </g>\r\n    <g id=\"text_18\">\r\n     <!-- Hold period -->\r\n     <g transform=\"translate(90.247069 53.594688)scale(0.1 -0.1)\">\r\n      <use xlink:href=\"#DejaVuSans-48\"/>\r\n      <use x=\"75.195312\" xlink:href=\"#DejaVuSans-6f\"/>\r\n      <use x=\"136.376953\" xlink:href=\"#DejaVuSans-6c\"/>\r\n      <use x=\"164.160156\" xlink:href=\"#DejaVuSans-64\"/>\r\n      <use x=\"227.636719\" xlink:href=\"#DejaVuSans-20\"/>\r\n      <use x=\"259.423828\" xlink:href=\"#DejaVuSans-70\"/>\r\n      <use x=\"322.900391\" xlink:href=\"#DejaVuSans-65\"/>\r\n      <use x=\"384.423828\" xlink:href=\"#DejaVuSans-72\"/>\r\n      <use x=\"425.537109\" xlink:href=\"#DejaVuSans-69\"/>\r\n      <use x=\"453.320312\" xlink:href=\"#DejaVuSans-6f\"/>\r\n      <use x=\"514.501953\" xlink:href=\"#DejaVuSans-64\"/>\r\n     </g>\r\n    </g>\r\n   </g>\r\n  </g>\r\n </g>\r\n <defs>\r\n  <clipPath id=\"p1515f04e52\">\r\n   <rect height=\"244.8\" width=\"446.4\" x=\"53.247069\" y=\"22.318125\"/>\r\n  </clipPath>\r\n </defs>\r\n</svg>\r\n",
      "image/png": "[encoded data removed]"
     },
     "metadata": {
      "needs_background": "light"
     }
    }
   ],
   "source": [
    "from matplotlib.dates import date2num\n",
    "plotdf = df[df['index'] < 5][['index', 'date']]\n",
    "plotdf['date'] = pd.to_datetime(plotdf['date'])\n",
    "\n",
    "ax = plotdf.set_index('date').plot(figsize=(8, 5), title='Observe and Hold Periods (j=10, k=20 days)', yticks=[0,1,2,3,4], xlabel='Date', ylabel='Period')\n",
    "ax.lines.pop(0)\n",
    "\n",
    "for i in range(5):\n",
    "    td = timedf.iloc[i]\n",
    "    \n",
    "    # ax.axvspan(td.j_start.strftime(\"%Y-%m-%d\"), td.midpoint.strftime(\"%Y-%m-%d\"), color='green', alpha=0.3)\n",
    "    # ax.axvspan(td.midpoint.strftime(\"%Y-%m-%d\"), td.k_end.strftime(\"%Y-%m-%d\"), color='grey', alpha=0.3)\n",
    "    ax.hlines(y=i, xmin=td.j_start.strftime(\"%Y-%m-%d\"), xmax=td.midpoint.strftime(\"%Y-%m-%d\"), linewidth=15, color='#d3d3d3', label='Observation period' if i==0 else '_nolegend_')\n",
    "    ax.hlines(y=i,xmin=td.midpoint.strftime(\"%Y-%m-%d\"), xmax=td.k_end.strftime(\"%Y-%m-%d\"), linewidth=15, color='grey', label='Hold period' if i==0 else '_nolegend_')\n",
    "\n",
    "ax.legend(loc='upper left')#.remove()\n",
    "plt.show();\n"
   ]
  },
  {
   "cell_type": "code",
   "execution_count": 38,
   "metadata": {},
   "outputs": [
    {
     "output_type": "execute_result",
     "data": {
      "text/plain": [
       "'2010-01-14'"
      ]
     },
     "metadata": {},
     "execution_count": 38
    }
   ],
   "source": [
    "timedf.iloc[0].j_start.strftime(\"%Y-%m-%d\")\n",
    "timedf.iloc[0].midpoint.strftime(\"%Y-%m-%d\")"
   ]
  },
  {
   "cell_type": "code",
   "execution_count": 39,
   "metadata": {},
   "outputs": [
    {
     "output_type": "execute_result",
     "data": {
      "text/plain": [
       "           date         open         high          low        close  \\\n",
       "0    2010-01-04  1116.560059  1133.869995  1116.560059  1132.989990   \n",
       "1    2010-01-05  1132.660034  1136.630005  1129.660034  1136.520020   \n",
       "2    2010-01-06  1135.709961  1139.189941  1133.949951  1137.140015   \n",
       "3    2010-01-07  1136.270020  1142.459961  1131.319946  1141.689941   \n",
       "4    2010-01-08  1140.520020  1145.390015  1136.219971  1144.979980   \n",
       "...         ...          ...          ...          ...          ...   \n",
       "1543 2021-02-19  3921.159912  3930.409912  3903.070068  3906.709961   \n",
       "1544 2021-02-22  3885.550049  3902.919922  3874.709961  3876.500000   \n",
       "1545 2021-02-23  3857.070068  3895.979980  3805.590088  3881.370117   \n",
       "1546 2021-02-24  3873.709961  3928.649902  3859.600098  3925.429932   \n",
       "1547 2021-02-25  3915.800049  3925.020020  3814.040039  3829.340088   \n",
       "\n",
       "        adj_close      volume      pctc     cumprod  index  ...     KCUe_4_2  \\\n",
       "0     1132.989990  3991400000  0.016043   10.015052      0  ...  1150.908327   \n",
       "1     1136.520020  2491020000  0.003116   10.357824      0  ...  1150.728981   \n",
       "2     1137.140015  4972660000  0.000546   10.418026      0  ...  1149.485386   \n",
       "3     1141.689941  5270680000  0.004001   10.859831      0  ...  1155.279220   \n",
       "4     1144.979980  4389590000  0.002882   11.179299      0  ...  1158.495559   \n",
       "...           ...         ...       ...         ...    ...  ...          ...   \n",
       "1543  3906.709961  4823940000 -0.001855  279.347483    202  ...  3982.632760   \n",
       "1544  3876.500000  5870190000 -0.007733  276.414050    202  ...  3965.779656   \n",
       "1545  3881.370117  6280650000  0.001256  276.886946    202  ...  4004.327754   \n",
       "1546  3925.429932  5942350000  0.011352  281.165221    202  ...  4028.008469   \n",
       "1547  3829.340088  6513060000 -0.024479  271.834751    202  ...  4037.653031   \n",
       "\n",
       "          ADX_4      DMP_4      DMN_4       QS_4     ROC_4    STDEV_4  \\\n",
       "0     31.353875  25.824193  20.473821   0.867462  0.461966   7.420261   \n",
       "1     29.868441  28.282059  16.820527   2.419983  0.916362   9.419172   \n",
       "2     31.780718  31.403334  14.268415   2.554993  0.951685  10.387101   \n",
       "3     36.597717  30.786961   9.977320   6.784973  2.384536   3.572899   \n",
       "4     42.725905  31.076194   7.501304   3.792480  1.058261   3.996610   \n",
       "...         ...        ...        ...        ...       ...        ...   \n",
       "1543  23.129607  18.546906  22.084783  -2.632507 -0.714646  12.839745   \n",
       "1544  28.721357  14.163767  37.810126  -3.140015 -1.426289  22.882324   \n",
       "1545  40.641218   7.493794  56.015092  -0.272522 -1.270816  18.479548   \n",
       "1546  37.971154  20.401993  37.856926  13.130005  0.292796  22.847885   \n",
       "1547  41.723015  12.020612  39.107644  -4.872498 -1.980436  39.289060   \n",
       "\n",
       "              PVOL         EFI_4  period  \n",
       "0     4.522216e+12  2.361978e+10       0  \n",
       "1     2.831094e+12  1.768922e+10       0  \n",
       "2     5.654611e+12  1.184674e+10       0  \n",
       "3     6.017482e+12  1.670053e+10       0  \n",
       "4     5.025993e+12  1.579709e+10       0  \n",
       "...            ...           ...     ...  \n",
       "1543  1.884573e+13 -2.929479e+10     203  \n",
       "1544  2.275579e+13 -8.851216e+10     203  \n",
       "1545  2.437753e+13 -4.087229e+10     203  \n",
       "1546  2.332628e+13  8.020416e+10     203  \n",
       "1547  2.494072e+13 -2.022131e+11     203  \n",
       "\n",
       "[1548 rows x 32 columns]"
      ],
      "text/html": "<div>\n<style scoped>\n    .dataframe tbody tr th:only-of-type {\n        vertical-align: middle;\n    }\n\n    .dataframe tbody tr th {\n        vertical-align: top;\n    }\n\n    .dataframe thead th {\n        text-align: right;\n    }\n</style>\n<table border=\"1\" class=\"dataframe\">\n  <thead>\n    <tr style=\"text-align: right;\">\n      <th></th>\n      <th>date</th>\n      <th>open</th>\n      <th>high</th>\n      <th>low</th>\n      <th>close</th>\n      <th>adj_close</th>\n      <th>volume</th>\n      <th>pctc</th>\n      <th>cumprod</th>\n      <th>index</th>\n      <th>...</th>\n      <th>KCUe_4_2</th>\n      <th>ADX_4</th>\n      <th>DMP_4</th>\n      <th>DMN_4</th>\n      <th>QS_4</th>\n      <th>ROC_4</th>\n      <th>STDEV_4</th>\n      <th>PVOL</th>\n      <th>EFI_4</th>\n      <th>period</th>\n    </tr>\n  </thead>\n  <tbody>\n    <tr>\n      <th>0</th>\n      <td>2010-01-04</td>\n      <td>1116.560059</td>\n      <td>1133.869995</td>\n      <td>1116.560059</td>\n      <td>1132.989990</td>\n      <td>1132.989990</td>\n      <td>3991400000</td>\n      <td>0.016043</td>\n      <td>10.015052</td>\n      <td>0</td>\n      <td>...</td>\n      <td>1150.908327</td>\n      <td>31.353875</td>\n      <td>25.824193</td>\n      <td>20.473821</td>\n      <td>0.867462</td>\n      <td>0.461966</td>\n      <td>7.420261</td>\n      <td>4.522216e+12</td>\n      <td>2.361978e+10</td>\n      <td>0</td>\n    </tr>\n    <tr>\n      <th>1</th>\n      <td>2010-01-05</td>\n      <td>1132.660034</td>\n      <td>1136.630005</td>\n      <td>1129.660034</td>\n      <td>1136.520020</td>\n      <td>1136.520020</td>\n      <td>2491020000</td>\n      <td>0.003116</td>\n      <td>10.357824</td>\n      <td>0</td>\n      <td>...</td>\n      <td>1150.728981</td>\n      <td>29.868441</td>\n      <td>28.282059</td>\n      <td>16.820527</td>\n      <td>2.419983</td>\n      <td>0.916362</td>\n      <td>9.419172</td>\n      <td>2.831094e+12</td>\n      <td>1.768922e+10</td>\n      <td>0</td>\n    </tr>\n    <tr>\n      <th>2</th>\n      <td>2010-01-06</td>\n      <td>1135.709961</td>\n      <td>1139.189941</td>\n      <td>1133.949951</td>\n      <td>1137.140015</td>\n      <td>1137.140015</td>\n      <td>4972660000</td>\n      <td>0.000546</td>\n      <td>10.418026</td>\n      <td>0</td>\n      <td>...</td>\n      <td>1149.485386</td>\n      <td>31.780718</td>\n      <td>31.403334</td>\n      <td>14.268415</td>\n      <td>2.554993</td>\n      <td>0.951685</td>\n      <td>10.387101</td>\n      <td>5.654611e+12</td>\n      <td>1.184674e+10</td>\n      <td>0</td>\n    </tr>\n    <tr>\n      <th>3</th>\n      <td>2010-01-07</td>\n      <td>1136.270020</td>\n      <td>1142.459961</td>\n      <td>1131.319946</td>\n      <td>1141.689941</td>\n      <td>1141.689941</td>\n      <td>5270680000</td>\n      <td>0.004001</td>\n      <td>10.859831</td>\n      <td>0</td>\n      <td>...</td>\n      <td>1155.279220</td>\n      <td>36.597717</td>\n      <td>30.786961</td>\n      <td>9.977320</td>\n      <td>6.784973</td>\n      <td>2.384536</td>\n      <td>3.572899</td>\n      <td>6.017482e+12</td>\n      <td>1.670053e+10</td>\n      <td>0</td>\n    </tr>\n    <tr>\n      <th>4</th>\n      <td>2010-01-08</td>\n      <td>1140.520020</td>\n      <td>1145.390015</td>\n      <td>1136.219971</td>\n      <td>1144.979980</td>\n      <td>1144.979980</td>\n      <td>4389590000</td>\n      <td>0.002882</td>\n      <td>11.179299</td>\n      <td>0</td>\n      <td>...</td>\n      <td>1158.495559</td>\n      <td>42.725905</td>\n      <td>31.076194</td>\n      <td>7.501304</td>\n      <td>3.792480</td>\n      <td>1.058261</td>\n      <td>3.996610</td>\n      <td>5.025993e+12</td>\n      <td>1.579709e+10</td>\n      <td>0</td>\n    </tr>\n    <tr>\n      <th>...</th>\n      <td>...</td>\n      <td>...</td>\n      <td>...</td>\n      <td>...</td>\n      <td>...</td>\n      <td>...</td>\n      <td>...</td>\n      <td>...</td>\n      <td>...</td>\n      <td>...</td>\n      <td>...</td>\n      <td>...</td>\n      <td>...</td>\n      <td>...</td>\n      <td>...</td>\n      <td>...</td>\n      <td>...</td>\n      <td>...</td>\n      <td>...</td>\n      <td>...</td>\n      <td>...</td>\n    </tr>\n    <tr>\n      <th>1543</th>\n      <td>2021-02-19</td>\n      <td>3921.159912</td>\n      <td>3930.409912</td>\n      <td>3903.070068</td>\n      <td>3906.709961</td>\n      <td>3906.709961</td>\n      <td>4823940000</td>\n      <td>-0.001855</td>\n      <td>279.347483</td>\n      <td>202</td>\n      <td>...</td>\n      <td>3982.632760</td>\n      <td>23.129607</td>\n      <td>18.546906</td>\n      <td>22.084783</td>\n      <td>-2.632507</td>\n      <td>-0.714646</td>\n      <td>12.839745</td>\n      <td>1.884573e+13</td>\n      <td>-2.929479e+10</td>\n      <td>203</td>\n    </tr>\n    <tr>\n      <th>1544</th>\n      <td>2021-02-22</td>\n      <td>3885.550049</td>\n      <td>3902.919922</td>\n      <td>3874.709961</td>\n      <td>3876.500000</td>\n      <td>3876.500000</td>\n      <td>5870190000</td>\n      <td>-0.007733</td>\n      <td>276.414050</td>\n      <td>202</td>\n      <td>...</td>\n      <td>3965.779656</td>\n      <td>28.721357</td>\n      <td>14.163767</td>\n      <td>37.810126</td>\n      <td>-3.140015</td>\n      <td>-1.426289</td>\n      <td>22.882324</td>\n      <td>2.275579e+13</td>\n      <td>-8.851216e+10</td>\n      <td>203</td>\n    </tr>\n    <tr>\n      <th>1545</th>\n      <td>2021-02-23</td>\n      <td>3857.070068</td>\n      <td>3895.979980</td>\n      <td>3805.590088</td>\n      <td>3881.370117</td>\n      <td>3881.370117</td>\n      <td>6280650000</td>\n      <td>0.001256</td>\n      <td>276.886946</td>\n      <td>202</td>\n      <td>...</td>\n      <td>4004.327754</td>\n      <td>40.641218</td>\n      <td>7.493794</td>\n      <td>56.015092</td>\n      <td>-0.272522</td>\n      <td>-1.270816</td>\n      <td>18.479548</td>\n      <td>2.437753e+13</td>\n      <td>-4.087229e+10</td>\n      <td>203</td>\n    </tr>\n    <tr>\n      <th>1546</th>\n      <td>2021-02-24</td>\n      <td>3873.709961</td>\n      <td>3928.649902</td>\n      <td>3859.600098</td>\n      <td>3925.429932</td>\n      <td>3925.429932</td>\n      <td>5942350000</td>\n      <td>0.011352</td>\n      <td>281.165221</td>\n      <td>202</td>\n      <td>...</td>\n      <td>4028.008469</td>\n      <td>37.971154</td>\n      <td>20.401993</td>\n      <td>37.856926</td>\n      <td>13.130005</td>\n      <td>0.292796</td>\n      <td>22.847885</td>\n      <td>2.332628e+13</td>\n      <td>8.020416e+10</td>\n      <td>203</td>\n    </tr>\n    <tr>\n      <th>1547</th>\n      <td>2021-02-25</td>\n      <td>3915.800049</td>\n      <td>3925.020020</td>\n      <td>3814.040039</td>\n      <td>3829.340088</td>\n      <td>3829.340088</td>\n      <td>6513060000</td>\n      <td>-0.024479</td>\n      <td>271.834751</td>\n      <td>202</td>\n      <td>...</td>\n      <td>4037.653031</td>\n      <td>41.723015</td>\n      <td>12.020612</td>\n      <td>39.107644</td>\n      <td>-4.872498</td>\n      <td>-1.980436</td>\n      <td>39.289060</td>\n      <td>2.494072e+13</td>\n      <td>-2.022131e+11</td>\n      <td>203</td>\n    </tr>\n  </tbody>\n</table>\n<p>1548 rows × 32 columns</p>\n</div>"
     },
     "metadata": {},
     "execution_count": 39
    }
   ],
   "source": [
    "j0 = get_daily_j()\n",
    "j0"
   ]
  },
  {
   "cell_type": "code",
   "execution_count": 40,
   "metadata": {},
   "outputs": [
    {
     "output_type": "execute_result",
     "data": {
      "text/plain": [
       "       adj_close_mean  adj_close_min  adj_close_max  adj_close_std  \\\n",
       "index                                                                \n",
       "0         1117.958819    1073.869995    1148.459961      26.421105   \n",
       "1         1102.151672    1094.599976    1109.170044       6.659604   \n",
       "2         1144.857125    1138.500000    1150.510010       5.561631   \n",
       "3         1171.056661    1165.729980    1178.099976       4.693781   \n",
       "4         1206.378769    1192.130005    1217.280029       8.041429   \n",
       "...               ...            ...            ...            ...   \n",
       "198       3664.177141    3621.629883    3699.120117      27.395279   \n",
       "199       3701.189982    3687.260010    3722.479980      13.286670   \n",
       "200       3793.880005    3748.139893    3824.679932      24.318272   \n",
       "201       3810.102241    3714.239990    3886.830078      57.503394   \n",
       "202       3899.655029    3829.340088    3932.590088      35.499993   \n",
       "\n",
       "       adj_close_diff_mean  adj_close_diff_min  adj_close_diff_max  \\\n",
       "index                                                                \n",
       "0                -2.231873          -51.679932           15.319946   \n",
       "1                -0.054004          -13.410034            7.239990   \n",
       "2                 1.968343           -0.250000            5.160034   \n",
       "3                 2.473999           -3.839966            8.669922   \n",
       "4                 0.947144          -19.540039            9.650024   \n",
       "...                    ...                 ...                 ...   \n",
       "198               8.934977          -16.720215           40.820068   \n",
       "199              -3.883984          -14.489990           13.050049   \n",
       "200               2.872872          -27.290039           55.650146   \n",
       "201               4.651245          -98.850098           59.620117   \n",
       "202             -14.750000          -96.089844           44.059814   \n",
       "\n",
       "       adj_close_diff_std  pct_chng_mean  pct_chng_min  ...  SMA_5_std  \\\n",
       "index                                                   ...              \n",
       "0               15.609487      -0.001797     -0.044999  ...  22.313597   \n",
       "1                8.077189      -0.000023     -0.012103  ...   0.022047   \n",
       "2                2.407981       0.001477     -0.000217  ...   1.824705   \n",
       "3                5.099230       0.001767     -0.003273  ...   1.010006   \n",
       "4                9.847569       0.000708     -0.016127  ...   1.478671   \n",
       "...                   ...            ...           ...  ...        ...   \n",
       "198             22.874250       0.002106     -0.004596  ...  10.204923   \n",
       "199             11.639377      -0.000868     -0.003906  ...   1.585630   \n",
       "200             29.242114       0.000692     -0.007190  ...   5.398378   \n",
       "201             59.238297       0.001165     -0.025678  ...  21.810151   \n",
       "202             42.707564      -0.003274     -0.024479  ...  10.187142   \n",
       "\n",
       "       log_ret_mean  log_ret_min  log_ret_max  log_ret_std  cumprod_last  \\\n",
       "index                                                                      \n",
       "0         -0.001884    -0.046043     0.014165     0.013550     -0.031518   \n",
       "1         -0.000041    -0.012177     0.006563     0.006559     -0.000247   \n",
       "2          0.001474    -0.000217     0.004514     0.002027      0.010372   \n",
       "3          0.001759    -0.003278     0.007386     0.003985      0.010611   \n",
       "4          0.000683    -0.016258     0.008026     0.007584      0.005476   \n",
       "...             ...          ...          ...          ...           ...   \n",
       "198        0.002090    -0.004606     0.011208     0.005788      0.014735   \n",
       "199       -0.000872    -0.003914     0.003530     0.002845     -0.005217   \n",
       "200        0.000669    -0.007216     0.014738     0.007156      0.005365   \n",
       "201        0.001069    -0.026013     0.015924     0.014653      0.009666   \n",
       "202       -0.003326    -0.024783     0.011288     0.010269     -0.026255   \n",
       "\n",
       "       mom_cumprod_last  rev_cumprod_last  log_ret_last  label  \n",
       "index                                                           \n",
       "0              0.243288         -0.091266     -0.005489    1.0  \n",
       "1             -0.018453          0.008946     -0.012177   -1.0  \n",
       "2              0.028983          0.024699      0.000452    1.0  \n",
       "3             -0.003910          0.007974      0.007386   -1.0  \n",
       "4              0.050101          0.081350      0.007098    0.0  \n",
       "...                 ...               ...           ...    ...  \n",
       "198            0.018808          0.056643     -0.001938    0.0  \n",
       "199           -0.014992          0.014198      0.003530   -1.0  \n",
       "200            0.068527          0.054902     -0.007216    1.0  \n",
       "201            0.013788          0.042195      0.003890    0.0  \n",
       "202            0.056494         -0.026659     -0.024783    1.0  \n",
       "\n",
       "[203 rows x 97 columns]"
      ],
      "text/html": "<div>\n<style scoped>\n    .dataframe tbody tr th:only-of-type {\n        vertical-align: middle;\n    }\n\n    .dataframe tbody tr th {\n        vertical-align: top;\n    }\n\n    .dataframe thead th {\n        text-align: right;\n    }\n</style>\n<table border=\"1\" class=\"dataframe\">\n  <thead>\n    <tr style=\"text-align: right;\">\n      <th></th>\n      <th>adj_close_mean</th>\n      <th>adj_close_min</th>\n      <th>adj_close_max</th>\n      <th>adj_close_std</th>\n      <th>adj_close_diff_mean</th>\n      <th>adj_close_diff_min</th>\n      <th>adj_close_diff_max</th>\n      <th>adj_close_diff_std</th>\n      <th>pct_chng_mean</th>\n      <th>pct_chng_min</th>\n      <th>...</th>\n      <th>SMA_5_std</th>\n      <th>log_ret_mean</th>\n      <th>log_ret_min</th>\n      <th>log_ret_max</th>\n      <th>log_ret_std</th>\n      <th>cumprod_last</th>\n      <th>mom_cumprod_last</th>\n      <th>rev_cumprod_last</th>\n      <th>log_ret_last</th>\n      <th>label</th>\n    </tr>\n    <tr>\n      <th>index</th>\n      <th></th>\n      <th></th>\n      <th></th>\n      <th></th>\n      <th></th>\n      <th></th>\n      <th></th>\n      <th></th>\n      <th></th>\n      <th></th>\n      <th></th>\n      <th></th>\n      <th></th>\n      <th></th>\n      <th></th>\n      <th></th>\n      <th></th>\n      <th></th>\n      <th></th>\n      <th></th>\n      <th></th>\n    </tr>\n  </thead>\n  <tbody>\n    <tr>\n      <th>0</th>\n      <td>1117.958819</td>\n      <td>1073.869995</td>\n      <td>1148.459961</td>\n      <td>26.421105</td>\n      <td>-2.231873</td>\n      <td>-51.679932</td>\n      <td>15.319946</td>\n      <td>15.609487</td>\n      <td>-0.001797</td>\n      <td>-0.044999</td>\n      <td>...</td>\n      <td>22.313597</td>\n      <td>-0.001884</td>\n      <td>-0.046043</td>\n      <td>0.014165</td>\n      <td>0.013550</td>\n      <td>-0.031518</td>\n      <td>0.243288</td>\n      <td>-0.091266</td>\n      <td>-0.005489</td>\n      <td>1.0</td>\n    </tr>\n    <tr>\n      <th>1</th>\n      <td>1102.151672</td>\n      <td>1094.599976</td>\n      <td>1109.170044</td>\n      <td>6.659604</td>\n      <td>-0.054004</td>\n      <td>-13.410034</td>\n      <td>7.239990</td>\n      <td>8.077189</td>\n      <td>-0.000023</td>\n      <td>-0.012103</td>\n      <td>...</td>\n      <td>0.022047</td>\n      <td>-0.000041</td>\n      <td>-0.012177</td>\n      <td>0.006563</td>\n      <td>0.006559</td>\n      <td>-0.000247</td>\n      <td>-0.018453</td>\n      <td>0.008946</td>\n      <td>-0.012177</td>\n      <td>-1.0</td>\n    </tr>\n    <tr>\n      <th>2</th>\n      <td>1144.857125</td>\n      <td>1138.500000</td>\n      <td>1150.510010</td>\n      <td>5.561631</td>\n      <td>1.968343</td>\n      <td>-0.250000</td>\n      <td>5.160034</td>\n      <td>2.407981</td>\n      <td>0.001477</td>\n      <td>-0.000217</td>\n      <td>...</td>\n      <td>1.824705</td>\n      <td>0.001474</td>\n      <td>-0.000217</td>\n      <td>0.004514</td>\n      <td>0.002027</td>\n      <td>0.010372</td>\n      <td>0.028983</td>\n      <td>0.024699</td>\n      <td>0.000452</td>\n      <td>1.0</td>\n    </tr>\n    <tr>\n      <th>3</th>\n      <td>1171.056661</td>\n      <td>1165.729980</td>\n      <td>1178.099976</td>\n      <td>4.693781</td>\n      <td>2.473999</td>\n      <td>-3.839966</td>\n      <td>8.669922</td>\n      <td>5.099230</td>\n      <td>0.001767</td>\n      <td>-0.003273</td>\n      <td>...</td>\n      <td>1.010006</td>\n      <td>0.001759</td>\n      <td>-0.003278</td>\n      <td>0.007386</td>\n      <td>0.003985</td>\n      <td>0.010611</td>\n      <td>-0.003910</td>\n      <td>0.007974</td>\n      <td>0.007386</td>\n      <td>-1.0</td>\n    </tr>\n    <tr>\n      <th>4</th>\n      <td>1206.378769</td>\n      <td>1192.130005</td>\n      <td>1217.280029</td>\n      <td>8.041429</td>\n      <td>0.947144</td>\n      <td>-19.540039</td>\n      <td>9.650024</td>\n      <td>9.847569</td>\n      <td>0.000708</td>\n      <td>-0.016127</td>\n      <td>...</td>\n      <td>1.478671</td>\n      <td>0.000683</td>\n      <td>-0.016258</td>\n      <td>0.008026</td>\n      <td>0.007584</td>\n      <td>0.005476</td>\n      <td>0.050101</td>\n      <td>0.081350</td>\n      <td>0.007098</td>\n      <td>0.0</td>\n    </tr>\n    <tr>\n      <th>...</th>\n      <td>...</td>\n      <td>...</td>\n      <td>...</td>\n      <td>...</td>\n      <td>...</td>\n      <td>...</td>\n      <td>...</td>\n      <td>...</td>\n      <td>...</td>\n      <td>...</td>\n      <td>...</td>\n      <td>...</td>\n      <td>...</td>\n      <td>...</td>\n      <td>...</td>\n      <td>...</td>\n      <td>...</td>\n      <td>...</td>\n      <td>...</td>\n      <td>...</td>\n      <td>...</td>\n    </tr>\n    <tr>\n      <th>198</th>\n      <td>3664.177141</td>\n      <td>3621.629883</td>\n      <td>3699.120117</td>\n      <td>27.395279</td>\n      <td>8.934977</td>\n      <td>-16.720215</td>\n      <td>40.820068</td>\n      <td>22.874250</td>\n      <td>0.002106</td>\n      <td>-0.004596</td>\n      <td>...</td>\n      <td>10.204923</td>\n      <td>0.002090</td>\n      <td>-0.004606</td>\n      <td>0.011208</td>\n      <td>0.005788</td>\n      <td>0.014735</td>\n      <td>0.018808</td>\n      <td>0.056643</td>\n      <td>-0.001938</td>\n      <td>0.0</td>\n    </tr>\n    <tr>\n      <th>199</th>\n      <td>3701.189982</td>\n      <td>3687.260010</td>\n      <td>3722.479980</td>\n      <td>13.286670</td>\n      <td>-3.883984</td>\n      <td>-14.489990</td>\n      <td>13.050049</td>\n      <td>11.639377</td>\n      <td>-0.000868</td>\n      <td>-0.003906</td>\n      <td>...</td>\n      <td>1.585630</td>\n      <td>-0.000872</td>\n      <td>-0.003914</td>\n      <td>0.003530</td>\n      <td>0.002845</td>\n      <td>-0.005217</td>\n      <td>-0.014992</td>\n      <td>0.014198</td>\n      <td>0.003530</td>\n      <td>-1.0</td>\n    </tr>\n    <tr>\n      <th>200</th>\n      <td>3793.880005</td>\n      <td>3748.139893</td>\n      <td>3824.679932</td>\n      <td>24.318272</td>\n      <td>2.872872</td>\n      <td>-27.290039</td>\n      <td>55.650146</td>\n      <td>29.242114</td>\n      <td>0.000692</td>\n      <td>-0.007190</td>\n      <td>...</td>\n      <td>5.398378</td>\n      <td>0.000669</td>\n      <td>-0.007216</td>\n      <td>0.014738</td>\n      <td>0.007156</td>\n      <td>0.005365</td>\n      <td>0.068527</td>\n      <td>0.054902</td>\n      <td>-0.007216</td>\n      <td>1.0</td>\n    </tr>\n    <tr>\n      <th>201</th>\n      <td>3810.102241</td>\n      <td>3714.239990</td>\n      <td>3886.830078</td>\n      <td>57.503394</td>\n      <td>4.651245</td>\n      <td>-98.850098</td>\n      <td>59.620117</td>\n      <td>59.238297</td>\n      <td>0.001165</td>\n      <td>-0.025678</td>\n      <td>...</td>\n      <td>21.810151</td>\n      <td>0.001069</td>\n      <td>-0.026013</td>\n      <td>0.015924</td>\n      <td>0.014653</td>\n      <td>0.009666</td>\n      <td>0.013788</td>\n      <td>0.042195</td>\n      <td>0.003890</td>\n      <td>0.0</td>\n    </tr>\n    <tr>\n      <th>202</th>\n      <td>3899.655029</td>\n      <td>3829.340088</td>\n      <td>3932.590088</td>\n      <td>35.499993</td>\n      <td>-14.750000</td>\n      <td>-96.089844</td>\n      <td>44.059814</td>\n      <td>42.707564</td>\n      <td>-0.003274</td>\n      <td>-0.024479</td>\n      <td>...</td>\n      <td>10.187142</td>\n      <td>-0.003326</td>\n      <td>-0.024783</td>\n      <td>0.011288</td>\n      <td>0.010269</td>\n      <td>-0.026255</td>\n      <td>0.056494</td>\n      <td>-0.026659</td>\n      <td>-0.024783</td>\n      <td>1.0</td>\n    </tr>\n  </tbody>\n</table>\n<p>203 rows × 97 columns</p>\n</div>"
     },
     "metadata": {},
     "execution_count": 40
    }
   ],
   "source": [
    "def featurize(inputdf):\n",
    "    df_ = inputdf.copy()\n",
    "    df_['log_ret'] = np.log(df_['adj_close']) - np.log(df_['adj_close'].shift(1))\n",
    "    df_['log_ret'] = df_['log_ret'].fillna(0)\n",
    "    df_['adj_close_diff'] = df_['adj_close'].diff()\n",
    "    df_['pctc'] = df_['adj_close'].pct_change().fillna(0)\n",
    "\n",
    "    # df_['shifted_mom_pct_change'] = df_.mom_pct_change.shift()\n",
    "    # df_['shifted_rev_pct_change'] = df_.rev_pct_change.shift()\n",
    "    # df_['shifted_sp_pct_change'] = df_.pctc.shift()\n",
    "\n",
    "    df_['cumprod'] = (df_['pctc']+1).cumprod()-1\n",
    "    df_['mom_cumprod'] = (df_['mom_pct_change']+1).cumprod()-1\n",
    "    df_['rev_cumprod'] = (df_['rev_pct_change']+1).cumprod()-1\n",
    "    df_['SMA_5'] = df_['adj_close'].rolling(window=5).mean().fillna(method='bfill').fillna(0) #NOTE: changed from 10 to 5\n",
    "    def label(mom_pct_ret,rev_pct_ret):\n",
    "        if(mom_pct_ret > 0 and mom_pct_ret >= rev_pct_ret):\n",
    "            return 1\n",
    "        elif(mom_pct_ret < rev_pct_ret and rev_pct_ret > 0):\n",
    "            return -1\n",
    "        else:\n",
    "            return 0\n",
    "\n",
    "    def label_condition(rsi):\n",
    "        if(rsi > 70.0):\n",
    "            return 'OVERBOUGHT'\n",
    "        elif(rsi < 30.0):\n",
    "            return 'OVERSOLD'\n",
    "        else:\n",
    "            return 'NEUTRAL'\n",
    "    # df_['movement'] = df_.apply(lambda x: label(x.mom_pct_change, x.rev_pct_change), axis=1).astype(int) # @amir i renamed your labels since i wasnt sure what this was\n",
    "    df_['condition_OVERBOUGHT'] = (df['RSI_4'] > 70).astype(int)\n",
    "    df_['condition_OVERSOLD'] = (df['RSI_4'] < 30).astype(int)\n",
    "    df_['condition_NEUTRAL'] = ((df['RSI_4'] >= 30) & (df['RSI_4'] <= 70)).astype(int)\n",
    "    label_value = 1 if df_.mom_cumprod.iloc[-1] > 0 and df_.mom_cumprod.iloc[-1] >= df_.rev_cumprod.iloc[-1] else -1 if df_.mom_cumprod.iloc[-1] < 0 and df_.rev_cumprod.iloc[-1] > 0 else 0 # returns the label value\n",
    "\n",
    "    feat_vector = df_.agg( # here's the feature vector, a real chonker\n",
    "        #encoded distribution information\n",
    "        adj_close_mean=('adj_close',np.mean),\n",
    "        adj_close_min =('adj_close',min),\n",
    "        adj_close_max =('adj_close',max),\n",
    "        adj_close_std =('adj_close',np.std),\n",
    "        adj_close_diff_mean=('adj_close_diff',np.mean),\n",
    "        adj_close_diff_min =('adj_close_diff',min),\n",
    "        adj_close_diff_max =('adj_close_diff',max),\n",
    "        adj_close_diff_std =('adj_close_diff',np.std),\n",
    "        pct_chng_mean=('pctc',np.mean),\n",
    "        pct_chng_min =('pctc',min),\n",
    "        pct_chng_max =('pctc',max),\n",
    "        pct_chng_std =('pctc',np.std),\n",
    "        volume_mean=('volume',np.mean),\n",
    "        volume_min =('volume',min),\n",
    "        volume_max =('volume',max),\n",
    "        volume_std =('volume',np.std),\n",
    "        KCBe_4_2_mean=('KCBe_4_2',np.mean),\n",
    "        KCBe_4_2_min =('KCBe_4_2',min),\n",
    "        KCBe_4_2_max =('KCBe_4_2',max),\n",
    "        KCBe_4_2_std =('KCBe_4_2',np.std),\n",
    "        CCI_mean=('CCI_4_0.015',np.mean),\n",
    "        CCI_min =('CCI_4_0.015',min),\n",
    "        CCI_max =('CCI_4_0.015',max),\n",
    "        CCI_std =('CCI_4_0.015',np.std),\n",
    "        K_4_3_mean=('K_4_3',np.mean),\n",
    "        K_4_3_min =('K_4_3',min),\n",
    "        K_4_3_max =('K_4_3',max),\n",
    "        K_4_3_std =('K_4_3',np.std),\n",
    "        D_4_3_mean=('D_4_3',np.mean),\n",
    "        D_4_3_min =('D_4_3',min),\n",
    "        D_4_3_max =('D_4_3',max),\n",
    "        D_4_3_std =('D_4_3',np.std),\n",
    "        J_4_3_mean=('J_4_3',np.mean),\n",
    "        J_4_3_min =('J_4_3',min),\n",
    "        J_4_3_max =('J_4_3',max),\n",
    "        J_4_3_std =('J_4_3',np.std),\n",
    "        RSI_4_mean=('RSI_4',np.mean),\n",
    "        RSI_4_min =('RSI_4',min),\n",
    "        RSI_4_max =('RSI_4',max),\n",
    "        RSI_4_std =('RSI_4',np.std),\n",
    "        BOP_mean=('BOP',np.mean),\n",
    "        BOP_min =('BOP',min),\n",
    "        BOP_max =('BOP',max),\n",
    "        BOP_std =('BOP',np.std),\n",
    "        PDIST_mean=('PDIST',np.mean),\n",
    "        PDIST_min =('PDIST',min),\n",
    "        PDIST_max =('PDIST',max),\n",
    "        PDIST_std =('PDIST',np.std),\n",
    "        KCLe_4_2_mean=('KCLe_4_2',np.mean),\n",
    "        KCLe_4_2_min =('KCLe_4_2',min),\n",
    "        KCLe_4_2_max =('KCLe_4_2',max),\n",
    "        KCLe_4_2_std =('KCLe_4_2',np.std),\n",
    "        ADX_4_mean=('ADX_4',np.mean),\n",
    "        ADX_4_min =('ADX_4',min),\n",
    "        ADX_4_max =('ADX_4',max),\n",
    "        ADX_4_std =('ADX_4',np.std),\n",
    "        DMP_4_mean=('DMP_4',np.mean),\n",
    "        DMP_4_min =('DMP_4',min),\n",
    "        DMP_4_max =('DMP_4',max),\n",
    "        DMP_4_std =('DMP_4',np.std),\n",
    "        DMN_4_mean=('DMN_4',np.mean),\n",
    "        DMN_4_min =('DMN_4',min),\n",
    "        DMN_4_max =('DMN_4',max),\n",
    "        DMN_4_std =('DMN_4',np.std),\n",
    "        QS_4_mean=('QS_4',np.mean),\n",
    "        QS_4_min =('QS_4',min),\n",
    "        QS_4_max =('QS_4',max),\n",
    "        QS_4_std =('QS_4',np.std),\n",
    "        ROC_4_mean=('ROC_4',np.mean),\n",
    "        ROC_4_min =('ROC_4',min),\n",
    "        ROC_4_max =('ROC_4',max),\n",
    "        ROC_4_std =('ROC_4',np.std),\n",
    "        STDEV_4_mean=('STDEV_4',np.mean),\n",
    "        STDEV_4_min =('STDEV_4',min),\n",
    "        STDEV_4_max =('STDEV_4',max),\n",
    "        STDEV_4_std =('STDEV_4',np.std),\n",
    "        PVOL_mean=('PVOL',np.mean),\n",
    "        PVOL_min =('PVOL',min),\n",
    "        PVOL_max =('PVOL',max),\n",
    "        PVOL_std =('PVOL',np.std),\n",
    "        EFI_4_mean=('EFI_4',np.mean),\n",
    "        EFI_4_min =('EFI_4',min),\n",
    "        EFI_4_max =('EFI_4',max),\n",
    "        EFI_4_std =('EFI_4',np.std),\n",
    "        SMA_5_mean=('SMA_5',np.mean),\n",
    "        SMA_5_min =('SMA_5',min),\n",
    "        SMA_5_max =('SMA_5',max),\n",
    "        SMA_5_std =('SMA_5',np.std),\n",
    "        log_ret_mean=('log_ret',np.mean),\n",
    "        log_ret_min =('log_ret',min),\n",
    "        log_ret_max =('log_ret',max),\n",
    "        log_ret_std =('log_ret',np.std),\n",
    "        # getting last values\n",
    "        cumprod_last=('cumprod', lambda x: x.iloc[-1]),\n",
    "        mom_cumprod_last=('mom_cumprod', lambda x: x.iloc[-1]),\n",
    "        rev_cumprod_last=('rev_cumprod', lambda x: x.iloc[-1]),\n",
    "        log_ret_last=('log_ret', lambda x: x.iloc[-1]),\n",
    "        #getting ratios. Watch for zero division errors.\n",
    "        # movement_sell_mom_ratio=('movement', lambda x: (x==0).sum()/(x==1).sum()),\n",
    "        # movement_rev_mom_ratio=('movement', lambda x: (x==-1).sum()/(x==1).sum()), # this breaks the function for some reason lol\n",
    "        ).stack()\n",
    "    feat_vector.index = feat_vector.index.droplevel(1) # dealing with multiindex shenanigans\n",
    "    feat_vector = feat_vector.append(pd.Series({'label':label_value}))\n",
    "    return feat_vector#, df_\n",
    "# featvect0, outputdf = featurize(j0)\n",
    "# featvect0\n",
    "features = j0.groupby('index').apply(featurize)\n",
    "features"
   ]
  },
  {
   "source": [
    "# train your models on this data ^^"
   ],
   "cell_type": "markdown",
   "metadata": {}
  },
  {
   "cell_type": "code",
   "execution_count": null,
   "metadata": {},
   "outputs": [],
   "source": []
  },
  {
   "cell_type": "code",
   "execution_count": null,
   "metadata": {},
   "outputs": [],
   "source": []
  },
  {
   "cell_type": "code",
   "execution_count": null,
   "metadata": {},
   "outputs": [],
   "source": []
  },
  {
   "cell_type": "code",
   "execution_count": null,
   "metadata": {},
   "outputs": [],
   "source": []
  },
  {
   "source": [
    "## --prototyping garbage below--"
   ],
   "cell_type": "markdown",
   "metadata": {}
  },
  {
   "cell_type": "code",
   "execution_count": 41,
   "metadata": {},
   "outputs": [
    {
     "output_type": "execute_result",
     "data": {
      "text/plain": [
       "Index(['date', 'open', 'high', 'low', 'close', 'adj_close', 'volume', 'pctc',\n",
       "       'cumprod', 'index', 'mom_pct_change', 'rev_pct_change', 'CCI_4_0.015',\n",
       "       'K_4_3', 'D_4_3', 'J_4_3', 'RSI_4', 'BOP', 'WILLR_4', 'PDIST',\n",
       "       'KCLe_4_2', 'KCBe_4_2', 'KCUe_4_2', 'ADX_4', 'DMP_4', 'DMN_4', 'QS_4',\n",
       "       'ROC_4', 'STDEV_4', 'PVOL', 'EFI_4', 'period'],\n",
       "      dtype='object')"
      ]
     },
     "metadata": {},
     "execution_count": 41
    }
   ],
   "source": [
    "j0.columns"
   ]
  },
  {
   "cell_type": "code",
   "execution_count": 42,
   "metadata": {},
   "outputs": [
    {
     "output_type": "execute_result",
     "data": {
      "text/plain": [
       "0       0.000000\n",
       "1       0.027465\n",
       "2       0.051667\n",
       "3       0.129314\n",
       "4       0.128945\n",
       "          ...   \n",
       "1543    5.875643\n",
       "1544    5.933768\n",
       "1545    5.976139\n",
       "1546    6.039251\n",
       "1547    5.875170\n",
       "Name: mom_pct_change, Length: 1548, dtype: float64"
      ]
     },
     "metadata": {},
     "execution_count": 42
    }
   ],
   "source": [
    "(j0.mom_pct_change+1).cumprod()-1"
   ]
  },
  {
   "cell_type": "code",
   "execution_count": 43,
   "metadata": {},
   "outputs": [
    {
     "output_type": "execute_result",
     "data": {
      "text/plain": [
       "           date         open         high          low        close  \\\n",
       "0    2010-01-04  1116.560059  1133.869995  1116.560059  1132.989990   \n",
       "1    2010-01-05  1132.660034  1136.630005  1129.660034  1136.520020   \n",
       "2    2010-01-06  1135.709961  1139.189941  1133.949951  1137.140015   \n",
       "3    2010-01-07  1136.270020  1142.459961  1131.319946  1141.689941   \n",
       "4    2010-01-08  1140.520020  1145.390015  1136.219971  1144.979980   \n",
       "...         ...          ...          ...          ...          ...   \n",
       "1543 2021-02-19  3921.159912  3930.409912  3903.070068  3906.709961   \n",
       "1544 2021-02-22  3885.550049  3902.919922  3874.709961  3876.500000   \n",
       "1545 2021-02-23  3857.070068  3895.979980  3805.590088  3881.370117   \n",
       "1546 2021-02-24  3873.709961  3928.649902  3859.600098  3925.429932   \n",
       "1547 2021-02-25  3915.800049  3925.020020  3814.040039  3829.340088   \n",
       "\n",
       "        adj_close      volume      pctc   cumprod  index  ...  adj_close_diff  \\\n",
       "0     1132.989990  3991400000  0.000000  0.000000      0  ...             NaN   \n",
       "1     1136.520020  2491020000  0.003116  0.003116      0  ...        3.530029   \n",
       "2     1137.140015  4972660000  0.000546  0.003663      0  ...        0.619995   \n",
       "3     1141.689941  5270680000  0.004001  0.007679      0  ...        4.549927   \n",
       "4     1144.979980  4389590000  0.002882  0.010583      0  ...        3.290039   \n",
       "...           ...         ...       ...       ...    ...  ...             ...   \n",
       "1543  3906.709961  4823940000 -0.001855  2.448142    202  ...       -7.260010   \n",
       "1544  3876.500000  5870190000 -0.007733  2.421478    202  ...      -30.209961   \n",
       "1545  3881.370117  6280650000  0.001256  2.425776    202  ...        4.870117   \n",
       "1546  3925.429932  5942350000  0.011352  2.464664    202  ...       44.059814   \n",
       "1547  3829.340088  6513060000 -0.024479  2.379853    202  ...      -96.089844   \n",
       "\n",
       "      shifted_mom_pct_change  shifted_rev_pct_change  shifted_sp_pct_change  \\\n",
       "0                        NaN                     NaN                    NaN   \n",
       "1                   0.000000                0.000000               0.016043   \n",
       "2                   0.027465               -0.004083               0.003116   \n",
       "3                   0.023555               -0.018759               0.000546   \n",
       "4                   0.073832               -0.004437               0.004001   \n",
       "...                      ...                     ...                    ...   \n",
       "1543               -0.007920                0.010172              -0.000026   \n",
       "1544                0.039814                0.034922               0.014454   \n",
       "1545               -0.020697               -0.015391              -0.012454   \n",
       "1546                0.008912                0.024929               0.004440   \n",
       "1547                0.009054                0.018179               0.011348   \n",
       "\n",
       "      mom_cumprod  rev_cumprod  label  condition_OVERBOUGHT  \\\n",
       "0        0.000000     0.000000      0                     0   \n",
       "1        0.027465    -0.004083      0                     1   \n",
       "2        0.051667    -0.022766      1                     1   \n",
       "3        0.129314    -0.027102      1                     1   \n",
       "4        0.128945    -0.041748      1                     1   \n",
       "...           ...          ...    ...                   ...   \n",
       "1543     5.875643     4.149202     -1                     1   \n",
       "1544     5.933768     4.177461      1                     0   \n",
       "1545     5.976139     4.135295      0                     0   \n",
       "1546     6.039251     4.183449     -1                     1   \n",
       "1547     5.875170     4.038416     -1                     0   \n",
       "\n",
       "      condition_OVERSOLD  condition_NEUTRAL  \n",
       "0                      0                  1  \n",
       "1                      0                  0  \n",
       "2                      0                  0  \n",
       "3                      0                  0  \n",
       "4                      0                  0  \n",
       "...                  ...                ...  \n",
       "1543                   0                  0  \n",
       "1544                   0                  1  \n",
       "1545                   0                  1  \n",
       "1546                   0                  0  \n",
       "1547                   0                  1  \n",
       "\n",
       "[1548 rows x 43 columns]"
      ],
      "text/html": "<div>\n<style scoped>\n    .dataframe tbody tr th:only-of-type {\n        vertical-align: middle;\n    }\n\n    .dataframe tbody tr th {\n        vertical-align: top;\n    }\n\n    .dataframe thead th {\n        text-align: right;\n    }\n</style>\n<table border=\"1\" class=\"dataframe\">\n  <thead>\n    <tr style=\"text-align: right;\">\n      <th></th>\n      <th>date</th>\n      <th>open</th>\n      <th>high</th>\n      <th>low</th>\n      <th>close</th>\n      <th>adj_close</th>\n      <th>volume</th>\n      <th>pctc</th>\n      <th>cumprod</th>\n      <th>index</th>\n      <th>...</th>\n      <th>adj_close_diff</th>\n      <th>shifted_mom_pct_change</th>\n      <th>shifted_rev_pct_change</th>\n      <th>shifted_sp_pct_change</th>\n      <th>mom_cumprod</th>\n      <th>rev_cumprod</th>\n      <th>label</th>\n      <th>condition_OVERBOUGHT</th>\n      <th>condition_OVERSOLD</th>\n      <th>condition_NEUTRAL</th>\n    </tr>\n  </thead>\n  <tbody>\n    <tr>\n      <th>0</th>\n      <td>2010-01-04</td>\n      <td>1116.560059</td>\n      <td>1133.869995</td>\n      <td>1116.560059</td>\n      <td>1132.989990</td>\n      <td>1132.989990</td>\n      <td>3991400000</td>\n      <td>0.000000</td>\n      <td>0.000000</td>\n      <td>0</td>\n      <td>...</td>\n      <td>NaN</td>\n      <td>NaN</td>\n      <td>NaN</td>\n      <td>NaN</td>\n      <td>0.000000</td>\n      <td>0.000000</td>\n      <td>0</td>\n      <td>0</td>\n      <td>0</td>\n      <td>1</td>\n    </tr>\n    <tr>\n      <th>1</th>\n      <td>2010-01-05</td>\n      <td>1132.660034</td>\n      <td>1136.630005</td>\n      <td>1129.660034</td>\n      <td>1136.520020</td>\n      <td>1136.520020</td>\n      <td>2491020000</td>\n      <td>0.003116</td>\n      <td>0.003116</td>\n      <td>0</td>\n      <td>...</td>\n      <td>3.530029</td>\n      <td>0.000000</td>\n      <td>0.000000</td>\n      <td>0.016043</td>\n      <td>0.027465</td>\n      <td>-0.004083</td>\n      <td>0</td>\n      <td>1</td>\n      <td>0</td>\n      <td>0</td>\n    </tr>\n    <tr>\n      <th>2</th>\n      <td>2010-01-06</td>\n      <td>1135.709961</td>\n      <td>1139.189941</td>\n      <td>1133.949951</td>\n      <td>1137.140015</td>\n      <td>1137.140015</td>\n      <td>4972660000</td>\n      <td>0.000546</td>\n      <td>0.003663</td>\n      <td>0</td>\n      <td>...</td>\n      <td>0.619995</td>\n      <td>0.027465</td>\n      <td>-0.004083</td>\n      <td>0.003116</td>\n      <td>0.051667</td>\n      <td>-0.022766</td>\n      <td>1</td>\n      <td>1</td>\n      <td>0</td>\n      <td>0</td>\n    </tr>\n    <tr>\n      <th>3</th>\n      <td>2010-01-07</td>\n      <td>1136.270020</td>\n      <td>1142.459961</td>\n      <td>1131.319946</td>\n      <td>1141.689941</td>\n      <td>1141.689941</td>\n      <td>5270680000</td>\n      <td>0.004001</td>\n      <td>0.007679</td>\n      <td>0</td>\n      <td>...</td>\n      <td>4.549927</td>\n      <td>0.023555</td>\n      <td>-0.018759</td>\n      <td>0.000546</td>\n      <td>0.129314</td>\n      <td>-0.027102</td>\n      <td>1</td>\n      <td>1</td>\n      <td>0</td>\n      <td>0</td>\n    </tr>\n    <tr>\n      <th>4</th>\n      <td>2010-01-08</td>\n      <td>1140.520020</td>\n      <td>1145.390015</td>\n      <td>1136.219971</td>\n      <td>1144.979980</td>\n      <td>1144.979980</td>\n      <td>4389590000</td>\n      <td>0.002882</td>\n      <td>0.010583</td>\n      <td>0</td>\n      <td>...</td>\n      <td>3.290039</td>\n      <td>0.073832</td>\n      <td>-0.004437</td>\n      <td>0.004001</td>\n      <td>0.128945</td>\n      <td>-0.041748</td>\n      <td>1</td>\n      <td>1</td>\n      <td>0</td>\n      <td>0</td>\n    </tr>\n    <tr>\n      <th>...</th>\n      <td>...</td>\n      <td>...</td>\n      <td>...</td>\n      <td>...</td>\n      <td>...</td>\n      <td>...</td>\n      <td>...</td>\n      <td>...</td>\n      <td>...</td>\n      <td>...</td>\n      <td>...</td>\n      <td>...</td>\n      <td>...</td>\n      <td>...</td>\n      <td>...</td>\n      <td>...</td>\n      <td>...</td>\n      <td>...</td>\n      <td>...</td>\n      <td>...</td>\n      <td>...</td>\n    </tr>\n    <tr>\n      <th>1543</th>\n      <td>2021-02-19</td>\n      <td>3921.159912</td>\n      <td>3930.409912</td>\n      <td>3903.070068</td>\n      <td>3906.709961</td>\n      <td>3906.709961</td>\n      <td>4823940000</td>\n      <td>-0.001855</td>\n      <td>2.448142</td>\n      <td>202</td>\n      <td>...</td>\n      <td>-7.260010</td>\n      <td>-0.007920</td>\n      <td>0.010172</td>\n      <td>-0.000026</td>\n      <td>5.875643</td>\n      <td>4.149202</td>\n      <td>-1</td>\n      <td>1</td>\n      <td>0</td>\n      <td>0</td>\n    </tr>\n    <tr>\n      <th>1544</th>\n      <td>2021-02-22</td>\n      <td>3885.550049</td>\n      <td>3902.919922</td>\n      <td>3874.709961</td>\n      <td>3876.500000</td>\n      <td>3876.500000</td>\n      <td>5870190000</td>\n      <td>-0.007733</td>\n      <td>2.421478</td>\n      <td>202</td>\n      <td>...</td>\n      <td>-30.209961</td>\n      <td>0.039814</td>\n      <td>0.034922</td>\n      <td>0.014454</td>\n      <td>5.933768</td>\n      <td>4.177461</td>\n      <td>1</td>\n      <td>0</td>\n      <td>0</td>\n      <td>1</td>\n    </tr>\n    <tr>\n      <th>1545</th>\n      <td>2021-02-23</td>\n      <td>3857.070068</td>\n      <td>3895.979980</td>\n      <td>3805.590088</td>\n      <td>3881.370117</td>\n      <td>3881.370117</td>\n      <td>6280650000</td>\n      <td>0.001256</td>\n      <td>2.425776</td>\n      <td>202</td>\n      <td>...</td>\n      <td>4.870117</td>\n      <td>-0.020697</td>\n      <td>-0.015391</td>\n      <td>-0.012454</td>\n      <td>5.976139</td>\n      <td>4.135295</td>\n      <td>0</td>\n      <td>0</td>\n      <td>0</td>\n      <td>1</td>\n    </tr>\n    <tr>\n      <th>1546</th>\n      <td>2021-02-24</td>\n      <td>3873.709961</td>\n      <td>3928.649902</td>\n      <td>3859.600098</td>\n      <td>3925.429932</td>\n      <td>3925.429932</td>\n      <td>5942350000</td>\n      <td>0.011352</td>\n      <td>2.464664</td>\n      <td>202</td>\n      <td>...</td>\n      <td>44.059814</td>\n      <td>0.008912</td>\n      <td>0.024929</td>\n      <td>0.004440</td>\n      <td>6.039251</td>\n      <td>4.183449</td>\n      <td>-1</td>\n      <td>1</td>\n      <td>0</td>\n      <td>0</td>\n    </tr>\n    <tr>\n      <th>1547</th>\n      <td>2021-02-25</td>\n      <td>3915.800049</td>\n      <td>3925.020020</td>\n      <td>3814.040039</td>\n      <td>3829.340088</td>\n      <td>3829.340088</td>\n      <td>6513060000</td>\n      <td>-0.024479</td>\n      <td>2.379853</td>\n      <td>202</td>\n      <td>...</td>\n      <td>-96.089844</td>\n      <td>0.009054</td>\n      <td>0.018179</td>\n      <td>0.011348</td>\n      <td>5.875170</td>\n      <td>4.038416</td>\n      <td>-1</td>\n      <td>0</td>\n      <td>0</td>\n      <td>1</td>\n    </tr>\n  </tbody>\n</table>\n<p>1548 rows × 43 columns</p>\n</div>"
     },
     "metadata": {},
     "execution_count": 43
    }
   ],
   "source": [
    "df_ = j0.copy()\n",
    "df_['log_ret'] = np.log(df['adj_close']) - np.log(df['adj_close'].shift(1))\n",
    "df_['log_ret'] = df_['log_ret'].fillna(0)\n",
    "df_['adj_close_diff'] = df_['adj_close'].diff()\n",
    "df_['shifted_mom_pct_change'] = df.mom_pct_change.shift()\n",
    "df_['shifted_rev_pct_change'] = df.rev_pct_change.shift()\n",
    "df_['shifted_sp_pct_change'] = df.pctc.shift()\n",
    "df_['pctc'] = df_['adj_close'].pct_change().fillna(0)\n",
    "df_['cumprod'] = (df_['pctc']+1).cumprod()-1\n",
    "df_['mom_cumprod'] = (df_['mom_pct_change']+1).cumprod()-1\n",
    "df_['rev_cumprod'] = (df_['rev_pct_change']+1).cumprod()-1\n",
    "# df_['SMA_10'] = df['adj_close'].rolling(window=10).mean().fillna\n",
    "def label(mom_pct_ret,rev_pct_ret):\n",
    "    if(mom_pct_ret > 0 and mom_pct_ret >= rev_pct_ret):\n",
    "        return 1\n",
    "    elif(mom_pct_ret < rev_pct_ret and rev_pct_ret > 0):\n",
    "        return -1\n",
    "    else:\n",
    "        return 0\n",
    "\n",
    "def label_condition(rsi):\n",
    "    if(rsi > 70.0):\n",
    "        return 'OVERBOUGHT'\n",
    "    elif(rsi < 30.0):\n",
    "        return 'OVERSOLD'\n",
    "    else:\n",
    "        return 'NEUTRAL'\n",
    "df_['label'] = df_.apply(lambda x: label(x.shifted_mom_pct_change, x.shifted_rev_pct_change), axis=1).astype(int)\n",
    "df_['condition_OVERBOUGHT'] = (df['RSI_4'] > 70).astype(int)\n",
    "df_['condition_OVERSOLD'] = (df['RSI_4'] < 30).astype(int)\n",
    "df_['condition_NEUTRAL'] = ((df['RSI_4'] >= 30) & (df['RSI_4'] <= 70)).astype(int)\n",
    "# df_['condition'] = df_.apply(lambda x: label_condition(x.RSI_4),axis=1)\n",
    "# # y = \n",
    "# df_ = df_.merge(pd.get_dummies(df_.condition, prefix='condition'), left_index=True, right_index=True)\n",
    "# df_ = df_.drop('condition',axis = 1)\n",
    "\n",
    "df_"
   ]
  },
  {
   "cell_type": "code",
   "execution_count": 44,
   "metadata": {},
   "outputs": [
    {
     "output_type": "execute_result",
     "data": {
      "text/plain": [
       "5.875170032305834"
      ]
     },
     "metadata": {},
     "execution_count": 44
    }
   ],
   "source": [
    "df_.mom_cumprod.iloc[-1]"
   ]
  },
  {
   "cell_type": "code",
   "execution_count": 45,
   "metadata": {},
   "outputs": [
    {
     "output_type": "execute_result",
     "data": {
      "text/plain": [
       "0       0.000000\n",
       "1       0.027465\n",
       "2       0.051667\n",
       "3       0.129314\n",
       "4       0.128945\n",
       "          ...   \n",
       "1543    5.875643\n",
       "1544    5.933768\n",
       "1545    5.976139\n",
       "1546    6.039251\n",
       "1547    5.875170\n",
       "Name: mom_cumprod, Length: 1548, dtype: float64"
      ]
     },
     "metadata": {},
     "execution_count": 45
    }
   ],
   "source": [
    "df_.mom_cumprod"
   ]
  },
  {
   "cell_type": "code",
   "execution_count": 46,
   "metadata": {},
   "outputs": [
    {
     "output_type": "execute_result",
     "data": {
      "text/plain": [
       "<AxesSubplot:xlabel='date'>"
      ]
     },
     "metadata": {},
     "execution_count": 46
    },
    {
     "output_type": "display_data",
     "data": {
      "text/plain": "<Figure size 432x288 with 1 Axes>",
      "image/svg+xml": "<?xml version=\"1.0\" encoding=\"utf-8\" standalone=\"no\"?>\r\n<!DOCTYPE svg PUBLIC \"-//W3C//DTD SVG 1.1//EN\"\r\n  \"http://www.w3.org/Graphics/SVG/1.1/DTD/svg11.dtd\">\r\n<svg height=\"252.024627pt\" version=\"1.1\" viewBox=\"0 0 362.5625 252.024627\" width=\"362.5625pt\" xmlns=\"http://www.w3.org/2000/svg\" xmlns:xlink=\"http://www.w3.org/1999/xlink\">\r\n <metadata>\r\n  <rdf:RDF xmlns:cc=\"http://creativecommons.org/ns#\" xmlns:dc=\"http://purl.org/dc/elements/1.1/\" xmlns:rdf=\"http://www.w3.org/1999/02/22-rdf-syntax-ns#\">\r\n   <cc:Work>\r\n    <dc:type rdf:resource=\"http://purl.org/dc/dcmitype/StillImage\"/>\r\n    <dc:date>2021-03-12T04:19:00.239545</dc:date>\r\n    <dc:format>image/svg+xml</dc:format>\r\n    <dc:creator>\r\n     <cc:Agent>\r\n      <dc:title>Matplotlib v3.4.0rc3, https://matplotlib.org/</dc:title>\r\n     </cc:Agent>\r\n    </dc:creator>\r\n   </cc:Work>\r\n  </rdf:RDF>\r\n </metadata>\r\n <defs>\r\n  <style type=\"text/css\">*{stroke-linecap:butt;stroke-linejoin:round;}</style>\r\n </defs>\r\n <g id=\"figure_1\">\r\n  <g id=\"patch_1\">\r\n   <path d=\"M 0 252.024627 \r\nL 362.5625 252.024627 \r\nL 362.5625 0 \r\nL 0 0 \r\nz\r\n\" style=\"fill:none;\"/>\r\n  </g>\r\n  <g id=\"axes_1\">\r\n   <g id=\"patch_2\">\r\n    <path d=\"M 20.5625 203.04 \r\nL 355.3625 203.04 \r\nL 355.3625 7.2 \r\nL 20.5625 7.2 \r\nz\r\n\" style=\"fill:#ffffff;\"/>\r\n   </g>\r\n   <g id=\"matplotlib.axis_1\">\r\n    <g id=\"xtick_1\">\r\n     <g id=\"line2d_1\">\r\n      <defs>\r\n       <path d=\"M 0 0 \r\nL 0 3.5 \r\n\" id=\"m1791482477\" style=\"stroke:#000000;stroke-width:0.8;\"/>\r\n      </defs>\r\n      <g>\r\n       <use style=\"stroke:#000000;stroke-width:0.8;\" x=\"35.556335\" xlink:href=\"#m1791482477\" y=\"203.04\"/>\r\n      </g>\r\n     </g>\r\n     <g id=\"text_1\">\r\n      <!-- 2010 -->\r\n      <g transform=\"translate(12.476145 229.34544)rotate(-30)scale(0.1 -0.1)\">\r\n       <defs>\r\n        <path d=\"M 1228 531 \r\nL 3431 531 \r\nL 3431 0 \r\nL 469 0 \r\nL 469 531 \r\nQ 828 903 1448 1529 \r\nQ 2069 2156 2228 2338 \r\nQ 2531 2678 2651 2914 \r\nQ 2772 3150 2772 3378 \r\nQ 2772 3750 2511 3984 \r\nQ 2250 4219 1831 4219 \r\nQ 1534 4219 1204 4116 \r\nQ 875 4013 500 3803 \r\nL 500 4441 \r\nQ 881 4594 1212 4672 \r\nQ 1544 4750 1819 4750 \r\nQ 2544 4750 2975 4387 \r\nQ 3406 4025 3406 3419 \r\nQ 3406 3131 3298 2873 \r\nQ 3191 2616 2906 2266 \r\nQ 2828 2175 2409 1742 \r\nQ 1991 1309 1228 531 \r\nz\r\n\" id=\"DejaVuSans-32\" transform=\"scale(0.015625)\"/>\r\n        <path d=\"M 2034 4250 \r\nQ 1547 4250 1301 3770 \r\nQ 1056 3291 1056 2328 \r\nQ 1056 1369 1301 889 \r\nQ 1547 409 2034 409 \r\nQ 2525 409 2770 889 \r\nQ 3016 1369 3016 2328 \r\nQ 3016 3291 2770 3770 \r\nQ 2525 4250 2034 4250 \r\nz\r\nM 2034 4750 \r\nQ 2819 4750 3233 4129 \r\nQ 3647 3509 3647 2328 \r\nQ 3647 1150 3233 529 \r\nQ 2819 -91 2034 -91 \r\nQ 1250 -91 836 529 \r\nQ 422 1150 422 2328 \r\nQ 422 3509 836 4129 \r\nQ 1250 4750 2034 4750 \r\nz\r\n\" id=\"DejaVuSans-30\" transform=\"scale(0.015625)\"/>\r\n        <path d=\"M 794 531 \r\nL 1825 531 \r\nL 1825 4091 \r\nL 703 3866 \r\nL 703 4441 \r\nL 1819 4666 \r\nL 2450 4666 \r\nL 2450 531 \r\nL 3481 531 \r\nL 3481 0 \r\nL 794 0 \r\nL 794 531 \r\nz\r\n\" id=\"DejaVuSans-31\" transform=\"scale(0.015625)\"/>\r\n       </defs>\r\n       <use xlink:href=\"#DejaVuSans-32\"/>\r\n       <use x=\"63.623047\" xlink:href=\"#DejaVuSans-30\"/>\r\n       <use x=\"127.246094\" xlink:href=\"#DejaVuSans-31\"/>\r\n       <use x=\"190.869141\" xlink:href=\"#DejaVuSans-30\"/>\r\n      </g>\r\n     </g>\r\n    </g>\r\n    <g id=\"xtick_2\">\r\n     <g id=\"line2d_2\">\r\n      <g>\r\n       <use style=\"stroke:#000000;stroke-width:0.8;\" x=\"90.147356\" xlink:href=\"#m1791482477\" y=\"203.04\"/>\r\n      </g>\r\n     </g>\r\n     <g id=\"text_2\">\r\n      <!-- 2012 -->\r\n      <g transform=\"translate(67.067166 229.34544)rotate(-30)scale(0.1 -0.1)\">\r\n       <use xlink:href=\"#DejaVuSans-32\"/>\r\n       <use x=\"63.623047\" xlink:href=\"#DejaVuSans-30\"/>\r\n       <use x=\"127.246094\" xlink:href=\"#DejaVuSans-31\"/>\r\n       <use x=\"190.869141\" xlink:href=\"#DejaVuSans-32\"/>\r\n      </g>\r\n     </g>\r\n    </g>\r\n    <g id=\"xtick_3\">\r\n     <g id=\"line2d_3\">\r\n      <g>\r\n       <use style=\"stroke:#000000;stroke-width:0.8;\" x=\"144.813159\" xlink:href=\"#m1791482477\" y=\"203.04\"/>\r\n      </g>\r\n     </g>\r\n     <g id=\"text_3\">\r\n      <!-- 2014 -->\r\n      <g transform=\"translate(121.732969 229.34544)rotate(-30)scale(0.1 -0.1)\">\r\n       <defs>\r\n        <path d=\"M 2419 4116 \r\nL 825 1625 \r\nL 2419 1625 \r\nL 2419 4116 \r\nz\r\nM 2253 4666 \r\nL 3047 4666 \r\nL 3047 1625 \r\nL 3713 1625 \r\nL 3713 1100 \r\nL 3047 1100 \r\nL 3047 0 \r\nL 2419 0 \r\nL 2419 1100 \r\nL 313 1100 \r\nL 313 1709 \r\nL 2253 4666 \r\nz\r\n\" id=\"DejaVuSans-34\" transform=\"scale(0.015625)\"/>\r\n       </defs>\r\n       <use xlink:href=\"#DejaVuSans-32\"/>\r\n       <use x=\"63.623047\" xlink:href=\"#DejaVuSans-30\"/>\r\n       <use x=\"127.246094\" xlink:href=\"#DejaVuSans-31\"/>\r\n       <use x=\"190.869141\" xlink:href=\"#DejaVuSans-34\"/>\r\n      </g>\r\n     </g>\r\n    </g>\r\n    <g id=\"xtick_4\">\r\n     <g id=\"line2d_4\">\r\n      <g>\r\n       <use style=\"stroke:#000000;stroke-width:0.8;\" x=\"199.40418\" xlink:href=\"#m1791482477\" y=\"203.04\"/>\r\n      </g>\r\n     </g>\r\n     <g id=\"text_4\">\r\n      <!-- 2016 -->\r\n      <g transform=\"translate(176.323989 229.34544)rotate(-30)scale(0.1 -0.1)\">\r\n       <defs>\r\n        <path d=\"M 2113 2584 \r\nQ 1688 2584 1439 2293 \r\nQ 1191 2003 1191 1497 \r\nQ 1191 994 1439 701 \r\nQ 1688 409 2113 409 \r\nQ 2538 409 2786 701 \r\nQ 3034 994 3034 1497 \r\nQ 3034 2003 2786 2293 \r\nQ 2538 2584 2113 2584 \r\nz\r\nM 3366 4563 \r\nL 3366 3988 \r\nQ 3128 4100 2886 4159 \r\nQ 2644 4219 2406 4219 \r\nQ 1781 4219 1451 3797 \r\nQ 1122 3375 1075 2522 \r\nQ 1259 2794 1537 2939 \r\nQ 1816 3084 2150 3084 \r\nQ 2853 3084 3261 2657 \r\nQ 3669 2231 3669 1497 \r\nQ 3669 778 3244 343 \r\nQ 2819 -91 2113 -91 \r\nQ 1303 -91 875 529 \r\nQ 447 1150 447 2328 \r\nQ 447 3434 972 4092 \r\nQ 1497 4750 2381 4750 \r\nQ 2619 4750 2861 4703 \r\nQ 3103 4656 3366 4563 \r\nz\r\n\" id=\"DejaVuSans-36\" transform=\"scale(0.015625)\"/>\r\n       </defs>\r\n       <use xlink:href=\"#DejaVuSans-32\"/>\r\n       <use x=\"63.623047\" xlink:href=\"#DejaVuSans-30\"/>\r\n       <use x=\"127.246094\" xlink:href=\"#DejaVuSans-31\"/>\r\n       <use x=\"190.869141\" xlink:href=\"#DejaVuSans-36\"/>\r\n      </g>\r\n     </g>\r\n    </g>\r\n    <g id=\"xtick_5\">\r\n     <g id=\"line2d_5\">\r\n      <g>\r\n       <use style=\"stroke:#000000;stroke-width:0.8;\" x=\"254.069983\" xlink:href=\"#m1791482477\" y=\"203.04\"/>\r\n      </g>\r\n     </g>\r\n     <g id=\"text_5\">\r\n      <!-- 2018 -->\r\n      <g transform=\"translate(230.989792 229.34544)rotate(-30)scale(0.1 -0.1)\">\r\n       <defs>\r\n        <path d=\"M 2034 2216 \r\nQ 1584 2216 1326 1975 \r\nQ 1069 1734 1069 1313 \r\nQ 1069 891 1326 650 \r\nQ 1584 409 2034 409 \r\nQ 2484 409 2743 651 \r\nQ 3003 894 3003 1313 \r\nQ 3003 1734 2745 1975 \r\nQ 2488 2216 2034 2216 \r\nz\r\nM 1403 2484 \r\nQ 997 2584 770 2862 \r\nQ 544 3141 544 3541 \r\nQ 544 4100 942 4425 \r\nQ 1341 4750 2034 4750 \r\nQ 2731 4750 3128 4425 \r\nQ 3525 4100 3525 3541 \r\nQ 3525 3141 3298 2862 \r\nQ 3072 2584 2669 2484 \r\nQ 3125 2378 3379 2068 \r\nQ 3634 1759 3634 1313 \r\nQ 3634 634 3220 271 \r\nQ 2806 -91 2034 -91 \r\nQ 1263 -91 848 271 \r\nQ 434 634 434 1313 \r\nQ 434 1759 690 2068 \r\nQ 947 2378 1403 2484 \r\nz\r\nM 1172 3481 \r\nQ 1172 3119 1398 2916 \r\nQ 1625 2713 2034 2713 \r\nQ 2441 2713 2670 2916 \r\nQ 2900 3119 2900 3481 \r\nQ 2900 3844 2670 4047 \r\nQ 2441 4250 2034 4250 \r\nQ 1625 4250 1398 4047 \r\nQ 1172 3844 1172 3481 \r\nz\r\n\" id=\"DejaVuSans-38\" transform=\"scale(0.015625)\"/>\r\n       </defs>\r\n       <use xlink:href=\"#DejaVuSans-32\"/>\r\n       <use x=\"63.623047\" xlink:href=\"#DejaVuSans-30\"/>\r\n       <use x=\"127.246094\" xlink:href=\"#DejaVuSans-31\"/>\r\n       <use x=\"190.869141\" xlink:href=\"#DejaVuSans-38\"/>\r\n      </g>\r\n     </g>\r\n    </g>\r\n    <g id=\"xtick_6\">\r\n     <g id=\"line2d_6\">\r\n      <g>\r\n       <use style=\"stroke:#000000;stroke-width:0.8;\" x=\"308.661003\" xlink:href=\"#m1791482477\" y=\"203.04\"/>\r\n      </g>\r\n     </g>\r\n     <g id=\"text_6\">\r\n      <!-- 2020 -->\r\n      <g transform=\"translate(285.580813 229.34544)rotate(-30)scale(0.1 -0.1)\">\r\n       <use xlink:href=\"#DejaVuSans-32\"/>\r\n       <use x=\"63.623047\" xlink:href=\"#DejaVuSans-30\"/>\r\n       <use x=\"127.246094\" xlink:href=\"#DejaVuSans-32\"/>\r\n       <use x=\"190.869141\" xlink:href=\"#DejaVuSans-30\"/>\r\n      </g>\r\n     </g>\r\n    </g>\r\n    <g id=\"text_7\">\r\n     <!-- date -->\r\n     <g transform=\"translate(176.6875 242.74494)scale(0.1 -0.1)\">\r\n      <defs>\r\n       <path d=\"M 2906 2969 \r\nL 2906 4863 \r\nL 3481 4863 \r\nL 3481 0 \r\nL 2906 0 \r\nL 2906 525 \r\nQ 2725 213 2448 61 \r\nQ 2172 -91 1784 -91 \r\nQ 1150 -91 751 415 \r\nQ 353 922 353 1747 \r\nQ 353 2572 751 3078 \r\nQ 1150 3584 1784 3584 \r\nQ 2172 3584 2448 3432 \r\nQ 2725 3281 2906 2969 \r\nz\r\nM 947 1747 \r\nQ 947 1113 1208 752 \r\nQ 1469 391 1925 391 \r\nQ 2381 391 2643 752 \r\nQ 2906 1113 2906 1747 \r\nQ 2906 2381 2643 2742 \r\nQ 2381 3103 1925 3103 \r\nQ 1469 3103 1208 2742 \r\nQ 947 2381 947 1747 \r\nz\r\n\" id=\"DejaVuSans-64\" transform=\"scale(0.015625)\"/>\r\n       <path d=\"M 2194 1759 \r\nQ 1497 1759 1228 1600 \r\nQ 959 1441 959 1056 \r\nQ 959 750 1161 570 \r\nQ 1363 391 1709 391 \r\nQ 2188 391 2477 730 \r\nQ 2766 1069 2766 1631 \r\nL 2766 1759 \r\nL 2194 1759 \r\nz\r\nM 3341 1997 \r\nL 3341 0 \r\nL 2766 0 \r\nL 2766 531 \r\nQ 2569 213 2275 61 \r\nQ 1981 -91 1556 -91 \r\nQ 1019 -91 701 211 \r\nQ 384 513 384 1019 \r\nQ 384 1609 779 1909 \r\nQ 1175 2209 1959 2209 \r\nL 2766 2209 \r\nL 2766 2266 \r\nQ 2766 2663 2505 2880 \r\nQ 2244 3097 1772 3097 \r\nQ 1472 3097 1187 3025 \r\nQ 903 2953 641 2809 \r\nL 641 3341 \r\nQ 956 3463 1253 3523 \r\nQ 1550 3584 1831 3584 \r\nQ 2591 3584 2966 3190 \r\nQ 3341 2797 3341 1997 \r\nz\r\n\" id=\"DejaVuSans-61\" transform=\"scale(0.015625)\"/>\r\n       <path d=\"M 1172 4494 \r\nL 1172 3500 \r\nL 2356 3500 \r\nL 2356 3053 \r\nL 1172 3053 \r\nL 1172 1153 \r\nQ 1172 725 1289 603 \r\nQ 1406 481 1766 481 \r\nL 2356 481 \r\nL 2356 0 \r\nL 1766 0 \r\nQ 1100 0 847 248 \r\nQ 594 497 594 1153 \r\nL 594 3053 \r\nL 172 3053 \r\nL 172 3500 \r\nL 594 3500 \r\nL 594 4494 \r\nL 1172 4494 \r\nz\r\n\" id=\"DejaVuSans-74\" transform=\"scale(0.015625)\"/>\r\n       <path d=\"M 3597 1894 \r\nL 3597 1613 \r\nL 953 1613 \r\nQ 991 1019 1311 708 \r\nQ 1631 397 2203 397 \r\nQ 2534 397 2845 478 \r\nQ 3156 559 3463 722 \r\nL 3463 178 \r\nQ 3153 47 2828 -22 \r\nQ 2503 -91 2169 -91 \r\nQ 1331 -91 842 396 \r\nQ 353 884 353 1716 \r\nQ 353 2575 817 3079 \r\nQ 1281 3584 2069 3584 \r\nQ 2775 3584 3186 3129 \r\nQ 3597 2675 3597 1894 \r\nz\r\nM 3022 2063 \r\nQ 3016 2534 2758 2815 \r\nQ 2500 3097 2075 3097 \r\nQ 1594 3097 1305 2825 \r\nQ 1016 2553 972 2059 \r\nL 3022 2063 \r\nz\r\n\" id=\"DejaVuSans-65\" transform=\"scale(0.015625)\"/>\r\n      </defs>\r\n      <use xlink:href=\"#DejaVuSans-64\"/>\r\n      <use x=\"63.476562\" xlink:href=\"#DejaVuSans-61\"/>\r\n      <use x=\"124.755859\" xlink:href=\"#DejaVuSans-74\"/>\r\n      <use x=\"163.964844\" xlink:href=\"#DejaVuSans-65\"/>\r\n     </g>\r\n    </g>\r\n   </g>\r\n   <g id=\"matplotlib.axis_2\">\r\n    <g id=\"ytick_1\">\r\n     <g id=\"line2d_7\">\r\n      <defs>\r\n       <path d=\"M 0 0 \r\nL -3.5 0 \r\n\" id=\"m8ba39cbc37\" style=\"stroke:#000000;stroke-width:0.8;\"/>\r\n      </defs>\r\n      <g>\r\n       <use style=\"stroke:#000000;stroke-width:0.8;\" x=\"20.5625\" xlink:href=\"#m8ba39cbc37\" y=\"190.982189\"/>\r\n      </g>\r\n     </g>\r\n     <g id=\"text_8\">\r\n      <!-- 0 -->\r\n      <g transform=\"translate(7.2 194.781408)scale(0.1 -0.1)\">\r\n       <use xlink:href=\"#DejaVuSans-30\"/>\r\n      </g>\r\n     </g>\r\n    </g>\r\n    <g id=\"ytick_2\">\r\n     <g id=\"line2d_8\">\r\n      <g>\r\n       <use style=\"stroke:#000000;stroke-width:0.8;\" x=\"20.5625\" xlink:href=\"#m8ba39cbc37\" y=\"162.024895\"/>\r\n      </g>\r\n     </g>\r\n     <g id=\"text_9\">\r\n      <!-- 1 -->\r\n      <g transform=\"translate(7.2 165.824114)scale(0.1 -0.1)\">\r\n       <use xlink:href=\"#DejaVuSans-31\"/>\r\n      </g>\r\n     </g>\r\n    </g>\r\n    <g id=\"ytick_3\">\r\n     <g id=\"line2d_9\">\r\n      <g>\r\n       <use style=\"stroke:#000000;stroke-width:0.8;\" x=\"20.5625\" xlink:href=\"#m8ba39cbc37\" y=\"133.067601\"/>\r\n      </g>\r\n     </g>\r\n     <g id=\"text_10\">\r\n      <!-- 2 -->\r\n      <g transform=\"translate(7.2 136.86682)scale(0.1 -0.1)\">\r\n       <use xlink:href=\"#DejaVuSans-32\"/>\r\n      </g>\r\n     </g>\r\n    </g>\r\n    <g id=\"ytick_4\">\r\n     <g id=\"line2d_10\">\r\n      <g>\r\n       <use style=\"stroke:#000000;stroke-width:0.8;\" x=\"20.5625\" xlink:href=\"#m8ba39cbc37\" y=\"104.110307\"/>\r\n      </g>\r\n     </g>\r\n     <g id=\"text_11\">\r\n      <!-- 3 -->\r\n      <g transform=\"translate(7.2 107.909526)scale(0.1 -0.1)\">\r\n       <defs>\r\n        <path d=\"M 2597 2516 \r\nQ 3050 2419 3304 2112 \r\nQ 3559 1806 3559 1356 \r\nQ 3559 666 3084 287 \r\nQ 2609 -91 1734 -91 \r\nQ 1441 -91 1130 -33 \r\nQ 819 25 488 141 \r\nL 488 750 \r\nQ 750 597 1062 519 \r\nQ 1375 441 1716 441 \r\nQ 2309 441 2620 675 \r\nQ 2931 909 2931 1356 \r\nQ 2931 1769 2642 2001 \r\nQ 2353 2234 1838 2234 \r\nL 1294 2234 \r\nL 1294 2753 \r\nL 1863 2753 \r\nQ 2328 2753 2575 2939 \r\nQ 2822 3125 2822 3475 \r\nQ 2822 3834 2567 4026 \r\nQ 2313 4219 1838 4219 \r\nQ 1578 4219 1281 4162 \r\nQ 984 4106 628 3988 \r\nL 628 4550 \r\nQ 988 4650 1302 4700 \r\nQ 1616 4750 1894 4750 \r\nQ 2613 4750 3031 4423 \r\nQ 3450 4097 3450 3541 \r\nQ 3450 3153 3228 2886 \r\nQ 3006 2619 2597 2516 \r\nz\r\n\" id=\"DejaVuSans-33\" transform=\"scale(0.015625)\"/>\r\n       </defs>\r\n       <use xlink:href=\"#DejaVuSans-33\"/>\r\n      </g>\r\n     </g>\r\n    </g>\r\n    <g id=\"ytick_5\">\r\n     <g id=\"line2d_11\">\r\n      <g>\r\n       <use style=\"stroke:#000000;stroke-width:0.8;\" x=\"20.5625\" xlink:href=\"#m8ba39cbc37\" y=\"75.153014\"/>\r\n      </g>\r\n     </g>\r\n     <g id=\"text_12\">\r\n      <!-- 4 -->\r\n      <g transform=\"translate(7.2 78.952232)scale(0.1 -0.1)\">\r\n       <use xlink:href=\"#DejaVuSans-34\"/>\r\n      </g>\r\n     </g>\r\n    </g>\r\n    <g id=\"ytick_6\">\r\n     <g id=\"line2d_12\">\r\n      <g>\r\n       <use style=\"stroke:#000000;stroke-width:0.8;\" x=\"20.5625\" xlink:href=\"#m8ba39cbc37\" y=\"46.19572\"/>\r\n      </g>\r\n     </g>\r\n     <g id=\"text_13\">\r\n      <!-- 5 -->\r\n      <g transform=\"translate(7.2 49.994939)scale(0.1 -0.1)\">\r\n       <defs>\r\n        <path d=\"M 691 4666 \r\nL 3169 4666 \r\nL 3169 4134 \r\nL 1269 4134 \r\nL 1269 2991 \r\nQ 1406 3038 1543 3061 \r\nQ 1681 3084 1819 3084 \r\nQ 2600 3084 3056 2656 \r\nQ 3513 2228 3513 1497 \r\nQ 3513 744 3044 326 \r\nQ 2575 -91 1722 -91 \r\nQ 1428 -91 1123 -41 \r\nQ 819 9 494 109 \r\nL 494 744 \r\nQ 775 591 1075 516 \r\nQ 1375 441 1709 441 \r\nQ 2250 441 2565 725 \r\nQ 2881 1009 2881 1497 \r\nQ 2881 1984 2565 2268 \r\nQ 2250 2553 1709 2553 \r\nQ 1456 2553 1204 2497 \r\nQ 953 2441 691 2322 \r\nL 691 4666 \r\nz\r\n\" id=\"DejaVuSans-35\" transform=\"scale(0.015625)\"/>\r\n       </defs>\r\n       <use xlink:href=\"#DejaVuSans-35\"/>\r\n      </g>\r\n     </g>\r\n    </g>\r\n    <g id=\"ytick_7\">\r\n     <g id=\"line2d_13\">\r\n      <g>\r\n       <use style=\"stroke:#000000;stroke-width:0.8;\" x=\"20.5625\" xlink:href=\"#m8ba39cbc37\" y=\"17.238426\"/>\r\n      </g>\r\n     </g>\r\n     <g id=\"text_14\">\r\n      <!-- 6 -->\r\n      <g transform=\"translate(7.2 21.037645)scale(0.1 -0.1)\">\r\n       <use xlink:href=\"#DejaVuSans-36\"/>\r\n      </g>\r\n     </g>\r\n    </g>\r\n   </g>\r\n   <g id=\"line2d_14\">\r\n    <path clip-path=\"url(#p45f79f226e)\" d=\"M 35.780682 190.982189 \r\nL 36.079811 190.675745 \r\nL 36.304157 190.624629 \r\nL 36.37894 190.899636 \r\nL 36.528504 190.586803 \r\nL 37.425891 192.025477 \r\nL 37.500673 191.889253 \r\nL 37.650237 192.493195 \r\nL 37.874584 192.101644 \r\nL 37.949366 191.740505 \r\nL 38.024148 191.894875 \r\nL 38.996317 191.956471 \r\nL 39.220664 191.590986 \r\nL 39.445011 191.620635 \r\nL 39.519793 191.963372 \r\nL 40.267615 190.836252 \r\nL 40.566744 190.791525 \r\nL 40.791091 190.547698 \r\nL 41.015437 190.534407 \r\nL 42.137171 189.9527 \r\nL 42.211953 190.050843 \r\nL 42.286735 189.829255 \r\nL 43.333686 188.971261 \r\nL 43.408468 189.470671 \r\nL 43.632815 189.332911 \r\nL 43.707597 189.086273 \r\nL 43.782379 189.117712 \r\nL 43.931944 188.827879 \r\nL 44.82933 190.141832 \r\nL 44.978895 191.547282 \r\nL 45.352806 189.993593 \r\nL 45.50237 190.913435 \r\nL 46.399757 192.644501 \r\nL 46.474539 191.747147 \r\nL 46.549322 192.096018 \r\nL 46.84845 192.57396 \r\nL 46.998015 191.753028 \r\nL 47.820619 192.090396 \r\nL 47.895401 191.436104 \r\nL 47.970184 191.451951 \r\nL 48.119748 191.377831 \r\nL 48.344095 191.487989 \r\nL 48.493659 192.0288 \r\nL 49.465828 193.664019 \r\nL 49.690175 192.388663 \r\nL 49.914521 192.368471 \r\nL 49.989304 191.944459 \r\nL 50.737126 191.757371 \r\nL 51.036255 191.471631 \r\nL 51.260601 191.784464 \r\nL 51.484948 191.16442 \r\nL 52.307552 192.355691 \r\nL 52.531899 192.352369 \r\nL 52.681464 191.974616 \r\nL 52.831028 192.548914 \r\nL 53.728415 192.32911 \r\nL 53.877979 191.710089 \r\nL 54.177108 192.033913 \r\nL 54.401455 191.581274 \r\nL 55.224059 190.808647 \r\nL 55.373624 191.190745 \r\nL 55.448406 190.581433 \r\nL 55.672752 190.747818 \r\nL 55.747535 190.606227 \r\nL 55.822317 190.682135 \r\nL 55.897099 190.772356 \r\nL 55.971881 190.643541 \r\nL 56.794486 190.042154 \r\nL 56.869268 189.829255 \r\nL 56.94405 189.938897 \r\nL 57.243179 189.660315 \r\nL 57.317961 190.141064 \r\nL 57.467526 189.774048 \r\nL 58.29013 189.668748 \r\nL 58.589259 188.608846 \r\nL 58.813606 188.675297 \r\nL 58.888388 188.927045 \r\nL 58.96317 188.791332 \r\nL 59.860557 189.324734 \r\nL 59.935339 189.762036 \r\nL 60.010121 189.311699 \r\nL 60.159686 189.540445 \r\nL 60.384032 189.582361 \r\nL 60.458814 189.766635 \r\nL 61.206637 188.236971 \r\nL 61.505766 188.206559 \r\nL 61.580548 188.369109 \r\nL 61.730112 188.147262 \r\nL 62.777063 187.796347 \r\nL 63.150974 187.312783 \r\nL 63.300539 187.442109 \r\nL 64.34749 187.139244 \r\nL 64.796183 186.725453 \r\nL 64.870965 187.318408 \r\nL 65.69357 186.085732 \r\nL 65.843134 186.154738 \r\nL 65.917917 185.968673 \r\nL 66.142263 185.887655 \r\nL 66.217045 185.997809 \r\nL 66.441392 185.614435 \r\nL 67.189214 186.018002 \r\nL 67.263997 186.551915 \r\nL 67.338779 186.497987 \r\nL 67.413561 185.922158 \r\nL 67.488343 186.173139 \r\nL 67.71269 186.454792 \r\nL 67.787472 186.156017 \r\nL 67.862254 186.20202 \r\nL 67.937037 186.838678 \r\nL 68.759641 186.755102 \r\nL 68.834423 186.872925 \r\nL 68.909205 186.77657 \r\nL 69.05877 186.360992 \r\nL 69.283116 186.45326 \r\nL 69.432681 185.99142 \r\nL 70.330068 186.088543 \r\nL 70.479632 186.345402 \r\nL 70.554414 186.342591 \r\nL 70.629196 186.210709 \r\nL 70.853543 186.582328 \r\nL 70.928325 186.391152 \r\nL 71.676148 185.087935 \r\nL 71.975276 185.266587 \r\nL 72.124841 185.816602 \r\nL 72.199623 185.686255 \r\nL 72.42397 185.530603 \r\nL 73.171792 185.599356 \r\nL 73.470921 186.26975 \r\nL 73.545703 186.297608 \r\nL 73.77005 185.918835 \r\nL 74.667436 187.236108 \r\nL 74.742219 186.994839 \r\nL 74.817001 187.4554 \r\nL 75.041347 187.433676 \r\nL 75.11613 187.02372 \r\nL 75.190912 187.597502 \r\nL 75.265694 187.540764 \r\nL 75.340476 187.442109 \r\nL 76.163081 186.798806 \r\nL 76.387427 185.699799 \r\nL 76.761339 185.711302 \r\nL 76.836121 185.353486 \r\nL 76.910903 185.594243 \r\nL 77.658725 186.574662 \r\nL 77.883072 185.594243 \r\nL 77.957854 185.563063 \r\nL 78.256983 185.897367 \r\nL 78.406547 186.696572 \r\nL 79.229152 191.327993 \r\nL 79.303934 189.971613 \r\nL 79.378716 191.294766 \r\nL 79.528281 189.811106 \r\nL 79.752627 189.154771 \r\nL 79.82741 189.454569 \r\nL 79.902192 189.425688 \r\nL 80.874361 188.939313 \r\nL 80.949143 188.786731 \r\nL 81.098707 189.93481 \r\nL 81.397836 190.157934 \r\nL 82.145658 188.860339 \r\nL 82.444787 189.216111 \r\nL 82.594352 191.069852 \r\nL 82.669134 190.894267 \r\nL 82.893481 190.216463 \r\nL 83.641303 190.164835 \r\nL 83.716085 190.407895 \r\nL 84.089996 189.08423 \r\nL 84.164778 189.175983 \r\nL 84.239561 188.641305 \r\nL 85.136947 188.196079 \r\nL 85.286512 187.094773 \r\nL 85.510858 187.907269 \r\nL 85.58564 188.802321 \r\nL 85.735205 187.706637 \r\nL 85.809987 187.90906 \r\nL 86.632592 187.792001 \r\nL 86.856938 188.869539 \r\nL 87.156067 189.575203 \r\nL 87.230849 190.246109 \r\nL 87.380414 190.32585 \r\nL 88.203018 187.775134 \r\nL 88.2778 187.710215 \r\nL 88.352583 188.3916 \r\nL 88.427365 187.858966 \r\nL 88.726494 188.611913 \r\nL 88.801276 188.96743 \r\nL 88.876058 188.866984 \r\nL 89.773445 187.597247 \r\nL 89.848227 188.000813 \r\nL 89.923009 187.658843 \r\nL 89.997791 187.79737 \r\nL 90.371703 187.29387 \r\nL 91.343871 186.87548 \r\nL 91.568218 186.320611 \r\nL 91.867347 186.339268 \r\nL 92.615169 185.566129 \r\nL 92.914298 185.511179 \r\nL 93.063863 185.385945 \r\nL 93.138645 185.623891 \r\nL 93.362991 185.390544 \r\nL 94.484725 184.868898 \r\nL 94.559507 185.035027 \r\nL 94.634289 184.820084 \r\nL 94.709071 184.934073 \r\nL 95.606458 184.304061 \r\nL 95.756022 184.051289 \r\nL 95.980369 183.908675 \r\nL 96.204716 184.342398 \r\nL 96.279498 184.231732 \r\nL 97.102102 183.815898 \r\nL 97.251667 184.206941 \r\nL 97.550796 184.612807 \r\nL 97.625578 185.216238 \r\nL 97.70036 184.957588 \r\nL 97.775142 184.475559 \r\nL 97.849925 184.917971 \r\nL 98.597747 185.002827 \r\nL 98.672529 184.874268 \r\nL 98.896876 184.071992 \r\nL 99.121222 184.211284 \r\nL 99.196005 184.00912 \r\nL 99.270787 184.098827 \r\nL 99.345569 184.373326 \r\nL 100.317738 186.079851 \r\nL 100.467302 186.835867 \r\nL 100.841213 186.231668 \r\nL 101.7386 187.271378 \r\nL 101.813382 187.084293 \r\nL 101.962947 186.330579 \r\nL 102.037729 186.057871 \r\nL 102.262076 186.485461 \r\nL 102.336858 186.095697 \r\nL 103.08468 185.818646 \r\nL 103.309027 186.363039 \r\nL 103.458591 185.899666 \r\nL 103.533373 185.971484 \r\nL 103.608156 185.124993 \r\nL 103.832502 185.039373 \r\nL 104.580324 185.825291 \r\nL 104.655107 185.262497 \r\nL 104.879453 185.34275 \r\nL 105.1038 184.758232 \r\nL 105.178582 185.112214 \r\nL 106.075969 184.788648 \r\nL 106.150751 185.052408 \r\nL 106.225533 184.388148 \r\nL 106.44988 184.30534 \r\nL 106.599444 184.101129 \r\nL 107.646395 183.813087 \r\nL 107.721178 184.104708 \r\nL 107.79596 183.873404 \r\nL 108.169871 183.889762 \r\nL 108.244653 184.171159 \r\nL 108.319435 183.989695 \r\nL 109.216822 183.223455 \r\nL 109.366387 182.476898 \r\nL 110.637684 183.02078 \r\nL 110.787249 182.854651 \r\nL 110.936813 182.6006 \r\nL 111.16116 182.72967 \r\nL 111.310724 183.325688 \r\nL 112.208111 183.293488 \r\nL 112.357675 183.934233 \r\nL 112.50724 183.852703 \r\nL 113.554191 184.672868 \r\nL 113.778538 184.668266 \r\nL 113.85332 184.808837 \r\nL 114.002884 185.350675 \r\nL 114.302013 184.492937 \r\nL 115.124617 183.744333 \r\nL 115.498529 183.920686 \r\nL 115.648093 183.696031 \r\nL 116.54548 183.242624 \r\nL 116.620262 183.041228 \r\nL 116.695044 183.387285 \r\nL 117.068955 183.651048 \r\nL 117.143737 183.695263 \r\nL 117.21852 184.09576 \r\nL 118.265471 182.316391 \r\nL 118.639382 182.301569 \r\nL 118.788946 181.960366 \r\nL 119.536768 181.597436 \r\nL 119.611551 181.401662 \r\nL 119.761115 181.650344 \r\nL 119.835897 181.265434 \r\nL 120.060244 181.711684 \r\nL 120.209808 181.292272 \r\nL 120.284591 181.362046 \r\nL 121.181977 180.811266 \r\nL 121.331542 181.540186 \r\nL 121.406324 181.20333 \r\nL 121.630671 181.912572 \r\nL 121.780235 181.193361 \r\nL 122.677622 180.165152 \r\nL 122.827186 180.2086 \r\nL 122.901968 179.985988 \r\nL 122.976751 180.050651 \r\nL 123.275879 180.366551 \r\nL 124.248048 180.013078 \r\nL 124.322831 179.806568 \r\nL 124.397613 180.229815 \r\nL 124.472395 180.069052 \r\nL 124.547177 180.240292 \r\nL 124.771524 179.990078 \r\nL 125.519346 180.538558 \r\nL 125.594128 180.189942 \r\nL 125.818475 180.004645 \r\nL 125.968039 179.588299 \r\nL 126.042822 179.425493 \r\nL 126.117604 179.500124 \r\nL 127.014991 178.21071 \r\nL 127.089773 178.364568 \r\nL 127.164555 178.184895 \r\nL 127.388902 178.183105 \r\nL 127.538466 177.543891 \r\nL 127.613248 177.756282 \r\nL 127.68803 177.321791 \r\nL 128.510635 177.511176 \r\nL 128.734982 178.260547 \r\nL 128.959328 178.013141 \r\nL 129.108893 178.818739 \r\nL 129.183675 178.469612 \r\nL 129.258457 177.93749 \r\nL 130.006279 178.048412 \r\nL 130.081062 177.722032 \r\nL 130.230626 179.348054 \r\nL 130.305408 179.239684 \r\nL 130.529755 179.733983 \r\nL 130.754102 178.70884 \r\nL 131.576706 178.012121 \r\nL 131.875835 176.99669 \r\nL 132.100181 176.937649 \r\nL 132.174964 177.097133 \r\nL 132.249746 176.978286 \r\nL 133.296697 176.855096 \r\nL 133.446261 176.243229 \r\nL 133.670608 176.307892 \r\nL 133.74539 176.557598 \r\nL 134.717559 177.868992 \r\nL 134.792341 177.708233 \r\nL 134.867124 177.952312 \r\nL 135.016688 177.423257 \r\nL 135.241035 177.595008 \r\nL 136.063639 177.636156 \r\nL 136.587115 176.797334 \r\nL 137.484501 176.675165 \r\nL 137.559284 176.524371 \r\nL 137.858412 176.961928 \r\nL 137.933195 176.618171 \r\nL 138.007977 176.647052 \r\nL 138.082759 177.035792 \r\nL 138.157541 176.733183 \r\nL 138.980146 176.539961 \r\nL 139.204492 175.353035 \r\nL 139.428839 175.348945 \r\nL 139.503621 175.093106 \r\nL 139.578404 175.304985 \r\nL 139.727968 174.962759 \r\nL 140.47579 174.754203 \r\nL 140.550572 174.880974 \r\nL 140.625355 174.688775 \r\nL 140.700137 175.285305 \r\nL 140.774919 174.685708 \r\nL 140.999266 174.652993 \r\nL 141.074048 174.76034 \r\nL 141.223612 174.174286 \r\nL 142.345346 173.786054 \r\nL 142.719257 174.118312 \r\nL 143.616643 174.278563 \r\nL 143.691426 174.420157 \r\nL 143.766208 173.662353 \r\nL 143.84099 173.68919 \r\nL 143.915772 173.466323 \r\nL 144.214901 173.082948 \r\nL 145.18707 173.250353 \r\nL 145.336634 172.976369 \r\nL 145.486199 172.851645 \r\nL 145.710546 173.443831 \r\nL 146.458368 173.207161 \r\nL 146.53315 174.18272 \r\nL 146.757497 174.405843 \r\nL 146.832279 174.126237 \r\nL 146.907061 174.593955 \r\nL 146.981843 174.083045 \r\nL 147.056626 174.37952 \r\nL 147.954012 173.442296 \r\nL 148.103577 172.947232 \r\nL 148.402705 172.892793 \r\nL 148.477488 173.199748 \r\nL 148.55227 172.91784 \r\nL 148.627052 173.008061 \r\nL 149.674003 171.939979 \r\nL 149.89835 171.962215 \r\nL 150.197479 172.883337 \r\nL 150.945301 172.466482 \r\nL 151.020083 172.257414 \r\nL 151.169648 172.68117 \r\nL 151.618341 171.6113 \r\nL 151.693123 171.665739 \r\nL 152.515728 173.15221 \r\nL 152.740074 172.277095 \r\nL 153.039203 172.097163 \r\nL 153.113985 171.901386 \r\nL 153.188768 172.007709 \r\nL 154.086154 171.770783 \r\nL 154.160936 172.203742 \r\nL 154.235719 171.935636 \r\nL 154.310501 172.001575 \r\nL 154.385283 171.928735 \r\nL 154.684412 171.443895 \r\nL 155.432234 171.365173 \r\nL 156.180056 170.74053 \r\nL 156.927879 170.60916 \r\nL 157.002661 170.454531 \r\nL 157.30179 170.305527 \r\nL 157.451354 169.858513 \r\nL 157.526136 169.77187 \r\nL 158.423523 169.47156 \r\nL 158.498305 169.195021 \r\nL 158.797434 169.394118 \r\nL 158.872216 169.750402 \r\nL 158.946999 169.51731 \r\nL 159.021781 169.725608 \r\nL 159.096563 169.651747 \r\nL 160.068732 169.130101 \r\nL 160.143514 169.376484 \r\nL 160.367861 169.361914 \r\nL 160.517425 169.587851 \r\nL 160.66699 170.735928 \r\nL 161.489594 170.516127 \r\nL 161.713941 169.971479 \r\nL 162.162634 169.0179 \r\nL 163.134803 168.804489 \r\nL 163.209585 168.882952 \r\nL 163.284367 168.625837 \r\nL 163.508714 168.783529 \r\nL 163.583496 169.118346 \r\nL 163.658278 168.933048 \r\nL 164.555665 168.968827 \r\nL 164.630447 169.263259 \r\nL 164.70523 168.866338 \r\nL 164.780012 169.692128 \r\nL 164.854794 169.261216 \r\nL 165.153923 169.53111 \r\nL 165.901745 171.222047 \r\nL 166.275656 172.337412 \r\nL 166.350438 172.330511 \r\nL 166.425221 171.717111 \r\nL 166.649567 171.276231 \r\nL 167.397389 168.959626 \r\nL 167.472172 168.361562 \r\nL 167.696518 168.367695 \r\nL 167.771301 168.513635 \r\nL 167.995647 168.007068 \r\nL 168.967816 167.47469 \r\nL 169.042598 167.199938 \r\nL 169.416509 166.961478 \r\nL 169.566074 167.09617 \r\nL 170.388678 167.293991 \r\nL 170.613025 168.763341 \r\nL 170.837372 169.08793 \r\nL 170.912154 169.51961 \r\nL 171.1365 167.017199 \r\nL 171.884323 166.508074 \r\nL 172.48258 168.756183 \r\nL 172.632145 167.2347 \r\nL 173.529531 168.246549 \r\nL 173.604314 168.001958 \r\nL 173.679096 167.208886 \r\nL 173.753878 167.498458 \r\nL 173.978225 167.363765 \r\nL 174.127789 168.767683 \r\nL 175.025176 167.628296 \r\nL 175.249523 166.561493 \r\nL 175.324305 166.343991 \r\nL 176.371256 166.152048 \r\nL 176.595603 165.822605 \r\nL 176.894731 167.001606 \r\nL 177.119078 166.792797 \r\nL 177.8669 166.541301 \r\nL 177.941682 166.060036 \r\nL 178.166029 166.154095 \r\nL 178.390376 167.387794 \r\nL 178.465158 167.263322 \r\nL 179.362545 166.729668 \r\nL 179.512109 166.214409 \r\nL 179.736456 166.460539 \r\nL 179.811238 166.373381 \r\nL 179.88602 166.097612 \r\nL 179.960802 166.139525 \r\nL 180.035585 166.748069 \r\nL 180.858189 165.88982 \r\nL 180.932971 166.091984 \r\nL 181.007754 166.6374 \r\nL 181.082536 166.055181 \r\nL 181.306882 165.896721 \r\nL 181.456447 166.774395 \r\nL 181.531229 166.57376 \r\nL 181.606011 165.85557 \r\nL 182.428616 165.555771 \r\nL 182.503398 165.606376 \r\nL 182.57818 165.479352 \r\nL 182.952091 166.159717 \r\nL 183.026873 165.666952 \r\nL 183.101656 165.735703 \r\nL 183.999042 166.774395 \r\nL 184.148607 166.040611 \r\nL 184.223389 166.417596 \r\nL 184.447736 166.665005 \r\nL 184.5973 166.255816 \r\nL 185.494687 167.349713 \r\nL 185.719033 166.860523 \r\nL 186.018162 167.065502 \r\nL 186.092944 166.743976 \r\nL 186.840767 165.58619 \r\nL 187.065113 165.544271 \r\nL 187.588589 167.09413 \r\nL 188.336411 166.687237 \r\nL 188.411193 166.840331 \r\nL 188.63554 166.160229 \r\nL 188.710322 166.674203 \r\nL 188.785104 166.623598 \r\nL 188.859887 166.691587 \r\nL 188.934669 166.483283 \r\nL 189.832056 170.343353 \r\nL 189.98162 169.107354 \r\nL 190.205967 169.533921 \r\nL 190.280749 171.024738 \r\nL 190.430313 170.071924 \r\nL 190.505095 170.836374 \r\nL 191.3277 169.382873 \r\nL 191.402482 168.942757 \r\nL 191.477264 169.073363 \r\nL 191.552047 169.895571 \r\nL 191.776393 169.667081 \r\nL 191.925958 170.38808 \r\nL 192.075522 170.577724 \r\nL 192.823344 169.153869 \r\nL 192.898127 169.3361 \r\nL 193.122473 168.442327 \r\nL 193.34682 168.376643 \r\nL 193.496384 168.970106 \r\nL 193.571167 168.21307 \r\nL 194.393771 167.003652 \r\nL 194.468553 167.138857 \r\nL 194.543335 166.513696 \r\nL 194.618118 166.537725 \r\nL 194.6929 166.794581 \r\nL 194.992029 166.016844 \r\nL 195.066811 166.208019 \r\nL 196.03898 167.533731 \r\nL 196.113762 166.686726 \r\nL 196.188544 166.746534 \r\nL 196.263326 166.543859 \r\nL 196.562455 166.544626 \r\nL 197.310278 166.479452 \r\nL 197.534624 166.853111 \r\nL 197.833753 168.506734 \r\nL 198.0581 168.262143 \r\nL 198.805922 167.26409 \r\nL 199.105051 167.378846 \r\nL 199.179833 166.820139 \r\nL 199.329397 167.69986 \r\nL 200.301566 171.627146 \r\nL 200.376349 170.820528 \r\nL 200.451131 171.881453 \r\nL 200.75026 171.855894 \r\nL 200.825042 172.418177 \r\nL 200.899824 172.171283 \r\nL 200.974606 171.202367 \r\nL 201.797211 171.301277 \r\nL 201.946775 170.983845 \r\nL 202.021557 171.888607 \r\nL 202.320686 172.600152 \r\nL 202.395469 172.609097 \r\nL 202.470251 173.191315 \r\nL 202.545033 172.278882 \r\nL 203.292855 170.215817 \r\nL 203.367637 170.835094 \r\nL 203.44242 170.617081 \r\nL 203.517202 170.057357 \r\nL 203.591984 170.150642 \r\nL 203.816331 170.554976 \r\nL 203.965895 169.169206 \r\nL 204.040677 168.991574 \r\nL 204.863282 168.320925 \r\nL 204.938064 168.415745 \r\nL 205.162411 167.555708 \r\nL 205.46154 167.550086 \r\nL 205.536322 167.884646 \r\nL 206.433708 167.132723 \r\nL 206.508491 167.668421 \r\nL 206.583273 167.119176 \r\nL 206.658055 167.751741 \r\nL 206.732837 167.606316 \r\nL 206.957184 167.749698 \r\nL 207.031966 167.245433 \r\nL 207.779788 166.482259 \r\nL 208.004135 166.579126 \r\nL 208.153699 166.391021 \r\nL 208.303264 167.153932 \r\nL 208.527611 166.74168 \r\nL 209.275433 167.184345 \r\nL 209.350215 167.631618 \r\nL 209.574562 167.119176 \r\nL 209.724126 167.605548 \r\nL 209.798908 167.799535 \r\nL 209.873691 167.485678 \r\nL 210.845859 166.132624 \r\nL 210.920642 166.289299 \r\nL 211.294553 165.778383 \r\nL 211.369335 165.871419 \r\nL 211.444117 166.367503 \r\nL 212.341504 166.638935 \r\nL 212.416286 165.926622 \r\nL 212.491068 167.866753 \r\nL 212.715415 168.809088 \r\nL 213.014544 166.191665 \r\nL 213.762366 165.317317 \r\nL 213.986713 164.637719 \r\nL 214.061495 164.689092 \r\nL 214.435406 164.400793 \r\nL 214.510188 164.601428 \r\nL 215.332793 164.456509 \r\nL 215.407575 164.80947 \r\nL 215.482357 164.636696 \r\nL 215.557139 164.62494 \r\nL 215.631921 164.149042 \r\nL 216.005833 164.337665 \r\nL 216.978001 164.046047 \r\nL 217.202348 164.502515 \r\nL 217.426695 164.212688 \r\nL 218.249299 165.556283 \r\nL 218.473646 164.758098 \r\nL 218.62321 165.608423 \r\nL 218.697993 165.059175 \r\nL 218.772775 165.2662 \r\nL 218.997121 165.267217 \r\nL 219.744944 164.960268 \r\nL 219.819726 164.522195 \r\nL 220.044072 164.702894 \r\nL 220.118855 164.976622 \r\nL 220.268419 164.713882 \r\nL 220.343201 164.893558 \r\nL 221.390152 165.215083 \r\nL 221.614499 164.955151 \r\nL 221.913628 165.592068 \r\nL 222.736232 165.255973 \r\nL 222.885797 164.542387 \r\nL 222.960579 164.61983 \r\nL 223.184926 164.626219 \r\nL 223.259708 164.212432 \r\nL 223.33449 164.300607 \r\nL 223.409272 164.040419 \r\nL 223.484055 164.173839 \r\nL 224.306659 163.592132 \r\nL 224.531006 163.916977 \r\nL 224.830135 163.398654 \r\nL 224.979699 162.530695 \r\nL 225.802303 162.11307 \r\nL 225.877086 161.902726 \r\nL 226.02665 162.153198 \r\nL 226.101432 162.080866 \r\nL 226.400561 161.950779 \r\nL 226.475343 162.435363 \r\nL 227.671859 161.803562 \r\nL 227.970988 161.976081 \r\nL 228.71881 161.291117 \r\nL 229.092721 161.678067 \r\nL 229.167503 161.64484 \r\nL 229.242286 161.221344 \r\nL 229.466632 161.345554 \r\nL 230.588366 159.484403 \r\nL 230.73793 159.524525 \r\nL 230.812712 159.434303 \r\nL 231.784881 159.497432 \r\nL 231.859663 159.299867 \r\nL 232.08401 159.277634 \r\nL 232.158792 159.482612 \r\nL 232.233574 158.976301 \r\nL 232.308357 159.07547 \r\nL 232.383139 159.155465 \r\nL 233.280525 159.593026 \r\nL 233.355308 159.415902 \r\nL 233.43009 159.552386 \r\nL 233.953565 159.735893 \r\nL 234.701388 159.902789 \r\nL 234.850952 160.179843 \r\nL 234.925734 159.728224 \r\nL 235.000517 159.910969 \r\nL 235.44921 158.886591 \r\nL 236.421379 158.609031 \r\nL 236.570943 158.832155 \r\nL 236.870072 158.58245 \r\nL 236.944854 159.697811 \r\nL 237.991805 158.297983 \r\nL 238.14137 157.601007 \r\nL 238.365716 157.676915 \r\nL 238.440499 157.849945 \r\nL 239.188321 157.752317 \r\nL 239.412668 157.233226 \r\nL 239.562232 157.689438 \r\nL 239.637014 157.717811 \r\nL 239.711796 157.620688 \r\nL 239.936143 157.601007 \r\nL 240.683965 158.350378 \r\nL 240.758747 157.956016 \r\nL 241.057876 157.947068 \r\nL 241.282223 157.084731 \r\nL 242.254392 156.671967 \r\nL 242.329174 156.756816 \r\nL 242.553521 156.802822 \r\nL 242.703085 156.617013 \r\nL 242.777867 156.755287 \r\nL 242.85265 156.635926 \r\nL 243.750036 156.858793 \r\nL 243.899601 157.946556 \r\nL 244.123947 157.87448 \r\nL 244.19873 157.257505 \r\nL 244.273512 157.473983 \r\nL 244.348294 157.603566 \r\nL 244.423076 157.499286 \r\nL 245.245681 157.121022 \r\nL 245.395245 156.935724 \r\nL 245.470027 157.029527 \r\nL 245.843938 156.085399 \r\nL 245.918721 156.155684 \r\nL 246.816107 156.124504 \r\nL 247.040454 155.548931 \r\nL 247.414365 155.079172 \r\nL 248.536098 154.456569 \r\nL 248.610881 154.121504 \r\nL 248.835227 154.382965 \r\nL 248.910009 154.2769 \r\nL 250.031743 153.631553 \r\nL 250.181307 153.940293 \r\nL 250.405654 153.875374 \r\nL 251.228258 153.426063 \r\nL 251.452605 153.451622 \r\nL 251.676952 152.271847 \r\nL 251.751734 152.408842 \r\nL 252.649121 151.881571 \r\nL 252.723903 152.158625 \r\nL 252.798685 151.550337 \r\nL 253.023032 151.183579 \r\nL 253.172596 151.462418 \r\nL 253.32216 151.357882 \r\nL 254.144765 151.039171 \r\nL 254.369112 149.829245 \r\nL 254.743023 149.699407 \r\nL 254.892587 148.727936 \r\nL 255.864756 147.37309 \r\nL 255.939538 146.513817 \r\nL 256.163885 147.008117 \r\nL 256.238667 147.802982 \r\nL 256.313449 147.767709 \r\nL 256.388232 147.814482 \r\nL 257.210836 152.056648 \r\nL 257.285618 151.879275 \r\nL 257.509965 150.108595 \r\nL 257.809094 150.516505 \r\nL 257.883876 150.898088 \r\nL 258.781263 150.396894 \r\nL 259.005609 149.936077 \r\nL 259.080391 148.719499 \r\nL 259.304738 148.810233 \r\nL 260.127343 153.787967 \r\nL 260.351689 151.991473 \r\nL 260.501254 153.360121 \r\nL 260.576036 152.443342 \r\nL 260.875165 153.951032 \r\nL 261.622987 151.852437 \r\nL 261.697769 152.048979 \r\nL 261.922116 151.498452 \r\nL 262.07168 150.711262 \r\nL 262.221245 151.695256 \r\nL 263.193414 152.728065 \r\nL 263.268196 151.867007 \r\nL 263.567325 151.649762 \r\nL 263.791671 150.223608 \r\nL 264.614276 150.30744 \r\nL 264.689058 150.081246 \r\nL 264.838622 150.386922 \r\nL 265.137751 151.191241 \r\nL 265.212534 150.318428 \r\nL 265.287316 150.79739 \r\nL 265.362098 150.047252 \r\nL 266.184702 148.712342 \r\nL 266.259485 148.999112 \r\nL 266.334267 148.823779 \r\nL 266.409049 148.896111 \r\nL 266.633396 149.047159 \r\nL 266.857742 149.660302 \r\nL 267.680347 150.249422 \r\nL 267.755129 150.594203 \r\nL 268.278605 148.53369 \r\nL 268.353387 149.040257 \r\nL 269.250773 148.197857 \r\nL 269.400338 147.198781 \r\nL 269.47512 147.419352 \r\nL 269.549902 147.895244 \r\nL 269.774249 148.309799 \r\nL 269.849031 147.959908 \r\nL 270.596853 147.525672 \r\nL 270.8212 147.815762 \r\nL 270.895982 147.354945 \r\nL 270.970764 147.906744 \r\nL 271.120329 147.095019 \r\nL 271.344676 146.918151 \r\nL 272.16728 145.781575 \r\nL 272.466409 145.904256 \r\nL 272.690756 146.544236 \r\nL 273.588142 145.617236 \r\nL 273.662924 145.034506 \r\nL 273.737707 145.062111 \r\nL 274.111618 145.667841 \r\nL 274.1864 145.462607 \r\nL 274.261182 145.463119 \r\nL 275.083787 146.322897 \r\nL 275.233351 150.206991 \r\nL 275.308133 149.216357 \r\nL 275.53248 149.633976 \r\nL 275.607262 148.122717 \r\nL 275.682044 148.140862 \r\nL 275.831609 149.199741 \r\nL 276.579431 152.433633 \r\nL 276.803778 149.900291 \r\nL 276.87856 150.342707 \r\nL 277.102907 149.952943 \r\nL 277.177689 149.514877 \r\nL 277.252471 148.021251 \r\nL 277.327253 148.201688 \r\nL 278.149858 151.169009 \r\nL 278.22464 152.417278 \r\nL 278.299422 152.211788 \r\nL 278.448986 152.655733 \r\nL 278.748115 151.387789 \r\nL 278.822898 149.812884 \r\nL 279.795066 152.547878 \r\nL 279.944631 152.196195 \r\nL 280.019413 153.489192 \r\nL 280.318542 154.863973 \r\nL 281.066364 156.408204 \r\nL 281.440275 155.787392 \r\nL 281.515058 157.375588 \r\nL 281.58984 155.227412 \r\nL 281.814186 154.773752 \r\nL 282.562009 152.568837 \r\nL 282.636791 151.680686 \r\nL 282.93592 152.647047 \r\nL 283.085484 152.406028 \r\nL 283.160266 151.832757 \r\nL 284.057653 150.124182 \r\nL 284.132435 150.777454 \r\nL 284.207217 150.730686 \r\nL 284.431564 150.68161 \r\nL 284.581129 149.576726 \r\nL 284.655911 149.763302 \r\nL 284.730693 148.999873 \r\nL 285.62808 148.57101 \r\nL 285.702862 148.772663 \r\nL 285.777644 148.281945 \r\nL 286.076773 148.640784 \r\nL 286.30112 149.831285 \r\nL 287.123724 147.543818 \r\nL 287.198506 147.756976 \r\nL 287.273288 146.973617 \r\nL 287.348071 148.358108 \r\nL 287.572417 148.418166 \r\nL 287.6472 147.904448 \r\nL 287.721982 148.239002 \r\nL 287.796764 147.981635 \r\nL 288.619368 145.928535 \r\nL 288.694151 146.377596 \r\nL 288.918497 145.631039 \r\nL 289.292408 145.808924 \r\nL 290.264577 144.649085 \r\nL 290.414142 145.372642 \r\nL 290.488924 144.653946 \r\nL 290.713271 144.990546 \r\nL 290.788053 146.228077 \r\nL 291.535875 146.854767 \r\nL 291.760222 147.348043 \r\nL 291.835004 146.731319 \r\nL 291.909786 146.938087 \r\nL 291.984568 147.807837 \r\nL 292.059351 147.710203 \r\nL 293.031519 147.264723 \r\nL 293.106302 146.501806 \r\nL 293.405431 146.185397 \r\nL 293.480213 146.335677 \r\nL 293.554995 146.034094 \r\nL 293.629777 146.153193 \r\nL 294.527164 145.46823 \r\nL 295.050639 143.371426 \r\nL 295.200204 143.5097 \r\nL 296.022808 143.161337 \r\nL 296.09759 143.662794 \r\nL 296.172373 143.389571 \r\nL 296.247155 143.8624 \r\nL 296.471502 143.647201 \r\nL 296.621066 142.764672 \r\nL 296.695848 143.170797 \r\nL 296.77063 142.603654 \r\nL 297.518453 147.232775 \r\nL 297.742799 144.846906 \r\nL 298.041928 146.262583 \r\nL 298.11671 145.147728 \r\nL 298.191493 147.338584 \r\nL 298.266275 147.159676 \r\nL 299.088879 146.372997 \r\nL 299.163661 146.608644 \r\nL 299.388008 145.144152 \r\nL 299.687137 145.660173 \r\nL 299.761919 144.85483 \r\nL 300.883653 143.091052 \r\nL 300.958435 143.46727 \r\nL 301.182781 143.474682 \r\nL 301.257564 144.118239 \r\nL 302.005386 144.491136 \r\nL 302.229733 144.829016 \r\nL 302.304515 145.997797 \r\nL 302.528861 144.024442 \r\nL 302.753208 144.129745 \r\nL 303.575812 142.688253 \r\nL 303.949724 142.069232 \r\nL 304.024506 142.304623 \r\nL 304.099288 141.554491 \r\nL 305.071457 140.794899 \r\nL 305.146239 140.185843 \r\nL 305.445368 140.193 \r\nL 305.594932 140.618287 \r\nL 305.669715 140.445768 \r\nL 306.492319 140.882562 \r\nL 306.716666 139.535385 \r\nL 307.015795 139.877608 \r\nL 307.090577 139.644775 \r\nL 307.240141 138.950352 \r\nL 308.287092 137.130091 \r\nL 308.511439 137.608798 \r\nL 308.735786 136.674385 \r\nL 309.55839 135.900485 \r\nL 309.633172 136.027765 \r\nL 309.707955 135.870833 \r\nL 309.857519 134.840065 \r\nL 310.23143 135.041212 \r\nL 311.128817 136.902625 \r\nL 311.353163 134.427046 \r\nL 311.427946 134.888886 \r\nL 311.727074 134.121114 \r\nL 312.474897 134.632279 \r\nL 312.699243 137.491233 \r\nL 312.998372 144.434654 \r\nL 313.222719 140.958469 \r\nL 313.970541 156.538553 \r\nL 314.045323 150.65043 \r\nL 314.26967 158.954068 \r\nL 314.344452 155.297697 \r\nL 314.568799 161.029657 \r\nL 315.466186 156.797712 \r\nL 315.540968 155.356226 \r\nL 315.61575 156.333831 \r\nL 316.064443 148.636435 \r\nL 316.96183 149.99767 \r\nL 317.186177 147.437242 \r\nL 317.410523 146.370439 \r\nL 317.485305 146.756116 \r\nL 317.560088 144.810615 \r\nL 317.63487 145.502736 \r\nL 317.709652 147.591359 \r\nL 318.457474 145.04882 \r\nL 318.607039 147.865087 \r\nL 318.98095 144.442578 \r\nL 319.055732 145.234118 \r\nL 319.130514 143.990191 \r\nL 319.205297 144.58059 \r\nL 320.027901 141.840231 \r\nL 320.177465 140.124243 \r\nL 320.252248 140.393117 \r\nL 320.32703 138.308075 \r\nL 320.551376 137.325104 \r\nL 320.700941 138.404942 \r\nL 321.598328 140.25229 \r\nL 321.67311 139.909044 \r\nL 321.747892 141.978243 \r\nL 321.822674 141.123831 \r\nL 321.897456 143.03329 \r\nL 322.121803 141.903871 \r\nL 322.196585 140.701351 \r\nL 322.944408 138.535286 \r\nL 323.168754 139.297436 \r\nL 323.318319 137.474105 \r\nL 323.393101 137.75499 \r\nL 323.69223 136.82799 \r\nL 324.440052 136.971631 \r\nL 324.514834 136.335226 \r\nL 324.813963 135.43072 \r\nL 325.03831 134.286475 \r\nL 325.935696 133.684064 \r\nL 326.38439 131.92642 \r\nL 326.608736 130.280724 \r\nL 327.431341 134.783327 \r\nL 327.506123 133.067857 \r\nL 327.580905 134.595477 \r\nL 327.655687 134.549982 \r\nL 327.954816 133.010607 \r\nL 328.104381 134.140026 \r\nL 328.179163 135.099486 \r\nL 328.926985 134.278295 \r\nL 329.001767 134.690553 \r\nL 329.151332 133.531994 \r\nL 329.226114 134.359574 \r\nL 329.450461 132.821472 \r\nL 329.525243 134.038817 \r\nL 329.674807 131.844378 \r\nL 330.497412 132.353248 \r\nL 330.721758 131.674162 \r\nL 330.796541 131.370021 \r\nL 331.09567 133.279481 \r\nL 331.170452 136.337528 \r\nL 332.217403 128.628382 \r\nL 332.292185 129.539533 \r\nL 332.366967 128.309159 \r\nL 332.591314 127.241845 \r\nL 332.666096 127.686045 \r\nL 333.413918 126.949453 \r\nL 333.638265 127.376793 \r\nL 333.787829 126.165838 \r\nL 333.862612 126.224367 \r\nL 333.937394 125.396275 \r\nL 334.161741 125.579276 \r\nL 334.909563 124.799237 \r\nL 334.984345 125.133285 \r\nL 335.283474 125.699399 \r\nL 335.358256 125.629114 \r\nL 335.433038 125.295577 \r\nL 336.405207 124.143413 \r\nL 336.554772 122.18718 \r\nL 336.779118 122.827922 \r\nL 336.8539 122.787544 \r\nL 336.928683 122.566461 \r\nL 337.078247 123.629433 \r\nL 337.900852 121.549751 \r\nL 337.975634 124.076191 \r\nL 338.050416 123.140506 \r\nL 338.125198 125.009837 \r\nL 338.349545 123.486048 \r\nL 338.573892 120.984405 \r\nL 338.648674 120.598728 \r\nL 339.54606 119.461384 \r\nL 339.695625 120.090632 \r\nL 339.919972 120.862747 \r\nL 339.994754 120.738275 \r\nL 340.069536 119.612182 \r\nL 340.144318 122.068074 \r\nL 340.144318 122.068074 \r\n\" style=\"fill:none;stroke:#1f77b4;stroke-linecap:square;stroke-width:1.5;\"/>\r\n   </g>\r\n   <g id=\"line2d_15\">\r\n    <path clip-path=\"url(#p45f79f226e)\" d=\"M 35.780682 190.982189 \r\nL 35.930246 189.486044 \r\nL 36.005028 187.2376 \r\nL 36.079811 187.248304 \r\nL 36.304157 186.57331 \r\nL 36.528504 184.138465 \r\nL 37.351108 183.864034 \r\nL 37.425891 184.272451 \r\nL 37.500673 183.618357 \r\nL 37.575455 183.853018 \r\nL 37.650237 184.373676 \r\nL 37.949366 182.993805 \r\nL 38.024148 183.93724 \r\nL 38.996317 183.700924 \r\nL 39.0711 183.5258 \r\nL 39.145882 183.80785 \r\nL 39.220664 183.579878 \r\nL 39.445011 183.832779 \r\nL 39.519793 184.60159 \r\nL 40.566744 183.942488 \r\nL 40.791091 183.546086 \r\nL 41.015437 183.577393 \r\nL 42.062388 183.641055 \r\nL 42.211953 183.90921 \r\nL 42.286735 183.719554 \r\nL 43.333686 183.162322 \r\nL 43.408468 184.272628 \r\nL 43.632815 184.035112 \r\nL 43.931944 181.904898 \r\nL 44.754548 183.186569 \r\nL 44.978895 186.413022 \r\nL 45.352806 182.59971 \r\nL 45.50237 184.351687 \r\nL 46.250193 184.384246 \r\nL 46.399757 183.649382 \r\nL 46.474539 182.724647 \r\nL 46.549322 183.198522 \r\nL 46.84845 183.631522 \r\nL 46.998015 182.214827 \r\nL 47.820619 182.383289 \r\nL 47.970184 181.071028 \r\nL 48.044966 180.755779 \r\nL 48.344095 181.605232 \r\nL 48.418877 183.188865 \r\nL 48.493659 182.882628 \r\nL 49.465828 182.949311 \r\nL 49.615393 181.469654 \r\nL 49.690175 181.085579 \r\nL 49.914521 181.476134 \r\nL 49.989304 181.014102 \r\nL 50.737126 180.155605 \r\nL 50.961473 178.966341 \r\nL 51.111037 179.710536 \r\nL 51.260601 179.296446 \r\nL 51.484948 178.289098 \r\nL 52.23277 178.545565 \r\nL 52.307552 178.700665 \r\nL 52.531899 178.534766 \r\nL 52.681464 177.745786 \r\nL 52.756246 178.837757 \r\nL 52.831028 178.784799 \r\nL 53.728415 177.562828 \r\nL 53.877979 176.639995 \r\nL 54.177108 176.71756 \r\nL 54.25189 176.003152 \r\nL 54.326672 176.309148 \r\nL 54.401455 176.478335 \r\nL 55.224059 176.589263 \r\nL 55.373624 178.606266 \r\nL 55.448406 177.238707 \r\nL 55.672752 177.316592 \r\nL 55.747535 176.908772 \r\nL 55.822317 177.003485 \r\nL 55.971881 176.766955 \r\nL 56.794486 176.718887 \r\nL 56.869268 176.367983 \r\nL 56.94405 176.763869 \r\nL 57.018832 176.649892 \r\nL 57.243179 176.625754 \r\nL 57.317961 177.658612 \r\nL 57.392743 177.032157 \r\nL 57.467526 177.277574 \r\nL 58.29013 177.641008 \r\nL 58.439695 176.792555 \r\nL 58.514477 176.827718 \r\nL 58.589259 176.400063 \r\nL 58.813606 176.503801 \r\nL 58.96317 176.87441 \r\nL 59.860557 176.503927 \r\nL 59.935339 177.252786 \r\nL 60.010121 176.462328 \r\nL 60.159686 176.788991 \r\nL 60.384032 176.904872 \r\nL 60.458814 176.772947 \r\nL 61.206637 176.621065 \r\nL 61.430983 177.33013 \r\nL 61.580548 178.50411 \r\nL 61.65533 177.673637 \r\nL 61.730112 177.74078 \r\nL 61.954459 177.88705 \r\nL 62.702281 177.990133 \r\nL 62.777063 178.220446 \r\nL 63.00141 177.796214 \r\nL 63.076192 178.291909 \r\nL 63.300539 177.596708 \r\nL 64.272708 178.867451 \r\nL 64.34749 179.064995 \r\nL 64.571837 178.183754 \r\nL 64.646619 178.689686 \r\nL 64.796183 176.713152 \r\nL 64.870965 178.196038 \r\nL 65.69357 178.09948 \r\nL 65.768352 178.272488 \r\nL 66.142263 176.969687 \r\nL 66.217045 177.406578 \r\nL 66.36661 176.179489 \r\nL 66.441392 176.487861 \r\nL 67.189214 176.5301 \r\nL 67.263997 177.736319 \r\nL 67.338779 177.519201 \r\nL 67.488343 176.864976 \r\nL 67.71269 177.482938 \r\nL 67.787472 177.092347 \r\nL 67.937037 178.544089 \r\nL 68.834423 177.832907 \r\nL 69.05877 176.224899 \r\nL 69.283116 176.342204 \r\nL 69.432681 175.256262 \r\nL 70.330068 175.375981 \r\nL 70.40485 175.715522 \r\nL 70.479632 175.043343 \r\nL 70.554414 175.132324 \r\nL 70.629196 174.990886 \r\nL 70.853543 175.100593 \r\nL 70.928325 174.838545 \r\nL 71.676148 176.25559 \r\nL 71.900494 176.277187 \r\nL 72.124841 177.431823 \r\nL 72.199623 177.038422 \r\nL 72.42397 176.771325 \r\nL 73.171792 176.650439 \r\nL 73.545703 177.850077 \r\nL 73.695267 177.324038 \r\nL 73.77005 177.220727 \r\nL 74.667436 177.493382 \r\nL 74.742219 176.84246 \r\nL 74.817001 177.627968 \r\nL 75.041347 178.125608 \r\nL 75.11613 177.018574 \r\nL 75.340476 178.302833 \r\nL 76.163081 177.475043 \r\nL 76.312645 176.97342 \r\nL 76.387427 176.147328 \r\nL 76.686556 176.106691 \r\nL 76.761339 176.347265 \r\nL 76.836121 175.770698 \r\nL 76.910903 176.042714 \r\nL 77.658725 176.286771 \r\nL 77.733507 175.134123 \r\nL 77.80829 175.579207 \r\nL 78.182201 174.86998 \r\nL 78.256983 175.148483 \r\nL 78.406547 176.525723 \r\nL 79.229152 180.398636 \r\nL 79.303934 177.991221 \r\nL 79.378716 179.569328 \r\nL 79.528281 177.199595 \r\nL 79.752627 175.881661 \r\nL 79.902192 177.038929 \r\nL 80.949143 174.96894 \r\nL 81.098707 176.23354 \r\nL 82.145658 175.820868 \r\nL 82.444787 174.915934 \r\nL 82.519569 175.094674 \r\nL 82.594352 176.974088 \r\nL 82.669134 176.30776 \r\nL 83.641303 175.084729 \r\nL 83.716085 175.290477 \r\nL 84.239561 172.398485 \r\nL 85.136947 170.908675 \r\nL 85.286512 168.559296 \r\nL 85.510858 169.868043 \r\nL 85.58564 171.408377 \r\nL 85.809987 168.601909 \r\nL 86.632592 168.014054 \r\nL 87.230849 173.167187 \r\nL 87.380414 173.31543 \r\nL 88.128236 173.166526 \r\nL 88.352583 174.3685 \r\nL 88.427365 172.835442 \r\nL 88.651712 173.41565 \r\nL 88.801276 174.421387 \r\nL 88.876058 174.065655 \r\nL 89.773445 174.129314 \r\nL 89.848227 174.857635 \r\nL 89.923009 174.403353 \r\nL 89.997791 174.566081 \r\nL 90.29692 174.496357 \r\nL 90.371703 174.933524 \r\nL 91.343871 175.196674 \r\nL 91.493436 172.907384 \r\nL 91.568218 173.338714 \r\nL 91.792565 173.879296 \r\nL 91.867347 173.799083 \r\nL 92.615169 172.23443 \r\nL 92.914298 172.388722 \r\nL 93.063863 171.521713 \r\nL 93.138645 172.4091 \r\nL 93.362991 171.988649 \r\nL 94.110814 171.430033 \r\nL 94.185596 171.189083 \r\nL 94.409942 170.909077 \r\nL 94.559507 171.575934 \r\nL 94.634289 171.191399 \r\nL 94.709071 171.584753 \r\nL 95.606458 171.863846 \r\nL 95.68124 171.575661 \r\nL 95.756022 171.595544 \r\nL 95.980369 171.174214 \r\nL 96.055151 171.478467 \r\nL 96.129934 170.872513 \r\nL 96.204716 171.036773 \r\nL 96.279498 171.062699 \r\nL 97.102102 171.072145 \r\nL 97.176885 171.966604 \r\nL 97.251667 171.874561 \r\nL 97.550796 172.613005 \r\nL 97.625578 174.473781 \r\nL 97.70036 173.98759 \r\nL 97.775142 173.006258 \r\nL 97.849925 173.84477 \r\nL 98.597747 174.129735 \r\nL 98.672529 174.639038 \r\nL 98.822093 173.603416 \r\nL 98.896876 173.81709 \r\nL 99.121222 174.102237 \r\nL 99.270787 173.815985 \r\nL 99.345569 174.475472 \r\nL 100.242956 175.18023 \r\nL 100.317738 175.001497 \r\nL 100.467302 177.633224 \r\nL 100.841213 175.195491 \r\nL 101.7386 175.209436 \r\nL 102.037729 172.874715 \r\nL 102.262076 173.724203 \r\nL 102.336858 172.936543 \r\nL 103.08468 172.41849 \r\nL 103.309027 173.833603 \r\nL 103.458591 173.089031 \r\nL 103.832502 170.270314 \r\nL 104.580324 169.522891 \r\nL 104.655107 168.936818 \r\nL 104.954236 169.284983 \r\nL 105.029018 169.117978 \r\nL 105.178582 169.379856 \r\nL 106.075969 169.849274 \r\nL 106.150751 170.373633 \r\nL 106.225533 169.132743 \r\nL 106.44988 169.058087 \r\nL 106.524662 168.201658 \r\nL 106.599444 168.465684 \r\nL 106.749009 168.366428 \r\nL 107.646395 168.452515 \r\nL 107.721178 168.929074 \r\nL 107.79596 168.862382 \r\nL 108.095089 169.406881 \r\nL 108.169871 169.453107 \r\nL 108.244653 169.752287 \r\nL 108.319435 169.262374 \r\nL 109.216822 169.023451 \r\nL 109.366387 167.610763 \r\nL 109.590733 168.007591 \r\nL 109.665515 168.54889 \r\nL 109.81508 167.875363 \r\nL 110.637684 167.713313 \r\nL 110.787249 165.887952 \r\nL 110.862031 165.50664 \r\nL 110.936813 166.039213 \r\nL 111.16116 166.645237 \r\nL 111.310724 168.667334 \r\nL 112.208111 168.286065 \r\nL 112.357675 169.550711 \r\nL 112.50724 169.061883 \r\nL 113.554191 169.337611 \r\nL 113.85332 169.327927 \r\nL 114.002884 169.659099 \r\nL 114.077666 168.797913 \r\nL 114.302013 168.091872 \r\nL 115.049835 167.476267 \r\nL 115.124617 167.562807 \r\nL 115.348964 167.369015 \r\nL 115.423746 167.837061 \r\nL 115.648093 167.204664 \r\nL 116.54548 166.895979 \r\nL 116.620262 166.689742 \r\nL 117.068955 167.360641 \r\nL 117.143737 167.43849 \r\nL 117.21852 168.409691 \r\nL 118.041124 168.389169 \r\nL 118.190689 167.918877 \r\nL 118.265471 168.025703 \r\nL 118.489817 168.137604 \r\nL 118.714164 167.251259 \r\nL 118.788946 167.353932 \r\nL 119.536768 167.50879 \r\nL 119.611551 168.260279 \r\nL 119.686333 168.023561 \r\nL 119.835897 167.586055 \r\nL 120.060244 168.233027 \r\nL 120.209808 167.770497 \r\nL 120.284591 168.125349 \r\nL 121.181977 167.225722 \r\nL 121.331542 169.364037 \r\nL 121.406324 168.966332 \r\nL 121.630671 170.253926 \r\nL 121.780235 169.54673 \r\nL 122.752404 169.317404 \r\nL 122.827186 169.150126 \r\nL 122.901968 168.395418 \r\nL 122.976751 168.747759 \r\nL 123.275879 168.185857 \r\nL 124.248048 169.086115 \r\nL 124.397613 170.56179 \r\nL 124.547177 168.87165 \r\nL 124.771524 168.778142 \r\nL 125.519346 168.793453 \r\nL 125.594128 168.372945 \r\nL 125.818475 168.351603 \r\nL 126.042822 167.488697 \r\nL 126.117604 167.871257 \r\nL 127.014991 167.946016 \r\nL 127.538466 164.288806 \r\nL 127.613248 165.511646 \r\nL 127.68803 164.567926 \r\nL 128.510635 163.444476 \r\nL 128.585417 164.252361 \r\nL 128.660199 163.600645 \r\nL 128.734982 164.068701 \r\nL 128.959328 164.482712 \r\nL 129.108893 165.443561 \r\nL 129.258457 163.955385 \r\nL 130.006279 163.176504 \r\nL 130.081062 162.589471 \r\nL 130.230626 164.834253 \r\nL 130.305408 164.603982 \r\nL 130.529755 165.134774 \r\nL 130.754102 163.530819 \r\nL 131.576706 163.229537 \r\nL 131.651488 163.323413 \r\nL 131.801053 164.104381 \r\nL 132.100181 163.190903 \r\nL 132.174964 163.66152 \r\nL 132.249746 163.483421 \r\nL 133.147133 164.013324 \r\nL 133.371479 162.0872 \r\nL 133.446261 162.179562 \r\nL 133.670608 162.352499 \r\nL 133.74539 163.189852 \r\nL 134.493213 163.22275 \r\nL 134.717559 163.841817 \r\nL 134.792341 163.380816 \r\nL 134.941906 161.418985 \r\nL 135.016688 161.24574 \r\nL 135.241035 161.418339 \r\nL 135.988857 161.145703 \r\nL 136.063639 161.527663 \r\nL 136.287986 160.862415 \r\nL 136.43755 159.799007 \r\nL 136.512332 159.915464 \r\nL 136.587115 159.503881 \r\nL 137.484501 159.281253 \r\nL 137.559284 159.094398 \r\nL 137.634066 159.335446 \r\nL 137.858412 159.465539 \r\nL 138.007977 157.821653 \r\nL 138.082759 157.917131 \r\nL 138.157541 157.204204 \r\nL 138.980146 157.638444 \r\nL 139.204492 155.852352 \r\nL 139.428839 156.029144 \r\nL 139.503621 155.689447 \r\nL 139.578404 156.087318 \r\nL 139.653186 155.75358 \r\nL 139.727968 156.436567 \r\nL 140.47579 155.966473 \r\nL 140.700137 158.232562 \r\nL 140.774919 157.204162 \r\nL 140.999266 156.939945 \r\nL 141.074048 157.183325 \r\nL 141.223612 156.403887 \r\nL 142.120999 156.281827 \r\nL 142.195781 156.051382 \r\nL 142.345346 156.246134 \r\nL 142.569692 155.629373 \r\nL 142.719257 156.249144 \r\nL 143.616643 156.12375 \r\nL 143.691426 155.649742 \r\nL 143.766208 155.877699 \r\nL 143.84099 155.980004 \r\nL 144.214901 153.195304 \r\nL 144.962723 153.657376 \r\nL 145.18707 153.96066 \r\nL 145.411417 155.214375 \r\nL 145.486199 154.394734 \r\nL 145.710546 155.655152 \r\nL 146.458368 156.174901 \r\nL 146.53315 157.493805 \r\nL 146.757497 158.053205 \r\nL 146.981843 155.999865 \r\nL 147.056626 156.89935 \r\nL 147.954012 156.785192 \r\nL 148.028794 155.771419 \r\nL 148.103577 155.849467 \r\nL 148.402705 155.523319 \r\nL 148.477488 155.624822 \r\nL 148.55227 155.481219 \r\nL 148.627052 154.951946 \r\nL 149.449657 153.350678 \r\nL 149.674003 154.318781 \r\nL 149.973132 155.251883 \r\nL 150.047914 155.170845 \r\nL 150.122697 156.317481 \r\nL 150.197479 155.857471 \r\nL 151.020083 156.261107 \r\nL 151.169648 157.685408 \r\nL 151.24443 156.947927 \r\nL 151.468777 156.574677 \r\nL 151.543559 155.82312 \r\nL 151.618341 156.097664 \r\nL 151.693123 156.140146 \r\nL 152.515728 155.902142 \r\nL 152.740074 155.127355 \r\nL 153.039203 155.152976 \r\nL 153.113985 154.988408 \r\nL 153.188768 155.89087 \r\nL 154.086154 155.347013 \r\nL 154.235719 156.993396 \r\nL 154.684412 154.392854 \r\nL 155.731363 153.796242 \r\nL 155.806145 154.21073 \r\nL 155.95571 153.7871 \r\nL 156.180056 153.565689 \r\nL 157.002661 154.310431 \r\nL 157.227007 153.915738 \r\nL 157.526136 152.706546 \r\nL 158.498305 153.252314 \r\nL 158.797434 154.661298 \r\nL 158.872216 155.89104 \r\nL 158.946999 155.072657 \r\nL 159.021781 155.375637 \r\nL 159.096563 155.247539 \r\nL 159.919167 154.905143 \r\nL 160.068732 155.190843 \r\nL 160.143514 155.925693 \r\nL 160.367861 155.980936 \r\nL 160.66699 156.846304 \r\nL 161.489594 156.404866 \r\nL 161.713941 155.081055 \r\nL 162.087852 153.861936 \r\nL 162.162634 154.066776 \r\nL 163.060021 152.993494 \r\nL 163.134803 153.374145 \r\nL 163.209585 153.336937 \r\nL 163.284367 153.362831 \r\nL 163.508714 153.567824 \r\nL 163.583496 154.054594 \r\nL 163.658278 152.712364 \r\nL 164.555665 153.780755 \r\nL 164.630447 154.16618 \r\nL 164.70523 153.802733 \r\nL 164.780012 154.99025 \r\nL 164.854794 153.546721 \r\nL 165.079141 153.339205 \r\nL 165.153923 153.745199 \r\nL 165.901745 155.611231 \r\nL 166.275656 157.878455 \r\nL 166.425221 157.302375 \r\nL 166.649567 156.218947 \r\nL 167.397389 156.419194 \r\nL 167.472172 155.143656 \r\nL 167.696518 154.624267 \r\nL 167.771301 154.735319 \r\nL 167.846083 156.066661 \r\nL 167.920865 155.45856 \r\nL 167.995647 155.223776 \r\nL 168.893034 155.241061 \r\nL 169.042598 154.894711 \r\nL 169.266945 154.531136 \r\nL 169.341727 154.70794 \r\nL 169.566074 153.874897 \r\nL 170.388678 154.09994 \r\nL 170.613025 155.537289 \r\nL 170.837372 155.378957 \r\nL 170.912154 156.048618 \r\nL 171.061718 153.601349 \r\nL 171.1365 153.632773 \r\nL 171.884323 154.008535 \r\nL 172.033887 154.979974 \r\nL 172.183452 154.967391 \r\nL 172.557363 158.644051 \r\nL 172.632145 157.029001 \r\nL 173.604314 156.710399 \r\nL 173.679096 155.662417 \r\nL 173.753878 156.024765 \r\nL 173.978225 155.420594 \r\nL 174.053007 155.628575 \r\nL 174.127789 156.416957 \r\nL 175.025176 156.222786 \r\nL 175.324305 152.776874 \r\nL 175.623434 153.16501 \r\nL 176.371256 153.700949 \r\nL 176.595603 152.900793 \r\nL 176.745167 153.870188 \r\nL 176.819949 153.658834 \r\nL 176.894731 154.660212 \r\nL 177.119078 154.931072 \r\nL 177.941682 154.653996 \r\nL 178.166029 154.810532 \r\nL 178.315594 156.805127 \r\nL 178.390376 156.702657 \r\nL 178.465158 156.181225 \r\nL 179.362545 156.263693 \r\nL 179.437327 155.995091 \r\nL 179.512109 156.076569 \r\nL 179.736456 156.523148 \r\nL 179.811238 156.295859 \r\nL 179.960802 155.530843 \r\nL 180.035585 156.420026 \r\nL 180.858189 156.093698 \r\nL 180.932971 155.458156 \r\nL 181.007754 155.633472 \r\nL 181.082536 155.276031 \r\nL 181.306882 155.175435 \r\nL 181.531229 156.15575 \r\nL 181.606011 155.162395 \r\nL 182.428616 154.576257 \r\nL 182.652962 153.597883 \r\nL 182.952091 154.390139 \r\nL 183.026873 153.34027 \r\nL 183.101656 154.001764 \r\nL 183.92426 154.909448 \r\nL 183.999042 154.680024 \r\nL 184.148607 153.7702 \r\nL 184.223389 154.210592 \r\nL 184.522518 154.285351 \r\nL 184.5973 154.195818 \r\nL 185.494687 155.695058 \r\nL 185.644251 155.159595 \r\nL 185.719033 155.603314 \r\nL 186.018162 156.391432 \r\nL 186.092944 157.135778 \r\nL 186.840767 157.627664 \r\nL 187.139896 158.217434 \r\nL 187.214678 158.001037 \r\nL 187.28946 158.22199 \r\nL 187.588589 160.049015 \r\nL 188.336411 161.334625 \r\nL 188.411193 160.983062 \r\nL 188.63554 160.832382 \r\nL 188.785104 161.307211 \r\nL 188.934669 160.692999 \r\nL 189.832056 158.753629 \r\nL 189.98162 156.462418 \r\nL 190.205967 157.227265 \r\nL 190.280749 158.991898 \r\nL 190.430313 157.71542 \r\nL 190.505095 158.58446 \r\nL 191.3277 158.142813 \r\nL 191.477264 156.000095 \r\nL 191.552047 157.65906 \r\nL 191.776393 157.46494 \r\nL 192.075522 160.907155 \r\nL 192.823344 160.16419 \r\nL 192.972909 161.07469 \r\nL 193.047691 160.737523 \r\nL 193.122473 160.970295 \r\nL 193.34682 160.891201 \r\nL 193.421602 160.421777 \r\nL 193.496384 160.89581 \r\nL 193.571167 159.99432 \r\nL 194.393771 160.196576 \r\nL 194.468553 161.639169 \r\nL 194.543335 159.823274 \r\nL 194.618118 160.034026 \r\nL 194.6929 159.900347 \r\nL 194.917246 159.255628 \r\nL 194.992029 157.993138 \r\nL 195.066811 160.961774 \r\nL 196.03898 160.008931 \r\nL 196.263326 158.454415 \r\nL 196.487673 158.452246 \r\nL 196.562455 158.129023 \r\nL 197.310278 156.833381 \r\nL 197.684189 157.870089 \r\nL 197.758971 157.414251 \r\nL 197.833753 158.901837 \r\nL 198.0581 158.266282 \r\nL 199.105051 158.384307 \r\nL 199.179833 158.156013 \r\nL 199.329397 158.967669 \r\nL 200.301566 161.601536 \r\nL 200.376349 158.18349 \r\nL 200.451131 159.945313 \r\nL 200.75026 161.005154 \r\nL 200.825042 161.962794 \r\nL 200.899824 160.907614 \r\nL 200.974606 157.829081 \r\nL 201.797211 159.947026 \r\nL 201.946775 157.940091 \r\nL 202.021557 160.281547 \r\nL 202.320686 164.443716 \r\nL 202.395469 164.020383 \r\nL 202.470251 164.425828 \r\nL 202.545033 162.310773 \r\nL 203.292855 160.016325 \r\nL 203.367637 161.25654 \r\nL 203.44242 160.733542 \r\nL 203.591984 159.83818 \r\nL 203.816331 159.889299 \r\nL 204.040677 156.195653 \r\nL 204.863282 155.451797 \r\nL 204.938064 157.057979 \r\nL 205.162411 153.257113 \r\nL 205.386757 154.017017 \r\nL 205.46154 153.77865 \r\nL 205.536322 157.296103 \r\nL 206.433708 157.769779 \r\nL 206.508491 158.53276 \r\nL 206.583273 158.219617 \r\nL 206.658055 158.054443 \r\nL 206.732837 158.104224 \r\nL 206.957184 158.17056 \r\nL 207.031966 157.7964 \r\nL 207.779788 156.550556 \r\nL 208.004135 157.914081 \r\nL 208.153699 155.296489 \r\nL 208.303264 156.459168 \r\nL 208.527611 157.061502 \r\nL 209.275433 157.453881 \r\nL 209.350215 158.034478 \r\nL 209.649344 157.226283 \r\nL 209.724126 157.649969 \r\nL 209.798908 157.581064 \r\nL 209.873691 157.02105 \r\nL 210.771077 156.235166 \r\nL 210.845859 155.897747 \r\nL 210.920642 156.365293 \r\nL 211.144988 156.241325 \r\nL 211.21977 156.939863 \r\nL 211.294553 156.860197 \r\nL 211.369335 157.026353 \r\nL 211.444117 158.419736 \r\nL 212.266722 158.199229 \r\nL 212.341504 158.054228 \r\nL 212.416286 157.265264 \r\nL 212.491068 158.592564 \r\nL 212.715415 160.0223 \r\nL 213.014544 156.549996 \r\nL 213.837148 156.649123 \r\nL 213.986713 156.208919 \r\nL 214.061495 156.39986 \r\nL 214.435406 156.238694 \r\nL 214.510188 156.240101 \r\nL 215.407575 156.766412 \r\nL 215.631921 154.718346 \r\nL 215.856268 154.462634 \r\nL 215.93105 154.59677 \r\nL 216.005833 155.123961 \r\nL 216.903219 155.638304 \r\nL 216.978001 155.049368 \r\nL 217.127566 155.848735 \r\nL 217.202348 155.979649 \r\nL 217.426695 155.296923 \r\nL 218.249299 157.024034 \r\nL 218.473646 156.223855 \r\nL 218.62321 157.804281 \r\nL 218.697993 157.171718 \r\nL 218.772775 157.257191 \r\nL 218.997121 157.277769 \r\nL 219.744944 157.839182 \r\nL 219.819726 157.169827 \r\nL 220.118855 157.819756 \r\nL 220.268419 157.033872 \r\nL 220.343201 157.226778 \r\nL 221.240588 156.533337 \r\nL 221.31537 156.818516 \r\nL 221.390152 156.329954 \r\nL 221.614499 156.054912 \r\nL 221.689281 156.917808 \r\nL 221.764064 156.77779 \r\nL 221.838846 156.936722 \r\nL 221.913628 157.377506 \r\nL 222.736232 157.451366 \r\nL 222.811015 156.576376 \r\nL 222.885797 156.961121 \r\nL 222.960579 157.267432 \r\nL 223.184926 156.76542 \r\nL 223.409272 155.540767 \r\nL 223.484055 155.796862 \r\nL 224.306659 156.820069 \r\nL 224.456223 154.970265 \r\nL 224.531006 155.076482 \r\nL 224.755352 153.806813 \r\nL 224.979699 150.204413 \r\nL 225.802303 149.739352 \r\nL 225.877086 149.126541 \r\nL 226.101432 149.814987 \r\nL 226.400561 149.616497 \r\nL 226.475343 151.188096 \r\nL 227.37273 151.149846 \r\nL 227.970988 153.431306 \r\nL 228.71881 153.47855 \r\nL 228.943157 154.394124 \r\nL 229.242286 152.867687 \r\nL 229.466632 153.205612 \r\nL 230.214454 153.258384 \r\nL 230.588366 152.171921 \r\nL 230.663148 152.264158 \r\nL 230.73793 152.695625 \r\nL 230.812712 152.639028 \r\nL 231.710099 152.541382 \r\nL 231.784881 152.735851 \r\nL 231.859663 150.62754 \r\nL 232.158792 150.561302 \r\nL 232.233574 149.572146 \r\nL 232.383139 150.09865 \r\nL 233.205743 149.957899 \r\nL 233.43009 149.168832 \r\nL 233.654437 148.582541 \r\nL 233.729219 148.720507 \r\nL 233.804001 149.71629 \r\nL 233.953565 149.059766 \r\nL 234.701388 148.655608 \r\nL 234.850952 150.318139 \r\nL 234.925734 149.985878 \r\nL 235.299645 148.250688 \r\nL 235.44921 149.333373 \r\nL 236.271814 149.642683 \r\nL 236.346596 148.944899 \r\nL 236.421379 148.979995 \r\nL 236.570943 149.57675 \r\nL 236.870072 148.86883 \r\nL 236.944854 150.738532 \r\nL 237.917023 150.499186 \r\nL 237.991805 150.261354 \r\nL 238.14137 149.406059 \r\nL 238.440499 149.337542 \r\nL 239.188321 149.917185 \r\nL 239.48745 148.320183 \r\nL 239.637014 146.205585 \r\nL 240.683965 147.405208 \r\nL 240.758747 146.638329 \r\nL 240.983094 146.041724 \r\nL 241.057876 146.172624 \r\nL 241.207441 144.905331 \r\nL 241.282223 144.401422 \r\nL 242.17961 144.183178 \r\nL 242.329174 147.746549 \r\nL 242.628303 148.415589 \r\nL 242.777867 149.577883 \r\nL 242.85265 149.531845 \r\nL 243.675254 149.866456 \r\nL 243.750036 149.487864 \r\nL 243.899601 150.896809 \r\nL 244.123947 150.579187 \r\nL 244.19873 149.825715 \r\nL 244.273512 150.203998 \r\nL 244.348294 150.085698 \r\nL 244.423076 149.909522 \r\nL 245.245681 149.264523 \r\nL 245.395245 147.306976 \r\nL 245.470027 148.058913 \r\nL 245.694374 147.889113 \r\nL 245.843938 146.499381 \r\nL 245.918721 146.867123 \r\nL 246.816107 147.113465 \r\nL 246.965672 146.08095 \r\nL 247.040454 145.980249 \r\nL 247.339583 144.77061 \r\nL 247.414365 145.37436 \r\nL 248.311752 144.568599 \r\nL 248.461316 145.082565 \r\nL 248.536098 144.706308 \r\nL 248.610881 143.663419 \r\nL 248.835227 144.032823 \r\nL 248.910009 143.63345 \r\nL 249.657832 143.528002 \r\nL 249.882178 143.120068 \r\nL 250.106525 143.627379 \r\nL 250.181307 143.18125 \r\nL 250.405654 143.647348 \r\nL 251.228258 143.540424 \r\nL 251.452605 142.749881 \r\nL 251.527387 141.788525 \r\nL 251.602169 143.428154 \r\nL 251.676952 143.350961 \r\nL 251.751734 143.867812 \r\nL 252.649121 143.52632 \r\nL 252.723903 144.148555 \r\nL 252.798685 143.252658 \r\nL 253.023032 142.551208 \r\nL 253.097814 142.72828 \r\nL 253.172596 142.666181 \r\nL 253.32216 141.028069 \r\nL 254.144765 138.910638 \r\nL 254.294329 138.197415 \r\nL 254.369112 138.161596 \r\nL 254.593458 137.689393 \r\nL 254.66824 139.57303 \r\nL 254.743023 138.784289 \r\nL 254.892587 136.522164 \r\nL 255.640409 136.060163 \r\nL 255.715192 135.441514 \r\nL 255.864756 138.220579 \r\nL 255.939538 137.205527 \r\nL 256.388232 139.014602 \r\nL 257.210836 136.89026 \r\nL 257.509965 133.274512 \r\nL 257.809094 133.99057 \r\nL 257.883876 133.615142 \r\nL 258.781263 132.36229 \r\nL 258.856045 131.860929 \r\nL 258.930827 132.014404 \r\nL 259.005609 132.08558 \r\nL 259.080391 130.757582 \r\nL 259.304738 130.867851 \r\nL 259.37952 132.118737 \r\nL 260.127343 134.814484 \r\nL 260.351689 132.353421 \r\nL 260.501254 135.130844 \r\nL 260.576036 134.080196 \r\nL 260.875165 135.595821 \r\nL 261.622987 135.331355 \r\nL 261.697769 135.860837 \r\nL 261.922116 134.919414 \r\nL 262.07168 133.748103 \r\nL 262.221245 134.429052 \r\nL 263.118631 133.953919 \r\nL 263.193414 134.841392 \r\nL 263.268196 134.447102 \r\nL 263.567325 133.23948 \r\nL 263.716889 131.017142 \r\nL 263.791671 131.299646 \r\nL 264.614276 131.064322 \r\nL 264.76384 129.366317 \r\nL 264.838622 129.641056 \r\nL 265.137751 129.757924 \r\nL 265.212534 128.317526 \r\nL 265.287316 129.602423 \r\nL 265.362098 128.358778 \r\nL 266.10992 128.102665 \r\nL 266.259485 127.321707 \r\nL 266.409049 124.213956 \r\nL 266.633396 122.85611 \r\nL 266.857742 125.488649 \r\nL 267.680347 124.396289 \r\nL 267.755129 125.027416 \r\nL 268.203822 121.518361 \r\nL 268.278605 121.853756 \r\nL 268.353387 123.257051 \r\nL 269.250773 123.052693 \r\nL 269.325556 123.665127 \r\nL 269.47512 122.485858 \r\nL 269.549902 123.013332 \r\nL 269.774249 123.399624 \r\nL 269.849031 123.183427 \r\nL 270.596853 123.535329 \r\nL 270.8212 124.386701 \r\nL 270.895982 124.072164 \r\nL 270.970764 125.611901 \r\nL 271.045547 125.231749 \r\nL 271.344676 124.033677 \r\nL 272.092498 124.420623 \r\nL 272.16728 124.235811 \r\nL 272.466409 124.122203 \r\nL 272.541191 123.767212 \r\nL 272.615973 123.91203 \r\nL 272.690756 123.79983 \r\nL 273.588142 124.198447 \r\nL 273.962053 123.733345 \r\nL 274.036835 123.808883 \r\nL 274.1864 124.464491 \r\nL 274.261182 124.405314 \r\nL 275.083787 124.61768 \r\nL 275.233351 130.549586 \r\nL 275.308133 128.019876 \r\nL 275.53248 127.817989 \r\nL 275.607262 124.87126 \r\nL 275.682044 125.29044 \r\nL 275.831609 128.600403 \r\nL 276.579431 128.127867 \r\nL 276.803778 124.994799 \r\nL 276.87856 125.384271 \r\nL 277.177689 124.482341 \r\nL 277.327253 121.765798 \r\nL 278.149858 125.617852 \r\nL 278.22464 127.10998 \r\nL 278.673333 121.774364 \r\nL 278.748115 121.83045 \r\nL 278.822898 118.203603 \r\nL 279.795066 116.04827 \r\nL 279.869849 114.209835 \r\nL 280.24376 122.720136 \r\nL 280.318542 121.096679 \r\nL 281.066364 120.955088 \r\nL 281.290711 120.233598 \r\nL 281.440275 119.135221 \r\nL 281.515058 122.073255 \r\nL 281.58984 118.740681 \r\nL 281.814186 116.726329 \r\nL 282.562009 115.251603 \r\nL 282.636791 114.763475 \r\nL 282.93592 118.466586 \r\nL 283.010702 118.308746 \r\nL 283.160266 113.847665 \r\nL 284.057653 111.903599 \r\nL 284.132435 113.761313 \r\nL 284.207217 113.612896 \r\nL 284.431564 113.476675 \r\nL 284.581129 110.741228 \r\nL 284.655911 110.606325 \r\nL 284.730693 110.17706 \r\nL 285.62808 109.746874 \r\nL 285.702862 110.069526 \r\nL 285.777644 108.76365 \r\nL 286.001991 108.858415 \r\nL 286.226337 110.443949 \r\nL 286.30112 110.371209 \r\nL 287.048942 109.405581 \r\nL 287.198506 110.019741 \r\nL 287.273288 107.933247 \r\nL 287.348071 108.944983 \r\nL 287.6472 108.188997 \r\nL 287.721982 108.481926 \r\nL 287.796764 107.942592 \r\nL 288.619368 107.819348 \r\nL 288.694151 109.065034 \r\nL 288.918497 105.9717 \r\nL 289.142844 106.149559 \r\nL 289.217626 105.995525 \r\nL 289.292408 106.642437 \r\nL 290.189795 106.057649 \r\nL 290.264577 106.20363 \r\nL 290.33936 107.393228 \r\nL 290.414142 107.309676 \r\nL 290.488924 106.971603 \r\nL 290.713271 107.204666 \r\nL 290.788053 109.637426 \r\nL 291.535875 110.287232 \r\nL 291.760222 110.988788 \r\nL 291.909786 108.95145 \r\nL 291.984568 110.10961 \r\nL 292.059351 109.45409 \r\nL 293.031519 109.728655 \r\nL 293.106302 109.0594 \r\nL 293.330648 109.531409 \r\nL 293.405431 109.983729 \r\nL 293.480213 109.638718 \r\nL 293.629777 108.37675 \r\nL 294.527164 108.581644 \r\nL 294.676728 105.349684 \r\nL 294.901075 104.320077 \r\nL 294.975857 104.552169 \r\nL 295.050639 103.262922 \r\nL 295.200204 102.865357 \r\nL 296.022808 103.239666 \r\nL 296.09759 103.95998 \r\nL 296.172373 102.925811 \r\nL 296.247155 103.933713 \r\nL 296.621066 102.238959 \r\nL 296.695848 102.618271 \r\nL 296.77063 101.743989 \r\nL 297.518453 105.156943 \r\nL 297.742799 101.241034 \r\nL 298.041928 103.36253 \r\nL 298.11671 101.843817 \r\nL 298.191493 105.141378 \r\nL 298.266275 105.137721 \r\nL 299.088879 103.309669 \r\nL 299.163661 104.105581 \r\nL 299.238444 103.575086 \r\nL 299.388008 104.152753 \r\nL 299.687137 104.919601 \r\nL 299.761919 104.578284 \r\nL 300.734088 104.829565 \r\nL 300.80887 104.334056 \r\nL 300.958435 105.877469 \r\nL 301.182781 105.078849 \r\nL 301.257564 106.800494 \r\nL 302.005386 105.095471 \r\nL 302.229733 105.366224 \r\nL 302.304515 105.989799 \r\nL 302.379297 105.879242 \r\nL 302.454079 105.279658 \r\nL 302.528861 105.316982 \r\nL 302.753208 105.775047 \r\nL 303.50103 102.446818 \r\nL 303.575812 99.751149 \r\nL 303.874941 99.244093 \r\nL 304.024506 102.046562 \r\nL 304.099288 98.198616 \r\nL 304.996675 98.869439 \r\nL 305.071457 99.886961 \r\nL 305.146239 98.923347 \r\nL 305.370586 101.776916 \r\nL 305.445368 101.306151 \r\nL 305.52015 101.4779 \r\nL 305.669715 101.626775 \r\nL 306.641884 102.291796 \r\nL 306.716666 102.043134 \r\nL 306.941012 102.567772 \r\nL 307.090577 103.478824 \r\nL 307.165359 103.701919 \r\nL 307.240141 103.252399 \r\nL 308.062746 99.660945 \r\nL 308.21231 99.551858 \r\nL 308.287092 100.342626 \r\nL 308.511439 100.876777 \r\nL 308.586221 100.48016 \r\nL 308.735786 98.787851 \r\nL 309.55839 97.423189 \r\nL 309.707955 98.477558 \r\nL 309.857519 97.100031 \r\nL 310.156648 97.671629 \r\nL 310.23143 98.306361 \r\nL 311.128817 95.316715 \r\nL 311.353163 90.728208 \r\nL 311.427946 91.761745 \r\nL 311.652292 90.881587 \r\nL 311.727074 89.936871 \r\nL 312.474897 90.039761 \r\nL 312.699243 93.234029 \r\nL 312.998372 102.895263 \r\nL 313.222719 96.756038 \r\nL 313.970541 106.631439 \r\nL 314.045323 97.754194 \r\nL 314.26967 108.981683 \r\nL 314.344452 98.894567 \r\nL 314.419234 106.702622 \r\nL 314.494017 105.927184 \r\nL 314.568799 110.40347 \r\nL 315.466186 115.605663 \r\nL 315.540968 113.67071 \r\nL 315.61575 115.31844 \r\nL 316.064443 101.456286 \r\nL 317.036612 106.028351 \r\nL 317.186177 102.097181 \r\nL 317.485305 86.251809 \r\nL 317.560088 74.918971 \r\nL 317.709652 90.384467 \r\nL 318.457474 94.60359 \r\nL 318.532257 98.226019 \r\nL 318.607039 107.413856 \r\nL 318.681821 103.777916 \r\nL 318.756603 103.464846 \r\nL 318.98095 89.141751 \r\nL 319.055732 93.979489 \r\nL 319.205297 87.778881 \r\nL 320.027901 82.861657 \r\nL 320.252248 69.395228 \r\nL 320.32703 58.176061 \r\nL 320.551376 47.15531 \r\nL 320.700941 66.171087 \r\nL 321.67311 65.518064 \r\nL 321.747892 75.909634 \r\nL 321.822674 73.20022 \r\nL 321.897456 79.716767 \r\nL 322.196585 70.668872 \r\nL 322.944408 69.142187 \r\nL 323.168754 70.226096 \r\nL 323.243536 68.987557 \r\nL 323.318319 63.264215 \r\nL 323.393101 63.463964 \r\nL 323.467883 62.86951 \r\nL 323.69223 62.366711 \r\nL 324.440052 64.703637 \r\nL 324.514834 65.378433 \r\nL 324.739181 64.536954 \r\nL 325.03831 57.959016 \r\nL 325.935696 58.976657 \r\nL 326.085261 60.731555 \r\nL 326.309607 56.660794 \r\nL 326.38439 56.85102 \r\nL 326.533954 57.933275 \r\nL 326.608736 56.128698 \r\nL 327.431341 60.516101 \r\nL 327.506123 59.815378 \r\nL 327.655687 62.103512 \r\nL 328.029599 54.936443 \r\nL 328.179163 61.998311 \r\nL 328.926985 60.177555 \r\nL 329.07655 62.044094 \r\nL 329.450461 55.706305 \r\nL 329.525243 58.171366 \r\nL 329.674807 49.347567 \r\nL 330.497412 50.53074 \r\nL 330.572194 49.84964 \r\nL 330.646976 53.560912 \r\nL 330.796541 45.392305 \r\nL 331.09567 52.753944 \r\nL 331.170452 56.963316 \r\nL 332.142621 51.113788 \r\nL 332.217403 51.38918 \r\nL 332.292185 53.319407 \r\nL 332.366967 49.593816 \r\nL 332.666096 46.595345 \r\nL 333.413918 49.793335 \r\nL 333.713047 59.222072 \r\nL 333.937394 40.200983 \r\nL 334.161741 43.335002 \r\nL 334.909563 43.547252 \r\nL 335.208692 45.43917 \r\nL 335.283474 47.88289 \r\nL 335.433038 45.98265 \r\nL 336.405207 40.209793 \r\nL 336.554772 35.616436 \r\nL 336.779118 36.213239 \r\nL 336.8539 33.028166 \r\nL 336.928683 33.33849 \r\nL 337.003465 31.484608 \r\nL 337.078247 34.061896 \r\nL 337.900852 34.805911 \r\nL 338.125198 43.35339 \r\nL 338.499109 36.707176 \r\nL 338.648674 31.49899 \r\nL 339.54606 26.721566 \r\nL 339.620843 27.254813 \r\nL 339.695625 20.839478 \r\nL 339.994754 17.929382 \r\nL 340.069536 16.101818 \r\nL 340.144318 20.853164 \r\nL 340.144318 20.853164 \r\n\" style=\"fill:none;stroke:#ff7f0e;stroke-linecap:square;stroke-width:1.5;\"/>\r\n   </g>\r\n   <g id=\"line2d_16\">\r\n    <path clip-path=\"url(#p45f79f226e)\" d=\"M 35.780682 190.982189 \r\nL 35.855464 191.100435 \r\nL 36.079811 192.191091 \r\nL 36.304157 192.603081 \r\nL 36.37894 193.588538 \r\nL 36.453722 193.430687 \r\nL 36.528504 193.825842 \r\nL 37.500673 193.672773 \r\nL 37.650237 194.138182 \r\nL 37.949366 193.441243 \r\nL 38.024148 193.625009 \r\nL 39.0711 193.088126 \r\nL 39.145882 192.778425 \r\nL 39.220664 192.857763 \r\nL 39.445011 192.90191 \r\nL 39.519793 193.389609 \r\nL 40.566744 192.455287 \r\nL 40.641526 191.995147 \r\nL 40.791091 192.336225 \r\nL 41.015437 192.733842 \r\nL 41.838042 192.747131 \r\nL 42.137171 192.455414 \r\nL 42.211953 192.628677 \r\nL 42.286735 192.516896 \r\nL 43.333686 191.839265 \r\nL 43.408468 192.429761 \r\nL 43.632815 192.389496 \r\nL 43.931944 190.286069 \r\nL 44.754548 191.460314 \r\nL 44.82933 191.307145 \r\nL 44.978895 192.570833 \r\nL 45.278024 192.071102 \r\nL 45.352806 191.31346 \r\nL 45.50237 192.301827 \r\nL 46.250193 192.718671 \r\nL 46.324975 192.527326 \r\nL 46.399757 192.556942 \r\nL 46.474539 191.573692 \r\nL 46.549322 192.106334 \r\nL 46.84845 192.897609 \r\nL 46.923233 192.494773 \r\nL 46.998015 192.531722 \r\nL 47.820619 192.447882 \r\nL 47.970184 191.383345 \r\nL 48.044966 191.61691 \r\nL 48.119748 191.513301 \r\nL 48.344095 191.45218 \r\nL 48.418877 191.963958 \r\nL 48.493659 191.877645 \r\nL 49.465828 192.048951 \r\nL 49.615393 190.603895 \r\nL 49.690175 190.174107 \r\nL 49.914521 190.366132 \r\nL 49.989304 189.394626 \r\nL 50.737126 188.997476 \r\nL 50.961473 188.73512 \r\nL 51.185819 189.124843 \r\nL 51.260601 188.723605 \r\nL 51.484948 188.38753 \r\nL 52.307552 188.163784 \r\nL 52.531899 188.323825 \r\nL 52.681464 187.42755 \r\nL 52.831028 187.139459 \r\nL 53.728415 186.032067 \r\nL 53.877979 184.802517 \r\nL 54.177108 185.554777 \r\nL 54.401455 184.994898 \r\nL 55.224059 184.891663 \r\nL 55.373624 185.580507 \r\nL 55.448406 184.667041 \r\nL 55.672752 184.597165 \r\nL 55.897099 184.040547 \r\nL 55.971881 183.782525 \r\nL 56.719703 183.682476 \r\nL 56.869268 183.027496 \r\nL 56.94405 183.15444 \r\nL 57.018832 182.883554 \r\nL 57.243179 182.94842 \r\nL 57.317961 183.404113 \r\nL 57.467526 182.820154 \r\nL 58.29013 182.46591 \r\nL 58.589259 180.35623 \r\nL 58.813606 179.787123 \r\nL 58.888388 179.915169 \r\nL 58.96317 179.288826 \r\nL 59.860557 179.132495 \r\nL 59.935339 179.622454 \r\nL 60.010121 178.648212 \r\nL 60.384032 179.30161 \r\nL 60.458814 179.726787 \r\nL 61.206637 179.14158 \r\nL 61.505766 179.592013 \r\nL 61.580548 179.886584 \r\nL 61.65533 179.55683 \r\nL 61.730112 179.593876 \r\nL 61.954459 179.443961 \r\nL 62.777063 179.500885 \r\nL 63.076192 178.93528 \r\nL 63.225757 178.169241 \r\nL 63.300539 178.101669 \r\nL 64.197926 178.372373 \r\nL 64.272708 178.259564 \r\nL 64.34749 178.463736 \r\nL 64.571837 177.823938 \r\nL 64.646619 177.955652 \r\nL 64.721401 177.650453 \r\nL 64.796183 177.718219 \r\nL 64.870965 178.64659 \r\nL 65.768352 178.177966 \r\nL 65.917917 177.649939 \r\nL 66.142263 177.536066 \r\nL 66.217045 177.910474 \r\nL 66.291828 177.759087 \r\nL 66.441392 178.210483 \r\nL 67.189214 178.549921 \r\nL 67.263997 179.200477 \r\nL 67.338779 178.919366 \r\nL 67.413561 178.396249 \r\nL 67.488343 178.499004 \r\nL 67.71269 178.249217 \r\nL 67.862254 177.500532 \r\nL 67.937037 178.324507 \r\nL 68.759641 177.249438 \r\nL 68.834423 177.828412 \r\nL 69.05877 175.353755 \r\nL 69.283116 175.354093 \r\nL 69.432681 174.649772 \r\nL 70.40485 174.588438 \r\nL 70.554414 175.076169 \r\nL 70.629196 175.046825 \r\nL 70.853543 175.269064 \r\nL 70.928325 174.858244 \r\nL 71.676148 174.747738 \r\nL 71.975276 174.983437 \r\nL 72.124841 175.98929 \r\nL 72.199623 175.770433 \r\nL 72.42397 175.590212 \r\nL 73.246574 175.407697 \r\nL 73.545703 176.340694 \r\nL 73.620485 176.134846 \r\nL 73.695267 176.356013 \r\nL 73.77005 175.955427 \r\nL 74.667436 176.73976 \r\nL 74.742219 176.332654 \r\nL 74.817001 176.774949 \r\nL 75.041347 176.570049 \r\nL 75.11613 175.877635 \r\nL 75.265694 176.289794 \r\nL 75.340476 175.763932 \r\nL 76.163081 175.283064 \r\nL 76.387427 174.119045 \r\nL 76.686556 173.986584 \r\nL 76.761339 174.528124 \r\nL 76.836121 173.74075 \r\nL 76.910903 173.896415 \r\nL 77.658725 174.542629 \r\nL 77.883072 173.881659 \r\nL 78.182201 174.828601 \r\nL 78.256983 174.768206 \r\nL 78.406547 176.246621 \r\nL 79.229152 179.872341 \r\nL 79.303934 177.424533 \r\nL 79.378716 179.386919 \r\nL 79.528281 176.469627 \r\nL 79.752627 175.047165 \r\nL 79.902192 176.111889 \r\nL 80.874361 174.352805 \r\nL 80.949143 173.834066 \r\nL 81.098707 176.000163 \r\nL 81.397836 176.479481 \r\nL 82.145658 176.524662 \r\nL 82.444787 178.657292 \r\nL 82.594352 183.229488 \r\nL 82.669134 182.643184 \r\nL 82.893481 181.105408 \r\nL 83.641303 179.643925 \r\nL 83.716085 180.74216 \r\nL 84.089996 178.12371 \r\nL 84.164778 178.253655 \r\nL 84.239561 176.687752 \r\nL 85.136947 176.730302 \r\nL 85.286512 174.021818 \r\nL 85.510858 175.462702 \r\nL 85.58564 177.2015 \r\nL 85.660423 176.620589 \r\nL 85.735205 176.51552 \r\nL 85.809987 176.733038 \r\nL 86.632592 176.353219 \r\nL 86.782156 177.49516 \r\nL 86.856938 177.351077 \r\nL 87.230849 179.034634 \r\nL 87.380414 179.034234 \r\nL 88.128236 178.277204 \r\nL 88.352583 180.082414 \r\nL 88.427365 178.984094 \r\nL 88.651712 180.030846 \r\nL 88.876058 182.139714 \r\nL 89.773445 181.898128 \r\nL 89.848227 182.44373 \r\nL 89.997791 181.931408 \r\nL 90.371703 181.811201 \r\nL 91.343871 181.668637 \r\nL 91.568218 180.543958 \r\nL 91.792565 180.469081 \r\nL 91.867347 180.229628 \r\nL 92.615169 179.424078 \r\nL 92.914298 179.834018 \r\nL 93.063863 179.602308 \r\nL 93.138645 179.93692 \r\nL 93.362991 179.589132 \r\nL 94.110814 179.280512 \r\nL 94.185596 179.446981 \r\nL 94.409942 179.318828 \r\nL 94.484725 179.076172 \r\nL 94.559507 179.410832 \r\nL 94.634289 179.139942 \r\nL 94.709071 179.352226 \r\nL 95.606458 179.843682 \r\nL 95.756022 179.141314 \r\nL 95.980369 179.068729 \r\nL 96.204716 180.591139 \r\nL 96.279498 180.158719 \r\nL 97.102102 180.739038 \r\nL 97.251667 181.51171 \r\nL 97.550796 182.090184 \r\nL 97.625578 183.136777 \r\nL 97.775142 181.510335 \r\nL 97.849925 182.085988 \r\nL 98.597747 182.520309 \r\nL 98.672529 182.70562 \r\nL 98.822093 182.04509 \r\nL 98.896876 182.002153 \r\nL 99.121222 182.192371 \r\nL 99.270787 181.876415 \r\nL 99.345569 182.711318 \r\nL 100.242956 183.648205 \r\nL 100.467302 185.046305 \r\nL 100.691649 184.271906 \r\nL 100.766431 184.589314 \r\nL 100.841213 184.217697 \r\nL 101.7386 184.392091 \r\nL 101.813382 184.015194 \r\nL 101.888165 182.920811 \r\nL 101.962947 183.144727 \r\nL 102.037729 182.427714 \r\nL 102.262076 183.56446 \r\nL 102.336858 182.875532 \r\nL 103.08468 182.953025 \r\nL 103.383809 183.641684 \r\nL 103.533373 183.332404 \r\nL 103.608156 182.353663 \r\nL 103.832502 182.372487 \r\nL 104.580324 182.130605 \r\nL 104.655107 181.392438 \r\nL 104.879453 181.734165 \r\nL 104.954236 181.637484 \r\nL 105.1038 180.999089 \r\nL 105.178582 182.42383 \r\nL 106.075969 183.05536 \r\nL 106.150751 183.374401 \r\nL 106.225533 182.336438 \r\nL 106.44988 182.279314 \r\nL 106.599444 181.488018 \r\nL 106.749009 182.683355 \r\nL 107.646395 182.062095 \r\nL 107.721178 182.307666 \r\nL 107.79596 182.128948 \r\nL 108.020307 182.046282 \r\nL 108.095089 182.178813 \r\nL 108.169871 181.792742 \r\nL 108.244653 182.121177 \r\nL 108.319435 181.915604 \r\nL 109.067258 182.001001 \r\nL 109.291604 180.961594 \r\nL 109.366387 180.655626 \r\nL 109.590733 180.938716 \r\nL 109.665515 181.707485 \r\nL 109.81508 181.272725 \r\nL 110.637684 181.365458 \r\nL 110.936813 180.643183 \r\nL 111.16116 180.521425 \r\nL 111.310724 181.578862 \r\nL 112.208111 181.655541 \r\nL 112.282893 182.297889 \r\nL 112.432458 181.057808 \r\nL 112.50724 181.096387 \r\nL 113.554191 180.982278 \r\nL 113.85332 180.423166 \r\nL 114.002884 181.054183 \r\nL 114.077666 180.983882 \r\nL 114.302013 180.258205 \r\nL 115.049835 180.336659 \r\nL 115.124617 180.089083 \r\nL 115.498529 180.24959 \r\nL 115.573311 179.732008 \r\nL 115.648093 179.825796 \r\nL 116.620262 179.923639 \r\nL 116.695044 180.297976 \r\nL 116.919391 180.38921 \r\nL 117.21852 181.268491 \r\nL 118.041124 181.363682 \r\nL 118.265471 180.612423 \r\nL 118.489817 180.560099 \r\nL 118.714164 179.926025 \r\nL 118.788946 180.224078 \r\nL 119.686333 180.260699 \r\nL 119.835897 179.51148 \r\nL 120.060244 179.886602 \r\nL 120.135026 179.313301 \r\nL 120.209808 179.485953 \r\nL 120.284591 179.754642 \r\nL 121.181977 179.096283 \r\nL 121.331542 180.076669 \r\nL 121.406324 179.772647 \r\nL 121.705453 180.247704 \r\nL 121.780235 179.885701 \r\nL 122.677622 179.824323 \r\nL 122.752404 179.314238 \r\nL 122.827186 179.491148 \r\nL 122.901968 179.366509 \r\nL 122.976751 179.852177 \r\nL 123.275879 180.365138 \r\nL 124.322831 179.878858 \r\nL 124.397613 180.673031 \r\nL 124.472395 180.516317 \r\nL 124.547177 180.766264 \r\nL 124.771524 180.5282 \r\nL 125.519346 181.038735 \r\nL 125.594128 180.696641 \r\nL 125.818475 180.237941 \r\nL 125.893257 178.212262 \r\nL 125.968039 178.256205 \r\nL 126.117604 178.024616 \r\nL 127.164555 177.189373 \r\nL 127.388902 177.6805 \r\nL 127.68803 176.443084 \r\nL 128.585417 176.401503 \r\nL 128.660199 175.922357 \r\nL 128.734982 176.09006 \r\nL 129.03411 176.022701 \r\nL 129.108893 176.219213 \r\nL 129.258457 175.795427 \r\nL 130.006279 175.541724 \r\nL 130.081062 175.005193 \r\nL 130.230626 177.850241 \r\nL 130.305408 177.769144 \r\nL 130.529755 178.737272 \r\nL 130.754102 176.080141 \r\nL 131.576706 176.319782 \r\nL 131.801053 173.473895 \r\nL 131.875835 173.572513 \r\nL 132.100181 173.690013 \r\nL 132.174964 174.02317 \r\nL 132.249746 173.902265 \r\nL 133.147133 174.143346 \r\nL 133.221915 174.017106 \r\nL 133.446261 172.675015 \r\nL 133.670608 172.505366 \r\nL 133.74539 172.862004 \r\nL 134.717559 174.190815 \r\nL 134.792341 173.676523 \r\nL 134.867124 173.846451 \r\nL 135.016688 172.966413 \r\nL 135.241035 172.441505 \r\nL 136.063639 172.395025 \r\nL 136.43755 170.954981 \r\nL 136.512332 171.237899 \r\nL 136.587115 171.091548 \r\nL 137.484501 171.390868 \r\nL 137.634066 171.586542 \r\nL 137.933195 171.817582 \r\nL 138.007977 171.507506 \r\nL 138.082759 171.685249 \r\nL 138.157541 171.594779 \r\nL 138.980146 172.100223 \r\nL 139.12971 170.384079 \r\nL 139.204492 170.466936 \r\nL 139.428839 170.909503 \r\nL 139.653186 168.868143 \r\nL 140.47579 168.115416 \r\nL 140.550572 168.126236 \r\nL 140.625355 167.947563 \r\nL 140.700137 168.779557 \r\nL 140.774919 168.159832 \r\nL 141.074048 167.576449 \r\nL 141.14883 166.855003 \r\nL 141.223612 166.926884 \r\nL 142.046217 166.972896 \r\nL 142.345346 166.596205 \r\nL 142.569692 166.63257 \r\nL 142.644475 165.761165 \r\nL 142.719257 165.934107 \r\nL 143.616643 165.862821 \r\nL 143.915772 164.309992 \r\nL 144.140119 164.033649 \r\nL 144.214901 163.696554 \r\nL 144.962723 163.697348 \r\nL 145.18707 164.367291 \r\nL 145.261852 164.336448 \r\nL 145.486199 162.129 \r\nL 145.710546 162.722576 \r\nL 146.458368 161.933716 \r\nL 146.53315 163.098978 \r\nL 146.757497 164.436634 \r\nL 146.832279 162.947182 \r\nL 146.907061 163.762205 \r\nL 147.056626 162.023791 \r\nL 147.954012 162.484183 \r\nL 148.028794 161.893238 \r\nL 148.103577 161.903322 \r\nL 148.402705 162.127654 \r\nL 148.477488 162.706652 \r\nL 148.55227 161.702321 \r\nL 148.627052 162.061654 \r\nL 149.449657 161.252216 \r\nL 149.524439 161.464051 \r\nL 149.599221 161.294173 \r\nL 149.674003 161.499946 \r\nL 150.047914 161.719277 \r\nL 150.197479 163.159386 \r\nL 151.094865 164.017117 \r\nL 151.169648 164.108585 \r\nL 151.543559 162.393856 \r\nL 151.618341 161.737445 \r\nL 151.693123 162.002693 \r\nL 152.515728 161.93652 \r\nL 152.740074 159.809743 \r\nL 153.039203 158.984074 \r\nL 153.113985 157.520324 \r\nL 153.188768 158.912692 \r\nL 154.086154 158.777921 \r\nL 154.160936 159.476981 \r\nL 154.235719 159.196146 \r\nL 154.385283 159.022958 \r\nL 154.60963 158.145706 \r\nL 154.684412 158.215228 \r\nL 155.731363 157.479825 \r\nL 155.880928 156.631051 \r\nL 155.95571 157.590611 \r\nL 156.180056 157.791411 \r\nL 156.927879 158.265441 \r\nL 157.002661 157.682734 \r\nL 157.30179 157.018709 \r\nL 157.376572 156.488498 \r\nL 157.451354 156.673843 \r\nL 157.526136 156.917222 \r\nL 158.423523 156.083579 \r\nL 158.498305 155.857847 \r\nL 158.797434 156.09134 \r\nL 158.872216 156.77104 \r\nL 158.946999 156.182213 \r\nL 159.021781 156.396712 \r\nL 159.096563 156.099897 \r\nL 159.919167 155.793195 \r\nL 160.068732 153.721575 \r\nL 160.143514 153.796105 \r\nL 160.367861 154.317117 \r\nL 160.442643 153.594953 \r\nL 160.517425 151.105007 \r\nL 160.66699 154.186654 \r\nL 161.414812 153.737529 \r\nL 161.489594 154.028592 \r\nL 161.713941 152.283241 \r\nL 162.01307 150.645383 \r\nL 162.087852 150.276799 \r\nL 162.162634 150.293251 \r\nL 163.060021 149.769094 \r\nL 163.134803 149.879111 \r\nL 163.284367 150.438607 \r\nL 163.508714 150.268429 \r\nL 163.583496 150.560369 \r\nL 163.658278 150.369865 \r\nL 164.555665 151.739856 \r\nL 164.630447 152.63369 \r\nL 164.70523 152.001562 \r\nL 164.780012 153.267246 \r\nL 164.854794 152.381764 \r\nL 165.153923 153.193811 \r\nL 165.901745 154.868559 \r\nL 166.126092 156.038121 \r\nL 166.275656 154.427811 \r\nL 166.425221 152.232079 \r\nL 166.649567 151.959973 \r\nL 167.397389 151.64525 \r\nL 167.472172 150.648856 \r\nL 167.696518 150.843783 \r\nL 167.771301 151.71139 \r\nL 167.995647 149.962262 \r\nL 168.893034 150.969069 \r\nL 169.042598 149.833143 \r\nL 169.416509 149.344171 \r\nL 169.566074 149.917997 \r\nL 170.388678 148.601432 \r\nL 170.613025 152.918444 \r\nL 170.837372 153.263274 \r\nL 170.912154 152.245089 \r\nL 171.1365 145.045505 \r\nL 171.959105 144.856416 \r\nL 172.033887 145.502447 \r\nL 172.183452 145.47707 \r\nL 172.48258 149.421627 \r\nL 172.632145 147.169733 \r\nL 173.529531 147.503243 \r\nL 173.753878 145.477418 \r\nL 173.978225 144.41528 \r\nL 174.053007 144.527691 \r\nL 174.127789 146.895812 \r\nL 175.025176 146.349829 \r\nL 175.17474 146.192402 \r\nL 175.324305 144.364815 \r\nL 175.623434 144.047469 \r\nL 176.371256 144.445584 \r\nL 176.595603 145.120213 \r\nL 176.670385 144.974728 \r\nL 176.745167 145.244042 \r\nL 176.819949 144.318918 \r\nL 176.894731 145.338103 \r\nL 177.119078 146.054485 \r\nL 177.8669 146.531763 \r\nL 177.941682 145.865625 \r\nL 178.166029 145.528863 \r\nL 178.240811 145.902124 \r\nL 178.465158 147.958249 \r\nL 179.362545 147.425894 \r\nL 179.512109 146.083761 \r\nL 179.736456 146.446072 \r\nL 179.811238 147.057729 \r\nL 179.88602 146.432735 \r\nL 180.035585 147.842225 \r\nL 180.858189 148.282588 \r\nL 181.007754 150.101102 \r\nL 181.082536 149.131916 \r\nL 181.306882 148.35692 \r\nL 181.381665 148.879787 \r\nL 181.456447 148.540446 \r\nL 181.606011 147.269245 \r\nL 182.353833 146.666621 \r\nL 182.428616 147.146221 \r\nL 182.503398 148.537797 \r\nL 182.57818 148.107179 \r\nL 182.952091 149.295435 \r\nL 183.026873 149.016226 \r\nL 183.101656 149.127453 \r\nL 183.92426 150.810603 \r\nL 183.999042 150.531869 \r\nL 184.223389 149.348956 \r\nL 184.522518 150.380509 \r\nL 184.5973 150.217302 \r\nL 185.494687 152.29585 \r\nL 185.569469 151.532021 \r\nL 185.644251 151.557685 \r\nL 186.092944 152.142727 \r\nL 186.840767 151.194999 \r\nL 187.28946 154.368491 \r\nL 187.364242 155.878318 \r\nL 187.588589 157.160174 \r\nL 188.336411 157.441781 \r\nL 188.411193 159.505893 \r\nL 188.63554 157.235607 \r\nL 188.710322 158.362867 \r\nL 188.785104 157.286791 \r\nL 188.934669 158.26591 \r\nL 189.832056 157.322753 \r\nL 189.98162 151.942194 \r\nL 190.205967 152.205514 \r\nL 190.280749 154.79609 \r\nL 190.355531 153.870407 \r\nL 190.430313 153.103801 \r\nL 190.505095 153.729719 \r\nL 191.3277 152.815282 \r\nL 191.477264 151.808893 \r\nL 191.552047 152.545364 \r\nL 191.925958 154.396405 \r\nL 192.00074 154.253852 \r\nL 192.075522 155.47945 \r\nL 192.823344 154.45569 \r\nL 192.898127 155.497856 \r\nL 193.047691 154.056371 \r\nL 193.122473 153.799849 \r\nL 193.34682 154.549098 \r\nL 193.421602 155.554233 \r\nL 193.571167 152.367443 \r\nL 194.393771 151.905394 \r\nL 194.468553 152.759529 \r\nL 194.543335 151.815646 \r\nL 194.618118 152.166299 \r\nL 194.917246 151.418937 \r\nL 194.992029 151.425934 \r\nL 195.066811 150.883859 \r\nL 195.964198 149.515632 \r\nL 196.03898 150.56225 \r\nL 196.113762 149.79472 \r\nL 196.263326 150.521529 \r\nL 197.310278 150.505331 \r\nL 197.534624 150.814452 \r\nL 197.609406 152.188003 \r\nL 197.684189 152.160958 \r\nL 197.758971 151.78756 \r\nL 197.833753 154.087157 \r\nL 198.0581 154.681902 \r\nL 198.805922 154.973258 \r\nL 199.105051 156.504825 \r\nL 199.179833 156.091227 \r\nL 199.254615 157.392083 \r\nL 199.329397 156.506106 \r\nL 200.301566 160.062529 \r\nL 200.376349 157.802595 \r\nL 200.451131 160.12672 \r\nL 200.825042 162.718522 \r\nL 200.974606 158.096 \r\nL 201.797211 161.021872 \r\nL 201.946775 159.080066 \r\nL 202.021557 160.85374 \r\nL 202.470251 165.443212 \r\nL 202.545033 163.551679 \r\nL 203.292855 161.582519 \r\nL 203.367637 162.480663 \r\nL 203.591984 159.946632 \r\nL 203.816331 160.337968 \r\nL 204.040677 157.634283 \r\nL 204.863282 157.823677 \r\nL 204.938064 158.247577 \r\nL 205.012846 158.170971 \r\nL 205.087628 158.035295 \r\nL 205.162411 157.628351 \r\nL 205.386757 157.627909 \r\nL 205.46154 157.449563 \r\nL 205.536322 157.809924 \r\nL 206.433708 156.854215 \r\nL 206.508491 157.232178 \r\nL 206.583273 156.095807 \r\nL 206.732837 157.284792 \r\nL 206.957184 157.955294 \r\nL 207.031966 156.693209 \r\nL 207.779788 156.008791 \r\nL 208.004135 156.156968 \r\nL 208.153699 154.368269 \r\nL 208.303264 156.500698 \r\nL 208.527611 156.137546 \r\nL 209.350215 157.104746 \r\nL 209.724126 155.627016 \r\nL 209.798908 156.189483 \r\nL 209.873691 155.410171 \r\nL 210.771077 155.13667 \r\nL 210.920642 154.012215 \r\nL 211.144988 153.862307 \r\nL 211.21977 154.101459 \r\nL 211.294553 153.815266 \r\nL 211.369335 154.075851 \r\nL 211.444117 154.814414 \r\nL 212.341504 155.305669 \r\nL 212.416286 153.814814 \r\nL 212.491068 157.932357 \r\nL 212.715415 160.699283 \r\nL 213.014544 155.517019 \r\nL 213.762366 154.572135 \r\nL 213.837148 152.494479 \r\nL 213.91193 152.693686 \r\nL 214.061495 152.212892 \r\nL 214.285842 151.219622 \r\nL 214.360624 151.927788 \r\nL 214.510188 151.136217 \r\nL 215.332793 151.123414 \r\nL 215.407575 151.774011 \r\nL 215.482357 151.692457 \r\nL 215.557139 151.397069 \r\nL 215.631921 150.350259 \r\nL 215.856268 150.442324 \r\nL 216.005833 151.27349 \r\nL 216.903219 150.635246 \r\nL 216.978001 150.374756 \r\nL 217.127566 151.113922 \r\nL 217.202348 151.32616 \r\nL 217.501477 150.696858 \r\nL 218.249299 151.921802 \r\nL 218.473646 150.016035 \r\nL 218.548428 151.641724 \r\nL 218.62321 151.502462 \r\nL 218.697993 151.03607 \r\nL 218.772775 151.271258 \r\nL 218.997121 151.519637 \r\nL 219.744944 150.558331 \r\nL 219.819726 149.998181 \r\nL 220.044072 149.884387 \r\nL 220.118855 150.579018 \r\nL 220.268419 149.312163 \r\nL 220.343201 150.302769 \r\nL 221.240588 149.906808 \r\nL 221.31537 150.117796 \r\nL 221.614499 149.626888 \r\nL 221.689281 149.563544 \r\nL 221.838846 151.239956 \r\nL 221.913628 150.963557 \r\nL 222.736232 151.505213 \r\nL 222.885797 149.910247 \r\nL 223.184926 150.346424 \r\nL 223.409272 148.973764 \r\nL 223.484055 149.948136 \r\nL 224.231877 149.082558 \r\nL 224.306659 148.766319 \r\nL 224.456223 150.822734 \r\nL 224.531006 150.416008 \r\nL 224.755352 150.378262 \r\nL 224.979699 147.40925 \r\nL 225.802303 147.860088 \r\nL 226.02665 149.139226 \r\nL 226.101432 148.492559 \r\nL 226.400561 148.395045 \r\nL 226.475343 149.386473 \r\nL 227.37273 149.511668 \r\nL 227.447512 149.0938 \r\nL 227.522295 147.191744 \r\nL 227.597077 147.668252 \r\nL 227.671859 146.967478 \r\nL 227.970988 145.951337 \r\nL 228.71881 145.528651 \r\nL 228.943157 145.912763 \r\nL 229.017939 145.56745 \r\nL 229.167503 143.452848 \r\nL 229.242286 143.228078 \r\nL 229.466632 142.040951 \r\nL 230.214454 142.499849 \r\nL 230.289237 142.27624 \r\nL 230.588366 141.776547 \r\nL 230.663148 142.244456 \r\nL 230.73793 141.699311 \r\nL 230.812712 140.299504 \r\nL 231.710099 141.080153 \r\nL 231.784881 141.405987 \r\nL 231.859663 141.173325 \r\nL 232.08401 140.853128 \r\nL 232.158792 141.738838 \r\nL 232.233574 140.099117 \r\nL 232.308357 140.420636 \r\nL 232.383139 139.704394 \r\nL 233.205743 138.408049 \r\nL 233.280525 138.916549 \r\nL 233.355308 138.146202 \r\nL 233.43009 138.489171 \r\nL 233.654437 138.653254 \r\nL 233.804001 139.272935 \r\nL 233.878783 138.708985 \r\nL 233.953565 138.724116 \r\nL 234.701388 137.747538 \r\nL 234.77617 137.966028 \r\nL 235.224863 134.714513 \r\nL 235.374428 134.215541 \r\nL 235.44921 135.426374 \r\nL 236.271814 135.437012 \r\nL 236.346596 135.574973 \r\nL 236.421379 134.752842 \r\nL 236.570943 135.636812 \r\nL 236.79529 135.461302 \r\nL 236.944854 137.28046 \r\nL 237.917023 136.839033 \r\nL 237.991805 136.60997 \r\nL 238.14137 134.543848 \r\nL 238.365716 135.337729 \r\nL 238.440499 136.548066 \r\nL 239.188321 136.39983 \r\nL 239.412668 135.074595 \r\nL 239.48745 135.811876 \r\nL 239.711796 133.420455 \r\nL 239.936143 133.231512 \r\nL 240.683965 134.635699 \r\nL 240.983094 133.916213 \r\nL 241.057876 133.734601 \r\nL 241.282223 132.294177 \r\nL 242.17961 132.945771 \r\nL 242.254392 131.723624 \r\nL 242.329174 132.069388 \r\nL 242.553521 131.824941 \r\nL 242.703085 131.201691 \r\nL 242.777867 132.11716 \r\nL 242.85265 131.582648 \r\nL 243.675254 131.508924 \r\nL 243.750036 131.03797 \r\nL 243.899601 132.31608 \r\nL 244.123947 132.816516 \r\nL 244.19873 131.330212 \r\nL 244.273512 131.398407 \r\nL 244.348294 131.527202 \r\nL 244.423076 131.217318 \r\nL 245.245681 131.84398 \r\nL 245.320463 131.076982 \r\nL 245.395245 131.187362 \r\nL 245.470027 130.933252 \r\nL 245.918721 129.115165 \r\nL 246.741325 129.206004 \r\nL 246.816107 129.477039 \r\nL 247.040454 126.988999 \r\nL 247.264801 126.599306 \r\nL 247.414365 125.66436 \r\nL 248.311752 126.166179 \r\nL 248.386534 125.668922 \r\nL 248.461316 125.959773 \r\nL 248.610881 125.570773 \r\nL 248.910009 126.414058 \r\nL 249.657832 126.120383 \r\nL 249.882178 124.036551 \r\nL 250.031743 124.759219 \r\nL 250.106525 124.574215 \r\nL 250.405654 125.756695 \r\nL 251.228258 124.880426 \r\nL 251.452605 124.383791 \r\nL 251.676952 121.87529 \r\nL 251.751734 122.41029 \r\nL 252.649121 122.412309 \r\nL 252.723903 122.172256 \r\nL 253.023032 118.63991 \r\nL 253.097814 119.000431 \r\nL 253.172596 118.387416 \r\nL 253.32216 119.905102 \r\nL 254.144765 120.322691 \r\nL 254.219547 119.26775 \r\nL 254.294329 119.605214 \r\nL 254.593458 117.753852 \r\nL 254.892587 119.351552 \r\nL 255.640409 118.334807 \r\nL 255.715192 116.624264 \r\nL 255.789974 117.348912 \r\nL 255.939538 116.190967 \r\nL 256.163885 117.509357 \r\nL 256.238667 119.036915 \r\nL 256.313449 117.305559 \r\nL 256.388232 119.677423 \r\nL 257.210836 118.908708 \r\nL 257.285618 118.499396 \r\nL 257.509965 115.409062 \r\nL 257.883876 116.80734 \r\nL 258.856045 115.10687 \r\nL 258.930827 115.628226 \r\nL 259.080391 113.836928 \r\nL 259.37952 113.912253 \r\nL 260.127343 115.391728 \r\nL 260.351689 112.254106 \r\nL 260.501254 113.630781 \r\nL 260.576036 112.327406 \r\nL 260.875165 114.70338 \r\nL 261.622987 113.42692 \r\nL 261.697769 113.534099 \r\nL 261.922116 113.593744 \r\nL 262.07168 108.674577 \r\nL 262.146462 108.618342 \r\nL 262.221245 108.744862 \r\nL 263.118631 109.646357 \r\nL 263.193414 109.464925 \r\nL 263.268196 107.477264 \r\nL 263.492542 107.209852 \r\nL 263.567325 107.449775 \r\nL 263.716889 105.26109 \r\nL 263.791671 105.605409 \r\nL 264.614276 105.956965 \r\nL 264.76384 106.470689 \r\nL 264.838622 105.9269 \r\nL 265.137751 107.057012 \r\nL 265.212534 105.605566 \r\nL 265.287316 107.797068 \r\nL 265.362098 106.899955 \r\nL 266.10992 104.307249 \r\nL 266.409049 100.626359 \r\nL 266.708178 98.909246 \r\nL 266.78296 97.770931 \r\nL 266.857742 99.259778 \r\nL 267.680347 99.099359 \r\nL 267.755129 99.641732 \r\nL 267.979476 98.020456 \r\nL 268.278605 94.624144 \r\nL 268.353387 96.47188 \r\nL 269.250773 96.848068 \r\nL 269.325556 98.844786 \r\nL 269.47512 95.305821 \r\nL 269.549902 98.371919 \r\nL 269.774249 100.123549 \r\nL 269.849031 98.445327 \r\nL 270.596853 99.253414 \r\nL 270.8212 98.915872 \r\nL 270.895982 98.097888 \r\nL 270.970764 99.484113 \r\nL 271.045547 97.986815 \r\nL 271.120329 99.375865 \r\nL 271.344676 98.531442 \r\nL 272.16728 100.767819 \r\nL 272.466409 102.890099 \r\nL 272.690756 108.067279 \r\nL 273.588142 106.895448 \r\nL 273.662924 105.23529 \r\nL 273.737707 105.431682 \r\nL 273.962053 105.808793 \r\nL 274.036835 106.203799 \r\nL 274.261182 109.78129 \r\nL 275.083787 110.384231 \r\nL 275.233351 113.788443 \r\nL 275.308133 113.515596 \r\nL 275.53248 113.512372 \r\nL 275.607262 111.092165 \r\nL 275.756827 113.07286 \r\nL 275.831609 112.904837 \r\nL 276.579431 113.337046 \r\nL 276.803778 104.918011 \r\nL 276.87856 105.498818 \r\nL 277.102907 104.695492 \r\nL 277.177689 103.753773 \r\nL 277.252471 100.894571 \r\nL 277.327253 102.045733 \r\nL 278.149858 104.904263 \r\nL 278.22464 106.800965 \r\nL 278.299422 105.518691 \r\nL 278.448986 105.87428 \r\nL 278.673333 105.010233 \r\nL 278.748115 105.059746 \r\nL 278.822898 102.214254 \r\nL 279.720284 102.842689 \r\nL 279.795066 102.539353 \r\nL 279.869849 101.247818 \r\nL 280.019413 103.710721 \r\nL 280.318542 107.261202 \r\nL 281.066364 108.357166 \r\nL 281.440275 105.146587 \r\nL 281.515058 107.217562 \r\nL 281.58984 103.826356 \r\nL 281.814186 101.061418 \r\nL 282.562009 100.040558 \r\nL 282.636791 98.60582 \r\nL 282.93592 100.278569 \r\nL 283.160266 97.841814 \r\nL 284.057653 98.934582 \r\nL 284.207217 99.7686 \r\nL 284.506346 98.124755 \r\nL 284.581129 96.569136 \r\nL 284.655911 97.446859 \r\nL 284.730693 95.777135 \r\nL 285.553297 96.538264 \r\nL 285.702862 97.404325 \r\nL 285.777644 96.477394 \r\nL 286.076773 97.167305 \r\nL 286.30112 99.759285 \r\nL 287.048942 98.997991 \r\nL 287.123724 97.415427 \r\nL 287.198506 98.366485 \r\nL 287.273288 96.708158 \r\nL 287.348071 99.51307 \r\nL 287.6472 101.300037 \r\nL 287.721982 101.475798 \r\nL 287.796764 101.205526 \r\nL 288.619368 101.776545 \r\nL 288.694151 102.519177 \r\nL 288.768933 102.178848 \r\nL 288.843715 102.07199 \r\nL 288.918497 100.838793 \r\nL 289.142844 101.373481 \r\nL 289.217626 101.213856 \r\nL 289.292408 101.656487 \r\nL 290.189795 101.776954 \r\nL 290.33936 102.7918 \r\nL 290.414142 102.408539 \r\nL 290.713271 99.059584 \r\nL 290.788053 101.650389 \r\nL 291.535875 103.255028 \r\nL 291.760222 104.180996 \r\nL 291.835004 101.743645 \r\nL 291.909786 102.798747 \r\nL 291.984568 105.537528 \r\nL 292.059351 105.320911 \r\nL 293.031519 103.373296 \r\nL 293.405431 99.867866 \r\nL 293.480213 101.637724 \r\nL 293.554995 99.82806 \r\nL 293.629777 101.669259 \r\nL 294.527164 101.537846 \r\nL 294.676728 99.260526 \r\nL 294.901075 98.017611 \r\nL 294.975857 98.345685 \r\nL 295.050639 97.32439 \r\nL 295.200204 97.390564 \r\nL 296.022808 98.509889 \r\nL 296.172373 100.481249 \r\nL 296.247155 99.007777 \r\nL 296.471502 99.238695 \r\nL 296.621066 97.931421 \r\nL 296.77063 100.145366 \r\nL 297.518453 104.402297 \r\nL 297.668017 104.020685 \r\nL 297.742799 102.063252 \r\nL 297.817582 103.657601 \r\nL 298.041928 105.48297 \r\nL 298.11671 104.875466 \r\nL 298.266275 109.851224 \r\nL 299.088879 109.463299 \r\nL 299.163661 111.590944 \r\nL 299.388008 107.395998 \r\nL 299.687137 108.988292 \r\nL 299.761919 106.323436 \r\nL 300.659306 105.057307 \r\nL 300.734088 103.242674 \r\nL 300.80887 104.51408 \r\nL 300.958435 102.818326 \r\nL 301.182781 102.985132 \r\nL 301.257564 105.031564 \r\nL 302.005386 105.567198 \r\nL 302.229733 106.972024 \r\nL 302.304515 110.437455 \r\nL 302.379297 109.650498 \r\nL 302.454079 108.168495 \r\nL 302.528861 104.393075 \r\nL 302.753208 105.534694 \r\nL 303.575812 105.293147 \r\nL 303.800159 104.994887 \r\nL 303.874941 104.323041 \r\nL 304.024506 106.872136 \r\nL 304.099288 103.753567 \r\nL 304.996675 104.108281 \r\nL 305.146239 103.18971 \r\nL 305.52015 103.929488 \r\nL 305.594932 104.074979 \r\nL 305.669715 103.338303 \r\nL 306.492319 105.074446 \r\nL 306.716666 103.13308 \r\nL 307.090577 104.270111 \r\nL 307.240141 102.234669 \r\nL 308.062746 102.428651 \r\nL 308.287092 101.399432 \r\nL 308.511439 101.923444 \r\nL 308.586221 100.769744 \r\nL 308.735786 101.202014 \r\nL 309.55839 100.185236 \r\nL 309.782737 95.351338 \r\nL 310.156648 96.744908 \r\nL 310.23143 97.69478 \r\nL 311.128817 97.567916 \r\nL 311.353163 91.95511 \r\nL 311.427946 92.704809 \r\nL 311.652292 92.638543 \r\nL 311.727074 91.803627 \r\nL 312.474897 93.056399 \r\nL 312.699243 96.113322 \r\nL 312.92359 104.421681 \r\nL 312.998372 105.38214 \r\nL 313.222719 102.581385 \r\nL 313.970541 123.991901 \r\nL 314.045323 111.845758 \r\nL 314.344452 125.044052 \r\nL 314.419234 139.849547 \r\nL 314.494017 138.778042 \r\nL 314.568799 138.486896 \r\nL 315.540968 147.611992 \r\nL 315.61575 147.575064 \r\nL 316.064443 122.305764 \r\nL 316.96183 125.616138 \r\nL 317.186177 123.186293 \r\nL 317.485305 120.551535 \r\nL 317.560088 117.149795 \r\nL 317.63487 117.239651 \r\nL 317.709652 121.267942 \r\nL 318.457474 121.663289 \r\nL 318.607039 127.158098 \r\nL 318.681821 126.174003 \r\nL 318.756603 126.532377 \r\nL 318.98095 121.937822 \r\nL 319.055732 123.01874 \r\nL 319.205297 119.884521 \r\nL 320.027901 119.491509 \r\nL 320.102683 119.095861 \r\nL 320.551376 111.574844 \r\nL 320.700941 116.125701 \r\nL 321.598328 114.978689 \r\nL 321.897456 119.133257 \r\nL 322.121803 117.924535 \r\nL 322.196585 115.859261 \r\nL 322.944408 111.769869 \r\nL 323.168754 112.171157 \r\nL 323.243536 111.125163 \r\nL 323.318319 105.185468 \r\nL 323.393101 106.761222 \r\nL 323.467883 109.060122 \r\nL 323.69223 110.996855 \r\nL 324.440052 112.716541 \r\nL 324.514834 113.553986 \r\nL 324.739181 114.596545 \r\nL 324.888745 111.873972 \r\nL 324.963527 111.801661 \r\nL 325.03831 110.826962 \r\nL 325.935696 111.728783 \r\nL 326.085261 113.998154 \r\nL 326.38439 112.387725 \r\nL 326.459172 112.431938 \r\nL 326.608736 109.667632 \r\nL 327.431341 113.918751 \r\nL 327.506123 112.846845 \r\nL 327.580905 114.558745 \r\nL 327.655687 113.786711 \r\nL 327.880034 112.217063 \r\nL 327.954816 112.723561 \r\nL 328.179163 109.870249 \r\nL 328.926985 107.451335 \r\nL 329.001767 108.351233 \r\nL 329.151332 106.350932 \r\nL 329.226114 106.50739 \r\nL 329.450461 105.095321 \r\nL 329.525243 105.443864 \r\nL 329.674807 100.324764 \r\nL 330.497412 102.589685 \r\nL 330.572194 101.742009 \r\nL 330.646976 102.914472 \r\nL 330.796541 101.433293 \r\nL 331.09567 103.723925 \r\nL 331.170452 107.329025 \r\nL 332.067838 99.849903 \r\nL 332.142621 97.046199 \r\nL 332.292185 100.835789 \r\nL 332.366967 96.921173 \r\nL 332.666096 92.713766 \r\nL 333.413918 90.926865 \r\nL 333.638265 92.436063 \r\nL 333.937394 83.91314 \r\nL 334.161741 85.507272 \r\nL 334.909563 84.509726 \r\nL 334.984345 84.969324 \r\nL 335.208692 84.803371 \r\nL 335.433038 83.598538 \r\nL 336.405207 80.227575 \r\nL 336.479989 78.073971 \r\nL 336.554772 80.30182 \r\nL 336.779118 79.768899 \r\nL 337.003465 72.64272 \r\nL 337.078247 76.113183 \r\nL 337.900852 76.230715 \r\nL 337.975634 80.799981 \r\nL 338.050416 77.014363 \r\nL 338.125198 79.968924 \r\nL 338.349545 76.948999 \r\nL 338.573892 70.798964 \r\nL 338.648674 70.044502 \r\nL 339.471278 72.045858 \r\nL 339.54606 71.382315 \r\nL 339.620843 73.786334 \r\nL 339.695625 70.832525 \r\nL 339.919972 70.014233 \r\nL 339.994754 71.235247 \r\nL 340.069536 69.840838 \r\nL 340.144318 74.040586 \r\nL 340.144318 74.040586 \r\n\" style=\"fill:none;stroke:#2ca02c;stroke-linecap:square;stroke-width:1.5;\"/>\r\n   </g>\r\n   <g id=\"patch_3\">\r\n    <path d=\"M 20.5625 203.04 \r\nL 20.5625 7.2 \r\n\" style=\"fill:none;stroke:#000000;stroke-linecap:square;stroke-linejoin:miter;stroke-width:0.8;\"/>\r\n   </g>\r\n   <g id=\"patch_4\">\r\n    <path d=\"M 355.3625 203.04 \r\nL 355.3625 7.2 \r\n\" style=\"fill:none;stroke:#000000;stroke-linecap:square;stroke-linejoin:miter;stroke-width:0.8;\"/>\r\n   </g>\r\n   <g id=\"patch_5\">\r\n    <path d=\"M 20.5625 203.04 \r\nL 355.3625 203.04 \r\n\" style=\"fill:none;stroke:#000000;stroke-linecap:square;stroke-linejoin:miter;stroke-width:0.8;\"/>\r\n   </g>\r\n   <g id=\"patch_6\">\r\n    <path d=\"M 20.5625 7.2 \r\nL 355.3625 7.2 \r\n\" style=\"fill:none;stroke:#000000;stroke-linecap:square;stroke-linejoin:miter;stroke-width:0.8;\"/>\r\n   </g>\r\n   <g id=\"legend_1\">\r\n    <g id=\"patch_7\">\r\n     <path d=\"M 27.5625 59.790625 \r\nL 134.440625 59.790625 \r\nQ 136.440625 59.790625 136.440625 57.790625 \r\nL 136.440625 14.2 \r\nQ 136.440625 12.2 134.440625 12.2 \r\nL 27.5625 12.2 \r\nQ 25.5625 12.2 25.5625 14.2 \r\nL 25.5625 57.790625 \r\nQ 25.5625 59.790625 27.5625 59.790625 \r\nz\r\n\" style=\"fill:#ffffff;opacity:0.8;stroke:#cccccc;stroke-linejoin:miter;\"/>\r\n    </g>\r\n    <g id=\"line2d_17\">\r\n     <path d=\"M 29.5625 20.298438 \r\nL 49.5625 20.298438 \r\n\" style=\"fill:none;stroke:#1f77b4;stroke-linecap:square;stroke-width:1.5;\"/>\r\n    </g>\r\n    <g id=\"line2d_18\"/>\r\n    <g id=\"text_15\">\r\n     <!-- cumprod -->\r\n     <g transform=\"translate(57.5625 23.798438)scale(0.1 -0.1)\">\r\n      <defs>\r\n       <path d=\"M 3122 3366 \r\nL 3122 2828 \r\nQ 2878 2963 2633 3030 \r\nQ 2388 3097 2138 3097 \r\nQ 1578 3097 1268 2742 \r\nQ 959 2388 959 1747 \r\nQ 959 1106 1268 751 \r\nQ 1578 397 2138 397 \r\nQ 2388 397 2633 464 \r\nQ 2878 531 3122 666 \r\nL 3122 134 \r\nQ 2881 22 2623 -34 \r\nQ 2366 -91 2075 -91 \r\nQ 1284 -91 818 406 \r\nQ 353 903 353 1747 \r\nQ 353 2603 823 3093 \r\nQ 1294 3584 2113 3584 \r\nQ 2378 3584 2631 3529 \r\nQ 2884 3475 3122 3366 \r\nz\r\n\" id=\"DejaVuSans-63\" transform=\"scale(0.015625)\"/>\r\n       <path d=\"M 544 1381 \r\nL 544 3500 \r\nL 1119 3500 \r\nL 1119 1403 \r\nQ 1119 906 1312 657 \r\nQ 1506 409 1894 409 \r\nQ 2359 409 2629 706 \r\nQ 2900 1003 2900 1516 \r\nL 2900 3500 \r\nL 3475 3500 \r\nL 3475 0 \r\nL 2900 0 \r\nL 2900 538 \r\nQ 2691 219 2414 64 \r\nQ 2138 -91 1772 -91 \r\nQ 1169 -91 856 284 \r\nQ 544 659 544 1381 \r\nz\r\nM 1991 3584 \r\nL 1991 3584 \r\nz\r\n\" id=\"DejaVuSans-75\" transform=\"scale(0.015625)\"/>\r\n       <path d=\"M 3328 2828 \r\nQ 3544 3216 3844 3400 \r\nQ 4144 3584 4550 3584 \r\nQ 5097 3584 5394 3201 \r\nQ 5691 2819 5691 2113 \r\nL 5691 0 \r\nL 5113 0 \r\nL 5113 2094 \r\nQ 5113 2597 4934 2840 \r\nQ 4756 3084 4391 3084 \r\nQ 3944 3084 3684 2787 \r\nQ 3425 2491 3425 1978 \r\nL 3425 0 \r\nL 2847 0 \r\nL 2847 2094 \r\nQ 2847 2600 2669 2842 \r\nQ 2491 3084 2119 3084 \r\nQ 1678 3084 1418 2786 \r\nQ 1159 2488 1159 1978 \r\nL 1159 0 \r\nL 581 0 \r\nL 581 3500 \r\nL 1159 3500 \r\nL 1159 2956 \r\nQ 1356 3278 1631 3431 \r\nQ 1906 3584 2284 3584 \r\nQ 2666 3584 2933 3390 \r\nQ 3200 3197 3328 2828 \r\nz\r\n\" id=\"DejaVuSans-6d\" transform=\"scale(0.015625)\"/>\r\n       <path d=\"M 1159 525 \r\nL 1159 -1331 \r\nL 581 -1331 \r\nL 581 3500 \r\nL 1159 3500 \r\nL 1159 2969 \r\nQ 1341 3281 1617 3432 \r\nQ 1894 3584 2278 3584 \r\nQ 2916 3584 3314 3078 \r\nQ 3713 2572 3713 1747 \r\nQ 3713 922 3314 415 \r\nQ 2916 -91 2278 -91 \r\nQ 1894 -91 1617 61 \r\nQ 1341 213 1159 525 \r\nz\r\nM 3116 1747 \r\nQ 3116 2381 2855 2742 \r\nQ 2594 3103 2138 3103 \r\nQ 1681 3103 1420 2742 \r\nQ 1159 2381 1159 1747 \r\nQ 1159 1113 1420 752 \r\nQ 1681 391 2138 391 \r\nQ 2594 391 2855 752 \r\nQ 3116 1113 3116 1747 \r\nz\r\n\" id=\"DejaVuSans-70\" transform=\"scale(0.015625)\"/>\r\n       <path d=\"M 2631 2963 \r\nQ 2534 3019 2420 3045 \r\nQ 2306 3072 2169 3072 \r\nQ 1681 3072 1420 2755 \r\nQ 1159 2438 1159 1844 \r\nL 1159 0 \r\nL 581 0 \r\nL 581 3500 \r\nL 1159 3500 \r\nL 1159 2956 \r\nQ 1341 3275 1631 3429 \r\nQ 1922 3584 2338 3584 \r\nQ 2397 3584 2469 3576 \r\nQ 2541 3569 2628 3553 \r\nL 2631 2963 \r\nz\r\n\" id=\"DejaVuSans-72\" transform=\"scale(0.015625)\"/>\r\n       <path d=\"M 1959 3097 \r\nQ 1497 3097 1228 2736 \r\nQ 959 2375 959 1747 \r\nQ 959 1119 1226 758 \r\nQ 1494 397 1959 397 \r\nQ 2419 397 2687 759 \r\nQ 2956 1122 2956 1747 \r\nQ 2956 2369 2687 2733 \r\nQ 2419 3097 1959 3097 \r\nz\r\nM 1959 3584 \r\nQ 2709 3584 3137 3096 \r\nQ 3566 2609 3566 1747 \r\nQ 3566 888 3137 398 \r\nQ 2709 -91 1959 -91 \r\nQ 1206 -91 779 398 \r\nQ 353 888 353 1747 \r\nQ 353 2609 779 3096 \r\nQ 1206 3584 1959 3584 \r\nz\r\n\" id=\"DejaVuSans-6f\" transform=\"scale(0.015625)\"/>\r\n      </defs>\r\n      <use xlink:href=\"#DejaVuSans-63\"/>\r\n      <use x=\"54.980469\" xlink:href=\"#DejaVuSans-75\"/>\r\n      <use x=\"118.359375\" xlink:href=\"#DejaVuSans-6d\"/>\r\n      <use x=\"215.771484\" xlink:href=\"#DejaVuSans-70\"/>\r\n      <use x=\"279.248047\" xlink:href=\"#DejaVuSans-72\"/>\r\n      <use x=\"318.111328\" xlink:href=\"#DejaVuSans-6f\"/>\r\n      <use x=\"379.292969\" xlink:href=\"#DejaVuSans-64\"/>\r\n     </g>\r\n    </g>\r\n    <g id=\"line2d_19\">\r\n     <path d=\"M 29.5625 34.976563 \r\nL 49.5625 34.976563 \r\n\" style=\"fill:none;stroke:#ff7f0e;stroke-linecap:square;stroke-width:1.5;\"/>\r\n    </g>\r\n    <g id=\"line2d_20\"/>\r\n    <g id=\"text_16\">\r\n     <!-- mom_cumprod -->\r\n     <g transform=\"translate(57.5625 38.476563)scale(0.1 -0.1)\">\r\n      <defs>\r\n       <path d=\"M 3263 -1063 \r\nL 3263 -1509 \r\nL -63 -1509 \r\nL -63 -1063 \r\nL 3263 -1063 \r\nz\r\n\" id=\"DejaVuSans-5f\" transform=\"scale(0.015625)\"/>\r\n      </defs>\r\n      <use xlink:href=\"#DejaVuSans-6d\"/>\r\n      <use x=\"97.412109\" xlink:href=\"#DejaVuSans-6f\"/>\r\n      <use x=\"158.59375\" xlink:href=\"#DejaVuSans-6d\"/>\r\n      <use x=\"256.005859\" xlink:href=\"#DejaVuSans-5f\"/>\r\n      <use x=\"306.005859\" xlink:href=\"#DejaVuSans-63\"/>\r\n      <use x=\"360.986328\" xlink:href=\"#DejaVuSans-75\"/>\r\n      <use x=\"424.365234\" xlink:href=\"#DejaVuSans-6d\"/>\r\n      <use x=\"521.777344\" xlink:href=\"#DejaVuSans-70\"/>\r\n      <use x=\"585.253906\" xlink:href=\"#DejaVuSans-72\"/>\r\n      <use x=\"624.117188\" xlink:href=\"#DejaVuSans-6f\"/>\r\n      <use x=\"685.298828\" xlink:href=\"#DejaVuSans-64\"/>\r\n     </g>\r\n    </g>\r\n    <g id=\"line2d_21\">\r\n     <path d=\"M 29.5625 49.932813 \r\nL 49.5625 49.932813 \r\n\" style=\"fill:none;stroke:#2ca02c;stroke-linecap:square;stroke-width:1.5;\"/>\r\n    </g>\r\n    <g id=\"line2d_22\"/>\r\n    <g id=\"text_17\">\r\n     <!-- rev_cumprod -->\r\n     <g transform=\"translate(57.5625 53.432813)scale(0.1 -0.1)\">\r\n      <defs>\r\n       <path d=\"M 191 3500 \r\nL 800 3500 \r\nL 1894 563 \r\nL 2988 3500 \r\nL 3597 3500 \r\nL 2284 0 \r\nL 1503 0 \r\nL 191 3500 \r\nz\r\n\" id=\"DejaVuSans-76\" transform=\"scale(0.015625)\"/>\r\n      </defs>\r\n      <use xlink:href=\"#DejaVuSans-72\"/>\r\n      <use x=\"38.863281\" xlink:href=\"#DejaVuSans-65\"/>\r\n      <use x=\"100.386719\" xlink:href=\"#DejaVuSans-76\"/>\r\n      <use x=\"159.566406\" xlink:href=\"#DejaVuSans-5f\"/>\r\n      <use x=\"209.566406\" xlink:href=\"#DejaVuSans-63\"/>\r\n      <use x=\"264.546875\" xlink:href=\"#DejaVuSans-75\"/>\r\n      <use x=\"327.925781\" xlink:href=\"#DejaVuSans-6d\"/>\r\n      <use x=\"425.337891\" xlink:href=\"#DejaVuSans-70\"/>\r\n      <use x=\"488.814453\" xlink:href=\"#DejaVuSans-72\"/>\r\n      <use x=\"527.677734\" xlink:href=\"#DejaVuSans-6f\"/>\r\n      <use x=\"588.859375\" xlink:href=\"#DejaVuSans-64\"/>\r\n     </g>\r\n    </g>\r\n   </g>\r\n  </g>\r\n </g>\r\n <defs>\r\n  <clipPath id=\"p45f79f226e\">\r\n   <rect height=\"195.84\" width=\"334.8\" x=\"20.5625\" y=\"7.2\"/>\r\n  </clipPath>\r\n </defs>\r\n</svg>\r\n",
      "image/png": "[encoded data removed]"
     },
     "metadata": {
      "needs_background": "light"
     }
    }
   ],
   "source": [
    "df_.set_index(pd.to_datetime(df_['date']))[['cumprod','mom_cumprod','rev_cumprod']].plot()"
   ]
  },
  {
   "cell_type": "code",
   "execution_count": 47,
   "metadata": {},
   "outputs": [
    {
     "output_type": "error",
     "ename": "NameError",
     "evalue": "name 'outputdf' is not defined",
     "traceback": [
      "\u001b[1;31m---------------------------------------------------------------------------\u001b[0m",
      "\u001b[1;31mNameError\u001b[0m                                 Traceback (most recent call last)",
      "\u001b[1;32m<ipython-input-47-6ca2cf7ed6b9>\u001b[0m in \u001b[0;36m<module>\u001b[1;34m\u001b[0m\n\u001b[1;32m----> 1\u001b[1;33m \u001b[0moutputdf\u001b[0m\u001b[1;33m\u001b[0m\u001b[1;33m\u001b[0m\u001b[0m\n\u001b[0m",
      "\u001b[1;31mNameError\u001b[0m: name 'outputdf' is not defined"
     ]
    }
   ],
   "source": [
    "outputdf"
   ]
  },
  {
   "cell_type": "code",
   "execution_count": 165,
   "metadata": {},
   "outputs": [
    {
     "output_type": "execute_result",
     "data": {
      "text/plain": [
       "array([5, 6, 7, 8, 9])"
      ]
     },
     "metadata": {},
     "execution_count": 165
    }
   ],
   "source": [
    "np.unique([get_daily_j(i).date.count() for i in range(204)]) # how many days are in each get_daily_j "
   ]
  },
  {
   "cell_type": "code",
   "execution_count": 166,
   "metadata": {},
   "outputs": [
    {
     "output_type": "execute_result",
     "data": {
      "text/plain": [
       "[13, 13, 14, 14, 15]"
      ]
     },
     "metadata": {},
     "execution_count": 166
    }
   ],
   "source": [
    "[get_daily_k(i).date.count() for i in range(5)]"
   ]
  },
  {
   "cell_type": "code",
   "execution_count": 167,
   "metadata": {},
   "outputs": [
    {
     "output_type": "execute_result",
     "data": {
      "text/plain": [
       "<AxesSubplot:>"
      ]
     },
     "metadata": {},
     "execution_count": 167
    },
    {
     "output_type": "display_data",
     "data": {
      "text/plain": "<Figure size 432x288 with 1 Axes>",
      "image/svg+xml": "<?xml version=\"1.0\" encoding=\"utf-8\" standalone=\"no\"?>\r\n<!DOCTYPE svg PUBLIC \"-//W3C//DTD SVG 1.1//EN\"\r\n  \"http://www.w3.org/Graphics/SVG/1.1/DTD/svg11.dtd\">\r\n<svg height=\"248.518125pt\" version=\"1.1\" viewBox=\"0 0 375.2875 248.518125\" width=\"375.2875pt\" xmlns=\"http://www.w3.org/2000/svg\" xmlns:xlink=\"http://www.w3.org/1999/xlink\">\r\n <metadata>\r\n  <rdf:RDF xmlns:cc=\"http://creativecommons.org/ns#\" xmlns:dc=\"http://purl.org/dc/elements/1.1/\" xmlns:rdf=\"http://www.w3.org/1999/02/22-rdf-syntax-ns#\">\r\n   <cc:Work>\r\n    <dc:type rdf:resource=\"http://purl.org/dc/dcmitype/StillImage\"/>\r\n    <dc:date>2021-03-12T04:17:43.880385</dc:date>\r\n    <dc:format>image/svg+xml</dc:format>\r\n    <dc:creator>\r\n     <cc:Agent>\r\n      <dc:title>Matplotlib v3.4.0rc3, https://matplotlib.org/</dc:title>\r\n     </cc:Agent>\r\n    </dc:creator>\r\n   </cc:Work>\r\n  </rdf:RDF>\r\n </metadata>\r\n <defs>\r\n  <style type=\"text/css\">*{stroke-linecap:butt;stroke-linejoin:round;}</style>\r\n </defs>\r\n <g id=\"figure_1\">\r\n  <g id=\"patch_1\">\r\n   <path d=\"M 0 248.518125 \r\nL 375.2875 248.518125 \r\nL 375.2875 0 \r\nL 0 0 \r\nz\r\n\" style=\"fill:none;\"/>\r\n  </g>\r\n  <g id=\"axes_1\">\r\n   <g id=\"patch_2\">\r\n    <path d=\"M 33.2875 224.64 \r\nL 368.0875 224.64 \r\nL 368.0875 7.2 \r\nL 33.2875 7.2 \r\nz\r\n\" style=\"fill:#ffffff;\"/>\r\n   </g>\r\n   <g id=\"matplotlib.axis_1\">\r\n    <g id=\"xtick_1\">\r\n     <g id=\"line2d_1\">\r\n      <defs>\r\n       <path d=\"M 0 0 \r\nL 0 3.5 \r\n\" id=\"m83bd8bb9ab\" style=\"stroke:#000000;stroke-width:0.8;\"/>\r\n      </defs>\r\n      <g>\r\n       <use style=\"stroke:#000000;stroke-width:0.8;\" x=\"48.505682\" xlink:href=\"#m83bd8bb9ab\" y=\"224.64\"/>\r\n      </g>\r\n     </g>\r\n     <g id=\"text_1\">\r\n      <!-- 0 -->\r\n      <g transform=\"translate(45.324432 239.238437)scale(0.1 -0.1)\">\r\n       <defs>\r\n        <path d=\"M 2034 4250 \r\nQ 1547 4250 1301 3770 \r\nQ 1056 3291 1056 2328 \r\nQ 1056 1369 1301 889 \r\nQ 1547 409 2034 409 \r\nQ 2525 409 2770 889 \r\nQ 3016 1369 3016 2328 \r\nQ 3016 3291 2770 3770 \r\nQ 2525 4250 2034 4250 \r\nz\r\nM 2034 4750 \r\nQ 2819 4750 3233 4129 \r\nQ 3647 3509 3647 2328 \r\nQ 3647 1150 3233 529 \r\nQ 2819 -91 2034 -91 \r\nQ 1250 -91 836 529 \r\nQ 422 1150 422 2328 \r\nQ 422 3509 836 4129 \r\nQ 1250 4750 2034 4750 \r\nz\r\n\" id=\"DejaVuSans-30\" transform=\"scale(0.015625)\"/>\r\n       </defs>\r\n       <use xlink:href=\"#DejaVuSans-30\"/>\r\n      </g>\r\n     </g>\r\n    </g>\r\n    <g id=\"xtick_2\">\r\n     <g id=\"line2d_2\">\r\n      <g>\r\n       <use style=\"stroke:#000000;stroke-width:0.8;\" x=\"102.740115\" xlink:href=\"#m83bd8bb9ab\" y=\"224.64\"/>\r\n      </g>\r\n     </g>\r\n     <g id=\"text_2\">\r\n      <!-- 500 -->\r\n      <g transform=\"translate(93.196365 239.238437)scale(0.1 -0.1)\">\r\n       <defs>\r\n        <path d=\"M 691 4666 \r\nL 3169 4666 \r\nL 3169 4134 \r\nL 1269 4134 \r\nL 1269 2991 \r\nQ 1406 3038 1543 3061 \r\nQ 1681 3084 1819 3084 \r\nQ 2600 3084 3056 2656 \r\nQ 3513 2228 3513 1497 \r\nQ 3513 744 3044 326 \r\nQ 2575 -91 1722 -91 \r\nQ 1428 -91 1123 -41 \r\nQ 819 9 494 109 \r\nL 494 744 \r\nQ 775 591 1075 516 \r\nQ 1375 441 1709 441 \r\nQ 2250 441 2565 725 \r\nQ 2881 1009 2881 1497 \r\nQ 2881 1984 2565 2268 \r\nQ 2250 2553 1709 2553 \r\nQ 1456 2553 1204 2497 \r\nQ 953 2441 691 2322 \r\nL 691 4666 \r\nz\r\n\" id=\"DejaVuSans-35\" transform=\"scale(0.015625)\"/>\r\n       </defs>\r\n       <use xlink:href=\"#DejaVuSans-35\"/>\r\n       <use x=\"63.623047\" xlink:href=\"#DejaVuSans-30\"/>\r\n       <use x=\"127.246094\" xlink:href=\"#DejaVuSans-30\"/>\r\n      </g>\r\n     </g>\r\n    </g>\r\n    <g id=\"xtick_3\">\r\n     <g id=\"line2d_3\">\r\n      <g>\r\n       <use style=\"stroke:#000000;stroke-width:0.8;\" x=\"156.974547\" xlink:href=\"#m83bd8bb9ab\" y=\"224.64\"/>\r\n      </g>\r\n     </g>\r\n     <g id=\"text_3\">\r\n      <!-- 1000 -->\r\n      <g transform=\"translate(144.249547 239.238437)scale(0.1 -0.1)\">\r\n       <defs>\r\n        <path d=\"M 794 531 \r\nL 1825 531 \r\nL 1825 4091 \r\nL 703 3866 \r\nL 703 4441 \r\nL 1819 4666 \r\nL 2450 4666 \r\nL 2450 531 \r\nL 3481 531 \r\nL 3481 0 \r\nL 794 0 \r\nL 794 531 \r\nz\r\n\" id=\"DejaVuSans-31\" transform=\"scale(0.015625)\"/>\r\n       </defs>\r\n       <use xlink:href=\"#DejaVuSans-31\"/>\r\n       <use x=\"63.623047\" xlink:href=\"#DejaVuSans-30\"/>\r\n       <use x=\"127.246094\" xlink:href=\"#DejaVuSans-30\"/>\r\n       <use x=\"190.869141\" xlink:href=\"#DejaVuSans-30\"/>\r\n      </g>\r\n     </g>\r\n    </g>\r\n    <g id=\"xtick_4\">\r\n     <g id=\"line2d_4\">\r\n      <g>\r\n       <use style=\"stroke:#000000;stroke-width:0.8;\" x=\"211.20898\" xlink:href=\"#m83bd8bb9ab\" y=\"224.64\"/>\r\n      </g>\r\n     </g>\r\n     <g id=\"text_4\">\r\n      <!-- 1500 -->\r\n      <g transform=\"translate(198.48398 239.238437)scale(0.1 -0.1)\">\r\n       <use xlink:href=\"#DejaVuSans-31\"/>\r\n       <use x=\"63.623047\" xlink:href=\"#DejaVuSans-35\"/>\r\n       <use x=\"127.246094\" xlink:href=\"#DejaVuSans-30\"/>\r\n       <use x=\"190.869141\" xlink:href=\"#DejaVuSans-30\"/>\r\n      </g>\r\n     </g>\r\n    </g>\r\n    <g id=\"xtick_5\">\r\n     <g id=\"line2d_5\">\r\n      <g>\r\n       <use style=\"stroke:#000000;stroke-width:0.8;\" x=\"265.443413\" xlink:href=\"#m83bd8bb9ab\" y=\"224.64\"/>\r\n      </g>\r\n     </g>\r\n     <g id=\"text_5\">\r\n      <!-- 2000 -->\r\n      <g transform=\"translate(252.718413 239.238437)scale(0.1 -0.1)\">\r\n       <defs>\r\n        <path d=\"M 1228 531 \r\nL 3431 531 \r\nL 3431 0 \r\nL 469 0 \r\nL 469 531 \r\nQ 828 903 1448 1529 \r\nQ 2069 2156 2228 2338 \r\nQ 2531 2678 2651 2914 \r\nQ 2772 3150 2772 3378 \r\nQ 2772 3750 2511 3984 \r\nQ 2250 4219 1831 4219 \r\nQ 1534 4219 1204 4116 \r\nQ 875 4013 500 3803 \r\nL 500 4441 \r\nQ 881 4594 1212 4672 \r\nQ 1544 4750 1819 4750 \r\nQ 2544 4750 2975 4387 \r\nQ 3406 4025 3406 3419 \r\nQ 3406 3131 3298 2873 \r\nQ 3191 2616 2906 2266 \r\nQ 2828 2175 2409 1742 \r\nQ 1991 1309 1228 531 \r\nz\r\n\" id=\"DejaVuSans-32\" transform=\"scale(0.015625)\"/>\r\n       </defs>\r\n       <use xlink:href=\"#DejaVuSans-32\"/>\r\n       <use x=\"63.623047\" xlink:href=\"#DejaVuSans-30\"/>\r\n       <use x=\"127.246094\" xlink:href=\"#DejaVuSans-30\"/>\r\n       <use x=\"190.869141\" xlink:href=\"#DejaVuSans-30\"/>\r\n      </g>\r\n     </g>\r\n    </g>\r\n    <g id=\"xtick_6\">\r\n     <g id=\"line2d_6\">\r\n      <g>\r\n       <use style=\"stroke:#000000;stroke-width:0.8;\" x=\"319.677845\" xlink:href=\"#m83bd8bb9ab\" y=\"224.64\"/>\r\n      </g>\r\n     </g>\r\n     <g id=\"text_6\">\r\n      <!-- 2500 -->\r\n      <g transform=\"translate(306.952845 239.238437)scale(0.1 -0.1)\">\r\n       <use xlink:href=\"#DejaVuSans-32\"/>\r\n       <use x=\"63.623047\" xlink:href=\"#DejaVuSans-35\"/>\r\n       <use x=\"127.246094\" xlink:href=\"#DejaVuSans-30\"/>\r\n       <use x=\"190.869141\" xlink:href=\"#DejaVuSans-30\"/>\r\n      </g>\r\n     </g>\r\n    </g>\r\n   </g>\r\n   <g id=\"matplotlib.axis_2\">\r\n    <g id=\"ytick_1\">\r\n     <g id=\"line2d_7\">\r\n      <defs>\r\n       <path d=\"M 0 0 \r\nL -3.5 0 \r\n\" id=\"me716196b55\" style=\"stroke:#000000;stroke-width:0.8;\"/>\r\n      </defs>\r\n      <g>\r\n       <use style=\"stroke:#000000;stroke-width:0.8;\" x=\"33.2875\" xlink:href=\"#me716196b55\" y=\"214.756364\"/>\r\n      </g>\r\n     </g>\r\n     <g id=\"text_7\">\r\n      <!-- 0 -->\r\n      <g transform=\"translate(19.925 218.555582)scale(0.1 -0.1)\">\r\n       <use xlink:href=\"#DejaVuSans-30\"/>\r\n      </g>\r\n     </g>\r\n    </g>\r\n    <g id=\"ytick_2\">\r\n     <g id=\"line2d_8\">\r\n      <g>\r\n       <use style=\"stroke:#000000;stroke-width:0.8;\" x=\"33.2875\" xlink:href=\"#me716196b55\" y=\"190.291917\"/>\r\n      </g>\r\n     </g>\r\n     <g id=\"text_8\">\r\n      <!-- 25 -->\r\n      <g transform=\"translate(13.5625 194.091136)scale(0.1 -0.1)\">\r\n       <use xlink:href=\"#DejaVuSans-32\"/>\r\n       <use x=\"63.623047\" xlink:href=\"#DejaVuSans-35\"/>\r\n      </g>\r\n     </g>\r\n    </g>\r\n    <g id=\"ytick_3\">\r\n     <g id=\"line2d_9\">\r\n      <g>\r\n       <use style=\"stroke:#000000;stroke-width:0.8;\" x=\"33.2875\" xlink:href=\"#me716196b55\" y=\"165.827471\"/>\r\n      </g>\r\n     </g>\r\n     <g id=\"text_9\">\r\n      <!-- 50 -->\r\n      <g transform=\"translate(13.5625 169.626689)scale(0.1 -0.1)\">\r\n       <use xlink:href=\"#DejaVuSans-35\"/>\r\n       <use x=\"63.623047\" xlink:href=\"#DejaVuSans-30\"/>\r\n      </g>\r\n     </g>\r\n    </g>\r\n    <g id=\"ytick_4\">\r\n     <g id=\"line2d_10\">\r\n      <g>\r\n       <use style=\"stroke:#000000;stroke-width:0.8;\" x=\"33.2875\" xlink:href=\"#me716196b55\" y=\"141.363024\"/>\r\n      </g>\r\n     </g>\r\n     <g id=\"text_10\">\r\n      <!-- 75 -->\r\n      <g transform=\"translate(13.5625 145.162243)scale(0.1 -0.1)\">\r\n       <defs>\r\n        <path d=\"M 525 4666 \r\nL 3525 4666 \r\nL 3525 4397 \r\nL 1831 0 \r\nL 1172 0 \r\nL 2766 4134 \r\nL 525 4134 \r\nL 525 4666 \r\nz\r\n\" id=\"DejaVuSans-37\" transform=\"scale(0.015625)\"/>\r\n       </defs>\r\n       <use xlink:href=\"#DejaVuSans-37\"/>\r\n       <use x=\"63.623047\" xlink:href=\"#DejaVuSans-35\"/>\r\n      </g>\r\n     </g>\r\n    </g>\r\n    <g id=\"ytick_5\">\r\n     <g id=\"line2d_11\">\r\n      <g>\r\n       <use style=\"stroke:#000000;stroke-width:0.8;\" x=\"33.2875\" xlink:href=\"#me716196b55\" y=\"116.898578\"/>\r\n      </g>\r\n     </g>\r\n     <g id=\"text_11\">\r\n      <!-- 100 -->\r\n      <g transform=\"translate(7.2 120.697797)scale(0.1 -0.1)\">\r\n       <use xlink:href=\"#DejaVuSans-31\"/>\r\n       <use x=\"63.623047\" xlink:href=\"#DejaVuSans-30\"/>\r\n       <use x=\"127.246094\" xlink:href=\"#DejaVuSans-30\"/>\r\n      </g>\r\n     </g>\r\n    </g>\r\n    <g id=\"ytick_6\">\r\n     <g id=\"line2d_12\">\r\n      <g>\r\n       <use style=\"stroke:#000000;stroke-width:0.8;\" x=\"33.2875\" xlink:href=\"#me716196b55\" y=\"92.434131\"/>\r\n      </g>\r\n     </g>\r\n     <g id=\"text_12\">\r\n      <!-- 125 -->\r\n      <g transform=\"translate(7.2 96.23335)scale(0.1 -0.1)\">\r\n       <use xlink:href=\"#DejaVuSans-31\"/>\r\n       <use x=\"63.623047\" xlink:href=\"#DejaVuSans-32\"/>\r\n       <use x=\"127.246094\" xlink:href=\"#DejaVuSans-35\"/>\r\n      </g>\r\n     </g>\r\n    </g>\r\n    <g id=\"ytick_7\">\r\n     <g id=\"line2d_13\">\r\n      <g>\r\n       <use style=\"stroke:#000000;stroke-width:0.8;\" x=\"33.2875\" xlink:href=\"#me716196b55\" y=\"67.969685\"/>\r\n      </g>\r\n     </g>\r\n     <g id=\"text_13\">\r\n      <!-- 150 -->\r\n      <g transform=\"translate(7.2 71.768904)scale(0.1 -0.1)\">\r\n       <use xlink:href=\"#DejaVuSans-31\"/>\r\n       <use x=\"63.623047\" xlink:href=\"#DejaVuSans-35\"/>\r\n       <use x=\"127.246094\" xlink:href=\"#DejaVuSans-30\"/>\r\n      </g>\r\n     </g>\r\n    </g>\r\n    <g id=\"ytick_8\">\r\n     <g id=\"line2d_14\">\r\n      <g>\r\n       <use style=\"stroke:#000000;stroke-width:0.8;\" x=\"33.2875\" xlink:href=\"#me716196b55\" y=\"43.505239\"/>\r\n      </g>\r\n     </g>\r\n     <g id=\"text_14\">\r\n      <!-- 175 -->\r\n      <g transform=\"translate(7.2 47.304457)scale(0.1 -0.1)\">\r\n       <use xlink:href=\"#DejaVuSans-31\"/>\r\n       <use x=\"63.623047\" xlink:href=\"#DejaVuSans-37\"/>\r\n       <use x=\"127.246094\" xlink:href=\"#DejaVuSans-35\"/>\r\n      </g>\r\n     </g>\r\n    </g>\r\n    <g id=\"ytick_9\">\r\n     <g id=\"line2d_15\">\r\n      <g>\r\n       <use style=\"stroke:#000000;stroke-width:0.8;\" x=\"33.2875\" xlink:href=\"#me716196b55\" y=\"19.040792\"/>\r\n      </g>\r\n     </g>\r\n     <g id=\"text_15\">\r\n      <!-- 200 -->\r\n      <g transform=\"translate(7.2 22.840011)scale(0.1 -0.1)\">\r\n       <use xlink:href=\"#DejaVuSans-32\"/>\r\n       <use x=\"63.623047\" xlink:href=\"#DejaVuSans-30\"/>\r\n       <use x=\"127.246094\" xlink:href=\"#DejaVuSans-30\"/>\r\n      </g>\r\n     </g>\r\n    </g>\r\n   </g>\r\n   <g id=\"line2d_16\">\r\n    <path clip-path=\"url(#p019cf7ee41)\" d=\"M 48.505682 214.756364 \r\nL 49.915777 214.756364 \r\nL 50.132715 213.777786 \r\nL 51.325872 213.777786 \r\nL 51.54281 212.799208 \r\nL 52.844436 212.799208 \r\nL 53.061374 211.82063 \r\nL 54.254532 211.82063 \r\nL 54.471469 210.842052 \r\nL 55.881565 210.842052 \r\nL 56.098502 209.863474 \r\nL 57.508598 209.863474 \r\nL 57.725535 208.884896 \r\nL 58.918693 208.884896 \r\nL 59.135631 207.906319 \r\nL 60.437257 207.906319 \r\nL 60.654195 206.927741 \r\nL 61.847352 206.927741 \r\nL 62.06429 205.949163 \r\nL 63.365916 205.949163 \r\nL 63.582854 204.970585 \r\nL 64.88448 204.970585 \r\nL 65.101418 203.992007 \r\nL 66.403045 203.992007 \r\nL 66.619982 203.013429 \r\nL 68.030078 203.013429 \r\nL 68.247015 202.034851 \r\nL 69.548642 202.034851 \r\nL 69.765579 201.056274 \r\nL 71.067206 201.056274 \r\nL 71.284144 200.077696 \r\nL 72.477301 200.077696 \r\nL 72.694239 199.099118 \r\nL 73.995865 199.099118 \r\nL 74.212803 198.12054 \r\nL 75.40596 198.12054 \r\nL 75.622898 197.141962 \r\nL 76.924525 197.141962 \r\nL 77.141462 196.163384 \r\nL 78.551558 196.163384 \r\nL 78.768495 195.184806 \r\nL 79.961653 195.184806 \r\nL 80.178591 194.206229 \r\nL 81.480217 194.206229 \r\nL 81.697155 193.227651 \r\nL 82.998781 193.227651 \r\nL 83.215719 192.249073 \r\nL 84.408876 192.249073 \r\nL 84.625814 191.270495 \r\nL 85.92744 191.270495 \r\nL 86.144378 190.291917 \r\nL 87.446005 190.291917 \r\nL 87.662942 189.313339 \r\nL 88.964569 189.313339 \r\nL 89.181506 188.334761 \r\nL 90.483133 188.334761 \r\nL 90.70007 187.356184 \r\nL 92.001697 187.356184 \r\nL 92.218635 186.377606 \r\nL 93.411792 186.377606 \r\nL 93.62873 185.399028 \r\nL 94.930356 185.399028 \r\nL 95.147294 184.42045 \r\nL 96.44892 184.42045 \r\nL 96.665858 183.441872 \r\nL 98.075953 183.441872 \r\nL 98.292891 182.463294 \r\nL 99.594517 182.463294 \r\nL 99.811455 181.484716 \r\nL 101.113082 181.484716 \r\nL 101.330019 180.506139 \r\nL 102.414708 180.506139 \r\nL 102.631646 179.527561 \r\nL 103.824803 179.527561 \r\nL 104.041741 178.548983 \r\nL 105.343367 178.548983 \r\nL 105.560305 177.570405 \r\nL 106.753463 177.570405 \r\nL 106.9704 176.591827 \r\nL 108.380496 176.591827 \r\nL 108.597433 175.613249 \r\nL 109.89906 175.613249 \r\nL 110.115997 174.634671 \r\nL 111.417624 174.634671 \r\nL 111.634561 173.656094 \r\nL 112.936188 173.656094 \r\nL 113.153126 172.677516 \r\nL 114.346283 172.677516 \r\nL 114.563221 171.698938 \r\nL 115.864847 171.698938 \r\nL 116.081785 170.72036 \r\nL 117.274942 170.72036 \r\nL 117.49188 169.741782 \r\nL 118.901975 169.741782 \r\nL 119.118913 168.763204 \r\nL 120.529008 168.763204 \r\nL 120.745946 167.784626 \r\nL 121.939104 167.784626 \r\nL 122.156041 166.806049 \r\nL 123.457668 166.806049 \r\nL 123.674606 165.827471 \r\nL 124.759294 165.827471 \r\nL 124.976232 164.848893 \r\nL 126.277858 164.848893 \r\nL 126.494796 163.870315 \r\nL 127.687954 163.870315 \r\nL 127.904891 162.891737 \r\nL 129.206518 162.891737 \r\nL 129.423455 161.913159 \r\nL 130.725082 161.913159 \r\nL 130.94202 160.934581 \r\nL 132.135177 160.934581 \r\nL 132.352115 159.956004 \r\nL 133.545272 159.956004 \r\nL 133.76221 158.977426 \r\nL 135.063836 158.977426 \r\nL 135.280774 157.998848 \r\nL 136.473932 157.998848 \r\nL 136.690869 157.02027 \r\nL 137.992496 157.02027 \r\nL 138.209434 156.041692 \r\nL 139.619529 156.041692 \r\nL 139.836467 155.063114 \r\nL 141.138093 155.063114 \r\nL 141.355031 154.084536 \r\nL 142.656657 154.084536 \r\nL 142.873595 153.105959 \r\nL 144.066752 153.105959 \r\nL 144.28369 152.127381 \r\nL 145.585316 152.127381 \r\nL 145.802254 151.148803 \r\nL 147.10388 151.148803 \r\nL 147.320818 150.170225 \r\nL 148.513976 150.170225 \r\nL 148.730913 149.191647 \r\nL 150.141009 149.191647 \r\nL 150.357946 148.213069 \r\nL 151.768042 148.213069 \r\nL 151.984979 147.234491 \r\nL 153.286606 147.234491 \r\nL 153.503544 146.255914 \r\nL 154.696701 146.255914 \r\nL 154.913639 145.277336 \r\nL 156.215265 145.277336 \r\nL 156.432203 144.298758 \r\nL 157.516892 144.298758 \r\nL 157.733829 143.32018 \r\nL 158.926987 143.32018 \r\nL 159.143925 142.341602 \r\nL 160.445551 142.341602 \r\nL 160.662489 141.363024 \r\nL 162.072584 141.363024 \r\nL 162.289522 140.384446 \r\nL 163.591148 140.384446 \r\nL 163.808086 139.405869 \r\nL 165.001243 139.405869 \r\nL 165.218181 138.427291 \r\nL 166.519807 138.427291 \r\nL 166.736745 137.448713 \r\nL 167.929903 137.448713 \r\nL 168.14684 136.470135 \r\nL 169.448467 136.470135 \r\nL 169.665404 135.491557 \r\nL 170.967031 135.491557 \r\nL 171.183969 134.512979 \r\nL 172.594064 134.512979 \r\nL 172.811002 133.534401 \r\nL 174.112628 133.534401 \r\nL 174.329566 132.555824 \r\nL 175.522723 132.555824 \r\nL 175.739661 131.577246 \r\nL 177.041287 131.577246 \r\nL 177.258225 130.598668 \r\nL 178.559851 130.598668 \r\nL 178.776789 129.62009 \r\nL 180.078416 129.62009 \r\nL 180.295353 128.641512 \r\nL 181.59698 128.641512 \r\nL 181.813917 127.662934 \r\nL 183.224013 127.662934 \r\nL 183.44095 126.684356 \r\nL 184.525639 126.684356 \r\nL 184.742577 125.705779 \r\nL 185.935734 125.705779 \r\nL 186.152672 124.727201 \r\nL 187.34583 124.727201 \r\nL 187.562767 123.748623 \r\nL 188.864394 123.748623 \r\nL 189.081331 122.770045 \r\nL 190.382958 122.770045 \r\nL 190.599896 121.791467 \r\nL 191.901522 121.791467 \r\nL 192.11846 120.812889 \r\nL 193.528555 120.812889 \r\nL 193.745493 119.834311 \r\nL 194.93865 119.834311 \r\nL 195.155588 118.855734 \r\nL 196.457214 118.855734 \r\nL 196.674152 117.877156 \r\nL 197.867309 117.877156 \r\nL 198.084247 116.898578 \r\nL 199.385874 116.898578 \r\nL 199.602811 115.92 \r\nL 200.904438 115.92 \r\nL 201.121375 114.941422 \r\nL 202.531471 114.941422 \r\nL 202.748408 113.962844 \r\nL 204.050035 113.962844 \r\nL 204.266973 112.984266 \r\nL 205.568599 112.984266 \r\nL 205.785537 112.005689 \r\nL 207.087163 112.005689 \r\nL 207.304101 111.027111 \r\nL 208.605727 111.027111 \r\nL 208.822665 110.048533 \r\nL 210.015822 110.048533 \r\nL 210.23276 109.069955 \r\nL 211.317449 109.069955 \r\nL 211.534387 108.091377 \r\nL 212.836013 108.091377 \r\nL 213.052951 107.112799 \r\nL 214.463046 107.112799 \r\nL 214.679984 106.134221 \r\nL 215.873141 106.134221 \r\nL 216.090079 105.155644 \r\nL 217.391705 105.155644 \r\nL 217.608643 104.177066 \r\nL 218.801801 104.177066 \r\nL 219.018738 103.198488 \r\nL 220.320365 103.198488 \r\nL 220.537302 102.21991 \r\nL 221.838929 102.21991 \r\nL 222.055866 101.241332 \r\nL 223.357493 101.241332 \r\nL 223.574431 100.262754 \r\nL 224.984526 100.262754 \r\nL 225.201464 99.284176 \r\nL 226.394621 99.284176 \r\nL 226.611559 98.305599 \r\nL 227.913185 98.305599 \r\nL 228.130123 97.327021 \r\nL 229.431749 97.327021 \r\nL 229.648687 96.348443 \r\nL 230.841845 96.348443 \r\nL 231.058782 95.369865 \r\nL 232.360409 95.369865 \r\nL 232.577346 94.391287 \r\nL 233.987442 94.391287 \r\nL 234.204379 93.412709 \r\nL 235.614475 93.412709 \r\nL 235.831412 92.434131 \r\nL 237.02457 92.434131 \r\nL 237.241508 91.455554 \r\nL 238.434665 91.455554 \r\nL 238.651603 90.476976 \r\nL 239.736292 90.476976 \r\nL 239.953229 89.498398 \r\nL 241.254856 89.498398 \r\nL 241.471793 88.51982 \r\nL 242.664951 88.51982 \r\nL 242.881889 87.541242 \r\nL 244.291984 87.541242 \r\nL 244.508922 86.562664 \r\nL 245.919017 86.562664 \r\nL 246.135955 85.584086 \r\nL 247.329112 85.584086 \r\nL 247.54605 84.605509 \r\nL 248.847676 84.605509 \r\nL 249.064614 83.626931 \r\nL 250.257771 83.626931 \r\nL 250.474709 82.648353 \r\nL 251.776336 82.648353 \r\nL 251.993273 81.669775 \r\nL 253.186431 81.669775 \r\nL 253.403369 80.691197 \r\nL 254.813464 80.691197 \r\nL 255.030402 79.712619 \r\nL 256.440497 79.712619 \r\nL 256.657435 78.734041 \r\nL 257.850592 78.734041 \r\nL 258.06753 77.755464 \r\nL 259.369156 77.755464 \r\nL 259.586094 76.776886 \r\nL 260.88772 76.776886 \r\nL 261.104658 75.798308 \r\nL 262.406284 75.798308 \r\nL 262.623222 74.81973 \r\nL 263.81638 74.81973 \r\nL 264.033317 73.841152 \r\nL 265.443413 73.841152 \r\nL 265.66035 72.862574 \r\nL 266.853508 72.862574 \r\nL 267.070446 71.883996 \r\nL 268.263603 71.883996 \r\nL 268.480541 70.905419 \r\nL 269.673698 70.905419 \r\nL 269.890636 69.926841 \r\nL 271.192263 69.926841 \r\nL 271.4092 68.948263 \r\nL 272.602358 68.948263 \r\nL 272.819296 67.969685 \r\nL 274.120922 67.969685 \r\nL 274.33786 66.991107 \r\nL 275.747955 66.991107 \r\nL 275.964893 66.012529 \r\nL 277.266519 66.012529 \r\nL 277.483457 65.033951 \r\nL 278.785083 65.033951 \r\nL 279.002021 64.055374 \r\nL 280.195178 64.055374 \r\nL 280.412116 63.076796 \r\nL 281.713742 63.076796 \r\nL 281.93068 62.098218 \r\nL 283.232307 62.098218 \r\nL 283.449244 61.11964 \r\nL 284.642402 61.11964 \r\nL 284.85934 60.141062 \r\nL 286.269435 60.141062 \r\nL 286.486373 59.162484 \r\nL 287.896468 59.162484 \r\nL 288.113406 58.183906 \r\nL 289.415032 58.183906 \r\nL 289.63197 57.205329 \r\nL 290.825127 57.205329 \r\nL 291.042065 56.226751 \r\nL 292.235222 56.226751 \r\nL 292.45216 55.248173 \r\nL 293.536849 55.248173 \r\nL 293.753787 54.269595 \r\nL 294.946944 54.269595 \r\nL 295.163882 53.291017 \r\nL 296.573977 53.291017 \r\nL 296.790915 52.312439 \r\nL 298.092541 52.312439 \r\nL 298.309479 51.333861 \r\nL 299.611105 51.333861 \r\nL 299.828043 50.355284 \r\nL 301.129669 50.355284 \r\nL 301.346607 49.376706 \r\nL 302.539765 49.376706 \r\nL 302.756702 48.398128 \r\nL 303.94986 48.398128 \r\nL 304.166798 47.41955 \r\nL 305.468424 47.41955 \r\nL 305.685362 46.440972 \r\nL 306.986988 46.440972 \r\nL 307.203926 45.462394 \r\nL 308.614021 45.462394 \r\nL 308.830959 44.483816 \r\nL 310.132585 44.483816 \r\nL 310.349523 43.505239 \r\nL 311.54268 43.505239 \r\nL 311.759618 42.526661 \r\nL 313.061245 42.526661 \r\nL 313.278182 41.548083 \r\nL 314.579809 41.548083 \r\nL 314.796746 40.569505 \r\nL 316.098373 40.569505 \r\nL 316.315311 39.590927 \r\nL 317.725406 39.590927 \r\nL 317.942344 38.612349 \r\nL 319.24397 38.612349 \r\nL 319.460908 37.633771 \r\nL 320.545596 37.633771 \r\nL 320.762534 36.655194 \r\nL 321.955692 36.655194 \r\nL 322.172629 35.676616 \r\nL 323.474256 35.676616 \r\nL 323.691193 34.698038 \r\nL 324.884351 34.698038 \r\nL 325.101289 33.71946 \r\nL 326.402915 33.71946 \r\nL 326.619853 32.740882 \r\nL 327.921479 32.740882 \r\nL 328.138417 31.762304 \r\nL 329.548512 31.762304 \r\nL 329.76545 30.783726 \r\nL 331.067076 30.783726 \r\nL 331.284014 29.805149 \r\nL 332.477171 29.805149 \r\nL 332.694109 28.826571 \r\nL 333.995736 28.826571 \r\nL 334.212673 27.847993 \r\nL 335.405831 27.847993 \r\nL 335.622769 26.869415 \r\nL 336.924395 26.869415 \r\nL 337.141333 25.890837 \r\nL 338.551428 25.890837 \r\nL 338.768366 24.912259 \r\nL 340.069992 24.912259 \r\nL 340.28693 23.933681 \r\nL 341.588556 23.933681 \r\nL 341.805494 22.955104 \r\nL 343.10712 22.955104 \r\nL 343.324058 21.976526 \r\nL 344.625684 21.976526 \r\nL 344.842622 20.997948 \r\nL 346.03578 20.997948 \r\nL 346.252717 20.01937 \r\nL 347.445875 20.01937 \r\nL 347.662813 19.040792 \r\nL 348.964439 19.040792 \r\nL 349.181377 18.062214 \r\nL 350.483003 18.062214 \r\nL 350.699941 17.083636 \r\nL 352.869318 17.083636 \r\nL 352.869318 17.083636 \r\n\" style=\"fill:none;stroke:#1f77b4;stroke-linecap:square;stroke-width:1.5;\"/>\r\n   </g>\r\n   <g id=\"patch_3\">\r\n    <path d=\"M 33.2875 224.64 \r\nL 33.2875 7.2 \r\n\" style=\"fill:none;stroke:#000000;stroke-linecap:square;stroke-linejoin:miter;stroke-width:0.8;\"/>\r\n   </g>\r\n   <g id=\"patch_4\">\r\n    <path d=\"M 368.0875 224.64 \r\nL 368.0875 7.2 \r\n\" style=\"fill:none;stroke:#000000;stroke-linecap:square;stroke-linejoin:miter;stroke-width:0.8;\"/>\r\n   </g>\r\n   <g id=\"patch_5\">\r\n    <path d=\"M 33.2875 224.64 \r\nL 368.0875 224.64 \r\n\" style=\"fill:none;stroke:#000000;stroke-linecap:square;stroke-linejoin:miter;stroke-width:0.8;\"/>\r\n   </g>\r\n   <g id=\"patch_6\">\r\n    <path d=\"M 33.2875 7.2 \r\nL 368.0875 7.2 \r\n\" style=\"fill:none;stroke:#000000;stroke-linecap:square;stroke-linejoin:miter;stroke-width:0.8;\"/>\r\n   </g>\r\n  </g>\r\n </g>\r\n <defs>\r\n  <clipPath id=\"p019cf7ee41\">\r\n   <rect height=\"217.44\" width=\"334.8\" x=\"33.2875\" y=\"7.2\"/>\r\n  </clipPath>\r\n </defs>\r\n</svg>\r\n",
      "image/png": "[encoded data removed]"
     },
     "metadata": {
      "needs_background": "light"
     }
    }
   ],
   "source": [
    "# df = sp500\n",
    "get_daily_k()['index'].plot()"
   ]
  },
  {
   "cell_type": "code",
   "execution_count": 168,
   "metadata": {},
   "outputs": [
    {
     "output_type": "execute_result",
     "data": {
      "text/plain": [
       "index\n",
       "0    9\n",
       "Name: date, dtype: int64"
      ]
     },
     "metadata": {},
     "execution_count": 168
    }
   ],
   "source": [
    "get_j_df(0).groupby('index').date.count()"
   ]
  },
  {
   "cell_type": "code",
   "execution_count": 169,
   "metadata": {},
   "outputs": [
    {
     "output_type": "execute_result",
     "data": {
      "text/plain": [
       "        date         open         high          low        close    adj_close  \\\n",
       "0 2010-01-04  1116.560059  1133.869995  1116.560059  1132.989990  1132.989990   \n",
       "1 2010-01-05  1132.660034  1136.630005  1129.660034  1136.520020  1136.520020   \n",
       "2 2010-01-06  1135.709961  1139.189941  1133.949951  1137.140015  1137.140015   \n",
       "3 2010-01-07  1136.270020  1142.459961  1131.319946  1141.689941  1141.689941   \n",
       "4 2010-01-08  1140.520020  1145.390015  1136.219971  1144.979980  1144.979980   \n",
       "\n",
       "       volume      pctc    cumprod  index  ...     KCBe_4_2     KCUe_4_2  \\\n",
       "0  3991400000  0.016043  10.015052      0  ...  1125.862247  1150.908327   \n",
       "1  2491020000  0.003116  10.357824      0  ...  1130.125356  1150.728981   \n",
       "2  4972660000  0.000546  10.418026      0  ...  1132.931219  1149.485386   \n",
       "3  5270680000  0.004001  10.859831      0  ...  1136.434708  1155.279220   \n",
       "4  4389590000  0.002882  11.179299      0  ...  1139.852817  1158.495559   \n",
       "\n",
       "       ADX_4      DMP_4      DMN_4      QS_4     ROC_4    STDEV_4  \\\n",
       "0  31.353875  25.824193  20.473821  0.867462  0.461966   7.420261   \n",
       "1  29.868441  28.282059  16.820527  2.419983  0.916362   9.419172   \n",
       "2  31.780718  31.403334  14.268415  2.554993  0.951685  10.387101   \n",
       "3  36.597717  30.786961   9.977320  6.784973  2.384536   3.572899   \n",
       "4  42.725905  31.076194   7.501304  3.792480  1.058261   3.996610   \n",
       "\n",
       "           PVOL         EFI_4  \n",
       "0  4.522216e+12  2.361978e+10  \n",
       "1  2.831094e+12  1.768922e+10  \n",
       "2  5.654611e+12  1.184674e+10  \n",
       "3  6.017482e+12  1.670053e+10  \n",
       "4  5.025993e+12  1.579709e+10  \n",
       "\n",
       "[5 rows x 31 columns]"
      ],
      "text/html": "<div>\n<style scoped>\n    .dataframe tbody tr th:only-of-type {\n        vertical-align: middle;\n    }\n\n    .dataframe tbody tr th {\n        vertical-align: top;\n    }\n\n    .dataframe thead th {\n        text-align: right;\n    }\n</style>\n<table border=\"1\" class=\"dataframe\">\n  <thead>\n    <tr style=\"text-align: right;\">\n      <th></th>\n      <th>date</th>\n      <th>open</th>\n      <th>high</th>\n      <th>low</th>\n      <th>close</th>\n      <th>adj_close</th>\n      <th>volume</th>\n      <th>pctc</th>\n      <th>cumprod</th>\n      <th>index</th>\n      <th>...</th>\n      <th>KCBe_4_2</th>\n      <th>KCUe_4_2</th>\n      <th>ADX_4</th>\n      <th>DMP_4</th>\n      <th>DMN_4</th>\n      <th>QS_4</th>\n      <th>ROC_4</th>\n      <th>STDEV_4</th>\n      <th>PVOL</th>\n      <th>EFI_4</th>\n    </tr>\n  </thead>\n  <tbody>\n    <tr>\n      <th>0</th>\n      <td>2010-01-04</td>\n      <td>1116.560059</td>\n      <td>1133.869995</td>\n      <td>1116.560059</td>\n      <td>1132.989990</td>\n      <td>1132.989990</td>\n      <td>3991400000</td>\n      <td>0.016043</td>\n      <td>10.015052</td>\n      <td>0</td>\n      <td>...</td>\n      <td>1125.862247</td>\n      <td>1150.908327</td>\n      <td>31.353875</td>\n      <td>25.824193</td>\n      <td>20.473821</td>\n      <td>0.867462</td>\n      <td>0.461966</td>\n      <td>7.420261</td>\n      <td>4.522216e+12</td>\n      <td>2.361978e+10</td>\n    </tr>\n    <tr>\n      <th>1</th>\n      <td>2010-01-05</td>\n      <td>1132.660034</td>\n      <td>1136.630005</td>\n      <td>1129.660034</td>\n      <td>1136.520020</td>\n      <td>1136.520020</td>\n      <td>2491020000</td>\n      <td>0.003116</td>\n      <td>10.357824</td>\n      <td>0</td>\n      <td>...</td>\n      <td>1130.125356</td>\n      <td>1150.728981</td>\n      <td>29.868441</td>\n      <td>28.282059</td>\n      <td>16.820527</td>\n      <td>2.419983</td>\n      <td>0.916362</td>\n      <td>9.419172</td>\n      <td>2.831094e+12</td>\n      <td>1.768922e+10</td>\n    </tr>\n    <tr>\n      <th>2</th>\n      <td>2010-01-06</td>\n      <td>1135.709961</td>\n      <td>1139.189941</td>\n      <td>1133.949951</td>\n      <td>1137.140015</td>\n      <td>1137.140015</td>\n      <td>4972660000</td>\n      <td>0.000546</td>\n      <td>10.418026</td>\n      <td>0</td>\n      <td>...</td>\n      <td>1132.931219</td>\n      <td>1149.485386</td>\n      <td>31.780718</td>\n      <td>31.403334</td>\n      <td>14.268415</td>\n      <td>2.554993</td>\n      <td>0.951685</td>\n      <td>10.387101</td>\n      <td>5.654611e+12</td>\n      <td>1.184674e+10</td>\n    </tr>\n    <tr>\n      <th>3</th>\n      <td>2010-01-07</td>\n      <td>1136.270020</td>\n      <td>1142.459961</td>\n      <td>1131.319946</td>\n      <td>1141.689941</td>\n      <td>1141.689941</td>\n      <td>5270680000</td>\n      <td>0.004001</td>\n      <td>10.859831</td>\n      <td>0</td>\n      <td>...</td>\n      <td>1136.434708</td>\n      <td>1155.279220</td>\n      <td>36.597717</td>\n      <td>30.786961</td>\n      <td>9.977320</td>\n      <td>6.784973</td>\n      <td>2.384536</td>\n      <td>3.572899</td>\n      <td>6.017482e+12</td>\n      <td>1.670053e+10</td>\n    </tr>\n    <tr>\n      <th>4</th>\n      <td>2010-01-08</td>\n      <td>1140.520020</td>\n      <td>1145.390015</td>\n      <td>1136.219971</td>\n      <td>1144.979980</td>\n      <td>1144.979980</td>\n      <td>4389590000</td>\n      <td>0.002882</td>\n      <td>11.179299</td>\n      <td>0</td>\n      <td>...</td>\n      <td>1139.852817</td>\n      <td>1158.495559</td>\n      <td>42.725905</td>\n      <td>31.076194</td>\n      <td>7.501304</td>\n      <td>3.792480</td>\n      <td>1.058261</td>\n      <td>3.996610</td>\n      <td>5.025993e+12</td>\n      <td>1.579709e+10</td>\n    </tr>\n  </tbody>\n</table>\n<p>5 rows × 31 columns</p>\n</div>"
     },
     "metadata": {},
     "execution_count": 169
    }
   ],
   "source": [
    "per0 = get_j_df(0)\n",
    "per0.head()"
   ]
  },
  {
   "cell_type": "code",
   "execution_count": 170,
   "metadata": {},
   "outputs": [
    {
     "output_type": "execute_result",
     "data": {
      "text/plain": [
       "        date         open         high          low        close    adj_close  \\\n",
       "0 2010-01-04  1116.560059  1133.869995  1116.560059  1132.989990  1132.989990   \n",
       "1 2010-01-05  1132.660034  1136.630005  1129.660034  1136.520020  1136.520020   \n",
       "2 2010-01-06  1135.709961  1139.189941  1133.949951  1137.140015  1137.140015   \n",
       "3 2010-01-07  1136.270020  1142.459961  1131.319946  1141.689941  1141.689941   \n",
       "4 2010-01-08  1140.520020  1145.390015  1136.219971  1144.979980  1144.979980   \n",
       "5 2010-01-11  1145.959961  1149.739990  1142.020020  1146.979980  1146.979980   \n",
       "6 2010-01-12  1143.810059  1143.810059  1131.770020  1136.219971  1136.219971   \n",
       "7 2010-01-13  1137.310059  1148.400024  1133.180054  1145.680054  1145.680054   \n",
       "8 2010-01-14  1145.680054  1150.410034  1143.800049  1148.459961  1148.459961   \n",
       "\n",
       "       volume      pctc    cumprod  index  ...      ADX_4      DMP_4  \\\n",
       "0  3991400000  0.016043  10.015052      0  ...  31.353875  25.824193   \n",
       "1  2491020000  0.003116  10.357824      0  ...  29.868441  28.282059   \n",
       "2  4972660000  0.000546  10.418026      0  ...  31.780718  31.403334   \n",
       "3  5270680000  0.004001  10.859831      0  ...  36.597717  30.786961   \n",
       "4  4389590000  0.002882  11.179299      0  ...  42.725905  31.076194   \n",
       "5  4255780000  0.001747  11.373502      0  ...  50.133800  36.581995   \n",
       "6  4716160000 -0.009381  10.328688      0  ...  40.024110  23.266002   \n",
       "7  4170360000  0.008326  11.247277      0  ...  33.664016  25.518823   \n",
       "8  3915200000  0.002426  11.517210      0  ...  31.337741  26.297119   \n",
       "\n",
       "       DMN_4      QS_4     ROC_4    STDEV_4          PVOL         EFI_4  \\\n",
       "0  20.473821  0.867462  0.461966   7.420261  4.522216e+12  2.361978e+10   \n",
       "1  16.820527  2.419983  0.916362   9.419172  2.831094e+12  1.768922e+10   \n",
       "2  14.268415  2.554993  0.951685  10.387101  5.654611e+12  1.184674e+10   \n",
       "3   9.977320  6.784973  2.384536   3.572899  6.017482e+12  1.670053e+10   \n",
       "4   7.501304  3.792480  1.058261   3.996610  5.025993e+12  1.579709e+10   \n",
       "5   5.866983  3.082489  0.920350   4.299231  4.881294e+12  1.288288e+10   \n",
       "6  28.261626  0.827454 -0.080909   4.701463  5.358595e+12 -1.256865e+10   \n",
       "7  19.022968  1.564972  0.349492   4.900584  4.777898e+12  8.239593e+09   \n",
       "8  15.995175  1.144958  0.303934   5.527932  4.496450e+12  9.297313e+09   \n",
       "\n",
       "   mom_cum_ret  rev_cum_ret  \n",
       "0     0.000000     0.000000  \n",
       "1     0.027465    -0.004083  \n",
       "2     0.051667    -0.022766  \n",
       "3     0.129314    -0.027102  \n",
       "4     0.128945    -0.041748  \n",
       "5     0.152255    -0.055975  \n",
       "6     0.175668    -0.090007  \n",
       "7     0.202810    -0.084555  \n",
       "8     0.236339    -0.098202  \n",
       "\n",
       "[9 rows x 33 columns]"
      ],
      "text/html": "<div>\n<style scoped>\n    .dataframe tbody tr th:only-of-type {\n        vertical-align: middle;\n    }\n\n    .dataframe tbody tr th {\n        vertical-align: top;\n    }\n\n    .dataframe thead th {\n        text-align: right;\n    }\n</style>\n<table border=\"1\" class=\"dataframe\">\n  <thead>\n    <tr style=\"text-align: right;\">\n      <th></th>\n      <th>date</th>\n      <th>open</th>\n      <th>high</th>\n      <th>low</th>\n      <th>close</th>\n      <th>adj_close</th>\n      <th>volume</th>\n      <th>pctc</th>\n      <th>cumprod</th>\n      <th>index</th>\n      <th>...</th>\n      <th>ADX_4</th>\n      <th>DMP_4</th>\n      <th>DMN_4</th>\n      <th>QS_4</th>\n      <th>ROC_4</th>\n      <th>STDEV_4</th>\n      <th>PVOL</th>\n      <th>EFI_4</th>\n      <th>mom_cum_ret</th>\n      <th>rev_cum_ret</th>\n    </tr>\n  </thead>\n  <tbody>\n    <tr>\n      <th>0</th>\n      <td>2010-01-04</td>\n      <td>1116.560059</td>\n      <td>1133.869995</td>\n      <td>1116.560059</td>\n      <td>1132.989990</td>\n      <td>1132.989990</td>\n      <td>3991400000</td>\n      <td>0.016043</td>\n      <td>10.015052</td>\n      <td>0</td>\n      <td>...</td>\n      <td>31.353875</td>\n      <td>25.824193</td>\n      <td>20.473821</td>\n      <td>0.867462</td>\n      <td>0.461966</td>\n      <td>7.420261</td>\n      <td>4.522216e+12</td>\n      <td>2.361978e+10</td>\n      <td>0.000000</td>\n      <td>0.000000</td>\n    </tr>\n    <tr>\n      <th>1</th>\n      <td>2010-01-05</td>\n      <td>1132.660034</td>\n      <td>1136.630005</td>\n      <td>1129.660034</td>\n      <td>1136.520020</td>\n      <td>1136.520020</td>\n      <td>2491020000</td>\n      <td>0.003116</td>\n      <td>10.357824</td>\n      <td>0</td>\n      <td>...</td>\n      <td>29.868441</td>\n      <td>28.282059</td>\n      <td>16.820527</td>\n      <td>2.419983</td>\n      <td>0.916362</td>\n      <td>9.419172</td>\n      <td>2.831094e+12</td>\n      <td>1.768922e+10</td>\n      <td>0.027465</td>\n      <td>-0.004083</td>\n    </tr>\n    <tr>\n      <th>2</th>\n      <td>2010-01-06</td>\n      <td>1135.709961</td>\n      <td>1139.189941</td>\n      <td>1133.949951</td>\n      <td>1137.140015</td>\n      <td>1137.140015</td>\n      <td>4972660000</td>\n      <td>0.000546</td>\n      <td>10.418026</td>\n      <td>0</td>\n      <td>...</td>\n      <td>31.780718</td>\n      <td>31.403334</td>\n      <td>14.268415</td>\n      <td>2.554993</td>\n      <td>0.951685</td>\n      <td>10.387101</td>\n      <td>5.654611e+12</td>\n      <td>1.184674e+10</td>\n      <td>0.051667</td>\n      <td>-0.022766</td>\n    </tr>\n    <tr>\n      <th>3</th>\n      <td>2010-01-07</td>\n      <td>1136.270020</td>\n      <td>1142.459961</td>\n      <td>1131.319946</td>\n      <td>1141.689941</td>\n      <td>1141.689941</td>\n      <td>5270680000</td>\n      <td>0.004001</td>\n      <td>10.859831</td>\n      <td>0</td>\n      <td>...</td>\n      <td>36.597717</td>\n      <td>30.786961</td>\n      <td>9.977320</td>\n      <td>6.784973</td>\n      <td>2.384536</td>\n      <td>3.572899</td>\n      <td>6.017482e+12</td>\n      <td>1.670053e+10</td>\n      <td>0.129314</td>\n      <td>-0.027102</td>\n    </tr>\n    <tr>\n      <th>4</th>\n      <td>2010-01-08</td>\n      <td>1140.520020</td>\n      <td>1145.390015</td>\n      <td>1136.219971</td>\n      <td>1144.979980</td>\n      <td>1144.979980</td>\n      <td>4389590000</td>\n      <td>0.002882</td>\n      <td>11.179299</td>\n      <td>0</td>\n      <td>...</td>\n      <td>42.725905</td>\n      <td>31.076194</td>\n      <td>7.501304</td>\n      <td>3.792480</td>\n      <td>1.058261</td>\n      <td>3.996610</td>\n      <td>5.025993e+12</td>\n      <td>1.579709e+10</td>\n      <td>0.128945</td>\n      <td>-0.041748</td>\n    </tr>\n    <tr>\n      <th>5</th>\n      <td>2010-01-11</td>\n      <td>1145.959961</td>\n      <td>1149.739990</td>\n      <td>1142.020020</td>\n      <td>1146.979980</td>\n      <td>1146.979980</td>\n      <td>4255780000</td>\n      <td>0.001747</td>\n      <td>11.373502</td>\n      <td>0</td>\n      <td>...</td>\n      <td>50.133800</td>\n      <td>36.581995</td>\n      <td>5.866983</td>\n      <td>3.082489</td>\n      <td>0.920350</td>\n      <td>4.299231</td>\n      <td>4.881294e+12</td>\n      <td>1.288288e+10</td>\n      <td>0.152255</td>\n      <td>-0.055975</td>\n    </tr>\n    <tr>\n      <th>6</th>\n      <td>2010-01-12</td>\n      <td>1143.810059</td>\n      <td>1143.810059</td>\n      <td>1131.770020</td>\n      <td>1136.219971</td>\n      <td>1136.219971</td>\n      <td>4716160000</td>\n      <td>-0.009381</td>\n      <td>10.328688</td>\n      <td>0</td>\n      <td>...</td>\n      <td>40.024110</td>\n      <td>23.266002</td>\n      <td>28.261626</td>\n      <td>0.827454</td>\n      <td>-0.080909</td>\n      <td>4.701463</td>\n      <td>5.358595e+12</td>\n      <td>-1.256865e+10</td>\n      <td>0.175668</td>\n      <td>-0.090007</td>\n    </tr>\n    <tr>\n      <th>7</th>\n      <td>2010-01-13</td>\n      <td>1137.310059</td>\n      <td>1148.400024</td>\n      <td>1133.180054</td>\n      <td>1145.680054</td>\n      <td>1145.680054</td>\n      <td>4170360000</td>\n      <td>0.008326</td>\n      <td>11.247277</td>\n      <td>0</td>\n      <td>...</td>\n      <td>33.664016</td>\n      <td>25.518823</td>\n      <td>19.022968</td>\n      <td>1.564972</td>\n      <td>0.349492</td>\n      <td>4.900584</td>\n      <td>4.777898e+12</td>\n      <td>8.239593e+09</td>\n      <td>0.202810</td>\n      <td>-0.084555</td>\n    </tr>\n    <tr>\n      <th>8</th>\n      <td>2010-01-14</td>\n      <td>1145.680054</td>\n      <td>1150.410034</td>\n      <td>1143.800049</td>\n      <td>1148.459961</td>\n      <td>1148.459961</td>\n      <td>3915200000</td>\n      <td>0.002426</td>\n      <td>11.517210</td>\n      <td>0</td>\n      <td>...</td>\n      <td>31.337741</td>\n      <td>26.297119</td>\n      <td>15.995175</td>\n      <td>1.144958</td>\n      <td>0.303934</td>\n      <td>5.527932</td>\n      <td>4.496450e+12</td>\n      <td>9.297313e+09</td>\n      <td>0.236339</td>\n      <td>-0.098202</td>\n    </tr>\n  </tbody>\n</table>\n<p>9 rows × 33 columns</p>\n</div>"
     },
     "metadata": {},
     "execution_count": 170
    }
   ],
   "source": [
    "per0['mom_cum_ret'] = (per0['mom_pct_change']+1).cumprod()-1\n",
    "per0['rev_cum_ret'] = (per0['rev_pct_change']+1).cumprod()-1\n",
    "per0"
   ]
  },
  {
   "cell_type": "markdown",
   "metadata": {},
   "source": [
    "leptokurtic distribution\n",
    "the only things we can do is buy, hold, or leave for rev or momentum\n",
    "<br><br>choices:\n",
    "- momentum\n",
    "- reversal\n",
    "- neither"
   ]
  },
  {
   "cell_type": "code",
   "execution_count": null,
   "metadata": {},
   "outputs": [],
   "source": []
  }
 ],
 "metadata": {
  "kernelspec": {
   "name": "python3",
   "display_name": "Python 3.7.4 64-bit ('dsc190': pipenv)",
   "metadata": {
    "interpreter": {
     "hash": "e8c7d0e4fde2d427e9a5fa7c228e5b3fde1b07bcd87cbc5bf40713027eb29d09"
    }
   }
  },
  "language_info": {
   "codemirror_mode": {
    "name": "ipython",
    "version": 3
   },
   "file_extension": ".py",
   "mimetype": "text/x-python",
   "name": "python",
   "nbconvert_exporter": "python",
   "pygments_lexer": "ipython3",
   "version": "3.7.4-final"
  }
 },
 "nbformat": 4,
 "nbformat_minor": 2
}