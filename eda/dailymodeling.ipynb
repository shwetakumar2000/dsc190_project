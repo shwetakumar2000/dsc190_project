{
 "cells": [
  {
   "cell_type": "markdown",
   "metadata": {},
   "source": [
    "Ben: A lot of unfamiliar packages here, more on the way. pipenv/virtual environments are your friend. A quick disclaimer that I am barely familiar with this domain of financial modeling, i can be very wrong in my understanding of things. i hope my code is readable."
   ]
  },
  {
   "cell_type": "code",
   "execution_count": 56,
   "metadata": {},
   "outputs": [],
   "source": [
    "import numpy as np\n",
    "import pandas as pd\n",
    "import matplotlib.pyplot as plt\n",
    "from time import sleep\n",
    "\n",
    "from pandas_datareader import data as pdr\n",
    "import pandas_ta as ta #commented out for me for now, I (Ben) had some dependency issues\n",
    "\n",
    "import yfinance as yf\n",
    "# import quandl as qd # not used, ignor ples\n",
    "from backtesting import Backtest, Strategy"
   ]
  },
  {
   "cell_type": "code",
   "execution_count": 57,
   "metadata": {},
   "outputs": [],
   "source": [
    "yf.pdr_override() # for use with pandas-datareader, optional"
   ]
  },
  {
   "cell_type": "markdown",
   "metadata": {},
   "source": [
    "# Data Sources/Exploration\n",
    "## which stocks/tickers will we be looking at?\n",
    "We've more or less arbitrarily settled on the current S&P 500 index, a popular choice.\n",
    "## What data do we need, and where can we get it?\n",
    "We need OHLC (open high low close) data, on a monthly and daily scale. Using yfinance, a module that basically scrapes the ya\"hoo finance site for data on tickers, we can get most of what we need.\n",
    "## "
   ]
  },
  {
   "cell_type": "code",
   "execution_count": 58,
   "metadata": {},
   "outputs": [
    {
     "output_type": "execute_result",
     "data": {
      "text/plain": [
       "0     AAPL\n",
       "1     MSFT\n",
       "2     AMZN\n",
       "3       FB\n",
       "4    GOOGL\n",
       "Name: Ticker, dtype: object"
      ]
     },
     "metadata": {},
     "execution_count": 58
    }
   ],
   "source": [
    "ticker = pd.read_csv('ticker.csv')['Ticker']\n",
    "tickers = ticker.to_list() # This is a list of all tickers in the SP500\n",
    "tickers = [x.replace('.','-') for x in tickers] # yahoo has '-' instead of '.' for tickers, eg BRK.B\n",
    "ticker.head()"
   ]
  },
  {
   "cell_type": "code",
   "execution_count": 59,
   "metadata": {},
   "outputs": [],
   "source": [
    "# tickers"
   ]
  },
  {
   "cell_type": "code",
   "execution_count": 60,
   "metadata": {},
   "outputs": [],
   "source": [
    "# sp_500 = {x:yf.Ticker(x) for x in tickers} # a dict of initialized yfinance tickers\n",
    "# sp_500['AAPL'].history(start='2019-01-01', end='2020-12-31', interval='1mo')\n",
    "# sp_500['AAPL'].history(start='2010-01-01', end='2020-12-31')"
   ]
  },
  {
   "cell_type": "markdown",
   "metadata": {},
   "source": [
    "how to map them to the indicators\n",
    "we get the prices of each inex but we dont knwo how to get the rest of the data \n",
    "aapl \n",
    "they put it mext t"
   ]
  },
  {
   "cell_type": "code",
   "execution_count": 61,
   "metadata": {},
   "outputs": [
    {
     "output_type": "execute_result",
     "data": {
      "text/plain": [
       "             Date       Open       High        Low      Close  Adj Close  \\\n",
       "0      2010-02-01   6.870357   7.327500   6.816071   7.307857   6.294721   \n",
       "1      2010-03-01   7.348214   8.481429   7.337500   8.392857   7.229299   \n",
       "2      2010-04-01   8.478929   9.730714   8.312500   9.324643   8.031907   \n",
       "3      2010-05-01   9.422857   9.567143   7.116071   9.174286   7.902396   \n",
       "4      2010-06-01   9.274643   9.964643   8.650000   8.983214   7.737815   \n",
       "...           ...        ...        ...        ...        ...        ...   \n",
       "65951  2020-12-01  18.010000  18.730000  17.049999  17.770000  17.770000   \n",
       "65952  2021-01-01  17.959999  19.420000  17.590000  18.879999  18.879999   \n",
       "65953  2021-02-01  18.590000  24.110001  18.299999  22.920000  22.920000   \n",
       "65954  2021-03-01  23.209999  23.870001  22.389999  23.500000  23.500000   \n",
       "65955  2021-03-05  22.940001  23.545000  22.520000  23.500000  23.500000   \n",
       "\n",
       "             Volume  Name  \n",
       "0      1.077608e+10  AAPL  \n",
       "1      1.215417e+10  AAPL  \n",
       "2      1.236713e+10  AAPL  \n",
       "3      1.808265e+10  AAPL  \n",
       "4      1.665125e+10  AAPL  \n",
       "...             ...   ...  \n",
       "65951  1.891130e+07   NWS  \n",
       "65952  1.800300e+07   NWS  \n",
       "65953  1.325420e+07   NWS  \n",
       "65954  2.094900e+06   NWS  \n",
       "65955  5.157070e+05   NWS  \n",
       "\n",
       "[65511 rows x 8 columns]"
      ],
      "text/html": "<div>\n<style scoped>\n    .dataframe tbody tr th:only-of-type {\n        vertical-align: middle;\n    }\n\n    .dataframe tbody tr th {\n        vertical-align: top;\n    }\n\n    .dataframe thead th {\n        text-align: right;\n    }\n</style>\n<table border=\"1\" class=\"dataframe\">\n  <thead>\n    <tr style=\"text-align: right;\">\n      <th></th>\n      <th>Date</th>\n      <th>Open</th>\n      <th>High</th>\n      <th>Low</th>\n      <th>Close</th>\n      <th>Adj Close</th>\n      <th>Volume</th>\n      <th>Name</th>\n    </tr>\n  </thead>\n  <tbody>\n    <tr>\n      <th>0</th>\n      <td>2010-02-01</td>\n      <td>6.870357</td>\n      <td>7.327500</td>\n      <td>6.816071</td>\n      <td>7.307857</td>\n      <td>6.294721</td>\n      <td>1.077608e+10</td>\n      <td>AAPL</td>\n    </tr>\n    <tr>\n      <th>1</th>\n      <td>2010-03-01</td>\n      <td>7.348214</td>\n      <td>8.481429</td>\n      <td>7.337500</td>\n      <td>8.392857</td>\n      <td>7.229299</td>\n      <td>1.215417e+10</td>\n      <td>AAPL</td>\n    </tr>\n    <tr>\n      <th>2</th>\n      <td>2010-04-01</td>\n      <td>8.478929</td>\n      <td>9.730714</td>\n      <td>8.312500</td>\n      <td>9.324643</td>\n      <td>8.031907</td>\n      <td>1.236713e+10</td>\n      <td>AAPL</td>\n    </tr>\n    <tr>\n      <th>3</th>\n      <td>2010-05-01</td>\n      <td>9.422857</td>\n      <td>9.567143</td>\n      <td>7.116071</td>\n      <td>9.174286</td>\n      <td>7.902396</td>\n      <td>1.808265e+10</td>\n      <td>AAPL</td>\n    </tr>\n    <tr>\n      <th>4</th>\n      <td>2010-06-01</td>\n      <td>9.274643</td>\n      <td>9.964643</td>\n      <td>8.650000</td>\n      <td>8.983214</td>\n      <td>7.737815</td>\n      <td>1.665125e+10</td>\n      <td>AAPL</td>\n    </tr>\n    <tr>\n      <th>...</th>\n      <td>...</td>\n      <td>...</td>\n      <td>...</td>\n      <td>...</td>\n      <td>...</td>\n      <td>...</td>\n      <td>...</td>\n      <td>...</td>\n    </tr>\n    <tr>\n      <th>65951</th>\n      <td>2020-12-01</td>\n      <td>18.010000</td>\n      <td>18.730000</td>\n      <td>17.049999</td>\n      <td>17.770000</td>\n      <td>17.770000</td>\n      <td>1.891130e+07</td>\n      <td>NWS</td>\n    </tr>\n    <tr>\n      <th>65952</th>\n      <td>2021-01-01</td>\n      <td>17.959999</td>\n      <td>19.420000</td>\n      <td>17.590000</td>\n      <td>18.879999</td>\n      <td>18.879999</td>\n      <td>1.800300e+07</td>\n      <td>NWS</td>\n    </tr>\n    <tr>\n      <th>65953</th>\n      <td>2021-02-01</td>\n      <td>18.590000</td>\n      <td>24.110001</td>\n      <td>18.299999</td>\n      <td>22.920000</td>\n      <td>22.920000</td>\n      <td>1.325420e+07</td>\n      <td>NWS</td>\n    </tr>\n    <tr>\n      <th>65954</th>\n      <td>2021-03-01</td>\n      <td>23.209999</td>\n      <td>23.870001</td>\n      <td>22.389999</td>\n      <td>23.500000</td>\n      <td>23.500000</td>\n      <td>2.094900e+06</td>\n      <td>NWS</td>\n    </tr>\n    <tr>\n      <th>65955</th>\n      <td>2021-03-05</td>\n      <td>22.940001</td>\n      <td>23.545000</td>\n      <td>22.520000</td>\n      <td>23.500000</td>\n      <td>23.500000</td>\n      <td>5.157070e+05</td>\n      <td>NWS</td>\n    </tr>\n  </tbody>\n</table>\n<p>65511 rows × 8 columns</p>\n</div>"
     },
     "metadata": {},
     "execution_count": 61
    }
   ],
   "source": [
    "# sp500m.to_csv('SP500_monthly.csv') # run/uncomment some of these to save these to csv\n",
    "# sp500d.to_csv('SP500_daily.csv')\n",
    "df = pd.read_csv('SP500_monthly.csv').infer_objects().dropna()\n",
    "# df = sp500m.infer_objects().dropna()#.reset_index() # dataframe of all we basically want, OHLC data w/ adjusted close. didnt set any ind\n",
    "df"
   ]
  },
  {
   "cell_type": "code",
   "execution_count": 62,
   "metadata": {},
   "outputs": [
    {
     "output_type": "execute_result",
     "data": {
      "text/plain": [
       "['2010-05-01',\n",
       " '2010-11-01',\n",
       " '2011-05-01',\n",
       " '2011-11-01',\n",
       " '2012-05-01',\n",
       " '2012-11-01',\n",
       " '2013-05-01',\n",
       " '2013-11-01',\n",
       " '2014-05-01',\n",
       " '2014-11-01']"
      ]
     },
     "metadata": {},
     "execution_count": 62
    }
   ],
   "source": [
    "st = pd.to_datetime(df.Date.min())\n",
    "et = pd.to_datetime(df.Date.max())\n",
    "j=1\n",
    "k=2\n",
    "# the 'midpoints' for each observe and hold period. midpoint in this context is where we switch from the observation period len=j to the holding period len=k\n",
    "j_end = pd.date_range(st+pd.DateOffset(months=j*3), et, freq=str(k*3)+\"MS\")\n",
    "j_end.strftime(\"%Y-%m-%d\").to_list()[:10]"
   ]
  },
  {
   "cell_type": "code",
   "execution_count": 63,
   "metadata": {},
   "outputs": [
    {
     "output_type": "execute_result",
     "data": {
      "text/plain": [
       "             Date       Open       High        Low      Close  Adj Close  \\\n",
       "3      2010-05-01   9.422857   9.567143   7.116071   9.174286   7.902396   \n",
       "9      2010-11-01  10.793571  11.475000  10.634286  11.112500   9.571903   \n",
       "15     2011-05-01  12.490714  12.565357  11.765000  12.422500  10.700285   \n",
       "21     2011-11-01  14.193214  14.571429  12.975714  13.650000  11.757608   \n",
       "27     2012-05-01  20.889286  21.312857  18.649286  20.633215  17.772696   \n",
       "...           ...        ...        ...        ...        ...        ...   \n",
       "65865  2013-11-01  17.870001  18.260000  17.000000  17.969999  16.540766   \n",
       "65871  2014-05-01  16.600000  17.650000  16.320000  16.590000  15.270526   \n",
       "65877  2014-11-01  15.020000  15.440000  14.340000  15.050000  13.853006   \n",
       "65883  2015-05-01  15.690000  16.170000  14.780000  14.950000  13.760961   \n",
       "65890  2015-11-01  15.470000  15.740000  13.880000  14.460000  13.411923   \n",
       "\n",
       "             Volume  Name  \n",
       "3      1.808265e+10  AAPL  \n",
       "9      9.508086e+09  AAPL  \n",
       "15     6.912060e+09  AAPL  \n",
       "21     8.963702e+09  AAPL  \n",
       "27     1.110635e+10  AAPL  \n",
       "...             ...   ...  \n",
       "65865  1.500440e+07   NWS  \n",
       "65871  1.192450e+07   NWS  \n",
       "65877  3.394880e+07   NWS  \n",
       "65883  2.324360e+07   NWS  \n",
       "65890  2.012570e+07   NWS  \n",
       "\n",
       "[2510 rows x 8 columns]"
      ],
      "text/html": "<div>\n<style scoped>\n    .dataframe tbody tr th:only-of-type {\n        vertical-align: middle;\n    }\n\n    .dataframe tbody tr th {\n        vertical-align: top;\n    }\n\n    .dataframe thead th {\n        text-align: right;\n    }\n</style>\n<table border=\"1\" class=\"dataframe\">\n  <thead>\n    <tr style=\"text-align: right;\">\n      <th></th>\n      <th>Date</th>\n      <th>Open</th>\n      <th>High</th>\n      <th>Low</th>\n      <th>Close</th>\n      <th>Adj Close</th>\n      <th>Volume</th>\n      <th>Name</th>\n    </tr>\n  </thead>\n  <tbody>\n    <tr>\n      <th>3</th>\n      <td>2010-05-01</td>\n      <td>9.422857</td>\n      <td>9.567143</td>\n      <td>7.116071</td>\n      <td>9.174286</td>\n      <td>7.902396</td>\n      <td>1.808265e+10</td>\n      <td>AAPL</td>\n    </tr>\n    <tr>\n      <th>9</th>\n      <td>2010-11-01</td>\n      <td>10.793571</td>\n      <td>11.475000</td>\n      <td>10.634286</td>\n      <td>11.112500</td>\n      <td>9.571903</td>\n      <td>9.508086e+09</td>\n      <td>AAPL</td>\n    </tr>\n    <tr>\n      <th>15</th>\n      <td>2011-05-01</td>\n      <td>12.490714</td>\n      <td>12.565357</td>\n      <td>11.765000</td>\n      <td>12.422500</td>\n      <td>10.700285</td>\n      <td>6.912060e+09</td>\n      <td>AAPL</td>\n    </tr>\n    <tr>\n      <th>21</th>\n      <td>2011-11-01</td>\n      <td>14.193214</td>\n      <td>14.571429</td>\n      <td>12.975714</td>\n      <td>13.650000</td>\n      <td>11.757608</td>\n      <td>8.963702e+09</td>\n      <td>AAPL</td>\n    </tr>\n    <tr>\n      <th>27</th>\n      <td>2012-05-01</td>\n      <td>20.889286</td>\n      <td>21.312857</td>\n      <td>18.649286</td>\n      <td>20.633215</td>\n      <td>17.772696</td>\n      <td>1.110635e+10</td>\n      <td>AAPL</td>\n    </tr>\n    <tr>\n      <th>...</th>\n      <td>...</td>\n      <td>...</td>\n      <td>...</td>\n      <td>...</td>\n      <td>...</td>\n      <td>...</td>\n      <td>...</td>\n      <td>...</td>\n    </tr>\n    <tr>\n      <th>65865</th>\n      <td>2013-11-01</td>\n      <td>17.870001</td>\n      <td>18.260000</td>\n      <td>17.000000</td>\n      <td>17.969999</td>\n      <td>16.540766</td>\n      <td>1.500440e+07</td>\n      <td>NWS</td>\n    </tr>\n    <tr>\n      <th>65871</th>\n      <td>2014-05-01</td>\n      <td>16.600000</td>\n      <td>17.650000</td>\n      <td>16.320000</td>\n      <td>16.590000</td>\n      <td>15.270526</td>\n      <td>1.192450e+07</td>\n      <td>NWS</td>\n    </tr>\n    <tr>\n      <th>65877</th>\n      <td>2014-11-01</td>\n      <td>15.020000</td>\n      <td>15.440000</td>\n      <td>14.340000</td>\n      <td>15.050000</td>\n      <td>13.853006</td>\n      <td>3.394880e+07</td>\n      <td>NWS</td>\n    </tr>\n    <tr>\n      <th>65883</th>\n      <td>2015-05-01</td>\n      <td>15.690000</td>\n      <td>16.170000</td>\n      <td>14.780000</td>\n      <td>14.950000</td>\n      <td>13.760961</td>\n      <td>2.324360e+07</td>\n      <td>NWS</td>\n    </tr>\n    <tr>\n      <th>65890</th>\n      <td>2015-11-01</td>\n      <td>15.470000</td>\n      <td>15.740000</td>\n      <td>13.880000</td>\n      <td>14.460000</td>\n      <td>13.411923</td>\n      <td>2.012570e+07</td>\n      <td>NWS</td>\n    </tr>\n  </tbody>\n</table>\n<p>2510 rows × 8 columns</p>\n</div>"
     },
     "metadata": {},
     "execution_count": 63
    }
   ],
   "source": [
    "#df of just the midpoint dates for sanity check\n",
    "df[df['Date'].isin(j_end.strftime(\"%Y-%m-%d\").to_list())].groupby('Name').head(5)"
   ]
  },
  {
   "cell_type": "code",
   "execution_count": 64,
   "metadata": {},
   "outputs": [
    {
     "output_type": "execute_result",
     "data": {
      "text/plain": [
       "      j_start   midpoint      k_end\n",
       "0  2010-02-01 2010-11-01 2011-05-01\n",
       "1  2010-08-01 2011-05-01 2011-11-01\n",
       "2  2011-02-01 2011-11-01 2012-05-01\n",
       "3  2011-08-01 2012-05-01 2012-11-01\n",
       "4  2012-02-01 2012-11-01 2013-05-01\n",
       "5  2012-08-01 2013-05-01 2013-11-01\n",
       "6  2013-02-01 2013-11-01 2014-05-01\n",
       "7  2013-08-01 2014-05-01 2014-11-01\n",
       "8  2014-02-01 2014-11-01 2015-05-01\n",
       "9  2014-08-01 2015-05-01 2015-11-01\n",
       "10 2015-02-01 2015-11-01 2016-05-01\n",
       "11 2015-08-01 2016-05-01 2016-11-01\n",
       "12 2016-02-01 2016-11-01 2017-05-01\n",
       "13 2016-08-01 2017-05-01 2017-11-01\n",
       "14 2017-02-01 2017-11-01 2018-05-01\n",
       "15 2017-08-01 2018-05-01 2018-11-01\n",
       "16 2018-02-01 2018-11-01 2019-05-01\n",
       "17 2018-08-01 2019-05-01 2019-11-01\n",
       "18 2019-02-01 2019-11-01 2020-05-01\n",
       "19 2019-08-01 2020-05-01 2020-11-01\n",
       "20 2020-02-01 2020-11-01 2021-05-01"
      ],
      "text/html": "<div>\n<style scoped>\n    .dataframe tbody tr th:only-of-type {\n        vertical-align: middle;\n    }\n\n    .dataframe tbody tr th {\n        vertical-align: top;\n    }\n\n    .dataframe thead th {\n        text-align: right;\n    }\n</style>\n<table border=\"1\" class=\"dataframe\">\n  <thead>\n    <tr style=\"text-align: right;\">\n      <th></th>\n      <th>j_start</th>\n      <th>midpoint</th>\n      <th>k_end</th>\n    </tr>\n  </thead>\n  <tbody>\n    <tr>\n      <th>0</th>\n      <td>2010-02-01</td>\n      <td>2010-11-01</td>\n      <td>2011-05-01</td>\n    </tr>\n    <tr>\n      <th>1</th>\n      <td>2010-08-01</td>\n      <td>2011-05-01</td>\n      <td>2011-11-01</td>\n    </tr>\n    <tr>\n      <th>2</th>\n      <td>2011-02-01</td>\n      <td>2011-11-01</td>\n      <td>2012-05-01</td>\n    </tr>\n    <tr>\n      <th>3</th>\n      <td>2011-08-01</td>\n      <td>2012-05-01</td>\n      <td>2012-11-01</td>\n    </tr>\n    <tr>\n      <th>4</th>\n      <td>2012-02-01</td>\n      <td>2012-11-01</td>\n      <td>2013-05-01</td>\n    </tr>\n    <tr>\n      <th>5</th>\n      <td>2012-08-01</td>\n      <td>2013-05-01</td>\n      <td>2013-11-01</td>\n    </tr>\n    <tr>\n      <th>6</th>\n      <td>2013-02-01</td>\n      <td>2013-11-01</td>\n      <td>2014-05-01</td>\n    </tr>\n    <tr>\n      <th>7</th>\n      <td>2013-08-01</td>\n      <td>2014-05-01</td>\n      <td>2014-11-01</td>\n    </tr>\n    <tr>\n      <th>8</th>\n      <td>2014-02-01</td>\n      <td>2014-11-01</td>\n      <td>2015-05-01</td>\n    </tr>\n    <tr>\n      <th>9</th>\n      <td>2014-08-01</td>\n      <td>2015-05-01</td>\n      <td>2015-11-01</td>\n    </tr>\n    <tr>\n      <th>10</th>\n      <td>2015-02-01</td>\n      <td>2015-11-01</td>\n      <td>2016-05-01</td>\n    </tr>\n    <tr>\n      <th>11</th>\n      <td>2015-08-01</td>\n      <td>2016-05-01</td>\n      <td>2016-11-01</td>\n    </tr>\n    <tr>\n      <th>12</th>\n      <td>2016-02-01</td>\n      <td>2016-11-01</td>\n      <td>2017-05-01</td>\n    </tr>\n    <tr>\n      <th>13</th>\n      <td>2016-08-01</td>\n      <td>2017-05-01</td>\n      <td>2017-11-01</td>\n    </tr>\n    <tr>\n      <th>14</th>\n      <td>2017-02-01</td>\n      <td>2017-11-01</td>\n      <td>2018-05-01</td>\n    </tr>\n    <tr>\n      <th>15</th>\n      <td>2017-08-01</td>\n      <td>2018-05-01</td>\n      <td>2018-11-01</td>\n    </tr>\n    <tr>\n      <th>16</th>\n      <td>2018-02-01</td>\n      <td>2018-11-01</td>\n      <td>2019-05-01</td>\n    </tr>\n    <tr>\n      <th>17</th>\n      <td>2018-08-01</td>\n      <td>2019-05-01</td>\n      <td>2019-11-01</td>\n    </tr>\n    <tr>\n      <th>18</th>\n      <td>2019-02-01</td>\n      <td>2019-11-01</td>\n      <td>2020-05-01</td>\n    </tr>\n    <tr>\n      <th>19</th>\n      <td>2019-08-01</td>\n      <td>2020-05-01</td>\n      <td>2020-11-01</td>\n    </tr>\n    <tr>\n      <th>20</th>\n      <td>2020-02-01</td>\n      <td>2020-11-01</td>\n      <td>2021-05-01</td>\n    </tr>\n  </tbody>\n</table>\n</div>"
     },
     "metadata": {},
     "execution_count": 64
    }
   ],
   "source": [
    "def generate_timetable(j=1, k=2):\n",
    "    '''aims to generate the MONTHLY table of times for each observe/hold period. The midpoint in this context is where we switch from the observation period len=j to the holding period len=k'''\n",
    "    \n",
    "    j_end = pd.date_range(st+pd.DateOffset(months=j*3), et, freq=str(k*3)+\"MS\") # the 'midpoints' for each observe and hold period. \n",
    "    j_start = j_end + pd.DateOffset(months=-j*3) # based on the midpoint, get the start point for each observe and hold period\n",
    "    k_end = j_end + pd.DateOffset(months=k*3) # based on the midpoint, get the end point for each observe and hold period\n",
    "    timetable = pd.DataFrame({'j_start': j_start, 'midpoint': j_end, 'k_end': k_end}).infer_objects()\n",
    "    return timetable, j, k\n",
    "timedf, j, k = generate_timetable(3, 2)\n",
    "timedf"
   ]
  },
  {
   "cell_type": "code",
   "execution_count": 65,
   "metadata": {},
   "outputs": [
    {
     "output_type": "execute_result",
     "data": {
      "text/plain": [
       "0        2010-02-01\n",
       "1        2010-03-01\n",
       "2        2010-04-01\n",
       "3        2010-05-01\n",
       "4        2010-06-01\n",
       "            ...    \n",
       "65951    2020-12-01\n",
       "65952    2021-01-01\n",
       "65953    2021-02-01\n",
       "65954    2021-03-01\n",
       "65955    2021-03-05\n",
       "Name: Date, Length: 65511, dtype: object"
      ]
     },
     "metadata": {},
     "execution_count": 65
    }
   ],
   "source": [
    "df['Date']"
   ]
  },
  {
   "cell_type": "code",
   "execution_count": 66,
   "metadata": {},
   "outputs": [],
   "source": [
    "midpoint = timedf.iloc[0].midpoint"
   ]
  },
  {
   "cell_type": "code",
   "execution_count": 67,
   "metadata": {
    "tags": []
   },
   "outputs": [
    {
     "output_type": "execute_result",
     "data": {
      "text/plain": [
       "             Date       Open       High        Low      Close  Adj Close  \\\n",
       "0      2010-02-01   6.870357   7.327500   6.816071   7.307857   6.294721   \n",
       "1      2010-03-01   7.348214   8.481429   7.337500   8.392857   7.229299   \n",
       "2      2010-04-01   8.478929   9.730714   8.312500   9.324643   8.031907   \n",
       "3      2010-05-01   9.422857   9.567143   7.116071   9.174286   7.902396   \n",
       "4      2010-06-01   9.274643   9.964643   8.650000   8.983214   7.737815   \n",
       "...           ...        ...        ...        ...        ...        ...   \n",
       "65946  2020-07-01  11.950000  13.020000  11.600000  12.760000  12.676053   \n",
       "65947  2020-08-01  12.790000  15.550000  12.680000  15.070000  14.970856   \n",
       "65948  2020-09-01  15.010000  15.700000  13.690000  13.980000  13.888026   \n",
       "65949  2020-10-01  13.970000  14.610000  12.680000  13.020000  13.020000   \n",
       "65950  2020-11-01  13.110000  18.330000  12.970000  17.809999  17.809999   \n",
       "\n",
       "             Volume  Name period  \n",
       "0      1.077608e+10  AAPL      0  \n",
       "1      1.215417e+10  AAPL      0  \n",
       "2      1.236713e+10  AAPL      0  \n",
       "3      1.808265e+10  AAPL      0  \n",
       "4      1.665125e+10  AAPL      0  \n",
       "...             ...   ...    ...  \n",
       "65946  7.764400e+06   NWS     20  \n",
       "65947  8.911600e+06   NWS     20  \n",
       "65948  1.345070e+07   NWS     20  \n",
       "65949  8.181500e+06   NWS     20  \n",
       "65950  1.109630e+07   NWS     20  \n",
       "\n",
       "[101789 rows x 9 columns]"
      ],
      "text/html": "<div>\n<style scoped>\n    .dataframe tbody tr th:only-of-type {\n        vertical-align: middle;\n    }\n\n    .dataframe tbody tr th {\n        vertical-align: top;\n    }\n\n    .dataframe thead th {\n        text-align: right;\n    }\n</style>\n<table border=\"1\" class=\"dataframe\">\n  <thead>\n    <tr style=\"text-align: right;\">\n      <th></th>\n      <th>Date</th>\n      <th>Open</th>\n      <th>High</th>\n      <th>Low</th>\n      <th>Close</th>\n      <th>Adj Close</th>\n      <th>Volume</th>\n      <th>Name</th>\n      <th>period</th>\n    </tr>\n  </thead>\n  <tbody>\n    <tr>\n      <th>0</th>\n      <td>2010-02-01</td>\n      <td>6.870357</td>\n      <td>7.327500</td>\n      <td>6.816071</td>\n      <td>7.307857</td>\n      <td>6.294721</td>\n      <td>1.077608e+10</td>\n      <td>AAPL</td>\n      <td>0</td>\n    </tr>\n    <tr>\n      <th>1</th>\n      <td>2010-03-01</td>\n      <td>7.348214</td>\n      <td>8.481429</td>\n      <td>7.337500</td>\n      <td>8.392857</td>\n      <td>7.229299</td>\n      <td>1.215417e+10</td>\n      <td>AAPL</td>\n      <td>0</td>\n    </tr>\n    <tr>\n      <th>2</th>\n      <td>2010-04-01</td>\n      <td>8.478929</td>\n      <td>9.730714</td>\n      <td>8.312500</td>\n      <td>9.324643</td>\n      <td>8.031907</td>\n      <td>1.236713e+10</td>\n      <td>AAPL</td>\n      <td>0</td>\n    </tr>\n    <tr>\n      <th>3</th>\n      <td>2010-05-01</td>\n      <td>9.422857</td>\n      <td>9.567143</td>\n      <td>7.116071</td>\n      <td>9.174286</td>\n      <td>7.902396</td>\n      <td>1.808265e+10</td>\n      <td>AAPL</td>\n      <td>0</td>\n    </tr>\n    <tr>\n      <th>4</th>\n      <td>2010-06-01</td>\n      <td>9.274643</td>\n      <td>9.964643</td>\n      <td>8.650000</td>\n      <td>8.983214</td>\n      <td>7.737815</td>\n      <td>1.665125e+10</td>\n      <td>AAPL</td>\n      <td>0</td>\n    </tr>\n    <tr>\n      <th>...</th>\n      <td>...</td>\n      <td>...</td>\n      <td>...</td>\n      <td>...</td>\n      <td>...</td>\n      <td>...</td>\n      <td>...</td>\n      <td>...</td>\n      <td>...</td>\n    </tr>\n    <tr>\n      <th>65946</th>\n      <td>2020-07-01</td>\n      <td>11.950000</td>\n      <td>13.020000</td>\n      <td>11.600000</td>\n      <td>12.760000</td>\n      <td>12.676053</td>\n      <td>7.764400e+06</td>\n      <td>NWS</td>\n      <td>20</td>\n    </tr>\n    <tr>\n      <th>65947</th>\n      <td>2020-08-01</td>\n      <td>12.790000</td>\n      <td>15.550000</td>\n      <td>12.680000</td>\n      <td>15.070000</td>\n      <td>14.970856</td>\n      <td>8.911600e+06</td>\n      <td>NWS</td>\n      <td>20</td>\n    </tr>\n    <tr>\n      <th>65948</th>\n      <td>2020-09-01</td>\n      <td>15.010000</td>\n      <td>15.700000</td>\n      <td>13.690000</td>\n      <td>13.980000</td>\n      <td>13.888026</td>\n      <td>1.345070e+07</td>\n      <td>NWS</td>\n      <td>20</td>\n    </tr>\n    <tr>\n      <th>65949</th>\n      <td>2020-10-01</td>\n      <td>13.970000</td>\n      <td>14.610000</td>\n      <td>12.680000</td>\n      <td>13.020000</td>\n      <td>13.020000</td>\n      <td>8.181500e+06</td>\n      <td>NWS</td>\n      <td>20</td>\n    </tr>\n    <tr>\n      <th>65950</th>\n      <td>2020-11-01</td>\n      <td>13.110000</td>\n      <td>18.330000</td>\n      <td>12.970000</td>\n      <td>17.809999</td>\n      <td>17.809999</td>\n      <td>1.109630e+07</td>\n      <td>NWS</td>\n      <td>20</td>\n    </tr>\n  </tbody>\n</table>\n<p>101789 rows × 9 columns</p>\n</div>"
     },
     "metadata": {},
     "execution_count": 67
    }
   ],
   "source": [
    "def get_j_df(id=-1, j=j):\n",
    "    '''this should spit out a dataframe of data in the observational period j given specific id or midpoint value. \n",
    "    if unspecified it throws all of them at you with an extra identifying column \"periods\"'''\n",
    "    if (id==-1): # not really sure why we need this but ill include it. this adds a sector column to the data for future filtering purposes if needed\n",
    "        df_i = pd.DataFrame(columns=df.columns.to_list()+['period']) #dummy empty df\n",
    "        for i in timedf.index: \n",
    "            # print(timedf.iloc[i].j_start,timedf.iloc[i].midpoint)\n",
    "            df_ = df[(timedf.iloc[i].j_start <= pd.to_datetime(df['Date']))&(pd.to_datetime(df['Date']) <= timedf.iloc[i].midpoint)] # gets dates btw start and midpt\n",
    "            df_['period'] = i\n",
    "            df_i = pd.concat([df_i, df_])\n",
    "\n",
    "        return df_i\n",
    "    return df[(timedf.iloc[id].j_start <= pd.to_datetime(df['Date']))&(pd.to_datetime(df['Date']) <= timedf.iloc[id].midpoint)] # gets dates btw start and midpt from table\n",
    "get_j_df()"
   ]
  },
  {
   "cell_type": "code",
   "execution_count": 68,
   "metadata": {},
   "outputs": [],
   "source": [
    "# print(get_k_df(0).Date.unique()) #sanity checking, hey it works\n",
    "# print(len(get_k_df().Name.unique())) #sanity checking, "
   ]
  },
  {
   "cell_type": "code",
   "execution_count": 69,
   "metadata": {},
   "outputs": [
    {
     "output_type": "execute_result",
     "data": {
      "text/plain": [
       "505"
      ]
     },
     "metadata": {},
     "execution_count": 69
    }
   ],
   "source": [
    "len(tickers) # yep, see above"
   ]
  },
  {
   "cell_type": "code",
   "execution_count": 70,
   "metadata": {},
   "outputs": [
    {
     "output_type": "execute_result",
     "data": {
      "text/plain": [
       "             Date       Open       High        Low      Close  Adj Close  \\\n",
       "9      2010-11-01  10.793571  11.475000  10.634286  11.112500   9.571903   \n",
       "10     2010-12-01  11.259643  11.666429  11.246071  11.520000   9.922909   \n",
       "11     2011-01-01  11.630000  12.450000  11.601429  12.118571  10.438492   \n",
       "12     2011-02-01  12.189286  13.032143  12.061429  12.614643  10.865795   \n",
       "13     2011-03-01  12.695357  12.916786  11.652143  12.446786  10.721204   \n",
       "...           ...        ...        ...        ...        ...        ...   \n",
       "65951  2020-12-01  18.010000  18.730000  17.049999  17.770000  17.770000   \n",
       "65952  2021-01-01  17.959999  19.420000  17.590000  18.879999  18.879999   \n",
       "65953  2021-02-01  18.590000  24.110001  18.299999  22.920000  22.920000   \n",
       "65954  2021-03-01  23.209999  23.870001  22.389999  23.500000  23.500000   \n",
       "65955  2021-03-05  22.940001  23.545000  22.520000  23.500000  23.500000   \n",
       "\n",
       "             Volume  Name period  \n",
       "9      9.508086e+09  AAPL      0  \n",
       "10     6.973235e+09  AAPL      0  \n",
       "11     1.084154e+10  AAPL      0  \n",
       "12     9.295950e+09  AAPL      0  \n",
       "13     1.130646e+10  AAPL      0  \n",
       "...             ...   ...    ...  \n",
       "65951  1.891130e+07   NWS     20  \n",
       "65952  1.800300e+07   NWS     20  \n",
       "65953  1.325420e+07   NWS     20  \n",
       "65954  2.094900e+06   NWS     20  \n",
       "65955  5.157070e+05   NWS     20  \n",
       "\n",
       "[71201 rows x 9 columns]"
      ],
      "text/html": "<div>\n<style scoped>\n    .dataframe tbody tr th:only-of-type {\n        vertical-align: middle;\n    }\n\n    .dataframe tbody tr th {\n        vertical-align: top;\n    }\n\n    .dataframe thead th {\n        text-align: right;\n    }\n</style>\n<table border=\"1\" class=\"dataframe\">\n  <thead>\n    <tr style=\"text-align: right;\">\n      <th></th>\n      <th>Date</th>\n      <th>Open</th>\n      <th>High</th>\n      <th>Low</th>\n      <th>Close</th>\n      <th>Adj Close</th>\n      <th>Volume</th>\n      <th>Name</th>\n      <th>period</th>\n    </tr>\n  </thead>\n  <tbody>\n    <tr>\n      <th>9</th>\n      <td>2010-11-01</td>\n      <td>10.793571</td>\n      <td>11.475000</td>\n      <td>10.634286</td>\n      <td>11.112500</td>\n      <td>9.571903</td>\n      <td>9.508086e+09</td>\n      <td>AAPL</td>\n      <td>0</td>\n    </tr>\n    <tr>\n      <th>10</th>\n      <td>2010-12-01</td>\n      <td>11.259643</td>\n      <td>11.666429</td>\n      <td>11.246071</td>\n      <td>11.520000</td>\n      <td>9.922909</td>\n      <td>6.973235e+09</td>\n      <td>AAPL</td>\n      <td>0</td>\n    </tr>\n    <tr>\n      <th>11</th>\n      <td>2011-01-01</td>\n      <td>11.630000</td>\n      <td>12.450000</td>\n      <td>11.601429</td>\n      <td>12.118571</td>\n      <td>10.438492</td>\n      <td>1.084154e+10</td>\n      <td>AAPL</td>\n      <td>0</td>\n    </tr>\n    <tr>\n      <th>12</th>\n      <td>2011-02-01</td>\n      <td>12.189286</td>\n      <td>13.032143</td>\n      <td>12.061429</td>\n      <td>12.614643</td>\n      <td>10.865795</td>\n      <td>9.295950e+09</td>\n      <td>AAPL</td>\n      <td>0</td>\n    </tr>\n    <tr>\n      <th>13</th>\n      <td>2011-03-01</td>\n      <td>12.695357</td>\n      <td>12.916786</td>\n      <td>11.652143</td>\n      <td>12.446786</td>\n      <td>10.721204</td>\n      <td>1.130646e+10</td>\n      <td>AAPL</td>\n      <td>0</td>\n    </tr>\n    <tr>\n      <th>...</th>\n      <td>...</td>\n      <td>...</td>\n      <td>...</td>\n      <td>...</td>\n      <td>...</td>\n      <td>...</td>\n      <td>...</td>\n      <td>...</td>\n      <td>...</td>\n    </tr>\n    <tr>\n      <th>65951</th>\n      <td>2020-12-01</td>\n      <td>18.010000</td>\n      <td>18.730000</td>\n      <td>17.049999</td>\n      <td>17.770000</td>\n      <td>17.770000</td>\n      <td>1.891130e+07</td>\n      <td>NWS</td>\n      <td>20</td>\n    </tr>\n    <tr>\n      <th>65952</th>\n      <td>2021-01-01</td>\n      <td>17.959999</td>\n      <td>19.420000</td>\n      <td>17.590000</td>\n      <td>18.879999</td>\n      <td>18.879999</td>\n      <td>1.800300e+07</td>\n      <td>NWS</td>\n      <td>20</td>\n    </tr>\n    <tr>\n      <th>65953</th>\n      <td>2021-02-01</td>\n      <td>18.590000</td>\n      <td>24.110001</td>\n      <td>18.299999</td>\n      <td>22.920000</td>\n      <td>22.920000</td>\n      <td>1.325420e+07</td>\n      <td>NWS</td>\n      <td>20</td>\n    </tr>\n    <tr>\n      <th>65954</th>\n      <td>2021-03-01</td>\n      <td>23.209999</td>\n      <td>23.870001</td>\n      <td>22.389999</td>\n      <td>23.500000</td>\n      <td>23.500000</td>\n      <td>2.094900e+06</td>\n      <td>NWS</td>\n      <td>20</td>\n    </tr>\n    <tr>\n      <th>65955</th>\n      <td>2021-03-05</td>\n      <td>22.940001</td>\n      <td>23.545000</td>\n      <td>22.520000</td>\n      <td>23.500000</td>\n      <td>23.500000</td>\n      <td>5.157070e+05</td>\n      <td>NWS</td>\n      <td>20</td>\n    </tr>\n  </tbody>\n</table>\n<p>71201 rows × 9 columns</p>\n</div>"
     },
     "metadata": {},
     "execution_count": 70
    }
   ],
   "source": [
    "def get_k_df(id=-1, k=k):\n",
    "    '''this should spit out a dataframe of data in the holding period k given specific id or midpoint value. \n",
    "    if unspecified it throws all of them at you with an extra identifying column \"periods\"'''\n",
    "    if (id==-1): # we can decide if this is useful later this adds a sector column to the data for future filtering purposes if needed\n",
    "        df_i = pd.DataFrame(columns=df.columns.to_list()+['period']) #dummy empty df\n",
    "        for i in timedf.index: \n",
    "            # print(timedf.iloc[i].j_start,timedf.iloc[i].midpoint)\n",
    "            df_ = df[(timedf.iloc[i].midpoint <= pd.to_datetime(df['Date']))&(pd.to_datetime(df['Date']) <= timedf.iloc[i].k_end)] # gets dates btw midpt and end\n",
    "            df_['period'] = i\n",
    "            df_i = pd.concat([df_i, df_])\n",
    "\n",
    "        return df_i\n",
    "    return df[(timedf.iloc[id].midpoint <= pd.to_datetime(df['Date']))&(pd.to_datetime(df['Date']) <= timedf.iloc[id].k_end)] # gets dates btw midpt and end\n",
    "get_k_df()"
   ]
  },
  {
   "cell_type": "code",
   "execution_count": 71,
   "metadata": {},
   "outputs": [
    {
     "output_type": "execute_result",
     "data": {
      "text/plain": [
       "             Date       Open       High        Low      Close  Adj Close  \\\n",
       "9      2010-11-01  10.793571  11.475000  10.634286  11.112500   9.571903   \n",
       "10     2010-12-01  11.259643  11.666429  11.246071  11.520000   9.922909   \n",
       "11     2011-01-01  11.630000  12.450000  11.601429  12.118571  10.438492   \n",
       "12     2011-02-01  12.189286  13.032143  12.061429  12.614643  10.865795   \n",
       "13     2011-03-01  12.695357  12.916786  11.652143  12.446786  10.721204   \n",
       "...           ...        ...        ...        ...        ...        ...   \n",
       "65675  2011-01-01  30.619236  31.067194  27.140976  27.984190  18.243078   \n",
       "65676  2011-02-01  28.194992  30.303030  27.747036  28.326746  18.466393   \n",
       "65677  2011-03-01  28.274046  28.616602  25.770752  28.063240  18.294609   \n",
       "65678  2011-04-01  28.221344  29.064560  26.086958  26.587614  17.402973   \n",
       "65679  2011-05-01  26.798420  27.799736  25.533598  26.903822  17.609943   \n",
       "\n",
       "             Volume  Name  \n",
       "9      9.508086e+09  AAPL  \n",
       "10     6.973235e+09  AAPL  \n",
       "11     1.084154e+10  AAPL  \n",
       "12     9.295950e+09  AAPL  \n",
       "13     1.130646e+10  AAPL  \n",
       "...             ...   ...  \n",
       "65675  1.081611e+08   XRX  \n",
       "65676  8.760613e+07   XRX  \n",
       "65677  9.970232e+07   XRX  \n",
       "65678  1.060864e+08   XRX  \n",
       "65679  9.698608e+07   XRX  \n",
       "\n",
       "[3205 rows x 8 columns]"
      ],
      "text/html": "<div>\n<style scoped>\n    .dataframe tbody tr th:only-of-type {\n        vertical-align: middle;\n    }\n\n    .dataframe tbody tr th {\n        vertical-align: top;\n    }\n\n    .dataframe thead th {\n        text-align: right;\n    }\n</style>\n<table border=\"1\" class=\"dataframe\">\n  <thead>\n    <tr style=\"text-align: right;\">\n      <th></th>\n      <th>Date</th>\n      <th>Open</th>\n      <th>High</th>\n      <th>Low</th>\n      <th>Close</th>\n      <th>Adj Close</th>\n      <th>Volume</th>\n      <th>Name</th>\n    </tr>\n  </thead>\n  <tbody>\n    <tr>\n      <th>9</th>\n      <td>2010-11-01</td>\n      <td>10.793571</td>\n      <td>11.475000</td>\n      <td>10.634286</td>\n      <td>11.112500</td>\n      <td>9.571903</td>\n      <td>9.508086e+09</td>\n      <td>AAPL</td>\n    </tr>\n    <tr>\n      <th>10</th>\n      <td>2010-12-01</td>\n      <td>11.259643</td>\n      <td>11.666429</td>\n      <td>11.246071</td>\n      <td>11.520000</td>\n      <td>9.922909</td>\n      <td>6.973235e+09</td>\n      <td>AAPL</td>\n    </tr>\n    <tr>\n      <th>11</th>\n      <td>2011-01-01</td>\n      <td>11.630000</td>\n      <td>12.450000</td>\n      <td>11.601429</td>\n      <td>12.118571</td>\n      <td>10.438492</td>\n      <td>1.084154e+10</td>\n      <td>AAPL</td>\n    </tr>\n    <tr>\n      <th>12</th>\n      <td>2011-02-01</td>\n      <td>12.189286</td>\n      <td>13.032143</td>\n      <td>12.061429</td>\n      <td>12.614643</td>\n      <td>10.865795</td>\n      <td>9.295950e+09</td>\n      <td>AAPL</td>\n    </tr>\n    <tr>\n      <th>13</th>\n      <td>2011-03-01</td>\n      <td>12.695357</td>\n      <td>12.916786</td>\n      <td>11.652143</td>\n      <td>12.446786</td>\n      <td>10.721204</td>\n      <td>1.130646e+10</td>\n      <td>AAPL</td>\n    </tr>\n    <tr>\n      <th>...</th>\n      <td>...</td>\n      <td>...</td>\n      <td>...</td>\n      <td>...</td>\n      <td>...</td>\n      <td>...</td>\n      <td>...</td>\n      <td>...</td>\n    </tr>\n    <tr>\n      <th>65675</th>\n      <td>2011-01-01</td>\n      <td>30.619236</td>\n      <td>31.067194</td>\n      <td>27.140976</td>\n      <td>27.984190</td>\n      <td>18.243078</td>\n      <td>1.081611e+08</td>\n      <td>XRX</td>\n    </tr>\n    <tr>\n      <th>65676</th>\n      <td>2011-02-01</td>\n      <td>28.194992</td>\n      <td>30.303030</td>\n      <td>27.747036</td>\n      <td>28.326746</td>\n      <td>18.466393</td>\n      <td>8.760613e+07</td>\n      <td>XRX</td>\n    </tr>\n    <tr>\n      <th>65677</th>\n      <td>2011-03-01</td>\n      <td>28.274046</td>\n      <td>28.616602</td>\n      <td>25.770752</td>\n      <td>28.063240</td>\n      <td>18.294609</td>\n      <td>9.970232e+07</td>\n      <td>XRX</td>\n    </tr>\n    <tr>\n      <th>65678</th>\n      <td>2011-04-01</td>\n      <td>28.221344</td>\n      <td>29.064560</td>\n      <td>26.086958</td>\n      <td>26.587614</td>\n      <td>17.402973</td>\n      <td>1.060864e+08</td>\n      <td>XRX</td>\n    </tr>\n    <tr>\n      <th>65679</th>\n      <td>2011-05-01</td>\n      <td>26.798420</td>\n      <td>27.799736</td>\n      <td>25.533598</td>\n      <td>26.903822</td>\n      <td>17.609943</td>\n      <td>9.698608e+07</td>\n      <td>XRX</td>\n    </tr>\n  </tbody>\n</table>\n<p>3205 rows × 8 columns</p>\n</div>"
     },
     "metadata": {},
     "execution_count": 71
    }
   ],
   "source": [
    "get_k_df(0)\n"
   ]
  },
  {
   "cell_type": "code",
   "execution_count": 72,
   "metadata": {},
   "outputs": [
    {
     "output_type": "execute_result",
     "data": {
      "text/plain": [
       "             Date       Open       High        Low      Close  Adj Close  \\\n",
       "0      2010-02-01   6.870357   7.327500   6.816071   7.307857   6.294721   \n",
       "1      2010-03-01   7.348214   8.481429   7.337500   8.392857   7.229299   \n",
       "2      2010-04-01   8.478929   9.730714   8.312500   9.324643   8.031907   \n",
       "3      2010-05-01   9.422857   9.567143   7.116071   9.174286   7.902396   \n",
       "4      2010-06-01   9.274643   9.964643   8.650000   8.983214   7.737815   \n",
       "...           ...        ...        ...        ...        ...        ...   \n",
       "65669  2010-07-01  21.238472  25.981556  20.210804  25.665348  16.601019   \n",
       "65670  2010-08-01  25.665348  26.324112  21.923584  22.266140  14.402317   \n",
       "65671  2010-09-01  22.661398  28.036892  22.635046  27.272726  17.640709   \n",
       "65672  2010-10-01  27.430830  30.909092  27.140976  30.830040  20.023676   \n",
       "65673  2010-11-01  30.935440  31.515152  28.853756  30.197628  19.612934   \n",
       "\n",
       "             Volume  Name  \n",
       "0      1.077608e+10  AAPL  \n",
       "1      1.215417e+10  AAPL  \n",
       "2      1.236713e+10  AAPL  \n",
       "3      1.808265e+10  AAPL  \n",
       "4      1.665125e+10  AAPL  \n",
       "...             ...   ...  \n",
       "65669  1.537455e+08   XRX  \n",
       "65670  9.929796e+07   XRX  \n",
       "65671  1.052086e+08   XRX  \n",
       "65672  1.038929e+08   XRX  \n",
       "65673  8.215890e+07   XRX  \n",
       "\n",
       "[4527 rows x 8 columns]"
      ],
      "text/html": "<div>\n<style scoped>\n    .dataframe tbody tr th:only-of-type {\n        vertical-align: middle;\n    }\n\n    .dataframe tbody tr th {\n        vertical-align: top;\n    }\n\n    .dataframe thead th {\n        text-align: right;\n    }\n</style>\n<table border=\"1\" class=\"dataframe\">\n  <thead>\n    <tr style=\"text-align: right;\">\n      <th></th>\n      <th>Date</th>\n      <th>Open</th>\n      <th>High</th>\n      <th>Low</th>\n      <th>Close</th>\n      <th>Adj Close</th>\n      <th>Volume</th>\n      <th>Name</th>\n    </tr>\n  </thead>\n  <tbody>\n    <tr>\n      <th>0</th>\n      <td>2010-02-01</td>\n      <td>6.870357</td>\n      <td>7.327500</td>\n      <td>6.816071</td>\n      <td>7.307857</td>\n      <td>6.294721</td>\n      <td>1.077608e+10</td>\n      <td>AAPL</td>\n    </tr>\n    <tr>\n      <th>1</th>\n      <td>2010-03-01</td>\n      <td>7.348214</td>\n      <td>8.481429</td>\n      <td>7.337500</td>\n      <td>8.392857</td>\n      <td>7.229299</td>\n      <td>1.215417e+10</td>\n      <td>AAPL</td>\n    </tr>\n    <tr>\n      <th>2</th>\n      <td>2010-04-01</td>\n      <td>8.478929</td>\n      <td>9.730714</td>\n      <td>8.312500</td>\n      <td>9.324643</td>\n      <td>8.031907</td>\n      <td>1.236713e+10</td>\n      <td>AAPL</td>\n    </tr>\n    <tr>\n      <th>3</th>\n      <td>2010-05-01</td>\n      <td>9.422857</td>\n      <td>9.567143</td>\n      <td>7.116071</td>\n      <td>9.174286</td>\n      <td>7.902396</td>\n      <td>1.808265e+10</td>\n      <td>AAPL</td>\n    </tr>\n    <tr>\n      <th>4</th>\n      <td>2010-06-01</td>\n      <td>9.274643</td>\n      <td>9.964643</td>\n      <td>8.650000</td>\n      <td>8.983214</td>\n      <td>7.737815</td>\n      <td>1.665125e+10</td>\n      <td>AAPL</td>\n    </tr>\n    <tr>\n      <th>...</th>\n      <td>...</td>\n      <td>...</td>\n      <td>...</td>\n      <td>...</td>\n      <td>...</td>\n      <td>...</td>\n      <td>...</td>\n      <td>...</td>\n    </tr>\n    <tr>\n      <th>65669</th>\n      <td>2010-07-01</td>\n      <td>21.238472</td>\n      <td>25.981556</td>\n      <td>20.210804</td>\n      <td>25.665348</td>\n      <td>16.601019</td>\n      <td>1.537455e+08</td>\n      <td>XRX</td>\n    </tr>\n    <tr>\n      <th>65670</th>\n      <td>2010-08-01</td>\n      <td>25.665348</td>\n      <td>26.324112</td>\n      <td>21.923584</td>\n      <td>22.266140</td>\n      <td>14.402317</td>\n      <td>9.929796e+07</td>\n      <td>XRX</td>\n    </tr>\n    <tr>\n      <th>65671</th>\n      <td>2010-09-01</td>\n      <td>22.661398</td>\n      <td>28.036892</td>\n      <td>22.635046</td>\n      <td>27.272726</td>\n      <td>17.640709</td>\n      <td>1.052086e+08</td>\n      <td>XRX</td>\n    </tr>\n    <tr>\n      <th>65672</th>\n      <td>2010-10-01</td>\n      <td>27.430830</td>\n      <td>30.909092</td>\n      <td>27.140976</td>\n      <td>30.830040</td>\n      <td>20.023676</td>\n      <td>1.038929e+08</td>\n      <td>XRX</td>\n    </tr>\n    <tr>\n      <th>65673</th>\n      <td>2010-11-01</td>\n      <td>30.935440</td>\n      <td>31.515152</td>\n      <td>28.853756</td>\n      <td>30.197628</td>\n      <td>19.612934</td>\n      <td>8.215890e+07</td>\n      <td>XRX</td>\n    </tr>\n  </tbody>\n</table>\n<p>4527 rows × 8 columns</p>\n</div>"
     },
     "metadata": {},
     "execution_count": 72
    }
   ],
   "source": [
    "get_j_df(0)"
   ]
  },
  {
   "cell_type": "markdown",
   "metadata": {},
   "source": [
    "# Data Analysis: using the above functions for building portfolios"
   ]
  },
  {
   "cell_type": "code",
   "execution_count": 73,
   "metadata": {},
   "outputs": [],
   "source": [
    "timedf,j,k = generate_timetable(j=3, k=2) # with j as 3 and k as 2"
   ]
  },
  {
   "cell_type": "code",
   "execution_count": 74,
   "metadata": {},
   "outputs": [
    {
     "output_type": "execute_result",
     "data": {
      "text/plain": [
       "             Date       Open       High        Low      Close  Adj Close  \\\n",
       "0      2010-02-01   6.870357   7.327500   6.816071   7.307857   6.294721   \n",
       "1      2010-03-01   7.348214   8.481429   7.337500   8.392857   7.229299   \n",
       "2      2010-04-01   8.478929   9.730714   8.312500   9.324643   8.031907   \n",
       "3      2010-05-01   9.422857   9.567143   7.116071   9.174286   7.902396   \n",
       "4      2010-06-01   9.274643   9.964643   8.650000   8.983214   7.737815   \n",
       "...           ...        ...        ...        ...        ...        ...   \n",
       "65669  2010-07-01  21.238472  25.981556  20.210804  25.665348  16.601019   \n",
       "65670  2010-08-01  25.665348  26.324112  21.923584  22.266140  14.402317   \n",
       "65671  2010-09-01  22.661398  28.036892  22.635046  27.272726  17.640709   \n",
       "65672  2010-10-01  27.430830  30.909092  27.140976  30.830040  20.023676   \n",
       "65673  2010-11-01  30.935440  31.515152  28.853756  30.197628  19.612934   \n",
       "\n",
       "             Volume  Name  \n",
       "0      1.077608e+10  AAPL  \n",
       "1      1.215417e+10  AAPL  \n",
       "2      1.236713e+10  AAPL  \n",
       "3      1.808265e+10  AAPL  \n",
       "4      1.665125e+10  AAPL  \n",
       "...             ...   ...  \n",
       "65669  1.537455e+08   XRX  \n",
       "65670  9.929796e+07   XRX  \n",
       "65671  1.052086e+08   XRX  \n",
       "65672  1.038929e+08   XRX  \n",
       "65673  8.215890e+07   XRX  \n",
       "\n",
       "[4527 rows x 8 columns]"
      ],
      "text/html": "<div>\n<style scoped>\n    .dataframe tbody tr th:only-of-type {\n        vertical-align: middle;\n    }\n\n    .dataframe tbody tr th {\n        vertical-align: top;\n    }\n\n    .dataframe thead th {\n        text-align: right;\n    }\n</style>\n<table border=\"1\" class=\"dataframe\">\n  <thead>\n    <tr style=\"text-align: right;\">\n      <th></th>\n      <th>Date</th>\n      <th>Open</th>\n      <th>High</th>\n      <th>Low</th>\n      <th>Close</th>\n      <th>Adj Close</th>\n      <th>Volume</th>\n      <th>Name</th>\n    </tr>\n  </thead>\n  <tbody>\n    <tr>\n      <th>0</th>\n      <td>2010-02-01</td>\n      <td>6.870357</td>\n      <td>7.327500</td>\n      <td>6.816071</td>\n      <td>7.307857</td>\n      <td>6.294721</td>\n      <td>1.077608e+10</td>\n      <td>AAPL</td>\n    </tr>\n    <tr>\n      <th>1</th>\n      <td>2010-03-01</td>\n      <td>7.348214</td>\n      <td>8.481429</td>\n      <td>7.337500</td>\n      <td>8.392857</td>\n      <td>7.229299</td>\n      <td>1.215417e+10</td>\n      <td>AAPL</td>\n    </tr>\n    <tr>\n      <th>2</th>\n      <td>2010-04-01</td>\n      <td>8.478929</td>\n      <td>9.730714</td>\n      <td>8.312500</td>\n      <td>9.324643</td>\n      <td>8.031907</td>\n      <td>1.236713e+10</td>\n      <td>AAPL</td>\n    </tr>\n    <tr>\n      <th>3</th>\n      <td>2010-05-01</td>\n      <td>9.422857</td>\n      <td>9.567143</td>\n      <td>7.116071</td>\n      <td>9.174286</td>\n      <td>7.902396</td>\n      <td>1.808265e+10</td>\n      <td>AAPL</td>\n    </tr>\n    <tr>\n      <th>4</th>\n      <td>2010-06-01</td>\n      <td>9.274643</td>\n      <td>9.964643</td>\n      <td>8.650000</td>\n      <td>8.983214</td>\n      <td>7.737815</td>\n      <td>1.665125e+10</td>\n      <td>AAPL</td>\n    </tr>\n    <tr>\n      <th>...</th>\n      <td>...</td>\n      <td>...</td>\n      <td>...</td>\n      <td>...</td>\n      <td>...</td>\n      <td>...</td>\n      <td>...</td>\n      <td>...</td>\n    </tr>\n    <tr>\n      <th>65669</th>\n      <td>2010-07-01</td>\n      <td>21.238472</td>\n      <td>25.981556</td>\n      <td>20.210804</td>\n      <td>25.665348</td>\n      <td>16.601019</td>\n      <td>1.537455e+08</td>\n      <td>XRX</td>\n    </tr>\n    <tr>\n      <th>65670</th>\n      <td>2010-08-01</td>\n      <td>25.665348</td>\n      <td>26.324112</td>\n      <td>21.923584</td>\n      <td>22.266140</td>\n      <td>14.402317</td>\n      <td>9.929796e+07</td>\n      <td>XRX</td>\n    </tr>\n    <tr>\n      <th>65671</th>\n      <td>2010-09-01</td>\n      <td>22.661398</td>\n      <td>28.036892</td>\n      <td>22.635046</td>\n      <td>27.272726</td>\n      <td>17.640709</td>\n      <td>1.052086e+08</td>\n      <td>XRX</td>\n    </tr>\n    <tr>\n      <th>65672</th>\n      <td>2010-10-01</td>\n      <td>27.430830</td>\n      <td>30.909092</td>\n      <td>27.140976</td>\n      <td>30.830040</td>\n      <td>20.023676</td>\n      <td>1.038929e+08</td>\n      <td>XRX</td>\n    </tr>\n    <tr>\n      <th>65673</th>\n      <td>2010-11-01</td>\n      <td>30.935440</td>\n      <td>31.515152</td>\n      <td>28.853756</td>\n      <td>30.197628</td>\n      <td>19.612934</td>\n      <td>8.215890e+07</td>\n      <td>XRX</td>\n    </tr>\n  </tbody>\n</table>\n<p>4527 rows × 8 columns</p>\n</div>"
     },
     "metadata": {},
     "execution_count": 74
    }
   ],
   "source": [
    "get_j_df(0)"
   ]
  },
  {
   "cell_type": "code",
   "execution_count": 75,
   "metadata": {},
   "outputs": [
    {
     "output_type": "execute_result",
     "data": {
      "text/plain": [
       "            Date       Open       High        Low      Close  Adj Close  \\\n",
       "Name                                                                      \n",
       "AAPL  2010-02-01   6.870357   7.327500   6.816071   7.307857   6.294721   \n",
       "AAPL  2010-03-01   7.348214   8.481429   7.337500   8.392857   7.229299   \n",
       "AAPL  2010-04-01   8.478929   9.730714   8.312500   9.324643   8.031907   \n",
       "AAPL  2010-05-01   9.422857   9.567143   7.116071   9.174286   7.902396   \n",
       "AAPL  2010-06-01   9.274643   9.964643   8.650000   8.983214   7.737815   \n",
       "AAPL  2010-07-01   9.082143   9.499643   8.557143   9.187500   7.913781   \n",
       "AAPL  2010-08-01   9.301429   9.438571   8.412857   8.682143   7.478480   \n",
       "AAPL  2010-09-01   8.838214  10.526071   8.795714  10.133929   8.728997   \n",
       "AAPL  2010-10-01  10.219643  11.392857   9.920357  10.749286   9.259040   \n",
       "AAPL  2010-11-01  10.793571  11.475000  10.634286  11.112500   9.571903   \n",
       "MSFT  2010-02-01  28.389999  29.030001  27.570000  28.670000  22.278278   \n",
       "MSFT  2010-03-01  28.770000  30.570000  28.240000  29.290001  22.866486   \n",
       "MSFT  2010-04-01  29.350000  31.580000  28.620001  30.540001  23.842352   \n",
       "MSFT  2010-05-01  30.670000  31.059999  24.559999  25.799999  20.141876   \n",
       "MSFT  2010-06-01  25.530001  26.930000  22.950001  23.010000  18.044788   \n",
       "\n",
       "            Volume  pct_change  cum_return  adj_close_shifted  adj_change  \n",
       "Name                                                                       \n",
       "AAPL  1.077608e+10         NaN    1.000000                NaN         NaN  \n",
       "AAPL  1.215417e+10    0.148470    1.148470                NaN         NaN  \n",
       "AAPL  1.236713e+10    0.111022    1.275975                NaN         NaN  \n",
       "AAPL  1.808265e+10   -0.016125    1.255401           6.294721    1.255401  \n",
       "AAPL  1.665125e+10   -0.020827    1.229255           7.229299    1.070341  \n",
       "AAPL  1.566970e+10    0.022741    1.257209           8.031907    0.985293  \n",
       "AAPL  9.589121e+09   -0.055005    1.188056           7.902396    0.946356  \n",
       "AAPL  1.184992e+10    0.167215    1.386717           7.737815    1.128096  \n",
       "AAPL  1.223458e+10    0.060722    1.470921           7.913781    1.169989  \n",
       "AAPL  9.508086e+09    0.033790    1.520624           7.478480    1.279926  \n",
       "MSFT  1.074643e+09         NaN    1.000000                NaN         NaN  \n",
       "MSFT  1.110237e+09    0.026403    1.026403                NaN         NaN  \n",
       "MSFT  1.319030e+09    0.042677    1.070206                NaN         NaN  \n",
       "MSFT  1.720130e+09   -0.155206    0.904104          22.278278    0.904104  \n",
       "MSFT  1.671812e+09   -0.104116    0.809972          22.866486    0.789137  "
      ],
      "text/html": "<div>\n<style scoped>\n    .dataframe tbody tr th:only-of-type {\n        vertical-align: middle;\n    }\n\n    .dataframe tbody tr th {\n        vertical-align: top;\n    }\n\n    .dataframe thead th {\n        text-align: right;\n    }\n</style>\n<table border=\"1\" class=\"dataframe\">\n  <thead>\n    <tr style=\"text-align: right;\">\n      <th></th>\n      <th>Date</th>\n      <th>Open</th>\n      <th>High</th>\n      <th>Low</th>\n      <th>Close</th>\n      <th>Adj Close</th>\n      <th>Volume</th>\n      <th>pct_change</th>\n      <th>cum_return</th>\n      <th>adj_close_shifted</th>\n      <th>adj_change</th>\n    </tr>\n    <tr>\n      <th>Name</th>\n      <th></th>\n      <th></th>\n      <th></th>\n      <th></th>\n      <th></th>\n      <th></th>\n      <th></th>\n      <th></th>\n      <th></th>\n      <th></th>\n      <th></th>\n    </tr>\n  </thead>\n  <tbody>\n    <tr>\n      <th>AAPL</th>\n      <td>2010-02-01</td>\n      <td>6.870357</td>\n      <td>7.327500</td>\n      <td>6.816071</td>\n      <td>7.307857</td>\n      <td>6.294721</td>\n      <td>1.077608e+10</td>\n      <td>NaN</td>\n      <td>1.000000</td>\n      <td>NaN</td>\n      <td>NaN</td>\n    </tr>\n    <tr>\n      <th>AAPL</th>\n      <td>2010-03-01</td>\n      <td>7.348214</td>\n      <td>8.481429</td>\n      <td>7.337500</td>\n      <td>8.392857</td>\n      <td>7.229299</td>\n      <td>1.215417e+10</td>\n      <td>0.148470</td>\n      <td>1.148470</td>\n      <td>NaN</td>\n      <td>NaN</td>\n    </tr>\n    <tr>\n      <th>AAPL</th>\n      <td>2010-04-01</td>\n      <td>8.478929</td>\n      <td>9.730714</td>\n      <td>8.312500</td>\n      <td>9.324643</td>\n      <td>8.031907</td>\n      <td>1.236713e+10</td>\n      <td>0.111022</td>\n      <td>1.275975</td>\n      <td>NaN</td>\n      <td>NaN</td>\n    </tr>\n    <tr>\n      <th>AAPL</th>\n      <td>2010-05-01</td>\n      <td>9.422857</td>\n      <td>9.567143</td>\n      <td>7.116071</td>\n      <td>9.174286</td>\n      <td>7.902396</td>\n      <td>1.808265e+10</td>\n      <td>-0.016125</td>\n      <td>1.255401</td>\n      <td>6.294721</td>\n      <td>1.255401</td>\n    </tr>\n    <tr>\n      <th>AAPL</th>\n      <td>2010-06-01</td>\n      <td>9.274643</td>\n      <td>9.964643</td>\n      <td>8.650000</td>\n      <td>8.983214</td>\n      <td>7.737815</td>\n      <td>1.665125e+10</td>\n      <td>-0.020827</td>\n      <td>1.229255</td>\n      <td>7.229299</td>\n      <td>1.070341</td>\n    </tr>\n    <tr>\n      <th>AAPL</th>\n      <td>2010-07-01</td>\n      <td>9.082143</td>\n      <td>9.499643</td>\n      <td>8.557143</td>\n      <td>9.187500</td>\n      <td>7.913781</td>\n      <td>1.566970e+10</td>\n      <td>0.022741</td>\n      <td>1.257209</td>\n      <td>8.031907</td>\n      <td>0.985293</td>\n    </tr>\n    <tr>\n      <th>AAPL</th>\n      <td>2010-08-01</td>\n      <td>9.301429</td>\n      <td>9.438571</td>\n      <td>8.412857</td>\n      <td>8.682143</td>\n      <td>7.478480</td>\n      <td>9.589121e+09</td>\n      <td>-0.055005</td>\n      <td>1.188056</td>\n      <td>7.902396</td>\n      <td>0.946356</td>\n    </tr>\n    <tr>\n      <th>AAPL</th>\n      <td>2010-09-01</td>\n      <td>8.838214</td>\n      <td>10.526071</td>\n      <td>8.795714</td>\n      <td>10.133929</td>\n      <td>8.728997</td>\n      <td>1.184992e+10</td>\n      <td>0.167215</td>\n      <td>1.386717</td>\n      <td>7.737815</td>\n      <td>1.128096</td>\n    </tr>\n    <tr>\n      <th>AAPL</th>\n      <td>2010-10-01</td>\n      <td>10.219643</td>\n      <td>11.392857</td>\n      <td>9.920357</td>\n      <td>10.749286</td>\n      <td>9.259040</td>\n      <td>1.223458e+10</td>\n      <td>0.060722</td>\n      <td>1.470921</td>\n      <td>7.913781</td>\n      <td>1.169989</td>\n    </tr>\n    <tr>\n      <th>AAPL</th>\n      <td>2010-11-01</td>\n      <td>10.793571</td>\n      <td>11.475000</td>\n      <td>10.634286</td>\n      <td>11.112500</td>\n      <td>9.571903</td>\n      <td>9.508086e+09</td>\n      <td>0.033790</td>\n      <td>1.520624</td>\n      <td>7.478480</td>\n      <td>1.279926</td>\n    </tr>\n    <tr>\n      <th>MSFT</th>\n      <td>2010-02-01</td>\n      <td>28.389999</td>\n      <td>29.030001</td>\n      <td>27.570000</td>\n      <td>28.670000</td>\n      <td>22.278278</td>\n      <td>1.074643e+09</td>\n      <td>NaN</td>\n      <td>1.000000</td>\n      <td>NaN</td>\n      <td>NaN</td>\n    </tr>\n    <tr>\n      <th>MSFT</th>\n      <td>2010-03-01</td>\n      <td>28.770000</td>\n      <td>30.570000</td>\n      <td>28.240000</td>\n      <td>29.290001</td>\n      <td>22.866486</td>\n      <td>1.110237e+09</td>\n      <td>0.026403</td>\n      <td>1.026403</td>\n      <td>NaN</td>\n      <td>NaN</td>\n    </tr>\n    <tr>\n      <th>MSFT</th>\n      <td>2010-04-01</td>\n      <td>29.350000</td>\n      <td>31.580000</td>\n      <td>28.620001</td>\n      <td>30.540001</td>\n      <td>23.842352</td>\n      <td>1.319030e+09</td>\n      <td>0.042677</td>\n      <td>1.070206</td>\n      <td>NaN</td>\n      <td>NaN</td>\n    </tr>\n    <tr>\n      <th>MSFT</th>\n      <td>2010-05-01</td>\n      <td>30.670000</td>\n      <td>31.059999</td>\n      <td>24.559999</td>\n      <td>25.799999</td>\n      <td>20.141876</td>\n      <td>1.720130e+09</td>\n      <td>-0.155206</td>\n      <td>0.904104</td>\n      <td>22.278278</td>\n      <td>0.904104</td>\n    </tr>\n    <tr>\n      <th>MSFT</th>\n      <td>2010-06-01</td>\n      <td>25.530001</td>\n      <td>26.930000</td>\n      <td>22.950001</td>\n      <td>23.010000</td>\n      <td>18.044788</td>\n      <td>1.671812e+09</td>\n      <td>-0.104116</td>\n      <td>0.809972</td>\n      <td>22.866486</td>\n      <td>0.789137</td>\n    </tr>\n  </tbody>\n</table>\n</div>"
     },
     "metadata": {},
     "execution_count": 75
    }
   ],
   "source": [
    "df0 = get_j_df(0).set_index('Name') # i dont know why, but you have to set index to name for the groupby's to work\n",
    "\n",
    "df0['pct_change'] = df0['Adj Close'].groupby('Name').pct_change()\n",
    "df0['cum_return'] = (df0['pct_change']+1).groupby('Name').cumprod().fillna(1)\n",
    "df0['adj_close_shifted'] = df0['Adj Close'].groupby('Name').shift(3)#.bfill(0) # filing the value with the backfill TODO check this later\n",
    "df0['adj_change'] = df0['Adj Close']/df0['adj_close_shifted'] #.bfill(0) \n",
    "df0[:15]"
   ]
  },
  {
   "cell_type": "code",
   "execution_count": 76,
   "metadata": {},
   "outputs": [],
   "source": [
    "# monthly_sp500['PYPL'].head() # TODO we should write about some of the issues of yahoofinance as a datasource, that should be sufficient"
   ]
  },
  {
   "cell_type": "code",
   "execution_count": 77,
   "metadata": {},
   "outputs": [
    {
     "output_type": "execute_result",
     "data": {
      "text/plain": [
       "            Date        Open        High         Low       Close   Adj Close  \\\n",
       "Name                                                                           \n",
       "NFLX  2010-11-01   24.850000   29.542856   23.367144   29.414286   29.414286   \n",
       "LVS   2010-11-01   46.349998   55.470001   44.099998   50.080002   33.399349   \n",
       "URI   2010-11-01   18.980000   20.770000   18.719999   19.620001   19.620001   \n",
       "CMG   2010-11-01  211.889999  262.769989  209.000000  258.489990  258.489990   \n",
       "FFIV  2010-11-01  117.980003  136.000000  112.099998  131.880005  131.880005   \n",
       "...          ...         ...         ...         ...         ...         ...   \n",
       "BLK   2010-11-01  171.740005  174.470001  161.529999  163.000000  123.415390   \n",
       "ISRG  2010-11-01   88.080002   93.580002   82.016670   86.763336   86.763336   \n",
       "STX   2010-11-01   14.820000   15.320000   13.150000   13.410000    8.175142   \n",
       "BAC   2010-11-01   11.500000   12.740000   10.910000   10.950000    9.555334   \n",
       "PHM   2010-11-01    7.900000    8.150000    6.130000    6.260000    5.608897   \n",
       "\n",
       "            Volume  pct_change  cum_return  adj_close_shifted  adj_change  \n",
       "Name                                                                       \n",
       "NFLX  7.496153e+08    0.186265    3.117336          17.931429    1.640376  \n",
       "LVS   9.013144e+08    0.091543    3.011427          18.893837    1.767738  \n",
       "URI   2.857960e+07    0.044172    2.598676          11.250000    1.744000  \n",
       "CMG   2.046980e+07    0.229675    2.468628         150.830002    1.713784  \n",
       "FFIV  4.788060e+07    0.120476    2.363441          87.430000    1.508407  \n",
       "...            ...         ...         ...                ...         ...  \n",
       "BLK   5.091100e+07   -0.046729    0.758340         106.721397    1.156426  \n",
       "ISRG  3.013560e+07   -0.010116    0.749813          88.343330    0.982115  \n",
       "STX   2.739812e+08   -0.088375    0.673531           6.181654    1.322485  \n",
       "BAC   3.930563e+09   -0.043668    0.658617          10.864283    0.879518  \n",
       "PHM   2.120267e+08   -0.202548    0.578024           7.203760    0.778607  \n",
       "\n",
       "[454 rows x 11 columns]"
      ],
      "text/html": "<div>\n<style scoped>\n    .dataframe tbody tr th:only-of-type {\n        vertical-align: middle;\n    }\n\n    .dataframe tbody tr th {\n        vertical-align: top;\n    }\n\n    .dataframe thead th {\n        text-align: right;\n    }\n</style>\n<table border=\"1\" class=\"dataframe\">\n  <thead>\n    <tr style=\"text-align: right;\">\n      <th></th>\n      <th>Date</th>\n      <th>Open</th>\n      <th>High</th>\n      <th>Low</th>\n      <th>Close</th>\n      <th>Adj Close</th>\n      <th>Volume</th>\n      <th>pct_change</th>\n      <th>cum_return</th>\n      <th>adj_close_shifted</th>\n      <th>adj_change</th>\n    </tr>\n    <tr>\n      <th>Name</th>\n      <th></th>\n      <th></th>\n      <th></th>\n      <th></th>\n      <th></th>\n      <th></th>\n      <th></th>\n      <th></th>\n      <th></th>\n      <th></th>\n      <th></th>\n    </tr>\n  </thead>\n  <tbody>\n    <tr>\n      <th>NFLX</th>\n      <td>2010-11-01</td>\n      <td>24.850000</td>\n      <td>29.542856</td>\n      <td>23.367144</td>\n      <td>29.414286</td>\n      <td>29.414286</td>\n      <td>7.496153e+08</td>\n      <td>0.186265</td>\n      <td>3.117336</td>\n      <td>17.931429</td>\n      <td>1.640376</td>\n    </tr>\n    <tr>\n      <th>LVS</th>\n      <td>2010-11-01</td>\n      <td>46.349998</td>\n      <td>55.470001</td>\n      <td>44.099998</td>\n      <td>50.080002</td>\n      <td>33.399349</td>\n      <td>9.013144e+08</td>\n      <td>0.091543</td>\n      <td>3.011427</td>\n      <td>18.893837</td>\n      <td>1.767738</td>\n    </tr>\n    <tr>\n      <th>URI</th>\n      <td>2010-11-01</td>\n      <td>18.980000</td>\n      <td>20.770000</td>\n      <td>18.719999</td>\n      <td>19.620001</td>\n      <td>19.620001</td>\n      <td>2.857960e+07</td>\n      <td>0.044172</td>\n      <td>2.598676</td>\n      <td>11.250000</td>\n      <td>1.744000</td>\n    </tr>\n    <tr>\n      <th>CMG</th>\n      <td>2010-11-01</td>\n      <td>211.889999</td>\n      <td>262.769989</td>\n      <td>209.000000</td>\n      <td>258.489990</td>\n      <td>258.489990</td>\n      <td>2.046980e+07</td>\n      <td>0.229675</td>\n      <td>2.468628</td>\n      <td>150.830002</td>\n      <td>1.713784</td>\n    </tr>\n    <tr>\n      <th>FFIV</th>\n      <td>2010-11-01</td>\n      <td>117.980003</td>\n      <td>136.000000</td>\n      <td>112.099998</td>\n      <td>131.880005</td>\n      <td>131.880005</td>\n      <td>4.788060e+07</td>\n      <td>0.120476</td>\n      <td>2.363441</td>\n      <td>87.430000</td>\n      <td>1.508407</td>\n    </tr>\n    <tr>\n      <th>...</th>\n      <td>...</td>\n      <td>...</td>\n      <td>...</td>\n      <td>...</td>\n      <td>...</td>\n      <td>...</td>\n      <td>...</td>\n      <td>...</td>\n      <td>...</td>\n      <td>...</td>\n      <td>...</td>\n    </tr>\n    <tr>\n      <th>BLK</th>\n      <td>2010-11-01</td>\n      <td>171.740005</td>\n      <td>174.470001</td>\n      <td>161.529999</td>\n      <td>163.000000</td>\n      <td>123.415390</td>\n      <td>5.091100e+07</td>\n      <td>-0.046729</td>\n      <td>0.758340</td>\n      <td>106.721397</td>\n      <td>1.156426</td>\n    </tr>\n    <tr>\n      <th>ISRG</th>\n      <td>2010-11-01</td>\n      <td>88.080002</td>\n      <td>93.580002</td>\n      <td>82.016670</td>\n      <td>86.763336</td>\n      <td>86.763336</td>\n      <td>3.013560e+07</td>\n      <td>-0.010116</td>\n      <td>0.749813</td>\n      <td>88.343330</td>\n      <td>0.982115</td>\n    </tr>\n    <tr>\n      <th>STX</th>\n      <td>2010-11-01</td>\n      <td>14.820000</td>\n      <td>15.320000</td>\n      <td>13.150000</td>\n      <td>13.410000</td>\n      <td>8.175142</td>\n      <td>2.739812e+08</td>\n      <td>-0.088375</td>\n      <td>0.673531</td>\n      <td>6.181654</td>\n      <td>1.322485</td>\n    </tr>\n    <tr>\n      <th>BAC</th>\n      <td>2010-11-01</td>\n      <td>11.500000</td>\n      <td>12.740000</td>\n      <td>10.910000</td>\n      <td>10.950000</td>\n      <td>9.555334</td>\n      <td>3.930563e+09</td>\n      <td>-0.043668</td>\n      <td>0.658617</td>\n      <td>10.864283</td>\n      <td>0.879518</td>\n    </tr>\n    <tr>\n      <th>PHM</th>\n      <td>2010-11-01</td>\n      <td>7.900000</td>\n      <td>8.150000</td>\n      <td>6.130000</td>\n      <td>6.260000</td>\n      <td>5.608897</td>\n      <td>2.120267e+08</td>\n      <td>-0.202548</td>\n      <td>0.578024</td>\n      <td>7.203760</td>\n      <td>0.778607</td>\n    </tr>\n  </tbody>\n</table>\n<p>454 rows × 11 columns</p>\n</div>"
     },
     "metadata": {},
     "execution_count": 77
    }
   ],
   "source": [
    "features = df0.groupby('Name').tail(1).sort_values(['cum_return'], ascending=False)\n",
    "features"
   ]
  },
  {
   "cell_type": "code",
   "execution_count": 78,
   "metadata": {},
   "outputs": [
    {
     "output_type": "execute_result",
     "data": {
      "text/plain": [
       "Index(['NFLX', 'LVS', 'URI', 'CMG', 'FFIV', 'UAA', 'CRM', 'AKAM', 'TMUS',\n",
       "       'ULTA', 'FTNT', 'IPGP', 'TSLA', 'BKNG', 'CMI', 'PXD', 'NTAP', 'AIG',\n",
       "       'SWKS', 'ILMN', 'LYB', 'KMX', 'AAP', 'LB', 'UAL', 'BWA', 'WYNN', 'ALK',\n",
       "       'TPR', 'AZO', 'TSCO', 'PVH', 'CTXS', 'ALXN', 'PCAR', 'ORLY', 'AAL',\n",
       "       'AME', 'AAPL', 'CAT', 'YUM', 'AMZN', 'DLTR', 'MTD', 'EXPD', 'ALB'],\n",
       "      dtype='object', name='Name')"
      ]
     },
     "metadata": {},
     "execution_count": 78
    }
   ],
   "source": [
    "# this calculates the winner and loser tickers given n\n",
    "n = 10\n",
    "get_percents = lambda n: features.shape[0]//n+1 # this function gets us n percent number of tickers\n",
    "winner_tickers = features[:get_percents(n)].index\n",
    "winner_tickers"
   ]
  },
  {
   "cell_type": "code",
   "execution_count": 79,
   "metadata": {},
   "outputs": [
    {
     "output_type": "execute_result",
     "data": {
      "text/plain": [
       "Index(['VTRS', 'CAG', 'ANTM', 'EA', 'CBOE', 'LMT', 'JPM', 'MSFT', 'NRG', 'WHR',\n",
       "       'ABT', 'NVR', 'DGX', 'COG', 'MS', 'V', 'BAX', 'DXC', 'WDC', 'IRM',\n",
       "       'ZBH', 'NVDA', 'TFX', 'MAS', 'HPQ', 'SCHW', 'BSX', 'LYV', 'TFC', 'EQIX',\n",
       "       'DHI', 'VRTX', 'PBCT', 'MU', 'ADBE', 'RF', 'MPWR', 'CSCO', 'MDT',\n",
       "       'LDOS', 'GILD', 'BLK', 'ISRG', 'STX', 'BAC', 'PHM'],\n",
       "      dtype='object', name='Name')"
      ]
     },
     "metadata": {},
     "execution_count": 79
    }
   ],
   "source": [
    "loser_tickers = features[-get_percents(n):].index\n",
    "loser_tickers"
   ]
  },
  {
   "cell_type": "code",
   "execution_count": 80,
   "metadata": {},
   "outputs": [],
   "source": [
    "# equally weight\n",
    "weights = np.ones(get_percents(n))/(get_percents(n))"
   ]
  },
  {
   "cell_type": "code",
   "execution_count": 81,
   "metadata": {},
   "outputs": [
    {
     "output_type": "execute_result",
     "data": {
      "text/plain": [
       "Date\n",
       "2010-02-01    0.000000\n",
       "2010-03-01    0.116996\n",
       "2010-04-01    0.232886\n",
       "2010-05-01    0.207872\n",
       "2010-06-01    0.153543\n",
       "2010-07-01    0.288089\n",
       "2010-08-01    0.283519\n",
       "2010-09-01    0.499877\n",
       "2010-10-01    0.632900\n",
       "2010-11-01    0.787674\n",
       "dtype: float64"
      ]
     },
     "metadata": {},
     "execution_count": 81
    }
   ],
   "source": [
    "winner_df0 = df0.loc[winner_tickers.to_list()]\n",
    "winner_df0 = winner_df0.pivot_table(index='Date',columns='Name')['pct_change'].fillna(0) # \n",
    "winner_df0\n",
    "# winner_df0.dot(weights) # gives us the percent change of the portfolios\n",
    "winner_performance = (winner_df0.dot(weights)+1).cumprod() - 1 # gets cumulative return for a period\n",
    "winner_performance"
   ]
  },
  {
   "cell_type": "code",
   "execution_count": 82,
   "metadata": {},
   "outputs": [
    {
     "output_type": "stream",
     "name": "stdout",
     "text": [
      "weights 228\n"
     ]
    },
    {
     "output_type": "execute_result",
     "data": {
      "text/plain": [
       "             winners    losers\n",
       "Date                          \n",
       "2010-02-01  0.000000  0.000000\n",
       "2010-03-01  0.087326  0.055991\n",
       "2010-04-01  0.154751  0.075238\n",
       "2010-05-01  0.092383 -0.011044\n",
       "2010-06-01  0.040506 -0.068894\n",
       "2010-07-01  0.144979 -0.026211\n",
       "2010-08-01  0.119290 -0.081950\n",
       "2010-09-01  0.252008  0.001060\n",
       "2010-10-01  0.329955  0.023333\n",
       "2010-11-01  0.370010  0.011911"
      ],
      "text/html": "<div>\n<style scoped>\n    .dataframe tbody tr th:only-of-type {\n        vertical-align: middle;\n    }\n\n    .dataframe tbody tr th {\n        vertical-align: top;\n    }\n\n    .dataframe thead th {\n        text-align: right;\n    }\n</style>\n<table border=\"1\" class=\"dataframe\">\n  <thead>\n    <tr style=\"text-align: right;\">\n      <th></th>\n      <th>winners</th>\n      <th>losers</th>\n    </tr>\n    <tr>\n      <th>Date</th>\n      <th></th>\n      <th></th>\n    </tr>\n  </thead>\n  <tbody>\n    <tr>\n      <th>2010-02-01</th>\n      <td>0.000000</td>\n      <td>0.000000</td>\n    </tr>\n    <tr>\n      <th>2010-03-01</th>\n      <td>0.087326</td>\n      <td>0.055991</td>\n    </tr>\n    <tr>\n      <th>2010-04-01</th>\n      <td>0.154751</td>\n      <td>0.075238</td>\n    </tr>\n    <tr>\n      <th>2010-05-01</th>\n      <td>0.092383</td>\n      <td>-0.011044</td>\n    </tr>\n    <tr>\n      <th>2010-06-01</th>\n      <td>0.040506</td>\n      <td>-0.068894</td>\n    </tr>\n    <tr>\n      <th>2010-07-01</th>\n      <td>0.144979</td>\n      <td>-0.026211</td>\n    </tr>\n    <tr>\n      <th>2010-08-01</th>\n      <td>0.119290</td>\n      <td>-0.081950</td>\n    </tr>\n    <tr>\n      <th>2010-09-01</th>\n      <td>0.252008</td>\n      <td>0.001060</td>\n    </tr>\n    <tr>\n      <th>2010-10-01</th>\n      <td>0.329955</td>\n      <td>0.023333</td>\n    </tr>\n    <tr>\n      <th>2010-11-01</th>\n      <td>0.370010</td>\n      <td>0.011911</td>\n    </tr>\n  </tbody>\n</table>\n</div>"
     },
     "metadata": {},
     "execution_count": 82
    }
   ],
   "source": [
    "def get_cum_return(data):\n",
    "    '''gets cumulative return based on adjusted closing price of all tickers in input dataframe'''\n",
    "    df_ = data.set_index('Name')\n",
    "\n",
    "    # df_['pct_change'] = df_['Adj Close'].groupby('Name').pct_change()\n",
    "    df_['pct_change'] = df_['Adj Close'].groupby('Name').pct_change()\n",
    "    df_['cum_return'] = (df_['pct_change']+1).groupby('Name').cumprod().fillna(1)\n",
    "    # df_['adj_close_shifted'] = df_['Adj Close'].groupby('Name').shift(3)#.bfill(0) # filing the value with the backfill TODO check this later\n",
    "    # df_['adj_change'] = df_['Adj Close']/df_['adj_close_shifted'] #.bfill(0) \n",
    "    df_['adj_close_shifted'] = df_['Adj Close'].groupby('Name').shift(3)#.bfill(0) # filing the value with the backfill TODO check this later\n",
    "    df_['adj_change'] = df_['Adj Close']/df_['adj_close_shifted'] #.bfill(0) \n",
    "    \n",
    "    return df_\n",
    "\n",
    "def get_percents(n): \n",
    "    '''this function gets us n percent number of tickers'''\n",
    "    return features.shape[0]//n+1\n",
    "\n",
    "def get_portfolios(period=0, n=10):   \n",
    "    '''returns the portfolios we want from a particular period'''\n",
    "    ## Gets the portfolio(s) in question we want to look at\n",
    "    data = get_cum_return(get_j_df(period))\n",
    "    features = data.groupby('Name').tail(1).sort_values(['cum_return'], ascending=False) # sorts tickers by cumulative return\n",
    "\n",
    "    winner_tickers = features[:get_percents(n)].index # we get the top/bottom n percent tickers\n",
    "    loser_tickers = features[-get_percents(n):].index # only winner and loser portfolios for now, we could expand later\n",
    "    # TODO add more portfolios if we have time\n",
    "    # print(len(winner_tickers), len(loser_tickers))\n",
    "    return (winner_tickers.to_list(), loser_tickers.to_list())\n",
    "\n",
    "def get_portfolio_performance(period=0, n=2, weights=None, hold=False):\n",
    "    '''Gets all portfolios' cumulative return performance based on n period \n",
    "    keyword args:\n",
    "    period      -- the nth period of data we are looking at, default 0\n",
    "    portfolio   -- the particular type of portfolio we want to be looking at (winner or loser, etc) default winner/momentum\n",
    "    n           -- the percentage of tickers we want to be looking at\n",
    "    weights     -- how to weight the portfolio values. if unspecified (None) we assume equal weighting in the portfolio\n",
    "    hold        -- if true returns the performance evaluation of the holding period k, else returns the performance of the observation period j\n",
    "    '''\n",
    "    winner_tickers, loser_tickers = get_portfolios(period, n)\n",
    "\n",
    "    ## evaluates the performance of portfolios on either hold or observational data\n",
    "    eval_df = get_cum_return(get_k_df(period)) if hold else get_cum_return(get_j_df(period))# we get the return from the hold period\n",
    "    \n",
    "    weights = np.ones(get_percents(n))/(get_percents(n)) if not weights else weights # set weights\n",
    "    print('weights', len(weights))\n",
    "    winner_eval = eval_df.loc[winner_tickers] # first the winners\n",
    "    winner_eval = winner_eval.pivot_table(index='Date',columns='Name')['pct_change'].fillna(0)\n",
    "    winner_performance = (winner_eval.dot(weights)+1).cumprod() - 1 # cumulative return\n",
    "\n",
    "    loser_eval = eval_df.loc[loser_tickers] # then the losers\n",
    "    loser_eval = loser_eval.pivot_table(index='Date',columns='Name')['pct_change'].fillna(0)\n",
    "    loser_performance = (loser_eval.dot(weights)+1).cumprod() - 1 # cumulative return\n",
    "\n",
    "    output = pd.DataFrame({'winners': winner_performance, 'losers': loser_performance})\n",
    "    return output\n",
    "get_portfolio_performance()"
   ]
  },
  {
   "cell_type": "code",
   "execution_count": 83,
   "metadata": {},
   "outputs": [
    {
     "output_type": "execute_result",
     "data": {
      "text/plain": [
       "0.02"
      ]
     },
     "metadata": {},
     "execution_count": 83
    }
   ],
   "source": [
    "10/500"
   ]
  },
  {
   "cell_type": "code",
   "execution_count": 84,
   "metadata": {},
   "outputs": [
    {
     "output_type": "execute_result",
     "data": {
      "text/plain": [
       "     j_start   midpoint      k_end  \\\n",
       "0 2010-02-01 2010-11-01 2011-05-01   \n",
       "1 2010-08-01 2011-05-01 2011-11-01   \n",
       "2 2011-02-01 2011-11-01 2012-05-01   \n",
       "3 2011-08-01 2012-05-01 2012-11-01   \n",
       "4 2012-02-01 2012-11-01 2013-05-01   \n",
       "\n",
       "                                                 mom  \\\n",
       "0  [NFLX, LVS, URI, CMG, FFIV, UAA, CRM, AKAM, TM...   \n",
       "1  [IPGP, REGN, ULTA, URI, HFC, FTNT, NFLX, NVDA,...   \n",
       "2  [DPZ, COG, BIIB, ULTA, REGN, DLTR, ABMD, MNST,...   \n",
       "3  [AAL, REGN, STX, URI, PHM, LEN, EQIX, SHW, MNS...   \n",
       "4  [PHM, EXPE, PSX, AAL, REGN, GILD, STZ, LEN, FB...   \n",
       "\n",
       "                                                 rev  \n",
       "0  [VTRS, CAG, ANTM, EA, CBOE, LMT, JPM, MSFT, NR...  \n",
       "1  [PWR, SBAC, KMB, BR, RSG, TAP, PBCT, ABT, DLR,...  \n",
       "2  [MAS, TXT, NTAP, LUV, PFG, F, WY, HES, ZION, N...  \n",
       "3  [EXC, HIG, IRM, AMD, RSG, MET, DXC, DVN, HPQ, ...  \n",
       "4  [WDC, TXT, MSFT, PRU, LVS, GPN, GRMN, LRCX, XR...  "
      ],
      "text/html": "<div>\n<style scoped>\n    .dataframe tbody tr th:only-of-type {\n        vertical-align: middle;\n    }\n\n    .dataframe tbody tr th {\n        vertical-align: top;\n    }\n\n    .dataframe thead th {\n        text-align: right;\n    }\n</style>\n<table border=\"1\" class=\"dataframe\">\n  <thead>\n    <tr style=\"text-align: right;\">\n      <th></th>\n      <th>j_start</th>\n      <th>midpoint</th>\n      <th>k_end</th>\n      <th>mom</th>\n      <th>rev</th>\n    </tr>\n  </thead>\n  <tbody>\n    <tr>\n      <th>0</th>\n      <td>2010-02-01</td>\n      <td>2010-11-01</td>\n      <td>2011-05-01</td>\n      <td>[NFLX, LVS, URI, CMG, FFIV, UAA, CRM, AKAM, TM...</td>\n      <td>[VTRS, CAG, ANTM, EA, CBOE, LMT, JPM, MSFT, NR...</td>\n    </tr>\n    <tr>\n      <th>1</th>\n      <td>2010-08-01</td>\n      <td>2011-05-01</td>\n      <td>2011-11-01</td>\n      <td>[IPGP, REGN, ULTA, URI, HFC, FTNT, NFLX, NVDA,...</td>\n      <td>[PWR, SBAC, KMB, BR, RSG, TAP, PBCT, ABT, DLR,...</td>\n    </tr>\n    <tr>\n      <th>2</th>\n      <td>2011-02-01</td>\n      <td>2011-11-01</td>\n      <td>2012-05-01</td>\n      <td>[DPZ, COG, BIIB, ULTA, REGN, DLTR, ABMD, MNST,...</td>\n      <td>[MAS, TXT, NTAP, LUV, PFG, F, WY, HES, ZION, N...</td>\n    </tr>\n    <tr>\n      <th>3</th>\n      <td>2011-08-01</td>\n      <td>2012-05-01</td>\n      <td>2012-11-01</td>\n      <td>[AAL, REGN, STX, URI, PHM, LEN, EQIX, SHW, MNS...</td>\n      <td>[EXC, HIG, IRM, AMD, RSG, MET, DXC, DVN, HPQ, ...</td>\n    </tr>\n    <tr>\n      <th>4</th>\n      <td>2012-02-01</td>\n      <td>2012-11-01</td>\n      <td>2013-05-01</td>\n      <td>[PHM, EXPE, PSX, AAL, REGN, GILD, STZ, LEN, FB...</td>\n      <td>[WDC, TXT, MSFT, PRU, LVS, GPN, GRMN, LRCX, XR...</td>\n    </tr>\n  </tbody>\n</table>\n</div>"
     },
     "metadata": {},
     "execution_count": 84
    }
   ],
   "source": [
    "portfolios = {'mom':{}, 'rev':{}}\n",
    "for i in timedf.index:\n",
    "    # print(i)\n",
    "    mom, rev = get_portfolios(i)\n",
    "    portfolios['mom'][i] = mom\n",
    "    portfolios['rev'][i] = rev\n",
    "# portfolios['mom'][0]\n",
    "pf = timedf.merge(pd.DataFrame(portfolios), left_index=True, right_index=True)\n",
    "pf.head()"
   ]
  },
  {
   "cell_type": "code",
   "execution_count": 85,
   "metadata": {},
   "outputs": [],
   "source": [
    "def get_portfolio_data(lst, date, weights=None):\n",
    "    '''given list of tickers, generates a EQUAL WEIGHTED INDEX portfolio and aggregates their performance'''\n",
    "    portfolio_df = df[df['Name'].isin(lst)] #filters df by lst\n",
    "    portfolio_df = get_cum_return(portfolio_df)[['Date','pct_change']] # we get cum return\n",
    "    portfolio_df = portfolio_df.groupby('Date').mean()\n",
    "\n",
    "    return portfolio_df[pd.to_datetime(portfolio_df.index)==date].iloc[0,0] # will need to spend time staring at the output to see if most columns are good\n",
    "    # im thinking the only good value we can get out of this is percent change and maybe cum_return, ohlc columns are garbage\n",
    "# temp = get_portfolio_data(['NFLX', 'LVS', 'URI', 'CMG', 'FFIV'], dpf.Date[0])\n",
    "# temp"
   ]
  },
  {
   "cell_type": "code",
   "execution_count": 86,
   "metadata": {},
   "outputs": [
    {
     "output_type": "error",
     "ename": "NameError",
     "evalue": "name 'DataFrame' is not defined",
     "traceback": [
      "\u001b[1;31m---------------------------------------------------------------------------\u001b[0m",
      "\u001b[1;31mNameError\u001b[0m                                 Traceback (most recent call last)",
      "\u001b[1;32m<ipython-input-86-2a4d039d76b0>\u001b[0m in \u001b[0;36m<module>\u001b[1;34m\u001b[0m\n\u001b[1;32m----> 1\u001b[1;33m \u001b[0mDataFrame\u001b[0m\u001b[1;33m(\u001b[0m\u001b[1;33m{\u001b[0m\u001b[1;34m'Date'\u001b[0m\u001b[1;33m:\u001b[0m\u001b[0mpd\u001b[0m\u001b[1;33m.\u001b[0m\u001b[0mdate_range\u001b[0m\u001b[1;33m(\u001b[0m\u001b[0mdf\u001b[0m\u001b[1;33m.\u001b[0m\u001b[0mDate\u001b[0m\u001b[1;33m.\u001b[0m\u001b[0mmin\u001b[0m\u001b[1;33m(\u001b[0m\u001b[1;33m)\u001b[0m\u001b[1;33m,\u001b[0m \u001b[0mdf\u001b[0m\u001b[1;33m.\u001b[0m\u001b[0mDate\u001b[0m\u001b[1;33m.\u001b[0m\u001b[0mmax\u001b[0m\u001b[1;33m(\u001b[0m\u001b[1;33m)\u001b[0m\u001b[1;33m,\u001b[0m \u001b[0mfreq\u001b[0m\u001b[1;33m=\u001b[0m\u001b[1;34m\"1MS\"\u001b[0m\u001b[1;33m)\u001b[0m\u001b[1;33m}\u001b[0m\u001b[1;33m)\u001b[0m\u001b[1;33m\u001b[0m\u001b[1;33m\u001b[0m\u001b[0m\n\u001b[0m",
      "\u001b[1;31mNameError\u001b[0m: name 'DataFrame' is not defined"
     ]
    }
   ],
   "source": [
    "DataFrame({'Date':pd.date_range(df.Date.min(), df.Date.max(), freq=\"1MS\")})"
   ]
  },
  {
   "cell_type": "code",
   "execution_count": null,
   "metadata": {},
   "outputs": [],
   "source": [
    "dpf = pd.DataFrame({'Date':pd.date_range(df.Date.min(), df.Date.max(), freq=\"1MS\")}).merge(pf[['k_end', 'mom', 'rev']].reset_index(), how='left', left_on='Date', right_on='k_end').bfill().ffill()\n",
    "dpf['mom_pct_change'] = dpf.apply(lambda x: get_portfolio_data(x.mom, x.Date), axis=1)\n",
    "dpf['rev_pct_change'] = dpf.apply(lambda x: get_portfolio_data(x.rev, x.Date), axis=1)\n",
    "dpf['index'] = dpf['index'].astype(int)\n",
    "dpf = dpf.drop(['mom', 'rev', 'k_end'], axis=1)\n",
    "dpf['mom_return'] = ((dpf['mom_pct_change']+1).cumprod()-1) * 100\n",
    "dpf['rev_return'] = ((dpf['rev_pct_change']+1).cumprod()-1) * 100\n",
    "dpf[['mom_return', 'rev_return', 'Date']].set_index('Date').plot(figsize=(12,8))\n",
    "dpf"
   ]
  },
  {
   "cell_type": "code",
   "execution_count": null,
   "metadata": {},
   "outputs": [],
   "source": [
    "spc = pdr.get_data_yahoo(\"^GSPC\", start=\"2009-07-01\", interval = \"1mo\")\n",
    "spc"
   ]
  },
  {
   "cell_type": "code",
   "execution_count": null,
   "metadata": {},
   "outputs": [],
   "source": [
    "import matplotlib.ticker as mtick\n",
    "\n",
    "# fig = plt.figure(1, (12,8))\n",
    "# ax = fig.add_subplot(1,1,1)\n",
    "# fmt = '%.0f%%' # Format you want the ticks, e.g. '40%'\n",
    "# xticks = mtick.FormatStrFormatter(fmt)\n",
    "# ax.yaxis.set_major_formatter(xticks)\n",
    "# spc['pctc'] = spc['Adj Close'].pct_change()\n",
    "# spc['cumprod'] =((spc['pctc']+1).cumprod()-1)*100\n",
    "sp500 = spc.merge(dpf, how='left', left_index=True, right_on='Date')\n",
    "# sp500.set_index('Date').plot.area(ax=ax,stacked=False,figsize=(12,8)) # plotted\n",
    "# ax.legend([\"Momentum\", \"Reversal\", \"S&P500\"])\n",
    "# fig.savefig('performance.png')"
   ]
  },
  {
   "cell_type": "code",
   "execution_count": null,
   "metadata": {},
   "outputs": [],
   "source": [
    "sp500 = sp500.drop(['mom_return', 'rev_return'], axis=1) # mom_retunr and rev_return, beware of use\n",
    "sp500 = sp500.reset_index(drop=True).set_index('Date')\n",
    "sp500"
   ]
  },
  {
   "cell_type": "code",
   "execution_count": 51,
   "metadata": {},
   "outputs": [
    {
     "output_type": "execute_result",
     "data": {
      "text/plain": [
       "                   open         high          low        close    adj_close  \\\n",
       "date                                                                          \n",
       "2009-07-01   920.820007   996.679993   869.320007   987.479980   987.479980   \n",
       "2009-08-01   990.219971  1039.469971   978.510010  1020.619995  1020.619995   \n",
       "2009-09-01  1019.520020  1080.150024   991.969971  1057.079956  1057.079956   \n",
       "2009-10-01  1054.910034  1101.359985  1019.950012  1036.189941  1036.189941   \n",
       "2009-11-01  1036.180054  1113.689941  1029.380005  1095.630005  1095.630005   \n",
       "...                 ...          ...          ...          ...          ...   \n",
       "2020-12-01  3645.870117  3760.199951  3633.399902  3756.070068  3756.070068   \n",
       "2021-01-01  3764.610107  3870.899902  3662.709961  3714.239990  3714.239990   \n",
       "2021-02-01  3731.169922  3950.429932  3725.620117  3811.149902  3811.149902   \n",
       "2021-03-01  3842.510010  3914.500000  3723.340088  3841.939941  3841.939941   \n",
       "2021-03-08  3844.389893  3881.060059  3819.250000  3821.350098  3821.350098   \n",
       "\n",
       "                  volume  index  mom_pct_change  rev_pct_change  CCI_4_0.015  \\\n",
       "date                                                                           \n",
       "2009-07-01  106635790000    NaN             NaN             NaN          NaN   \n",
       "2009-08-01  116059270000    NaN             NaN             NaN          NaN   \n",
       "2009-09-01  112295490000    NaN             NaN             NaN          NaN   \n",
       "2009-10-01  113410990000    NaN             NaN             NaN    76.228606   \n",
       "2009-11-01   84981530000    NaN             NaN             NaN   114.068900   \n",
       "...                  ...    ...             ...             ...          ...   \n",
       "2020-12-01   96056410000   19.0        0.067310        0.070059   120.829302   \n",
       "2021-01-01  105548790000   19.0        0.009598        0.008255    73.953788   \n",
       "2021-02-01   98596960000   19.0       -0.000889        0.213455    90.174682   \n",
       "2021-03-01   30700830000   19.0       -0.029865        0.055711    64.929367   \n",
       "2021-03-08    2991626851    NaN             NaN             NaN    62.659162   \n",
       "\n",
       "            ...     KCBe_4_2     KCUe_4_2      ADX_4      DMP_4     DMN_4  \\\n",
       "date        ...                                                             \n",
       "2009-07-01  ...          NaN          NaN        NaN        NaN       NaN   \n",
       "2009-08-01  ...          NaN          NaN        NaN        NaN       NaN   \n",
       "2009-09-01  ...          NaN          NaN        NaN        NaN       NaN   \n",
       "2009-10-01  ...  1025.342468  1204.297455        NaN        NaN       NaN   \n",
       "2009-11-01  ...  1053.457483  1228.278424        NaN  29.571261  0.000000   \n",
       "...         ...          ...          ...        ...        ...       ...   \n",
       "2020-12-01  ...  3556.805184  4075.848725  33.162577  28.565815  9.152227   \n",
       "2021-01-01  ...  3619.779107  4097.757184  40.832747  33.372206  7.364540   \n",
       "2021-02-01  ...  3696.327425  4172.066225  48.359643  33.440596  5.684865   \n",
       "2021-03-01  ...  3754.572432  4192.943641  53.686558  26.835691  4.797617   \n",
       "2021-03-08  ...  3781.283498  4093.754271  57.681745  24.729897  4.421149   \n",
       "\n",
       "                  QS_4      ROC_4     STDEV_4          PVOL         EFI_4  \n",
       "date                                                                       \n",
       "2009-07-01         NaN        NaN         NaN  1.053007e+14           NaN  \n",
       "2009-08-01         NaN        NaN         NaN  1.184524e+14           NaN  \n",
       "2009-09-01         NaN        NaN         NaN  1.187053e+14           NaN  \n",
       "2009-10-01   28.974960        NaN   29.330334  1.175153e+14  1.857113e+12  \n",
       "2009-11-01   27.172455  10.952123   32.472904  9.310831e+13  3.134791e+12  \n",
       "...                ...        ...         ...           ...           ...  \n",
       "2020-12-01   43.819946   7.306782  225.110876  3.607946e+14  1.319336e+13  \n",
       "2021-01-01   67.337402  10.444246  220.937409  3.920335e+14  6.149972e+12  \n",
       "2021-02-01  116.309937  16.550354   79.970676  3.757678e+14  7.511992e+12  \n",
       "2021-03-01   34.809937   6.083174   56.865348  1.179507e+14  4.885307e+12  \n",
       "2021-03-08    1.500000   1.737988   56.750474  1.143205e+13  2.906545e+12  \n",
       "\n",
       "[142 rows x 28 columns]"
      ],
      "text/html": "<div>\n<style scoped>\n    .dataframe tbody tr th:only-of-type {\n        vertical-align: middle;\n    }\n\n    .dataframe tbody tr th {\n        vertical-align: top;\n    }\n\n    .dataframe thead th {\n        text-align: right;\n    }\n</style>\n<table border=\"1\" class=\"dataframe\">\n  <thead>\n    <tr style=\"text-align: right;\">\n      <th></th>\n      <th>open</th>\n      <th>high</th>\n      <th>low</th>\n      <th>close</th>\n      <th>adj_close</th>\n      <th>volume</th>\n      <th>index</th>\n      <th>mom_pct_change</th>\n      <th>rev_pct_change</th>\n      <th>CCI_4_0.015</th>\n      <th>...</th>\n      <th>KCBe_4_2</th>\n      <th>KCUe_4_2</th>\n      <th>ADX_4</th>\n      <th>DMP_4</th>\n      <th>DMN_4</th>\n      <th>QS_4</th>\n      <th>ROC_4</th>\n      <th>STDEV_4</th>\n      <th>PVOL</th>\n      <th>EFI_4</th>\n    </tr>\n    <tr>\n      <th>date</th>\n      <th></th>\n      <th></th>\n      <th></th>\n      <th></th>\n      <th></th>\n      <th></th>\n      <th></th>\n      <th></th>\n      <th></th>\n      <th></th>\n      <th></th>\n      <th></th>\n      <th></th>\n      <th></th>\n      <th></th>\n      <th></th>\n      <th></th>\n      <th></th>\n      <th></th>\n      <th></th>\n      <th></th>\n    </tr>\n  </thead>\n  <tbody>\n    <tr>\n      <th>2009-07-01</th>\n      <td>920.820007</td>\n      <td>996.679993</td>\n      <td>869.320007</td>\n      <td>987.479980</td>\n      <td>987.479980</td>\n      <td>106635790000</td>\n      <td>NaN</td>\n      <td>NaN</td>\n      <td>NaN</td>\n      <td>NaN</td>\n      <td>...</td>\n      <td>NaN</td>\n      <td>NaN</td>\n      <td>NaN</td>\n      <td>NaN</td>\n      <td>NaN</td>\n      <td>NaN</td>\n      <td>NaN</td>\n      <td>NaN</td>\n      <td>1.053007e+14</td>\n      <td>NaN</td>\n    </tr>\n    <tr>\n      <th>2009-08-01</th>\n      <td>990.219971</td>\n      <td>1039.469971</td>\n      <td>978.510010</td>\n      <td>1020.619995</td>\n      <td>1020.619995</td>\n      <td>116059270000</td>\n      <td>NaN</td>\n      <td>NaN</td>\n      <td>NaN</td>\n      <td>NaN</td>\n      <td>...</td>\n      <td>NaN</td>\n      <td>NaN</td>\n      <td>NaN</td>\n      <td>NaN</td>\n      <td>NaN</td>\n      <td>NaN</td>\n      <td>NaN</td>\n      <td>NaN</td>\n      <td>1.184524e+14</td>\n      <td>NaN</td>\n    </tr>\n    <tr>\n      <th>2009-09-01</th>\n      <td>1019.520020</td>\n      <td>1080.150024</td>\n      <td>991.969971</td>\n      <td>1057.079956</td>\n      <td>1057.079956</td>\n      <td>112295490000</td>\n      <td>NaN</td>\n      <td>NaN</td>\n      <td>NaN</td>\n      <td>NaN</td>\n      <td>...</td>\n      <td>NaN</td>\n      <td>NaN</td>\n      <td>NaN</td>\n      <td>NaN</td>\n      <td>NaN</td>\n      <td>NaN</td>\n      <td>NaN</td>\n      <td>NaN</td>\n      <td>1.187053e+14</td>\n      <td>NaN</td>\n    </tr>\n    <tr>\n      <th>2009-10-01</th>\n      <td>1054.910034</td>\n      <td>1101.359985</td>\n      <td>1019.950012</td>\n      <td>1036.189941</td>\n      <td>1036.189941</td>\n      <td>113410990000</td>\n      <td>NaN</td>\n      <td>NaN</td>\n      <td>NaN</td>\n      <td>76.228606</td>\n      <td>...</td>\n      <td>1025.342468</td>\n      <td>1204.297455</td>\n      <td>NaN</td>\n      <td>NaN</td>\n      <td>NaN</td>\n      <td>28.974960</td>\n      <td>NaN</td>\n      <td>29.330334</td>\n      <td>1.175153e+14</td>\n      <td>1.857113e+12</td>\n    </tr>\n    <tr>\n      <th>2009-11-01</th>\n      <td>1036.180054</td>\n      <td>1113.689941</td>\n      <td>1029.380005</td>\n      <td>1095.630005</td>\n      <td>1095.630005</td>\n      <td>84981530000</td>\n      <td>NaN</td>\n      <td>NaN</td>\n      <td>NaN</td>\n      <td>114.068900</td>\n      <td>...</td>\n      <td>1053.457483</td>\n      <td>1228.278424</td>\n      <td>NaN</td>\n      <td>29.571261</td>\n      <td>0.000000</td>\n      <td>27.172455</td>\n      <td>10.952123</td>\n      <td>32.472904</td>\n      <td>9.310831e+13</td>\n      <td>3.134791e+12</td>\n    </tr>\n    <tr>\n      <th>...</th>\n      <td>...</td>\n      <td>...</td>\n      <td>...</td>\n      <td>...</td>\n      <td>...</td>\n      <td>...</td>\n      <td>...</td>\n      <td>...</td>\n      <td>...</td>\n      <td>...</td>\n      <td>...</td>\n      <td>...</td>\n      <td>...</td>\n      <td>...</td>\n      <td>...</td>\n      <td>...</td>\n      <td>...</td>\n      <td>...</td>\n      <td>...</td>\n      <td>...</td>\n      <td>...</td>\n    </tr>\n    <tr>\n      <th>2020-12-01</th>\n      <td>3645.870117</td>\n      <td>3760.199951</td>\n      <td>3633.399902</td>\n      <td>3756.070068</td>\n      <td>3756.070068</td>\n      <td>96056410000</td>\n      <td>19.0</td>\n      <td>0.067310</td>\n      <td>0.070059</td>\n      <td>120.829302</td>\n      <td>...</td>\n      <td>3556.805184</td>\n      <td>4075.848725</td>\n      <td>33.162577</td>\n      <td>28.565815</td>\n      <td>9.152227</td>\n      <td>43.819946</td>\n      <td>7.306782</td>\n      <td>225.110876</td>\n      <td>3.607946e+14</td>\n      <td>1.319336e+13</td>\n    </tr>\n    <tr>\n      <th>2021-01-01</th>\n      <td>3764.610107</td>\n      <td>3870.899902</td>\n      <td>3662.709961</td>\n      <td>3714.239990</td>\n      <td>3714.239990</td>\n      <td>105548790000</td>\n      <td>19.0</td>\n      <td>0.009598</td>\n      <td>0.008255</td>\n      <td>73.953788</td>\n      <td>...</td>\n      <td>3619.779107</td>\n      <td>4097.757184</td>\n      <td>40.832747</td>\n      <td>33.372206</td>\n      <td>7.364540</td>\n      <td>67.337402</td>\n      <td>10.444246</td>\n      <td>220.937409</td>\n      <td>3.920335e+14</td>\n      <td>6.149972e+12</td>\n    </tr>\n    <tr>\n      <th>2021-02-01</th>\n      <td>3731.169922</td>\n      <td>3950.429932</td>\n      <td>3725.620117</td>\n      <td>3811.149902</td>\n      <td>3811.149902</td>\n      <td>98596960000</td>\n      <td>19.0</td>\n      <td>-0.000889</td>\n      <td>0.213455</td>\n      <td>90.174682</td>\n      <td>...</td>\n      <td>3696.327425</td>\n      <td>4172.066225</td>\n      <td>48.359643</td>\n      <td>33.440596</td>\n      <td>5.684865</td>\n      <td>116.309937</td>\n      <td>16.550354</td>\n      <td>79.970676</td>\n      <td>3.757678e+14</td>\n      <td>7.511992e+12</td>\n    </tr>\n    <tr>\n      <th>2021-03-01</th>\n      <td>3842.510010</td>\n      <td>3914.500000</td>\n      <td>3723.340088</td>\n      <td>3841.939941</td>\n      <td>3841.939941</td>\n      <td>30700830000</td>\n      <td>19.0</td>\n      <td>-0.029865</td>\n      <td>0.055711</td>\n      <td>64.929367</td>\n      <td>...</td>\n      <td>3754.572432</td>\n      <td>4192.943641</td>\n      <td>53.686558</td>\n      <td>26.835691</td>\n      <td>4.797617</td>\n      <td>34.809937</td>\n      <td>6.083174</td>\n      <td>56.865348</td>\n      <td>1.179507e+14</td>\n      <td>4.885307e+12</td>\n    </tr>\n    <tr>\n      <th>2021-03-08</th>\n      <td>3844.389893</td>\n      <td>3881.060059</td>\n      <td>3819.250000</td>\n      <td>3821.350098</td>\n      <td>3821.350098</td>\n      <td>2991626851</td>\n      <td>NaN</td>\n      <td>NaN</td>\n      <td>NaN</td>\n      <td>62.659162</td>\n      <td>...</td>\n      <td>3781.283498</td>\n      <td>4093.754271</td>\n      <td>57.681745</td>\n      <td>24.729897</td>\n      <td>4.421149</td>\n      <td>1.500000</td>\n      <td>1.737988</td>\n      <td>56.750474</td>\n      <td>1.143205e+13</td>\n      <td>2.906545e+12</td>\n    </tr>\n  </tbody>\n</table>\n<p>142 rows × 28 columns</p>\n</div>"
     },
     "metadata": {},
     "execution_count": 51
    }
   ],
   "source": [
    "\n",
    "sp500.ta.cci(length=4,append=True)\n",
    "sp500.ta.kdj(length=4,append=True)\n",
    "sp500.ta.rsi(length=4,append=True)\n",
    "sp500.ta.bop(length=4,append=True)\n",
    "sp500.ta.willr(length=4,append=True)\n",
    "sp500.ta.pdist(length=4,append=True)\n",
    "sp500.ta.kc(length=4,append=True)\n",
    "sp500.ta.adx(length=4,append=True)\n",
    "sp500.ta.qstick(length=4,append=True)\n",
    "sp500.ta.roc(length=4,append=True)\n",
    "# sp500.ta.ao(length=4,append=True)\n",
    "# sp500.ta.macd(fast=4,slow=8,append=True)\n",
    "sp500.ta.stdev(length=4,append=True)\n",
    "sp500.ta.pvol(append=True)\n",
    "sp500.ta.efi(length=4, append=True)\n",
    "sp500"
   ]
  },
  {
   "cell_type": "code",
   "execution_count": 52,
   "metadata": {},
   "outputs": [
    {
     "output_type": "execute_result",
     "data": {
      "text/plain": [
       "Index(['open', 'high', 'low', 'close', 'adj_close', 'volume', 'index',\n",
       "       'mom_pct_change', 'rev_pct_change', 'CCI_4_0.015', 'K_4_3', 'D_4_3',\n",
       "       'J_4_3', 'RSI_4', 'BOP', 'WILLR_4', 'PDIST', 'KCLe_4_2', 'KCBe_4_2',\n",
       "       'KCUe_4_2', 'ADX_4', 'DMP_4', 'DMN_4', 'QS_4', 'ROC_4', 'STDEV_4',\n",
       "       'PVOL', 'EFI_4'],\n",
       "      dtype='object')"
      ]
     },
     "metadata": {},
     "execution_count": 52
    }
   ],
   "source": [
    "sp500.columns"
   ]
  },
  {
   "cell_type": "code",
   "execution_count": 53,
   "metadata": {},
   "outputs": [
    {
     "output_type": "execute_result",
     "data": {
      "text/plain": [
       "            CCI_4_0.015      K_4_3      D_4_3       J_4_3      RSI_4  \\\n",
       "date                                                                   \n",
       "2009-07-01          NaN        NaN        NaN         NaN        NaN   \n",
       "2009-08-01          NaN        NaN        NaN         NaN        NaN   \n",
       "2009-09-01          NaN        NaN        NaN         NaN        NaN   \n",
       "2009-10-01    76.228606        NaN        NaN         NaN        NaN   \n",
       "2009-11-01   114.068900        NaN        NaN         NaN  85.704467   \n",
       "2009-12-01   110.270448  84.638975        NaN         NaN  88.442141   \n",
       "2010-01-01    46.206174  66.644114        NaN         NaN  57.403330   \n",
       "2010-02-01   -42.855918  64.876084  69.595018   55.438217  68.388779   \n",
       "2010-03-01   133.333333  74.689679  71.711262   80.646513  81.719907   \n",
       "2010-04-01   100.803624  76.963650  73.727582   83.435788  84.096631   \n",
       "2010-05-01   -44.060570  59.689962  68.598045   41.873795  42.536059   \n",
       "2010-06-01  -104.807406  39.687333  58.362052    2.337893  30.434859   \n",
       "2010-07-01   -54.884715  40.951878  52.323027   18.209578  52.290419   \n",
       "2010-08-01   -38.187357  33.812607  45.988101    9.461619  39.950793   \n",
       "2010-09-01   133.333333  52.380557  48.156524   60.828624  61.333875   \n",
       "2010-10-01   120.046446  66.005875  54.175898   89.665830  68.237963   \n",
       "2010-11-01    84.263461  69.070467  59.179317   88.852767  67.207049   \n",
       "2010-12-01   105.973391  78.625488  65.694852  104.486758  79.152873   \n",
       "2011-01-01   107.003382  82.526357  71.324639  104.929793  82.324535   \n",
       "2011-02-01    95.938001  85.070234  75.916991  103.376719  86.327126   \n",
       "\n",
       "                 BOP    WILLR_4       PDIST     KCLe_4_2     KCBe_4_2  \\\n",
       "date                                                                    \n",
       "2009-07-01  0.523398        NaN         NaN          NaN          NaN   \n",
       "2009-08-01  0.498688        NaN   94.259888          NaN          NaN   \n",
       "2009-09-01  0.425946        NaN  139.900146          NaN          NaN   \n",
       "2009-10-01 -0.229948 -28.085696  146.269775   846.387482  1025.342468   \n",
       "2009-11-01  0.705136 -13.359924  109.179810   878.636542  1053.457483   \n",
       "2009-12-01  0.364351 -11.039683   76.030029   937.629923  1078.114480   \n",
       "2010-01-01 -0.541340 -58.681986  116.489990   929.037964  1076.416686   \n",
       "2010-02-01  0.450529 -37.961494  105.260132   944.882739  1087.646008   \n",
       "2010-03-01  0.850526  -8.267782   87.459839   973.741704  1120.359626   \n",
       "2010-04-01  0.314802 -18.887677   84.560181  1018.625003  1146.891752   \n",
       "2010-05-01 -0.603407 -72.835438  231.420044   915.459035  1123.899065   \n",
       "2010-06-01 -0.549952 -98.756983  151.319946   879.239386  1086.623423   \n",
       "2010-07-01  0.640676 -56.584820  149.969971   880.151639  1092.614044   \n",
       "2010-08-01 -0.649989 -80.218321  126.810059   876.190935  1075.300409   \n",
       "2010-09-01  0.851451 -10.912873  123.790161   895.930479  1101.660226   \n",
       "2010-10-01  0.618796  -6.953518   91.060059   959.446276  1134.300139   \n",
       "2010-11-01 -0.095413 -24.831842  105.449951  1004.623820  1152.800103   \n",
       "2010-12-01  0.934737  -2.329933   87.009888  1040.190356  1194.736068   \n",
       "2011-01-01  0.632630  -9.689721   61.620117  1102.522173  1231.289639   \n",
       "2011-02-01  0.693246  -9.849758   74.799927  1146.041331  1269.661772   \n",
       "\n",
       "               KCUe_4_2      ADX_4      DMP_4      DMN_4       QS_4  \\\n",
       "date                                                                  \n",
       "2009-07-01          NaN        NaN        NaN        NaN        NaN   \n",
       "2009-08-01          NaN        NaN        NaN        NaN        NaN   \n",
       "2009-09-01          NaN        NaN        NaN        NaN        NaN   \n",
       "2009-10-01  1204.297455        NaN        NaN        NaN  28.974960   \n",
       "2009-11-01  1228.278424        NaN  29.571261   0.000000  27.172455   \n",
       "2009-12-01  1218.599037        NaN  30.763592   0.000000  23.624939   \n",
       "2010-01-01  1223.795408        NaN  29.095664   0.000000   3.562439   \n",
       "2010-02-01  1230.409276  75.450678  21.239168  10.729970  15.892456   \n",
       "2010-03-01  1266.977548  73.156675  40.867229   7.653639  17.047485   \n",
       "2010-04-01  1275.158502  74.490889  48.203343   6.096919  16.859985   \n",
       "2010-05-01  1332.339095  59.347801  25.788443  40.339136   2.740021   \n",
       "2010-06-01  1294.007461  50.421876  18.537345  32.402372 -19.057495   \n",
       "2010-07-01  1305.076449  46.331691  13.232347  27.664765 -17.450012   \n",
       "2010-08-01  1274.409883  41.050283  12.288168  21.101650 -35.865021   \n",
       "2010-09-01  1307.389973  30.964907  16.041251  15.285460  11.797455   \n",
       "2010-10-01  1309.154003  31.098636  24.051863  12.533681  35.887482   \n",
       "2010-11-01  1300.976386  35.402760  29.606868  10.427810  16.972504   \n",
       "2010-12-01  1349.281779  42.144476  33.073736   7.786000  49.282532   \n",
       "2011-01-01  1360.057105  49.924941  41.807491   6.566688  33.537537   \n",
       "2011-02-01  1393.282212  57.659955  48.073271   5.177316  33.115021   \n",
       "\n",
       "                ROC_4    STDEV_4          PVOL         EFI_4  \n",
       "date                                                          \n",
       "2009-07-01        NaN        NaN  1.053007e+14           NaN  \n",
       "2009-08-01        NaN        NaN  1.184524e+14           NaN  \n",
       "2009-09-01        NaN        NaN  1.187053e+14           NaN  \n",
       "2009-10-01        NaN  29.330334  1.175153e+14  1.857113e+12  \n",
       "2009-11-01  10.952123  32.472904  9.310831e+13  3.134791e+12  \n",
       "2009-12-01   9.257116  35.855980  9.981854e+13  2.578019e+12  \n",
       "2010-01-01   1.588341  33.828231  9.766588e+13  4.690444e+10  \n",
       "2010-02-01   6.591460  17.514623  9.339715e+13  1.063850e+12  \n",
       "2010-03-01   6.735855  39.844240  1.212507e+14  3.331596e+12  \n",
       "2010-04-01   6.420049  53.283516  1.385365e+14  2.804939e+12  \n",
       "2010-05-01   1.447106  47.754526  1.390771e+14 -3.284646e+12  \n",
       "2010-06-01  -6.680009  72.562160  1.134881e+14 -4.556097e+12  \n",
       "2010-07-01  -5.800268  64.325425  1.044076e+14 -4.612979e+10  \n",
       "2010-08-01 -11.575053  33.297847  8.996771e+13 -1.820294e+12  \n",
       "2010-09-01   4.753942  50.266411  9.082748e+13  1.832577e+12  \n",
       "2010-10-01  14.800483  57.092818  1.059447e+14  2.605906e+12  \n",
       "2010-11-01   7.166855  62.530586  1.028862e+14  1.469073e+12  \n",
       "2010-12-01  19.851721  48.612720  1.018494e+14  3.378682e+12  \n",
       "2011-01-01  12.698918  53.243850  1.185352e+14  3.077151e+12  \n",
       "2011-02-01  12.166384  61.874625  7.860282e+13  2.819927e+12  "
      ],
      "text/html": "<div>\n<style scoped>\n    .dataframe tbody tr th:only-of-type {\n        vertical-align: middle;\n    }\n\n    .dataframe tbody tr th {\n        vertical-align: top;\n    }\n\n    .dataframe thead th {\n        text-align: right;\n    }\n</style>\n<table border=\"1\" class=\"dataframe\">\n  <thead>\n    <tr style=\"text-align: right;\">\n      <th></th>\n      <th>CCI_4_0.015</th>\n      <th>K_4_3</th>\n      <th>D_4_3</th>\n      <th>J_4_3</th>\n      <th>RSI_4</th>\n      <th>BOP</th>\n      <th>WILLR_4</th>\n      <th>PDIST</th>\n      <th>KCLe_4_2</th>\n      <th>KCBe_4_2</th>\n      <th>KCUe_4_2</th>\n      <th>ADX_4</th>\n      <th>DMP_4</th>\n      <th>DMN_4</th>\n      <th>QS_4</th>\n      <th>ROC_4</th>\n      <th>STDEV_4</th>\n      <th>PVOL</th>\n      <th>EFI_4</th>\n    </tr>\n    <tr>\n      <th>date</th>\n      <th></th>\n      <th></th>\n      <th></th>\n      <th></th>\n      <th></th>\n      <th></th>\n      <th></th>\n      <th></th>\n      <th></th>\n      <th></th>\n      <th></th>\n      <th></th>\n      <th></th>\n      <th></th>\n      <th></th>\n      <th></th>\n      <th></th>\n      <th></th>\n      <th></th>\n    </tr>\n  </thead>\n  <tbody>\n    <tr>\n      <th>2009-07-01</th>\n      <td>NaN</td>\n      <td>NaN</td>\n      <td>NaN</td>\n      <td>NaN</td>\n      <td>NaN</td>\n      <td>0.523398</td>\n      <td>NaN</td>\n      <td>NaN</td>\n      <td>NaN</td>\n      <td>NaN</td>\n      <td>NaN</td>\n      <td>NaN</td>\n      <td>NaN</td>\n      <td>NaN</td>\n      <td>NaN</td>\n      <td>NaN</td>\n      <td>NaN</td>\n      <td>1.053007e+14</td>\n      <td>NaN</td>\n    </tr>\n    <tr>\n      <th>2009-08-01</th>\n      <td>NaN</td>\n      <td>NaN</td>\n      <td>NaN</td>\n      <td>NaN</td>\n      <td>NaN</td>\n      <td>0.498688</td>\n      <td>NaN</td>\n      <td>94.259888</td>\n      <td>NaN</td>\n      <td>NaN</td>\n      <td>NaN</td>\n      <td>NaN</td>\n      <td>NaN</td>\n      <td>NaN</td>\n      <td>NaN</td>\n      <td>NaN</td>\n      <td>NaN</td>\n      <td>1.184524e+14</td>\n      <td>NaN</td>\n    </tr>\n    <tr>\n      <th>2009-09-01</th>\n      <td>NaN</td>\n      <td>NaN</td>\n      <td>NaN</td>\n      <td>NaN</td>\n      <td>NaN</td>\n      <td>0.425946</td>\n      <td>NaN</td>\n      <td>139.900146</td>\n      <td>NaN</td>\n      <td>NaN</td>\n      <td>NaN</td>\n      <td>NaN</td>\n      <td>NaN</td>\n      <td>NaN</td>\n      <td>NaN</td>\n      <td>NaN</td>\n      <td>NaN</td>\n      <td>1.187053e+14</td>\n      <td>NaN</td>\n    </tr>\n    <tr>\n      <th>2009-10-01</th>\n      <td>76.228606</td>\n      <td>NaN</td>\n      <td>NaN</td>\n      <td>NaN</td>\n      <td>NaN</td>\n      <td>-0.229948</td>\n      <td>-28.085696</td>\n      <td>146.269775</td>\n      <td>846.387482</td>\n      <td>1025.342468</td>\n      <td>1204.297455</td>\n      <td>NaN</td>\n      <td>NaN</td>\n      <td>NaN</td>\n      <td>28.974960</td>\n      <td>NaN</td>\n      <td>29.330334</td>\n      <td>1.175153e+14</td>\n      <td>1.857113e+12</td>\n    </tr>\n    <tr>\n      <th>2009-11-01</th>\n      <td>114.068900</td>\n      <td>NaN</td>\n      <td>NaN</td>\n      <td>NaN</td>\n      <td>85.704467</td>\n      <td>0.705136</td>\n      <td>-13.359924</td>\n      <td>109.179810</td>\n      <td>878.636542</td>\n      <td>1053.457483</td>\n      <td>1228.278424</td>\n      <td>NaN</td>\n      <td>29.571261</td>\n      <td>0.000000</td>\n      <td>27.172455</td>\n      <td>10.952123</td>\n      <td>32.472904</td>\n      <td>9.310831e+13</td>\n      <td>3.134791e+12</td>\n    </tr>\n    <tr>\n      <th>2009-12-01</th>\n      <td>110.270448</td>\n      <td>84.638975</td>\n      <td>NaN</td>\n      <td>NaN</td>\n      <td>88.442141</td>\n      <td>0.364351</td>\n      <td>-11.039683</td>\n      <td>76.030029</td>\n      <td>937.629923</td>\n      <td>1078.114480</td>\n      <td>1218.599037</td>\n      <td>NaN</td>\n      <td>30.763592</td>\n      <td>0.000000</td>\n      <td>23.624939</td>\n      <td>9.257116</td>\n      <td>35.855980</td>\n      <td>9.981854e+13</td>\n      <td>2.578019e+12</td>\n    </tr>\n    <tr>\n      <th>2010-01-01</th>\n      <td>46.206174</td>\n      <td>66.644114</td>\n      <td>NaN</td>\n      <td>NaN</td>\n      <td>57.403330</td>\n      <td>-0.541340</td>\n      <td>-58.681986</td>\n      <td>116.489990</td>\n      <td>929.037964</td>\n      <td>1076.416686</td>\n      <td>1223.795408</td>\n      <td>NaN</td>\n      <td>29.095664</td>\n      <td>0.000000</td>\n      <td>3.562439</td>\n      <td>1.588341</td>\n      <td>33.828231</td>\n      <td>9.766588e+13</td>\n      <td>4.690444e+10</td>\n    </tr>\n    <tr>\n      <th>2010-02-01</th>\n      <td>-42.855918</td>\n      <td>64.876084</td>\n      <td>69.595018</td>\n      <td>55.438217</td>\n      <td>68.388779</td>\n      <td>0.450529</td>\n      <td>-37.961494</td>\n      <td>105.260132</td>\n      <td>944.882739</td>\n      <td>1087.646008</td>\n      <td>1230.409276</td>\n      <td>75.450678</td>\n      <td>21.239168</td>\n      <td>10.729970</td>\n      <td>15.892456</td>\n      <td>6.591460</td>\n      <td>17.514623</td>\n      <td>9.339715e+13</td>\n      <td>1.063850e+12</td>\n    </tr>\n    <tr>\n      <th>2010-03-01</th>\n      <td>133.333333</td>\n      <td>74.689679</td>\n      <td>71.711262</td>\n      <td>80.646513</td>\n      <td>81.719907</td>\n      <td>0.850526</td>\n      <td>-8.267782</td>\n      <td>87.459839</td>\n      <td>973.741704</td>\n      <td>1120.359626</td>\n      <td>1266.977548</td>\n      <td>73.156675</td>\n      <td>40.867229</td>\n      <td>7.653639</td>\n      <td>17.047485</td>\n      <td>6.735855</td>\n      <td>39.844240</td>\n      <td>1.212507e+14</td>\n      <td>3.331596e+12</td>\n    </tr>\n    <tr>\n      <th>2010-04-01</th>\n      <td>100.803624</td>\n      <td>76.963650</td>\n      <td>73.727582</td>\n      <td>83.435788</td>\n      <td>84.096631</td>\n      <td>0.314802</td>\n      <td>-18.887677</td>\n      <td>84.560181</td>\n      <td>1018.625003</td>\n      <td>1146.891752</td>\n      <td>1275.158502</td>\n      <td>74.490889</td>\n      <td>48.203343</td>\n      <td>6.096919</td>\n      <td>16.859985</td>\n      <td>6.420049</td>\n      <td>53.283516</td>\n      <td>1.385365e+14</td>\n      <td>2.804939e+12</td>\n    </tr>\n    <tr>\n      <th>2010-05-01</th>\n      <td>-44.060570</td>\n      <td>59.689962</td>\n      <td>68.598045</td>\n      <td>41.873795</td>\n      <td>42.536059</td>\n      <td>-0.603407</td>\n      <td>-72.835438</td>\n      <td>231.420044</td>\n      <td>915.459035</td>\n      <td>1123.899065</td>\n      <td>1332.339095</td>\n      <td>59.347801</td>\n      <td>25.788443</td>\n      <td>40.339136</td>\n      <td>2.740021</td>\n      <td>1.447106</td>\n      <td>47.754526</td>\n      <td>1.390771e+14</td>\n      <td>-3.284646e+12</td>\n    </tr>\n    <tr>\n      <th>2010-06-01</th>\n      <td>-104.807406</td>\n      <td>39.687333</td>\n      <td>58.362052</td>\n      <td>2.337893</td>\n      <td>30.434859</td>\n      <td>-0.549952</td>\n      <td>-98.756983</td>\n      <td>151.319946</td>\n      <td>879.239386</td>\n      <td>1086.623423</td>\n      <td>1294.007461</td>\n      <td>50.421876</td>\n      <td>18.537345</td>\n      <td>32.402372</td>\n      <td>-19.057495</td>\n      <td>-6.680009</td>\n      <td>72.562160</td>\n      <td>1.134881e+14</td>\n      <td>-4.556097e+12</td>\n    </tr>\n    <tr>\n      <th>2010-07-01</th>\n      <td>-54.884715</td>\n      <td>40.951878</td>\n      <td>52.323027</td>\n      <td>18.209578</td>\n      <td>52.290419</td>\n      <td>0.640676</td>\n      <td>-56.584820</td>\n      <td>149.969971</td>\n      <td>880.151639</td>\n      <td>1092.614044</td>\n      <td>1305.076449</td>\n      <td>46.331691</td>\n      <td>13.232347</td>\n      <td>27.664765</td>\n      <td>-17.450012</td>\n      <td>-5.800268</td>\n      <td>64.325425</td>\n      <td>1.044076e+14</td>\n      <td>-4.612979e+10</td>\n    </tr>\n    <tr>\n      <th>2010-08-01</th>\n      <td>-38.187357</td>\n      <td>33.812607</td>\n      <td>45.988101</td>\n      <td>9.461619</td>\n      <td>39.950793</td>\n      <td>-0.649989</td>\n      <td>-80.218321</td>\n      <td>126.810059</td>\n      <td>876.190935</td>\n      <td>1075.300409</td>\n      <td>1274.409883</td>\n      <td>41.050283</td>\n      <td>12.288168</td>\n      <td>21.101650</td>\n      <td>-35.865021</td>\n      <td>-11.575053</td>\n      <td>33.297847</td>\n      <td>8.996771e+13</td>\n      <td>-1.820294e+12</td>\n    </tr>\n    <tr>\n      <th>2010-09-01</th>\n      <td>133.333333</td>\n      <td>52.380557</td>\n      <td>48.156524</td>\n      <td>60.828624</td>\n      <td>61.333875</td>\n      <td>0.851451</td>\n      <td>-10.912873</td>\n      <td>123.790161</td>\n      <td>895.930479</td>\n      <td>1101.660226</td>\n      <td>1307.389973</td>\n      <td>30.964907</td>\n      <td>16.041251</td>\n      <td>15.285460</td>\n      <td>11.797455</td>\n      <td>4.753942</td>\n      <td>50.266411</td>\n      <td>9.082748e+13</td>\n      <td>1.832577e+12</td>\n    </tr>\n    <tr>\n      <th>2010-10-01</th>\n      <td>120.046446</td>\n      <td>66.005875</td>\n      <td>54.175898</td>\n      <td>89.665830</td>\n      <td>68.237963</td>\n      <td>0.618796</td>\n      <td>-6.953518</td>\n      <td>91.060059</td>\n      <td>959.446276</td>\n      <td>1134.300139</td>\n      <td>1309.154003</td>\n      <td>31.098636</td>\n      <td>24.051863</td>\n      <td>12.533681</td>\n      <td>35.887482</td>\n      <td>14.800483</td>\n      <td>57.092818</td>\n      <td>1.059447e+14</td>\n      <td>2.605906e+12</td>\n    </tr>\n    <tr>\n      <th>2010-11-01</th>\n      <td>84.263461</td>\n      <td>69.070467</td>\n      <td>59.179317</td>\n      <td>88.852767</td>\n      <td>67.207049</td>\n      <td>-0.095413</td>\n      <td>-24.831842</td>\n      <td>105.449951</td>\n      <td>1004.623820</td>\n      <td>1152.800103</td>\n      <td>1300.976386</td>\n      <td>35.402760</td>\n      <td>29.606868</td>\n      <td>10.427810</td>\n      <td>16.972504</td>\n      <td>7.166855</td>\n      <td>62.530586</td>\n      <td>1.028862e+14</td>\n      <td>1.469073e+12</td>\n    </tr>\n    <tr>\n      <th>2010-12-01</th>\n      <td>105.973391</td>\n      <td>78.625488</td>\n      <td>65.694852</td>\n      <td>104.486758</td>\n      <td>79.152873</td>\n      <td>0.934737</td>\n      <td>-2.329933</td>\n      <td>87.009888</td>\n      <td>1040.190356</td>\n      <td>1194.736068</td>\n      <td>1349.281779</td>\n      <td>42.144476</td>\n      <td>33.073736</td>\n      <td>7.786000</td>\n      <td>49.282532</td>\n      <td>19.851721</td>\n      <td>48.612720</td>\n      <td>1.018494e+14</td>\n      <td>3.378682e+12</td>\n    </tr>\n    <tr>\n      <th>2011-01-01</th>\n      <td>107.003382</td>\n      <td>82.526357</td>\n      <td>71.324639</td>\n      <td>104.929793</td>\n      <td>82.324535</td>\n      <td>0.632630</td>\n      <td>-9.689721</td>\n      <td>61.620117</td>\n      <td>1102.522173</td>\n      <td>1231.289639</td>\n      <td>1360.057105</td>\n      <td>49.924941</td>\n      <td>41.807491</td>\n      <td>6.566688</td>\n      <td>33.537537</td>\n      <td>12.698918</td>\n      <td>53.243850</td>\n      <td>1.185352e+14</td>\n      <td>3.077151e+12</td>\n    </tr>\n    <tr>\n      <th>2011-02-01</th>\n      <td>95.938001</td>\n      <td>85.070234</td>\n      <td>75.916991</td>\n      <td>103.376719</td>\n      <td>86.327126</td>\n      <td>0.693246</td>\n      <td>-9.849758</td>\n      <td>74.799927</td>\n      <td>1146.041331</td>\n      <td>1269.661772</td>\n      <td>1393.282212</td>\n      <td>57.659955</td>\n      <td>48.073271</td>\n      <td>5.177316</td>\n      <td>33.115021</td>\n      <td>12.166384</td>\n      <td>61.874625</td>\n      <td>7.860282e+13</td>\n      <td>2.819927e+12</td>\n    </tr>\n  </tbody>\n</table>\n</div>"
     },
     "metadata": {},
     "execution_count": 53
    }
   ],
   "source": [
    "sp500[['CCI_4_0.015',\n",
    "       'K_4_3', 'D_4_3', 'J_4_3', 'RSI_4', 'BOP', 'WILLR_4', 'PDIST',\n",
    "       'KCLe_4_2', 'KCBe_4_2', 'KCUe_4_2', 'ADX_4', 'DMP_4', 'DMN_4', 'QS_4',\n",
    "       'ROC_4', 'STDEV_4', 'PVOL', 'EFI_4']][:20]"
   ]
  },
  {
   "source": [
    "# YOU ARE HERE"
   ],
   "cell_type": "markdown",
   "metadata": {}
  },
  {
   "cell_type": "code",
   "execution_count": 90,
   "metadata": {},
   "outputs": [
    {
     "output_type": "execute_result",
     "data": {
      "text/plain": [
       "                   open         high          low        close    adj_close  \\\n",
       "2010-02-01  1073.890015  1112.420044  1044.500000  1104.489990  1104.489990   \n",
       "2010-03-01  1105.359985  1180.689941  1105.359985  1169.430054  1169.430054   \n",
       "2010-04-01  1171.229980  1219.800049  1170.689941  1186.689941  1186.689941   \n",
       "2010-05-01  1188.579956  1205.130005  1040.780029  1089.410034  1089.410034   \n",
       "2010-06-01  1087.300049  1131.229980  1028.329956  1030.709961  1030.709961   \n",
       "...                 ...          ...          ...          ...          ...   \n",
       "2020-07-01  3105.919922  3279.989990  3101.169922  3271.120117  3271.120117   \n",
       "2020-08-01  3288.260010  3514.770020  3284.530029  3500.310059  3500.310059   \n",
       "2020-09-01  3507.439941  3588.110107  3209.449951  3363.000000  3363.000000   \n",
       "2020-10-01  3385.870117  3549.850098  3233.939941  3269.959961  3269.959961   \n",
       "2020-11-01  3296.199951  3645.989990  3279.739990  3621.629883  3621.629883   \n",
       "\n",
       "                  volume  index  mom_pct_change  rev_pct_change  CCI_4_0.015  \\\n",
       "2010-02-01   84561340000    0.0        0.000000        0.000000   -42.855918   \n",
       "2010-03-01  103683550000    0.0        0.122314        0.036822   133.333333   \n",
       "2010-04-01  116741910000    0.0        0.108467        0.001927   100.803624   \n",
       "2010-05-01  127662780000    0.0       -0.021211       -0.101733   -44.060570   \n",
       "2010-06-01  110106750000    0.0       -0.045978       -0.094690  -104.807406   \n",
       "...                  ...    ...             ...             ...          ...   \n",
       "2020-07-01   97197020000   19.0        0.086331       -0.019121    93.470555   \n",
       "2020-08-01   84402300000   19.0        0.062519        0.088834   115.342024   \n",
       "2020-09-01   92084120000   19.0       -0.033204       -0.051572    54.378835   \n",
       "2020-10-01   89737600000   19.0       -0.022055       -0.000873     4.178745   \n",
       "2020-11-01  100977880000   19.0        0.091472        0.311008   118.880028   \n",
       "\n",
       "            ...      DMN_4        QS_4      ROC_4     STDEV_4          PVOL  \\\n",
       "2010-02-01  ...  10.729970   15.892456   6.591460   17.514623  9.339715e+13   \n",
       "2010-03-01  ...   7.653639   17.047485   6.735855   39.844240  1.212507e+14   \n",
       "2010-04-01  ...   6.096919   16.859985   6.420049   53.283516  1.385365e+14   \n",
       "2010-05-01  ...  40.339136    2.740021   1.447106   47.754526  1.390771e+14   \n",
       "2010-06-01  ...  32.402372  -19.057495  -6.680009   72.562160  1.134881e+14   \n",
       "...         ...        ...         ...        ...         ...           ...   \n",
       "2020-07-01  ...  23.664886  204.070007  26.562434  148.633193  3.179431e+14   \n",
       "2020-08-01  ...  18.932428  153.495056  20.185211  204.987707  2.954342e+14   \n",
       "2020-09-01  ...  19.194761   73.580078  10.468380  167.839072  3.096789e+14   \n",
       "2020-10-01  ...  14.476738   29.225037   5.472711  108.605922  2.934384e+14   \n",
       "2020-11-01  ...  10.414176   69.282471  10.715283  154.340349  3.657045e+14   \n",
       "\n",
       "                   EFI_4       date       date       Date  period  \n",
       "2010-02-01  1.063850e+12 2010-02-01 2010-02-01 2010-02-01       0  \n",
       "2010-03-01  3.331596e+12 2010-03-01 2010-03-01 2010-03-01       0  \n",
       "2010-04-01  2.804939e+12 2010-04-01 2010-04-01 2010-04-01       0  \n",
       "2010-05-01 -3.284646e+12 2010-05-01 2010-05-01 2010-05-01       0  \n",
       "2010-06-01 -4.556097e+12 2010-06-01 2010-06-01 2010-06-01       0  \n",
       "...                  ...        ...        ...        ...     ...  \n",
       "2020-07-01  1.025133e+13 2020-07-01 2020-07-01 2020-07-01      20  \n",
       "2020-08-01  1.388846e+13 2020-08-01 2020-08-01 2020-08-01      20  \n",
       "2020-09-01  3.275448e+12 2020-09-01 2020-09-01 2020-09-01      20  \n",
       "2020-10-01 -1.374407e+12 2020-10-01 2020-10-01 2020-10-01      20  \n",
       "2020-11-01  1.337971e+13 2020-11-01 2020-11-01 2020-11-01      20  \n",
       "\n",
       "[210 rows x 32 columns]"
      ],
      "text/html": "<div>\n<style scoped>\n    .dataframe tbody tr th:only-of-type {\n        vertical-align: middle;\n    }\n\n    .dataframe tbody tr th {\n        vertical-align: top;\n    }\n\n    .dataframe thead th {\n        text-align: right;\n    }\n</style>\n<table border=\"1\" class=\"dataframe\">\n  <thead>\n    <tr style=\"text-align: right;\">\n      <th></th>\n      <th>open</th>\n      <th>high</th>\n      <th>low</th>\n      <th>close</th>\n      <th>adj_close</th>\n      <th>volume</th>\n      <th>index</th>\n      <th>mom_pct_change</th>\n      <th>rev_pct_change</th>\n      <th>CCI_4_0.015</th>\n      <th>...</th>\n      <th>DMN_4</th>\n      <th>QS_4</th>\n      <th>ROC_4</th>\n      <th>STDEV_4</th>\n      <th>PVOL</th>\n      <th>EFI_4</th>\n      <th>date</th>\n      <th>date</th>\n      <th>Date</th>\n      <th>period</th>\n    </tr>\n  </thead>\n  <tbody>\n    <tr>\n      <th>2010-02-01</th>\n      <td>1073.890015</td>\n      <td>1112.420044</td>\n      <td>1044.500000</td>\n      <td>1104.489990</td>\n      <td>1104.489990</td>\n      <td>84561340000</td>\n      <td>0.0</td>\n      <td>0.000000</td>\n      <td>0.000000</td>\n      <td>-42.855918</td>\n      <td>...</td>\n      <td>10.729970</td>\n      <td>15.892456</td>\n      <td>6.591460</td>\n      <td>17.514623</td>\n      <td>9.339715e+13</td>\n      <td>1.063850e+12</td>\n      <td>2010-02-01</td>\n      <td>2010-02-01</td>\n      <td>2010-02-01</td>\n      <td>0</td>\n    </tr>\n    <tr>\n      <th>2010-03-01</th>\n      <td>1105.359985</td>\n      <td>1180.689941</td>\n      <td>1105.359985</td>\n      <td>1169.430054</td>\n      <td>1169.430054</td>\n      <td>103683550000</td>\n      <td>0.0</td>\n      <td>0.122314</td>\n      <td>0.036822</td>\n      <td>133.333333</td>\n      <td>...</td>\n      <td>7.653639</td>\n      <td>17.047485</td>\n      <td>6.735855</td>\n      <td>39.844240</td>\n      <td>1.212507e+14</td>\n      <td>3.331596e+12</td>\n      <td>2010-03-01</td>\n      <td>2010-03-01</td>\n      <td>2010-03-01</td>\n      <td>0</td>\n    </tr>\n    <tr>\n      <th>2010-04-01</th>\n      <td>1171.229980</td>\n      <td>1219.800049</td>\n      <td>1170.689941</td>\n      <td>1186.689941</td>\n      <td>1186.689941</td>\n      <td>116741910000</td>\n      <td>0.0</td>\n      <td>0.108467</td>\n      <td>0.001927</td>\n      <td>100.803624</td>\n      <td>...</td>\n      <td>6.096919</td>\n      <td>16.859985</td>\n      <td>6.420049</td>\n      <td>53.283516</td>\n      <td>1.385365e+14</td>\n      <td>2.804939e+12</td>\n      <td>2010-04-01</td>\n      <td>2010-04-01</td>\n      <td>2010-04-01</td>\n      <td>0</td>\n    </tr>\n    <tr>\n      <th>2010-05-01</th>\n      <td>1188.579956</td>\n      <td>1205.130005</td>\n      <td>1040.780029</td>\n      <td>1089.410034</td>\n      <td>1089.410034</td>\n      <td>127662780000</td>\n      <td>0.0</td>\n      <td>-0.021211</td>\n      <td>-0.101733</td>\n      <td>-44.060570</td>\n      <td>...</td>\n      <td>40.339136</td>\n      <td>2.740021</td>\n      <td>1.447106</td>\n      <td>47.754526</td>\n      <td>1.390771e+14</td>\n      <td>-3.284646e+12</td>\n      <td>2010-05-01</td>\n      <td>2010-05-01</td>\n      <td>2010-05-01</td>\n      <td>0</td>\n    </tr>\n    <tr>\n      <th>2010-06-01</th>\n      <td>1087.300049</td>\n      <td>1131.229980</td>\n      <td>1028.329956</td>\n      <td>1030.709961</td>\n      <td>1030.709961</td>\n      <td>110106750000</td>\n      <td>0.0</td>\n      <td>-0.045978</td>\n      <td>-0.094690</td>\n      <td>-104.807406</td>\n      <td>...</td>\n      <td>32.402372</td>\n      <td>-19.057495</td>\n      <td>-6.680009</td>\n      <td>72.562160</td>\n      <td>1.134881e+14</td>\n      <td>-4.556097e+12</td>\n      <td>2010-06-01</td>\n      <td>2010-06-01</td>\n      <td>2010-06-01</td>\n      <td>0</td>\n    </tr>\n    <tr>\n      <th>...</th>\n      <td>...</td>\n      <td>...</td>\n      <td>...</td>\n      <td>...</td>\n      <td>...</td>\n      <td>...</td>\n      <td>...</td>\n      <td>...</td>\n      <td>...</td>\n      <td>...</td>\n      <td>...</td>\n      <td>...</td>\n      <td>...</td>\n      <td>...</td>\n      <td>...</td>\n      <td>...</td>\n      <td>...</td>\n      <td>...</td>\n      <td>...</td>\n      <td>...</td>\n      <td>...</td>\n    </tr>\n    <tr>\n      <th>2020-07-01</th>\n      <td>3105.919922</td>\n      <td>3279.989990</td>\n      <td>3101.169922</td>\n      <td>3271.120117</td>\n      <td>3271.120117</td>\n      <td>97197020000</td>\n      <td>19.0</td>\n      <td>0.086331</td>\n      <td>-0.019121</td>\n      <td>93.470555</td>\n      <td>...</td>\n      <td>23.664886</td>\n      <td>204.070007</td>\n      <td>26.562434</td>\n      <td>148.633193</td>\n      <td>3.179431e+14</td>\n      <td>1.025133e+13</td>\n      <td>2020-07-01</td>\n      <td>2020-07-01</td>\n      <td>2020-07-01</td>\n      <td>20</td>\n    </tr>\n    <tr>\n      <th>2020-08-01</th>\n      <td>3288.260010</td>\n      <td>3514.770020</td>\n      <td>3284.530029</td>\n      <td>3500.310059</td>\n      <td>3500.310059</td>\n      <td>84402300000</td>\n      <td>19.0</td>\n      <td>0.062519</td>\n      <td>0.088834</td>\n      <td>115.342024</td>\n      <td>...</td>\n      <td>18.932428</td>\n      <td>153.495056</td>\n      <td>20.185211</td>\n      <td>204.987707</td>\n      <td>2.954342e+14</td>\n      <td>1.388846e+13</td>\n      <td>2020-08-01</td>\n      <td>2020-08-01</td>\n      <td>2020-08-01</td>\n      <td>20</td>\n    </tr>\n    <tr>\n      <th>2020-09-01</th>\n      <td>3507.439941</td>\n      <td>3588.110107</td>\n      <td>3209.449951</td>\n      <td>3363.000000</td>\n      <td>3363.000000</td>\n      <td>92084120000</td>\n      <td>19.0</td>\n      <td>-0.033204</td>\n      <td>-0.051572</td>\n      <td>54.378835</td>\n      <td>...</td>\n      <td>19.194761</td>\n      <td>73.580078</td>\n      <td>10.468380</td>\n      <td>167.839072</td>\n      <td>3.096789e+14</td>\n      <td>3.275448e+12</td>\n      <td>2020-09-01</td>\n      <td>2020-09-01</td>\n      <td>2020-09-01</td>\n      <td>20</td>\n    </tr>\n    <tr>\n      <th>2020-10-01</th>\n      <td>3385.870117</td>\n      <td>3549.850098</td>\n      <td>3233.939941</td>\n      <td>3269.959961</td>\n      <td>3269.959961</td>\n      <td>89737600000</td>\n      <td>19.0</td>\n      <td>-0.022055</td>\n      <td>-0.000873</td>\n      <td>4.178745</td>\n      <td>...</td>\n      <td>14.476738</td>\n      <td>29.225037</td>\n      <td>5.472711</td>\n      <td>108.605922</td>\n      <td>2.934384e+14</td>\n      <td>-1.374407e+12</td>\n      <td>2020-10-01</td>\n      <td>2020-10-01</td>\n      <td>2020-10-01</td>\n      <td>20</td>\n    </tr>\n    <tr>\n      <th>2020-11-01</th>\n      <td>3296.199951</td>\n      <td>3645.989990</td>\n      <td>3279.739990</td>\n      <td>3621.629883</td>\n      <td>3621.629883</td>\n      <td>100977880000</td>\n      <td>19.0</td>\n      <td>0.091472</td>\n      <td>0.311008</td>\n      <td>118.880028</td>\n      <td>...</td>\n      <td>10.414176</td>\n      <td>69.282471</td>\n      <td>10.715283</td>\n      <td>154.340349</td>\n      <td>3.657045e+14</td>\n      <td>1.337971e+13</td>\n      <td>2020-11-01</td>\n      <td>2020-11-01</td>\n      <td>2020-11-01</td>\n      <td>20</td>\n    </tr>\n  </tbody>\n</table>\n<p>210 rows × 32 columns</p>\n</div>"
     },
     "metadata": {},
     "execution_count": 90
    }
   ],
   "source": [
    "sp500 = sp500.fillna(0)\n",
    "sp500['date'] = sp500.index\n",
    "sp500['Date'] = sp500.index\n",
    "df = sp500\n",
    "get_j_df()"
   ]
  },
  {
   "cell_type": "code",
   "execution_count": 91,
   "metadata": {},
   "outputs": [
    {
     "output_type": "execute_result",
     "data": {
      "text/plain": [
       "                   open         high          low        close    adj_close  \\\n",
       "date                                                                          \n",
       "2010-02-01  1073.890015  1112.420044  1044.500000  1104.489990  1104.489990   \n",
       "2010-03-01  1105.359985  1180.689941  1105.359985  1169.430054  1169.430054   \n",
       "2010-04-01  1171.229980  1219.800049  1170.689941  1186.689941  1186.689941   \n",
       "2010-05-01  1188.579956  1205.130005  1040.780029  1089.410034  1089.410034   \n",
       "2010-06-01  1087.300049  1131.229980  1028.329956  1030.709961  1030.709961   \n",
       "\n",
       "                  volume  index  mom_pct_change  rev_pct_change  CCI_4_0.015  \\\n",
       "date                                                                           \n",
       "2010-02-01   84561340000    0.0        0.000000        0.000000   -42.855918   \n",
       "2010-03-01  103683550000    0.0        0.122314        0.036822   133.333333   \n",
       "2010-04-01  116741910000    0.0        0.108467        0.001927   100.803624   \n",
       "2010-05-01  127662780000    0.0       -0.021211       -0.101733   -44.060570   \n",
       "2010-06-01  110106750000    0.0       -0.045978       -0.094690  -104.807406   \n",
       "\n",
       "            ...      DMP_4      DMN_4       QS_4     ROC_4    STDEV_4  \\\n",
       "date        ...                                                         \n",
       "2010-02-01  ...  21.239168  10.729970  15.892456  6.591460  17.514623   \n",
       "2010-03-01  ...  40.867229   7.653639  17.047485  6.735855  39.844240   \n",
       "2010-04-01  ...  48.203343   6.096919  16.859985  6.420049  53.283516   \n",
       "2010-05-01  ...  25.788443  40.339136   2.740021  1.447106  47.754526   \n",
       "2010-06-01  ...  18.537345  32.402372 -19.057495 -6.680009  72.562160   \n",
       "\n",
       "                    PVOL         EFI_4       date       date       Date  \n",
       "date                                                                     \n",
       "2010-02-01  9.339715e+13  1.063850e+12 2010-02-01 2010-02-01 2010-02-01  \n",
       "2010-03-01  1.212507e+14  3.331596e+12 2010-03-01 2010-03-01 2010-03-01  \n",
       "2010-04-01  1.385365e+14  2.804939e+12 2010-04-01 2010-04-01 2010-04-01  \n",
       "2010-05-01  1.390771e+14 -3.284646e+12 2010-05-01 2010-05-01 2010-05-01  \n",
       "2010-06-01  1.134881e+14 -4.556097e+12 2010-06-01 2010-06-01 2010-06-01  \n",
       "\n",
       "[5 rows x 31 columns]"
      ],
      "text/html": "<div>\n<style scoped>\n    .dataframe tbody tr th:only-of-type {\n        vertical-align: middle;\n    }\n\n    .dataframe tbody tr th {\n        vertical-align: top;\n    }\n\n    .dataframe thead th {\n        text-align: right;\n    }\n</style>\n<table border=\"1\" class=\"dataframe\">\n  <thead>\n    <tr style=\"text-align: right;\">\n      <th></th>\n      <th>open</th>\n      <th>high</th>\n      <th>low</th>\n      <th>close</th>\n      <th>adj_close</th>\n      <th>volume</th>\n      <th>index</th>\n      <th>mom_pct_change</th>\n      <th>rev_pct_change</th>\n      <th>CCI_4_0.015</th>\n      <th>...</th>\n      <th>DMP_4</th>\n      <th>DMN_4</th>\n      <th>QS_4</th>\n      <th>ROC_4</th>\n      <th>STDEV_4</th>\n      <th>PVOL</th>\n      <th>EFI_4</th>\n      <th>date</th>\n      <th>date</th>\n      <th>Date</th>\n    </tr>\n    <tr>\n      <th>date</th>\n      <th></th>\n      <th></th>\n      <th></th>\n      <th></th>\n      <th></th>\n      <th></th>\n      <th></th>\n      <th></th>\n      <th></th>\n      <th></th>\n      <th></th>\n      <th></th>\n      <th></th>\n      <th></th>\n      <th></th>\n      <th></th>\n      <th></th>\n      <th></th>\n      <th></th>\n      <th></th>\n      <th></th>\n    </tr>\n  </thead>\n  <tbody>\n    <tr>\n      <th>2010-02-01</th>\n      <td>1073.890015</td>\n      <td>1112.420044</td>\n      <td>1044.500000</td>\n      <td>1104.489990</td>\n      <td>1104.489990</td>\n      <td>84561340000</td>\n      <td>0.0</td>\n      <td>0.000000</td>\n      <td>0.000000</td>\n      <td>-42.855918</td>\n      <td>...</td>\n      <td>21.239168</td>\n      <td>10.729970</td>\n      <td>15.892456</td>\n      <td>6.591460</td>\n      <td>17.514623</td>\n      <td>9.339715e+13</td>\n      <td>1.063850e+12</td>\n      <td>2010-02-01</td>\n      <td>2010-02-01</td>\n      <td>2010-02-01</td>\n    </tr>\n    <tr>\n      <th>2010-03-01</th>\n      <td>1105.359985</td>\n      <td>1180.689941</td>\n      <td>1105.359985</td>\n      <td>1169.430054</td>\n      <td>1169.430054</td>\n      <td>103683550000</td>\n      <td>0.0</td>\n      <td>0.122314</td>\n      <td>0.036822</td>\n      <td>133.333333</td>\n      <td>...</td>\n      <td>40.867229</td>\n      <td>7.653639</td>\n      <td>17.047485</td>\n      <td>6.735855</td>\n      <td>39.844240</td>\n      <td>1.212507e+14</td>\n      <td>3.331596e+12</td>\n      <td>2010-03-01</td>\n      <td>2010-03-01</td>\n      <td>2010-03-01</td>\n    </tr>\n    <tr>\n      <th>2010-04-01</th>\n      <td>1171.229980</td>\n      <td>1219.800049</td>\n      <td>1170.689941</td>\n      <td>1186.689941</td>\n      <td>1186.689941</td>\n      <td>116741910000</td>\n      <td>0.0</td>\n      <td>0.108467</td>\n      <td>0.001927</td>\n      <td>100.803624</td>\n      <td>...</td>\n      <td>48.203343</td>\n      <td>6.096919</td>\n      <td>16.859985</td>\n      <td>6.420049</td>\n      <td>53.283516</td>\n      <td>1.385365e+14</td>\n      <td>2.804939e+12</td>\n      <td>2010-04-01</td>\n      <td>2010-04-01</td>\n      <td>2010-04-01</td>\n    </tr>\n    <tr>\n      <th>2010-05-01</th>\n      <td>1188.579956</td>\n      <td>1205.130005</td>\n      <td>1040.780029</td>\n      <td>1089.410034</td>\n      <td>1089.410034</td>\n      <td>127662780000</td>\n      <td>0.0</td>\n      <td>-0.021211</td>\n      <td>-0.101733</td>\n      <td>-44.060570</td>\n      <td>...</td>\n      <td>25.788443</td>\n      <td>40.339136</td>\n      <td>2.740021</td>\n      <td>1.447106</td>\n      <td>47.754526</td>\n      <td>1.390771e+14</td>\n      <td>-3.284646e+12</td>\n      <td>2010-05-01</td>\n      <td>2010-05-01</td>\n      <td>2010-05-01</td>\n    </tr>\n    <tr>\n      <th>2010-06-01</th>\n      <td>1087.300049</td>\n      <td>1131.229980</td>\n      <td>1028.329956</td>\n      <td>1030.709961</td>\n      <td>1030.709961</td>\n      <td>110106750000</td>\n      <td>0.0</td>\n      <td>-0.045978</td>\n      <td>-0.094690</td>\n      <td>-104.807406</td>\n      <td>...</td>\n      <td>18.537345</td>\n      <td>32.402372</td>\n      <td>-19.057495</td>\n      <td>-6.680009</td>\n      <td>72.562160</td>\n      <td>1.134881e+14</td>\n      <td>-4.556097e+12</td>\n      <td>2010-06-01</td>\n      <td>2010-06-01</td>\n      <td>2010-06-01</td>\n    </tr>\n  </tbody>\n</table>\n<p>5 rows × 31 columns</p>\n</div>"
     },
     "metadata": {},
     "execution_count": 91
    }
   ],
   "source": [
    "per0 = get_j_df(0)\n",
    "per0.head()"
   ]
  },
  {
   "cell_type": "code",
   "execution_count": 89,
   "metadata": {},
   "outputs": [
    {
     "output_type": "error",
     "ename": "KeyError",
     "evalue": "'mom_pct_change'",
     "traceback": [
      "\u001b[1;31m---------------------------------------------------------------------------\u001b[0m",
      "\u001b[1;31mKeyError\u001b[0m                                  Traceback (most recent call last)",
      "\u001b[1;32m~\\.virtualenvs\\dsc190-FVH1D0fH\\lib\\site-packages\\pandas\\core\\indexes\\base.py\u001b[0m in \u001b[0;36mget_loc\u001b[1;34m(self, key, method, tolerance)\u001b[0m\n\u001b[0;32m   3079\u001b[0m             \u001b[1;32mtry\u001b[0m\u001b[1;33m:\u001b[0m\u001b[1;33m\u001b[0m\u001b[1;33m\u001b[0m\u001b[0m\n\u001b[1;32m-> 3080\u001b[1;33m                 \u001b[1;32mreturn\u001b[0m \u001b[0mself\u001b[0m\u001b[1;33m.\u001b[0m\u001b[0m_engine\u001b[0m\u001b[1;33m.\u001b[0m\u001b[0mget_loc\u001b[0m\u001b[1;33m(\u001b[0m\u001b[0mcasted_key\u001b[0m\u001b[1;33m)\u001b[0m\u001b[1;33m\u001b[0m\u001b[1;33m\u001b[0m\u001b[0m\n\u001b[0m\u001b[0;32m   3081\u001b[0m             \u001b[1;32mexcept\u001b[0m \u001b[0mKeyError\u001b[0m \u001b[1;32mas\u001b[0m \u001b[0merr\u001b[0m\u001b[1;33m:\u001b[0m\u001b[1;33m\u001b[0m\u001b[1;33m\u001b[0m\u001b[0m\n",
      "\u001b[1;32mpandas\\_libs\\index.pyx\u001b[0m in \u001b[0;36mpandas._libs.index.IndexEngine.get_loc\u001b[1;34m()\u001b[0m\n",
      "\u001b[1;32mpandas\\_libs\\index.pyx\u001b[0m in \u001b[0;36mpandas._libs.index.IndexEngine.get_loc\u001b[1;34m()\u001b[0m\n",
      "\u001b[1;32mpandas\\_libs\\hashtable_class_helper.pxi\u001b[0m in \u001b[0;36mpandas._libs.hashtable.PyObjectHashTable.get_item\u001b[1;34m()\u001b[0m\n",
      "\u001b[1;32mpandas\\_libs\\hashtable_class_helper.pxi\u001b[0m in \u001b[0;36mpandas._libs.hashtable.PyObjectHashTable.get_item\u001b[1;34m()\u001b[0m\n",
      "\u001b[1;31mKeyError\u001b[0m: 'mom_pct_change'",
      "\nThe above exception was the direct cause of the following exception:\n",
      "\u001b[1;31mKeyError\u001b[0m                                  Traceback (most recent call last)",
      "\u001b[1;32m<ipython-input-89-f33144f47162>\u001b[0m in \u001b[0;36m<module>\u001b[1;34m\u001b[0m\n\u001b[1;32m----> 1\u001b[1;33m \u001b[0mper0\u001b[0m\u001b[1;33m[\u001b[0m\u001b[1;34m'mom_cum_ret'\u001b[0m\u001b[1;33m]\u001b[0m \u001b[1;33m=\u001b[0m \u001b[1;33m(\u001b[0m\u001b[0mper0\u001b[0m\u001b[1;33m[\u001b[0m\u001b[1;34m'mom_pct_change'\u001b[0m\u001b[1;33m]\u001b[0m\u001b[1;33m+\u001b[0m\u001b[1;36m1\u001b[0m\u001b[1;33m)\u001b[0m\u001b[1;33m.\u001b[0m\u001b[0mcumprod\u001b[0m\u001b[1;33m(\u001b[0m\u001b[1;33m)\u001b[0m\u001b[1;33m-\u001b[0m\u001b[1;36m1\u001b[0m\u001b[1;33m\u001b[0m\u001b[1;33m\u001b[0m\u001b[0m\n\u001b[0m\u001b[0;32m      2\u001b[0m \u001b[0mper0\u001b[0m\u001b[1;33m[\u001b[0m\u001b[1;34m'rev_cum_ret'\u001b[0m\u001b[1;33m]\u001b[0m \u001b[1;33m=\u001b[0m \u001b[1;33m(\u001b[0m\u001b[0mper0\u001b[0m\u001b[1;33m[\u001b[0m\u001b[1;34m'rev_pct_change'\u001b[0m\u001b[1;33m]\u001b[0m\u001b[1;33m+\u001b[0m\u001b[1;36m1\u001b[0m\u001b[1;33m)\u001b[0m\u001b[1;33m.\u001b[0m\u001b[0mcumprod\u001b[0m\u001b[1;33m(\u001b[0m\u001b[1;33m)\u001b[0m\u001b[1;33m-\u001b[0m\u001b[1;36m1\u001b[0m\u001b[1;33m\u001b[0m\u001b[1;33m\u001b[0m\u001b[0m\n\u001b[0;32m      3\u001b[0m \u001b[0mper0\u001b[0m\u001b[1;33m\u001b[0m\u001b[1;33m\u001b[0m\u001b[0m\n",
      "\u001b[1;32m~\\.virtualenvs\\dsc190-FVH1D0fH\\lib\\site-packages\\pandas\\core\\frame.py\u001b[0m in \u001b[0;36m__getitem__\u001b[1;34m(self, key)\u001b[0m\n\u001b[0;32m   3022\u001b[0m             \u001b[1;32mif\u001b[0m \u001b[0mself\u001b[0m\u001b[1;33m.\u001b[0m\u001b[0mcolumns\u001b[0m\u001b[1;33m.\u001b[0m\u001b[0mnlevels\u001b[0m \u001b[1;33m>\u001b[0m \u001b[1;36m1\u001b[0m\u001b[1;33m:\u001b[0m\u001b[1;33m\u001b[0m\u001b[1;33m\u001b[0m\u001b[0m\n\u001b[0;32m   3023\u001b[0m                 \u001b[1;32mreturn\u001b[0m \u001b[0mself\u001b[0m\u001b[1;33m.\u001b[0m\u001b[0m_getitem_multilevel\u001b[0m\u001b[1;33m(\u001b[0m\u001b[0mkey\u001b[0m\u001b[1;33m)\u001b[0m\u001b[1;33m\u001b[0m\u001b[1;33m\u001b[0m\u001b[0m\n\u001b[1;32m-> 3024\u001b[1;33m             \u001b[0mindexer\u001b[0m \u001b[1;33m=\u001b[0m \u001b[0mself\u001b[0m\u001b[1;33m.\u001b[0m\u001b[0mcolumns\u001b[0m\u001b[1;33m.\u001b[0m\u001b[0mget_loc\u001b[0m\u001b[1;33m(\u001b[0m\u001b[0mkey\u001b[0m\u001b[1;33m)\u001b[0m\u001b[1;33m\u001b[0m\u001b[1;33m\u001b[0m\u001b[0m\n\u001b[0m\u001b[0;32m   3025\u001b[0m             \u001b[1;32mif\u001b[0m \u001b[0mis_integer\u001b[0m\u001b[1;33m(\u001b[0m\u001b[0mindexer\u001b[0m\u001b[1;33m)\u001b[0m\u001b[1;33m:\u001b[0m\u001b[1;33m\u001b[0m\u001b[1;33m\u001b[0m\u001b[0m\n\u001b[0;32m   3026\u001b[0m                 \u001b[0mindexer\u001b[0m \u001b[1;33m=\u001b[0m \u001b[1;33m[\u001b[0m\u001b[0mindexer\u001b[0m\u001b[1;33m]\u001b[0m\u001b[1;33m\u001b[0m\u001b[1;33m\u001b[0m\u001b[0m\n",
      "\u001b[1;32m~\\.virtualenvs\\dsc190-FVH1D0fH\\lib\\site-packages\\pandas\\core\\indexes\\base.py\u001b[0m in \u001b[0;36mget_loc\u001b[1;34m(self, key, method, tolerance)\u001b[0m\n\u001b[0;32m   3080\u001b[0m                 \u001b[1;32mreturn\u001b[0m \u001b[0mself\u001b[0m\u001b[1;33m.\u001b[0m\u001b[0m_engine\u001b[0m\u001b[1;33m.\u001b[0m\u001b[0mget_loc\u001b[0m\u001b[1;33m(\u001b[0m\u001b[0mcasted_key\u001b[0m\u001b[1;33m)\u001b[0m\u001b[1;33m\u001b[0m\u001b[1;33m\u001b[0m\u001b[0m\n\u001b[0;32m   3081\u001b[0m             \u001b[1;32mexcept\u001b[0m \u001b[0mKeyError\u001b[0m \u001b[1;32mas\u001b[0m \u001b[0merr\u001b[0m\u001b[1;33m:\u001b[0m\u001b[1;33m\u001b[0m\u001b[1;33m\u001b[0m\u001b[0m\n\u001b[1;32m-> 3082\u001b[1;33m                 \u001b[1;32mraise\u001b[0m \u001b[0mKeyError\u001b[0m\u001b[1;33m(\u001b[0m\u001b[0mkey\u001b[0m\u001b[1;33m)\u001b[0m \u001b[1;32mfrom\u001b[0m \u001b[0merr\u001b[0m\u001b[1;33m\u001b[0m\u001b[1;33m\u001b[0m\u001b[0m\n\u001b[0m\u001b[0;32m   3083\u001b[0m \u001b[1;33m\u001b[0m\u001b[0m\n\u001b[0;32m   3084\u001b[0m         \u001b[1;32mif\u001b[0m \u001b[0mtolerance\u001b[0m \u001b[1;32mis\u001b[0m \u001b[1;32mnot\u001b[0m \u001b[1;32mNone\u001b[0m\u001b[1;33m:\u001b[0m\u001b[1;33m\u001b[0m\u001b[1;33m\u001b[0m\u001b[0m\n",
      "\u001b[1;31mKeyError\u001b[0m: 'mom_pct_change'"
     ]
    }
   ],
   "source": [
    "per0['mom_cum_ret'] = (per0['mom_pct_change']+1).cumprod()-1\n",
    "per0['rev_cum_ret'] = (per0['rev_pct_change']+1).cumprod()-1\n",
    "per0"
   ]
  },
  {
   "cell_type": "markdown",
   "metadata": {},
   "source": [
    "leptokurtic distribution\n",
    "the only things we can do is buy, hold, or leave for rev or momentum\n",
    "<br><br>choices:\n",
    "- momentum\n",
    "- reversal\n",
    "- neither"
   ]
  },
  {
   "cell_type": "code",
   "execution_count": 60,
   "metadata": {},
   "outputs": [
    {
     "output_type": "execute_result",
     "data": {
      "text/plain": [
       "                   Open         High          Low        Close    Adj Close  \\\n",
       "Date                                                                          \n",
       "2010-01-01  1116.560059  1150.449951  1071.589966  1073.869995  1073.869995   \n",
       "2010-02-01  1073.890015  1112.420044  1044.500000  1104.489990  1104.489990   \n",
       "2010-03-01  1105.359985  1180.689941  1105.359985  1169.430054  1169.430054   \n",
       "2010-04-01  1171.229980  1219.800049  1170.689941  1186.689941  1186.689941   \n",
       "2010-05-01  1188.579956  1205.130005  1040.780029  1089.410034  1089.410034   \n",
       "...                 ...          ...          ...          ...          ...   \n",
       "2020-12-01  3645.870117  3760.199951  3633.399902  3756.070068  3756.070068   \n",
       "2021-01-01  3764.610107  3870.899902  3662.709961  3714.239990  3714.239990   \n",
       "2021-02-01  3731.169922  3950.429932  3725.620117  3811.149902  3811.149902   \n",
       "2021-03-01  3842.510010  3914.500000  3723.340088  3841.939941  3841.939941   \n",
       "2021-03-08  3844.389893  3881.060059  3819.250000  3821.350098  3821.350098   \n",
       "\n",
       "                  Volume      pctc     cumprod  \n",
       "Date                                            \n",
       "2010-01-01   90947580000       NaN         NaN  \n",
       "2010-02-01   84561340000  0.028514    2.851369  \n",
       "2010-03-01  103683550000  0.058796    8.898662  \n",
       "2010-04-01  116741910000  0.014759   10.505922  \n",
       "2010-05-01  127662780000 -0.081976    1.447106  \n",
       "...                  ...       ...         ...  \n",
       "2020-12-01   96056410000  0.037121  249.769533  \n",
       "2021-01-01  105548790000 -0.011137  245.874268  \n",
       "2021-02-01   98596960000  0.026091  254.898630  \n",
       "2021-03-01   30700830000  0.008079  257.765834  \n",
       "2021-03-08    2991626851 -0.005359  255.848484  \n",
       "\n",
       "[136 rows x 8 columns]"
      ],
      "text/html": "<div>\n<style scoped>\n    .dataframe tbody tr th:only-of-type {\n        vertical-align: middle;\n    }\n\n    .dataframe tbody tr th {\n        vertical-align: top;\n    }\n\n    .dataframe thead th {\n        text-align: right;\n    }\n</style>\n<table border=\"1\" class=\"dataframe\">\n  <thead>\n    <tr style=\"text-align: right;\">\n      <th></th>\n      <th>Open</th>\n      <th>High</th>\n      <th>Low</th>\n      <th>Close</th>\n      <th>Adj Close</th>\n      <th>Volume</th>\n      <th>pctc</th>\n      <th>cumprod</th>\n    </tr>\n    <tr>\n      <th>Date</th>\n      <th></th>\n      <th></th>\n      <th></th>\n      <th></th>\n      <th></th>\n      <th></th>\n      <th></th>\n      <th></th>\n    </tr>\n  </thead>\n  <tbody>\n    <tr>\n      <th>2010-01-01</th>\n      <td>1116.560059</td>\n      <td>1150.449951</td>\n      <td>1071.589966</td>\n      <td>1073.869995</td>\n      <td>1073.869995</td>\n      <td>90947580000</td>\n      <td>NaN</td>\n      <td>NaN</td>\n    </tr>\n    <tr>\n      <th>2010-02-01</th>\n      <td>1073.890015</td>\n      <td>1112.420044</td>\n      <td>1044.500000</td>\n      <td>1104.489990</td>\n      <td>1104.489990</td>\n      <td>84561340000</td>\n      <td>0.028514</td>\n      <td>2.851369</td>\n    </tr>\n    <tr>\n      <th>2010-03-01</th>\n      <td>1105.359985</td>\n      <td>1180.689941</td>\n      <td>1105.359985</td>\n      <td>1169.430054</td>\n      <td>1169.430054</td>\n      <td>103683550000</td>\n      <td>0.058796</td>\n      <td>8.898662</td>\n    </tr>\n    <tr>\n      <th>2010-04-01</th>\n      <td>1171.229980</td>\n      <td>1219.800049</td>\n      <td>1170.689941</td>\n      <td>1186.689941</td>\n      <td>1186.689941</td>\n      <td>116741910000</td>\n      <td>0.014759</td>\n      <td>10.505922</td>\n    </tr>\n    <tr>\n      <th>2010-05-01</th>\n      <td>1188.579956</td>\n      <td>1205.130005</td>\n      <td>1040.780029</td>\n      <td>1089.410034</td>\n      <td>1089.410034</td>\n      <td>127662780000</td>\n      <td>-0.081976</td>\n      <td>1.447106</td>\n    </tr>\n    <tr>\n      <th>...</th>\n      <td>...</td>\n      <td>...</td>\n      <td>...</td>\n      <td>...</td>\n      <td>...</td>\n      <td>...</td>\n      <td>...</td>\n      <td>...</td>\n    </tr>\n    <tr>\n      <th>2020-12-01</th>\n      <td>3645.870117</td>\n      <td>3760.199951</td>\n      <td>3633.399902</td>\n      <td>3756.070068</td>\n      <td>3756.070068</td>\n      <td>96056410000</td>\n      <td>0.037121</td>\n      <td>249.769533</td>\n    </tr>\n    <tr>\n      <th>2021-01-01</th>\n      <td>3764.610107</td>\n      <td>3870.899902</td>\n      <td>3662.709961</td>\n      <td>3714.239990</td>\n      <td>3714.239990</td>\n      <td>105548790000</td>\n      <td>-0.011137</td>\n      <td>245.874268</td>\n    </tr>\n    <tr>\n      <th>2021-02-01</th>\n      <td>3731.169922</td>\n      <td>3950.429932</td>\n      <td>3725.620117</td>\n      <td>3811.149902</td>\n      <td>3811.149902</td>\n      <td>98596960000</td>\n      <td>0.026091</td>\n      <td>254.898630</td>\n    </tr>\n    <tr>\n      <th>2021-03-01</th>\n      <td>3842.510010</td>\n      <td>3914.500000</td>\n      <td>3723.340088</td>\n      <td>3841.939941</td>\n      <td>3841.939941</td>\n      <td>30700830000</td>\n      <td>0.008079</td>\n      <td>257.765834</td>\n    </tr>\n    <tr>\n      <th>2021-03-08</th>\n      <td>3844.389893</td>\n      <td>3881.060059</td>\n      <td>3819.250000</td>\n      <td>3821.350098</td>\n      <td>3821.350098</td>\n      <td>2991626851</td>\n      <td>-0.005359</td>\n      <td>255.848484</td>\n    </tr>\n  </tbody>\n</table>\n<p>136 rows × 8 columns</p>\n</div>"
     },
     "metadata": {},
     "execution_count": 60
    }
   ],
   "source": [
    "spc"
   ]
  },
  {
   "cell_type": "code",
   "execution_count": 61,
   "metadata": {},
   "outputs": [
    {
     "output_type": "execute_result",
     "data": {
      "text/plain": [
       "      j_start   midpoint      k_end\n",
       "0  2010-02-01 2010-11-01 2011-05-01\n",
       "1  2010-08-01 2011-05-01 2011-11-01\n",
       "2  2011-02-01 2011-11-01 2012-05-01\n",
       "3  2011-08-01 2012-05-01 2012-11-01\n",
       "4  2012-02-01 2012-11-01 2013-05-01\n",
       "5  2012-08-01 2013-05-01 2013-11-01\n",
       "6  2013-02-01 2013-11-01 2014-05-01\n",
       "7  2013-08-01 2014-05-01 2014-11-01\n",
       "8  2014-02-01 2014-11-01 2015-05-01\n",
       "9  2014-08-01 2015-05-01 2015-11-01\n",
       "10 2015-02-01 2015-11-01 2016-05-01\n",
       "11 2015-08-01 2016-05-01 2016-11-01\n",
       "12 2016-02-01 2016-11-01 2017-05-01\n",
       "13 2016-08-01 2017-05-01 2017-11-01\n",
       "14 2017-02-01 2017-11-01 2018-05-01\n",
       "15 2017-08-01 2018-05-01 2018-11-01\n",
       "16 2018-02-01 2018-11-01 2019-05-01\n",
       "17 2018-08-01 2019-05-01 2019-11-01\n",
       "18 2019-02-01 2019-11-01 2020-05-01\n",
       "19 2019-08-01 2020-05-01 2020-11-01\n",
       "20 2020-02-01 2020-11-01 2021-05-01"
      ],
      "text/html": "<div>\n<style scoped>\n    .dataframe tbody tr th:only-of-type {\n        vertical-align: middle;\n    }\n\n    .dataframe tbody tr th {\n        vertical-align: top;\n    }\n\n    .dataframe thead th {\n        text-align: right;\n    }\n</style>\n<table border=\"1\" class=\"dataframe\">\n  <thead>\n    <tr style=\"text-align: right;\">\n      <th></th>\n      <th>j_start</th>\n      <th>midpoint</th>\n      <th>k_end</th>\n    </tr>\n  </thead>\n  <tbody>\n    <tr>\n      <th>0</th>\n      <td>2010-02-01</td>\n      <td>2010-11-01</td>\n      <td>2011-05-01</td>\n    </tr>\n    <tr>\n      <th>1</th>\n      <td>2010-08-01</td>\n      <td>2011-05-01</td>\n      <td>2011-11-01</td>\n    </tr>\n    <tr>\n      <th>2</th>\n      <td>2011-02-01</td>\n      <td>2011-11-01</td>\n      <td>2012-05-01</td>\n    </tr>\n    <tr>\n      <th>3</th>\n      <td>2011-08-01</td>\n      <td>2012-05-01</td>\n      <td>2012-11-01</td>\n    </tr>\n    <tr>\n      <th>4</th>\n      <td>2012-02-01</td>\n      <td>2012-11-01</td>\n      <td>2013-05-01</td>\n    </tr>\n    <tr>\n      <th>5</th>\n      <td>2012-08-01</td>\n      <td>2013-05-01</td>\n      <td>2013-11-01</td>\n    </tr>\n    <tr>\n      <th>6</th>\n      <td>2013-02-01</td>\n      <td>2013-11-01</td>\n      <td>2014-05-01</td>\n    </tr>\n    <tr>\n      <th>7</th>\n      <td>2013-08-01</td>\n      <td>2014-05-01</td>\n      <td>2014-11-01</td>\n    </tr>\n    <tr>\n      <th>8</th>\n      <td>2014-02-01</td>\n      <td>2014-11-01</td>\n      <td>2015-05-01</td>\n    </tr>\n    <tr>\n      <th>9</th>\n      <td>2014-08-01</td>\n      <td>2015-05-01</td>\n      <td>2015-11-01</td>\n    </tr>\n    <tr>\n      <th>10</th>\n      <td>2015-02-01</td>\n      <td>2015-11-01</td>\n      <td>2016-05-01</td>\n    </tr>\n    <tr>\n      <th>11</th>\n      <td>2015-08-01</td>\n      <td>2016-05-01</td>\n      <td>2016-11-01</td>\n    </tr>\n    <tr>\n      <th>12</th>\n      <td>2016-02-01</td>\n      <td>2016-11-01</td>\n      <td>2017-05-01</td>\n    </tr>\n    <tr>\n      <th>13</th>\n      <td>2016-08-01</td>\n      <td>2017-05-01</td>\n      <td>2017-11-01</td>\n    </tr>\n    <tr>\n      <th>14</th>\n      <td>2017-02-01</td>\n      <td>2017-11-01</td>\n      <td>2018-05-01</td>\n    </tr>\n    <tr>\n      <th>15</th>\n      <td>2017-08-01</td>\n      <td>2018-05-01</td>\n      <td>2018-11-01</td>\n    </tr>\n    <tr>\n      <th>16</th>\n      <td>2018-02-01</td>\n      <td>2018-11-01</td>\n      <td>2019-05-01</td>\n    </tr>\n    <tr>\n      <th>17</th>\n      <td>2018-08-01</td>\n      <td>2019-05-01</td>\n      <td>2019-11-01</td>\n    </tr>\n    <tr>\n      <th>18</th>\n      <td>2019-02-01</td>\n      <td>2019-11-01</td>\n      <td>2020-05-01</td>\n    </tr>\n    <tr>\n      <th>19</th>\n      <td>2019-08-01</td>\n      <td>2020-05-01</td>\n      <td>2020-11-01</td>\n    </tr>\n    <tr>\n      <th>20</th>\n      <td>2020-02-01</td>\n      <td>2020-11-01</td>\n      <td>2021-05-01</td>\n    </tr>\n  </tbody>\n</table>\n</div>"
     },
     "metadata": {},
     "execution_count": 61
    }
   ],
   "source": [
    "timedf[0]"
   ]
  },
  {
   "cell_type": "markdown",
   "metadata": {},
   "source": [
    "# logistic regression model \n",
    "when you look at scatter lot it dont really matter\n",
    "adding \n",
    "adding features and then labeling. after that we should figure out how to onboard them\n",
    "after adding features, how do we show the valle of the predictive task?\n",
    "if we deal with lagged return and predict into the future\n",
    "they had original retruns, momentum returns, and a combination of both where you show a bit \n",
    "\n",
    "we need to caculate he value f the portfolio at he time and the nuse that to take the signals we get and show how that would affect potential returns\n"
   ]
  },
  {
   "cell_type": "code",
   "execution_count": 160,
   "metadata": {},
   "outputs": [
    {
     "data": {
      "text/html": [
       "<div>\n",
       "<style scoped>\n",
       "    .dataframe tbody tr th:only-of-type {\n",
       "        vertical-align: middle;\n",
       "    }\n",
       "\n",
       "    .dataframe tbody tr th {\n",
       "        vertical-align: top;\n",
       "    }\n",
       "\n",
       "    .dataframe thead th {\n",
       "        text-align: right;\n",
       "    }\n",
       "</style>\n",
       "<table border=\"1\" class=\"dataframe\">\n",
       "  <thead>\n",
       "    <tr style=\"text-align: right;\">\n",
       "      <th></th>\n",
       "      <th>pct_change</th>\n",
       "    </tr>\n",
       "    <tr>\n",
       "      <th>date</th>\n",
       "      <th></th>\n",
       "    </tr>\n",
       "  </thead>\n",
       "  <tbody>\n",
       "    <tr>\n",
       "      <th>2010-02-01</th>\n",
       "      <td>NaN</td>\n",
       "    </tr>\n",
       "    <tr>\n",
       "      <th>2010-03-01</th>\n",
       "      <td>0.122314</td>\n",
       "    </tr>\n",
       "    <tr>\n",
       "      <th>2010-04-01</th>\n",
       "      <td>0.108467</td>\n",
       "    </tr>\n",
       "    <tr>\n",
       "      <th>2010-05-01</th>\n",
       "      <td>-0.021211</td>\n",
       "    </tr>\n",
       "    <tr>\n",
       "      <th>2010-06-01</th>\n",
       "      <td>-0.045978</td>\n",
       "    </tr>\n",
       "    <tr>\n",
       "      <th>...</th>\n",
       "      <td>...</td>\n",
       "    </tr>\n",
       "    <tr>\n",
       "      <th>2020-12-01</th>\n",
       "      <td>0.064457</td>\n",
       "    </tr>\n",
       "    <tr>\n",
       "      <th>2021-01-01</th>\n",
       "      <td>0.005608</td>\n",
       "    </tr>\n",
       "    <tr>\n",
       "      <th>2021-02-01</th>\n",
       "      <td>0.087967</td>\n",
       "    </tr>\n",
       "    <tr>\n",
       "      <th>2021-03-01</th>\n",
       "      <td>0.005249</td>\n",
       "    </tr>\n",
       "    <tr>\n",
       "      <th>2021-03-05</th>\n",
       "      <td>0.000217</td>\n",
       "    </tr>\n",
       "  </tbody>\n",
       "</table>\n",
       "<p>135 rows × 1 columns</p>\n",
       "</div>"
      ],
      "text/plain": [
       "            pct_change\n",
       "date                  \n",
       "2010-02-01         NaN\n",
       "2010-03-01    0.122314\n",
       "2010-04-01    0.108467\n",
       "2010-05-01   -0.021211\n",
       "2010-06-01   -0.045978\n",
       "...                ...\n",
       "2020-12-01    0.064457\n",
       "2021-01-01    0.005608\n",
       "2021-02-01    0.087967\n",
       "2021-03-01    0.005249\n",
       "2021-03-05    0.000217\n",
       "\n",
       "[135 rows x 1 columns]"
      ]
     },
     "execution_count": 160,
     "metadata": {},
     "output_type": "execute_result"
    }
   ],
   "source": [
    "te\n",
    "# dpf.apply(lambda x: get_portfolio_data(x.mom)[x.date])[0]"
   ]
  },
  {
   "cell_type": "code",
   "execution_count": null,
   "metadata": {},
   "outputs": [],
   "source": [
    "dpf['mom'].apply()"
   ]
  },
  {
   "cell_type": "code",
   "execution_count": 1,
   "metadata": {},
   "outputs": [
    {
     "output_type": "error",
     "ename": "NameError",
     "evalue": "name 'df' is not defined",
     "traceback": [
      "\u001b[1;31m---------------------------------------------------------------------------\u001b[0m",
      "\u001b[1;31mNameError\u001b[0m                                 Traceback (most recent call last)",
      "\u001b[1;32m<ipython-input-1-00cf07b74dcd>\u001b[0m in \u001b[0;36m<module>\u001b[1;34m\u001b[0m\n\u001b[1;32m----> 1\u001b[1;33m \u001b[0mdf\u001b[0m\u001b[1;33m\u001b[0m\u001b[1;33m\u001b[0m\u001b[0m\n\u001b[0m",
      "\u001b[1;31mNameError\u001b[0m: name 'df' is not defined"
     ]
    }
   ],
   "source": [
    "df"
   ]
  },
  {
   "cell_type": "code",
   "execution_count": null,
   "metadata": {},
   "outputs": [],
   "source": [
    "0.162"
   ]
  },
  {
   "cell_type": "code",
   "execution_count": null,
   "metadata": {},
   "outputs": [],
   "source": [
    "df['Date'] = pd.to_datetime(df['date'])\n",
    "dpf = df.merge(pf, how='right', left_on='date', right_on='k_end')\n",
    "dpf.head()"
   ]
  },
  {
   "cell_type": "code",
   "execution_count": null,
   "metadata": {},
   "outputs": [],
   "source": []
  },
  {
   "cell_type": "code",
   "execution_count": null,
   "metadata": {},
   "outputs": [],
   "source": [
    "technical analysis vs fundamental analysis. we will only be technical analysis mainly."
   ]
  },
  {
   "cell_type": "markdown",
   "metadata": {},
   "source": [
    "what are the indicators? they are operating off of ohlc\n",
    "look at indicators \n",
    "pricing a portfolio\n",
    "apply indicators to portfolio...?\n",
    "we looked at portfolios and the selection process is picking those, but we are actually predicting performance of portfolios.\n",
    "portfolio performance from feb to may, winners go up 30\n",
    "sophistication comes with the predicitive task we are trying to use."
   ]
  },
  {
   "cell_type": "code",
   "execution_count": null,
   "metadata": {},
   "outputs": [],
   "source": [
    "timedf,j,k = generate_timetable(1,3)\n",
    "get_portfolio_performance()"
   ]
  },
  {
   "cell_type": "markdown",
   "metadata": {},
   "source": [
    "## ----prototyping below----"
   ]
  },
  {
   "cell_type": "code",
   "execution_count": null,
   "metadata": {},
   "outputs": [],
   "source": [
    "get_portfolios()"
   ]
  },
  {
   "cell_type": "code",
   "execution_count": null,
   "metadata": {},
   "outputs": [],
   "source": [
    "df = pdr.get_data_yahoo(\"^GSPC\", start=\"2010-01-01\", interval = \"1mo\")\n",
    "df.ta.cci(length=4,append=True)\n",
    "df.ta.kdj(length=4,append=True)\n",
    "df.ta.rsi(length=4,append=True)\n",
    "df.ta.bop(length=4,append=True)\n",
    "df.ta.willr(length=4,append=True)\n",
    "df.ta.pdist(length=4,append=True)\n",
    "df.ta.kc(length=4,append=True)\n",
    "df.ta.adx(length=4,append=True)\n",
    "df.ta.qstick(length=4,append=True)\n",
    "df.ta.roc(length=4,append=True)\n",
    "df.ta.ao(length=4,append=True)\n",
    "df.ta.macd(fast=4,slow=8,append=True)\n",
    "df.ta.stdev(length=4,append=True)\n",
    "df.ta.pvol(append=True)\n",
    "df.ta.efi(append=True)\n",
    "df"
   ]
  },
  {
   "cell_type": "code",
   "execution_count": null,
   "metadata": {},
   "outputs": [],
   "source": [
    "df.isna().sum()"
   ]
  },
  {
   "cell_type": "code",
   "execution_count": null,
   "metadata": {},
   "outputs": [],
   "source": []
  },
  {
   "cell_type": "code",
   "execution_count": null,
   "metadata": {},
   "outputs": [],
   "source": [
    "hold = None\n",
    "not hold"
   ]
  },
  {
   "cell_type": "code",
   "execution_count": null,
   "metadata": {},
   "outputs": [],
   "source": [
    "# call the returns of all the winner tickers\n",
    "# ret = pdr.get_data_yahoo(tickers = winner_tickers.to_list(), start=\"2010-02-01\", interval = \"1mo\")['Adj Close'].pct_change()#.dropna()\n",
    "# ret.dot(weights)"
   ]
  },
  {
   "cell_type": "code",
   "execution_count": 379,
   "metadata": {},
   "outputs": [
    {
     "data": {
      "text/plain": [
       "date\n",
       "2010-02-01    0.000000\n",
       "2010-03-01    0.036022\n",
       "2010-04-01    0.001885\n",
       "2010-05-01   -0.099521\n",
       "2010-06-01   -0.092631\n",
       "2010-07-01    0.020081\n",
       "2010-08-01   -0.085368\n",
       "2010-09-01    0.090408\n",
       "2010-10-01    0.008168\n",
       "2010-11-01   -0.028242\n",
       "dtype: float64"
      ]
     },
     "execution_count": 379,
     "metadata": {},
     "output_type": "execute_result"
    }
   ],
   "source": [
    "loser_df0 = df0.loc[loser_tickers.to_list()]\n",
    "loser_df0 = loser_df0.pivot_table(index='date',columns='name')['pct_change'].fillna(0) # \n",
    "# winner_df0\n",
    "loser_df0.dot(weights) # gives us the percent change of the loser portfolio"
   ]
  },
  {
   "cell_type": "code",
   "execution_count": 380,
   "metadata": {},
   "outputs": [
    {
     "data": {
      "text/plain": [
       "date\n",
       "2010-02-01    0.000000\n",
       "2010-03-01    0.036022\n",
       "2010-04-01    0.037975\n",
       "2010-05-01   -0.065326\n",
       "2010-06-01   -0.151906\n",
       "2010-07-01   -0.134875\n",
       "2010-08-01   -0.208729\n",
       "2010-09-01   -0.137191\n",
       "2010-10-01   -0.130144\n",
       "2010-11-01   -0.154711\n",
       "dtype: float64"
      ]
     },
     "execution_count": 380,
     "metadata": {},
     "output_type": "execute_result"
    }
   ],
   "source": [
    "(loser_df0.dot(weights)+1).cumprod() - 1"
   ]
  },
  {
   "cell_type": "markdown",
   "metadata": {},
   "source": [
    "this is us selecting winners and losers based on j, and then "
   ]
  },
  {
   "cell_type": "markdown",
   "metadata": {},
   "source": [
    "df0 df0_hold\n",
    "df0\n",
    " winners and losers\n",
    " winnes are gonna wion\n",
    " losers are gonna losers\n",
    " 1\n",
    " -1\n",
    " will winners for a certain buy and hold not win?\n",
    " will losers not lose?\n",
    " we are trying to be correct about it\n",
    " lagged returns to make statistical observations about an actual positive or negative return?\n",
    " is the paper just a guide?"
   ]
  },
  {
   "cell_type": "markdown",
   "metadata": {},
   "source": [
    "paper used a single factor logisti regression model \n",
    "dependent variable was whether a momentum portfolio would actually be good.\n",
    "\n",
    "in the following time period, which is the best strategy to make?\n"
   ]
  },
  {
   "cell_type": "markdown",
   "metadata": {},
   "source": [
    "what portfolio? we have momentum and reversal. choose which one to make at certain times. \n",
    "buy and hold random stocks? is it making predictions on "
   ]
  },
  {
   "cell_type": "markdown",
   "metadata": {},
   "source": [
    "when you do simple buy and hold?\n",
    "in the first paper ,a no effect? if both are going down we just sell and wait.\n",
    "it would e super cool to see the evolution of the portfolios over the time period.\n",
    "its a machine learning problem because we are making decisions to maximize profitability and cutting down on drawdown.\n",
    "\n",
    "testing its performance on volatile market periods\n",
    "    2008, 2012, 2020\n",
    "its a strategy informed on a prediction task."
   ]
  },
  {
   "cell_type": "code",
   "execution_count": null,
   "metadata": {},
   "outputs": [],
   "source": []
  },
  {
   "cell_type": "code",
   "execution_count": null,
   "metadata": {},
   "outputs": [],
   "source": [
    "df0.groupby('Name')"
   ]
  },
  {
   "cell_type": "code",
   "execution_count": null,
   "metadata": {},
   "outputs": [],
   "source": []
  },
  {
   "cell_type": "code",
   "execution_count": null,
   "metadata": {},
   "outputs": [],
   "source": []
  },
  {
   "cell_type": "code",
   "execution_count": null,
   "metadata": {},
   "outputs": [],
   "source": []
  },
  {
   "cell_type": "markdown",
   "metadata": {},
   "source": [
    "stocks in ascending order, based on simple returns on the previous j quarters lagged returns\n",
    "j=4: calculate 1-4 quarter lagged returns\n",
    "for every k, go through all possible j's. j*k possibilities\n",
    "predict positive or negative based on returns."
   ]
  },
  {
   "cell_type": "code",
   "execution_count": 104,
   "metadata": {},
   "outputs": [],
   "source": [
    "# mapping j period, looking at the data at a certain j, cumulative product. worrying about positions since we have the times,\n",
    "# we would have needed percentage of change and calculate cumulative product and have that lagged return, that lagged return, we had lagged return from j so what is a loser exactly.\n",
    "# amir asks if the paper calcualtes the j lag return and then j = lag and then for that j, between the 500 we fidn the top n winners and n losers and then put them into respective groups\n",
    "# check out link amir sent\n",
    "# getting lagged values iteratively \n",
    "# we would just need to get j in this case so it would be over the period the trailing window size. we would have to worry about defining  what one step is.\n",
    "\n",
    "\n",
    "# TODO questions I would like to ask: for k holding period, do we just want to get the last value as a label, or pull all the data ahead?\n",
    "# how are we training, exactly? our current abstraction is kind of getting k and calculating their features at once... are we looking at patterns in the different groups?\n",
    "\n"
   ]
  },
  {
   "cell_type": "code",
   "execution_count": null,
   "metadata": {},
   "outputs": [],
   "source": []
  },
  {
   "cell_type": "code",
   "execution_count": 117,
   "metadata": {},
   "outputs": [
    {
     "data": {
      "text/html": [
       "<div>\n",
       "<style scoped>\n",
       "    .dataframe tbody tr th:only-of-type {\n",
       "        vertical-align: middle;\n",
       "    }\n",
       "\n",
       "    .dataframe tbody tr th {\n",
       "        vertical-align: top;\n",
       "    }\n",
       "\n",
       "    .dataframe thead th {\n",
       "        text-align: right;\n",
       "    }\n",
       "</style>\n",
       "<table border=\"1\" class=\"dataframe\">\n",
       "  <thead>\n",
       "    <tr style=\"text-align: right;\">\n",
       "      <th></th>\n",
       "      <th>date</th>\n",
       "      <th>open</th>\n",
       "      <th>high</th>\n",
       "      <th>low</th>\n",
       "      <th>close</th>\n",
       "      <th>adj_close</th>\n",
       "      <th>volume</th>\n",
       "    </tr>\n",
       "    <tr>\n",
       "      <th>Name</th>\n",
       "      <th></th>\n",
       "      <th></th>\n",
       "      <th></th>\n",
       "      <th></th>\n",
       "      <th></th>\n",
       "      <th></th>\n",
       "      <th></th>\n",
       "    </tr>\n",
       "  </thead>\n",
       "  <tbody>\n",
       "    <tr>\n",
       "      <th>AAPL</th>\n",
       "      <td>2010-02-01</td>\n",
       "      <td>6.870357</td>\n",
       "      <td>7.327500</td>\n",
       "      <td>6.816071</td>\n",
       "      <td>7.307857</td>\n",
       "      <td>6.294721</td>\n",
       "      <td>1.077608e+10</td>\n",
       "    </tr>\n",
       "    <tr>\n",
       "      <th>AAPL</th>\n",
       "      <td>2010-03-01</td>\n",
       "      <td>7.348214</td>\n",
       "      <td>8.481429</td>\n",
       "      <td>7.337500</td>\n",
       "      <td>8.392857</td>\n",
       "      <td>7.229299</td>\n",
       "      <td>1.215417e+10</td>\n",
       "    </tr>\n",
       "    <tr>\n",
       "      <th>AAPL</th>\n",
       "      <td>2010-04-01</td>\n",
       "      <td>8.478929</td>\n",
       "      <td>9.730714</td>\n",
       "      <td>8.312500</td>\n",
       "      <td>9.324643</td>\n",
       "      <td>8.031907</td>\n",
       "      <td>1.236713e+10</td>\n",
       "    </tr>\n",
       "    <tr>\n",
       "      <th>AAPL</th>\n",
       "      <td>2010-05-01</td>\n",
       "      <td>9.422857</td>\n",
       "      <td>9.567143</td>\n",
       "      <td>7.116071</td>\n",
       "      <td>9.174286</td>\n",
       "      <td>7.902396</td>\n",
       "      <td>1.808265e+10</td>\n",
       "    </tr>\n",
       "    <tr>\n",
       "      <th>AAPL</th>\n",
       "      <td>2010-06-01</td>\n",
       "      <td>9.274643</td>\n",
       "      <td>9.964643</td>\n",
       "      <td>8.650000</td>\n",
       "      <td>8.983214</td>\n",
       "      <td>7.737815</td>\n",
       "      <td>1.665125e+10</td>\n",
       "    </tr>\n",
       "  </tbody>\n",
       "</table>\n",
       "</div>"
      ],
      "text/plain": [
       "           date      open      high       low     close  adj_close  \\\n",
       "Name                                                                 \n",
       "AAPL 2010-02-01  6.870357  7.327500  6.816071  7.307857   6.294721   \n",
       "AAPL 2010-03-01  7.348214  8.481429  7.337500  8.392857   7.229299   \n",
       "AAPL 2010-04-01  8.478929  9.730714  8.312500  9.324643   8.031907   \n",
       "AAPL 2010-05-01  9.422857  9.567143  7.116071  9.174286   7.902396   \n",
       "AAPL 2010-06-01  9.274643  9.964643  8.650000  8.983214   7.737815   \n",
       "\n",
       "            volume  \n",
       "Name                \n",
       "AAPL  1.077608e+10  \n",
       "AAPL  1.215417e+10  \n",
       "AAPL  1.236713e+10  \n",
       "AAPL  1.808265e+10  \n",
       "AAPL  1.665125e+10  "
      ]
     },
     "execution_count": 117,
     "metadata": {},
     "output_type": "execute_result"
    }
   ],
   "source": [
    "aapl = imputed_aapl # take a look at apple again, this time with no nulls (dont know how to deal with them help)\n",
    "aapl.dropna().head()"
   ]
  },
  {
   "cell_type": "code",
   "execution_count": 484,
   "metadata": {},
   "outputs": [],
   "source": [
    "# from sklearn.impute import KNNImputer\n",
    "\n",
    "# def effect(x):\n",
    "#     if( x < 0.0 ):\n",
    "#         return \"Reversal\"\n",
    "#     elif(x > 0.0):\n",
    "#         return \"Momentum\"\n",
    "#     else:\n",
    "#         return \"None\"\n",
    "    \n",
    "\n",
    "\n",
    "# ## shamelessly stolen code, still trying to comprehend what wizardry is going on in here\n",
    "# dfs = []\n",
    "# k = 4\n",
    "# # imputer = KNNImputer(n_neighbors = 2)\n",
    "# for ticker in tickers[:10]:\n",
    "#     print('Grabbing ' + ticker + \" data!\")\n",
    "#     curr_df = pdr.get_data_yahoo(ticker, start=\"2009-12-01\", interval = \"1mo\")\n",
    "#     if(curr_df.empty):\n",
    "#         print('Failed to get ' + ticker + ' stock data!')\n",
    "#         continue\n",
    "    \n",
    "#     #imputed_df = imputer.fit_transform(curr_df)\n",
    "#     #imputed_df = pd.DataFrame(imputed_df,columns=['Open','High','Low','Close','Adj Close','Volume'])\n",
    "#     #imputed_df = imputed_df.set_index(curr_df.index)\n",
    "    \n",
    "    \n",
    "#     curr_df = curr_df.dropna()\n",
    "#     #imputed_df['Name'] = ticker\n",
    "#     curr_df['Name'] = ticker\n",
    "#     # curr_df = imputed_df\n",
    "#     print(curr_df.isna().sum())\n",
    "#     curr_df = curr_df.reset_index()\n",
    "#     curr_df.set_index(['Name','Date'],inplace=True)\n",
    "#     curr_df = curr_df[~curr_df.index.duplicated(keep='first')]\n",
    "#     obs_df = (curr_df.reset_index(level=[0])\n",
    "#               ['Adj Close'].resample(str(k) + 'M').first().ffill().pct_change()[1:]).to_frame()\n",
    "#     obs_df.rename(columns={'Adj Close':'Adj Close %Change'},inplace=True)\n",
    "#     obs_df['Name'] = ticker\n",
    "#     obs_df = obs_df.reset_index()\n",
    "#     obs_df.set_index(['Name','Date'],inplace=True)\n",
    "#     obs_df['Cum Returns'] = (obs_df['Adj Close %Change'] + 1).groupby('Name').cumprod()\n",
    "#     obs_df['Effect'] = obs_df['Adj Close %Change'].apply(effect)\n",
    "#     dfs.append(obs_df)\n",
    "#     curr_df = None\n",
    "#     obs_df = None"
   ]
  },
  {
   "cell_type": "code",
   "execution_count": 119,
   "metadata": {},
   "outputs": [
    {
     "data": {
      "text/plain": [
       "<AxesSubplot:>"
      ]
     },
     "execution_count": 119,
     "metadata": {},
     "output_type": "execute_result"
    },
    {
     "data": {
      "image/png": "[encoded data removed]",
      "image/svg+xml": [
       "<?xml version=\"1.0\" encoding=\"utf-8\" standalone=\"no\"?>\r\n",
       "<!DOCTYPE svg PUBLIC \"-//W3C//DTD SVG 1.1//EN\"\r\n",
       "  \"http://www.w3.org/Graphics/SVG/1.1/DTD/svg11.dtd\">\r\n",
       "<!-- Created with matplotlib (https://matplotlib.org/) -->\r\n",
       "<svg height=\"299.615781pt\" version=\"1.1\" viewBox=\"0 0 368.925 299.615781\" width=\"368.925pt\" xmlns=\"http://www.w3.org/2000/svg\" xmlns:xlink=\"http://www.w3.org/1999/xlink\">\r\n",
       " <metadata>\r\n",
       "  <rdf:RDF xmlns:cc=\"http://creativecommons.org/ns#\" xmlns:dc=\"http://purl.org/dc/elements/1.1/\" xmlns:rdf=\"http://www.w3.org/1999/02/22-rdf-syntax-ns#\">\r\n",
       "   <cc:Work>\r\n",
       "    <dc:type rdf:resource=\"http://purl.org/dc/dcmitype/StillImage\"/>\r\n",
       "    <dc:date>2021-03-05T12:28:05.069288</dc:date>\r\n",
       "    <dc:format>image/svg+xml</dc:format>\r\n",
       "    <dc:creator>\r\n",
       "     <cc:Agent>\r\n",
       "      <dc:title>Matplotlib v3.3.3, https://matplotlib.org/</dc:title>\r\n",
       "     </cc:Agent>\r\n",
       "    </dc:creator>\r\n",
       "   </cc:Work>\r\n",
       "  </rdf:RDF>\r\n",
       " </metadata>\r\n",
       " <defs>\r\n",
       "  <style type=\"text/css\">*{stroke-linecap:butt;stroke-linejoin:round;}</style>\r\n",
       " </defs>\r\n",
       " <g id=\"figure_1\">\r\n",
       "  <g id=\"patch_1\">\r\n",
       "   <path d=\"M -0 299.615781 \r\n",
       "L 368.925 299.615781 \r\n",
       "L 368.925 0 \r\n",
       "L -0 0 \r\n",
       "z\r\n",
       "\" style=\"fill:none;\"/>\r\n",
       "  </g>\r\n",
       "  <g id=\"axes_1\">\r\n",
       "   <g id=\"patch_2\">\r\n",
       "    <path d=\"M 26.925 228.439219 \r\n",
       "L 361.725 228.439219 \r\n",
       "L 361.725 10.999219 \r\n",
       "L 26.925 10.999219 \r\n",
       "z\r\n",
       "\" style=\"fill:#ffffff;\"/>\r\n",
       "   </g>\r\n",
       "   <g id=\"patch_3\">\r\n",
       "    <path clip-path=\"url(#p6a0ee5a08d)\" d=\"M 68.775 228.439219 \r\n",
       "L 152.475 228.439219 \r\n",
       "L 152.475 47.239219 \r\n",
       "L 68.775 47.239219 \r\n",
       "z\r\n",
       "\" style=\"fill:#1f77b4;\"/>\r\n",
       "   </g>\r\n",
       "   <g id=\"patch_4\">\r\n",
       "    <path clip-path=\"url(#p6a0ee5a08d)\" d=\"M 236.175 228.439219 \r\n",
       "L 319.875 228.439219 \r\n",
       "L 319.875 101.599219 \r\n",
       "L 236.175 101.599219 \r\n",
       "z\r\n",
       "\" style=\"fill:#1f77b4;\"/>\r\n",
       "   </g>\r\n",
       "   <g id=\"matplotlib.axis_1\">\r\n",
       "    <g id=\"xtick_1\">\r\n",
       "     <g id=\"line2d_1\">\r\n",
       "      <defs>\r\n",
       "       <path d=\"M 0 0 \r\n",
       "L 0 3.5 \r\n",
       "\" id=\"m64c91fcbf6\" style=\"stroke:#000000;stroke-width:0.8;\"/>\r\n",
       "      </defs>\r\n",
       "      <g>\r\n",
       "       <use style=\"stroke:#000000;stroke-width:0.8;\" x=\"110.625\" xlink:href=\"#m64c91fcbf6\" y=\"228.439219\"/>\r\n",
       "      </g>\r\n",
       "     </g>\r\n",
       "     <g id=\"text_1\">\r\n",
       "      <!-- Momentum -->\r\n",
       "      <g transform=\"translate(113.384375 292.415781)rotate(-90)scale(0.1 -0.1)\">\r\n",
       "       <defs>\r\n",
       "        <path d=\"M 9.8125 72.90625 \r\n",
       "L 24.515625 72.90625 \r\n",
       "L 43.109375 23.296875 \r\n",
       "L 61.8125 72.90625 \r\n",
       "L 76.515625 72.90625 \r\n",
       "L 76.515625 0 \r\n",
       "L 66.890625 0 \r\n",
       "L 66.890625 64.015625 \r\n",
       "L 48.09375 14.015625 \r\n",
       "L 38.1875 14.015625 \r\n",
       "L 19.390625 64.015625 \r\n",
       "L 19.390625 0 \r\n",
       "L 9.8125 0 \r\n",
       "z\r\n",
       "\" id=\"DejaVuSans-77\"/>\r\n",
       "        <path d=\"M 30.609375 48.390625 \r\n",
       "Q 23.390625 48.390625 19.1875 42.75 \r\n",
       "Q 14.984375 37.109375 14.984375 27.296875 \r\n",
       "Q 14.984375 17.484375 19.15625 11.84375 \r\n",
       "Q 23.34375 6.203125 30.609375 6.203125 \r\n",
       "Q 37.796875 6.203125 41.984375 11.859375 \r\n",
       "Q 46.1875 17.53125 46.1875 27.296875 \r\n",
       "Q 46.1875 37.015625 41.984375 42.703125 \r\n",
       "Q 37.796875 48.390625 30.609375 48.390625 \r\n",
       "z\r\n",
       "M 30.609375 56 \r\n",
       "Q 42.328125 56 49.015625 48.375 \r\n",
       "Q 55.71875 40.765625 55.71875 27.296875 \r\n",
       "Q 55.71875 13.875 49.015625 6.21875 \r\n",
       "Q 42.328125 -1.421875 30.609375 -1.421875 \r\n",
       "Q 18.84375 -1.421875 12.171875 6.21875 \r\n",
       "Q 5.515625 13.875 5.515625 27.296875 \r\n",
       "Q 5.515625 40.765625 12.171875 48.375 \r\n",
       "Q 18.84375 56 30.609375 56 \r\n",
       "z\r\n",
       "\" id=\"DejaVuSans-111\"/>\r\n",
       "        <path d=\"M 52 44.1875 \r\n",
       "Q 55.375 50.25 60.0625 53.125 \r\n",
       "Q 64.75 56 71.09375 56 \r\n",
       "Q 79.640625 56 84.28125 50.015625 \r\n",
       "Q 88.921875 44.046875 88.921875 33.015625 \r\n",
       "L 88.921875 0 \r\n",
       "L 79.890625 0 \r\n",
       "L 79.890625 32.71875 \r\n",
       "Q 79.890625 40.578125 77.09375 44.375 \r\n",
       "Q 74.3125 48.1875 68.609375 48.1875 \r\n",
       "Q 61.625 48.1875 57.5625 43.546875 \r\n",
       "Q 53.515625 38.921875 53.515625 30.90625 \r\n",
       "L 53.515625 0 \r\n",
       "L 44.484375 0 \r\n",
       "L 44.484375 32.71875 \r\n",
       "Q 44.484375 40.625 41.703125 44.40625 \r\n",
       "Q 38.921875 48.1875 33.109375 48.1875 \r\n",
       "Q 26.21875 48.1875 22.15625 43.53125 \r\n",
       "Q 18.109375 38.875 18.109375 30.90625 \r\n",
       "L 18.109375 0 \r\n",
       "L 9.078125 0 \r\n",
       "L 9.078125 54.6875 \r\n",
       "L 18.109375 54.6875 \r\n",
       "L 18.109375 46.1875 \r\n",
       "Q 21.1875 51.21875 25.484375 53.609375 \r\n",
       "Q 29.78125 56 35.6875 56 \r\n",
       "Q 41.65625 56 45.828125 52.96875 \r\n",
       "Q 50 49.953125 52 44.1875 \r\n",
       "z\r\n",
       "\" id=\"DejaVuSans-109\"/>\r\n",
       "        <path d=\"M 56.203125 29.59375 \r\n",
       "L 56.203125 25.203125 \r\n",
       "L 14.890625 25.203125 \r\n",
       "Q 15.484375 15.921875 20.484375 11.0625 \r\n",
       "Q 25.484375 6.203125 34.421875 6.203125 \r\n",
       "Q 39.59375 6.203125 44.453125 7.46875 \r\n",
       "Q 49.3125 8.734375 54.109375 11.28125 \r\n",
       "L 54.109375 2.78125 \r\n",
       "Q 49.265625 0.734375 44.1875 -0.34375 \r\n",
       "Q 39.109375 -1.421875 33.890625 -1.421875 \r\n",
       "Q 20.796875 -1.421875 13.15625 6.1875 \r\n",
       "Q 5.515625 13.8125 5.515625 26.8125 \r\n",
       "Q 5.515625 40.234375 12.765625 48.109375 \r\n",
       "Q 20.015625 56 32.328125 56 \r\n",
       "Q 43.359375 56 49.78125 48.890625 \r\n",
       "Q 56.203125 41.796875 56.203125 29.59375 \r\n",
       "z\r\n",
       "M 47.21875 32.234375 \r\n",
       "Q 47.125 39.59375 43.09375 43.984375 \r\n",
       "Q 39.0625 48.390625 32.421875 48.390625 \r\n",
       "Q 24.90625 48.390625 20.390625 44.140625 \r\n",
       "Q 15.875 39.890625 15.1875 32.171875 \r\n",
       "z\r\n",
       "\" id=\"DejaVuSans-101\"/>\r\n",
       "        <path d=\"M 54.890625 33.015625 \r\n",
       "L 54.890625 0 \r\n",
       "L 45.90625 0 \r\n",
       "L 45.90625 32.71875 \r\n",
       "Q 45.90625 40.484375 42.875 44.328125 \r\n",
       "Q 39.84375 48.1875 33.796875 48.1875 \r\n",
       "Q 26.515625 48.1875 22.3125 43.546875 \r\n",
       "Q 18.109375 38.921875 18.109375 30.90625 \r\n",
       "L 18.109375 0 \r\n",
       "L 9.078125 0 \r\n",
       "L 9.078125 54.6875 \r\n",
       "L 18.109375 54.6875 \r\n",
       "L 18.109375 46.1875 \r\n",
       "Q 21.34375 51.125 25.703125 53.5625 \r\n",
       "Q 30.078125 56 35.796875 56 \r\n",
       "Q 45.21875 56 50.046875 50.171875 \r\n",
       "Q 54.890625 44.34375 54.890625 33.015625 \r\n",
       "z\r\n",
       "\" id=\"DejaVuSans-110\"/>\r\n",
       "        <path d=\"M 18.3125 70.21875 \r\n",
       "L 18.3125 54.6875 \r\n",
       "L 36.8125 54.6875 \r\n",
       "L 36.8125 47.703125 \r\n",
       "L 18.3125 47.703125 \r\n",
       "L 18.3125 18.015625 \r\n",
       "Q 18.3125 11.328125 20.140625 9.421875 \r\n",
       "Q 21.96875 7.515625 27.59375 7.515625 \r\n",
       "L 36.8125 7.515625 \r\n",
       "L 36.8125 0 \r\n",
       "L 27.59375 0 \r\n",
       "Q 17.1875 0 13.234375 3.875 \r\n",
       "Q 9.28125 7.765625 9.28125 18.015625 \r\n",
       "L 9.28125 47.703125 \r\n",
       "L 2.6875 47.703125 \r\n",
       "L 2.6875 54.6875 \r\n",
       "L 9.28125 54.6875 \r\n",
       "L 9.28125 70.21875 \r\n",
       "z\r\n",
       "\" id=\"DejaVuSans-116\"/>\r\n",
       "        <path d=\"M 8.5 21.578125 \r\n",
       "L 8.5 54.6875 \r\n",
       "L 17.484375 54.6875 \r\n",
       "L 17.484375 21.921875 \r\n",
       "Q 17.484375 14.15625 20.5 10.265625 \r\n",
       "Q 23.53125 6.390625 29.59375 6.390625 \r\n",
       "Q 36.859375 6.390625 41.078125 11.03125 \r\n",
       "Q 45.3125 15.671875 45.3125 23.6875 \r\n",
       "L 45.3125 54.6875 \r\n",
       "L 54.296875 54.6875 \r\n",
       "L 54.296875 0 \r\n",
       "L 45.3125 0 \r\n",
       "L 45.3125 8.40625 \r\n",
       "Q 42.046875 3.421875 37.71875 1 \r\n",
       "Q 33.40625 -1.421875 27.6875 -1.421875 \r\n",
       "Q 18.265625 -1.421875 13.375 4.4375 \r\n",
       "Q 8.5 10.296875 8.5 21.578125 \r\n",
       "z\r\n",
       "M 31.109375 56 \r\n",
       "z\r\n",
       "\" id=\"DejaVuSans-117\"/>\r\n",
       "       </defs>\r\n",
       "       <use xlink:href=\"#DejaVuSans-77\"/>\r\n",
       "       <use x=\"86.279297\" xlink:href=\"#DejaVuSans-111\"/>\r\n",
       "       <use x=\"147.460938\" xlink:href=\"#DejaVuSans-109\"/>\r\n",
       "       <use x=\"244.873047\" xlink:href=\"#DejaVuSans-101\"/>\r\n",
       "       <use x=\"306.396484\" xlink:href=\"#DejaVuSans-110\"/>\r\n",
       "       <use x=\"369.775391\" xlink:href=\"#DejaVuSans-116\"/>\r\n",
       "       <use x=\"408.984375\" xlink:href=\"#DejaVuSans-117\"/>\r\n",
       "       <use x=\"472.363281\" xlink:href=\"#DejaVuSans-109\"/>\r\n",
       "      </g>\r\n",
       "     </g>\r\n",
       "    </g>\r\n",
       "    <g id=\"xtick_2\">\r\n",
       "     <g id=\"line2d_2\">\r\n",
       "      <g>\r\n",
       "       <use style=\"stroke:#000000;stroke-width:0.8;\" x=\"278.025\" xlink:href=\"#m64c91fcbf6\" y=\"228.439219\"/>\r\n",
       "      </g>\r\n",
       "     </g>\r\n",
       "     <g id=\"text_2\">\r\n",
       "      <!-- Reversal -->\r\n",
       "      <g transform=\"translate(280.784375 278.389219)rotate(-90)scale(0.1 -0.1)\">\r\n",
       "       <defs>\r\n",
       "        <path d=\"M 44.390625 34.1875 \r\n",
       "Q 47.5625 33.109375 50.5625 29.59375 \r\n",
       "Q 53.5625 26.078125 56.59375 19.921875 \r\n",
       "L 66.609375 0 \r\n",
       "L 56 0 \r\n",
       "L 46.6875 18.703125 \r\n",
       "Q 43.0625 26.03125 39.671875 28.421875 \r\n",
       "Q 36.28125 30.8125 30.421875 30.8125 \r\n",
       "L 19.671875 30.8125 \r\n",
       "L 19.671875 0 \r\n",
       "L 9.8125 0 \r\n",
       "L 9.8125 72.90625 \r\n",
       "L 32.078125 72.90625 \r\n",
       "Q 44.578125 72.90625 50.734375 67.671875 \r\n",
       "Q 56.890625 62.453125 56.890625 51.90625 \r\n",
       "Q 56.890625 45.015625 53.6875 40.46875 \r\n",
       "Q 50.484375 35.9375 44.390625 34.1875 \r\n",
       "z\r\n",
       "M 19.671875 64.796875 \r\n",
       "L 19.671875 38.921875 \r\n",
       "L 32.078125 38.921875 \r\n",
       "Q 39.203125 38.921875 42.84375 42.21875 \r\n",
       "Q 46.484375 45.515625 46.484375 51.90625 \r\n",
       "Q 46.484375 58.296875 42.84375 61.546875 \r\n",
       "Q 39.203125 64.796875 32.078125 64.796875 \r\n",
       "z\r\n",
       "\" id=\"DejaVuSans-82\"/>\r\n",
       "        <path d=\"M 2.984375 54.6875 \r\n",
       "L 12.5 54.6875 \r\n",
       "L 29.59375 8.796875 \r\n",
       "L 46.6875 54.6875 \r\n",
       "L 56.203125 54.6875 \r\n",
       "L 35.6875 0 \r\n",
       "L 23.484375 0 \r\n",
       "z\r\n",
       "\" id=\"DejaVuSans-118\"/>\r\n",
       "        <path d=\"M 41.109375 46.296875 \r\n",
       "Q 39.59375 47.171875 37.8125 47.578125 \r\n",
       "Q 36.03125 48 33.890625 48 \r\n",
       "Q 26.265625 48 22.1875 43.046875 \r\n",
       "Q 18.109375 38.09375 18.109375 28.8125 \r\n",
       "L 18.109375 0 \r\n",
       "L 9.078125 0 \r\n",
       "L 9.078125 54.6875 \r\n",
       "L 18.109375 54.6875 \r\n",
       "L 18.109375 46.1875 \r\n",
       "Q 20.953125 51.171875 25.484375 53.578125 \r\n",
       "Q 30.03125 56 36.53125 56 \r\n",
       "Q 37.453125 56 38.578125 55.875 \r\n",
       "Q 39.703125 55.765625 41.0625 55.515625 \r\n",
       "z\r\n",
       "\" id=\"DejaVuSans-114\"/>\r\n",
       "        <path d=\"M 44.28125 53.078125 \r\n",
       "L 44.28125 44.578125 \r\n",
       "Q 40.484375 46.53125 36.375 47.5 \r\n",
       "Q 32.28125 48.484375 27.875 48.484375 \r\n",
       "Q 21.1875 48.484375 17.84375 46.4375 \r\n",
       "Q 14.5 44.390625 14.5 40.28125 \r\n",
       "Q 14.5 37.15625 16.890625 35.375 \r\n",
       "Q 19.28125 33.59375 26.515625 31.984375 \r\n",
       "L 29.59375 31.296875 \r\n",
       "Q 39.15625 29.25 43.1875 25.515625 \r\n",
       "Q 47.21875 21.78125 47.21875 15.09375 \r\n",
       "Q 47.21875 7.46875 41.1875 3.015625 \r\n",
       "Q 35.15625 -1.421875 24.609375 -1.421875 \r\n",
       "Q 20.21875 -1.421875 15.453125 -0.5625 \r\n",
       "Q 10.6875 0.296875 5.421875 2 \r\n",
       "L 5.421875 11.28125 \r\n",
       "Q 10.40625 8.6875 15.234375 7.390625 \r\n",
       "Q 20.0625 6.109375 24.8125 6.109375 \r\n",
       "Q 31.15625 6.109375 34.5625 8.28125 \r\n",
       "Q 37.984375 10.453125 37.984375 14.40625 \r\n",
       "Q 37.984375 18.0625 35.515625 20.015625 \r\n",
       "Q 33.0625 21.96875 24.703125 23.78125 \r\n",
       "L 21.578125 24.515625 \r\n",
       "Q 13.234375 26.265625 9.515625 29.90625 \r\n",
       "Q 5.8125 33.546875 5.8125 39.890625 \r\n",
       "Q 5.8125 47.609375 11.28125 51.796875 \r\n",
       "Q 16.75 56 26.8125 56 \r\n",
       "Q 31.78125 56 36.171875 55.265625 \r\n",
       "Q 40.578125 54.546875 44.28125 53.078125 \r\n",
       "z\r\n",
       "\" id=\"DejaVuSans-115\"/>\r\n",
       "        <path d=\"M 34.28125 27.484375 \r\n",
       "Q 23.390625 27.484375 19.1875 25 \r\n",
       "Q 14.984375 22.515625 14.984375 16.5 \r\n",
       "Q 14.984375 11.71875 18.140625 8.90625 \r\n",
       "Q 21.296875 6.109375 26.703125 6.109375 \r\n",
       "Q 34.1875 6.109375 38.703125 11.40625 \r\n",
       "Q 43.21875 16.703125 43.21875 25.484375 \r\n",
       "L 43.21875 27.484375 \r\n",
       "z\r\n",
       "M 52.203125 31.203125 \r\n",
       "L 52.203125 0 \r\n",
       "L 43.21875 0 \r\n",
       "L 43.21875 8.296875 \r\n",
       "Q 40.140625 3.328125 35.546875 0.953125 \r\n",
       "Q 30.953125 -1.421875 24.3125 -1.421875 \r\n",
       "Q 15.921875 -1.421875 10.953125 3.296875 \r\n",
       "Q 6 8.015625 6 15.921875 \r\n",
       "Q 6 25.140625 12.171875 29.828125 \r\n",
       "Q 18.359375 34.515625 30.609375 34.515625 \r\n",
       "L 43.21875 34.515625 \r\n",
       "L 43.21875 35.40625 \r\n",
       "Q 43.21875 41.609375 39.140625 45 \r\n",
       "Q 35.0625 48.390625 27.6875 48.390625 \r\n",
       "Q 23 48.390625 18.546875 47.265625 \r\n",
       "Q 14.109375 46.140625 10.015625 43.890625 \r\n",
       "L 10.015625 52.203125 \r\n",
       "Q 14.9375 54.109375 19.578125 55.046875 \r\n",
       "Q 24.21875 56 28.609375 56 \r\n",
       "Q 40.484375 56 46.34375 49.84375 \r\n",
       "Q 52.203125 43.703125 52.203125 31.203125 \r\n",
       "z\r\n",
       "\" id=\"DejaVuSans-97\"/>\r\n",
       "        <path d=\"M 9.421875 75.984375 \r\n",
       "L 18.40625 75.984375 \r\n",
       "L 18.40625 0 \r\n",
       "L 9.421875 0 \r\n",
       "z\r\n",
       "\" id=\"DejaVuSans-108\"/>\r\n",
       "       </defs>\r\n",
       "       <use xlink:href=\"#DejaVuSans-82\"/>\r\n",
       "       <use x=\"64.982422\" xlink:href=\"#DejaVuSans-101\"/>\r\n",
       "       <use x=\"126.505859\" xlink:href=\"#DejaVuSans-118\"/>\r\n",
       "       <use x=\"185.685547\" xlink:href=\"#DejaVuSans-101\"/>\r\n",
       "       <use x=\"247.208984\" xlink:href=\"#DejaVuSans-114\"/>\r\n",
       "       <use x=\"288.322266\" xlink:href=\"#DejaVuSans-115\"/>\r\n",
       "       <use x=\"340.421875\" xlink:href=\"#DejaVuSans-97\"/>\r\n",
       "       <use x=\"401.701172\" xlink:href=\"#DejaVuSans-108\"/>\r\n",
       "      </g>\r\n",
       "     </g>\r\n",
       "    </g>\r\n",
       "   </g>\r\n",
       "   <g id=\"matplotlib.axis_2\">\r\n",
       "    <g id=\"ytick_1\">\r\n",
       "     <g id=\"line2d_3\">\r\n",
       "      <defs>\r\n",
       "       <path d=\"M 0 0 \r\n",
       "L -3.5 0 \r\n",
       "\" id=\"mb8b59a4877\" style=\"stroke:#000000;stroke-width:0.8;\"/>\r\n",
       "      </defs>\r\n",
       "      <g>\r\n",
       "       <use style=\"stroke:#000000;stroke-width:0.8;\" x=\"26.925\" xlink:href=\"#mb8b59a4877\" y=\"228.439219\"/>\r\n",
       "      </g>\r\n",
       "     </g>\r\n",
       "     <g id=\"text_3\">\r\n",
       "      <!-- 0 -->\r\n",
       "      <g transform=\"translate(13.5625 232.238437)scale(0.1 -0.1)\">\r\n",
       "       <defs>\r\n",
       "        <path d=\"M 31.78125 66.40625 \r\n",
       "Q 24.171875 66.40625 20.328125 58.90625 \r\n",
       "Q 16.5 51.421875 16.5 36.375 \r\n",
       "Q 16.5 21.390625 20.328125 13.890625 \r\n",
       "Q 24.171875 6.390625 31.78125 6.390625 \r\n",
       "Q 39.453125 6.390625 43.28125 13.890625 \r\n",
       "Q 47.125 21.390625 47.125 36.375 \r\n",
       "Q 47.125 51.421875 43.28125 58.90625 \r\n",
       "Q 39.453125 66.40625 31.78125 66.40625 \r\n",
       "z\r\n",
       "M 31.78125 74.21875 \r\n",
       "Q 44.046875 74.21875 50.515625 64.515625 \r\n",
       "Q 56.984375 54.828125 56.984375 36.375 \r\n",
       "Q 56.984375 17.96875 50.515625 8.265625 \r\n",
       "Q 44.046875 -1.421875 31.78125 -1.421875 \r\n",
       "Q 19.53125 -1.421875 13.0625 8.265625 \r\n",
       "Q 6.59375 17.96875 6.59375 36.375 \r\n",
       "Q 6.59375 54.828125 13.0625 64.515625 \r\n",
       "Q 19.53125 74.21875 31.78125 74.21875 \r\n",
       "z\r\n",
       "\" id=\"DejaVuSans-48\"/>\r\n",
       "       </defs>\r\n",
       "       <use xlink:href=\"#DejaVuSans-48\"/>\r\n",
       "      </g>\r\n",
       "     </g>\r\n",
       "    </g>\r\n",
       "    <g id=\"ytick_2\">\r\n",
       "     <g id=\"line2d_4\">\r\n",
       "      <g>\r\n",
       "       <use style=\"stroke:#000000;stroke-width:0.8;\" x=\"26.925\" xlink:href=\"#mb8b59a4877\" y=\"210.319219\"/>\r\n",
       "      </g>\r\n",
       "     </g>\r\n",
       "     <g id=\"text_4\">\r\n",
       "      <!-- 2 -->\r\n",
       "      <g transform=\"translate(13.5625 214.118437)scale(0.1 -0.1)\">\r\n",
       "       <defs>\r\n",
       "        <path d=\"M 19.1875 8.296875 \r\n",
       "L 53.609375 8.296875 \r\n",
       "L 53.609375 0 \r\n",
       "L 7.328125 0 \r\n",
       "L 7.328125 8.296875 \r\n",
       "Q 12.9375 14.109375 22.625 23.890625 \r\n",
       "Q 32.328125 33.6875 34.8125 36.53125 \r\n",
       "Q 39.546875 41.84375 41.421875 45.53125 \r\n",
       "Q 43.3125 49.21875 43.3125 52.78125 \r\n",
       "Q 43.3125 58.59375 39.234375 62.25 \r\n",
       "Q 35.15625 65.921875 28.609375 65.921875 \r\n",
       "Q 23.96875 65.921875 18.8125 64.3125 \r\n",
       "Q 13.671875 62.703125 7.8125 59.421875 \r\n",
       "L 7.8125 69.390625 \r\n",
       "Q 13.765625 71.78125 18.9375 73 \r\n",
       "Q 24.125 74.21875 28.421875 74.21875 \r\n",
       "Q 39.75 74.21875 46.484375 68.546875 \r\n",
       "Q 53.21875 62.890625 53.21875 53.421875 \r\n",
       "Q 53.21875 48.921875 51.53125 44.890625 \r\n",
       "Q 49.859375 40.875 45.40625 35.40625 \r\n",
       "Q 44.1875 33.984375 37.640625 27.21875 \r\n",
       "Q 31.109375 20.453125 19.1875 8.296875 \r\n",
       "z\r\n",
       "\" id=\"DejaVuSans-50\"/>\r\n",
       "       </defs>\r\n",
       "       <use xlink:href=\"#DejaVuSans-50\"/>\r\n",
       "      </g>\r\n",
       "     </g>\r\n",
       "    </g>\r\n",
       "    <g id=\"ytick_3\">\r\n",
       "     <g id=\"line2d_5\">\r\n",
       "      <g>\r\n",
       "       <use style=\"stroke:#000000;stroke-width:0.8;\" x=\"26.925\" xlink:href=\"#mb8b59a4877\" y=\"192.199219\"/>\r\n",
       "      </g>\r\n",
       "     </g>\r\n",
       "     <g id=\"text_5\">\r\n",
       "      <!-- 4 -->\r\n",
       "      <g transform=\"translate(13.5625 195.998437)scale(0.1 -0.1)\">\r\n",
       "       <defs>\r\n",
       "        <path d=\"M 37.796875 64.3125 \r\n",
       "L 12.890625 25.390625 \r\n",
       "L 37.796875 25.390625 \r\n",
       "z\r\n",
       "M 35.203125 72.90625 \r\n",
       "L 47.609375 72.90625 \r\n",
       "L 47.609375 25.390625 \r\n",
       "L 58.015625 25.390625 \r\n",
       "L 58.015625 17.1875 \r\n",
       "L 47.609375 17.1875 \r\n",
       "L 47.609375 0 \r\n",
       "L 37.796875 0 \r\n",
       "L 37.796875 17.1875 \r\n",
       "L 4.890625 17.1875 \r\n",
       "L 4.890625 26.703125 \r\n",
       "z\r\n",
       "\" id=\"DejaVuSans-52\"/>\r\n",
       "       </defs>\r\n",
       "       <use xlink:href=\"#DejaVuSans-52\"/>\r\n",
       "      </g>\r\n",
       "     </g>\r\n",
       "    </g>\r\n",
       "    <g id=\"ytick_4\">\r\n",
       "     <g id=\"line2d_6\">\r\n",
       "      <g>\r\n",
       "       <use style=\"stroke:#000000;stroke-width:0.8;\" x=\"26.925\" xlink:href=\"#mb8b59a4877\" y=\"174.079219\"/>\r\n",
       "      </g>\r\n",
       "     </g>\r\n",
       "     <g id=\"text_6\">\r\n",
       "      <!-- 6 -->\r\n",
       "      <g transform=\"translate(13.5625 177.878437)scale(0.1 -0.1)\">\r\n",
       "       <defs>\r\n",
       "        <path d=\"M 33.015625 40.375 \r\n",
       "Q 26.375 40.375 22.484375 35.828125 \r\n",
       "Q 18.609375 31.296875 18.609375 23.390625 \r\n",
       "Q 18.609375 15.53125 22.484375 10.953125 \r\n",
       "Q 26.375 6.390625 33.015625 6.390625 \r\n",
       "Q 39.65625 6.390625 43.53125 10.953125 \r\n",
       "Q 47.40625 15.53125 47.40625 23.390625 \r\n",
       "Q 47.40625 31.296875 43.53125 35.828125 \r\n",
       "Q 39.65625 40.375 33.015625 40.375 \r\n",
       "z\r\n",
       "M 52.59375 71.296875 \r\n",
       "L 52.59375 62.3125 \r\n",
       "Q 48.875 64.0625 45.09375 64.984375 \r\n",
       "Q 41.3125 65.921875 37.59375 65.921875 \r\n",
       "Q 27.828125 65.921875 22.671875 59.328125 \r\n",
       "Q 17.53125 52.734375 16.796875 39.40625 \r\n",
       "Q 19.671875 43.65625 24.015625 45.921875 \r\n",
       "Q 28.375 48.1875 33.59375 48.1875 \r\n",
       "Q 44.578125 48.1875 50.953125 41.515625 \r\n",
       "Q 57.328125 34.859375 57.328125 23.390625 \r\n",
       "Q 57.328125 12.15625 50.6875 5.359375 \r\n",
       "Q 44.046875 -1.421875 33.015625 -1.421875 \r\n",
       "Q 20.359375 -1.421875 13.671875 8.265625 \r\n",
       "Q 6.984375 17.96875 6.984375 36.375 \r\n",
       "Q 6.984375 53.65625 15.1875 63.9375 \r\n",
       "Q 23.390625 74.21875 37.203125 74.21875 \r\n",
       "Q 40.921875 74.21875 44.703125 73.484375 \r\n",
       "Q 48.484375 72.75 52.59375 71.296875 \r\n",
       "z\r\n",
       "\" id=\"DejaVuSans-54\"/>\r\n",
       "       </defs>\r\n",
       "       <use xlink:href=\"#DejaVuSans-54\"/>\r\n",
       "      </g>\r\n",
       "     </g>\r\n",
       "    </g>\r\n",
       "    <g id=\"ytick_5\">\r\n",
       "     <g id=\"line2d_7\">\r\n",
       "      <g>\r\n",
       "       <use style=\"stroke:#000000;stroke-width:0.8;\" x=\"26.925\" xlink:href=\"#mb8b59a4877\" y=\"155.959219\"/>\r\n",
       "      </g>\r\n",
       "     </g>\r\n",
       "     <g id=\"text_7\">\r\n",
       "      <!-- 8 -->\r\n",
       "      <g transform=\"translate(13.5625 159.758437)scale(0.1 -0.1)\">\r\n",
       "       <defs>\r\n",
       "        <path d=\"M 31.78125 34.625 \r\n",
       "Q 24.75 34.625 20.71875 30.859375 \r\n",
       "Q 16.703125 27.09375 16.703125 20.515625 \r\n",
       "Q 16.703125 13.921875 20.71875 10.15625 \r\n",
       "Q 24.75 6.390625 31.78125 6.390625 \r\n",
       "Q 38.8125 6.390625 42.859375 10.171875 \r\n",
       "Q 46.921875 13.96875 46.921875 20.515625 \r\n",
       "Q 46.921875 27.09375 42.890625 30.859375 \r\n",
       "Q 38.875 34.625 31.78125 34.625 \r\n",
       "z\r\n",
       "M 21.921875 38.8125 \r\n",
       "Q 15.578125 40.375 12.03125 44.71875 \r\n",
       "Q 8.5 49.078125 8.5 55.328125 \r\n",
       "Q 8.5 64.0625 14.71875 69.140625 \r\n",
       "Q 20.953125 74.21875 31.78125 74.21875 \r\n",
       "Q 42.671875 74.21875 48.875 69.140625 \r\n",
       "Q 55.078125 64.0625 55.078125 55.328125 \r\n",
       "Q 55.078125 49.078125 51.53125 44.71875 \r\n",
       "Q 48 40.375 41.703125 38.8125 \r\n",
       "Q 48.828125 37.15625 52.796875 32.3125 \r\n",
       "Q 56.78125 27.484375 56.78125 20.515625 \r\n",
       "Q 56.78125 9.90625 50.3125 4.234375 \r\n",
       "Q 43.84375 -1.421875 31.78125 -1.421875 \r\n",
       "Q 19.734375 -1.421875 13.25 4.234375 \r\n",
       "Q 6.78125 9.90625 6.78125 20.515625 \r\n",
       "Q 6.78125 27.484375 10.78125 32.3125 \r\n",
       "Q 14.796875 37.15625 21.921875 38.8125 \r\n",
       "z\r\n",
       "M 18.3125 54.390625 \r\n",
       "Q 18.3125 48.734375 21.84375 45.5625 \r\n",
       "Q 25.390625 42.390625 31.78125 42.390625 \r\n",
       "Q 38.140625 42.390625 41.71875 45.5625 \r\n",
       "Q 45.3125 48.734375 45.3125 54.390625 \r\n",
       "Q 45.3125 60.0625 41.71875 63.234375 \r\n",
       "Q 38.140625 66.40625 31.78125 66.40625 \r\n",
       "Q 25.390625 66.40625 21.84375 63.234375 \r\n",
       "Q 18.3125 60.0625 18.3125 54.390625 \r\n",
       "z\r\n",
       "\" id=\"DejaVuSans-56\"/>\r\n",
       "       </defs>\r\n",
       "       <use xlink:href=\"#DejaVuSans-56\"/>\r\n",
       "      </g>\r\n",
       "     </g>\r\n",
       "    </g>\r\n",
       "    <g id=\"ytick_6\">\r\n",
       "     <g id=\"line2d_8\">\r\n",
       "      <g>\r\n",
       "       <use style=\"stroke:#000000;stroke-width:0.8;\" x=\"26.925\" xlink:href=\"#mb8b59a4877\" y=\"137.839219\"/>\r\n",
       "      </g>\r\n",
       "     </g>\r\n",
       "     <g id=\"text_8\">\r\n",
       "      <!-- 10 -->\r\n",
       "      <g transform=\"translate(7.2 141.638437)scale(0.1 -0.1)\">\r\n",
       "       <defs>\r\n",
       "        <path d=\"M 12.40625 8.296875 \r\n",
       "L 28.515625 8.296875 \r\n",
       "L 28.515625 63.921875 \r\n",
       "L 10.984375 60.40625 \r\n",
       "L 10.984375 69.390625 \r\n",
       "L 28.421875 72.90625 \r\n",
       "L 38.28125 72.90625 \r\n",
       "L 38.28125 8.296875 \r\n",
       "L 54.390625 8.296875 \r\n",
       "L 54.390625 0 \r\n",
       "L 12.40625 0 \r\n",
       "z\r\n",
       "\" id=\"DejaVuSans-49\"/>\r\n",
       "       </defs>\r\n",
       "       <use xlink:href=\"#DejaVuSans-49\"/>\r\n",
       "       <use x=\"63.623047\" xlink:href=\"#DejaVuSans-48\"/>\r\n",
       "      </g>\r\n",
       "     </g>\r\n",
       "    </g>\r\n",
       "    <g id=\"ytick_7\">\r\n",
       "     <g id=\"line2d_9\">\r\n",
       "      <g>\r\n",
       "       <use style=\"stroke:#000000;stroke-width:0.8;\" x=\"26.925\" xlink:href=\"#mb8b59a4877\" y=\"119.719219\"/>\r\n",
       "      </g>\r\n",
       "     </g>\r\n",
       "     <g id=\"text_9\">\r\n",
       "      <!-- 12 -->\r\n",
       "      <g transform=\"translate(7.2 123.518437)scale(0.1 -0.1)\">\r\n",
       "       <use xlink:href=\"#DejaVuSans-49\"/>\r\n",
       "       <use x=\"63.623047\" xlink:href=\"#DejaVuSans-50\"/>\r\n",
       "      </g>\r\n",
       "     </g>\r\n",
       "    </g>\r\n",
       "    <g id=\"ytick_8\">\r\n",
       "     <g id=\"line2d_10\">\r\n",
       "      <g>\r\n",
       "       <use style=\"stroke:#000000;stroke-width:0.8;\" x=\"26.925\" xlink:href=\"#mb8b59a4877\" y=\"101.599219\"/>\r\n",
       "      </g>\r\n",
       "     </g>\r\n",
       "     <g id=\"text_10\">\r\n",
       "      <!-- 14 -->\r\n",
       "      <g transform=\"translate(7.2 105.398437)scale(0.1 -0.1)\">\r\n",
       "       <use xlink:href=\"#DejaVuSans-49\"/>\r\n",
       "       <use x=\"63.623047\" xlink:href=\"#DejaVuSans-52\"/>\r\n",
       "      </g>\r\n",
       "     </g>\r\n",
       "    </g>\r\n",
       "    <g id=\"ytick_9\">\r\n",
       "     <g id=\"line2d_11\">\r\n",
       "      <g>\r\n",
       "       <use style=\"stroke:#000000;stroke-width:0.8;\" x=\"26.925\" xlink:href=\"#mb8b59a4877\" y=\"83.479219\"/>\r\n",
       "      </g>\r\n",
       "     </g>\r\n",
       "     <g id=\"text_11\">\r\n",
       "      <!-- 16 -->\r\n",
       "      <g transform=\"translate(7.2 87.278437)scale(0.1 -0.1)\">\r\n",
       "       <use xlink:href=\"#DejaVuSans-49\"/>\r\n",
       "       <use x=\"63.623047\" xlink:href=\"#DejaVuSans-54\"/>\r\n",
       "      </g>\r\n",
       "     </g>\r\n",
       "    </g>\r\n",
       "    <g id=\"ytick_10\">\r\n",
       "     <g id=\"line2d_12\">\r\n",
       "      <g>\r\n",
       "       <use style=\"stroke:#000000;stroke-width:0.8;\" x=\"26.925\" xlink:href=\"#mb8b59a4877\" y=\"65.359219\"/>\r\n",
       "      </g>\r\n",
       "     </g>\r\n",
       "     <g id=\"text_12\">\r\n",
       "      <!-- 18 -->\r\n",
       "      <g transform=\"translate(7.2 69.158437)scale(0.1 -0.1)\">\r\n",
       "       <use xlink:href=\"#DejaVuSans-49\"/>\r\n",
       "       <use x=\"63.623047\" xlink:href=\"#DejaVuSans-56\"/>\r\n",
       "      </g>\r\n",
       "     </g>\r\n",
       "    </g>\r\n",
       "    <g id=\"ytick_11\">\r\n",
       "     <g id=\"line2d_13\">\r\n",
       "      <g>\r\n",
       "       <use style=\"stroke:#000000;stroke-width:0.8;\" x=\"26.925\" xlink:href=\"#mb8b59a4877\" y=\"47.239219\"/>\r\n",
       "      </g>\r\n",
       "     </g>\r\n",
       "     <g id=\"text_13\">\r\n",
       "      <!-- 20 -->\r\n",
       "      <g transform=\"translate(7.2 51.038437)scale(0.1 -0.1)\">\r\n",
       "       <use xlink:href=\"#DejaVuSans-50\"/>\r\n",
       "       <use x=\"63.623047\" xlink:href=\"#DejaVuSans-48\"/>\r\n",
       "      </g>\r\n",
       "     </g>\r\n",
       "    </g>\r\n",
       "    <g id=\"ytick_12\">\r\n",
       "     <g id=\"line2d_14\">\r\n",
       "      <g>\r\n",
       "       <use style=\"stroke:#000000;stroke-width:0.8;\" x=\"26.925\" xlink:href=\"#mb8b59a4877\" y=\"29.119219\"/>\r\n",
       "      </g>\r\n",
       "     </g>\r\n",
       "     <g id=\"text_14\">\r\n",
       "      <!-- 22 -->\r\n",
       "      <g transform=\"translate(7.2 32.918437)scale(0.1 -0.1)\">\r\n",
       "       <use xlink:href=\"#DejaVuSans-50\"/>\r\n",
       "       <use x=\"63.623047\" xlink:href=\"#DejaVuSans-50\"/>\r\n",
       "      </g>\r\n",
       "     </g>\r\n",
       "    </g>\r\n",
       "    <g id=\"ytick_13\">\r\n",
       "     <g id=\"line2d_15\">\r\n",
       "      <g>\r\n",
       "       <use style=\"stroke:#000000;stroke-width:0.8;\" x=\"26.925\" xlink:href=\"#mb8b59a4877\" y=\"10.999219\"/>\r\n",
       "      </g>\r\n",
       "     </g>\r\n",
       "     <g id=\"text_15\">\r\n",
       "      <!-- 24 -->\r\n",
       "      <g transform=\"translate(7.2 14.798437)scale(0.1 -0.1)\">\r\n",
       "       <use xlink:href=\"#DejaVuSans-50\"/>\r\n",
       "       <use x=\"63.623047\" xlink:href=\"#DejaVuSans-52\"/>\r\n",
       "      </g>\r\n",
       "     </g>\r\n",
       "    </g>\r\n",
       "   </g>\r\n",
       "   <g id=\"patch_5\">\r\n",
       "    <path d=\"M 26.925 228.439219 \r\n",
       "L 26.925 10.999219 \r\n",
       "\" style=\"fill:none;stroke:#000000;stroke-linecap:square;stroke-linejoin:miter;stroke-width:0.8;\"/>\r\n",
       "   </g>\r\n",
       "   <g id=\"patch_6\">\r\n",
       "    <path d=\"M 361.725 228.439219 \r\n",
       "L 361.725 10.999219 \r\n",
       "\" style=\"fill:none;stroke:#000000;stroke-linecap:square;stroke-linejoin:miter;stroke-width:0.8;\"/>\r\n",
       "   </g>\r\n",
       "   <g id=\"patch_7\">\r\n",
       "    <path d=\"M 26.925 228.439219 \r\n",
       "L 361.725 228.439219 \r\n",
       "\" style=\"fill:none;stroke:#000000;stroke-linecap:square;stroke-linejoin:miter;stroke-width:0.8;\"/>\r\n",
       "   </g>\r\n",
       "   <g id=\"patch_8\">\r\n",
       "    <path d=\"M 26.925 10.999219 \r\n",
       "L 361.725 10.999219 \r\n",
       "\" style=\"fill:none;stroke:#000000;stroke-linecap:square;stroke-linejoin:miter;stroke-width:0.8;\"/>\r\n",
       "   </g>\r\n",
       "  </g>\r\n",
       " </g>\r\n",
       " <defs>\r\n",
       "  <clipPath id=\"p6a0ee5a08d\">\r\n",
       "   <rect height=\"217.44\" width=\"334.8\" x=\"26.925\" y=\"10.999219\"/>\r\n",
       "  </clipPath>\r\n",
       " </defs>\r\n",
       "</svg>\r\n"
      ],
      "text/plain": [
       "<Figure size 432x288 with 1 Axes>"
      ]
     },
     "metadata": {
      "needs_background": "light"
     },
     "output_type": "display_data"
    }
   ],
   "source": [
    "dfs[8]['Effect'].value_counts().plot(kind='bar',yticks=range(0,25,2))"
   ]
  },
  {
   "cell_type": "code",
   "execution_count": 485,
   "metadata": {},
   "outputs": [
    {
     "data": {
      "text/html": [
       "<div>\n",
       "<style scoped>\n",
       "    .dataframe tbody tr th:only-of-type {\n",
       "        vertical-align: middle;\n",
       "    }\n",
       "\n",
       "    .dataframe tbody tr th {\n",
       "        vertical-align: top;\n",
       "    }\n",
       "\n",
       "    .dataframe thead th {\n",
       "        text-align: right;\n",
       "    }\n",
       "</style>\n",
       "<table border=\"1\" class=\"dataframe\">\n",
       "  <thead>\n",
       "    <tr style=\"text-align: right;\">\n",
       "      <th></th>\n",
       "      <th></th>\n",
       "      <th>Adj Close %Change</th>\n",
       "      <th>Cum Returns</th>\n",
       "      <th>Effect</th>\n",
       "    </tr>\n",
       "    <tr>\n",
       "      <th>Name</th>\n",
       "      <th>Date</th>\n",
       "      <th></th>\n",
       "      <th></th>\n",
       "      <th></th>\n",
       "    </tr>\n",
       "  </thead>\n",
       "  <tbody>\n",
       "    <tr>\n",
       "      <th rowspan=\"5\" valign=\"top\">AAPL</th>\n",
       "      <th>2010-04-30</th>\n",
       "      <td>-0.088597</td>\n",
       "      <td>0.911403</td>\n",
       "      <td>Reversal</td>\n",
       "    </tr>\n",
       "    <tr>\n",
       "      <th>2010-08-31</th>\n",
       "      <td>0.337499</td>\n",
       "      <td>1.219001</td>\n",
       "      <td>Momentum</td>\n",
       "    </tr>\n",
       "    <tr>\n",
       "      <th>2010-12-31</th>\n",
       "      <td>0.104601</td>\n",
       "      <td>1.346510</td>\n",
       "      <td>Momentum</td>\n",
       "    </tr>\n",
       "    <tr>\n",
       "      <th>2011-04-30</th>\n",
       "      <td>0.195841</td>\n",
       "      <td>1.610212</td>\n",
       "      <td>Momentum</td>\n",
       "    </tr>\n",
       "    <tr>\n",
       "      <th>2011-08-31</th>\n",
       "      <td>0.025080</td>\n",
       "      <td>1.650595</td>\n",
       "      <td>Momentum</td>\n",
       "    </tr>\n",
       "  </tbody>\n",
       "</table>\n",
       "</div>"
      ],
      "text/plain": [
       "                 Adj Close %Change  Cum Returns    Effect\n",
       "Name Date                                                \n",
       "AAPL 2010-04-30          -0.088597     0.911403  Reversal\n",
       "     2010-08-31           0.337499     1.219001  Momentum\n",
       "     2010-12-31           0.104601     1.346510  Momentum\n",
       "     2011-04-30           0.195841     1.610212  Momentum\n",
       "     2011-08-31           0.025080     1.650595  Momentum"
      ]
     },
     "execution_count": 485,
     "metadata": {},
     "output_type": "execute_result"
    }
   ],
   "source": [
    "dfs[0][:5]"
   ]
  },
  {
   "cell_type": "code",
   "execution_count": 489,
   "metadata": {},
   "outputs": [
    {
     "data": {
      "text/plain": [
       "name\n",
       "AAPL   2010-02-01\n",
       "AAPL   2010-03-01\n",
       "AAPL   2010-04-01\n",
       "AAPL   2010-05-01\n",
       "AAPL   2010-06-01\n",
       "          ...    \n",
       "AAPL   2020-12-01\n",
       "AAPL   2021-01-01\n",
       "AAPL   2021-02-01\n",
       "AAPL   2021-03-01\n",
       "AAPL   2021-03-05\n",
       "Name: date, Length: 135, dtype: datetime64[ns]"
      ]
     },
     "execution_count": 489,
     "metadata": {},
     "output_type": "execute_result"
    }
   ],
   "source": [
    "aapl.date"
   ]
  },
  {
   "cell_type": "code",
   "execution_count": null,
   "metadata": {},
   "outputs": [],
   "source": [
    "new_df = pd.merge_asof(dfs[0].reset_index(),aapl,on='Date')\n",
    "new_df['Name'] = 'AAPL'\n",
    "new_df.set_index(['Name','Date'],inplace=True)\n",
    "new_df = new_df[~new_df.index.duplicated(keep='first')]\n",
    "new_df"
   ]
  },
  {
   "cell_type": "code",
   "execution_count": 483,
   "metadata": {},
   "outputs": [
    {
     "ename": "NameError",
     "evalue": "name 'new_df' is not defined",
     "output_type": "error",
     "traceback": [
      "\u001b[1;31m---------------------------------------------------------------------------\u001b[0m",
      "\u001b[1;31mNameError\u001b[0m                                 Traceback (most recent call last)",
      "\u001b[1;32m<ipython-input-483-7da51bd90949>\u001b[0m in \u001b[0;36m<module>\u001b[1;34m\u001b[0m\n\u001b[0;32m      1\u001b[0m \u001b[1;32mimport\u001b[0m \u001b[0mpandas_ta\u001b[0m \u001b[1;32mas\u001b[0m \u001b[0mta\u001b[0m\u001b[1;33m\u001b[0m\u001b[1;33m\u001b[0m\u001b[0m\n\u001b[1;32m----> 2\u001b[1;33m \u001b[0mnew_df\u001b[0m\u001b[1;33m.\u001b[0m\u001b[0mta\u001b[0m\u001b[1;33m.\u001b[0m\u001b[0mcores\u001b[0m \u001b[1;33m=\u001b[0m \u001b[1;36m7\u001b[0m\u001b[1;33m\u001b[0m\u001b[1;33m\u001b[0m\u001b[0m\n\u001b[0m\u001b[0;32m      3\u001b[0m \u001b[0mnew_df\u001b[0m\u001b[1;33m.\u001b[0m\u001b[0mta\u001b[0m\u001b[1;33m.\u001b[0m\u001b[0msma\u001b[0m\u001b[1;33m(\u001b[0m\u001b[0mlength\u001b[0m\u001b[1;33m=\u001b[0m\u001b[1;36m8\u001b[0m\u001b[1;33m,\u001b[0m \u001b[0mappend\u001b[0m\u001b[1;33m=\u001b[0m\u001b[1;32mTrue\u001b[0m\u001b[1;33m)\u001b[0m\u001b[1;33m\u001b[0m\u001b[1;33m\u001b[0m\u001b[0m\n\u001b[0;32m      4\u001b[0m \u001b[0mnew_df\u001b[0m\u001b[1;33m.\u001b[0m\u001b[0mta\u001b[0m\u001b[1;33m.\u001b[0m\u001b[0mrsi\u001b[0m\u001b[1;33m(\u001b[0m\u001b[0mappend\u001b[0m\u001b[1;33m=\u001b[0m\u001b[1;32mTrue\u001b[0m\u001b[1;33m)\u001b[0m\u001b[1;33m\u001b[0m\u001b[1;33m\u001b[0m\u001b[0m\n\u001b[0;32m      5\u001b[0m \u001b[0mnew_df\u001b[0m\u001b[1;33m.\u001b[0m\u001b[0mta\u001b[0m\u001b[1;33m.\u001b[0m\u001b[0mcci\u001b[0m\u001b[1;33m(\u001b[0m\u001b[0mlength\u001b[0m\u001b[1;33m=\u001b[0m\u001b[1;36m8\u001b[0m\u001b[1;33m,\u001b[0m \u001b[0mappend\u001b[0m\u001b[1;33m=\u001b[0m\u001b[1;32mTrue\u001b[0m\u001b[1;33m)\u001b[0m\u001b[1;33m\u001b[0m\u001b[1;33m\u001b[0m\u001b[0m\n",
      "\u001b[1;31mNameError\u001b[0m: name 'new_df' is not defined"
     ]
    }
   ],
   "source": [
    "import pandas_ta as ta\n",
    "\n",
    "## a few from momentum and trend. whats the best possible params? 10 might be way too b\n",
    "new_df.ta.cores = 7\n",
    "new_df.ta.sma(length=8, append=True)\n",
    "new_df.ta.rsi(append=True)\n",
    "new_df.ta.cci(length=8, append=True)\n",
    "new_df['return std'] = new_df['Cum Returns'].rolling(2).std()\n",
    "new_df.ta.willr(length=k/2, append=True)\n",
    "new_df.ta.roc(length=k/2,append=True)\n",
    "new_df.ta.ema(append=True)\n",
    "new_df.ta.pdist(append=True)\n",
    "new_df.ta.variance(length=4,append=True)\n",
    "new_df.ta.psar(append=True)\n",
    "new_df = new_df.join(pd.get_dummies(new_df.Effect, prefix='Effect')) #one hot\n",
    "new_df"
   ]
  },
  {
   "cell_type": "code",
   "execution_count": null,
   "metadata": {},
   "outputs": [],
   "source": [
    "import seaborn as sns\n",
    "\n",
    "corr = new_df.corr()\n",
    "\n",
    "# Generate a mask for the upper triangle\n",
    "mask = np.triu(np.ones_like(corr, dtype=bool))\n",
    "\n",
    "# Set up the matplotlib figure\n",
    "f, ax = plt.subplots(figsize=(11, 9))\n",
    "\n",
    "# Generate a custom diverging colormap\n",
    "cmap = sns.diverging_palette(230, 20, as_cmap=True)\n",
    "\n",
    "# Draw the heatmap with the mask and correct aspect ratio\n",
    "sns.heatmap(corr, mask=mask, cmap=\"PuBuGn\", vmax=1, vmin=-1, center=0,\n",
    "            square=True, linewidths=.5, cbar_kws={\"shrink\": .5})"
   ]
  },
  {
   "cell_type": "code",
   "execution_count": null,
   "metadata": {},
   "outputs": [],
   "source": [
    "new_df"
   ]
  },
  {
   "cell_type": "code",
   "execution_count": null,
   "metadata": {},
   "outputs": [],
   "source": [
    "# def K_ranking(ticker_df):\n",
    "def K_ranking(start_time, end_time):\n",
    "    '''given a time range, this reads in OHLC data of the s&p500 and converts it into usable features.'''\n",
    "    "
   ]
  },
  {
   "cell_type": "markdown",
   "metadata": {},
   "source": [
    "# Modeling:\n",
    "Below we start to really look at feature engineering, not much here yet"
   ]
  },
  {
   "cell_type": "code",
   "execution_count": null,
   "metadata": {},
   "outputs": [],
   "source": [
    "# pd.read_csv('constituent_performance_4_months.csv')"
   ]
  },
  {
   "cell_type": "code",
   "execution_count": null,
   "metadata": {},
   "outputs": [],
   "source": [
    "# momentum/ model: given a huge dataset with daily/monthly data, we determine in an initial period J to find which tickers do the best/worst, "
   ]
  },
  {
   "cell_type": "code",
   "execution_count": null,
   "metadata": {},
   "outputs": [],
   "source": []
  },
  {
   "cell_type": "markdown",
   "metadata": {},
   "source": [
    "## ---notes below---"
   ]
  },
  {
   "cell_type": "markdown",
   "metadata": {},
   "source": [
    "# For the momentum analysis portion:\n",
    "The way we plan to proceed for now is to give each stock in our index (sp500) equal weights, in a sense, then rank them by some criteria on how well they are performing. we will adopt the observe J and hold K strategy as detailed in the paper, in which there is an observatory period of J quarters/months/days and a holding period of K quarters/months/days (Ben: idk, j might be able to overlap with k, we can do a lot with how we implement it). In short, we classify in the J period whether a particular ticker would be best treated with a momentum or reversal strategy, or some other. The classification task here is thus presented.\n",
    "\n",
    "momentum strategy: buy/give heavier weights over time to well performing stocks, as we assume they will continue to get better as per our understanding of momentum\n",
    "\n",
    "reversal strategy: Amir proposed we short underperforming stocks. This strategy we adopt *might* actually be different from what the paper is proposing, which is to buy and hold underperforming stocks as we predict it to rebound (Ben: fact check me pls).\n",
    "\n",
    "stocks in between: dont buy them, or leave them as they are...? feel free to share your own thoughts.\n",
    "\n",
    "# For the modeling portion: \n",
    "a lot still left untouched, ill think a bit harder about it tmr ...\n",
    "we want 3 models to do this kind of momentum analysis algorithmically vs manually, and pit it against a baseline of a simple buy and hold strategy. The parameters will come from a wealth of technical analysis (read: all the fancy hard to understand financial forecasting stuff) libraries already available (we probably wont be making most of them, beyond the simple stuff) but we do have a deadline to keep in mind."
   ]
  },
  {
   "cell_type": "markdown",
   "metadata": {},
   "source": [
    "momentum groups have positive trensds, high return rates, \n",
    "\n",
    "reversal groups are stocks taht are losing. \n",
    "dynamically managing the 500 tickers in s&p.\n",
    "\n",
    "hwo do we predict who is going into momentum group at t+k, and how accurate can we be?\n",
    "based on the pricing trends, who will be in reversal and who will be in momentum?\n",
    "    a lot of room to work with\n",
    "bactesting takes our predictions and our model trained to figure out how to weight the positions of the stocks, we would take that strategy and test it on historical data\n",
    "\n",
    "we would have a lot to talk about in terms of a paper, how to improve, what not to notice\n",
    "how it could be used in the real world market\n",
    "\n",
    "do we want to create our own feature on which ticker is profitable, or \n",
    "- returns? predicting reurns over a certain period\\\\\n",
    "- the momentum to reversal ratio for a particular \n",
    "- more categorical features interpreted from indicators\n",
    "if we could answer these questions, how to implement above\n",
    "predictions on who goes where, then we can find out which features can increase accuracy over time, then weights, risk parameter, where the algo tries to place the stocks momentum and reversal groups and then it meets the parameter that we feed\n",
    "how do I predict, say, can we predict the possible return and then see, based on that,..\n",
    "there are certain indicators \n",
    "moving averages, where they change is a trend reversal indicate where and when that happens\n",
    "if we need more features\n",
    "\n",
    "waht would be a good starting point for us to start on?\n",
    "- creating features? familiarizing ourselgves with this notebook\n",
    "- we bought here and held there\\\n",
    "- maybe correlation analysis? taking old data and shiftiing it around to create and make it as accurate as possible for one of those and then figuring out which one of these affect accuracy of who goes in what group.\n",
    "tldr the sooner we play with the features bnetter \n",
    "who is in momentum who is in reversal based on certain criteria?\n",
    "for momentum and reversal, we are predicting return, get rmse beneath 80, and then visualize how it places and then prefirmance. start iterating on that part. cumulative returns vs actual returns\n",
    "creating better features?\n",
    "tuning parameters to modify the suggestion you would give based on momentum group.\n",
    "no effect is that it dont make it int\n",
    "we have many variables to compare the two. lower profiitability and higher rate. if it kept your risk constrained and you still had a significant strategy\n",
    "\n"
   ]
  },
  {
   "cell_type": "markdown",
   "metadata": {},
   "source": [
    "analyze at j, hold for k. \n",
    "evaluating when it hits the lowest...?\n",
    "\n",
    "\n",
    "\n",
    "\n",
    "so we have stocks, are we predicting profitability? -its not a difficult question to ask. we are predicting \n",
    "\n",
    "shweta as a clasirifation problem, momentum nad reversal. \n",
    "if we went back to momentum and reversal?\n",
    "- with these, can we predict return? pick a momentum or reversal group \n",
    "we label with momentum and reversal. say we have a collection, and a group at certain points. predict return? if you were to hold them for a time. use calculations for holding, having a certain period  and hold? for a certain amount. eg 2010 to 2015, we have all the return data, take the "
   ]
  },
  {
   "cell_type": "markdown",
   "metadata": {},
   "source": [
    "could we create a concrete quesiton\n",
    "xgd regressor\n",
    "> check out the moethodology portion"
   ]
  }
 ],
 "metadata": {
  "kernelspec": {
   "display_name": "Python 3",
   "language": "python",
   "name": "python3"
  },
  "language_info": {
   "codemirror_mode": {
    "name": "ipython",
    "version": 3
   },
   "file_extension": ".py",
   "mimetype": "text/x-python",
   "name": "python",
   "nbconvert_exporter": "python",
   "pygments_lexer": "ipython3",
   "version": "3.7.4-final"
  }
 },
 "nbformat": 4,
 "nbformat_minor": 2
}