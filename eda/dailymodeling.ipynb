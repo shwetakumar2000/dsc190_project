{
 "cells": [
  {
   "cell_type": "code",
   "execution_count": 1,
   "metadata": {},
   "outputs": [
    {
     "output_type": "stream",
     "name": "stderr",
     "text": [
      "C:\\Users\\Staro\\.virtualenvs\\dsc190-FVH1D0fH\\lib\\site-packages\\backtesting\\_plotting.py:45: UserWarning: Jupyter Notebook detected. Setting Bokeh output to notebook. This may not work in Jupyter clients without JavaScript support (e.g. PyCharm, Spyder IDE). Reset with `backtesting.set_bokeh_output(notebook=False)`.\n  warnings.warn('Jupyter Notebook detected. '\n"
     ]
    },
    {
     "output_type": "display_data",
     "data": {
      "text/html": "\n    <div class=\"bk-root\">\n        <a href=\"https://bokeh.org\" target=\"_blank\" class=\"bk-logo bk-logo-small bk-logo-notebook\"></a>\n        <span id=\"1002\">Loading BokehJS ...</span>\n    </div>"
     },
     "metadata": {}
    },
    {
     "output_type": "display_data",
     "data": {
      "application/javascript": "\n(function(root) {\n  function now() {\n    return new Date();\n  }\n\n  var force = true;\n\n  if (typeof root._bokeh_onload_callbacks === \"undefined\" || force === true) {\n    root._bokeh_onload_callbacks = [];\n    root._bokeh_is_loading = undefined;\n  }\n\n  var JS_MIME_TYPE = 'application/javascript';\n  var HTML_MIME_TYPE = 'text/html';\n  var EXEC_MIME_TYPE = 'application/vnd.bokehjs_exec.v0+json';\n  var CLASS_NAME = 'output_bokeh rendered_html';\n\n  /**\n   * Render data to the DOM node\n   */\n  function render(props, node) {\n    var script = document.createElement(\"script\");\n    node.appendChild(script);\n  }\n\n  /**\n   * Handle when an output is cleared or removed\n   */\n  function handleClearOutput(event, handle) {\n    var cell = handle.cell;\n\n    var id = cell.output_area._bokeh_element_id;\n    var server_id = cell.output_area._bokeh_server_id;\n    // Clean up Bokeh references\n    if (id != null && id in Bokeh.index) {\n      Bokeh.index[id].model.document.clear();\n      delete Bokeh.index[id];\n    }\n\n    if (server_id !== undefined) {\n      // Clean up Bokeh references\n      var cmd = \"from bokeh.io.state import curstate; print(curstate().uuid_to_server['\" + server_id + \"'].get_sessions()[0].document.roots[0]._id)\";\n      cell.notebook.kernel.execute(cmd, {\n        iopub: {\n          output: function(msg) {\n            var id = msg.content.text.trim();\n            if (id in Bokeh.index) {\n              Bokeh.index[id].model.document.clear();\n              delete Bokeh.index[id];\n            }\n          }\n        }\n      });\n      // Destroy server and session\n      var cmd = \"import bokeh.io.notebook as ion; ion.destroy_server('\" + server_id + \"')\";\n      cell.notebook.kernel.execute(cmd);\n    }\n  }\n\n  /**\n   * Handle when a new output is added\n   */\n  function handleAddOutput(event, handle) {\n    var output_area = handle.output_area;\n    var output = handle.output;\n\n    // limit handleAddOutput to display_data with EXEC_MIME_TYPE content only\n    if ((output.output_type != \"display_data\") || (!Object.prototype.hasOwnProperty.call(output.data, EXEC_MIME_TYPE))) {\n      return\n    }\n\n    var toinsert = output_area.element.find(\".\" + CLASS_NAME.split(' ')[0]);\n\n    if (output.metadata[EXEC_MIME_TYPE][\"id\"] !== undefined) {\n      toinsert[toinsert.length - 1].firstChild.textContent = output.data[JS_MIME_TYPE];\n      // store reference to embed id on output_area\n      output_area._bokeh_element_id = output.metadata[EXEC_MIME_TYPE][\"id\"];\n    }\n    if (output.metadata[EXEC_MIME_TYPE][\"server_id\"] !== undefined) {\n      var bk_div = document.createElement(\"div\");\n      bk_div.innerHTML = output.data[HTML_MIME_TYPE];\n      var script_attrs = bk_div.children[0].attributes;\n      for (var i = 0; i < script_attrs.length; i++) {\n        toinsert[toinsert.length - 1].firstChild.setAttribute(script_attrs[i].name, script_attrs[i].value);\n        toinsert[toinsert.length - 1].firstChild.textContent = bk_div.children[0].textContent\n      }\n      // store reference to server id on output_area\n      output_area._bokeh_server_id = output.metadata[EXEC_MIME_TYPE][\"server_id\"];\n    }\n  }\n\n  function register_renderer(events, OutputArea) {\n\n    function append_mime(data, metadata, element) {\n      // create a DOM node to render to\n      var toinsert = this.create_output_subarea(\n        metadata,\n        CLASS_NAME,\n        EXEC_MIME_TYPE\n      );\n      this.keyboard_manager.register_events(toinsert);\n      // Render to node\n      var props = {data: data, metadata: metadata[EXEC_MIME_TYPE]};\n      render(props, toinsert[toinsert.length - 1]);\n      element.append(toinsert);\n      return toinsert\n    }\n\n    /* Handle when an output is cleared or removed */\n    events.on('clear_output.CodeCell', handleClearOutput);\n    events.on('delete.Cell', handleClearOutput);\n\n    /* Handle when a new output is added */\n    events.on('output_added.OutputArea', handleAddOutput);\n\n    /**\n     * Register the mime type and append_mime function with output_area\n     */\n    OutputArea.prototype.register_mime_type(EXEC_MIME_TYPE, append_mime, {\n      /* Is output safe? */\n      safe: true,\n      /* Index of renderer in `output_area.display_order` */\n      index: 0\n    });\n  }\n\n  // register the mime type if in Jupyter Notebook environment and previously unregistered\n  if (root.Jupyter !== undefined) {\n    var events = require('base/js/events');\n    var OutputArea = require('notebook/js/outputarea').OutputArea;\n\n    if (OutputArea.prototype.mime_types().indexOf(EXEC_MIME_TYPE) == -1) {\n      register_renderer(events, OutputArea);\n    }\n  }\n\n  \n  if (typeof (root._bokeh_timeout) === \"undefined\" || force === true) {\n    root._bokeh_timeout = Date.now() + 5000;\n    root._bokeh_failed_load = false;\n  }\n\n  var NB_LOAD_WARNING = {'data': {'text/html':\n     \"<div style='background-color: #fdd'>\\n\"+\n     \"<p>\\n\"+\n     \"BokehJS does not appear to have successfully loaded. If loading BokehJS from CDN, this \\n\"+\n     \"may be due to a slow or bad network connection. Possible fixes:\\n\"+\n     \"</p>\\n\"+\n     \"<ul>\\n\"+\n     \"<li>re-rerun `output_notebook()` to attempt to load from CDN again, or</li>\\n\"+\n     \"<li>use INLINE resources instead, as so:</li>\\n\"+\n     \"</ul>\\n\"+\n     \"<code>\\n\"+\n     \"from bokeh.resources import INLINE\\n\"+\n     \"output_notebook(resources=INLINE)\\n\"+\n     \"</code>\\n\"+\n     \"</div>\"}};\n\n  function display_loaded() {\n    var el = document.getElementById(\"1002\");\n    if (el != null) {\n      el.textContent = \"BokehJS is loading...\";\n    }\n    if (root.Bokeh !== undefined) {\n      if (el != null) {\n        el.textContent = \"BokehJS \" + root.Bokeh.version + \" successfully loaded.\";\n      }\n    } else if (Date.now() < root._bokeh_timeout) {\n      setTimeout(display_loaded, 100)\n    }\n  }\n\n\n  function run_callbacks() {\n    try {\n      root._bokeh_onload_callbacks.forEach(function(callback) {\n        if (callback != null)\n          callback();\n      });\n    } finally {\n      delete root._bokeh_onload_callbacks\n    }\n    console.debug(\"Bokeh: all callbacks have finished\");\n  }\n\n  function load_libs(css_urls, js_urls, callback) {\n    if (css_urls == null) css_urls = [];\n    if (js_urls == null) js_urls = [];\n\n    root._bokeh_onload_callbacks.push(callback);\n    if (root._bokeh_is_loading > 0) {\n      console.debug(\"Bokeh: BokehJS is being loaded, scheduling callback at\", now());\n      return null;\n    }\n    if (js_urls == null || js_urls.length === 0) {\n      run_callbacks();\n      return null;\n    }\n    console.debug(\"Bokeh: BokehJS not loaded, scheduling load and callback at\", now());\n    root._bokeh_is_loading = css_urls.length + js_urls.length;\n\n    function on_load() {\n      root._bokeh_is_loading--;\n      if (root._bokeh_is_loading === 0) {\n        console.debug(\"Bokeh: all BokehJS libraries/stylesheets loaded\");\n        run_callbacks()\n      }\n    }\n\n    function on_error(url) {\n      console.error(\"failed to load \" + url);\n    }\n\n    for (let i = 0; i < css_urls.length; i++) {\n      const url = css_urls[i];\n      const element = document.createElement(\"link\");\n      element.onload = on_load;\n      element.onerror = on_error.bind(null, url);\n      element.rel = \"stylesheet\";\n      element.type = \"text/css\";\n      element.href = url;\n      console.debug(\"Bokeh: injecting link tag for BokehJS stylesheet: \", url);\n      document.body.appendChild(element);\n    }\n\n    const hashes = {\"https://cdn.bokeh.org/bokeh/release/bokeh-2.3.0.min.js\": \"HjagQp6T0/7bxYTAXbLotF1MLAGWmhkY5siA1Gc/pcEgvgRPtMsRn0gQtMwGKiw1\", \"https://cdn.bokeh.org/bokeh/release/bokeh-widgets-2.3.0.min.js\": \"ZEPPTjL+mdyqgIq+/pl9KTwzji8Kow2NnI3zWY8+sFinWP/SYJ80BnfeJsa45iYj\", \"https://cdn.bokeh.org/bokeh/release/bokeh-tables-2.3.0.min.js\": \"exLqv2ACDRIaV7ZK1iL8aGzGYQvKVuT3U2CT7FsQREBxRah6JrkVCoFy0koY1YqV\"};\n\n    for (let i = 0; i < js_urls.length; i++) {\n      const url = js_urls[i];\n      const element = document.createElement('script');\n      element.onload = on_load;\n      element.onerror = on_error.bind(null, url);\n      element.async = false;\n      element.src = url;\n      if (url in hashes) {\n        element.crossOrigin = \"anonymous\";\n        element.integrity = \"sha384-\" + hashes[url];\n      }\n      console.debug(\"Bokeh: injecting script tag for BokehJS library: \", url);\n      document.head.appendChild(element);\n    }\n  };\n\n  function inject_raw_css(css) {\n    const element = document.createElement(\"style\");\n    element.appendChild(document.createTextNode(css));\n    document.body.appendChild(element);\n  }\n\n  \n  var js_urls = [\"https://cdn.bokeh.org/bokeh/release/bokeh-2.3.0.min.js\", \"https://cdn.bokeh.org/bokeh/release/bokeh-widgets-2.3.0.min.js\", \"https://cdn.bokeh.org/bokeh/release/bokeh-tables-2.3.0.min.js\"];\n  var css_urls = [];\n  \n\n  var inline_js = [\n    function(Bokeh) {\n      Bokeh.set_log_level(\"info\");\n    },\n    function(Bokeh) {\n    \n    \n    }\n  ];\n\n  function run_inline_js() {\n    \n    if (root.Bokeh !== undefined || force === true) {\n      \n    for (var i = 0; i < inline_js.length; i++) {\n      inline_js[i].call(root, root.Bokeh);\n    }\n    if (force === true) {\n        display_loaded();\n      }} else if (Date.now() < root._bokeh_timeout) {\n      setTimeout(run_inline_js, 100);\n    } else if (!root._bokeh_failed_load) {\n      console.log(\"Bokeh: BokehJS failed to load within specified timeout.\");\n      root._bokeh_failed_load = true;\n    } else if (force !== true) {\n      var cell = $(document.getElementById(\"1002\")).parents('.cell').data().cell;\n      cell.output_area.append_execute_result(NB_LOAD_WARNING)\n    }\n\n  }\n\n  if (root._bokeh_is_loading === 0) {\n    console.debug(\"Bokeh: BokehJS loaded, going straight to plotting\");\n    run_inline_js();\n  } else {\n    load_libs(css_urls, js_urls, function() {\n      console.debug(\"Bokeh: BokehJS plotting callback run at\", now());\n      run_inline_js();\n    });\n  }\n}(window));",
      "application/vnd.bokehjs_load.v0+json": "\n(function(root) {\n  function now() {\n    return new Date();\n  }\n\n  var force = true;\n\n  if (typeof root._bokeh_onload_callbacks === \"undefined\" || force === true) {\n    root._bokeh_onload_callbacks = [];\n    root._bokeh_is_loading = undefined;\n  }\n\n  \n\n  \n  if (typeof (root._bokeh_timeout) === \"undefined\" || force === true) {\n    root._bokeh_timeout = Date.now() + 5000;\n    root._bokeh_failed_load = false;\n  }\n\n  var NB_LOAD_WARNING = {'data': {'text/html':\n     \"<div style='background-color: #fdd'>\\n\"+\n     \"<p>\\n\"+\n     \"BokehJS does not appear to have successfully loaded. If loading BokehJS from CDN, this \\n\"+\n     \"may be due to a slow or bad network connection. Possible fixes:\\n\"+\n     \"</p>\\n\"+\n     \"<ul>\\n\"+\n     \"<li>re-rerun `output_notebook()` to attempt to load from CDN again, or</li>\\n\"+\n     \"<li>use INLINE resources instead, as so:</li>\\n\"+\n     \"</ul>\\n\"+\n     \"<code>\\n\"+\n     \"from bokeh.resources import INLINE\\n\"+\n     \"output_notebook(resources=INLINE)\\n\"+\n     \"</code>\\n\"+\n     \"</div>\"}};\n\n  function display_loaded() {\n    var el = document.getElementById(\"1002\");\n    if (el != null) {\n      el.textContent = \"BokehJS is loading...\";\n    }\n    if (root.Bokeh !== undefined) {\n      if (el != null) {\n        el.textContent = \"BokehJS \" + root.Bokeh.version + \" successfully loaded.\";\n      }\n    } else if (Date.now() < root._bokeh_timeout) {\n      setTimeout(display_loaded, 100)\n    }\n  }\n\n\n  function run_callbacks() {\n    try {\n      root._bokeh_onload_callbacks.forEach(function(callback) {\n        if (callback != null)\n          callback();\n      });\n    } finally {\n      delete root._bokeh_onload_callbacks\n    }\n    console.debug(\"Bokeh: all callbacks have finished\");\n  }\n\n  function load_libs(css_urls, js_urls, callback) {\n    if (css_urls == null) css_urls = [];\n    if (js_urls == null) js_urls = [];\n\n    root._bokeh_onload_callbacks.push(callback);\n    if (root._bokeh_is_loading > 0) {\n      console.debug(\"Bokeh: BokehJS is being loaded, scheduling callback at\", now());\n      return null;\n    }\n    if (js_urls == null || js_urls.length === 0) {\n      run_callbacks();\n      return null;\n    }\n    console.debug(\"Bokeh: BokehJS not loaded, scheduling load and callback at\", now());\n    root._bokeh_is_loading = css_urls.length + js_urls.length;\n\n    function on_load() {\n      root._bokeh_is_loading--;\n      if (root._bokeh_is_loading === 0) {\n        console.debug(\"Bokeh: all BokehJS libraries/stylesheets loaded\");\n        run_callbacks()\n      }\n    }\n\n    function on_error(url) {\n      console.error(\"failed to load \" + url);\n    }\n\n    for (let i = 0; i < css_urls.length; i++) {\n      const url = css_urls[i];\n      const element = document.createElement(\"link\");\n      element.onload = on_load;\n      element.onerror = on_error.bind(null, url);\n      element.rel = \"stylesheet\";\n      element.type = \"text/css\";\n      element.href = url;\n      console.debug(\"Bokeh: injecting link tag for BokehJS stylesheet: \", url);\n      document.body.appendChild(element);\n    }\n\n    const hashes = {\"https://cdn.bokeh.org/bokeh/release/bokeh-2.3.0.min.js\": \"HjagQp6T0/7bxYTAXbLotF1MLAGWmhkY5siA1Gc/pcEgvgRPtMsRn0gQtMwGKiw1\", \"https://cdn.bokeh.org/bokeh/release/bokeh-widgets-2.3.0.min.js\": \"ZEPPTjL+mdyqgIq+/pl9KTwzji8Kow2NnI3zWY8+sFinWP/SYJ80BnfeJsa45iYj\", \"https://cdn.bokeh.org/bokeh/release/bokeh-tables-2.3.0.min.js\": \"exLqv2ACDRIaV7ZK1iL8aGzGYQvKVuT3U2CT7FsQREBxRah6JrkVCoFy0koY1YqV\"};\n\n    for (let i = 0; i < js_urls.length; i++) {\n      const url = js_urls[i];\n      const element = document.createElement('script');\n      element.onload = on_load;\n      element.onerror = on_error.bind(null, url);\n      element.async = false;\n      element.src = url;\n      if (url in hashes) {\n        element.crossOrigin = \"anonymous\";\n        element.integrity = \"sha384-\" + hashes[url];\n      }\n      console.debug(\"Bokeh: injecting script tag for BokehJS library: \", url);\n      document.head.appendChild(element);\n    }\n  };\n\n  function inject_raw_css(css) {\n    const element = document.createElement(\"style\");\n    element.appendChild(document.createTextNode(css));\n    document.body.appendChild(element);\n  }\n\n  \n  var js_urls = [\"https://cdn.bokeh.org/bokeh/release/bokeh-2.3.0.min.js\", \"https://cdn.bokeh.org/bokeh/release/bokeh-widgets-2.3.0.min.js\", \"https://cdn.bokeh.org/bokeh/release/bokeh-tables-2.3.0.min.js\"];\n  var css_urls = [];\n  \n\n  var inline_js = [\n    function(Bokeh) {\n      Bokeh.set_log_level(\"info\");\n    },\n    function(Bokeh) {\n    \n    \n    }\n  ];\n\n  function run_inline_js() {\n    \n    if (root.Bokeh !== undefined || force === true) {\n      \n    for (var i = 0; i < inline_js.length; i++) {\n      inline_js[i].call(root, root.Bokeh);\n    }\n    if (force === true) {\n        display_loaded();\n      }} else if (Date.now() < root._bokeh_timeout) {\n      setTimeout(run_inline_js, 100);\n    } else if (!root._bokeh_failed_load) {\n      console.log(\"Bokeh: BokehJS failed to load within specified timeout.\");\n      root._bokeh_failed_load = true;\n    } else if (force !== true) {\n      var cell = $(document.getElementById(\"1002\")).parents('.cell').data().cell;\n      cell.output_area.append_execute_result(NB_LOAD_WARNING)\n    }\n\n  }\n\n  if (root._bokeh_is_loading === 0) {\n    console.debug(\"Bokeh: BokehJS loaded, going straight to plotting\");\n    run_inline_js();\n  } else {\n    load_libs(css_urls, js_urls, function() {\n      console.debug(\"Bokeh: BokehJS plotting callback run at\", now());\n      run_inline_js();\n    });\n  }\n}(window));"
     },
     "metadata": {}
    }
   ],
   "source": [
    "import numpy as np\n",
    "import pandas as pd\n",
    "import matplotlib.pyplot as plt\n",
    "from time import sleep\n",
    "\n",
    "from pandas_datareader import data as pdr\n",
    "import pandas_ta as ta #commented out for me for now, I (Ben) had some dependency issues\n",
    "\n",
    "import yfinance as yf\n",
    "# import quandl as qd # not used, ignor ples\n",
    "from backtesting import Backtest, Strategy"
   ]
  },
  {
   "cell_type": "code",
   "execution_count": 2,
   "metadata": {},
   "outputs": [],
   "source": [
    "yf.pdr_override() # for use with pandas-datareader, optional"
   ]
  },
  {
   "source": [
    "uncomment below if you need to update/generate your monthly and daily csv files."
   ],
   "cell_type": "markdown",
   "metadata": {}
  },
  {
   "cell_type": "code",
   "execution_count": 3,
   "metadata": {
    "tags": []
   },
   "outputs": [],
   "source": [
    "# ticker = pd.read_csv('ticker.csv')['Ticker']\n",
    "# tickers = ticker.to_list() # This is a list of all tickers in the SP500\n",
    "# tickers = [x.replace('.','-') for x in tickers] # yahoo has '-' instead of '.' for tickers, eg BRK.B\n",
    "\n",
    "# ## below is how I got monthly and daily pandas dataframes of all stocks in one huge dict.  \n",
    "# monthly_sp500 = {}\n",
    "# daily_sp500 = {}\n",
    "# for tkr in tickers: # run all 500 at your own risk, it takes a while lol\n",
    "# # for tkr in tickers[:10]:\n",
    "#     print('Grabbing ' + tkr + \" data!\")\n",
    "#     monthly_sp500[tkr] = pdr.get_data_yahoo(tkr, start=\"2010-01-01\", interval = \"1mo\")\n",
    "#     daily_sp500[tkr] = pdr.get_data_yahoo(tkr,start=\"2010-01-01\")\n",
    "#     sleep(.1) # not planning on ddos-ing yahoo today\n",
    "# monthly_sp500['AAPL'] # take AAPL, for example\n",
    "\n",
    "# ## everything in one stupid large dataframe\n",
    "# sp500m = monthly_sp500[tickers[0]] # monthly\n",
    "# sp500m['Name'] = tickers[0]\n",
    "\n",
    "# sp500d = daily_sp500[tickers[0]] # daily\n",
    "# sp500d['Name'] = tickers[0]\n",
    "\n",
    "# # for tkr in tickers[1:10]:\n",
    "# for tkr in tickers[1:]:\n",
    "#     df1 = monthly_sp500[tkr] # monthly\n",
    "#     df1['Name'] = tkr\n",
    "#     sp500m = sp500m.append(df1)\n",
    "\n",
    "#     df2 = daily_sp500[tkr] # daily\n",
    "#     df2['Name'] = tkr\n",
    "#     sp500d = sp500d.append(df2)\n",
    "\n",
    "# sp500m.to_csv('SP500_monthly.csv') # run/uncomment some of these to save these to csv\n",
    "# sp500d.to_csv('SP500_daily.csv')"
   ]
  },
  {
   "cell_type": "code",
   "execution_count": 4,
   "metadata": {},
   "outputs": [
    {
     "output_type": "execute_result",
     "data": {
      "text/plain": [
       "               Date       Open       High        Low      Close  Adj Close  \\\n",
       "0        2010-01-04   7.622500   7.660714   7.585000   7.643214   6.583586   \n",
       "1        2010-01-05   7.664286   7.699643   7.616071   7.656429   6.594968   \n",
       "2        2010-01-06   7.656429   7.686786   7.526786   7.534643   6.490066   \n",
       "3        2010-01-07   7.562500   7.571429   7.466071   7.520714   6.478067   \n",
       "4        2010-01-08   7.510714   7.571429   7.466429   7.570714   6.521136   \n",
       "...             ...        ...        ...        ...        ...        ...   \n",
       "1365206  2021-03-04  23.020000  23.330000  22.389999  22.770000  22.770000   \n",
       "1365207  2021-03-05  22.940001  23.549999  22.510000  23.500000  23.500000   \n",
       "1365208  2021-03-08  23.500000  23.760000  22.980000  23.230000  23.230000   \n",
       "1365209  2021-03-09  24.000000  24.459999  23.389999  23.799999  23.799999   \n",
       "1365210  2021-03-10  23.860001  24.770000  23.709999  24.370001  24.370001   \n",
       "\n",
       "              Volume  Name  \n",
       "0        493729600.0  AAPL  \n",
       "1        601904800.0  AAPL  \n",
       "2        552160000.0  AAPL  \n",
       "3        477131200.0  AAPL  \n",
       "4        447610800.0  AAPL  \n",
       "...              ...   ...  \n",
       "1365206     345900.0   NWS  \n",
       "1365207     515500.0   NWS  \n",
       "1365208     754500.0   NWS  \n",
       "1365209     632600.0   NWS  \n",
       "1365210     787033.0   NWS  \n",
       "\n",
       "[1365210 rows x 8 columns]"
      ],
      "text/html": "<div>\n<style scoped>\n    .dataframe tbody tr th:only-of-type {\n        vertical-align: middle;\n    }\n\n    .dataframe tbody tr th {\n        vertical-align: top;\n    }\n\n    .dataframe thead th {\n        text-align: right;\n    }\n</style>\n<table border=\"1\" class=\"dataframe\">\n  <thead>\n    <tr style=\"text-align: right;\">\n      <th></th>\n      <th>Date</th>\n      <th>Open</th>\n      <th>High</th>\n      <th>Low</th>\n      <th>Close</th>\n      <th>Adj Close</th>\n      <th>Volume</th>\n      <th>Name</th>\n    </tr>\n  </thead>\n  <tbody>\n    <tr>\n      <th>0</th>\n      <td>2010-01-04</td>\n      <td>7.622500</td>\n      <td>7.660714</td>\n      <td>7.585000</td>\n      <td>7.643214</td>\n      <td>6.583586</td>\n      <td>493729600.0</td>\n      <td>AAPL</td>\n    </tr>\n    <tr>\n      <th>1</th>\n      <td>2010-01-05</td>\n      <td>7.664286</td>\n      <td>7.699643</td>\n      <td>7.616071</td>\n      <td>7.656429</td>\n      <td>6.594968</td>\n      <td>601904800.0</td>\n      <td>AAPL</td>\n    </tr>\n    <tr>\n      <th>2</th>\n      <td>2010-01-06</td>\n      <td>7.656429</td>\n      <td>7.686786</td>\n      <td>7.526786</td>\n      <td>7.534643</td>\n      <td>6.490066</td>\n      <td>552160000.0</td>\n      <td>AAPL</td>\n    </tr>\n    <tr>\n      <th>3</th>\n      <td>2010-01-07</td>\n      <td>7.562500</td>\n      <td>7.571429</td>\n      <td>7.466071</td>\n      <td>7.520714</td>\n      <td>6.478067</td>\n      <td>477131200.0</td>\n      <td>AAPL</td>\n    </tr>\n    <tr>\n      <th>4</th>\n      <td>2010-01-08</td>\n      <td>7.510714</td>\n      <td>7.571429</td>\n      <td>7.466429</td>\n      <td>7.570714</td>\n      <td>6.521136</td>\n      <td>447610800.0</td>\n      <td>AAPL</td>\n    </tr>\n    <tr>\n      <th>...</th>\n      <td>...</td>\n      <td>...</td>\n      <td>...</td>\n      <td>...</td>\n      <td>...</td>\n      <td>...</td>\n      <td>...</td>\n      <td>...</td>\n    </tr>\n    <tr>\n      <th>1365206</th>\n      <td>2021-03-04</td>\n      <td>23.020000</td>\n      <td>23.330000</td>\n      <td>22.389999</td>\n      <td>22.770000</td>\n      <td>22.770000</td>\n      <td>345900.0</td>\n      <td>NWS</td>\n    </tr>\n    <tr>\n      <th>1365207</th>\n      <td>2021-03-05</td>\n      <td>22.940001</td>\n      <td>23.549999</td>\n      <td>22.510000</td>\n      <td>23.500000</td>\n      <td>23.500000</td>\n      <td>515500.0</td>\n      <td>NWS</td>\n    </tr>\n    <tr>\n      <th>1365208</th>\n      <td>2021-03-08</td>\n      <td>23.500000</td>\n      <td>23.760000</td>\n      <td>22.980000</td>\n      <td>23.230000</td>\n      <td>23.230000</td>\n      <td>754500.0</td>\n      <td>NWS</td>\n    </tr>\n    <tr>\n      <th>1365209</th>\n      <td>2021-03-09</td>\n      <td>24.000000</td>\n      <td>24.459999</td>\n      <td>23.389999</td>\n      <td>23.799999</td>\n      <td>23.799999</td>\n      <td>632600.0</td>\n      <td>NWS</td>\n    </tr>\n    <tr>\n      <th>1365210</th>\n      <td>2021-03-10</td>\n      <td>23.860001</td>\n      <td>24.770000</td>\n      <td>23.709999</td>\n      <td>24.370001</td>\n      <td>24.370001</td>\n      <td>787033.0</td>\n      <td>NWS</td>\n    </tr>\n  </tbody>\n</table>\n<p>1365210 rows × 8 columns</p>\n</div>"
     },
     "metadata": {},
     "execution_count": 4
    }
   ],
   "source": [
    "# df = pd.read_csv('SP500_monthly.csv').infer_objects().dropna()\n",
    "df = pd.read_csv('SP500_daily.csv').infer_objects().dropna()\n",
    "# df = sp500m.infer_objects().dropna()#.reset_index() # dataframe of all we basically want, OHLC data w/ adjusted close. didnt set any ind\n",
    "df"
   ]
  },
  {
   "cell_type": "code",
   "execution_count": 5,
   "metadata": {},
   "outputs": [],
   "source": [
    "# j=1\n",
    "# k=2\n",
    "# # the 'midpoints' for each observe and hold period. midpoint in this context is where we switch from the observation period len=j to the holding period len=k\n",
    "# j_end = pd.date_range(st+pd.DateOffset(months=j*3), et, freq=str(k*3)+\"MS\")\n",
    "# j_end.strftime(\"%Y-%m-%d\").to_list()[:10]"
   ]
  },
  {
   "cell_type": "code",
   "execution_count": 6,
   "metadata": {},
   "outputs": [],
   "source": [
    "# pd.date_range(st+pd.DateOffset(days=j), et)"
   ]
  },
  {
   "cell_type": "code",
   "execution_count": 7,
   "metadata": {},
   "outputs": [
    {
     "output_type": "stream",
     "name": "stdout",
     "text": [
      "204\n"
     ]
    },
    {
     "output_type": "execute_result",
     "data": {
      "text/plain": [
       "     j_start   midpoint      k_end\n",
       "0 2010-01-04 2010-01-14 2010-02-02\n",
       "1 2010-01-24 2010-02-03 2010-02-22\n",
       "2 2010-02-13 2010-02-23 2010-03-14\n",
       "3 2010-03-05 2010-03-15 2010-04-03\n",
       "4 2010-03-25 2010-04-04 2010-04-23"
      ],
      "text/html": "<div>\n<style scoped>\n    .dataframe tbody tr th:only-of-type {\n        vertical-align: middle;\n    }\n\n    .dataframe tbody tr th {\n        vertical-align: top;\n    }\n\n    .dataframe thead th {\n        text-align: right;\n    }\n</style>\n<table border=\"1\" class=\"dataframe\">\n  <thead>\n    <tr style=\"text-align: right;\">\n      <th></th>\n      <th>j_start</th>\n      <th>midpoint</th>\n      <th>k_end</th>\n    </tr>\n  </thead>\n  <tbody>\n    <tr>\n      <th>0</th>\n      <td>2010-01-04</td>\n      <td>2010-01-14</td>\n      <td>2010-02-02</td>\n    </tr>\n    <tr>\n      <th>1</th>\n      <td>2010-01-24</td>\n      <td>2010-02-03</td>\n      <td>2010-02-22</td>\n    </tr>\n    <tr>\n      <th>2</th>\n      <td>2010-02-13</td>\n      <td>2010-02-23</td>\n      <td>2010-03-14</td>\n    </tr>\n    <tr>\n      <th>3</th>\n      <td>2010-03-05</td>\n      <td>2010-03-15</td>\n      <td>2010-04-03</td>\n    </tr>\n    <tr>\n      <th>4</th>\n      <td>2010-03-25</td>\n      <td>2010-04-04</td>\n      <td>2010-04-23</td>\n    </tr>\n  </tbody>\n</table>\n</div>"
     },
     "metadata": {},
     "execution_count": 7
    }
   ],
   "source": [
    "# def generate_momentum_returns(j=25,k=50):\n",
    "def generate_daily_timetable(j=10, k=20):\n",
    "    '''aims to generate the MONTHLY table of times for each observe/hold period. The midpoint in this context is where we switch from the observation period len=j to the holding period len=k'''\n",
    "    j_end = pd.date_range(pd.to_datetime(df.Date.min())+pd.DateOffset(days=j), pd.to_datetime(df.Date.max()), freq=str(k)+\"D\") # the 'midpoints' for each observe and hold period. \n",
    "    j_start = j_end + pd.DateOffset(days=-j) # based on the midpoint, get the start point for each observe and hold period\n",
    "    k_end = j_end + pd.DateOffset(days=k-1) # based on the midpoint, get the end point for each observe and hold period\n",
    "    timetable = pd.DataFrame({'j_start': j_start, 'midpoint': j_end, 'k_end': k_end}).infer_objects()\n",
    "    return timetable, j, k\n",
    "timedf, j, k = generate_daily_timetable()\n",
    "print(timedf.shape[0])\n",
    "timedf.head() ##NOTE THE K_END VALUE IS NO LONGER EQUAL TO THE NEXT MIDPOINT BUT OFFSET BY 1"
   ]
  },
  {
   "cell_type": "code",
   "execution_count": 8,
   "metadata": {},
   "outputs": [
    {
     "output_type": "execute_result",
     "data": {
      "text/plain": [
       "               Date       Open       High        Low      Close  Adj Close  \\\n",
       "0        2010-01-04   7.622500   7.660714   7.585000   7.643214   6.583586   \n",
       "1        2010-01-05   7.664286   7.699643   7.616071   7.656429   6.594968   \n",
       "2        2010-01-06   7.656429   7.686786   7.526786   7.534643   6.490066   \n",
       "3        2010-01-07   7.562500   7.571429   7.466071   7.520714   6.478067   \n",
       "4        2010-01-08   7.510714   7.571429   7.466429   7.570714   6.521136   \n",
       "...             ...        ...        ...        ...        ...        ...   \n",
       "1365206  2021-03-04  23.020000  23.330000  22.389999  22.770000  22.770000   \n",
       "1365207  2021-03-05  22.940001  23.549999  22.510000  23.500000  23.500000   \n",
       "1365208  2021-03-08  23.500000  23.760000  22.980000  23.230000  23.230000   \n",
       "1365209  2021-03-09  24.000000  24.459999  23.389999  23.799999  23.799999   \n",
       "1365210  2021-03-10  23.860001  24.770000  23.709999  24.370001  24.370001   \n",
       "\n",
       "              Volume  Name  \n",
       "0        493729600.0  AAPL  \n",
       "1        601904800.0  AAPL  \n",
       "2        552160000.0  AAPL  \n",
       "3        477131200.0  AAPL  \n",
       "4        447610800.0  AAPL  \n",
       "...              ...   ...  \n",
       "1365206     345900.0   NWS  \n",
       "1365207     515500.0   NWS  \n",
       "1365208     754500.0   NWS  \n",
       "1365209     632600.0   NWS  \n",
       "1365210     787033.0   NWS  \n",
       "\n",
       "[1365210 rows x 8 columns]"
      ],
      "text/html": "<div>\n<style scoped>\n    .dataframe tbody tr th:only-of-type {\n        vertical-align: middle;\n    }\n\n    .dataframe tbody tr th {\n        vertical-align: top;\n    }\n\n    .dataframe thead th {\n        text-align: right;\n    }\n</style>\n<table border=\"1\" class=\"dataframe\">\n  <thead>\n    <tr style=\"text-align: right;\">\n      <th></th>\n      <th>Date</th>\n      <th>Open</th>\n      <th>High</th>\n      <th>Low</th>\n      <th>Close</th>\n      <th>Adj Close</th>\n      <th>Volume</th>\n      <th>Name</th>\n    </tr>\n  </thead>\n  <tbody>\n    <tr>\n      <th>0</th>\n      <td>2010-01-04</td>\n      <td>7.622500</td>\n      <td>7.660714</td>\n      <td>7.585000</td>\n      <td>7.643214</td>\n      <td>6.583586</td>\n      <td>493729600.0</td>\n      <td>AAPL</td>\n    </tr>\n    <tr>\n      <th>1</th>\n      <td>2010-01-05</td>\n      <td>7.664286</td>\n      <td>7.699643</td>\n      <td>7.616071</td>\n      <td>7.656429</td>\n      <td>6.594968</td>\n      <td>601904800.0</td>\n      <td>AAPL</td>\n    </tr>\n    <tr>\n      <th>2</th>\n      <td>2010-01-06</td>\n      <td>7.656429</td>\n      <td>7.686786</td>\n      <td>7.526786</td>\n      <td>7.534643</td>\n      <td>6.490066</td>\n      <td>552160000.0</td>\n      <td>AAPL</td>\n    </tr>\n    <tr>\n      <th>3</th>\n      <td>2010-01-07</td>\n      <td>7.562500</td>\n      <td>7.571429</td>\n      <td>7.466071</td>\n      <td>7.520714</td>\n      <td>6.478067</td>\n      <td>477131200.0</td>\n      <td>AAPL</td>\n    </tr>\n    <tr>\n      <th>4</th>\n      <td>2010-01-08</td>\n      <td>7.510714</td>\n      <td>7.571429</td>\n      <td>7.466429</td>\n      <td>7.570714</td>\n      <td>6.521136</td>\n      <td>447610800.0</td>\n      <td>AAPL</td>\n    </tr>\n    <tr>\n      <th>...</th>\n      <td>...</td>\n      <td>...</td>\n      <td>...</td>\n      <td>...</td>\n      <td>...</td>\n      <td>...</td>\n      <td>...</td>\n      <td>...</td>\n    </tr>\n    <tr>\n      <th>1365206</th>\n      <td>2021-03-04</td>\n      <td>23.020000</td>\n      <td>23.330000</td>\n      <td>22.389999</td>\n      <td>22.770000</td>\n      <td>22.770000</td>\n      <td>345900.0</td>\n      <td>NWS</td>\n    </tr>\n    <tr>\n      <th>1365207</th>\n      <td>2021-03-05</td>\n      <td>22.940001</td>\n      <td>23.549999</td>\n      <td>22.510000</td>\n      <td>23.500000</td>\n      <td>23.500000</td>\n      <td>515500.0</td>\n      <td>NWS</td>\n    </tr>\n    <tr>\n      <th>1365208</th>\n      <td>2021-03-08</td>\n      <td>23.500000</td>\n      <td>23.760000</td>\n      <td>22.980000</td>\n      <td>23.230000</td>\n      <td>23.230000</td>\n      <td>754500.0</td>\n      <td>NWS</td>\n    </tr>\n    <tr>\n      <th>1365209</th>\n      <td>2021-03-09</td>\n      <td>24.000000</td>\n      <td>24.459999</td>\n      <td>23.389999</td>\n      <td>23.799999</td>\n      <td>23.799999</td>\n      <td>632600.0</td>\n      <td>NWS</td>\n    </tr>\n    <tr>\n      <th>1365210</th>\n      <td>2021-03-10</td>\n      <td>23.860001</td>\n      <td>24.770000</td>\n      <td>23.709999</td>\n      <td>24.370001</td>\n      <td>24.370001</td>\n      <td>787033.0</td>\n      <td>NWS</td>\n    </tr>\n  </tbody>\n</table>\n<p>1365210 rows × 8 columns</p>\n</div>"
     },
     "metadata": {},
     "execution_count": 8
    }
   ],
   "source": [
    "df"
   ]
  },
  {
   "cell_type": "code",
   "execution_count": 9,
   "metadata": {},
   "outputs": [
    {
     "output_type": "execute_result",
     "data": {
      "text/plain": [
       "              Date        Open        High         Low       Close  \\\n",
       "0       2010-01-04    7.622500    7.660714    7.585000    7.643214   \n",
       "1       2010-01-04   30.620001   31.100000   30.590000   30.950001   \n",
       "2       2010-01-04  136.250000  136.610001  133.139999  133.899994   \n",
       "3       2010-01-04  313.788788  315.070068  312.432434  313.688690   \n",
       "4       2010-01-04  312.304413  313.579620  310.954468  312.204773   \n",
       "...            ...         ...         ...         ...         ...   \n",
       "750681  2021-02-25   32.490002   33.110001   31.750000   31.910000   \n",
       "750682  2021-02-25   21.940001   22.620001   21.490000   21.590000   \n",
       "750683  2021-02-25   25.309999   25.790001   24.920000   25.350000   \n",
       "750684  2021-02-25   18.280001   18.870001   18.020000   18.100000   \n",
       "750685  2021-02-25   23.350000   23.540001   22.629999   22.650000   \n",
       "\n",
       "         Adj Close       Volume   Name       date  period  \n",
       "0         6.583586  493729600.0   AAPL 2010-01-04       0  \n",
       "1        24.049969   38409100.0   MSFT 2010-01-04       0  \n",
       "2       133.899994    7599900.0   AMZN 2010-01-04       0  \n",
       "3       313.688690    3908488.0  GOOGL 2010-01-04       0  \n",
       "4       312.204773    3927065.0   GOOG 2010-01-04       0  \n",
       "...            ...          ...    ...        ...     ...  \n",
       "750681   31.910000    1604200.0    VNT 2021-02-25     203  \n",
       "750682   21.590000    6187100.0    UAA 2021-02-25     203  \n",
       "750683   25.350000    3828900.0    XRX 2021-02-25     203  \n",
       "750684   18.100000    2355480.0     UA 2021-02-25     203  \n",
       "750685   22.650000     383000.0    NWS 2021-02-25     203  \n",
       "\n",
       "[750686 rows x 10 columns]"
      ],
      "text/html": "<div>\n<style scoped>\n    .dataframe tbody tr th:only-of-type {\n        vertical-align: middle;\n    }\n\n    .dataframe tbody tr th {\n        vertical-align: top;\n    }\n\n    .dataframe thead th {\n        text-align: right;\n    }\n</style>\n<table border=\"1\" class=\"dataframe\">\n  <thead>\n    <tr style=\"text-align: right;\">\n      <th></th>\n      <th>Date</th>\n      <th>Open</th>\n      <th>High</th>\n      <th>Low</th>\n      <th>Close</th>\n      <th>Adj Close</th>\n      <th>Volume</th>\n      <th>Name</th>\n      <th>date</th>\n      <th>period</th>\n    </tr>\n  </thead>\n  <tbody>\n    <tr>\n      <th>0</th>\n      <td>2010-01-04</td>\n      <td>7.622500</td>\n      <td>7.660714</td>\n      <td>7.585000</td>\n      <td>7.643214</td>\n      <td>6.583586</td>\n      <td>493729600.0</td>\n      <td>AAPL</td>\n      <td>2010-01-04</td>\n      <td>0</td>\n    </tr>\n    <tr>\n      <th>1</th>\n      <td>2010-01-04</td>\n      <td>30.620001</td>\n      <td>31.100000</td>\n      <td>30.590000</td>\n      <td>30.950001</td>\n      <td>24.049969</td>\n      <td>38409100.0</td>\n      <td>MSFT</td>\n      <td>2010-01-04</td>\n      <td>0</td>\n    </tr>\n    <tr>\n      <th>2</th>\n      <td>2010-01-04</td>\n      <td>136.250000</td>\n      <td>136.610001</td>\n      <td>133.139999</td>\n      <td>133.899994</td>\n      <td>133.899994</td>\n      <td>7599900.0</td>\n      <td>AMZN</td>\n      <td>2010-01-04</td>\n      <td>0</td>\n    </tr>\n    <tr>\n      <th>3</th>\n      <td>2010-01-04</td>\n      <td>313.788788</td>\n      <td>315.070068</td>\n      <td>312.432434</td>\n      <td>313.688690</td>\n      <td>313.688690</td>\n      <td>3908488.0</td>\n      <td>GOOGL</td>\n      <td>2010-01-04</td>\n      <td>0</td>\n    </tr>\n    <tr>\n      <th>4</th>\n      <td>2010-01-04</td>\n      <td>312.304413</td>\n      <td>313.579620</td>\n      <td>310.954468</td>\n      <td>312.204773</td>\n      <td>312.204773</td>\n      <td>3927065.0</td>\n      <td>GOOG</td>\n      <td>2010-01-04</td>\n      <td>0</td>\n    </tr>\n    <tr>\n      <th>...</th>\n      <td>...</td>\n      <td>...</td>\n      <td>...</td>\n      <td>...</td>\n      <td>...</td>\n      <td>...</td>\n      <td>...</td>\n      <td>...</td>\n      <td>...</td>\n      <td>...</td>\n    </tr>\n    <tr>\n      <th>750681</th>\n      <td>2021-02-25</td>\n      <td>32.490002</td>\n      <td>33.110001</td>\n      <td>31.750000</td>\n      <td>31.910000</td>\n      <td>31.910000</td>\n      <td>1604200.0</td>\n      <td>VNT</td>\n      <td>2021-02-25</td>\n      <td>203</td>\n    </tr>\n    <tr>\n      <th>750682</th>\n      <td>2021-02-25</td>\n      <td>21.940001</td>\n      <td>22.620001</td>\n      <td>21.490000</td>\n      <td>21.590000</td>\n      <td>21.590000</td>\n      <td>6187100.0</td>\n      <td>UAA</td>\n      <td>2021-02-25</td>\n      <td>203</td>\n    </tr>\n    <tr>\n      <th>750683</th>\n      <td>2021-02-25</td>\n      <td>25.309999</td>\n      <td>25.790001</td>\n      <td>24.920000</td>\n      <td>25.350000</td>\n      <td>25.350000</td>\n      <td>3828900.0</td>\n      <td>XRX</td>\n      <td>2021-02-25</td>\n      <td>203</td>\n    </tr>\n    <tr>\n      <th>750684</th>\n      <td>2021-02-25</td>\n      <td>18.280001</td>\n      <td>18.870001</td>\n      <td>18.020000</td>\n      <td>18.100000</td>\n      <td>18.100000</td>\n      <td>2355480.0</td>\n      <td>UA</td>\n      <td>2021-02-25</td>\n      <td>203</td>\n    </tr>\n    <tr>\n      <th>750685</th>\n      <td>2021-02-25</td>\n      <td>23.350000</td>\n      <td>23.540001</td>\n      <td>22.629999</td>\n      <td>22.650000</td>\n      <td>22.650000</td>\n      <td>383000.0</td>\n      <td>NWS</td>\n      <td>2021-02-25</td>\n      <td>203</td>\n    </tr>\n  </tbody>\n</table>\n<p>750686 rows × 10 columns</p>\n</div>"
     },
     "metadata": {},
     "execution_count": 9
    }
   ],
   "source": [
    "from itertools import chain\n",
    "def get_daily_j(id=-1):\n",
    "    jtimes = pd.DataFrame(list(chain.from_iterable(pd.date_range(timedf[\"j_start\"],timedf[\"midpoint\"]) for _,timedf in timedf.iterrows())), columns=(\"date\",))\n",
    "    jtimes['date'] = jtimes['date'].astype('datetime64[ns]')\n",
    "    jtimes['period'] = (jtimes['date'].isin(timedf['midpoint'])).shift(1).cumsum().fillna(0).astype(int)\n",
    "    df_ = df.copy()\n",
    "    if 'date' not in df_.columns: \n",
    "        df_['date'] = pd.to_datetime(df_['Date'])\n",
    "    df_['date'] = pd.to_datetime(df_['date'])\n",
    "    df_ = df_.merge(jtimes, how='inner', left_on='date', right_on='date')\n",
    "    if id==-1: \n",
    "        return df_ # this filters out periods that dont end prettily\n",
    "    else:\n",
    "        return df_[df_['period']==id].drop(columns='period')\n",
    "# get_j_df = get_daily_j\n",
    "def get_daily_k(id=-1):\n",
    "    ktimes = pd.DataFrame(list(chain.from_iterable(pd.date_range(timedf[\"midpoint\"],timedf[\"k_end\"]) for _,timedf in timedf.iterrows())), columns=(\"date\",))\n",
    "    ktimes['date'] = ktimes['date'].astype('datetime64[ns]')\n",
    "    ktimes['period'] = (ktimes['date'].isin(timedf['k_end'])).shift(1).cumsum().fillna(0).astype(int)\n",
    "    df_ = df.copy()\n",
    "    if 'date' not in df_.columns: \n",
    "        df_['date'] = pd.to_datetime(df_['Date'])\n",
    "    df_['date'] = pd.to_datetime(df_['date'])\n",
    "    df_ = df_.merge(ktimes, how='inner', left_on='date', right_on='date')\n",
    "    if id==-1: \n",
    "        return df_ # this filters out periods that dont end prettily\n",
    "    else:\n",
    "        return df_[df_['period']==id].drop(columns='period')\n",
    "get_daily_j()#.period.plot()"
   ]
  },
  {
   "cell_type": "code",
   "execution_count": 10,
   "metadata": {},
   "outputs": [
    {
     "output_type": "execute_result",
     "data": {
      "text/plain": [
       "            Date        Open        High         Low       Close   Adj Close  \\\n",
       "0     2010-01-04    7.622500    7.660714    7.585000    7.643214    6.583586   \n",
       "1     2010-01-04   30.620001   31.100000   30.590000   30.950001   24.049969   \n",
       "2     2010-01-04  136.250000  136.610001  133.139999  133.899994  133.899994   \n",
       "3     2010-01-04  313.788788  315.070068  312.432434  313.688690  313.688690   \n",
       "4     2010-01-04  312.304413  313.579620  310.954468  312.204773  312.204773   \n",
       "...          ...         ...         ...         ...         ...         ...   \n",
       "4053  2010-01-14   13.330000   13.455000   13.120000   13.335000    7.969944   \n",
       "4054  2010-01-14   20.080000   20.100000   19.620001   19.740000   14.824924   \n",
       "4055  2010-01-14   52.028835   53.202885   51.493305   52.100925   37.844513   \n",
       "4056  2010-01-14    3.633750    3.643750    3.583750    3.612500    3.612500   \n",
       "4057  2010-01-14   23.478262   23.715414   23.320158   23.425560   15.010876   \n",
       "\n",
       "           Volume   Name       date  \n",
       "0     493729600.0   AAPL 2010-01-04  \n",
       "1      38409100.0   MSFT 2010-01-04  \n",
       "2       7599900.0   AMZN 2010-01-04  \n",
       "3       3908488.0  GOOGL 2010-01-04  \n",
       "4       3927065.0   GOOG 2010-01-04  \n",
       "...           ...    ...        ...  \n",
       "4053     897000.0    HFC 2010-01-14  \n",
       "4054   10180300.0    GPS 2010-01-14  \n",
       "4055    1401541.0    SLG 2010-01-14  \n",
       "4056    5499200.0    UAA 2010-01-14  \n",
       "4057    3510261.0    XRX 2010-01-14  \n",
       "\n",
       "[4058 rows x 9 columns]"
      ],
      "text/html": "<div>\n<style scoped>\n    .dataframe tbody tr th:only-of-type {\n        vertical-align: middle;\n    }\n\n    .dataframe tbody tr th {\n        vertical-align: top;\n    }\n\n    .dataframe thead th {\n        text-align: right;\n    }\n</style>\n<table border=\"1\" class=\"dataframe\">\n  <thead>\n    <tr style=\"text-align: right;\">\n      <th></th>\n      <th>Date</th>\n      <th>Open</th>\n      <th>High</th>\n      <th>Low</th>\n      <th>Close</th>\n      <th>Adj Close</th>\n      <th>Volume</th>\n      <th>Name</th>\n      <th>date</th>\n    </tr>\n  </thead>\n  <tbody>\n    <tr>\n      <th>0</th>\n      <td>2010-01-04</td>\n      <td>7.622500</td>\n      <td>7.660714</td>\n      <td>7.585000</td>\n      <td>7.643214</td>\n      <td>6.583586</td>\n      <td>493729600.0</td>\n      <td>AAPL</td>\n      <td>2010-01-04</td>\n    </tr>\n    <tr>\n      <th>1</th>\n      <td>2010-01-04</td>\n      <td>30.620001</td>\n      <td>31.100000</td>\n      <td>30.590000</td>\n      <td>30.950001</td>\n      <td>24.049969</td>\n      <td>38409100.0</td>\n      <td>MSFT</td>\n      <td>2010-01-04</td>\n    </tr>\n    <tr>\n      <th>2</th>\n      <td>2010-01-04</td>\n      <td>136.250000</td>\n      <td>136.610001</td>\n      <td>133.139999</td>\n      <td>133.899994</td>\n      <td>133.899994</td>\n      <td>7599900.0</td>\n      <td>AMZN</td>\n      <td>2010-01-04</td>\n    </tr>\n    <tr>\n      <th>3</th>\n      <td>2010-01-04</td>\n      <td>313.788788</td>\n      <td>315.070068</td>\n      <td>312.432434</td>\n      <td>313.688690</td>\n      <td>313.688690</td>\n      <td>3908488.0</td>\n      <td>GOOGL</td>\n      <td>2010-01-04</td>\n    </tr>\n    <tr>\n      <th>4</th>\n      <td>2010-01-04</td>\n      <td>312.304413</td>\n      <td>313.579620</td>\n      <td>310.954468</td>\n      <td>312.204773</td>\n      <td>312.204773</td>\n      <td>3927065.0</td>\n      <td>GOOG</td>\n      <td>2010-01-04</td>\n    </tr>\n    <tr>\n      <th>...</th>\n      <td>...</td>\n      <td>...</td>\n      <td>...</td>\n      <td>...</td>\n      <td>...</td>\n      <td>...</td>\n      <td>...</td>\n      <td>...</td>\n      <td>...</td>\n    </tr>\n    <tr>\n      <th>4053</th>\n      <td>2010-01-14</td>\n      <td>13.330000</td>\n      <td>13.455000</td>\n      <td>13.120000</td>\n      <td>13.335000</td>\n      <td>7.969944</td>\n      <td>897000.0</td>\n      <td>HFC</td>\n      <td>2010-01-14</td>\n    </tr>\n    <tr>\n      <th>4054</th>\n      <td>2010-01-14</td>\n      <td>20.080000</td>\n      <td>20.100000</td>\n      <td>19.620001</td>\n      <td>19.740000</td>\n      <td>14.824924</td>\n      <td>10180300.0</td>\n      <td>GPS</td>\n      <td>2010-01-14</td>\n    </tr>\n    <tr>\n      <th>4055</th>\n      <td>2010-01-14</td>\n      <td>52.028835</td>\n      <td>53.202885</td>\n      <td>51.493305</td>\n      <td>52.100925</td>\n      <td>37.844513</td>\n      <td>1401541.0</td>\n      <td>SLG</td>\n      <td>2010-01-14</td>\n    </tr>\n    <tr>\n      <th>4056</th>\n      <td>2010-01-14</td>\n      <td>3.633750</td>\n      <td>3.643750</td>\n      <td>3.583750</td>\n      <td>3.612500</td>\n      <td>3.612500</td>\n      <td>5499200.0</td>\n      <td>UAA</td>\n      <td>2010-01-14</td>\n    </tr>\n    <tr>\n      <th>4057</th>\n      <td>2010-01-14</td>\n      <td>23.478262</td>\n      <td>23.715414</td>\n      <td>23.320158</td>\n      <td>23.425560</td>\n      <td>15.010876</td>\n      <td>3510261.0</td>\n      <td>XRX</td>\n      <td>2010-01-14</td>\n    </tr>\n  </tbody>\n</table>\n<p>4058 rows × 9 columns</p>\n</div>"
     },
     "metadata": {},
     "execution_count": 10
    }
   ],
   "source": [
    "get_daily_j(0)"
   ]
  },
  {
   "cell_type": "code",
   "execution_count": 11,
   "metadata": {},
   "outputs": [
    {
     "output_type": "execute_result",
     "data": {
      "text/plain": [
       "              Date        Open        High         Low       Close  \\\n",
       "0       2010-01-04    7.622500    7.660714    7.585000    7.643214   \n",
       "1       2010-01-04   30.620001   31.100000   30.590000   30.950001   \n",
       "2       2010-01-04  136.250000  136.610001  133.139999  133.899994   \n",
       "3       2010-01-04  313.788788  315.070068  312.432434  313.688690   \n",
       "4       2010-01-04  312.304413  313.579620  310.954468  312.204773   \n",
       "...            ...         ...         ...         ...         ...   \n",
       "750681  2021-02-25   32.490002   33.110001   31.750000   31.910000   \n",
       "750682  2021-02-25   21.940001   22.620001   21.490000   21.590000   \n",
       "750683  2021-02-25   25.309999   25.790001   24.920000   25.350000   \n",
       "750684  2021-02-25   18.280001   18.870001   18.020000   18.100000   \n",
       "750685  2021-02-25   23.350000   23.540001   22.629999   22.650000   \n",
       "\n",
       "         Adj Close       Volume   Name       date  period  \n",
       "0         6.583586  493729600.0   AAPL 2010-01-04       0  \n",
       "1        24.049969   38409100.0   MSFT 2010-01-04       0  \n",
       "2       133.899994    7599900.0   AMZN 2010-01-04       0  \n",
       "3       313.688690    3908488.0  GOOGL 2010-01-04       0  \n",
       "4       312.204773    3927065.0   GOOG 2010-01-04       0  \n",
       "...            ...          ...    ...        ...     ...  \n",
       "750681   31.910000    1604200.0    VNT 2021-02-25     203  \n",
       "750682   21.590000    6187100.0    UAA 2021-02-25     203  \n",
       "750683   25.350000    3828900.0    XRX 2021-02-25     203  \n",
       "750684   18.100000    2355480.0     UA 2021-02-25     203  \n",
       "750685   22.650000     383000.0    NWS 2021-02-25     203  \n",
       "\n",
       "[750686 rows x 10 columns]"
      ],
      "text/html": "<div>\n<style scoped>\n    .dataframe tbody tr th:only-of-type {\n        vertical-align: middle;\n    }\n\n    .dataframe tbody tr th {\n        vertical-align: top;\n    }\n\n    .dataframe thead th {\n        text-align: right;\n    }\n</style>\n<table border=\"1\" class=\"dataframe\">\n  <thead>\n    <tr style=\"text-align: right;\">\n      <th></th>\n      <th>Date</th>\n      <th>Open</th>\n      <th>High</th>\n      <th>Low</th>\n      <th>Close</th>\n      <th>Adj Close</th>\n      <th>Volume</th>\n      <th>Name</th>\n      <th>date</th>\n      <th>period</th>\n    </tr>\n  </thead>\n  <tbody>\n    <tr>\n      <th>0</th>\n      <td>2010-01-04</td>\n      <td>7.622500</td>\n      <td>7.660714</td>\n      <td>7.585000</td>\n      <td>7.643214</td>\n      <td>6.583586</td>\n      <td>493729600.0</td>\n      <td>AAPL</td>\n      <td>2010-01-04</td>\n      <td>0</td>\n    </tr>\n    <tr>\n      <th>1</th>\n      <td>2010-01-04</td>\n      <td>30.620001</td>\n      <td>31.100000</td>\n      <td>30.590000</td>\n      <td>30.950001</td>\n      <td>24.049969</td>\n      <td>38409100.0</td>\n      <td>MSFT</td>\n      <td>2010-01-04</td>\n      <td>0</td>\n    </tr>\n    <tr>\n      <th>2</th>\n      <td>2010-01-04</td>\n      <td>136.250000</td>\n      <td>136.610001</td>\n      <td>133.139999</td>\n      <td>133.899994</td>\n      <td>133.899994</td>\n      <td>7599900.0</td>\n      <td>AMZN</td>\n      <td>2010-01-04</td>\n      <td>0</td>\n    </tr>\n    <tr>\n      <th>3</th>\n      <td>2010-01-04</td>\n      <td>313.788788</td>\n      <td>315.070068</td>\n      <td>312.432434</td>\n      <td>313.688690</td>\n      <td>313.688690</td>\n      <td>3908488.0</td>\n      <td>GOOGL</td>\n      <td>2010-01-04</td>\n      <td>0</td>\n    </tr>\n    <tr>\n      <th>4</th>\n      <td>2010-01-04</td>\n      <td>312.304413</td>\n      <td>313.579620</td>\n      <td>310.954468</td>\n      <td>312.204773</td>\n      <td>312.204773</td>\n      <td>3927065.0</td>\n      <td>GOOG</td>\n      <td>2010-01-04</td>\n      <td>0</td>\n    </tr>\n    <tr>\n      <th>...</th>\n      <td>...</td>\n      <td>...</td>\n      <td>...</td>\n      <td>...</td>\n      <td>...</td>\n      <td>...</td>\n      <td>...</td>\n      <td>...</td>\n      <td>...</td>\n      <td>...</td>\n    </tr>\n    <tr>\n      <th>750681</th>\n      <td>2021-02-25</td>\n      <td>32.490002</td>\n      <td>33.110001</td>\n      <td>31.750000</td>\n      <td>31.910000</td>\n      <td>31.910000</td>\n      <td>1604200.0</td>\n      <td>VNT</td>\n      <td>2021-02-25</td>\n      <td>203</td>\n    </tr>\n    <tr>\n      <th>750682</th>\n      <td>2021-02-25</td>\n      <td>21.940001</td>\n      <td>22.620001</td>\n      <td>21.490000</td>\n      <td>21.590000</td>\n      <td>21.590000</td>\n      <td>6187100.0</td>\n      <td>UAA</td>\n      <td>2021-02-25</td>\n      <td>203</td>\n    </tr>\n    <tr>\n      <th>750683</th>\n      <td>2021-02-25</td>\n      <td>25.309999</td>\n      <td>25.790001</td>\n      <td>24.920000</td>\n      <td>25.350000</td>\n      <td>25.350000</td>\n      <td>3828900.0</td>\n      <td>XRX</td>\n      <td>2021-02-25</td>\n      <td>203</td>\n    </tr>\n    <tr>\n      <th>750684</th>\n      <td>2021-02-25</td>\n      <td>18.280001</td>\n      <td>18.870001</td>\n      <td>18.020000</td>\n      <td>18.100000</td>\n      <td>18.100000</td>\n      <td>2355480.0</td>\n      <td>UA</td>\n      <td>2021-02-25</td>\n      <td>203</td>\n    </tr>\n    <tr>\n      <th>750685</th>\n      <td>2021-02-25</td>\n      <td>23.350000</td>\n      <td>23.540001</td>\n      <td>22.629999</td>\n      <td>22.650000</td>\n      <td>22.650000</td>\n      <td>383000.0</td>\n      <td>NWS</td>\n      <td>2021-02-25</td>\n      <td>203</td>\n    </tr>\n  </tbody>\n</table>\n<p>750686 rows × 10 columns</p>\n</div>"
     },
     "metadata": {},
     "execution_count": 11
    }
   ],
   "source": [
    "get_daily_j()#.period.plot()"
   ]
  },
  {
   "cell_type": "code",
   "execution_count": 12,
   "metadata": {},
   "outputs": [],
   "source": [
    "# def generate_timetable(j=1, k=2):\n",
    "#     '''aims to generate the MONTHLY table of times for each observe/hold period. The midpoint in this context is where we switch from the observation period len=j to the holding period len=k'''\n",
    "    \n",
    "#     j_end = pd.date_range(st+pd.DateOffset(months=j*3), et, freq=str(k*3)+\"MS\") # the 'midpoints' for each observe and hold period. \n",
    "#     j_start = j_end + pd.DateOffset(months=-j*3) # based on the midpoint, get the start point for each observe and hold period\n",
    "#     k_end = j_end + pd.DateOffset(months=k*3) # based on the midpoint, get the end point for each observe and hold period\n",
    "#     timetable = pd.DataFrame({'j_start': j_start, 'midpoint': j_end, 'k_end': k_end}).infer_objects()\n",
    "#     return timetable, j, k\n",
    "# timedf, j, k = generate_timetable(3, 2)\n",
    "# timedf.head()"
   ]
  },
  {
   "cell_type": "code",
   "execution_count": 13,
   "metadata": {},
   "outputs": [
    {
     "output_type": "execute_result",
     "data": {
      "text/plain": [
       "0          2010-01-04\n",
       "1          2010-01-05\n",
       "2          2010-01-06\n",
       "3          2010-01-07\n",
       "4          2010-01-08\n",
       "              ...    \n",
       "1365206    2021-03-04\n",
       "1365207    2021-03-05\n",
       "1365208    2021-03-08\n",
       "1365209    2021-03-09\n",
       "1365210    2021-03-10\n",
       "Name: Date, Length: 1365210, dtype: object"
      ]
     },
     "metadata": {},
     "execution_count": 13
    }
   ],
   "source": [
    "df['Date']"
   ]
  },
  {
   "cell_type": "code",
   "execution_count": 14,
   "metadata": {},
   "outputs": [],
   "source": [
    "midpoint = timedf.iloc[0].midpoint"
   ]
  },
  {
   "cell_type": "code",
   "execution_count": 15,
   "metadata": {
    "tags": []
   },
   "outputs": [],
   "source": [
    "# def get_j_df(id=-1, j=j):\n",
    "#     '''this should spit out a dataframe of data in the observational period j given specific id or midpoint value. \n",
    "#     if unspecified it throws all of them at you with an extra identifying column \"periods\"'''\n",
    "#     if (id==-1): # not really sure why we need this but ill include it. this adds a sector column to the data for future filtering purposes if needed\n",
    "#         df_i = pd.DataFrame(columns=df.columns.to_list()+['period']) #dummy empty df\n",
    "#         for i in timedf.index: \n",
    "#             # print(timedf.iloc[i].j_start,timedf.iloc[i].midpoint)\n",
    "#             df_ = df[(timedf.iloc[i].j_start <= pd.to_datetime(df['Date']))&(pd.to_datetime(df['Date']) <= timedf.iloc[i].midpoint)] # gets dates btw start and midpt\n",
    "#             df_['period'] = i\n",
    "#             df_i = pd.concat([df_i, df_])\n",
    "\n",
    "#         return df_i\n",
    "#     return df[(timedf.iloc[id].j_start <= pd.to_datetime(df['Date']))&(pd.to_datetime(df['Date']) <= timedf.iloc[id].midpoint)] # gets dates btw start and midpt from table\n",
    "# get_j_df(0)"
   ]
  },
  {
   "cell_type": "code",
   "execution_count": 16,
   "metadata": {},
   "outputs": [],
   "source": [
    "# def get_k_df(id=-1, k=k):\n",
    "#     '''this should spit out a dataframe of data in the holding period k given specific id or midpoint value. \n",
    "#     if unspecified it throws all of them at you with an extra identifying column \"periods\"'''\n",
    "#     if (id==-1): # we can decide if this is useful later this adds a sector column to the data for future filtering purposes if needed\n",
    "#         df_i = pd.DataFrame(columns=df.columns.to_list()+['period']) #dummy empty df\n",
    "#         for i in timedf.index: \n",
    "#             # print(timedf.iloc[i].j_start,timedf.iloc[i].midpoint)\n",
    "#             df_ = df[(timedf.iloc[i].midpoint <= pd.to_datetime(df['Date']))&(pd.to_datetime(df['Date']) <= timedf.iloc[i].k_end)] # gets dates btw midpt and end\n",
    "#             df_['period'] = i\n",
    "#             df_i = pd.concat([df_i, df_])\n",
    "\n",
    "#         return df_i\n",
    "#     return df[(timedf.iloc[id].midpoint <= pd.to_datetime(df['Date']))&(pd.to_datetime(df['Date']) <= timedf.iloc[id].k_end)] # gets dates btw midpt and end\n",
    "# get_k_df()"
   ]
  },
  {
   "cell_type": "markdown",
   "metadata": {},
   "source": [
    "# Data Analysis: using the above functions for building portfolios"
   ]
  },
  {
   "cell_type": "code",
   "execution_count": 17,
   "metadata": {},
   "outputs": [
    {
     "output_type": "execute_result",
     "data": {
      "text/plain": [
       "       j_start   midpoint      k_end\n",
       "0   2010-01-04 2010-01-14 2010-02-02\n",
       "1   2010-01-24 2010-02-03 2010-02-22\n",
       "2   2010-02-13 2010-02-23 2010-03-14\n",
       "3   2010-03-05 2010-03-15 2010-04-03\n",
       "4   2010-03-25 2010-04-04 2010-04-23\n",
       "..         ...        ...        ...\n",
       "199 2020-11-27 2020-12-07 2020-12-26\n",
       "200 2020-12-17 2020-12-27 2021-01-15\n",
       "201 2021-01-06 2021-01-16 2021-02-04\n",
       "202 2021-01-26 2021-02-05 2021-02-24\n",
       "203 2021-02-15 2021-02-25 2021-03-16\n",
       "\n",
       "[204 rows x 3 columns]"
      ],
      "text/html": "<div>\n<style scoped>\n    .dataframe tbody tr th:only-of-type {\n        vertical-align: middle;\n    }\n\n    .dataframe tbody tr th {\n        vertical-align: top;\n    }\n\n    .dataframe thead th {\n        text-align: right;\n    }\n</style>\n<table border=\"1\" class=\"dataframe\">\n  <thead>\n    <tr style=\"text-align: right;\">\n      <th></th>\n      <th>j_start</th>\n      <th>midpoint</th>\n      <th>k_end</th>\n    </tr>\n  </thead>\n  <tbody>\n    <tr>\n      <th>0</th>\n      <td>2010-01-04</td>\n      <td>2010-01-14</td>\n      <td>2010-02-02</td>\n    </tr>\n    <tr>\n      <th>1</th>\n      <td>2010-01-24</td>\n      <td>2010-02-03</td>\n      <td>2010-02-22</td>\n    </tr>\n    <tr>\n      <th>2</th>\n      <td>2010-02-13</td>\n      <td>2010-02-23</td>\n      <td>2010-03-14</td>\n    </tr>\n    <tr>\n      <th>3</th>\n      <td>2010-03-05</td>\n      <td>2010-03-15</td>\n      <td>2010-04-03</td>\n    </tr>\n    <tr>\n      <th>4</th>\n      <td>2010-03-25</td>\n      <td>2010-04-04</td>\n      <td>2010-04-23</td>\n    </tr>\n    <tr>\n      <th>...</th>\n      <td>...</td>\n      <td>...</td>\n      <td>...</td>\n    </tr>\n    <tr>\n      <th>199</th>\n      <td>2020-11-27</td>\n      <td>2020-12-07</td>\n      <td>2020-12-26</td>\n    </tr>\n    <tr>\n      <th>200</th>\n      <td>2020-12-17</td>\n      <td>2020-12-27</td>\n      <td>2021-01-15</td>\n    </tr>\n    <tr>\n      <th>201</th>\n      <td>2021-01-06</td>\n      <td>2021-01-16</td>\n      <td>2021-02-04</td>\n    </tr>\n    <tr>\n      <th>202</th>\n      <td>2021-01-26</td>\n      <td>2021-02-05</td>\n      <td>2021-02-24</td>\n    </tr>\n    <tr>\n      <th>203</th>\n      <td>2021-02-15</td>\n      <td>2021-02-25</td>\n      <td>2021-03-16</td>\n    </tr>\n  </tbody>\n</table>\n<p>204 rows × 3 columns</p>\n</div>"
     },
     "metadata": {},
     "execution_count": 17
    }
   ],
   "source": [
    "timedf,j,k = generate_daily_timetable(j=10, k=20) # with j as 3 and k as 2\n",
    "timedf"
   ]
  },
  {
   "cell_type": "code",
   "execution_count": 18,
   "metadata": {},
   "outputs": [
    {
     "output_type": "execute_result",
     "data": {
      "text/plain": [
       "            Date       Open       High        Low      Close  Adj Close  \\\n",
       "Name                                                                      \n",
       "DPZ   2010-01-14  10.800000  11.570000  10.700000  11.310000   9.616241   \n",
       "ILMN  2010-01-14  40.150002  40.330002  38.439999  39.029999  39.029999   \n",
       "MGM   2010-01-14  12.370000  12.870000  12.220000  12.380000  11.700339   \n",
       "LEN   2010-01-14  16.243855  16.558504  16.007866  16.076696  15.112182   \n",
       "ZION  2010-01-14  16.360001  16.850000  16.250000  16.709999  14.602304   \n",
       "...          ...        ...        ...        ...        ...        ...   \n",
       "PWR   2010-01-14  20.209999  20.400000  19.340000  19.440001  19.238916   \n",
       "URI   2010-01-14   8.970000   9.000000   8.870000   8.980000   8.980000   \n",
       "EXPE  2010-01-14  46.799999  48.040001  46.040001  46.119999  30.376251   \n",
       "GPN   2010-01-14  23.780001  23.959999  23.475000  23.490000  23.119432   \n",
       "TMUS  2010-01-14  12.420000  12.840000  12.400000  12.460000  10.323699   \n",
       "\n",
       "          Volume       date  pct_change  cum_return  adj_close_shifted  \\\n",
       "Name                                                                     \n",
       "DPZ    5085400.0 2010-01-14    0.100194    0.302995           8.026290   \n",
       "ILMN   3640600.0 2010-01-14   -0.036534    0.277578          33.820000   \n",
       "MGM   37690800.0 2010-01-14   -0.000807    0.272354          10.301594   \n",
       "LEN    5075644.0 2010-01-14    0.006154    0.256726          15.028997   \n",
       "ZION   4677900.0 2010-01-14    0.022018    0.253563          14.427528   \n",
       "...          ...        ...         ...         ...                ...   \n",
       "PWR    5720000.0 2010-01-14   -0.057683   -0.084746          20.762983   \n",
       "URI    1102000.0 2010-01-14    0.002232   -0.105578           9.300000   \n",
       "EXPE   2316950.0 2010-01-14   -0.021638   -0.106894          31.654005   \n",
       "GPN    2981600.0 2010-01-14   -0.017361   -0.108031          23.532810   \n",
       "TMUS   4879400.0 2010-01-14   -0.015798   -0.218319          11.914511   \n",
       "\n",
       "      adj_change  \n",
       "Name              \n",
       "DPZ     1.198093  \n",
       "ILMN    1.154051  \n",
       "MGM     1.135780  \n",
       "LEN     1.005535  \n",
       "ZION    1.012114  \n",
       "...          ...  \n",
       "PWR     0.926597  \n",
       "URI     0.965591  \n",
       "EXPE    0.959634  \n",
       "GPN     0.982434  \n",
       "TMUS    0.866481  \n",
       "\n",
       "[451 rows x 12 columns]"
      ],
      "text/html": "<div>\n<style scoped>\n    .dataframe tbody tr th:only-of-type {\n        vertical-align: middle;\n    }\n\n    .dataframe tbody tr th {\n        vertical-align: top;\n    }\n\n    .dataframe thead th {\n        text-align: right;\n    }\n</style>\n<table border=\"1\" class=\"dataframe\">\n  <thead>\n    <tr style=\"text-align: right;\">\n      <th></th>\n      <th>Date</th>\n      <th>Open</th>\n      <th>High</th>\n      <th>Low</th>\n      <th>Close</th>\n      <th>Adj Close</th>\n      <th>Volume</th>\n      <th>date</th>\n      <th>pct_change</th>\n      <th>cum_return</th>\n      <th>adj_close_shifted</th>\n      <th>adj_change</th>\n    </tr>\n    <tr>\n      <th>Name</th>\n      <th></th>\n      <th></th>\n      <th></th>\n      <th></th>\n      <th></th>\n      <th></th>\n      <th></th>\n      <th></th>\n      <th></th>\n      <th></th>\n      <th></th>\n      <th></th>\n    </tr>\n  </thead>\n  <tbody>\n    <tr>\n      <th>DPZ</th>\n      <td>2010-01-14</td>\n      <td>10.800000</td>\n      <td>11.570000</td>\n      <td>10.700000</td>\n      <td>11.310000</td>\n      <td>9.616241</td>\n      <td>5085400.0</td>\n      <td>2010-01-14</td>\n      <td>0.100194</td>\n      <td>0.302995</td>\n      <td>8.026290</td>\n      <td>1.198093</td>\n    </tr>\n    <tr>\n      <th>ILMN</th>\n      <td>2010-01-14</td>\n      <td>40.150002</td>\n      <td>40.330002</td>\n      <td>38.439999</td>\n      <td>39.029999</td>\n      <td>39.029999</td>\n      <td>3640600.0</td>\n      <td>2010-01-14</td>\n      <td>-0.036534</td>\n      <td>0.277578</td>\n      <td>33.820000</td>\n      <td>1.154051</td>\n    </tr>\n    <tr>\n      <th>MGM</th>\n      <td>2010-01-14</td>\n      <td>12.370000</td>\n      <td>12.870000</td>\n      <td>12.220000</td>\n      <td>12.380000</td>\n      <td>11.700339</td>\n      <td>37690800.0</td>\n      <td>2010-01-14</td>\n      <td>-0.000807</td>\n      <td>0.272354</td>\n      <td>10.301594</td>\n      <td>1.135780</td>\n    </tr>\n    <tr>\n      <th>LEN</th>\n      <td>2010-01-14</td>\n      <td>16.243855</td>\n      <td>16.558504</td>\n      <td>16.007866</td>\n      <td>16.076696</td>\n      <td>15.112182</td>\n      <td>5075644.0</td>\n      <td>2010-01-14</td>\n      <td>0.006154</td>\n      <td>0.256726</td>\n      <td>15.028997</td>\n      <td>1.005535</td>\n    </tr>\n    <tr>\n      <th>ZION</th>\n      <td>2010-01-14</td>\n      <td>16.360001</td>\n      <td>16.850000</td>\n      <td>16.250000</td>\n      <td>16.709999</td>\n      <td>14.602304</td>\n      <td>4677900.0</td>\n      <td>2010-01-14</td>\n      <td>0.022018</td>\n      <td>0.253563</td>\n      <td>14.427528</td>\n      <td>1.012114</td>\n    </tr>\n    <tr>\n      <th>...</th>\n      <td>...</td>\n      <td>...</td>\n      <td>...</td>\n      <td>...</td>\n      <td>...</td>\n      <td>...</td>\n      <td>...</td>\n      <td>...</td>\n      <td>...</td>\n      <td>...</td>\n      <td>...</td>\n      <td>...</td>\n    </tr>\n    <tr>\n      <th>PWR</th>\n      <td>2010-01-14</td>\n      <td>20.209999</td>\n      <td>20.400000</td>\n      <td>19.340000</td>\n      <td>19.440001</td>\n      <td>19.238916</td>\n      <td>5720000.0</td>\n      <td>2010-01-14</td>\n      <td>-0.057683</td>\n      <td>-0.084746</td>\n      <td>20.762983</td>\n      <td>0.926597</td>\n    </tr>\n    <tr>\n      <th>URI</th>\n      <td>2010-01-14</td>\n      <td>8.970000</td>\n      <td>9.000000</td>\n      <td>8.870000</td>\n      <td>8.980000</td>\n      <td>8.980000</td>\n      <td>1102000.0</td>\n      <td>2010-01-14</td>\n      <td>0.002232</td>\n      <td>-0.105578</td>\n      <td>9.300000</td>\n      <td>0.965591</td>\n    </tr>\n    <tr>\n      <th>EXPE</th>\n      <td>2010-01-14</td>\n      <td>46.799999</td>\n      <td>48.040001</td>\n      <td>46.040001</td>\n      <td>46.119999</td>\n      <td>30.376251</td>\n      <td>2316950.0</td>\n      <td>2010-01-14</td>\n      <td>-0.021638</td>\n      <td>-0.106894</td>\n      <td>31.654005</td>\n      <td>0.959634</td>\n    </tr>\n    <tr>\n      <th>GPN</th>\n      <td>2010-01-14</td>\n      <td>23.780001</td>\n      <td>23.959999</td>\n      <td>23.475000</td>\n      <td>23.490000</td>\n      <td>23.119432</td>\n      <td>2981600.0</td>\n      <td>2010-01-14</td>\n      <td>-0.017361</td>\n      <td>-0.108031</td>\n      <td>23.532810</td>\n      <td>0.982434</td>\n    </tr>\n    <tr>\n      <th>TMUS</th>\n      <td>2010-01-14</td>\n      <td>12.420000</td>\n      <td>12.840000</td>\n      <td>12.400000</td>\n      <td>12.460000</td>\n      <td>10.323699</td>\n      <td>4879400.0</td>\n      <td>2010-01-14</td>\n      <td>-0.015798</td>\n      <td>-0.218319</td>\n      <td>11.914511</td>\n      <td>0.866481</td>\n    </tr>\n  </tbody>\n</table>\n<p>451 rows × 12 columns</p>\n</div>"
     },
     "metadata": {},
     "execution_count": 18
    }
   ],
   "source": [
    "df0 = get_daily_j(0).set_index('Name') # i dont know why, but you have to set index to name for the groupby's to work\n",
    "df0['pct_change'] = df0['Adj Close'].groupby('Name').pct_change()\n",
    "df0['cum_return'] = (df0['pct_change']+1).groupby('Name').cumprod().fillna(1)-1\n",
    "df0['adj_close_shifted'] = df0['Adj Close'].groupby('Name').shift(3)#.bfill(0) # filing the value with the backfill TODO check this later\n",
    "df0['adj_change'] = df0['Adj Close']/df0['adj_close_shifted'] #.bfill(0) \n",
    "\n",
    "features = df0.groupby('Name').tail(1).sort_values(['cum_return'], ascending=False)\n",
    "features"
   ]
  },
  {
   "cell_type": "code",
   "execution_count": 19,
   "metadata": {},
   "outputs": [],
   "source": [
    "# monthly_sp500['PYPL'].head() # TODO we should write about some of the issues of yahoofinance as a datasource, that should be sufficient"
   ]
  },
  {
   "cell_type": "code",
   "execution_count": 20,
   "metadata": {},
   "outputs": [
    {
     "output_type": "execute_result",
     "data": {
      "text/plain": [
       "Index(['DPZ', 'ILMN', 'MGM', 'LEN', 'ZION', 'RF', 'HBAN', 'TXT', 'IT', 'DAL'], dtype='object', name='Name')"
      ]
     },
     "metadata": {},
     "execution_count": 20
    }
   ],
   "source": [
    "# this calculates the winner and loser tickers given n\n",
    "n = 50\n",
    "get_percents = lambda n: features.shape[0]//n+1 # this function gets us n percent number of tickers\n",
    "winner_tickers = features[:get_percents(n)].index\n",
    "winner_tickers"
   ]
  },
  {
   "cell_type": "code",
   "execution_count": 21,
   "metadata": {},
   "outputs": [
    {
     "output_type": "execute_result",
     "data": {
      "text/plain": [
       "Index(['T', 'AMD', 'MPWR', 'ALGN', 'CRM', 'PWR', 'URI', 'EXPE', 'GPN', 'TMUS'], dtype='object', name='Name')"
      ]
     },
     "metadata": {},
     "execution_count": 21
    }
   ],
   "source": [
    "loser_tickers = features[-get_percents(n):].index\n",
    "loser_tickers"
   ]
  },
  {
   "cell_type": "code",
   "execution_count": 22,
   "metadata": {},
   "outputs": [],
   "source": [
    "# equally weight\n",
    "weights = np.ones(get_percents(n))/(get_percents(n))"
   ]
  },
  {
   "cell_type": "code",
   "execution_count": 23,
   "metadata": {},
   "outputs": [
    {
     "output_type": "execute_result",
     "data": {
      "text/plain": [
       "Date\n",
       "2010-01-04    0.000000\n",
       "2010-01-05    0.027465\n",
       "2010-01-06    0.051667\n",
       "2010-01-07    0.129314\n",
       "2010-01-08    0.128945\n",
       "2010-01-11    0.152255\n",
       "2010-01-12    0.175668\n",
       "2010-01-13    0.202810\n",
       "2010-01-14    0.236339\n",
       "dtype: float64"
      ]
     },
     "metadata": {},
     "execution_count": 23
    }
   ],
   "source": [
    "winner_df0 = df0.loc[winner_tickers.to_list()]\n",
    "winner_df0 = winner_df0.pivot_table(index='Date',columns='Name')['pct_change'].fillna(0) # \n",
    "winner_df0\n",
    "# winner_df0.dot(weights) # gives us the percent change of the portfolios\n",
    "winner_performance = (winner_df0.dot(weights)+1).cumprod() - 1 # gets cumulative return for a period\n",
    "winner_performance"
   ]
  },
  {
   "cell_type": "code",
   "execution_count": 24,
   "metadata": {},
   "outputs": [
    {
     "output_type": "stream",
     "name": "stdout",
     "text": [
      ".weights 226\n"
     ]
    },
    {
     "output_type": "execute_result",
     "data": {
      "text/plain": [
       "             winners    losers\n",
       "Date                          \n",
       "2010-01-04  0.000000  0.000000\n",
       "2010-01-05  0.011233 -0.003176\n",
       "2010-01-06  0.019181 -0.006703\n",
       "2010-01-07  0.033485 -0.008937\n",
       "2010-01-08  0.038624 -0.008034\n",
       "2010-01-11  0.044524 -0.008212\n",
       "2010-01-12  0.037897 -0.022858\n",
       "2010-01-13  0.050982 -0.014785\n",
       "2010-01-14  0.057363 -0.018062"
      ],
      "text/html": "<div>\n<style scoped>\n    .dataframe tbody tr th:only-of-type {\n        vertical-align: middle;\n    }\n\n    .dataframe tbody tr th {\n        vertical-align: top;\n    }\n\n    .dataframe thead th {\n        text-align: right;\n    }\n</style>\n<table border=\"1\" class=\"dataframe\">\n  <thead>\n    <tr style=\"text-align: right;\">\n      <th></th>\n      <th>winners</th>\n      <th>losers</th>\n    </tr>\n    <tr>\n      <th>Date</th>\n      <th></th>\n      <th></th>\n    </tr>\n  </thead>\n  <tbody>\n    <tr>\n      <th>2010-01-04</th>\n      <td>0.000000</td>\n      <td>0.000000</td>\n    </tr>\n    <tr>\n      <th>2010-01-05</th>\n      <td>0.011233</td>\n      <td>-0.003176</td>\n    </tr>\n    <tr>\n      <th>2010-01-06</th>\n      <td>0.019181</td>\n      <td>-0.006703</td>\n    </tr>\n    <tr>\n      <th>2010-01-07</th>\n      <td>0.033485</td>\n      <td>-0.008937</td>\n    </tr>\n    <tr>\n      <th>2010-01-08</th>\n      <td>0.038624</td>\n      <td>-0.008034</td>\n    </tr>\n    <tr>\n      <th>2010-01-11</th>\n      <td>0.044524</td>\n      <td>-0.008212</td>\n    </tr>\n    <tr>\n      <th>2010-01-12</th>\n      <td>0.037897</td>\n      <td>-0.022858</td>\n    </tr>\n    <tr>\n      <th>2010-01-13</th>\n      <td>0.050982</td>\n      <td>-0.014785</td>\n    </tr>\n    <tr>\n      <th>2010-01-14</th>\n      <td>0.057363</td>\n      <td>-0.018062</td>\n    </tr>\n  </tbody>\n</table>\n</div>"
     },
     "metadata": {},
     "execution_count": 24
    }
   ],
   "source": [
    "def get_cum_return(data):\n",
    "    '''gets cumulative return based on adjusted closing price of all tickers in input dataframe'''\n",
    "    df_ = data.set_index('Name')\n",
    "\n",
    "    # df_['pct_change'] = df_['Adj Close'].groupby('Name').pct_change()\n",
    "    df_['pct_change'] = df_['Adj Close'].groupby('Name').pct_change()\n",
    "    df_['cum_return'] = (df_['pct_change']+1).groupby('Name').cumprod().fillna(1)-1\n",
    "    df_['adj_close_shifted'] = df_['Adj Close'].groupby('Name').shift(3)#.bfill(0) # filing the value with the backfill TODO check this later\n",
    "    df_['adj_change'] = df_['Adj Close']/df_['adj_close_shifted'] #.bfill(0) \n",
    "    df_['adj_close_shifted'] = df_['Adj Close'].groupby('Name').shift(3)#.bfill(0) # filing the value with the backfill TODO check this later\n",
    "    df_['adj_change'] = df_['Adj Close']/df_['adj_close_shifted'] #.bfill(0) \n",
    "    \n",
    "    return df_\n",
    "\n",
    "def get_percents(n): \n",
    "    '''this function gets us n percent number of tickers'''\n",
    "    return features.shape[0]//n+1\n",
    "\n",
    "def get_portfolios(period=0, n=50):   \n",
    "    '''returns the portfolios we want from a particular period'''\n",
    "    ## Gets the portfolio(s) in question we want to look at\n",
    "    data = get_cum_return(get_daily_j(period))\n",
    "    features = data.groupby('Name').tail(1).sort_values(['cum_return'], ascending=False) # sorts tickers by cumulative return\n",
    "\n",
    "    winner_tickers = features[:get_percents(n)].index # we get the top/bottom n percent tickers\n",
    "    loser_tickers = features[-get_percents(n):].index # only winner and loser portfolios for now, we could expand later\n",
    "    # TODO add more portfolios if we have time\n",
    "    # print(len(winner_tickers), len(loser_tickers))\n",
    "    print('.', end='')\n",
    "    return (winner_tickers.to_list(), loser_tickers.to_list())\n",
    "\n",
    "def get_portfolio_performance(period=0, n=2, weights=None, hold=False):\n",
    "    '''Gets all portfolios' cumulative return performance based on n period \n",
    "    keyword args:\n",
    "    period      -- the nth period of data we are looking at, default 0\n",
    "    portfolio   -- the particular type of portfolio we want to be looking at (winner or loser, etc) default winner/momentum\n",
    "    n           -- the percentage of tickers we want to be looking at\n",
    "    weights     -- how to weight the portfolio values. if unspecified (None) we assume equal weighting in the portfolio\n",
    "    hold        -- if true returns the performance evaluation of the holding period k, else returns the performance of the observation period j\n",
    "    '''\n",
    "    winner_tickers, loser_tickers = get_portfolios(period, n)\n",
    "\n",
    "    ## evaluates the performance of portfolios on either hold or observational data\n",
    "    eval_df = get_cum_return(get_k_df(period)) if hold else get_cum_return(get_daily_j(period))# we get the return from the hold period\n",
    "    \n",
    "    weights = np.ones(get_percents(n))/(get_percents(n)) if not weights else weights # set weights\n",
    "    print('weights', len(weights))\n",
    "    winner_eval = eval_df.loc[winner_tickers] # first the winners\n",
    "    winner_eval = winner_eval.pivot_table(index='Date',columns='Name')['pct_change'].fillna(0)\n",
    "    winner_performance = (winner_eval.dot(weights)+1).cumprod() - 1 # cumulative return\n",
    "\n",
    "    loser_eval = eval_df.loc[loser_tickers] # then the losers\n",
    "    loser_eval = loser_eval.pivot_table(index='Date',columns='Name')['pct_change'].fillna(0)\n",
    "    loser_performance = (loser_eval.dot(weights)+1).cumprod() - 1 # cumulative return\n",
    "\n",
    "    output = pd.DataFrame({'winners': winner_performance, 'losers': loser_performance})\n",
    "    return output\n",
    "get_portfolio_performance()"
   ]
  },
  {
   "cell_type": "code",
   "execution_count": 25,
   "metadata": {},
   "outputs": [
    {
     "output_type": "stream",
     "name": "stdout",
     "text": [
      "."
     ]
    },
    {
     "output_type": "execute_result",
     "data": {
      "text/plain": [
       "(['NFLX', 'DHI', 'LYV', 'PRGO', 'STE', 'PHM', 'LEN', 'REGN', 'EMR', 'SHW'],\n",
       " ['MPWR', 'IP', 'IVZ', 'WU', 'FTNT', 'AIG', 'ALK', 'IDXX', 'AVY', 'QCOM'])"
      ]
     },
     "metadata": {},
     "execution_count": 25
    }
   ],
   "source": [
    "get_portfolios(1)"
   ]
  },
  {
   "cell_type": "code",
   "execution_count": 26,
   "metadata": {},
   "outputs": [],
   "source": [
    "# 10/500\n",
    "# pf = pd.DataFrame({'idx':timedf.index})\n",
    "# pf['mom'], pf['rev'] = zip(*pf['idx'].map(get_portfolios))\n",
    "# pf"
   ]
  },
  {
   "cell_type": "code",
   "execution_count": 27,
   "metadata": {},
   "outputs": [],
   "source": [
    "# portfolios = {'mom':{}, 'rev':{}}\n",
    "# for i in timedf.index:\n",
    "#     # print(i)\n",
    "#     mom, rev = get_portfolios(i)\n",
    "#     portfolios['mom'][i] = mom\n",
    "#     portfolios['rev'][i] = rev\n",
    "# # portfolios['mom'][0]\n",
    "# pf = timedf.merge(pd.DataFrame(portfolios), left_index=True, right_index=True)\n",
    "# pf.head()"
   ]
  },
  {
   "cell_type": "code",
   "execution_count": 28,
   "metadata": {},
   "outputs": [],
   "source": [
    "# def get_portfolio_pct(lst, date, weights=None):\n",
    "#     '''given list of tickers, generates a EQUAL WEIGHTED INDEX portfolio and aggregates their performance'''\n",
    "#     portfolio_df = df[df['Name'].isin(lst)] #filters df by lst\n",
    "#     portfolio_df = get_cum_return(portfolio_df)[['Date','pct_change']] # we get cum return\n",
    "#     portfolio_df = portfolio_df.groupby('Date').mean()\n",
    "#     value = portfolio_df[pd.to_datetime(portfolio_df.index)==pd.to_datetime(date)].values\n",
    "#     # print('.', end='')\n",
    "#     return 0 if (value.shape[0]==0 or np.isnan(value[0,0])) else value[0,0] # will need to spend time staring at the output to see if most columns are good\n",
    "    # im thinking the only good value we can get out of this is percent change and maybe cum_return, ohlc columns are garbage\n",
    "# temp = get_portfolio_pct(['NFLX', 'LVS', 'URI', 'CMG', 'FFIV'], dpf.Date[0])\n",
    "# temp\n"
   ]
  },
  {
   "cell_type": "code",
   "execution_count": 29,
   "metadata": {},
   "outputs": [],
   "source": [
    "# dpf = pd.DataFrame({'Date':pd.date_range(df.Date.min(), df.Date.max(), freq=\"D\")}).merge(pf[['k_end', 'mom', 'rev']].reset_index(), how='left', left_on='Date', right_on='k_end').bfill().ffill()\n",
    "# dpf['mom_pct_change'] = dpf.apply(lambda x: get_portfolio_pct(x.mom, x.Date), axis=1)\n",
    "# dpf['rev_pct_change'] = dpf.apply(lambda x: get_portfolio_pct(x.rev, x.Date), axis=1)\n",
    "# dpf['index'] = dpf['index'].astype(int)\n",
    "# dpf = dpf.drop(['mom', 'rev', 'k_end'], axis=1)\n",
    "# dpf['mom_return'] = ((dpf['mom_pct_change']+1).cumprod()-1) * 100\n",
    "# dpf['rev_return'] = ((dpf['rev_pct_change']+1).cumprod()-1) * 100\n",
    "# dpf[['mom_return', 'rev_return', 'Date']].set_index('Date').plot(figsize=(12,8))\n",
    "# dpf"
   ]
  },
  {
   "cell_type": "code",
   "execution_count": 30,
   "metadata": {},
   "outputs": [],
   "source": [
    "# spc = pdr.get_data_yahoo(\"^GSPC\", start=\"2009-10-01\")\n",
    "# spc"
   ]
  },
  {
   "cell_type": "code",
   "execution_count": 31,
   "metadata": {},
   "outputs": [],
   "source": [
    "import matplotlib.ticker as mtick\n",
    "\n",
    "# fig = plt.figure(1, (12,8))\n",
    "# ax = fig.add_subplot(1,1,1)\n",
    "# fmt = '%.0f%%' # Format you want the ticks, e.g. '40%'\n",
    "# xticks = mtick.FormatStrFormatter(fmt)\n",
    "# ax.yaxis.set_major_formatter(xticks)\n",
    "# spc['pctc'] = spc['Adj Close'].pct_change()\n",
    "# spc['cumprod'] =((spc['pctc']+1).cumprod()-1)*100\n",
    "# sp500 = spc.merge(dpf, how='left', left_index=True, right_on='Date')\n",
    "# sp500[['Date', 'mom_return', 'rev_return','cumprod']].set_index('Date').plot.area(ax=ax,stacked=False,figsize=(12,8)) # plotted\n",
    "# ax.legend([\"Momentum\", \"Reversal\", \"S&P500\"])\n",
    "# fig.savefig('performance.png')"
   ]
  },
  {
   "cell_type": "code",
   "execution_count": 32,
   "metadata": {},
   "outputs": [],
   "source": [
    "# sp500 = sp500.drop(['mom_return', 'rev_return'], axis=1) # mom_retunr and rev_return, beware of use\n",
    "# sp500 = sp500.reset_index(drop=True).set_index('Date')\n",
    "\n",
    "# sp500.ta.cci(length=4,append=True)\n",
    "# sp500.ta.kdj(length=4,append=True)\n",
    "# sp500.ta.rsi(length=4,append=True)\n",
    "# sp500.ta.bop(length=4,append=True)\n",
    "# sp500.ta.willr(length=4,append=True)\n",
    "# sp500.ta.pdist(length=4,append=True)\n",
    "# sp500.ta.kc(length=4,append=True)\n",
    "# sp500.ta.adx(length=4,append=True)\n",
    "# sp500.ta.qstick(length=4,append=True)\n",
    "# sp500.ta.roc(length=4,append=True)\n",
    "# # sp500.ta.ao(length=4,append=True)\n",
    "# # sp500.ta.macd(fast=4,slow=8,append=True)\n",
    "# sp500.ta.stdev(length=4,append=True)\n",
    "# sp500.ta.pvol(append=True)\n",
    "# sp500.ta.efi(length=4, append=True)\n",
    "# sp500 = sp500[sp500.index.isin(pd.date_range(timedf.j_start.min(), timedf.k_end.max()))]\n",
    "# sp500"
   ]
  },
  {
   "cell_type": "code",
   "execution_count": 33,
   "metadata": {},
   "outputs": [],
   "source": [
    "get_j_df = get_daily_j\n",
    "get_k_df = get_daily_k\n",
    "# get_j_df().groupby('period').count()\n"
   ]
  },
  {
   "source": [
    "# START HERE! avoid most everything above"
   ],
   "cell_type": "markdown",
   "metadata": {}
  },
  {
   "cell_type": "code",
   "execution_count": 34,
   "metadata": {},
   "outputs": [
    {
     "output_type": "execute_result",
     "data": {
      "text/plain": [
       "       j_start   midpoint      k_end\n",
       "0   2010-01-04 2010-01-14 2010-02-02\n",
       "1   2010-01-24 2010-02-03 2010-02-22\n",
       "2   2010-02-13 2010-02-23 2010-03-14\n",
       "3   2010-03-05 2010-03-15 2010-04-03\n",
       "4   2010-03-25 2010-04-04 2010-04-23\n",
       "..         ...        ...        ...\n",
       "199 2020-11-27 2020-12-07 2020-12-26\n",
       "200 2020-12-17 2020-12-27 2021-01-15\n",
       "201 2021-01-06 2021-01-16 2021-02-04\n",
       "202 2021-01-26 2021-02-05 2021-02-24\n",
       "203 2021-02-15 2021-02-25 2021-03-16\n",
       "\n",
       "[204 rows x 3 columns]"
      ],
      "text/html": "<div>\n<style scoped>\n    .dataframe tbody tr th:only-of-type {\n        vertical-align: middle;\n    }\n\n    .dataframe tbody tr th {\n        vertical-align: top;\n    }\n\n    .dataframe thead th {\n        text-align: right;\n    }\n</style>\n<table border=\"1\" class=\"dataframe\">\n  <thead>\n    <tr style=\"text-align: right;\">\n      <th></th>\n      <th>j_start</th>\n      <th>midpoint</th>\n      <th>k_end</th>\n    </tr>\n  </thead>\n  <tbody>\n    <tr>\n      <th>0</th>\n      <td>2010-01-04</td>\n      <td>2010-01-14</td>\n      <td>2010-02-02</td>\n    </tr>\n    <tr>\n      <th>1</th>\n      <td>2010-01-24</td>\n      <td>2010-02-03</td>\n      <td>2010-02-22</td>\n    </tr>\n    <tr>\n      <th>2</th>\n      <td>2010-02-13</td>\n      <td>2010-02-23</td>\n      <td>2010-03-14</td>\n    </tr>\n    <tr>\n      <th>3</th>\n      <td>2010-03-05</td>\n      <td>2010-03-15</td>\n      <td>2010-04-03</td>\n    </tr>\n    <tr>\n      <th>4</th>\n      <td>2010-03-25</td>\n      <td>2010-04-04</td>\n      <td>2010-04-23</td>\n    </tr>\n    <tr>\n      <th>...</th>\n      <td>...</td>\n      <td>...</td>\n      <td>...</td>\n    </tr>\n    <tr>\n      <th>199</th>\n      <td>2020-11-27</td>\n      <td>2020-12-07</td>\n      <td>2020-12-26</td>\n    </tr>\n    <tr>\n      <th>200</th>\n      <td>2020-12-17</td>\n      <td>2020-12-27</td>\n      <td>2021-01-15</td>\n    </tr>\n    <tr>\n      <th>201</th>\n      <td>2021-01-06</td>\n      <td>2021-01-16</td>\n      <td>2021-02-04</td>\n    </tr>\n    <tr>\n      <th>202</th>\n      <td>2021-01-26</td>\n      <td>2021-02-05</td>\n      <td>2021-02-24</td>\n    </tr>\n    <tr>\n      <th>203</th>\n      <td>2021-02-15</td>\n      <td>2021-02-25</td>\n      <td>2021-03-16</td>\n    </tr>\n  </tbody>\n</table>\n<p>204 rows × 3 columns</p>\n</div>"
     },
     "metadata": {},
     "execution_count": 34
    }
   ],
   "source": [
    "df = pd.read_csv('SP500_daily.csv').infer_objects().dropna()\n",
    "def pull_data(j=10,k=20):\n",
    "    # this runs on bad code. Please restart the kernel and run all if you run into issues.\n",
    "    tdf, j, k = generate_daily_timetable(j=j,k=k)\n",
    "    df_ = pd.read_csv('daily_j'+str(j)+'_k'+str(k)+'.csv')\n",
    "    return tdf, df_, j, k\n",
    "timedf, df, j, k= pull_data(10,20)\n",
    "timedf"
   ]
  },
  {
   "cell_type": "code",
   "execution_count": 35,
   "metadata": {},
   "outputs": [
    {
     "output_type": "execute_result",
     "data": {
      "text/plain": [
       "            date         open         high          low        close  \\\n",
       "0     2010-01-04  1116.560059  1133.869995  1116.560059  1132.989990   \n",
       "1     2010-01-05  1132.660034  1136.630005  1129.660034  1136.520020   \n",
       "2     2010-01-06  1135.709961  1139.189941  1133.949951  1137.140015   \n",
       "3     2010-01-07  1136.270020  1142.459961  1131.319946  1141.689941   \n",
       "4     2010-01-08  1140.520020  1145.390015  1136.219971  1144.979980   \n",
       "...          ...          ...          ...          ...          ...   \n",
       "2810  2021-03-04  3818.530029  3843.669922  3723.340088  3768.469971   \n",
       "2811  2021-03-05  3793.580078  3851.689941  3730.189941  3841.939941   \n",
       "2812  2021-03-08  3844.389893  3881.060059  3819.250000  3821.350098   \n",
       "2813  2021-03-09  3851.929932  3903.760010  3851.929932  3875.439941   \n",
       "2814  2021-03-10  3891.989990  3917.350098  3885.729980  3898.810059   \n",
       "\n",
       "        adj_close      volume      pctc     cumprod  index  ...     KCBe_4_2  \\\n",
       "0     1132.989990  3991400000  0.016043   10.015052      0  ...  1125.862247   \n",
       "1     1136.520020  2491020000  0.003116   10.357824      0  ...  1130.125356   \n",
       "2     1137.140015  4972660000  0.000546   10.418026      0  ...  1132.931219   \n",
       "3     1141.689941  5270680000  0.004001   10.859831      0  ...  1136.434708   \n",
       "4     1144.979980  4389590000  0.002882   11.179299      0  ...  1139.852817   \n",
       "...           ...         ...       ...         ...    ...  ...          ...   \n",
       "2810  3768.469971  7142240000 -0.013417  265.924170    202  ...  3817.461671   \n",
       "2811  3841.939941  6842570000  0.019496  273.058216    202  ...  3827.252979   \n",
       "2812  3821.350098  5852240000 -0.005359  271.058910    202  ...  3824.891827   \n",
       "2813  3875.439941  5496340000  0.014155  276.311117    202  ...  3845.111072   \n",
       "2814  3898.810059  2661222204  0.006030  278.580390    202  ...  3866.590667   \n",
       "\n",
       "         KCUe_4_2      ADX_4      DMP_4      DMN_4       QS_4     ROC_4  \\\n",
       "0     1150.908327  31.353875  25.824193  20.473821   0.867462  0.461966   \n",
       "1     1150.728981  29.868441  28.282059  16.820527   2.419983  0.916362   \n",
       "2     1149.485386  31.780718  31.403334  14.268415   2.554993  0.951685   \n",
       "3     1155.279220  36.597717  30.786961   9.977320   6.784973  2.384536   \n",
       "4     1158.495559  42.725905  31.076194   7.501304   3.792480  1.058261   \n",
       "...           ...        ...        ...        ...        ...       ...   \n",
       "2810  3989.228356  40.559639   9.643459  52.792746 -17.092468 -1.119870   \n",
       "2811  4027.512990  45.509728   8.607734  34.821798 -19.830017 -1.534672   \n",
       "2812  3994.495880  41.137035  15.906452  28.289774 -17.252502 -1.264503   \n",
       "2813  4012.801434  32.350414  18.817021  21.215170  -0.307495  1.458745   \n",
       "2814  4000.733009  25.965217  20.790230  18.139277  13.912537  3.458700   \n",
       "\n",
       "        STDEV_4          PVOL         EFI_4  \n",
       "0      7.420261  4.522216e+12  2.361978e+10  \n",
       "1      9.419172  2.831094e+12  1.768922e+10  \n",
       "2     10.387101  5.654611e+12  1.184674e+10  \n",
       "3      3.572899  6.017482e+12  1.670053e+10  \n",
       "4      3.996610  5.025993e+12  1.579709e+10  \n",
       "...         ...           ...           ...  \n",
       "2810  58.500739  2.691532e+13 -2.281458e+11  \n",
       "2811  43.056661  2.628874e+13  6.420190e+10  \n",
       "2812  31.279697  2.236346e+13 -9.677543e+09  \n",
       "2813  44.822448  2.130074e+13  1.131119e+11  \n",
       "2814  34.462928  1.037560e+13  9.274440e+10  \n",
       "\n",
       "[2815 rows x 31 columns]"
      ],
      "text/html": "<div>\n<style scoped>\n    .dataframe tbody tr th:only-of-type {\n        vertical-align: middle;\n    }\n\n    .dataframe tbody tr th {\n        vertical-align: top;\n    }\n\n    .dataframe thead th {\n        text-align: right;\n    }\n</style>\n<table border=\"1\" class=\"dataframe\">\n  <thead>\n    <tr style=\"text-align: right;\">\n      <th></th>\n      <th>date</th>\n      <th>open</th>\n      <th>high</th>\n      <th>low</th>\n      <th>close</th>\n      <th>adj_close</th>\n      <th>volume</th>\n      <th>pctc</th>\n      <th>cumprod</th>\n      <th>index</th>\n      <th>...</th>\n      <th>KCBe_4_2</th>\n      <th>KCUe_4_2</th>\n      <th>ADX_4</th>\n      <th>DMP_4</th>\n      <th>DMN_4</th>\n      <th>QS_4</th>\n      <th>ROC_4</th>\n      <th>STDEV_4</th>\n      <th>PVOL</th>\n      <th>EFI_4</th>\n    </tr>\n  </thead>\n  <tbody>\n    <tr>\n      <th>0</th>\n      <td>2010-01-04</td>\n      <td>1116.560059</td>\n      <td>1133.869995</td>\n      <td>1116.560059</td>\n      <td>1132.989990</td>\n      <td>1132.989990</td>\n      <td>3991400000</td>\n      <td>0.016043</td>\n      <td>10.015052</td>\n      <td>0</td>\n      <td>...</td>\n      <td>1125.862247</td>\n      <td>1150.908327</td>\n      <td>31.353875</td>\n      <td>25.824193</td>\n      <td>20.473821</td>\n      <td>0.867462</td>\n      <td>0.461966</td>\n      <td>7.420261</td>\n      <td>4.522216e+12</td>\n      <td>2.361978e+10</td>\n    </tr>\n    <tr>\n      <th>1</th>\n      <td>2010-01-05</td>\n      <td>1132.660034</td>\n      <td>1136.630005</td>\n      <td>1129.660034</td>\n      <td>1136.520020</td>\n      <td>1136.520020</td>\n      <td>2491020000</td>\n      <td>0.003116</td>\n      <td>10.357824</td>\n      <td>0</td>\n      <td>...</td>\n      <td>1130.125356</td>\n      <td>1150.728981</td>\n      <td>29.868441</td>\n      <td>28.282059</td>\n      <td>16.820527</td>\n      <td>2.419983</td>\n      <td>0.916362</td>\n      <td>9.419172</td>\n      <td>2.831094e+12</td>\n      <td>1.768922e+10</td>\n    </tr>\n    <tr>\n      <th>2</th>\n      <td>2010-01-06</td>\n      <td>1135.709961</td>\n      <td>1139.189941</td>\n      <td>1133.949951</td>\n      <td>1137.140015</td>\n      <td>1137.140015</td>\n      <td>4972660000</td>\n      <td>0.000546</td>\n      <td>10.418026</td>\n      <td>0</td>\n      <td>...</td>\n      <td>1132.931219</td>\n      <td>1149.485386</td>\n      <td>31.780718</td>\n      <td>31.403334</td>\n      <td>14.268415</td>\n      <td>2.554993</td>\n      <td>0.951685</td>\n      <td>10.387101</td>\n      <td>5.654611e+12</td>\n      <td>1.184674e+10</td>\n    </tr>\n    <tr>\n      <th>3</th>\n      <td>2010-01-07</td>\n      <td>1136.270020</td>\n      <td>1142.459961</td>\n      <td>1131.319946</td>\n      <td>1141.689941</td>\n      <td>1141.689941</td>\n      <td>5270680000</td>\n      <td>0.004001</td>\n      <td>10.859831</td>\n      <td>0</td>\n      <td>...</td>\n      <td>1136.434708</td>\n      <td>1155.279220</td>\n      <td>36.597717</td>\n      <td>30.786961</td>\n      <td>9.977320</td>\n      <td>6.784973</td>\n      <td>2.384536</td>\n      <td>3.572899</td>\n      <td>6.017482e+12</td>\n      <td>1.670053e+10</td>\n    </tr>\n    <tr>\n      <th>4</th>\n      <td>2010-01-08</td>\n      <td>1140.520020</td>\n      <td>1145.390015</td>\n      <td>1136.219971</td>\n      <td>1144.979980</td>\n      <td>1144.979980</td>\n      <td>4389590000</td>\n      <td>0.002882</td>\n      <td>11.179299</td>\n      <td>0</td>\n      <td>...</td>\n      <td>1139.852817</td>\n      <td>1158.495559</td>\n      <td>42.725905</td>\n      <td>31.076194</td>\n      <td>7.501304</td>\n      <td>3.792480</td>\n      <td>1.058261</td>\n      <td>3.996610</td>\n      <td>5.025993e+12</td>\n      <td>1.579709e+10</td>\n    </tr>\n    <tr>\n      <th>...</th>\n      <td>...</td>\n      <td>...</td>\n      <td>...</td>\n      <td>...</td>\n      <td>...</td>\n      <td>...</td>\n      <td>...</td>\n      <td>...</td>\n      <td>...</td>\n      <td>...</td>\n      <td>...</td>\n      <td>...</td>\n      <td>...</td>\n      <td>...</td>\n      <td>...</td>\n      <td>...</td>\n      <td>...</td>\n      <td>...</td>\n      <td>...</td>\n      <td>...</td>\n      <td>...</td>\n    </tr>\n    <tr>\n      <th>2810</th>\n      <td>2021-03-04</td>\n      <td>3818.530029</td>\n      <td>3843.669922</td>\n      <td>3723.340088</td>\n      <td>3768.469971</td>\n      <td>3768.469971</td>\n      <td>7142240000</td>\n      <td>-0.013417</td>\n      <td>265.924170</td>\n      <td>202</td>\n      <td>...</td>\n      <td>3817.461671</td>\n      <td>3989.228356</td>\n      <td>40.559639</td>\n      <td>9.643459</td>\n      <td>52.792746</td>\n      <td>-17.092468</td>\n      <td>-1.119870</td>\n      <td>58.500739</td>\n      <td>2.691532e+13</td>\n      <td>-2.281458e+11</td>\n    </tr>\n    <tr>\n      <th>2811</th>\n      <td>2021-03-05</td>\n      <td>3793.580078</td>\n      <td>3851.689941</td>\n      <td>3730.189941</td>\n      <td>3841.939941</td>\n      <td>3841.939941</td>\n      <td>6842570000</td>\n      <td>0.019496</td>\n      <td>273.058216</td>\n      <td>202</td>\n      <td>...</td>\n      <td>3827.252979</td>\n      <td>4027.512990</td>\n      <td>45.509728</td>\n      <td>8.607734</td>\n      <td>34.821798</td>\n      <td>-19.830017</td>\n      <td>-1.534672</td>\n      <td>43.056661</td>\n      <td>2.628874e+13</td>\n      <td>6.420190e+10</td>\n    </tr>\n    <tr>\n      <th>2812</th>\n      <td>2021-03-08</td>\n      <td>3844.389893</td>\n      <td>3881.060059</td>\n      <td>3819.250000</td>\n      <td>3821.350098</td>\n      <td>3821.350098</td>\n      <td>5852240000</td>\n      <td>-0.005359</td>\n      <td>271.058910</td>\n      <td>202</td>\n      <td>...</td>\n      <td>3824.891827</td>\n      <td>3994.495880</td>\n      <td>41.137035</td>\n      <td>15.906452</td>\n      <td>28.289774</td>\n      <td>-17.252502</td>\n      <td>-1.264503</td>\n      <td>31.279697</td>\n      <td>2.236346e+13</td>\n      <td>-9.677543e+09</td>\n    </tr>\n    <tr>\n      <th>2813</th>\n      <td>2021-03-09</td>\n      <td>3851.929932</td>\n      <td>3903.760010</td>\n      <td>3851.929932</td>\n      <td>3875.439941</td>\n      <td>3875.439941</td>\n      <td>5496340000</td>\n      <td>0.014155</td>\n      <td>276.311117</td>\n      <td>202</td>\n      <td>...</td>\n      <td>3845.111072</td>\n      <td>4012.801434</td>\n      <td>32.350414</td>\n      <td>18.817021</td>\n      <td>21.215170</td>\n      <td>-0.307495</td>\n      <td>1.458745</td>\n      <td>44.822448</td>\n      <td>2.130074e+13</td>\n      <td>1.131119e+11</td>\n    </tr>\n    <tr>\n      <th>2814</th>\n      <td>2021-03-10</td>\n      <td>3891.989990</td>\n      <td>3917.350098</td>\n      <td>3885.729980</td>\n      <td>3898.810059</td>\n      <td>3898.810059</td>\n      <td>2661222204</td>\n      <td>0.006030</td>\n      <td>278.580390</td>\n      <td>202</td>\n      <td>...</td>\n      <td>3866.590667</td>\n      <td>4000.733009</td>\n      <td>25.965217</td>\n      <td>20.790230</td>\n      <td>18.139277</td>\n      <td>13.912537</td>\n      <td>3.458700</td>\n      <td>34.462928</td>\n      <td>1.037560e+13</td>\n      <td>9.274440e+10</td>\n    </tr>\n  </tbody>\n</table>\n<p>2815 rows × 31 columns</p>\n</div>"
     },
     "metadata": {},
     "execution_count": 35
    }
   ],
   "source": [
    "df['index'] = df['index'].astype(int)\n",
    "df # all the features you neeeed"
   ]
  },
  {
   "cell_type": "code",
   "execution_count": 36,
   "metadata": {},
   "outputs": [
    {
     "output_type": "execute_result",
     "data": {
      "text/plain": [
       "       j_start   midpoint      k_end\n",
       "0   2010-01-04 2010-01-14 2010-02-02\n",
       "1   2010-01-24 2010-02-03 2010-02-22\n",
       "2   2010-02-13 2010-02-23 2010-03-14\n",
       "3   2010-03-05 2010-03-15 2010-04-03\n",
       "4   2010-03-25 2010-04-04 2010-04-23\n",
       "..         ...        ...        ...\n",
       "199 2020-11-27 2020-12-07 2020-12-26\n",
       "200 2020-12-17 2020-12-27 2021-01-15\n",
       "201 2021-01-06 2021-01-16 2021-02-04\n",
       "202 2021-01-26 2021-02-05 2021-02-24\n",
       "203 2021-02-15 2021-02-25 2021-03-16\n",
       "\n",
       "[204 rows x 3 columns]"
      ],
      "text/html": "<div>\n<style scoped>\n    .dataframe tbody tr th:only-of-type {\n        vertical-align: middle;\n    }\n\n    .dataframe tbody tr th {\n        vertical-align: top;\n    }\n\n    .dataframe thead th {\n        text-align: right;\n    }\n</style>\n<table border=\"1\" class=\"dataframe\">\n  <thead>\n    <tr style=\"text-align: right;\">\n      <th></th>\n      <th>j_start</th>\n      <th>midpoint</th>\n      <th>k_end</th>\n    </tr>\n  </thead>\n  <tbody>\n    <tr>\n      <th>0</th>\n      <td>2010-01-04</td>\n      <td>2010-01-14</td>\n      <td>2010-02-02</td>\n    </tr>\n    <tr>\n      <th>1</th>\n      <td>2010-01-24</td>\n      <td>2010-02-03</td>\n      <td>2010-02-22</td>\n    </tr>\n    <tr>\n      <th>2</th>\n      <td>2010-02-13</td>\n      <td>2010-02-23</td>\n      <td>2010-03-14</td>\n    </tr>\n    <tr>\n      <th>3</th>\n      <td>2010-03-05</td>\n      <td>2010-03-15</td>\n      <td>2010-04-03</td>\n    </tr>\n    <tr>\n      <th>4</th>\n      <td>2010-03-25</td>\n      <td>2010-04-04</td>\n      <td>2010-04-23</td>\n    </tr>\n    <tr>\n      <th>...</th>\n      <td>...</td>\n      <td>...</td>\n      <td>...</td>\n    </tr>\n    <tr>\n      <th>199</th>\n      <td>2020-11-27</td>\n      <td>2020-12-07</td>\n      <td>2020-12-26</td>\n    </tr>\n    <tr>\n      <th>200</th>\n      <td>2020-12-17</td>\n      <td>2020-12-27</td>\n      <td>2021-01-15</td>\n    </tr>\n    <tr>\n      <th>201</th>\n      <td>2021-01-06</td>\n      <td>2021-01-16</td>\n      <td>2021-02-04</td>\n    </tr>\n    <tr>\n      <th>202</th>\n      <td>2021-01-26</td>\n      <td>2021-02-05</td>\n      <td>2021-02-24</td>\n    </tr>\n    <tr>\n      <th>203</th>\n      <td>2021-02-15</td>\n      <td>2021-02-25</td>\n      <td>2021-03-16</td>\n    </tr>\n  </tbody>\n</table>\n<p>204 rows × 3 columns</p>\n</div>"
     },
     "metadata": {},
     "execution_count": 36
    }
   ],
   "source": [
    "timedf"
   ]
  },
  {
   "source": [
    "# Charting"
   ],
   "cell_type": "markdown",
   "metadata": {}
  },
  {
   "cell_type": "code",
   "execution_count": 37,
   "metadata": {},
   "outputs": [
    {
     "output_type": "display_data",
     "data": {
      "text/plain": "<Figure size 576x360 with 1 Axes>",
      "image/svg+xml": "<?xml version=\"1.0\" encoding=\"utf-8\" standalone=\"no\"?>\r\n<!DOCTYPE svg PUBLIC \"-//W3C//DTD SVG 1.1//EN\"\r\n  \"http://www.w3.org/Graphics/SVG/1.1/DTD/svg11.dtd\">\r\n<!-- Created with matplotlib (https://matplotlib.org/) -->\r\n<svg height=\"332.435565pt\" version=\"1.1\" viewBox=\"0 0 506.847069 332.435565\" width=\"506.847069pt\" xmlns=\"http://www.w3.org/2000/svg\" xmlns:xlink=\"http://www.w3.org/1999/xlink\">\r\n <metadata>\r\n  <rdf:RDF xmlns:cc=\"http://creativecommons.org/ns#\" xmlns:dc=\"http://purl.org/dc/elements/1.1/\" xmlns:rdf=\"http://www.w3.org/1999/02/22-rdf-syntax-ns#\">\r\n   <cc:Work>\r\n    <dc:type rdf:resource=\"http://purl.org/dc/dcmitype/StillImage\"/>\r\n    <dc:date>2021-03-11T14:37:37.551446</dc:date>\r\n    <dc:format>image/svg+xml</dc:format>\r\n    <dc:creator>\r\n     <cc:Agent>\r\n      <dc:title>Matplotlib v3.3.3, https://matplotlib.org/</dc:title>\r\n     </cc:Agent>\r\n    </dc:creator>\r\n   </cc:Work>\r\n  </rdf:RDF>\r\n </metadata>\r\n <defs>\r\n  <style type=\"text/css\">*{stroke-linecap:butt;stroke-linejoin:round;}</style>\r\n </defs>\r\n <g id=\"figure_1\">\r\n  <g id=\"patch_1\">\r\n   <path d=\"M 0 332.435565 \r\nL 506.847069 332.435565 \r\nL 506.847069 0 \r\nL 0 0 \r\nz\r\n\" style=\"fill:none;\"/>\r\n  </g>\r\n  <g id=\"axes_1\">\r\n   <g id=\"patch_2\">\r\n    <path d=\"M 53.247069 267.118125 \r\nL 499.647069 267.118125 \r\nL 499.647069 22.318125 \r\nL 53.247069 22.318125 \r\nz\r\n\" style=\"fill:#ffffff;\"/>\r\n   </g>\r\n   <g id=\"matplotlib.axis_1\">\r\n    <g id=\"xtick_1\">\r\n     <g id=\"line2d_1\">\r\n      <defs>\r\n       <path d=\"M 0 0 \r\nL 0 3.5 \r\n\" id=\"mcb95b45aa2\" style=\"stroke:#000000;stroke-width:0.8;\"/>\r\n      </defs>\r\n      <g>\r\n       <use style=\"stroke:#000000;stroke-width:0.8;\" x=\"62.36867\" xlink:href=\"#mcb95b45aa2\" y=\"267.118125\"/>\r\n      </g>\r\n     </g>\r\n     <g id=\"text_1\">\r\n      <!-- 2010-01-01 -->\r\n      <g transform=\"translate(10.999219 309.756377)rotate(-30)scale(0.1 -0.1)\">\r\n       <defs>\r\n        <path d=\"M 19.1875 8.296875 \r\nL 53.609375 8.296875 \r\nL 53.609375 0 \r\nL 7.328125 0 \r\nL 7.328125 8.296875 \r\nQ 12.9375 14.109375 22.625 23.890625 \r\nQ 32.328125 33.6875 34.8125 36.53125 \r\nQ 39.546875 41.84375 41.421875 45.53125 \r\nQ 43.3125 49.21875 43.3125 52.78125 \r\nQ 43.3125 58.59375 39.234375 62.25 \r\nQ 35.15625 65.921875 28.609375 65.921875 \r\nQ 23.96875 65.921875 18.8125 64.3125 \r\nQ 13.671875 62.703125 7.8125 59.421875 \r\nL 7.8125 69.390625 \r\nQ 13.765625 71.78125 18.9375 73 \r\nQ 24.125 74.21875 28.421875 74.21875 \r\nQ 39.75 74.21875 46.484375 68.546875 \r\nQ 53.21875 62.890625 53.21875 53.421875 \r\nQ 53.21875 48.921875 51.53125 44.890625 \r\nQ 49.859375 40.875 45.40625 35.40625 \r\nQ 44.1875 33.984375 37.640625 27.21875 \r\nQ 31.109375 20.453125 19.1875 8.296875 \r\nz\r\n\" id=\"DejaVuSans-50\"/>\r\n        <path d=\"M 31.78125 66.40625 \r\nQ 24.171875 66.40625 20.328125 58.90625 \r\nQ 16.5 51.421875 16.5 36.375 \r\nQ 16.5 21.390625 20.328125 13.890625 \r\nQ 24.171875 6.390625 31.78125 6.390625 \r\nQ 39.453125 6.390625 43.28125 13.890625 \r\nQ 47.125 21.390625 47.125 36.375 \r\nQ 47.125 51.421875 43.28125 58.90625 \r\nQ 39.453125 66.40625 31.78125 66.40625 \r\nz\r\nM 31.78125 74.21875 \r\nQ 44.046875 74.21875 50.515625 64.515625 \r\nQ 56.984375 54.828125 56.984375 36.375 \r\nQ 56.984375 17.96875 50.515625 8.265625 \r\nQ 44.046875 -1.421875 31.78125 -1.421875 \r\nQ 19.53125 -1.421875 13.0625 8.265625 \r\nQ 6.59375 17.96875 6.59375 36.375 \r\nQ 6.59375 54.828125 13.0625 64.515625 \r\nQ 19.53125 74.21875 31.78125 74.21875 \r\nz\r\n\" id=\"DejaVuSans-48\"/>\r\n        <path d=\"M 12.40625 8.296875 \r\nL 28.515625 8.296875 \r\nL 28.515625 63.921875 \r\nL 10.984375 60.40625 \r\nL 10.984375 69.390625 \r\nL 28.421875 72.90625 \r\nL 38.28125 72.90625 \r\nL 38.28125 8.296875 \r\nL 54.390625 8.296875 \r\nL 54.390625 0 \r\nL 12.40625 0 \r\nz\r\n\" id=\"DejaVuSans-49\"/>\r\n        <path d=\"M 4.890625 31.390625 \r\nL 31.203125 31.390625 \r\nL 31.203125 23.390625 \r\nL 4.890625 23.390625 \r\nz\r\n\" id=\"DejaVuSans-45\"/>\r\n       </defs>\r\n       <use xlink:href=\"#DejaVuSans-50\"/>\r\n       <use x=\"63.623047\" xlink:href=\"#DejaVuSans-48\"/>\r\n       <use x=\"127.246094\" xlink:href=\"#DejaVuSans-49\"/>\r\n       <use x=\"190.869141\" xlink:href=\"#DejaVuSans-48\"/>\r\n       <use x=\"254.492188\" xlink:href=\"#DejaVuSans-45\"/>\r\n       <use x=\"290.576172\" xlink:href=\"#DejaVuSans-48\"/>\r\n       <use x=\"354.199219\" xlink:href=\"#DejaVuSans-49\"/>\r\n       <use x=\"417.822266\" xlink:href=\"#DejaVuSans-45\"/>\r\n       <use x=\"453.90625\" xlink:href=\"#DejaVuSans-48\"/>\r\n       <use x=\"517.529297\" xlink:href=\"#DejaVuSans-49\"/>\r\n      </g>\r\n     </g>\r\n    </g>\r\n    <g id=\"xtick_2\">\r\n     <g id=\"line2d_2\">\r\n      <g>\r\n       <use style=\"stroke:#000000;stroke-width:0.8;\" x=\"114.492106\" xlink:href=\"#mcb95b45aa2\" y=\"267.118125\"/>\r\n      </g>\r\n     </g>\r\n     <g id=\"text_2\">\r\n      <!-- 2010-01-15 -->\r\n      <g transform=\"translate(63.122655 309.756377)rotate(-30)scale(0.1 -0.1)\">\r\n       <defs>\r\n        <path d=\"M 10.796875 72.90625 \r\nL 49.515625 72.90625 \r\nL 49.515625 64.59375 \r\nL 19.828125 64.59375 \r\nL 19.828125 46.734375 \r\nQ 21.96875 47.46875 24.109375 47.828125 \r\nQ 26.265625 48.1875 28.421875 48.1875 \r\nQ 40.625 48.1875 47.75 41.5 \r\nQ 54.890625 34.8125 54.890625 23.390625 \r\nQ 54.890625 11.625 47.5625 5.09375 \r\nQ 40.234375 -1.421875 26.90625 -1.421875 \r\nQ 22.3125 -1.421875 17.546875 -0.640625 \r\nQ 12.796875 0.140625 7.71875 1.703125 \r\nL 7.71875 11.625 \r\nQ 12.109375 9.234375 16.796875 8.0625 \r\nQ 21.484375 6.890625 26.703125 6.890625 \r\nQ 35.15625 6.890625 40.078125 11.328125 \r\nQ 45.015625 15.765625 45.015625 23.390625 \r\nQ 45.015625 31 40.078125 35.4375 \r\nQ 35.15625 39.890625 26.703125 39.890625 \r\nQ 22.75 39.890625 18.8125 39.015625 \r\nQ 14.890625 38.140625 10.796875 36.28125 \r\nz\r\n\" id=\"DejaVuSans-53\"/>\r\n       </defs>\r\n       <use xlink:href=\"#DejaVuSans-50\"/>\r\n       <use x=\"63.623047\" xlink:href=\"#DejaVuSans-48\"/>\r\n       <use x=\"127.246094\" xlink:href=\"#DejaVuSans-49\"/>\r\n       <use x=\"190.869141\" xlink:href=\"#DejaVuSans-48\"/>\r\n       <use x=\"254.492188\" xlink:href=\"#DejaVuSans-45\"/>\r\n       <use x=\"290.576172\" xlink:href=\"#DejaVuSans-48\"/>\r\n       <use x=\"354.199219\" xlink:href=\"#DejaVuSans-49\"/>\r\n       <use x=\"417.822266\" xlink:href=\"#DejaVuSans-45\"/>\r\n       <use x=\"453.90625\" xlink:href=\"#DejaVuSans-49\"/>\r\n       <use x=\"517.529297\" xlink:href=\"#DejaVuSans-53\"/>\r\n      </g>\r\n     </g>\r\n    </g>\r\n    <g id=\"xtick_3\">\r\n     <g id=\"line2d_3\">\r\n      <g>\r\n       <use style=\"stroke:#000000;stroke-width:0.8;\" x=\"177.78485\" xlink:href=\"#mcb95b45aa2\" y=\"267.118125\"/>\r\n      </g>\r\n     </g>\r\n     <g id=\"text_3\">\r\n      <!-- 2010-02-01 -->\r\n      <g transform=\"translate(126.415399 309.756377)rotate(-30)scale(0.1 -0.1)\">\r\n       <use xlink:href=\"#DejaVuSans-50\"/>\r\n       <use x=\"63.623047\" xlink:href=\"#DejaVuSans-48\"/>\r\n       <use x=\"127.246094\" xlink:href=\"#DejaVuSans-49\"/>\r\n       <use x=\"190.869141\" xlink:href=\"#DejaVuSans-48\"/>\r\n       <use x=\"254.492188\" xlink:href=\"#DejaVuSans-45\"/>\r\n       <use x=\"290.576172\" xlink:href=\"#DejaVuSans-48\"/>\r\n       <use x=\"354.199219\" xlink:href=\"#DejaVuSans-50\"/>\r\n       <use x=\"417.822266\" xlink:href=\"#DejaVuSans-45\"/>\r\n       <use x=\"453.90625\" xlink:href=\"#DejaVuSans-48\"/>\r\n       <use x=\"517.529297\" xlink:href=\"#DejaVuSans-49\"/>\r\n      </g>\r\n     </g>\r\n    </g>\r\n    <g id=\"xtick_4\">\r\n     <g id=\"line2d_4\">\r\n      <g>\r\n       <use style=\"stroke:#000000;stroke-width:0.8;\" x=\"229.908286\" xlink:href=\"#mcb95b45aa2\" y=\"267.118125\"/>\r\n      </g>\r\n     </g>\r\n     <g id=\"text_4\">\r\n      <!-- 2010-02-15 -->\r\n      <g transform=\"translate(178.538835 309.756377)rotate(-30)scale(0.1 -0.1)\">\r\n       <use xlink:href=\"#DejaVuSans-50\"/>\r\n       <use x=\"63.623047\" xlink:href=\"#DejaVuSans-48\"/>\r\n       <use x=\"127.246094\" xlink:href=\"#DejaVuSans-49\"/>\r\n       <use x=\"190.869141\" xlink:href=\"#DejaVuSans-48\"/>\r\n       <use x=\"254.492188\" xlink:href=\"#DejaVuSans-45\"/>\r\n       <use x=\"290.576172\" xlink:href=\"#DejaVuSans-48\"/>\r\n       <use x=\"354.199219\" xlink:href=\"#DejaVuSans-50\"/>\r\n       <use x=\"417.822266\" xlink:href=\"#DejaVuSans-45\"/>\r\n       <use x=\"453.90625\" xlink:href=\"#DejaVuSans-49\"/>\r\n       <use x=\"517.529297\" xlink:href=\"#DejaVuSans-53\"/>\r\n      </g>\r\n     </g>\r\n    </g>\r\n    <g id=\"xtick_5\">\r\n     <g id=\"line2d_5\">\r\n      <g>\r\n       <use style=\"stroke:#000000;stroke-width:0.8;\" x=\"282.031723\" xlink:href=\"#mcb95b45aa2\" y=\"267.118125\"/>\r\n      </g>\r\n     </g>\r\n     <g id=\"text_5\">\r\n      <!-- 2010-03-01 -->\r\n      <g transform=\"translate(230.662271 309.756377)rotate(-30)scale(0.1 -0.1)\">\r\n       <defs>\r\n        <path d=\"M 40.578125 39.3125 \r\nQ 47.65625 37.796875 51.625 33 \r\nQ 55.609375 28.21875 55.609375 21.1875 \r\nQ 55.609375 10.40625 48.1875 4.484375 \r\nQ 40.765625 -1.421875 27.09375 -1.421875 \r\nQ 22.515625 -1.421875 17.65625 -0.515625 \r\nQ 12.796875 0.390625 7.625 2.203125 \r\nL 7.625 11.71875 \r\nQ 11.71875 9.328125 16.59375 8.109375 \r\nQ 21.484375 6.890625 26.8125 6.890625 \r\nQ 36.078125 6.890625 40.9375 10.546875 \r\nQ 45.796875 14.203125 45.796875 21.1875 \r\nQ 45.796875 27.640625 41.28125 31.265625 \r\nQ 36.765625 34.90625 28.71875 34.90625 \r\nL 20.21875 34.90625 \r\nL 20.21875 43.015625 \r\nL 29.109375 43.015625 \r\nQ 36.375 43.015625 40.234375 45.921875 \r\nQ 44.09375 48.828125 44.09375 54.296875 \r\nQ 44.09375 59.90625 40.109375 62.90625 \r\nQ 36.140625 65.921875 28.71875 65.921875 \r\nQ 24.65625 65.921875 20.015625 65.03125 \r\nQ 15.375 64.15625 9.8125 62.3125 \r\nL 9.8125 71.09375 \r\nQ 15.4375 72.65625 20.34375 73.4375 \r\nQ 25.25 74.21875 29.59375 74.21875 \r\nQ 40.828125 74.21875 47.359375 69.109375 \r\nQ 53.90625 64.015625 53.90625 55.328125 \r\nQ 53.90625 49.265625 50.4375 45.09375 \r\nQ 46.96875 40.921875 40.578125 39.3125 \r\nz\r\n\" id=\"DejaVuSans-51\"/>\r\n       </defs>\r\n       <use xlink:href=\"#DejaVuSans-50\"/>\r\n       <use x=\"63.623047\" xlink:href=\"#DejaVuSans-48\"/>\r\n       <use x=\"127.246094\" xlink:href=\"#DejaVuSans-49\"/>\r\n       <use x=\"190.869141\" xlink:href=\"#DejaVuSans-48\"/>\r\n       <use x=\"254.492188\" xlink:href=\"#DejaVuSans-45\"/>\r\n       <use x=\"290.576172\" xlink:href=\"#DejaVuSans-48\"/>\r\n       <use x=\"354.199219\" xlink:href=\"#DejaVuSans-51\"/>\r\n       <use x=\"417.822266\" xlink:href=\"#DejaVuSans-45\"/>\r\n       <use x=\"453.90625\" xlink:href=\"#DejaVuSans-48\"/>\r\n       <use x=\"517.529297\" xlink:href=\"#DejaVuSans-49\"/>\r\n      </g>\r\n     </g>\r\n    </g>\r\n    <g id=\"xtick_6\">\r\n     <g id=\"line2d_6\">\r\n      <g>\r\n       <use style=\"stroke:#000000;stroke-width:0.8;\" x=\"334.155159\" xlink:href=\"#mcb95b45aa2\" y=\"267.118125\"/>\r\n      </g>\r\n     </g>\r\n     <g id=\"text_6\">\r\n      <!-- 2010-03-15 -->\r\n      <g transform=\"translate(282.785707 309.756377)rotate(-30)scale(0.1 -0.1)\">\r\n       <use xlink:href=\"#DejaVuSans-50\"/>\r\n       <use x=\"63.623047\" xlink:href=\"#DejaVuSans-48\"/>\r\n       <use x=\"127.246094\" xlink:href=\"#DejaVuSans-49\"/>\r\n       <use x=\"190.869141\" xlink:href=\"#DejaVuSans-48\"/>\r\n       <use x=\"254.492188\" xlink:href=\"#DejaVuSans-45\"/>\r\n       <use x=\"290.576172\" xlink:href=\"#DejaVuSans-48\"/>\r\n       <use x=\"354.199219\" xlink:href=\"#DejaVuSans-51\"/>\r\n       <use x=\"417.822266\" xlink:href=\"#DejaVuSans-45\"/>\r\n       <use x=\"453.90625\" xlink:href=\"#DejaVuSans-49\"/>\r\n       <use x=\"517.529297\" xlink:href=\"#DejaVuSans-53\"/>\r\n      </g>\r\n     </g>\r\n    </g>\r\n    <g id=\"xtick_7\">\r\n     <g id=\"line2d_7\">\r\n      <g>\r\n       <use style=\"stroke:#000000;stroke-width:0.8;\" x=\"397.447903\" xlink:href=\"#mcb95b45aa2\" y=\"267.118125\"/>\r\n      </g>\r\n     </g>\r\n     <g id=\"text_7\">\r\n      <!-- 2010-04-01 -->\r\n      <g transform=\"translate(346.078451 309.756377)rotate(-30)scale(0.1 -0.1)\">\r\n       <defs>\r\n        <path d=\"M 37.796875 64.3125 \r\nL 12.890625 25.390625 \r\nL 37.796875 25.390625 \r\nz\r\nM 35.203125 72.90625 \r\nL 47.609375 72.90625 \r\nL 47.609375 25.390625 \r\nL 58.015625 25.390625 \r\nL 58.015625 17.1875 \r\nL 47.609375 17.1875 \r\nL 47.609375 0 \r\nL 37.796875 0 \r\nL 37.796875 17.1875 \r\nL 4.890625 17.1875 \r\nL 4.890625 26.703125 \r\nz\r\n\" id=\"DejaVuSans-52\"/>\r\n       </defs>\r\n       <use xlink:href=\"#DejaVuSans-50\"/>\r\n       <use x=\"63.623047\" xlink:href=\"#DejaVuSans-48\"/>\r\n       <use x=\"127.246094\" xlink:href=\"#DejaVuSans-49\"/>\r\n       <use x=\"190.869141\" xlink:href=\"#DejaVuSans-48\"/>\r\n       <use x=\"254.492188\" xlink:href=\"#DejaVuSans-45\"/>\r\n       <use x=\"290.576172\" xlink:href=\"#DejaVuSans-48\"/>\r\n       <use x=\"354.199219\" xlink:href=\"#DejaVuSans-52\"/>\r\n       <use x=\"417.822266\" xlink:href=\"#DejaVuSans-45\"/>\r\n       <use x=\"453.90625\" xlink:href=\"#DejaVuSans-48\"/>\r\n       <use x=\"517.529297\" xlink:href=\"#DejaVuSans-49\"/>\r\n      </g>\r\n     </g>\r\n    </g>\r\n    <g id=\"xtick_8\">\r\n     <g id=\"line2d_8\">\r\n      <g>\r\n       <use style=\"stroke:#000000;stroke-width:0.8;\" x=\"449.571339\" xlink:href=\"#mcb95b45aa2\" y=\"267.118125\"/>\r\n      </g>\r\n     </g>\r\n     <g id=\"text_8\">\r\n      <!-- 2010-04-15 -->\r\n      <g transform=\"translate(398.201888 309.756377)rotate(-30)scale(0.1 -0.1)\">\r\n       <use xlink:href=\"#DejaVuSans-50\"/>\r\n       <use x=\"63.623047\" xlink:href=\"#DejaVuSans-48\"/>\r\n       <use x=\"127.246094\" xlink:href=\"#DejaVuSans-49\"/>\r\n       <use x=\"190.869141\" xlink:href=\"#DejaVuSans-48\"/>\r\n       <use x=\"254.492188\" xlink:href=\"#DejaVuSans-45\"/>\r\n       <use x=\"290.576172\" xlink:href=\"#DejaVuSans-48\"/>\r\n       <use x=\"354.199219\" xlink:href=\"#DejaVuSans-52\"/>\r\n       <use x=\"417.822266\" xlink:href=\"#DejaVuSans-45\"/>\r\n       <use x=\"453.90625\" xlink:href=\"#DejaVuSans-49\"/>\r\n       <use x=\"517.529297\" xlink:href=\"#DejaVuSans-53\"/>\r\n      </g>\r\n     </g>\r\n    </g>\r\n    <g id=\"text_9\">\r\n     <!-- Date -->\r\n     <g transform=\"translate(264.496288 323.155877)scale(0.1 -0.1)\">\r\n      <defs>\r\n       <path d=\"M 19.671875 64.796875 \r\nL 19.671875 8.109375 \r\nL 31.59375 8.109375 \r\nQ 46.6875 8.109375 53.6875 14.9375 \r\nQ 60.6875 21.78125 60.6875 36.53125 \r\nQ 60.6875 51.171875 53.6875 57.984375 \r\nQ 46.6875 64.796875 31.59375 64.796875 \r\nz\r\nM 9.8125 72.90625 \r\nL 30.078125 72.90625 \r\nQ 51.265625 72.90625 61.171875 64.09375 \r\nQ 71.09375 55.28125 71.09375 36.53125 \r\nQ 71.09375 17.671875 61.125 8.828125 \r\nQ 51.171875 0 30.078125 0 \r\nL 9.8125 0 \r\nz\r\n\" id=\"DejaVuSans-68\"/>\r\n       <path d=\"M 34.28125 27.484375 \r\nQ 23.390625 27.484375 19.1875 25 \r\nQ 14.984375 22.515625 14.984375 16.5 \r\nQ 14.984375 11.71875 18.140625 8.90625 \r\nQ 21.296875 6.109375 26.703125 6.109375 \r\nQ 34.1875 6.109375 38.703125 11.40625 \r\nQ 43.21875 16.703125 43.21875 25.484375 \r\nL 43.21875 27.484375 \r\nz\r\nM 52.203125 31.203125 \r\nL 52.203125 0 \r\nL 43.21875 0 \r\nL 43.21875 8.296875 \r\nQ 40.140625 3.328125 35.546875 0.953125 \r\nQ 30.953125 -1.421875 24.3125 -1.421875 \r\nQ 15.921875 -1.421875 10.953125 3.296875 \r\nQ 6 8.015625 6 15.921875 \r\nQ 6 25.140625 12.171875 29.828125 \r\nQ 18.359375 34.515625 30.609375 34.515625 \r\nL 43.21875 34.515625 \r\nL 43.21875 35.40625 \r\nQ 43.21875 41.609375 39.140625 45 \r\nQ 35.0625 48.390625 27.6875 48.390625 \r\nQ 23 48.390625 18.546875 47.265625 \r\nQ 14.109375 46.140625 10.015625 43.890625 \r\nL 10.015625 52.203125 \r\nQ 14.9375 54.109375 19.578125 55.046875 \r\nQ 24.21875 56 28.609375 56 \r\nQ 40.484375 56 46.34375 49.84375 \r\nQ 52.203125 43.703125 52.203125 31.203125 \r\nz\r\n\" id=\"DejaVuSans-97\"/>\r\n       <path d=\"M 18.3125 70.21875 \r\nL 18.3125 54.6875 \r\nL 36.8125 54.6875 \r\nL 36.8125 47.703125 \r\nL 18.3125 47.703125 \r\nL 18.3125 18.015625 \r\nQ 18.3125 11.328125 20.140625 9.421875 \r\nQ 21.96875 7.515625 27.59375 7.515625 \r\nL 36.8125 7.515625 \r\nL 36.8125 0 \r\nL 27.59375 0 \r\nQ 17.1875 0 13.234375 3.875 \r\nQ 9.28125 7.765625 9.28125 18.015625 \r\nL 9.28125 47.703125 \r\nL 2.6875 47.703125 \r\nL 2.6875 54.6875 \r\nL 9.28125 54.6875 \r\nL 9.28125 70.21875 \r\nz\r\n\" id=\"DejaVuSans-116\"/>\r\n       <path d=\"M 56.203125 29.59375 \r\nL 56.203125 25.203125 \r\nL 14.890625 25.203125 \r\nQ 15.484375 15.921875 20.484375 11.0625 \r\nQ 25.484375 6.203125 34.421875 6.203125 \r\nQ 39.59375 6.203125 44.453125 7.46875 \r\nQ 49.3125 8.734375 54.109375 11.28125 \r\nL 54.109375 2.78125 \r\nQ 49.265625 0.734375 44.1875 -0.34375 \r\nQ 39.109375 -1.421875 33.890625 -1.421875 \r\nQ 20.796875 -1.421875 13.15625 6.1875 \r\nQ 5.515625 13.8125 5.515625 26.8125 \r\nQ 5.515625 40.234375 12.765625 48.109375 \r\nQ 20.015625 56 32.328125 56 \r\nQ 43.359375 56 49.78125 48.890625 \r\nQ 56.203125 41.796875 56.203125 29.59375 \r\nz\r\nM 47.21875 32.234375 \r\nQ 47.125 39.59375 43.09375 43.984375 \r\nQ 39.0625 48.390625 32.421875 48.390625 \r\nQ 24.90625 48.390625 20.390625 44.140625 \r\nQ 15.875 39.890625 15.1875 32.171875 \r\nz\r\n\" id=\"DejaVuSans-101\"/>\r\n      </defs>\r\n      <use xlink:href=\"#DejaVuSans-68\"/>\r\n      <use x=\"77.001953\" xlink:href=\"#DejaVuSans-97\"/>\r\n      <use x=\"138.28125\" xlink:href=\"#DejaVuSans-116\"/>\r\n      <use x=\"177.490234\" xlink:href=\"#DejaVuSans-101\"/>\r\n     </g>\r\n    </g>\r\n   </g>\r\n   <g id=\"matplotlib.axis_2\">\r\n    <g id=\"ytick_1\">\r\n     <g id=\"line2d_9\">\r\n      <defs>\r\n       <path d=\"M 0 0 \r\nL -3.5 0 \r\n\" id=\"m43bd6a353c\" style=\"stroke:#000000;stroke-width:0.8;\"/>\r\n      </defs>\r\n      <g>\r\n       <use style=\"stroke:#000000;stroke-width:0.8;\" x=\"53.247069\" xlink:href=\"#m43bd6a353c\" y=\"255.990852\"/>\r\n      </g>\r\n     </g>\r\n     <g id=\"text_10\">\r\n      <!-- 0 -->\r\n      <g transform=\"translate(39.884569 259.790071)scale(0.1 -0.1)\">\r\n       <use xlink:href=\"#DejaVuSans-48\"/>\r\n      </g>\r\n     </g>\r\n    </g>\r\n    <g id=\"ytick_2\">\r\n     <g id=\"line2d_10\">\r\n      <g>\r\n       <use style=\"stroke:#000000;stroke-width:0.8;\" x=\"53.247069\" xlink:href=\"#m43bd6a353c\" y=\"200.354489\"/>\r\n      </g>\r\n     </g>\r\n     <g id=\"text_11\">\r\n      <!-- 1 -->\r\n      <g transform=\"translate(39.884569 204.153707)scale(0.1 -0.1)\">\r\n       <use xlink:href=\"#DejaVuSans-49\"/>\r\n      </g>\r\n     </g>\r\n    </g>\r\n    <g id=\"ytick_3\">\r\n     <g id=\"line2d_11\">\r\n      <g>\r\n       <use style=\"stroke:#000000;stroke-width:0.8;\" x=\"53.247069\" xlink:href=\"#m43bd6a353c\" y=\"144.718125\"/>\r\n      </g>\r\n     </g>\r\n     <g id=\"text_12\">\r\n      <!-- 2 -->\r\n      <g transform=\"translate(39.884569 148.517344)scale(0.1 -0.1)\">\r\n       <use xlink:href=\"#DejaVuSans-50\"/>\r\n      </g>\r\n     </g>\r\n    </g>\r\n    <g id=\"ytick_4\">\r\n     <g id=\"line2d_12\">\r\n      <g>\r\n       <use style=\"stroke:#000000;stroke-width:0.8;\" x=\"53.247069\" xlink:href=\"#m43bd6a353c\" y=\"89.081761\"/>\r\n      </g>\r\n     </g>\r\n     <g id=\"text_13\">\r\n      <!-- 3 -->\r\n      <g transform=\"translate(39.884569 92.88098)scale(0.1 -0.1)\">\r\n       <use xlink:href=\"#DejaVuSans-51\"/>\r\n      </g>\r\n     </g>\r\n    </g>\r\n    <g id=\"ytick_5\">\r\n     <g id=\"line2d_13\">\r\n      <g>\r\n       <use style=\"stroke:#000000;stroke-width:0.8;\" x=\"53.247069\" xlink:href=\"#m43bd6a353c\" y=\"33.445398\"/>\r\n      </g>\r\n     </g>\r\n     <g id=\"text_14\">\r\n      <!-- 4 -->\r\n      <g transform=\"translate(39.884569 37.244616)scale(0.1 -0.1)\">\r\n       <use xlink:href=\"#DejaVuSans-52\"/>\r\n      </g>\r\n     </g>\r\n    </g>\r\n    <g id=\"text_15\">\r\n     <!-- Period -->\r\n     <g transform=\"translate(33.804881 160.306406)rotate(-90)scale(0.1 -0.1)\">\r\n      <defs>\r\n       <path d=\"M 19.671875 64.796875 \r\nL 19.671875 37.40625 \r\nL 32.078125 37.40625 \r\nQ 38.96875 37.40625 42.71875 40.96875 \r\nQ 46.484375 44.53125 46.484375 51.125 \r\nQ 46.484375 57.671875 42.71875 61.234375 \r\nQ 38.96875 64.796875 32.078125 64.796875 \r\nz\r\nM 9.8125 72.90625 \r\nL 32.078125 72.90625 \r\nQ 44.34375 72.90625 50.609375 67.359375 \r\nQ 56.890625 61.8125 56.890625 51.125 \r\nQ 56.890625 40.328125 50.609375 34.8125 \r\nQ 44.34375 29.296875 32.078125 29.296875 \r\nL 19.671875 29.296875 \r\nL 19.671875 0 \r\nL 9.8125 0 \r\nz\r\n\" id=\"DejaVuSans-80\"/>\r\n       <path d=\"M 41.109375 46.296875 \r\nQ 39.59375 47.171875 37.8125 47.578125 \r\nQ 36.03125 48 33.890625 48 \r\nQ 26.265625 48 22.1875 43.046875 \r\nQ 18.109375 38.09375 18.109375 28.8125 \r\nL 18.109375 0 \r\nL 9.078125 0 \r\nL 9.078125 54.6875 \r\nL 18.109375 54.6875 \r\nL 18.109375 46.1875 \r\nQ 20.953125 51.171875 25.484375 53.578125 \r\nQ 30.03125 56 36.53125 56 \r\nQ 37.453125 56 38.578125 55.875 \r\nQ 39.703125 55.765625 41.0625 55.515625 \r\nz\r\n\" id=\"DejaVuSans-114\"/>\r\n       <path d=\"M 9.421875 54.6875 \r\nL 18.40625 54.6875 \r\nL 18.40625 0 \r\nL 9.421875 0 \r\nz\r\nM 9.421875 75.984375 \r\nL 18.40625 75.984375 \r\nL 18.40625 64.59375 \r\nL 9.421875 64.59375 \r\nz\r\n\" id=\"DejaVuSans-105\"/>\r\n       <path d=\"M 30.609375 48.390625 \r\nQ 23.390625 48.390625 19.1875 42.75 \r\nQ 14.984375 37.109375 14.984375 27.296875 \r\nQ 14.984375 17.484375 19.15625 11.84375 \r\nQ 23.34375 6.203125 30.609375 6.203125 \r\nQ 37.796875 6.203125 41.984375 11.859375 \r\nQ 46.1875 17.53125 46.1875 27.296875 \r\nQ 46.1875 37.015625 41.984375 42.703125 \r\nQ 37.796875 48.390625 30.609375 48.390625 \r\nz\r\nM 30.609375 56 \r\nQ 42.328125 56 49.015625 48.375 \r\nQ 55.71875 40.765625 55.71875 27.296875 \r\nQ 55.71875 13.875 49.015625 6.21875 \r\nQ 42.328125 -1.421875 30.609375 -1.421875 \r\nQ 18.84375 -1.421875 12.171875 6.21875 \r\nQ 5.515625 13.875 5.515625 27.296875 \r\nQ 5.515625 40.765625 12.171875 48.375 \r\nQ 18.84375 56 30.609375 56 \r\nz\r\n\" id=\"DejaVuSans-111\"/>\r\n       <path d=\"M 45.40625 46.390625 \r\nL 45.40625 75.984375 \r\nL 54.390625 75.984375 \r\nL 54.390625 0 \r\nL 45.40625 0 \r\nL 45.40625 8.203125 \r\nQ 42.578125 3.328125 38.25 0.953125 \r\nQ 33.9375 -1.421875 27.875 -1.421875 \r\nQ 17.96875 -1.421875 11.734375 6.484375 \r\nQ 5.515625 14.40625 5.515625 27.296875 \r\nQ 5.515625 40.1875 11.734375 48.09375 \r\nQ 17.96875 56 27.875 56 \r\nQ 33.9375 56 38.25 53.625 \r\nQ 42.578125 51.265625 45.40625 46.390625 \r\nz\r\nM 14.796875 27.296875 \r\nQ 14.796875 17.390625 18.875 11.75 \r\nQ 22.953125 6.109375 30.078125 6.109375 \r\nQ 37.203125 6.109375 41.296875 11.75 \r\nQ 45.40625 17.390625 45.40625 27.296875 \r\nQ 45.40625 37.203125 41.296875 42.84375 \r\nQ 37.203125 48.484375 30.078125 48.484375 \r\nQ 22.953125 48.484375 18.875 42.84375 \r\nQ 14.796875 37.203125 14.796875 27.296875 \r\nz\r\n\" id=\"DejaVuSans-100\"/>\r\n      </defs>\r\n      <use xlink:href=\"#DejaVuSans-80\"/>\r\n      <use x=\"56.677734\" xlink:href=\"#DejaVuSans-101\"/>\r\n      <use x=\"118.201172\" xlink:href=\"#DejaVuSans-114\"/>\r\n      <use x=\"159.314453\" xlink:href=\"#DejaVuSans-105\"/>\r\n      <use x=\"187.097656\" xlink:href=\"#DejaVuSans-111\"/>\r\n      <use x=\"248.279297\" xlink:href=\"#DejaVuSans-100\"/>\r\n     </g>\r\n    </g>\r\n   </g>\r\n   <g id=\"LineCollection_1\">\r\n    <path clip-path=\"url(#p64b648fe1c)\" d=\"M 73.537978 255.990852 \r\nL 110.769004 255.990852 \r\n\" style=\"fill:none;stroke:#d3d3d3;stroke-width:15;\"/>\r\n   </g>\r\n   <g id=\"LineCollection_2\">\r\n    <path clip-path=\"url(#p64b648fe1c)\" d=\"M 110.769004 255.990852 \r\nL 181.507953 255.990852 \r\n\" style=\"fill:none;stroke:#808080;stroke-width:15;\"/>\r\n   </g>\r\n   <g id=\"LineCollection_3\">\r\n    <path clip-path=\"url(#p64b648fe1c)\" d=\"M 148.00003 200.354489 \r\nL 185.231055 200.354489 \r\n\" style=\"fill:none;stroke:#d3d3d3;stroke-width:15;\"/>\r\n   </g>\r\n   <g id=\"LineCollection_4\">\r\n    <path clip-path=\"url(#p64b648fe1c)\" d=\"M 185.231055 200.354489 \r\nL 255.970005 200.354489 \r\n\" style=\"fill:none;stroke:#808080;stroke-width:15;\"/>\r\n   </g>\r\n   <g id=\"LineCollection_5\">\r\n    <path clip-path=\"url(#p64b648fe1c)\" d=\"M 222.462081 144.718125 \r\nL 259.693107 144.718125 \r\n\" style=\"fill:none;stroke:#d3d3d3;stroke-width:15;\"/>\r\n   </g>\r\n   <g id=\"LineCollection_6\">\r\n    <path clip-path=\"url(#p64b648fe1c)\" d=\"M 259.693107 144.718125 \r\nL 330.432056 144.718125 \r\n\" style=\"fill:none;stroke:#808080;stroke-width:15;\"/>\r\n   </g>\r\n   <g id=\"LineCollection_7\">\r\n    <path clip-path=\"url(#p64b648fe1c)\" d=\"M 296.924133 89.081761 \r\nL 334.155159 89.081761 \r\n\" style=\"fill:none;stroke:#d3d3d3;stroke-width:15;\"/>\r\n   </g>\r\n   <g id=\"LineCollection_8\">\r\n    <path clip-path=\"url(#p64b648fe1c)\" d=\"M 334.155159 89.081761 \r\nL 404.894108 89.081761 \r\n\" style=\"fill:none;stroke:#808080;stroke-width:15;\"/>\r\n   </g>\r\n   <g id=\"LineCollection_9\">\r\n    <path clip-path=\"url(#p64b648fe1c)\" d=\"M 371.386185 33.445398 \r\nL 408.617211 33.445398 \r\n\" style=\"fill:none;stroke:#d3d3d3;stroke-width:15;\"/>\r\n   </g>\r\n   <g id=\"LineCollection_10\">\r\n    <path clip-path=\"url(#p64b648fe1c)\" d=\"M 408.617211 33.445398 \r\nL 479.35616 33.445398 \r\n\" style=\"fill:none;stroke:#808080;stroke-width:15;\"/>\r\n   </g>\r\n   <g id=\"patch_3\">\r\n    <path d=\"M 53.247069 267.118125 \r\nL 53.247069 22.318125 \r\n\" style=\"fill:none;stroke:#000000;stroke-linecap:square;stroke-linejoin:miter;stroke-width:0.8;\"/>\r\n   </g>\r\n   <g id=\"patch_4\">\r\n    <path d=\"M 499.647069 267.118125 \r\nL 499.647069 22.318125 \r\n\" style=\"fill:none;stroke:#000000;stroke-linecap:square;stroke-linejoin:miter;stroke-width:0.8;\"/>\r\n   </g>\r\n   <g id=\"patch_5\">\r\n    <path d=\"M 53.247069 267.118125 \r\nL 499.647069 267.118125 \r\n\" style=\"fill:none;stroke:#000000;stroke-linecap:square;stroke-linejoin:miter;stroke-width:0.8;\"/>\r\n   </g>\r\n   <g id=\"patch_6\">\r\n    <path d=\"M 53.247069 22.318125 \r\nL 499.647069 22.318125 \r\n\" style=\"fill:none;stroke:#000000;stroke-linecap:square;stroke-linejoin:miter;stroke-width:0.8;\"/>\r\n   </g>\r\n   <g id=\"text_16\">\r\n    <!-- Observe and Hold Periods (j=10, k=20 days) -->\r\n    <g transform=\"translate(141.948631 16.318125)scale(0.12 -0.12)\">\r\n     <defs>\r\n      <path d=\"M 39.40625 66.21875 \r\nQ 28.65625 66.21875 22.328125 58.203125 \r\nQ 16.015625 50.203125 16.015625 36.375 \r\nQ 16.015625 22.609375 22.328125 14.59375 \r\nQ 28.65625 6.59375 39.40625 6.59375 \r\nQ 50.140625 6.59375 56.421875 14.59375 \r\nQ 62.703125 22.609375 62.703125 36.375 \r\nQ 62.703125 50.203125 56.421875 58.203125 \r\nQ 50.140625 66.21875 39.40625 66.21875 \r\nz\r\nM 39.40625 74.21875 \r\nQ 54.734375 74.21875 63.90625 63.9375 \r\nQ 73.09375 53.65625 73.09375 36.375 \r\nQ 73.09375 19.140625 63.90625 8.859375 \r\nQ 54.734375 -1.421875 39.40625 -1.421875 \r\nQ 24.03125 -1.421875 14.8125 8.828125 \r\nQ 5.609375 19.09375 5.609375 36.375 \r\nQ 5.609375 53.65625 14.8125 63.9375 \r\nQ 24.03125 74.21875 39.40625 74.21875 \r\nz\r\n\" id=\"DejaVuSans-79\"/>\r\n      <path d=\"M 48.6875 27.296875 \r\nQ 48.6875 37.203125 44.609375 42.84375 \r\nQ 40.53125 48.484375 33.40625 48.484375 \r\nQ 26.265625 48.484375 22.1875 42.84375 \r\nQ 18.109375 37.203125 18.109375 27.296875 \r\nQ 18.109375 17.390625 22.1875 11.75 \r\nQ 26.265625 6.109375 33.40625 6.109375 \r\nQ 40.53125 6.109375 44.609375 11.75 \r\nQ 48.6875 17.390625 48.6875 27.296875 \r\nz\r\nM 18.109375 46.390625 \r\nQ 20.953125 51.265625 25.265625 53.625 \r\nQ 29.59375 56 35.59375 56 \r\nQ 45.5625 56 51.78125 48.09375 \r\nQ 58.015625 40.1875 58.015625 27.296875 \r\nQ 58.015625 14.40625 51.78125 6.484375 \r\nQ 45.5625 -1.421875 35.59375 -1.421875 \r\nQ 29.59375 -1.421875 25.265625 0.953125 \r\nQ 20.953125 3.328125 18.109375 8.203125 \r\nL 18.109375 0 \r\nL 9.078125 0 \r\nL 9.078125 75.984375 \r\nL 18.109375 75.984375 \r\nz\r\n\" id=\"DejaVuSans-98\"/>\r\n      <path d=\"M 44.28125 53.078125 \r\nL 44.28125 44.578125 \r\nQ 40.484375 46.53125 36.375 47.5 \r\nQ 32.28125 48.484375 27.875 48.484375 \r\nQ 21.1875 48.484375 17.84375 46.4375 \r\nQ 14.5 44.390625 14.5 40.28125 \r\nQ 14.5 37.15625 16.890625 35.375 \r\nQ 19.28125 33.59375 26.515625 31.984375 \r\nL 29.59375 31.296875 \r\nQ 39.15625 29.25 43.1875 25.515625 \r\nQ 47.21875 21.78125 47.21875 15.09375 \r\nQ 47.21875 7.46875 41.1875 3.015625 \r\nQ 35.15625 -1.421875 24.609375 -1.421875 \r\nQ 20.21875 -1.421875 15.453125 -0.5625 \r\nQ 10.6875 0.296875 5.421875 2 \r\nL 5.421875 11.28125 \r\nQ 10.40625 8.6875 15.234375 7.390625 \r\nQ 20.0625 6.109375 24.8125 6.109375 \r\nQ 31.15625 6.109375 34.5625 8.28125 \r\nQ 37.984375 10.453125 37.984375 14.40625 \r\nQ 37.984375 18.0625 35.515625 20.015625 \r\nQ 33.0625 21.96875 24.703125 23.78125 \r\nL 21.578125 24.515625 \r\nQ 13.234375 26.265625 9.515625 29.90625 \r\nQ 5.8125 33.546875 5.8125 39.890625 \r\nQ 5.8125 47.609375 11.28125 51.796875 \r\nQ 16.75 56 26.8125 56 \r\nQ 31.78125 56 36.171875 55.265625 \r\nQ 40.578125 54.546875 44.28125 53.078125 \r\nz\r\n\" id=\"DejaVuSans-115\"/>\r\n      <path d=\"M 2.984375 54.6875 \r\nL 12.5 54.6875 \r\nL 29.59375 8.796875 \r\nL 46.6875 54.6875 \r\nL 56.203125 54.6875 \r\nL 35.6875 0 \r\nL 23.484375 0 \r\nz\r\n\" id=\"DejaVuSans-118\"/>\r\n      <path id=\"DejaVuSans-32\"/>\r\n      <path d=\"M 54.890625 33.015625 \r\nL 54.890625 0 \r\nL 45.90625 0 \r\nL 45.90625 32.71875 \r\nQ 45.90625 40.484375 42.875 44.328125 \r\nQ 39.84375 48.1875 33.796875 48.1875 \r\nQ 26.515625 48.1875 22.3125 43.546875 \r\nQ 18.109375 38.921875 18.109375 30.90625 \r\nL 18.109375 0 \r\nL 9.078125 0 \r\nL 9.078125 54.6875 \r\nL 18.109375 54.6875 \r\nL 18.109375 46.1875 \r\nQ 21.34375 51.125 25.703125 53.5625 \r\nQ 30.078125 56 35.796875 56 \r\nQ 45.21875 56 50.046875 50.171875 \r\nQ 54.890625 44.34375 54.890625 33.015625 \r\nz\r\n\" id=\"DejaVuSans-110\"/>\r\n      <path d=\"M 9.8125 72.90625 \r\nL 19.671875 72.90625 \r\nL 19.671875 43.015625 \r\nL 55.515625 43.015625 \r\nL 55.515625 72.90625 \r\nL 65.375 72.90625 \r\nL 65.375 0 \r\nL 55.515625 0 \r\nL 55.515625 34.71875 \r\nL 19.671875 34.71875 \r\nL 19.671875 0 \r\nL 9.8125 0 \r\nz\r\n\" id=\"DejaVuSans-72\"/>\r\n      <path d=\"M 9.421875 75.984375 \r\nL 18.40625 75.984375 \r\nL 18.40625 0 \r\nL 9.421875 0 \r\nz\r\n\" id=\"DejaVuSans-108\"/>\r\n      <path d=\"M 31 75.875 \r\nQ 24.46875 64.65625 21.28125 53.65625 \r\nQ 18.109375 42.671875 18.109375 31.390625 \r\nQ 18.109375 20.125 21.3125 9.0625 \r\nQ 24.515625 -2 31 -13.1875 \r\nL 23.1875 -13.1875 \r\nQ 15.875 -1.703125 12.234375 9.375 \r\nQ 8.59375 20.453125 8.59375 31.390625 \r\nQ 8.59375 42.28125 12.203125 53.3125 \r\nQ 15.828125 64.359375 23.1875 75.875 \r\nz\r\n\" id=\"DejaVuSans-40\"/>\r\n      <path d=\"M 9.421875 54.6875 \r\nL 18.40625 54.6875 \r\nL 18.40625 -0.984375 \r\nQ 18.40625 -11.421875 14.421875 -16.109375 \r\nQ 10.453125 -20.796875 1.609375 -20.796875 \r\nL -1.8125 -20.796875 \r\nL -1.8125 -13.1875 \r\nL 0.59375 -13.1875 \r\nQ 5.71875 -13.1875 7.5625 -10.8125 \r\nQ 9.421875 -8.453125 9.421875 -0.984375 \r\nz\r\nM 9.421875 75.984375 \r\nL 18.40625 75.984375 \r\nL 18.40625 64.59375 \r\nL 9.421875 64.59375 \r\nz\r\n\" id=\"DejaVuSans-106\"/>\r\n      <path d=\"M 10.59375 45.40625 \r\nL 73.1875 45.40625 \r\nL 73.1875 37.203125 \r\nL 10.59375 37.203125 \r\nz\r\nM 10.59375 25.484375 \r\nL 73.1875 25.484375 \r\nL 73.1875 17.1875 \r\nL 10.59375 17.1875 \r\nz\r\n\" id=\"DejaVuSans-61\"/>\r\n      <path d=\"M 11.71875 12.40625 \r\nL 22.015625 12.40625 \r\nL 22.015625 4 \r\nL 14.015625 -11.625 \r\nL 7.71875 -11.625 \r\nL 11.71875 4 \r\nz\r\n\" id=\"DejaVuSans-44\"/>\r\n      <path d=\"M 9.078125 75.984375 \r\nL 18.109375 75.984375 \r\nL 18.109375 31.109375 \r\nL 44.921875 54.6875 \r\nL 56.390625 54.6875 \r\nL 27.390625 29.109375 \r\nL 57.625 0 \r\nL 45.90625 0 \r\nL 18.109375 26.703125 \r\nL 18.109375 0 \r\nL 9.078125 0 \r\nz\r\n\" id=\"DejaVuSans-107\"/>\r\n      <path d=\"M 32.171875 -5.078125 \r\nQ 28.375 -14.84375 24.75 -17.8125 \r\nQ 21.140625 -20.796875 15.09375 -20.796875 \r\nL 7.90625 -20.796875 \r\nL 7.90625 -13.28125 \r\nL 13.1875 -13.28125 \r\nQ 16.890625 -13.28125 18.9375 -11.515625 \r\nQ 21 -9.765625 23.484375 -3.21875 \r\nL 25.09375 0.875 \r\nL 2.984375 54.6875 \r\nL 12.5 54.6875 \r\nL 29.59375 11.921875 \r\nL 46.6875 54.6875 \r\nL 56.203125 54.6875 \r\nz\r\n\" id=\"DejaVuSans-121\"/>\r\n      <path d=\"M 8.015625 75.875 \r\nL 15.828125 75.875 \r\nQ 23.140625 64.359375 26.78125 53.3125 \r\nQ 30.421875 42.28125 30.421875 31.390625 \r\nQ 30.421875 20.453125 26.78125 9.375 \r\nQ 23.140625 -1.703125 15.828125 -13.1875 \r\nL 8.015625 -13.1875 \r\nQ 14.5 -2 17.703125 9.0625 \r\nQ 20.90625 20.125 20.90625 31.390625 \r\nQ 20.90625 42.671875 17.703125 53.65625 \r\nQ 14.5 64.65625 8.015625 75.875 \r\nz\r\n\" id=\"DejaVuSans-41\"/>\r\n     </defs>\r\n     <use xlink:href=\"#DejaVuSans-79\"/>\r\n     <use x=\"78.710938\" xlink:href=\"#DejaVuSans-98\"/>\r\n     <use x=\"142.1875\" xlink:href=\"#DejaVuSans-115\"/>\r\n     <use x=\"194.287109\" xlink:href=\"#DejaVuSans-101\"/>\r\n     <use x=\"255.810547\" xlink:href=\"#DejaVuSans-114\"/>\r\n     <use x=\"296.923828\" xlink:href=\"#DejaVuSans-118\"/>\r\n     <use x=\"356.103516\" xlink:href=\"#DejaVuSans-101\"/>\r\n     <use x=\"417.626953\" xlink:href=\"#DejaVuSans-32\"/>\r\n     <use x=\"449.414062\" xlink:href=\"#DejaVuSans-97\"/>\r\n     <use x=\"510.693359\" xlink:href=\"#DejaVuSans-110\"/>\r\n     <use x=\"574.072266\" xlink:href=\"#DejaVuSans-100\"/>\r\n     <use x=\"637.548828\" xlink:href=\"#DejaVuSans-32\"/>\r\n     <use x=\"669.335938\" xlink:href=\"#DejaVuSans-72\"/>\r\n     <use x=\"744.53125\" xlink:href=\"#DejaVuSans-111\"/>\r\n     <use x=\"805.712891\" xlink:href=\"#DejaVuSans-108\"/>\r\n     <use x=\"833.496094\" xlink:href=\"#DejaVuSans-100\"/>\r\n     <use x=\"896.972656\" xlink:href=\"#DejaVuSans-32\"/>\r\n     <use x=\"928.759766\" xlink:href=\"#DejaVuSans-80\"/>\r\n     <use x=\"985.4375\" xlink:href=\"#DejaVuSans-101\"/>\r\n     <use x=\"1046.960938\" xlink:href=\"#DejaVuSans-114\"/>\r\n     <use x=\"1088.074219\" xlink:href=\"#DejaVuSans-105\"/>\r\n     <use x=\"1115.857422\" xlink:href=\"#DejaVuSans-111\"/>\r\n     <use x=\"1177.039062\" xlink:href=\"#DejaVuSans-100\"/>\r\n     <use x=\"1240.515625\" xlink:href=\"#DejaVuSans-115\"/>\r\n     <use x=\"1292.615234\" xlink:href=\"#DejaVuSans-32\"/>\r\n     <use x=\"1324.402344\" xlink:href=\"#DejaVuSans-40\"/>\r\n     <use x=\"1363.416016\" xlink:href=\"#DejaVuSans-106\"/>\r\n     <use x=\"1391.199219\" xlink:href=\"#DejaVuSans-61\"/>\r\n     <use x=\"1474.988281\" xlink:href=\"#DejaVuSans-49\"/>\r\n     <use x=\"1538.611328\" xlink:href=\"#DejaVuSans-48\"/>\r\n     <use x=\"1602.234375\" xlink:href=\"#DejaVuSans-44\"/>\r\n     <use x=\"1634.021484\" xlink:href=\"#DejaVuSans-32\"/>\r\n     <use x=\"1665.808594\" xlink:href=\"#DejaVuSans-107\"/>\r\n     <use x=\"1723.71875\" xlink:href=\"#DejaVuSans-61\"/>\r\n     <use x=\"1807.507812\" xlink:href=\"#DejaVuSans-50\"/>\r\n     <use x=\"1871.130859\" xlink:href=\"#DejaVuSans-48\"/>\r\n     <use x=\"1934.753906\" xlink:href=\"#DejaVuSans-32\"/>\r\n     <use x=\"1966.541016\" xlink:href=\"#DejaVuSans-100\"/>\r\n     <use x=\"2030.017578\" xlink:href=\"#DejaVuSans-97\"/>\r\n     <use x=\"2091.296875\" xlink:href=\"#DejaVuSans-121\"/>\r\n     <use x=\"2150.476562\" xlink:href=\"#DejaVuSans-115\"/>\r\n     <use x=\"2202.576172\" xlink:href=\"#DejaVuSans-41\"/>\r\n    </g>\r\n   </g>\r\n   <g id=\"legend_1\">\r\n    <g id=\"patch_7\">\r\n     <path d=\"M 60.247069 59.674375 \r\nL 188.178319 59.674375 \r\nQ 190.178319 59.674375 190.178319 57.674375 \r\nL 190.178319 29.318125 \r\nQ 190.178319 27.318125 188.178319 27.318125 \r\nL 60.247069 27.318125 \r\nQ 58.247069 27.318125 58.247069 29.318125 \r\nL 58.247069 57.674375 \r\nQ 58.247069 59.674375 60.247069 59.674375 \r\nz\r\n\" style=\"fill:#ffffff;opacity:0.8;stroke:#cccccc;stroke-linejoin:miter;\"/>\r\n    </g>\r\n    <g id=\"line2d_14\">\r\n     <path d=\"M 62.247069 35.416562 \r\nL 82.247069 35.416562 \r\n\" style=\"fill:none;stroke:#d3d3d3;stroke-width:15;\"/>\r\n    </g>\r\n    <g id=\"text_17\">\r\n     <!-- Observation period -->\r\n     <g transform=\"translate(90.247069 38.916562)scale(0.1 -0.1)\">\r\n      <defs>\r\n       <path d=\"M 18.109375 8.203125 \r\nL 18.109375 -20.796875 \r\nL 9.078125 -20.796875 \r\nL 9.078125 54.6875 \r\nL 18.109375 54.6875 \r\nL 18.109375 46.390625 \r\nQ 20.953125 51.265625 25.265625 53.625 \r\nQ 29.59375 56 35.59375 56 \r\nQ 45.5625 56 51.78125 48.09375 \r\nQ 58.015625 40.1875 58.015625 27.296875 \r\nQ 58.015625 14.40625 51.78125 6.484375 \r\nQ 45.5625 -1.421875 35.59375 -1.421875 \r\nQ 29.59375 -1.421875 25.265625 0.953125 \r\nQ 20.953125 3.328125 18.109375 8.203125 \r\nz\r\nM 48.6875 27.296875 \r\nQ 48.6875 37.203125 44.609375 42.84375 \r\nQ 40.53125 48.484375 33.40625 48.484375 \r\nQ 26.265625 48.484375 22.1875 42.84375 \r\nQ 18.109375 37.203125 18.109375 27.296875 \r\nQ 18.109375 17.390625 22.1875 11.75 \r\nQ 26.265625 6.109375 33.40625 6.109375 \r\nQ 40.53125 6.109375 44.609375 11.75 \r\nQ 48.6875 17.390625 48.6875 27.296875 \r\nz\r\n\" id=\"DejaVuSans-112\"/>\r\n      </defs>\r\n      <use xlink:href=\"#DejaVuSans-79\"/>\r\n      <use x=\"78.710938\" xlink:href=\"#DejaVuSans-98\"/>\r\n      <use x=\"142.1875\" xlink:href=\"#DejaVuSans-115\"/>\r\n      <use x=\"194.287109\" xlink:href=\"#DejaVuSans-101\"/>\r\n      <use x=\"255.810547\" xlink:href=\"#DejaVuSans-114\"/>\r\n      <use x=\"296.923828\" xlink:href=\"#DejaVuSans-118\"/>\r\n      <use x=\"356.103516\" xlink:href=\"#DejaVuSans-97\"/>\r\n      <use x=\"417.382812\" xlink:href=\"#DejaVuSans-116\"/>\r\n      <use x=\"456.591797\" xlink:href=\"#DejaVuSans-105\"/>\r\n      <use x=\"484.375\" xlink:href=\"#DejaVuSans-111\"/>\r\n      <use x=\"545.556641\" xlink:href=\"#DejaVuSans-110\"/>\r\n      <use x=\"608.935547\" xlink:href=\"#DejaVuSans-32\"/>\r\n      <use x=\"640.722656\" xlink:href=\"#DejaVuSans-112\"/>\r\n      <use x=\"704.199219\" xlink:href=\"#DejaVuSans-101\"/>\r\n      <use x=\"765.722656\" xlink:href=\"#DejaVuSans-114\"/>\r\n      <use x=\"806.835938\" xlink:href=\"#DejaVuSans-105\"/>\r\n      <use x=\"834.619141\" xlink:href=\"#DejaVuSans-111\"/>\r\n      <use x=\"895.800781\" xlink:href=\"#DejaVuSans-100\"/>\r\n     </g>\r\n    </g>\r\n    <g id=\"line2d_15\">\r\n     <path d=\"M 62.247069 50.094688 \r\nL 82.247069 50.094688 \r\n\" style=\"fill:none;stroke:#808080;stroke-width:15;\"/>\r\n    </g>\r\n    <g id=\"text_18\">\r\n     <!-- Hold period -->\r\n     <g transform=\"translate(90.247069 53.594688)scale(0.1 -0.1)\">\r\n      <use xlink:href=\"#DejaVuSans-72\"/>\r\n      <use x=\"75.195312\" xlink:href=\"#DejaVuSans-111\"/>\r\n      <use x=\"136.376953\" xlink:href=\"#DejaVuSans-108\"/>\r\n      <use x=\"164.160156\" xlink:href=\"#DejaVuSans-100\"/>\r\n      <use x=\"227.636719\" xlink:href=\"#DejaVuSans-32\"/>\r\n      <use x=\"259.423828\" xlink:href=\"#DejaVuSans-112\"/>\r\n      <use x=\"322.900391\" xlink:href=\"#DejaVuSans-101\"/>\r\n      <use x=\"384.423828\" xlink:href=\"#DejaVuSans-114\"/>\r\n      <use x=\"425.537109\" xlink:href=\"#DejaVuSans-105\"/>\r\n      <use x=\"453.320312\" xlink:href=\"#DejaVuSans-111\"/>\r\n      <use x=\"514.501953\" xlink:href=\"#DejaVuSans-100\"/>\r\n     </g>\r\n    </g>\r\n   </g>\r\n  </g>\r\n </g>\r\n <defs>\r\n  <clipPath id=\"p64b648fe1c\">\r\n   <rect height=\"244.8\" width=\"446.4\" x=\"53.247069\" y=\"22.318125\"/>\r\n  </clipPath>\r\n </defs>\r\n</svg>\r\n",
      "image/png": "[encoded data removed]"
     },
     "metadata": {
      "needs_background": "light"
     }
    }
   ],
   "source": [
    "from matplotlib.dates import date2num\n",
    "plotdf = df[df['index'] < 5][['index', 'date']]\n",
    "plotdf['date'] = pd.to_datetime(plotdf['date'])\n",
    "\n",
    "ax = plotdf.set_index('date').plot(figsize=(8, 5), title='Observe and Hold Periods (j=10, k=20 days)', yticks=[0,1,2,3,4], xlabel='Date', ylabel='Period')\n",
    "ax.lines.pop(0)\n",
    "\n",
    "for i in range(5):\n",
    "    td = timedf.iloc[i]\n",
    "    \n",
    "    # ax.axvspan(td.j_start.strftime(\"%Y-%m-%d\"), td.midpoint.strftime(\"%Y-%m-%d\"), color='green', alpha=0.3)\n",
    "    # ax.axvspan(td.midpoint.strftime(\"%Y-%m-%d\"), td.k_end.strftime(\"%Y-%m-%d\"), color='grey', alpha=0.3)\n",
    "    ax.hlines(y=i, xmin=td.j_start.strftime(\"%Y-%m-%d\"), xmax=td.midpoint.strftime(\"%Y-%m-%d\"), linewidth=15, color='#d3d3d3', label='Observation period' if i==0 else '_nolegend_')\n",
    "    ax.hlines(y=i,xmin=td.midpoint.strftime(\"%Y-%m-%d\"), xmax=td.k_end.strftime(\"%Y-%m-%d\"), linewidth=15, color='grey', label='Hold period' if i==0 else '_nolegend_')\n",
    "\n",
    "ax.legend(loc='upper left')#.remove()\n",
    "plt.show();\n"
   ]
  },
  {
   "cell_type": "code",
   "execution_count": 38,
   "metadata": {},
   "outputs": [
    {
     "output_type": "execute_result",
     "data": {
      "text/plain": [
       "'2010-01-14'"
      ]
     },
     "metadata": {},
     "execution_count": 38
    }
   ],
   "source": [
    "timedf.iloc[0].j_start.strftime(\"%Y-%m-%d\")\n",
    "timedf.iloc[0].midpoint.strftime(\"%Y-%m-%d\")"
   ]
  },
  {
   "cell_type": "code",
   "execution_count": 47,
   "metadata": {},
   "outputs": [
    {
     "output_type": "execute_result",
     "data": {
      "text/plain": [
       "date              9\n",
       "open              9\n",
       "high              9\n",
       "low               9\n",
       "close             9\n",
       "adj_close         9\n",
       "volume            9\n",
       "pctc              9\n",
       "cumprod           9\n",
       "index             9\n",
       "mom_pct_change    9\n",
       "rev_pct_change    9\n",
       "CCI_4_0.015       9\n",
       "K_4_3             9\n",
       "D_4_3             9\n",
       "J_4_3             9\n",
       "RSI_4             9\n",
       "BOP               9\n",
       "WILLR_4           9\n",
       "PDIST             9\n",
       "KCLe_4_2          9\n",
       "KCBe_4_2          9\n",
       "KCUe_4_2          9\n",
       "ADX_4             9\n",
       "DMP_4             9\n",
       "DMN_4             9\n",
       "QS_4              9\n",
       "ROC_4             9\n",
       "STDEV_4           9\n",
       "PVOL              9\n",
       "EFI_4             9\n",
       "dtype: int64"
      ]
     },
     "metadata": {},
     "execution_count": 47
    }
   ],
   "source": [
    "get_j_df(0).date.count()"
   ]
  },
  {
   "cell_type": "code",
   "execution_count": 43,
   "metadata": {},
   "outputs": [
    {
     "output_type": "execute_result",
     "data": {
      "text/plain": [
       "        date         open         high          low        close    adj_close  \\\n",
       "0 2010-01-04  1116.560059  1133.869995  1116.560059  1132.989990  1132.989990   \n",
       "1 2010-01-05  1132.660034  1136.630005  1129.660034  1136.520020  1136.520020   \n",
       "2 2010-01-06  1135.709961  1139.189941  1133.949951  1137.140015  1137.140015   \n",
       "3 2010-01-07  1136.270020  1142.459961  1131.319946  1141.689941  1141.689941   \n",
       "4 2010-01-08  1140.520020  1145.390015  1136.219971  1144.979980  1144.979980   \n",
       "\n",
       "       volume      pctc    cumprod  index  ...     KCBe_4_2     KCUe_4_2  \\\n",
       "0  3991400000  0.016043  10.015052      0  ...  1125.862247  1150.908327   \n",
       "1  2491020000  0.003116  10.357824      0  ...  1130.125356  1150.728981   \n",
       "2  4972660000  0.000546  10.418026      0  ...  1132.931219  1149.485386   \n",
       "3  5270680000  0.004001  10.859831      0  ...  1136.434708  1155.279220   \n",
       "4  4389590000  0.002882  11.179299      0  ...  1139.852817  1158.495559   \n",
       "\n",
       "       ADX_4      DMP_4      DMN_4      QS_4     ROC_4    STDEV_4  \\\n",
       "0  31.353875  25.824193  20.473821  0.867462  0.461966   7.420261   \n",
       "1  29.868441  28.282059  16.820527  2.419983  0.916362   9.419172   \n",
       "2  31.780718  31.403334  14.268415  2.554993  0.951685  10.387101   \n",
       "3  36.597717  30.786961   9.977320  6.784973  2.384536   3.572899   \n",
       "4  42.725905  31.076194   7.501304  3.792480  1.058261   3.996610   \n",
       "\n",
       "           PVOL         EFI_4  \n",
       "0  4.522216e+12  2.361978e+10  \n",
       "1  2.831094e+12  1.768922e+10  \n",
       "2  5.654611e+12  1.184674e+10  \n",
       "3  6.017482e+12  1.670053e+10  \n",
       "4  5.025993e+12  1.579709e+10  \n",
       "\n",
       "[5 rows x 31 columns]"
      ],
      "text/html": "<div>\n<style scoped>\n    .dataframe tbody tr th:only-of-type {\n        vertical-align: middle;\n    }\n\n    .dataframe tbody tr th {\n        vertical-align: top;\n    }\n\n    .dataframe thead th {\n        text-align: right;\n    }\n</style>\n<table border=\"1\" class=\"dataframe\">\n  <thead>\n    <tr style=\"text-align: right;\">\n      <th></th>\n      <th>date</th>\n      <th>open</th>\n      <th>high</th>\n      <th>low</th>\n      <th>close</th>\n      <th>adj_close</th>\n      <th>volume</th>\n      <th>pctc</th>\n      <th>cumprod</th>\n      <th>index</th>\n      <th>...</th>\n      <th>KCBe_4_2</th>\n      <th>KCUe_4_2</th>\n      <th>ADX_4</th>\n      <th>DMP_4</th>\n      <th>DMN_4</th>\n      <th>QS_4</th>\n      <th>ROC_4</th>\n      <th>STDEV_4</th>\n      <th>PVOL</th>\n      <th>EFI_4</th>\n    </tr>\n  </thead>\n  <tbody>\n    <tr>\n      <th>0</th>\n      <td>2010-01-04</td>\n      <td>1116.560059</td>\n      <td>1133.869995</td>\n      <td>1116.560059</td>\n      <td>1132.989990</td>\n      <td>1132.989990</td>\n      <td>3991400000</td>\n      <td>0.016043</td>\n      <td>10.015052</td>\n      <td>0</td>\n      <td>...</td>\n      <td>1125.862247</td>\n      <td>1150.908327</td>\n      <td>31.353875</td>\n      <td>25.824193</td>\n      <td>20.473821</td>\n      <td>0.867462</td>\n      <td>0.461966</td>\n      <td>7.420261</td>\n      <td>4.522216e+12</td>\n      <td>2.361978e+10</td>\n    </tr>\n    <tr>\n      <th>1</th>\n      <td>2010-01-05</td>\n      <td>1132.660034</td>\n      <td>1136.630005</td>\n      <td>1129.660034</td>\n      <td>1136.520020</td>\n      <td>1136.520020</td>\n      <td>2491020000</td>\n      <td>0.003116</td>\n      <td>10.357824</td>\n      <td>0</td>\n      <td>...</td>\n      <td>1130.125356</td>\n      <td>1150.728981</td>\n      <td>29.868441</td>\n      <td>28.282059</td>\n      <td>16.820527</td>\n      <td>2.419983</td>\n      <td>0.916362</td>\n      <td>9.419172</td>\n      <td>2.831094e+12</td>\n      <td>1.768922e+10</td>\n    </tr>\n    <tr>\n      <th>2</th>\n      <td>2010-01-06</td>\n      <td>1135.709961</td>\n      <td>1139.189941</td>\n      <td>1133.949951</td>\n      <td>1137.140015</td>\n      <td>1137.140015</td>\n      <td>4972660000</td>\n      <td>0.000546</td>\n      <td>10.418026</td>\n      <td>0</td>\n      <td>...</td>\n      <td>1132.931219</td>\n      <td>1149.485386</td>\n      <td>31.780718</td>\n      <td>31.403334</td>\n      <td>14.268415</td>\n      <td>2.554993</td>\n      <td>0.951685</td>\n      <td>10.387101</td>\n      <td>5.654611e+12</td>\n      <td>1.184674e+10</td>\n    </tr>\n    <tr>\n      <th>3</th>\n      <td>2010-01-07</td>\n      <td>1136.270020</td>\n      <td>1142.459961</td>\n      <td>1131.319946</td>\n      <td>1141.689941</td>\n      <td>1141.689941</td>\n      <td>5270680000</td>\n      <td>0.004001</td>\n      <td>10.859831</td>\n      <td>0</td>\n      <td>...</td>\n      <td>1136.434708</td>\n      <td>1155.279220</td>\n      <td>36.597717</td>\n      <td>30.786961</td>\n      <td>9.977320</td>\n      <td>6.784973</td>\n      <td>2.384536</td>\n      <td>3.572899</td>\n      <td>6.017482e+12</td>\n      <td>1.670053e+10</td>\n    </tr>\n    <tr>\n      <th>4</th>\n      <td>2010-01-08</td>\n      <td>1140.520020</td>\n      <td>1145.390015</td>\n      <td>1136.219971</td>\n      <td>1144.979980</td>\n      <td>1144.979980</td>\n      <td>4389590000</td>\n      <td>0.002882</td>\n      <td>11.179299</td>\n      <td>0</td>\n      <td>...</td>\n      <td>1139.852817</td>\n      <td>1158.495559</td>\n      <td>42.725905</td>\n      <td>31.076194</td>\n      <td>7.501304</td>\n      <td>3.792480</td>\n      <td>1.058261</td>\n      <td>3.996610</td>\n      <td>5.025993e+12</td>\n      <td>1.579709e+10</td>\n    </tr>\n  </tbody>\n</table>\n<p>5 rows × 31 columns</p>\n</div>"
     },
     "metadata": {},
     "execution_count": 43
    }
   ],
   "source": [
    "per0 = get_j_df(0)\n",
    "per0.head()"
   ]
  },
  {
   "cell_type": "code",
   "execution_count": 44,
   "metadata": {},
   "outputs": [
    {
     "output_type": "execute_result",
     "data": {
      "text/plain": [
       "        date         open         high          low        close    adj_close  \\\n",
       "0 2010-01-04  1116.560059  1133.869995  1116.560059  1132.989990  1132.989990   \n",
       "1 2010-01-05  1132.660034  1136.630005  1129.660034  1136.520020  1136.520020   \n",
       "2 2010-01-06  1135.709961  1139.189941  1133.949951  1137.140015  1137.140015   \n",
       "3 2010-01-07  1136.270020  1142.459961  1131.319946  1141.689941  1141.689941   \n",
       "4 2010-01-08  1140.520020  1145.390015  1136.219971  1144.979980  1144.979980   \n",
       "5 2010-01-11  1145.959961  1149.739990  1142.020020  1146.979980  1146.979980   \n",
       "6 2010-01-12  1143.810059  1143.810059  1131.770020  1136.219971  1136.219971   \n",
       "7 2010-01-13  1137.310059  1148.400024  1133.180054  1145.680054  1145.680054   \n",
       "8 2010-01-14  1145.680054  1150.410034  1143.800049  1148.459961  1148.459961   \n",
       "\n",
       "       volume      pctc    cumprod  index  ...      ADX_4      DMP_4  \\\n",
       "0  3991400000  0.016043  10.015052      0  ...  31.353875  25.824193   \n",
       "1  2491020000  0.003116  10.357824      0  ...  29.868441  28.282059   \n",
       "2  4972660000  0.000546  10.418026      0  ...  31.780718  31.403334   \n",
       "3  5270680000  0.004001  10.859831      0  ...  36.597717  30.786961   \n",
       "4  4389590000  0.002882  11.179299      0  ...  42.725905  31.076194   \n",
       "5  4255780000  0.001747  11.373502      0  ...  50.133800  36.581995   \n",
       "6  4716160000 -0.009381  10.328688      0  ...  40.024110  23.266002   \n",
       "7  4170360000  0.008326  11.247277      0  ...  33.664016  25.518823   \n",
       "8  3915200000  0.002426  11.517210      0  ...  31.337741  26.297119   \n",
       "\n",
       "       DMN_4      QS_4     ROC_4    STDEV_4          PVOL         EFI_4  \\\n",
       "0  20.473821  0.867462  0.461966   7.420261  4.522216e+12  2.361978e+10   \n",
       "1  16.820527  2.419983  0.916362   9.419172  2.831094e+12  1.768922e+10   \n",
       "2  14.268415  2.554993  0.951685  10.387101  5.654611e+12  1.184674e+10   \n",
       "3   9.977320  6.784973  2.384536   3.572899  6.017482e+12  1.670053e+10   \n",
       "4   7.501304  3.792480  1.058261   3.996610  5.025993e+12  1.579709e+10   \n",
       "5   5.866983  3.082489  0.920350   4.299231  4.881294e+12  1.288288e+10   \n",
       "6  28.261626  0.827454 -0.080909   4.701463  5.358595e+12 -1.256865e+10   \n",
       "7  19.022968  1.564972  0.349492   4.900584  4.777898e+12  8.239593e+09   \n",
       "8  15.995175  1.144958  0.303934   5.527932  4.496450e+12  9.297313e+09   \n",
       "\n",
       "   mom_cum_ret  rev_cum_ret  \n",
       "0     0.000000     0.000000  \n",
       "1     0.027465    -0.004083  \n",
       "2     0.051667    -0.022766  \n",
       "3     0.129314    -0.027102  \n",
       "4     0.128945    -0.041748  \n",
       "5     0.152255    -0.055975  \n",
       "6     0.175668    -0.090007  \n",
       "7     0.202810    -0.084555  \n",
       "8     0.236339    -0.098202  \n",
       "\n",
       "[9 rows x 33 columns]"
      ],
      "text/html": "<div>\n<style scoped>\n    .dataframe tbody tr th:only-of-type {\n        vertical-align: middle;\n    }\n\n    .dataframe tbody tr th {\n        vertical-align: top;\n    }\n\n    .dataframe thead th {\n        text-align: right;\n    }\n</style>\n<table border=\"1\" class=\"dataframe\">\n  <thead>\n    <tr style=\"text-align: right;\">\n      <th></th>\n      <th>date</th>\n      <th>open</th>\n      <th>high</th>\n      <th>low</th>\n      <th>close</th>\n      <th>adj_close</th>\n      <th>volume</th>\n      <th>pctc</th>\n      <th>cumprod</th>\n      <th>index</th>\n      <th>...</th>\n      <th>ADX_4</th>\n      <th>DMP_4</th>\n      <th>DMN_4</th>\n      <th>QS_4</th>\n      <th>ROC_4</th>\n      <th>STDEV_4</th>\n      <th>PVOL</th>\n      <th>EFI_4</th>\n      <th>mom_cum_ret</th>\n      <th>rev_cum_ret</th>\n    </tr>\n  </thead>\n  <tbody>\n    <tr>\n      <th>0</th>\n      <td>2010-01-04</td>\n      <td>1116.560059</td>\n      <td>1133.869995</td>\n      <td>1116.560059</td>\n      <td>1132.989990</td>\n      <td>1132.989990</td>\n      <td>3991400000</td>\n      <td>0.016043</td>\n      <td>10.015052</td>\n      <td>0</td>\n      <td>...</td>\n      <td>31.353875</td>\n      <td>25.824193</td>\n      <td>20.473821</td>\n      <td>0.867462</td>\n      <td>0.461966</td>\n      <td>7.420261</td>\n      <td>4.522216e+12</td>\n      <td>2.361978e+10</td>\n      <td>0.000000</td>\n      <td>0.000000</td>\n    </tr>\n    <tr>\n      <th>1</th>\n      <td>2010-01-05</td>\n      <td>1132.660034</td>\n      <td>1136.630005</td>\n      <td>1129.660034</td>\n      <td>1136.520020</td>\n      <td>1136.520020</td>\n      <td>2491020000</td>\n      <td>0.003116</td>\n      <td>10.357824</td>\n      <td>0</td>\n      <td>...</td>\n      <td>29.868441</td>\n      <td>28.282059</td>\n      <td>16.820527</td>\n      <td>2.419983</td>\n      <td>0.916362</td>\n      <td>9.419172</td>\n      <td>2.831094e+12</td>\n      <td>1.768922e+10</td>\n      <td>0.027465</td>\n      <td>-0.004083</td>\n    </tr>\n    <tr>\n      <th>2</th>\n      <td>2010-01-06</td>\n      <td>1135.709961</td>\n      <td>1139.189941</td>\n      <td>1133.949951</td>\n      <td>1137.140015</td>\n      <td>1137.140015</td>\n      <td>4972660000</td>\n      <td>0.000546</td>\n      <td>10.418026</td>\n      <td>0</td>\n      <td>...</td>\n      <td>31.780718</td>\n      <td>31.403334</td>\n      <td>14.268415</td>\n      <td>2.554993</td>\n      <td>0.951685</td>\n      <td>10.387101</td>\n      <td>5.654611e+12</td>\n      <td>1.184674e+10</td>\n      <td>0.051667</td>\n      <td>-0.022766</td>\n    </tr>\n    <tr>\n      <th>3</th>\n      <td>2010-01-07</td>\n      <td>1136.270020</td>\n      <td>1142.459961</td>\n      <td>1131.319946</td>\n      <td>1141.689941</td>\n      <td>1141.689941</td>\n      <td>5270680000</td>\n      <td>0.004001</td>\n      <td>10.859831</td>\n      <td>0</td>\n      <td>...</td>\n      <td>36.597717</td>\n      <td>30.786961</td>\n      <td>9.977320</td>\n      <td>6.784973</td>\n      <td>2.384536</td>\n      <td>3.572899</td>\n      <td>6.017482e+12</td>\n      <td>1.670053e+10</td>\n      <td>0.129314</td>\n      <td>-0.027102</td>\n    </tr>\n    <tr>\n      <th>4</th>\n      <td>2010-01-08</td>\n      <td>1140.520020</td>\n      <td>1145.390015</td>\n      <td>1136.219971</td>\n      <td>1144.979980</td>\n      <td>1144.979980</td>\n      <td>4389590000</td>\n      <td>0.002882</td>\n      <td>11.179299</td>\n      <td>0</td>\n      <td>...</td>\n      <td>42.725905</td>\n      <td>31.076194</td>\n      <td>7.501304</td>\n      <td>3.792480</td>\n      <td>1.058261</td>\n      <td>3.996610</td>\n      <td>5.025993e+12</td>\n      <td>1.579709e+10</td>\n      <td>0.128945</td>\n      <td>-0.041748</td>\n    </tr>\n    <tr>\n      <th>5</th>\n      <td>2010-01-11</td>\n      <td>1145.959961</td>\n      <td>1149.739990</td>\n      <td>1142.020020</td>\n      <td>1146.979980</td>\n      <td>1146.979980</td>\n      <td>4255780000</td>\n      <td>0.001747</td>\n      <td>11.373502</td>\n      <td>0</td>\n      <td>...</td>\n      <td>50.133800</td>\n      <td>36.581995</td>\n      <td>5.866983</td>\n      <td>3.082489</td>\n      <td>0.920350</td>\n      <td>4.299231</td>\n      <td>4.881294e+12</td>\n      <td>1.288288e+10</td>\n      <td>0.152255</td>\n      <td>-0.055975</td>\n    </tr>\n    <tr>\n      <th>6</th>\n      <td>2010-01-12</td>\n      <td>1143.810059</td>\n      <td>1143.810059</td>\n      <td>1131.770020</td>\n      <td>1136.219971</td>\n      <td>1136.219971</td>\n      <td>4716160000</td>\n      <td>-0.009381</td>\n      <td>10.328688</td>\n      <td>0</td>\n      <td>...</td>\n      <td>40.024110</td>\n      <td>23.266002</td>\n      <td>28.261626</td>\n      <td>0.827454</td>\n      <td>-0.080909</td>\n      <td>4.701463</td>\n      <td>5.358595e+12</td>\n      <td>-1.256865e+10</td>\n      <td>0.175668</td>\n      <td>-0.090007</td>\n    </tr>\n    <tr>\n      <th>7</th>\n      <td>2010-01-13</td>\n      <td>1137.310059</td>\n      <td>1148.400024</td>\n      <td>1133.180054</td>\n      <td>1145.680054</td>\n      <td>1145.680054</td>\n      <td>4170360000</td>\n      <td>0.008326</td>\n      <td>11.247277</td>\n      <td>0</td>\n      <td>...</td>\n      <td>33.664016</td>\n      <td>25.518823</td>\n      <td>19.022968</td>\n      <td>1.564972</td>\n      <td>0.349492</td>\n      <td>4.900584</td>\n      <td>4.777898e+12</td>\n      <td>8.239593e+09</td>\n      <td>0.202810</td>\n      <td>-0.084555</td>\n    </tr>\n    <tr>\n      <th>8</th>\n      <td>2010-01-14</td>\n      <td>1145.680054</td>\n      <td>1150.410034</td>\n      <td>1143.800049</td>\n      <td>1148.459961</td>\n      <td>1148.459961</td>\n      <td>3915200000</td>\n      <td>0.002426</td>\n      <td>11.517210</td>\n      <td>0</td>\n      <td>...</td>\n      <td>31.337741</td>\n      <td>26.297119</td>\n      <td>15.995175</td>\n      <td>1.144958</td>\n      <td>0.303934</td>\n      <td>5.527932</td>\n      <td>4.496450e+12</td>\n      <td>9.297313e+09</td>\n      <td>0.236339</td>\n      <td>-0.098202</td>\n    </tr>\n  </tbody>\n</table>\n<p>9 rows × 33 columns</p>\n</div>"
     },
     "metadata": {},
     "execution_count": 44
    }
   ],
   "source": [
    "per0['mom_cum_ret'] = (per0['mom_pct_change']+1).cumprod()-1\n",
    "per0['rev_cum_ret'] = (per0['rev_pct_change']+1).cumprod()-1\n",
    "per0"
   ]
  },
  {
   "cell_type": "markdown",
   "metadata": {},
   "source": [
    "leptokurtic distribution\n",
    "the only things we can do is buy, hold, or leave for rev or momentum\n",
    "<br><br>choices:\n",
    "- momentum\n",
    "- reversal\n",
    "- neither"
   ]
  },
  {
   "source": [
    "if we want to give them data "
   ],
   "cell_type": "markdown",
   "metadata": {}
  }
 ],
 "metadata": {
  "kernelspec": {
   "name": "python3",
   "display_name": "Python 3.7.4 64-bit ('dsc190': pipenv)",
   "metadata": {
    "interpreter": {
     "hash": "e8c7d0e4fde2d427e9a5fa7c228e5b3fde1b07bcd87cbc5bf40713027eb29d09"
    }
   }
  },
  "language_info": {
   "codemirror_mode": {
    "name": "ipython",
    "version": 3
   },
   "file_extension": ".py",
   "mimetype": "text/x-python",
   "name": "python",
   "nbconvert_exporter": "python",
   "pygments_lexer": "ipython3",
   "version": "3.7.4-final"
  }
 },
 "nbformat": 4,
 "nbformat_minor": 2
}