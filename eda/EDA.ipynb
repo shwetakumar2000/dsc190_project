{
 "cells": [
  {
   "cell_type": "markdown",
   "metadata": {},
   "source": [
    "Ben: A lot of unfamiliar packages here, more on the way. pipenv/virtual environments are your friend. A quick disclaimer that I am barely familiar with this domain of financial modeling, i can be very wrong in my understanding of things. i hope my code is readable."
   ]
  },
  {
   "cell_type": "code",
   "execution_count": 148,
   "metadata": {},
   "outputs": [],
   "source": [
    "import numpy as np\n",
    "import pandas as pd\n",
    "import matplotlib.pyplot as plt\n",
    "from time import sleep\n",
    "\n",
    "from pandas_datareader import data as pdr\n",
    "import pandas_ta as ta #commented out for me for now, I (Ben) had some dependency issues\n",
    "import yfinance as yf\n",
    "# import quandl as qd # not used, ignor ples\n",
    "from backtesting import Backtest, Strategy"
   ]
  },
  {
   "cell_type": "code",
   "execution_count": 149,
   "metadata": {},
   "outputs": [],
   "source": [
    "yf.pdr_override() # for use with pandas-datareader, optional"
   ]
  },
  {
   "cell_type": "markdown",
   "metadata": {},
   "source": [
    "# Data Sources/Exploration\n",
    "## which stocks/tickers will we be looking at?\n",
    "We've more or less arbitrarily settled on the current S&P 500 index, a popular choice.\n",
    "## What data do we need, and where can we get it?\n",
    "We need OHLC (open high low close) data, on a monthly and daily scale. Using yfinance, a module that basically scrapes the ya\"hoo finance site for data on tickers, we can get most of what we need.\n",
    "## "
   ]
  },
  {
   "cell_type": "code",
   "execution_count": null,
   "metadata": {},
   "outputs": [],
   "source": []
  },
  {
   "cell_type": "code",
   "execution_count": 150,
   "metadata": {},
   "outputs": [
    {
     "output_type": "execute_result",
     "data": {
      "text/plain": [
       "0     AAPL\n",
       "1     MSFT\n",
       "2     AMZN\n",
       "3       FB\n",
       "4    GOOGL\n",
       "Name: Ticker, dtype: object"
      ]
     },
     "metadata": {},
     "execution_count": 150
    }
   ],
   "source": [
    "ticker = pd.read_csv('ticker.csv')['Ticker']\n",
    "tickers = ticker.to_list() # This is a list of all tickers in the SP500\n",
    "tickers = [x.replace('.','-') for x in tickers] # yahoo has '-' instead of '.' for tickers, eg BRK.B\n",
    "ticker.head()"
   ]
  },
  {
   "cell_type": "code",
   "execution_count": 151,
   "metadata": {},
   "outputs": [],
   "source": [
    "# tickers"
   ]
  },
  {
   "cell_type": "code",
   "execution_count": 152,
   "metadata": {},
   "outputs": [],
   "source": [
    "# sp_500 = {x:yf.Ticker(x) for x in tickers} # a dict of initialized yfinance tickers\n",
    "# sp_500['AAPL'].history(start='2019-01-01', end='2020-12-31', interval='1mo')\n",
    "# sp_500['AAPL'].history(start='2010-01-01', end='2020-12-31')"
   ]
  },
  {
   "cell_type": "code",
   "execution_count": 153,
   "metadata": {
    "tags": []
   },
   "outputs": [
    {
     "output_type": "stream",
     "name": "stdout",
     "text": [
      "Grabbing AAPL data!\n",
      "[*********************100%***********************]  1 of 1 completed\n",
      "Grabbing MSFT data!\n",
      "[*********************100%***********************]  1 of 1 completed\n",
      "Grabbing AMZN data!\n",
      "[*********************100%***********************]  1 of 1 completed\n",
      "Grabbing FB data!\n",
      "[*********************100%***********************]  1 of 1 completed\n",
      "Grabbing GOOGL data!\n",
      "[*********************100%***********************]  1 of 1 completed\n",
      "Grabbing GOOG data!\n",
      "[*********************100%***********************]  1 of 1 completed\n",
      "Grabbing TSLA data!\n",
      "[*********************100%***********************]  1 of 1 completed\n",
      "Grabbing BRK-B data!\n",
      "[*********************100%***********************]  1 of 1 completed\n",
      "Grabbing JPM data!\n",
      "[*********************100%***********************]  1 of 1 completed\n",
      "Grabbing JNJ data!\n",
      "[*********************100%***********************]  1 of 1 completed\n"
     ]
    },
    {
     "output_type": "execute_result",
     "data": {
      "text/plain": [
       "                  Open        High         Low       Close   Adj Close  \\\n",
       "Date                                                                     \n",
       "2010-02-01    6.870357    7.327500    6.816071    7.307857    6.294721   \n",
       "2010-03-01    7.348214    8.481429    7.337500    8.392857    7.229299   \n",
       "2010-04-01    8.478929    9.730714    8.312500    9.324643    8.031907   \n",
       "2010-05-01    9.422857    9.567143    7.116071    9.174286    7.902396   \n",
       "2010-06-01    9.274643    9.964643    8.650000    8.983214    7.737815   \n",
       "...                ...         ...         ...         ...         ...   \n",
       "2021-01-01  133.520004  145.089996  126.379997  131.960007  131.763107   \n",
       "2021-02-01  133.750000  137.880005  118.389999  121.260002  121.079071   \n",
       "2021-02-05         NaN         NaN         NaN         NaN         NaN   \n",
       "2021-03-01  123.750000  128.720001  121.839996  122.059998  122.059998   \n",
       "2021-03-04  121.750000  123.599998  118.620003  120.129997  120.129997   \n",
       "\n",
       "                  Volume  \n",
       "Date                      \n",
       "2010-02-01  1.077608e+10  \n",
       "2010-03-01  1.215417e+10  \n",
       "2010-04-01  1.236713e+10  \n",
       "2010-05-01  1.808265e+10  \n",
       "2010-06-01  1.665125e+10  \n",
       "...                  ...  \n",
       "2021-01-01  2.240534e+09  \n",
       "2021-02-01  1.833204e+09  \n",
       "2021-02-05           NaN  \n",
       "2021-03-01  3.304440e+08  \n",
       "2021-03-04  1.645279e+08  \n",
       "\n",
       "[172 rows x 6 columns]"
      ],
      "text/html": "<div>\n<style scoped>\n    .dataframe tbody tr th:only-of-type {\n        vertical-align: middle;\n    }\n\n    .dataframe tbody tr th {\n        vertical-align: top;\n    }\n\n    .dataframe thead th {\n        text-align: right;\n    }\n</style>\n<table border=\"1\" class=\"dataframe\">\n  <thead>\n    <tr style=\"text-align: right;\">\n      <th></th>\n      <th>Open</th>\n      <th>High</th>\n      <th>Low</th>\n      <th>Close</th>\n      <th>Adj Close</th>\n      <th>Volume</th>\n    </tr>\n    <tr>\n      <th>Date</th>\n      <th></th>\n      <th></th>\n      <th></th>\n      <th></th>\n      <th></th>\n      <th></th>\n    </tr>\n  </thead>\n  <tbody>\n    <tr>\n      <th>2010-02-01</th>\n      <td>6.870357</td>\n      <td>7.327500</td>\n      <td>6.816071</td>\n      <td>7.307857</td>\n      <td>6.294721</td>\n      <td>1.077608e+10</td>\n    </tr>\n    <tr>\n      <th>2010-03-01</th>\n      <td>7.348214</td>\n      <td>8.481429</td>\n      <td>7.337500</td>\n      <td>8.392857</td>\n      <td>7.229299</td>\n      <td>1.215417e+10</td>\n    </tr>\n    <tr>\n      <th>2010-04-01</th>\n      <td>8.478929</td>\n      <td>9.730714</td>\n      <td>8.312500</td>\n      <td>9.324643</td>\n      <td>8.031907</td>\n      <td>1.236713e+10</td>\n    </tr>\n    <tr>\n      <th>2010-05-01</th>\n      <td>9.422857</td>\n      <td>9.567143</td>\n      <td>7.116071</td>\n      <td>9.174286</td>\n      <td>7.902396</td>\n      <td>1.808265e+10</td>\n    </tr>\n    <tr>\n      <th>2010-06-01</th>\n      <td>9.274643</td>\n      <td>9.964643</td>\n      <td>8.650000</td>\n      <td>8.983214</td>\n      <td>7.737815</td>\n      <td>1.665125e+10</td>\n    </tr>\n    <tr>\n      <th>...</th>\n      <td>...</td>\n      <td>...</td>\n      <td>...</td>\n      <td>...</td>\n      <td>...</td>\n      <td>...</td>\n    </tr>\n    <tr>\n      <th>2021-01-01</th>\n      <td>133.520004</td>\n      <td>145.089996</td>\n      <td>126.379997</td>\n      <td>131.960007</td>\n      <td>131.763107</td>\n      <td>2.240534e+09</td>\n    </tr>\n    <tr>\n      <th>2021-02-01</th>\n      <td>133.750000</td>\n      <td>137.880005</td>\n      <td>118.389999</td>\n      <td>121.260002</td>\n      <td>121.079071</td>\n      <td>1.833204e+09</td>\n    </tr>\n    <tr>\n      <th>2021-02-05</th>\n      <td>NaN</td>\n      <td>NaN</td>\n      <td>NaN</td>\n      <td>NaN</td>\n      <td>NaN</td>\n      <td>NaN</td>\n    </tr>\n    <tr>\n      <th>2021-03-01</th>\n      <td>123.750000</td>\n      <td>128.720001</td>\n      <td>121.839996</td>\n      <td>122.059998</td>\n      <td>122.059998</td>\n      <td>3.304440e+08</td>\n    </tr>\n    <tr>\n      <th>2021-03-04</th>\n      <td>121.750000</td>\n      <td>123.599998</td>\n      <td>118.620003</td>\n      <td>120.129997</td>\n      <td>120.129997</td>\n      <td>1.645279e+08</td>\n    </tr>\n  </tbody>\n</table>\n<p>172 rows × 6 columns</p>\n</div>"
     },
     "metadata": {},
     "execution_count": 153
    }
   ],
   "source": [
    "## below is how I got monthly and daily pandas dataframes of all stocks in one huge dict.  \n",
    "monthly_sp500 = {}\n",
    "# for tkr in tickers: # run all 500 at your own risk, it takes a while lol\n",
    "for tkr in tickers[:10]:\n",
    "    print('Grabbing ' + tkr + \" data!\")\n",
    "    # monthly_sp500[tkr] = yf.Ticker(tkr).history(start='2010-01-01', end='2020-12-31', interval='1mo')\n",
    "    monthly_sp500[tkr] = pdr.get_data_yahoo(tkr, start=\"2010-01-04\", interval = \"1mo\")\n",
    "    sleep(.1) # not planning on ddos-ing yahoo today\n",
    "monthly_sp500['AAPL'] # take AAPL, for example; TODO deal with the pesky NaNs properly"
   ]
  },
  {
   "cell_type": "code",
   "execution_count": 154,
   "metadata": {},
   "outputs": [],
   "source": [
    "# monthly_sp500['AAPL'].loc[monthly_sp500['AAPL'].isna().any(axis=1)]"
   ]
  },
  {
   "cell_type": "code",
   "execution_count": 155,
   "metadata": {
    "tags": []
   },
   "outputs": [
    {
     "output_type": "stream",
     "name": "stdout",
     "text": [
      "Grabbing AAPL data!\n",
      "[*********************100%***********************]  1 of 1 completed\n",
      "Grabbing MSFT data!\n",
      "[*********************100%***********************]  1 of 1 completed\n",
      "Grabbing AMZN data!\n",
      "[*********************100%***********************]  1 of 1 completed\n",
      "Grabbing FB data!\n",
      "[*********************100%***********************]  1 of 1 completed\n",
      "Grabbing GOOGL data!\n",
      "[*********************100%***********************]  1 of 1 completed\n",
      "Grabbing GOOG data!\n",
      "[*********************100%***********************]  1 of 1 completed\n",
      "Grabbing TSLA data!\n",
      "[*********************100%***********************]  1 of 1 completed\n",
      "Grabbing BRK-B data!\n",
      "[*********************100%***********************]  1 of 1 completed\n",
      "Grabbing JPM data!\n",
      "[*********************100%***********************]  1 of 1 completed\n",
      "Grabbing JNJ data!\n",
      "[*********************100%***********************]  1 of 1 completed\n"
     ]
    },
    {
     "output_type": "execute_result",
     "data": {
      "text/plain": [
       "                  Open        High         Low       Close   Adj Close  \\\n",
       "Date                                                                     \n",
       "2010-01-04    7.622500    7.660714    7.585000    7.643214    6.583586   \n",
       "2010-01-05    7.664286    7.699643    7.616071    7.656429    6.594968   \n",
       "2010-01-06    7.656429    7.686786    7.526786    7.534643    6.490066   \n",
       "2010-01-07    7.562500    7.571429    7.466071    7.520714    6.478067   \n",
       "2010-01-08    7.510714    7.571429    7.466429    7.570714    6.521136   \n",
       "...                ...         ...         ...         ...         ...   \n",
       "2021-02-26  122.589996  124.849998  121.199997  121.260002  121.260002   \n",
       "2021-03-01  123.750000  127.930000  122.790001  127.790001  127.790001   \n",
       "2021-03-02  128.410004  128.720001  125.010002  125.120003  125.120003   \n",
       "2021-03-03  124.809998  125.709999  121.839996  122.059998  122.059998   \n",
       "2021-03-04  121.750000  123.599998  118.620003  120.129997  120.129997   \n",
       "\n",
       "               Volume  \n",
       "Date                   \n",
       "2010-01-04  493729600  \n",
       "2010-01-05  601904800  \n",
       "2010-01-06  552160000  \n",
       "2010-01-07  477131200  \n",
       "2010-01-08  447610800  \n",
       "...               ...  \n",
       "2021-02-26  164320000  \n",
       "2021-03-01  115998300  \n",
       "2021-03-02  102015300  \n",
       "2021-03-03  112430400  \n",
       "2021-03-04  177275300  \n",
       "\n",
       "[2811 rows x 6 columns]"
      ],
      "text/html": "<div>\n<style scoped>\n    .dataframe tbody tr th:only-of-type {\n        vertical-align: middle;\n    }\n\n    .dataframe tbody tr th {\n        vertical-align: top;\n    }\n\n    .dataframe thead th {\n        text-align: right;\n    }\n</style>\n<table border=\"1\" class=\"dataframe\">\n  <thead>\n    <tr style=\"text-align: right;\">\n      <th></th>\n      <th>Open</th>\n      <th>High</th>\n      <th>Low</th>\n      <th>Close</th>\n      <th>Adj Close</th>\n      <th>Volume</th>\n    </tr>\n    <tr>\n      <th>Date</th>\n      <th></th>\n      <th></th>\n      <th></th>\n      <th></th>\n      <th></th>\n      <th></th>\n    </tr>\n  </thead>\n  <tbody>\n    <tr>\n      <th>2010-01-04</th>\n      <td>7.622500</td>\n      <td>7.660714</td>\n      <td>7.585000</td>\n      <td>7.643214</td>\n      <td>6.583586</td>\n      <td>493729600</td>\n    </tr>\n    <tr>\n      <th>2010-01-05</th>\n      <td>7.664286</td>\n      <td>7.699643</td>\n      <td>7.616071</td>\n      <td>7.656429</td>\n      <td>6.594968</td>\n      <td>601904800</td>\n    </tr>\n    <tr>\n      <th>2010-01-06</th>\n      <td>7.656429</td>\n      <td>7.686786</td>\n      <td>7.526786</td>\n      <td>7.534643</td>\n      <td>6.490066</td>\n      <td>552160000</td>\n    </tr>\n    <tr>\n      <th>2010-01-07</th>\n      <td>7.562500</td>\n      <td>7.571429</td>\n      <td>7.466071</td>\n      <td>7.520714</td>\n      <td>6.478067</td>\n      <td>477131200</td>\n    </tr>\n    <tr>\n      <th>2010-01-08</th>\n      <td>7.510714</td>\n      <td>7.571429</td>\n      <td>7.466429</td>\n      <td>7.570714</td>\n      <td>6.521136</td>\n      <td>447610800</td>\n    </tr>\n    <tr>\n      <th>...</th>\n      <td>...</td>\n      <td>...</td>\n      <td>...</td>\n      <td>...</td>\n      <td>...</td>\n      <td>...</td>\n    </tr>\n    <tr>\n      <th>2021-02-26</th>\n      <td>122.589996</td>\n      <td>124.849998</td>\n      <td>121.199997</td>\n      <td>121.260002</td>\n      <td>121.260002</td>\n      <td>164320000</td>\n    </tr>\n    <tr>\n      <th>2021-03-01</th>\n      <td>123.750000</td>\n      <td>127.930000</td>\n      <td>122.790001</td>\n      <td>127.790001</td>\n      <td>127.790001</td>\n      <td>115998300</td>\n    </tr>\n    <tr>\n      <th>2021-03-02</th>\n      <td>128.410004</td>\n      <td>128.720001</td>\n      <td>125.010002</td>\n      <td>125.120003</td>\n      <td>125.120003</td>\n      <td>102015300</td>\n    </tr>\n    <tr>\n      <th>2021-03-03</th>\n      <td>124.809998</td>\n      <td>125.709999</td>\n      <td>121.839996</td>\n      <td>122.059998</td>\n      <td>122.059998</td>\n      <td>112430400</td>\n    </tr>\n    <tr>\n      <th>2021-03-04</th>\n      <td>121.750000</td>\n      <td>123.599998</td>\n      <td>118.620003</td>\n      <td>120.129997</td>\n      <td>120.129997</td>\n      <td>177275300</td>\n    </tr>\n  </tbody>\n</table>\n<p>2811 rows × 6 columns</p>\n</div>"
     },
     "metadata": {},
     "execution_count": 155
    }
   ],
   "source": [
    "daily_sp500 = {}\n",
    "# for tkr in tickers:\n",
    "for tkr in tickers[:10]: #this only gets the first 10 fyi\n",
    "    print('Grabbing ' + tkr + \" data!\")\n",
    "    # daily_sp500[tkr] = yf.Ticker(tkr).history(start='2010-01-01', end='2020-12-31', interval='1mo')\n",
    "    daily_sp500[tkr] = pdr.get_data_yahoo(tkr,start=\"2010-01-01\")\n",
    "    sleep(.1)\n",
    "daily_sp500['AAPL'] # take AAPL, for example"
   ]
  },
  {
   "cell_type": "code",
   "execution_count": 156,
   "metadata": {},
   "outputs": [
    {
     "output_type": "execute_result",
     "data": {
      "text/plain": [
       "21.511627906976745"
      ]
     },
     "metadata": {},
     "execution_count": 156
    }
   ],
   "source": [
    "len(monthly_sp500['AAPL'].loc[monthly_sp500['AAPL'].isna().any(axis=1)])/len(monthly_sp500['AAPL']) * 100 #percentage of missingness"
   ]
  },
  {
   "cell_type": "code",
   "execution_count": 157,
   "metadata": {},
   "outputs": [],
   "source": [
    "# from sklearn.impute import KNNImputer\n",
    "# imputer = KNNImputer(n_neighbors = 2)\n",
    "\n",
    "\n",
    "# imputed_aapl = imputer.fit_transform(monthly_sp500['AAPL'].drop('Name', axis=1))\n",
    "# imputed_aapl = pd.DataFrame(imputed_aapl,columns=['Open','High','Low','Close','Adj Close','Volume'])"
   ]
  },
  {
   "cell_type": "code",
   "execution_count": 158,
   "metadata": {},
   "outputs": [],
   "source": [
    "# imputed_aapl = imputed_aapl.set_index(monthly_sp500['AAPL'].index)"
   ]
  },
  {
   "cell_type": "code",
   "execution_count": 159,
   "metadata": {},
   "outputs": [],
   "source": [
    "# len(imputed_aapl.loc[imputed_aapl.isna().any(axis=1)])/len(imputed_aapl) * 100 #percentage of missingness"
   ]
  },
  {
   "cell_type": "code",
   "execution_count": 162,
   "metadata": {},
   "outputs": [
    {
     "output_type": "execute_result",
     "data": {
      "text/plain": [
       "                  Open        High         Low       Close   Adj Close  \\\n",
       "Date                                                                     \n",
       "2010-02-01    6.870357    7.327500    6.816071    7.307857    6.294721   \n",
       "2010-03-01    7.348214    8.481429    7.337500    8.392857    7.229299   \n",
       "2010-04-01    8.478929    9.730714    8.312500    9.324643    8.031907   \n",
       "2010-05-01    9.422857    9.567143    7.116071    9.174286    7.902396   \n",
       "2010-06-01    9.274643    9.964643    8.650000    8.983214    7.737815   \n",
       "...                ...         ...         ...         ...         ...   \n",
       "2021-01-01  157.240005  173.649994  154.130005  163.130005  162.119080   \n",
       "2021-02-01  165.309998  167.940002  157.970001  158.460007  157.478012   \n",
       "2021-02-22         NaN         NaN         NaN         NaN         NaN   \n",
       "2021-03-01  161.449997  161.529999  156.059998  156.220001  156.220001   \n",
       "2021-03-04  155.990005  156.100006  151.470001  153.070007  153.070007   \n",
       "\n",
       "                  Volume  Name  \n",
       "Date                            \n",
       "2010-02-01  1.077608e+10  AAPL  \n",
       "2010-03-01  1.215417e+10  AAPL  \n",
       "2010-04-01  1.236713e+10  AAPL  \n",
       "2010-05-01  1.808265e+10  AAPL  \n",
       "2010-06-01  1.665125e+10  AAPL  \n",
       "...                  ...   ...  \n",
       "2021-01-01  1.844584e+08   JNJ  \n",
       "2021-02-01  1.476050e+08   JNJ  \n",
       "2021-02-22           NaN   JNJ  \n",
       "2021-03-01  2.663520e+07   JNJ  \n",
       "2021-03-04  1.103478e+07   JNJ  \n",
       "\n",
       "[1494 rows x 7 columns]"
      ],
      "text/html": "<div>\n<style scoped>\n    .dataframe tbody tr th:only-of-type {\n        vertical-align: middle;\n    }\n\n    .dataframe tbody tr th {\n        vertical-align: top;\n    }\n\n    .dataframe thead th {\n        text-align: right;\n    }\n</style>\n<table border=\"1\" class=\"dataframe\">\n  <thead>\n    <tr style=\"text-align: right;\">\n      <th></th>\n      <th>Open</th>\n      <th>High</th>\n      <th>Low</th>\n      <th>Close</th>\n      <th>Adj Close</th>\n      <th>Volume</th>\n      <th>Name</th>\n    </tr>\n    <tr>\n      <th>Date</th>\n      <th></th>\n      <th></th>\n      <th></th>\n      <th></th>\n      <th></th>\n      <th></th>\n      <th></th>\n    </tr>\n  </thead>\n  <tbody>\n    <tr>\n      <th>2010-02-01</th>\n      <td>6.870357</td>\n      <td>7.327500</td>\n      <td>6.816071</td>\n      <td>7.307857</td>\n      <td>6.294721</td>\n      <td>1.077608e+10</td>\n      <td>AAPL</td>\n    </tr>\n    <tr>\n      <th>2010-03-01</th>\n      <td>7.348214</td>\n      <td>8.481429</td>\n      <td>7.337500</td>\n      <td>8.392857</td>\n      <td>7.229299</td>\n      <td>1.215417e+10</td>\n      <td>AAPL</td>\n    </tr>\n    <tr>\n      <th>2010-04-01</th>\n      <td>8.478929</td>\n      <td>9.730714</td>\n      <td>8.312500</td>\n      <td>9.324643</td>\n      <td>8.031907</td>\n      <td>1.236713e+10</td>\n      <td>AAPL</td>\n    </tr>\n    <tr>\n      <th>2010-05-01</th>\n      <td>9.422857</td>\n      <td>9.567143</td>\n      <td>7.116071</td>\n      <td>9.174286</td>\n      <td>7.902396</td>\n      <td>1.808265e+10</td>\n      <td>AAPL</td>\n    </tr>\n    <tr>\n      <th>2010-06-01</th>\n      <td>9.274643</td>\n      <td>9.964643</td>\n      <td>8.650000</td>\n      <td>8.983214</td>\n      <td>7.737815</td>\n      <td>1.665125e+10</td>\n      <td>AAPL</td>\n    </tr>\n    <tr>\n      <th>...</th>\n      <td>...</td>\n      <td>...</td>\n      <td>...</td>\n      <td>...</td>\n      <td>...</td>\n      <td>...</td>\n      <td>...</td>\n    </tr>\n    <tr>\n      <th>2021-01-01</th>\n      <td>157.240005</td>\n      <td>173.649994</td>\n      <td>154.130005</td>\n      <td>163.130005</td>\n      <td>162.119080</td>\n      <td>1.844584e+08</td>\n      <td>JNJ</td>\n    </tr>\n    <tr>\n      <th>2021-02-01</th>\n      <td>165.309998</td>\n      <td>167.940002</td>\n      <td>157.970001</td>\n      <td>158.460007</td>\n      <td>157.478012</td>\n      <td>1.476050e+08</td>\n      <td>JNJ</td>\n    </tr>\n    <tr>\n      <th>2021-02-22</th>\n      <td>NaN</td>\n      <td>NaN</td>\n      <td>NaN</td>\n      <td>NaN</td>\n      <td>NaN</td>\n      <td>NaN</td>\n      <td>JNJ</td>\n    </tr>\n    <tr>\n      <th>2021-03-01</th>\n      <td>161.449997</td>\n      <td>161.529999</td>\n      <td>156.059998</td>\n      <td>156.220001</td>\n      <td>156.220001</td>\n      <td>2.663520e+07</td>\n      <td>JNJ</td>\n    </tr>\n    <tr>\n      <th>2021-03-04</th>\n      <td>155.990005</td>\n      <td>156.100006</td>\n      <td>151.470001</td>\n      <td>153.070007</td>\n      <td>153.070007</td>\n      <td>1.103478e+07</td>\n      <td>JNJ</td>\n    </tr>\n  </tbody>\n</table>\n<p>1494 rows × 7 columns</p>\n</div>"
     },
     "metadata": {},
     "execution_count": 162
    }
   ],
   "source": [
    "# everything in one stupid large dataframe\n",
    "sp500m = monthly_sp500[tickers[0]] # monthly\n",
    "sp500m['Name'] = tickers[0]\n",
    "\n",
    "sp500d = daily_sp500[tickers[0]] # daily\n",
    "sp500d['Name'] = tickers[0]\n",
    "\n",
    "for tkr in tickers[1:10]:\n",
    "# for tkr in tickers:\n",
    "    df1 = monthly_sp500[tkr] # monthly\n",
    "    df1['Name'] = tkr\n",
    "    # df.set_index(['Name','Date'],inplace=True)\n",
    "    sp500m = sp500m.append(df1)\n",
    "\n",
    "    df2 = daily_sp500[tkr] # daily\n",
    "    df2['Name'] = tkr\n",
    "    # df.set_index(['Name','Date'],inplace=True)\n",
    "    sp500d = sp500d.append(df2)\n",
    "sp500m"
   ]
  },
  {
   "cell_type": "code",
   "execution_count": 163,
   "metadata": {},
   "outputs": [
    {
     "output_type": "execute_result",
     "data": {
      "text/plain": [
       "                  Open        High         Low       Close   Adj Close  \\\n",
       "Date                                                                     \n",
       "2010-02-01    6.870357    7.327500    6.816071    7.307857    6.294721   \n",
       "2010-03-01    7.348214    8.481429    7.337500    8.392857    7.229299   \n",
       "2010-04-01    8.478929    9.730714    8.312500    9.324643    8.031907   \n",
       "2010-05-01    9.422857    9.567143    7.116071    9.174286    7.902396   \n",
       "2010-06-01    9.274643    9.964643    8.650000    8.983214    7.737815   \n",
       "...                ...         ...         ...         ...         ...   \n",
       "2021-01-01  157.240005  173.649994  154.130005  163.130005  162.119080   \n",
       "2021-02-01  165.309998  167.940002  157.970001  158.460007  157.478012   \n",
       "2021-02-22         NaN         NaN         NaN         NaN         NaN   \n",
       "2021-03-01  161.449997  161.529999  156.059998  156.220001  156.220001   \n",
       "2021-03-04  155.990005  156.100006  151.470001  153.070007  153.070007   \n",
       "\n",
       "                  Volume  Name  \n",
       "Date                            \n",
       "2010-02-01  1.077608e+10  AAPL  \n",
       "2010-03-01  1.215417e+10  AAPL  \n",
       "2010-04-01  1.236713e+10  AAPL  \n",
       "2010-05-01  1.808265e+10  AAPL  \n",
       "2010-06-01  1.665125e+10  AAPL  \n",
       "...                  ...   ...  \n",
       "2021-01-01  1.844584e+08   JNJ  \n",
       "2021-02-01  1.476050e+08   JNJ  \n",
       "2021-02-22           NaN   JNJ  \n",
       "2021-03-01  2.663520e+07   JNJ  \n",
       "2021-03-04  1.103478e+07   JNJ  \n",
       "\n",
       "[1494 rows x 7 columns]"
      ],
      "text/html": "<div>\n<style scoped>\n    .dataframe tbody tr th:only-of-type {\n        vertical-align: middle;\n    }\n\n    .dataframe tbody tr th {\n        vertical-align: top;\n    }\n\n    .dataframe thead th {\n        text-align: right;\n    }\n</style>\n<table border=\"1\" class=\"dataframe\">\n  <thead>\n    <tr style=\"text-align: right;\">\n      <th></th>\n      <th>Open</th>\n      <th>High</th>\n      <th>Low</th>\n      <th>Close</th>\n      <th>Adj Close</th>\n      <th>Volume</th>\n      <th>Name</th>\n    </tr>\n    <tr>\n      <th>Date</th>\n      <th></th>\n      <th></th>\n      <th></th>\n      <th></th>\n      <th></th>\n      <th></th>\n      <th></th>\n    </tr>\n  </thead>\n  <tbody>\n    <tr>\n      <th>2010-02-01</th>\n      <td>6.870357</td>\n      <td>7.327500</td>\n      <td>6.816071</td>\n      <td>7.307857</td>\n      <td>6.294721</td>\n      <td>1.077608e+10</td>\n      <td>AAPL</td>\n    </tr>\n    <tr>\n      <th>2010-03-01</th>\n      <td>7.348214</td>\n      <td>8.481429</td>\n      <td>7.337500</td>\n      <td>8.392857</td>\n      <td>7.229299</td>\n      <td>1.215417e+10</td>\n      <td>AAPL</td>\n    </tr>\n    <tr>\n      <th>2010-04-01</th>\n      <td>8.478929</td>\n      <td>9.730714</td>\n      <td>8.312500</td>\n      <td>9.324643</td>\n      <td>8.031907</td>\n      <td>1.236713e+10</td>\n      <td>AAPL</td>\n    </tr>\n    <tr>\n      <th>2010-05-01</th>\n      <td>9.422857</td>\n      <td>9.567143</td>\n      <td>7.116071</td>\n      <td>9.174286</td>\n      <td>7.902396</td>\n      <td>1.808265e+10</td>\n      <td>AAPL</td>\n    </tr>\n    <tr>\n      <th>2010-06-01</th>\n      <td>9.274643</td>\n      <td>9.964643</td>\n      <td>8.650000</td>\n      <td>8.983214</td>\n      <td>7.737815</td>\n      <td>1.665125e+10</td>\n      <td>AAPL</td>\n    </tr>\n    <tr>\n      <th>...</th>\n      <td>...</td>\n      <td>...</td>\n      <td>...</td>\n      <td>...</td>\n      <td>...</td>\n      <td>...</td>\n      <td>...</td>\n    </tr>\n    <tr>\n      <th>2021-01-01</th>\n      <td>157.240005</td>\n      <td>173.649994</td>\n      <td>154.130005</td>\n      <td>163.130005</td>\n      <td>162.119080</td>\n      <td>1.844584e+08</td>\n      <td>JNJ</td>\n    </tr>\n    <tr>\n      <th>2021-02-01</th>\n      <td>165.309998</td>\n      <td>167.940002</td>\n      <td>157.970001</td>\n      <td>158.460007</td>\n      <td>157.478012</td>\n      <td>1.476050e+08</td>\n      <td>JNJ</td>\n    </tr>\n    <tr>\n      <th>2021-02-22</th>\n      <td>NaN</td>\n      <td>NaN</td>\n      <td>NaN</td>\n      <td>NaN</td>\n      <td>NaN</td>\n      <td>NaN</td>\n      <td>JNJ</td>\n    </tr>\n    <tr>\n      <th>2021-03-01</th>\n      <td>161.449997</td>\n      <td>161.529999</td>\n      <td>156.059998</td>\n      <td>156.220001</td>\n      <td>156.220001</td>\n      <td>2.663520e+07</td>\n      <td>JNJ</td>\n    </tr>\n    <tr>\n      <th>2021-03-04</th>\n      <td>155.990005</td>\n      <td>156.100006</td>\n      <td>151.470001</td>\n      <td>153.070007</td>\n      <td>153.070007</td>\n      <td>1.103478e+07</td>\n      <td>JNJ</td>\n    </tr>\n  </tbody>\n</table>\n<p>1494 rows × 7 columns</p>\n</div>"
     },
     "metadata": {},
     "execution_count": 163
    }
   ],
   "source": [
    "sp500m"
   ]
  },
  {
   "cell_type": "code",
   "execution_count": 164,
   "metadata": {},
   "outputs": [
    {
     "output_type": "stream",
     "name": "stdout",
     "text": [
      "(1494, 7) (27389, 7)\n"
     ]
    },
    {
     "output_type": "execute_result",
     "data": {
      "text/plain": [
       "                  Open        High         Low       Close   Adj Close  \\\n",
       "Date                                                                     \n",
       "2010-01-04    7.622500    7.660714    7.585000    7.643214    6.583586   \n",
       "2010-01-05    7.664286    7.699643    7.616071    7.656429    6.594968   \n",
       "2010-01-06    7.656429    7.686786    7.526786    7.534643    6.490066   \n",
       "2010-01-07    7.562500    7.571429    7.466071    7.520714    6.478067   \n",
       "2010-01-08    7.510714    7.571429    7.466429    7.570714    6.521136   \n",
       "...                ...         ...         ...         ...         ...   \n",
       "2021-02-26  162.000000  162.410004  157.970001  158.460007  158.460007   \n",
       "2021-03-01  161.449997  161.529999  159.089996  159.320007  159.320007   \n",
       "2021-03-02  159.779999  160.779999  158.600006  159.020004  159.020004   \n",
       "2021-03-03  158.250000  158.899994  156.059998  156.220001  156.220001   \n",
       "2021-03-04  155.990005  156.100006  151.470001  153.070007  153.070007   \n",
       "\n",
       "               Volume  Name  \n",
       "Date                         \n",
       "2010-01-04  493729600  AAPL  \n",
       "2010-01-05  601904800  AAPL  \n",
       "2010-01-06  552160000  AAPL  \n",
       "2010-01-07  477131200  AAPL  \n",
       "2010-01-08  447610800  AAPL  \n",
       "...               ...   ...  \n",
       "2021-02-26   14356800   JNJ  \n",
       "2021-03-01   10539500   JNJ  \n",
       "2021-03-02    7605800   JNJ  \n",
       "2021-03-03    8489900   JNJ  \n",
       "2021-03-04   11010800   JNJ  \n",
       "\n",
       "[27389 rows x 7 columns]"
      ],
      "text/html": "<div>\n<style scoped>\n    .dataframe tbody tr th:only-of-type {\n        vertical-align: middle;\n    }\n\n    .dataframe tbody tr th {\n        vertical-align: top;\n    }\n\n    .dataframe thead th {\n        text-align: right;\n    }\n</style>\n<table border=\"1\" class=\"dataframe\">\n  <thead>\n    <tr style=\"text-align: right;\">\n      <th></th>\n      <th>Open</th>\n      <th>High</th>\n      <th>Low</th>\n      <th>Close</th>\n      <th>Adj Close</th>\n      <th>Volume</th>\n      <th>Name</th>\n    </tr>\n    <tr>\n      <th>Date</th>\n      <th></th>\n      <th></th>\n      <th></th>\n      <th></th>\n      <th></th>\n      <th></th>\n      <th></th>\n    </tr>\n  </thead>\n  <tbody>\n    <tr>\n      <th>2010-01-04</th>\n      <td>7.622500</td>\n      <td>7.660714</td>\n      <td>7.585000</td>\n      <td>7.643214</td>\n      <td>6.583586</td>\n      <td>493729600</td>\n      <td>AAPL</td>\n    </tr>\n    <tr>\n      <th>2010-01-05</th>\n      <td>7.664286</td>\n      <td>7.699643</td>\n      <td>7.616071</td>\n      <td>7.656429</td>\n      <td>6.594968</td>\n      <td>601904800</td>\n      <td>AAPL</td>\n    </tr>\n    <tr>\n      <th>2010-01-06</th>\n      <td>7.656429</td>\n      <td>7.686786</td>\n      <td>7.526786</td>\n      <td>7.534643</td>\n      <td>6.490066</td>\n      <td>552160000</td>\n      <td>AAPL</td>\n    </tr>\n    <tr>\n      <th>2010-01-07</th>\n      <td>7.562500</td>\n      <td>7.571429</td>\n      <td>7.466071</td>\n      <td>7.520714</td>\n      <td>6.478067</td>\n      <td>477131200</td>\n      <td>AAPL</td>\n    </tr>\n    <tr>\n      <th>2010-01-08</th>\n      <td>7.510714</td>\n      <td>7.571429</td>\n      <td>7.466429</td>\n      <td>7.570714</td>\n      <td>6.521136</td>\n      <td>447610800</td>\n      <td>AAPL</td>\n    </tr>\n    <tr>\n      <th>...</th>\n      <td>...</td>\n      <td>...</td>\n      <td>...</td>\n      <td>...</td>\n      <td>...</td>\n      <td>...</td>\n      <td>...</td>\n    </tr>\n    <tr>\n      <th>2021-02-26</th>\n      <td>162.000000</td>\n      <td>162.410004</td>\n      <td>157.970001</td>\n      <td>158.460007</td>\n      <td>158.460007</td>\n      <td>14356800</td>\n      <td>JNJ</td>\n    </tr>\n    <tr>\n      <th>2021-03-01</th>\n      <td>161.449997</td>\n      <td>161.529999</td>\n      <td>159.089996</td>\n      <td>159.320007</td>\n      <td>159.320007</td>\n      <td>10539500</td>\n      <td>JNJ</td>\n    </tr>\n    <tr>\n      <th>2021-03-02</th>\n      <td>159.779999</td>\n      <td>160.779999</td>\n      <td>158.600006</td>\n      <td>159.020004</td>\n      <td>159.020004</td>\n      <td>7605800</td>\n      <td>JNJ</td>\n    </tr>\n    <tr>\n      <th>2021-03-03</th>\n      <td>158.250000</td>\n      <td>158.899994</td>\n      <td>156.059998</td>\n      <td>156.220001</td>\n      <td>156.220001</td>\n      <td>8489900</td>\n      <td>JNJ</td>\n    </tr>\n    <tr>\n      <th>2021-03-04</th>\n      <td>155.990005</td>\n      <td>156.100006</td>\n      <td>151.470001</td>\n      <td>153.070007</td>\n      <td>153.070007</td>\n      <td>11010800</td>\n      <td>JNJ</td>\n    </tr>\n  </tbody>\n</table>\n<p>27389 rows × 7 columns</p>\n</div>"
     },
     "metadata": {},
     "execution_count": 164
    }
   ],
   "source": [
    "print(sp500m.shape,sp500d.shape)\n",
    "sp500d"
   ]
  },
  {
   "cell_type": "code",
   "execution_count": 165,
   "metadata": {},
   "outputs": [
    {
     "output_type": "execute_result",
     "data": {
      "text/plain": [
       "             Date        Open        High         Low       Close   Adj Close  \\\n",
       "0      2010-02-01   63.259998   64.699997   61.889999   63.000000   45.095860   \n",
       "2      2010-03-01   63.270000   65.489998   63.020000   65.199997   47.027702   \n",
       "3      2010-04-01   65.370003   66.199997   64.209999   64.300003   46.378559   \n",
       "4      2010-05-01   65.160004   65.620003   58.189999   58.299999   42.050858   \n",
       "6      2010-06-01   58.209999   60.150002   57.549999   59.060001   42.988129   \n",
       "...           ...         ...         ...         ...         ...         ...   \n",
       "90746  2020-11-01  138.979996  151.300003  137.490005  144.679993  142.791168   \n",
       "90748  2020-12-01  146.289993  157.660004  145.860001  157.380005  156.404709   \n",
       "90749  2021-01-01  157.240005  173.649994  154.130005  163.130005  162.119080   \n",
       "90750  2021-02-01  165.309998  167.940002  159.570007  162.759995  161.751358   \n",
       "90752  2021-02-26  162.000000  162.389999  158.000000  158.460007  158.460007   \n",
       "\n",
       "            Volume  Name  \n",
       "0      213341500.0  AAPL  \n",
       "2      249947500.0  AAPL  \n",
       "3      235860700.0  AAPL  \n",
       "4      357775800.0  AAPL  \n",
       "6      357343400.0  AAPL  \n",
       "...            ...   ...  \n",
       "90746  153635100.0   NWS  \n",
       "90748  158930200.0   NWS  \n",
       "90749  184458400.0   NWS  \n",
       "90750  133198000.0   NWS  \n",
       "90752   13194020.0   NWS  \n",
       "\n",
       "[67938 rows x 8 columns]"
      ],
      "text/html": "<div>\n<style scoped>\n    .dataframe tbody tr th:only-of-type {\n        vertical-align: middle;\n    }\n\n    .dataframe tbody tr th {\n        vertical-align: top;\n    }\n\n    .dataframe thead th {\n        text-align: right;\n    }\n</style>\n<table border=\"1\" class=\"dataframe\">\n  <thead>\n    <tr style=\"text-align: right;\">\n      <th></th>\n      <th>Date</th>\n      <th>Open</th>\n      <th>High</th>\n      <th>Low</th>\n      <th>Close</th>\n      <th>Adj Close</th>\n      <th>Volume</th>\n      <th>Name</th>\n    </tr>\n  </thead>\n  <tbody>\n    <tr>\n      <th>0</th>\n      <td>2010-02-01</td>\n      <td>63.259998</td>\n      <td>64.699997</td>\n      <td>61.889999</td>\n      <td>63.000000</td>\n      <td>45.095860</td>\n      <td>213341500.0</td>\n      <td>AAPL</td>\n    </tr>\n    <tr>\n      <th>2</th>\n      <td>2010-03-01</td>\n      <td>63.270000</td>\n      <td>65.489998</td>\n      <td>63.020000</td>\n      <td>65.199997</td>\n      <td>47.027702</td>\n      <td>249947500.0</td>\n      <td>AAPL</td>\n    </tr>\n    <tr>\n      <th>3</th>\n      <td>2010-04-01</td>\n      <td>65.370003</td>\n      <td>66.199997</td>\n      <td>64.209999</td>\n      <td>64.300003</td>\n      <td>46.378559</td>\n      <td>235860700.0</td>\n      <td>AAPL</td>\n    </tr>\n    <tr>\n      <th>4</th>\n      <td>2010-05-01</td>\n      <td>65.160004</td>\n      <td>65.620003</td>\n      <td>58.189999</td>\n      <td>58.299999</td>\n      <td>42.050858</td>\n      <td>357775800.0</td>\n      <td>AAPL</td>\n    </tr>\n    <tr>\n      <th>6</th>\n      <td>2010-06-01</td>\n      <td>58.209999</td>\n      <td>60.150002</td>\n      <td>57.549999</td>\n      <td>59.060001</td>\n      <td>42.988129</td>\n      <td>357343400.0</td>\n      <td>AAPL</td>\n    </tr>\n    <tr>\n      <th>...</th>\n      <td>...</td>\n      <td>...</td>\n      <td>...</td>\n      <td>...</td>\n      <td>...</td>\n      <td>...</td>\n      <td>...</td>\n      <td>...</td>\n    </tr>\n    <tr>\n      <th>90746</th>\n      <td>2020-11-01</td>\n      <td>138.979996</td>\n      <td>151.300003</td>\n      <td>137.490005</td>\n      <td>144.679993</td>\n      <td>142.791168</td>\n      <td>153635100.0</td>\n      <td>NWS</td>\n    </tr>\n    <tr>\n      <th>90748</th>\n      <td>2020-12-01</td>\n      <td>146.289993</td>\n      <td>157.660004</td>\n      <td>145.860001</td>\n      <td>157.380005</td>\n      <td>156.404709</td>\n      <td>158930200.0</td>\n      <td>NWS</td>\n    </tr>\n    <tr>\n      <th>90749</th>\n      <td>2021-01-01</td>\n      <td>157.240005</td>\n      <td>173.649994</td>\n      <td>154.130005</td>\n      <td>163.130005</td>\n      <td>162.119080</td>\n      <td>184458400.0</td>\n      <td>NWS</td>\n    </tr>\n    <tr>\n      <th>90750</th>\n      <td>2021-02-01</td>\n      <td>165.309998</td>\n      <td>167.940002</td>\n      <td>159.570007</td>\n      <td>162.759995</td>\n      <td>161.751358</td>\n      <td>133198000.0</td>\n      <td>NWS</td>\n    </tr>\n    <tr>\n      <th>90752</th>\n      <td>2021-02-26</td>\n      <td>162.000000</td>\n      <td>162.389999</td>\n      <td>158.000000</td>\n      <td>158.460007</td>\n      <td>158.460007</td>\n      <td>13194020.0</td>\n      <td>NWS</td>\n    </tr>\n  </tbody>\n</table>\n<p>67938 rows × 8 columns</p>\n</div>"
     },
     "metadata": {},
     "execution_count": 165
    }
   ],
   "source": [
    "# sp500m.to_csv('SP500_monthly.csv')\n",
    "# sp500d.to_csv('SP500_daily.csv')\n",
    "# df = pd.read_csv('SP500_monthly.csv').infer_objects().set_index('Name').dropna()\n",
    "df = pd.read_csv('SP500_monthly.csv').infer_objects().dropna()\n",
    "df"
   ]
  },
  {
   "cell_type": "code",
   "execution_count": 166,
   "metadata": {},
   "outputs": [
    {
     "output_type": "execute_result",
     "data": {
      "text/plain": [
       "['2010-05-01',\n",
       " '2010-11-01',\n",
       " '2011-05-01',\n",
       " '2011-11-01',\n",
       " '2012-05-01',\n",
       " '2012-11-01',\n",
       " '2013-05-01',\n",
       " '2013-11-01',\n",
       " '2014-05-01',\n",
       " '2014-11-01',\n",
       " '2015-05-01',\n",
       " '2015-11-01',\n",
       " '2016-05-01',\n",
       " '2016-11-01',\n",
       " '2017-05-01',\n",
       " '2017-11-01',\n",
       " '2018-05-01',\n",
       " '2018-11-01',\n",
       " '2019-05-01',\n",
       " '2019-11-01',\n",
       " '2020-05-01',\n",
       " '2020-11-01']"
      ]
     },
     "metadata": {},
     "execution_count": 166
    }
   ],
   "source": [
    "st = pd.to_datetime(df.Date.min())\n",
    "et = pd.to_datetime(df.Date.max())\n",
    "j=1\n",
    "k=2\n",
    "# the 'midpoints' for each observe and hold period. midpoint in this context is where we switch from the observation period len=j to the holding period len=k\n",
    "j_end = pd.date_range(st+pd.DateOffset(months=j*3), et, freq=str(k*3)+\"MS\")\n",
    "j_end.strftime(\"%Y-%m-%d\").to_list()"
   ]
  },
  {
   "cell_type": "code",
   "execution_count": 167,
   "metadata": {},
   "outputs": [
    {
     "output_type": "execute_result",
     "data": {
      "text/plain": [
       "             Date        Open        High         Low       Close   Adj Close  \\\n",
       "4      2010-05-01   65.160004   65.620003   58.189999   58.299999   42.050858   \n",
       "12     2010-11-01   63.880001   64.919998   61.250000   61.549999   45.223030   \n",
       "20     2011-05-01   65.919998   67.370003   64.800003   67.290001   50.316845   \n",
       "28     2011-11-01   63.680000   65.489998   61.049999   64.720001   49.249725   \n",
       "36     2012-05-01   64.910004   65.489998   62.000000   62.430000   48.371529   \n",
       "...           ...         ...         ...         ...         ...         ...   \n",
       "90714  2018-11-01  140.070007  148.750000  139.000000  146.899994  137.354538   \n",
       "90722  2019-05-01  140.949997  142.350006  128.520004  131.149994  124.227379   \n",
       "90730  2019-11-01  132.050003  138.630005  129.679993  137.490005  132.106400   \n",
       "90738  2020-05-01  149.619995  153.619995  143.009995  148.750000  144.833420   \n",
       "90746  2020-11-01  138.979996  151.300003  137.490005  144.679993  142.791168   \n",
       "\n",
       "            Volume  Name  \n",
       "4      357775800.0  AAPL  \n",
       "12     221392600.0  AAPL  \n",
       "20     270892200.0  AAPL  \n",
       "28     236914800.0  AAPL  \n",
       "36     278010100.0  AAPL  \n",
       "...            ...   ...  \n",
       "90714  152746600.0   NWS  \n",
       "90722  159034100.0   NWS  \n",
       "90730  127753600.0   NWS  \n",
       "90738  136208900.0   NWS  \n",
       "90746  153635100.0   NWS  \n",
       "\n",
       "[11154 rows x 8 columns]"
      ],
      "text/html": "<div>\n<style scoped>\n    .dataframe tbody tr th:only-of-type {\n        vertical-align: middle;\n    }\n\n    .dataframe tbody tr th {\n        vertical-align: top;\n    }\n\n    .dataframe thead th {\n        text-align: right;\n    }\n</style>\n<table border=\"1\" class=\"dataframe\">\n  <thead>\n    <tr style=\"text-align: right;\">\n      <th></th>\n      <th>Date</th>\n      <th>Open</th>\n      <th>High</th>\n      <th>Low</th>\n      <th>Close</th>\n      <th>Adj Close</th>\n      <th>Volume</th>\n      <th>Name</th>\n    </tr>\n  </thead>\n  <tbody>\n    <tr>\n      <th>4</th>\n      <td>2010-05-01</td>\n      <td>65.160004</td>\n      <td>65.620003</td>\n      <td>58.189999</td>\n      <td>58.299999</td>\n      <td>42.050858</td>\n      <td>357775800.0</td>\n      <td>AAPL</td>\n    </tr>\n    <tr>\n      <th>12</th>\n      <td>2010-11-01</td>\n      <td>63.880001</td>\n      <td>64.919998</td>\n      <td>61.250000</td>\n      <td>61.549999</td>\n      <td>45.223030</td>\n      <td>221392600.0</td>\n      <td>AAPL</td>\n    </tr>\n    <tr>\n      <th>20</th>\n      <td>2011-05-01</td>\n      <td>65.919998</td>\n      <td>67.370003</td>\n      <td>64.800003</td>\n      <td>67.290001</td>\n      <td>50.316845</td>\n      <td>270892200.0</td>\n      <td>AAPL</td>\n    </tr>\n    <tr>\n      <th>28</th>\n      <td>2011-11-01</td>\n      <td>63.680000</td>\n      <td>65.489998</td>\n      <td>61.049999</td>\n      <td>64.720001</td>\n      <td>49.249725</td>\n      <td>236914800.0</td>\n      <td>AAPL</td>\n    </tr>\n    <tr>\n      <th>36</th>\n      <td>2012-05-01</td>\n      <td>64.910004</td>\n      <td>65.489998</td>\n      <td>62.000000</td>\n      <td>62.430000</td>\n      <td>48.371529</td>\n      <td>278010100.0</td>\n      <td>AAPL</td>\n    </tr>\n    <tr>\n      <th>...</th>\n      <td>...</td>\n      <td>...</td>\n      <td>...</td>\n      <td>...</td>\n      <td>...</td>\n      <td>...</td>\n      <td>...</td>\n      <td>...</td>\n    </tr>\n    <tr>\n      <th>90714</th>\n      <td>2018-11-01</td>\n      <td>140.070007</td>\n      <td>148.750000</td>\n      <td>139.000000</td>\n      <td>146.899994</td>\n      <td>137.354538</td>\n      <td>152746600.0</td>\n      <td>NWS</td>\n    </tr>\n    <tr>\n      <th>90722</th>\n      <td>2019-05-01</td>\n      <td>140.949997</td>\n      <td>142.350006</td>\n      <td>128.520004</td>\n      <td>131.149994</td>\n      <td>124.227379</td>\n      <td>159034100.0</td>\n      <td>NWS</td>\n    </tr>\n    <tr>\n      <th>90730</th>\n      <td>2019-11-01</td>\n      <td>132.050003</td>\n      <td>138.630005</td>\n      <td>129.679993</td>\n      <td>137.490005</td>\n      <td>132.106400</td>\n      <td>127753600.0</td>\n      <td>NWS</td>\n    </tr>\n    <tr>\n      <th>90738</th>\n      <td>2020-05-01</td>\n      <td>149.619995</td>\n      <td>153.619995</td>\n      <td>143.009995</td>\n      <td>148.750000</td>\n      <td>144.833420</td>\n      <td>136208900.0</td>\n      <td>NWS</td>\n    </tr>\n    <tr>\n      <th>90746</th>\n      <td>2020-11-01</td>\n      <td>138.979996</td>\n      <td>151.300003</td>\n      <td>137.490005</td>\n      <td>144.679993</td>\n      <td>142.791168</td>\n      <td>153635100.0</td>\n      <td>NWS</td>\n    </tr>\n  </tbody>\n</table>\n<p>11154 rows × 8 columns</p>\n</div>"
     },
     "metadata": {},
     "execution_count": 167
    }
   ],
   "source": [
    "#df of just the midpoint dates for sanity check\n",
    "df[df['Date'].isin(j_end.strftime(\"%Y-%m-%d\").to_list())]"
   ]
  },
  {
   "cell_type": "code",
   "execution_count": 168,
   "metadata": {},
   "outputs": [
    {
     "output_type": "execute_result",
     "data": {
      "text/plain": [
       "['2010-02-01',\n",
       " '2010-08-01',\n",
       " '2011-02-01',\n",
       " '2011-08-01',\n",
       " '2012-02-01',\n",
       " '2012-08-01',\n",
       " '2013-02-01',\n",
       " '2013-08-01',\n",
       " '2014-02-01',\n",
       " '2014-08-01',\n",
       " '2015-02-01',\n",
       " '2015-08-01',\n",
       " '2016-02-01',\n",
       " '2016-08-01',\n",
       " '2017-02-01',\n",
       " '2017-08-01',\n",
       " '2018-02-01',\n",
       " '2018-08-01',\n",
       " '2019-02-01',\n",
       " '2019-08-01',\n",
       " '2020-02-01',\n",
       " '2020-08-01']"
      ]
     },
     "metadata": {},
     "execution_count": 168
    }
   ],
   "source": [
    "# based on the midpoint, get the start point for each observe and hold period\n",
    "j_start = j_end + pd.DateOffset(months=-j*3)\n",
    "j_start.strftime(\"%Y-%m-%d\").to_list()"
   ]
  },
  {
   "cell_type": "code",
   "execution_count": 169,
   "metadata": {},
   "outputs": [
    {
     "output_type": "execute_result",
     "data": {
      "text/plain": [
       "['2010-11-01',\n",
       " '2011-05-01',\n",
       " '2011-11-01',\n",
       " '2012-05-01',\n",
       " '2012-11-01',\n",
       " '2013-05-01',\n",
       " '2013-11-01',\n",
       " '2014-05-01',\n",
       " '2014-11-01',\n",
       " '2015-05-01',\n",
       " '2015-11-01',\n",
       " '2016-05-01',\n",
       " '2016-11-01',\n",
       " '2017-05-01',\n",
       " '2017-11-01',\n",
       " '2018-05-01',\n",
       " '2018-11-01',\n",
       " '2019-05-01',\n",
       " '2019-11-01',\n",
       " '2020-05-01',\n",
       " '2020-11-01',\n",
       " '2021-05-01']"
      ]
     },
     "metadata": {},
     "execution_count": 169
    }
   ],
   "source": [
    "# based on the midpoint, get the end point for each observe and hold period\n",
    "k_end = j_end + pd.DateOffset(months=k*3)\n",
    "k_end.strftime(\"%Y-%m-%d\").to_list()"
   ]
  },
  {
   "cell_type": "code",
   "execution_count": 170,
   "metadata": {},
   "outputs": [
    {
     "output_type": "execute_result",
     "data": {
      "text/plain": [
       "      j_start   midpoint      k_end\n",
       "0  2010-02-01 2010-05-01 2010-11-01\n",
       "1  2010-08-01 2010-11-01 2011-05-01\n",
       "2  2011-02-01 2011-05-01 2011-11-01\n",
       "3  2011-08-01 2011-11-01 2012-05-01\n",
       "4  2012-02-01 2012-05-01 2012-11-01\n",
       "5  2012-08-01 2012-11-01 2013-05-01\n",
       "6  2013-02-01 2013-05-01 2013-11-01\n",
       "7  2013-08-01 2013-11-01 2014-05-01\n",
       "8  2014-02-01 2014-05-01 2014-11-01\n",
       "9  2014-08-01 2014-11-01 2015-05-01\n",
       "10 2015-02-01 2015-05-01 2015-11-01\n",
       "11 2015-08-01 2015-11-01 2016-05-01\n",
       "12 2016-02-01 2016-05-01 2016-11-01\n",
       "13 2016-08-01 2016-11-01 2017-05-01\n",
       "14 2017-02-01 2017-05-01 2017-11-01\n",
       "15 2017-08-01 2017-11-01 2018-05-01\n",
       "16 2018-02-01 2018-05-01 2018-11-01\n",
       "17 2018-08-01 2018-11-01 2019-05-01\n",
       "18 2019-02-01 2019-05-01 2019-11-01\n",
       "19 2019-08-01 2019-11-01 2020-05-01\n",
       "20 2020-02-01 2020-05-01 2020-11-01\n",
       "21 2020-08-01 2020-11-01 2021-05-01"
      ],
      "text/html": "<div>\n<style scoped>\n    .dataframe tbody tr th:only-of-type {\n        vertical-align: middle;\n    }\n\n    .dataframe tbody tr th {\n        vertical-align: top;\n    }\n\n    .dataframe thead th {\n        text-align: right;\n    }\n</style>\n<table border=\"1\" class=\"dataframe\">\n  <thead>\n    <tr style=\"text-align: right;\">\n      <th></th>\n      <th>j_start</th>\n      <th>midpoint</th>\n      <th>k_end</th>\n    </tr>\n  </thead>\n  <tbody>\n    <tr>\n      <th>0</th>\n      <td>2010-02-01</td>\n      <td>2010-05-01</td>\n      <td>2010-11-01</td>\n    </tr>\n    <tr>\n      <th>1</th>\n      <td>2010-08-01</td>\n      <td>2010-11-01</td>\n      <td>2011-05-01</td>\n    </tr>\n    <tr>\n      <th>2</th>\n      <td>2011-02-01</td>\n      <td>2011-05-01</td>\n      <td>2011-11-01</td>\n    </tr>\n    <tr>\n      <th>3</th>\n      <td>2011-08-01</td>\n      <td>2011-11-01</td>\n      <td>2012-05-01</td>\n    </tr>\n    <tr>\n      <th>4</th>\n      <td>2012-02-01</td>\n      <td>2012-05-01</td>\n      <td>2012-11-01</td>\n    </tr>\n    <tr>\n      <th>5</th>\n      <td>2012-08-01</td>\n      <td>2012-11-01</td>\n      <td>2013-05-01</td>\n    </tr>\n    <tr>\n      <th>6</th>\n      <td>2013-02-01</td>\n      <td>2013-05-01</td>\n      <td>2013-11-01</td>\n    </tr>\n    <tr>\n      <th>7</th>\n      <td>2013-08-01</td>\n      <td>2013-11-01</td>\n      <td>2014-05-01</td>\n    </tr>\n    <tr>\n      <th>8</th>\n      <td>2014-02-01</td>\n      <td>2014-05-01</td>\n      <td>2014-11-01</td>\n    </tr>\n    <tr>\n      <th>9</th>\n      <td>2014-08-01</td>\n      <td>2014-11-01</td>\n      <td>2015-05-01</td>\n    </tr>\n    <tr>\n      <th>10</th>\n      <td>2015-02-01</td>\n      <td>2015-05-01</td>\n      <td>2015-11-01</td>\n    </tr>\n    <tr>\n      <th>11</th>\n      <td>2015-08-01</td>\n      <td>2015-11-01</td>\n      <td>2016-05-01</td>\n    </tr>\n    <tr>\n      <th>12</th>\n      <td>2016-02-01</td>\n      <td>2016-05-01</td>\n      <td>2016-11-01</td>\n    </tr>\n    <tr>\n      <th>13</th>\n      <td>2016-08-01</td>\n      <td>2016-11-01</td>\n      <td>2017-05-01</td>\n    </tr>\n    <tr>\n      <th>14</th>\n      <td>2017-02-01</td>\n      <td>2017-05-01</td>\n      <td>2017-11-01</td>\n    </tr>\n    <tr>\n      <th>15</th>\n      <td>2017-08-01</td>\n      <td>2017-11-01</td>\n      <td>2018-05-01</td>\n    </tr>\n    <tr>\n      <th>16</th>\n      <td>2018-02-01</td>\n      <td>2018-05-01</td>\n      <td>2018-11-01</td>\n    </tr>\n    <tr>\n      <th>17</th>\n      <td>2018-08-01</td>\n      <td>2018-11-01</td>\n      <td>2019-05-01</td>\n    </tr>\n    <tr>\n      <th>18</th>\n      <td>2019-02-01</td>\n      <td>2019-05-01</td>\n      <td>2019-11-01</td>\n    </tr>\n    <tr>\n      <th>19</th>\n      <td>2019-08-01</td>\n      <td>2019-11-01</td>\n      <td>2020-05-01</td>\n    </tr>\n    <tr>\n      <th>20</th>\n      <td>2020-02-01</td>\n      <td>2020-05-01</td>\n      <td>2020-11-01</td>\n    </tr>\n    <tr>\n      <th>21</th>\n      <td>2020-08-01</td>\n      <td>2020-11-01</td>\n      <td>2021-05-01</td>\n    </tr>\n  </tbody>\n</table>\n</div>"
     },
     "metadata": {},
     "execution_count": 170
    }
   ],
   "source": [
    "timedf = pd.DataFrame({'j_start': j_start, 'midpoint': j_end, 'k_end': k_end}).infer_objects() # i put all this garbage in a handy function below\n",
    "timedf"
   ]
  },
  {
   "source": [
    "## ^^^let me know if this timedf time table is useful or not. I wanted an easy way to organize time. we can very easily switch it over to getting that midpoint value instead"
   ],
   "cell_type": "markdown",
   "metadata": {}
  },
  {
   "cell_type": "code",
   "execution_count": 171,
   "metadata": {},
   "outputs": [
    {
     "output_type": "execute_result",
     "data": {
      "text/plain": [
       "      j_start   midpoint      k_end\n",
       "0  2010-02-01 2010-05-01 2010-11-01\n",
       "1  2010-08-01 2010-11-01 2011-05-01\n",
       "2  2011-02-01 2011-05-01 2011-11-01\n",
       "3  2011-08-01 2011-11-01 2012-05-01\n",
       "4  2012-02-01 2012-05-01 2012-11-01\n",
       "5  2012-08-01 2012-11-01 2013-05-01\n",
       "6  2013-02-01 2013-05-01 2013-11-01\n",
       "7  2013-08-01 2013-11-01 2014-05-01\n",
       "8  2014-02-01 2014-05-01 2014-11-01\n",
       "9  2014-08-01 2014-11-01 2015-05-01\n",
       "10 2015-02-01 2015-05-01 2015-11-01\n",
       "11 2015-08-01 2015-11-01 2016-05-01\n",
       "12 2016-02-01 2016-05-01 2016-11-01\n",
       "13 2016-08-01 2016-11-01 2017-05-01\n",
       "14 2017-02-01 2017-05-01 2017-11-01\n",
       "15 2017-08-01 2017-11-01 2018-05-01\n",
       "16 2018-02-01 2018-05-01 2018-11-01\n",
       "17 2018-08-01 2018-11-01 2019-05-01\n",
       "18 2019-02-01 2019-05-01 2019-11-01\n",
       "19 2019-08-01 2019-11-01 2020-05-01\n",
       "20 2020-02-01 2020-05-01 2020-11-01\n",
       "21 2020-08-01 2020-11-01 2021-05-01"
      ],
      "text/html": "<div>\n<style scoped>\n    .dataframe tbody tr th:only-of-type {\n        vertical-align: middle;\n    }\n\n    .dataframe tbody tr th {\n        vertical-align: top;\n    }\n\n    .dataframe thead th {\n        text-align: right;\n    }\n</style>\n<table border=\"1\" class=\"dataframe\">\n  <thead>\n    <tr style=\"text-align: right;\">\n      <th></th>\n      <th>j_start</th>\n      <th>midpoint</th>\n      <th>k_end</th>\n    </tr>\n  </thead>\n  <tbody>\n    <tr>\n      <th>0</th>\n      <td>2010-02-01</td>\n      <td>2010-05-01</td>\n      <td>2010-11-01</td>\n    </tr>\n    <tr>\n      <th>1</th>\n      <td>2010-08-01</td>\n      <td>2010-11-01</td>\n      <td>2011-05-01</td>\n    </tr>\n    <tr>\n      <th>2</th>\n      <td>2011-02-01</td>\n      <td>2011-05-01</td>\n      <td>2011-11-01</td>\n    </tr>\n    <tr>\n      <th>3</th>\n      <td>2011-08-01</td>\n      <td>2011-11-01</td>\n      <td>2012-05-01</td>\n    </tr>\n    <tr>\n      <th>4</th>\n      <td>2012-02-01</td>\n      <td>2012-05-01</td>\n      <td>2012-11-01</td>\n    </tr>\n    <tr>\n      <th>5</th>\n      <td>2012-08-01</td>\n      <td>2012-11-01</td>\n      <td>2013-05-01</td>\n    </tr>\n    <tr>\n      <th>6</th>\n      <td>2013-02-01</td>\n      <td>2013-05-01</td>\n      <td>2013-11-01</td>\n    </tr>\n    <tr>\n      <th>7</th>\n      <td>2013-08-01</td>\n      <td>2013-11-01</td>\n      <td>2014-05-01</td>\n    </tr>\n    <tr>\n      <th>8</th>\n      <td>2014-02-01</td>\n      <td>2014-05-01</td>\n      <td>2014-11-01</td>\n    </tr>\n    <tr>\n      <th>9</th>\n      <td>2014-08-01</td>\n      <td>2014-11-01</td>\n      <td>2015-05-01</td>\n    </tr>\n    <tr>\n      <th>10</th>\n      <td>2015-02-01</td>\n      <td>2015-05-01</td>\n      <td>2015-11-01</td>\n    </tr>\n    <tr>\n      <th>11</th>\n      <td>2015-08-01</td>\n      <td>2015-11-01</td>\n      <td>2016-05-01</td>\n    </tr>\n    <tr>\n      <th>12</th>\n      <td>2016-02-01</td>\n      <td>2016-05-01</td>\n      <td>2016-11-01</td>\n    </tr>\n    <tr>\n      <th>13</th>\n      <td>2016-08-01</td>\n      <td>2016-11-01</td>\n      <td>2017-05-01</td>\n    </tr>\n    <tr>\n      <th>14</th>\n      <td>2017-02-01</td>\n      <td>2017-05-01</td>\n      <td>2017-11-01</td>\n    </tr>\n    <tr>\n      <th>15</th>\n      <td>2017-08-01</td>\n      <td>2017-11-01</td>\n      <td>2018-05-01</td>\n    </tr>\n    <tr>\n      <th>16</th>\n      <td>2018-02-01</td>\n      <td>2018-05-01</td>\n      <td>2018-11-01</td>\n    </tr>\n    <tr>\n      <th>17</th>\n      <td>2018-08-01</td>\n      <td>2018-11-01</td>\n      <td>2019-05-01</td>\n    </tr>\n    <tr>\n      <th>18</th>\n      <td>2019-02-01</td>\n      <td>2019-05-01</td>\n      <td>2019-11-01</td>\n    </tr>\n    <tr>\n      <th>19</th>\n      <td>2019-08-01</td>\n      <td>2019-11-01</td>\n      <td>2020-05-01</td>\n    </tr>\n    <tr>\n      <th>20</th>\n      <td>2020-02-01</td>\n      <td>2020-05-01</td>\n      <td>2020-11-01</td>\n    </tr>\n    <tr>\n      <th>21</th>\n      <td>2020-08-01</td>\n      <td>2020-11-01</td>\n      <td>2021-05-01</td>\n    </tr>\n  </tbody>\n</table>\n</div>"
     },
     "metadata": {},
     "execution_count": 171
    }
   ],
   "source": [
    "def generate_timetable(j=1, k=2):\n",
    "    '''aims to generate the MONTHLY table of times for each observe/hold period. The midpoint in this context is where we switch from the observation period len=j to the holding period len=k'''\n",
    "    \n",
    "    j_end = pd.date_range(st+pd.DateOffset(months=j*3), et, freq=str(k*3)+\"MS\") # the 'midpoints' for each observe and hold period. \n",
    "    j_start = j_end + pd.DateOffset(months=-j*3) # based on the midpoint, get the start point for each observe and hold period\n",
    "    k_end = j_end + pd.DateOffset(months=k*3) # based on the midpoint, get the end point for each observe and hold period\n",
    "    timetable = pd.DataFrame({'j_start': j_start, 'midpoint': j_end, 'k_end': k_end}).infer_objects()\n",
    "    return timetable\n",
    "timedf = generate_timetable()\n",
    "timedf"
   ]
  },
  {
   "cell_type": "code",
   "execution_count": 172,
   "metadata": {},
   "outputs": [
    {
     "output_type": "execute_result",
     "data": {
      "text/plain": [
       "0        2010-02-01\n",
       "2        2010-03-01\n",
       "3        2010-04-01\n",
       "4        2010-05-01\n",
       "6        2010-06-01\n",
       "            ...    \n",
       "90746    2020-11-01\n",
       "90748    2020-12-01\n",
       "90749    2021-01-01\n",
       "90750    2021-02-01\n",
       "90752    2021-02-26\n",
       "Name: Date, Length: 67938, dtype: object"
      ]
     },
     "metadata": {},
     "execution_count": 172
    }
   ],
   "source": [
    "df['Date']"
   ]
  },
  {
   "cell_type": "code",
   "execution_count": null,
   "metadata": {},
   "outputs": [],
   "source": [
    "midpoint = timedf.iloc[0].midpoint"
   ]
  },
  {
   "cell_type": "code",
   "execution_count": 175,
   "metadata": {
    "tags": []
   },
   "outputs": [
    {
     "output_type": "stream",
     "name": "stdout",
     "text": [
      "input:  -1\n"
     ]
    },
    {
     "output_type": "execute_result",
     "data": {
      "text/plain": [
       "             Date        Open        High         Low       Close   Adj Close  \\\n",
       "0      2010-02-01   63.259998   64.699997   61.889999   63.000000   45.095860   \n",
       "2      2010-03-01   63.270000   65.489998   63.020000   65.199997   47.027702   \n",
       "3      2010-04-01   65.370003   66.199997   64.209999   64.300003   46.378559   \n",
       "4      2010-05-01   65.160004   65.620003   58.189999   58.299999   42.050858   \n",
       "179    2010-02-01   63.259998   64.699997   61.889999   63.000000   45.095860   \n",
       "...           ...         ...         ...         ...         ...         ...   \n",
       "90567  2020-11-01  138.979996  151.300003  137.490005  144.679993  142.791168   \n",
       "90742  2020-08-01  146.389999  154.399994  145.820007  153.410004  150.406158   \n",
       "90744  2020-09-01  153.869995  155.470001  142.960007  148.880005  146.936356   \n",
       "90745  2020-10-01  149.309998  153.139999  133.649994  137.110001  135.320007   \n",
       "90746  2020-11-01  138.979996  151.300003  137.490005  144.679993  142.791168   \n",
       "\n",
       "            Volume  Name period  \n",
       "0      213341500.0  AAPL      0  \n",
       "2      249947500.0  AAPL      0  \n",
       "3      235860700.0  AAPL      0  \n",
       "4      357775800.0  AAPL      0  \n",
       "179    213341500.0  AAPL      0  \n",
       "...            ...   ...    ...  \n",
       "90567  153635100.0   NWS     21  \n",
       "90742  109982700.0   NWS     21  \n",
       "90744  138801300.0   NWS     21  \n",
       "90745  137285300.0   NWS     21  \n",
       "90746  153635100.0   NWS     21  \n",
       "\n",
       "[44616 rows x 9 columns]"
      ],
      "text/html": "<div>\n<style scoped>\n    .dataframe tbody tr th:only-of-type {\n        vertical-align: middle;\n    }\n\n    .dataframe tbody tr th {\n        vertical-align: top;\n    }\n\n    .dataframe thead th {\n        text-align: right;\n    }\n</style>\n<table border=\"1\" class=\"dataframe\">\n  <thead>\n    <tr style=\"text-align: right;\">\n      <th></th>\n      <th>Date</th>\n      <th>Open</th>\n      <th>High</th>\n      <th>Low</th>\n      <th>Close</th>\n      <th>Adj Close</th>\n      <th>Volume</th>\n      <th>Name</th>\n      <th>period</th>\n    </tr>\n  </thead>\n  <tbody>\n    <tr>\n      <th>0</th>\n      <td>2010-02-01</td>\n      <td>63.259998</td>\n      <td>64.699997</td>\n      <td>61.889999</td>\n      <td>63.000000</td>\n      <td>45.095860</td>\n      <td>213341500.0</td>\n      <td>AAPL</td>\n      <td>0</td>\n    </tr>\n    <tr>\n      <th>2</th>\n      <td>2010-03-01</td>\n      <td>63.270000</td>\n      <td>65.489998</td>\n      <td>63.020000</td>\n      <td>65.199997</td>\n      <td>47.027702</td>\n      <td>249947500.0</td>\n      <td>AAPL</td>\n      <td>0</td>\n    </tr>\n    <tr>\n      <th>3</th>\n      <td>2010-04-01</td>\n      <td>65.370003</td>\n      <td>66.199997</td>\n      <td>64.209999</td>\n      <td>64.300003</td>\n      <td>46.378559</td>\n      <td>235860700.0</td>\n      <td>AAPL</td>\n      <td>0</td>\n    </tr>\n    <tr>\n      <th>4</th>\n      <td>2010-05-01</td>\n      <td>65.160004</td>\n      <td>65.620003</td>\n      <td>58.189999</td>\n      <td>58.299999</td>\n      <td>42.050858</td>\n      <td>357775800.0</td>\n      <td>AAPL</td>\n      <td>0</td>\n    </tr>\n    <tr>\n      <th>179</th>\n      <td>2010-02-01</td>\n      <td>63.259998</td>\n      <td>64.699997</td>\n      <td>61.889999</td>\n      <td>63.000000</td>\n      <td>45.095860</td>\n      <td>213341500.0</td>\n      <td>AAPL</td>\n      <td>0</td>\n    </tr>\n    <tr>\n      <th>...</th>\n      <td>...</td>\n      <td>...</td>\n      <td>...</td>\n      <td>...</td>\n      <td>...</td>\n      <td>...</td>\n      <td>...</td>\n      <td>...</td>\n      <td>...</td>\n    </tr>\n    <tr>\n      <th>90567</th>\n      <td>2020-11-01</td>\n      <td>138.979996</td>\n      <td>151.300003</td>\n      <td>137.490005</td>\n      <td>144.679993</td>\n      <td>142.791168</td>\n      <td>153635100.0</td>\n      <td>NWS</td>\n      <td>21</td>\n    </tr>\n    <tr>\n      <th>90742</th>\n      <td>2020-08-01</td>\n      <td>146.389999</td>\n      <td>154.399994</td>\n      <td>145.820007</td>\n      <td>153.410004</td>\n      <td>150.406158</td>\n      <td>109982700.0</td>\n      <td>NWS</td>\n      <td>21</td>\n    </tr>\n    <tr>\n      <th>90744</th>\n      <td>2020-09-01</td>\n      <td>153.869995</td>\n      <td>155.470001</td>\n      <td>142.960007</td>\n      <td>148.880005</td>\n      <td>146.936356</td>\n      <td>138801300.0</td>\n      <td>NWS</td>\n      <td>21</td>\n    </tr>\n    <tr>\n      <th>90745</th>\n      <td>2020-10-01</td>\n      <td>149.309998</td>\n      <td>153.139999</td>\n      <td>133.649994</td>\n      <td>137.110001</td>\n      <td>135.320007</td>\n      <td>137285300.0</td>\n      <td>NWS</td>\n      <td>21</td>\n    </tr>\n    <tr>\n      <th>90746</th>\n      <td>2020-11-01</td>\n      <td>138.979996</td>\n      <td>151.300003</td>\n      <td>137.490005</td>\n      <td>144.679993</td>\n      <td>142.791168</td>\n      <td>153635100.0</td>\n      <td>NWS</td>\n      <td>21</td>\n    </tr>\n  </tbody>\n</table>\n<p>44616 rows × 9 columns</p>\n</div>"
     },
     "metadata": {},
     "execution_count": 175
    }
   ],
   "source": [
    "def get_k_df(id=-1, midpoint=None):\n",
    "    '''this should spit out a dataframe of data in the observational period k given specific id or midpoint value. \n",
    "    if unspecified it throws all of them at you with an extra identifying column \"periods\"'''\n",
    "    print('input: ',id)\n",
    "    if (id == -1): # not really sure why we need this but ill include it. this adds a sector column to the data for future filtering purposes if needed\n",
    "        df_i = pd.DataFrame(columns=df.columns.to_list()+['period']) #dummy empty df\n",
    "        for i in timedf.index: \n",
    "            # print(timedf.iloc[i].j_start,timedf.iloc[i].midpoint)\n",
    "            df_ = df[(timedf.iloc[i].j_start <= pd.to_datetime(df['Date']))&(pd.to_datetime(df['Date']) <= timedf.iloc[i].midpoint)] # gets dates btw start and midpt\n",
    "            df_['period'] = i\n",
    "            df_i = pd.concat([df_i, df_])\n",
    "\n",
    "        return df_i\n",
    "    if (midpoint):\n",
    "        print('haosdifhasdifkasdf') # TODO implement midpoint call; if variable is nonnull it should retrieve it if necessary\n",
    "    return df[(timedf.iloc[id].j_start <= pd.to_datetime(df['Date']))&(pd.to_datetime(df['Date']) <= timedf.iloc[id].midpoint)] # gets dates btw start and midpt\n",
    "get_k_df()"
   ]
  },
  {
   "cell_type": "code",
   "execution_count": null,
   "metadata": {},
   "outputs": [],
   "source": [
    "# left off here, was gonna combine j and k dataframes or something, brain tierd"
   ]
  },
  {
   "cell_type": "code",
   "execution_count": 174,
   "metadata": {},
   "outputs": [
    {
     "output_type": "stream",
     "name": "stdout",
     "text": [
      "input:  0\n['2010-02-01' '2010-03-01' '2010-04-01' '2010-05-01']\ninput:  0\n505\n"
     ]
    }
   ],
   "source": [
    "print(get_k_df(0).Date.unique()) #sanity checking, hey it works\n",
    "print(len(get_k_df(0).Name.unique())) #sanity checking, here i learned that we have 505 tickers"
   ]
  },
  {
   "cell_type": "code",
   "execution_count": 147,
   "metadata": {},
   "outputs": [
    {
     "output_type": "execute_result",
     "data": {
      "text/plain": [
       "505"
      ]
     },
     "metadata": {},
     "execution_count": 147
    }
   ],
   "source": [
    "len(tickers) # read above"
   ]
  },
  {
   "cell_type": "code",
   "execution_count": null,
   "metadata": {},
   "outputs": [],
   "source": [
    "def get_j_df(id=-1):\n",
    "    '''this should spit out a dataframe of data in the holding period k given specific id or midpoint value. \n",
    "    if unspecified it throws all of them at you with an extra identifying column \"periods\"'''\n",
    "    print('input: ',id)\n",
    "    if (id == -1): # we can decide if this is useful later this adds a sector column to the data for future filtering purposes if needed\n",
    "        df_i = pd.DataFrame(columns=df.columns.to_list()+['period']) #dummy empty df\n",
    "        for i in timedf.index: \n",
    "            # print(timedf.iloc[i].j_start,timedf.iloc[i].midpoint)\n",
    "            df_ = df[(timedf.iloc[i].midpoint <= pd.to_datetime(df['Date']))&(pd.to_datetime(df['Date']) <= timedf.iloc[i].k_end)] # gets dates btw midpt and end\n",
    "            df_['period'] = i\n",
    "            df_i = pd.concat([df_i, df_])\n",
    "\n",
    "        return df_i\n",
    "    return df[(timedf.iloc[id].j_start <= pd.to_datetime(df['Date']))&(pd.to_datetime(df['Date']) <= timedf.iloc[id].midpoint)] # gets dates btw midpt and end\n",
    "get_j_df()"
   ]
  },
  {
   "cell_type": "code",
   "execution_count": null,
   "metadata": {},
   "outputs": [],
   "source": [
    "def create_portfolio(tickerlist):\n",
    "    '''used to group tickers into respective momentum, reversal, etc groups'''\n",
    "    return tickerlist # dummy"
   ]
  },
  {
   "cell_type": "code",
   "execution_count": null,
   "metadata": {},
   "outputs": [],
   "source": []
  },
  {
   "cell_type": "code",
   "execution_count": null,
   "metadata": {},
   "outputs": [],
   "source": [
    "# mapping j period, looking at the data at a certain j, cumulative product. worrying about positions since we have the times,\n",
    "# we would have needed percentage of change and calculate cumulative product and have that lagged return, that lagged return, we had lagged return from j so what is a loser exactly.\n",
    "# amir asks if the paper calcualtes the j lag return and then j = lag and then for that j, between the 500 we fidn the top n winners and n losers and then put them into respective groups\n",
    "# check out link amir sent\n",
    "# getting lagged values iteratively \n",
    "# we would just need to get j in this case so it would be over the period the trailing window size. we would have to worry about defining  what one step is.\n",
    "\n",
    "\n",
    "# TODO questions I would like to ask: for k holding period, do we just want to get the last value as a label, or pull all the data ahead?\n",
    "# how are we training, exactly? our current abstraction is kind of getting k and calculating their features at once... are we looking at patterns in the different groups?\n",
    "\n"
   ]
  },
  {
   "cell_type": "code",
   "execution_count": null,
   "metadata": {},
   "outputs": [],
   "source": []
  },
  {
   "cell_type": "markdown",
   "metadata": {},
   "source": [
    "## ----prototyping below----"
   ]
  },
  {
   "cell_type": "code",
   "execution_count": 56,
   "metadata": {},
   "outputs": [
    {
     "data": {
      "text/html": [
       "<div>\n",
       "<style scoped>\n",
       "    .dataframe tbody tr th:only-of-type {\n",
       "        vertical-align: middle;\n",
       "    }\n",
       "\n",
       "    .dataframe tbody tr th {\n",
       "        vertical-align: top;\n",
       "    }\n",
       "\n",
       "    .dataframe thead th {\n",
       "        text-align: right;\n",
       "    }\n",
       "</style>\n",
       "<table border=\"1\" class=\"dataframe\">\n",
       "  <thead>\n",
       "    <tr style=\"text-align: right;\">\n",
       "      <th></th>\n",
       "      <th>Open</th>\n",
       "      <th>High</th>\n",
       "      <th>Low</th>\n",
       "      <th>Close</th>\n",
       "      <th>Adj Close</th>\n",
       "      <th>Volume</th>\n",
       "    </tr>\n",
       "    <tr>\n",
       "      <th>Date</th>\n",
       "      <th></th>\n",
       "      <th></th>\n",
       "      <th></th>\n",
       "      <th></th>\n",
       "      <th></th>\n",
       "      <th></th>\n",
       "    </tr>\n",
       "  </thead>\n",
       "  <tbody>\n",
       "    <tr>\n",
       "      <th>2010-02-01</th>\n",
       "      <td>6.870357</td>\n",
       "      <td>7.327500</td>\n",
       "      <td>6.816071</td>\n",
       "      <td>7.307857</td>\n",
       "      <td>6.294721</td>\n",
       "      <td>1.077608e+10</td>\n",
       "    </tr>\n",
       "    <tr>\n",
       "      <th>2010-03-01</th>\n",
       "      <td>7.348214</td>\n",
       "      <td>8.481429</td>\n",
       "      <td>7.337500</td>\n",
       "      <td>8.392857</td>\n",
       "      <td>7.229299</td>\n",
       "      <td>1.215417e+10</td>\n",
       "    </tr>\n",
       "    <tr>\n",
       "      <th>2010-04-01</th>\n",
       "      <td>8.478929</td>\n",
       "      <td>9.730714</td>\n",
       "      <td>8.312500</td>\n",
       "      <td>9.324643</td>\n",
       "      <td>8.031907</td>\n",
       "      <td>1.236713e+10</td>\n",
       "    </tr>\n",
       "    <tr>\n",
       "      <th>2010-05-01</th>\n",
       "      <td>9.422857</td>\n",
       "      <td>9.567143</td>\n",
       "      <td>7.116071</td>\n",
       "      <td>9.174286</td>\n",
       "      <td>7.902396</td>\n",
       "      <td>1.808265e+10</td>\n",
       "    </tr>\n",
       "    <tr>\n",
       "      <th>2010-06-01</th>\n",
       "      <td>9.274643</td>\n",
       "      <td>9.964643</td>\n",
       "      <td>8.650000</td>\n",
       "      <td>8.983214</td>\n",
       "      <td>7.737815</td>\n",
       "      <td>1.665125e+10</td>\n",
       "    </tr>\n",
       "    <tr>\n",
       "      <th>...</th>\n",
       "      <td>...</td>\n",
       "      <td>...</td>\n",
       "      <td>...</td>\n",
       "      <td>...</td>\n",
       "      <td>...</td>\n",
       "      <td>...</td>\n",
       "    </tr>\n",
       "    <tr>\n",
       "      <th>2020-12-01</th>\n",
       "      <td>121.010002</td>\n",
       "      <td>138.789993</td>\n",
       "      <td>120.010002</td>\n",
       "      <td>132.690002</td>\n",
       "      <td>132.492020</td>\n",
       "      <td>2.322957e+09</td>\n",
       "    </tr>\n",
       "    <tr>\n",
       "      <th>2021-01-01</th>\n",
       "      <td>133.520004</td>\n",
       "      <td>145.089996</td>\n",
       "      <td>126.379997</td>\n",
       "      <td>131.960007</td>\n",
       "      <td>131.763107</td>\n",
       "      <td>2.240534e+09</td>\n",
       "    </tr>\n",
       "    <tr>\n",
       "      <th>2021-02-01</th>\n",
       "      <td>133.750000</td>\n",
       "      <td>137.880005</td>\n",
       "      <td>118.389999</td>\n",
       "      <td>121.260002</td>\n",
       "      <td>121.079071</td>\n",
       "      <td>1.830518e+09</td>\n",
       "    </tr>\n",
       "    <tr>\n",
       "      <th>2021-02-05</th>\n",
       "      <td>35.666607</td>\n",
       "      <td>38.327353</td>\n",
       "      <td>33.587836</td>\n",
       "      <td>36.323057</td>\n",
       "      <td>34.606373</td>\n",
       "      <td>5.841127e+09</td>\n",
       "    </tr>\n",
       "    <tr>\n",
       "      <th>2021-02-26</th>\n",
       "      <td>122.589996</td>\n",
       "      <td>124.849998</td>\n",
       "      <td>121.199997</td>\n",
       "      <td>121.260002</td>\n",
       "      <td>121.260002</td>\n",
       "      <td>1.645600e+08</td>\n",
       "    </tr>\n",
       "  </tbody>\n",
       "</table>\n",
       "<p>171 rows × 6 columns</p>\n",
       "</div>"
      ],
      "text/plain": [
       "                  Open        High         Low       Close   Adj Close  \\\n",
       "Date                                                                     \n",
       "2010-02-01    6.870357    7.327500    6.816071    7.307857    6.294721   \n",
       "2010-03-01    7.348214    8.481429    7.337500    8.392857    7.229299   \n",
       "2010-04-01    8.478929    9.730714    8.312500    9.324643    8.031907   \n",
       "2010-05-01    9.422857    9.567143    7.116071    9.174286    7.902396   \n",
       "2010-06-01    9.274643    9.964643    8.650000    8.983214    7.737815   \n",
       "...                ...         ...         ...         ...         ...   \n",
       "2020-12-01  121.010002  138.789993  120.010002  132.690002  132.492020   \n",
       "2021-01-01  133.520004  145.089996  126.379997  131.960007  131.763107   \n",
       "2021-02-01  133.750000  137.880005  118.389999  121.260002  121.079071   \n",
       "2021-02-05   35.666607   38.327353   33.587836   36.323057   34.606373   \n",
       "2021-02-26  122.589996  124.849998  121.199997  121.260002  121.260002   \n",
       "\n",
       "                  Volume  \n",
       "Date                      \n",
       "2010-02-01  1.077608e+10  \n",
       "2010-03-01  1.215417e+10  \n",
       "2010-04-01  1.236713e+10  \n",
       "2010-05-01  1.808265e+10  \n",
       "2010-06-01  1.665125e+10  \n",
       "...                  ...  \n",
       "2020-12-01  2.322957e+09  \n",
       "2021-01-01  2.240534e+09  \n",
       "2021-02-01  1.830518e+09  \n",
       "2021-02-05  5.841127e+09  \n",
       "2021-02-26  1.645600e+08  \n",
       "\n",
       "[171 rows x 6 columns]"
      ]
     },
     "execution_count": 56,
     "metadata": {},
     "output_type": "execute_result"
    }
   ],
   "source": [
    "aapl = imputed_aapl # take a look at apple again, this time with no nulls (dont know how to deal with them help)\n",
    "aapl.dropna()"
   ]
  },
  {
   "cell_type": "code",
   "execution_count": 230,
   "metadata": {},
   "outputs": [
    {
     "name": "stdout",
     "output_type": "stream",
     "text": [
      "Grabbing AAPL data!\n",
      "[*********************100%***********************]  1 of 1 completed\n",
      "Open         0\n",
      "High         0\n",
      "Low          0\n",
      "Close        0\n",
      "Adj Close    0\n",
      "Volume       0\n",
      "Name         0\n",
      "dtype: int64\n",
      "Grabbing MSFT data!\n",
      "[*********************100%***********************]  1 of 1 completed\n",
      "Open         0\n",
      "High         0\n",
      "Low          0\n",
      "Close        0\n",
      "Adj Close    0\n",
      "Volume       0\n",
      "Name         0\n",
      "dtype: int64\n"
     ]
    },
    {
     "name": "stderr",
     "output_type": "stream",
     "text": [
      "/opt/conda/lib/python3.7/site-packages/ipykernel_launcher.py:31: SettingWithCopyWarning: \n",
      "A value is trying to be set on a copy of a slice from a DataFrame.\n",
      "Try using .loc[row_indexer,col_indexer] = value instead\n",
      "\n",
      "See the caveats in the documentation: https://pandas.pydata.org/pandas-docs/stable/user_guide/indexing.html#returning-a-view-versus-a-copy\n",
      "/opt/conda/lib/python3.7/site-packages/ipykernel_launcher.py:31: SettingWithCopyWarning: \n",
      "A value is trying to be set on a copy of a slice from a DataFrame.\n",
      "Try using .loc[row_indexer,col_indexer] = value instead\n",
      "\n",
      "See the caveats in the documentation: https://pandas.pydata.org/pandas-docs/stable/user_guide/indexing.html#returning-a-view-versus-a-copy\n"
     ]
    },
    {
     "name": "stdout",
     "output_type": "stream",
     "text": [
      "Grabbing AMZN data!\n",
      "[*********************100%***********************]  1 of 1 completed\n",
      "Open         0\n",
      "High         0\n",
      "Low          0\n",
      "Close        0\n",
      "Adj Close    0\n",
      "Volume       0\n",
      "Name         0\n",
      "dtype: int64\n",
      "Grabbing FB data!\n",
      "[*********************100%***********************]  1 of 1 completed\n",
      "Open         0\n",
      "High         0\n",
      "Low          0\n",
      "Close        0\n",
      "Adj Close    0\n",
      "Volume       0\n",
      "Name         0\n",
      "dtype: int64\n",
      "Grabbing GOOGL data!\n",
      "[*********************100%***********************]  1 of 1 completed\n",
      "Open         0\n",
      "High         0\n",
      "Low          0\n",
      "Close        0\n",
      "Adj Close    0\n",
      "Volume       0\n",
      "Name         0\n",
      "dtype: int64\n",
      "Grabbing GOOG data!\n",
      "[*********************100%***********************]  1 of 1 completed\n"
     ]
    },
    {
     "name": "stderr",
     "output_type": "stream",
     "text": [
      "/opt/conda/lib/python3.7/site-packages/ipykernel_launcher.py:31: SettingWithCopyWarning: \n",
      "A value is trying to be set on a copy of a slice from a DataFrame.\n",
      "Try using .loc[row_indexer,col_indexer] = value instead\n",
      "\n",
      "See the caveats in the documentation: https://pandas.pydata.org/pandas-docs/stable/user_guide/indexing.html#returning-a-view-versus-a-copy\n",
      "/opt/conda/lib/python3.7/site-packages/ipykernel_launcher.py:31: SettingWithCopyWarning: \n",
      "A value is trying to be set on a copy of a slice from a DataFrame.\n",
      "Try using .loc[row_indexer,col_indexer] = value instead\n",
      "\n",
      "See the caveats in the documentation: https://pandas.pydata.org/pandas-docs/stable/user_guide/indexing.html#returning-a-view-versus-a-copy\n"
     ]
    },
    {
     "name": "stdout",
     "output_type": "stream",
     "text": [
      "Open         0\n",
      "High         0\n",
      "Low          0\n",
      "Close        0\n",
      "Adj Close    0\n",
      "Volume       0\n",
      "Name         0\n",
      "dtype: int64\n",
      "Grabbing TSLA data!\n",
      "[*********************100%***********************]  1 of 1 completed\n",
      "Open         0\n",
      "High         0\n",
      "Low          0\n",
      "Close        0\n",
      "Adj Close    0\n",
      "Volume       0\n",
      "Name         0\n",
      "dtype: int64\n",
      "Grabbing BRK-B data!\n",
      "[*********************100%***********************]  1 of 1 completed\n",
      "Open         0\n",
      "High         0\n",
      "Low          0\n",
      "Close        0\n",
      "Adj Close    0\n",
      "Volume       0\n",
      "Name         0\n",
      "dtype: int64\n"
     ]
    },
    {
     "name": "stderr",
     "output_type": "stream",
     "text": [
      "/opt/conda/lib/python3.7/site-packages/ipykernel_launcher.py:31: SettingWithCopyWarning: \n",
      "A value is trying to be set on a copy of a slice from a DataFrame.\n",
      "Try using .loc[row_indexer,col_indexer] = value instead\n",
      "\n",
      "See the caveats in the documentation: https://pandas.pydata.org/pandas-docs/stable/user_guide/indexing.html#returning-a-view-versus-a-copy\n",
      "/opt/conda/lib/python3.7/site-packages/ipykernel_launcher.py:31: SettingWithCopyWarning: \n",
      "A value is trying to be set on a copy of a slice from a DataFrame.\n",
      "Try using .loc[row_indexer,col_indexer] = value instead\n",
      "\n",
      "See the caveats in the documentation: https://pandas.pydata.org/pandas-docs/stable/user_guide/indexing.html#returning-a-view-versus-a-copy\n"
     ]
    },
    {
     "name": "stdout",
     "output_type": "stream",
     "text": [
      "Grabbing JPM data!\n",
      "[*********************100%***********************]  1 of 1 completed\n",
      "Open         0\n",
      "High         0\n",
      "Low          0\n",
      "Close        0\n",
      "Adj Close    0\n",
      "Volume       0\n",
      "Name         0\n",
      "dtype: int64\n",
      "Grabbing JNJ data!\n"
     ]
    },
    {
     "name": "stderr",
     "output_type": "stream",
     "text": [
      "/opt/conda/lib/python3.7/site-packages/ipykernel_launcher.py:31: SettingWithCopyWarning: \n",
      "A value is trying to be set on a copy of a slice from a DataFrame.\n",
      "Try using .loc[row_indexer,col_indexer] = value instead\n",
      "\n",
      "See the caveats in the documentation: https://pandas.pydata.org/pandas-docs/stable/user_guide/indexing.html#returning-a-view-versus-a-copy\n"
     ]
    },
    {
     "name": "stdout",
     "output_type": "stream",
     "text": [
      "[*********************100%***********************]  1 of 1 completed\n",
      "Open         0\n",
      "High         0\n",
      "Low          0\n",
      "Close        0\n",
      "Adj Close    0\n",
      "Volume       0\n",
      "Name         0\n",
      "dtype: int64\n"
     ]
    },
    {
     "name": "stderr",
     "output_type": "stream",
     "text": [
      "/opt/conda/lib/python3.7/site-packages/ipykernel_launcher.py:31: SettingWithCopyWarning: \n",
      "A value is trying to be set on a copy of a slice from a DataFrame.\n",
      "Try using .loc[row_indexer,col_indexer] = value instead\n",
      "\n",
      "See the caveats in the documentation: https://pandas.pydata.org/pandas-docs/stable/user_guide/indexing.html#returning-a-view-versus-a-copy\n"
     ]
    }
   ],
   "source": [
    "from sklearn.impute import KNNImputer\n",
    "\n",
    "def effect(x):\n",
    "    if( x < 0.0 ):\n",
    "        return \"Reversal\"\n",
    "    elif(x > 0.0):\n",
    "        return \"Momentum\"\n",
    "    else:\n",
    "        return \"None\"\n",
    "    \n",
    "\n",
    "\n",
    "## shamelessly stolen code, still trying to comprehend what wizardry is going on in here\n",
    "dfs = []\n",
    "k = 4\n",
    "imputer = KNNImputer(n_neighbors = 2)\n",
    "for ticker in tickers[:10]:\n",
    "    print('Grabbing ' + ticker + \" data!\")\n",
    "    curr_df = pdr.get_data_yahoo(ticker, start=\"2009-12-01\", interval = \"1mo\")\n",
    "    if(curr_df.empty):\n",
    "        print('Failed to get ' + ticker + ' stock data!')\n",
    "        continue\n",
    "    \n",
    "    #imputed_df = imputer.fit_transform(curr_df)\n",
    "    #imputed_df = pd.DataFrame(imputed_df,columns=['Open','High','Low','Close','Adj Close','Volume'])\n",
    "    #imputed_df = imputed_df.set_index(curr_df.index)\n",
    "    \n",
    "    \n",
    "    curr_df = curr_df.dropna()\n",
    "    #imputed_df['Name'] = ticker\n",
    "    curr_df['Name'] = ticker\n",
    "    curr_df = imputed_df\n",
    "    print(curr_df.isna().sum())\n",
    "    curr_df = curr_df.reset_index()\n",
    "    curr_df.set_index(['Name','Date'],inplace=True)\n",
    "    curr_df = curr_df[~curr_df.index.duplicated(keep='first')]\n",
    "    obs_df = (curr_df.reset_index(level=[0])\n",
    "              ['Adj Close'].resample(str(k) + 'M').first().ffill().pct_change()[1:]).to_frame()\n",
    "    obs_df.rename(columns={'Adj Close':'Adj Close %Change'},inplace=True)\n",
    "    obs_df['Name'] = ticker\n",
    "    obs_df = obs_df.reset_index()\n",
    "    obs_df.set_index(['Name','Date'],inplace=True)\n",
    "    obs_df['Cum Returns'] = (obs_df['Adj Close %Change'] + 1).groupby('Name').cumprod()\n",
    "    obs_df['Effect'] = obs_df['Adj Close %Change'].apply(effect)\n",
    "    dfs.append(obs_df)\n",
    "    curr_df = None\n",
    "    obs_df = None"
   ]
  },
  {
   "cell_type": "code",
   "execution_count": 231,
   "metadata": {},
   "outputs": [
    {
     "data": {
      "text/plain": [
       "<matplotlib.axes._subplots.AxesSubplot at 0x7f54a705fb10>"
      ]
     },
     "execution_count": 231,
     "metadata": {},
     "output_type": "execute_result"
    },
    {
     "data": {
      "image/png": "[encoded data removed]",
      "text/plain": [
       "<Figure size 432x288 with 1 Axes>"
      ]
     },
     "metadata": {
      "needs_background": "light"
     },
     "output_type": "display_data"
    }
   ],
   "source": [
    "dfs[8]['Effect'].value_counts().plot(kind='bar',yticks=range(0,25,2))"
   ]
  },
  {
   "cell_type": "code",
   "execution_count": 232,
   "metadata": {},
   "outputs": [
    {
     "data": {
      "text/html": [
       "<div>\n",
       "<style scoped>\n",
       "    .dataframe tbody tr th:only-of-type {\n",
       "        vertical-align: middle;\n",
       "    }\n",
       "\n",
       "    .dataframe tbody tr th {\n",
       "        vertical-align: top;\n",
       "    }\n",
       "\n",
       "    .dataframe thead th {\n",
       "        text-align: right;\n",
       "    }\n",
       "</style>\n",
       "<table border=\"1\" class=\"dataframe\">\n",
       "  <thead>\n",
       "    <tr style=\"text-align: right;\">\n",
       "      <th></th>\n",
       "      <th></th>\n",
       "      <th>Adj Close %Change</th>\n",
       "      <th>Cum Returns</th>\n",
       "      <th>Effect</th>\n",
       "      <th>Open</th>\n",
       "      <th>High</th>\n",
       "      <th>Low</th>\n",
       "      <th>Close</th>\n",
       "      <th>Adj Close</th>\n",
       "      <th>Volume</th>\n",
       "    </tr>\n",
       "    <tr>\n",
       "      <th>Name</th>\n",
       "      <th>Date</th>\n",
       "      <th></th>\n",
       "      <th></th>\n",
       "      <th></th>\n",
       "      <th></th>\n",
       "      <th></th>\n",
       "      <th></th>\n",
       "      <th></th>\n",
       "      <th></th>\n",
       "      <th></th>\n",
       "    </tr>\n",
       "  </thead>\n",
       "  <tbody>\n",
       "    <tr>\n",
       "      <th rowspan=\"34\" valign=\"top\">AAPL</th>\n",
       "      <th>2010-04-30</th>\n",
       "      <td>-0.024065</td>\n",
       "      <td>0.975935</td>\n",
       "      <td>Reversal</td>\n",
       "      <td>8.478929</td>\n",
       "      <td>9.730714</td>\n",
       "      <td>8.312500</td>\n",
       "      <td>9.324643</td>\n",
       "      <td>8.031907</td>\n",
       "      <td>1.236713e+10</td>\n",
       "    </tr>\n",
       "    <tr>\n",
       "      <th>2010-08-31</th>\n",
       "      <td>-0.065446</td>\n",
       "      <td>0.912065</td>\n",
       "      <td>Reversal</td>\n",
       "      <td>9.301429</td>\n",
       "      <td>9.438571</td>\n",
       "      <td>8.412857</td>\n",
       "      <td>8.682143</td>\n",
       "      <td>7.478480</td>\n",
       "      <td>9.589121e+09</td>\n",
       "    </tr>\n",
       "    <tr>\n",
       "      <th>2010-12-31</th>\n",
       "      <td>0.082600</td>\n",
       "      <td>0.987401</td>\n",
       "      <td>Momentum</td>\n",
       "      <td>11.259643</td>\n",
       "      <td>11.666429</td>\n",
       "      <td>11.246071</td>\n",
       "      <td>11.520000</td>\n",
       "      <td>9.922909</td>\n",
       "      <td>6.973235e+09</td>\n",
       "    </tr>\n",
       "    <tr>\n",
       "      <th>2011-04-30</th>\n",
       "      <td>-0.027044</td>\n",
       "      <td>0.960698</td>\n",
       "      <td>Reversal</td>\n",
       "      <td>12.539643</td>\n",
       "      <td>12.683214</td>\n",
       "      <td>11.434286</td>\n",
       "      <td>12.504643</td>\n",
       "      <td>10.771044</td>\n",
       "      <td>9.253829e+09</td>\n",
       "    </tr>\n",
       "    <tr>\n",
       "      <th>2011-08-31</th>\n",
       "      <td>0.135997</td>\n",
       "      <td>1.091350</td>\n",
       "      <td>Momentum</td>\n",
       "      <td>14.206429</td>\n",
       "      <td>14.267857</td>\n",
       "      <td>12.607857</td>\n",
       "      <td>13.743929</td>\n",
       "      <td>11.838518</td>\n",
       "      <td>1.614260e+10</td>\n",
       "    </tr>\n",
       "    <tr>\n",
       "      <th>2011-12-31</th>\n",
       "      <td>-0.036785</td>\n",
       "      <td>1.051205</td>\n",
       "      <td>Reversal</td>\n",
       "      <td>13.662143</td>\n",
       "      <td>14.610357</td>\n",
       "      <td>13.488571</td>\n",
       "      <td>14.464286</td>\n",
       "      <td>12.459009</td>\n",
       "      <td>6.306532e+09</td>\n",
       "    </tr>\n",
       "    <tr>\n",
       "      <th>2012-04-30</th>\n",
       "      <td>0.044460</td>\n",
       "      <td>1.097942</td>\n",
       "      <td>Momentum</td>\n",
       "      <td>21.493929</td>\n",
       "      <td>23.000000</td>\n",
       "      <td>19.821428</td>\n",
       "      <td>20.856428</td>\n",
       "      <td>17.964962</td>\n",
       "      <td>1.559899e+10</td>\n",
       "    </tr>\n",
       "    <tr>\n",
       "      <th>2012-08-31</th>\n",
       "      <td>-0.044433</td>\n",
       "      <td>1.049157</td>\n",
       "      <td>Reversal</td>\n",
       "      <td>35.666607</td>\n",
       "      <td>38.327353</td>\n",
       "      <td>33.587836</td>\n",
       "      <td>36.323057</td>\n",
       "      <td>34.606373</td>\n",
       "      <td>5.841127e+09</td>\n",
       "    </tr>\n",
       "    <tr>\n",
       "      <th>2012-12-31</th>\n",
       "      <td>0.124670</td>\n",
       "      <td>1.179955</td>\n",
       "      <td>Momentum</td>\n",
       "      <td>21.201786</td>\n",
       "      <td>21.235357</td>\n",
       "      <td>17.901072</td>\n",
       "      <td>19.006071</td>\n",
       "      <td>16.516520</td>\n",
       "      <td>1.213275e+10</td>\n",
       "    </tr>\n",
       "    <tr>\n",
       "      <th>2013-04-30</th>\n",
       "      <td>0.082189</td>\n",
       "      <td>1.276935</td>\n",
       "      <td>Momentum</td>\n",
       "      <td>15.782143</td>\n",
       "      <td>15.901786</td>\n",
       "      <td>13.753571</td>\n",
       "      <td>15.813571</td>\n",
       "      <td>13.822287</td>\n",
       "      <td>1.096349e+10</td>\n",
       "    </tr>\n",
       "    <tr>\n",
       "      <th>2013-08-31</th>\n",
       "      <td>0.147908</td>\n",
       "      <td>1.465804</td>\n",
       "      <td>Momentum</td>\n",
       "      <td>35.666607</td>\n",
       "      <td>38.327353</td>\n",
       "      <td>33.587836</td>\n",
       "      <td>36.323057</td>\n",
       "      <td>34.606373</td>\n",
       "      <td>5.841127e+09</td>\n",
       "    </tr>\n",
       "    <tr>\n",
       "      <th>2013-12-31</th>\n",
       "      <td>0.045376</td>\n",
       "      <td>1.532316</td>\n",
       "      <td>Momentum</td>\n",
       "      <td>19.928572</td>\n",
       "      <td>20.540714</td>\n",
       "      <td>19.242857</td>\n",
       "      <td>20.036428</td>\n",
       "      <td>17.849323</td>\n",
       "      <td>7.057397e+09</td>\n",
       "    </tr>\n",
       "    <tr>\n",
       "      <th>2014-04-30</th>\n",
       "      <td>0.027658</td>\n",
       "      <td>1.574696</td>\n",
       "      <td>Momentum</td>\n",
       "      <td>19.205713</td>\n",
       "      <td>21.408215</td>\n",
       "      <td>18.261786</td>\n",
       "      <td>21.074642</td>\n",
       "      <td>18.886589</td>\n",
       "      <td>6.435061e+09</td>\n",
       "    </tr>\n",
       "    <tr>\n",
       "      <th>2014-08-31</th>\n",
       "      <td>0.155082</td>\n",
       "      <td>1.818902</td>\n",
       "      <td>Momentum</td>\n",
       "      <td>35.666607</td>\n",
       "      <td>38.327353</td>\n",
       "      <td>33.587836</td>\n",
       "      <td>36.323057</td>\n",
       "      <td>34.606373</td>\n",
       "      <td>5.841127e+09</td>\n",
       "    </tr>\n",
       "    <tr>\n",
       "      <th>2014-12-31</th>\n",
       "      <td>0.065039</td>\n",
       "      <td>1.937202</td>\n",
       "      <td>Momentum</td>\n",
       "      <td>29.702499</td>\n",
       "      <td>29.812500</td>\n",
       "      <td>26.565001</td>\n",
       "      <td>27.594999</td>\n",
       "      <td>25.100164</td>\n",
       "      <td>4.294378e+09</td>\n",
       "    </tr>\n",
       "    <tr>\n",
       "      <th>2015-04-30</th>\n",
       "      <td>-0.054394</td>\n",
       "      <td>1.831830</td>\n",
       "      <td>Reversal</td>\n",
       "      <td>31.205000</td>\n",
       "      <td>33.634998</td>\n",
       "      <td>30.775000</td>\n",
       "      <td>31.287500</td>\n",
       "      <td>28.571152</td>\n",
       "      <td>3.984542e+09</td>\n",
       "    </tr>\n",
       "    <tr>\n",
       "      <th>2015-08-31</th>\n",
       "      <td>0.007000</td>\n",
       "      <td>1.844654</td>\n",
       "      <td>Momentum</td>\n",
       "      <td>35.666607</td>\n",
       "      <td>38.327353</td>\n",
       "      <td>33.587836</td>\n",
       "      <td>36.323057</td>\n",
       "      <td>34.606373</td>\n",
       "      <td>5.841127e+09</td>\n",
       "    </tr>\n",
       "    <tr>\n",
       "      <th>2015-12-31</th>\n",
       "      <td>-0.053824</td>\n",
       "      <td>1.745366</td>\n",
       "      <td>Reversal</td>\n",
       "      <td>29.687500</td>\n",
       "      <td>29.965000</td>\n",
       "      <td>26.205000</td>\n",
       "      <td>26.315001</td>\n",
       "      <td>24.343718</td>\n",
       "      <td>3.687661e+09</td>\n",
       "    </tr>\n",
       "    <tr>\n",
       "      <th>2016-04-30</th>\n",
       "      <td>0.127048</td>\n",
       "      <td>1.967111</td>\n",
       "      <td>Momentum</td>\n",
       "      <td>27.195000</td>\n",
       "      <td>28.097500</td>\n",
       "      <td>23.127501</td>\n",
       "      <td>23.434999</td>\n",
       "      <td>21.797100</td>\n",
       "      <td>3.489535e+09</td>\n",
       "    </tr>\n",
       "    <tr>\n",
       "      <th>2016-08-31</th>\n",
       "      <td>0.086812</td>\n",
       "      <td>2.137880</td>\n",
       "      <td>Momentum</td>\n",
       "      <td>35.666607</td>\n",
       "      <td>38.327353</td>\n",
       "      <td>33.587836</td>\n",
       "      <td>36.323057</td>\n",
       "      <td>34.606373</td>\n",
       "      <td>5.841127e+09</td>\n",
       "    </tr>\n",
       "    <tr>\n",
       "      <th>2016-12-31</th>\n",
       "      <td>0.062802</td>\n",
       "      <td>2.272143</td>\n",
       "      <td>Momentum</td>\n",
       "      <td>27.592501</td>\n",
       "      <td>29.504999</td>\n",
       "      <td>27.062500</td>\n",
       "      <td>28.955000</td>\n",
       "      <td>27.381918</td>\n",
       "      <td>2.435087e+09</td>\n",
       "    </tr>\n",
       "    <tr>\n",
       "      <th>2017-04-30</th>\n",
       "      <td>-0.034686</td>\n",
       "      <td>2.193332</td>\n",
       "      <td>Reversal</td>\n",
       "      <td>35.927502</td>\n",
       "      <td>36.365002</td>\n",
       "      <td>35.014999</td>\n",
       "      <td>35.912498</td>\n",
       "      <td>34.108673</td>\n",
       "      <td>1.493216e+09</td>\n",
       "    </tr>\n",
       "    <tr>\n",
       "      <th>2017-08-31</th>\n",
       "      <td>0.139944</td>\n",
       "      <td>2.500275</td>\n",
       "      <td>Momentum</td>\n",
       "      <td>35.666607</td>\n",
       "      <td>38.327353</td>\n",
       "      <td>33.587836</td>\n",
       "      <td>36.323057</td>\n",
       "      <td>34.606373</td>\n",
       "      <td>5.841127e+09</td>\n",
       "    </tr>\n",
       "    <tr>\n",
       "      <th>2017-12-31</th>\n",
       "      <td>0.026937</td>\n",
       "      <td>2.567625</td>\n",
       "      <td>Momentum</td>\n",
       "      <td>42.487499</td>\n",
       "      <td>44.299999</td>\n",
       "      <td>41.615002</td>\n",
       "      <td>42.307499</td>\n",
       "      <td>40.652374</td>\n",
       "      <td>2.124735e+09</td>\n",
       "    </tr>\n",
       "    <tr>\n",
       "      <th>2018-04-30</th>\n",
       "      <td>0.069428</td>\n",
       "      <td>2.745888</td>\n",
       "      <td>Momentum</td>\n",
       "      <td>41.660000</td>\n",
       "      <td>44.735001</td>\n",
       "      <td>40.157501</td>\n",
       "      <td>41.314999</td>\n",
       "      <td>39.860565</td>\n",
       "      <td>2.664617e+09</td>\n",
       "    </tr>\n",
       "    <tr>\n",
       "      <th>2018-08-31</th>\n",
       "      <td>-0.128837</td>\n",
       "      <td>2.392115</td>\n",
       "      <td>Reversal</td>\n",
       "      <td>35.666607</td>\n",
       "      <td>38.327353</td>\n",
       "      <td>33.587836</td>\n",
       "      <td>36.323057</td>\n",
       "      <td>34.606373</td>\n",
       "      <td>5.841127e+09</td>\n",
       "    </tr>\n",
       "    <tr>\n",
       "      <th>2018-12-31</th>\n",
       "      <td>0.171396</td>\n",
       "      <td>2.802114</td>\n",
       "      <td>Momentum</td>\n",
       "      <td>46.115002</td>\n",
       "      <td>46.235001</td>\n",
       "      <td>36.647499</td>\n",
       "      <td>39.435001</td>\n",
       "      <td>38.461140</td>\n",
       "      <td>3.595690e+09</td>\n",
       "    </tr>\n",
       "    <tr>\n",
       "      <th>2019-04-30</th>\n",
       "      <td>-0.030705</td>\n",
       "      <td>2.716075</td>\n",
       "      <td>Reversal</td>\n",
       "      <td>47.910000</td>\n",
       "      <td>52.119999</td>\n",
       "      <td>47.095001</td>\n",
       "      <td>50.167500</td>\n",
       "      <td>49.138439</td>\n",
       "      <td>2.024471e+09</td>\n",
       "    </tr>\n",
       "    <tr>\n",
       "      <th>2019-08-31</th>\n",
       "      <td>-0.007967</td>\n",
       "      <td>2.694437</td>\n",
       "      <td>Reversal</td>\n",
       "      <td>35.666607</td>\n",
       "      <td>38.327353</td>\n",
       "      <td>33.587836</td>\n",
       "      <td>36.323057</td>\n",
       "      <td>34.606373</td>\n",
       "      <td>5.841127e+09</td>\n",
       "    </tr>\n",
       "    <tr>\n",
       "      <th>2019-12-31</th>\n",
       "      <td>0.000697</td>\n",
       "      <td>2.696315</td>\n",
       "      <td>Momentum</td>\n",
       "      <td>66.817497</td>\n",
       "      <td>73.492500</td>\n",
       "      <td>64.072502</td>\n",
       "      <td>73.412498</td>\n",
       "      <td>72.675339</td>\n",
       "      <td>2.388795e+09</td>\n",
       "    </tr>\n",
       "    <tr>\n",
       "      <th>2020-04-30</th>\n",
       "      <td>0.158613</td>\n",
       "      <td>3.123986</td>\n",
       "      <td>Momentum</td>\n",
       "      <td>61.625000</td>\n",
       "      <td>73.632500</td>\n",
       "      <td>59.224998</td>\n",
       "      <td>73.449997</td>\n",
       "      <td>72.885025</td>\n",
       "      <td>3.266123e+09</td>\n",
       "    </tr>\n",
       "    <tr>\n",
       "      <th>2020-08-31</th>\n",
       "      <td>0.005566</td>\n",
       "      <td>3.141373</td>\n",
       "      <td>Momentum</td>\n",
       "      <td>35.666607</td>\n",
       "      <td>38.327353</td>\n",
       "      <td>33.587836</td>\n",
       "      <td>36.323057</td>\n",
       "      <td>34.606373</td>\n",
       "      <td>5.841127e+09</td>\n",
       "    </tr>\n",
       "    <tr>\n",
       "      <th>2020-12-31</th>\n",
       "      <td>0.014520</td>\n",
       "      <td>3.186985</td>\n",
       "      <td>Momentum</td>\n",
       "      <td>121.010002</td>\n",
       "      <td>138.789993</td>\n",
       "      <td>120.010002</td>\n",
       "      <td>132.690002</td>\n",
       "      <td>132.492020</td>\n",
       "      <td>2.322957e+09</td>\n",
       "    </tr>\n",
       "    <tr>\n",
       "      <th>2021-04-30</th>\n",
       "      <td>0.103329</td>\n",
       "      <td>3.516292</td>\n",
       "      <td>Momentum</td>\n",
       "      <td>122.589996</td>\n",
       "      <td>124.849998</td>\n",
       "      <td>121.199997</td>\n",
       "      <td>121.260002</td>\n",
       "      <td>121.260002</td>\n",
       "      <td>1.645600e+08</td>\n",
       "    </tr>\n",
       "  </tbody>\n",
       "</table>\n",
       "</div>"
      ],
      "text/plain": [
       "                 Adj Close %Change  Cum Returns    Effect        Open  \\\n",
       "Name Date                                                               \n",
       "AAPL 2010-04-30          -0.024065     0.975935  Reversal    8.478929   \n",
       "     2010-08-31          -0.065446     0.912065  Reversal    9.301429   \n",
       "     2010-12-31           0.082600     0.987401  Momentum   11.259643   \n",
       "     2011-04-30          -0.027044     0.960698  Reversal   12.539643   \n",
       "     2011-08-31           0.135997     1.091350  Momentum   14.206429   \n",
       "     2011-12-31          -0.036785     1.051205  Reversal   13.662143   \n",
       "     2012-04-30           0.044460     1.097942  Momentum   21.493929   \n",
       "     2012-08-31          -0.044433     1.049157  Reversal   35.666607   \n",
       "     2012-12-31           0.124670     1.179955  Momentum   21.201786   \n",
       "     2013-04-30           0.082189     1.276935  Momentum   15.782143   \n",
       "     2013-08-31           0.147908     1.465804  Momentum   35.666607   \n",
       "     2013-12-31           0.045376     1.532316  Momentum   19.928572   \n",
       "     2014-04-30           0.027658     1.574696  Momentum   19.205713   \n",
       "     2014-08-31           0.155082     1.818902  Momentum   35.666607   \n",
       "     2014-12-31           0.065039     1.937202  Momentum   29.702499   \n",
       "     2015-04-30          -0.054394     1.831830  Reversal   31.205000   \n",
       "     2015-08-31           0.007000     1.844654  Momentum   35.666607   \n",
       "     2015-12-31          -0.053824     1.745366  Reversal   29.687500   \n",
       "     2016-04-30           0.127048     1.967111  Momentum   27.195000   \n",
       "     2016-08-31           0.086812     2.137880  Momentum   35.666607   \n",
       "     2016-12-31           0.062802     2.272143  Momentum   27.592501   \n",
       "     2017-04-30          -0.034686     2.193332  Reversal   35.927502   \n",
       "     2017-08-31           0.139944     2.500275  Momentum   35.666607   \n",
       "     2017-12-31           0.026937     2.567625  Momentum   42.487499   \n",
       "     2018-04-30           0.069428     2.745888  Momentum   41.660000   \n",
       "     2018-08-31          -0.128837     2.392115  Reversal   35.666607   \n",
       "     2018-12-31           0.171396     2.802114  Momentum   46.115002   \n",
       "     2019-04-30          -0.030705     2.716075  Reversal   47.910000   \n",
       "     2019-08-31          -0.007967     2.694437  Reversal   35.666607   \n",
       "     2019-12-31           0.000697     2.696315  Momentum   66.817497   \n",
       "     2020-04-30           0.158613     3.123986  Momentum   61.625000   \n",
       "     2020-08-31           0.005566     3.141373  Momentum   35.666607   \n",
       "     2020-12-31           0.014520     3.186985  Momentum  121.010002   \n",
       "     2021-04-30           0.103329     3.516292  Momentum  122.589996   \n",
       "\n",
       "                       High         Low       Close   Adj Close        Volume  \n",
       "Name Date                                                                      \n",
       "AAPL 2010-04-30    9.730714    8.312500    9.324643    8.031907  1.236713e+10  \n",
       "     2010-08-31    9.438571    8.412857    8.682143    7.478480  9.589121e+09  \n",
       "     2010-12-31   11.666429   11.246071   11.520000    9.922909  6.973235e+09  \n",
       "     2011-04-30   12.683214   11.434286   12.504643   10.771044  9.253829e+09  \n",
       "     2011-08-31   14.267857   12.607857   13.743929   11.838518  1.614260e+10  \n",
       "     2011-12-31   14.610357   13.488571   14.464286   12.459009  6.306532e+09  \n",
       "     2012-04-30   23.000000   19.821428   20.856428   17.964962  1.559899e+10  \n",
       "     2012-08-31   38.327353   33.587836   36.323057   34.606373  5.841127e+09  \n",
       "     2012-12-31   21.235357   17.901072   19.006071   16.516520  1.213275e+10  \n",
       "     2013-04-30   15.901786   13.753571   15.813571   13.822287  1.096349e+10  \n",
       "     2013-08-31   38.327353   33.587836   36.323057   34.606373  5.841127e+09  \n",
       "     2013-12-31   20.540714   19.242857   20.036428   17.849323  7.057397e+09  \n",
       "     2014-04-30   21.408215   18.261786   21.074642   18.886589  6.435061e+09  \n",
       "     2014-08-31   38.327353   33.587836   36.323057   34.606373  5.841127e+09  \n",
       "     2014-12-31   29.812500   26.565001   27.594999   25.100164  4.294378e+09  \n",
       "     2015-04-30   33.634998   30.775000   31.287500   28.571152  3.984542e+09  \n",
       "     2015-08-31   38.327353   33.587836   36.323057   34.606373  5.841127e+09  \n",
       "     2015-12-31   29.965000   26.205000   26.315001   24.343718  3.687661e+09  \n",
       "     2016-04-30   28.097500   23.127501   23.434999   21.797100  3.489535e+09  \n",
       "     2016-08-31   38.327353   33.587836   36.323057   34.606373  5.841127e+09  \n",
       "     2016-12-31   29.504999   27.062500   28.955000   27.381918  2.435087e+09  \n",
       "     2017-04-30   36.365002   35.014999   35.912498   34.108673  1.493216e+09  \n",
       "     2017-08-31   38.327353   33.587836   36.323057   34.606373  5.841127e+09  \n",
       "     2017-12-31   44.299999   41.615002   42.307499   40.652374  2.124735e+09  \n",
       "     2018-04-30   44.735001   40.157501   41.314999   39.860565  2.664617e+09  \n",
       "     2018-08-31   38.327353   33.587836   36.323057   34.606373  5.841127e+09  \n",
       "     2018-12-31   46.235001   36.647499   39.435001   38.461140  3.595690e+09  \n",
       "     2019-04-30   52.119999   47.095001   50.167500   49.138439  2.024471e+09  \n",
       "     2019-08-31   38.327353   33.587836   36.323057   34.606373  5.841127e+09  \n",
       "     2019-12-31   73.492500   64.072502   73.412498   72.675339  2.388795e+09  \n",
       "     2020-04-30   73.632500   59.224998   73.449997   72.885025  3.266123e+09  \n",
       "     2020-08-31   38.327353   33.587836   36.323057   34.606373  5.841127e+09  \n",
       "     2020-12-31  138.789993  120.010002  132.690002  132.492020  2.322957e+09  \n",
       "     2021-04-30  124.849998  121.199997  121.260002  121.260002  1.645600e+08  "
      ]
     },
     "execution_count": 232,
     "metadata": {},
     "output_type": "execute_result"
    }
   ],
   "source": [
    "new_df = pd.merge_asof(dfs[0],aapl,on='Date')\n",
    "new_df['Name'] = 'AAPL'\n",
    "new_df.set_index(['Name','Date'],inplace=True)\n",
    "new_df = new_df[~new_df.index.duplicated(keep='first')]\n",
    "new_df"
   ]
  },
  {
   "cell_type": "code",
   "execution_count": 1,
   "metadata": {},
   "outputs": [
    {
     "output_type": "error",
     "ename": "NameError",
     "evalue": "name 'new_df' is not defined",
     "traceback": [
      "\u001b[1;31m---------------------------------------------------------------------------\u001b[0m",
      "\u001b[1;31mNameError\u001b[0m                                 Traceback (most recent call last)",
      "\u001b[1;32m<ipython-input-1-7da51bd90949>\u001b[0m in \u001b[0;36m<module>\u001b[1;34m\u001b[0m\n\u001b[0;32m      1\u001b[0m \u001b[1;32mimport\u001b[0m \u001b[0mpandas_ta\u001b[0m \u001b[1;32mas\u001b[0m \u001b[0mta\u001b[0m\u001b[1;33m\u001b[0m\u001b[1;33m\u001b[0m\u001b[0m\n\u001b[1;32m----> 2\u001b[1;33m \u001b[0mnew_df\u001b[0m\u001b[1;33m.\u001b[0m\u001b[0mta\u001b[0m\u001b[1;33m.\u001b[0m\u001b[0mcores\u001b[0m \u001b[1;33m=\u001b[0m \u001b[1;36m7\u001b[0m\u001b[1;33m\u001b[0m\u001b[1;33m\u001b[0m\u001b[0m\n\u001b[0m\u001b[0;32m      3\u001b[0m \u001b[0mnew_df\u001b[0m\u001b[1;33m.\u001b[0m\u001b[0mta\u001b[0m\u001b[1;33m.\u001b[0m\u001b[0msma\u001b[0m\u001b[1;33m(\u001b[0m\u001b[0mlength\u001b[0m\u001b[1;33m=\u001b[0m\u001b[1;36m8\u001b[0m\u001b[1;33m,\u001b[0m \u001b[0mappend\u001b[0m\u001b[1;33m=\u001b[0m\u001b[1;32mTrue\u001b[0m\u001b[1;33m)\u001b[0m\u001b[1;33m\u001b[0m\u001b[1;33m\u001b[0m\u001b[0m\n\u001b[0;32m      4\u001b[0m \u001b[0mnew_df\u001b[0m\u001b[1;33m.\u001b[0m\u001b[0mta\u001b[0m\u001b[1;33m.\u001b[0m\u001b[0mrsi\u001b[0m\u001b[1;33m(\u001b[0m\u001b[0mappend\u001b[0m\u001b[1;33m=\u001b[0m\u001b[1;32mTrue\u001b[0m\u001b[1;33m)\u001b[0m\u001b[1;33m\u001b[0m\u001b[1;33m\u001b[0m\u001b[0m\n\u001b[0;32m      5\u001b[0m \u001b[0mnew_df\u001b[0m\u001b[1;33m.\u001b[0m\u001b[0mta\u001b[0m\u001b[1;33m.\u001b[0m\u001b[0mcci\u001b[0m\u001b[1;33m(\u001b[0m\u001b[0mlength\u001b[0m\u001b[1;33m=\u001b[0m\u001b[1;36m8\u001b[0m\u001b[1;33m,\u001b[0m \u001b[0mappend\u001b[0m\u001b[1;33m=\u001b[0m\u001b[1;32mTrue\u001b[0m\u001b[1;33m)\u001b[0m\u001b[1;33m\u001b[0m\u001b[1;33m\u001b[0m\u001b[0m\n",
      "\u001b[1;31mNameError\u001b[0m: name 'new_df' is not defined"
     ]
    }
   ],
   "source": [
    "import pandas_ta as ta\n",
    "new_df.ta.cores = 7\n",
    "new_df.ta.sma(length=8, append=True)\n",
    "new_df.ta.rsi(append=True)\n",
    "new_df.ta.cci(length=8, append=True)\n",
    "new_df['return std'] = new_df['Cum Returns'].rolling(2).std()\n",
    "new_df.ta.willr(length=k/2, append=True)\n",
    "new_df.ta.roc(length=k/2,append=True)\n",
    "new_df.ta.ema(append=True)\n",
    "new_df.ta.pdist(append=True)\n",
    "new_df.ta.variance(length=4,append=True)\n",
    "new_df.ta.psar(append=True)\n",
    "new_df = new_df.join(pd.get_dummies(new_df.Effect, prefix='Effect')) #one hot\n",
    "new_df"
   ]
  },
  {
   "cell_type": "code",
   "execution_count": null,
   "metadata": {},
   "outputs": [],
   "source": [
    "import seaborn as sns\n",
    "\n",
    "corr = new_df.corr()\n",
    "\n",
    "# Generate a mask for the upper triangle\n",
    "mask = np.triu(np.ones_like(corr, dtype=bool))\n",
    "\n",
    "# Set up the matplotlib figure\n",
    "f, ax = plt.subplots(figsize=(11, 9))\n",
    "\n",
    "# Generate a custom diverging colormap\n",
    "cmap = sns.diverging_palette(230, 20, as_cmap=True)\n",
    "\n",
    "# Draw the heatmap with the mask and correct aspect ratio\n",
    "sns.heatmap(corr, mask=mask, cmap=\"PuBuGn\", vmax=1, vmin=-1, center=0,\n",
    "            square=True, linewidths=.5, cbar_kws={\"shrink\": .5})"
   ]
  },
  {
   "cell_type": "code",
   "execution_count": null,
   "metadata": {},
   "outputs": [],
   "source": [
    "new_df"
   ]
  },
  {
   "cell_type": "code",
   "execution_count": null,
   "metadata": {},
   "outputs": [],
   "source": [
    "# def K_ranking(ticker_df):\n",
    "def K_ranking(start_time, end_time):\n",
    "    '''given a time range, this reads in OHLC data of the s&p500 and converts it into usable features.'''\n",
    "    "
   ]
  },
  {
   "cell_type": "markdown",
   "metadata": {},
   "source": [
    "# Modeling:\n",
    "Below we start to really look at feature engineering, not much here yet"
   ]
  },
  {
   "cell_type": "code",
   "execution_count": null,
   "metadata": {},
   "outputs": [],
   "source": [
    "# pd.read_csv('constituent_performance_4_months.csv')"
   ]
  },
  {
   "cell_type": "code",
   "execution_count": null,
   "metadata": {},
   "outputs": [],
   "source": [
    "# momentum/ model: given a huge dataset with daily/monthly data, we determine in an initial period J to find which tickers do the best/worst, "
   ]
  },
  {
   "cell_type": "code",
   "execution_count": null,
   "metadata": {},
   "outputs": [],
   "source": []
  },
  {
   "cell_type": "markdown",
   "metadata": {},
   "source": [
    "## ---notes below---"
   ]
  },
  {
   "cell_type": "markdown",
   "metadata": {},
   "source": [
    "# For the momentum analysis portion:\n",
    "The way we plan to proceed for now is to give each stock in our index (sp500) equal weights, in a sense, then rank them by some criteria on how well they are performing. we will adopt the observe J and hold K strategy as detailed in the paper, in which there is an observatory period of J quarters/months/days and a holding period of K quarters/months/days (Ben: idk, j might be able to overlap with k, we can do a lot with how we implement it). In short, we classify in the J period whether a particular ticker would be best treated with a momentum or reversal strategy, or some other. The classification task here is thus presented.\n",
    "\n",
    "momentum strategy: buy/give heavier weights over time to well performing stocks, as we assume they will continue to get better as per our understanding of momentum\n",
    "\n",
    "reversal strategy: Amir proposed we short underperforming stocks. This strategy we adopt *might* actually be different from what the paper is proposing, which is to buy and hold underperforming stocks as we predict it to rebound (Ben: fact check me pls).\n",
    "\n",
    "stocks in between: dont buy them, or leave them as they are...? feel free to share your own thoughts.\n",
    "\n",
    "# For the modeling portion: \n",
    "a lot still left untouched, ill think a bit harder about it tmr ...\n",
    "we want 3 models to do this kind of momentum analysis algorithmically vs manually, and pit it against a baseline of a simple buy and hold strategy. The parameters will come from a wealth of technical analysis (read: all the fancy hard to understand financial forecasting stuff) libraries already available (we probably wont be making most of them, beyond the simple stuff) but we do have a deadline to keep in mind."
   ]
  },
  {
   "source": [
    "momentum groups have positive trensds, high return rates, \n",
    "\n",
    "reversal groups are stocks taht are losing. \n",
    "dynamically managing the 500 tickers in s&p.\n",
    "\n",
    "hwo do we predict who is going into momentum group at t+k, and how accurate can we be?\n",
    "based on the pricing trends, who will be in reversal and who will be in momentum?\n",
    "    a lot of room to work with\n",
    "bactesting takes our predictions and our model trained to figure out how to weight the positions of the stocks, we would take that strategy and test it on historical data\n",
    "\n",
    "we would have a lot to talk about in terms of a paper, how to improve, what not to notice\n",
    "how it could be used in the real world market\n",
    "\n",
    "do we want to create our own feature on which ticker is profitable, or \n",
    "- returns? predicting reurns over a certain period\\\\\n",
    "- the momentum to reversal ratio for a particular \n",
    "- more categorical features interpreted from indicators\n",
    "if we could answer these questions, how to implement above\n",
    "predictions on who goes where, then we can find out which features can increase accuracy over time, then weights, risk parameter, where the algo tries to place the stocks momentum and reversal groups and then it meets the parameter that we feed\n",
    "how do I predict, say, can we predict the possible return and then see, based on that,..\n",
    "there are certain indicators \n",
    "moving averages, where they change is a trend reversal indicate where and when that happens\n",
    "if we need more features\n",
    "\n",
    "waht would be a good starting point for us to start on?\n",
    "- creating features? familiarizing ourselgves with this notebook\n",
    "- we bought here and held there\\\n",
    "- maybe correlation analysis? taking old data and shiftiing it around to create and make it as accurate as possible for one of those and then figuring out which one of these affect accuracy of who goes in what group.\n",
    "tldr the sooner we play with the features bnetter \n",
    "who is in momentum who is in reversal based on certain criteria?\n",
    "for momentum and reversal, we are predicting return, get rmse beneath 80, and then visualize how it places and then prefirmance. start iterating on that part. cumulative returns vs actual returns\n",
    "creating better features?\n",
    "tuning parameters to modify the suggestion you would give based on momentum group.\n",
    "no effect is that it dont make it int\n",
    "we have many variables to compare the two. lower profiitability and higher rate. if it kept your risk constrained and you still had a significant strategy\n",
    "\n"
   ],
   "cell_type": "markdown",
   "metadata": {}
  },
  {
   "source": [
    "analyze at j, hold for k. \n",
    "evaluating when it hits the lowest...?\n",
    "\n",
    "\n",
    "\n",
    "\n",
    "so we have stocks, are we predicting profitability? -its not a difficult question to ask. we are predicting \n",
    "\n",
    "shweta as a clasirifation problem, momentum nad reversal. \n",
    "if we went back to momentum and reversal?\n",
    "- with these, can we predict return? pick a momentum or reversal group \n",
    "we label with momentum and reversal. say we have a collection, and a group at certain points. predict return? if you were to hold them for a time. use calculations for holding, having a certain period  and hold? for a certain amount. eg 2010 to 2015, we have all the return data, take the "
   ],
   "cell_type": "markdown",
   "metadata": {}
  },
  {
   "source": [
    "could we create a concrete quesiton\n",
    "xgd regressor\n",
    "> check out the moethodology portion"
   ],
   "cell_type": "markdown",
   "metadata": {}
  }
 ],
 "metadata": {
  "kernelspec": {
   "name": "python3",
   "display_name": "Python 3.7.4 64-bit ('dsc190': pipenv)",
   "metadata": {
    "interpreter": {
     "hash": "e8c7d0e4fde2d427e9a5fa7c228e5b3fde1b07bcd87cbc5bf40713027eb29d09"
    }
   }
  },
  "language_info": {
   "codemirror_mode": {
    "name": "ipython",
    "version": 3
   },
   "file_extension": ".py",
   "mimetype": "text/x-python",
   "name": "python",
   "nbconvert_exporter": "python",
   "pygments_lexer": "ipython3",
   "version": "3.7.4-final"
  }
 },
 "nbformat": 4,
 "nbformat_minor": 2
}