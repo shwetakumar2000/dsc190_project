{
 "cells": [
  {
   "cell_type": "markdown",
   "metadata": {},
   "source": [
    "Ben: A lot of unfamiliar packages here, more on the way. pipenv/virtual environments are your friend. A quick disclaimer that I am barely familiar with this domain of financial modeling, i can be very wrong in my understanding of things. i hope my code is readable."
   ]
  },
  {
   "cell_type": "code",
   "execution_count": 19,
   "metadata": {},
   "outputs": [],
   "source": [
    "import numpy as np\n",
    "import pandas as pd\n",
    "import matplotlib.pyplot as plt\n",
    "from time import sleep\n",
    "\n",
    "from pandas_datareader import data as pdr\n",
    "import pandas_ta as ta #commented out for me for now, I (Ben) had some dependency issues\n",
    "import yfinance as yf\n",
    "# import quandl as qd # not used, ignor ples\n",
    "from backtesting import Backtest, Strategy"
   ]
  },
  {
   "cell_type": "code",
   "execution_count": 20,
   "metadata": {},
   "outputs": [],
   "source": [
    "yf.pdr_override() # for use with pandas-datareader, optional"
   ]
  },
  {
   "cell_type": "markdown",
   "metadata": {},
   "source": [
    "# Data Sources/Exploration\n",
    "## which stocks/tickers will we be looking at?\n",
    "We've more or less arbitrarily settled on the current S&P 500 index, a popular choice.\n",
    "## What data do we need, and where can we get it?\n",
    "We need OHLC (open high low close) data, on a monthly and daily scale. Using yfinance, a module that basically scrapes the ya\"hoo finance site for data on tickers, we can get most of what we need.\n",
    "## "
   ]
  },
  {
   "cell_type": "code",
   "execution_count": null,
   "metadata": {},
   "outputs": [],
   "source": []
  },
  {
   "cell_type": "code",
   "execution_count": 21,
   "metadata": {},
   "outputs": [
    {
     "output_type": "execute_result",
     "data": {
      "text/plain": [
       "0     AAPL\n",
       "1     MSFT\n",
       "2     AMZN\n",
       "3       FB\n",
       "4    GOOGL\n",
       "Name: Ticker, dtype: object"
      ]
     },
     "metadata": {},
     "execution_count": 21
    }
   ],
   "source": [
    "ticker = pd.read_csv('ticker.csv')['Ticker']\n",
    "tickers = ticker.to_list() # This is a list of all tickers in the SP500\n",
    "tickers = [x.replace('.','-') for x in tickers] # yahoo has '-' instead of '.' for tickers, eg BRK.B\n",
    "ticker.head()"
   ]
  },
  {
   "cell_type": "code",
   "execution_count": 22,
   "metadata": {},
   "outputs": [],
   "source": [
    "# tickers"
   ]
  },
  {
   "cell_type": "code",
   "execution_count": 23,
   "metadata": {},
   "outputs": [],
   "source": [
    "# sp_500 = {x:yf.Ticker(x) for x in tickers} # a dict of initialized yfinance tickers\n",
    "# sp_500['AAPL'].history(start='2019-01-01', end='2020-12-31', interval='1mo')\n",
    "# sp_500['AAPL'].history(start='2010-01-01', end='2020-12-31')"
   ]
  },
  {
   "cell_type": "code",
   "execution_count": 241,
   "metadata": {
    "tags": [
     "outputPrepend"
    ]
   },
   "outputs": [
    {
     "output_type": "stream",
     "name": "stdout",
     "text": [
      "ata!\n",
      "[*********************100%***********************]  1 of 1 completed\n",
      "Grabbing AJG data!\n",
      "[*********************100%***********************]  1 of 1 completed\n",
      "Grabbing FLT data!\n",
      "[*********************100%***********************]  1 of 1 completed\n",
      "Grabbing TTWO data!\n",
      "[*********************100%***********************]  1 of 1 completed\n",
      "Grabbing HSY data!\n",
      "[*********************100%***********************]  1 of 1 completed\n",
      "Grabbing CERN data!\n",
      "[*********************100%***********************]  1 of 1 completed\n",
      "Grabbing CDW data!\n",
      "[*********************100%***********************]  1 of 1 completed\n",
      "Grabbing FTNT data!\n",
      "[*********************100%***********************]  1 of 1 completed\n",
      "Grabbing OXY data!\n",
      "[*********************100%***********************]  1 of 1 completed\n",
      "Grabbing VTRS data!\n",
      "[*********************100%***********************]  1 of 1 completed\n",
      "Grabbing WST data!\n",
      "[*********************100%***********************]  1 of 1 completed\n",
      "Grabbing O data!\n",
      "[*********************100%***********************]  1 of 1 completed\n",
      "Grabbing MKC data!\n",
      "[*********************100%***********************]  1 of 1 completed\n",
      "Grabbing EIX data!\n",
      "[*********************100%***********************]  1 of 1 completed\n",
      "Grabbing PPL data!\n",
      "[*********************100%***********************]  1 of 1 completed\n",
      "Grabbing VMC data!\n",
      "[*********************100%***********************]  1 of 1 completed\n",
      "Grabbing HOLX data!\n",
      "[*********************100%***********************]  1 of 1 completed\n",
      "Grabbing EFX data!\n",
      "[*********************100%***********************]  1 of 1 completed\n",
      "Grabbing URI data!\n",
      "[*********************100%***********************]  1 of 1 completed\n",
      "Grabbing ARE data!\n",
      "[*********************100%***********************]  1 of 1 completed\n",
      "Grabbing NTRS data!\n",
      "[*********************100%***********************]  1 of 1 completed\n",
      "Grabbing SYF data!\n",
      "[*********************100%***********************]  1 of 1 completed\n",
      "Grabbing OKE data!\n",
      "[*********************100%***********************]  1 of 1 completed\n",
      "Grabbing MKTX data!\n",
      "[*********************100%***********************]  1 of 1 completed\n",
      "Grabbing CHD data!\n",
      "[*********************100%***********************]  1 of 1 completed\n",
      "Grabbing WDC data!\n",
      "[*********************100%***********************]  1 of 1 completed\n",
      "Grabbing MLM data!\n",
      "[*********************100%***********************]  1 of 1 completed\n",
      "Grabbing ODFL data!\n",
      "[*********************100%***********************]  1 of 1 completed\n",
      "Grabbing CTLT data!\n",
      "[*********************100%***********************]  1 of 1 completed\n",
      "Grabbing QRVO data!\n",
      "[*********************100%***********************]  1 of 1 completed\n",
      "Grabbing EXPE data!\n",
      "[*********************100%***********************]  1 of 1 completed\n",
      "Grabbing KMX data!\n",
      "[*********************100%***********************]  1 of 1 completed\n",
      "Grabbing VRSN data!\n",
      "[*********************100%***********************]  1 of 1 completed\n",
      "Grabbing GRMN data!\n",
      "[*********************100%***********************]  1 of 1 completed\n",
      "Grabbing KSU data!\n",
      "[*********************100%***********************]  1 of 1 completed\n",
      "Grabbing RF data!\n",
      "[*********************100%***********************]  1 of 1 completed\n",
      "Grabbing IP data!\n",
      "[*********************100%***********************]  1 of 1 completed\n",
      "Grabbing KEY data!\n",
      "[*********************100%***********************]  1 of 1 completed\n",
      "Grabbing TSN data!\n",
      "[*********************100%***********************]  1 of 1 completed\n",
      "Grabbing AES data!\n",
      "[*********************100%***********************]  1 of 1 completed\n",
      "Grabbing PAYC data!\n",
      "[*********************100%***********************]  1 of 1 completed\n",
      "Grabbing MTB data!\n",
      "[*********************100%***********************]  1 of 1 completed\n",
      "Grabbing TYL data!\n",
      "[*********************100%***********************]  1 of 1 completed\n",
      "Grabbing RSG data!\n",
      "[*********************100%***********************]  1 of 1 completed\n",
      "Grabbing COO data!\n",
      "[*********************100%***********************]  1 of 1 completed\n",
      "Grabbing LVS data!\n",
      "[*********************100%***********************]  1 of 1 completed\n",
      "Grabbing TSCO data!\n",
      "[*********************100%***********************]  1 of 1 completed\n",
      "Grabbing VTR data!\n",
      "[*********************100%***********************]  1 of 1 completed\n",
      "Grabbing TFX data!\n",
      "[*********************100%***********************]  1 of 1 completed\n",
      "Grabbing TRMB data!\n",
      "[*********************100%***********************]  1 of 1 completed\n",
      "Grabbing ETR data!\n",
      "[*********************100%***********************]  1 of 1 completed\n",
      "Grabbing ULTA data!\n",
      "[*********************100%***********************]  1 of 1 completed\n",
      "Grabbing HPE data!\n",
      "[*********************100%***********************]  1 of 1 completed\n",
      "Grabbing HAL data!\n",
      "[*********************100%***********************]  1 of 1 completed\n",
      "Grabbing AEE data!\n",
      "[*********************100%***********************]  1 of 1 completed\n",
      "Grabbing CFG data!\n",
      "[*********************100%***********************]  1 of 1 completed\n",
      "Grabbing XYL data!\n",
      "[*********************100%***********************]  1 of 1 completed\n",
      "Grabbing AMCR data!\n",
      "[*********************100%***********************]  1 of 1 completed\n",
      "Grabbing WAT data!\n",
      "[*********************100%***********************]  1 of 1 completed\n",
      "Grabbing DOV data!\n",
      "[*********************100%***********************]  1 of 1 completed\n",
      "Grabbing HIG data!\n",
      "[*********************100%***********************]  1 of 1 completed\n",
      "Grabbing ESS data!\n",
      "[*********************100%***********************]  1 of 1 completed\n",
      "Grabbing ANET data!\n",
      "[*********************100%***********************]  1 of 1 completed\n",
      "Grabbing NUE data!\n",
      "[*********************100%***********************]  1 of 1 completed\n",
      "Grabbing FE data!\n",
      "[*********************100%***********************]  1 of 1 completed\n",
      "Grabbing ALB data!\n",
      "[*********************100%***********************]  1 of 1 completed\n",
      "Grabbing BR data!\n",
      "[*********************100%***********************]  1 of 1 completed\n",
      "Grabbing HES data!\n",
      "[*********************100%***********************]  1 of 1 completed\n",
      "Grabbing CTXS data!\n",
      "[*********************100%***********************]  1 of 1 completed\n",
      "Grabbing DRI data!\n",
      "[*********************100%***********************]  1 of 1 completed\n",
      "Grabbing CCL data!\n",
      "[*********************100%***********************]  1 of 1 completed\n",
      "Grabbing GWW data!\n",
      "[*********************100%***********************]  1 of 1 completed\n",
      "Grabbing CAG data!\n",
      "[*********************100%***********************]  1 of 1 completed\n",
      "Grabbing NDAQ data!\n",
      "[*********************100%***********************]  1 of 1 completed\n",
      "Grabbing DGX data!\n",
      "[*********************100%***********************]  1 of 1 completed\n",
      "Grabbing PKI data!\n",
      "[*********************100%***********************]  1 of 1 completed\n",
      "Grabbing MPWR data!\n",
      "[*********************100%***********************]  1 of 1 completed\n",
      "Grabbing NVR data!\n",
      "[*********************100%***********************]  1 of 1 completed\n",
      "Grabbing PEAK data!\n",
      "[*********************100%***********************]  1 of 1 completed\n",
      "Grabbing IR data!\n",
      "[*********************100%***********************]  1 of 1 completed\n",
      "Grabbing VAR data!\n",
      "[*********************100%***********************]  1 of 1 completed\n",
      "Grabbing AKAM data!\n",
      "[*********************100%***********************]  1 of 1 completed\n",
      "Grabbing IT data!\n",
      "[*********************100%***********************]  1 of 1 completed\n",
      "Grabbing CMS data!\n",
      "[*********************100%***********************]  1 of 1 completed\n",
      "Grabbing STX data!\n",
      "[*********************100%***********************]  1 of 1 completed\n",
      "Grabbing EXPD data!\n",
      "[*********************100%***********************]  1 of 1 completed\n",
      "Grabbing MAA data!\n",
      "[*********************100%***********************]  1 of 1 completed\n",
      "Grabbing BKR data!\n",
      "[*********************100%***********************]  1 of 1 completed\n",
      "Grabbing STE data!\n",
      "[*********************100%***********************]  1 of 1 completed\n",
      "Grabbing DRE data!\n",
      "[*********************100%***********************]  1 of 1 completed\n",
      "Grabbing NTAP data!\n",
      "[*********************100%***********************]  1 of 1 completed\n",
      "Grabbing CE data!\n",
      "[*********************100%***********************]  1 of 1 completed\n",
      "Grabbing HBAN data!\n",
      "[*********************100%***********************]  1 of 1 completed\n",
      "Grabbing INCY data!\n",
      "[*********************100%***********************]  1 of 1 completed\n",
      "Grabbing ABC data!\n",
      "[*********************100%***********************]  1 of 1 completed\n",
      "Grabbing CAH data!\n",
      "[*********************100%***********************]  1 of 1 completed\n",
      "Grabbing EXR data!\n",
      "[*********************100%***********************]  1 of 1 completed\n",
      "Grabbing EMN data!\n",
      "[*********************100%***********************]  1 of 1 completed\n",
      "Grabbing AVY data!\n",
      "[*********************100%***********************]  1 of 1 completed\n",
      "Grabbing IEX data!\n",
      "[*********************100%***********************]  1 of 1 completed\n",
      "Grabbing DPZ data!\n",
      "[*********************100%***********************]  1 of 1 completed\n",
      "Grabbing GPC data!\n",
      "[*********************100%***********************]  1 of 1 completed\n",
      "Grabbing J data!\n",
      "[*********************100%***********************]  1 of 1 completed\n",
      "Grabbing ABMD data!\n",
      "[*********************100%***********************]  1 of 1 completed\n",
      "Grabbing K data!\n",
      "[*********************100%***********************]  1 of 1 completed\n",
      "Grabbing TDY data!\n",
      "[*********************100%***********************]  1 of 1 completed\n",
      "Grabbing WAB data!\n",
      "[*********************100%***********************]  1 of 1 completed\n",
      "Grabbing MGM data!\n",
      "[*********************100%***********************]  1 of 1 completed\n",
      "Grabbing RJF data!\n",
      "[*********************100%***********************]  1 of 1 completed\n",
      "Grabbing OMC data!\n",
      "[*********************100%***********************]  1 of 1 completed\n",
      "Grabbing FMC data!\n",
      "[*********************100%***********************]  1 of 1 completed\n",
      "Grabbing LDOS data!\n",
      "[*********************100%***********************]  1 of 1 completed\n",
      "Grabbing MAS data!\n",
      "[*********************100%***********************]  1 of 1 completed\n",
      "Grabbing BIO data!\n",
      "[*********************100%***********************]  1 of 1 completed\n",
      "Grabbing PFG data!\n",
      "[*********************100%***********************]  1 of 1 completed\n",
      "Grabbing BF-B data!\n",
      "[*********************100%***********************]  1 of 1 completed\n",
      "Grabbing RCL data!\n",
      "[*********************100%***********************]  1 of 1 completed\n",
      "Grabbing CINF data!\n",
      "[*********************100%***********************]  1 of 1 completed\n",
      "Grabbing POOL data!\n",
      "[*********************100%***********************]  1 of 1 completed\n",
      "Grabbing UAL data!\n",
      "[*********************100%***********************]  1 of 1 completed\n",
      "Grabbing HRL data!\n",
      "[*********************100%***********************]  1 of 1 completed\n",
      "Grabbing BXP data!\n",
      "[*********************100%***********************]  1 of 1 completed\n",
      "Grabbing SJM data!\n",
      "[*********************100%***********************]  1 of 1 completed\n",
      "Grabbing FFIV data!\n",
      "[*********************100%***********************]  1 of 1 completed\n",
      "Grabbing NLOK data!\n",
      "[*********************100%***********************]  1 of 1 completed\n",
      "Grabbing PKG data!\n",
      "[*********************100%***********************]  1 of 1 completed\n",
      "Grabbing UDR data!\n",
      "[*********************100%***********************]  1 of 1 completed\n",
      "Grabbing PHM data!\n",
      "[*********************100%***********************]  1 of 1 completed\n",
      "Grabbing EVRG data!\n",
      "[*********************100%***********************]  1 of 1 completed\n",
      "Grabbing DVN data!\n",
      "[*********************100%***********************]  1 of 1 completed\n",
      "Grabbing WHR data!\n",
      "[*********************100%***********************]  1 of 1 completed\n",
      "Grabbing JBHT data!\n",
      "[*********************100%***********************]  1 of 1 completed\n",
      "Grabbing LYV data!\n",
      "[*********************100%***********************]  1 of 1 completed\n",
      "Grabbing CHRW data!\n",
      "[*********************100%***********************]  1 of 1 completed\n",
      "Grabbing FBHS data!\n",
      "[*********************100%***********************]  1 of 1 completed\n",
      "Grabbing DISCK data!\n",
      "[*********************100%***********************]  1 of 1 completed\n",
      "Grabbing LNT data!\n",
      "[*********************100%***********************]  1 of 1 completed\n",
      "Grabbing XRAY data!\n",
      "[*********************100%***********************]  1 of 1 completed\n",
      "Grabbing WYNN data!\n",
      "[*********************100%***********************]  1 of 1 completed\n",
      "Grabbing TXT data!\n",
      "[*********************100%***********************]  1 of 1 completed\n",
      "Grabbing CNP data!\n",
      "[*********************100%***********************]  1 of 1 completed\n",
      "Grabbing LUMN data!\n",
      "[*********************100%***********************]  1 of 1 completed\n",
      "Grabbing LB data!\n",
      "[*********************100%***********************]  1 of 1 completed\n",
      "Grabbing WRK data!\n",
      "[*********************100%***********************]  1 of 1 completed\n",
      "Grabbing HAS data!\n",
      "[*********************100%***********************]  1 of 1 completed\n",
      "Grabbing ATO data!\n",
      "[*********************100%***********************]  1 of 1 completed\n",
      "Grabbing L data!\n",
      "[*********************100%***********************]  1 of 1 completed\n",
      "Grabbing LW data!\n",
      "[*********************100%***********************]  1 of 1 completed\n",
      "Grabbing JKHY data!\n",
      "[*********************100%***********************]  1 of 1 completed\n",
      "Grabbing HWM data!\n",
      "[*********************100%***********************]  1 of 1 completed\n",
      "Grabbing HST data!\n",
      "[*********************100%***********************]  1 of 1 completed\n",
      "Grabbing FANG data!\n",
      "[*********************100%***********************]  1 of 1 completed\n",
      "Grabbing AAL data!\n",
      "[*********************100%***********************]  1 of 1 completed\n",
      "Grabbing TPR data!\n",
      "[*********************100%***********************]  1 of 1 completed\n",
      "Grabbing PWR data!\n",
      "[*********************100%***********************]  1 of 1 completed\n",
      "Grabbing FOXA data!\n",
      "[*********************100%***********************]  1 of 1 completed\n",
      "Grabbing BWA data!\n",
      "[*********************100%***********************]  1 of 1 completed\n",
      "Grabbing MOS data!\n",
      "[*********************100%***********************]  1 of 1 completed\n",
      "Grabbing AAP data!\n",
      "[*********************100%***********************]  1 of 1 completed\n",
      "Grabbing LKQ data!\n",
      "[*********************100%***********************]  1 of 1 completed\n",
      "Grabbing CBOE data!\n",
      "[*********************100%***********************]  1 of 1 completed\n",
      "Grabbing MHK data!\n",
      "[*********************100%***********************]  1 of 1 completed\n",
      "Grabbing SNA data!\n",
      "[*********************100%***********************]  1 of 1 completed\n",
      "Grabbing ALLE data!\n",
      "[*********************100%***********************]  1 of 1 completed\n",
      "Grabbing HSIC data!\n",
      "[*********************100%***********************]  1 of 1 completed\n",
      "Grabbing UHS data!\n",
      "[*********************100%***********************]  1 of 1 completed\n",
      "Grabbing NRG data!\n",
      "[*********************100%***********************]  1 of 1 completed\n",
      "Grabbing LNC data!\n",
      "[*********************100%***********************]  1 of 1 completed\n",
      "Grabbing WU data!\n",
      "[*********************100%***********************]  1 of 1 completed\n",
      "Grabbing IPG data!\n",
      "[*********************100%***********************]  1 of 1 completed\n",
      "Grabbing CF data!\n",
      "[*********************100%***********************]  1 of 1 completed\n",
      "Grabbing RE data!\n",
      "[*********************100%***********************]  1 of 1 completed\n",
      "Grabbing WRB data!\n",
      "[*********************100%***********************]  1 of 1 completed\n",
      "Grabbing IRM data!\n",
      "[*********************100%***********************]  1 of 1 completed\n",
      "Grabbing CPB data!\n",
      "[*********************100%***********************]  1 of 1 completed\n",
      "Grabbing NWSA data!\n",
      "[*********************100%***********************]  1 of 1 completed\n",
      "Grabbing CMA data!\n",
      "[*********************100%***********************]  1 of 1 completed\n",
      "Grabbing IPGP data!\n",
      "[*********************100%***********************]  1 of 1 completed\n",
      "Grabbing PNR data!\n",
      "[*********************100%***********************]  1 of 1 completed\n",
      "Grabbing GL data!\n",
      "[*********************100%***********************]  1 of 1 completed\n",
      "Grabbing NWL data!\n",
      "[*********************100%***********************]  1 of 1 completed\n",
      "Grabbing IVZ data!\n",
      "[*********************100%***********************]  1 of 1 completed\n",
      "Grabbing NI data!\n",
      "[*********************100%***********************]  1 of 1 completed\n",
      "Grabbing PNW data!\n",
      "[*********************100%***********************]  1 of 1 completed\n",
      "Grabbing RHI data!\n",
      "[*********************100%***********************]  1 of 1 completed\n",
      "Grabbing ZION data!\n",
      "[*********************100%***********************]  1 of 1 completed\n",
      "Grabbing TAP data!\n",
      "[*********************100%***********************]  1 of 1 completed\n",
      "Grabbing NLSN data!\n",
      "[*********************100%***********************]  1 of 1 completed\n",
      "Grabbing REG data!\n",
      "[*********************100%***********************]  1 of 1 completed\n",
      "Grabbing ROL data!\n",
      "[*********************100%***********************]  1 of 1 completed\n",
      "Grabbing JNPR data!\n",
      "[*********************100%***********************]  1 of 1 completed\n",
      "Grabbing AOS data!\n",
      "[*********************100%***********************]  1 of 1 completed\n",
      "Grabbing DISH data!\n",
      "[*********************100%***********************]  1 of 1 completed\n",
      "Grabbing NCLH data!\n",
      "[*********************100%***********************]  1 of 1 completed\n",
      "Grabbing DVA data!\n",
      "[*********************100%***********************]  1 of 1 completed\n",
      "Grabbing BEN data!\n",
      "[*********************100%***********************]  1 of 1 completed\n",
      "Grabbing KIM data!\n",
      "[*********************100%***********************]  1 of 1 completed\n",
      "Grabbing DISCA data!\n",
      "[*********************100%***********************]  1 of 1 completed\n",
      "Grabbing MRO data!\n",
      "[*********************100%***********************]  1 of 1 completed\n",
      "Grabbing AIZ data!\n",
      "[*********************100%***********************]  1 of 1 completed\n",
      "Grabbing ALK data!\n",
      "[*********************100%***********************]  1 of 1 completed\n",
      "Grabbing COG data!\n",
      "[*********************100%***********************]  1 of 1 completed\n",
      "Grabbing FLIR data!\n",
      "[*********************100%***********************]  1 of 1 completed\n",
      "Grabbing HII data!\n",
      "[*********************100%***********************]  1 of 1 completed\n",
      "Grabbing APA data!\n",
      "[*********************100%***********************]  1 of 1 completed\n",
      "Grabbing FRT data!\n",
      "[*********************100%***********************]  1 of 1 completed\n",
      "Grabbing PVH data!\n",
      "[*********************100%***********************]  1 of 1 completed\n",
      "Grabbing SEE data!\n",
      "[*********************100%***********************]  1 of 1 completed\n",
      "Grabbing PBCT data!\n",
      "[*********************100%***********************]  1 of 1 completed\n",
      "Grabbing DXC data!\n",
      "[*********************100%***********************]  1 of 1 completed\n",
      "Grabbing HBI data!\n",
      "[*********************100%***********************]  1 of 1 completed\n",
      "Grabbing PRGO data!\n",
      "[*********************100%***********************]  1 of 1 completed\n",
      "Grabbing VNO data!\n",
      "[*********************100%***********************]  1 of 1 completed\n",
      "Grabbing NOV data!\n",
      "[*********************100%***********************]  1 of 1 completed\n",
      "Grabbing LEG data!\n",
      "[*********************100%***********************]  1 of 1 completed\n",
      "Grabbing RL data!\n",
      "[*********************100%***********************]  1 of 1 completed\n",
      "Grabbing UNM data!\n",
      "[*********************100%***********************]  1 of 1 completed\n",
      "Grabbing FLS data!\n",
      "[*********************100%***********************]  1 of 1 completed\n",
      "Grabbing HFC data!\n",
      "[*********************100%***********************]  1 of 1 completed\n",
      "Grabbing GPS data!\n",
      "[*********************100%***********************]  1 of 1 completed\n",
      "Grabbing FOX data!\n",
      "[*********************100%***********************]  1 of 1 completed\n",
      "Grabbing SLG data!\n",
      "[*********************100%***********************]  1 of 1 completed\n",
      "Grabbing VNT data!\n",
      "[*********************100%***********************]  1 of 1 completed\n",
      "Grabbing UAA data!\n",
      "[*********************100%***********************]  1 of 1 completed\n",
      "Grabbing XRX data!\n",
      "[*********************100%***********************]  1 of 1 completed\n",
      "Grabbing UA data!\n",
      "[*********************100%***********************]  1 of 1 completed\n",
      "Grabbing NWS data!\n",
      "[*********************100%***********************]  1 of 1 completed\n"
     ]
    },
    {
     "output_type": "execute_result",
     "data": {
      "text/plain": [
       "                  Open        High         Low       Close   Adj Close  \\\n",
       "Date                                                                     \n",
       "2010-02-01    6.870357    7.327500    6.816071    7.307857    6.294721   \n",
       "2010-03-01    7.348214    8.481429    7.337500    8.392857    7.229299   \n",
       "2010-04-01    8.478929    9.730714    8.312500    9.324643    8.031907   \n",
       "2010-05-01    9.422857    9.567143    7.116071    9.174286    7.902396   \n",
       "2010-06-01    9.274643    9.964643    8.650000    8.983214    7.737815   \n",
       "...                ...         ...         ...         ...         ...   \n",
       "2020-12-01  121.010002  138.789993  120.010002  132.690002  132.492020   \n",
       "2021-01-01  133.520004  145.089996  126.379997  131.960007  131.763107   \n",
       "2021-02-01  133.750000  137.880005  118.389999  121.260002  121.079071   \n",
       "2021-03-01  123.750000  128.720001  118.620003  120.129997  120.129997   \n",
       "2021-03-05  120.980003  121.934998  117.570000  121.419998  121.419998   \n",
       "\n",
       "                  Volume  \n",
       "Date                      \n",
       "2010-02-01  1.077608e+10  \n",
       "2010-03-01  1.215417e+10  \n",
       "2010-04-01  1.236713e+10  \n",
       "2010-05-01  1.808265e+10  \n",
       "2010-06-01  1.665125e+10  \n",
       "...                  ...  \n",
       "2020-12-01  2.322957e+09  \n",
       "2021-01-01  2.240534e+09  \n",
       "2021-02-01  1.833204e+09  \n",
       "2021-03-01  5.077193e+08  \n",
       "2021-03-05  1.506211e+08  \n",
       "\n",
       "[136 rows x 6 columns]"
      ],
      "text/html": "<div>\n<style scoped>\n    .dataframe tbody tr th:only-of-type {\n        vertical-align: middle;\n    }\n\n    .dataframe tbody tr th {\n        vertical-align: top;\n    }\n\n    .dataframe thead th {\n        text-align: right;\n    }\n</style>\n<table border=\"1\" class=\"dataframe\">\n  <thead>\n    <tr style=\"text-align: right;\">\n      <th></th>\n      <th>Open</th>\n      <th>High</th>\n      <th>Low</th>\n      <th>Close</th>\n      <th>Adj Close</th>\n      <th>Volume</th>\n    </tr>\n    <tr>\n      <th>Date</th>\n      <th></th>\n      <th></th>\n      <th></th>\n      <th></th>\n      <th></th>\n      <th></th>\n    </tr>\n  </thead>\n  <tbody>\n    <tr>\n      <th>2010-02-01</th>\n      <td>6.870357</td>\n      <td>7.327500</td>\n      <td>6.816071</td>\n      <td>7.307857</td>\n      <td>6.294721</td>\n      <td>1.077608e+10</td>\n    </tr>\n    <tr>\n      <th>2010-03-01</th>\n      <td>7.348214</td>\n      <td>8.481429</td>\n      <td>7.337500</td>\n      <td>8.392857</td>\n      <td>7.229299</td>\n      <td>1.215417e+10</td>\n    </tr>\n    <tr>\n      <th>2010-04-01</th>\n      <td>8.478929</td>\n      <td>9.730714</td>\n      <td>8.312500</td>\n      <td>9.324643</td>\n      <td>8.031907</td>\n      <td>1.236713e+10</td>\n    </tr>\n    <tr>\n      <th>2010-05-01</th>\n      <td>9.422857</td>\n      <td>9.567143</td>\n      <td>7.116071</td>\n      <td>9.174286</td>\n      <td>7.902396</td>\n      <td>1.808265e+10</td>\n    </tr>\n    <tr>\n      <th>2010-06-01</th>\n      <td>9.274643</td>\n      <td>9.964643</td>\n      <td>8.650000</td>\n      <td>8.983214</td>\n      <td>7.737815</td>\n      <td>1.665125e+10</td>\n    </tr>\n    <tr>\n      <th>...</th>\n      <td>...</td>\n      <td>...</td>\n      <td>...</td>\n      <td>...</td>\n      <td>...</td>\n      <td>...</td>\n    </tr>\n    <tr>\n      <th>2020-12-01</th>\n      <td>121.010002</td>\n      <td>138.789993</td>\n      <td>120.010002</td>\n      <td>132.690002</td>\n      <td>132.492020</td>\n      <td>2.322957e+09</td>\n    </tr>\n    <tr>\n      <th>2021-01-01</th>\n      <td>133.520004</td>\n      <td>145.089996</td>\n      <td>126.379997</td>\n      <td>131.960007</td>\n      <td>131.763107</td>\n      <td>2.240534e+09</td>\n    </tr>\n    <tr>\n      <th>2021-02-01</th>\n      <td>133.750000</td>\n      <td>137.880005</td>\n      <td>118.389999</td>\n      <td>121.260002</td>\n      <td>121.079071</td>\n      <td>1.833204e+09</td>\n    </tr>\n    <tr>\n      <th>2021-03-01</th>\n      <td>123.750000</td>\n      <td>128.720001</td>\n      <td>118.620003</td>\n      <td>120.129997</td>\n      <td>120.129997</td>\n      <td>5.077193e+08</td>\n    </tr>\n    <tr>\n      <th>2021-03-05</th>\n      <td>120.980003</td>\n      <td>121.934998</td>\n      <td>117.570000</td>\n      <td>121.419998</td>\n      <td>121.419998</td>\n      <td>1.506211e+08</td>\n    </tr>\n  </tbody>\n</table>\n<p>136 rows × 6 columns</p>\n</div>"
     },
     "metadata": {},
     "execution_count": 241
    }
   ],
   "source": [
    "## below is how I got monthly and daily pandas dataframes of all stocks in one huge dict.  \n",
    "monthly_sp500 = {}\n",
    "for tkr in tickers: # run all 500 at your own risk, it takes a while lol\n",
    "# for tkr in tickers[:10]:\n",
    "    print('Grabbing ' + tkr + \" data!\")\n",
    "    # monthly_sp500[tkr] = yf.Ticker(tkr).history(start='2010-01-01', end='2020-12-31', interval='1mo')\n",
    "    monthly_sp500[tkr] = pdr.get_data_yahoo(tkr, start=\"2010-01-04\", interval = \"1mo\").drop_duplicates()\n",
    "    sleep(.1) # not planning on ddos-ing yahoo today\n",
    "monthly_sp500['AAPL'] # take AAPL, for example; TODO deal with the pesky NaNs properly"
   ]
  },
  {
   "cell_type": "code",
   "execution_count": 243,
   "metadata": {},
   "outputs": [
    {
     "output_type": "execute_result",
     "data": {
      "text/plain": [
       "                  Open        High         Low       Close   Adj Close  \\\n",
       "Date                                                                     \n",
       "2010-02-01   28.389999   29.030001   27.570000   28.670000   22.278278   \n",
       "2010-02-16         NaN         NaN         NaN         NaN         NaN   \n",
       "2010-03-01   28.770000   30.570000   28.240000   29.290001   22.866486   \n",
       "2010-04-01   29.350000   31.580000   28.620001   30.540001   23.842352   \n",
       "2010-05-01   30.670000   31.059999   24.559999   25.799999   20.141876   \n",
       "...                ...         ...         ...         ...         ...   \n",
       "2020-12-01  214.509995  227.179993  209.110001  222.419998  221.908905   \n",
       "2021-01-01  222.529999  242.639999  211.940002  231.960007  231.426987   \n",
       "2021-02-01  235.059998  246.130005  227.880005  232.380005  231.846024   \n",
       "2021-03-01  235.899994  237.470001  224.259995  226.729996  226.729996   \n",
       "2021-03-05  229.516006  233.270004  226.490005  231.600006  231.600006   \n",
       "\n",
       "                  Volume  \n",
       "Date                      \n",
       "2010-02-01  1.074643e+09  \n",
       "2010-02-16           NaN  \n",
       "2010-03-01  1.110237e+09  \n",
       "2010-04-01  1.319030e+09  \n",
       "2010-05-01  1.720130e+09  \n",
       "...                  ...  \n",
       "2020-12-01  5.948060e+08  \n",
       "2021-01-01  6.480981e+08  \n",
       "2021-02-01  4.909253e+08  \n",
       "2021-03-01  1.266441e+08  \n",
       "2021-03-05  4.038706e+07  \n",
       "\n",
       "[136 rows x 6 columns]"
      ],
      "text/html": "<div>\n<style scoped>\n    .dataframe tbody tr th:only-of-type {\n        vertical-align: middle;\n    }\n\n    .dataframe tbody tr th {\n        vertical-align: top;\n    }\n\n    .dataframe thead th {\n        text-align: right;\n    }\n</style>\n<table border=\"1\" class=\"dataframe\">\n  <thead>\n    <tr style=\"text-align: right;\">\n      <th></th>\n      <th>Open</th>\n      <th>High</th>\n      <th>Low</th>\n      <th>Close</th>\n      <th>Adj Close</th>\n      <th>Volume</th>\n    </tr>\n    <tr>\n      <th>Date</th>\n      <th></th>\n      <th></th>\n      <th></th>\n      <th></th>\n      <th></th>\n      <th></th>\n    </tr>\n  </thead>\n  <tbody>\n    <tr>\n      <th>2010-02-01</th>\n      <td>28.389999</td>\n      <td>29.030001</td>\n      <td>27.570000</td>\n      <td>28.670000</td>\n      <td>22.278278</td>\n      <td>1.074643e+09</td>\n    </tr>\n    <tr>\n      <th>2010-02-16</th>\n      <td>NaN</td>\n      <td>NaN</td>\n      <td>NaN</td>\n      <td>NaN</td>\n      <td>NaN</td>\n      <td>NaN</td>\n    </tr>\n    <tr>\n      <th>2010-03-01</th>\n      <td>28.770000</td>\n      <td>30.570000</td>\n      <td>28.240000</td>\n      <td>29.290001</td>\n      <td>22.866486</td>\n      <td>1.110237e+09</td>\n    </tr>\n    <tr>\n      <th>2010-04-01</th>\n      <td>29.350000</td>\n      <td>31.580000</td>\n      <td>28.620001</td>\n      <td>30.540001</td>\n      <td>23.842352</td>\n      <td>1.319030e+09</td>\n    </tr>\n    <tr>\n      <th>2010-05-01</th>\n      <td>30.670000</td>\n      <td>31.059999</td>\n      <td>24.559999</td>\n      <td>25.799999</td>\n      <td>20.141876</td>\n      <td>1.720130e+09</td>\n    </tr>\n    <tr>\n      <th>...</th>\n      <td>...</td>\n      <td>...</td>\n      <td>...</td>\n      <td>...</td>\n      <td>...</td>\n      <td>...</td>\n    </tr>\n    <tr>\n      <th>2020-12-01</th>\n      <td>214.509995</td>\n      <td>227.179993</td>\n      <td>209.110001</td>\n      <td>222.419998</td>\n      <td>221.908905</td>\n      <td>5.948060e+08</td>\n    </tr>\n    <tr>\n      <th>2021-01-01</th>\n      <td>222.529999</td>\n      <td>242.639999</td>\n      <td>211.940002</td>\n      <td>231.960007</td>\n      <td>231.426987</td>\n      <td>6.480981e+08</td>\n    </tr>\n    <tr>\n      <th>2021-02-01</th>\n      <td>235.059998</td>\n      <td>246.130005</td>\n      <td>227.880005</td>\n      <td>232.380005</td>\n      <td>231.846024</td>\n      <td>4.909253e+08</td>\n    </tr>\n    <tr>\n      <th>2021-03-01</th>\n      <td>235.899994</td>\n      <td>237.470001</td>\n      <td>224.259995</td>\n      <td>226.729996</td>\n      <td>226.729996</td>\n      <td>1.266441e+08</td>\n    </tr>\n    <tr>\n      <th>2021-03-05</th>\n      <td>229.516006</td>\n      <td>233.270004</td>\n      <td>226.490005</td>\n      <td>231.600006</td>\n      <td>231.600006</td>\n      <td>4.038706e+07</td>\n    </tr>\n  </tbody>\n</table>\n<p>136 rows × 6 columns</p>\n</div>"
     },
     "metadata": {},
     "execution_count": 243
    }
   ],
   "source": [
    "monthly_sp500['MSFT']"
   ]
  },
  {
   "cell_type": "code",
   "execution_count": 26,
   "metadata": {
    "tags": []
   },
   "outputs": [
    {
     "output_type": "stream",
     "name": "stdout",
     "text": [
      "Grabbing AAPL data!\n",
      "[*********************100%***********************]  1 of 1 completed\n",
      "Grabbing MSFT data!\n",
      "[*********************100%***********************]  1 of 1 completed\n",
      "Grabbing AMZN data!\n",
      "[*********************100%***********************]  1 of 1 completed\n",
      "Grabbing FB data!\n",
      "[*********************100%***********************]  1 of 1 completed\n",
      "Grabbing GOOGL data!\n",
      "[*********************100%***********************]  1 of 1 completed\n",
      "Grabbing GOOG data!\n",
      "[*********************100%***********************]  1 of 1 completed\n",
      "Grabbing TSLA data!\n",
      "[*********************100%***********************]  1 of 1 completed\n",
      "Grabbing BRK-B data!\n",
      "[*********************100%***********************]  1 of 1 completed\n",
      "Grabbing JPM data!\n",
      "[*********************100%***********************]  1 of 1 completed\n",
      "Grabbing JNJ data!\n",
      "[*********************100%***********************]  1 of 1 completed\n"
     ]
    },
    {
     "output_type": "execute_result",
     "data": {
      "text/plain": [
       "                  Open        High         Low       Close   Adj Close  \\\n",
       "Date                                                                     \n",
       "2010-01-04    7.622500    7.660714    7.585000    7.643214    6.583586   \n",
       "2010-01-05    7.664286    7.699643    7.616071    7.656429    6.594968   \n",
       "2010-01-06    7.656429    7.686786    7.526786    7.534643    6.490066   \n",
       "2010-01-07    7.562500    7.571429    7.466071    7.520714    6.478067   \n",
       "2010-01-08    7.510714    7.571429    7.466429    7.570714    6.521136   \n",
       "...                ...         ...         ...         ...         ...   \n",
       "2021-03-01  123.750000  127.930000  122.790001  127.790001  127.790001   \n",
       "2021-03-02  128.410004  128.720001  125.010002  125.120003  125.120003   \n",
       "2021-03-03  124.809998  125.709999  121.839996  122.059998  122.059998   \n",
       "2021-03-04  121.750000  123.599998  118.620003  120.129997  120.129997   \n",
       "2021-03-05  120.980003  121.669998  117.570000  121.269302  121.269302   \n",
       "\n",
       "               Volume  \n",
       "Date                   \n",
       "2010-01-04  493729600  \n",
       "2010-01-05  601904800  \n",
       "2010-01-06  552160000  \n",
       "2010-01-07  477131200  \n",
       "2010-01-08  447610800  \n",
       "...               ...  \n",
       "2021-03-01  115998300  \n",
       "2021-03-02  102015300  \n",
       "2021-03-03  112430400  \n",
       "2021-03-04  177275300  \n",
       "2021-03-05  120328215  \n",
       "\n",
       "[2812 rows x 6 columns]"
      ],
      "text/html": "<div>\n<style scoped>\n    .dataframe tbody tr th:only-of-type {\n        vertical-align: middle;\n    }\n\n    .dataframe tbody tr th {\n        vertical-align: top;\n    }\n\n    .dataframe thead th {\n        text-align: right;\n    }\n</style>\n<table border=\"1\" class=\"dataframe\">\n  <thead>\n    <tr style=\"text-align: right;\">\n      <th></th>\n      <th>Open</th>\n      <th>High</th>\n      <th>Low</th>\n      <th>Close</th>\n      <th>Adj Close</th>\n      <th>Volume</th>\n    </tr>\n    <tr>\n      <th>Date</th>\n      <th></th>\n      <th></th>\n      <th></th>\n      <th></th>\n      <th></th>\n      <th></th>\n    </tr>\n  </thead>\n  <tbody>\n    <tr>\n      <th>2010-01-04</th>\n      <td>7.622500</td>\n      <td>7.660714</td>\n      <td>7.585000</td>\n      <td>7.643214</td>\n      <td>6.583586</td>\n      <td>493729600</td>\n    </tr>\n    <tr>\n      <th>2010-01-05</th>\n      <td>7.664286</td>\n      <td>7.699643</td>\n      <td>7.616071</td>\n      <td>7.656429</td>\n      <td>6.594968</td>\n      <td>601904800</td>\n    </tr>\n    <tr>\n      <th>2010-01-06</th>\n      <td>7.656429</td>\n      <td>7.686786</td>\n      <td>7.526786</td>\n      <td>7.534643</td>\n      <td>6.490066</td>\n      <td>552160000</td>\n    </tr>\n    <tr>\n      <th>2010-01-07</th>\n      <td>7.562500</td>\n      <td>7.571429</td>\n      <td>7.466071</td>\n      <td>7.520714</td>\n      <td>6.478067</td>\n      <td>477131200</td>\n    </tr>\n    <tr>\n      <th>2010-01-08</th>\n      <td>7.510714</td>\n      <td>7.571429</td>\n      <td>7.466429</td>\n      <td>7.570714</td>\n      <td>6.521136</td>\n      <td>447610800</td>\n    </tr>\n    <tr>\n      <th>...</th>\n      <td>...</td>\n      <td>...</td>\n      <td>...</td>\n      <td>...</td>\n      <td>...</td>\n      <td>...</td>\n    </tr>\n    <tr>\n      <th>2021-03-01</th>\n      <td>123.750000</td>\n      <td>127.930000</td>\n      <td>122.790001</td>\n      <td>127.790001</td>\n      <td>127.790001</td>\n      <td>115998300</td>\n    </tr>\n    <tr>\n      <th>2021-03-02</th>\n      <td>128.410004</td>\n      <td>128.720001</td>\n      <td>125.010002</td>\n      <td>125.120003</td>\n      <td>125.120003</td>\n      <td>102015300</td>\n    </tr>\n    <tr>\n      <th>2021-03-03</th>\n      <td>124.809998</td>\n      <td>125.709999</td>\n      <td>121.839996</td>\n      <td>122.059998</td>\n      <td>122.059998</td>\n      <td>112430400</td>\n    </tr>\n    <tr>\n      <th>2021-03-04</th>\n      <td>121.750000</td>\n      <td>123.599998</td>\n      <td>118.620003</td>\n      <td>120.129997</td>\n      <td>120.129997</td>\n      <td>177275300</td>\n    </tr>\n    <tr>\n      <th>2021-03-05</th>\n      <td>120.980003</td>\n      <td>121.669998</td>\n      <td>117.570000</td>\n      <td>121.269302</td>\n      <td>121.269302</td>\n      <td>120328215</td>\n    </tr>\n  </tbody>\n</table>\n<p>2812 rows × 6 columns</p>\n</div>"
     },
     "metadata": {},
     "execution_count": 26
    }
   ],
   "source": [
    "daily_sp500 = {}\n",
    "# for tkr in tickers:\n",
    "for tkr in tickers[:10]: #this only gets the first 10 fyi\n",
    "    print('Grabbing ' + tkr + \" data!\")\n",
    "    # daily_sp500[tkr] = yf.Ticker(tkr).history(start='2010-01-01', end='2020-12-31', interval='1mo')\n",
    "    daily_sp500[tkr] = pdr.get_data_yahoo(tkr,start=\"2010-01-01\")\n",
    "    sleep(.1)\n",
    "daily_sp500['AAPL'] # take AAPL, for example"
   ]
  },
  {
   "cell_type": "code",
   "execution_count": 83,
   "metadata": {},
   "outputs": [],
   "source": [
    "# imputed_aapl = imputed_aapl.set_index(monthly_sp500['AAPL'].index)"
   ]
  },
  {
   "cell_type": "code",
   "execution_count": 84,
   "metadata": {},
   "outputs": [],
   "source": [
    "# len(imputed_aapl.loc[imputed_aapl.isna().any(axis=1)])/len(imputed_aapl) * 100 #percentage of missingness"
   ]
  },
  {
   "cell_type": "code",
   "execution_count": 244,
   "metadata": {},
   "outputs": [
    {
     "output_type": "execute_result",
     "data": {
      "text/plain": [
       "                 Open       High        Low      Close  Adj Close  \\\n",
       "Date                                                                \n",
       "2010-02-01   6.870357   7.327500   6.816071   7.307857   6.294721   \n",
       "2010-03-01   7.348214   8.481429   7.337500   8.392857   7.229299   \n",
       "2010-04-01   8.478929   9.730714   8.312500   9.324643   8.031907   \n",
       "2010-05-01   9.422857   9.567143   7.116071   9.174286   7.902396   \n",
       "2010-06-01   9.274643   9.964643   8.650000   8.983214   7.737815   \n",
       "...               ...        ...        ...        ...        ...   \n",
       "2020-12-01  18.010000  18.730000  17.049999  17.770000  17.770000   \n",
       "2021-01-01  17.959999  19.420000  17.590000  18.879999  18.879999   \n",
       "2021-02-01  18.590000  24.110001  18.299999  22.920000  22.920000   \n",
       "2021-03-01  23.209999  23.870001  22.389999  22.770000  22.770000   \n",
       "2021-03-05  22.940001  23.545000  22.520000  23.500000  23.500000   \n",
       "\n",
       "                  Volume  Name  \n",
       "Date                            \n",
       "2010-02-01  1.077608e+10  AAPL  \n",
       "2010-03-01  1.215417e+10  AAPL  \n",
       "2010-04-01  1.236713e+10  AAPL  \n",
       "2010-05-01  1.808265e+10  AAPL  \n",
       "2010-06-01  1.665125e+10  AAPL  \n",
       "...                  ...   ...  \n",
       "2020-12-01  1.891130e+07   NWS  \n",
       "2021-01-01  1.800300e+07   NWS  \n",
       "2021-02-01  1.325420e+07   NWS  \n",
       "2021-03-01  1.579400e+06   NWS  \n",
       "2021-03-05  5.092860e+05   NWS  \n",
       "\n",
       "[65886 rows x 7 columns]"
      ],
      "text/html": "<div>\n<style scoped>\n    .dataframe tbody tr th:only-of-type {\n        vertical-align: middle;\n    }\n\n    .dataframe tbody tr th {\n        vertical-align: top;\n    }\n\n    .dataframe thead th {\n        text-align: right;\n    }\n</style>\n<table border=\"1\" class=\"dataframe\">\n  <thead>\n    <tr style=\"text-align: right;\">\n      <th></th>\n      <th>Open</th>\n      <th>High</th>\n      <th>Low</th>\n      <th>Close</th>\n      <th>Adj Close</th>\n      <th>Volume</th>\n      <th>Name</th>\n    </tr>\n    <tr>\n      <th>Date</th>\n      <th></th>\n      <th></th>\n      <th></th>\n      <th></th>\n      <th></th>\n      <th></th>\n      <th></th>\n    </tr>\n  </thead>\n  <tbody>\n    <tr>\n      <th>2010-02-01</th>\n      <td>6.870357</td>\n      <td>7.327500</td>\n      <td>6.816071</td>\n      <td>7.307857</td>\n      <td>6.294721</td>\n      <td>1.077608e+10</td>\n      <td>AAPL</td>\n    </tr>\n    <tr>\n      <th>2010-03-01</th>\n      <td>7.348214</td>\n      <td>8.481429</td>\n      <td>7.337500</td>\n      <td>8.392857</td>\n      <td>7.229299</td>\n      <td>1.215417e+10</td>\n      <td>AAPL</td>\n    </tr>\n    <tr>\n      <th>2010-04-01</th>\n      <td>8.478929</td>\n      <td>9.730714</td>\n      <td>8.312500</td>\n      <td>9.324643</td>\n      <td>8.031907</td>\n      <td>1.236713e+10</td>\n      <td>AAPL</td>\n    </tr>\n    <tr>\n      <th>2010-05-01</th>\n      <td>9.422857</td>\n      <td>9.567143</td>\n      <td>7.116071</td>\n      <td>9.174286</td>\n      <td>7.902396</td>\n      <td>1.808265e+10</td>\n      <td>AAPL</td>\n    </tr>\n    <tr>\n      <th>2010-06-01</th>\n      <td>9.274643</td>\n      <td>9.964643</td>\n      <td>8.650000</td>\n      <td>8.983214</td>\n      <td>7.737815</td>\n      <td>1.665125e+10</td>\n      <td>AAPL</td>\n    </tr>\n    <tr>\n      <th>...</th>\n      <td>...</td>\n      <td>...</td>\n      <td>...</td>\n      <td>...</td>\n      <td>...</td>\n      <td>...</td>\n      <td>...</td>\n    </tr>\n    <tr>\n      <th>2020-12-01</th>\n      <td>18.010000</td>\n      <td>18.730000</td>\n      <td>17.049999</td>\n      <td>17.770000</td>\n      <td>17.770000</td>\n      <td>1.891130e+07</td>\n      <td>NWS</td>\n    </tr>\n    <tr>\n      <th>2021-01-01</th>\n      <td>17.959999</td>\n      <td>19.420000</td>\n      <td>17.590000</td>\n      <td>18.879999</td>\n      <td>18.879999</td>\n      <td>1.800300e+07</td>\n      <td>NWS</td>\n    </tr>\n    <tr>\n      <th>2021-02-01</th>\n      <td>18.590000</td>\n      <td>24.110001</td>\n      <td>18.299999</td>\n      <td>22.920000</td>\n      <td>22.920000</td>\n      <td>1.325420e+07</td>\n      <td>NWS</td>\n    </tr>\n    <tr>\n      <th>2021-03-01</th>\n      <td>23.209999</td>\n      <td>23.870001</td>\n      <td>22.389999</td>\n      <td>22.770000</td>\n      <td>22.770000</td>\n      <td>1.579400e+06</td>\n      <td>NWS</td>\n    </tr>\n    <tr>\n      <th>2021-03-05</th>\n      <td>22.940001</td>\n      <td>23.545000</td>\n      <td>22.520000</td>\n      <td>23.500000</td>\n      <td>23.500000</td>\n      <td>5.092860e+05</td>\n      <td>NWS</td>\n    </tr>\n  </tbody>\n</table>\n<p>65886 rows × 7 columns</p>\n</div>"
     },
     "metadata": {},
     "execution_count": 244
    }
   ],
   "source": [
    "# everything in one stupid large dataframe\n",
    "sp500m = monthly_sp500[tickers[0]] # monthly\n",
    "sp500m['Name'] = tickers[0]\n",
    "\n",
    "sp500d = daily_sp500[tickers[0]] # daily\n",
    "sp500d['Name'] = tickers[0]\n",
    "\n",
    "# for tkr in tickers[1:10]:\n",
    "for tkr in tickers[1:]:\n",
    "    df1 = monthly_sp500[tkr] # monthly\n",
    "    df1['Name'] = tkr\n",
    "    # df.set_index(['Name','Date'],inplace=True)\n",
    "    sp500m = sp500m.append(df1)\n",
    "\n",
    "    # df2 = daily_sp500[tkr] # daily\n",
    "    # df2['Name'] = tkr\n",
    "    # # df.set_index(['Name','Date'],inplace=True)\n",
    "    # sp500d = sp500d.append(df2)\n",
    "sp500m"
   ]
  },
  {
   "cell_type": "code",
   "execution_count": 190,
   "metadata": {},
   "outputs": [
    {
     "output_type": "execute_result",
     "data": {
      "text/plain": [
       "Name\n",
       "JNJ      180\n",
       "JPM      180\n",
       "MSFT     180\n",
       "AAPL     172\n",
       "GOOG     137\n",
       "BRK-B    136\n",
       "GOOGL    136\n",
       "AMZN     135\n",
       "TSLA     131\n",
       "FB       107\n",
       "dtype: int64"
      ]
     },
     "metadata": {},
     "execution_count": 190
    }
   ],
   "source": [
    "sp500m.value_counts('Name')"
   ]
  },
  {
   "cell_type": "code",
   "execution_count": 194,
   "metadata": {},
   "outputs": [
    {
     "output_type": "execute_result",
     "data": {
      "text/plain": [
       "                  Open        High         Low       Close   Adj Close  \\\n",
       "Date                                                                     \n",
       "2010-02-01    6.870357    7.327500    6.816071    7.307857    6.294721   \n",
       "2010-03-01    7.348214    8.481429    7.337500    8.392857    7.229299   \n",
       "2010-04-01    8.478929    9.730714    8.312500    9.324643    8.031907   \n",
       "2010-05-01    9.422857    9.567143    7.116071    9.174286    7.902396   \n",
       "2010-06-01    9.274643    9.964643    8.650000    8.983214    7.737815   \n",
       "2010-02-01   28.389999   29.030001   27.570000   28.670000   22.278278   \n",
       "2010-02-16         NaN         NaN         NaN         NaN         NaN   \n",
       "2010-03-01   28.770000   30.570000   28.240000   29.290001   22.866486   \n",
       "2010-04-01   29.350000   31.580000   28.620001   30.540001   23.842352   \n",
       "2010-05-01   30.670000   31.059999   24.559999   25.799999   20.141876   \n",
       "2010-02-01  123.180000  124.860001  113.820000  118.400002  118.400002   \n",
       "2010-03-01  118.699997  138.190002  117.529999  135.770004  135.770004   \n",
       "2010-04-01  135.800003  151.089996  130.779999  137.100006  137.100006   \n",
       "2010-05-01  137.199997  139.440002  117.519997  125.459999  125.459999   \n",
       "2010-06-01  124.970001  129.149994  106.010002  109.260002  109.260002   \n",
       "2012-06-01   28.889999   33.450001   25.520000   31.100000   31.100000   \n",
       "2012-07-01   31.250000   32.880001   21.610001   21.709999   21.709999   \n",
       "2012-08-01   21.500000   22.450001   18.030001   18.059999   18.059999   \n",
       "2012-09-01   18.080000   23.370001   17.549999   21.660000   21.660000   \n",
       "2012-10-01   22.080000   24.250000   18.799999   21.110001   21.110001   \n",
       "2010-02-01  267.567566  274.024017  260.260254  263.663666  263.663666   \n",
       "2010-03-01  264.864868  294.434448  264.134125  283.843842  283.843842   \n",
       "2010-04-01  285.960968  299.219208  260.775787  263.113098  263.113098   \n",
       "2010-05-01  263.513519  266.726715  230.230225  243.058060  243.058060   \n",
       "2010-06-01  240.455460  254.879883  222.582581  222.697693  222.697693   \n",
       "2010-02-01  266.301849  272.727753  259.029083  262.416412  262.416412   \n",
       "2010-03-01  263.611908  293.041595  262.884644  282.501129  282.501129   \n",
       "2010-04-01  284.608215  297.803772  259.542175  261.868439  261.868439   \n",
       "2010-05-01  262.266968  265.464966  229.141129  241.908264  241.908264   \n",
       "2010-06-01  239.317978  253.674164  221.529648  221.644226  221.644226   \n",
       "2010-07-01    5.000000    5.184000    2.996000    3.988000    3.988000   \n",
       "2010-08-01    4.100000    4.436000    3.478000    3.896000    3.896000   \n",
       "2010-09-01    3.924000    4.632000    3.900000    4.082000    4.082000   \n",
       "2010-10-01    4.138000    4.374000    4.000000    4.368000    4.368000   \n",
       "2010-11-01    4.388000    7.200000    4.210000    7.066000    7.066000   \n",
       "2010-01-21         NaN         NaN         NaN         NaN         NaN   \n",
       "2010-02-01   77.790001   80.180000   71.610001   80.129997   80.129997   \n",
       "2010-03-01   79.989998   83.570000   79.139999   81.269997   81.269997   \n",
       "2010-04-01   81.599998   81.949997   75.519997   77.000000   77.000000   \n",
       "2010-05-01   77.699997   78.800003   68.480003   70.550003   70.550003   \n",
       "2010-01-04         NaN         NaN         NaN         NaN         NaN   \n",
       "2010-02-01   39.099998   42.310001   37.029999   41.970001   31.614079   \n",
       "2010-03-01   42.029999   46.049999   41.340000   44.750000   33.708126   \n",
       "2010-04-01   45.029999   48.200001   42.230000   42.580002   32.073547   \n",
       "2010-04-01         NaN         NaN         NaN         NaN         NaN   \n",
       "2010-02-01   63.259998   64.699997   61.889999   63.000000   45.095860   \n",
       "2010-02-19         NaN         NaN         NaN         NaN         NaN   \n",
       "2010-03-01   63.270000   65.489998   63.020000   65.199997   47.027702   \n",
       "2010-04-01   65.370003   66.199997   64.209999   64.300003   46.378559   \n",
       "2010-05-01   65.160004   65.620003   58.189999   58.299999   42.050858   \n",
       "\n",
       "                  Volume   Name  \n",
       "Date                             \n",
       "2010-02-01  1.077608e+10   AAPL  \n",
       "2010-03-01  1.215417e+10   AAPL  \n",
       "2010-04-01  1.236713e+10   AAPL  \n",
       "2010-05-01  1.808265e+10   AAPL  \n",
       "2010-06-01  1.665125e+10   AAPL  \n",
       "2010-02-01  1.074643e+09   MSFT  \n",
       "2010-02-16           NaN   MSFT  \n",
       "2010-03-01  1.110237e+09   MSFT  \n",
       "2010-04-01  1.319030e+09   MSFT  \n",
       "2010-05-01  1.720130e+09   MSFT  \n",
       "2010-02-01  2.101458e+08   AMZN  \n",
       "2010-03-01  1.580426e+08   AMZN  \n",
       "2010-04-01  1.730251e+08   AMZN  \n",
       "2010-05-01  1.409099e+08   AMZN  \n",
       "2010-06-01  1.333785e+08   AMZN  \n",
       "2012-06-01  6.679105e+08     FB  \n",
       "2012-07-01  5.201897e+08     FB  \n",
       "2012-08-01  1.151945e+09     FB  \n",
       "2012-09-01  1.058644e+09     FB  \n",
       "2012-10-01  1.100938e+09     FB  \n",
       "2010-02-01  1.039645e+08  GOOGL  \n",
       "2010-03-01  1.673818e+08  GOOGL  \n",
       "2010-04-01  1.459759e+08  GOOGL  \n",
       "2010-05-01  1.629593e+08  GOOGL  \n",
       "2010-06-01  1.196067e+08  GOOGL  \n",
       "2010-02-01  1.044587e+08   GOOG  \n",
       "2010-03-01  1.681774e+08   GOOG  \n",
       "2010-04-01  1.466697e+08   GOOG  \n",
       "2010-05-01  1.637338e+08   GOOG  \n",
       "2010-06-01  1.201752e+08   GOOG  \n",
       "2010-07-01  3.228790e+08   TSLA  \n",
       "2010-08-01  7.519100e+07   TSLA  \n",
       "2010-09-01  9.022950e+07   TSLA  \n",
       "2010-10-01  3.273900e+07   TSLA  \n",
       "2010-11-01  1.415755e+08   TSLA  \n",
       "2010-01-21           NaN  BRK-B  \n",
       "2010-02-01  5.650577e+08  BRK-B  \n",
       "2010-03-01  1.542186e+08  BRK-B  \n",
       "2010-04-01  9.212740e+07  BRK-B  \n",
       "2010-05-01  1.228906e+08  BRK-B  \n",
       "2010-01-04           NaN    JPM  \n",
       "2010-02-01  8.762572e+08    JPM  \n",
       "2010-03-01  7.555222e+08    JPM  \n",
       "2010-04-01  9.476885e+08    JPM  \n",
       "2010-04-01           NaN    JPM  \n",
       "2010-02-01  2.133415e+08    JNJ  \n",
       "2010-02-19           NaN    JNJ  \n",
       "2010-03-01  2.499475e+08    JNJ  \n",
       "2010-04-01  2.358607e+08    JNJ  \n",
       "2010-05-01  3.577758e+08    JNJ  "
      ],
      "text/html": "<div>\n<style scoped>\n    .dataframe tbody tr th:only-of-type {\n        vertical-align: middle;\n    }\n\n    .dataframe tbody tr th {\n        vertical-align: top;\n    }\n\n    .dataframe thead th {\n        text-align: right;\n    }\n</style>\n<table border=\"1\" class=\"dataframe\">\n  <thead>\n    <tr style=\"text-align: right;\">\n      <th></th>\n      <th>Open</th>\n      <th>High</th>\n      <th>Low</th>\n      <th>Close</th>\n      <th>Adj Close</th>\n      <th>Volume</th>\n      <th>Name</th>\n    </tr>\n    <tr>\n      <th>Date</th>\n      <th></th>\n      <th></th>\n      <th></th>\n      <th></th>\n      <th></th>\n      <th></th>\n      <th></th>\n    </tr>\n  </thead>\n  <tbody>\n    <tr>\n      <th>2010-02-01</th>\n      <td>6.870357</td>\n      <td>7.327500</td>\n      <td>6.816071</td>\n      <td>7.307857</td>\n      <td>6.294721</td>\n      <td>1.077608e+10</td>\n      <td>AAPL</td>\n    </tr>\n    <tr>\n      <th>2010-03-01</th>\n      <td>7.348214</td>\n      <td>8.481429</td>\n      <td>7.337500</td>\n      <td>8.392857</td>\n      <td>7.229299</td>\n      <td>1.215417e+10</td>\n      <td>AAPL</td>\n    </tr>\n    <tr>\n      <th>2010-04-01</th>\n      <td>8.478929</td>\n      <td>9.730714</td>\n      <td>8.312500</td>\n      <td>9.324643</td>\n      <td>8.031907</td>\n      <td>1.236713e+10</td>\n      <td>AAPL</td>\n    </tr>\n    <tr>\n      <th>2010-05-01</th>\n      <td>9.422857</td>\n      <td>9.567143</td>\n      <td>7.116071</td>\n      <td>9.174286</td>\n      <td>7.902396</td>\n      <td>1.808265e+10</td>\n      <td>AAPL</td>\n    </tr>\n    <tr>\n      <th>2010-06-01</th>\n      <td>9.274643</td>\n      <td>9.964643</td>\n      <td>8.650000</td>\n      <td>8.983214</td>\n      <td>7.737815</td>\n      <td>1.665125e+10</td>\n      <td>AAPL</td>\n    </tr>\n    <tr>\n      <th>2010-02-01</th>\n      <td>28.389999</td>\n      <td>29.030001</td>\n      <td>27.570000</td>\n      <td>28.670000</td>\n      <td>22.278278</td>\n      <td>1.074643e+09</td>\n      <td>MSFT</td>\n    </tr>\n    <tr>\n      <th>2010-02-16</th>\n      <td>NaN</td>\n      <td>NaN</td>\n      <td>NaN</td>\n      <td>NaN</td>\n      <td>NaN</td>\n      <td>NaN</td>\n      <td>MSFT</td>\n    </tr>\n    <tr>\n      <th>2010-03-01</th>\n      <td>28.770000</td>\n      <td>30.570000</td>\n      <td>28.240000</td>\n      <td>29.290001</td>\n      <td>22.866486</td>\n      <td>1.110237e+09</td>\n      <td>MSFT</td>\n    </tr>\n    <tr>\n      <th>2010-04-01</th>\n      <td>29.350000</td>\n      <td>31.580000</td>\n      <td>28.620001</td>\n      <td>30.540001</td>\n      <td>23.842352</td>\n      <td>1.319030e+09</td>\n      <td>MSFT</td>\n    </tr>\n    <tr>\n      <th>2010-05-01</th>\n      <td>30.670000</td>\n      <td>31.059999</td>\n      <td>24.559999</td>\n      <td>25.799999</td>\n      <td>20.141876</td>\n      <td>1.720130e+09</td>\n      <td>MSFT</td>\n    </tr>\n    <tr>\n      <th>2010-02-01</th>\n      <td>123.180000</td>\n      <td>124.860001</td>\n      <td>113.820000</td>\n      <td>118.400002</td>\n      <td>118.400002</td>\n      <td>2.101458e+08</td>\n      <td>AMZN</td>\n    </tr>\n    <tr>\n      <th>2010-03-01</th>\n      <td>118.699997</td>\n      <td>138.190002</td>\n      <td>117.529999</td>\n      <td>135.770004</td>\n      <td>135.770004</td>\n      <td>1.580426e+08</td>\n      <td>AMZN</td>\n    </tr>\n    <tr>\n      <th>2010-04-01</th>\n      <td>135.800003</td>\n      <td>151.089996</td>\n      <td>130.779999</td>\n      <td>137.100006</td>\n      <td>137.100006</td>\n      <td>1.730251e+08</td>\n      <td>AMZN</td>\n    </tr>\n    <tr>\n      <th>2010-05-01</th>\n      <td>137.199997</td>\n      <td>139.440002</td>\n      <td>117.519997</td>\n      <td>125.459999</td>\n      <td>125.459999</td>\n      <td>1.409099e+08</td>\n      <td>AMZN</td>\n    </tr>\n    <tr>\n      <th>2010-06-01</th>\n      <td>124.970001</td>\n      <td>129.149994</td>\n      <td>106.010002</td>\n      <td>109.260002</td>\n      <td>109.260002</td>\n      <td>1.333785e+08</td>\n      <td>AMZN</td>\n    </tr>\n    <tr>\n      <th>2012-06-01</th>\n      <td>28.889999</td>\n      <td>33.450001</td>\n      <td>25.520000</td>\n      <td>31.100000</td>\n      <td>31.100000</td>\n      <td>6.679105e+08</td>\n      <td>FB</td>\n    </tr>\n    <tr>\n      <th>2012-07-01</th>\n      <td>31.250000</td>\n      <td>32.880001</td>\n      <td>21.610001</td>\n      <td>21.709999</td>\n      <td>21.709999</td>\n      <td>5.201897e+08</td>\n      <td>FB</td>\n    </tr>\n    <tr>\n      <th>2012-08-01</th>\n      <td>21.500000</td>\n      <td>22.450001</td>\n      <td>18.030001</td>\n      <td>18.059999</td>\n      <td>18.059999</td>\n      <td>1.151945e+09</td>\n      <td>FB</td>\n    </tr>\n    <tr>\n      <th>2012-09-01</th>\n      <td>18.080000</td>\n      <td>23.370001</td>\n      <td>17.549999</td>\n      <td>21.660000</td>\n      <td>21.660000</td>\n      <td>1.058644e+09</td>\n      <td>FB</td>\n    </tr>\n    <tr>\n      <th>2012-10-01</th>\n      <td>22.080000</td>\n      <td>24.250000</td>\n      <td>18.799999</td>\n      <td>21.110001</td>\n      <td>21.110001</td>\n      <td>1.100938e+09</td>\n      <td>FB</td>\n    </tr>\n    <tr>\n      <th>2010-02-01</th>\n      <td>267.567566</td>\n      <td>274.024017</td>\n      <td>260.260254</td>\n      <td>263.663666</td>\n      <td>263.663666</td>\n      <td>1.039645e+08</td>\n      <td>GOOGL</td>\n    </tr>\n    <tr>\n      <th>2010-03-01</th>\n      <td>264.864868</td>\n      <td>294.434448</td>\n      <td>264.134125</td>\n      <td>283.843842</td>\n      <td>283.843842</td>\n      <td>1.673818e+08</td>\n      <td>GOOGL</td>\n    </tr>\n    <tr>\n      <th>2010-04-01</th>\n      <td>285.960968</td>\n      <td>299.219208</td>\n      <td>260.775787</td>\n      <td>263.113098</td>\n      <td>263.113098</td>\n      <td>1.459759e+08</td>\n      <td>GOOGL</td>\n    </tr>\n    <tr>\n      <th>2010-05-01</th>\n      <td>263.513519</td>\n      <td>266.726715</td>\n      <td>230.230225</td>\n      <td>243.058060</td>\n      <td>243.058060</td>\n      <td>1.629593e+08</td>\n      <td>GOOGL</td>\n    </tr>\n    <tr>\n      <th>2010-06-01</th>\n      <td>240.455460</td>\n      <td>254.879883</td>\n      <td>222.582581</td>\n      <td>222.697693</td>\n      <td>222.697693</td>\n      <td>1.196067e+08</td>\n      <td>GOOGL</td>\n    </tr>\n    <tr>\n      <th>2010-02-01</th>\n      <td>266.301849</td>\n      <td>272.727753</td>\n      <td>259.029083</td>\n      <td>262.416412</td>\n      <td>262.416412</td>\n      <td>1.044587e+08</td>\n      <td>GOOG</td>\n    </tr>\n    <tr>\n      <th>2010-03-01</th>\n      <td>263.611908</td>\n      <td>293.041595</td>\n      <td>262.884644</td>\n      <td>282.501129</td>\n      <td>282.501129</td>\n      <td>1.681774e+08</td>\n      <td>GOOG</td>\n    </tr>\n    <tr>\n      <th>2010-04-01</th>\n      <td>284.608215</td>\n      <td>297.803772</td>\n      <td>259.542175</td>\n      <td>261.868439</td>\n      <td>261.868439</td>\n      <td>1.466697e+08</td>\n      <td>GOOG</td>\n    </tr>\n    <tr>\n      <th>2010-05-01</th>\n      <td>262.266968</td>\n      <td>265.464966</td>\n      <td>229.141129</td>\n      <td>241.908264</td>\n      <td>241.908264</td>\n      <td>1.637338e+08</td>\n      <td>GOOG</td>\n    </tr>\n    <tr>\n      <th>2010-06-01</th>\n      <td>239.317978</td>\n      <td>253.674164</td>\n      <td>221.529648</td>\n      <td>221.644226</td>\n      <td>221.644226</td>\n      <td>1.201752e+08</td>\n      <td>GOOG</td>\n    </tr>\n    <tr>\n      <th>2010-07-01</th>\n      <td>5.000000</td>\n      <td>5.184000</td>\n      <td>2.996000</td>\n      <td>3.988000</td>\n      <td>3.988000</td>\n      <td>3.228790e+08</td>\n      <td>TSLA</td>\n    </tr>\n    <tr>\n      <th>2010-08-01</th>\n      <td>4.100000</td>\n      <td>4.436000</td>\n      <td>3.478000</td>\n      <td>3.896000</td>\n      <td>3.896000</td>\n      <td>7.519100e+07</td>\n      <td>TSLA</td>\n    </tr>\n    <tr>\n      <th>2010-09-01</th>\n      <td>3.924000</td>\n      <td>4.632000</td>\n      <td>3.900000</td>\n      <td>4.082000</td>\n      <td>4.082000</td>\n      <td>9.022950e+07</td>\n      <td>TSLA</td>\n    </tr>\n    <tr>\n      <th>2010-10-01</th>\n      <td>4.138000</td>\n      <td>4.374000</td>\n      <td>4.000000</td>\n      <td>4.368000</td>\n      <td>4.368000</td>\n      <td>3.273900e+07</td>\n      <td>TSLA</td>\n    </tr>\n    <tr>\n      <th>2010-11-01</th>\n      <td>4.388000</td>\n      <td>7.200000</td>\n      <td>4.210000</td>\n      <td>7.066000</td>\n      <td>7.066000</td>\n      <td>1.415755e+08</td>\n      <td>TSLA</td>\n    </tr>\n    <tr>\n      <th>2010-01-21</th>\n      <td>NaN</td>\n      <td>NaN</td>\n      <td>NaN</td>\n      <td>NaN</td>\n      <td>NaN</td>\n      <td>NaN</td>\n      <td>BRK-B</td>\n    </tr>\n    <tr>\n      <th>2010-02-01</th>\n      <td>77.790001</td>\n      <td>80.180000</td>\n      <td>71.610001</td>\n      <td>80.129997</td>\n      <td>80.129997</td>\n      <td>5.650577e+08</td>\n      <td>BRK-B</td>\n    </tr>\n    <tr>\n      <th>2010-03-01</th>\n      <td>79.989998</td>\n      <td>83.570000</td>\n      <td>79.139999</td>\n      <td>81.269997</td>\n      <td>81.269997</td>\n      <td>1.542186e+08</td>\n      <td>BRK-B</td>\n    </tr>\n    <tr>\n      <th>2010-04-01</th>\n      <td>81.599998</td>\n      <td>81.949997</td>\n      <td>75.519997</td>\n      <td>77.000000</td>\n      <td>77.000000</td>\n      <td>9.212740e+07</td>\n      <td>BRK-B</td>\n    </tr>\n    <tr>\n      <th>2010-05-01</th>\n      <td>77.699997</td>\n      <td>78.800003</td>\n      <td>68.480003</td>\n      <td>70.550003</td>\n      <td>70.550003</td>\n      <td>1.228906e+08</td>\n      <td>BRK-B</td>\n    </tr>\n    <tr>\n      <th>2010-01-04</th>\n      <td>NaN</td>\n      <td>NaN</td>\n      <td>NaN</td>\n      <td>NaN</td>\n      <td>NaN</td>\n      <td>NaN</td>\n      <td>JPM</td>\n    </tr>\n    <tr>\n      <th>2010-02-01</th>\n      <td>39.099998</td>\n      <td>42.310001</td>\n      <td>37.029999</td>\n      <td>41.970001</td>\n      <td>31.614079</td>\n      <td>8.762572e+08</td>\n      <td>JPM</td>\n    </tr>\n    <tr>\n      <th>2010-03-01</th>\n      <td>42.029999</td>\n      <td>46.049999</td>\n      <td>41.340000</td>\n      <td>44.750000</td>\n      <td>33.708126</td>\n      <td>7.555222e+08</td>\n      <td>JPM</td>\n    </tr>\n    <tr>\n      <th>2010-04-01</th>\n      <td>45.029999</td>\n      <td>48.200001</td>\n      <td>42.230000</td>\n      <td>42.580002</td>\n      <td>32.073547</td>\n      <td>9.476885e+08</td>\n      <td>JPM</td>\n    </tr>\n    <tr>\n      <th>2010-04-01</th>\n      <td>NaN</td>\n      <td>NaN</td>\n      <td>NaN</td>\n      <td>NaN</td>\n      <td>NaN</td>\n      <td>NaN</td>\n      <td>JPM</td>\n    </tr>\n    <tr>\n      <th>2010-02-01</th>\n      <td>63.259998</td>\n      <td>64.699997</td>\n      <td>61.889999</td>\n      <td>63.000000</td>\n      <td>45.095860</td>\n      <td>2.133415e+08</td>\n      <td>JNJ</td>\n    </tr>\n    <tr>\n      <th>2010-02-19</th>\n      <td>NaN</td>\n      <td>NaN</td>\n      <td>NaN</td>\n      <td>NaN</td>\n      <td>NaN</td>\n      <td>NaN</td>\n      <td>JNJ</td>\n    </tr>\n    <tr>\n      <th>2010-03-01</th>\n      <td>63.270000</td>\n      <td>65.489998</td>\n      <td>63.020000</td>\n      <td>65.199997</td>\n      <td>47.027702</td>\n      <td>2.499475e+08</td>\n      <td>JNJ</td>\n    </tr>\n    <tr>\n      <th>2010-04-01</th>\n      <td>65.370003</td>\n      <td>66.199997</td>\n      <td>64.209999</td>\n      <td>64.300003</td>\n      <td>46.378559</td>\n      <td>2.358607e+08</td>\n      <td>JNJ</td>\n    </tr>\n    <tr>\n      <th>2010-05-01</th>\n      <td>65.160004</td>\n      <td>65.620003</td>\n      <td>58.189999</td>\n      <td>58.299999</td>\n      <td>42.050858</td>\n      <td>3.577758e+08</td>\n      <td>JNJ</td>\n    </tr>\n  </tbody>\n</table>\n</div>"
     },
     "metadata": {},
     "execution_count": 194
    }
   ],
   "source": [
    "sp500m.groupby('Name').head(5)"
   ]
  },
  {
   "cell_type": "code",
   "execution_count": 200,
   "metadata": {},
   "outputs": [
    {
     "output_type": "stream",
     "name": "stdout",
     "text": [
      "(82409, 7) (2812, 7)\n"
     ]
    },
    {
     "output_type": "execute_result",
     "data": {
      "text/plain": [
       "                 Open       High        Low      Close  Adj Close  \\\n",
       "Date                                                                \n",
       "2010-02-01   6.870357   7.327500   6.816071   7.307857   6.294721   \n",
       "2010-03-01   7.348214   8.481429   7.337500   8.392857   7.229299   \n",
       "2010-04-01   8.478929   9.730714   8.312500   9.324643   8.031907   \n",
       "2010-05-01   9.422857   9.567143   7.116071   9.174286   7.902396   \n",
       "2010-06-01   9.274643   9.964643   8.650000   8.983214   7.737815   \n",
       "...               ...        ...        ...        ...        ...   \n",
       "2020-12-01  18.010000  18.730000  17.049999  17.770000  17.770000   \n",
       "2021-01-01  17.959999  19.420000  17.590000  18.879999  18.879999   \n",
       "2021-02-01  18.590000  24.110001  18.299999  22.920000  22.920000   \n",
       "2021-03-01  23.209999  23.870001  22.389999  22.770000  22.770000   \n",
       "2021-03-05  22.940001  23.545000  22.520000  23.500000  23.500000   \n",
       "\n",
       "                  Volume  Name  \n",
       "Date                            \n",
       "2010-02-01  1.077608e+10  AAPL  \n",
       "2010-03-01  1.215417e+10  AAPL  \n",
       "2010-04-01  1.236713e+10  AAPL  \n",
       "2010-05-01  1.808265e+10  AAPL  \n",
       "2010-06-01  1.665125e+10  AAPL  \n",
       "...                  ...   ...  \n",
       "2020-12-01  1.891130e+07   NWS  \n",
       "2021-01-01  1.800300e+07   NWS  \n",
       "2021-02-01  1.325420e+07   NWS  \n",
       "2021-03-01  1.579400e+06   NWS  \n",
       "2021-03-05  5.092860e+05   NWS  \n",
       "\n",
       "[82409 rows x 7 columns]"
      ],
      "text/html": "<div>\n<style scoped>\n    .dataframe tbody tr th:only-of-type {\n        vertical-align: middle;\n    }\n\n    .dataframe tbody tr th {\n        vertical-align: top;\n    }\n\n    .dataframe thead th {\n        text-align: right;\n    }\n</style>\n<table border=\"1\" class=\"dataframe\">\n  <thead>\n    <tr style=\"text-align: right;\">\n      <th></th>\n      <th>Open</th>\n      <th>High</th>\n      <th>Low</th>\n      <th>Close</th>\n      <th>Adj Close</th>\n      <th>Volume</th>\n      <th>Name</th>\n    </tr>\n    <tr>\n      <th>Date</th>\n      <th></th>\n      <th></th>\n      <th></th>\n      <th></th>\n      <th></th>\n      <th></th>\n      <th></th>\n    </tr>\n  </thead>\n  <tbody>\n    <tr>\n      <th>2010-02-01</th>\n      <td>6.870357</td>\n      <td>7.327500</td>\n      <td>6.816071</td>\n      <td>7.307857</td>\n      <td>6.294721</td>\n      <td>1.077608e+10</td>\n      <td>AAPL</td>\n    </tr>\n    <tr>\n      <th>2010-03-01</th>\n      <td>7.348214</td>\n      <td>8.481429</td>\n      <td>7.337500</td>\n      <td>8.392857</td>\n      <td>7.229299</td>\n      <td>1.215417e+10</td>\n      <td>AAPL</td>\n    </tr>\n    <tr>\n      <th>2010-04-01</th>\n      <td>8.478929</td>\n      <td>9.730714</td>\n      <td>8.312500</td>\n      <td>9.324643</td>\n      <td>8.031907</td>\n      <td>1.236713e+10</td>\n      <td>AAPL</td>\n    </tr>\n    <tr>\n      <th>2010-05-01</th>\n      <td>9.422857</td>\n      <td>9.567143</td>\n      <td>7.116071</td>\n      <td>9.174286</td>\n      <td>7.902396</td>\n      <td>1.808265e+10</td>\n      <td>AAPL</td>\n    </tr>\n    <tr>\n      <th>2010-06-01</th>\n      <td>9.274643</td>\n      <td>9.964643</td>\n      <td>8.650000</td>\n      <td>8.983214</td>\n      <td>7.737815</td>\n      <td>1.665125e+10</td>\n      <td>AAPL</td>\n    </tr>\n    <tr>\n      <th>...</th>\n      <td>...</td>\n      <td>...</td>\n      <td>...</td>\n      <td>...</td>\n      <td>...</td>\n      <td>...</td>\n      <td>...</td>\n    </tr>\n    <tr>\n      <th>2020-12-01</th>\n      <td>18.010000</td>\n      <td>18.730000</td>\n      <td>17.049999</td>\n      <td>17.770000</td>\n      <td>17.770000</td>\n      <td>1.891130e+07</td>\n      <td>NWS</td>\n    </tr>\n    <tr>\n      <th>2021-01-01</th>\n      <td>17.959999</td>\n      <td>19.420000</td>\n      <td>17.590000</td>\n      <td>18.879999</td>\n      <td>18.879999</td>\n      <td>1.800300e+07</td>\n      <td>NWS</td>\n    </tr>\n    <tr>\n      <th>2021-02-01</th>\n      <td>18.590000</td>\n      <td>24.110001</td>\n      <td>18.299999</td>\n      <td>22.920000</td>\n      <td>22.920000</td>\n      <td>1.325420e+07</td>\n      <td>NWS</td>\n    </tr>\n    <tr>\n      <th>2021-03-01</th>\n      <td>23.209999</td>\n      <td>23.870001</td>\n      <td>22.389999</td>\n      <td>22.770000</td>\n      <td>22.770000</td>\n      <td>1.579400e+06</td>\n      <td>NWS</td>\n    </tr>\n    <tr>\n      <th>2021-03-05</th>\n      <td>22.940001</td>\n      <td>23.545000</td>\n      <td>22.520000</td>\n      <td>23.500000</td>\n      <td>23.500000</td>\n      <td>5.092860e+05</td>\n      <td>NWS</td>\n    </tr>\n  </tbody>\n</table>\n<p>82409 rows × 7 columns</p>\n</div>"
     },
     "metadata": {},
     "execution_count": 200
    }
   ],
   "source": [
    "print(sp500m.shape,sp500d.shape)\n",
    "sp500m"
   ]
  },
  {
   "cell_type": "code",
   "execution_count": 245,
   "metadata": {},
   "outputs": [
    {
     "output_type": "execute_result",
     "data": {
      "text/plain": [
       "            Date       Open       High        Low      Close  Adj Close  \\\n",
       "0     2010-02-01   6.870357   7.327500   6.816071   7.307857   6.294721   \n",
       "1     2010-03-01   7.348214   8.481429   7.337500   8.392857   7.229299   \n",
       "2     2010-04-01   8.478929   9.730714   8.312500   9.324643   8.031907   \n",
       "3     2010-05-01   9.422857   9.567143   7.116071   9.174286   7.902396   \n",
       "4     2010-06-01   9.274643   9.964643   8.650000   8.983214   7.737815   \n",
       "...          ...        ...        ...        ...        ...        ...   \n",
       "65437 2020-12-01  18.010000  18.730000  17.049999  17.770000  17.770000   \n",
       "65438 2021-01-01  17.959999  19.420000  17.590000  18.879999  18.879999   \n",
       "65439 2021-02-01  18.590000  24.110001  18.299999  22.920000  22.920000   \n",
       "65440 2021-03-01  23.209999  23.870001  22.389999  22.770000  22.770000   \n",
       "65441 2021-03-05  22.940001  23.545000  22.520000  23.500000  23.500000   \n",
       "\n",
       "             Volume  Name  \n",
       "0      1.077608e+10  AAPL  \n",
       "1      1.215417e+10  AAPL  \n",
       "2      1.236713e+10  AAPL  \n",
       "3      1.808265e+10  AAPL  \n",
       "4      1.665125e+10  AAPL  \n",
       "...             ...   ...  \n",
       "65437  1.891130e+07   NWS  \n",
       "65438  1.800300e+07   NWS  \n",
       "65439  1.325420e+07   NWS  \n",
       "65440  1.579400e+06   NWS  \n",
       "65441  5.092860e+05   NWS  \n",
       "\n",
       "[65442 rows x 8 columns]"
      ],
      "text/html": "<div>\n<style scoped>\n    .dataframe tbody tr th:only-of-type {\n        vertical-align: middle;\n    }\n\n    .dataframe tbody tr th {\n        vertical-align: top;\n    }\n\n    .dataframe thead th {\n        text-align: right;\n    }\n</style>\n<table border=\"1\" class=\"dataframe\">\n  <thead>\n    <tr style=\"text-align: right;\">\n      <th></th>\n      <th>Date</th>\n      <th>Open</th>\n      <th>High</th>\n      <th>Low</th>\n      <th>Close</th>\n      <th>Adj Close</th>\n      <th>Volume</th>\n      <th>Name</th>\n    </tr>\n  </thead>\n  <tbody>\n    <tr>\n      <th>0</th>\n      <td>2010-02-01</td>\n      <td>6.870357</td>\n      <td>7.327500</td>\n      <td>6.816071</td>\n      <td>7.307857</td>\n      <td>6.294721</td>\n      <td>1.077608e+10</td>\n      <td>AAPL</td>\n    </tr>\n    <tr>\n      <th>1</th>\n      <td>2010-03-01</td>\n      <td>7.348214</td>\n      <td>8.481429</td>\n      <td>7.337500</td>\n      <td>8.392857</td>\n      <td>7.229299</td>\n      <td>1.215417e+10</td>\n      <td>AAPL</td>\n    </tr>\n    <tr>\n      <th>2</th>\n      <td>2010-04-01</td>\n      <td>8.478929</td>\n      <td>9.730714</td>\n      <td>8.312500</td>\n      <td>9.324643</td>\n      <td>8.031907</td>\n      <td>1.236713e+10</td>\n      <td>AAPL</td>\n    </tr>\n    <tr>\n      <th>3</th>\n      <td>2010-05-01</td>\n      <td>9.422857</td>\n      <td>9.567143</td>\n      <td>7.116071</td>\n      <td>9.174286</td>\n      <td>7.902396</td>\n      <td>1.808265e+10</td>\n      <td>AAPL</td>\n    </tr>\n    <tr>\n      <th>4</th>\n      <td>2010-06-01</td>\n      <td>9.274643</td>\n      <td>9.964643</td>\n      <td>8.650000</td>\n      <td>8.983214</td>\n      <td>7.737815</td>\n      <td>1.665125e+10</td>\n      <td>AAPL</td>\n    </tr>\n    <tr>\n      <th>...</th>\n      <td>...</td>\n      <td>...</td>\n      <td>...</td>\n      <td>...</td>\n      <td>...</td>\n      <td>...</td>\n      <td>...</td>\n      <td>...</td>\n    </tr>\n    <tr>\n      <th>65437</th>\n      <td>2020-12-01</td>\n      <td>18.010000</td>\n      <td>18.730000</td>\n      <td>17.049999</td>\n      <td>17.770000</td>\n      <td>17.770000</td>\n      <td>1.891130e+07</td>\n      <td>NWS</td>\n    </tr>\n    <tr>\n      <th>65438</th>\n      <td>2021-01-01</td>\n      <td>17.959999</td>\n      <td>19.420000</td>\n      <td>17.590000</td>\n      <td>18.879999</td>\n      <td>18.879999</td>\n      <td>1.800300e+07</td>\n      <td>NWS</td>\n    </tr>\n    <tr>\n      <th>65439</th>\n      <td>2021-02-01</td>\n      <td>18.590000</td>\n      <td>24.110001</td>\n      <td>18.299999</td>\n      <td>22.920000</td>\n      <td>22.920000</td>\n      <td>1.325420e+07</td>\n      <td>NWS</td>\n    </tr>\n    <tr>\n      <th>65440</th>\n      <td>2021-03-01</td>\n      <td>23.209999</td>\n      <td>23.870001</td>\n      <td>22.389999</td>\n      <td>22.770000</td>\n      <td>22.770000</td>\n      <td>1.579400e+06</td>\n      <td>NWS</td>\n    </tr>\n    <tr>\n      <th>65441</th>\n      <td>2021-03-05</td>\n      <td>22.940001</td>\n      <td>23.545000</td>\n      <td>22.520000</td>\n      <td>23.500000</td>\n      <td>23.500000</td>\n      <td>5.092860e+05</td>\n      <td>NWS</td>\n    </tr>\n  </tbody>\n</table>\n<p>65442 rows × 8 columns</p>\n</div>"
     },
     "metadata": {},
     "execution_count": 245
    }
   ],
   "source": [
    "# sp500m.to_csv('SP500_monthly.csv')\n",
    "# sp500d.to_csv('SP500_daily.csv')\n",
    "# df = pd.read_csv('SP500_monthly.csv').infer_objects().set_index('Name').dropna()\n",
    "# df = pd.read_csv('SP500_monthly.csv').infer_objects().dropna()\n",
    "df = sp500m.infer_objects().dropna().reset_index()\n",
    "df"
   ]
  },
  {
   "cell_type": "code",
   "execution_count": 246,
   "metadata": {},
   "outputs": [
    {
     "output_type": "execute_result",
     "data": {
      "text/plain": [
       "['2010-05-01',\n",
       " '2010-11-01',\n",
       " '2011-05-01',\n",
       " '2011-11-01',\n",
       " '2012-05-01',\n",
       " '2012-11-01',\n",
       " '2013-05-01',\n",
       " '2013-11-01',\n",
       " '2014-05-01',\n",
       " '2014-11-01',\n",
       " '2015-05-01',\n",
       " '2015-11-01',\n",
       " '2016-05-01',\n",
       " '2016-11-01',\n",
       " '2017-05-01',\n",
       " '2017-11-01',\n",
       " '2018-05-01',\n",
       " '2018-11-01',\n",
       " '2019-05-01',\n",
       " '2019-11-01',\n",
       " '2020-05-01',\n",
       " '2020-11-01']"
      ]
     },
     "metadata": {},
     "execution_count": 246
    }
   ],
   "source": [
    "st = pd.to_datetime(df.Date.min())\n",
    "et = pd.to_datetime(df.Date.max())\n",
    "j=1\n",
    "k=2\n",
    "# the 'midpoints' for each observe and hold period. midpoint in this context is where we switch from the observation period len=j to the holding period len=k\n",
    "j_end = pd.date_range(st+pd.DateOffset(months=j*3), et, freq=str(k*3)+\"MS\")\n",
    "j_end.strftime(\"%Y-%m-%d\").to_list()"
   ]
  },
  {
   "cell_type": "code",
   "execution_count": 247,
   "metadata": {},
   "outputs": [
    {
     "output_type": "execute_result",
     "data": {
      "text/plain": [
       "            Date       Open       High        Low      Close  Adj Close  \\\n",
       "3     2010-05-01   9.422857   9.567143   7.116071   9.174286   7.902396   \n",
       "9     2010-11-01  10.793571  11.475000  10.634286  11.112500   9.571903   \n",
       "15    2011-05-01  12.490714  12.565357  11.765000  12.422500  10.700285   \n",
       "21    2011-11-01  14.193214  14.571429  12.975714  13.650000  11.757608   \n",
       "27    2012-05-01  20.889286  21.312857  18.649286  20.633215  17.772696   \n",
       "...          ...        ...        ...        ...        ...        ...   \n",
       "65352 2013-11-01  17.870001  18.260000  17.000000  17.969999  16.540766   \n",
       "65358 2014-05-01  16.600000  17.650000  16.320000  16.590000  15.270526   \n",
       "65364 2014-11-01  15.020000  15.440000  14.340000  15.050000  13.853006   \n",
       "65370 2015-05-01  15.690000  16.170000  14.780000  14.950000  13.760961   \n",
       "65376 2015-11-01  15.470000  15.740000  13.880000  14.460000  13.411923   \n",
       "\n",
       "             Volume  Name  \n",
       "3      1.808265e+10  AAPL  \n",
       "9      9.508086e+09  AAPL  \n",
       "15     6.912060e+09  AAPL  \n",
       "21     8.963702e+09  AAPL  \n",
       "27     1.110635e+10  AAPL  \n",
       "...             ...   ...  \n",
       "65352  1.500440e+07   NWS  \n",
       "65358  1.192450e+07   NWS  \n",
       "65364  3.394880e+07   NWS  \n",
       "65370  2.324360e+07   NWS  \n",
       "65376  2.012570e+07   NWS  \n",
       "\n",
       "[2505 rows x 8 columns]"
      ],
      "text/html": "<div>\n<style scoped>\n    .dataframe tbody tr th:only-of-type {\n        vertical-align: middle;\n    }\n\n    .dataframe tbody tr th {\n        vertical-align: top;\n    }\n\n    .dataframe thead th {\n        text-align: right;\n    }\n</style>\n<table border=\"1\" class=\"dataframe\">\n  <thead>\n    <tr style=\"text-align: right;\">\n      <th></th>\n      <th>Date</th>\n      <th>Open</th>\n      <th>High</th>\n      <th>Low</th>\n      <th>Close</th>\n      <th>Adj Close</th>\n      <th>Volume</th>\n      <th>Name</th>\n    </tr>\n  </thead>\n  <tbody>\n    <tr>\n      <th>3</th>\n      <td>2010-05-01</td>\n      <td>9.422857</td>\n      <td>9.567143</td>\n      <td>7.116071</td>\n      <td>9.174286</td>\n      <td>7.902396</td>\n      <td>1.808265e+10</td>\n      <td>AAPL</td>\n    </tr>\n    <tr>\n      <th>9</th>\n      <td>2010-11-01</td>\n      <td>10.793571</td>\n      <td>11.475000</td>\n      <td>10.634286</td>\n      <td>11.112500</td>\n      <td>9.571903</td>\n      <td>9.508086e+09</td>\n      <td>AAPL</td>\n    </tr>\n    <tr>\n      <th>15</th>\n      <td>2011-05-01</td>\n      <td>12.490714</td>\n      <td>12.565357</td>\n      <td>11.765000</td>\n      <td>12.422500</td>\n      <td>10.700285</td>\n      <td>6.912060e+09</td>\n      <td>AAPL</td>\n    </tr>\n    <tr>\n      <th>21</th>\n      <td>2011-11-01</td>\n      <td>14.193214</td>\n      <td>14.571429</td>\n      <td>12.975714</td>\n      <td>13.650000</td>\n      <td>11.757608</td>\n      <td>8.963702e+09</td>\n      <td>AAPL</td>\n    </tr>\n    <tr>\n      <th>27</th>\n      <td>2012-05-01</td>\n      <td>20.889286</td>\n      <td>21.312857</td>\n      <td>18.649286</td>\n      <td>20.633215</td>\n      <td>17.772696</td>\n      <td>1.110635e+10</td>\n      <td>AAPL</td>\n    </tr>\n    <tr>\n      <th>...</th>\n      <td>...</td>\n      <td>...</td>\n      <td>...</td>\n      <td>...</td>\n      <td>...</td>\n      <td>...</td>\n      <td>...</td>\n      <td>...</td>\n    </tr>\n    <tr>\n      <th>65352</th>\n      <td>2013-11-01</td>\n      <td>17.870001</td>\n      <td>18.260000</td>\n      <td>17.000000</td>\n      <td>17.969999</td>\n      <td>16.540766</td>\n      <td>1.500440e+07</td>\n      <td>NWS</td>\n    </tr>\n    <tr>\n      <th>65358</th>\n      <td>2014-05-01</td>\n      <td>16.600000</td>\n      <td>17.650000</td>\n      <td>16.320000</td>\n      <td>16.590000</td>\n      <td>15.270526</td>\n      <td>1.192450e+07</td>\n      <td>NWS</td>\n    </tr>\n    <tr>\n      <th>65364</th>\n      <td>2014-11-01</td>\n      <td>15.020000</td>\n      <td>15.440000</td>\n      <td>14.340000</td>\n      <td>15.050000</td>\n      <td>13.853006</td>\n      <td>3.394880e+07</td>\n      <td>NWS</td>\n    </tr>\n    <tr>\n      <th>65370</th>\n      <td>2015-05-01</td>\n      <td>15.690000</td>\n      <td>16.170000</td>\n      <td>14.780000</td>\n      <td>14.950000</td>\n      <td>13.760961</td>\n      <td>2.324360e+07</td>\n      <td>NWS</td>\n    </tr>\n    <tr>\n      <th>65376</th>\n      <td>2015-11-01</td>\n      <td>15.470000</td>\n      <td>15.740000</td>\n      <td>13.880000</td>\n      <td>14.460000</td>\n      <td>13.411923</td>\n      <td>2.012570e+07</td>\n      <td>NWS</td>\n    </tr>\n  </tbody>\n</table>\n<p>2505 rows × 8 columns</p>\n</div>"
     },
     "metadata": {},
     "execution_count": 247
    }
   ],
   "source": [
    "#df of just the midpoint dates for sanity check\n",
    "df[df['Date'].isin(j_end.strftime(\"%Y-%m-%d\").to_list())].groupby('Name').head(5)"
   ]
  },
  {
   "cell_type": "code",
   "execution_count": 248,
   "metadata": {},
   "outputs": [
    {
     "output_type": "execute_result",
     "data": {
      "text/plain": [
       "['2010-02-01',\n",
       " '2010-08-01',\n",
       " '2011-02-01',\n",
       " '2011-08-01',\n",
       " '2012-02-01',\n",
       " '2012-08-01',\n",
       " '2013-02-01',\n",
       " '2013-08-01',\n",
       " '2014-02-01',\n",
       " '2014-08-01',\n",
       " '2015-02-01',\n",
       " '2015-08-01',\n",
       " '2016-02-01',\n",
       " '2016-08-01',\n",
       " '2017-02-01',\n",
       " '2017-08-01',\n",
       " '2018-02-01',\n",
       " '2018-08-01',\n",
       " '2019-02-01',\n",
       " '2019-08-01',\n",
       " '2020-02-01',\n",
       " '2020-08-01']"
      ]
     },
     "metadata": {},
     "execution_count": 248
    }
   ],
   "source": [
    "# based on the midpoint, get the start point for each observe and hold period\n",
    "j_start = j_end + pd.DateOffset(months=-j*3)\n",
    "j_start.strftime(\"%Y-%m-%d\").to_list()"
   ]
  },
  {
   "cell_type": "code",
   "execution_count": 249,
   "metadata": {},
   "outputs": [
    {
     "output_type": "execute_result",
     "data": {
      "text/plain": [
       "['2010-11-01',\n",
       " '2011-05-01',\n",
       " '2011-11-01',\n",
       " '2012-05-01',\n",
       " '2012-11-01',\n",
       " '2013-05-01',\n",
       " '2013-11-01',\n",
       " '2014-05-01',\n",
       " '2014-11-01',\n",
       " '2015-05-01',\n",
       " '2015-11-01',\n",
       " '2016-05-01',\n",
       " '2016-11-01',\n",
       " '2017-05-01',\n",
       " '2017-11-01',\n",
       " '2018-05-01',\n",
       " '2018-11-01',\n",
       " '2019-05-01',\n",
       " '2019-11-01',\n",
       " '2020-05-01',\n",
       " '2020-11-01',\n",
       " '2021-05-01']"
      ]
     },
     "metadata": {},
     "execution_count": 249
    }
   ],
   "source": [
    "# based on the midpoint, get the end point for each observe and hold period\n",
    "k_end = j_end + pd.DateOffset(months=k*3)\n",
    "k_end.strftime(\"%Y-%m-%d\").to_list()"
   ]
  },
  {
   "cell_type": "code",
   "execution_count": 250,
   "metadata": {},
   "outputs": [
    {
     "output_type": "execute_result",
     "data": {
      "text/plain": [
       "      j_start   midpoint      k_end\n",
       "0  2010-02-01 2010-05-01 2010-11-01\n",
       "1  2010-08-01 2010-11-01 2011-05-01\n",
       "2  2011-02-01 2011-05-01 2011-11-01\n",
       "3  2011-08-01 2011-11-01 2012-05-01\n",
       "4  2012-02-01 2012-05-01 2012-11-01\n",
       "5  2012-08-01 2012-11-01 2013-05-01\n",
       "6  2013-02-01 2013-05-01 2013-11-01\n",
       "7  2013-08-01 2013-11-01 2014-05-01\n",
       "8  2014-02-01 2014-05-01 2014-11-01\n",
       "9  2014-08-01 2014-11-01 2015-05-01\n",
       "10 2015-02-01 2015-05-01 2015-11-01\n",
       "11 2015-08-01 2015-11-01 2016-05-01\n",
       "12 2016-02-01 2016-05-01 2016-11-01\n",
       "13 2016-08-01 2016-11-01 2017-05-01\n",
       "14 2017-02-01 2017-05-01 2017-11-01\n",
       "15 2017-08-01 2017-11-01 2018-05-01\n",
       "16 2018-02-01 2018-05-01 2018-11-01\n",
       "17 2018-08-01 2018-11-01 2019-05-01\n",
       "18 2019-02-01 2019-05-01 2019-11-01\n",
       "19 2019-08-01 2019-11-01 2020-05-01\n",
       "20 2020-02-01 2020-05-01 2020-11-01\n",
       "21 2020-08-01 2020-11-01 2021-05-01"
      ],
      "text/html": "<div>\n<style scoped>\n    .dataframe tbody tr th:only-of-type {\n        vertical-align: middle;\n    }\n\n    .dataframe tbody tr th {\n        vertical-align: top;\n    }\n\n    .dataframe thead th {\n        text-align: right;\n    }\n</style>\n<table border=\"1\" class=\"dataframe\">\n  <thead>\n    <tr style=\"text-align: right;\">\n      <th></th>\n      <th>j_start</th>\n      <th>midpoint</th>\n      <th>k_end</th>\n    </tr>\n  </thead>\n  <tbody>\n    <tr>\n      <th>0</th>\n      <td>2010-02-01</td>\n      <td>2010-05-01</td>\n      <td>2010-11-01</td>\n    </tr>\n    <tr>\n      <th>1</th>\n      <td>2010-08-01</td>\n      <td>2010-11-01</td>\n      <td>2011-05-01</td>\n    </tr>\n    <tr>\n      <th>2</th>\n      <td>2011-02-01</td>\n      <td>2011-05-01</td>\n      <td>2011-11-01</td>\n    </tr>\n    <tr>\n      <th>3</th>\n      <td>2011-08-01</td>\n      <td>2011-11-01</td>\n      <td>2012-05-01</td>\n    </tr>\n    <tr>\n      <th>4</th>\n      <td>2012-02-01</td>\n      <td>2012-05-01</td>\n      <td>2012-11-01</td>\n    </tr>\n    <tr>\n      <th>5</th>\n      <td>2012-08-01</td>\n      <td>2012-11-01</td>\n      <td>2013-05-01</td>\n    </tr>\n    <tr>\n      <th>6</th>\n      <td>2013-02-01</td>\n      <td>2013-05-01</td>\n      <td>2013-11-01</td>\n    </tr>\n    <tr>\n      <th>7</th>\n      <td>2013-08-01</td>\n      <td>2013-11-01</td>\n      <td>2014-05-01</td>\n    </tr>\n    <tr>\n      <th>8</th>\n      <td>2014-02-01</td>\n      <td>2014-05-01</td>\n      <td>2014-11-01</td>\n    </tr>\n    <tr>\n      <th>9</th>\n      <td>2014-08-01</td>\n      <td>2014-11-01</td>\n      <td>2015-05-01</td>\n    </tr>\n    <tr>\n      <th>10</th>\n      <td>2015-02-01</td>\n      <td>2015-05-01</td>\n      <td>2015-11-01</td>\n    </tr>\n    <tr>\n      <th>11</th>\n      <td>2015-08-01</td>\n      <td>2015-11-01</td>\n      <td>2016-05-01</td>\n    </tr>\n    <tr>\n      <th>12</th>\n      <td>2016-02-01</td>\n      <td>2016-05-01</td>\n      <td>2016-11-01</td>\n    </tr>\n    <tr>\n      <th>13</th>\n      <td>2016-08-01</td>\n      <td>2016-11-01</td>\n      <td>2017-05-01</td>\n    </tr>\n    <tr>\n      <th>14</th>\n      <td>2017-02-01</td>\n      <td>2017-05-01</td>\n      <td>2017-11-01</td>\n    </tr>\n    <tr>\n      <th>15</th>\n      <td>2017-08-01</td>\n      <td>2017-11-01</td>\n      <td>2018-05-01</td>\n    </tr>\n    <tr>\n      <th>16</th>\n      <td>2018-02-01</td>\n      <td>2018-05-01</td>\n      <td>2018-11-01</td>\n    </tr>\n    <tr>\n      <th>17</th>\n      <td>2018-08-01</td>\n      <td>2018-11-01</td>\n      <td>2019-05-01</td>\n    </tr>\n    <tr>\n      <th>18</th>\n      <td>2019-02-01</td>\n      <td>2019-05-01</td>\n      <td>2019-11-01</td>\n    </tr>\n    <tr>\n      <th>19</th>\n      <td>2019-08-01</td>\n      <td>2019-11-01</td>\n      <td>2020-05-01</td>\n    </tr>\n    <tr>\n      <th>20</th>\n      <td>2020-02-01</td>\n      <td>2020-05-01</td>\n      <td>2020-11-01</td>\n    </tr>\n    <tr>\n      <th>21</th>\n      <td>2020-08-01</td>\n      <td>2020-11-01</td>\n      <td>2021-05-01</td>\n    </tr>\n  </tbody>\n</table>\n</div>"
     },
     "metadata": {},
     "execution_count": 250
    }
   ],
   "source": [
    "timedf = pd.DataFrame({'j_start': j_start, 'midpoint': j_end, 'k_end': k_end}).infer_objects() # i put all this garbage in a handy function below\n",
    "timedf"
   ]
  },
  {
   "source": [
    "## ^^^let me know if this timedf time table is useful or not. I wanted an easy way to organize time. we can very easily switch it over to getting that midpoint value instead"
   ],
   "cell_type": "markdown",
   "metadata": {}
  },
  {
   "cell_type": "code",
   "execution_count": 251,
   "metadata": {},
   "outputs": [
    {
     "output_type": "execute_result",
     "data": {
      "text/plain": [
       "      j_start   midpoint      k_end\n",
       "0  2010-02-01 2010-05-01 2010-11-01\n",
       "1  2010-08-01 2010-11-01 2011-05-01\n",
       "2  2011-02-01 2011-05-01 2011-11-01\n",
       "3  2011-08-01 2011-11-01 2012-05-01\n",
       "4  2012-02-01 2012-05-01 2012-11-01\n",
       "5  2012-08-01 2012-11-01 2013-05-01\n",
       "6  2013-02-01 2013-05-01 2013-11-01\n",
       "7  2013-08-01 2013-11-01 2014-05-01\n",
       "8  2014-02-01 2014-05-01 2014-11-01\n",
       "9  2014-08-01 2014-11-01 2015-05-01\n",
       "10 2015-02-01 2015-05-01 2015-11-01\n",
       "11 2015-08-01 2015-11-01 2016-05-01\n",
       "12 2016-02-01 2016-05-01 2016-11-01\n",
       "13 2016-08-01 2016-11-01 2017-05-01\n",
       "14 2017-02-01 2017-05-01 2017-11-01\n",
       "15 2017-08-01 2017-11-01 2018-05-01\n",
       "16 2018-02-01 2018-05-01 2018-11-01\n",
       "17 2018-08-01 2018-11-01 2019-05-01\n",
       "18 2019-02-01 2019-05-01 2019-11-01\n",
       "19 2019-08-01 2019-11-01 2020-05-01\n",
       "20 2020-02-01 2020-05-01 2020-11-01\n",
       "21 2020-08-01 2020-11-01 2021-05-01"
      ],
      "text/html": "<div>\n<style scoped>\n    .dataframe tbody tr th:only-of-type {\n        vertical-align: middle;\n    }\n\n    .dataframe tbody tr th {\n        vertical-align: top;\n    }\n\n    .dataframe thead th {\n        text-align: right;\n    }\n</style>\n<table border=\"1\" class=\"dataframe\">\n  <thead>\n    <tr style=\"text-align: right;\">\n      <th></th>\n      <th>j_start</th>\n      <th>midpoint</th>\n      <th>k_end</th>\n    </tr>\n  </thead>\n  <tbody>\n    <tr>\n      <th>0</th>\n      <td>2010-02-01</td>\n      <td>2010-05-01</td>\n      <td>2010-11-01</td>\n    </tr>\n    <tr>\n      <th>1</th>\n      <td>2010-08-01</td>\n      <td>2010-11-01</td>\n      <td>2011-05-01</td>\n    </tr>\n    <tr>\n      <th>2</th>\n      <td>2011-02-01</td>\n      <td>2011-05-01</td>\n      <td>2011-11-01</td>\n    </tr>\n    <tr>\n      <th>3</th>\n      <td>2011-08-01</td>\n      <td>2011-11-01</td>\n      <td>2012-05-01</td>\n    </tr>\n    <tr>\n      <th>4</th>\n      <td>2012-02-01</td>\n      <td>2012-05-01</td>\n      <td>2012-11-01</td>\n    </tr>\n    <tr>\n      <th>5</th>\n      <td>2012-08-01</td>\n      <td>2012-11-01</td>\n      <td>2013-05-01</td>\n    </tr>\n    <tr>\n      <th>6</th>\n      <td>2013-02-01</td>\n      <td>2013-05-01</td>\n      <td>2013-11-01</td>\n    </tr>\n    <tr>\n      <th>7</th>\n      <td>2013-08-01</td>\n      <td>2013-11-01</td>\n      <td>2014-05-01</td>\n    </tr>\n    <tr>\n      <th>8</th>\n      <td>2014-02-01</td>\n      <td>2014-05-01</td>\n      <td>2014-11-01</td>\n    </tr>\n    <tr>\n      <th>9</th>\n      <td>2014-08-01</td>\n      <td>2014-11-01</td>\n      <td>2015-05-01</td>\n    </tr>\n    <tr>\n      <th>10</th>\n      <td>2015-02-01</td>\n      <td>2015-05-01</td>\n      <td>2015-11-01</td>\n    </tr>\n    <tr>\n      <th>11</th>\n      <td>2015-08-01</td>\n      <td>2015-11-01</td>\n      <td>2016-05-01</td>\n    </tr>\n    <tr>\n      <th>12</th>\n      <td>2016-02-01</td>\n      <td>2016-05-01</td>\n      <td>2016-11-01</td>\n    </tr>\n    <tr>\n      <th>13</th>\n      <td>2016-08-01</td>\n      <td>2016-11-01</td>\n      <td>2017-05-01</td>\n    </tr>\n    <tr>\n      <th>14</th>\n      <td>2017-02-01</td>\n      <td>2017-05-01</td>\n      <td>2017-11-01</td>\n    </tr>\n    <tr>\n      <th>15</th>\n      <td>2017-08-01</td>\n      <td>2017-11-01</td>\n      <td>2018-05-01</td>\n    </tr>\n    <tr>\n      <th>16</th>\n      <td>2018-02-01</td>\n      <td>2018-05-01</td>\n      <td>2018-11-01</td>\n    </tr>\n    <tr>\n      <th>17</th>\n      <td>2018-08-01</td>\n      <td>2018-11-01</td>\n      <td>2019-05-01</td>\n    </tr>\n    <tr>\n      <th>18</th>\n      <td>2019-02-01</td>\n      <td>2019-05-01</td>\n      <td>2019-11-01</td>\n    </tr>\n    <tr>\n      <th>19</th>\n      <td>2019-08-01</td>\n      <td>2019-11-01</td>\n      <td>2020-05-01</td>\n    </tr>\n    <tr>\n      <th>20</th>\n      <td>2020-02-01</td>\n      <td>2020-05-01</td>\n      <td>2020-11-01</td>\n    </tr>\n    <tr>\n      <th>21</th>\n      <td>2020-08-01</td>\n      <td>2020-11-01</td>\n      <td>2021-05-01</td>\n    </tr>\n  </tbody>\n</table>\n</div>"
     },
     "metadata": {},
     "execution_count": 251
    }
   ],
   "source": [
    "def generate_timetable(j=1, k=2):\n",
    "    '''aims to generate the MONTHLY table of times for each observe/hold period. The midpoint in this context is where we switch from the observation period len=j to the holding period len=k'''\n",
    "    \n",
    "    j_end = pd.date_range(st+pd.DateOffset(months=j*3), et, freq=str(k*3)+\"MS\") # the 'midpoints' for each observe and hold period. \n",
    "    j_start = j_end + pd.DateOffset(months=-j*3) # based on the midpoint, get the start point for each observe and hold period\n",
    "    k_end = j_end + pd.DateOffset(months=k*3) # based on the midpoint, get the end point for each observe and hold period\n",
    "    timetable = pd.DataFrame({'j_start': j_start, 'midpoint': j_end, 'k_end': k_end}).infer_objects()\n",
    "    return timetable, j, k\n",
    "timedf, j, k = generate_timetable()\n",
    "timedf"
   ]
  },
  {
   "cell_type": "code",
   "execution_count": 252,
   "metadata": {},
   "outputs": [
    {
     "output_type": "execute_result",
     "data": {
      "text/plain": [
       "0       2010-02-01\n",
       "1       2010-03-01\n",
       "2       2010-04-01\n",
       "3       2010-05-01\n",
       "4       2010-06-01\n",
       "           ...    \n",
       "65437   2020-12-01\n",
       "65438   2021-01-01\n",
       "65439   2021-02-01\n",
       "65440   2021-03-01\n",
       "65441   2021-03-05\n",
       "Name: Date, Length: 65442, dtype: datetime64[ns]"
      ]
     },
     "metadata": {},
     "execution_count": 252
    }
   ],
   "source": [
    "df['Date']"
   ]
  },
  {
   "cell_type": "code",
   "execution_count": 253,
   "metadata": {},
   "outputs": [],
   "source": [
    "midpoint = timedf.iloc[0].midpoint"
   ]
  },
  {
   "cell_type": "code",
   "execution_count": 254,
   "metadata": {
    "tags": []
   },
   "outputs": [
    {
     "output_type": "execute_result",
     "data": {
      "text/plain": [
       "            Date       Open       High        Low      Close  Adj Close  \\\n",
       "0     2010-02-01   6.870357   7.327500   6.816071   7.307857   6.294721   \n",
       "1     2010-03-01   7.348214   8.481429   7.337500   8.392857   7.229299   \n",
       "2     2010-04-01   8.478929   9.730714   8.312500   9.324643   8.031907   \n",
       "3     2010-05-01   9.422857   9.567143   7.116071   9.174286   7.902396   \n",
       "135   2010-02-01  28.389999  29.030001  27.570000  28.670000  22.278278   \n",
       "...          ...        ...        ...        ...        ...        ...   \n",
       "65342 2020-11-01  12.410000  15.035000  12.360000  14.550000  14.550000   \n",
       "65433 2020-08-01  12.790000  15.550000  12.680000  15.070000  14.970856   \n",
       "65434 2020-09-01  15.010000  15.700000  13.690000  13.980000  13.888026   \n",
       "65435 2020-10-01  13.970000  14.610000  12.680000  13.020000  13.020000   \n",
       "65436 2020-11-01  13.110000  18.330000  12.970000  17.809999  17.809999   \n",
       "\n",
       "             Volume  Name period  \n",
       "0      1.077608e+10  AAPL      0  \n",
       "1      1.215417e+10  AAPL      0  \n",
       "2      1.236713e+10  AAPL      0  \n",
       "3      1.808265e+10  AAPL      0  \n",
       "135    1.074643e+09  MSFT      0  \n",
       "...             ...   ...    ...  \n",
       "65342  7.947709e+07    UA     21  \n",
       "65433  8.911600e+06   NWS     21  \n",
       "65434  1.345070e+07   NWS     21  \n",
       "65435  8.181500e+06   NWS     21  \n",
       "65436  1.109630e+07   NWS     21  \n",
       "\n",
       "[42582 rows x 9 columns]"
      ],
      "text/html": "<div>\n<style scoped>\n    .dataframe tbody tr th:only-of-type {\n        vertical-align: middle;\n    }\n\n    .dataframe tbody tr th {\n        vertical-align: top;\n    }\n\n    .dataframe thead th {\n        text-align: right;\n    }\n</style>\n<table border=\"1\" class=\"dataframe\">\n  <thead>\n    <tr style=\"text-align: right;\">\n      <th></th>\n      <th>Date</th>\n      <th>Open</th>\n      <th>High</th>\n      <th>Low</th>\n      <th>Close</th>\n      <th>Adj Close</th>\n      <th>Volume</th>\n      <th>Name</th>\n      <th>period</th>\n    </tr>\n  </thead>\n  <tbody>\n    <tr>\n      <th>0</th>\n      <td>2010-02-01</td>\n      <td>6.870357</td>\n      <td>7.327500</td>\n      <td>6.816071</td>\n      <td>7.307857</td>\n      <td>6.294721</td>\n      <td>1.077608e+10</td>\n      <td>AAPL</td>\n      <td>0</td>\n    </tr>\n    <tr>\n      <th>1</th>\n      <td>2010-03-01</td>\n      <td>7.348214</td>\n      <td>8.481429</td>\n      <td>7.337500</td>\n      <td>8.392857</td>\n      <td>7.229299</td>\n      <td>1.215417e+10</td>\n      <td>AAPL</td>\n      <td>0</td>\n    </tr>\n    <tr>\n      <th>2</th>\n      <td>2010-04-01</td>\n      <td>8.478929</td>\n      <td>9.730714</td>\n      <td>8.312500</td>\n      <td>9.324643</td>\n      <td>8.031907</td>\n      <td>1.236713e+10</td>\n      <td>AAPL</td>\n      <td>0</td>\n    </tr>\n    <tr>\n      <th>3</th>\n      <td>2010-05-01</td>\n      <td>9.422857</td>\n      <td>9.567143</td>\n      <td>7.116071</td>\n      <td>9.174286</td>\n      <td>7.902396</td>\n      <td>1.808265e+10</td>\n      <td>AAPL</td>\n      <td>0</td>\n    </tr>\n    <tr>\n      <th>135</th>\n      <td>2010-02-01</td>\n      <td>28.389999</td>\n      <td>29.030001</td>\n      <td>27.570000</td>\n      <td>28.670000</td>\n      <td>22.278278</td>\n      <td>1.074643e+09</td>\n      <td>MSFT</td>\n      <td>0</td>\n    </tr>\n    <tr>\n      <th>...</th>\n      <td>...</td>\n      <td>...</td>\n      <td>...</td>\n      <td>...</td>\n      <td>...</td>\n      <td>...</td>\n      <td>...</td>\n      <td>...</td>\n      <td>...</td>\n    </tr>\n    <tr>\n      <th>65342</th>\n      <td>2020-11-01</td>\n      <td>12.410000</td>\n      <td>15.035000</td>\n      <td>12.360000</td>\n      <td>14.550000</td>\n      <td>14.550000</td>\n      <td>7.947709e+07</td>\n      <td>UA</td>\n      <td>21</td>\n    </tr>\n    <tr>\n      <th>65433</th>\n      <td>2020-08-01</td>\n      <td>12.790000</td>\n      <td>15.550000</td>\n      <td>12.680000</td>\n      <td>15.070000</td>\n      <td>14.970856</td>\n      <td>8.911600e+06</td>\n      <td>NWS</td>\n      <td>21</td>\n    </tr>\n    <tr>\n      <th>65434</th>\n      <td>2020-09-01</td>\n      <td>15.010000</td>\n      <td>15.700000</td>\n      <td>13.690000</td>\n      <td>13.980000</td>\n      <td>13.888026</td>\n      <td>1.345070e+07</td>\n      <td>NWS</td>\n      <td>21</td>\n    </tr>\n    <tr>\n      <th>65435</th>\n      <td>2020-10-01</td>\n      <td>13.970000</td>\n      <td>14.610000</td>\n      <td>12.680000</td>\n      <td>13.020000</td>\n      <td>13.020000</td>\n      <td>8.181500e+06</td>\n      <td>NWS</td>\n      <td>21</td>\n    </tr>\n    <tr>\n      <th>65436</th>\n      <td>2020-11-01</td>\n      <td>13.110000</td>\n      <td>18.330000</td>\n      <td>12.970000</td>\n      <td>17.809999</td>\n      <td>17.809999</td>\n      <td>1.109630e+07</td>\n      <td>NWS</td>\n      <td>21</td>\n    </tr>\n  </tbody>\n</table>\n<p>42582 rows × 9 columns</p>\n</div>"
     },
     "metadata": {},
     "execution_count": 254
    }
   ],
   "source": [
    "def get_j_df(id=-1, midpoint=None, j=1):\n",
    "    '''this should spit out a dataframe of data in the observational period j given specific id or midpoint value. \n",
    "    if unspecified it throws all of them at you with an extra identifying column \"periods\"'''\n",
    "    if (id==-1): # not really sure why we need this but ill include it. this adds a sector column to the data for future filtering purposes if needed\n",
    "        df_i = pd.DataFrame(columns=df.columns.to_list()+['period']) #dummy empty df\n",
    "        for i in timedf.index: \n",
    "            # print(timedf.iloc[i].j_start,timedf.iloc[i].midpoint)\n",
    "            df_ = df[(timedf.iloc[i].j_start <= pd.to_datetime(df['Date']))&(pd.to_datetime(df['Date']) <= timedf.iloc[i].midpoint)] # gets dates btw start and midpt\n",
    "            df_['period'] = i\n",
    "            df_i = pd.concat([df_i, df_])\n",
    "\n",
    "        return df_i\n",
    "    if (midpoint):\n",
    "        start_time = midpoint + pd.DateOffset(months=-j*3)\n",
    "        print('given ', midpoint.strftime(\"%Y-%m-%d\"), ', getting range ', start_time.strftime(\"%Y-%m-%d\"),midpoint.strftime(\"%Y-%m-%d\"))\n",
    "\n",
    "        return df[(start_time <= pd.to_datetime(df['Date']))&(pd.to_datetime(df['Date']) <= midpoint)]\n",
    "    return df[(timedf.iloc[id].j_start <= pd.to_datetime(df['Date']))&(pd.to_datetime(df['Date']) <= timedf.iloc[id].midpoint)] # gets dates btw start and midpt from table\n",
    "df0 = get_j_df(midpoint=midpoint, j=j)\n",
    "df0"
   ]
  },
  {
   "cell_type": "code",
   "execution_count": 255,
   "metadata": {},
   "outputs": [
    {
     "output_type": "execute_result",
     "data": {
      "text/plain": [
       "            Date       Open       High        Low      Close  Adj Close  \\\n",
       "0     2010-02-01   6.870357   7.327500   6.816071   7.307857   6.294721   \n",
       "1     2010-03-01   7.348214   8.481429   7.337500   8.392857   7.229299   \n",
       "2     2010-04-01   8.478929   9.730714   8.312500   9.324643   8.031907   \n",
       "3     2010-05-01   9.422857   9.567143   7.116071   9.174286   7.902396   \n",
       "135   2010-02-01  28.389999  29.030001  27.570000  28.670000  22.278278   \n",
       "...          ...        ...        ...        ...        ...        ...   \n",
       "65342 2020-11-01  12.410000  15.035000  12.360000  14.550000  14.550000   \n",
       "65433 2020-08-01  12.790000  15.550000  12.680000  15.070000  14.970856   \n",
       "65434 2020-09-01  15.010000  15.700000  13.690000  13.980000  13.888026   \n",
       "65435 2020-10-01  13.970000  14.610000  12.680000  13.020000  13.020000   \n",
       "65436 2020-11-01  13.110000  18.330000  12.970000  17.809999  17.809999   \n",
       "\n",
       "             Volume  Name period  \n",
       "0      1.077608e+10  AAPL      0  \n",
       "1      1.215417e+10  AAPL      0  \n",
       "2      1.236713e+10  AAPL      0  \n",
       "3      1.808265e+10  AAPL      0  \n",
       "135    1.074643e+09  MSFT      0  \n",
       "...             ...   ...    ...  \n",
       "65342  7.947709e+07    UA     21  \n",
       "65433  8.911600e+06   NWS     21  \n",
       "65434  1.345070e+07   NWS     21  \n",
       "65435  8.181500e+06   NWS     21  \n",
       "65436  1.109630e+07   NWS     21  \n",
       "\n",
       "[42582 rows x 9 columns]"
      ],
      "text/html": "<div>\n<style scoped>\n    .dataframe tbody tr th:only-of-type {\n        vertical-align: middle;\n    }\n\n    .dataframe tbody tr th {\n        vertical-align: top;\n    }\n\n    .dataframe thead th {\n        text-align: right;\n    }\n</style>\n<table border=\"1\" class=\"dataframe\">\n  <thead>\n    <tr style=\"text-align: right;\">\n      <th></th>\n      <th>Date</th>\n      <th>Open</th>\n      <th>High</th>\n      <th>Low</th>\n      <th>Close</th>\n      <th>Adj Close</th>\n      <th>Volume</th>\n      <th>Name</th>\n      <th>period</th>\n    </tr>\n  </thead>\n  <tbody>\n    <tr>\n      <th>0</th>\n      <td>2010-02-01</td>\n      <td>6.870357</td>\n      <td>7.327500</td>\n      <td>6.816071</td>\n      <td>7.307857</td>\n      <td>6.294721</td>\n      <td>1.077608e+10</td>\n      <td>AAPL</td>\n      <td>0</td>\n    </tr>\n    <tr>\n      <th>1</th>\n      <td>2010-03-01</td>\n      <td>7.348214</td>\n      <td>8.481429</td>\n      <td>7.337500</td>\n      <td>8.392857</td>\n      <td>7.229299</td>\n      <td>1.215417e+10</td>\n      <td>AAPL</td>\n      <td>0</td>\n    </tr>\n    <tr>\n      <th>2</th>\n      <td>2010-04-01</td>\n      <td>8.478929</td>\n      <td>9.730714</td>\n      <td>8.312500</td>\n      <td>9.324643</td>\n      <td>8.031907</td>\n      <td>1.236713e+10</td>\n      <td>AAPL</td>\n      <td>0</td>\n    </tr>\n    <tr>\n      <th>3</th>\n      <td>2010-05-01</td>\n      <td>9.422857</td>\n      <td>9.567143</td>\n      <td>7.116071</td>\n      <td>9.174286</td>\n      <td>7.902396</td>\n      <td>1.808265e+10</td>\n      <td>AAPL</td>\n      <td>0</td>\n    </tr>\n    <tr>\n      <th>135</th>\n      <td>2010-02-01</td>\n      <td>28.389999</td>\n      <td>29.030001</td>\n      <td>27.570000</td>\n      <td>28.670000</td>\n      <td>22.278278</td>\n      <td>1.074643e+09</td>\n      <td>MSFT</td>\n      <td>0</td>\n    </tr>\n    <tr>\n      <th>...</th>\n      <td>...</td>\n      <td>...</td>\n      <td>...</td>\n      <td>...</td>\n      <td>...</td>\n      <td>...</td>\n      <td>...</td>\n      <td>...</td>\n      <td>...</td>\n    </tr>\n    <tr>\n      <th>65342</th>\n      <td>2020-11-01</td>\n      <td>12.410000</td>\n      <td>15.035000</td>\n      <td>12.360000</td>\n      <td>14.550000</td>\n      <td>14.550000</td>\n      <td>7.947709e+07</td>\n      <td>UA</td>\n      <td>21</td>\n    </tr>\n    <tr>\n      <th>65433</th>\n      <td>2020-08-01</td>\n      <td>12.790000</td>\n      <td>15.550000</td>\n      <td>12.680000</td>\n      <td>15.070000</td>\n      <td>14.970856</td>\n      <td>8.911600e+06</td>\n      <td>NWS</td>\n      <td>21</td>\n    </tr>\n    <tr>\n      <th>65434</th>\n      <td>2020-09-01</td>\n      <td>15.010000</td>\n      <td>15.700000</td>\n      <td>13.690000</td>\n      <td>13.980000</td>\n      <td>13.888026</td>\n      <td>1.345070e+07</td>\n      <td>NWS</td>\n      <td>21</td>\n    </tr>\n    <tr>\n      <th>65435</th>\n      <td>2020-10-01</td>\n      <td>13.970000</td>\n      <td>14.610000</td>\n      <td>12.680000</td>\n      <td>13.020000</td>\n      <td>13.020000</td>\n      <td>8.181500e+06</td>\n      <td>NWS</td>\n      <td>21</td>\n    </tr>\n    <tr>\n      <th>65436</th>\n      <td>2020-11-01</td>\n      <td>13.110000</td>\n      <td>18.330000</td>\n      <td>12.970000</td>\n      <td>17.809999</td>\n      <td>17.809999</td>\n      <td>1.109630e+07</td>\n      <td>NWS</td>\n      <td>21</td>\n    </tr>\n  </tbody>\n</table>\n<p>42582 rows × 9 columns</p>\n</div>"
     },
     "metadata": {},
     "execution_count": 255
    }
   ],
   "source": [
    "get_j_df(-1)"
   ]
  },
  {
   "cell_type": "code",
   "execution_count": 256,
   "metadata": {},
   "outputs": [
    {
     "output_type": "execute_result",
     "data": {
      "text/plain": [
       "            Date       Open       High        Low      Close  Adj Close  \\\n",
       "6     2010-08-01   9.301429   9.438571   8.412857   8.682143   7.478480   \n",
       "7     2010-09-01   8.838214  10.526071   8.795714  10.133929   8.728997   \n",
       "8     2010-10-01  10.219643  11.392857   9.920357  10.749286   9.259040   \n",
       "9     2010-11-01  10.793571  11.475000  10.634286  11.112500   9.571903   \n",
       "141   2010-08-01  25.990000  26.379999  23.320000  23.469999  18.405535   \n",
       "...          ...        ...        ...        ...        ...        ...   \n",
       "65026 2010-11-01   5.868750   7.336250   5.731250   7.216250   7.216250   \n",
       "65158 2010-08-01  25.665348  26.324112  21.923584  22.266140  14.402317   \n",
       "65159 2010-09-01  22.661398  28.036892  22.635046  27.272726  17.640709   \n",
       "65160 2010-10-01  27.430830  30.909092  27.140976  30.830040  20.023676   \n",
       "65161 2010-11-01  30.935440  31.515152  28.853756  30.197628  19.612934   \n",
       "\n",
       "             Volume  Name  \n",
       "6      9.589121e+09  AAPL  \n",
       "7      1.184992e+10  AAPL  \n",
       "8      1.223458e+10  AAPL  \n",
       "9      9.508086e+09  AAPL  \n",
       "141    1.279372e+09  MSFT  \n",
       "...             ...   ...  \n",
       "65026  1.164432e+08   UAA  \n",
       "65158  9.929796e+07   XRX  \n",
       "65159  1.052086e+08   XRX  \n",
       "65160  1.038929e+08   XRX  \n",
       "65161  8.215890e+07   XRX  \n",
       "\n",
       "[1816 rows x 8 columns]"
      ],
      "text/html": "<div>\n<style scoped>\n    .dataframe tbody tr th:only-of-type {\n        vertical-align: middle;\n    }\n\n    .dataframe tbody tr th {\n        vertical-align: top;\n    }\n\n    .dataframe thead th {\n        text-align: right;\n    }\n</style>\n<table border=\"1\" class=\"dataframe\">\n  <thead>\n    <tr style=\"text-align: right;\">\n      <th></th>\n      <th>Date</th>\n      <th>Open</th>\n      <th>High</th>\n      <th>Low</th>\n      <th>Close</th>\n      <th>Adj Close</th>\n      <th>Volume</th>\n      <th>Name</th>\n    </tr>\n  </thead>\n  <tbody>\n    <tr>\n      <th>6</th>\n      <td>2010-08-01</td>\n      <td>9.301429</td>\n      <td>9.438571</td>\n      <td>8.412857</td>\n      <td>8.682143</td>\n      <td>7.478480</td>\n      <td>9.589121e+09</td>\n      <td>AAPL</td>\n    </tr>\n    <tr>\n      <th>7</th>\n      <td>2010-09-01</td>\n      <td>8.838214</td>\n      <td>10.526071</td>\n      <td>8.795714</td>\n      <td>10.133929</td>\n      <td>8.728997</td>\n      <td>1.184992e+10</td>\n      <td>AAPL</td>\n    </tr>\n    <tr>\n      <th>8</th>\n      <td>2010-10-01</td>\n      <td>10.219643</td>\n      <td>11.392857</td>\n      <td>9.920357</td>\n      <td>10.749286</td>\n      <td>9.259040</td>\n      <td>1.223458e+10</td>\n      <td>AAPL</td>\n    </tr>\n    <tr>\n      <th>9</th>\n      <td>2010-11-01</td>\n      <td>10.793571</td>\n      <td>11.475000</td>\n      <td>10.634286</td>\n      <td>11.112500</td>\n      <td>9.571903</td>\n      <td>9.508086e+09</td>\n      <td>AAPL</td>\n    </tr>\n    <tr>\n      <th>141</th>\n      <td>2010-08-01</td>\n      <td>25.990000</td>\n      <td>26.379999</td>\n      <td>23.320000</td>\n      <td>23.469999</td>\n      <td>18.405535</td>\n      <td>1.279372e+09</td>\n      <td>MSFT</td>\n    </tr>\n    <tr>\n      <th>...</th>\n      <td>...</td>\n      <td>...</td>\n      <td>...</td>\n      <td>...</td>\n      <td>...</td>\n      <td>...</td>\n      <td>...</td>\n      <td>...</td>\n    </tr>\n    <tr>\n      <th>65026</th>\n      <td>2010-11-01</td>\n      <td>5.868750</td>\n      <td>7.336250</td>\n      <td>5.731250</td>\n      <td>7.216250</td>\n      <td>7.216250</td>\n      <td>1.164432e+08</td>\n      <td>UAA</td>\n    </tr>\n    <tr>\n      <th>65158</th>\n      <td>2010-08-01</td>\n      <td>25.665348</td>\n      <td>26.324112</td>\n      <td>21.923584</td>\n      <td>22.266140</td>\n      <td>14.402317</td>\n      <td>9.929796e+07</td>\n      <td>XRX</td>\n    </tr>\n    <tr>\n      <th>65159</th>\n      <td>2010-09-01</td>\n      <td>22.661398</td>\n      <td>28.036892</td>\n      <td>22.635046</td>\n      <td>27.272726</td>\n      <td>17.640709</td>\n      <td>1.052086e+08</td>\n      <td>XRX</td>\n    </tr>\n    <tr>\n      <th>65160</th>\n      <td>2010-10-01</td>\n      <td>27.430830</td>\n      <td>30.909092</td>\n      <td>27.140976</td>\n      <td>30.830040</td>\n      <td>20.023676</td>\n      <td>1.038929e+08</td>\n      <td>XRX</td>\n    </tr>\n    <tr>\n      <th>65161</th>\n      <td>2010-11-01</td>\n      <td>30.935440</td>\n      <td>31.515152</td>\n      <td>28.853756</td>\n      <td>30.197628</td>\n      <td>19.612934</td>\n      <td>8.215890e+07</td>\n      <td>XRX</td>\n    </tr>\n  </tbody>\n</table>\n<p>1816 rows × 8 columns</p>\n</div>"
     },
     "metadata": {},
     "execution_count": 256
    }
   ],
   "source": [
    "# we can get these ordered based on the timedf table index as well\n",
    "get_j_df(1)"
   ]
  },
  {
   "cell_type": "code",
   "execution_count": 257,
   "metadata": {},
   "outputs": [
    {
     "output_type": "stream",
     "name": "stdout",
     "text": [
      "['2010-05-01T00:00:00.000000000' '2010-06-01T00:00:00.000000000'\n '2010-07-01T00:00:00.000000000' '2010-08-01T00:00:00.000000000'\n '2010-09-01T00:00:00.000000000' '2010-10-01T00:00:00.000000000'\n '2010-11-01T00:00:00.000000000']\n454\n"
     ]
    }
   ],
   "source": [
    "print(get_k_df(0).Date.unique()) #sanity checking, hey it works\n",
    "print(len(get_k_df(0).Name.unique())) #sanity checking, here i learned that we have 505 tickers"
   ]
  },
  {
   "cell_type": "code",
   "execution_count": 258,
   "metadata": {},
   "outputs": [
    {
     "output_type": "execute_result",
     "data": {
      "text/plain": [
       "505"
      ]
     },
     "metadata": {},
     "execution_count": 258
    }
   ],
   "source": [
    "len(tickers) # read above"
   ]
  },
  {
   "cell_type": "code",
   "execution_count": 259,
   "metadata": {},
   "outputs": [
    {
     "output_type": "execute_result",
     "data": {
      "text/plain": [
       "            Date       Open       High        Low      Close  Adj Close  \\\n",
       "3     2010-05-01   9.422857   9.567143   7.116071   9.174286   7.902396   \n",
       "4     2010-06-01   9.274643   9.964643   8.650000   8.983214   7.737815   \n",
       "5     2010-07-01   9.082143   9.499643   8.557143   9.187500   7.913781   \n",
       "6     2010-08-01   9.301429   9.438571   8.412857   8.682143   7.478480   \n",
       "7     2010-09-01   8.838214  10.526071   8.795714  10.133929   8.728997   \n",
       "...          ...        ...        ...        ...        ...        ...   \n",
       "65437 2020-12-01  18.010000  18.730000  17.049999  17.770000  17.770000   \n",
       "65438 2021-01-01  17.959999  19.420000  17.590000  18.879999  18.879999   \n",
       "65439 2021-02-01  18.590000  24.110001  18.299999  22.920000  22.920000   \n",
       "65440 2021-03-01  23.209999  23.870001  22.389999  22.770000  22.770000   \n",
       "65441 2021-03-05  22.940001  23.545000  22.520000  23.500000  23.500000   \n",
       "\n",
       "             Volume  Name period  \n",
       "3      1.808265e+10  AAPL      0  \n",
       "4      1.665125e+10  AAPL      0  \n",
       "5      1.566970e+10  AAPL      0  \n",
       "6      9.589121e+09  AAPL      0  \n",
       "7      1.184992e+10  AAPL      0  \n",
       "...             ...   ...    ...  \n",
       "65437  1.891130e+07   NWS     21  \n",
       "65438  1.800300e+07   NWS     21  \n",
       "65439  1.325420e+07   NWS     21  \n",
       "65440  1.579400e+06   NWS     21  \n",
       "65441  5.092860e+05   NWS     21  \n",
       "\n",
       "[74295 rows x 9 columns]"
      ],
      "text/html": "<div>\n<style scoped>\n    .dataframe tbody tr th:only-of-type {\n        vertical-align: middle;\n    }\n\n    .dataframe tbody tr th {\n        vertical-align: top;\n    }\n\n    .dataframe thead th {\n        text-align: right;\n    }\n</style>\n<table border=\"1\" class=\"dataframe\">\n  <thead>\n    <tr style=\"text-align: right;\">\n      <th></th>\n      <th>Date</th>\n      <th>Open</th>\n      <th>High</th>\n      <th>Low</th>\n      <th>Close</th>\n      <th>Adj Close</th>\n      <th>Volume</th>\n      <th>Name</th>\n      <th>period</th>\n    </tr>\n  </thead>\n  <tbody>\n    <tr>\n      <th>3</th>\n      <td>2010-05-01</td>\n      <td>9.422857</td>\n      <td>9.567143</td>\n      <td>7.116071</td>\n      <td>9.174286</td>\n      <td>7.902396</td>\n      <td>1.808265e+10</td>\n      <td>AAPL</td>\n      <td>0</td>\n    </tr>\n    <tr>\n      <th>4</th>\n      <td>2010-06-01</td>\n      <td>9.274643</td>\n      <td>9.964643</td>\n      <td>8.650000</td>\n      <td>8.983214</td>\n      <td>7.737815</td>\n      <td>1.665125e+10</td>\n      <td>AAPL</td>\n      <td>0</td>\n    </tr>\n    <tr>\n      <th>5</th>\n      <td>2010-07-01</td>\n      <td>9.082143</td>\n      <td>9.499643</td>\n      <td>8.557143</td>\n      <td>9.187500</td>\n      <td>7.913781</td>\n      <td>1.566970e+10</td>\n      <td>AAPL</td>\n      <td>0</td>\n    </tr>\n    <tr>\n      <th>6</th>\n      <td>2010-08-01</td>\n      <td>9.301429</td>\n      <td>9.438571</td>\n      <td>8.412857</td>\n      <td>8.682143</td>\n      <td>7.478480</td>\n      <td>9.589121e+09</td>\n      <td>AAPL</td>\n      <td>0</td>\n    </tr>\n    <tr>\n      <th>7</th>\n      <td>2010-09-01</td>\n      <td>8.838214</td>\n      <td>10.526071</td>\n      <td>8.795714</td>\n      <td>10.133929</td>\n      <td>8.728997</td>\n      <td>1.184992e+10</td>\n      <td>AAPL</td>\n      <td>0</td>\n    </tr>\n    <tr>\n      <th>...</th>\n      <td>...</td>\n      <td>...</td>\n      <td>...</td>\n      <td>...</td>\n      <td>...</td>\n      <td>...</td>\n      <td>...</td>\n      <td>...</td>\n      <td>...</td>\n    </tr>\n    <tr>\n      <th>65437</th>\n      <td>2020-12-01</td>\n      <td>18.010000</td>\n      <td>18.730000</td>\n      <td>17.049999</td>\n      <td>17.770000</td>\n      <td>17.770000</td>\n      <td>1.891130e+07</td>\n      <td>NWS</td>\n      <td>21</td>\n    </tr>\n    <tr>\n      <th>65438</th>\n      <td>2021-01-01</td>\n      <td>17.959999</td>\n      <td>19.420000</td>\n      <td>17.590000</td>\n      <td>18.879999</td>\n      <td>18.879999</td>\n      <td>1.800300e+07</td>\n      <td>NWS</td>\n      <td>21</td>\n    </tr>\n    <tr>\n      <th>65439</th>\n      <td>2021-02-01</td>\n      <td>18.590000</td>\n      <td>24.110001</td>\n      <td>18.299999</td>\n      <td>22.920000</td>\n      <td>22.920000</td>\n      <td>1.325420e+07</td>\n      <td>NWS</td>\n      <td>21</td>\n    </tr>\n    <tr>\n      <th>65440</th>\n      <td>2021-03-01</td>\n      <td>23.209999</td>\n      <td>23.870001</td>\n      <td>22.389999</td>\n      <td>22.770000</td>\n      <td>22.770000</td>\n      <td>1.579400e+06</td>\n      <td>NWS</td>\n      <td>21</td>\n    </tr>\n    <tr>\n      <th>65441</th>\n      <td>2021-03-05</td>\n      <td>22.940001</td>\n      <td>23.545000</td>\n      <td>22.520000</td>\n      <td>23.500000</td>\n      <td>23.500000</td>\n      <td>5.092860e+05</td>\n      <td>NWS</td>\n      <td>21</td>\n    </tr>\n  </tbody>\n</table>\n<p>74295 rows × 9 columns</p>\n</div>"
     },
     "metadata": {},
     "execution_count": 259
    }
   ],
   "source": [
    "def get_k_df(id=-1, midpoint=None, k=k):\n",
    "    '''this should spit out a dataframe of data in the holding period k given specific id or midpoint value. \n",
    "    if unspecified it throws all of them at you with an extra identifying column \"periods\"'''\n",
    "    if (id==-1): # we can decide if this is useful later this adds a sector column to the data for future filtering purposes if needed\n",
    "        df_i = pd.DataFrame(columns=df.columns.to_list()+['period']) #dummy empty df\n",
    "        for i in timedf.index: \n",
    "            # print(timedf.iloc[i].j_start,timedf.iloc[i].midpoint)\n",
    "            df_ = df[(timedf.iloc[i].midpoint <= pd.to_datetime(df['Date']))&(pd.to_datetime(df['Date']) <= timedf.iloc[i].k_end)] # gets dates btw midpt and end\n",
    "            df_['period'] = i\n",
    "            df_i = pd.concat([df_i, df_])\n",
    "\n",
    "        return df_i\n",
    "    if (midpoint):\n",
    "        end_time = midpoint + pd.DateOffset(months=k*3)\n",
    "        print('given ', midpoint.strftime(\"%Y-%m-%d\"), ', getting range ', midpoint.strftime(\"%Y-%m-%d\"), end_time.strftime(\"%Y-%m-%d\"))\n",
    "\n",
    "        return df[(midpoint <= pd.to_datetime(df['Date']))&(pd.to_datetime(df['Date']) <= end_time)]\n",
    "    return df[(timedf.iloc[id].midpoint <= pd.to_datetime(df['Date']))&(pd.to_datetime(df['Date']) <= timedf.iloc[id].k_end)] # gets dates btw midpt and end\n",
    "get_k_df(midpoint=midpoint)"
   ]
  },
  {
   "cell_type": "code",
   "execution_count": 260,
   "metadata": {},
   "outputs": [
    {
     "output_type": "execute_result",
     "data": {
      "text/plain": [
       "            Date       Open       High        Low      Close  Adj Close  \\\n",
       "3     2010-05-01   9.422857   9.567143   7.116071   9.174286   7.902396   \n",
       "4     2010-06-01   9.274643   9.964643   8.650000   8.983214   7.737815   \n",
       "5     2010-07-01   9.082143   9.499643   8.557143   9.187500   7.913781   \n",
       "6     2010-08-01   9.301429   9.438571   8.412857   8.682143   7.478480   \n",
       "7     2010-09-01   8.838214  10.526071   8.795714  10.133929   8.728997   \n",
       "...          ...        ...        ...        ...        ...        ...   \n",
       "65157 2010-07-01  21.238472  25.981556  20.210804  25.665348  16.601019   \n",
       "65158 2010-08-01  25.665348  26.324112  21.923584  22.266140  14.402317   \n",
       "65159 2010-09-01  22.661398  28.036892  22.635046  27.272726  17.640709   \n",
       "65160 2010-10-01  27.430830  30.909092  27.140976  30.830040  20.023676   \n",
       "65161 2010-11-01  30.935440  31.515152  28.853756  30.197628  19.612934   \n",
       "\n",
       "             Volume  Name  \n",
       "3      1.808265e+10  AAPL  \n",
       "4      1.665125e+10  AAPL  \n",
       "5      1.566970e+10  AAPL  \n",
       "6      9.589121e+09  AAPL  \n",
       "7      1.184992e+10  AAPL  \n",
       "...             ...   ...  \n",
       "65157  1.537455e+08   XRX  \n",
       "65158  9.929796e+07   XRX  \n",
       "65159  1.052086e+08   XRX  \n",
       "65160  1.038929e+08   XRX  \n",
       "65161  8.215890e+07   XRX  \n",
       "\n",
       "[3174 rows x 8 columns]"
      ],
      "text/html": "<div>\n<style scoped>\n    .dataframe tbody tr th:only-of-type {\n        vertical-align: middle;\n    }\n\n    .dataframe tbody tr th {\n        vertical-align: top;\n    }\n\n    .dataframe thead th {\n        text-align: right;\n    }\n</style>\n<table border=\"1\" class=\"dataframe\">\n  <thead>\n    <tr style=\"text-align: right;\">\n      <th></th>\n      <th>Date</th>\n      <th>Open</th>\n      <th>High</th>\n      <th>Low</th>\n      <th>Close</th>\n      <th>Adj Close</th>\n      <th>Volume</th>\n      <th>Name</th>\n    </tr>\n  </thead>\n  <tbody>\n    <tr>\n      <th>3</th>\n      <td>2010-05-01</td>\n      <td>9.422857</td>\n      <td>9.567143</td>\n      <td>7.116071</td>\n      <td>9.174286</td>\n      <td>7.902396</td>\n      <td>1.808265e+10</td>\n      <td>AAPL</td>\n    </tr>\n    <tr>\n      <th>4</th>\n      <td>2010-06-01</td>\n      <td>9.274643</td>\n      <td>9.964643</td>\n      <td>8.650000</td>\n      <td>8.983214</td>\n      <td>7.737815</td>\n      <td>1.665125e+10</td>\n      <td>AAPL</td>\n    </tr>\n    <tr>\n      <th>5</th>\n      <td>2010-07-01</td>\n      <td>9.082143</td>\n      <td>9.499643</td>\n      <td>8.557143</td>\n      <td>9.187500</td>\n      <td>7.913781</td>\n      <td>1.566970e+10</td>\n      <td>AAPL</td>\n    </tr>\n    <tr>\n      <th>6</th>\n      <td>2010-08-01</td>\n      <td>9.301429</td>\n      <td>9.438571</td>\n      <td>8.412857</td>\n      <td>8.682143</td>\n      <td>7.478480</td>\n      <td>9.589121e+09</td>\n      <td>AAPL</td>\n    </tr>\n    <tr>\n      <th>7</th>\n      <td>2010-09-01</td>\n      <td>8.838214</td>\n      <td>10.526071</td>\n      <td>8.795714</td>\n      <td>10.133929</td>\n      <td>8.728997</td>\n      <td>1.184992e+10</td>\n      <td>AAPL</td>\n    </tr>\n    <tr>\n      <th>...</th>\n      <td>...</td>\n      <td>...</td>\n      <td>...</td>\n      <td>...</td>\n      <td>...</td>\n      <td>...</td>\n      <td>...</td>\n      <td>...</td>\n    </tr>\n    <tr>\n      <th>65157</th>\n      <td>2010-07-01</td>\n      <td>21.238472</td>\n      <td>25.981556</td>\n      <td>20.210804</td>\n      <td>25.665348</td>\n      <td>16.601019</td>\n      <td>1.537455e+08</td>\n      <td>XRX</td>\n    </tr>\n    <tr>\n      <th>65158</th>\n      <td>2010-08-01</td>\n      <td>25.665348</td>\n      <td>26.324112</td>\n      <td>21.923584</td>\n      <td>22.266140</td>\n      <td>14.402317</td>\n      <td>9.929796e+07</td>\n      <td>XRX</td>\n    </tr>\n    <tr>\n      <th>65159</th>\n      <td>2010-09-01</td>\n      <td>22.661398</td>\n      <td>28.036892</td>\n      <td>22.635046</td>\n      <td>27.272726</td>\n      <td>17.640709</td>\n      <td>1.052086e+08</td>\n      <td>XRX</td>\n    </tr>\n    <tr>\n      <th>65160</th>\n      <td>2010-10-01</td>\n      <td>27.430830</td>\n      <td>30.909092</td>\n      <td>27.140976</td>\n      <td>30.830040</td>\n      <td>20.023676</td>\n      <td>1.038929e+08</td>\n      <td>XRX</td>\n    </tr>\n    <tr>\n      <th>65161</th>\n      <td>2010-11-01</td>\n      <td>30.935440</td>\n      <td>31.515152</td>\n      <td>28.853756</td>\n      <td>30.197628</td>\n      <td>19.612934</td>\n      <td>8.215890e+07</td>\n      <td>XRX</td>\n    </tr>\n  </tbody>\n</table>\n<p>3174 rows × 8 columns</p>\n</div>"
     },
     "metadata": {},
     "execution_count": 260
    }
   ],
   "source": [
    "get_k_df(0)\n"
   ]
  },
  {
   "cell_type": "code",
   "execution_count": 261,
   "metadata": {},
   "outputs": [
    {
     "output_type": "execute_result",
     "data": {
      "text/plain": [
       "            Date       Open       High        Low      Close  Adj Close  \\\n",
       "0     2010-02-01   6.870357   7.327500   6.816071   7.307857   6.294721   \n",
       "1     2010-03-01   7.348214   8.481429   7.337500   8.392857   7.229299   \n",
       "2     2010-04-01   8.478929   9.730714   8.312500   9.324643   8.031907   \n",
       "3     2010-05-01   9.422857   9.567143   7.116071   9.174286   7.902396   \n",
       "135   2010-02-01  28.389999  29.030001  27.570000  28.670000  22.278278   \n",
       "...          ...        ...        ...        ...        ...        ...   \n",
       "65020 2010-05-01   4.250000   4.391250   3.640000   4.211250   4.211250   \n",
       "65152 2010-02-01  23.056652  24.769432  21.607378  24.690382  15.821362   \n",
       "65153 2010-03-01  24.716734  26.798420  24.716734  25.691700  16.463001   \n",
       "65154 2010-04-01  25.849802  30.882740  25.770752  28.722004  18.486734   \n",
       "65155 2010-05-01  28.959158  29.354414  22.292490  24.532278  15.790048   \n",
       "\n",
       "             Volume  Name  \n",
       "0      1.077608e+10  AAPL  \n",
       "1      1.215417e+10  AAPL  \n",
       "2      1.236713e+10  AAPL  \n",
       "3      1.808265e+10  AAPL  \n",
       "135    1.074643e+09  MSFT  \n",
       "...             ...   ...  \n",
       "65020  1.722504e+08   UAA  \n",
       "65152  1.179282e+08   XRX  \n",
       "65153  1.079048e+08   XRX  \n",
       "65154  1.574390e+08   XRX  \n",
       "65155  1.594772e+08   XRX  \n",
       "\n",
       "[1805 rows x 8 columns]"
      ],
      "text/html": "<div>\n<style scoped>\n    .dataframe tbody tr th:only-of-type {\n        vertical-align: middle;\n    }\n\n    .dataframe tbody tr th {\n        vertical-align: top;\n    }\n\n    .dataframe thead th {\n        text-align: right;\n    }\n</style>\n<table border=\"1\" class=\"dataframe\">\n  <thead>\n    <tr style=\"text-align: right;\">\n      <th></th>\n      <th>Date</th>\n      <th>Open</th>\n      <th>High</th>\n      <th>Low</th>\n      <th>Close</th>\n      <th>Adj Close</th>\n      <th>Volume</th>\n      <th>Name</th>\n    </tr>\n  </thead>\n  <tbody>\n    <tr>\n      <th>0</th>\n      <td>2010-02-01</td>\n      <td>6.870357</td>\n      <td>7.327500</td>\n      <td>6.816071</td>\n      <td>7.307857</td>\n      <td>6.294721</td>\n      <td>1.077608e+10</td>\n      <td>AAPL</td>\n    </tr>\n    <tr>\n      <th>1</th>\n      <td>2010-03-01</td>\n      <td>7.348214</td>\n      <td>8.481429</td>\n      <td>7.337500</td>\n      <td>8.392857</td>\n      <td>7.229299</td>\n      <td>1.215417e+10</td>\n      <td>AAPL</td>\n    </tr>\n    <tr>\n      <th>2</th>\n      <td>2010-04-01</td>\n      <td>8.478929</td>\n      <td>9.730714</td>\n      <td>8.312500</td>\n      <td>9.324643</td>\n      <td>8.031907</td>\n      <td>1.236713e+10</td>\n      <td>AAPL</td>\n    </tr>\n    <tr>\n      <th>3</th>\n      <td>2010-05-01</td>\n      <td>9.422857</td>\n      <td>9.567143</td>\n      <td>7.116071</td>\n      <td>9.174286</td>\n      <td>7.902396</td>\n      <td>1.808265e+10</td>\n      <td>AAPL</td>\n    </tr>\n    <tr>\n      <th>135</th>\n      <td>2010-02-01</td>\n      <td>28.389999</td>\n      <td>29.030001</td>\n      <td>27.570000</td>\n      <td>28.670000</td>\n      <td>22.278278</td>\n      <td>1.074643e+09</td>\n      <td>MSFT</td>\n    </tr>\n    <tr>\n      <th>...</th>\n      <td>...</td>\n      <td>...</td>\n      <td>...</td>\n      <td>...</td>\n      <td>...</td>\n      <td>...</td>\n      <td>...</td>\n      <td>...</td>\n    </tr>\n    <tr>\n      <th>65020</th>\n      <td>2010-05-01</td>\n      <td>4.250000</td>\n      <td>4.391250</td>\n      <td>3.640000</td>\n      <td>4.211250</td>\n      <td>4.211250</td>\n      <td>1.722504e+08</td>\n      <td>UAA</td>\n    </tr>\n    <tr>\n      <th>65152</th>\n      <td>2010-02-01</td>\n      <td>23.056652</td>\n      <td>24.769432</td>\n      <td>21.607378</td>\n      <td>24.690382</td>\n      <td>15.821362</td>\n      <td>1.179282e+08</td>\n      <td>XRX</td>\n    </tr>\n    <tr>\n      <th>65153</th>\n      <td>2010-03-01</td>\n      <td>24.716734</td>\n      <td>26.798420</td>\n      <td>24.716734</td>\n      <td>25.691700</td>\n      <td>16.463001</td>\n      <td>1.079048e+08</td>\n      <td>XRX</td>\n    </tr>\n    <tr>\n      <th>65154</th>\n      <td>2010-04-01</td>\n      <td>25.849802</td>\n      <td>30.882740</td>\n      <td>25.770752</td>\n      <td>28.722004</td>\n      <td>18.486734</td>\n      <td>1.574390e+08</td>\n      <td>XRX</td>\n    </tr>\n    <tr>\n      <th>65155</th>\n      <td>2010-05-01</td>\n      <td>28.959158</td>\n      <td>29.354414</td>\n      <td>22.292490</td>\n      <td>24.532278</td>\n      <td>15.790048</td>\n      <td>1.594772e+08</td>\n      <td>XRX</td>\n    </tr>\n  </tbody>\n</table>\n<p>1805 rows × 8 columns</p>\n</div>"
     },
     "metadata": {},
     "execution_count": 261
    }
   ],
   "source": [
    "get_j_df(0)"
   ]
  },
  {
   "cell_type": "code",
   "execution_count": 278,
   "metadata": {},
   "outputs": [],
   "source": [
    "timedf,j,k = generate_timetable(j=3, k=2)"
   ]
  },
  {
   "cell_type": "code",
   "execution_count": 294,
   "metadata": {},
   "outputs": [
    {
     "output_type": "execute_result",
     "data": {
      "text/plain": [
       "           Date       Open       High        Low      Close  Adj Close  \\\n",
       "Name                                                                     \n",
       "AAPL 2010-02-01   6.870357   7.327500   6.816071   7.307857   6.294721   \n",
       "AAPL 2010-03-01   7.348214   8.481429   7.337500   8.392857   7.229299   \n",
       "AAPL 2010-04-01   8.478929   9.730714   8.312500   9.324643   8.031907   \n",
       "AAPL 2010-05-01   9.422857   9.567143   7.116071   9.174286   7.902396   \n",
       "AAPL 2010-06-01   9.274643   9.964643   8.650000   8.983214   7.737815   \n",
       "AAPL 2010-07-01   9.082143   9.499643   8.557143   9.187500   7.913781   \n",
       "AAPL 2010-08-01   9.301429   9.438571   8.412857   8.682143   7.478480   \n",
       "AAPL 2010-09-01   8.838214  10.526071   8.795714  10.133929   8.728997   \n",
       "AAPL 2010-10-01  10.219643  11.392857   9.920357  10.749286   9.259040   \n",
       "AAPL 2010-11-01  10.793571  11.475000  10.634286  11.112500   9.571903   \n",
       "MSFT 2010-02-01  28.389999  29.030001  27.570000  28.670000  22.278278   \n",
       "MSFT 2010-03-01  28.770000  30.570000  28.240000  29.290001  22.866486   \n",
       "MSFT 2010-04-01  29.350000  31.580000  28.620001  30.540001  23.842352   \n",
       "MSFT 2010-05-01  30.670000  31.059999  24.559999  25.799999  20.141876   \n",
       "MSFT 2010-06-01  25.530001  26.930000  22.950001  23.010000  18.044788   \n",
       "\n",
       "            Volume  pct_change  cum_return  adj_close_shifted  adj_change  \n",
       "Name                                                                       \n",
       "AAPL  1.077608e+10         NaN    1.000000                NaN         NaN  \n",
       "AAPL  1.215417e+10    0.148470    1.148470                NaN         NaN  \n",
       "AAPL  1.236713e+10    0.111022    1.275975                NaN         NaN  \n",
       "AAPL  1.808265e+10   -0.016125    1.255401           6.294721    1.255401  \n",
       "AAPL  1.665125e+10   -0.020827    1.229255           7.229299    1.070341  \n",
       "AAPL  1.566970e+10    0.022741    1.257209           8.031907    0.985293  \n",
       "AAPL  9.589121e+09   -0.055005    1.188056           7.902396    0.946356  \n",
       "AAPL  1.184992e+10    0.167215    1.386717           7.737815    1.128096  \n",
       "AAPL  1.223458e+10    0.060722    1.470921           7.913781    1.169989  \n",
       "AAPL  9.508086e+09    0.033790    1.520624           7.478480    1.279926  \n",
       "MSFT  1.074643e+09         NaN    1.000000                NaN         NaN  \n",
       "MSFT  1.110237e+09    0.026403    1.026403                NaN         NaN  \n",
       "MSFT  1.319030e+09    0.042677    1.070206                NaN         NaN  \n",
       "MSFT  1.720130e+09   -0.155206    0.904104          22.278278    0.904104  \n",
       "MSFT  1.671812e+09   -0.104116    0.809972          22.866486    0.789137  "
      ],
      "text/html": "<div>\n<style scoped>\n    .dataframe tbody tr th:only-of-type {\n        vertical-align: middle;\n    }\n\n    .dataframe tbody tr th {\n        vertical-align: top;\n    }\n\n    .dataframe thead th {\n        text-align: right;\n    }\n</style>\n<table border=\"1\" class=\"dataframe\">\n  <thead>\n    <tr style=\"text-align: right;\">\n      <th></th>\n      <th>Date</th>\n      <th>Open</th>\n      <th>High</th>\n      <th>Low</th>\n      <th>Close</th>\n      <th>Adj Close</th>\n      <th>Volume</th>\n      <th>pct_change</th>\n      <th>cum_return</th>\n      <th>adj_close_shifted</th>\n      <th>adj_change</th>\n    </tr>\n    <tr>\n      <th>Name</th>\n      <th></th>\n      <th></th>\n      <th></th>\n      <th></th>\n      <th></th>\n      <th></th>\n      <th></th>\n      <th></th>\n      <th></th>\n      <th></th>\n      <th></th>\n    </tr>\n  </thead>\n  <tbody>\n    <tr>\n      <th>AAPL</th>\n      <td>2010-02-01</td>\n      <td>6.870357</td>\n      <td>7.327500</td>\n      <td>6.816071</td>\n      <td>7.307857</td>\n      <td>6.294721</td>\n      <td>1.077608e+10</td>\n      <td>NaN</td>\n      <td>1.000000</td>\n      <td>NaN</td>\n      <td>NaN</td>\n    </tr>\n    <tr>\n      <th>AAPL</th>\n      <td>2010-03-01</td>\n      <td>7.348214</td>\n      <td>8.481429</td>\n      <td>7.337500</td>\n      <td>8.392857</td>\n      <td>7.229299</td>\n      <td>1.215417e+10</td>\n      <td>0.148470</td>\n      <td>1.148470</td>\n      <td>NaN</td>\n      <td>NaN</td>\n    </tr>\n    <tr>\n      <th>AAPL</th>\n      <td>2010-04-01</td>\n      <td>8.478929</td>\n      <td>9.730714</td>\n      <td>8.312500</td>\n      <td>9.324643</td>\n      <td>8.031907</td>\n      <td>1.236713e+10</td>\n      <td>0.111022</td>\n      <td>1.275975</td>\n      <td>NaN</td>\n      <td>NaN</td>\n    </tr>\n    <tr>\n      <th>AAPL</th>\n      <td>2010-05-01</td>\n      <td>9.422857</td>\n      <td>9.567143</td>\n      <td>7.116071</td>\n      <td>9.174286</td>\n      <td>7.902396</td>\n      <td>1.808265e+10</td>\n      <td>-0.016125</td>\n      <td>1.255401</td>\n      <td>6.294721</td>\n      <td>1.255401</td>\n    </tr>\n    <tr>\n      <th>AAPL</th>\n      <td>2010-06-01</td>\n      <td>9.274643</td>\n      <td>9.964643</td>\n      <td>8.650000</td>\n      <td>8.983214</td>\n      <td>7.737815</td>\n      <td>1.665125e+10</td>\n      <td>-0.020827</td>\n      <td>1.229255</td>\n      <td>7.229299</td>\n      <td>1.070341</td>\n    </tr>\n    <tr>\n      <th>AAPL</th>\n      <td>2010-07-01</td>\n      <td>9.082143</td>\n      <td>9.499643</td>\n      <td>8.557143</td>\n      <td>9.187500</td>\n      <td>7.913781</td>\n      <td>1.566970e+10</td>\n      <td>0.022741</td>\n      <td>1.257209</td>\n      <td>8.031907</td>\n      <td>0.985293</td>\n    </tr>\n    <tr>\n      <th>AAPL</th>\n      <td>2010-08-01</td>\n      <td>9.301429</td>\n      <td>9.438571</td>\n      <td>8.412857</td>\n      <td>8.682143</td>\n      <td>7.478480</td>\n      <td>9.589121e+09</td>\n      <td>-0.055005</td>\n      <td>1.188056</td>\n      <td>7.902396</td>\n      <td>0.946356</td>\n    </tr>\n    <tr>\n      <th>AAPL</th>\n      <td>2010-09-01</td>\n      <td>8.838214</td>\n      <td>10.526071</td>\n      <td>8.795714</td>\n      <td>10.133929</td>\n      <td>8.728997</td>\n      <td>1.184992e+10</td>\n      <td>0.167215</td>\n      <td>1.386717</td>\n      <td>7.737815</td>\n      <td>1.128096</td>\n    </tr>\n    <tr>\n      <th>AAPL</th>\n      <td>2010-10-01</td>\n      <td>10.219643</td>\n      <td>11.392857</td>\n      <td>9.920357</td>\n      <td>10.749286</td>\n      <td>9.259040</td>\n      <td>1.223458e+10</td>\n      <td>0.060722</td>\n      <td>1.470921</td>\n      <td>7.913781</td>\n      <td>1.169989</td>\n    </tr>\n    <tr>\n      <th>AAPL</th>\n      <td>2010-11-01</td>\n      <td>10.793571</td>\n      <td>11.475000</td>\n      <td>10.634286</td>\n      <td>11.112500</td>\n      <td>9.571903</td>\n      <td>9.508086e+09</td>\n      <td>0.033790</td>\n      <td>1.520624</td>\n      <td>7.478480</td>\n      <td>1.279926</td>\n    </tr>\n    <tr>\n      <th>MSFT</th>\n      <td>2010-02-01</td>\n      <td>28.389999</td>\n      <td>29.030001</td>\n      <td>27.570000</td>\n      <td>28.670000</td>\n      <td>22.278278</td>\n      <td>1.074643e+09</td>\n      <td>NaN</td>\n      <td>1.000000</td>\n      <td>NaN</td>\n      <td>NaN</td>\n    </tr>\n    <tr>\n      <th>MSFT</th>\n      <td>2010-03-01</td>\n      <td>28.770000</td>\n      <td>30.570000</td>\n      <td>28.240000</td>\n      <td>29.290001</td>\n      <td>22.866486</td>\n      <td>1.110237e+09</td>\n      <td>0.026403</td>\n      <td>1.026403</td>\n      <td>NaN</td>\n      <td>NaN</td>\n    </tr>\n    <tr>\n      <th>MSFT</th>\n      <td>2010-04-01</td>\n      <td>29.350000</td>\n      <td>31.580000</td>\n      <td>28.620001</td>\n      <td>30.540001</td>\n      <td>23.842352</td>\n      <td>1.319030e+09</td>\n      <td>0.042677</td>\n      <td>1.070206</td>\n      <td>NaN</td>\n      <td>NaN</td>\n    </tr>\n    <tr>\n      <th>MSFT</th>\n      <td>2010-05-01</td>\n      <td>30.670000</td>\n      <td>31.059999</td>\n      <td>24.559999</td>\n      <td>25.799999</td>\n      <td>20.141876</td>\n      <td>1.720130e+09</td>\n      <td>-0.155206</td>\n      <td>0.904104</td>\n      <td>22.278278</td>\n      <td>0.904104</td>\n    </tr>\n    <tr>\n      <th>MSFT</th>\n      <td>2010-06-01</td>\n      <td>25.530001</td>\n      <td>26.930000</td>\n      <td>22.950001</td>\n      <td>23.010000</td>\n      <td>18.044788</td>\n      <td>1.671812e+09</td>\n      <td>-0.104116</td>\n      <td>0.809972</td>\n      <td>22.866486</td>\n      <td>0.789137</td>\n    </tr>\n  </tbody>\n</table>\n</div>"
     },
     "metadata": {},
     "execution_count": 294
    }
   ],
   "source": [
    "df0 = get_j_df(0).set_index('Name')\n",
    "# df0 = df0.set_index('Name')\n",
    "\n",
    "\n",
    "df0['pct_change'] = df0['Adj Close'].groupby('Name').pct_change()\n",
    "df0['cum_return'] = (df0['pct_change']+1).groupby('Name').cumprod().fillna(1)\n",
    "df0['adj_close_shifted'] = df0['Adj Close'].groupby('Name').shift(3)#.bfill(0) # filing the value with the backfill TODO check this later\n",
    "df0['adj_change'] = df0['Adj Close']/df0['adj_close_shifted'] #.bfill(0) \n",
    "df0[:15]\n",
    "# how to calculate lagged return? get cumulative returns and then lag it by j quarters"
   ]
  },
  {
   "cell_type": "code",
   "execution_count": 312,
   "metadata": {},
   "outputs": [
    {
     "output_type": "execute_result",
     "data": {
      "text/plain": [
       "Index(['AAPL', 'MSFT', 'AMZN', 'GOOGL', 'GOOG', 'TSLA', 'BRK-B', 'JPM', 'JNJ',\n",
       "       'NVDA',\n",
       "       ...\n",
       "       'NOV', 'LEG', 'RL', 'UNM', 'FLS', 'HFC', 'GPS', 'SLG', 'UAA', 'XRX'],\n",
       "      dtype='object', name='Name', length=454)"
      ]
     },
     "metadata": {},
     "execution_count": 312
    }
   ],
   "source": [
    "df0.index.unique()"
   ]
  },
  {
   "cell_type": "code",
   "execution_count": 322,
   "metadata": {},
   "outputs": [
    {
     "output_type": "execute_result",
     "data": {
      "text/plain": [
       "array(['FB', 'PYPL', 'ABBV', 'NOW', 'ZTS', 'GM', 'TWTR', 'HCA', 'DOW',\n",
       "       'APTV', 'IQV', 'INFO', 'PSX', 'CTVA', 'MPC', 'HLT', 'CARR', 'KMI',\n",
       "       'FRC', 'ETSY', 'KEYS', 'OTIS', 'ENPH', 'FTV', 'KHC', 'FLT', 'CDW',\n",
       "       'SYF', 'CTLT', 'QRVO', 'PAYC', 'HPE', 'CFG', 'XYL', 'AMCR', 'ANET',\n",
       "       'IR', 'FBHS', 'WRK', 'LW', 'FANG', 'FOXA', 'ALLE', 'NWSA', 'NLSN',\n",
       "       'NCLH', 'HII', 'FOX', 'VNT', 'UA', 'NWS'], dtype=object)"
      ]
     },
     "metadata": {},
     "execution_count": 322
    }
   ],
   "source": [
    "df.Name.unique()[np.isin(df.Name.unique(),df0.index, invert=True)]"
   ]
  },
  {
   "cell_type": "code",
   "execution_count": 326,
   "metadata": {},
   "outputs": [
    {
     "output_type": "execute_result",
     "data": {
      "text/plain": [
       "                 Open       High        Low      Close  Adj Close     Volume  \\\n",
       "Date                                                                           \n",
       "2015-08-01  39.250000  39.910000  30.000000  35.000000  35.000000  246871400   \n",
       "2015-09-01  34.150002  35.459999  30.299999  31.040001  31.040001  199174100   \n",
       "2015-10-01  30.820000  36.650002  30.750000  36.009998  36.009998  197230400   \n",
       "2015-11-01  35.580002  38.520000  34.500000  35.259998  35.259998  197878100   \n",
       "2015-12-01  35.410000  37.680000  33.849998  36.200001  36.200001  156937600   \n",
       "\n",
       "            Name  \n",
       "Date              \n",
       "2015-08-01  PYPL  \n",
       "2015-09-01  PYPL  \n",
       "2015-10-01  PYPL  \n",
       "2015-11-01  PYPL  \n",
       "2015-12-01  PYPL  "
      ],
      "text/html": "<div>\n<style scoped>\n    .dataframe tbody tr th:only-of-type {\n        vertical-align: middle;\n    }\n\n    .dataframe tbody tr th {\n        vertical-align: top;\n    }\n\n    .dataframe thead th {\n        text-align: right;\n    }\n</style>\n<table border=\"1\" class=\"dataframe\">\n  <thead>\n    <tr style=\"text-align: right;\">\n      <th></th>\n      <th>Open</th>\n      <th>High</th>\n      <th>Low</th>\n      <th>Close</th>\n      <th>Adj Close</th>\n      <th>Volume</th>\n      <th>Name</th>\n    </tr>\n    <tr>\n      <th>Date</th>\n      <th></th>\n      <th></th>\n      <th></th>\n      <th></th>\n      <th></th>\n      <th></th>\n      <th></th>\n    </tr>\n  </thead>\n  <tbody>\n    <tr>\n      <th>2015-08-01</th>\n      <td>39.250000</td>\n      <td>39.910000</td>\n      <td>30.000000</td>\n      <td>35.000000</td>\n      <td>35.000000</td>\n      <td>246871400</td>\n      <td>PYPL</td>\n    </tr>\n    <tr>\n      <th>2015-09-01</th>\n      <td>34.150002</td>\n      <td>35.459999</td>\n      <td>30.299999</td>\n      <td>31.040001</td>\n      <td>31.040001</td>\n      <td>199174100</td>\n      <td>PYPL</td>\n    </tr>\n    <tr>\n      <th>2015-10-01</th>\n      <td>30.820000</td>\n      <td>36.650002</td>\n      <td>30.750000</td>\n      <td>36.009998</td>\n      <td>36.009998</td>\n      <td>197230400</td>\n      <td>PYPL</td>\n    </tr>\n    <tr>\n      <th>2015-11-01</th>\n      <td>35.580002</td>\n      <td>38.520000</td>\n      <td>34.500000</td>\n      <td>35.259998</td>\n      <td>35.259998</td>\n      <td>197878100</td>\n      <td>PYPL</td>\n    </tr>\n    <tr>\n      <th>2015-12-01</th>\n      <td>35.410000</td>\n      <td>37.680000</td>\n      <td>33.849998</td>\n      <td>36.200001</td>\n      <td>36.200001</td>\n      <td>156937600</td>\n      <td>PYPL</td>\n    </tr>\n  </tbody>\n</table>\n</div>"
     },
     "metadata": {},
     "execution_count": 326
    }
   ],
   "source": [
    "monthly_sp500['PYPL'].head() # TODO we should write about some of the issues of yahoofinance as a datasource, that should be sufficient"
   ]
  },
  {
   "cell_type": "code",
   "execution_count": 306,
   "metadata": {},
   "outputs": [
    {
     "output_type": "execute_result",
     "data": {
      "text/plain": [
       "           Date        Open        High         Low       Close   Adj Close  \\\n",
       "Name                                                                          \n",
       "NFLX 2010-11-01   24.850000   29.542856   23.367144   29.414286   29.414286   \n",
       "LVS  2010-11-01   46.349998   55.470001   44.099998   50.080002   33.399349   \n",
       "URI  2010-11-01   18.980000   20.770000   18.719999   19.620001   19.620001   \n",
       "CMG  2010-11-01  211.889999  262.769989  209.000000  258.489990  258.489990   \n",
       "FFIV 2010-11-01  117.980003  136.000000  112.099998  131.880005  131.880005   \n",
       "...         ...         ...         ...         ...         ...         ...   \n",
       "BLK  2010-11-01  171.740005  174.470001  161.529999  163.000000  123.415390   \n",
       "ISRG 2010-11-01   88.080002   93.580002   82.016670   86.763336   86.763336   \n",
       "STX  2010-11-01   14.820000   15.320000   13.150000   13.410000    8.175142   \n",
       "BAC  2010-11-01   11.500000   12.740000   10.910000   10.950000    9.555334   \n",
       "PHM  2010-11-01    7.900000    8.150000    6.130000    6.260000    5.608897   \n",
       "\n",
       "            Volume  pct_change  cum_return  adj_close_shifted  adj_change  \n",
       "Name                                                                       \n",
       "NFLX  7.496153e+08    0.186265    3.117336          17.931429    1.640376  \n",
       "LVS   9.013144e+08    0.091543    3.011427          18.893837    1.767738  \n",
       "URI   2.857960e+07    0.044172    2.598676          11.250000    1.744000  \n",
       "CMG   2.046980e+07    0.229675    2.468628         150.830002    1.713784  \n",
       "FFIV  4.788060e+07    0.120476    2.363441          87.430000    1.508407  \n",
       "...            ...         ...         ...                ...         ...  \n",
       "BLK   5.091100e+07   -0.046729    0.758340         106.721397    1.156426  \n",
       "ISRG  3.013560e+07   -0.010116    0.749813          88.343330    0.982115  \n",
       "STX   2.739812e+08   -0.088375    0.673531           6.181654    1.322485  \n",
       "BAC   3.930563e+09   -0.043668    0.658617          10.864283    0.879518  \n",
       "PHM   2.120267e+08   -0.202548    0.578024           7.203760    0.778607  \n",
       "\n",
       "[454 rows x 11 columns]"
      ],
      "text/html": "<div>\n<style scoped>\n    .dataframe tbody tr th:only-of-type {\n        vertical-align: middle;\n    }\n\n    .dataframe tbody tr th {\n        vertical-align: top;\n    }\n\n    .dataframe thead th {\n        text-align: right;\n    }\n</style>\n<table border=\"1\" class=\"dataframe\">\n  <thead>\n    <tr style=\"text-align: right;\">\n      <th></th>\n      <th>Date</th>\n      <th>Open</th>\n      <th>High</th>\n      <th>Low</th>\n      <th>Close</th>\n      <th>Adj Close</th>\n      <th>Volume</th>\n      <th>pct_change</th>\n      <th>cum_return</th>\n      <th>adj_close_shifted</th>\n      <th>adj_change</th>\n    </tr>\n    <tr>\n      <th>Name</th>\n      <th></th>\n      <th></th>\n      <th></th>\n      <th></th>\n      <th></th>\n      <th></th>\n      <th></th>\n      <th></th>\n      <th></th>\n      <th></th>\n      <th></th>\n    </tr>\n  </thead>\n  <tbody>\n    <tr>\n      <th>NFLX</th>\n      <td>2010-11-01</td>\n      <td>24.850000</td>\n      <td>29.542856</td>\n      <td>23.367144</td>\n      <td>29.414286</td>\n      <td>29.414286</td>\n      <td>7.496153e+08</td>\n      <td>0.186265</td>\n      <td>3.117336</td>\n      <td>17.931429</td>\n      <td>1.640376</td>\n    </tr>\n    <tr>\n      <th>LVS</th>\n      <td>2010-11-01</td>\n      <td>46.349998</td>\n      <td>55.470001</td>\n      <td>44.099998</td>\n      <td>50.080002</td>\n      <td>33.399349</td>\n      <td>9.013144e+08</td>\n      <td>0.091543</td>\n      <td>3.011427</td>\n      <td>18.893837</td>\n      <td>1.767738</td>\n    </tr>\n    <tr>\n      <th>URI</th>\n      <td>2010-11-01</td>\n      <td>18.980000</td>\n      <td>20.770000</td>\n      <td>18.719999</td>\n      <td>19.620001</td>\n      <td>19.620001</td>\n      <td>2.857960e+07</td>\n      <td>0.044172</td>\n      <td>2.598676</td>\n      <td>11.250000</td>\n      <td>1.744000</td>\n    </tr>\n    <tr>\n      <th>CMG</th>\n      <td>2010-11-01</td>\n      <td>211.889999</td>\n      <td>262.769989</td>\n      <td>209.000000</td>\n      <td>258.489990</td>\n      <td>258.489990</td>\n      <td>2.046980e+07</td>\n      <td>0.229675</td>\n      <td>2.468628</td>\n      <td>150.830002</td>\n      <td>1.713784</td>\n    </tr>\n    <tr>\n      <th>FFIV</th>\n      <td>2010-11-01</td>\n      <td>117.980003</td>\n      <td>136.000000</td>\n      <td>112.099998</td>\n      <td>131.880005</td>\n      <td>131.880005</td>\n      <td>4.788060e+07</td>\n      <td>0.120476</td>\n      <td>2.363441</td>\n      <td>87.430000</td>\n      <td>1.508407</td>\n    </tr>\n    <tr>\n      <th>...</th>\n      <td>...</td>\n      <td>...</td>\n      <td>...</td>\n      <td>...</td>\n      <td>...</td>\n      <td>...</td>\n      <td>...</td>\n      <td>...</td>\n      <td>...</td>\n      <td>...</td>\n      <td>...</td>\n    </tr>\n    <tr>\n      <th>BLK</th>\n      <td>2010-11-01</td>\n      <td>171.740005</td>\n      <td>174.470001</td>\n      <td>161.529999</td>\n      <td>163.000000</td>\n      <td>123.415390</td>\n      <td>5.091100e+07</td>\n      <td>-0.046729</td>\n      <td>0.758340</td>\n      <td>106.721397</td>\n      <td>1.156426</td>\n    </tr>\n    <tr>\n      <th>ISRG</th>\n      <td>2010-11-01</td>\n      <td>88.080002</td>\n      <td>93.580002</td>\n      <td>82.016670</td>\n      <td>86.763336</td>\n      <td>86.763336</td>\n      <td>3.013560e+07</td>\n      <td>-0.010116</td>\n      <td>0.749813</td>\n      <td>88.343330</td>\n      <td>0.982115</td>\n    </tr>\n    <tr>\n      <th>STX</th>\n      <td>2010-11-01</td>\n      <td>14.820000</td>\n      <td>15.320000</td>\n      <td>13.150000</td>\n      <td>13.410000</td>\n      <td>8.175142</td>\n      <td>2.739812e+08</td>\n      <td>-0.088375</td>\n      <td>0.673531</td>\n      <td>6.181654</td>\n      <td>1.322485</td>\n    </tr>\n    <tr>\n      <th>BAC</th>\n      <td>2010-11-01</td>\n      <td>11.500000</td>\n      <td>12.740000</td>\n      <td>10.910000</td>\n      <td>10.950000</td>\n      <td>9.555334</td>\n      <td>3.930563e+09</td>\n      <td>-0.043668</td>\n      <td>0.658617</td>\n      <td>10.864283</td>\n      <td>0.879518</td>\n    </tr>\n    <tr>\n      <th>PHM</th>\n      <td>2010-11-01</td>\n      <td>7.900000</td>\n      <td>8.150000</td>\n      <td>6.130000</td>\n      <td>6.260000</td>\n      <td>5.608897</td>\n      <td>2.120267e+08</td>\n      <td>-0.202548</td>\n      <td>0.578024</td>\n      <td>7.203760</td>\n      <td>0.778607</td>\n    </tr>\n  </tbody>\n</table>\n<p>454 rows × 11 columns</p>\n</div>"
     },
     "metadata": {},
     "execution_count": 306
    }
   ],
   "source": [
    "features = df0.groupby('Name').tail(1).sort_values(['cum_return'], ascending=False)\n",
    "features"
   ]
  },
  {
   "cell_type": "code",
   "execution_count": 336,
   "metadata": {},
   "outputs": [
    {
     "output_type": "execute_result",
     "data": {
      "text/plain": [
       "Index(['NFLX', 'LVS', 'URI', 'CMG', 'FFIV', 'UAA', 'CRM', 'AKAM', 'TMUS',\n",
       "       'ULTA', 'FTNT', 'IPGP', 'TSLA', 'BKNG', 'CMI', 'PXD', 'NTAP', 'AIG',\n",
       "       'SWKS', 'ILMN', 'LYB', 'KMX', 'AAP', 'LB', 'UAL', 'BWA', 'WYNN', 'ALK',\n",
       "       'TPR', 'AZO', 'TSCO', 'PVH', 'CTXS', 'ALXN', 'PCAR', 'ORLY', 'AAL',\n",
       "       'AME', 'AAPL', 'CAT', 'YUM', 'AMZN', 'DLTR', 'MTD', 'EXPD', 'ALB'],\n",
       "      dtype='object', name='name')"
      ]
     },
     "metadata": {},
     "execution_count": 336
    }
   ],
   "source": [
    "# this calculates the winner and loser tickers given n\n",
    "n = 10\n",
    "def get_percents(n):\n",
    "    return features.shape[0]//n+1\n",
    "winner_tickers = features[:get_percents(n)].index\n",
    "winner_tickers"
   ]
  },
  {
   "cell_type": "code",
   "execution_count": 337,
   "metadata": {},
   "outputs": [
    {
     "output_type": "execute_result",
     "data": {
      "text/plain": [
       "Index(['VTRS', 'CAG', 'ANTM', 'EA', 'CBOE', 'LMT', 'JPM', 'MSFT', 'NRG', 'WHR',\n",
       "       'ABT', 'NVR', 'DGX', 'COG', 'MS', 'V', 'BAX', 'DXC', 'WDC', 'IRM',\n",
       "       'ZBH', 'NVDA', 'TFX', 'MAS', 'HPQ', 'SCHW', 'BSX', 'LYV', 'TFC', 'EQIX',\n",
       "       'DHI', 'VRTX', 'PBCT', 'MU', 'ADBE', 'RF', 'MPWR', 'CSCO', 'MDT',\n",
       "       'LDOS', 'GILD', 'BLK', 'ISRG', 'STX', 'BAC', 'PHM'],\n",
       "      dtype='object', name='name')"
      ]
     },
     "metadata": {},
     "execution_count": 337
    }
   ],
   "source": [
    "loser_tickers = features[-get_percents(n):].index\n",
    "loser_tickers"
   ]
  },
  {
   "cell_type": "code",
   "execution_count": 366,
   "metadata": {},
   "outputs": [],
   "source": [
    "# equally weight\n",
    "weights = np.ones(get_percents(n))/(get_percents(n))"
   ]
  },
  {
   "cell_type": "code",
   "execution_count": 374,
   "metadata": {},
   "outputs": [
    {
     "output_type": "execute_result",
     "data": {
      "text/plain": [
       "date\n",
       "2010-02-01    0.000000\n",
       "2010-03-01    0.116996\n",
       "2010-04-01    0.103751\n",
       "2010-05-01   -0.020289\n",
       "2010-06-01   -0.044979\n",
       "2010-07-01    0.116637\n",
       "2010-08-01   -0.003548\n",
       "2010-09-01    0.168566\n",
       "2010-10-01    0.088689\n",
       "2010-11-01    0.094784\n",
       "dtype: float64"
      ]
     },
     "metadata": {},
     "execution_count": 374
    }
   ],
   "source": [
    "winner_df0 = df0.loc[winner_tickers.to_list()]\n",
    "winner_df0 = winner_df0.pivot_table(index='date',columns='name')['pct_change'].fillna(0) # \n",
    "winner_df0\n",
    "winner_df0.dot(weights) # gives us the percent change of the portfolios "
   ]
  },
  {
   "cell_type": "code",
   "execution_count": 378,
   "metadata": {},
   "outputs": [
    {
     "output_type": "execute_result",
     "data": {
      "text/plain": [
       "date\n",
       "2010-02-01    0.000000\n",
       "2010-03-01    0.116996\n",
       "2010-04-01    0.232886\n",
       "2010-05-01    0.207872\n",
       "2010-06-01    0.153543\n",
       "2010-07-01    0.288089\n",
       "2010-08-01    0.283519\n",
       "2010-09-01    0.499877\n",
       "2010-10-01    0.632900\n",
       "2010-11-01    0.787674\n",
       "dtype: float64"
      ]
     },
     "metadata": {},
     "execution_count": 378
    }
   ],
   "source": [
    "(winner_df0.dot(weights)+1).cumprod() - 1"
   ]
  },
  {
   "cell_type": "code",
   "execution_count": 371,
   "metadata": {},
   "outputs": [
    {
     "output_type": "stream",
     "name": "stdout",
     "text": [
      "[*********************100%***********************]  46 of 46 completed\n"
     ]
    },
    {
     "output_type": "execute_result",
     "data": {
      "text/plain": [
       "Date\n",
       "2010-02-01         NaN\n",
       "2010-02-17         NaN\n",
       "2010-03-01         NaN\n",
       "2010-04-01         NaN\n",
       "2010-05-01         NaN\n",
       "                ...   \n",
       "2021-01-01    0.005608\n",
       "2021-02-01    0.087967\n",
       "2021-02-08    0.000000\n",
       "2021-03-01   -0.012853\n",
       "2021-03-05    0.018136\n",
       "Length: 191, dtype: float64"
      ]
     },
     "metadata": {},
     "execution_count": 371
    }
   ],
   "source": [
    "# call the returns of all the winner tickers\n",
    "ret = pdr.get_data_yahoo(tickers = winner_tickers.to_list(), start=\"2010-02-01\", interval = \"1mo\")['Adj Close'].pct_change()#.dropna()\n",
    "ret.dot(weights)"
   ]
  },
  {
   "cell_type": "code",
   "execution_count": 379,
   "metadata": {},
   "outputs": [
    {
     "output_type": "execute_result",
     "data": {
      "text/plain": [
       "date\n",
       "2010-02-01    0.000000\n",
       "2010-03-01    0.036022\n",
       "2010-04-01    0.001885\n",
       "2010-05-01   -0.099521\n",
       "2010-06-01   -0.092631\n",
       "2010-07-01    0.020081\n",
       "2010-08-01   -0.085368\n",
       "2010-09-01    0.090408\n",
       "2010-10-01    0.008168\n",
       "2010-11-01   -0.028242\n",
       "dtype: float64"
      ]
     },
     "metadata": {},
     "execution_count": 379
    }
   ],
   "source": [
    "loser_df0 = df0.loc[loser_tickers.to_list()]\n",
    "loser_df0 = loser_df0.pivot_table(index='date',columns='name')['pct_change'].fillna(0) # \n",
    "# winner_df0\n",
    "loser_df0.dot(weights) # gives us the percent change of the portfolios "
   ]
  },
  {
   "cell_type": "code",
   "execution_count": 380,
   "metadata": {},
   "outputs": [
    {
     "output_type": "execute_result",
     "data": {
      "text/plain": [
       "date\n",
       "2010-02-01    0.000000\n",
       "2010-03-01    0.036022\n",
       "2010-04-01    0.037975\n",
       "2010-05-01   -0.065326\n",
       "2010-06-01   -0.151906\n",
       "2010-07-01   -0.134875\n",
       "2010-08-01   -0.208729\n",
       "2010-09-01   -0.137191\n",
       "2010-10-01   -0.130144\n",
       "2010-11-01   -0.154711\n",
       "dtype: float64"
      ]
     },
     "metadata": {},
     "execution_count": 380
    }
   ],
   "source": [
    "(loser_df0.dot(weights)+1).cumprod() - 1"
   ]
  },
  {
   "source": [
    "this is us selecting winners and losers based on j, and then "
   ],
   "cell_type": "markdown",
   "metadata": {}
  },
  {
   "source": [
    "df0 df0_hold\n",
    "df0\n",
    " winners and losers\n",
    " winnes are gonna wion\n",
    " losers are gonna losers\n",
    " 1\n",
    " -1\n",
    " will winners for a certain buy and hold not win?\n",
    " will losers not lose?\n",
    " we are trying to be correct about it\n",
    " lagged returns to make statistical observations about an actual positive or negative return?\n",
    " is the paper just a guide?"
   ],
   "cell_type": "markdown",
   "metadata": {}
  },
  {
   "source": [
    "paper used a single factor logisti regression model \n",
    "dependent variable was whether a momentum portfolio would actually be good.\n",
    "\n",
    "in the following time period, which is the best strategy to make?\n"
   ],
   "cell_type": "markdown",
   "metadata": {}
  },
  {
   "source": [
    "what portfolio? we have momentum and reversal. choose which one to make at certain times. \n",
    "buy and hold random stocks? is it making predictions on "
   ],
   "cell_type": "markdown",
   "metadata": {}
  },
  {
   "source": [
    "when you do simple buy and hold?\n",
    "in the first paper ,a no effect? if both are going down we just sell and wait.\n",
    "it would e super cool to see the evolution of the portfolios over the time period.\n",
    "its a machine learning problem because we are making decisions to maximize profitability and cutting down on drawdown.\n",
    "\n",
    "testing its performance on volatile market periods\n",
    "    2008, 2012, 2020\n",
    "its a strategy informed on a prediction task."
   ],
   "cell_type": "markdown",
   "metadata": {}
  },
  {
   "cell_type": "code",
   "execution_count": null,
   "metadata": {},
   "outputs": [],
   "source": []
  },
  {
   "cell_type": "code",
   "execution_count": null,
   "metadata": {},
   "outputs": [],
   "source": [
    "df0.groupby('Name')"
   ]
  },
  {
   "cell_type": "code",
   "execution_count": 150,
   "metadata": {},
   "outputs": [],
   "source": [
    "def create_portfolio(tickerlist):\n",
    "    '''used to group tickers into respective momentum, reversal, etc groups'''\n",
    "    return tickerlist # dummy\n",
    "\n",
    "def get_winners(hold_df, n=10):\n",
    "    \"\"\"given hold df, calculate cumulative lagged return and select winners\"\"\"\n",
    "    "
   ]
  },
  {
   "cell_type": "code",
   "execution_count": null,
   "metadata": {},
   "outputs": [],
   "source": []
  },
  {
   "cell_type": "code",
   "execution_count": null,
   "metadata": {},
   "outputs": [],
   "source": []
  },
  {
   "source": [
    "stocks in ascending order, based on simple returns on the previous j quarters lagged returns\n",
    "j=4: calculate 1-4 quarter lagged returns\n",
    "for every k, go through all possible j's. j*k possibilities\n",
    "predict positive or negative based on returns."
   ],
   "cell_type": "markdown",
   "metadata": {}
  },
  {
   "cell_type": "code",
   "execution_count": 104,
   "metadata": {},
   "outputs": [],
   "source": [
    "# mapping j period, looking at the data at a certain j, cumulative product. worrying about positions since we have the times,\n",
    "# we would have needed percentage of change and calculate cumulative product and have that lagged return, that lagged return, we had lagged return from j so what is a loser exactly.\n",
    "# amir asks if the paper calcualtes the j lag return and then j = lag and then for that j, between the 500 we fidn the top n winners and n losers and then put them into respective groups\n",
    "# check out link amir sent\n",
    "# getting lagged values iteratively \n",
    "# we would just need to get j in this case so it would be over the period the trailing window size. we would have to worry about defining  what one step is.\n",
    "\n",
    "\n",
    "# TODO questions I would like to ask: for k holding period, do we just want to get the last value as a label, or pull all the data ahead?\n",
    "# how are we training, exactly? our current abstraction is kind of getting k and calculating their features at once... are we looking at patterns in the different groups?\n",
    "\n"
   ]
  },
  {
   "cell_type": "code",
   "execution_count": null,
   "metadata": {},
   "outputs": [],
   "source": []
  },
  {
   "cell_type": "markdown",
   "metadata": {},
   "source": [
    "## ----prototyping below----"
   ]
  },
  {
   "cell_type": "code",
   "execution_count": 117,
   "metadata": {},
   "outputs": [
    {
     "output_type": "execute_result",
     "data": {
      "text/plain": [
       "           date      open      high       low     close  adj_close  \\\n",
       "Name                                                                 \n",
       "AAPL 2010-02-01  6.870357  7.327500  6.816071  7.307857   6.294721   \n",
       "AAPL 2010-03-01  7.348214  8.481429  7.337500  8.392857   7.229299   \n",
       "AAPL 2010-04-01  8.478929  9.730714  8.312500  9.324643   8.031907   \n",
       "AAPL 2010-05-01  9.422857  9.567143  7.116071  9.174286   7.902396   \n",
       "AAPL 2010-06-01  9.274643  9.964643  8.650000  8.983214   7.737815   \n",
       "\n",
       "            volume  \n",
       "Name                \n",
       "AAPL  1.077608e+10  \n",
       "AAPL  1.215417e+10  \n",
       "AAPL  1.236713e+10  \n",
       "AAPL  1.808265e+10  \n",
       "AAPL  1.665125e+10  "
      ],
      "text/html": "<div>\n<style scoped>\n    .dataframe tbody tr th:only-of-type {\n        vertical-align: middle;\n    }\n\n    .dataframe tbody tr th {\n        vertical-align: top;\n    }\n\n    .dataframe thead th {\n        text-align: right;\n    }\n</style>\n<table border=\"1\" class=\"dataframe\">\n  <thead>\n    <tr style=\"text-align: right;\">\n      <th></th>\n      <th>date</th>\n      <th>open</th>\n      <th>high</th>\n      <th>low</th>\n      <th>close</th>\n      <th>adj_close</th>\n      <th>volume</th>\n    </tr>\n    <tr>\n      <th>Name</th>\n      <th></th>\n      <th></th>\n      <th></th>\n      <th></th>\n      <th></th>\n      <th></th>\n      <th></th>\n    </tr>\n  </thead>\n  <tbody>\n    <tr>\n      <th>AAPL</th>\n      <td>2010-02-01</td>\n      <td>6.870357</td>\n      <td>7.327500</td>\n      <td>6.816071</td>\n      <td>7.307857</td>\n      <td>6.294721</td>\n      <td>1.077608e+10</td>\n    </tr>\n    <tr>\n      <th>AAPL</th>\n      <td>2010-03-01</td>\n      <td>7.348214</td>\n      <td>8.481429</td>\n      <td>7.337500</td>\n      <td>8.392857</td>\n      <td>7.229299</td>\n      <td>1.215417e+10</td>\n    </tr>\n    <tr>\n      <th>AAPL</th>\n      <td>2010-04-01</td>\n      <td>8.478929</td>\n      <td>9.730714</td>\n      <td>8.312500</td>\n      <td>9.324643</td>\n      <td>8.031907</td>\n      <td>1.236713e+10</td>\n    </tr>\n    <tr>\n      <th>AAPL</th>\n      <td>2010-05-01</td>\n      <td>9.422857</td>\n      <td>9.567143</td>\n      <td>7.116071</td>\n      <td>9.174286</td>\n      <td>7.902396</td>\n      <td>1.808265e+10</td>\n    </tr>\n    <tr>\n      <th>AAPL</th>\n      <td>2010-06-01</td>\n      <td>9.274643</td>\n      <td>9.964643</td>\n      <td>8.650000</td>\n      <td>8.983214</td>\n      <td>7.737815</td>\n      <td>1.665125e+10</td>\n    </tr>\n  </tbody>\n</table>\n</div>"
     },
     "metadata": {},
     "execution_count": 117
    }
   ],
   "source": [
    "aapl = imputed_aapl # take a look at apple again, this time with no nulls (dont know how to deal with them help)\n",
    "aapl.dropna().head()"
   ]
  },
  {
   "cell_type": "code",
   "execution_count": 118,
   "metadata": {},
   "outputs": [
    {
     "output_type": "stream",
     "name": "stdout",
     "text": [
      "Grabbing AAPL data!\n",
      "[*********************100%***********************]  1 of 1 completed\n",
      "Open         0\n",
      "High         0\n",
      "Low          0\n",
      "Close        0\n",
      "Adj Close    0\n",
      "Volume       0\n",
      "Name         0\n",
      "dtype: int64\n",
      "Grabbing MSFT data!\n",
      "[*********************100%***********************]  1 of 1 completed\n",
      "Open         0\n",
      "High         0\n",
      "Low          0\n",
      "Close        0\n",
      "Adj Close    0\n",
      "Volume       0\n",
      "Name         0\n",
      "dtype: int64\n",
      "Grabbing AMZN data!\n",
      "[*********************100%***********************]  1 of 1 completed\n",
      "Open         0\n",
      "High         0\n",
      "Low          0\n",
      "Close        0\n",
      "Adj Close    0\n",
      "Volume       0\n",
      "Name         0\n",
      "dtype: int64\n",
      "Grabbing FB data!\n",
      "[*********************100%***********************]  1 of 1 completed\n",
      "Open         0\n",
      "High         0\n",
      "Low          0\n",
      "Close        0\n",
      "Adj Close    0\n",
      "Volume       0\n",
      "Name         0\n",
      "dtype: int64\n",
      "Grabbing GOOGL data!\n",
      "[*********************100%***********************]  1 of 1 completed\n",
      "Open         0\n",
      "High         0\n",
      "Low          0\n",
      "Close        0\n",
      "Adj Close    0\n",
      "Volume       0\n",
      "Name         0\n",
      "dtype: int64\n",
      "Grabbing GOOG data!\n",
      "[*********************100%***********************]  1 of 1 completed\n",
      "Open         0\n",
      "High         0\n",
      "Low          0\n",
      "Close        0\n",
      "Adj Close    0\n",
      "Volume       0\n",
      "Name         0\n",
      "dtype: int64\n",
      "Grabbing TSLA data!\n",
      "[*********************100%***********************]  1 of 1 completed\n",
      "Open         0\n",
      "High         0\n",
      "Low          0\n",
      "Close        0\n",
      "Adj Close    0\n",
      "Volume       0\n",
      "Name         0\n",
      "dtype: int64\n",
      "Grabbing BRK-B data!\n",
      "[*********************100%***********************]  1 of 1 completed\n",
      "Open         0\n",
      "High         0\n",
      "Low          0\n",
      "Close        0\n",
      "Adj Close    0\n",
      "Volume       0\n",
      "Name         0\n",
      "dtype: int64\n",
      "Grabbing JPM data!\n",
      "[*********************100%***********************]  1 of 1 completed\n",
      "Open         0\n",
      "High         0\n",
      "Low          0\n",
      "Close        0\n",
      "Adj Close    0\n",
      "Volume       0\n",
      "Name         0\n",
      "dtype: int64\n",
      "Grabbing JNJ data!\n",
      "[*********************100%***********************]  1 of 1 completed\n",
      "Open         0\n",
      "High         0\n",
      "Low          0\n",
      "Close        0\n",
      "Adj Close    0\n",
      "Volume       0\n",
      "Name         0\n",
      "dtype: int64\n"
     ]
    }
   ],
   "source": [
    "from sklearn.impute import KNNImputer\n",
    "\n",
    "def effect(x):\n",
    "    if( x < 0.0 ):\n",
    "        return \"Reversal\"\n",
    "    elif(x > 0.0):\n",
    "        return \"Momentum\"\n",
    "    else:\n",
    "        return \"None\"\n",
    "    \n",
    "\n",
    "\n",
    "## shamelessly stolen code, still trying to comprehend what wizardry is going on in here\n",
    "dfs = []\n",
    "k = 4\n",
    "# imputer = KNNImputer(n_neighbors = 2)\n",
    "for ticker in tickers[:10]:\n",
    "    print('Grabbing ' + ticker + \" data!\")\n",
    "    curr_df = pdr.get_data_yahoo(ticker, start=\"2009-12-01\", interval = \"1mo\")\n",
    "    if(curr_df.empty):\n",
    "        print('Failed to get ' + ticker + ' stock data!')\n",
    "        continue\n",
    "    \n",
    "    #imputed_df = imputer.fit_transform(curr_df)\n",
    "    #imputed_df = pd.DataFrame(imputed_df,columns=['Open','High','Low','Close','Adj Close','Volume'])\n",
    "    #imputed_df = imputed_df.set_index(curr_df.index)\n",
    "    \n",
    "    \n",
    "    curr_df = curr_df.dropna()\n",
    "    #imputed_df['Name'] = ticker\n",
    "    curr_df['Name'] = ticker\n",
    "    # curr_df = imputed_df\n",
    "    print(curr_df.isna().sum())\n",
    "    curr_df = curr_df.reset_index()\n",
    "    curr_df.set_index(['Name','Date'],inplace=True)\n",
    "    curr_df = curr_df[~curr_df.index.duplicated(keep='first')]\n",
    "    obs_df = (curr_df.reset_index(level=[0])\n",
    "              ['Adj Close'].resample(str(k) + 'M').first().ffill().pct_change()[1:]).to_frame()\n",
    "    obs_df.rename(columns={'Adj Close':'Adj Close %Change'},inplace=True)\n",
    "    obs_df['Name'] = ticker\n",
    "    obs_df = obs_df.reset_index()\n",
    "    obs_df.set_index(['Name','Date'],inplace=True)\n",
    "    obs_df['Cum Returns'] = (obs_df['Adj Close %Change'] + 1).groupby('Name').cumprod()\n",
    "    obs_df['Effect'] = obs_df['Adj Close %Change'].apply(effect)\n",
    "    dfs.append(obs_df)\n",
    "    curr_df = None\n",
    "    obs_df = None"
   ]
  },
  {
   "cell_type": "code",
   "execution_count": 119,
   "metadata": {},
   "outputs": [
    {
     "output_type": "execute_result",
     "data": {
      "text/plain": [
       "<AxesSubplot:>"
      ]
     },
     "metadata": {},
     "execution_count": 119
    },
    {
     "output_type": "display_data",
     "data": {
      "text/plain": "<Figure size 432x288 with 1 Axes>",
      "image/svg+xml": "<?xml version=\"1.0\" encoding=\"utf-8\" standalone=\"no\"?>\r\n<!DOCTYPE svg PUBLIC \"-//W3C//DTD SVG 1.1//EN\"\r\n  \"http://www.w3.org/Graphics/SVG/1.1/DTD/svg11.dtd\">\r\n<!-- Created with matplotlib (https://matplotlib.org/) -->\r\n<svg height=\"299.615781pt\" version=\"1.1\" viewBox=\"0 0 368.925 299.615781\" width=\"368.925pt\" xmlns=\"http://www.w3.org/2000/svg\" xmlns:xlink=\"http://www.w3.org/1999/xlink\">\r\n <metadata>\r\n  <rdf:RDF xmlns:cc=\"http://creativecommons.org/ns#\" xmlns:dc=\"http://purl.org/dc/elements/1.1/\" xmlns:rdf=\"http://www.w3.org/1999/02/22-rdf-syntax-ns#\">\r\n   <cc:Work>\r\n    <dc:type rdf:resource=\"http://purl.org/dc/dcmitype/StillImage\"/>\r\n    <dc:date>2021-03-05T12:28:05.069288</dc:date>\r\n    <dc:format>image/svg+xml</dc:format>\r\n    <dc:creator>\r\n     <cc:Agent>\r\n      <dc:title>Matplotlib v3.3.3, https://matplotlib.org/</dc:title>\r\n     </cc:Agent>\r\n    </dc:creator>\r\n   </cc:Work>\r\n  </rdf:RDF>\r\n </metadata>\r\n <defs>\r\n  <style type=\"text/css\">*{stroke-linecap:butt;stroke-linejoin:round;}</style>\r\n </defs>\r\n <g id=\"figure_1\">\r\n  <g id=\"patch_1\">\r\n   <path d=\"M -0 299.615781 \r\nL 368.925 299.615781 \r\nL 368.925 0 \r\nL -0 0 \r\nz\r\n\" style=\"fill:none;\"/>\r\n  </g>\r\n  <g id=\"axes_1\">\r\n   <g id=\"patch_2\">\r\n    <path d=\"M 26.925 228.439219 \r\nL 361.725 228.439219 \r\nL 361.725 10.999219 \r\nL 26.925 10.999219 \r\nz\r\n\" style=\"fill:#ffffff;\"/>\r\n   </g>\r\n   <g id=\"patch_3\">\r\n    <path clip-path=\"url(#p6a0ee5a08d)\" d=\"M 68.775 228.439219 \r\nL 152.475 228.439219 \r\nL 152.475 47.239219 \r\nL 68.775 47.239219 \r\nz\r\n\" style=\"fill:#1f77b4;\"/>\r\n   </g>\r\n   <g id=\"patch_4\">\r\n    <path clip-path=\"url(#p6a0ee5a08d)\" d=\"M 236.175 228.439219 \r\nL 319.875 228.439219 \r\nL 319.875 101.599219 \r\nL 236.175 101.599219 \r\nz\r\n\" style=\"fill:#1f77b4;\"/>\r\n   </g>\r\n   <g id=\"matplotlib.axis_1\">\r\n    <g id=\"xtick_1\">\r\n     <g id=\"line2d_1\">\r\n      <defs>\r\n       <path d=\"M 0 0 \r\nL 0 3.5 \r\n\" id=\"m64c91fcbf6\" style=\"stroke:#000000;stroke-width:0.8;\"/>\r\n      </defs>\r\n      <g>\r\n       <use style=\"stroke:#000000;stroke-width:0.8;\" x=\"110.625\" xlink:href=\"#m64c91fcbf6\" y=\"228.439219\"/>\r\n      </g>\r\n     </g>\r\n     <g id=\"text_1\">\r\n      <!-- Momentum -->\r\n      <g transform=\"translate(113.384375 292.415781)rotate(-90)scale(0.1 -0.1)\">\r\n       <defs>\r\n        <path d=\"M 9.8125 72.90625 \r\nL 24.515625 72.90625 \r\nL 43.109375 23.296875 \r\nL 61.8125 72.90625 \r\nL 76.515625 72.90625 \r\nL 76.515625 0 \r\nL 66.890625 0 \r\nL 66.890625 64.015625 \r\nL 48.09375 14.015625 \r\nL 38.1875 14.015625 \r\nL 19.390625 64.015625 \r\nL 19.390625 0 \r\nL 9.8125 0 \r\nz\r\n\" id=\"DejaVuSans-77\"/>\r\n        <path d=\"M 30.609375 48.390625 \r\nQ 23.390625 48.390625 19.1875 42.75 \r\nQ 14.984375 37.109375 14.984375 27.296875 \r\nQ 14.984375 17.484375 19.15625 11.84375 \r\nQ 23.34375 6.203125 30.609375 6.203125 \r\nQ 37.796875 6.203125 41.984375 11.859375 \r\nQ 46.1875 17.53125 46.1875 27.296875 \r\nQ 46.1875 37.015625 41.984375 42.703125 \r\nQ 37.796875 48.390625 30.609375 48.390625 \r\nz\r\nM 30.609375 56 \r\nQ 42.328125 56 49.015625 48.375 \r\nQ 55.71875 40.765625 55.71875 27.296875 \r\nQ 55.71875 13.875 49.015625 6.21875 \r\nQ 42.328125 -1.421875 30.609375 -1.421875 \r\nQ 18.84375 -1.421875 12.171875 6.21875 \r\nQ 5.515625 13.875 5.515625 27.296875 \r\nQ 5.515625 40.765625 12.171875 48.375 \r\nQ 18.84375 56 30.609375 56 \r\nz\r\n\" id=\"DejaVuSans-111\"/>\r\n        <path d=\"M 52 44.1875 \r\nQ 55.375 50.25 60.0625 53.125 \r\nQ 64.75 56 71.09375 56 \r\nQ 79.640625 56 84.28125 50.015625 \r\nQ 88.921875 44.046875 88.921875 33.015625 \r\nL 88.921875 0 \r\nL 79.890625 0 \r\nL 79.890625 32.71875 \r\nQ 79.890625 40.578125 77.09375 44.375 \r\nQ 74.3125 48.1875 68.609375 48.1875 \r\nQ 61.625 48.1875 57.5625 43.546875 \r\nQ 53.515625 38.921875 53.515625 30.90625 \r\nL 53.515625 0 \r\nL 44.484375 0 \r\nL 44.484375 32.71875 \r\nQ 44.484375 40.625 41.703125 44.40625 \r\nQ 38.921875 48.1875 33.109375 48.1875 \r\nQ 26.21875 48.1875 22.15625 43.53125 \r\nQ 18.109375 38.875 18.109375 30.90625 \r\nL 18.109375 0 \r\nL 9.078125 0 \r\nL 9.078125 54.6875 \r\nL 18.109375 54.6875 \r\nL 18.109375 46.1875 \r\nQ 21.1875 51.21875 25.484375 53.609375 \r\nQ 29.78125 56 35.6875 56 \r\nQ 41.65625 56 45.828125 52.96875 \r\nQ 50 49.953125 52 44.1875 \r\nz\r\n\" id=\"DejaVuSans-109\"/>\r\n        <path d=\"M 56.203125 29.59375 \r\nL 56.203125 25.203125 \r\nL 14.890625 25.203125 \r\nQ 15.484375 15.921875 20.484375 11.0625 \r\nQ 25.484375 6.203125 34.421875 6.203125 \r\nQ 39.59375 6.203125 44.453125 7.46875 \r\nQ 49.3125 8.734375 54.109375 11.28125 \r\nL 54.109375 2.78125 \r\nQ 49.265625 0.734375 44.1875 -0.34375 \r\nQ 39.109375 -1.421875 33.890625 -1.421875 \r\nQ 20.796875 -1.421875 13.15625 6.1875 \r\nQ 5.515625 13.8125 5.515625 26.8125 \r\nQ 5.515625 40.234375 12.765625 48.109375 \r\nQ 20.015625 56 32.328125 56 \r\nQ 43.359375 56 49.78125 48.890625 \r\nQ 56.203125 41.796875 56.203125 29.59375 \r\nz\r\nM 47.21875 32.234375 \r\nQ 47.125 39.59375 43.09375 43.984375 \r\nQ 39.0625 48.390625 32.421875 48.390625 \r\nQ 24.90625 48.390625 20.390625 44.140625 \r\nQ 15.875 39.890625 15.1875 32.171875 \r\nz\r\n\" id=\"DejaVuSans-101\"/>\r\n        <path d=\"M 54.890625 33.015625 \r\nL 54.890625 0 \r\nL 45.90625 0 \r\nL 45.90625 32.71875 \r\nQ 45.90625 40.484375 42.875 44.328125 \r\nQ 39.84375 48.1875 33.796875 48.1875 \r\nQ 26.515625 48.1875 22.3125 43.546875 \r\nQ 18.109375 38.921875 18.109375 30.90625 \r\nL 18.109375 0 \r\nL 9.078125 0 \r\nL 9.078125 54.6875 \r\nL 18.109375 54.6875 \r\nL 18.109375 46.1875 \r\nQ 21.34375 51.125 25.703125 53.5625 \r\nQ 30.078125 56 35.796875 56 \r\nQ 45.21875 56 50.046875 50.171875 \r\nQ 54.890625 44.34375 54.890625 33.015625 \r\nz\r\n\" id=\"DejaVuSans-110\"/>\r\n        <path d=\"M 18.3125 70.21875 \r\nL 18.3125 54.6875 \r\nL 36.8125 54.6875 \r\nL 36.8125 47.703125 \r\nL 18.3125 47.703125 \r\nL 18.3125 18.015625 \r\nQ 18.3125 11.328125 20.140625 9.421875 \r\nQ 21.96875 7.515625 27.59375 7.515625 \r\nL 36.8125 7.515625 \r\nL 36.8125 0 \r\nL 27.59375 0 \r\nQ 17.1875 0 13.234375 3.875 \r\nQ 9.28125 7.765625 9.28125 18.015625 \r\nL 9.28125 47.703125 \r\nL 2.6875 47.703125 \r\nL 2.6875 54.6875 \r\nL 9.28125 54.6875 \r\nL 9.28125 70.21875 \r\nz\r\n\" id=\"DejaVuSans-116\"/>\r\n        <path d=\"M 8.5 21.578125 \r\nL 8.5 54.6875 \r\nL 17.484375 54.6875 \r\nL 17.484375 21.921875 \r\nQ 17.484375 14.15625 20.5 10.265625 \r\nQ 23.53125 6.390625 29.59375 6.390625 \r\nQ 36.859375 6.390625 41.078125 11.03125 \r\nQ 45.3125 15.671875 45.3125 23.6875 \r\nL 45.3125 54.6875 \r\nL 54.296875 54.6875 \r\nL 54.296875 0 \r\nL 45.3125 0 \r\nL 45.3125 8.40625 \r\nQ 42.046875 3.421875 37.71875 1 \r\nQ 33.40625 -1.421875 27.6875 -1.421875 \r\nQ 18.265625 -1.421875 13.375 4.4375 \r\nQ 8.5 10.296875 8.5 21.578125 \r\nz\r\nM 31.109375 56 \r\nz\r\n\" id=\"DejaVuSans-117\"/>\r\n       </defs>\r\n       <use xlink:href=\"#DejaVuSans-77\"/>\r\n       <use x=\"86.279297\" xlink:href=\"#DejaVuSans-111\"/>\r\n       <use x=\"147.460938\" xlink:href=\"#DejaVuSans-109\"/>\r\n       <use x=\"244.873047\" xlink:href=\"#DejaVuSans-101\"/>\r\n       <use x=\"306.396484\" xlink:href=\"#DejaVuSans-110\"/>\r\n       <use x=\"369.775391\" xlink:href=\"#DejaVuSans-116\"/>\r\n       <use x=\"408.984375\" xlink:href=\"#DejaVuSans-117\"/>\r\n       <use x=\"472.363281\" xlink:href=\"#DejaVuSans-109\"/>\r\n      </g>\r\n     </g>\r\n    </g>\r\n    <g id=\"xtick_2\">\r\n     <g id=\"line2d_2\">\r\n      <g>\r\n       <use style=\"stroke:#000000;stroke-width:0.8;\" x=\"278.025\" xlink:href=\"#m64c91fcbf6\" y=\"228.439219\"/>\r\n      </g>\r\n     </g>\r\n     <g id=\"text_2\">\r\n      <!-- Reversal -->\r\n      <g transform=\"translate(280.784375 278.389219)rotate(-90)scale(0.1 -0.1)\">\r\n       <defs>\r\n        <path d=\"M 44.390625 34.1875 \r\nQ 47.5625 33.109375 50.5625 29.59375 \r\nQ 53.5625 26.078125 56.59375 19.921875 \r\nL 66.609375 0 \r\nL 56 0 \r\nL 46.6875 18.703125 \r\nQ 43.0625 26.03125 39.671875 28.421875 \r\nQ 36.28125 30.8125 30.421875 30.8125 \r\nL 19.671875 30.8125 \r\nL 19.671875 0 \r\nL 9.8125 0 \r\nL 9.8125 72.90625 \r\nL 32.078125 72.90625 \r\nQ 44.578125 72.90625 50.734375 67.671875 \r\nQ 56.890625 62.453125 56.890625 51.90625 \r\nQ 56.890625 45.015625 53.6875 40.46875 \r\nQ 50.484375 35.9375 44.390625 34.1875 \r\nz\r\nM 19.671875 64.796875 \r\nL 19.671875 38.921875 \r\nL 32.078125 38.921875 \r\nQ 39.203125 38.921875 42.84375 42.21875 \r\nQ 46.484375 45.515625 46.484375 51.90625 \r\nQ 46.484375 58.296875 42.84375 61.546875 \r\nQ 39.203125 64.796875 32.078125 64.796875 \r\nz\r\n\" id=\"DejaVuSans-82\"/>\r\n        <path d=\"M 2.984375 54.6875 \r\nL 12.5 54.6875 \r\nL 29.59375 8.796875 \r\nL 46.6875 54.6875 \r\nL 56.203125 54.6875 \r\nL 35.6875 0 \r\nL 23.484375 0 \r\nz\r\n\" id=\"DejaVuSans-118\"/>\r\n        <path d=\"M 41.109375 46.296875 \r\nQ 39.59375 47.171875 37.8125 47.578125 \r\nQ 36.03125 48 33.890625 48 \r\nQ 26.265625 48 22.1875 43.046875 \r\nQ 18.109375 38.09375 18.109375 28.8125 \r\nL 18.109375 0 \r\nL 9.078125 0 \r\nL 9.078125 54.6875 \r\nL 18.109375 54.6875 \r\nL 18.109375 46.1875 \r\nQ 20.953125 51.171875 25.484375 53.578125 \r\nQ 30.03125 56 36.53125 56 \r\nQ 37.453125 56 38.578125 55.875 \r\nQ 39.703125 55.765625 41.0625 55.515625 \r\nz\r\n\" id=\"DejaVuSans-114\"/>\r\n        <path d=\"M 44.28125 53.078125 \r\nL 44.28125 44.578125 \r\nQ 40.484375 46.53125 36.375 47.5 \r\nQ 32.28125 48.484375 27.875 48.484375 \r\nQ 21.1875 48.484375 17.84375 46.4375 \r\nQ 14.5 44.390625 14.5 40.28125 \r\nQ 14.5 37.15625 16.890625 35.375 \r\nQ 19.28125 33.59375 26.515625 31.984375 \r\nL 29.59375 31.296875 \r\nQ 39.15625 29.25 43.1875 25.515625 \r\nQ 47.21875 21.78125 47.21875 15.09375 \r\nQ 47.21875 7.46875 41.1875 3.015625 \r\nQ 35.15625 -1.421875 24.609375 -1.421875 \r\nQ 20.21875 -1.421875 15.453125 -0.5625 \r\nQ 10.6875 0.296875 5.421875 2 \r\nL 5.421875 11.28125 \r\nQ 10.40625 8.6875 15.234375 7.390625 \r\nQ 20.0625 6.109375 24.8125 6.109375 \r\nQ 31.15625 6.109375 34.5625 8.28125 \r\nQ 37.984375 10.453125 37.984375 14.40625 \r\nQ 37.984375 18.0625 35.515625 20.015625 \r\nQ 33.0625 21.96875 24.703125 23.78125 \r\nL 21.578125 24.515625 \r\nQ 13.234375 26.265625 9.515625 29.90625 \r\nQ 5.8125 33.546875 5.8125 39.890625 \r\nQ 5.8125 47.609375 11.28125 51.796875 \r\nQ 16.75 56 26.8125 56 \r\nQ 31.78125 56 36.171875 55.265625 \r\nQ 40.578125 54.546875 44.28125 53.078125 \r\nz\r\n\" id=\"DejaVuSans-115\"/>\r\n        <path d=\"M 34.28125 27.484375 \r\nQ 23.390625 27.484375 19.1875 25 \r\nQ 14.984375 22.515625 14.984375 16.5 \r\nQ 14.984375 11.71875 18.140625 8.90625 \r\nQ 21.296875 6.109375 26.703125 6.109375 \r\nQ 34.1875 6.109375 38.703125 11.40625 \r\nQ 43.21875 16.703125 43.21875 25.484375 \r\nL 43.21875 27.484375 \r\nz\r\nM 52.203125 31.203125 \r\nL 52.203125 0 \r\nL 43.21875 0 \r\nL 43.21875 8.296875 \r\nQ 40.140625 3.328125 35.546875 0.953125 \r\nQ 30.953125 -1.421875 24.3125 -1.421875 \r\nQ 15.921875 -1.421875 10.953125 3.296875 \r\nQ 6 8.015625 6 15.921875 \r\nQ 6 25.140625 12.171875 29.828125 \r\nQ 18.359375 34.515625 30.609375 34.515625 \r\nL 43.21875 34.515625 \r\nL 43.21875 35.40625 \r\nQ 43.21875 41.609375 39.140625 45 \r\nQ 35.0625 48.390625 27.6875 48.390625 \r\nQ 23 48.390625 18.546875 47.265625 \r\nQ 14.109375 46.140625 10.015625 43.890625 \r\nL 10.015625 52.203125 \r\nQ 14.9375 54.109375 19.578125 55.046875 \r\nQ 24.21875 56 28.609375 56 \r\nQ 40.484375 56 46.34375 49.84375 \r\nQ 52.203125 43.703125 52.203125 31.203125 \r\nz\r\n\" id=\"DejaVuSans-97\"/>\r\n        <path d=\"M 9.421875 75.984375 \r\nL 18.40625 75.984375 \r\nL 18.40625 0 \r\nL 9.421875 0 \r\nz\r\n\" id=\"DejaVuSans-108\"/>\r\n       </defs>\r\n       <use xlink:href=\"#DejaVuSans-82\"/>\r\n       <use x=\"64.982422\" xlink:href=\"#DejaVuSans-101\"/>\r\n       <use x=\"126.505859\" xlink:href=\"#DejaVuSans-118\"/>\r\n       <use x=\"185.685547\" xlink:href=\"#DejaVuSans-101\"/>\r\n       <use x=\"247.208984\" xlink:href=\"#DejaVuSans-114\"/>\r\n       <use x=\"288.322266\" xlink:href=\"#DejaVuSans-115\"/>\r\n       <use x=\"340.421875\" xlink:href=\"#DejaVuSans-97\"/>\r\n       <use x=\"401.701172\" xlink:href=\"#DejaVuSans-108\"/>\r\n      </g>\r\n     </g>\r\n    </g>\r\n   </g>\r\n   <g id=\"matplotlib.axis_2\">\r\n    <g id=\"ytick_1\">\r\n     <g id=\"line2d_3\">\r\n      <defs>\r\n       <path d=\"M 0 0 \r\nL -3.5 0 \r\n\" id=\"mb8b59a4877\" style=\"stroke:#000000;stroke-width:0.8;\"/>\r\n      </defs>\r\n      <g>\r\n       <use style=\"stroke:#000000;stroke-width:0.8;\" x=\"26.925\" xlink:href=\"#mb8b59a4877\" y=\"228.439219\"/>\r\n      </g>\r\n     </g>\r\n     <g id=\"text_3\">\r\n      <!-- 0 -->\r\n      <g transform=\"translate(13.5625 232.238437)scale(0.1 -0.1)\">\r\n       <defs>\r\n        <path d=\"M 31.78125 66.40625 \r\nQ 24.171875 66.40625 20.328125 58.90625 \r\nQ 16.5 51.421875 16.5 36.375 \r\nQ 16.5 21.390625 20.328125 13.890625 \r\nQ 24.171875 6.390625 31.78125 6.390625 \r\nQ 39.453125 6.390625 43.28125 13.890625 \r\nQ 47.125 21.390625 47.125 36.375 \r\nQ 47.125 51.421875 43.28125 58.90625 \r\nQ 39.453125 66.40625 31.78125 66.40625 \r\nz\r\nM 31.78125 74.21875 \r\nQ 44.046875 74.21875 50.515625 64.515625 \r\nQ 56.984375 54.828125 56.984375 36.375 \r\nQ 56.984375 17.96875 50.515625 8.265625 \r\nQ 44.046875 -1.421875 31.78125 -1.421875 \r\nQ 19.53125 -1.421875 13.0625 8.265625 \r\nQ 6.59375 17.96875 6.59375 36.375 \r\nQ 6.59375 54.828125 13.0625 64.515625 \r\nQ 19.53125 74.21875 31.78125 74.21875 \r\nz\r\n\" id=\"DejaVuSans-48\"/>\r\n       </defs>\r\n       <use xlink:href=\"#DejaVuSans-48\"/>\r\n      </g>\r\n     </g>\r\n    </g>\r\n    <g id=\"ytick_2\">\r\n     <g id=\"line2d_4\">\r\n      <g>\r\n       <use style=\"stroke:#000000;stroke-width:0.8;\" x=\"26.925\" xlink:href=\"#mb8b59a4877\" y=\"210.319219\"/>\r\n      </g>\r\n     </g>\r\n     <g id=\"text_4\">\r\n      <!-- 2 -->\r\n      <g transform=\"translate(13.5625 214.118437)scale(0.1 -0.1)\">\r\n       <defs>\r\n        <path d=\"M 19.1875 8.296875 \r\nL 53.609375 8.296875 \r\nL 53.609375 0 \r\nL 7.328125 0 \r\nL 7.328125 8.296875 \r\nQ 12.9375 14.109375 22.625 23.890625 \r\nQ 32.328125 33.6875 34.8125 36.53125 \r\nQ 39.546875 41.84375 41.421875 45.53125 \r\nQ 43.3125 49.21875 43.3125 52.78125 \r\nQ 43.3125 58.59375 39.234375 62.25 \r\nQ 35.15625 65.921875 28.609375 65.921875 \r\nQ 23.96875 65.921875 18.8125 64.3125 \r\nQ 13.671875 62.703125 7.8125 59.421875 \r\nL 7.8125 69.390625 \r\nQ 13.765625 71.78125 18.9375 73 \r\nQ 24.125 74.21875 28.421875 74.21875 \r\nQ 39.75 74.21875 46.484375 68.546875 \r\nQ 53.21875 62.890625 53.21875 53.421875 \r\nQ 53.21875 48.921875 51.53125 44.890625 \r\nQ 49.859375 40.875 45.40625 35.40625 \r\nQ 44.1875 33.984375 37.640625 27.21875 \r\nQ 31.109375 20.453125 19.1875 8.296875 \r\nz\r\n\" id=\"DejaVuSans-50\"/>\r\n       </defs>\r\n       <use xlink:href=\"#DejaVuSans-50\"/>\r\n      </g>\r\n     </g>\r\n    </g>\r\n    <g id=\"ytick_3\">\r\n     <g id=\"line2d_5\">\r\n      <g>\r\n       <use style=\"stroke:#000000;stroke-width:0.8;\" x=\"26.925\" xlink:href=\"#mb8b59a4877\" y=\"192.199219\"/>\r\n      </g>\r\n     </g>\r\n     <g id=\"text_5\">\r\n      <!-- 4 -->\r\n      <g transform=\"translate(13.5625 195.998437)scale(0.1 -0.1)\">\r\n       <defs>\r\n        <path d=\"M 37.796875 64.3125 \r\nL 12.890625 25.390625 \r\nL 37.796875 25.390625 \r\nz\r\nM 35.203125 72.90625 \r\nL 47.609375 72.90625 \r\nL 47.609375 25.390625 \r\nL 58.015625 25.390625 \r\nL 58.015625 17.1875 \r\nL 47.609375 17.1875 \r\nL 47.609375 0 \r\nL 37.796875 0 \r\nL 37.796875 17.1875 \r\nL 4.890625 17.1875 \r\nL 4.890625 26.703125 \r\nz\r\n\" id=\"DejaVuSans-52\"/>\r\n       </defs>\r\n       <use xlink:href=\"#DejaVuSans-52\"/>\r\n      </g>\r\n     </g>\r\n    </g>\r\n    <g id=\"ytick_4\">\r\n     <g id=\"line2d_6\">\r\n      <g>\r\n       <use style=\"stroke:#000000;stroke-width:0.8;\" x=\"26.925\" xlink:href=\"#mb8b59a4877\" y=\"174.079219\"/>\r\n      </g>\r\n     </g>\r\n     <g id=\"text_6\">\r\n      <!-- 6 -->\r\n      <g transform=\"translate(13.5625 177.878437)scale(0.1 -0.1)\">\r\n       <defs>\r\n        <path d=\"M 33.015625 40.375 \r\nQ 26.375 40.375 22.484375 35.828125 \r\nQ 18.609375 31.296875 18.609375 23.390625 \r\nQ 18.609375 15.53125 22.484375 10.953125 \r\nQ 26.375 6.390625 33.015625 6.390625 \r\nQ 39.65625 6.390625 43.53125 10.953125 \r\nQ 47.40625 15.53125 47.40625 23.390625 \r\nQ 47.40625 31.296875 43.53125 35.828125 \r\nQ 39.65625 40.375 33.015625 40.375 \r\nz\r\nM 52.59375 71.296875 \r\nL 52.59375 62.3125 \r\nQ 48.875 64.0625 45.09375 64.984375 \r\nQ 41.3125 65.921875 37.59375 65.921875 \r\nQ 27.828125 65.921875 22.671875 59.328125 \r\nQ 17.53125 52.734375 16.796875 39.40625 \r\nQ 19.671875 43.65625 24.015625 45.921875 \r\nQ 28.375 48.1875 33.59375 48.1875 \r\nQ 44.578125 48.1875 50.953125 41.515625 \r\nQ 57.328125 34.859375 57.328125 23.390625 \r\nQ 57.328125 12.15625 50.6875 5.359375 \r\nQ 44.046875 -1.421875 33.015625 -1.421875 \r\nQ 20.359375 -1.421875 13.671875 8.265625 \r\nQ 6.984375 17.96875 6.984375 36.375 \r\nQ 6.984375 53.65625 15.1875 63.9375 \r\nQ 23.390625 74.21875 37.203125 74.21875 \r\nQ 40.921875 74.21875 44.703125 73.484375 \r\nQ 48.484375 72.75 52.59375 71.296875 \r\nz\r\n\" id=\"DejaVuSans-54\"/>\r\n       </defs>\r\n       <use xlink:href=\"#DejaVuSans-54\"/>\r\n      </g>\r\n     </g>\r\n    </g>\r\n    <g id=\"ytick_5\">\r\n     <g id=\"line2d_7\">\r\n      <g>\r\n       <use style=\"stroke:#000000;stroke-width:0.8;\" x=\"26.925\" xlink:href=\"#mb8b59a4877\" y=\"155.959219\"/>\r\n      </g>\r\n     </g>\r\n     <g id=\"text_7\">\r\n      <!-- 8 -->\r\n      <g transform=\"translate(13.5625 159.758437)scale(0.1 -0.1)\">\r\n       <defs>\r\n        <path d=\"M 31.78125 34.625 \r\nQ 24.75 34.625 20.71875 30.859375 \r\nQ 16.703125 27.09375 16.703125 20.515625 \r\nQ 16.703125 13.921875 20.71875 10.15625 \r\nQ 24.75 6.390625 31.78125 6.390625 \r\nQ 38.8125 6.390625 42.859375 10.171875 \r\nQ 46.921875 13.96875 46.921875 20.515625 \r\nQ 46.921875 27.09375 42.890625 30.859375 \r\nQ 38.875 34.625 31.78125 34.625 \r\nz\r\nM 21.921875 38.8125 \r\nQ 15.578125 40.375 12.03125 44.71875 \r\nQ 8.5 49.078125 8.5 55.328125 \r\nQ 8.5 64.0625 14.71875 69.140625 \r\nQ 20.953125 74.21875 31.78125 74.21875 \r\nQ 42.671875 74.21875 48.875 69.140625 \r\nQ 55.078125 64.0625 55.078125 55.328125 \r\nQ 55.078125 49.078125 51.53125 44.71875 \r\nQ 48 40.375 41.703125 38.8125 \r\nQ 48.828125 37.15625 52.796875 32.3125 \r\nQ 56.78125 27.484375 56.78125 20.515625 \r\nQ 56.78125 9.90625 50.3125 4.234375 \r\nQ 43.84375 -1.421875 31.78125 -1.421875 \r\nQ 19.734375 -1.421875 13.25 4.234375 \r\nQ 6.78125 9.90625 6.78125 20.515625 \r\nQ 6.78125 27.484375 10.78125 32.3125 \r\nQ 14.796875 37.15625 21.921875 38.8125 \r\nz\r\nM 18.3125 54.390625 \r\nQ 18.3125 48.734375 21.84375 45.5625 \r\nQ 25.390625 42.390625 31.78125 42.390625 \r\nQ 38.140625 42.390625 41.71875 45.5625 \r\nQ 45.3125 48.734375 45.3125 54.390625 \r\nQ 45.3125 60.0625 41.71875 63.234375 \r\nQ 38.140625 66.40625 31.78125 66.40625 \r\nQ 25.390625 66.40625 21.84375 63.234375 \r\nQ 18.3125 60.0625 18.3125 54.390625 \r\nz\r\n\" id=\"DejaVuSans-56\"/>\r\n       </defs>\r\n       <use xlink:href=\"#DejaVuSans-56\"/>\r\n      </g>\r\n     </g>\r\n    </g>\r\n    <g id=\"ytick_6\">\r\n     <g id=\"line2d_8\">\r\n      <g>\r\n       <use style=\"stroke:#000000;stroke-width:0.8;\" x=\"26.925\" xlink:href=\"#mb8b59a4877\" y=\"137.839219\"/>\r\n      </g>\r\n     </g>\r\n     <g id=\"text_8\">\r\n      <!-- 10 -->\r\n      <g transform=\"translate(7.2 141.638437)scale(0.1 -0.1)\">\r\n       <defs>\r\n        <path d=\"M 12.40625 8.296875 \r\nL 28.515625 8.296875 \r\nL 28.515625 63.921875 \r\nL 10.984375 60.40625 \r\nL 10.984375 69.390625 \r\nL 28.421875 72.90625 \r\nL 38.28125 72.90625 \r\nL 38.28125 8.296875 \r\nL 54.390625 8.296875 \r\nL 54.390625 0 \r\nL 12.40625 0 \r\nz\r\n\" id=\"DejaVuSans-49\"/>\r\n       </defs>\r\n       <use xlink:href=\"#DejaVuSans-49\"/>\r\n       <use x=\"63.623047\" xlink:href=\"#DejaVuSans-48\"/>\r\n      </g>\r\n     </g>\r\n    </g>\r\n    <g id=\"ytick_7\">\r\n     <g id=\"line2d_9\">\r\n      <g>\r\n       <use style=\"stroke:#000000;stroke-width:0.8;\" x=\"26.925\" xlink:href=\"#mb8b59a4877\" y=\"119.719219\"/>\r\n      </g>\r\n     </g>\r\n     <g id=\"text_9\">\r\n      <!-- 12 -->\r\n      <g transform=\"translate(7.2 123.518437)scale(0.1 -0.1)\">\r\n       <use xlink:href=\"#DejaVuSans-49\"/>\r\n       <use x=\"63.623047\" xlink:href=\"#DejaVuSans-50\"/>\r\n      </g>\r\n     </g>\r\n    </g>\r\n    <g id=\"ytick_8\">\r\n     <g id=\"line2d_10\">\r\n      <g>\r\n       <use style=\"stroke:#000000;stroke-width:0.8;\" x=\"26.925\" xlink:href=\"#mb8b59a4877\" y=\"101.599219\"/>\r\n      </g>\r\n     </g>\r\n     <g id=\"text_10\">\r\n      <!-- 14 -->\r\n      <g transform=\"translate(7.2 105.398437)scale(0.1 -0.1)\">\r\n       <use xlink:href=\"#DejaVuSans-49\"/>\r\n       <use x=\"63.623047\" xlink:href=\"#DejaVuSans-52\"/>\r\n      </g>\r\n     </g>\r\n    </g>\r\n    <g id=\"ytick_9\">\r\n     <g id=\"line2d_11\">\r\n      <g>\r\n       <use style=\"stroke:#000000;stroke-width:0.8;\" x=\"26.925\" xlink:href=\"#mb8b59a4877\" y=\"83.479219\"/>\r\n      </g>\r\n     </g>\r\n     <g id=\"text_11\">\r\n      <!-- 16 -->\r\n      <g transform=\"translate(7.2 87.278437)scale(0.1 -0.1)\">\r\n       <use xlink:href=\"#DejaVuSans-49\"/>\r\n       <use x=\"63.623047\" xlink:href=\"#DejaVuSans-54\"/>\r\n      </g>\r\n     </g>\r\n    </g>\r\n    <g id=\"ytick_10\">\r\n     <g id=\"line2d_12\">\r\n      <g>\r\n       <use style=\"stroke:#000000;stroke-width:0.8;\" x=\"26.925\" xlink:href=\"#mb8b59a4877\" y=\"65.359219\"/>\r\n      </g>\r\n     </g>\r\n     <g id=\"text_12\">\r\n      <!-- 18 -->\r\n      <g transform=\"translate(7.2 69.158437)scale(0.1 -0.1)\">\r\n       <use xlink:href=\"#DejaVuSans-49\"/>\r\n       <use x=\"63.623047\" xlink:href=\"#DejaVuSans-56\"/>\r\n      </g>\r\n     </g>\r\n    </g>\r\n    <g id=\"ytick_11\">\r\n     <g id=\"line2d_13\">\r\n      <g>\r\n       <use style=\"stroke:#000000;stroke-width:0.8;\" x=\"26.925\" xlink:href=\"#mb8b59a4877\" y=\"47.239219\"/>\r\n      </g>\r\n     </g>\r\n     <g id=\"text_13\">\r\n      <!-- 20 -->\r\n      <g transform=\"translate(7.2 51.038437)scale(0.1 -0.1)\">\r\n       <use xlink:href=\"#DejaVuSans-50\"/>\r\n       <use x=\"63.623047\" xlink:href=\"#DejaVuSans-48\"/>\r\n      </g>\r\n     </g>\r\n    </g>\r\n    <g id=\"ytick_12\">\r\n     <g id=\"line2d_14\">\r\n      <g>\r\n       <use style=\"stroke:#000000;stroke-width:0.8;\" x=\"26.925\" xlink:href=\"#mb8b59a4877\" y=\"29.119219\"/>\r\n      </g>\r\n     </g>\r\n     <g id=\"text_14\">\r\n      <!-- 22 -->\r\n      <g transform=\"translate(7.2 32.918437)scale(0.1 -0.1)\">\r\n       <use xlink:href=\"#DejaVuSans-50\"/>\r\n       <use x=\"63.623047\" xlink:href=\"#DejaVuSans-50\"/>\r\n      </g>\r\n     </g>\r\n    </g>\r\n    <g id=\"ytick_13\">\r\n     <g id=\"line2d_15\">\r\n      <g>\r\n       <use style=\"stroke:#000000;stroke-width:0.8;\" x=\"26.925\" xlink:href=\"#mb8b59a4877\" y=\"10.999219\"/>\r\n      </g>\r\n     </g>\r\n     <g id=\"text_15\">\r\n      <!-- 24 -->\r\n      <g transform=\"translate(7.2 14.798437)scale(0.1 -0.1)\">\r\n       <use xlink:href=\"#DejaVuSans-50\"/>\r\n       <use x=\"63.623047\" xlink:href=\"#DejaVuSans-52\"/>\r\n      </g>\r\n     </g>\r\n    </g>\r\n   </g>\r\n   <g id=\"patch_5\">\r\n    <path d=\"M 26.925 228.439219 \r\nL 26.925 10.999219 \r\n\" style=\"fill:none;stroke:#000000;stroke-linecap:square;stroke-linejoin:miter;stroke-width:0.8;\"/>\r\n   </g>\r\n   <g id=\"patch_6\">\r\n    <path d=\"M 361.725 228.439219 \r\nL 361.725 10.999219 \r\n\" style=\"fill:none;stroke:#000000;stroke-linecap:square;stroke-linejoin:miter;stroke-width:0.8;\"/>\r\n   </g>\r\n   <g id=\"patch_7\">\r\n    <path d=\"M 26.925 228.439219 \r\nL 361.725 228.439219 \r\n\" style=\"fill:none;stroke:#000000;stroke-linecap:square;stroke-linejoin:miter;stroke-width:0.8;\"/>\r\n   </g>\r\n   <g id=\"patch_8\">\r\n    <path d=\"M 26.925 10.999219 \r\nL 361.725 10.999219 \r\n\" style=\"fill:none;stroke:#000000;stroke-linecap:square;stroke-linejoin:miter;stroke-width:0.8;\"/>\r\n   </g>\r\n  </g>\r\n </g>\r\n <defs>\r\n  <clipPath id=\"p6a0ee5a08d\">\r\n   <rect height=\"217.44\" width=\"334.8\" x=\"26.925\" y=\"10.999219\"/>\r\n  </clipPath>\r\n </defs>\r\n</svg>\r\n",
      "image/png": "[encoded data removed]"
     },
     "metadata": {
      "needs_background": "light"
     }
    }
   ],
   "source": [
    "dfs[8]['Effect'].value_counts().plot(kind='bar',yticks=range(0,25,2))"
   ]
  },
  {
   "cell_type": "code",
   "execution_count": 299,
   "metadata": {},
   "outputs": [
    {
     "output_type": "execute_result",
     "data": {
      "text/plain": [
       "                 Adj Close %Change  Cum Returns    Effect\n",
       "Name Date                                                \n",
       "AAPL 2010-04-30          -0.088597     0.911403  Reversal\n",
       "     2010-08-31           0.337499     1.219001  Momentum\n",
       "     2010-12-31           0.104601     1.346510  Momentum\n",
       "     2011-04-30           0.195841     1.610212  Momentum\n",
       "     2011-08-31           0.025080     1.650595  Momentum\n",
       "     2011-12-31           0.096283     1.809520  Momentum\n",
       "     2012-04-30           0.197104     2.166184  Momentum\n",
       "     2012-08-31           0.265620     2.741565  Momentum\n",
       "     2012-12-31           0.159649     3.179254  Momentum\n",
       "     2013-04-30          -0.314090     2.180682  Reversal\n",
       "     2013-08-31          -0.006891     2.165654  Reversal\n",
       "     2013-12-31           0.074143     2.326222  Momentum\n",
       "     2014-04-30           0.056156     2.456854  Momentum\n",
       "     2014-08-31           0.272052     3.125246  Momentum\n",
       "     2014-12-31           0.125934     3.518823  Momentum\n",
       "     2015-04-30           0.167921     4.109707  Momentum\n",
       "     2015-08-31           0.116372     4.587962  Momentum\n",
       "     2015-12-31          -0.145977     3.918224  Reversal\n",
       "     2016-04-30          -0.113720     3.472643  Reversal\n",
       "     2016-08-31           0.031455     3.581876  Momentum\n",
       "     2016-12-31           0.145148     4.101777  Momentum\n",
       "     2017-04-30           0.078930     4.425530  Momentum\n",
       "     2017-08-31           0.264296     5.595179  Momentum\n",
       "     2017-12-31           0.017046     5.690552  Momentum\n",
       "     2018-04-30           0.090267     6.204220  Momentum\n",
       "     2018-08-31           0.120658     6.952811  Momentum\n",
       "     2018-12-31           0.216917     8.460994  Momentum\n",
       "     2019-04-30          -0.260119     6.260129  Reversal\n",
       "     2019-08-31           0.056362     6.612960  Momentum\n",
       "     2019-12-31           0.289123     8.524918  Momentum\n",
       "     2020-04-30           0.386075    11.816176  Momentum\n",
       "     2020-08-31           0.029675    12.166815  Momentum\n",
       "     2020-12-31           0.463583    17.807140  Momentum\n",
       "     2021-04-30           0.141418    20.325398  Momentum"
      ],
      "text/html": "<div>\n<style scoped>\n    .dataframe tbody tr th:only-of-type {\n        vertical-align: middle;\n    }\n\n    .dataframe tbody tr th {\n        vertical-align: top;\n    }\n\n    .dataframe thead th {\n        text-align: right;\n    }\n</style>\n<table border=\"1\" class=\"dataframe\">\n  <thead>\n    <tr style=\"text-align: right;\">\n      <th></th>\n      <th></th>\n      <th>Adj Close %Change</th>\n      <th>Cum Returns</th>\n      <th>Effect</th>\n    </tr>\n    <tr>\n      <th>Name</th>\n      <th>Date</th>\n      <th></th>\n      <th></th>\n      <th></th>\n    </tr>\n  </thead>\n  <tbody>\n    <tr>\n      <th rowspan=\"34\" valign=\"top\">AAPL</th>\n      <th>2010-04-30</th>\n      <td>-0.088597</td>\n      <td>0.911403</td>\n      <td>Reversal</td>\n    </tr>\n    <tr>\n      <th>2010-08-31</th>\n      <td>0.337499</td>\n      <td>1.219001</td>\n      <td>Momentum</td>\n    </tr>\n    <tr>\n      <th>2010-12-31</th>\n      <td>0.104601</td>\n      <td>1.346510</td>\n      <td>Momentum</td>\n    </tr>\n    <tr>\n      <th>2011-04-30</th>\n      <td>0.195841</td>\n      <td>1.610212</td>\n      <td>Momentum</td>\n    </tr>\n    <tr>\n      <th>2011-08-31</th>\n      <td>0.025080</td>\n      <td>1.650595</td>\n      <td>Momentum</td>\n    </tr>\n    <tr>\n      <th>2011-12-31</th>\n      <td>0.096283</td>\n      <td>1.809520</td>\n      <td>Momentum</td>\n    </tr>\n    <tr>\n      <th>2012-04-30</th>\n      <td>0.197104</td>\n      <td>2.166184</td>\n      <td>Momentum</td>\n    </tr>\n    <tr>\n      <th>2012-08-31</th>\n      <td>0.265620</td>\n      <td>2.741565</td>\n      <td>Momentum</td>\n    </tr>\n    <tr>\n      <th>2012-12-31</th>\n      <td>0.159649</td>\n      <td>3.179254</td>\n      <td>Momentum</td>\n    </tr>\n    <tr>\n      <th>2013-04-30</th>\n      <td>-0.314090</td>\n      <td>2.180682</td>\n      <td>Reversal</td>\n    </tr>\n    <tr>\n      <th>2013-08-31</th>\n      <td>-0.006891</td>\n      <td>2.165654</td>\n      <td>Reversal</td>\n    </tr>\n    <tr>\n      <th>2013-12-31</th>\n      <td>0.074143</td>\n      <td>2.326222</td>\n      <td>Momentum</td>\n    </tr>\n    <tr>\n      <th>2014-04-30</th>\n      <td>0.056156</td>\n      <td>2.456854</td>\n      <td>Momentum</td>\n    </tr>\n    <tr>\n      <th>2014-08-31</th>\n      <td>0.272052</td>\n      <td>3.125246</td>\n      <td>Momentum</td>\n    </tr>\n    <tr>\n      <th>2014-12-31</th>\n      <td>0.125934</td>\n      <td>3.518823</td>\n      <td>Momentum</td>\n    </tr>\n    <tr>\n      <th>2015-04-30</th>\n      <td>0.167921</td>\n      <td>4.109707</td>\n      <td>Momentum</td>\n    </tr>\n    <tr>\n      <th>2015-08-31</th>\n      <td>0.116372</td>\n      <td>4.587962</td>\n      <td>Momentum</td>\n    </tr>\n    <tr>\n      <th>2015-12-31</th>\n      <td>-0.145977</td>\n      <td>3.918224</td>\n      <td>Reversal</td>\n    </tr>\n    <tr>\n      <th>2016-04-30</th>\n      <td>-0.113720</td>\n      <td>3.472643</td>\n      <td>Reversal</td>\n    </tr>\n    <tr>\n      <th>2016-08-31</th>\n      <td>0.031455</td>\n      <td>3.581876</td>\n      <td>Momentum</td>\n    </tr>\n    <tr>\n      <th>2016-12-31</th>\n      <td>0.145148</td>\n      <td>4.101777</td>\n      <td>Momentum</td>\n    </tr>\n    <tr>\n      <th>2017-04-30</th>\n      <td>0.078930</td>\n      <td>4.425530</td>\n      <td>Momentum</td>\n    </tr>\n    <tr>\n      <th>2017-08-31</th>\n      <td>0.264296</td>\n      <td>5.595179</td>\n      <td>Momentum</td>\n    </tr>\n    <tr>\n      <th>2017-12-31</th>\n      <td>0.017046</td>\n      <td>5.690552</td>\n      <td>Momentum</td>\n    </tr>\n    <tr>\n      <th>2018-04-30</th>\n      <td>0.090267</td>\n      <td>6.204220</td>\n      <td>Momentum</td>\n    </tr>\n    <tr>\n      <th>2018-08-31</th>\n      <td>0.120658</td>\n      <td>6.952811</td>\n      <td>Momentum</td>\n    </tr>\n    <tr>\n      <th>2018-12-31</th>\n      <td>0.216917</td>\n      <td>8.460994</td>\n      <td>Momentum</td>\n    </tr>\n    <tr>\n      <th>2019-04-30</th>\n      <td>-0.260119</td>\n      <td>6.260129</td>\n      <td>Reversal</td>\n    </tr>\n    <tr>\n      <th>2019-08-31</th>\n      <td>0.056362</td>\n      <td>6.612960</td>\n      <td>Momentum</td>\n    </tr>\n    <tr>\n      <th>2019-12-31</th>\n      <td>0.289123</td>\n      <td>8.524918</td>\n      <td>Momentum</td>\n    </tr>\n    <tr>\n      <th>2020-04-30</th>\n      <td>0.386075</td>\n      <td>11.816176</td>\n      <td>Momentum</td>\n    </tr>\n    <tr>\n      <th>2020-08-31</th>\n      <td>0.029675</td>\n      <td>12.166815</td>\n      <td>Momentum</td>\n    </tr>\n    <tr>\n      <th>2020-12-31</th>\n      <td>0.463583</td>\n      <td>17.807140</td>\n      <td>Momentum</td>\n    </tr>\n    <tr>\n      <th>2021-04-30</th>\n      <td>0.141418</td>\n      <td>20.325398</td>\n      <td>Momentum</td>\n    </tr>\n  </tbody>\n</table>\n</div>"
     },
     "metadata": {},
     "execution_count": 299
    }
   ],
   "source": [
    "dfs[0]"
   ]
  },
  {
   "cell_type": "code",
   "execution_count": 296,
   "metadata": {},
   "outputs": [
    {
     "output_type": "error",
     "ename": "AttributeError",
     "evalue": "'DataFrame' object has no attribute 'Date'",
     "traceback": [
      "\u001b[1;31m---------------------------------------------------------------------------\u001b[0m",
      "\u001b[1;31mAttributeError\u001b[0m                            Traceback (most recent call last)",
      "\u001b[1;32m<ipython-input-296-169a31d9ba62>\u001b[0m in \u001b[0;36m<module>\u001b[1;34m\u001b[0m\n\u001b[1;32m----> 1\u001b[1;33m \u001b[0maapl\u001b[0m\u001b[1;33m.\u001b[0m\u001b[0mDate\u001b[0m\u001b[1;33m\u001b[0m\u001b[1;33m\u001b[0m\u001b[0m\n\u001b[0m",
      "\u001b[1;32m~\\.virtualenvs\\dsc190-FVH1D0fH\\lib\\site-packages\\pandas\\core\\generic.py\u001b[0m in \u001b[0;36m__getattr__\u001b[1;34m(self, name)\u001b[0m\n\u001b[0;32m   5460\u001b[0m             \u001b[1;32mif\u001b[0m \u001b[0mself\u001b[0m\u001b[1;33m.\u001b[0m\u001b[0m_info_axis\u001b[0m\u001b[1;33m.\u001b[0m\u001b[0m_can_hold_identifiers_and_holds_name\u001b[0m\u001b[1;33m(\u001b[0m\u001b[0mname\u001b[0m\u001b[1;33m)\u001b[0m\u001b[1;33m:\u001b[0m\u001b[1;33m\u001b[0m\u001b[1;33m\u001b[0m\u001b[0m\n\u001b[0;32m   5461\u001b[0m                 \u001b[1;32mreturn\u001b[0m \u001b[0mself\u001b[0m\u001b[1;33m[\u001b[0m\u001b[0mname\u001b[0m\u001b[1;33m]\u001b[0m\u001b[1;33m\u001b[0m\u001b[1;33m\u001b[0m\u001b[0m\n\u001b[1;32m-> 5462\u001b[1;33m             \u001b[1;32mreturn\u001b[0m \u001b[0mobject\u001b[0m\u001b[1;33m.\u001b[0m\u001b[0m__getattribute__\u001b[0m\u001b[1;33m(\u001b[0m\u001b[0mself\u001b[0m\u001b[1;33m,\u001b[0m \u001b[0mname\u001b[0m\u001b[1;33m)\u001b[0m\u001b[1;33m\u001b[0m\u001b[1;33m\u001b[0m\u001b[0m\n\u001b[0m\u001b[0;32m   5463\u001b[0m \u001b[1;33m\u001b[0m\u001b[0m\n\u001b[0;32m   5464\u001b[0m     \u001b[1;32mdef\u001b[0m \u001b[0m__setattr__\u001b[0m\u001b[1;33m(\u001b[0m\u001b[0mself\u001b[0m\u001b[1;33m,\u001b[0m \u001b[0mname\u001b[0m\u001b[1;33m:\u001b[0m \u001b[0mstr\u001b[0m\u001b[1;33m,\u001b[0m \u001b[0mvalue\u001b[0m\u001b[1;33m)\u001b[0m \u001b[1;33m->\u001b[0m \u001b[1;32mNone\u001b[0m\u001b[1;33m:\u001b[0m\u001b[1;33m\u001b[0m\u001b[1;33m\u001b[0m\u001b[0m\n",
      "\u001b[1;31mAttributeError\u001b[0m: 'DataFrame' object has no attribute 'Date'"
     ]
    }
   ],
   "source": [
    "aapl.Date"
   ]
  },
  {
   "cell_type": "code",
   "execution_count": null,
   "metadata": {},
   "outputs": [],
   "source": [
    "new_df = pd.merge_asof(dfs[0].reset_index(),aapl,on='Date')\n",
    "new_df['Name'] = 'AAPL'\n",
    "new_df.set_index(['Name','Date'],inplace=True)\n",
    "new_df = new_df[~new_df.index.duplicated(keep='first')]\n",
    "new_df"
   ]
  },
  {
   "cell_type": "code",
   "execution_count": 298,
   "metadata": {},
   "outputs": [
    {
     "output_type": "error",
     "ename": "NameError",
     "evalue": "name 'new_df' is not defined",
     "traceback": [
      "\u001b[1;31m---------------------------------------------------------------------------\u001b[0m",
      "\u001b[1;31mNameError\u001b[0m                                 Traceback (most recent call last)",
      "\u001b[1;32m<ipython-input-298-7da51bd90949>\u001b[0m in \u001b[0;36m<module>\u001b[1;34m\u001b[0m\n\u001b[0;32m      1\u001b[0m \u001b[1;32mimport\u001b[0m \u001b[0mpandas_ta\u001b[0m \u001b[1;32mas\u001b[0m \u001b[0mta\u001b[0m\u001b[1;33m\u001b[0m\u001b[1;33m\u001b[0m\u001b[0m\n\u001b[1;32m----> 2\u001b[1;33m \u001b[0mnew_df\u001b[0m\u001b[1;33m.\u001b[0m\u001b[0mta\u001b[0m\u001b[1;33m.\u001b[0m\u001b[0mcores\u001b[0m \u001b[1;33m=\u001b[0m \u001b[1;36m7\u001b[0m\u001b[1;33m\u001b[0m\u001b[1;33m\u001b[0m\u001b[0m\n\u001b[0m\u001b[0;32m      3\u001b[0m \u001b[0mnew_df\u001b[0m\u001b[1;33m.\u001b[0m\u001b[0mta\u001b[0m\u001b[1;33m.\u001b[0m\u001b[0msma\u001b[0m\u001b[1;33m(\u001b[0m\u001b[0mlength\u001b[0m\u001b[1;33m=\u001b[0m\u001b[1;36m8\u001b[0m\u001b[1;33m,\u001b[0m \u001b[0mappend\u001b[0m\u001b[1;33m=\u001b[0m\u001b[1;32mTrue\u001b[0m\u001b[1;33m)\u001b[0m\u001b[1;33m\u001b[0m\u001b[1;33m\u001b[0m\u001b[0m\n\u001b[0;32m      4\u001b[0m \u001b[0mnew_df\u001b[0m\u001b[1;33m.\u001b[0m\u001b[0mta\u001b[0m\u001b[1;33m.\u001b[0m\u001b[0mrsi\u001b[0m\u001b[1;33m(\u001b[0m\u001b[0mappend\u001b[0m\u001b[1;33m=\u001b[0m\u001b[1;32mTrue\u001b[0m\u001b[1;33m)\u001b[0m\u001b[1;33m\u001b[0m\u001b[1;33m\u001b[0m\u001b[0m\n\u001b[0;32m      5\u001b[0m \u001b[0mnew_df\u001b[0m\u001b[1;33m.\u001b[0m\u001b[0mta\u001b[0m\u001b[1;33m.\u001b[0m\u001b[0mcci\u001b[0m\u001b[1;33m(\u001b[0m\u001b[0mlength\u001b[0m\u001b[1;33m=\u001b[0m\u001b[1;36m8\u001b[0m\u001b[1;33m,\u001b[0m \u001b[0mappend\u001b[0m\u001b[1;33m=\u001b[0m\u001b[1;32mTrue\u001b[0m\u001b[1;33m)\u001b[0m\u001b[1;33m\u001b[0m\u001b[1;33m\u001b[0m\u001b[0m\n",
      "\u001b[1;31mNameError\u001b[0m: name 'new_df' is not defined"
     ]
    }
   ],
   "source": [
    "import pandas_ta as ta\n",
    "new_df.ta.cores = 7\n",
    "new_df.ta.sma(length=8, append=True)\n",
    "new_df.ta.rsi(append=True)\n",
    "new_df.ta.cci(length=8, append=True)\n",
    "new_df['return std'] = new_df['Cum Returns'].rolling(2).std()\n",
    "new_df.ta.willr(length=k/2, append=True)\n",
    "new_df.ta.roc(length=k/2,append=True)\n",
    "new_df.ta.ema(append=True)\n",
    "new_df.ta.pdist(append=True)\n",
    "new_df.ta.variance(length=4,append=True)\n",
    "new_df.ta.psar(append=True)\n",
    "new_df = new_df.join(pd.get_dummies(new_df.Effect, prefix='Effect')) #one hot\n",
    "new_df"
   ]
  },
  {
   "cell_type": "code",
   "execution_count": null,
   "metadata": {},
   "outputs": [],
   "source": [
    "import seaborn as sns\n",
    "\n",
    "corr = new_df.corr()\n",
    "\n",
    "# Generate a mask for the upper triangle\n",
    "mask = np.triu(np.ones_like(corr, dtype=bool))\n",
    "\n",
    "# Set up the matplotlib figure\n",
    "f, ax = plt.subplots(figsize=(11, 9))\n",
    "\n",
    "# Generate a custom diverging colormap\n",
    "cmap = sns.diverging_palette(230, 20, as_cmap=True)\n",
    "\n",
    "# Draw the heatmap with the mask and correct aspect ratio\n",
    "sns.heatmap(corr, mask=mask, cmap=\"PuBuGn\", vmax=1, vmin=-1, center=0,\n",
    "            square=True, linewidths=.5, cbar_kws={\"shrink\": .5})"
   ]
  },
  {
   "cell_type": "code",
   "execution_count": null,
   "metadata": {},
   "outputs": [],
   "source": [
    "new_df"
   ]
  },
  {
   "cell_type": "code",
   "execution_count": null,
   "metadata": {},
   "outputs": [],
   "source": [
    "# def K_ranking(ticker_df):\n",
    "def K_ranking(start_time, end_time):\n",
    "    '''given a time range, this reads in OHLC data of the s&p500 and converts it into usable features.'''\n",
    "    "
   ]
  },
  {
   "cell_type": "markdown",
   "metadata": {},
   "source": [
    "# Modeling:\n",
    "Below we start to really look at feature engineering, not much here yet"
   ]
  },
  {
   "cell_type": "code",
   "execution_count": null,
   "metadata": {},
   "outputs": [],
   "source": [
    "# pd.read_csv('constituent_performance_4_months.csv')"
   ]
  },
  {
   "cell_type": "code",
   "execution_count": null,
   "metadata": {},
   "outputs": [],
   "source": [
    "# momentum/ model: given a huge dataset with daily/monthly data, we determine in an initial period J to find which tickers do the best/worst, "
   ]
  },
  {
   "cell_type": "code",
   "execution_count": null,
   "metadata": {},
   "outputs": [],
   "source": []
  },
  {
   "cell_type": "markdown",
   "metadata": {},
   "source": [
    "## ---notes below---"
   ]
  },
  {
   "cell_type": "markdown",
   "metadata": {},
   "source": [
    "# For the momentum analysis portion:\n",
    "The way we plan to proceed for now is to give each stock in our index (sp500) equal weights, in a sense, then rank them by some criteria on how well they are performing. we will adopt the observe J and hold K strategy as detailed in the paper, in which there is an observatory period of J quarters/months/days and a holding period of K quarters/months/days (Ben: idk, j might be able to overlap with k, we can do a lot with how we implement it). In short, we classify in the J period whether a particular ticker would be best treated with a momentum or reversal strategy, or some other. The classification task here is thus presented.\n",
    "\n",
    "momentum strategy: buy/give heavier weights over time to well performing stocks, as we assume they will continue to get better as per our understanding of momentum\n",
    "\n",
    "reversal strategy: Amir proposed we short underperforming stocks. This strategy we adopt *might* actually be different from what the paper is proposing, which is to buy and hold underperforming stocks as we predict it to rebound (Ben: fact check me pls).\n",
    "\n",
    "stocks in between: dont buy them, or leave them as they are...? feel free to share your own thoughts.\n",
    "\n",
    "# For the modeling portion: \n",
    "a lot still left untouched, ill think a bit harder about it tmr ...\n",
    "we want 3 models to do this kind of momentum analysis algorithmically vs manually, and pit it against a baseline of a simple buy and hold strategy. The parameters will come from a wealth of technical analysis (read: all the fancy hard to understand financial forecasting stuff) libraries already available (we probably wont be making most of them, beyond the simple stuff) but we do have a deadline to keep in mind."
   ]
  },
  {
   "source": [
    "momentum groups have positive trensds, high return rates, \n",
    "\n",
    "reversal groups are stocks taht are losing. \n",
    "dynamically managing the 500 tickers in s&p.\n",
    "\n",
    "hwo do we predict who is going into momentum group at t+k, and how accurate can we be?\n",
    "based on the pricing trends, who will be in reversal and who will be in momentum?\n",
    "    a lot of room to work with\n",
    "bactesting takes our predictions and our model trained to figure out how to weight the positions of the stocks, we would take that strategy and test it on historical data\n",
    "\n",
    "we would have a lot to talk about in terms of a paper, how to improve, what not to notice\n",
    "how it could be used in the real world market\n",
    "\n",
    "do we want to create our own feature on which ticker is profitable, or \n",
    "- returns? predicting reurns over a certain period\\\\\n",
    "- the momentum to reversal ratio for a particular \n",
    "- more categorical features interpreted from indicators\n",
    "if we could answer these questions, how to implement above\n",
    "predictions on who goes where, then we can find out which features can increase accuracy over time, then weights, risk parameter, where the algo tries to place the stocks momentum and reversal groups and then it meets the parameter that we feed\n",
    "how do I predict, say, can we predict the possible return and then see, based on that,..\n",
    "there are certain indicators \n",
    "moving averages, where they change is a trend reversal indicate where and when that happens\n",
    "if we need more features\n",
    "\n",
    "waht would be a good starting point for us to start on?\n",
    "- creating features? familiarizing ourselgves with this notebook\n",
    "- we bought here and held there\\\n",
    "- maybe correlation analysis? taking old data and shiftiing it around to create and make it as accurate as possible for one of those and then figuring out which one of these affect accuracy of who goes in what group.\n",
    "tldr the sooner we play with the features bnetter \n",
    "who is in momentum who is in reversal based on certain criteria?\n",
    "for momentum and reversal, we are predicting return, get rmse beneath 80, and then visualize how it places and then prefirmance. start iterating on that part. cumulative returns vs actual returns\n",
    "creating better features?\n",
    "tuning parameters to modify the suggestion you would give based on momentum group.\n",
    "no effect is that it dont make it int\n",
    "we have many variables to compare the two. lower profiitability and higher rate. if it kept your risk constrained and you still had a significant strategy\n",
    "\n"
   ],
   "cell_type": "markdown",
   "metadata": {}
  },
  {
   "source": [
    "analyze at j, hold for k. \n",
    "evaluating when it hits the lowest...?\n",
    "\n",
    "\n",
    "\n",
    "\n",
    "so we have stocks, are we predicting profitability? -its not a difficult question to ask. we are predicting \n",
    "\n",
    "shweta as a clasirifation problem, momentum nad reversal. \n",
    "if we went back to momentum and reversal?\n",
    "- with these, can we predict return? pick a momentum or reversal group \n",
    "we label with momentum and reversal. say we have a collection, and a group at certain points. predict return? if you were to hold them for a time. use calculations for holding, having a certain period  and hold? for a certain amount. eg 2010 to 2015, we have all the return data, take the "
   ],
   "cell_type": "markdown",
   "metadata": {}
  },
  {
   "source": [
    "could we create a concrete quesiton\n",
    "xgd regressor\n",
    "> check out the moethodology portion"
   ],
   "cell_type": "markdown",
   "metadata": {}
  }
 ],
 "metadata": {
  "kernelspec": {
   "name": "python3",
   "display_name": "Python 3.7.4 64-bit ('dsc190': pipenv)",
   "metadata": {
    "interpreter": {
     "hash": "e8c7d0e4fde2d427e9a5fa7c228e5b3fde1b07bcd87cbc5bf40713027eb29d09"
    }
   }
  },
  "language_info": {
   "codemirror_mode": {
    "name": "ipython",
    "version": 3
   },
   "file_extension": ".py",
   "mimetype": "text/x-python",
   "name": "python",
   "nbconvert_exporter": "python",
   "pygments_lexer": "ipython3",
   "version": "3.7.4-final"
  }
 },
 "nbformat": 4,
 "nbformat_minor": 2
}