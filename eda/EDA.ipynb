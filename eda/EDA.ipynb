{
 "cells": [
  {
   "cell_type": "markdown",
   "metadata": {},
   "source": [
    "Ben: A lot of unfamiliar packages here, more on the way. pipenv/virtual environments are your friend. A quick disclaimer that I am barely familiar with this domain of financial modeling, i can be very wrong in my understanding of things. i hope my code is readable."
   ]
  },
  {
   "cell_type": "code",
   "execution_count": 16,
   "metadata": {},
   "outputs": [],
   "source": [
    "import numpy as np\n",
    "import pandas as pd\n",
    "import matplotlib.pyplot as plt\n",
    "from time import sleep\n",
    "\n",
    "from pandas_datareader import data as pdr\n",
    "import pandas_ta as ta #commented out for me for now, I (Ben) had some dependency issues\n",
    "\n",
    "import yfinance as yf\n",
    "# import quandl as qd # not used, ignor ples\n",
    "from backtesting import Backtest, Strategy"
   ]
  },
  {
   "cell_type": "code",
   "execution_count": 17,
   "metadata": {},
   "outputs": [],
   "source": [
    "yf.pdr_override() # for use with pandas-datareader, optional"
   ]
  },
  {
   "cell_type": "markdown",
   "metadata": {},
   "source": [
    "# Data Sources/Exploration\n",
    "## which stocks/tickers will we be looking at?\n",
    "We've more or less arbitrarily settled on the current S&P 500 index, a popular choice.\n",
    "## What data do we need, and where can we get it?\n",
    "We need OHLC (open high low close) data, on a monthly and daily scale. Using yfinance, a module that basically scrapes the ya\"hoo finance site for data on tickers, we can get most of what we need.\n",
    "## "
   ]
  },
  {
   "cell_type": "code",
   "execution_count": 18,
   "metadata": {},
   "outputs": [
    {
     "output_type": "execute_result",
     "data": {
      "text/plain": [
       "0     AAPL\n",
       "1     MSFT\n",
       "2     AMZN\n",
       "3       FB\n",
       "4    GOOGL\n",
       "Name: Ticker, dtype: object"
      ]
     },
     "metadata": {},
     "execution_count": 18
    }
   ],
   "source": [
    "ticker = pd.read_csv('ticker.csv')['Ticker']\n",
    "tickers = ticker.to_list() # This is a list of all tickers in the SP500\n",
    "tickers = [x.replace('.','-') for x in tickers] # yahoo has '-' instead of '.' for tickers, eg BRK.B\n",
    "ticker.head()"
   ]
  },
  {
   "cell_type": "code",
   "execution_count": 19,
   "metadata": {},
   "outputs": [],
   "source": [
    "# tickers"
   ]
  },
  {
   "cell_type": "code",
   "execution_count": 20,
   "metadata": {},
   "outputs": [],
   "source": [
    "# sp_500 = {x:yf.Ticker(x) for x in tickers} # a dict of initialized yfinance tickers\n",
    "# sp_500['AAPL'].history(start='2019-01-01', end='2020-12-31', interval='1mo')\n",
    "# sp_500['AAPL'].history(start='2010-01-01', end='2020-12-31')"
   ]
  },
  {
   "cell_type": "code",
   "execution_count": 21,
   "metadata": {
    "tags": [
     "outputPrepend"
    ]
   },
   "outputs": [
    {
     "output_type": "stream",
     "name": "stdout",
     "text": [
      "ata!\n",
      "[*********************100%***********************]  1 of 1 completed\n",
      "Grabbing AJG data!\n",
      "[*********************100%***********************]  1 of 1 completed\n",
      "Grabbing FLT data!\n",
      "[*********************100%***********************]  1 of 1 completed\n",
      "Grabbing TTWO data!\n",
      "[*********************100%***********************]  1 of 1 completed\n",
      "Grabbing HSY data!\n",
      "[*********************100%***********************]  1 of 1 completed\n",
      "Grabbing CERN data!\n",
      "[*********************100%***********************]  1 of 1 completed\n",
      "Grabbing CDW data!\n",
      "[*********************100%***********************]  1 of 1 completed\n",
      "Grabbing FTNT data!\n",
      "[*********************100%***********************]  1 of 1 completed\n",
      "Grabbing OXY data!\n",
      "[*********************100%***********************]  1 of 1 completed\n",
      "Grabbing VTRS data!\n",
      "[*********************100%***********************]  1 of 1 completed\n",
      "Grabbing WST data!\n",
      "[*********************100%***********************]  1 of 1 completed\n",
      "Grabbing O data!\n",
      "[*********************100%***********************]  1 of 1 completed\n",
      "Grabbing MKC data!\n",
      "[*********************100%***********************]  1 of 1 completed\n",
      "Grabbing EIX data!\n",
      "[*********************100%***********************]  1 of 1 completed\n",
      "Grabbing PPL data!\n",
      "[*********************100%***********************]  1 of 1 completed\n",
      "Grabbing VMC data!\n",
      "[*********************100%***********************]  1 of 1 completed\n",
      "Grabbing HOLX data!\n",
      "[*********************100%***********************]  1 of 1 completed\n",
      "Grabbing EFX data!\n",
      "[*********************100%***********************]  1 of 1 completed\n",
      "Grabbing URI data!\n",
      "[*********************100%***********************]  1 of 1 completed\n",
      "Grabbing ARE data!\n",
      "[*********************100%***********************]  1 of 1 completed\n",
      "Grabbing NTRS data!\n",
      "[*********************100%***********************]  1 of 1 completed\n",
      "Grabbing SYF data!\n",
      "[*********************100%***********************]  1 of 1 completed\n",
      "Grabbing OKE data!\n",
      "[*********************100%***********************]  1 of 1 completed\n",
      "Grabbing MKTX data!\n",
      "[*********************100%***********************]  1 of 1 completed\n",
      "Grabbing CHD data!\n",
      "[*********************100%***********************]  1 of 1 completed\n",
      "Grabbing WDC data!\n",
      "[*********************100%***********************]  1 of 1 completed\n",
      "Grabbing MLM data!\n",
      "[*********************100%***********************]  1 of 1 completed\n",
      "Grabbing ODFL data!\n",
      "[*********************100%***********************]  1 of 1 completed\n",
      "Grabbing CTLT data!\n",
      "[*********************100%***********************]  1 of 1 completed\n",
      "Grabbing QRVO data!\n",
      "[*********************100%***********************]  1 of 1 completed\n",
      "Grabbing EXPE data!\n",
      "[*********************100%***********************]  1 of 1 completed\n",
      "Grabbing KMX data!\n",
      "[*********************100%***********************]  1 of 1 completed\n",
      "Grabbing VRSN data!\n",
      "[*********************100%***********************]  1 of 1 completed\n",
      "Grabbing GRMN data!\n",
      "[*********************100%***********************]  1 of 1 completed\n",
      "Grabbing KSU data!\n",
      "[*********************100%***********************]  1 of 1 completed\n",
      "Grabbing RF data!\n",
      "[*********************100%***********************]  1 of 1 completed\n",
      "Grabbing IP data!\n",
      "[*********************100%***********************]  1 of 1 completed\n",
      "Grabbing KEY data!\n",
      "[*********************100%***********************]  1 of 1 completed\n",
      "Grabbing TSN data!\n",
      "[*********************100%***********************]  1 of 1 completed\n",
      "Grabbing AES data!\n",
      "[*********************100%***********************]  1 of 1 completed\n",
      "Grabbing PAYC data!\n",
      "[*********************100%***********************]  1 of 1 completed\n",
      "Grabbing MTB data!\n",
      "[*********************100%***********************]  1 of 1 completed\n",
      "Grabbing TYL data!\n",
      "[*********************100%***********************]  1 of 1 completed\n",
      "Grabbing RSG data!\n",
      "[*********************100%***********************]  1 of 1 completed\n",
      "Grabbing COO data!\n",
      "[*********************100%***********************]  1 of 1 completed\n",
      "Grabbing LVS data!\n",
      "[*********************100%***********************]  1 of 1 completed\n",
      "Grabbing TSCO data!\n",
      "[*********************100%***********************]  1 of 1 completed\n",
      "Grabbing VTR data!\n",
      "[*********************100%***********************]  1 of 1 completed\n",
      "Grabbing TFX data!\n",
      "[*********************100%***********************]  1 of 1 completed\n",
      "Grabbing TRMB data!\n",
      "[*********************100%***********************]  1 of 1 completed\n",
      "Grabbing ETR data!\n",
      "[*********************100%***********************]  1 of 1 completed\n",
      "Grabbing ULTA data!\n",
      "[*********************100%***********************]  1 of 1 completed\n",
      "Grabbing HPE data!\n",
      "[*********************100%***********************]  1 of 1 completed\n",
      "Grabbing HAL data!\n",
      "[*********************100%***********************]  1 of 1 completed\n",
      "Grabbing AEE data!\n",
      "[*********************100%***********************]  1 of 1 completed\n",
      "Grabbing CFG data!\n",
      "[*********************100%***********************]  1 of 1 completed\n",
      "Grabbing XYL data!\n",
      "[*********************100%***********************]  1 of 1 completed\n",
      "Grabbing AMCR data!\n",
      "[*********************100%***********************]  1 of 1 completed\n",
      "Grabbing WAT data!\n",
      "[*********************100%***********************]  1 of 1 completed\n",
      "Grabbing DOV data!\n",
      "[*********************100%***********************]  1 of 1 completed\n",
      "Grabbing HIG data!\n",
      "[*********************100%***********************]  1 of 1 completed\n",
      "Grabbing ESS data!\n",
      "[*********************100%***********************]  1 of 1 completed\n",
      "Grabbing ANET data!\n",
      "[*********************100%***********************]  1 of 1 completed\n",
      "Grabbing NUE data!\n",
      "[*********************100%***********************]  1 of 1 completed\n",
      "Grabbing FE data!\n",
      "[*********************100%***********************]  1 of 1 completed\n",
      "Grabbing ALB data!\n",
      "[*********************100%***********************]  1 of 1 completed\n",
      "Grabbing BR data!\n",
      "[*********************100%***********************]  1 of 1 completed\n",
      "Grabbing HES data!\n",
      "[*********************100%***********************]  1 of 1 completed\n",
      "Grabbing CTXS data!\n",
      "[*********************100%***********************]  1 of 1 completed\n",
      "Grabbing DRI data!\n",
      "[*********************100%***********************]  1 of 1 completed\n",
      "Grabbing CCL data!\n",
      "[*********************100%***********************]  1 of 1 completed\n",
      "Grabbing GWW data!\n",
      "[*********************100%***********************]  1 of 1 completed\n",
      "Grabbing CAG data!\n",
      "[*********************100%***********************]  1 of 1 completed\n",
      "Grabbing NDAQ data!\n",
      "[*********************100%***********************]  1 of 1 completed\n",
      "Grabbing DGX data!\n",
      "[*********************100%***********************]  1 of 1 completed\n",
      "Grabbing PKI data!\n",
      "[*********************100%***********************]  1 of 1 completed\n",
      "Grabbing MPWR data!\n",
      "[*********************100%***********************]  1 of 1 completed\n",
      "Grabbing NVR data!\n",
      "[*********************100%***********************]  1 of 1 completed\n",
      "Grabbing PEAK data!\n",
      "[*********************100%***********************]  1 of 1 completed\n",
      "Grabbing IR data!\n",
      "[*********************100%***********************]  1 of 1 completed\n",
      "Grabbing VAR data!\n",
      "[*********************100%***********************]  1 of 1 completed\n",
      "Grabbing AKAM data!\n",
      "[*********************100%***********************]  1 of 1 completed\n",
      "Grabbing IT data!\n",
      "[*********************100%***********************]  1 of 1 completed\n",
      "Grabbing CMS data!\n",
      "[*********************100%***********************]  1 of 1 completed\n",
      "Grabbing STX data!\n",
      "[*********************100%***********************]  1 of 1 completed\n",
      "Grabbing EXPD data!\n",
      "[*********************100%***********************]  1 of 1 completed\n",
      "Grabbing MAA data!\n",
      "[*********************100%***********************]  1 of 1 completed\n",
      "Grabbing BKR data!\n",
      "[*********************100%***********************]  1 of 1 completed\n",
      "Grabbing STE data!\n",
      "[*********************100%***********************]  1 of 1 completed\n",
      "Grabbing DRE data!\n",
      "[*********************100%***********************]  1 of 1 completed\n",
      "Grabbing NTAP data!\n",
      "[*********************100%***********************]  1 of 1 completed\n",
      "Grabbing CE data!\n",
      "[*********************100%***********************]  1 of 1 completed\n",
      "Grabbing HBAN data!\n",
      "[*********************100%***********************]  1 of 1 completed\n",
      "Grabbing INCY data!\n",
      "[*********************100%***********************]  1 of 1 completed\n",
      "Grabbing ABC data!\n",
      "[*********************100%***********************]  1 of 1 completed\n",
      "Grabbing CAH data!\n",
      "[*********************100%***********************]  1 of 1 completed\n",
      "Grabbing EXR data!\n",
      "[*********************100%***********************]  1 of 1 completed\n",
      "Grabbing EMN data!\n",
      "[*********************100%***********************]  1 of 1 completed\n",
      "Grabbing AVY data!\n",
      "[*********************100%***********************]  1 of 1 completed\n",
      "Grabbing IEX data!\n",
      "[*********************100%***********************]  1 of 1 completed\n",
      "Grabbing DPZ data!\n",
      "[*********************100%***********************]  1 of 1 completed\n",
      "Grabbing GPC data!\n",
      "[*********************100%***********************]  1 of 1 completed\n",
      "Grabbing J data!\n",
      "[*********************100%***********************]  1 of 1 completed\n",
      "Grabbing ABMD data!\n",
      "[*********************100%***********************]  1 of 1 completed\n",
      "Grabbing K data!\n",
      "[*********************100%***********************]  1 of 1 completed\n",
      "Grabbing TDY data!\n",
      "[*********************100%***********************]  1 of 1 completed\n",
      "Grabbing WAB data!\n",
      "[*********************100%***********************]  1 of 1 completed\n",
      "Grabbing MGM data!\n",
      "[*********************100%***********************]  1 of 1 completed\n",
      "Grabbing RJF data!\n",
      "[*********************100%***********************]  1 of 1 completed\n",
      "Grabbing OMC data!\n",
      "[*********************100%***********************]  1 of 1 completed\n",
      "Grabbing FMC data!\n",
      "[*********************100%***********************]  1 of 1 completed\n",
      "Grabbing LDOS data!\n",
      "[*********************100%***********************]  1 of 1 completed\n",
      "Grabbing MAS data!\n",
      "[*********************100%***********************]  1 of 1 completed\n",
      "Grabbing BIO data!\n",
      "[*********************100%***********************]  1 of 1 completed\n",
      "Grabbing PFG data!\n",
      "[*********************100%***********************]  1 of 1 completed\n",
      "Grabbing BF-B data!\n",
      "[*********************100%***********************]  1 of 1 completed\n",
      "Grabbing RCL data!\n",
      "[*********************100%***********************]  1 of 1 completed\n",
      "Grabbing CINF data!\n",
      "[*********************100%***********************]  1 of 1 completed\n",
      "Grabbing POOL data!\n",
      "[*********************100%***********************]  1 of 1 completed\n",
      "Grabbing UAL data!\n",
      "[*********************100%***********************]  1 of 1 completed\n",
      "Grabbing HRL data!\n",
      "[*********************100%***********************]  1 of 1 completed\n",
      "Grabbing BXP data!\n",
      "[*********************100%***********************]  1 of 1 completed\n",
      "Grabbing SJM data!\n",
      "[*********************100%***********************]  1 of 1 completed\n",
      "Grabbing FFIV data!\n",
      "[*********************100%***********************]  1 of 1 completed\n",
      "Grabbing NLOK data!\n",
      "[*********************100%***********************]  1 of 1 completed\n",
      "Grabbing PKG data!\n",
      "[*********************100%***********************]  1 of 1 completed\n",
      "Grabbing UDR data!\n",
      "[*********************100%***********************]  1 of 1 completed\n",
      "Grabbing PHM data!\n",
      "[*********************100%***********************]  1 of 1 completed\n",
      "Grabbing EVRG data!\n",
      "[*********************100%***********************]  1 of 1 completed\n",
      "Grabbing DVN data!\n",
      "[*********************100%***********************]  1 of 1 completed\n",
      "Grabbing WHR data!\n",
      "[*********************100%***********************]  1 of 1 completed\n",
      "Grabbing JBHT data!\n",
      "[*********************100%***********************]  1 of 1 completed\n",
      "Grabbing LYV data!\n",
      "[*********************100%***********************]  1 of 1 completed\n",
      "Grabbing CHRW data!\n",
      "[*********************100%***********************]  1 of 1 completed\n",
      "Grabbing FBHS data!\n",
      "[*********************100%***********************]  1 of 1 completed\n",
      "Grabbing DISCK data!\n",
      "[*********************100%***********************]  1 of 1 completed\n",
      "Grabbing LNT data!\n",
      "[*********************100%***********************]  1 of 1 completed\n",
      "Grabbing XRAY data!\n",
      "[*********************100%***********************]  1 of 1 completed\n",
      "Grabbing WYNN data!\n",
      "[*********************100%***********************]  1 of 1 completed\n",
      "Grabbing TXT data!\n",
      "[*********************100%***********************]  1 of 1 completed\n",
      "Grabbing CNP data!\n",
      "[*********************100%***********************]  1 of 1 completed\n",
      "Grabbing LUMN data!\n",
      "[*********************100%***********************]  1 of 1 completed\n",
      "Grabbing LB data!\n",
      "[*********************100%***********************]  1 of 1 completed\n",
      "Grabbing WRK data!\n",
      "[*********************100%***********************]  1 of 1 completed\n",
      "Grabbing HAS data!\n",
      "[*********************100%***********************]  1 of 1 completed\n",
      "Grabbing ATO data!\n",
      "[*********************100%***********************]  1 of 1 completed\n",
      "Grabbing L data!\n",
      "[*********************100%***********************]  1 of 1 completed\n",
      "Grabbing LW data!\n",
      "[*********************100%***********************]  1 of 1 completed\n",
      "Grabbing JKHY data!\n",
      "[*********************100%***********************]  1 of 1 completed\n",
      "Grabbing HWM data!\n",
      "[*********************100%***********************]  1 of 1 completed\n",
      "Grabbing HST data!\n",
      "[*********************100%***********************]  1 of 1 completed\n",
      "Grabbing FANG data!\n",
      "[*********************100%***********************]  1 of 1 completed\n",
      "Grabbing AAL data!\n",
      "[*********************100%***********************]  1 of 1 completed\n",
      "Grabbing TPR data!\n",
      "[*********************100%***********************]  1 of 1 completed\n",
      "Grabbing PWR data!\n",
      "[*********************100%***********************]  1 of 1 completed\n",
      "Grabbing FOXA data!\n",
      "[*********************100%***********************]  1 of 1 completed\n",
      "Grabbing BWA data!\n",
      "[*********************100%***********************]  1 of 1 completed\n",
      "Grabbing MOS data!\n",
      "[*********************100%***********************]  1 of 1 completed\n",
      "Grabbing AAP data!\n",
      "[*********************100%***********************]  1 of 1 completed\n",
      "Grabbing LKQ data!\n",
      "[*********************100%***********************]  1 of 1 completed\n",
      "Grabbing CBOE data!\n",
      "[*********************100%***********************]  1 of 1 completed\n",
      "Grabbing MHK data!\n",
      "[*********************100%***********************]  1 of 1 completed\n",
      "Grabbing SNA data!\n",
      "[*********************100%***********************]  1 of 1 completed\n",
      "Grabbing ALLE data!\n",
      "[*********************100%***********************]  1 of 1 completed\n",
      "Grabbing HSIC data!\n",
      "[*********************100%***********************]  1 of 1 completed\n",
      "Grabbing UHS data!\n",
      "[*********************100%***********************]  1 of 1 completed\n",
      "Grabbing NRG data!\n",
      "[*********************100%***********************]  1 of 1 completed\n",
      "Grabbing LNC data!\n",
      "[*********************100%***********************]  1 of 1 completed\n",
      "Grabbing WU data!\n",
      "[*********************100%***********************]  1 of 1 completed\n",
      "Grabbing IPG data!\n",
      "[*********************100%***********************]  1 of 1 completed\n",
      "Grabbing CF data!\n",
      "[*********************100%***********************]  1 of 1 completed\n",
      "Grabbing RE data!\n",
      "[*********************100%***********************]  1 of 1 completed\n",
      "Grabbing WRB data!\n",
      "[*********************100%***********************]  1 of 1 completed\n",
      "Grabbing IRM data!\n",
      "[*********************100%***********************]  1 of 1 completed\n",
      "Grabbing CPB data!\n",
      "[*********************100%***********************]  1 of 1 completed\n",
      "Grabbing NWSA data!\n",
      "[*********************100%***********************]  1 of 1 completed\n",
      "Grabbing CMA data!\n",
      "[*********************100%***********************]  1 of 1 completed\n",
      "Grabbing IPGP data!\n",
      "[*********************100%***********************]  1 of 1 completed\n",
      "Grabbing PNR data!\n",
      "[*********************100%***********************]  1 of 1 completed\n",
      "Grabbing GL data!\n",
      "[*********************100%***********************]  1 of 1 completed\n",
      "Grabbing NWL data!\n",
      "[*********************100%***********************]  1 of 1 completed\n",
      "Grabbing IVZ data!\n",
      "[*********************100%***********************]  1 of 1 completed\n",
      "Grabbing NI data!\n",
      "[*********************100%***********************]  1 of 1 completed\n",
      "Grabbing PNW data!\n",
      "[*********************100%***********************]  1 of 1 completed\n",
      "Grabbing RHI data!\n",
      "[*********************100%***********************]  1 of 1 completed\n",
      "Grabbing ZION data!\n",
      "[*********************100%***********************]  1 of 1 completed\n",
      "Grabbing TAP data!\n",
      "[*********************100%***********************]  1 of 1 completed\n",
      "Grabbing NLSN data!\n",
      "[*********************100%***********************]  1 of 1 completed\n",
      "Grabbing REG data!\n",
      "[*********************100%***********************]  1 of 1 completed\n",
      "Grabbing ROL data!\n",
      "[*********************100%***********************]  1 of 1 completed\n",
      "Grabbing JNPR data!\n",
      "[*********************100%***********************]  1 of 1 completed\n",
      "Grabbing AOS data!\n",
      "[*********************100%***********************]  1 of 1 completed\n",
      "Grabbing DISH data!\n",
      "[*********************100%***********************]  1 of 1 completed\n",
      "Grabbing NCLH data!\n",
      "[*********************100%***********************]  1 of 1 completed\n",
      "Grabbing DVA data!\n",
      "[*********************100%***********************]  1 of 1 completed\n",
      "Grabbing BEN data!\n",
      "[*********************100%***********************]  1 of 1 completed\n",
      "Grabbing KIM data!\n",
      "[*********************100%***********************]  1 of 1 completed\n",
      "Grabbing DISCA data!\n",
      "[*********************100%***********************]  1 of 1 completed\n",
      "Grabbing MRO data!\n",
      "[*********************100%***********************]  1 of 1 completed\n",
      "Grabbing AIZ data!\n",
      "[*********************100%***********************]  1 of 1 completed\n",
      "Grabbing ALK data!\n",
      "[*********************100%***********************]  1 of 1 completed\n",
      "Grabbing COG data!\n",
      "[*********************100%***********************]  1 of 1 completed\n",
      "Grabbing FLIR data!\n",
      "[*********************100%***********************]  1 of 1 completed\n",
      "Grabbing HII data!\n",
      "[*********************100%***********************]  1 of 1 completed\n",
      "Grabbing APA data!\n",
      "[*********************100%***********************]  1 of 1 completed\n",
      "Grabbing FRT data!\n",
      "[*********************100%***********************]  1 of 1 completed\n",
      "Grabbing PVH data!\n",
      "[*********************100%***********************]  1 of 1 completed\n",
      "Grabbing SEE data!\n",
      "[*********************100%***********************]  1 of 1 completed\n",
      "Grabbing PBCT data!\n",
      "[*********************100%***********************]  1 of 1 completed\n",
      "Grabbing DXC data!\n",
      "[*********************100%***********************]  1 of 1 completed\n",
      "Grabbing HBI data!\n",
      "[*********************100%***********************]  1 of 1 completed\n",
      "Grabbing PRGO data!\n",
      "[*********************100%***********************]  1 of 1 completed\n",
      "Grabbing VNO data!\n",
      "[*********************100%***********************]  1 of 1 completed\n",
      "Grabbing NOV data!\n",
      "[*********************100%***********************]  1 of 1 completed\n",
      "Grabbing LEG data!\n",
      "[*********************100%***********************]  1 of 1 completed\n",
      "Grabbing RL data!\n",
      "[*********************100%***********************]  1 of 1 completed\n",
      "Grabbing UNM data!\n",
      "[*********************100%***********************]  1 of 1 completed\n",
      "Grabbing FLS data!\n",
      "[*********************100%***********************]  1 of 1 completed\n",
      "Grabbing HFC data!\n",
      "[*********************100%***********************]  1 of 1 completed\n",
      "Grabbing GPS data!\n",
      "[*********************100%***********************]  1 of 1 completed\n",
      "Grabbing FOX data!\n",
      "[*********************100%***********************]  1 of 1 completed\n",
      "Grabbing SLG data!\n",
      "[*********************100%***********************]  1 of 1 completed\n",
      "Grabbing VNT data!\n",
      "[*********************100%***********************]  1 of 1 completed\n",
      "Grabbing UAA data!\n",
      "[*********************100%***********************]  1 of 1 completed\n",
      "Grabbing XRX data!\n",
      "[*********************100%***********************]  1 of 1 completed\n",
      "Grabbing UA data!\n",
      "[*********************100%***********************]  1 of 1 completed\n",
      "Grabbing NWS data!\n",
      "[*********************100%***********************]  1 of 1 completed\n"
     ]
    },
    {
     "output_type": "execute_result",
     "data": {
      "text/plain": [
       "                  Open        High         Low       Close   Adj Close  \\\n",
       "Date                                                                     \n",
       "2010-02-01    6.870357    7.327500    6.816071    7.307857    6.294721   \n",
       "2010-03-01    7.348214    8.481429    7.337500    8.392857    7.229299   \n",
       "2010-04-01    8.478929    9.730714    8.312500    9.324643    8.031907   \n",
       "2010-05-01    9.422857    9.567143    7.116071    9.174286    7.902396   \n",
       "2010-06-01    9.274643    9.964643    8.650000    8.983214    7.737815   \n",
       "...                ...         ...         ...         ...         ...   \n",
       "2020-12-01  121.010002  138.789993  120.010002  132.690002  132.492020   \n",
       "2021-01-01  133.520004  145.089996  126.379997  131.960007  131.763107   \n",
       "2021-02-01  133.750000  137.880005  118.389999  121.260002  121.079071   \n",
       "2021-03-01  123.750000  128.720001  117.570000  121.419998  121.419998   \n",
       "2021-03-05  120.980003  121.934998  117.570000  121.419998  121.419998   \n",
       "\n",
       "                  Volume  \n",
       "Date                      \n",
       "2010-02-01  1.077608e+10  \n",
       "2010-03-01  1.215417e+10  \n",
       "2010-04-01  1.236713e+10  \n",
       "2010-05-01  1.808265e+10  \n",
       "2010-06-01  1.665125e+10  \n",
       "...                  ...  \n",
       "2020-12-01  2.322957e+09  \n",
       "2021-01-01  2.240534e+09  \n",
       "2021-02-01  1.833204e+09  \n",
       "2021-03-01  6.613097e+08  \n",
       "2021-03-05  1.537665e+08  \n",
       "\n",
       "[136 rows x 6 columns]"
      ],
      "text/html": "<div>\n<style scoped>\n    .dataframe tbody tr th:only-of-type {\n        vertical-align: middle;\n    }\n\n    .dataframe tbody tr th {\n        vertical-align: top;\n    }\n\n    .dataframe thead th {\n        text-align: right;\n    }\n</style>\n<table border=\"1\" class=\"dataframe\">\n  <thead>\n    <tr style=\"text-align: right;\">\n      <th></th>\n      <th>Open</th>\n      <th>High</th>\n      <th>Low</th>\n      <th>Close</th>\n      <th>Adj Close</th>\n      <th>Volume</th>\n    </tr>\n    <tr>\n      <th>Date</th>\n      <th></th>\n      <th></th>\n      <th></th>\n      <th></th>\n      <th></th>\n      <th></th>\n    </tr>\n  </thead>\n  <tbody>\n    <tr>\n      <th>2010-02-01</th>\n      <td>6.870357</td>\n      <td>7.327500</td>\n      <td>6.816071</td>\n      <td>7.307857</td>\n      <td>6.294721</td>\n      <td>1.077608e+10</td>\n    </tr>\n    <tr>\n      <th>2010-03-01</th>\n      <td>7.348214</td>\n      <td>8.481429</td>\n      <td>7.337500</td>\n      <td>8.392857</td>\n      <td>7.229299</td>\n      <td>1.215417e+10</td>\n    </tr>\n    <tr>\n      <th>2010-04-01</th>\n      <td>8.478929</td>\n      <td>9.730714</td>\n      <td>8.312500</td>\n      <td>9.324643</td>\n      <td>8.031907</td>\n      <td>1.236713e+10</td>\n    </tr>\n    <tr>\n      <th>2010-05-01</th>\n      <td>9.422857</td>\n      <td>9.567143</td>\n      <td>7.116071</td>\n      <td>9.174286</td>\n      <td>7.902396</td>\n      <td>1.808265e+10</td>\n    </tr>\n    <tr>\n      <th>2010-06-01</th>\n      <td>9.274643</td>\n      <td>9.964643</td>\n      <td>8.650000</td>\n      <td>8.983214</td>\n      <td>7.737815</td>\n      <td>1.665125e+10</td>\n    </tr>\n    <tr>\n      <th>...</th>\n      <td>...</td>\n      <td>...</td>\n      <td>...</td>\n      <td>...</td>\n      <td>...</td>\n      <td>...</td>\n    </tr>\n    <tr>\n      <th>2020-12-01</th>\n      <td>121.010002</td>\n      <td>138.789993</td>\n      <td>120.010002</td>\n      <td>132.690002</td>\n      <td>132.492020</td>\n      <td>2.322957e+09</td>\n    </tr>\n    <tr>\n      <th>2021-01-01</th>\n      <td>133.520004</td>\n      <td>145.089996</td>\n      <td>126.379997</td>\n      <td>131.960007</td>\n      <td>131.763107</td>\n      <td>2.240534e+09</td>\n    </tr>\n    <tr>\n      <th>2021-02-01</th>\n      <td>133.750000</td>\n      <td>137.880005</td>\n      <td>118.389999</td>\n      <td>121.260002</td>\n      <td>121.079071</td>\n      <td>1.833204e+09</td>\n    </tr>\n    <tr>\n      <th>2021-03-01</th>\n      <td>123.750000</td>\n      <td>128.720001</td>\n      <td>117.570000</td>\n      <td>121.419998</td>\n      <td>121.419998</td>\n      <td>6.613097e+08</td>\n    </tr>\n    <tr>\n      <th>2021-03-05</th>\n      <td>120.980003</td>\n      <td>121.934998</td>\n      <td>117.570000</td>\n      <td>121.419998</td>\n      <td>121.419998</td>\n      <td>1.537665e+08</td>\n    </tr>\n  </tbody>\n</table>\n<p>136 rows × 6 columns</p>\n</div>"
     },
     "metadata": {},
     "execution_count": 21
    }
   ],
   "source": [
    "## below is how I got monthly and daily pandas dataframes of all stocks in one huge dict.  \n",
    "monthly_sp500 = {}\n",
    "for tkr in tickers: # run all 500 at your own risk, it takes a while lol\n",
    "# for tkr in tickers[:10]:\n",
    "    print('Grabbing ' + tkr + \" data!\")\n",
    "    # monthly_sp500[tkr] = yf.Ticker(tkr).history(start='2010-01-01', end='2020-12-31', interval='1mo')\n",
    "    monthly_sp500[tkr] = pdr.get_data_yahoo(tkr, start=\"2010-01-04\", interval = \"1mo\").drop_duplicates()\n",
    "    sleep(.1) # not planning on ddos-ing yahoo today\n",
    "monthly_sp500['AAPL'] # take AAPL, for example; TODO deal with the pesky NaNs properly"
   ]
  },
  {
   "cell_type": "code",
   "execution_count": 22,
   "metadata": {
    "tags": []
   },
   "outputs": [],
   "source": [
    "# daily_sp500 = {}\n",
    "# # for tkr in tickers:\n",
    "# for tkr in tickers[:10]: #this only gets the first 10 fyi\n",
    "#     print('Grabbing ' + tkr + \" data!\")\n",
    "#     # daily_sp500[tkr] = yf.Ticker(tkr).history(start='2010-01-01', end='2020-12-31', interval='1mo')\n",
    "#     daily_sp500[tkr] = pdr.get_data_yahoo(tkr,start=\"2010-01-01\")\n",
    "#     sleep(.1)\n",
    "# daily_sp500['AAPL'] # take AAPL, for example"
   ]
  },
  {
   "cell_type": "code",
   "execution_count": 23,
   "metadata": {},
   "outputs": [],
   "source": [
    "# imputed_aapl = imputed_aapl.set_index(monthly_sp500['AAPL'].index)"
   ]
  },
  {
   "cell_type": "code",
   "execution_count": 24,
   "metadata": {},
   "outputs": [],
   "source": [
    "# len(imputed_aapl.loc[imputed_aapl.isna().any(axis=1)])/len(imputed_aapl) * 100 #percentage of missingness"
   ]
  },
  {
   "cell_type": "code",
   "execution_count": 26,
   "metadata": {},
   "outputs": [
    {
     "output_type": "execute_result",
     "data": {
      "text/plain": [
       "                 Open       High        Low      Close  Adj Close  \\\n",
       "Date                                                                \n",
       "2010-02-01   6.870357   7.327500   6.816071   7.307857   6.294721   \n",
       "2010-03-01   7.348214   8.481429   7.337500   8.392857   7.229299   \n",
       "2010-04-01   8.478929   9.730714   8.312500   9.324643   8.031907   \n",
       "2010-05-01   9.422857   9.567143   7.116071   9.174286   7.902396   \n",
       "2010-06-01   9.274643   9.964643   8.650000   8.983214   7.737815   \n",
       "...               ...        ...        ...        ...        ...   \n",
       "2020-12-01  18.010000  18.730000  17.049999  17.770000  17.770000   \n",
       "2021-01-01  17.959999  19.420000  17.590000  18.879999  18.879999   \n",
       "2021-02-01  18.590000  24.110001  18.299999  22.920000  22.920000   \n",
       "2021-03-01  23.209999  23.870001  22.389999  23.500000  23.500000   \n",
       "2021-03-05  22.940001  23.545000  22.520000  23.500000  23.500000   \n",
       "\n",
       "                  Volume  Name  \n",
       "Date                            \n",
       "2010-02-01  1.077608e+10  AAPL  \n",
       "2010-03-01  1.215417e+10  AAPL  \n",
       "2010-04-01  1.236713e+10  AAPL  \n",
       "2010-05-01  1.808265e+10  AAPL  \n",
       "2010-06-01  1.665125e+10  AAPL  \n",
       "...                  ...   ...  \n",
       "2020-12-01  1.891130e+07   NWS  \n",
       "2021-01-01  1.800300e+07   NWS  \n",
       "2021-02-01  1.325420e+07   NWS  \n",
       "2021-03-01  2.094900e+06   NWS  \n",
       "2021-03-05  5.157070e+05   NWS  \n",
       "\n",
       "[65956 rows x 7 columns]"
      ],
      "text/html": "<div>\n<style scoped>\n    .dataframe tbody tr th:only-of-type {\n        vertical-align: middle;\n    }\n\n    .dataframe tbody tr th {\n        vertical-align: top;\n    }\n\n    .dataframe thead th {\n        text-align: right;\n    }\n</style>\n<table border=\"1\" class=\"dataframe\">\n  <thead>\n    <tr style=\"text-align: right;\">\n      <th></th>\n      <th>Open</th>\n      <th>High</th>\n      <th>Low</th>\n      <th>Close</th>\n      <th>Adj Close</th>\n      <th>Volume</th>\n      <th>Name</th>\n    </tr>\n    <tr>\n      <th>Date</th>\n      <th></th>\n      <th></th>\n      <th></th>\n      <th></th>\n      <th></th>\n      <th></th>\n      <th></th>\n    </tr>\n  </thead>\n  <tbody>\n    <tr>\n      <th>2010-02-01</th>\n      <td>6.870357</td>\n      <td>7.327500</td>\n      <td>6.816071</td>\n      <td>7.307857</td>\n      <td>6.294721</td>\n      <td>1.077608e+10</td>\n      <td>AAPL</td>\n    </tr>\n    <tr>\n      <th>2010-03-01</th>\n      <td>7.348214</td>\n      <td>8.481429</td>\n      <td>7.337500</td>\n      <td>8.392857</td>\n      <td>7.229299</td>\n      <td>1.215417e+10</td>\n      <td>AAPL</td>\n    </tr>\n    <tr>\n      <th>2010-04-01</th>\n      <td>8.478929</td>\n      <td>9.730714</td>\n      <td>8.312500</td>\n      <td>9.324643</td>\n      <td>8.031907</td>\n      <td>1.236713e+10</td>\n      <td>AAPL</td>\n    </tr>\n    <tr>\n      <th>2010-05-01</th>\n      <td>9.422857</td>\n      <td>9.567143</td>\n      <td>7.116071</td>\n      <td>9.174286</td>\n      <td>7.902396</td>\n      <td>1.808265e+10</td>\n      <td>AAPL</td>\n    </tr>\n    <tr>\n      <th>2010-06-01</th>\n      <td>9.274643</td>\n      <td>9.964643</td>\n      <td>8.650000</td>\n      <td>8.983214</td>\n      <td>7.737815</td>\n      <td>1.665125e+10</td>\n      <td>AAPL</td>\n    </tr>\n    <tr>\n      <th>...</th>\n      <td>...</td>\n      <td>...</td>\n      <td>...</td>\n      <td>...</td>\n      <td>...</td>\n      <td>...</td>\n      <td>...</td>\n    </tr>\n    <tr>\n      <th>2020-12-01</th>\n      <td>18.010000</td>\n      <td>18.730000</td>\n      <td>17.049999</td>\n      <td>17.770000</td>\n      <td>17.770000</td>\n      <td>1.891130e+07</td>\n      <td>NWS</td>\n    </tr>\n    <tr>\n      <th>2021-01-01</th>\n      <td>17.959999</td>\n      <td>19.420000</td>\n      <td>17.590000</td>\n      <td>18.879999</td>\n      <td>18.879999</td>\n      <td>1.800300e+07</td>\n      <td>NWS</td>\n    </tr>\n    <tr>\n      <th>2021-02-01</th>\n      <td>18.590000</td>\n      <td>24.110001</td>\n      <td>18.299999</td>\n      <td>22.920000</td>\n      <td>22.920000</td>\n      <td>1.325420e+07</td>\n      <td>NWS</td>\n    </tr>\n    <tr>\n      <th>2021-03-01</th>\n      <td>23.209999</td>\n      <td>23.870001</td>\n      <td>22.389999</td>\n      <td>23.500000</td>\n      <td>23.500000</td>\n      <td>2.094900e+06</td>\n      <td>NWS</td>\n    </tr>\n    <tr>\n      <th>2021-03-05</th>\n      <td>22.940001</td>\n      <td>23.545000</td>\n      <td>22.520000</td>\n      <td>23.500000</td>\n      <td>23.500000</td>\n      <td>5.157070e+05</td>\n      <td>NWS</td>\n    </tr>\n  </tbody>\n</table>\n<p>65956 rows × 7 columns</p>\n</div>"
     },
     "metadata": {},
     "execution_count": 26
    }
   ],
   "source": [
    "# everything in one stupid large dataframe\n",
    "sp500m = monthly_sp500[tickers[0]] # monthly\n",
    "sp500m['Name'] = tickers[0]\n",
    "\n",
    "# sp500d = daily_sp500[tickers[0]] # daily\n",
    "# sp500d['Name'] = tickers[0]\n",
    "\n",
    "# for tkr in tickers[1:10]:\n",
    "for tkr in tickers[1:]:\n",
    "    df1 = monthly_sp500[tkr] # monthly\n",
    "    df1['Name'] = tkr\n",
    "    # df.set_index(['Name','Date'],inplace=True)\n",
    "    sp500m = sp500m.append(df1)\n",
    "\n",
    "    # df2 = daily_sp500[tkr] # daily\n",
    "    # df2['Name'] = tkr\n",
    "    # # df.set_index(['Name','Date'],inplace=True)\n",
    "    # sp500d = sp500d.append(df2)\n",
    "sp500m"
   ]
  },
  {
   "cell_type": "code",
   "execution_count": 27,
   "metadata": {},
   "outputs": [
    {
     "output_type": "execute_result",
     "data": {
      "text/plain": [
       "Name\n",
       "A       136\n",
       "MET     136\n",
       "NOC     136\n",
       "NLOK    136\n",
       "NKE     136\n",
       "       ... \n",
       "FOXA     26\n",
       "CTVA     24\n",
       "OTIS     14\n",
       "CARR     14\n",
       "VNT       7\n",
       "Length: 505, dtype: int64"
      ]
     },
     "metadata": {},
     "execution_count": 27
    }
   ],
   "source": [
    "sp500m.value_counts('Name')"
   ]
  },
  {
   "cell_type": "code",
   "execution_count": 30,
   "metadata": {},
   "outputs": [],
   "source": [
    "# print(sp500m.shape,sp500d.shape)\n",
    "# sp500m"
   ]
  },
  {
   "source": [
    "how to map them to the indicators\n",
    "we get the prices of each inex but we dont knwo how to get the rest of the data \n",
    "aapl \n",
    "they put it mext t"
   ],
   "cell_type": "markdown",
   "metadata": {}
  },
  {
   "cell_type": "code",
   "execution_count": 32,
   "metadata": {},
   "outputs": [
    {
     "output_type": "execute_result",
     "data": {
      "text/plain": [
       "             Date       Open       High        Low      Close  Adj Close  \\\n",
       "0      2010-02-01   6.870357   7.327500   6.816071   7.307857   6.294721   \n",
       "1      2010-03-01   7.348214   8.481429   7.337500   8.392857   7.229299   \n",
       "2      2010-04-01   8.478929   9.730714   8.312500   9.324643   8.031907   \n",
       "3      2010-05-01   9.422857   9.567143   7.116071   9.174286   7.902396   \n",
       "4      2010-06-01   9.274643   9.964643   8.650000   8.983214   7.737815   \n",
       "...           ...        ...        ...        ...        ...        ...   \n",
       "65951  2020-12-01  18.010000  18.730000  17.049999  17.770000  17.770000   \n",
       "65952  2021-01-01  17.959999  19.420000  17.590000  18.879999  18.879999   \n",
       "65953  2021-02-01  18.590000  24.110001  18.299999  22.920000  22.920000   \n",
       "65954  2021-03-01  23.209999  23.870001  22.389999  23.500000  23.500000   \n",
       "65955  2021-03-05  22.940001  23.545000  22.520000  23.500000  23.500000   \n",
       "\n",
       "             Volume  Name  \n",
       "0      1.077608e+10  AAPL  \n",
       "1      1.215417e+10  AAPL  \n",
       "2      1.236713e+10  AAPL  \n",
       "3      1.808265e+10  AAPL  \n",
       "4      1.665125e+10  AAPL  \n",
       "...             ...   ...  \n",
       "65951  1.891130e+07   NWS  \n",
       "65952  1.800300e+07   NWS  \n",
       "65953  1.325420e+07   NWS  \n",
       "65954  2.094900e+06   NWS  \n",
       "65955  5.157070e+05   NWS  \n",
       "\n",
       "[65511 rows x 8 columns]"
      ],
      "text/html": "<div>\n<style scoped>\n    .dataframe tbody tr th:only-of-type {\n        vertical-align: middle;\n    }\n\n    .dataframe tbody tr th {\n        vertical-align: top;\n    }\n\n    .dataframe thead th {\n        text-align: right;\n    }\n</style>\n<table border=\"1\" class=\"dataframe\">\n  <thead>\n    <tr style=\"text-align: right;\">\n      <th></th>\n      <th>Date</th>\n      <th>Open</th>\n      <th>High</th>\n      <th>Low</th>\n      <th>Close</th>\n      <th>Adj Close</th>\n      <th>Volume</th>\n      <th>Name</th>\n    </tr>\n  </thead>\n  <tbody>\n    <tr>\n      <th>0</th>\n      <td>2010-02-01</td>\n      <td>6.870357</td>\n      <td>7.327500</td>\n      <td>6.816071</td>\n      <td>7.307857</td>\n      <td>6.294721</td>\n      <td>1.077608e+10</td>\n      <td>AAPL</td>\n    </tr>\n    <tr>\n      <th>1</th>\n      <td>2010-03-01</td>\n      <td>7.348214</td>\n      <td>8.481429</td>\n      <td>7.337500</td>\n      <td>8.392857</td>\n      <td>7.229299</td>\n      <td>1.215417e+10</td>\n      <td>AAPL</td>\n    </tr>\n    <tr>\n      <th>2</th>\n      <td>2010-04-01</td>\n      <td>8.478929</td>\n      <td>9.730714</td>\n      <td>8.312500</td>\n      <td>9.324643</td>\n      <td>8.031907</td>\n      <td>1.236713e+10</td>\n      <td>AAPL</td>\n    </tr>\n    <tr>\n      <th>3</th>\n      <td>2010-05-01</td>\n      <td>9.422857</td>\n      <td>9.567143</td>\n      <td>7.116071</td>\n      <td>9.174286</td>\n      <td>7.902396</td>\n      <td>1.808265e+10</td>\n      <td>AAPL</td>\n    </tr>\n    <tr>\n      <th>4</th>\n      <td>2010-06-01</td>\n      <td>9.274643</td>\n      <td>9.964643</td>\n      <td>8.650000</td>\n      <td>8.983214</td>\n      <td>7.737815</td>\n      <td>1.665125e+10</td>\n      <td>AAPL</td>\n    </tr>\n    <tr>\n      <th>...</th>\n      <td>...</td>\n      <td>...</td>\n      <td>...</td>\n      <td>...</td>\n      <td>...</td>\n      <td>...</td>\n      <td>...</td>\n      <td>...</td>\n    </tr>\n    <tr>\n      <th>65951</th>\n      <td>2020-12-01</td>\n      <td>18.010000</td>\n      <td>18.730000</td>\n      <td>17.049999</td>\n      <td>17.770000</td>\n      <td>17.770000</td>\n      <td>1.891130e+07</td>\n      <td>NWS</td>\n    </tr>\n    <tr>\n      <th>65952</th>\n      <td>2021-01-01</td>\n      <td>17.959999</td>\n      <td>19.420000</td>\n      <td>17.590000</td>\n      <td>18.879999</td>\n      <td>18.879999</td>\n      <td>1.800300e+07</td>\n      <td>NWS</td>\n    </tr>\n    <tr>\n      <th>65953</th>\n      <td>2021-02-01</td>\n      <td>18.590000</td>\n      <td>24.110001</td>\n      <td>18.299999</td>\n      <td>22.920000</td>\n      <td>22.920000</td>\n      <td>1.325420e+07</td>\n      <td>NWS</td>\n    </tr>\n    <tr>\n      <th>65954</th>\n      <td>2021-03-01</td>\n      <td>23.209999</td>\n      <td>23.870001</td>\n      <td>22.389999</td>\n      <td>23.500000</td>\n      <td>23.500000</td>\n      <td>2.094900e+06</td>\n      <td>NWS</td>\n    </tr>\n    <tr>\n      <th>65955</th>\n      <td>2021-03-05</td>\n      <td>22.940001</td>\n      <td>23.545000</td>\n      <td>22.520000</td>\n      <td>23.500000</td>\n      <td>23.500000</td>\n      <td>5.157070e+05</td>\n      <td>NWS</td>\n    </tr>\n  </tbody>\n</table>\n<p>65511 rows × 8 columns</p>\n</div>"
     },
     "metadata": {},
     "execution_count": 32
    }
   ],
   "source": [
    "# sp500m.to_csv('SP500_monthly.csv') # run/uncomment some of these to save these to csv\n",
    "# sp500d.to_csv('SP500_daily.csv')\n",
    "df = pd.read_csv('SP500_monthly.csv').infer_objects().dropna()\n",
    "# df = sp500m.infer_objects().dropna()#.reset_index() # dataframe of all we basically want, OHLC data w/ adjusted close. didnt set any ind\n",
    "df"
   ]
  },
  {
   "cell_type": "code",
   "execution_count": 33,
   "metadata": {},
   "outputs": [
    {
     "output_type": "execute_result",
     "data": {
      "text/plain": [
       "['2010-05-01',\n",
       " '2010-11-01',\n",
       " '2011-05-01',\n",
       " '2011-11-01',\n",
       " '2012-05-01',\n",
       " '2012-11-01',\n",
       " '2013-05-01',\n",
       " '2013-11-01',\n",
       " '2014-05-01',\n",
       " '2014-11-01']"
      ]
     },
     "metadata": {},
     "execution_count": 33
    }
   ],
   "source": [
    "st = pd.to_datetime(df.Date.min())\n",
    "et = pd.to_datetime(df.Date.max())\n",
    "j=1\n",
    "k=2\n",
    "# the 'midpoints' for each observe and hold period. midpoint in this context is where we switch from the observation period len=j to the holding period len=k\n",
    "j_end = pd.date_range(st+pd.DateOffset(months=j*3), et, freq=str(k*3)+\"MS\")\n",
    "j_end.strftime(\"%Y-%m-%d\").to_list()[:10]"
   ]
  },
  {
   "cell_type": "code",
   "execution_count": 34,
   "metadata": {},
   "outputs": [
    {
     "output_type": "execute_result",
     "data": {
      "text/plain": [
       "             Date       Open       High        Low      Close  Adj Close  \\\n",
       "3      2010-05-01   9.422857   9.567143   7.116071   9.174286   7.902396   \n",
       "9      2010-11-01  10.793571  11.475000  10.634286  11.112500   9.571903   \n",
       "15     2011-05-01  12.490714  12.565357  11.765000  12.422500  10.700285   \n",
       "21     2011-11-01  14.193214  14.571429  12.975714  13.650000  11.757608   \n",
       "27     2012-05-01  20.889286  21.312857  18.649286  20.633215  17.772696   \n",
       "...           ...        ...        ...        ...        ...        ...   \n",
       "65865  2013-11-01  17.870001  18.260000  17.000000  17.969999  16.540766   \n",
       "65871  2014-05-01  16.600000  17.650000  16.320000  16.590000  15.270526   \n",
       "65877  2014-11-01  15.020000  15.440000  14.340000  15.050000  13.853006   \n",
       "65883  2015-05-01  15.690000  16.170000  14.780000  14.950000  13.760961   \n",
       "65890  2015-11-01  15.470000  15.740000  13.880000  14.460000  13.411923   \n",
       "\n",
       "             Volume  Name  \n",
       "3      1.808265e+10  AAPL  \n",
       "9      9.508086e+09  AAPL  \n",
       "15     6.912060e+09  AAPL  \n",
       "21     8.963702e+09  AAPL  \n",
       "27     1.110635e+10  AAPL  \n",
       "...             ...   ...  \n",
       "65865  1.500440e+07   NWS  \n",
       "65871  1.192450e+07   NWS  \n",
       "65877  3.394880e+07   NWS  \n",
       "65883  2.324360e+07   NWS  \n",
       "65890  2.012570e+07   NWS  \n",
       "\n",
       "[2510 rows x 8 columns]"
      ],
      "text/html": "<div>\n<style scoped>\n    .dataframe tbody tr th:only-of-type {\n        vertical-align: middle;\n    }\n\n    .dataframe tbody tr th {\n        vertical-align: top;\n    }\n\n    .dataframe thead th {\n        text-align: right;\n    }\n</style>\n<table border=\"1\" class=\"dataframe\">\n  <thead>\n    <tr style=\"text-align: right;\">\n      <th></th>\n      <th>Date</th>\n      <th>Open</th>\n      <th>High</th>\n      <th>Low</th>\n      <th>Close</th>\n      <th>Adj Close</th>\n      <th>Volume</th>\n      <th>Name</th>\n    </tr>\n  </thead>\n  <tbody>\n    <tr>\n      <th>3</th>\n      <td>2010-05-01</td>\n      <td>9.422857</td>\n      <td>9.567143</td>\n      <td>7.116071</td>\n      <td>9.174286</td>\n      <td>7.902396</td>\n      <td>1.808265e+10</td>\n      <td>AAPL</td>\n    </tr>\n    <tr>\n      <th>9</th>\n      <td>2010-11-01</td>\n      <td>10.793571</td>\n      <td>11.475000</td>\n      <td>10.634286</td>\n      <td>11.112500</td>\n      <td>9.571903</td>\n      <td>9.508086e+09</td>\n      <td>AAPL</td>\n    </tr>\n    <tr>\n      <th>15</th>\n      <td>2011-05-01</td>\n      <td>12.490714</td>\n      <td>12.565357</td>\n      <td>11.765000</td>\n      <td>12.422500</td>\n      <td>10.700285</td>\n      <td>6.912060e+09</td>\n      <td>AAPL</td>\n    </tr>\n    <tr>\n      <th>21</th>\n      <td>2011-11-01</td>\n      <td>14.193214</td>\n      <td>14.571429</td>\n      <td>12.975714</td>\n      <td>13.650000</td>\n      <td>11.757608</td>\n      <td>8.963702e+09</td>\n      <td>AAPL</td>\n    </tr>\n    <tr>\n      <th>27</th>\n      <td>2012-05-01</td>\n      <td>20.889286</td>\n      <td>21.312857</td>\n      <td>18.649286</td>\n      <td>20.633215</td>\n      <td>17.772696</td>\n      <td>1.110635e+10</td>\n      <td>AAPL</td>\n    </tr>\n    <tr>\n      <th>...</th>\n      <td>...</td>\n      <td>...</td>\n      <td>...</td>\n      <td>...</td>\n      <td>...</td>\n      <td>...</td>\n      <td>...</td>\n      <td>...</td>\n    </tr>\n    <tr>\n      <th>65865</th>\n      <td>2013-11-01</td>\n      <td>17.870001</td>\n      <td>18.260000</td>\n      <td>17.000000</td>\n      <td>17.969999</td>\n      <td>16.540766</td>\n      <td>1.500440e+07</td>\n      <td>NWS</td>\n    </tr>\n    <tr>\n      <th>65871</th>\n      <td>2014-05-01</td>\n      <td>16.600000</td>\n      <td>17.650000</td>\n      <td>16.320000</td>\n      <td>16.590000</td>\n      <td>15.270526</td>\n      <td>1.192450e+07</td>\n      <td>NWS</td>\n    </tr>\n    <tr>\n      <th>65877</th>\n      <td>2014-11-01</td>\n      <td>15.020000</td>\n      <td>15.440000</td>\n      <td>14.340000</td>\n      <td>15.050000</td>\n      <td>13.853006</td>\n      <td>3.394880e+07</td>\n      <td>NWS</td>\n    </tr>\n    <tr>\n      <th>65883</th>\n      <td>2015-05-01</td>\n      <td>15.690000</td>\n      <td>16.170000</td>\n      <td>14.780000</td>\n      <td>14.950000</td>\n      <td>13.760961</td>\n      <td>2.324360e+07</td>\n      <td>NWS</td>\n    </tr>\n    <tr>\n      <th>65890</th>\n      <td>2015-11-01</td>\n      <td>15.470000</td>\n      <td>15.740000</td>\n      <td>13.880000</td>\n      <td>14.460000</td>\n      <td>13.411923</td>\n      <td>2.012570e+07</td>\n      <td>NWS</td>\n    </tr>\n  </tbody>\n</table>\n<p>2510 rows × 8 columns</p>\n</div>"
     },
     "metadata": {},
     "execution_count": 34
    }
   ],
   "source": [
    "#df of just the midpoint dates for sanity check\n",
    "df[df['Date'].isin(j_end.strftime(\"%Y-%m-%d\").to_list())].groupby('Name').head(5)"
   ]
  },
  {
   "cell_type": "code",
   "execution_count": 35,
   "metadata": {},
   "outputs": [
    {
     "output_type": "execute_result",
     "data": {
      "text/plain": [
       "      j_start   midpoint      k_end\n",
       "0  2010-02-01 2010-11-01 2011-05-01\n",
       "1  2010-08-01 2011-05-01 2011-11-01\n",
       "2  2011-02-01 2011-11-01 2012-05-01\n",
       "3  2011-08-01 2012-05-01 2012-11-01\n",
       "4  2012-02-01 2012-11-01 2013-05-01\n",
       "5  2012-08-01 2013-05-01 2013-11-01\n",
       "6  2013-02-01 2013-11-01 2014-05-01\n",
       "7  2013-08-01 2014-05-01 2014-11-01\n",
       "8  2014-02-01 2014-11-01 2015-05-01\n",
       "9  2014-08-01 2015-05-01 2015-11-01\n",
       "10 2015-02-01 2015-11-01 2016-05-01\n",
       "11 2015-08-01 2016-05-01 2016-11-01\n",
       "12 2016-02-01 2016-11-01 2017-05-01\n",
       "13 2016-08-01 2017-05-01 2017-11-01\n",
       "14 2017-02-01 2017-11-01 2018-05-01\n",
       "15 2017-08-01 2018-05-01 2018-11-01\n",
       "16 2018-02-01 2018-11-01 2019-05-01\n",
       "17 2018-08-01 2019-05-01 2019-11-01\n",
       "18 2019-02-01 2019-11-01 2020-05-01\n",
       "19 2019-08-01 2020-05-01 2020-11-01\n",
       "20 2020-02-01 2020-11-01 2021-05-01"
      ],
      "text/html": "<div>\n<style scoped>\n    .dataframe tbody tr th:only-of-type {\n        vertical-align: middle;\n    }\n\n    .dataframe tbody tr th {\n        vertical-align: top;\n    }\n\n    .dataframe thead th {\n        text-align: right;\n    }\n</style>\n<table border=\"1\" class=\"dataframe\">\n  <thead>\n    <tr style=\"text-align: right;\">\n      <th></th>\n      <th>j_start</th>\n      <th>midpoint</th>\n      <th>k_end</th>\n    </tr>\n  </thead>\n  <tbody>\n    <tr>\n      <th>0</th>\n      <td>2010-02-01</td>\n      <td>2010-11-01</td>\n      <td>2011-05-01</td>\n    </tr>\n    <tr>\n      <th>1</th>\n      <td>2010-08-01</td>\n      <td>2011-05-01</td>\n      <td>2011-11-01</td>\n    </tr>\n    <tr>\n      <th>2</th>\n      <td>2011-02-01</td>\n      <td>2011-11-01</td>\n      <td>2012-05-01</td>\n    </tr>\n    <tr>\n      <th>3</th>\n      <td>2011-08-01</td>\n      <td>2012-05-01</td>\n      <td>2012-11-01</td>\n    </tr>\n    <tr>\n      <th>4</th>\n      <td>2012-02-01</td>\n      <td>2012-11-01</td>\n      <td>2013-05-01</td>\n    </tr>\n    <tr>\n      <th>5</th>\n      <td>2012-08-01</td>\n      <td>2013-05-01</td>\n      <td>2013-11-01</td>\n    </tr>\n    <tr>\n      <th>6</th>\n      <td>2013-02-01</td>\n      <td>2013-11-01</td>\n      <td>2014-05-01</td>\n    </tr>\n    <tr>\n      <th>7</th>\n      <td>2013-08-01</td>\n      <td>2014-05-01</td>\n      <td>2014-11-01</td>\n    </tr>\n    <tr>\n      <th>8</th>\n      <td>2014-02-01</td>\n      <td>2014-11-01</td>\n      <td>2015-05-01</td>\n    </tr>\n    <tr>\n      <th>9</th>\n      <td>2014-08-01</td>\n      <td>2015-05-01</td>\n      <td>2015-11-01</td>\n    </tr>\n    <tr>\n      <th>10</th>\n      <td>2015-02-01</td>\n      <td>2015-11-01</td>\n      <td>2016-05-01</td>\n    </tr>\n    <tr>\n      <th>11</th>\n      <td>2015-08-01</td>\n      <td>2016-05-01</td>\n      <td>2016-11-01</td>\n    </tr>\n    <tr>\n      <th>12</th>\n      <td>2016-02-01</td>\n      <td>2016-11-01</td>\n      <td>2017-05-01</td>\n    </tr>\n    <tr>\n      <th>13</th>\n      <td>2016-08-01</td>\n      <td>2017-05-01</td>\n      <td>2017-11-01</td>\n    </tr>\n    <tr>\n      <th>14</th>\n      <td>2017-02-01</td>\n      <td>2017-11-01</td>\n      <td>2018-05-01</td>\n    </tr>\n    <tr>\n      <th>15</th>\n      <td>2017-08-01</td>\n      <td>2018-05-01</td>\n      <td>2018-11-01</td>\n    </tr>\n    <tr>\n      <th>16</th>\n      <td>2018-02-01</td>\n      <td>2018-11-01</td>\n      <td>2019-05-01</td>\n    </tr>\n    <tr>\n      <th>17</th>\n      <td>2018-08-01</td>\n      <td>2019-05-01</td>\n      <td>2019-11-01</td>\n    </tr>\n    <tr>\n      <th>18</th>\n      <td>2019-02-01</td>\n      <td>2019-11-01</td>\n      <td>2020-05-01</td>\n    </tr>\n    <tr>\n      <th>19</th>\n      <td>2019-08-01</td>\n      <td>2020-05-01</td>\n      <td>2020-11-01</td>\n    </tr>\n    <tr>\n      <th>20</th>\n      <td>2020-02-01</td>\n      <td>2020-11-01</td>\n      <td>2021-05-01</td>\n    </tr>\n  </tbody>\n</table>\n</div>"
     },
     "metadata": {},
     "execution_count": 35
    }
   ],
   "source": [
    "def generate_timetable(j=1, k=2):\n",
    "    '''aims to generate the MONTHLY table of times for each observe/hold period. The midpoint in this context is where we switch from the observation period len=j to the holding period len=k'''\n",
    "    \n",
    "    j_end = pd.date_range(st+pd.DateOffset(months=j*3), et, freq=str(k*3)+\"MS\") # the 'midpoints' for each observe and hold period. \n",
    "    j_start = j_end + pd.DateOffset(months=-j*3) # based on the midpoint, get the start point for each observe and hold period\n",
    "    k_end = j_end + pd.DateOffset(months=k*3) # based on the midpoint, get the end point for each observe and hold period\n",
    "    timetable = pd.DataFrame({'j_start': j_start, 'midpoint': j_end, 'k_end': k_end}).infer_objects()\n",
    "    return timetable, j, k\n",
    "timedf, j, k = generate_timetable(3, 2)\n",
    "timedf"
   ]
  },
  {
   "cell_type": "code",
   "execution_count": 36,
   "metadata": {},
   "outputs": [
    {
     "output_type": "execute_result",
     "data": {
      "text/plain": [
       "0        2010-02-01\n",
       "1        2010-03-01\n",
       "2        2010-04-01\n",
       "3        2010-05-01\n",
       "4        2010-06-01\n",
       "            ...    \n",
       "65951    2020-12-01\n",
       "65952    2021-01-01\n",
       "65953    2021-02-01\n",
       "65954    2021-03-01\n",
       "65955    2021-03-05\n",
       "Name: Date, Length: 65511, dtype: object"
      ]
     },
     "metadata": {},
     "execution_count": 36
    }
   ],
   "source": [
    "df['Date']"
   ]
  },
  {
   "cell_type": "code",
   "execution_count": 37,
   "metadata": {},
   "outputs": [],
   "source": [
    "midpoint = timedf.iloc[0].midpoint"
   ]
  },
  {
   "cell_type": "code",
   "execution_count": 38,
   "metadata": {
    "tags": []
   },
   "outputs": [
    {
     "output_type": "execute_result",
     "data": {
      "text/plain": [
       "             Date       Open       High        Low      Close  Adj Close  \\\n",
       "0      2010-02-01   6.870357   7.327500   6.816071   7.307857   6.294721   \n",
       "1      2010-03-01   7.348214   8.481429   7.337500   8.392857   7.229299   \n",
       "2      2010-04-01   8.478929   9.730714   8.312500   9.324643   8.031907   \n",
       "3      2010-05-01   9.422857   9.567143   7.116071   9.174286   7.902396   \n",
       "4      2010-06-01   9.274643   9.964643   8.650000   8.983214   7.737815   \n",
       "...           ...        ...        ...        ...        ...        ...   \n",
       "65946  2020-07-01  11.950000  13.020000  11.600000  12.760000  12.676053   \n",
       "65947  2020-08-01  12.790000  15.550000  12.680000  15.070000  14.970856   \n",
       "65948  2020-09-01  15.010000  15.700000  13.690000  13.980000  13.888026   \n",
       "65949  2020-10-01  13.970000  14.610000  12.680000  13.020000  13.020000   \n",
       "65950  2020-11-01  13.110000  18.330000  12.970000  17.809999  17.809999   \n",
       "\n",
       "             Volume  Name period  \n",
       "0      1.077608e+10  AAPL      0  \n",
       "1      1.215417e+10  AAPL      0  \n",
       "2      1.236713e+10  AAPL      0  \n",
       "3      1.808265e+10  AAPL      0  \n",
       "4      1.665125e+10  AAPL      0  \n",
       "...             ...   ...    ...  \n",
       "65946  7.764400e+06   NWS     20  \n",
       "65947  8.911600e+06   NWS     20  \n",
       "65948  1.345070e+07   NWS     20  \n",
       "65949  8.181500e+06   NWS     20  \n",
       "65950  1.109630e+07   NWS     20  \n",
       "\n",
       "[101789 rows x 9 columns]"
      ],
      "text/html": "<div>\n<style scoped>\n    .dataframe tbody tr th:only-of-type {\n        vertical-align: middle;\n    }\n\n    .dataframe tbody tr th {\n        vertical-align: top;\n    }\n\n    .dataframe thead th {\n        text-align: right;\n    }\n</style>\n<table border=\"1\" class=\"dataframe\">\n  <thead>\n    <tr style=\"text-align: right;\">\n      <th></th>\n      <th>Date</th>\n      <th>Open</th>\n      <th>High</th>\n      <th>Low</th>\n      <th>Close</th>\n      <th>Adj Close</th>\n      <th>Volume</th>\n      <th>Name</th>\n      <th>period</th>\n    </tr>\n  </thead>\n  <tbody>\n    <tr>\n      <th>0</th>\n      <td>2010-02-01</td>\n      <td>6.870357</td>\n      <td>7.327500</td>\n      <td>6.816071</td>\n      <td>7.307857</td>\n      <td>6.294721</td>\n      <td>1.077608e+10</td>\n      <td>AAPL</td>\n      <td>0</td>\n    </tr>\n    <tr>\n      <th>1</th>\n      <td>2010-03-01</td>\n      <td>7.348214</td>\n      <td>8.481429</td>\n      <td>7.337500</td>\n      <td>8.392857</td>\n      <td>7.229299</td>\n      <td>1.215417e+10</td>\n      <td>AAPL</td>\n      <td>0</td>\n    </tr>\n    <tr>\n      <th>2</th>\n      <td>2010-04-01</td>\n      <td>8.478929</td>\n      <td>9.730714</td>\n      <td>8.312500</td>\n      <td>9.324643</td>\n      <td>8.031907</td>\n      <td>1.236713e+10</td>\n      <td>AAPL</td>\n      <td>0</td>\n    </tr>\n    <tr>\n      <th>3</th>\n      <td>2010-05-01</td>\n      <td>9.422857</td>\n      <td>9.567143</td>\n      <td>7.116071</td>\n      <td>9.174286</td>\n      <td>7.902396</td>\n      <td>1.808265e+10</td>\n      <td>AAPL</td>\n      <td>0</td>\n    </tr>\n    <tr>\n      <th>4</th>\n      <td>2010-06-01</td>\n      <td>9.274643</td>\n      <td>9.964643</td>\n      <td>8.650000</td>\n      <td>8.983214</td>\n      <td>7.737815</td>\n      <td>1.665125e+10</td>\n      <td>AAPL</td>\n      <td>0</td>\n    </tr>\n    <tr>\n      <th>...</th>\n      <td>...</td>\n      <td>...</td>\n      <td>...</td>\n      <td>...</td>\n      <td>...</td>\n      <td>...</td>\n      <td>...</td>\n      <td>...</td>\n      <td>...</td>\n    </tr>\n    <tr>\n      <th>65946</th>\n      <td>2020-07-01</td>\n      <td>11.950000</td>\n      <td>13.020000</td>\n      <td>11.600000</td>\n      <td>12.760000</td>\n      <td>12.676053</td>\n      <td>7.764400e+06</td>\n      <td>NWS</td>\n      <td>20</td>\n    </tr>\n    <tr>\n      <th>65947</th>\n      <td>2020-08-01</td>\n      <td>12.790000</td>\n      <td>15.550000</td>\n      <td>12.680000</td>\n      <td>15.070000</td>\n      <td>14.970856</td>\n      <td>8.911600e+06</td>\n      <td>NWS</td>\n      <td>20</td>\n    </tr>\n    <tr>\n      <th>65948</th>\n      <td>2020-09-01</td>\n      <td>15.010000</td>\n      <td>15.700000</td>\n      <td>13.690000</td>\n      <td>13.980000</td>\n      <td>13.888026</td>\n      <td>1.345070e+07</td>\n      <td>NWS</td>\n      <td>20</td>\n    </tr>\n    <tr>\n      <th>65949</th>\n      <td>2020-10-01</td>\n      <td>13.970000</td>\n      <td>14.610000</td>\n      <td>12.680000</td>\n      <td>13.020000</td>\n      <td>13.020000</td>\n      <td>8.181500e+06</td>\n      <td>NWS</td>\n      <td>20</td>\n    </tr>\n    <tr>\n      <th>65950</th>\n      <td>2020-11-01</td>\n      <td>13.110000</td>\n      <td>18.330000</td>\n      <td>12.970000</td>\n      <td>17.809999</td>\n      <td>17.809999</td>\n      <td>1.109630e+07</td>\n      <td>NWS</td>\n      <td>20</td>\n    </tr>\n  </tbody>\n</table>\n<p>101789 rows × 9 columns</p>\n</div>"
     },
     "metadata": {},
     "execution_count": 38
    }
   ],
   "source": [
    "def get_j_df(id=-1, j=j):\n",
    "    '''this should spit out a dataframe of data in the observational period j given specific id or midpoint value. \n",
    "    if unspecified it throws all of them at you with an extra identifying column \"periods\"'''\n",
    "    if (id==-1): # not really sure why we need this but ill include it. this adds a sector column to the data for future filtering purposes if needed\n",
    "        df_i = pd.DataFrame(columns=df.columns.to_list()+['period']) #dummy empty df\n",
    "        for i in timedf.index: \n",
    "            # print(timedf.iloc[i].j_start,timedf.iloc[i].midpoint)\n",
    "            df_ = df[(timedf.iloc[i].j_start <= pd.to_datetime(df['Date']))&(pd.to_datetime(df['Date']) <= timedf.iloc[i].midpoint)] # gets dates btw start and midpt\n",
    "            df_['period'] = i\n",
    "            df_i = pd.concat([df_i, df_])\n",
    "\n",
    "        return df_i\n",
    "    return df[(timedf.iloc[id].j_start <= pd.to_datetime(df['Date']))&(pd.to_datetime(df['Date']) <= timedf.iloc[id].midpoint)] # gets dates btw start and midpt from table\n",
    "get_j_df()"
   ]
  },
  {
   "cell_type": "code",
   "execution_count": 39,
   "metadata": {},
   "outputs": [
    {
     "output_type": "error",
     "ename": "NameError",
     "evalue": "name 'get_k_df' is not defined",
     "traceback": [
      "\u001b[1;31m---------------------------------------------------------------------------\u001b[0m",
      "\u001b[1;31mNameError\u001b[0m                                 Traceback (most recent call last)",
      "\u001b[1;32m<ipython-input-39-624435dda1f4>\u001b[0m in \u001b[0;36m<module>\u001b[1;34m\u001b[0m\n\u001b[1;32m----> 1\u001b[1;33m \u001b[0mprint\u001b[0m\u001b[1;33m(\u001b[0m\u001b[0mget_k_df\u001b[0m\u001b[1;33m(\u001b[0m\u001b[1;36m0\u001b[0m\u001b[1;33m)\u001b[0m\u001b[1;33m.\u001b[0m\u001b[0mDate\u001b[0m\u001b[1;33m.\u001b[0m\u001b[0munique\u001b[0m\u001b[1;33m(\u001b[0m\u001b[1;33m)\u001b[0m\u001b[1;33m)\u001b[0m \u001b[1;31m#sanity checking, hey it works\u001b[0m\u001b[1;33m\u001b[0m\u001b[1;33m\u001b[0m\u001b[0m\n\u001b[0m\u001b[0;32m      2\u001b[0m \u001b[0mprint\u001b[0m\u001b[1;33m(\u001b[0m\u001b[0mlen\u001b[0m\u001b[1;33m(\u001b[0m\u001b[0mget_k_df\u001b[0m\u001b[1;33m(\u001b[0m\u001b[1;33m)\u001b[0m\u001b[1;33m.\u001b[0m\u001b[0mName\u001b[0m\u001b[1;33m.\u001b[0m\u001b[0munique\u001b[0m\u001b[1;33m(\u001b[0m\u001b[1;33m)\u001b[0m\u001b[1;33m)\u001b[0m\u001b[1;33m)\u001b[0m \u001b[1;31m#sanity checking,\u001b[0m\u001b[1;33m\u001b[0m\u001b[1;33m\u001b[0m\u001b[0m\n",
      "\u001b[1;31mNameError\u001b[0m: name 'get_k_df' is not defined"
     ]
    }
   ],
   "source": [
    "print(get_k_df(0).Date.unique()) #sanity checking, hey it works\n",
    "print(len(get_k_df().Name.unique())) #sanity checking, "
   ]
  },
  {
   "cell_type": "code",
   "execution_count": null,
   "metadata": {},
   "outputs": [],
   "source": [
    "len(tickers) # yep, see above"
   ]
  },
  {
   "cell_type": "code",
   "execution_count": 41,
   "metadata": {},
   "outputs": [
    {
     "output_type": "execute_result",
     "data": {
      "text/plain": [
       "             Date       Open       High        Low      Close  Adj Close  \\\n",
       "9      2010-11-01  10.793571  11.475000  10.634286  11.112500   9.571903   \n",
       "10     2010-12-01  11.259643  11.666429  11.246071  11.520000   9.922909   \n",
       "11     2011-01-01  11.630000  12.450000  11.601429  12.118571  10.438492   \n",
       "12     2011-02-01  12.189286  13.032143  12.061429  12.614643  10.865795   \n",
       "13     2011-03-01  12.695357  12.916786  11.652143  12.446786  10.721204   \n",
       "...           ...        ...        ...        ...        ...        ...   \n",
       "65951  2020-12-01  18.010000  18.730000  17.049999  17.770000  17.770000   \n",
       "65952  2021-01-01  17.959999  19.420000  17.590000  18.879999  18.879999   \n",
       "65953  2021-02-01  18.590000  24.110001  18.299999  22.920000  22.920000   \n",
       "65954  2021-03-01  23.209999  23.870001  22.389999  23.500000  23.500000   \n",
       "65955  2021-03-05  22.940001  23.545000  22.520000  23.500000  23.500000   \n",
       "\n",
       "             Volume  Name period  \n",
       "9      9.508086e+09  AAPL      0  \n",
       "10     6.973235e+09  AAPL      0  \n",
       "11     1.084154e+10  AAPL      0  \n",
       "12     9.295950e+09  AAPL      0  \n",
       "13     1.130646e+10  AAPL      0  \n",
       "...             ...   ...    ...  \n",
       "65951  1.891130e+07   NWS     20  \n",
       "65952  1.800300e+07   NWS     20  \n",
       "65953  1.325420e+07   NWS     20  \n",
       "65954  2.094900e+06   NWS     20  \n",
       "65955  5.157070e+05   NWS     20  \n",
       "\n",
       "[71201 rows x 9 columns]"
      ],
      "text/html": "<div>\n<style scoped>\n    .dataframe tbody tr th:only-of-type {\n        vertical-align: middle;\n    }\n\n    .dataframe tbody tr th {\n        vertical-align: top;\n    }\n\n    .dataframe thead th {\n        text-align: right;\n    }\n</style>\n<table border=\"1\" class=\"dataframe\">\n  <thead>\n    <tr style=\"text-align: right;\">\n      <th></th>\n      <th>Date</th>\n      <th>Open</th>\n      <th>High</th>\n      <th>Low</th>\n      <th>Close</th>\n      <th>Adj Close</th>\n      <th>Volume</th>\n      <th>Name</th>\n      <th>period</th>\n    </tr>\n  </thead>\n  <tbody>\n    <tr>\n      <th>9</th>\n      <td>2010-11-01</td>\n      <td>10.793571</td>\n      <td>11.475000</td>\n      <td>10.634286</td>\n      <td>11.112500</td>\n      <td>9.571903</td>\n      <td>9.508086e+09</td>\n      <td>AAPL</td>\n      <td>0</td>\n    </tr>\n    <tr>\n      <th>10</th>\n      <td>2010-12-01</td>\n      <td>11.259643</td>\n      <td>11.666429</td>\n      <td>11.246071</td>\n      <td>11.520000</td>\n      <td>9.922909</td>\n      <td>6.973235e+09</td>\n      <td>AAPL</td>\n      <td>0</td>\n    </tr>\n    <tr>\n      <th>11</th>\n      <td>2011-01-01</td>\n      <td>11.630000</td>\n      <td>12.450000</td>\n      <td>11.601429</td>\n      <td>12.118571</td>\n      <td>10.438492</td>\n      <td>1.084154e+10</td>\n      <td>AAPL</td>\n      <td>0</td>\n    </tr>\n    <tr>\n      <th>12</th>\n      <td>2011-02-01</td>\n      <td>12.189286</td>\n      <td>13.032143</td>\n      <td>12.061429</td>\n      <td>12.614643</td>\n      <td>10.865795</td>\n      <td>9.295950e+09</td>\n      <td>AAPL</td>\n      <td>0</td>\n    </tr>\n    <tr>\n      <th>13</th>\n      <td>2011-03-01</td>\n      <td>12.695357</td>\n      <td>12.916786</td>\n      <td>11.652143</td>\n      <td>12.446786</td>\n      <td>10.721204</td>\n      <td>1.130646e+10</td>\n      <td>AAPL</td>\n      <td>0</td>\n    </tr>\n    <tr>\n      <th>...</th>\n      <td>...</td>\n      <td>...</td>\n      <td>...</td>\n      <td>...</td>\n      <td>...</td>\n      <td>...</td>\n      <td>...</td>\n      <td>...</td>\n      <td>...</td>\n    </tr>\n    <tr>\n      <th>65951</th>\n      <td>2020-12-01</td>\n      <td>18.010000</td>\n      <td>18.730000</td>\n      <td>17.049999</td>\n      <td>17.770000</td>\n      <td>17.770000</td>\n      <td>1.891130e+07</td>\n      <td>NWS</td>\n      <td>20</td>\n    </tr>\n    <tr>\n      <th>65952</th>\n      <td>2021-01-01</td>\n      <td>17.959999</td>\n      <td>19.420000</td>\n      <td>17.590000</td>\n      <td>18.879999</td>\n      <td>18.879999</td>\n      <td>1.800300e+07</td>\n      <td>NWS</td>\n      <td>20</td>\n    </tr>\n    <tr>\n      <th>65953</th>\n      <td>2021-02-01</td>\n      <td>18.590000</td>\n      <td>24.110001</td>\n      <td>18.299999</td>\n      <td>22.920000</td>\n      <td>22.920000</td>\n      <td>1.325420e+07</td>\n      <td>NWS</td>\n      <td>20</td>\n    </tr>\n    <tr>\n      <th>65954</th>\n      <td>2021-03-01</td>\n      <td>23.209999</td>\n      <td>23.870001</td>\n      <td>22.389999</td>\n      <td>23.500000</td>\n      <td>23.500000</td>\n      <td>2.094900e+06</td>\n      <td>NWS</td>\n      <td>20</td>\n    </tr>\n    <tr>\n      <th>65955</th>\n      <td>2021-03-05</td>\n      <td>22.940001</td>\n      <td>23.545000</td>\n      <td>22.520000</td>\n      <td>23.500000</td>\n      <td>23.500000</td>\n      <td>5.157070e+05</td>\n      <td>NWS</td>\n      <td>20</td>\n    </tr>\n  </tbody>\n</table>\n<p>71201 rows × 9 columns</p>\n</div>"
     },
     "metadata": {},
     "execution_count": 41
    }
   ],
   "source": [
    "def get_k_df(id=-1, k=k):\n",
    "    '''this should spit out a dataframe of data in the holding period k given specific id or midpoint value. \n",
    "    if unspecified it throws all of them at you with an extra identifying column \"periods\"'''\n",
    "    if (id==-1): # we can decide if this is useful later this adds a sector column to the data for future filtering purposes if needed\n",
    "        df_i = pd.DataFrame(columns=df.columns.to_list()+['period']) #dummy empty df\n",
    "        for i in timedf.index: \n",
    "            # print(timedf.iloc[i].j_start,timedf.iloc[i].midpoint)\n",
    "            df_ = df[(timedf.iloc[i].midpoint <= pd.to_datetime(df['Date']))&(pd.to_datetime(df['Date']) <= timedf.iloc[i].k_end)] # gets dates btw midpt and end\n",
    "            df_['period'] = i\n",
    "            df_i = pd.concat([df_i, df_])\n",
    "\n",
    "        return df_i\n",
    "    return df[(timedf.iloc[id].midpoint <= pd.to_datetime(df['Date']))&(pd.to_datetime(df['Date']) <= timedf.iloc[id].k_end)] # gets dates btw midpt and end\n",
    "get_k_df()"
   ]
  },
  {
   "cell_type": "code",
   "execution_count": 42,
   "metadata": {},
   "outputs": [
    {
     "output_type": "execute_result",
     "data": {
      "text/plain": [
       "             Date       Open       High        Low      Close  Adj Close  \\\n",
       "9      2010-11-01  10.793571  11.475000  10.634286  11.112500   9.571903   \n",
       "10     2010-12-01  11.259643  11.666429  11.246071  11.520000   9.922909   \n",
       "11     2011-01-01  11.630000  12.450000  11.601429  12.118571  10.438492   \n",
       "12     2011-02-01  12.189286  13.032143  12.061429  12.614643  10.865795   \n",
       "13     2011-03-01  12.695357  12.916786  11.652143  12.446786  10.721204   \n",
       "...           ...        ...        ...        ...        ...        ...   \n",
       "65675  2011-01-01  30.619236  31.067194  27.140976  27.984190  18.243078   \n",
       "65676  2011-02-01  28.194992  30.303030  27.747036  28.326746  18.466393   \n",
       "65677  2011-03-01  28.274046  28.616602  25.770752  28.063240  18.294609   \n",
       "65678  2011-04-01  28.221344  29.064560  26.086958  26.587614  17.402973   \n",
       "65679  2011-05-01  26.798420  27.799736  25.533598  26.903822  17.609943   \n",
       "\n",
       "             Volume  Name  \n",
       "9      9.508086e+09  AAPL  \n",
       "10     6.973235e+09  AAPL  \n",
       "11     1.084154e+10  AAPL  \n",
       "12     9.295950e+09  AAPL  \n",
       "13     1.130646e+10  AAPL  \n",
       "...             ...   ...  \n",
       "65675  1.081611e+08   XRX  \n",
       "65676  8.760613e+07   XRX  \n",
       "65677  9.970232e+07   XRX  \n",
       "65678  1.060864e+08   XRX  \n",
       "65679  9.698608e+07   XRX  \n",
       "\n",
       "[3205 rows x 8 columns]"
      ],
      "text/html": "<div>\n<style scoped>\n    .dataframe tbody tr th:only-of-type {\n        vertical-align: middle;\n    }\n\n    .dataframe tbody tr th {\n        vertical-align: top;\n    }\n\n    .dataframe thead th {\n        text-align: right;\n    }\n</style>\n<table border=\"1\" class=\"dataframe\">\n  <thead>\n    <tr style=\"text-align: right;\">\n      <th></th>\n      <th>Date</th>\n      <th>Open</th>\n      <th>High</th>\n      <th>Low</th>\n      <th>Close</th>\n      <th>Adj Close</th>\n      <th>Volume</th>\n      <th>Name</th>\n    </tr>\n  </thead>\n  <tbody>\n    <tr>\n      <th>9</th>\n      <td>2010-11-01</td>\n      <td>10.793571</td>\n      <td>11.475000</td>\n      <td>10.634286</td>\n      <td>11.112500</td>\n      <td>9.571903</td>\n      <td>9.508086e+09</td>\n      <td>AAPL</td>\n    </tr>\n    <tr>\n      <th>10</th>\n      <td>2010-12-01</td>\n      <td>11.259643</td>\n      <td>11.666429</td>\n      <td>11.246071</td>\n      <td>11.520000</td>\n      <td>9.922909</td>\n      <td>6.973235e+09</td>\n      <td>AAPL</td>\n    </tr>\n    <tr>\n      <th>11</th>\n      <td>2011-01-01</td>\n      <td>11.630000</td>\n      <td>12.450000</td>\n      <td>11.601429</td>\n      <td>12.118571</td>\n      <td>10.438492</td>\n      <td>1.084154e+10</td>\n      <td>AAPL</td>\n    </tr>\n    <tr>\n      <th>12</th>\n      <td>2011-02-01</td>\n      <td>12.189286</td>\n      <td>13.032143</td>\n      <td>12.061429</td>\n      <td>12.614643</td>\n      <td>10.865795</td>\n      <td>9.295950e+09</td>\n      <td>AAPL</td>\n    </tr>\n    <tr>\n      <th>13</th>\n      <td>2011-03-01</td>\n      <td>12.695357</td>\n      <td>12.916786</td>\n      <td>11.652143</td>\n      <td>12.446786</td>\n      <td>10.721204</td>\n      <td>1.130646e+10</td>\n      <td>AAPL</td>\n    </tr>\n    <tr>\n      <th>...</th>\n      <td>...</td>\n      <td>...</td>\n      <td>...</td>\n      <td>...</td>\n      <td>...</td>\n      <td>...</td>\n      <td>...</td>\n      <td>...</td>\n    </tr>\n    <tr>\n      <th>65675</th>\n      <td>2011-01-01</td>\n      <td>30.619236</td>\n      <td>31.067194</td>\n      <td>27.140976</td>\n      <td>27.984190</td>\n      <td>18.243078</td>\n      <td>1.081611e+08</td>\n      <td>XRX</td>\n    </tr>\n    <tr>\n      <th>65676</th>\n      <td>2011-02-01</td>\n      <td>28.194992</td>\n      <td>30.303030</td>\n      <td>27.747036</td>\n      <td>28.326746</td>\n      <td>18.466393</td>\n      <td>8.760613e+07</td>\n      <td>XRX</td>\n    </tr>\n    <tr>\n      <th>65677</th>\n      <td>2011-03-01</td>\n      <td>28.274046</td>\n      <td>28.616602</td>\n      <td>25.770752</td>\n      <td>28.063240</td>\n      <td>18.294609</td>\n      <td>9.970232e+07</td>\n      <td>XRX</td>\n    </tr>\n    <tr>\n      <th>65678</th>\n      <td>2011-04-01</td>\n      <td>28.221344</td>\n      <td>29.064560</td>\n      <td>26.086958</td>\n      <td>26.587614</td>\n      <td>17.402973</td>\n      <td>1.060864e+08</td>\n      <td>XRX</td>\n    </tr>\n    <tr>\n      <th>65679</th>\n      <td>2011-05-01</td>\n      <td>26.798420</td>\n      <td>27.799736</td>\n      <td>25.533598</td>\n      <td>26.903822</td>\n      <td>17.609943</td>\n      <td>9.698608e+07</td>\n      <td>XRX</td>\n    </tr>\n  </tbody>\n</table>\n<p>3205 rows × 8 columns</p>\n</div>"
     },
     "metadata": {},
     "execution_count": 42
    }
   ],
   "source": [
    "get_k_df(0)\n"
   ]
  },
  {
   "cell_type": "code",
   "execution_count": 146,
   "metadata": {},
   "outputs": [
    {
     "output_type": "execute_result",
     "data": {
      "text/plain": [
       "             date       open       high        low      close  adj_close  \\\n",
       "0      2010-02-01   6.870357   7.327500   6.816071   7.307857   6.294721   \n",
       "1      2010-03-01   7.348214   8.481429   7.337500   8.392857   7.229299   \n",
       "2      2010-04-01   8.478929   9.730714   8.312500   9.324643   8.031907   \n",
       "3      2010-05-01   9.422857   9.567143   7.116071   9.174286   7.902396   \n",
       "4      2010-06-01   9.274643   9.964643   8.650000   8.983214   7.737815   \n",
       "...           ...        ...        ...        ...        ...        ...   \n",
       "65669  2010-07-01  21.238472  25.981556  20.210804  25.665348  16.601019   \n",
       "65670  2010-08-01  25.665348  26.324112  21.923584  22.266140  14.402317   \n",
       "65671  2010-09-01  22.661398  28.036892  22.635046  27.272726  17.640709   \n",
       "65672  2010-10-01  27.430830  30.909092  27.140976  30.830040  20.023676   \n",
       "65673  2010-11-01  30.935440  31.515152  28.853756  30.197628  19.612934   \n",
       "\n",
       "             volume  Name       Date  \n",
       "0      1.077608e+10  AAPL 2010-02-01  \n",
       "1      1.215417e+10  AAPL 2010-03-01  \n",
       "2      1.236713e+10  AAPL 2010-04-01  \n",
       "3      1.808265e+10  AAPL 2010-05-01  \n",
       "4      1.665125e+10  AAPL 2010-06-01  \n",
       "...             ...   ...        ...  \n",
       "65669  1.537455e+08   XRX 2010-07-01  \n",
       "65670  9.929796e+07   XRX 2010-08-01  \n",
       "65671  1.052086e+08   XRX 2010-09-01  \n",
       "65672  1.038929e+08   XRX 2010-10-01  \n",
       "65673  8.215890e+07   XRX 2010-11-01  \n",
       "\n",
       "[4527 rows x 9 columns]"
      ],
      "text/html": "<div>\n<style scoped>\n    .dataframe tbody tr th:only-of-type {\n        vertical-align: middle;\n    }\n\n    .dataframe tbody tr th {\n        vertical-align: top;\n    }\n\n    .dataframe thead th {\n        text-align: right;\n    }\n</style>\n<table border=\"1\" class=\"dataframe\">\n  <thead>\n    <tr style=\"text-align: right;\">\n      <th></th>\n      <th>date</th>\n      <th>open</th>\n      <th>high</th>\n      <th>low</th>\n      <th>close</th>\n      <th>adj_close</th>\n      <th>volume</th>\n      <th>Name</th>\n      <th>Date</th>\n    </tr>\n  </thead>\n  <tbody>\n    <tr>\n      <th>0</th>\n      <td>2010-02-01</td>\n      <td>6.870357</td>\n      <td>7.327500</td>\n      <td>6.816071</td>\n      <td>7.307857</td>\n      <td>6.294721</td>\n      <td>1.077608e+10</td>\n      <td>AAPL</td>\n      <td>2010-02-01</td>\n    </tr>\n    <tr>\n      <th>1</th>\n      <td>2010-03-01</td>\n      <td>7.348214</td>\n      <td>8.481429</td>\n      <td>7.337500</td>\n      <td>8.392857</td>\n      <td>7.229299</td>\n      <td>1.215417e+10</td>\n      <td>AAPL</td>\n      <td>2010-03-01</td>\n    </tr>\n    <tr>\n      <th>2</th>\n      <td>2010-04-01</td>\n      <td>8.478929</td>\n      <td>9.730714</td>\n      <td>8.312500</td>\n      <td>9.324643</td>\n      <td>8.031907</td>\n      <td>1.236713e+10</td>\n      <td>AAPL</td>\n      <td>2010-04-01</td>\n    </tr>\n    <tr>\n      <th>3</th>\n      <td>2010-05-01</td>\n      <td>9.422857</td>\n      <td>9.567143</td>\n      <td>7.116071</td>\n      <td>9.174286</td>\n      <td>7.902396</td>\n      <td>1.808265e+10</td>\n      <td>AAPL</td>\n      <td>2010-05-01</td>\n    </tr>\n    <tr>\n      <th>4</th>\n      <td>2010-06-01</td>\n      <td>9.274643</td>\n      <td>9.964643</td>\n      <td>8.650000</td>\n      <td>8.983214</td>\n      <td>7.737815</td>\n      <td>1.665125e+10</td>\n      <td>AAPL</td>\n      <td>2010-06-01</td>\n    </tr>\n    <tr>\n      <th>...</th>\n      <td>...</td>\n      <td>...</td>\n      <td>...</td>\n      <td>...</td>\n      <td>...</td>\n      <td>...</td>\n      <td>...</td>\n      <td>...</td>\n      <td>...</td>\n    </tr>\n    <tr>\n      <th>65669</th>\n      <td>2010-07-01</td>\n      <td>21.238472</td>\n      <td>25.981556</td>\n      <td>20.210804</td>\n      <td>25.665348</td>\n      <td>16.601019</td>\n      <td>1.537455e+08</td>\n      <td>XRX</td>\n      <td>2010-07-01</td>\n    </tr>\n    <tr>\n      <th>65670</th>\n      <td>2010-08-01</td>\n      <td>25.665348</td>\n      <td>26.324112</td>\n      <td>21.923584</td>\n      <td>22.266140</td>\n      <td>14.402317</td>\n      <td>9.929796e+07</td>\n      <td>XRX</td>\n      <td>2010-08-01</td>\n    </tr>\n    <tr>\n      <th>65671</th>\n      <td>2010-09-01</td>\n      <td>22.661398</td>\n      <td>28.036892</td>\n      <td>22.635046</td>\n      <td>27.272726</td>\n      <td>17.640709</td>\n      <td>1.052086e+08</td>\n      <td>XRX</td>\n      <td>2010-09-01</td>\n    </tr>\n    <tr>\n      <th>65672</th>\n      <td>2010-10-01</td>\n      <td>27.430830</td>\n      <td>30.909092</td>\n      <td>27.140976</td>\n      <td>30.830040</td>\n      <td>20.023676</td>\n      <td>1.038929e+08</td>\n      <td>XRX</td>\n      <td>2010-10-01</td>\n    </tr>\n    <tr>\n      <th>65673</th>\n      <td>2010-11-01</td>\n      <td>30.935440</td>\n      <td>31.515152</td>\n      <td>28.853756</td>\n      <td>30.197628</td>\n      <td>19.612934</td>\n      <td>8.215890e+07</td>\n      <td>XRX</td>\n      <td>2010-11-01</td>\n    </tr>\n  </tbody>\n</table>\n<p>4527 rows × 9 columns</p>\n</div>"
     },
     "metadata": {},
     "execution_count": 146
    }
   ],
   "source": [
    "get_j_df(0)"
   ]
  },
  {
   "source": [
    "# Data Analysis: using the above functions for building portfolios"
   ],
   "cell_type": "markdown",
   "metadata": {}
  },
  {
   "cell_type": "code",
   "execution_count": 44,
   "metadata": {},
   "outputs": [],
   "source": [
    "timedf,j,k = generate_timetable(j=3, k=2) # with j as 3 and k as 2"
   ]
  },
  {
   "cell_type": "code",
   "execution_count": 45,
   "metadata": {},
   "outputs": [
    {
     "output_type": "execute_result",
     "data": {
      "text/plain": [
       "             Date       Open       High        Low      Close  Adj Close  \\\n",
       "0      2010-02-01   6.870357   7.327500   6.816071   7.307857   6.294721   \n",
       "1      2010-03-01   7.348214   8.481429   7.337500   8.392857   7.229299   \n",
       "2      2010-04-01   8.478929   9.730714   8.312500   9.324643   8.031907   \n",
       "3      2010-05-01   9.422857   9.567143   7.116071   9.174286   7.902396   \n",
       "4      2010-06-01   9.274643   9.964643   8.650000   8.983214   7.737815   \n",
       "...           ...        ...        ...        ...        ...        ...   \n",
       "65669  2010-07-01  21.238472  25.981556  20.210804  25.665348  16.601019   \n",
       "65670  2010-08-01  25.665348  26.324112  21.923584  22.266140  14.402317   \n",
       "65671  2010-09-01  22.661398  28.036892  22.635046  27.272726  17.640709   \n",
       "65672  2010-10-01  27.430830  30.909092  27.140976  30.830040  20.023676   \n",
       "65673  2010-11-01  30.935440  31.515152  28.853756  30.197628  19.612934   \n",
       "\n",
       "             Volume  Name  \n",
       "0      1.077608e+10  AAPL  \n",
       "1      1.215417e+10  AAPL  \n",
       "2      1.236713e+10  AAPL  \n",
       "3      1.808265e+10  AAPL  \n",
       "4      1.665125e+10  AAPL  \n",
       "...             ...   ...  \n",
       "65669  1.537455e+08   XRX  \n",
       "65670  9.929796e+07   XRX  \n",
       "65671  1.052086e+08   XRX  \n",
       "65672  1.038929e+08   XRX  \n",
       "65673  8.215890e+07   XRX  \n",
       "\n",
       "[4527 rows x 8 columns]"
      ],
      "text/html": "<div>\n<style scoped>\n    .dataframe tbody tr th:only-of-type {\n        vertical-align: middle;\n    }\n\n    .dataframe tbody tr th {\n        vertical-align: top;\n    }\n\n    .dataframe thead th {\n        text-align: right;\n    }\n</style>\n<table border=\"1\" class=\"dataframe\">\n  <thead>\n    <tr style=\"text-align: right;\">\n      <th></th>\n      <th>Date</th>\n      <th>Open</th>\n      <th>High</th>\n      <th>Low</th>\n      <th>Close</th>\n      <th>Adj Close</th>\n      <th>Volume</th>\n      <th>Name</th>\n    </tr>\n  </thead>\n  <tbody>\n    <tr>\n      <th>0</th>\n      <td>2010-02-01</td>\n      <td>6.870357</td>\n      <td>7.327500</td>\n      <td>6.816071</td>\n      <td>7.307857</td>\n      <td>6.294721</td>\n      <td>1.077608e+10</td>\n      <td>AAPL</td>\n    </tr>\n    <tr>\n      <th>1</th>\n      <td>2010-03-01</td>\n      <td>7.348214</td>\n      <td>8.481429</td>\n      <td>7.337500</td>\n      <td>8.392857</td>\n      <td>7.229299</td>\n      <td>1.215417e+10</td>\n      <td>AAPL</td>\n    </tr>\n    <tr>\n      <th>2</th>\n      <td>2010-04-01</td>\n      <td>8.478929</td>\n      <td>9.730714</td>\n      <td>8.312500</td>\n      <td>9.324643</td>\n      <td>8.031907</td>\n      <td>1.236713e+10</td>\n      <td>AAPL</td>\n    </tr>\n    <tr>\n      <th>3</th>\n      <td>2010-05-01</td>\n      <td>9.422857</td>\n      <td>9.567143</td>\n      <td>7.116071</td>\n      <td>9.174286</td>\n      <td>7.902396</td>\n      <td>1.808265e+10</td>\n      <td>AAPL</td>\n    </tr>\n    <tr>\n      <th>4</th>\n      <td>2010-06-01</td>\n      <td>9.274643</td>\n      <td>9.964643</td>\n      <td>8.650000</td>\n      <td>8.983214</td>\n      <td>7.737815</td>\n      <td>1.665125e+10</td>\n      <td>AAPL</td>\n    </tr>\n    <tr>\n      <th>...</th>\n      <td>...</td>\n      <td>...</td>\n      <td>...</td>\n      <td>...</td>\n      <td>...</td>\n      <td>...</td>\n      <td>...</td>\n      <td>...</td>\n    </tr>\n    <tr>\n      <th>65669</th>\n      <td>2010-07-01</td>\n      <td>21.238472</td>\n      <td>25.981556</td>\n      <td>20.210804</td>\n      <td>25.665348</td>\n      <td>16.601019</td>\n      <td>1.537455e+08</td>\n      <td>XRX</td>\n    </tr>\n    <tr>\n      <th>65670</th>\n      <td>2010-08-01</td>\n      <td>25.665348</td>\n      <td>26.324112</td>\n      <td>21.923584</td>\n      <td>22.266140</td>\n      <td>14.402317</td>\n      <td>9.929796e+07</td>\n      <td>XRX</td>\n    </tr>\n    <tr>\n      <th>65671</th>\n      <td>2010-09-01</td>\n      <td>22.661398</td>\n      <td>28.036892</td>\n      <td>22.635046</td>\n      <td>27.272726</td>\n      <td>17.640709</td>\n      <td>1.052086e+08</td>\n      <td>XRX</td>\n    </tr>\n    <tr>\n      <th>65672</th>\n      <td>2010-10-01</td>\n      <td>27.430830</td>\n      <td>30.909092</td>\n      <td>27.140976</td>\n      <td>30.830040</td>\n      <td>20.023676</td>\n      <td>1.038929e+08</td>\n      <td>XRX</td>\n    </tr>\n    <tr>\n      <th>65673</th>\n      <td>2010-11-01</td>\n      <td>30.935440</td>\n      <td>31.515152</td>\n      <td>28.853756</td>\n      <td>30.197628</td>\n      <td>19.612934</td>\n      <td>8.215890e+07</td>\n      <td>XRX</td>\n    </tr>\n  </tbody>\n</table>\n<p>4527 rows × 8 columns</p>\n</div>"
     },
     "metadata": {},
     "execution_count": 45
    }
   ],
   "source": [
    "get_j_df(0)"
   ]
  },
  {
   "cell_type": "code",
   "execution_count": 46,
   "metadata": {},
   "outputs": [
    {
     "output_type": "execute_result",
     "data": {
      "text/plain": [
       "            Date       Open       High        Low      Close  Adj Close  \\\n",
       "Name                                                                      \n",
       "AAPL  2010-02-01   6.870357   7.327500   6.816071   7.307857   6.294721   \n",
       "AAPL  2010-03-01   7.348214   8.481429   7.337500   8.392857   7.229299   \n",
       "AAPL  2010-04-01   8.478929   9.730714   8.312500   9.324643   8.031907   \n",
       "AAPL  2010-05-01   9.422857   9.567143   7.116071   9.174286   7.902396   \n",
       "AAPL  2010-06-01   9.274643   9.964643   8.650000   8.983214   7.737815   \n",
       "AAPL  2010-07-01   9.082143   9.499643   8.557143   9.187500   7.913781   \n",
       "AAPL  2010-08-01   9.301429   9.438571   8.412857   8.682143   7.478480   \n",
       "AAPL  2010-09-01   8.838214  10.526071   8.795714  10.133929   8.728997   \n",
       "AAPL  2010-10-01  10.219643  11.392857   9.920357  10.749286   9.259040   \n",
       "AAPL  2010-11-01  10.793571  11.475000  10.634286  11.112500   9.571903   \n",
       "MSFT  2010-02-01  28.389999  29.030001  27.570000  28.670000  22.278278   \n",
       "MSFT  2010-03-01  28.770000  30.570000  28.240000  29.290001  22.866486   \n",
       "MSFT  2010-04-01  29.350000  31.580000  28.620001  30.540001  23.842352   \n",
       "MSFT  2010-05-01  30.670000  31.059999  24.559999  25.799999  20.141876   \n",
       "MSFT  2010-06-01  25.530001  26.930000  22.950001  23.010000  18.044788   \n",
       "\n",
       "            Volume  pct_change  cum_return  adj_close_shifted  adj_change  \n",
       "Name                                                                       \n",
       "AAPL  1.077608e+10         NaN    1.000000                NaN         NaN  \n",
       "AAPL  1.215417e+10    0.148470    1.148470                NaN         NaN  \n",
       "AAPL  1.236713e+10    0.111022    1.275975                NaN         NaN  \n",
       "AAPL  1.808265e+10   -0.016125    1.255401           6.294721    1.255401  \n",
       "AAPL  1.665125e+10   -0.020827    1.229255           7.229299    1.070341  \n",
       "AAPL  1.566970e+10    0.022741    1.257209           8.031907    0.985293  \n",
       "AAPL  9.589121e+09   -0.055005    1.188056           7.902396    0.946356  \n",
       "AAPL  1.184992e+10    0.167215    1.386717           7.737815    1.128096  \n",
       "AAPL  1.223458e+10    0.060722    1.470921           7.913781    1.169989  \n",
       "AAPL  9.508086e+09    0.033790    1.520624           7.478480    1.279926  \n",
       "MSFT  1.074643e+09         NaN    1.000000                NaN         NaN  \n",
       "MSFT  1.110237e+09    0.026403    1.026403                NaN         NaN  \n",
       "MSFT  1.319030e+09    0.042677    1.070206                NaN         NaN  \n",
       "MSFT  1.720130e+09   -0.155206    0.904104          22.278278    0.904104  \n",
       "MSFT  1.671812e+09   -0.104116    0.809972          22.866486    0.789137  "
      ],
      "text/html": "<div>\n<style scoped>\n    .dataframe tbody tr th:only-of-type {\n        vertical-align: middle;\n    }\n\n    .dataframe tbody tr th {\n        vertical-align: top;\n    }\n\n    .dataframe thead th {\n        text-align: right;\n    }\n</style>\n<table border=\"1\" class=\"dataframe\">\n  <thead>\n    <tr style=\"text-align: right;\">\n      <th></th>\n      <th>Date</th>\n      <th>Open</th>\n      <th>High</th>\n      <th>Low</th>\n      <th>Close</th>\n      <th>Adj Close</th>\n      <th>Volume</th>\n      <th>pct_change</th>\n      <th>cum_return</th>\n      <th>adj_close_shifted</th>\n      <th>adj_change</th>\n    </tr>\n    <tr>\n      <th>Name</th>\n      <th></th>\n      <th></th>\n      <th></th>\n      <th></th>\n      <th></th>\n      <th></th>\n      <th></th>\n      <th></th>\n      <th></th>\n      <th></th>\n      <th></th>\n    </tr>\n  </thead>\n  <tbody>\n    <tr>\n      <th>AAPL</th>\n      <td>2010-02-01</td>\n      <td>6.870357</td>\n      <td>7.327500</td>\n      <td>6.816071</td>\n      <td>7.307857</td>\n      <td>6.294721</td>\n      <td>1.077608e+10</td>\n      <td>NaN</td>\n      <td>1.000000</td>\n      <td>NaN</td>\n      <td>NaN</td>\n    </tr>\n    <tr>\n      <th>AAPL</th>\n      <td>2010-03-01</td>\n      <td>7.348214</td>\n      <td>8.481429</td>\n      <td>7.337500</td>\n      <td>8.392857</td>\n      <td>7.229299</td>\n      <td>1.215417e+10</td>\n      <td>0.148470</td>\n      <td>1.148470</td>\n      <td>NaN</td>\n      <td>NaN</td>\n    </tr>\n    <tr>\n      <th>AAPL</th>\n      <td>2010-04-01</td>\n      <td>8.478929</td>\n      <td>9.730714</td>\n      <td>8.312500</td>\n      <td>9.324643</td>\n      <td>8.031907</td>\n      <td>1.236713e+10</td>\n      <td>0.111022</td>\n      <td>1.275975</td>\n      <td>NaN</td>\n      <td>NaN</td>\n    </tr>\n    <tr>\n      <th>AAPL</th>\n      <td>2010-05-01</td>\n      <td>9.422857</td>\n      <td>9.567143</td>\n      <td>7.116071</td>\n      <td>9.174286</td>\n      <td>7.902396</td>\n      <td>1.808265e+10</td>\n      <td>-0.016125</td>\n      <td>1.255401</td>\n      <td>6.294721</td>\n      <td>1.255401</td>\n    </tr>\n    <tr>\n      <th>AAPL</th>\n      <td>2010-06-01</td>\n      <td>9.274643</td>\n      <td>9.964643</td>\n      <td>8.650000</td>\n      <td>8.983214</td>\n      <td>7.737815</td>\n      <td>1.665125e+10</td>\n      <td>-0.020827</td>\n      <td>1.229255</td>\n      <td>7.229299</td>\n      <td>1.070341</td>\n    </tr>\n    <tr>\n      <th>AAPL</th>\n      <td>2010-07-01</td>\n      <td>9.082143</td>\n      <td>9.499643</td>\n      <td>8.557143</td>\n      <td>9.187500</td>\n      <td>7.913781</td>\n      <td>1.566970e+10</td>\n      <td>0.022741</td>\n      <td>1.257209</td>\n      <td>8.031907</td>\n      <td>0.985293</td>\n    </tr>\n    <tr>\n      <th>AAPL</th>\n      <td>2010-08-01</td>\n      <td>9.301429</td>\n      <td>9.438571</td>\n      <td>8.412857</td>\n      <td>8.682143</td>\n      <td>7.478480</td>\n      <td>9.589121e+09</td>\n      <td>-0.055005</td>\n      <td>1.188056</td>\n      <td>7.902396</td>\n      <td>0.946356</td>\n    </tr>\n    <tr>\n      <th>AAPL</th>\n      <td>2010-09-01</td>\n      <td>8.838214</td>\n      <td>10.526071</td>\n      <td>8.795714</td>\n      <td>10.133929</td>\n      <td>8.728997</td>\n      <td>1.184992e+10</td>\n      <td>0.167215</td>\n      <td>1.386717</td>\n      <td>7.737815</td>\n      <td>1.128096</td>\n    </tr>\n    <tr>\n      <th>AAPL</th>\n      <td>2010-10-01</td>\n      <td>10.219643</td>\n      <td>11.392857</td>\n      <td>9.920357</td>\n      <td>10.749286</td>\n      <td>9.259040</td>\n      <td>1.223458e+10</td>\n      <td>0.060722</td>\n      <td>1.470921</td>\n      <td>7.913781</td>\n      <td>1.169989</td>\n    </tr>\n    <tr>\n      <th>AAPL</th>\n      <td>2010-11-01</td>\n      <td>10.793571</td>\n      <td>11.475000</td>\n      <td>10.634286</td>\n      <td>11.112500</td>\n      <td>9.571903</td>\n      <td>9.508086e+09</td>\n      <td>0.033790</td>\n      <td>1.520624</td>\n      <td>7.478480</td>\n      <td>1.279926</td>\n    </tr>\n    <tr>\n      <th>MSFT</th>\n      <td>2010-02-01</td>\n      <td>28.389999</td>\n      <td>29.030001</td>\n      <td>27.570000</td>\n      <td>28.670000</td>\n      <td>22.278278</td>\n      <td>1.074643e+09</td>\n      <td>NaN</td>\n      <td>1.000000</td>\n      <td>NaN</td>\n      <td>NaN</td>\n    </tr>\n    <tr>\n      <th>MSFT</th>\n      <td>2010-03-01</td>\n      <td>28.770000</td>\n      <td>30.570000</td>\n      <td>28.240000</td>\n      <td>29.290001</td>\n      <td>22.866486</td>\n      <td>1.110237e+09</td>\n      <td>0.026403</td>\n      <td>1.026403</td>\n      <td>NaN</td>\n      <td>NaN</td>\n    </tr>\n    <tr>\n      <th>MSFT</th>\n      <td>2010-04-01</td>\n      <td>29.350000</td>\n      <td>31.580000</td>\n      <td>28.620001</td>\n      <td>30.540001</td>\n      <td>23.842352</td>\n      <td>1.319030e+09</td>\n      <td>0.042677</td>\n      <td>1.070206</td>\n      <td>NaN</td>\n      <td>NaN</td>\n    </tr>\n    <tr>\n      <th>MSFT</th>\n      <td>2010-05-01</td>\n      <td>30.670000</td>\n      <td>31.059999</td>\n      <td>24.559999</td>\n      <td>25.799999</td>\n      <td>20.141876</td>\n      <td>1.720130e+09</td>\n      <td>-0.155206</td>\n      <td>0.904104</td>\n      <td>22.278278</td>\n      <td>0.904104</td>\n    </tr>\n    <tr>\n      <th>MSFT</th>\n      <td>2010-06-01</td>\n      <td>25.530001</td>\n      <td>26.930000</td>\n      <td>22.950001</td>\n      <td>23.010000</td>\n      <td>18.044788</td>\n      <td>1.671812e+09</td>\n      <td>-0.104116</td>\n      <td>0.809972</td>\n      <td>22.866486</td>\n      <td>0.789137</td>\n    </tr>\n  </tbody>\n</table>\n</div>"
     },
     "metadata": {},
     "execution_count": 46
    }
   ],
   "source": [
    "df0 = get_j_df(0).set_index('Name') # i dont know why, but you have to set index to name for the groupby's to work\n",
    "\n",
    "df0['pct_change'] = df0['Adj Close'].groupby('Name').pct_change()\n",
    "df0['cum_return'] = (df0['pct_change']+1).groupby('Name').cumprod().fillna(1)\n",
    "df0['adj_close_shifted'] = df0['Adj Close'].groupby('Name').shift(3)#.bfill(0) # filing the value with the backfill TODO check this later\n",
    "df0['adj_change'] = df0['Adj Close']/df0['adj_close_shifted'] #.bfill(0) \n",
    "df0[:15]"
   ]
  },
  {
   "cell_type": "code",
   "execution_count": 49,
   "metadata": {},
   "outputs": [
    {
     "output_type": "execute_result",
     "data": {
      "text/plain": [
       "                 Open       High        Low      Close  Adj Close     Volume  \\\n",
       "Date                                                                           \n",
       "2015-08-01  39.250000  39.910000  30.000000  35.000000  35.000000  246871400   \n",
       "2015-09-01  34.150002  35.459999  30.299999  31.040001  31.040001  199174100   \n",
       "2015-10-01  30.820000  36.650002  30.750000  36.009998  36.009998  197230400   \n",
       "2015-11-01  35.580002  38.520000  34.500000  35.259998  35.259998  197878100   \n",
       "2015-12-01  35.410000  37.680000  33.849998  36.200001  36.200001  156937600   \n",
       "\n",
       "            Name  \n",
       "Date              \n",
       "2015-08-01  PYPL  \n",
       "2015-09-01  PYPL  \n",
       "2015-10-01  PYPL  \n",
       "2015-11-01  PYPL  \n",
       "2015-12-01  PYPL  "
      ],
      "text/html": "<div>\n<style scoped>\n    .dataframe tbody tr th:only-of-type {\n        vertical-align: middle;\n    }\n\n    .dataframe tbody tr th {\n        vertical-align: top;\n    }\n\n    .dataframe thead th {\n        text-align: right;\n    }\n</style>\n<table border=\"1\" class=\"dataframe\">\n  <thead>\n    <tr style=\"text-align: right;\">\n      <th></th>\n      <th>Open</th>\n      <th>High</th>\n      <th>Low</th>\n      <th>Close</th>\n      <th>Adj Close</th>\n      <th>Volume</th>\n      <th>Name</th>\n    </tr>\n    <tr>\n      <th>Date</th>\n      <th></th>\n      <th></th>\n      <th></th>\n      <th></th>\n      <th></th>\n      <th></th>\n      <th></th>\n    </tr>\n  </thead>\n  <tbody>\n    <tr>\n      <th>2015-08-01</th>\n      <td>39.250000</td>\n      <td>39.910000</td>\n      <td>30.000000</td>\n      <td>35.000000</td>\n      <td>35.000000</td>\n      <td>246871400</td>\n      <td>PYPL</td>\n    </tr>\n    <tr>\n      <th>2015-09-01</th>\n      <td>34.150002</td>\n      <td>35.459999</td>\n      <td>30.299999</td>\n      <td>31.040001</td>\n      <td>31.040001</td>\n      <td>199174100</td>\n      <td>PYPL</td>\n    </tr>\n    <tr>\n      <th>2015-10-01</th>\n      <td>30.820000</td>\n      <td>36.650002</td>\n      <td>30.750000</td>\n      <td>36.009998</td>\n      <td>36.009998</td>\n      <td>197230400</td>\n      <td>PYPL</td>\n    </tr>\n    <tr>\n      <th>2015-11-01</th>\n      <td>35.580002</td>\n      <td>38.520000</td>\n      <td>34.500000</td>\n      <td>35.259998</td>\n      <td>35.259998</td>\n      <td>197878100</td>\n      <td>PYPL</td>\n    </tr>\n    <tr>\n      <th>2015-12-01</th>\n      <td>35.410000</td>\n      <td>37.680000</td>\n      <td>33.849998</td>\n      <td>36.200001</td>\n      <td>36.200001</td>\n      <td>156937600</td>\n      <td>PYPL</td>\n    </tr>\n  </tbody>\n</table>\n</div>"
     },
     "metadata": {},
     "execution_count": 49
    }
   ],
   "source": [
    "monthly_sp500['PYPL'].head() # TODO we should write about some of the issues of yahoofinance as a datasource, that should be sufficient"
   ]
  },
  {
   "cell_type": "code",
   "execution_count": 51,
   "metadata": {},
   "outputs": [
    {
     "output_type": "execute_result",
     "data": {
      "text/plain": [
       "Index(['NFLX', 'LVS', 'URI', 'CMG', 'FFIV', 'UAA', 'CRM', 'AKAM', 'TMUS',\n",
       "       'ULTA', 'FTNT', 'IPGP', 'TSLA', 'BKNG', 'CMI', 'PXD', 'NTAP', 'AIG',\n",
       "       'SWKS', 'ILMN', 'LYB', 'KMX', 'AAP', 'LB', 'UAL', 'BWA', 'WYNN', 'ALK',\n",
       "       'TPR', 'AZO', 'TSCO', 'PVH', 'CTXS', 'ALXN', 'PCAR', 'ORLY', 'AAL',\n",
       "       'AME', 'AAPL', 'CAT', 'YUM', 'AMZN', 'DLTR', 'MTD', 'EXPD', 'ALB'],\n",
       "      dtype='object', name='Name')"
      ]
     },
     "metadata": {},
     "execution_count": 51
    }
   ],
   "source": [
    "# this calculates the winner and loser tickers given n\n",
    "n = 10\n",
    "get_percents = lambda n: features.shape[0]//n+1 # this function gets us n percent number of tickers\n",
    "winner_tickers = features[:get_percents(n)].index\n",
    "winner_tickers"
   ]
  },
  {
   "cell_type": "code",
   "execution_count": 52,
   "metadata": {},
   "outputs": [
    {
     "output_type": "execute_result",
     "data": {
      "text/plain": [
       "Index(['VTRS', 'CAG', 'ANTM', 'EA', 'CBOE', 'LMT', 'JPM', 'MSFT', 'NRG', 'WHR',\n",
       "       'ABT', 'NVR', 'DGX', 'COG', 'MS', 'V', 'BAX', 'DXC', 'WDC', 'IRM',\n",
       "       'ZBH', 'NVDA', 'TFX', 'MAS', 'HPQ', 'SCHW', 'BSX', 'LYV', 'TFC', 'EQIX',\n",
       "       'DHI', 'VRTX', 'PBCT', 'MU', 'ADBE', 'RF', 'MPWR', 'CSCO', 'MDT',\n",
       "       'LDOS', 'GILD', 'BLK', 'ISRG', 'STX', 'BAC', 'PHM'],\n",
       "      dtype='object', name='Name')"
      ]
     },
     "metadata": {},
     "execution_count": 52
    }
   ],
   "source": [
    "loser_tickers = features[-get_percents(n):].index\n",
    "loser_tickers"
   ]
  },
  {
   "cell_type": "code",
   "execution_count": 53,
   "metadata": {},
   "outputs": [],
   "source": [
    "# equally weight\n",
    "weights = np.ones(get_percents(n))/(get_percents(n))"
   ]
  },
  {
   "cell_type": "code",
   "execution_count": 54,
   "metadata": {},
   "outputs": [
    {
     "output_type": "execute_result",
     "data": {
      "text/plain": [
       "Date\n",
       "2010-02-01    0.000000\n",
       "2010-03-01    0.116996\n",
       "2010-04-01    0.232886\n",
       "2010-05-01    0.207872\n",
       "2010-06-01    0.153543\n",
       "2010-07-01    0.288089\n",
       "2010-08-01    0.283519\n",
       "2010-09-01    0.499877\n",
       "2010-10-01    0.632900\n",
       "2010-11-01    0.787674\n",
       "dtype: float64"
      ]
     },
     "metadata": {},
     "execution_count": 54
    }
   ],
   "source": [
    "winner_df0 = df0.loc[winner_tickers.to_list()]\n",
    "winner_df0 = winner_df0.pivot_table(index='Date',columns='Name')['pct_change'].fillna(0) # \n",
    "winner_df0\n",
    "# winner_df0.dot(weights) # gives us the percent change of the portfolios\n",
    "winner_performance = (winner_df0.dot(weights)+1).cumprod() - 1 # gets cumulative return for a period\n",
    "winner_performance"
   ]
  },
  {
   "cell_type": "code",
   "execution_count": 192,
   "metadata": {},
   "outputs": [
    {
     "output_type": "stream",
     "name": "stdout",
     "text": [
      "weights 228\n"
     ]
    },
    {
     "output_type": "execute_result",
     "data": {
      "text/plain": [
       "             winners    losers\n",
       "Date                          \n",
       "2010-02-01  0.000000  0.000000\n",
       "2010-03-01  0.087326  0.055991\n",
       "2010-04-01  0.154751  0.075238\n",
       "2010-05-01  0.092383 -0.011044\n",
       "2010-06-01  0.040506 -0.068894\n",
       "2010-07-01  0.144979 -0.026211\n",
       "2010-08-01  0.119290 -0.081950\n",
       "2010-09-01  0.252008  0.001060\n",
       "2010-10-01  0.329955  0.023333\n",
       "2010-11-01  0.370010  0.011911"
      ],
      "text/html": "<div>\n<style scoped>\n    .dataframe tbody tr th:only-of-type {\n        vertical-align: middle;\n    }\n\n    .dataframe tbody tr th {\n        vertical-align: top;\n    }\n\n    .dataframe thead th {\n        text-align: right;\n    }\n</style>\n<table border=\"1\" class=\"dataframe\">\n  <thead>\n    <tr style=\"text-align: right;\">\n      <th></th>\n      <th>winners</th>\n      <th>losers</th>\n    </tr>\n    <tr>\n      <th>Date</th>\n      <th></th>\n      <th></th>\n    </tr>\n  </thead>\n  <tbody>\n    <tr>\n      <th>2010-02-01</th>\n      <td>0.000000</td>\n      <td>0.000000</td>\n    </tr>\n    <tr>\n      <th>2010-03-01</th>\n      <td>0.087326</td>\n      <td>0.055991</td>\n    </tr>\n    <tr>\n      <th>2010-04-01</th>\n      <td>0.154751</td>\n      <td>0.075238</td>\n    </tr>\n    <tr>\n      <th>2010-05-01</th>\n      <td>0.092383</td>\n      <td>-0.011044</td>\n    </tr>\n    <tr>\n      <th>2010-06-01</th>\n      <td>0.040506</td>\n      <td>-0.068894</td>\n    </tr>\n    <tr>\n      <th>2010-07-01</th>\n      <td>0.144979</td>\n      <td>-0.026211</td>\n    </tr>\n    <tr>\n      <th>2010-08-01</th>\n      <td>0.119290</td>\n      <td>-0.081950</td>\n    </tr>\n    <tr>\n      <th>2010-09-01</th>\n      <td>0.252008</td>\n      <td>0.001060</td>\n    </tr>\n    <tr>\n      <th>2010-10-01</th>\n      <td>0.329955</td>\n      <td>0.023333</td>\n    </tr>\n    <tr>\n      <th>2010-11-01</th>\n      <td>0.370010</td>\n      <td>0.011911</td>\n    </tr>\n  </tbody>\n</table>\n</div>"
     },
     "metadata": {},
     "execution_count": 192
    }
   ],
   "source": [
    "def get_cum_return(data):\n",
    "    '''gets cumulative return based on adjusted closing price of all tickers in input dataframe'''\n",
    "    df_ = data.set_index('Name')\n",
    "\n",
    "    # df_['pct_change'] = df_['Adj Close'].groupby('Name').pct_change()\n",
    "    df_['pct_change'] = df_['adj_close'].groupby('Name').pct_change()\n",
    "    df_['cum_return'] = (df_['pct_change']+1).groupby('Name').cumprod().fillna(1)\n",
    "    # df_['adj_close_shifted'] = df_['Adj Close'].groupby('Name').shift(3)#.bfill(0) # filing the value with the backfill TODO check this later\n",
    "    # df_['adj_change'] = df_['Adj Close']/df_['adj_close_shifted'] #.bfill(0) \n",
    "    df_['adj_close_shifted'] = df_['adj_close'].groupby('Name').shift(3)#.bfill(0) # filing the value with the backfill TODO check this later\n",
    "    df_['adj_change'] = df_['adj_close']/df_['adj_close_shifted'] #.bfill(0) \n",
    "    \n",
    "    return df_\n",
    "\n",
    "def get_percents(n): \n",
    "    '''this function gets us n percent number of tickers'''\n",
    "    return features.shape[0]//n+1\n",
    "\n",
    "def get_portfolios(period=0, n=10):   \n",
    "    '''returns the portfolios we want from a particular period'''\n",
    "    ## Gets the portfolio(s) in question we want to look at\n",
    "    data = get_cum_return(get_j_df(period))\n",
    "    features = data.groupby('Name').tail(1).sort_values(['cum_return'], ascending=False) # sorts tickers by cumulative return\n",
    "\n",
    "    winner_tickers = features[:get_percents(n)].index # we get the top/bottom n percent tickers\n",
    "    loser_tickers = features[-get_percents(n):].index # only winner and loser portfolios for now, we could expand later\n",
    "    # TODO add more portfolios if we have time\n",
    "    # print(len(winner_tickers), len(loser_tickers))\n",
    "    return (winner_tickers.to_list(), loser_tickers.to_list())\n",
    "\n",
    "def get_portfolio_performance(period=0, n=2, weights=None, hold=False):\n",
    "    '''Gets all portfolios' cumulative return performance based on n period \n",
    "    keyword args:\n",
    "    period      -- the nth period of data we are looking at, default 0\n",
    "    portfolio   -- the particular type of portfolio we want to be looking at (winner or loser, etc) default winner/momentum\n",
    "    n           -- the percentage of tickers we want to be looking at\n",
    "    weights     -- how to weight the portfolio values. if unspecified (None) we assume equal weighting in the portfolio\n",
    "    hold        -- if true returns the performance evaluation of the holding period k, else returns the performance of the observation period j\n",
    "    '''\n",
    "    winner_tickers, loser_tickers = get_portfolios(period, n)\n",
    "\n",
    "    ## evaluates the performance of portfolios on either hold or observational data\n",
    "    eval_df = get_cum_return(get_k_df(period)) if hold else get_cum_return(get_j_df(period))# we get the return from the hold period\n",
    "    \n",
    "    weights = np.ones(get_percents(n))/(get_percents(n)) if not weights else weights # set weights\n",
    "    print('weights', len(weights))\n",
    "    winner_eval = eval_df.loc[winner_tickers] # first the winners\n",
    "    winner_eval = winner_eval.pivot_table(index='Date',columns='Name')['pct_change'].fillna(0)\n",
    "    winner_performance = (winner_eval.dot(weights)+1).cumprod() - 1 # cumulative return\n",
    "\n",
    "    loser_eval = eval_df.loc[loser_tickers] # then the losers\n",
    "    loser_eval = loser_eval.pivot_table(index='Date',columns='Name')['pct_change'].fillna(0)\n",
    "    loser_performance = (loser_eval.dot(weights)+1).cumprod() - 1 # cumulative return\n",
    "\n",
    "    output = pd.DataFrame({'winners': winner_performance, 'losers': loser_performance})\n",
    "    return output\n",
    "get_portfolio_performance()"
   ]
  },
  {
   "cell_type": "code",
   "execution_count": 191,
   "metadata": {},
   "outputs": [
    {
     "output_type": "execute_result",
     "data": {
      "text/plain": [
       "0.02"
      ]
     },
     "metadata": {},
     "execution_count": 191
    }
   ],
   "source": [
    "10/500"
   ]
  },
  {
   "cell_type": "code",
   "execution_count": 148,
   "metadata": {},
   "outputs": [
    {
     "output_type": "execute_result",
     "data": {
      "text/plain": [
       "     j_start   midpoint      k_end  \\\n",
       "0 2010-02-01 2010-11-01 2011-05-01   \n",
       "1 2010-08-01 2011-05-01 2011-11-01   \n",
       "2 2011-02-01 2011-11-01 2012-05-01   \n",
       "3 2011-08-01 2012-05-01 2012-11-01   \n",
       "4 2012-02-01 2012-11-01 2013-05-01   \n",
       "\n",
       "                                                 mom  \\\n",
       "0  [NFLX, LVS, URI, CMG, FFIV, UAA, CRM, AKAM, TM...   \n",
       "1  [IPGP, REGN, ULTA, URI, HFC, FTNT, NFLX, NVDA,...   \n",
       "2  [DPZ, COG, BIIB, ULTA, REGN, DLTR, ABMD, MNST,...   \n",
       "3  [AAL, REGN, STX, URI, PHM, LEN, EQIX, SHW, MNS...   \n",
       "4  [PHM, EXPE, PSX, AAL, REGN, GILD, STZ, LEN, FB...   \n",
       "\n",
       "                                                 rev  \n",
       "0  [VTRS, CAG, ANTM, EA, CBOE, LMT, JPM, MSFT, NR...  \n",
       "1  [PWR, SBAC, KMB, BR, RSG, TAP, PBCT, ABT, DLR,...  \n",
       "2  [MAS, TXT, NTAP, LUV, PFG, F, WY, HES, ZION, N...  \n",
       "3  [EXC, HIG, IRM, AMD, RSG, MET, DXC, DVN, HPQ, ...  \n",
       "4  [WDC, TXT, MSFT, PRU, LVS, GPN, GRMN, LRCX, XR...  "
      ],
      "text/html": "<div>\n<style scoped>\n    .dataframe tbody tr th:only-of-type {\n        vertical-align: middle;\n    }\n\n    .dataframe tbody tr th {\n        vertical-align: top;\n    }\n\n    .dataframe thead th {\n        text-align: right;\n    }\n</style>\n<table border=\"1\" class=\"dataframe\">\n  <thead>\n    <tr style=\"text-align: right;\">\n      <th></th>\n      <th>j_start</th>\n      <th>midpoint</th>\n      <th>k_end</th>\n      <th>mom</th>\n      <th>rev</th>\n    </tr>\n  </thead>\n  <tbody>\n    <tr>\n      <th>0</th>\n      <td>2010-02-01</td>\n      <td>2010-11-01</td>\n      <td>2011-05-01</td>\n      <td>[NFLX, LVS, URI, CMG, FFIV, UAA, CRM, AKAM, TM...</td>\n      <td>[VTRS, CAG, ANTM, EA, CBOE, LMT, JPM, MSFT, NR...</td>\n    </tr>\n    <tr>\n      <th>1</th>\n      <td>2010-08-01</td>\n      <td>2011-05-01</td>\n      <td>2011-11-01</td>\n      <td>[IPGP, REGN, ULTA, URI, HFC, FTNT, NFLX, NVDA,...</td>\n      <td>[PWR, SBAC, KMB, BR, RSG, TAP, PBCT, ABT, DLR,...</td>\n    </tr>\n    <tr>\n      <th>2</th>\n      <td>2011-02-01</td>\n      <td>2011-11-01</td>\n      <td>2012-05-01</td>\n      <td>[DPZ, COG, BIIB, ULTA, REGN, DLTR, ABMD, MNST,...</td>\n      <td>[MAS, TXT, NTAP, LUV, PFG, F, WY, HES, ZION, N...</td>\n    </tr>\n    <tr>\n      <th>3</th>\n      <td>2011-08-01</td>\n      <td>2012-05-01</td>\n      <td>2012-11-01</td>\n      <td>[AAL, REGN, STX, URI, PHM, LEN, EQIX, SHW, MNS...</td>\n      <td>[EXC, HIG, IRM, AMD, RSG, MET, DXC, DVN, HPQ, ...</td>\n    </tr>\n    <tr>\n      <th>4</th>\n      <td>2012-02-01</td>\n      <td>2012-11-01</td>\n      <td>2013-05-01</td>\n      <td>[PHM, EXPE, PSX, AAL, REGN, GILD, STZ, LEN, FB...</td>\n      <td>[WDC, TXT, MSFT, PRU, LVS, GPN, GRMN, LRCX, XR...</td>\n    </tr>\n  </tbody>\n</table>\n</div>"
     },
     "metadata": {},
     "execution_count": 148
    }
   ],
   "source": [
    "portfolios = {'mom':{}, 'rev':{}}\n",
    "for i in timedf.index:\n",
    "    # print(i)\n",
    "    mom, rev = get_portfolios(i)\n",
    "    portfolios['mom'][i] = mom\n",
    "    portfolios['rev'][i] = rev\n",
    "# portfolios['mom'][0]\n",
    "pf = timedf.merge(pd.DataFrame(portfolios), left_index=True, right_index=True)\n",
    "pf.head()"
   ]
  },
  {
   "cell_type": "code",
   "execution_count": 149,
   "metadata": {},
   "outputs": [
    {
     "output_type": "error",
     "ename": "AttributeError",
     "evalue": "'str' object has no attribute 'pd'",
     "traceback": [
      "\u001b[1;31m---------------------------------------------------------------------------\u001b[0m",
      "\u001b[1;31mAttributeError\u001b[0m                            Traceback (most recent call last)",
      "\u001b[1;32m<ipython-input-149-515358859666>\u001b[0m in \u001b[0;36m<module>\u001b[1;34m\u001b[0m\n\u001b[1;32m----> 1\u001b[1;33m \u001b[0mpd\u001b[0m\u001b[1;33m.\u001b[0m\u001b[0mDataFrame\u001b[0m\u001b[1;33m(\u001b[0m\u001b[1;33m{\u001b[0m\u001b[1;34m'date'\u001b[0m\u001b[1;33m.\u001b[0m\u001b[0mpd\u001b[0m\u001b[1;33m.\u001b[0m\u001b[0mdate_range\u001b[0m\u001b[1;33m(\u001b[0m\u001b[0mdf\u001b[0m\u001b[1;33m.\u001b[0m\u001b[0mdate\u001b[0m\u001b[1;33m.\u001b[0m\u001b[0mmin\u001b[0m\u001b[1;33m(\u001b[0m\u001b[1;33m)\u001b[0m\u001b[1;33m,\u001b[0m \u001b[0mdf\u001b[0m\u001b[1;33m.\u001b[0m\u001b[0mdate\u001b[0m\u001b[1;33m.\u001b[0m\u001b[0mmax\u001b[0m\u001b[1;33m(\u001b[0m\u001b[1;33m)\u001b[0m\u001b[1;33m,\u001b[0m \u001b[0mfreq\u001b[0m\u001b[1;33m=\u001b[0m\u001b[1;34m\"1MS\"\u001b[0m\u001b[1;33m)\u001b[0m\u001b[1;33m}\u001b[0m\u001b[1;33m)\u001b[0m\u001b[1;33m\u001b[0m\u001b[1;33m\u001b[0m\u001b[0m\n\u001b[0m",
      "\u001b[1;31mAttributeError\u001b[0m: 'str' object has no attribute 'pd'"
     ]
    }
   ],
   "source": [
    "pd.DataFrame({'date'.pd.date_range(df.date.min(), df.date.max(), freq=\"1MS\")})"
   ]
  },
  {
   "cell_type": "code",
   "execution_count": 179,
   "metadata": {},
   "outputs": [
    {
     "output_type": "execute_result",
     "data": {
      "text/plain": [
       "nan"
      ]
     },
     "metadata": {},
     "execution_count": 179
    }
   ],
   "source": [
    "def get_portfolio_data(lst, date, weights=None):\n",
    "    '''given list of tickers, generates a EQUAL WEIGHTED INDEX portfolio and aggregates their performance'''\n",
    "    portfolio_df = df[df['Name'].isin(lst)] #filters df by lst\n",
    "    portfolio_df = get_cum_return(portfolio_df)[['date','pct_change']] # we get cum return\n",
    "    portfolio_df = portfolio_df.groupby('date').mean()\n",
    "\n",
    "    return portfolio_df[pd.to_datetime(portfolio_df.index)==date].iloc[0,0] # will need to spend time staring at the output to see if most columns are good\n",
    "    # im thinking the only good value we can get out of this is percent change and maybe cum_return, ohlc columns are garbage\n",
    "temp = get_portfolio_data(['NFLX', 'LVS', 'URI', 'CMG', 'FFIV'], dpf.date[0])\n",
    "temp"
   ]
  },
  {
   "cell_type": "code",
   "execution_count": 202,
   "metadata": {},
   "outputs": [
    {
     "output_type": "execute_result",
     "data": {
      "text/plain": [
       "          date  index  mom_pct_change  rev_pct_change  mom_return  rev_return\n",
       "0   2010-02-01      0             NaN             NaN         NaN         NaN\n",
       "1   2010-03-01      0        0.122314        0.036822    0.122314    0.036822\n",
       "2   2010-04-01      0        0.108467        0.001927    0.244048    0.038820\n",
       "3   2010-05-01      0       -0.021211       -0.101733    0.217660   -0.066862\n",
       "4   2010-06-01      0       -0.045978       -0.094690    0.161675   -0.155221\n",
       "..         ...    ...             ...             ...         ...         ...\n",
       "129 2020-11-01     19        0.091472        0.311008   10.417307    3.300333\n",
       "130 2020-12-01     19        0.067310        0.070059   11.185802    3.601609\n",
       "131 2021-01-01     19        0.009598        0.008255   11.302760    3.639597\n",
       "132 2021-02-01     19       -0.000889        0.213455   11.291829    4.629944\n",
       "133 2021-03-01     19       -0.029865        0.055711   10.924739    4.943596\n",
       "\n",
       "[134 rows x 6 columns]"
      ],
      "text/html": "<div>\n<style scoped>\n    .dataframe tbody tr th:only-of-type {\n        vertical-align: middle;\n    }\n\n    .dataframe tbody tr th {\n        vertical-align: top;\n    }\n\n    .dataframe thead th {\n        text-align: right;\n    }\n</style>\n<table border=\"1\" class=\"dataframe\">\n  <thead>\n    <tr style=\"text-align: right;\">\n      <th></th>\n      <th>date</th>\n      <th>index</th>\n      <th>mom_pct_change</th>\n      <th>rev_pct_change</th>\n      <th>mom_return</th>\n      <th>rev_return</th>\n    </tr>\n  </thead>\n  <tbody>\n    <tr>\n      <th>0</th>\n      <td>2010-02-01</td>\n      <td>0</td>\n      <td>NaN</td>\n      <td>NaN</td>\n      <td>NaN</td>\n      <td>NaN</td>\n    </tr>\n    <tr>\n      <th>1</th>\n      <td>2010-03-01</td>\n      <td>0</td>\n      <td>0.122314</td>\n      <td>0.036822</td>\n      <td>0.122314</td>\n      <td>0.036822</td>\n    </tr>\n    <tr>\n      <th>2</th>\n      <td>2010-04-01</td>\n      <td>0</td>\n      <td>0.108467</td>\n      <td>0.001927</td>\n      <td>0.244048</td>\n      <td>0.038820</td>\n    </tr>\n    <tr>\n      <th>3</th>\n      <td>2010-05-01</td>\n      <td>0</td>\n      <td>-0.021211</td>\n      <td>-0.101733</td>\n      <td>0.217660</td>\n      <td>-0.066862</td>\n    </tr>\n    <tr>\n      <th>4</th>\n      <td>2010-06-01</td>\n      <td>0</td>\n      <td>-0.045978</td>\n      <td>-0.094690</td>\n      <td>0.161675</td>\n      <td>-0.155221</td>\n    </tr>\n    <tr>\n      <th>...</th>\n      <td>...</td>\n      <td>...</td>\n      <td>...</td>\n      <td>...</td>\n      <td>...</td>\n      <td>...</td>\n    </tr>\n    <tr>\n      <th>129</th>\n      <td>2020-11-01</td>\n      <td>19</td>\n      <td>0.091472</td>\n      <td>0.311008</td>\n      <td>10.417307</td>\n      <td>3.300333</td>\n    </tr>\n    <tr>\n      <th>130</th>\n      <td>2020-12-01</td>\n      <td>19</td>\n      <td>0.067310</td>\n      <td>0.070059</td>\n      <td>11.185802</td>\n      <td>3.601609</td>\n    </tr>\n    <tr>\n      <th>131</th>\n      <td>2021-01-01</td>\n      <td>19</td>\n      <td>0.009598</td>\n      <td>0.008255</td>\n      <td>11.302760</td>\n      <td>3.639597</td>\n    </tr>\n    <tr>\n      <th>132</th>\n      <td>2021-02-01</td>\n      <td>19</td>\n      <td>-0.000889</td>\n      <td>0.213455</td>\n      <td>11.291829</td>\n      <td>4.629944</td>\n    </tr>\n    <tr>\n      <th>133</th>\n      <td>2021-03-01</td>\n      <td>19</td>\n      <td>-0.029865</td>\n      <td>0.055711</td>\n      <td>10.924739</td>\n      <td>4.943596</td>\n    </tr>\n  </tbody>\n</table>\n<p>134 rows × 6 columns</p>\n</div>"
     },
     "metadata": {},
     "execution_count": 202
    },
    {
     "output_type": "display_data",
     "data": {
      "text/plain": "<Figure size 864x576 with 1 Axes>",
      "image/svg+xml": "<?xml version=\"1.0\" encoding=\"utf-8\" standalone=\"no\"?>\r\n<!DOCTYPE svg PUBLIC \"-//W3C//DTD SVG 1.1//EN\"\r\n  \"http://www.w3.org/Graphics/SVG/1.1/DTD/svg11.dtd\">\r\n<!-- Created with matplotlib (https://matplotlib.org/) -->\r\n<svg height=\"479.63625pt\" version=\"1.1\" viewBox=\"0 0 706.380827 479.63625\" width=\"706.380827pt\" xmlns=\"http://www.w3.org/2000/svg\" xmlns:xlink=\"http://www.w3.org/1999/xlink\">\r\n <metadata>\r\n  <rdf:RDF xmlns:cc=\"http://creativecommons.org/ns#\" xmlns:dc=\"http://purl.org/dc/elements/1.1/\" xmlns:rdf=\"http://www.w3.org/1999/02/22-rdf-syntax-ns#\">\r\n   <cc:Work>\r\n    <dc:type rdf:resource=\"http://purl.org/dc/dcmitype/StillImage\"/>\r\n    <dc:date>2021-03-07T15:09:26.778566</dc:date>\r\n    <dc:format>image/svg+xml</dc:format>\r\n    <dc:creator>\r\n     <cc:Agent>\r\n      <dc:title>Matplotlib v3.3.3, https://matplotlib.org/</dc:title>\r\n     </cc:Agent>\r\n    </dc:creator>\r\n   </cc:Work>\r\n  </rdf:RDF>\r\n </metadata>\r\n <defs>\r\n  <style type=\"text/css\">*{stroke-linecap:butt;stroke-linejoin:round;}</style>\r\n </defs>\r\n <g id=\"figure_1\">\r\n  <g id=\"patch_1\">\r\n   <path d=\"M 0 479.63625 \r\nL 706.380827 479.63625 \r\nL 706.380827 0 \r\nL 0 0 \r\nz\r\n\" style=\"fill:none;\"/>\r\n  </g>\r\n  <g id=\"axes_1\">\r\n   <g id=\"patch_2\">\r\n    <path d=\"M 26.925 442.08 \r\nL 696.525 442.08 \r\nL 696.525 7.2 \r\nL 26.925 7.2 \r\nz\r\n\" style=\"fill:#ffffff;\"/>\r\n   </g>\r\n   <g id=\"matplotlib.axis_1\">\r\n    <g id=\"xtick_1\">\r\n     <g id=\"line2d_1\">\r\n      <defs>\r\n       <path d=\"M 0 0 \r\nL 0 3.5 \r\n\" id=\"m7b0a067432\" style=\"stroke:#000000;stroke-width:0.8;\"/>\r\n      </defs>\r\n      <g>\r\n       <use style=\"stroke:#000000;stroke-width:0.8;\" x=\"82.305451\" xlink:href=\"#m7b0a067432\" y=\"442.08\"/>\r\n      </g>\r\n     </g>\r\n     <g id=\"text_1\">\r\n      <!-- 2011 -->\r\n      <g transform=\"translate(69.580451 456.678437)scale(0.1 -0.1)\">\r\n       <defs>\r\n        <path d=\"M 19.1875 8.296875 \r\nL 53.609375 8.296875 \r\nL 53.609375 0 \r\nL 7.328125 0 \r\nL 7.328125 8.296875 \r\nQ 12.9375 14.109375 22.625 23.890625 \r\nQ 32.328125 33.6875 34.8125 36.53125 \r\nQ 39.546875 41.84375 41.421875 45.53125 \r\nQ 43.3125 49.21875 43.3125 52.78125 \r\nQ 43.3125 58.59375 39.234375 62.25 \r\nQ 35.15625 65.921875 28.609375 65.921875 \r\nQ 23.96875 65.921875 18.8125 64.3125 \r\nQ 13.671875 62.703125 7.8125 59.421875 \r\nL 7.8125 69.390625 \r\nQ 13.765625 71.78125 18.9375 73 \r\nQ 24.125 74.21875 28.421875 74.21875 \r\nQ 39.75 74.21875 46.484375 68.546875 \r\nQ 53.21875 62.890625 53.21875 53.421875 \r\nQ 53.21875 48.921875 51.53125 44.890625 \r\nQ 49.859375 40.875 45.40625 35.40625 \r\nQ 44.1875 33.984375 37.640625 27.21875 \r\nQ 31.109375 20.453125 19.1875 8.296875 \r\nz\r\n\" id=\"DejaVuSans-50\"/>\r\n        <path d=\"M 31.78125 66.40625 \r\nQ 24.171875 66.40625 20.328125 58.90625 \r\nQ 16.5 51.421875 16.5 36.375 \r\nQ 16.5 21.390625 20.328125 13.890625 \r\nQ 24.171875 6.390625 31.78125 6.390625 \r\nQ 39.453125 6.390625 43.28125 13.890625 \r\nQ 47.125 21.390625 47.125 36.375 \r\nQ 47.125 51.421875 43.28125 58.90625 \r\nQ 39.453125 66.40625 31.78125 66.40625 \r\nz\r\nM 31.78125 74.21875 \r\nQ 44.046875 74.21875 50.515625 64.515625 \r\nQ 56.984375 54.828125 56.984375 36.375 \r\nQ 56.984375 17.96875 50.515625 8.265625 \r\nQ 44.046875 -1.421875 31.78125 -1.421875 \r\nQ 19.53125 -1.421875 13.0625 8.265625 \r\nQ 6.59375 17.96875 6.59375 36.375 \r\nQ 6.59375 54.828125 13.0625 64.515625 \r\nQ 19.53125 74.21875 31.78125 74.21875 \r\nz\r\n\" id=\"DejaVuSans-48\"/>\r\n        <path d=\"M 12.40625 8.296875 \r\nL 28.515625 8.296875 \r\nL 28.515625 63.921875 \r\nL 10.984375 60.40625 \r\nL 10.984375 69.390625 \r\nL 28.421875 72.90625 \r\nL 38.28125 72.90625 \r\nL 38.28125 8.296875 \r\nL 54.390625 8.296875 \r\nL 54.390625 0 \r\nL 12.40625 0 \r\nz\r\n\" id=\"DejaVuSans-49\"/>\r\n       </defs>\r\n       <use xlink:href=\"#DejaVuSans-50\"/>\r\n       <use x=\"63.623047\" xlink:href=\"#DejaVuSans-48\"/>\r\n       <use x=\"127.246094\" xlink:href=\"#DejaVuSans-49\"/>\r\n       <use x=\"190.869141\" xlink:href=\"#DejaVuSans-49\"/>\r\n      </g>\r\n     </g>\r\n    </g>\r\n    <g id=\"xtick_2\">\r\n     <g id=\"line2d_2\">\r\n      <g>\r\n       <use style=\"stroke:#000000;stroke-width:0.8;\" x=\"203.135526\" xlink:href=\"#m7b0a067432\" y=\"442.08\"/>\r\n      </g>\r\n     </g>\r\n     <g id=\"text_2\">\r\n      <!-- 2013 -->\r\n      <g transform=\"translate(190.410526 456.678437)scale(0.1 -0.1)\">\r\n       <defs>\r\n        <path d=\"M 40.578125 39.3125 \r\nQ 47.65625 37.796875 51.625 33 \r\nQ 55.609375 28.21875 55.609375 21.1875 \r\nQ 55.609375 10.40625 48.1875 4.484375 \r\nQ 40.765625 -1.421875 27.09375 -1.421875 \r\nQ 22.515625 -1.421875 17.65625 -0.515625 \r\nQ 12.796875 0.390625 7.625 2.203125 \r\nL 7.625 11.71875 \r\nQ 11.71875 9.328125 16.59375 8.109375 \r\nQ 21.484375 6.890625 26.8125 6.890625 \r\nQ 36.078125 6.890625 40.9375 10.546875 \r\nQ 45.796875 14.203125 45.796875 21.1875 \r\nQ 45.796875 27.640625 41.28125 31.265625 \r\nQ 36.765625 34.90625 28.71875 34.90625 \r\nL 20.21875 34.90625 \r\nL 20.21875 43.015625 \r\nL 29.109375 43.015625 \r\nQ 36.375 43.015625 40.234375 45.921875 \r\nQ 44.09375 48.828125 44.09375 54.296875 \r\nQ 44.09375 59.90625 40.109375 62.90625 \r\nQ 36.140625 65.921875 28.71875 65.921875 \r\nQ 24.65625 65.921875 20.015625 65.03125 \r\nQ 15.375 64.15625 9.8125 62.3125 \r\nL 9.8125 71.09375 \r\nQ 15.4375 72.65625 20.34375 73.4375 \r\nQ 25.25 74.21875 29.59375 74.21875 \r\nQ 40.828125 74.21875 47.359375 69.109375 \r\nQ 53.90625 64.015625 53.90625 55.328125 \r\nQ 53.90625 49.265625 50.4375 45.09375 \r\nQ 46.96875 40.921875 40.578125 39.3125 \r\nz\r\n\" id=\"DejaVuSans-51\"/>\r\n       </defs>\r\n       <use xlink:href=\"#DejaVuSans-50\"/>\r\n       <use x=\"63.623047\" xlink:href=\"#DejaVuSans-48\"/>\r\n       <use x=\"127.246094\" xlink:href=\"#DejaVuSans-49\"/>\r\n       <use x=\"190.869141\" xlink:href=\"#DejaVuSans-51\"/>\r\n      </g>\r\n     </g>\r\n    </g>\r\n    <g id=\"xtick_3\">\r\n     <g id=\"line2d_3\">\r\n      <g>\r\n       <use style=\"stroke:#000000;stroke-width:0.8;\" x=\"323.965602\" xlink:href=\"#m7b0a067432\" y=\"442.08\"/>\r\n      </g>\r\n     </g>\r\n     <g id=\"text_3\">\r\n      <!-- 2015 -->\r\n      <g transform=\"translate(311.240602 456.678437)scale(0.1 -0.1)\">\r\n       <defs>\r\n        <path d=\"M 10.796875 72.90625 \r\nL 49.515625 72.90625 \r\nL 49.515625 64.59375 \r\nL 19.828125 64.59375 \r\nL 19.828125 46.734375 \r\nQ 21.96875 47.46875 24.109375 47.828125 \r\nQ 26.265625 48.1875 28.421875 48.1875 \r\nQ 40.625 48.1875 47.75 41.5 \r\nQ 54.890625 34.8125 54.890625 23.390625 \r\nQ 54.890625 11.625 47.5625 5.09375 \r\nQ 40.234375 -1.421875 26.90625 -1.421875 \r\nQ 22.3125 -1.421875 17.546875 -0.640625 \r\nQ 12.796875 0.140625 7.71875 1.703125 \r\nL 7.71875 11.625 \r\nQ 12.109375 9.234375 16.796875 8.0625 \r\nQ 21.484375 6.890625 26.703125 6.890625 \r\nQ 35.15625 6.890625 40.078125 11.328125 \r\nQ 45.015625 15.765625 45.015625 23.390625 \r\nQ 45.015625 31 40.078125 35.4375 \r\nQ 35.15625 39.890625 26.703125 39.890625 \r\nQ 22.75 39.890625 18.8125 39.015625 \r\nQ 14.890625 38.140625 10.796875 36.28125 \r\nz\r\n\" id=\"DejaVuSans-53\"/>\r\n       </defs>\r\n       <use xlink:href=\"#DejaVuSans-50\"/>\r\n       <use x=\"63.623047\" xlink:href=\"#DejaVuSans-48\"/>\r\n       <use x=\"127.246094\" xlink:href=\"#DejaVuSans-49\"/>\r\n       <use x=\"190.869141\" xlink:href=\"#DejaVuSans-53\"/>\r\n      </g>\r\n     </g>\r\n    </g>\r\n    <g id=\"xtick_4\">\r\n     <g id=\"line2d_4\">\r\n      <g>\r\n       <use style=\"stroke:#000000;stroke-width:0.8;\" x=\"444.795677\" xlink:href=\"#m7b0a067432\" y=\"442.08\"/>\r\n      </g>\r\n     </g>\r\n     <g id=\"text_4\">\r\n      <!-- 2017 -->\r\n      <g transform=\"translate(432.070677 456.678437)scale(0.1 -0.1)\">\r\n       <defs>\r\n        <path d=\"M 8.203125 72.90625 \r\nL 55.078125 72.90625 \r\nL 55.078125 68.703125 \r\nL 28.609375 0 \r\nL 18.3125 0 \r\nL 43.21875 64.59375 \r\nL 8.203125 64.59375 \r\nz\r\n\" id=\"DejaVuSans-55\"/>\r\n       </defs>\r\n       <use xlink:href=\"#DejaVuSans-50\"/>\r\n       <use x=\"63.623047\" xlink:href=\"#DejaVuSans-48\"/>\r\n       <use x=\"127.246094\" xlink:href=\"#DejaVuSans-49\"/>\r\n       <use x=\"190.869141\" xlink:href=\"#DejaVuSans-55\"/>\r\n      </g>\r\n     </g>\r\n    </g>\r\n    <g id=\"xtick_5\">\r\n     <g id=\"line2d_5\">\r\n      <g>\r\n       <use style=\"stroke:#000000;stroke-width:0.8;\" x=\"565.625752\" xlink:href=\"#m7b0a067432\" y=\"442.08\"/>\r\n      </g>\r\n     </g>\r\n     <g id=\"text_5\">\r\n      <!-- 2019 -->\r\n      <g transform=\"translate(552.900752 456.678437)scale(0.1 -0.1)\">\r\n       <defs>\r\n        <path d=\"M 10.984375 1.515625 \r\nL 10.984375 10.5 \r\nQ 14.703125 8.734375 18.5 7.8125 \r\nQ 22.3125 6.890625 25.984375 6.890625 \r\nQ 35.75 6.890625 40.890625 13.453125 \r\nQ 46.046875 20.015625 46.78125 33.40625 \r\nQ 43.953125 29.203125 39.59375 26.953125 \r\nQ 35.25 24.703125 29.984375 24.703125 \r\nQ 19.046875 24.703125 12.671875 31.3125 \r\nQ 6.296875 37.9375 6.296875 49.421875 \r\nQ 6.296875 60.640625 12.9375 67.421875 \r\nQ 19.578125 74.21875 30.609375 74.21875 \r\nQ 43.265625 74.21875 49.921875 64.515625 \r\nQ 56.59375 54.828125 56.59375 36.375 \r\nQ 56.59375 19.140625 48.40625 8.859375 \r\nQ 40.234375 -1.421875 26.421875 -1.421875 \r\nQ 22.703125 -1.421875 18.890625 -0.6875 \r\nQ 15.09375 0.046875 10.984375 1.515625 \r\nz\r\nM 30.609375 32.421875 \r\nQ 37.25 32.421875 41.125 36.953125 \r\nQ 45.015625 41.5 45.015625 49.421875 \r\nQ 45.015625 57.28125 41.125 61.84375 \r\nQ 37.25 66.40625 30.609375 66.40625 \r\nQ 23.96875 66.40625 20.09375 61.84375 \r\nQ 16.21875 57.28125 16.21875 49.421875 \r\nQ 16.21875 41.5 20.09375 36.953125 \r\nQ 23.96875 32.421875 30.609375 32.421875 \r\nz\r\n\" id=\"DejaVuSans-57\"/>\r\n       </defs>\r\n       <use xlink:href=\"#DejaVuSans-50\"/>\r\n       <use x=\"63.623047\" xlink:href=\"#DejaVuSans-48\"/>\r\n       <use x=\"127.246094\" xlink:href=\"#DejaVuSans-49\"/>\r\n       <use x=\"190.869141\" xlink:href=\"#DejaVuSans-57\"/>\r\n      </g>\r\n     </g>\r\n    </g>\r\n    <g id=\"xtick_6\">\r\n     <g id=\"line2d_6\">\r\n      <g>\r\n       <use style=\"stroke:#000000;stroke-width:0.8;\" x=\"686.455827\" xlink:href=\"#m7b0a067432\" y=\"442.08\"/>\r\n      </g>\r\n     </g>\r\n     <g id=\"text_6\">\r\n      <!-- 2021 -->\r\n      <g transform=\"translate(673.730827 456.678437)scale(0.1 -0.1)\">\r\n       <use xlink:href=\"#DejaVuSans-50\"/>\r\n       <use x=\"63.623047\" xlink:href=\"#DejaVuSans-48\"/>\r\n       <use x=\"127.246094\" xlink:href=\"#DejaVuSans-50\"/>\r\n       <use x=\"190.869141\" xlink:href=\"#DejaVuSans-49\"/>\r\n      </g>\r\n     </g>\r\n    </g>\r\n    <g id=\"xtick_7\">\r\n     <g id=\"line2d_7\">\r\n      <defs>\r\n       <path d=\"M 0 0 \r\nL 0 2 \r\n\" id=\"mc05c2e1433\" style=\"stroke:#000000;stroke-width:0.6;\"/>\r\n      </defs>\r\n      <g>\r\n       <use style=\"stroke:#000000;stroke-width:0.6;\" x=\"142.720489\" xlink:href=\"#mc05c2e1433\" y=\"442.08\"/>\r\n      </g>\r\n     </g>\r\n    </g>\r\n    <g id=\"xtick_8\">\r\n     <g id=\"line2d_8\">\r\n      <g>\r\n       <use style=\"stroke:#000000;stroke-width:0.6;\" x=\"263.550564\" xlink:href=\"#mc05c2e1433\" y=\"442.08\"/>\r\n      </g>\r\n     </g>\r\n    </g>\r\n    <g id=\"xtick_9\">\r\n     <g id=\"line2d_9\">\r\n      <g>\r\n       <use style=\"stroke:#000000;stroke-width:0.6;\" x=\"384.380639\" xlink:href=\"#mc05c2e1433\" y=\"442.08\"/>\r\n      </g>\r\n     </g>\r\n    </g>\r\n    <g id=\"xtick_10\">\r\n     <g id=\"line2d_10\">\r\n      <g>\r\n       <use style=\"stroke:#000000;stroke-width:0.6;\" x=\"505.210714\" xlink:href=\"#mc05c2e1433\" y=\"442.08\"/>\r\n      </g>\r\n     </g>\r\n    </g>\r\n    <g id=\"xtick_11\">\r\n     <g id=\"line2d_11\">\r\n      <g>\r\n       <use style=\"stroke:#000000;stroke-width:0.6;\" x=\"626.040789\" xlink:href=\"#mc05c2e1433\" y=\"442.08\"/>\r\n      </g>\r\n     </g>\r\n    </g>\r\n    <g id=\"text_7\">\r\n     <!-- date -->\r\n     <g transform=\"translate(350.45 470.356562)scale(0.1 -0.1)\">\r\n      <defs>\r\n       <path d=\"M 45.40625 46.390625 \r\nL 45.40625 75.984375 \r\nL 54.390625 75.984375 \r\nL 54.390625 0 \r\nL 45.40625 0 \r\nL 45.40625 8.203125 \r\nQ 42.578125 3.328125 38.25 0.953125 \r\nQ 33.9375 -1.421875 27.875 -1.421875 \r\nQ 17.96875 -1.421875 11.734375 6.484375 \r\nQ 5.515625 14.40625 5.515625 27.296875 \r\nQ 5.515625 40.1875 11.734375 48.09375 \r\nQ 17.96875 56 27.875 56 \r\nQ 33.9375 56 38.25 53.625 \r\nQ 42.578125 51.265625 45.40625 46.390625 \r\nz\r\nM 14.796875 27.296875 \r\nQ 14.796875 17.390625 18.875 11.75 \r\nQ 22.953125 6.109375 30.078125 6.109375 \r\nQ 37.203125 6.109375 41.296875 11.75 \r\nQ 45.40625 17.390625 45.40625 27.296875 \r\nQ 45.40625 37.203125 41.296875 42.84375 \r\nQ 37.203125 48.484375 30.078125 48.484375 \r\nQ 22.953125 48.484375 18.875 42.84375 \r\nQ 14.796875 37.203125 14.796875 27.296875 \r\nz\r\n\" id=\"DejaVuSans-100\"/>\r\n       <path d=\"M 34.28125 27.484375 \r\nQ 23.390625 27.484375 19.1875 25 \r\nQ 14.984375 22.515625 14.984375 16.5 \r\nQ 14.984375 11.71875 18.140625 8.90625 \r\nQ 21.296875 6.109375 26.703125 6.109375 \r\nQ 34.1875 6.109375 38.703125 11.40625 \r\nQ 43.21875 16.703125 43.21875 25.484375 \r\nL 43.21875 27.484375 \r\nz\r\nM 52.203125 31.203125 \r\nL 52.203125 0 \r\nL 43.21875 0 \r\nL 43.21875 8.296875 \r\nQ 40.140625 3.328125 35.546875 0.953125 \r\nQ 30.953125 -1.421875 24.3125 -1.421875 \r\nQ 15.921875 -1.421875 10.953125 3.296875 \r\nQ 6 8.015625 6 15.921875 \r\nQ 6 25.140625 12.171875 29.828125 \r\nQ 18.359375 34.515625 30.609375 34.515625 \r\nL 43.21875 34.515625 \r\nL 43.21875 35.40625 \r\nQ 43.21875 41.609375 39.140625 45 \r\nQ 35.0625 48.390625 27.6875 48.390625 \r\nQ 23 48.390625 18.546875 47.265625 \r\nQ 14.109375 46.140625 10.015625 43.890625 \r\nL 10.015625 52.203125 \r\nQ 14.9375 54.109375 19.578125 55.046875 \r\nQ 24.21875 56 28.609375 56 \r\nQ 40.484375 56 46.34375 49.84375 \r\nQ 52.203125 43.703125 52.203125 31.203125 \r\nz\r\n\" id=\"DejaVuSans-97\"/>\r\n       <path d=\"M 18.3125 70.21875 \r\nL 18.3125 54.6875 \r\nL 36.8125 54.6875 \r\nL 36.8125 47.703125 \r\nL 18.3125 47.703125 \r\nL 18.3125 18.015625 \r\nQ 18.3125 11.328125 20.140625 9.421875 \r\nQ 21.96875 7.515625 27.59375 7.515625 \r\nL 36.8125 7.515625 \r\nL 36.8125 0 \r\nL 27.59375 0 \r\nQ 17.1875 0 13.234375 3.875 \r\nQ 9.28125 7.765625 9.28125 18.015625 \r\nL 9.28125 47.703125 \r\nL 2.6875 47.703125 \r\nL 2.6875 54.6875 \r\nL 9.28125 54.6875 \r\nL 9.28125 70.21875 \r\nz\r\n\" id=\"DejaVuSans-116\"/>\r\n       <path d=\"M 56.203125 29.59375 \r\nL 56.203125 25.203125 \r\nL 14.890625 25.203125 \r\nQ 15.484375 15.921875 20.484375 11.0625 \r\nQ 25.484375 6.203125 34.421875 6.203125 \r\nQ 39.59375 6.203125 44.453125 7.46875 \r\nQ 49.3125 8.734375 54.109375 11.28125 \r\nL 54.109375 2.78125 \r\nQ 49.265625 0.734375 44.1875 -0.34375 \r\nQ 39.109375 -1.421875 33.890625 -1.421875 \r\nQ 20.796875 -1.421875 13.15625 6.1875 \r\nQ 5.515625 13.8125 5.515625 26.8125 \r\nQ 5.515625 40.234375 12.765625 48.109375 \r\nQ 20.015625 56 32.328125 56 \r\nQ 43.359375 56 49.78125 48.890625 \r\nQ 56.203125 41.796875 56.203125 29.59375 \r\nz\r\nM 47.21875 32.234375 \r\nQ 47.125 39.59375 43.09375 43.984375 \r\nQ 39.0625 48.390625 32.421875 48.390625 \r\nQ 24.90625 48.390625 20.390625 44.140625 \r\nQ 15.875 39.890625 15.1875 32.171875 \r\nz\r\n\" id=\"DejaVuSans-101\"/>\r\n      </defs>\r\n      <use xlink:href=\"#DejaVuSans-100\"/>\r\n      <use x=\"63.476562\" xlink:href=\"#DejaVuSans-97\"/>\r\n      <use x=\"124.755859\" xlink:href=\"#DejaVuSans-116\"/>\r\n      <use x=\"163.964844\" xlink:href=\"#DejaVuSans-101\"/>\r\n     </g>\r\n    </g>\r\n   </g>\r\n   <g id=\"matplotlib.axis_2\">\r\n    <g id=\"ytick_1\">\r\n     <g id=\"line2d_12\">\r\n      <defs>\r\n       <path d=\"M 0 0 \r\nL -3.5 0 \r\n\" id=\"m29c5d4bd91\" style=\"stroke:#000000;stroke-width:0.8;\"/>\r\n      </defs>\r\n      <g>\r\n       <use style=\"stroke:#000000;stroke-width:0.8;\" x=\"26.925\" xlink:href=\"#m29c5d4bd91\" y=\"415.051601\"/>\r\n      </g>\r\n     </g>\r\n     <g id=\"text_8\">\r\n      <!-- 0 -->\r\n      <g transform=\"translate(13.5625 418.850819)scale(0.1 -0.1)\">\r\n       <use xlink:href=\"#DejaVuSans-48\"/>\r\n      </g>\r\n     </g>\r\n    </g>\r\n    <g id=\"ytick_2\">\r\n     <g id=\"line2d_13\">\r\n      <g>\r\n       <use style=\"stroke:#000000;stroke-width:0.8;\" x=\"26.925\" xlink:href=\"#m29c5d4bd91\" y=\"346.380884\"/>\r\n      </g>\r\n     </g>\r\n     <g id=\"text_9\">\r\n      <!-- 2 -->\r\n      <g transform=\"translate(13.5625 350.180103)scale(0.1 -0.1)\">\r\n       <use xlink:href=\"#DejaVuSans-50\"/>\r\n      </g>\r\n     </g>\r\n    </g>\r\n    <g id=\"ytick_3\">\r\n     <g id=\"line2d_14\">\r\n      <g>\r\n       <use style=\"stroke:#000000;stroke-width:0.8;\" x=\"26.925\" xlink:href=\"#m29c5d4bd91\" y=\"277.710168\"/>\r\n      </g>\r\n     </g>\r\n     <g id=\"text_10\">\r\n      <!-- 4 -->\r\n      <g transform=\"translate(13.5625 281.509387)scale(0.1 -0.1)\">\r\n       <defs>\r\n        <path d=\"M 37.796875 64.3125 \r\nL 12.890625 25.390625 \r\nL 37.796875 25.390625 \r\nz\r\nM 35.203125 72.90625 \r\nL 47.609375 72.90625 \r\nL 47.609375 25.390625 \r\nL 58.015625 25.390625 \r\nL 58.015625 17.1875 \r\nL 47.609375 17.1875 \r\nL 47.609375 0 \r\nL 37.796875 0 \r\nL 37.796875 17.1875 \r\nL 4.890625 17.1875 \r\nL 4.890625 26.703125 \r\nz\r\n\" id=\"DejaVuSans-52\"/>\r\n       </defs>\r\n       <use xlink:href=\"#DejaVuSans-52\"/>\r\n      </g>\r\n     </g>\r\n    </g>\r\n    <g id=\"ytick_4\">\r\n     <g id=\"line2d_15\">\r\n      <g>\r\n       <use style=\"stroke:#000000;stroke-width:0.8;\" x=\"26.925\" xlink:href=\"#m29c5d4bd91\" y=\"209.039451\"/>\r\n      </g>\r\n     </g>\r\n     <g id=\"text_11\">\r\n      <!-- 6 -->\r\n      <g transform=\"translate(13.5625 212.83867)scale(0.1 -0.1)\">\r\n       <defs>\r\n        <path d=\"M 33.015625 40.375 \r\nQ 26.375 40.375 22.484375 35.828125 \r\nQ 18.609375 31.296875 18.609375 23.390625 \r\nQ 18.609375 15.53125 22.484375 10.953125 \r\nQ 26.375 6.390625 33.015625 6.390625 \r\nQ 39.65625 6.390625 43.53125 10.953125 \r\nQ 47.40625 15.53125 47.40625 23.390625 \r\nQ 47.40625 31.296875 43.53125 35.828125 \r\nQ 39.65625 40.375 33.015625 40.375 \r\nz\r\nM 52.59375 71.296875 \r\nL 52.59375 62.3125 \r\nQ 48.875 64.0625 45.09375 64.984375 \r\nQ 41.3125 65.921875 37.59375 65.921875 \r\nQ 27.828125 65.921875 22.671875 59.328125 \r\nQ 17.53125 52.734375 16.796875 39.40625 \r\nQ 19.671875 43.65625 24.015625 45.921875 \r\nQ 28.375 48.1875 33.59375 48.1875 \r\nQ 44.578125 48.1875 50.953125 41.515625 \r\nQ 57.328125 34.859375 57.328125 23.390625 \r\nQ 57.328125 12.15625 50.6875 5.359375 \r\nQ 44.046875 -1.421875 33.015625 -1.421875 \r\nQ 20.359375 -1.421875 13.671875 8.265625 \r\nQ 6.984375 17.96875 6.984375 36.375 \r\nQ 6.984375 53.65625 15.1875 63.9375 \r\nQ 23.390625 74.21875 37.203125 74.21875 \r\nQ 40.921875 74.21875 44.703125 73.484375 \r\nQ 48.484375 72.75 52.59375 71.296875 \r\nz\r\n\" id=\"DejaVuSans-54\"/>\r\n       </defs>\r\n       <use xlink:href=\"#DejaVuSans-54\"/>\r\n      </g>\r\n     </g>\r\n    </g>\r\n    <g id=\"ytick_5\">\r\n     <g id=\"line2d_16\">\r\n      <g>\r\n       <use style=\"stroke:#000000;stroke-width:0.8;\" x=\"26.925\" xlink:href=\"#m29c5d4bd91\" y=\"140.368735\"/>\r\n      </g>\r\n     </g>\r\n     <g id=\"text_12\">\r\n      <!-- 8 -->\r\n      <g transform=\"translate(13.5625 144.167954)scale(0.1 -0.1)\">\r\n       <defs>\r\n        <path d=\"M 31.78125 34.625 \r\nQ 24.75 34.625 20.71875 30.859375 \r\nQ 16.703125 27.09375 16.703125 20.515625 \r\nQ 16.703125 13.921875 20.71875 10.15625 \r\nQ 24.75 6.390625 31.78125 6.390625 \r\nQ 38.8125 6.390625 42.859375 10.171875 \r\nQ 46.921875 13.96875 46.921875 20.515625 \r\nQ 46.921875 27.09375 42.890625 30.859375 \r\nQ 38.875 34.625 31.78125 34.625 \r\nz\r\nM 21.921875 38.8125 \r\nQ 15.578125 40.375 12.03125 44.71875 \r\nQ 8.5 49.078125 8.5 55.328125 \r\nQ 8.5 64.0625 14.71875 69.140625 \r\nQ 20.953125 74.21875 31.78125 74.21875 \r\nQ 42.671875 74.21875 48.875 69.140625 \r\nQ 55.078125 64.0625 55.078125 55.328125 \r\nQ 55.078125 49.078125 51.53125 44.71875 \r\nQ 48 40.375 41.703125 38.8125 \r\nQ 48.828125 37.15625 52.796875 32.3125 \r\nQ 56.78125 27.484375 56.78125 20.515625 \r\nQ 56.78125 9.90625 50.3125 4.234375 \r\nQ 43.84375 -1.421875 31.78125 -1.421875 \r\nQ 19.734375 -1.421875 13.25 4.234375 \r\nQ 6.78125 9.90625 6.78125 20.515625 \r\nQ 6.78125 27.484375 10.78125 32.3125 \r\nQ 14.796875 37.15625 21.921875 38.8125 \r\nz\r\nM 18.3125 54.390625 \r\nQ 18.3125 48.734375 21.84375 45.5625 \r\nQ 25.390625 42.390625 31.78125 42.390625 \r\nQ 38.140625 42.390625 41.71875 45.5625 \r\nQ 45.3125 48.734375 45.3125 54.390625 \r\nQ 45.3125 60.0625 41.71875 63.234375 \r\nQ 38.140625 66.40625 31.78125 66.40625 \r\nQ 25.390625 66.40625 21.84375 63.234375 \r\nQ 18.3125 60.0625 18.3125 54.390625 \r\nz\r\n\" id=\"DejaVuSans-56\"/>\r\n       </defs>\r\n       <use xlink:href=\"#DejaVuSans-56\"/>\r\n      </g>\r\n     </g>\r\n    </g>\r\n    <g id=\"ytick_6\">\r\n     <g id=\"line2d_17\">\r\n      <g>\r\n       <use style=\"stroke:#000000;stroke-width:0.8;\" x=\"26.925\" xlink:href=\"#m29c5d4bd91\" y=\"71.698019\"/>\r\n      </g>\r\n     </g>\r\n     <g id=\"text_13\">\r\n      <!-- 10 -->\r\n      <g transform=\"translate(7.2 75.497237)scale(0.1 -0.1)\">\r\n       <use xlink:href=\"#DejaVuSans-49\"/>\r\n       <use x=\"63.623047\" xlink:href=\"#DejaVuSans-48\"/>\r\n      </g>\r\n     </g>\r\n    </g>\r\n   </g>\r\n   <g id=\"line2d_18\">\r\n    <path clip-path=\"url(#p9d31e092a0)\" d=\"M 31.959586 410.851917 \r\nL 36.994173 406.67212 \r\nL 42.028759 407.578153 \r\nL 47.063346 409.50044 \r\nL 52.097932 404.744827 \r\nL 57.132519 404.903199 \r\nL 62.167105 397.404746 \r\nL 67.201692 392.794474 \r\nL 72.236278 387.430391 \r\nL 77.270865 386.079183 \r\nL 82.305451 385.299815 \r\nL 87.340038 382.163305 \r\nL 92.374624 379.862443 \r\nL 97.409211 376.514558 \r\nL 102.443797 376.973586 \r\nL 107.478383 376.664499 \r\nL 112.51297 378.675537 \r\nL 117.547556 384.700396 \r\nL 122.582143 392.475274 \r\nL 127.616729 382.080045 \r\nL 132.651316 381.953749 \r\nL 137.685902 382.782447 \r\nL 142.720489 378.639638 \r\nL 147.755075 373.756517 \r\nL 152.789662 370.607785 \r\nL 157.824248 368.228159 \r\nL 162.858835 371.814363 \r\nL 167.893421 369.270334 \r\nL 172.928008 369.628643 \r\nL 177.962594 365.886032 \r\nL 182.99718 363.494848 \r\nL 188.031767 364.867134 \r\nL 193.066353 362.863414 \r\nL 198.10094 362.224552 \r\nL 203.135526 355.076933 \r\nL 208.170113 353.049377 \r\nL 213.204699 347.761929 \r\nL 218.239286 346.64429 \r\nL 223.273872 344.146738 \r\nL 228.308459 346.952605 \r\nL 233.343045 337.905872 \r\nL 238.377632 338.670896 \r\nL 243.412218 329.899302 \r\nL 248.446805 323.217993 \r\nL 253.481391 317.682473 \r\nL 258.515977 313.181317 \r\nL 263.550564 308.406364 \r\nL 268.58515 300.435026 \r\nL 273.619737 305.85254 \r\nL 278.654323 309.251797 \r\nL 283.68891 301.684139 \r\nL 288.723496 297.160707 \r\nL 293.758083 298.966365 \r\nL 298.792669 291.392444 \r\nL 303.827256 295.941777 \r\nL 313.896429 283.496284 \r\nL 318.931015 283.044692 \r\nL 323.965602 282.433048 \r\nL 329.000188 274.70577 \r\nL 334.034774 274.02966 \r\nL 339.069361 279.115283 \r\nL 344.103947 273.202838 \r\nL 349.138534 272.947886 \r\nL 354.17312 267.430398 \r\nL 359.207707 274.309184 \r\nL 364.242293 279.64787 \r\nL 369.27688 272.43002 \r\nL 374.311466 268.472712 \r\nL 379.346053 270.55353 \r\nL 384.380639 281.052775 \r\nL 389.415226 283.568634 \r\nL 394.449812 271.641424 \r\nL 399.484398 274.102365 \r\nL 404.518985 265.349693 \r\nL 409.553571 257.868993 \r\nL 414.588158 248.44506 \r\nL 419.622744 250.052344 \r\nL 424.657331 248.142886 \r\nL 429.691917 253.286104 \r\nL 434.726504 250.419625 \r\nL 439.76109 247.262197 \r\nL 444.795677 241.110829 \r\nL 449.830263 235.442784 \r\nL 459.899436 237.683104 \r\nL 464.934023 238.475825 \r\nL 469.968609 242.275794 \r\nL 475.003195 235.840604 \r\nL 480.037782 228.995501 \r\nL 485.072368 220.698011 \r\nL 490.106955 209.021213 \r\nL 495.141541 206.195893 \r\nL 500.176128 207.510142 \r\nL 505.210714 188.698521 \r\nL 510.245301 192.725331 \r\nL 515.279887 191.103379 \r\nL 520.314474 191.412352 \r\nL 525.34906 175.100204 \r\nL 535.418233 169.424372 \r\nL 540.45282 152.834089 \r\nL 545.487406 155.292111 \r\nL 550.521992 191.885884 \r\nL 555.556579 192.494387 \r\nL 560.591165 216.106261 \r\nL 565.625752 193.833915 \r\nL 570.660338 179.302287 \r\nL 575.694925 175.060662 \r\nL 580.729511 173.770039 \r\nL 585.764098 181.320771 \r\nL 590.798684 165.173927 \r\nL 595.833271 156.685376 \r\nL 600.867857 152.697371 \r\nL 605.902444 157.943359 \r\nL 610.93703 160.915784 \r\nL 615.971617 154.919721 \r\nL 621.006203 147.496811 \r\nL 626.040789 137.707952 \r\nL 631.075376 154.42846 \r\nL 636.109962 196.197154 \r\nL 641.144549 158.341657 \r\nL 646.179135 132.058359 \r\nL 651.213722 120.274173 \r\nL 656.248308 91.861474 \r\nL 661.282895 69.50944 \r\nL 666.317481 82.122894 \r\nL 671.352068 90.223007 \r\nL 676.386654 57.36965 \r\nL 681.421241 30.983095 \r\nL 686.455827 26.967273 \r\nL 691.490414 27.342601 \r\nL 696.525 39.94676 \r\nL 696.525 39.94676 \r\n\" style=\"fill:none;stroke:#1f77b4;stroke-linecap:square;stroke-width:1.5;\"/>\r\n   </g>\r\n   <g id=\"line2d_19\">\r\n    <path clip-path=\"url(#p9d31e092a0)\" d=\"M 31.959586 413.787292 \r\nL 36.994173 413.718692 \r\nL 42.028759 417.347331 \r\nL 47.063346 420.381157 \r\nL 52.097932 419.785742 \r\nL 57.132519 422.312727 \r\nL 62.167105 419.864991 \r\nL 67.201692 419.623867 \r\nL 72.236278 420.464436 \r\nL 77.270865 417.792979 \r\nL 82.305451 416.142123 \r\nL 87.340038 415.450666 \r\nL 92.374624 415.096159 \r\nL 97.409211 413.676681 \r\nL 102.443797 413.745421 \r\nL 107.478383 414.733596 \r\nL 112.51297 416.267939 \r\nL 117.547556 418.569472 \r\nL 122.582143 420.739782 \r\nL 127.616729 417.17347 \r\nL 132.651316 417.732823 \r\nL 137.685902 417.801843 \r\nL 142.720489 412.239888 \r\nL 147.755075 409.675719 \r\nL 152.789662 408.414902 \r\nL 157.824248 410.672315 \r\nL 162.858835 413.987841 \r\nL 167.893421 413.368548 \r\nL 172.928008 412.979645 \r\nL 177.962594 411.298894 \r\nL 182.99718 410.196318 \r\nL 188.031767 410.940303 \r\nL 193.066353 410.138835 \r\nL 198.10094 408.147899 \r\nL 203.135526 403.683861 \r\nL 208.170113 403.397026 \r\nL 213.204699 401.15259 \r\nL 218.239286 400.685364 \r\nL 223.273872 397.687829 \r\nL 228.308459 398.325877 \r\nL 233.343045 395.79141 \r\nL 238.377632 396.774595 \r\nL 243.412218 395.530976 \r\nL 248.446805 393.378075 \r\nL 253.481391 393.291453 \r\nL 258.515977 391.334339 \r\nL 263.550564 390.210059 \r\nL 268.58515 387.197993 \r\nL 273.619737 387.188986 \r\nL 278.654323 385.56014 \r\nL 283.68891 384.471473 \r\nL 288.723496 382.013723 \r\nL 293.758083 381.952051 \r\nL 298.792669 377.762341 \r\nL 303.827256 378.985452 \r\nL 308.861842 377.724003 \r\nL 313.896429 373.444318 \r\nL 318.931015 373.841311 \r\nL 323.965602 375.980627 \r\nL 329.000188 368.988554 \r\nL 334.034774 371.377157 \r\nL 339.069361 368.091354 \r\nL 344.103947 369.922835 \r\nL 349.138534 373.100537 \r\nL 354.17312 377.816478 \r\nL 359.207707 383.117115 \r\nL 364.242293 388.790673 \r\nL 369.27688 382.248222 \r\nL 374.311466 382.450852 \r\nL 379.346053 384.258338 \r\nL 384.380639 389.683719 \r\nL 389.415226 386.580453 \r\nL 394.449812 379.718677 \r\nL 399.484398 376.467564 \r\nL 404.518985 374.613348 \r\nL 409.553571 375.205141 \r\nL 414.588158 370.532594 \r\nL 419.622744 366.311738 \r\nL 424.657331 365.333991 \r\nL 429.691917 368.328445 \r\nL 434.726504 361.740139 \r\nL 439.76109 361.0208 \r\nL 444.795677 358.346473 \r\nL 449.830263 355.144093 \r\nL 454.86485 356.936053 \r\nL 459.899436 355.280514 \r\nL 464.934023 356.984848 \r\nL 469.968609 354.171627 \r\nL 475.003195 352.657757 \r\nL 480.037782 355.510365 \r\nL 485.072368 350.638656 \r\nL 490.106955 353.842521 \r\nL 495.141541 345.671521 \r\nL 500.176128 341.037788 \r\nL 505.210714 336.018149 \r\nL 510.245301 342.675549 \r\nL 515.279887 343.596592 \r\nL 520.314474 339.503335 \r\nL 525.34906 339.850344 \r\nL 530.383647 334.310278 \r\nL 535.418233 331.365845 \r\nL 540.45282 330.634278 \r\nL 545.487406 330.932117 \r\nL 550.521992 336.20242 \r\nL 555.556579 331.33012 \r\nL 560.591165 346.32532 \r\nL 565.625752 328.99672 \r\nL 570.660338 325.121775 \r\nL 575.694925 325.176744 \r\nL 580.729511 317.356147 \r\nL 585.764098 335.05895 \r\nL 590.798684 319.660247 \r\nL 595.833271 317.047733 \r\nL 600.867857 332.419593 \r\nL 605.902444 323.377701 \r\nL 610.93703 320.309216 \r\nL 615.971617 315.702139 \r\nL 621.006203 308.516367 \r\nL 626.040789 316.551984 \r\nL 631.075376 332.405413 \r\nL 636.109962 371.350949 \r\nL 641.144549 350.147322 \r\nL 646.179135 348.247224 \r\nL 651.213722 338.102064 \r\nL 656.248308 340.229947 \r\nL 661.282895 330.533139 \r\nL 666.317481 336.66271 \r\nL 671.352068 336.761073 \r\nL 676.386654 301.733483 \r\nL 681.421241 291.389051 \r\nL 686.455827 290.084751 \r\nL 691.490414 256.080822 \r\nL 696.525 245.311462 \r\nL 696.525 245.311462 \r\n\" style=\"fill:none;stroke:#ff7f0e;stroke-linecap:square;stroke-width:1.5;\"/>\r\n   </g>\r\n   <g id=\"patch_3\">\r\n    <path d=\"M 26.925 442.08 \r\nL 26.925 7.2 \r\n\" style=\"fill:none;stroke:#000000;stroke-linecap:square;stroke-linejoin:miter;stroke-width:0.8;\"/>\r\n   </g>\r\n   <g id=\"patch_4\">\r\n    <path d=\"M 696.525 442.08 \r\nL 696.525 7.2 \r\n\" style=\"fill:none;stroke:#000000;stroke-linecap:square;stroke-linejoin:miter;stroke-width:0.8;\"/>\r\n   </g>\r\n   <g id=\"patch_5\">\r\n    <path d=\"M 26.925 442.08 \r\nL 696.525 442.08 \r\n\" style=\"fill:none;stroke:#000000;stroke-linecap:square;stroke-linejoin:miter;stroke-width:0.8;\"/>\r\n   </g>\r\n   <g id=\"patch_6\">\r\n    <path d=\"M 26.925 7.2 \r\nL 696.525 7.2 \r\n\" style=\"fill:none;stroke:#000000;stroke-linecap:square;stroke-linejoin:miter;stroke-width:0.8;\"/>\r\n   </g>\r\n   <g id=\"legend_1\">\r\n    <g id=\"patch_7\">\r\n     <path d=\"M 33.925 45.1125 \r\nL 127.095313 45.1125 \r\nQ 129.095313 45.1125 129.095313 43.1125 \r\nL 129.095313 14.2 \r\nQ 129.095313 12.2 127.095313 12.2 \r\nL 33.925 12.2 \r\nQ 31.925 12.2 31.925 14.2 \r\nL 31.925 43.1125 \r\nQ 31.925 45.1125 33.925 45.1125 \r\nz\r\n\" style=\"fill:#ffffff;opacity:0.8;stroke:#cccccc;stroke-linejoin:miter;\"/>\r\n    </g>\r\n    <g id=\"line2d_20\">\r\n     <path d=\"M 35.925 20.298437 \r\nL 55.925 20.298437 \r\n\" style=\"fill:none;stroke:#1f77b4;stroke-linecap:square;stroke-width:1.5;\"/>\r\n    </g>\r\n    <g id=\"line2d_21\"/>\r\n    <g id=\"text_14\">\r\n     <!-- mom_return -->\r\n     <g transform=\"translate(63.925 23.798437)scale(0.1 -0.1)\">\r\n      <defs>\r\n       <path d=\"M 52 44.1875 \r\nQ 55.375 50.25 60.0625 53.125 \r\nQ 64.75 56 71.09375 56 \r\nQ 79.640625 56 84.28125 50.015625 \r\nQ 88.921875 44.046875 88.921875 33.015625 \r\nL 88.921875 0 \r\nL 79.890625 0 \r\nL 79.890625 32.71875 \r\nQ 79.890625 40.578125 77.09375 44.375 \r\nQ 74.3125 48.1875 68.609375 48.1875 \r\nQ 61.625 48.1875 57.5625 43.546875 \r\nQ 53.515625 38.921875 53.515625 30.90625 \r\nL 53.515625 0 \r\nL 44.484375 0 \r\nL 44.484375 32.71875 \r\nQ 44.484375 40.625 41.703125 44.40625 \r\nQ 38.921875 48.1875 33.109375 48.1875 \r\nQ 26.21875 48.1875 22.15625 43.53125 \r\nQ 18.109375 38.875 18.109375 30.90625 \r\nL 18.109375 0 \r\nL 9.078125 0 \r\nL 9.078125 54.6875 \r\nL 18.109375 54.6875 \r\nL 18.109375 46.1875 \r\nQ 21.1875 51.21875 25.484375 53.609375 \r\nQ 29.78125 56 35.6875 56 \r\nQ 41.65625 56 45.828125 52.96875 \r\nQ 50 49.953125 52 44.1875 \r\nz\r\n\" id=\"DejaVuSans-109\"/>\r\n       <path d=\"M 30.609375 48.390625 \r\nQ 23.390625 48.390625 19.1875 42.75 \r\nQ 14.984375 37.109375 14.984375 27.296875 \r\nQ 14.984375 17.484375 19.15625 11.84375 \r\nQ 23.34375 6.203125 30.609375 6.203125 \r\nQ 37.796875 6.203125 41.984375 11.859375 \r\nQ 46.1875 17.53125 46.1875 27.296875 \r\nQ 46.1875 37.015625 41.984375 42.703125 \r\nQ 37.796875 48.390625 30.609375 48.390625 \r\nz\r\nM 30.609375 56 \r\nQ 42.328125 56 49.015625 48.375 \r\nQ 55.71875 40.765625 55.71875 27.296875 \r\nQ 55.71875 13.875 49.015625 6.21875 \r\nQ 42.328125 -1.421875 30.609375 -1.421875 \r\nQ 18.84375 -1.421875 12.171875 6.21875 \r\nQ 5.515625 13.875 5.515625 27.296875 \r\nQ 5.515625 40.765625 12.171875 48.375 \r\nQ 18.84375 56 30.609375 56 \r\nz\r\n\" id=\"DejaVuSans-111\"/>\r\n       <path d=\"M 50.984375 -16.609375 \r\nL 50.984375 -23.578125 \r\nL -0.984375 -23.578125 \r\nL -0.984375 -16.609375 \r\nz\r\n\" id=\"DejaVuSans-95\"/>\r\n       <path d=\"M 41.109375 46.296875 \r\nQ 39.59375 47.171875 37.8125 47.578125 \r\nQ 36.03125 48 33.890625 48 \r\nQ 26.265625 48 22.1875 43.046875 \r\nQ 18.109375 38.09375 18.109375 28.8125 \r\nL 18.109375 0 \r\nL 9.078125 0 \r\nL 9.078125 54.6875 \r\nL 18.109375 54.6875 \r\nL 18.109375 46.1875 \r\nQ 20.953125 51.171875 25.484375 53.578125 \r\nQ 30.03125 56 36.53125 56 \r\nQ 37.453125 56 38.578125 55.875 \r\nQ 39.703125 55.765625 41.0625 55.515625 \r\nz\r\n\" id=\"DejaVuSans-114\"/>\r\n       <path d=\"M 8.5 21.578125 \r\nL 8.5 54.6875 \r\nL 17.484375 54.6875 \r\nL 17.484375 21.921875 \r\nQ 17.484375 14.15625 20.5 10.265625 \r\nQ 23.53125 6.390625 29.59375 6.390625 \r\nQ 36.859375 6.390625 41.078125 11.03125 \r\nQ 45.3125 15.671875 45.3125 23.6875 \r\nL 45.3125 54.6875 \r\nL 54.296875 54.6875 \r\nL 54.296875 0 \r\nL 45.3125 0 \r\nL 45.3125 8.40625 \r\nQ 42.046875 3.421875 37.71875 1 \r\nQ 33.40625 -1.421875 27.6875 -1.421875 \r\nQ 18.265625 -1.421875 13.375 4.4375 \r\nQ 8.5 10.296875 8.5 21.578125 \r\nz\r\nM 31.109375 56 \r\nz\r\n\" id=\"DejaVuSans-117\"/>\r\n       <path d=\"M 54.890625 33.015625 \r\nL 54.890625 0 \r\nL 45.90625 0 \r\nL 45.90625 32.71875 \r\nQ 45.90625 40.484375 42.875 44.328125 \r\nQ 39.84375 48.1875 33.796875 48.1875 \r\nQ 26.515625 48.1875 22.3125 43.546875 \r\nQ 18.109375 38.921875 18.109375 30.90625 \r\nL 18.109375 0 \r\nL 9.078125 0 \r\nL 9.078125 54.6875 \r\nL 18.109375 54.6875 \r\nL 18.109375 46.1875 \r\nQ 21.34375 51.125 25.703125 53.5625 \r\nQ 30.078125 56 35.796875 56 \r\nQ 45.21875 56 50.046875 50.171875 \r\nQ 54.890625 44.34375 54.890625 33.015625 \r\nz\r\n\" id=\"DejaVuSans-110\"/>\r\n      </defs>\r\n      <use xlink:href=\"#DejaVuSans-109\"/>\r\n      <use x=\"97.412109\" xlink:href=\"#DejaVuSans-111\"/>\r\n      <use x=\"158.59375\" xlink:href=\"#DejaVuSans-109\"/>\r\n      <use x=\"256.005859\" xlink:href=\"#DejaVuSans-95\"/>\r\n      <use x=\"306.005859\" xlink:href=\"#DejaVuSans-114\"/>\r\n      <use x=\"344.869141\" xlink:href=\"#DejaVuSans-101\"/>\r\n      <use x=\"406.392578\" xlink:href=\"#DejaVuSans-116\"/>\r\n      <use x=\"445.601562\" xlink:href=\"#DejaVuSans-117\"/>\r\n      <use x=\"508.980469\" xlink:href=\"#DejaVuSans-114\"/>\r\n      <use x=\"548.34375\" xlink:href=\"#DejaVuSans-110\"/>\r\n     </g>\r\n    </g>\r\n    <g id=\"line2d_22\">\r\n     <path d=\"M 35.925 35.254687 \r\nL 55.925 35.254687 \r\n\" style=\"fill:none;stroke:#ff7f0e;stroke-linecap:square;stroke-width:1.5;\"/>\r\n    </g>\r\n    <g id=\"line2d_23\"/>\r\n    <g id=\"text_15\">\r\n     <!-- rev_return -->\r\n     <g transform=\"translate(63.925 38.754687)scale(0.1 -0.1)\">\r\n      <defs>\r\n       <path d=\"M 2.984375 54.6875 \r\nL 12.5 54.6875 \r\nL 29.59375 8.796875 \r\nL 46.6875 54.6875 \r\nL 56.203125 54.6875 \r\nL 35.6875 0 \r\nL 23.484375 0 \r\nz\r\n\" id=\"DejaVuSans-118\"/>\r\n      </defs>\r\n      <use xlink:href=\"#DejaVuSans-114\"/>\r\n      <use x=\"38.863281\" xlink:href=\"#DejaVuSans-101\"/>\r\n      <use x=\"100.386719\" xlink:href=\"#DejaVuSans-118\"/>\r\n      <use x=\"159.566406\" xlink:href=\"#DejaVuSans-95\"/>\r\n      <use x=\"209.566406\" xlink:href=\"#DejaVuSans-114\"/>\r\n      <use x=\"248.429688\" xlink:href=\"#DejaVuSans-101\"/>\r\n      <use x=\"309.953125\" xlink:href=\"#DejaVuSans-116\"/>\r\n      <use x=\"349.162109\" xlink:href=\"#DejaVuSans-117\"/>\r\n      <use x=\"412.541016\" xlink:href=\"#DejaVuSans-114\"/>\r\n      <use x=\"451.904297\" xlink:href=\"#DejaVuSans-110\"/>\r\n     </g>\r\n    </g>\r\n   </g>\r\n  </g>\r\n </g>\r\n <defs>\r\n  <clipPath id=\"p9d31e092a0\">\r\n   <rect height=\"434.88\" width=\"669.6\" x=\"26.925\" y=\"7.2\"/>\r\n  </clipPath>\r\n </defs>\r\n</svg>\r\n",
      "image/png": "[encoded data removed]"
     },
     "metadata": {
      "needs_background": "light"
     }
    }
   ],
   "source": [
    "dpf = pd.DataFrame({'date':pd.date_range(df.date.min(), df.date.max(), freq=\"1MS\")}).merge(pf[['k_end', 'mom', 'rev']].reset_index(), how='left', left_on='date', right_on='k_end').bfill().ffill()\n",
    "dpf['mom_pct_change'] = dpf.apply(lambda x: get_portfolio_data(x.mom, x.date), axis=1)\n",
    "dpf['rev_pct_change'] = dpf.apply(lambda x: get_portfolio_data(x.rev, x.date), axis=1)\n",
    "dpf['index'] = dpf['index'].astype(int)\n",
    "dpf = dpf.drop(['mom', 'rev', 'k_end'], axis=1)\n",
    "dpf['mom_return'] = (dpf['mom_pct_change']+1).cumprod()-1\n",
    "dpf['rev_return'] = (dpf['rev_pct_change']+1).cumprod()-1\n",
    "dpf[['mom_return', 'rev_return', 'date']].set_index('date').plot(figsize=(12,8))\n",
    "dpf"
   ]
  },
  {
   "cell_type": "code",
   "execution_count": 198,
   "metadata": {},
   "outputs": [
    {
     "output_type": "stream",
     "name": "stdout",
     "text": [
      "[*********************100%***********************]  1 of 1 completed\n"
     ]
    }
   ],
   "source": [
    "spc = pdr.get_data_yahoo(\"^GSPC\", start=\"2010-01-01\", interval = \"1mo\")"
   ]
  },
  {
   "cell_type": "code",
   "execution_count": 206,
   "metadata": {},
   "outputs": [
    {
     "output_type": "display_data",
     "data": {
      "text/plain": "<Figure size 864x576 with 1 Axes>",
      "image/svg+xml": "<?xml version=\"1.0\" encoding=\"utf-8\" standalone=\"no\"?>\r\n<!DOCTYPE svg PUBLIC \"-//W3C//DTD SVG 1.1//EN\"\r\n  \"http://www.w3.org/Graphics/SVG/1.1/DTD/svg11.dtd\">\r\n<!-- Created with matplotlib (https://matplotlib.org/) -->\r\n<svg height=\"479.63625pt\" version=\"1.1\" viewBox=\"0 0 706.380827 479.63625\" width=\"706.380827pt\" xmlns=\"http://www.w3.org/2000/svg\" xmlns:xlink=\"http://www.w3.org/1999/xlink\">\r\n <metadata>\r\n  <rdf:RDF xmlns:cc=\"http://creativecommons.org/ns#\" xmlns:dc=\"http://purl.org/dc/elements/1.1/\" xmlns:rdf=\"http://www.w3.org/1999/02/22-rdf-syntax-ns#\">\r\n   <cc:Work>\r\n    <dc:type rdf:resource=\"http://purl.org/dc/dcmitype/StillImage\"/>\r\n    <dc:date>2021-03-07T15:22:28.232861</dc:date>\r\n    <dc:format>image/svg+xml</dc:format>\r\n    <dc:creator>\r\n     <cc:Agent>\r\n      <dc:title>Matplotlib v3.3.3, https://matplotlib.org/</dc:title>\r\n     </cc:Agent>\r\n    </dc:creator>\r\n   </cc:Work>\r\n  </rdf:RDF>\r\n </metadata>\r\n <defs>\r\n  <style type=\"text/css\">*{stroke-linecap:butt;stroke-linejoin:round;}</style>\r\n </defs>\r\n <g id=\"figure_1\">\r\n  <g id=\"patch_1\">\r\n   <path d=\"M 0 479.63625 \r\nL 706.380827 479.63625 \r\nL 706.380827 0 \r\nL 0 0 \r\nz\r\n\" style=\"fill:none;\"/>\r\n  </g>\r\n  <g id=\"axes_1\">\r\n   <g id=\"patch_2\">\r\n    <path d=\"M 26.925 442.08 \r\nL 696.525 442.08 \r\nL 696.525 7.2 \r\nL 26.925 7.2 \r\nz\r\n\" style=\"fill:#ffffff;\"/>\r\n   </g>\r\n   <g id=\"matplotlib.axis_1\">\r\n    <g id=\"xtick_1\">\r\n     <g id=\"line2d_1\">\r\n      <defs>\r\n       <path d=\"M 0 0 \r\nL 0 3.5 \r\n\" id=\"m3773166edf\" style=\"stroke:#000000;stroke-width:0.8;\"/>\r\n      </defs>\r\n      <g>\r\n       <use style=\"stroke:#000000;stroke-width:0.8;\" x=\"82.305451\" xlink:href=\"#m3773166edf\" y=\"442.08\"/>\r\n      </g>\r\n     </g>\r\n     <g id=\"text_1\">\r\n      <!-- 2011 -->\r\n      <g transform=\"translate(69.580451 456.678437)scale(0.1 -0.1)\">\r\n       <defs>\r\n        <path d=\"M 19.1875 8.296875 \r\nL 53.609375 8.296875 \r\nL 53.609375 0 \r\nL 7.328125 0 \r\nL 7.328125 8.296875 \r\nQ 12.9375 14.109375 22.625 23.890625 \r\nQ 32.328125 33.6875 34.8125 36.53125 \r\nQ 39.546875 41.84375 41.421875 45.53125 \r\nQ 43.3125 49.21875 43.3125 52.78125 \r\nQ 43.3125 58.59375 39.234375 62.25 \r\nQ 35.15625 65.921875 28.609375 65.921875 \r\nQ 23.96875 65.921875 18.8125 64.3125 \r\nQ 13.671875 62.703125 7.8125 59.421875 \r\nL 7.8125 69.390625 \r\nQ 13.765625 71.78125 18.9375 73 \r\nQ 24.125 74.21875 28.421875 74.21875 \r\nQ 39.75 74.21875 46.484375 68.546875 \r\nQ 53.21875 62.890625 53.21875 53.421875 \r\nQ 53.21875 48.921875 51.53125 44.890625 \r\nQ 49.859375 40.875 45.40625 35.40625 \r\nQ 44.1875 33.984375 37.640625 27.21875 \r\nQ 31.109375 20.453125 19.1875 8.296875 \r\nz\r\n\" id=\"DejaVuSans-50\"/>\r\n        <path d=\"M 31.78125 66.40625 \r\nQ 24.171875 66.40625 20.328125 58.90625 \r\nQ 16.5 51.421875 16.5 36.375 \r\nQ 16.5 21.390625 20.328125 13.890625 \r\nQ 24.171875 6.390625 31.78125 6.390625 \r\nQ 39.453125 6.390625 43.28125 13.890625 \r\nQ 47.125 21.390625 47.125 36.375 \r\nQ 47.125 51.421875 43.28125 58.90625 \r\nQ 39.453125 66.40625 31.78125 66.40625 \r\nz\r\nM 31.78125 74.21875 \r\nQ 44.046875 74.21875 50.515625 64.515625 \r\nQ 56.984375 54.828125 56.984375 36.375 \r\nQ 56.984375 17.96875 50.515625 8.265625 \r\nQ 44.046875 -1.421875 31.78125 -1.421875 \r\nQ 19.53125 -1.421875 13.0625 8.265625 \r\nQ 6.59375 17.96875 6.59375 36.375 \r\nQ 6.59375 54.828125 13.0625 64.515625 \r\nQ 19.53125 74.21875 31.78125 74.21875 \r\nz\r\n\" id=\"DejaVuSans-48\"/>\r\n        <path d=\"M 12.40625 8.296875 \r\nL 28.515625 8.296875 \r\nL 28.515625 63.921875 \r\nL 10.984375 60.40625 \r\nL 10.984375 69.390625 \r\nL 28.421875 72.90625 \r\nL 38.28125 72.90625 \r\nL 38.28125 8.296875 \r\nL 54.390625 8.296875 \r\nL 54.390625 0 \r\nL 12.40625 0 \r\nz\r\n\" id=\"DejaVuSans-49\"/>\r\n       </defs>\r\n       <use xlink:href=\"#DejaVuSans-50\"/>\r\n       <use x=\"63.623047\" xlink:href=\"#DejaVuSans-48\"/>\r\n       <use x=\"127.246094\" xlink:href=\"#DejaVuSans-49\"/>\r\n       <use x=\"190.869141\" xlink:href=\"#DejaVuSans-49\"/>\r\n      </g>\r\n     </g>\r\n    </g>\r\n    <g id=\"xtick_2\">\r\n     <g id=\"line2d_2\">\r\n      <g>\r\n       <use style=\"stroke:#000000;stroke-width:0.8;\" x=\"203.135526\" xlink:href=\"#m3773166edf\" y=\"442.08\"/>\r\n      </g>\r\n     </g>\r\n     <g id=\"text_2\">\r\n      <!-- 2013 -->\r\n      <g transform=\"translate(190.410526 456.678437)scale(0.1 -0.1)\">\r\n       <defs>\r\n        <path d=\"M 40.578125 39.3125 \r\nQ 47.65625 37.796875 51.625 33 \r\nQ 55.609375 28.21875 55.609375 21.1875 \r\nQ 55.609375 10.40625 48.1875 4.484375 \r\nQ 40.765625 -1.421875 27.09375 -1.421875 \r\nQ 22.515625 -1.421875 17.65625 -0.515625 \r\nQ 12.796875 0.390625 7.625 2.203125 \r\nL 7.625 11.71875 \r\nQ 11.71875 9.328125 16.59375 8.109375 \r\nQ 21.484375 6.890625 26.8125 6.890625 \r\nQ 36.078125 6.890625 40.9375 10.546875 \r\nQ 45.796875 14.203125 45.796875 21.1875 \r\nQ 45.796875 27.640625 41.28125 31.265625 \r\nQ 36.765625 34.90625 28.71875 34.90625 \r\nL 20.21875 34.90625 \r\nL 20.21875 43.015625 \r\nL 29.109375 43.015625 \r\nQ 36.375 43.015625 40.234375 45.921875 \r\nQ 44.09375 48.828125 44.09375 54.296875 \r\nQ 44.09375 59.90625 40.109375 62.90625 \r\nQ 36.140625 65.921875 28.71875 65.921875 \r\nQ 24.65625 65.921875 20.015625 65.03125 \r\nQ 15.375 64.15625 9.8125 62.3125 \r\nL 9.8125 71.09375 \r\nQ 15.4375 72.65625 20.34375 73.4375 \r\nQ 25.25 74.21875 29.59375 74.21875 \r\nQ 40.828125 74.21875 47.359375 69.109375 \r\nQ 53.90625 64.015625 53.90625 55.328125 \r\nQ 53.90625 49.265625 50.4375 45.09375 \r\nQ 46.96875 40.921875 40.578125 39.3125 \r\nz\r\n\" id=\"DejaVuSans-51\"/>\r\n       </defs>\r\n       <use xlink:href=\"#DejaVuSans-50\"/>\r\n       <use x=\"63.623047\" xlink:href=\"#DejaVuSans-48\"/>\r\n       <use x=\"127.246094\" xlink:href=\"#DejaVuSans-49\"/>\r\n       <use x=\"190.869141\" xlink:href=\"#DejaVuSans-51\"/>\r\n      </g>\r\n     </g>\r\n    </g>\r\n    <g id=\"xtick_3\">\r\n     <g id=\"line2d_3\">\r\n      <g>\r\n       <use style=\"stroke:#000000;stroke-width:0.8;\" x=\"323.965602\" xlink:href=\"#m3773166edf\" y=\"442.08\"/>\r\n      </g>\r\n     </g>\r\n     <g id=\"text_3\">\r\n      <!-- 2015 -->\r\n      <g transform=\"translate(311.240602 456.678437)scale(0.1 -0.1)\">\r\n       <defs>\r\n        <path d=\"M 10.796875 72.90625 \r\nL 49.515625 72.90625 \r\nL 49.515625 64.59375 \r\nL 19.828125 64.59375 \r\nL 19.828125 46.734375 \r\nQ 21.96875 47.46875 24.109375 47.828125 \r\nQ 26.265625 48.1875 28.421875 48.1875 \r\nQ 40.625 48.1875 47.75 41.5 \r\nQ 54.890625 34.8125 54.890625 23.390625 \r\nQ 54.890625 11.625 47.5625 5.09375 \r\nQ 40.234375 -1.421875 26.90625 -1.421875 \r\nQ 22.3125 -1.421875 17.546875 -0.640625 \r\nQ 12.796875 0.140625 7.71875 1.703125 \r\nL 7.71875 11.625 \r\nQ 12.109375 9.234375 16.796875 8.0625 \r\nQ 21.484375 6.890625 26.703125 6.890625 \r\nQ 35.15625 6.890625 40.078125 11.328125 \r\nQ 45.015625 15.765625 45.015625 23.390625 \r\nQ 45.015625 31 40.078125 35.4375 \r\nQ 35.15625 39.890625 26.703125 39.890625 \r\nQ 22.75 39.890625 18.8125 39.015625 \r\nQ 14.890625 38.140625 10.796875 36.28125 \r\nz\r\n\" id=\"DejaVuSans-53\"/>\r\n       </defs>\r\n       <use xlink:href=\"#DejaVuSans-50\"/>\r\n       <use x=\"63.623047\" xlink:href=\"#DejaVuSans-48\"/>\r\n       <use x=\"127.246094\" xlink:href=\"#DejaVuSans-49\"/>\r\n       <use x=\"190.869141\" xlink:href=\"#DejaVuSans-53\"/>\r\n      </g>\r\n     </g>\r\n    </g>\r\n    <g id=\"xtick_4\">\r\n     <g id=\"line2d_4\">\r\n      <g>\r\n       <use style=\"stroke:#000000;stroke-width:0.8;\" x=\"444.795677\" xlink:href=\"#m3773166edf\" y=\"442.08\"/>\r\n      </g>\r\n     </g>\r\n     <g id=\"text_4\">\r\n      <!-- 2017 -->\r\n      <g transform=\"translate(432.070677 456.678437)scale(0.1 -0.1)\">\r\n       <defs>\r\n        <path d=\"M 8.203125 72.90625 \r\nL 55.078125 72.90625 \r\nL 55.078125 68.703125 \r\nL 28.609375 0 \r\nL 18.3125 0 \r\nL 43.21875 64.59375 \r\nL 8.203125 64.59375 \r\nz\r\n\" id=\"DejaVuSans-55\"/>\r\n       </defs>\r\n       <use xlink:href=\"#DejaVuSans-50\"/>\r\n       <use x=\"63.623047\" xlink:href=\"#DejaVuSans-48\"/>\r\n       <use x=\"127.246094\" xlink:href=\"#DejaVuSans-49\"/>\r\n       <use x=\"190.869141\" xlink:href=\"#DejaVuSans-55\"/>\r\n      </g>\r\n     </g>\r\n    </g>\r\n    <g id=\"xtick_5\">\r\n     <g id=\"line2d_5\">\r\n      <g>\r\n       <use style=\"stroke:#000000;stroke-width:0.8;\" x=\"565.625752\" xlink:href=\"#m3773166edf\" y=\"442.08\"/>\r\n      </g>\r\n     </g>\r\n     <g id=\"text_5\">\r\n      <!-- 2019 -->\r\n      <g transform=\"translate(552.900752 456.678437)scale(0.1 -0.1)\">\r\n       <defs>\r\n        <path d=\"M 10.984375 1.515625 \r\nL 10.984375 10.5 \r\nQ 14.703125 8.734375 18.5 7.8125 \r\nQ 22.3125 6.890625 25.984375 6.890625 \r\nQ 35.75 6.890625 40.890625 13.453125 \r\nQ 46.046875 20.015625 46.78125 33.40625 \r\nQ 43.953125 29.203125 39.59375 26.953125 \r\nQ 35.25 24.703125 29.984375 24.703125 \r\nQ 19.046875 24.703125 12.671875 31.3125 \r\nQ 6.296875 37.9375 6.296875 49.421875 \r\nQ 6.296875 60.640625 12.9375 67.421875 \r\nQ 19.578125 74.21875 30.609375 74.21875 \r\nQ 43.265625 74.21875 49.921875 64.515625 \r\nQ 56.59375 54.828125 56.59375 36.375 \r\nQ 56.59375 19.140625 48.40625 8.859375 \r\nQ 40.234375 -1.421875 26.421875 -1.421875 \r\nQ 22.703125 -1.421875 18.890625 -0.6875 \r\nQ 15.09375 0.046875 10.984375 1.515625 \r\nz\r\nM 30.609375 32.421875 \r\nQ 37.25 32.421875 41.125 36.953125 \r\nQ 45.015625 41.5 45.015625 49.421875 \r\nQ 45.015625 57.28125 41.125 61.84375 \r\nQ 37.25 66.40625 30.609375 66.40625 \r\nQ 23.96875 66.40625 20.09375 61.84375 \r\nQ 16.21875 57.28125 16.21875 49.421875 \r\nQ 16.21875 41.5 20.09375 36.953125 \r\nQ 23.96875 32.421875 30.609375 32.421875 \r\nz\r\n\" id=\"DejaVuSans-57\"/>\r\n       </defs>\r\n       <use xlink:href=\"#DejaVuSans-50\"/>\r\n       <use x=\"63.623047\" xlink:href=\"#DejaVuSans-48\"/>\r\n       <use x=\"127.246094\" xlink:href=\"#DejaVuSans-49\"/>\r\n       <use x=\"190.869141\" xlink:href=\"#DejaVuSans-57\"/>\r\n      </g>\r\n     </g>\r\n    </g>\r\n    <g id=\"xtick_6\">\r\n     <g id=\"line2d_6\">\r\n      <g>\r\n       <use style=\"stroke:#000000;stroke-width:0.8;\" x=\"686.455827\" xlink:href=\"#m3773166edf\" y=\"442.08\"/>\r\n      </g>\r\n     </g>\r\n     <g id=\"text_6\">\r\n      <!-- 2021 -->\r\n      <g transform=\"translate(673.730827 456.678437)scale(0.1 -0.1)\">\r\n       <use xlink:href=\"#DejaVuSans-50\"/>\r\n       <use x=\"63.623047\" xlink:href=\"#DejaVuSans-48\"/>\r\n       <use x=\"127.246094\" xlink:href=\"#DejaVuSans-50\"/>\r\n       <use x=\"190.869141\" xlink:href=\"#DejaVuSans-49\"/>\r\n      </g>\r\n     </g>\r\n    </g>\r\n    <g id=\"xtick_7\">\r\n     <g id=\"line2d_7\">\r\n      <defs>\r\n       <path d=\"M 0 0 \r\nL 0 2 \r\n\" id=\"maf65119d04\" style=\"stroke:#000000;stroke-width:0.6;\"/>\r\n      </defs>\r\n      <g>\r\n       <use style=\"stroke:#000000;stroke-width:0.6;\" x=\"142.720489\" xlink:href=\"#maf65119d04\" y=\"442.08\"/>\r\n      </g>\r\n     </g>\r\n    </g>\r\n    <g id=\"xtick_8\">\r\n     <g id=\"line2d_8\">\r\n      <g>\r\n       <use style=\"stroke:#000000;stroke-width:0.6;\" x=\"263.550564\" xlink:href=\"#maf65119d04\" y=\"442.08\"/>\r\n      </g>\r\n     </g>\r\n    </g>\r\n    <g id=\"xtick_9\">\r\n     <g id=\"line2d_9\">\r\n      <g>\r\n       <use style=\"stroke:#000000;stroke-width:0.6;\" x=\"384.380639\" xlink:href=\"#maf65119d04\" y=\"442.08\"/>\r\n      </g>\r\n     </g>\r\n    </g>\r\n    <g id=\"xtick_10\">\r\n     <g id=\"line2d_10\">\r\n      <g>\r\n       <use style=\"stroke:#000000;stroke-width:0.6;\" x=\"505.210714\" xlink:href=\"#maf65119d04\" y=\"442.08\"/>\r\n      </g>\r\n     </g>\r\n    </g>\r\n    <g id=\"xtick_11\">\r\n     <g id=\"line2d_11\">\r\n      <g>\r\n       <use style=\"stroke:#000000;stroke-width:0.6;\" x=\"626.040789\" xlink:href=\"#maf65119d04\" y=\"442.08\"/>\r\n      </g>\r\n     </g>\r\n    </g>\r\n    <g id=\"text_7\">\r\n     <!-- date -->\r\n     <g transform=\"translate(350.45 470.356562)scale(0.1 -0.1)\">\r\n      <defs>\r\n       <path d=\"M 45.40625 46.390625 \r\nL 45.40625 75.984375 \r\nL 54.390625 75.984375 \r\nL 54.390625 0 \r\nL 45.40625 0 \r\nL 45.40625 8.203125 \r\nQ 42.578125 3.328125 38.25 0.953125 \r\nQ 33.9375 -1.421875 27.875 -1.421875 \r\nQ 17.96875 -1.421875 11.734375 6.484375 \r\nQ 5.515625 14.40625 5.515625 27.296875 \r\nQ 5.515625 40.1875 11.734375 48.09375 \r\nQ 17.96875 56 27.875 56 \r\nQ 33.9375 56 38.25 53.625 \r\nQ 42.578125 51.265625 45.40625 46.390625 \r\nz\r\nM 14.796875 27.296875 \r\nQ 14.796875 17.390625 18.875 11.75 \r\nQ 22.953125 6.109375 30.078125 6.109375 \r\nQ 37.203125 6.109375 41.296875 11.75 \r\nQ 45.40625 17.390625 45.40625 27.296875 \r\nQ 45.40625 37.203125 41.296875 42.84375 \r\nQ 37.203125 48.484375 30.078125 48.484375 \r\nQ 22.953125 48.484375 18.875 42.84375 \r\nQ 14.796875 37.203125 14.796875 27.296875 \r\nz\r\n\" id=\"DejaVuSans-100\"/>\r\n       <path d=\"M 34.28125 27.484375 \r\nQ 23.390625 27.484375 19.1875 25 \r\nQ 14.984375 22.515625 14.984375 16.5 \r\nQ 14.984375 11.71875 18.140625 8.90625 \r\nQ 21.296875 6.109375 26.703125 6.109375 \r\nQ 34.1875 6.109375 38.703125 11.40625 \r\nQ 43.21875 16.703125 43.21875 25.484375 \r\nL 43.21875 27.484375 \r\nz\r\nM 52.203125 31.203125 \r\nL 52.203125 0 \r\nL 43.21875 0 \r\nL 43.21875 8.296875 \r\nQ 40.140625 3.328125 35.546875 0.953125 \r\nQ 30.953125 -1.421875 24.3125 -1.421875 \r\nQ 15.921875 -1.421875 10.953125 3.296875 \r\nQ 6 8.015625 6 15.921875 \r\nQ 6 25.140625 12.171875 29.828125 \r\nQ 18.359375 34.515625 30.609375 34.515625 \r\nL 43.21875 34.515625 \r\nL 43.21875 35.40625 \r\nQ 43.21875 41.609375 39.140625 45 \r\nQ 35.0625 48.390625 27.6875 48.390625 \r\nQ 23 48.390625 18.546875 47.265625 \r\nQ 14.109375 46.140625 10.015625 43.890625 \r\nL 10.015625 52.203125 \r\nQ 14.9375 54.109375 19.578125 55.046875 \r\nQ 24.21875 56 28.609375 56 \r\nQ 40.484375 56 46.34375 49.84375 \r\nQ 52.203125 43.703125 52.203125 31.203125 \r\nz\r\n\" id=\"DejaVuSans-97\"/>\r\n       <path d=\"M 18.3125 70.21875 \r\nL 18.3125 54.6875 \r\nL 36.8125 54.6875 \r\nL 36.8125 47.703125 \r\nL 18.3125 47.703125 \r\nL 18.3125 18.015625 \r\nQ 18.3125 11.328125 20.140625 9.421875 \r\nQ 21.96875 7.515625 27.59375 7.515625 \r\nL 36.8125 7.515625 \r\nL 36.8125 0 \r\nL 27.59375 0 \r\nQ 17.1875 0 13.234375 3.875 \r\nQ 9.28125 7.765625 9.28125 18.015625 \r\nL 9.28125 47.703125 \r\nL 2.6875 47.703125 \r\nL 2.6875 54.6875 \r\nL 9.28125 54.6875 \r\nL 9.28125 70.21875 \r\nz\r\n\" id=\"DejaVuSans-116\"/>\r\n       <path d=\"M 56.203125 29.59375 \r\nL 56.203125 25.203125 \r\nL 14.890625 25.203125 \r\nQ 15.484375 15.921875 20.484375 11.0625 \r\nQ 25.484375 6.203125 34.421875 6.203125 \r\nQ 39.59375 6.203125 44.453125 7.46875 \r\nQ 49.3125 8.734375 54.109375 11.28125 \r\nL 54.109375 2.78125 \r\nQ 49.265625 0.734375 44.1875 -0.34375 \r\nQ 39.109375 -1.421875 33.890625 -1.421875 \r\nQ 20.796875 -1.421875 13.15625 6.1875 \r\nQ 5.515625 13.8125 5.515625 26.8125 \r\nQ 5.515625 40.234375 12.765625 48.109375 \r\nQ 20.015625 56 32.328125 56 \r\nQ 43.359375 56 49.78125 48.890625 \r\nQ 56.203125 41.796875 56.203125 29.59375 \r\nz\r\nM 47.21875 32.234375 \r\nQ 47.125 39.59375 43.09375 43.984375 \r\nQ 39.0625 48.390625 32.421875 48.390625 \r\nQ 24.90625 48.390625 20.390625 44.140625 \r\nQ 15.875 39.890625 15.1875 32.171875 \r\nz\r\n\" id=\"DejaVuSans-101\"/>\r\n      </defs>\r\n      <use xlink:href=\"#DejaVuSans-100\"/>\r\n      <use x=\"63.476562\" xlink:href=\"#DejaVuSans-97\"/>\r\n      <use x=\"124.755859\" xlink:href=\"#DejaVuSans-116\"/>\r\n      <use x=\"163.964844\" xlink:href=\"#DejaVuSans-101\"/>\r\n     </g>\r\n    </g>\r\n   </g>\r\n   <g id=\"matplotlib.axis_2\">\r\n    <g id=\"ytick_1\">\r\n     <g id=\"line2d_12\">\r\n      <defs>\r\n       <path d=\"M 0 0 \r\nL -3.5 0 \r\n\" id=\"m425387b714\" style=\"stroke:#000000;stroke-width:0.8;\"/>\r\n      </defs>\r\n      <g>\r\n       <use style=\"stroke:#000000;stroke-width:0.8;\" x=\"26.925\" xlink:href=\"#m425387b714\" y=\"415.051601\"/>\r\n      </g>\r\n     </g>\r\n     <g id=\"text_8\">\r\n      <!-- 0 -->\r\n      <g transform=\"translate(13.5625 418.850819)scale(0.1 -0.1)\">\r\n       <use xlink:href=\"#DejaVuSans-48\"/>\r\n      </g>\r\n     </g>\r\n    </g>\r\n    <g id=\"ytick_2\">\r\n     <g id=\"line2d_13\">\r\n      <g>\r\n       <use style=\"stroke:#000000;stroke-width:0.8;\" x=\"26.925\" xlink:href=\"#m425387b714\" y=\"346.380884\"/>\r\n      </g>\r\n     </g>\r\n     <g id=\"text_9\">\r\n      <!-- 2 -->\r\n      <g transform=\"translate(13.5625 350.180103)scale(0.1 -0.1)\">\r\n       <use xlink:href=\"#DejaVuSans-50\"/>\r\n      </g>\r\n     </g>\r\n    </g>\r\n    <g id=\"ytick_3\">\r\n     <g id=\"line2d_14\">\r\n      <g>\r\n       <use style=\"stroke:#000000;stroke-width:0.8;\" x=\"26.925\" xlink:href=\"#m425387b714\" y=\"277.710168\"/>\r\n      </g>\r\n     </g>\r\n     <g id=\"text_10\">\r\n      <!-- 4 -->\r\n      <g transform=\"translate(13.5625 281.509387)scale(0.1 -0.1)\">\r\n       <defs>\r\n        <path d=\"M 37.796875 64.3125 \r\nL 12.890625 25.390625 \r\nL 37.796875 25.390625 \r\nz\r\nM 35.203125 72.90625 \r\nL 47.609375 72.90625 \r\nL 47.609375 25.390625 \r\nL 58.015625 25.390625 \r\nL 58.015625 17.1875 \r\nL 47.609375 17.1875 \r\nL 47.609375 0 \r\nL 37.796875 0 \r\nL 37.796875 17.1875 \r\nL 4.890625 17.1875 \r\nL 4.890625 26.703125 \r\nz\r\n\" id=\"DejaVuSans-52\"/>\r\n       </defs>\r\n       <use xlink:href=\"#DejaVuSans-52\"/>\r\n      </g>\r\n     </g>\r\n    </g>\r\n    <g id=\"ytick_4\">\r\n     <g id=\"line2d_15\">\r\n      <g>\r\n       <use style=\"stroke:#000000;stroke-width:0.8;\" x=\"26.925\" xlink:href=\"#m425387b714\" y=\"209.039451\"/>\r\n      </g>\r\n     </g>\r\n     <g id=\"text_11\">\r\n      <!-- 6 -->\r\n      <g transform=\"translate(13.5625 212.83867)scale(0.1 -0.1)\">\r\n       <defs>\r\n        <path d=\"M 33.015625 40.375 \r\nQ 26.375 40.375 22.484375 35.828125 \r\nQ 18.609375 31.296875 18.609375 23.390625 \r\nQ 18.609375 15.53125 22.484375 10.953125 \r\nQ 26.375 6.390625 33.015625 6.390625 \r\nQ 39.65625 6.390625 43.53125 10.953125 \r\nQ 47.40625 15.53125 47.40625 23.390625 \r\nQ 47.40625 31.296875 43.53125 35.828125 \r\nQ 39.65625 40.375 33.015625 40.375 \r\nz\r\nM 52.59375 71.296875 \r\nL 52.59375 62.3125 \r\nQ 48.875 64.0625 45.09375 64.984375 \r\nQ 41.3125 65.921875 37.59375 65.921875 \r\nQ 27.828125 65.921875 22.671875 59.328125 \r\nQ 17.53125 52.734375 16.796875 39.40625 \r\nQ 19.671875 43.65625 24.015625 45.921875 \r\nQ 28.375 48.1875 33.59375 48.1875 \r\nQ 44.578125 48.1875 50.953125 41.515625 \r\nQ 57.328125 34.859375 57.328125 23.390625 \r\nQ 57.328125 12.15625 50.6875 5.359375 \r\nQ 44.046875 -1.421875 33.015625 -1.421875 \r\nQ 20.359375 -1.421875 13.671875 8.265625 \r\nQ 6.984375 17.96875 6.984375 36.375 \r\nQ 6.984375 53.65625 15.1875 63.9375 \r\nQ 23.390625 74.21875 37.203125 74.21875 \r\nQ 40.921875 74.21875 44.703125 73.484375 \r\nQ 48.484375 72.75 52.59375 71.296875 \r\nz\r\n\" id=\"DejaVuSans-54\"/>\r\n       </defs>\r\n       <use xlink:href=\"#DejaVuSans-54\"/>\r\n      </g>\r\n     </g>\r\n    </g>\r\n    <g id=\"ytick_5\">\r\n     <g id=\"line2d_16\">\r\n      <g>\r\n       <use style=\"stroke:#000000;stroke-width:0.8;\" x=\"26.925\" xlink:href=\"#m425387b714\" y=\"140.368735\"/>\r\n      </g>\r\n     </g>\r\n     <g id=\"text_12\">\r\n      <!-- 8 -->\r\n      <g transform=\"translate(13.5625 144.167954)scale(0.1 -0.1)\">\r\n       <defs>\r\n        <path d=\"M 31.78125 34.625 \r\nQ 24.75 34.625 20.71875 30.859375 \r\nQ 16.703125 27.09375 16.703125 20.515625 \r\nQ 16.703125 13.921875 20.71875 10.15625 \r\nQ 24.75 6.390625 31.78125 6.390625 \r\nQ 38.8125 6.390625 42.859375 10.171875 \r\nQ 46.921875 13.96875 46.921875 20.515625 \r\nQ 46.921875 27.09375 42.890625 30.859375 \r\nQ 38.875 34.625 31.78125 34.625 \r\nz\r\nM 21.921875 38.8125 \r\nQ 15.578125 40.375 12.03125 44.71875 \r\nQ 8.5 49.078125 8.5 55.328125 \r\nQ 8.5 64.0625 14.71875 69.140625 \r\nQ 20.953125 74.21875 31.78125 74.21875 \r\nQ 42.671875 74.21875 48.875 69.140625 \r\nQ 55.078125 64.0625 55.078125 55.328125 \r\nQ 55.078125 49.078125 51.53125 44.71875 \r\nQ 48 40.375 41.703125 38.8125 \r\nQ 48.828125 37.15625 52.796875 32.3125 \r\nQ 56.78125 27.484375 56.78125 20.515625 \r\nQ 56.78125 9.90625 50.3125 4.234375 \r\nQ 43.84375 -1.421875 31.78125 -1.421875 \r\nQ 19.734375 -1.421875 13.25 4.234375 \r\nQ 6.78125 9.90625 6.78125 20.515625 \r\nQ 6.78125 27.484375 10.78125 32.3125 \r\nQ 14.796875 37.15625 21.921875 38.8125 \r\nz\r\nM 18.3125 54.390625 \r\nQ 18.3125 48.734375 21.84375 45.5625 \r\nQ 25.390625 42.390625 31.78125 42.390625 \r\nQ 38.140625 42.390625 41.71875 45.5625 \r\nQ 45.3125 48.734375 45.3125 54.390625 \r\nQ 45.3125 60.0625 41.71875 63.234375 \r\nQ 38.140625 66.40625 31.78125 66.40625 \r\nQ 25.390625 66.40625 21.84375 63.234375 \r\nQ 18.3125 60.0625 18.3125 54.390625 \r\nz\r\n\" id=\"DejaVuSans-56\"/>\r\n       </defs>\r\n       <use xlink:href=\"#DejaVuSans-56\"/>\r\n      </g>\r\n     </g>\r\n    </g>\r\n    <g id=\"ytick_6\">\r\n     <g id=\"line2d_17\">\r\n      <g>\r\n       <use style=\"stroke:#000000;stroke-width:0.8;\" x=\"26.925\" xlink:href=\"#m425387b714\" y=\"71.698019\"/>\r\n      </g>\r\n     </g>\r\n     <g id=\"text_13\">\r\n      <!-- 10 -->\r\n      <g transform=\"translate(7.2 75.497237)scale(0.1 -0.1)\">\r\n       <use xlink:href=\"#DejaVuSans-49\"/>\r\n       <use x=\"63.623047\" xlink:href=\"#DejaVuSans-48\"/>\r\n      </g>\r\n     </g>\r\n    </g>\r\n   </g>\r\n   <g id=\"line2d_18\">\r\n    <path clip-path=\"url(#pb56c98e1f9)\" d=\"M 31.959586 410.851917 \r\nL 36.994173 406.67212 \r\nL 42.028759 407.578153 \r\nL 47.063346 409.50044 \r\nL 52.097932 404.744827 \r\nL 57.132519 404.903199 \r\nL 62.167105 397.404746 \r\nL 67.201692 392.794474 \r\nL 72.236278 387.430391 \r\nL 77.270865 386.079183 \r\nL 82.305451 385.299815 \r\nL 87.340038 382.163305 \r\nL 92.374624 379.862443 \r\nL 97.409211 376.514558 \r\nL 102.443797 376.973586 \r\nL 107.478383 376.664499 \r\nL 112.51297 378.675537 \r\nL 117.547556 384.700396 \r\nL 122.582143 392.475274 \r\nL 127.616729 382.080045 \r\nL 132.651316 381.953749 \r\nL 137.685902 382.782447 \r\nL 142.720489 378.639638 \r\nL 147.755075 373.756517 \r\nL 152.789662 370.607785 \r\nL 157.824248 368.228159 \r\nL 162.858835 371.814363 \r\nL 167.893421 369.270334 \r\nL 172.928008 369.628643 \r\nL 177.962594 365.886032 \r\nL 182.99718 363.494848 \r\nL 188.031767 364.867134 \r\nL 193.066353 362.863414 \r\nL 198.10094 362.224552 \r\nL 203.135526 355.076933 \r\nL 208.170113 353.049377 \r\nL 213.204699 347.761929 \r\nL 218.239286 346.64429 \r\nL 223.273872 344.146738 \r\nL 228.308459 346.952605 \r\nL 233.343045 337.905872 \r\nL 238.377632 338.670896 \r\nL 243.412218 329.899302 \r\nL 248.446805 323.217993 \r\nL 253.481391 317.682473 \r\nL 258.515977 313.181317 \r\nL 263.550564 308.406364 \r\nL 268.58515 300.435026 \r\nL 273.619737 305.85254 \r\nL 278.654323 309.251797 \r\nL 283.68891 301.684139 \r\nL 288.723496 297.160707 \r\nL 293.758083 298.966365 \r\nL 298.792669 291.392444 \r\nL 303.827256 295.941777 \r\nL 313.896429 283.496284 \r\nL 318.931015 283.044692 \r\nL 323.965602 282.433048 \r\nL 329.000188 274.70577 \r\nL 334.034774 274.02966 \r\nL 339.069361 279.115283 \r\nL 344.103947 273.202838 \r\nL 349.138534 272.947886 \r\nL 354.17312 267.430398 \r\nL 359.207707 274.309184 \r\nL 364.242293 279.64787 \r\nL 369.27688 272.43002 \r\nL 374.311466 268.472712 \r\nL 379.346053 270.55353 \r\nL 384.380639 281.052775 \r\nL 389.415226 283.568634 \r\nL 394.449812 271.641424 \r\nL 399.484398 274.102365 \r\nL 404.518985 265.349693 \r\nL 409.553571 257.868993 \r\nL 414.588158 248.44506 \r\nL 419.622744 250.052344 \r\nL 424.657331 248.142886 \r\nL 429.691917 253.286104 \r\nL 434.726504 250.419625 \r\nL 439.76109 247.262197 \r\nL 444.795677 241.110829 \r\nL 449.830263 235.442784 \r\nL 459.899436 237.683104 \r\nL 464.934023 238.475825 \r\nL 469.968609 242.275794 \r\nL 475.003195 235.840604 \r\nL 480.037782 228.995501 \r\nL 485.072368 220.698011 \r\nL 490.106955 209.021213 \r\nL 495.141541 206.195893 \r\nL 500.176128 207.510142 \r\nL 505.210714 188.698521 \r\nL 510.245301 192.725331 \r\nL 515.279887 191.103379 \r\nL 520.314474 191.412352 \r\nL 525.34906 175.100204 \r\nL 535.418233 169.424372 \r\nL 540.45282 152.834089 \r\nL 545.487406 155.292111 \r\nL 550.521992 191.885884 \r\nL 555.556579 192.494387 \r\nL 560.591165 216.106261 \r\nL 565.625752 193.833915 \r\nL 570.660338 179.302287 \r\nL 575.694925 175.060662 \r\nL 580.729511 173.770039 \r\nL 585.764098 181.320771 \r\nL 590.798684 165.173927 \r\nL 595.833271 156.685376 \r\nL 600.867857 152.697371 \r\nL 605.902444 157.943359 \r\nL 610.93703 160.915784 \r\nL 615.971617 154.919721 \r\nL 621.006203 147.496811 \r\nL 626.040789 137.707952 \r\nL 631.075376 154.42846 \r\nL 636.109962 196.197154 \r\nL 641.144549 158.341657 \r\nL 646.179135 132.058359 \r\nL 651.213722 120.274173 \r\nL 656.248308 91.861474 \r\nL 661.282895 69.50944 \r\nL 666.317481 82.122894 \r\nL 671.352068 90.223007 \r\nL 676.386654 57.36965 \r\nL 681.421241 30.983095 \r\nL 686.455827 26.967273 \r\nL 691.490414 27.342601 \r\nL 696.525 39.94676 \r\nL 696.525 39.94676 \r\n\" style=\"fill:none;stroke:#1f77b4;stroke-linecap:square;stroke-width:1.5;\"/>\r\n   </g>\r\n   <g id=\"line2d_19\">\r\n    <path clip-path=\"url(#pb56c98e1f9)\" d=\"M 31.959586 413.787292 \r\nL 36.994173 413.718692 \r\nL 42.028759 417.347331 \r\nL 47.063346 420.381157 \r\nL 52.097932 419.785742 \r\nL 57.132519 422.312727 \r\nL 62.167105 419.864991 \r\nL 67.201692 419.623867 \r\nL 72.236278 420.464436 \r\nL 77.270865 417.792979 \r\nL 82.305451 416.142123 \r\nL 87.340038 415.450666 \r\nL 92.374624 415.096159 \r\nL 97.409211 413.676681 \r\nL 102.443797 413.745421 \r\nL 107.478383 414.733596 \r\nL 112.51297 416.267939 \r\nL 117.547556 418.569472 \r\nL 122.582143 420.739782 \r\nL 127.616729 417.17347 \r\nL 132.651316 417.732823 \r\nL 137.685902 417.801843 \r\nL 142.720489 412.239888 \r\nL 147.755075 409.675719 \r\nL 152.789662 408.414902 \r\nL 157.824248 410.672315 \r\nL 162.858835 413.987841 \r\nL 167.893421 413.368548 \r\nL 172.928008 412.979645 \r\nL 177.962594 411.298894 \r\nL 182.99718 410.196318 \r\nL 188.031767 410.940303 \r\nL 193.066353 410.138835 \r\nL 198.10094 408.147899 \r\nL 203.135526 403.683861 \r\nL 208.170113 403.397026 \r\nL 213.204699 401.15259 \r\nL 218.239286 400.685364 \r\nL 223.273872 397.687829 \r\nL 228.308459 398.325877 \r\nL 233.343045 395.79141 \r\nL 238.377632 396.774595 \r\nL 243.412218 395.530976 \r\nL 248.446805 393.378075 \r\nL 253.481391 393.291453 \r\nL 258.515977 391.334339 \r\nL 263.550564 390.210059 \r\nL 268.58515 387.197993 \r\nL 273.619737 387.188986 \r\nL 278.654323 385.56014 \r\nL 283.68891 384.471473 \r\nL 288.723496 382.013723 \r\nL 293.758083 381.952051 \r\nL 298.792669 377.762341 \r\nL 303.827256 378.985452 \r\nL 308.861842 377.724003 \r\nL 313.896429 373.444318 \r\nL 318.931015 373.841311 \r\nL 323.965602 375.980627 \r\nL 329.000188 368.988554 \r\nL 334.034774 371.377157 \r\nL 339.069361 368.091354 \r\nL 344.103947 369.922835 \r\nL 349.138534 373.100537 \r\nL 354.17312 377.816478 \r\nL 359.207707 383.117115 \r\nL 364.242293 388.790673 \r\nL 369.27688 382.248222 \r\nL 374.311466 382.450852 \r\nL 379.346053 384.258338 \r\nL 384.380639 389.683719 \r\nL 389.415226 386.580453 \r\nL 394.449812 379.718677 \r\nL 399.484398 376.467564 \r\nL 404.518985 374.613348 \r\nL 409.553571 375.205141 \r\nL 414.588158 370.532594 \r\nL 419.622744 366.311738 \r\nL 424.657331 365.333991 \r\nL 429.691917 368.328445 \r\nL 434.726504 361.740139 \r\nL 439.76109 361.0208 \r\nL 444.795677 358.346473 \r\nL 449.830263 355.144093 \r\nL 454.86485 356.936053 \r\nL 459.899436 355.280514 \r\nL 464.934023 356.984848 \r\nL 469.968609 354.171627 \r\nL 475.003195 352.657757 \r\nL 480.037782 355.510365 \r\nL 485.072368 350.638656 \r\nL 490.106955 353.842521 \r\nL 495.141541 345.671521 \r\nL 500.176128 341.037788 \r\nL 505.210714 336.018149 \r\nL 510.245301 342.675549 \r\nL 515.279887 343.596592 \r\nL 520.314474 339.503335 \r\nL 525.34906 339.850344 \r\nL 530.383647 334.310278 \r\nL 535.418233 331.365845 \r\nL 540.45282 330.634278 \r\nL 545.487406 330.932117 \r\nL 550.521992 336.20242 \r\nL 555.556579 331.33012 \r\nL 560.591165 346.32532 \r\nL 565.625752 328.99672 \r\nL 570.660338 325.121775 \r\nL 575.694925 325.176744 \r\nL 580.729511 317.356147 \r\nL 585.764098 335.05895 \r\nL 590.798684 319.660247 \r\nL 595.833271 317.047733 \r\nL 600.867857 332.419593 \r\nL 605.902444 323.377701 \r\nL 610.93703 320.309216 \r\nL 615.971617 315.702139 \r\nL 621.006203 308.516367 \r\nL 626.040789 316.551984 \r\nL 631.075376 332.405413 \r\nL 636.109962 371.350949 \r\nL 641.144549 350.147322 \r\nL 646.179135 348.247224 \r\nL 651.213722 338.102064 \r\nL 656.248308 340.229947 \r\nL 661.282895 330.533139 \r\nL 666.317481 336.66271 \r\nL 671.352068 336.761073 \r\nL 676.386654 301.733483 \r\nL 681.421241 291.389051 \r\nL 686.455827 290.084751 \r\nL 691.490414 256.080822 \r\nL 696.525 245.311462 \r\nL 696.525 245.311462 \r\n\" style=\"fill:none;stroke:#ff7f0e;stroke-linecap:square;stroke-width:1.5;\"/>\r\n   </g>\r\n   <g id=\"line2d_20\">\r\n    <path clip-path=\"url(#pb56c98e1f9)\" d=\"M 26.925 414.072573 \r\nL 31.959586 411.996213 \r\nL 36.994173 411.444355 \r\nL 42.028759 414.554732 \r\nL 47.063346 416.431577 \r\nL 52.097932 414.164977 \r\nL 57.132519 415.836231 \r\nL 62.167105 412.898828 \r\nL 67.201692 411.554021 \r\nL 72.236278 411.640668 \r\nL 77.270865 409.175834 \r\nL 82.305451 408.26523 \r\nL 87.340038 406.951121 \r\nL 92.374624 406.995564 \r\nL 97.409211 405.787606 \r\nL 102.443797 406.376238 \r\nL 107.478383 407.161505 \r\nL 112.51297 408.068272 \r\nL 117.547556 410.414806 \r\nL 122.582143 413.211525 \r\nL 127.616729 409.314598 \r\nL 132.651316 409.517312 \r\nL 137.685902 409.177114 \r\nL 147.755075 405.721418 \r\nL 152.789662 404.353276 \r\nL 157.824248 404.690914 \r\nL 162.858835 407.491153 \r\nL 167.893421 405.833966 \r\nL 172.928008 405.285303 \r\nL 177.962594 404.413706 \r\nL 182.99718 403.323727 \r\nL 188.031767 404.235292 \r\nL 193.066353 404.106758 \r\nL 198.10094 403.786707 \r\nL 203.135526 401.487173 \r\nL 208.170113 400.95737 \r\nL 213.204699 399.214499 \r\nL 218.239286 398.307092 \r\nL 223.273872 397.24653 \r\nL 228.308459 398.0286 \r\nL 233.343045 395.488309 \r\nL 238.377632 397.17523 \r\nL 243.412218 395.621956 \r\nL 248.446805 393.224265 \r\nL 253.481391 391.648931 \r\nL 258.515977 390.288462 \r\nL 263.550564 392.391359 \r\nL 268.58515 389.933878 \r\nL 278.654323 389.150527 \r\nL 288.723496 386.71159 \r\nL 293.758083 387.656723 \r\nL 298.792669 385.332253 \r\nL 303.827256 386.325988 \r\nL 308.861842 384.862881 \r\nL 313.896429 383.279874 \r\nL 318.931015 383.556769 \r\nL 323.965602 385.600191 \r\nL 329.000188 382.098775 \r\nL 334.034774 383.269328 \r\nL 339.069361 382.705951 \r\nL 344.103947 382.006375 \r\nL 349.138534 383.422154 \r\nL 354.17312 382.119875 \r\nL 359.207707 386.329504 \r\nL 364.242293 387.996922 \r\nL 369.27688 382.902585 \r\nL 374.311466 382.869019 \r\nL 379.346053 384.035091 \r\nL 384.380639 387.350739 \r\nL 389.415226 387.606847 \r\nL 394.449812 383.529908 \r\nL 399.484398 383.352134 \r\nL 404.518985 382.340177 \r\nL 409.553571 382.279102 \r\nL 414.588158 379.889405 \r\nL 424.657331 380.059826 \r\nL 429.691917 381.406553 \r\nL 434.726504 379.083355 \r\nL 444.795677 376.523556 \r\nL 449.830263 373.813172 \r\nL 454.86485 373.842585 \r\nL 459.899436 373.155795 \r\nL 464.934023 372.273324 \r\nL 469.968609 371.902116 \r\nL 475.003195 370.402876 \r\nL 480.037782 370.359716 \r\nL 485.072368 368.834255 \r\nL 490.106955 367.046941 \r\nL 495.141541 364.734617 \r\nL 500.176128 363.902346 \r\nL 505.210714 359.099931 \r\nL 510.245301 362.616374 \r\nL 515.279887 364.949157 \r\nL 520.314474 364.71959 \r\nL 525.34906 362.890069 \r\nL 530.383647 362.471213 \r\nL 535.418233 359.340372 \r\nL 540.45282 356.615274 \r\nL 545.487406 356.216885 \r\nL 550.521992 362.683201 \r\nL 555.556579 361.134728 \r\nL 560.591165 369.234243 \r\nL 565.625752 362.927475 \r\nL 570.660338 360.357131 \r\nL 575.694925 358.761337 \r\nL 580.729511 355.198527 \r\nL 585.764098 361.394028 \r\nL 590.798684 355.328661 \r\nL 595.833271 354.093849 \r\nL 600.867857 355.817857 \r\nL 605.902444 354.21023 \r\nL 610.93703 352.2656 \r\nL 615.971617 348.958906 \r\nL 621.006203 346.087686 \r\nL 626.040789 346.255867 \r\nL 631.075376 354.930273 \r\nL 636.109962 366.748626 \r\nL 641.144549 356.266446 \r\nL 646.179135 352.049779 \r\nL 651.213722 350.259905 \r\nL 656.248308 344.797873 \r\nL 661.282895 337.469874 \r\nL 666.317481 341.860154 \r\nL 671.352068 344.834967 \r\nL 676.386654 333.590857 \r\nL 681.421241 329.292337 \r\nL 686.455827 330.62979 \r\nL 691.490414 327.531243 \r\nL 696.525 326.546778 \r\nL 696.525 326.546778 \r\n\" style=\"fill:none;stroke:#2ca02c;stroke-linecap:square;stroke-width:1.5;\"/>\r\n   </g>\r\n   <g id=\"patch_3\">\r\n    <path d=\"M 26.925 442.08 \r\nL 26.925 7.2 \r\n\" style=\"fill:none;stroke:#000000;stroke-linecap:square;stroke-linejoin:miter;stroke-width:0.8;\"/>\r\n   </g>\r\n   <g id=\"patch_4\">\r\n    <path d=\"M 696.525 442.08 \r\nL 696.525 7.2 \r\n\" style=\"fill:none;stroke:#000000;stroke-linecap:square;stroke-linejoin:miter;stroke-width:0.8;\"/>\r\n   </g>\r\n   <g id=\"patch_5\">\r\n    <path d=\"M 26.925 442.08 \r\nL 696.525 442.08 \r\n\" style=\"fill:none;stroke:#000000;stroke-linecap:square;stroke-linejoin:miter;stroke-width:0.8;\"/>\r\n   </g>\r\n   <g id=\"patch_6\">\r\n    <path d=\"M 26.925 7.2 \r\nL 696.525 7.2 \r\n\" style=\"fill:none;stroke:#000000;stroke-linecap:square;stroke-linejoin:miter;stroke-width:0.8;\"/>\r\n   </g>\r\n   <g id=\"legend_1\">\r\n    <g id=\"patch_7\">\r\n     <path d=\"M 33.925 59.790625 \r\nL 127.095313 59.790625 \r\nQ 129.095313 59.790625 129.095313 57.790625 \r\nL 129.095313 14.2 \r\nQ 129.095313 12.2 127.095313 12.2 \r\nL 33.925 12.2 \r\nQ 31.925 12.2 31.925 14.2 \r\nL 31.925 57.790625 \r\nQ 31.925 59.790625 33.925 59.790625 \r\nz\r\n\" style=\"fill:#ffffff;opacity:0.8;stroke:#cccccc;stroke-linejoin:miter;\"/>\r\n    </g>\r\n    <g id=\"line2d_21\">\r\n     <path d=\"M 35.925 20.298437 \r\nL 55.925 20.298437 \r\n\" style=\"fill:none;stroke:#1f77b4;stroke-linecap:square;stroke-width:1.5;\"/>\r\n    </g>\r\n    <g id=\"line2d_22\"/>\r\n    <g id=\"text_14\">\r\n     <!-- mom_return -->\r\n     <g transform=\"translate(63.925 23.798437)scale(0.1 -0.1)\">\r\n      <defs>\r\n       <path d=\"M 52 44.1875 \r\nQ 55.375 50.25 60.0625 53.125 \r\nQ 64.75 56 71.09375 56 \r\nQ 79.640625 56 84.28125 50.015625 \r\nQ 88.921875 44.046875 88.921875 33.015625 \r\nL 88.921875 0 \r\nL 79.890625 0 \r\nL 79.890625 32.71875 \r\nQ 79.890625 40.578125 77.09375 44.375 \r\nQ 74.3125 48.1875 68.609375 48.1875 \r\nQ 61.625 48.1875 57.5625 43.546875 \r\nQ 53.515625 38.921875 53.515625 30.90625 \r\nL 53.515625 0 \r\nL 44.484375 0 \r\nL 44.484375 32.71875 \r\nQ 44.484375 40.625 41.703125 44.40625 \r\nQ 38.921875 48.1875 33.109375 48.1875 \r\nQ 26.21875 48.1875 22.15625 43.53125 \r\nQ 18.109375 38.875 18.109375 30.90625 \r\nL 18.109375 0 \r\nL 9.078125 0 \r\nL 9.078125 54.6875 \r\nL 18.109375 54.6875 \r\nL 18.109375 46.1875 \r\nQ 21.1875 51.21875 25.484375 53.609375 \r\nQ 29.78125 56 35.6875 56 \r\nQ 41.65625 56 45.828125 52.96875 \r\nQ 50 49.953125 52 44.1875 \r\nz\r\n\" id=\"DejaVuSans-109\"/>\r\n       <path d=\"M 30.609375 48.390625 \r\nQ 23.390625 48.390625 19.1875 42.75 \r\nQ 14.984375 37.109375 14.984375 27.296875 \r\nQ 14.984375 17.484375 19.15625 11.84375 \r\nQ 23.34375 6.203125 30.609375 6.203125 \r\nQ 37.796875 6.203125 41.984375 11.859375 \r\nQ 46.1875 17.53125 46.1875 27.296875 \r\nQ 46.1875 37.015625 41.984375 42.703125 \r\nQ 37.796875 48.390625 30.609375 48.390625 \r\nz\r\nM 30.609375 56 \r\nQ 42.328125 56 49.015625 48.375 \r\nQ 55.71875 40.765625 55.71875 27.296875 \r\nQ 55.71875 13.875 49.015625 6.21875 \r\nQ 42.328125 -1.421875 30.609375 -1.421875 \r\nQ 18.84375 -1.421875 12.171875 6.21875 \r\nQ 5.515625 13.875 5.515625 27.296875 \r\nQ 5.515625 40.765625 12.171875 48.375 \r\nQ 18.84375 56 30.609375 56 \r\nz\r\n\" id=\"DejaVuSans-111\"/>\r\n       <path d=\"M 50.984375 -16.609375 \r\nL 50.984375 -23.578125 \r\nL -0.984375 -23.578125 \r\nL -0.984375 -16.609375 \r\nz\r\n\" id=\"DejaVuSans-95\"/>\r\n       <path d=\"M 41.109375 46.296875 \r\nQ 39.59375 47.171875 37.8125 47.578125 \r\nQ 36.03125 48 33.890625 48 \r\nQ 26.265625 48 22.1875 43.046875 \r\nQ 18.109375 38.09375 18.109375 28.8125 \r\nL 18.109375 0 \r\nL 9.078125 0 \r\nL 9.078125 54.6875 \r\nL 18.109375 54.6875 \r\nL 18.109375 46.1875 \r\nQ 20.953125 51.171875 25.484375 53.578125 \r\nQ 30.03125 56 36.53125 56 \r\nQ 37.453125 56 38.578125 55.875 \r\nQ 39.703125 55.765625 41.0625 55.515625 \r\nz\r\n\" id=\"DejaVuSans-114\"/>\r\n       <path d=\"M 8.5 21.578125 \r\nL 8.5 54.6875 \r\nL 17.484375 54.6875 \r\nL 17.484375 21.921875 \r\nQ 17.484375 14.15625 20.5 10.265625 \r\nQ 23.53125 6.390625 29.59375 6.390625 \r\nQ 36.859375 6.390625 41.078125 11.03125 \r\nQ 45.3125 15.671875 45.3125 23.6875 \r\nL 45.3125 54.6875 \r\nL 54.296875 54.6875 \r\nL 54.296875 0 \r\nL 45.3125 0 \r\nL 45.3125 8.40625 \r\nQ 42.046875 3.421875 37.71875 1 \r\nQ 33.40625 -1.421875 27.6875 -1.421875 \r\nQ 18.265625 -1.421875 13.375 4.4375 \r\nQ 8.5 10.296875 8.5 21.578125 \r\nz\r\nM 31.109375 56 \r\nz\r\n\" id=\"DejaVuSans-117\"/>\r\n       <path d=\"M 54.890625 33.015625 \r\nL 54.890625 0 \r\nL 45.90625 0 \r\nL 45.90625 32.71875 \r\nQ 45.90625 40.484375 42.875 44.328125 \r\nQ 39.84375 48.1875 33.796875 48.1875 \r\nQ 26.515625 48.1875 22.3125 43.546875 \r\nQ 18.109375 38.921875 18.109375 30.90625 \r\nL 18.109375 0 \r\nL 9.078125 0 \r\nL 9.078125 54.6875 \r\nL 18.109375 54.6875 \r\nL 18.109375 46.1875 \r\nQ 21.34375 51.125 25.703125 53.5625 \r\nQ 30.078125 56 35.796875 56 \r\nQ 45.21875 56 50.046875 50.171875 \r\nQ 54.890625 44.34375 54.890625 33.015625 \r\nz\r\n\" id=\"DejaVuSans-110\"/>\r\n      </defs>\r\n      <use xlink:href=\"#DejaVuSans-109\"/>\r\n      <use x=\"97.412109\" xlink:href=\"#DejaVuSans-111\"/>\r\n      <use x=\"158.59375\" xlink:href=\"#DejaVuSans-109\"/>\r\n      <use x=\"256.005859\" xlink:href=\"#DejaVuSans-95\"/>\r\n      <use x=\"306.005859\" xlink:href=\"#DejaVuSans-114\"/>\r\n      <use x=\"344.869141\" xlink:href=\"#DejaVuSans-101\"/>\r\n      <use x=\"406.392578\" xlink:href=\"#DejaVuSans-116\"/>\r\n      <use x=\"445.601562\" xlink:href=\"#DejaVuSans-117\"/>\r\n      <use x=\"508.980469\" xlink:href=\"#DejaVuSans-114\"/>\r\n      <use x=\"548.34375\" xlink:href=\"#DejaVuSans-110\"/>\r\n     </g>\r\n    </g>\r\n    <g id=\"line2d_23\">\r\n     <path d=\"M 35.925 35.254687 \r\nL 55.925 35.254687 \r\n\" style=\"fill:none;stroke:#ff7f0e;stroke-linecap:square;stroke-width:1.5;\"/>\r\n    </g>\r\n    <g id=\"line2d_24\"/>\r\n    <g id=\"text_15\">\r\n     <!-- rev_return -->\r\n     <g transform=\"translate(63.925 38.754687)scale(0.1 -0.1)\">\r\n      <defs>\r\n       <path d=\"M 2.984375 54.6875 \r\nL 12.5 54.6875 \r\nL 29.59375 8.796875 \r\nL 46.6875 54.6875 \r\nL 56.203125 54.6875 \r\nL 35.6875 0 \r\nL 23.484375 0 \r\nz\r\n\" id=\"DejaVuSans-118\"/>\r\n      </defs>\r\n      <use xlink:href=\"#DejaVuSans-114\"/>\r\n      <use x=\"38.863281\" xlink:href=\"#DejaVuSans-101\"/>\r\n      <use x=\"100.386719\" xlink:href=\"#DejaVuSans-118\"/>\r\n      <use x=\"159.566406\" xlink:href=\"#DejaVuSans-95\"/>\r\n      <use x=\"209.566406\" xlink:href=\"#DejaVuSans-114\"/>\r\n      <use x=\"248.429688\" xlink:href=\"#DejaVuSans-101\"/>\r\n      <use x=\"309.953125\" xlink:href=\"#DejaVuSans-116\"/>\r\n      <use x=\"349.162109\" xlink:href=\"#DejaVuSans-117\"/>\r\n      <use x=\"412.541016\" xlink:href=\"#DejaVuSans-114\"/>\r\n      <use x=\"451.904297\" xlink:href=\"#DejaVuSans-110\"/>\r\n     </g>\r\n    </g>\r\n    <g id=\"line2d_25\">\r\n     <path d=\"M 35.925 50.210937 \r\nL 55.925 50.210937 \r\n\" style=\"fill:none;stroke:#2ca02c;stroke-linecap:square;stroke-width:1.5;\"/>\r\n    </g>\r\n    <g id=\"line2d_26\"/>\r\n    <g id=\"text_16\">\r\n     <!-- cumprod -->\r\n     <g transform=\"translate(63.925 53.710937)scale(0.1 -0.1)\">\r\n      <defs>\r\n       <path d=\"M 48.78125 52.59375 \r\nL 48.78125 44.1875 \r\nQ 44.96875 46.296875 41.140625 47.34375 \r\nQ 37.3125 48.390625 33.40625 48.390625 \r\nQ 24.65625 48.390625 19.8125 42.84375 \r\nQ 14.984375 37.3125 14.984375 27.296875 \r\nQ 14.984375 17.28125 19.8125 11.734375 \r\nQ 24.65625 6.203125 33.40625 6.203125 \r\nQ 37.3125 6.203125 41.140625 7.25 \r\nQ 44.96875 8.296875 48.78125 10.40625 \r\nL 48.78125 2.09375 \r\nQ 45.015625 0.34375 40.984375 -0.53125 \r\nQ 36.96875 -1.421875 32.421875 -1.421875 \r\nQ 20.0625 -1.421875 12.78125 6.34375 \r\nQ 5.515625 14.109375 5.515625 27.296875 \r\nQ 5.515625 40.671875 12.859375 48.328125 \r\nQ 20.21875 56 33.015625 56 \r\nQ 37.15625 56 41.109375 55.140625 \r\nQ 45.0625 54.296875 48.78125 52.59375 \r\nz\r\n\" id=\"DejaVuSans-99\"/>\r\n       <path d=\"M 18.109375 8.203125 \r\nL 18.109375 -20.796875 \r\nL 9.078125 -20.796875 \r\nL 9.078125 54.6875 \r\nL 18.109375 54.6875 \r\nL 18.109375 46.390625 \r\nQ 20.953125 51.265625 25.265625 53.625 \r\nQ 29.59375 56 35.59375 56 \r\nQ 45.5625 56 51.78125 48.09375 \r\nQ 58.015625 40.1875 58.015625 27.296875 \r\nQ 58.015625 14.40625 51.78125 6.484375 \r\nQ 45.5625 -1.421875 35.59375 -1.421875 \r\nQ 29.59375 -1.421875 25.265625 0.953125 \r\nQ 20.953125 3.328125 18.109375 8.203125 \r\nz\r\nM 48.6875 27.296875 \r\nQ 48.6875 37.203125 44.609375 42.84375 \r\nQ 40.53125 48.484375 33.40625 48.484375 \r\nQ 26.265625 48.484375 22.1875 42.84375 \r\nQ 18.109375 37.203125 18.109375 27.296875 \r\nQ 18.109375 17.390625 22.1875 11.75 \r\nQ 26.265625 6.109375 33.40625 6.109375 \r\nQ 40.53125 6.109375 44.609375 11.75 \r\nQ 48.6875 17.390625 48.6875 27.296875 \r\nz\r\n\" id=\"DejaVuSans-112\"/>\r\n      </defs>\r\n      <use xlink:href=\"#DejaVuSans-99\"/>\r\n      <use x=\"54.980469\" xlink:href=\"#DejaVuSans-117\"/>\r\n      <use x=\"118.359375\" xlink:href=\"#DejaVuSans-109\"/>\r\n      <use x=\"215.771484\" xlink:href=\"#DejaVuSans-112\"/>\r\n      <use x=\"279.248047\" xlink:href=\"#DejaVuSans-114\"/>\r\n      <use x=\"318.111328\" xlink:href=\"#DejaVuSans-111\"/>\r\n      <use x=\"379.292969\" xlink:href=\"#DejaVuSans-100\"/>\r\n     </g>\r\n    </g>\r\n   </g>\r\n  </g>\r\n </g>\r\n <defs>\r\n  <clipPath id=\"pb56c98e1f9\">\r\n   <rect height=\"434.88\" width=\"669.6\" x=\"26.925\" y=\"7.2\"/>\r\n  </clipPath>\r\n </defs>\r\n</svg>\r\n",
      "image/png": "[encoded data removed]"
     },
     "metadata": {
      "needs_background": "light"
     }
    }
   ],
   "source": [
    "spc['pctc'] = spc['adj_close'].pct_change()\n",
    "spc['cumprod'] =(spc['pctc']+1).cumprod()-1\n",
    "spc[['cumprod']].merge(dpf, left_index=True, right_on='date')[['mom_return', 'rev_return','cumprod', 'date']].set_index('date').plot(figsize=(12,8));"
   ]
  },
  {
   "source": [
    "leptokurtic distribution\n",
    "the only things we can do is buy, hold, or leave for rev or momentum\n",
    "<br><br>choices:\n",
    "- momentum\n",
    "- reversal\n",
    "- neither"
   ],
   "cell_type": "markdown",
   "metadata": {}
  },
  {
   "cell_type": "code",
   "execution_count": null,
   "metadata": {},
   "outputs": [],
   "source": []
  },
  {
   "cell_type": "code",
   "execution_count": null,
   "metadata": {},
   "outputs": [],
   "source": []
  },
  {
   "source": [
    "# logistic regression model \n",
    "when you look at scatter lot it dont really matter\n",
    "adding \n",
    "adding features and then labeling. after that we should figure out how to onboard them\n",
    "after adding features, how do we show the valle of the predictive task?\n",
    "if we deal with lagged return and predict into the future\n",
    "they had original retruns, momentum returns, and a combination of both where you show a bit \n",
    "\n",
    "we need to caculate he value f the portfolio at he time and the nuse that to take the signals we get and show how that would affect potential returns\n"
   ],
   "cell_type": "markdown",
   "metadata": {}
  },
  {
   "cell_type": "code",
   "execution_count": 160,
   "metadata": {},
   "outputs": [
    {
     "output_type": "execute_result",
     "data": {
      "text/plain": [
       "            pct_change\n",
       "date                  \n",
       "2010-02-01         NaN\n",
       "2010-03-01    0.122314\n",
       "2010-04-01    0.108467\n",
       "2010-05-01   -0.021211\n",
       "2010-06-01   -0.045978\n",
       "...                ...\n",
       "2020-12-01    0.064457\n",
       "2021-01-01    0.005608\n",
       "2021-02-01    0.087967\n",
       "2021-03-01    0.005249\n",
       "2021-03-05    0.000217\n",
       "\n",
       "[135 rows x 1 columns]"
      ],
      "text/html": "<div>\n<style scoped>\n    .dataframe tbody tr th:only-of-type {\n        vertical-align: middle;\n    }\n\n    .dataframe tbody tr th {\n        vertical-align: top;\n    }\n\n    .dataframe thead th {\n        text-align: right;\n    }\n</style>\n<table border=\"1\" class=\"dataframe\">\n  <thead>\n    <tr style=\"text-align: right;\">\n      <th></th>\n      <th>pct_change</th>\n    </tr>\n    <tr>\n      <th>date</th>\n      <th></th>\n    </tr>\n  </thead>\n  <tbody>\n    <tr>\n      <th>2010-02-01</th>\n      <td>NaN</td>\n    </tr>\n    <tr>\n      <th>2010-03-01</th>\n      <td>0.122314</td>\n    </tr>\n    <tr>\n      <th>2010-04-01</th>\n      <td>0.108467</td>\n    </tr>\n    <tr>\n      <th>2010-05-01</th>\n      <td>-0.021211</td>\n    </tr>\n    <tr>\n      <th>2010-06-01</th>\n      <td>-0.045978</td>\n    </tr>\n    <tr>\n      <th>...</th>\n      <td>...</td>\n    </tr>\n    <tr>\n      <th>2020-12-01</th>\n      <td>0.064457</td>\n    </tr>\n    <tr>\n      <th>2021-01-01</th>\n      <td>0.005608</td>\n    </tr>\n    <tr>\n      <th>2021-02-01</th>\n      <td>0.087967</td>\n    </tr>\n    <tr>\n      <th>2021-03-01</th>\n      <td>0.005249</td>\n    </tr>\n    <tr>\n      <th>2021-03-05</th>\n      <td>0.000217</td>\n    </tr>\n  </tbody>\n</table>\n<p>135 rows × 1 columns</p>\n</div>"
     },
     "metadata": {},
     "execution_count": 160
    }
   ],
   "source": [
    "te\n",
    "# dpf.apply(lambda x: get_portfolio_data(x.mom)[x.date])[0]"
   ]
  },
  {
   "cell_type": "code",
   "execution_count": 137,
   "metadata": {},
   "outputs": [
    {
     "output_type": "error",
     "ename": "TypeError",
     "evalue": "object of type 'StringMethods' has no len()",
     "traceback": [
      "\u001b[1;31m---------------------------------------------------------------------------\u001b[0m",
      "\u001b[1;31mTypeError\u001b[0m                                 Traceback (most recent call last)",
      "\u001b[1;32m<ipython-input-137-e6983d4489c4>\u001b[0m in \u001b[0;36m<module>\u001b[1;34m\u001b[0m\n\u001b[1;32m----> 1\u001b[1;33m \u001b[0mlen\u001b[0m\u001b[1;33m(\u001b[0m\u001b[0mdpf\u001b[0m\u001b[1;33m[\u001b[0m\u001b[1;34m'mom'\u001b[0m\u001b[1;33m]\u001b[0m\u001b[1;33m.\u001b[0m\u001b[0mstr\u001b[0m\u001b[1;33m)\u001b[0m\u001b[1;33m\u001b[0m\u001b[1;33m\u001b[0m\u001b[0m\n\u001b[0m",
      "\u001b[1;31mTypeError\u001b[0m: object of type 'StringMethods' has no len()"
     ]
    }
   ],
   "source": [
    "dpf['mom'].apply()"
   ]
  },
  {
   "cell_type": "code",
   "execution_count": 151,
   "metadata": {},
   "outputs": [
    {
     "output_type": "execute_result",
     "data": {
      "text/plain": [
       "             date       open       high        low      close  adj_close  \\\n",
       "0      2010-02-01   6.870357   7.327500   6.816071   7.307857   6.294721   \n",
       "1      2010-03-01   7.348214   8.481429   7.337500   8.392857   7.229299   \n",
       "2      2010-04-01   8.478929   9.730714   8.312500   9.324643   8.031907   \n",
       "3      2010-05-01   9.422857   9.567143   7.116071   9.174286   7.902396   \n",
       "4      2010-06-01   9.274643   9.964643   8.650000   8.983214   7.737815   \n",
       "...           ...        ...        ...        ...        ...        ...   \n",
       "65951  2020-12-01  18.010000  18.730000  17.049999  17.770000  17.770000   \n",
       "65952  2021-01-01  17.959999  19.420000  17.590000  18.879999  18.879999   \n",
       "65953  2021-02-01  18.590000  24.110001  18.299999  22.920000  22.920000   \n",
       "65954  2021-03-01  23.209999  23.870001  22.389999  23.500000  23.500000   \n",
       "65955  2021-03-05  22.940001  23.545000  22.520000  23.500000  23.500000   \n",
       "\n",
       "             volume  Name       Date  \n",
       "0      1.077608e+10  AAPL 2010-02-01  \n",
       "1      1.215417e+10  AAPL 2010-03-01  \n",
       "2      1.236713e+10  AAPL 2010-04-01  \n",
       "3      1.808265e+10  AAPL 2010-05-01  \n",
       "4      1.665125e+10  AAPL 2010-06-01  \n",
       "...             ...   ...        ...  \n",
       "65951  1.891130e+07   NWS 2020-12-01  \n",
       "65952  1.800300e+07   NWS 2021-01-01  \n",
       "65953  1.325420e+07   NWS 2021-02-01  \n",
       "65954  2.094900e+06   NWS 2021-03-01  \n",
       "65955  5.157070e+05   NWS 2021-03-05  \n",
       "\n",
       "[65511 rows x 9 columns]"
      ],
      "text/html": "<div>\n<style scoped>\n    .dataframe tbody tr th:only-of-type {\n        vertical-align: middle;\n    }\n\n    .dataframe tbody tr th {\n        vertical-align: top;\n    }\n\n    .dataframe thead th {\n        text-align: right;\n    }\n</style>\n<table border=\"1\" class=\"dataframe\">\n  <thead>\n    <tr style=\"text-align: right;\">\n      <th></th>\n      <th>date</th>\n      <th>open</th>\n      <th>high</th>\n      <th>low</th>\n      <th>close</th>\n      <th>adj_close</th>\n      <th>volume</th>\n      <th>Name</th>\n      <th>Date</th>\n    </tr>\n  </thead>\n  <tbody>\n    <tr>\n      <th>0</th>\n      <td>2010-02-01</td>\n      <td>6.870357</td>\n      <td>7.327500</td>\n      <td>6.816071</td>\n      <td>7.307857</td>\n      <td>6.294721</td>\n      <td>1.077608e+10</td>\n      <td>AAPL</td>\n      <td>2010-02-01</td>\n    </tr>\n    <tr>\n      <th>1</th>\n      <td>2010-03-01</td>\n      <td>7.348214</td>\n      <td>8.481429</td>\n      <td>7.337500</td>\n      <td>8.392857</td>\n      <td>7.229299</td>\n      <td>1.215417e+10</td>\n      <td>AAPL</td>\n      <td>2010-03-01</td>\n    </tr>\n    <tr>\n      <th>2</th>\n      <td>2010-04-01</td>\n      <td>8.478929</td>\n      <td>9.730714</td>\n      <td>8.312500</td>\n      <td>9.324643</td>\n      <td>8.031907</td>\n      <td>1.236713e+10</td>\n      <td>AAPL</td>\n      <td>2010-04-01</td>\n    </tr>\n    <tr>\n      <th>3</th>\n      <td>2010-05-01</td>\n      <td>9.422857</td>\n      <td>9.567143</td>\n      <td>7.116071</td>\n      <td>9.174286</td>\n      <td>7.902396</td>\n      <td>1.808265e+10</td>\n      <td>AAPL</td>\n      <td>2010-05-01</td>\n    </tr>\n    <tr>\n      <th>4</th>\n      <td>2010-06-01</td>\n      <td>9.274643</td>\n      <td>9.964643</td>\n      <td>8.650000</td>\n      <td>8.983214</td>\n      <td>7.737815</td>\n      <td>1.665125e+10</td>\n      <td>AAPL</td>\n      <td>2010-06-01</td>\n    </tr>\n    <tr>\n      <th>...</th>\n      <td>...</td>\n      <td>...</td>\n      <td>...</td>\n      <td>...</td>\n      <td>...</td>\n      <td>...</td>\n      <td>...</td>\n      <td>...</td>\n      <td>...</td>\n    </tr>\n    <tr>\n      <th>65951</th>\n      <td>2020-12-01</td>\n      <td>18.010000</td>\n      <td>18.730000</td>\n      <td>17.049999</td>\n      <td>17.770000</td>\n      <td>17.770000</td>\n      <td>1.891130e+07</td>\n      <td>NWS</td>\n      <td>2020-12-01</td>\n    </tr>\n    <tr>\n      <th>65952</th>\n      <td>2021-01-01</td>\n      <td>17.959999</td>\n      <td>19.420000</td>\n      <td>17.590000</td>\n      <td>18.879999</td>\n      <td>18.879999</td>\n      <td>1.800300e+07</td>\n      <td>NWS</td>\n      <td>2021-01-01</td>\n    </tr>\n    <tr>\n      <th>65953</th>\n      <td>2021-02-01</td>\n      <td>18.590000</td>\n      <td>24.110001</td>\n      <td>18.299999</td>\n      <td>22.920000</td>\n      <td>22.920000</td>\n      <td>1.325420e+07</td>\n      <td>NWS</td>\n      <td>2021-02-01</td>\n    </tr>\n    <tr>\n      <th>65954</th>\n      <td>2021-03-01</td>\n      <td>23.209999</td>\n      <td>23.870001</td>\n      <td>22.389999</td>\n      <td>23.500000</td>\n      <td>23.500000</td>\n      <td>2.094900e+06</td>\n      <td>NWS</td>\n      <td>2021-03-01</td>\n    </tr>\n    <tr>\n      <th>65955</th>\n      <td>2021-03-05</td>\n      <td>22.940001</td>\n      <td>23.545000</td>\n      <td>22.520000</td>\n      <td>23.500000</td>\n      <td>23.500000</td>\n      <td>5.157070e+05</td>\n      <td>NWS</td>\n      <td>2021-03-05</td>\n    </tr>\n  </tbody>\n</table>\n<p>65511 rows × 9 columns</p>\n</div>"
     },
     "metadata": {},
     "execution_count": 151
    }
   ],
   "source": [
    "df"
   ]
  },
  {
   "cell_type": "code",
   "execution_count": null,
   "metadata": {},
   "outputs": [],
   "source": [
    "0.162"
   ]
  },
  {
   "cell_type": "code",
   "execution_count": 105,
   "metadata": {},
   "outputs": [
    {
     "output_type": "error",
     "ename": "ValueError",
     "evalue": "You are trying to merge on object and datetime64[ns] columns. If you wish to proceed you should use pd.concat",
     "traceback": [
      "\u001b[1;31m---------------------------------------------------------------------------\u001b[0m",
      "\u001b[1;31mValueError\u001b[0m                                Traceback (most recent call last)",
      "\u001b[1;32m<ipython-input-105-01f9a548d3d7>\u001b[0m in \u001b[0;36m<module>\u001b[1;34m\u001b[0m\n\u001b[0;32m      1\u001b[0m \u001b[0mdf\u001b[0m\u001b[1;33m[\u001b[0m\u001b[1;34m'Date'\u001b[0m\u001b[1;33m]\u001b[0m \u001b[1;33m=\u001b[0m \u001b[0mpd\u001b[0m\u001b[1;33m.\u001b[0m\u001b[0mto_datetime\u001b[0m\u001b[1;33m(\u001b[0m\u001b[0mdf\u001b[0m\u001b[1;33m[\u001b[0m\u001b[1;34m'date'\u001b[0m\u001b[1;33m]\u001b[0m\u001b[1;33m)\u001b[0m\u001b[1;33m\u001b[0m\u001b[1;33m\u001b[0m\u001b[0m\n\u001b[1;32m----> 2\u001b[1;33m \u001b[0mdpf\u001b[0m \u001b[1;33m=\u001b[0m \u001b[0mdf\u001b[0m\u001b[1;33m.\u001b[0m\u001b[0mmerge\u001b[0m\u001b[1;33m(\u001b[0m\u001b[0mpf\u001b[0m\u001b[1;33m,\u001b[0m \u001b[0mhow\u001b[0m\u001b[1;33m=\u001b[0m\u001b[1;34m'right'\u001b[0m\u001b[1;33m,\u001b[0m \u001b[0mleft_on\u001b[0m\u001b[1;33m=\u001b[0m\u001b[1;34m'date'\u001b[0m\u001b[1;33m,\u001b[0m \u001b[0mright_on\u001b[0m\u001b[1;33m=\u001b[0m\u001b[1;34m'k_end'\u001b[0m\u001b[1;33m)\u001b[0m\u001b[1;33m\u001b[0m\u001b[1;33m\u001b[0m\u001b[0m\n\u001b[0m\u001b[0;32m      3\u001b[0m \u001b[0mdpf\u001b[0m\u001b[1;33m.\u001b[0m\u001b[0mhead\u001b[0m\u001b[1;33m(\u001b[0m\u001b[1;33m)\u001b[0m\u001b[1;33m\u001b[0m\u001b[1;33m\u001b[0m\u001b[0m\n",
      "\u001b[1;32m~\\.virtualenvs\\dsc190-FVH1D0fH\\lib\\site-packages\\pandas\\core\\frame.py\u001b[0m in \u001b[0;36mmerge\u001b[1;34m(self, right, how, on, left_on, right_on, left_index, right_index, sort, suffixes, copy, indicator, validate)\u001b[0m\n\u001b[0;32m   8203\u001b[0m             \u001b[0mcopy\u001b[0m\u001b[1;33m=\u001b[0m\u001b[0mcopy\u001b[0m\u001b[1;33m,\u001b[0m\u001b[1;33m\u001b[0m\u001b[1;33m\u001b[0m\u001b[0m\n\u001b[0;32m   8204\u001b[0m             \u001b[0mindicator\u001b[0m\u001b[1;33m=\u001b[0m\u001b[0mindicator\u001b[0m\u001b[1;33m,\u001b[0m\u001b[1;33m\u001b[0m\u001b[1;33m\u001b[0m\u001b[0m\n\u001b[1;32m-> 8205\u001b[1;33m             \u001b[0mvalidate\u001b[0m\u001b[1;33m=\u001b[0m\u001b[0mvalidate\u001b[0m\u001b[1;33m,\u001b[0m\u001b[1;33m\u001b[0m\u001b[1;33m\u001b[0m\u001b[0m\n\u001b[0m\u001b[0;32m   8206\u001b[0m         )\n\u001b[0;32m   8207\u001b[0m \u001b[1;33m\u001b[0m\u001b[0m\n",
      "\u001b[1;32m~\\.virtualenvs\\dsc190-FVH1D0fH\\lib\\site-packages\\pandas\\core\\reshape\\merge.py\u001b[0m in \u001b[0;36mmerge\u001b[1;34m(left, right, how, on, left_on, right_on, left_index, right_index, sort, suffixes, copy, indicator, validate)\u001b[0m\n\u001b[0;32m     85\u001b[0m         \u001b[0mcopy\u001b[0m\u001b[1;33m=\u001b[0m\u001b[0mcopy\u001b[0m\u001b[1;33m,\u001b[0m\u001b[1;33m\u001b[0m\u001b[1;33m\u001b[0m\u001b[0m\n\u001b[0;32m     86\u001b[0m         \u001b[0mindicator\u001b[0m\u001b[1;33m=\u001b[0m\u001b[0mindicator\u001b[0m\u001b[1;33m,\u001b[0m\u001b[1;33m\u001b[0m\u001b[1;33m\u001b[0m\u001b[0m\n\u001b[1;32m---> 87\u001b[1;33m         \u001b[0mvalidate\u001b[0m\u001b[1;33m=\u001b[0m\u001b[0mvalidate\u001b[0m\u001b[1;33m,\u001b[0m\u001b[1;33m\u001b[0m\u001b[1;33m\u001b[0m\u001b[0m\n\u001b[0m\u001b[0;32m     88\u001b[0m     )\n\u001b[0;32m     89\u001b[0m     \u001b[1;32mreturn\u001b[0m \u001b[0mop\u001b[0m\u001b[1;33m.\u001b[0m\u001b[0mget_result\u001b[0m\u001b[1;33m(\u001b[0m\u001b[1;33m)\u001b[0m\u001b[1;33m\u001b[0m\u001b[1;33m\u001b[0m\u001b[0m\n",
      "\u001b[1;32m~\\.virtualenvs\\dsc190-FVH1D0fH\\lib\\site-packages\\pandas\\core\\reshape\\merge.py\u001b[0m in \u001b[0;36m__init__\u001b[1;34m(self, left, right, how, on, left_on, right_on, axis, left_index, right_index, sort, suffixes, copy, indicator, validate)\u001b[0m\n\u001b[0;32m    670\u001b[0m         \u001b[1;31m# validate the merge keys dtypes. We may need to coerce\u001b[0m\u001b[1;33m\u001b[0m\u001b[1;33m\u001b[0m\u001b[1;33m\u001b[0m\u001b[0m\n\u001b[0;32m    671\u001b[0m         \u001b[1;31m# to avoid incompatible dtypes\u001b[0m\u001b[1;33m\u001b[0m\u001b[1;33m\u001b[0m\u001b[1;33m\u001b[0m\u001b[0m\n\u001b[1;32m--> 672\u001b[1;33m         \u001b[0mself\u001b[0m\u001b[1;33m.\u001b[0m\u001b[0m_maybe_coerce_merge_keys\u001b[0m\u001b[1;33m(\u001b[0m\u001b[1;33m)\u001b[0m\u001b[1;33m\u001b[0m\u001b[1;33m\u001b[0m\u001b[0m\n\u001b[0m\u001b[0;32m    673\u001b[0m \u001b[1;33m\u001b[0m\u001b[0m\n\u001b[0;32m    674\u001b[0m         \u001b[1;31m# If argument passed to validate,\u001b[0m\u001b[1;33m\u001b[0m\u001b[1;33m\u001b[0m\u001b[1;33m\u001b[0m\u001b[0m\n",
      "\u001b[1;32m~\\.virtualenvs\\dsc190-FVH1D0fH\\lib\\site-packages\\pandas\\core\\reshape\\merge.py\u001b[0m in \u001b[0;36m_maybe_coerce_merge_keys\u001b[1;34m(self)\u001b[0m\n\u001b[0;32m   1197\u001b[0m                 \u001b[1;32mraise\u001b[0m \u001b[0mValueError\u001b[0m\u001b[1;33m(\u001b[0m\u001b[0mmsg\u001b[0m\u001b[1;33m)\u001b[0m\u001b[1;33m\u001b[0m\u001b[1;33m\u001b[0m\u001b[0m\n\u001b[0;32m   1198\u001b[0m             \u001b[1;32melif\u001b[0m \u001b[1;32mnot\u001b[0m \u001b[0mneeds_i8_conversion\u001b[0m\u001b[1;33m(\u001b[0m\u001b[0mlk\u001b[0m\u001b[1;33m.\u001b[0m\u001b[0mdtype\u001b[0m\u001b[1;33m)\u001b[0m \u001b[1;32mand\u001b[0m \u001b[0mneeds_i8_conversion\u001b[0m\u001b[1;33m(\u001b[0m\u001b[0mrk\u001b[0m\u001b[1;33m.\u001b[0m\u001b[0mdtype\u001b[0m\u001b[1;33m)\u001b[0m\u001b[1;33m:\u001b[0m\u001b[1;33m\u001b[0m\u001b[1;33m\u001b[0m\u001b[0m\n\u001b[1;32m-> 1199\u001b[1;33m                 \u001b[1;32mraise\u001b[0m \u001b[0mValueError\u001b[0m\u001b[1;33m(\u001b[0m\u001b[0mmsg\u001b[0m\u001b[1;33m)\u001b[0m\u001b[1;33m\u001b[0m\u001b[1;33m\u001b[0m\u001b[0m\n\u001b[0m\u001b[0;32m   1200\u001b[0m             elif is_datetime64tz_dtype(lk.dtype) and not is_datetime64tz_dtype(\n\u001b[0;32m   1201\u001b[0m                 \u001b[0mrk\u001b[0m\u001b[1;33m.\u001b[0m\u001b[0mdtype\u001b[0m\u001b[1;33m\u001b[0m\u001b[1;33m\u001b[0m\u001b[0m\n",
      "\u001b[1;31mValueError\u001b[0m: You are trying to merge on object and datetime64[ns] columns. If you wish to proceed you should use pd.concat"
     ]
    }
   ],
   "source": [
    "df['Date'] = pd.to_datetime(df['date'])\n",
    "dpf = df.merge(pf, how='right', left_on='date', right_on='k_end')\n",
    "dpf.head()"
   ]
  },
  {
   "cell_type": "code",
   "execution_count": null,
   "metadata": {},
   "outputs": [],
   "source": []
  },
  {
   "cell_type": "code",
   "execution_count": null,
   "metadata": {},
   "outputs": [],
   "source": [
    "technical analysis vs fundamental analysis. we will only be technical analysis mainly."
   ]
  },
  {
   "source": [
    "what are the indicators? they are operating off of ohlc\n",
    "look at indicators \n",
    "pricing a portfolio\n",
    "apply indicators to portfolio...?\n",
    "we looked at portfolios and the selection process is picking those, but we are actually predicting performance of portfolios.\n",
    "portfolio performance from feb to may, winners go up 30\n",
    "sophistication comes with the predicitive task we are trying to use."
   ],
   "cell_type": "markdown",
   "metadata": {}
  },
  {
   "cell_type": "code",
   "execution_count": 514,
   "metadata": {},
   "outputs": [
    {
     "output_type": "stream",
     "name": "stdout",
     "text": [
      "46 46\nweights 46\n"
     ]
    },
    {
     "output_type": "execute_result",
     "data": {
      "text/plain": [
       "             winners    losers\n",
       "Date                          \n",
       "2010-02-01  0.000000  0.000000\n",
       "2010-03-01  0.138225  0.013765\n",
       "2010-04-01  0.300222 -0.027240\n",
       "2010-05-01  0.303310 -0.147004"
      ],
      "text/html": "<div>\n<style scoped>\n    .dataframe tbody tr th:only-of-type {\n        vertical-align: middle;\n    }\n\n    .dataframe tbody tr th {\n        vertical-align: top;\n    }\n\n    .dataframe thead th {\n        text-align: right;\n    }\n</style>\n<table border=\"1\" class=\"dataframe\">\n  <thead>\n    <tr style=\"text-align: right;\">\n      <th></th>\n      <th>winners</th>\n      <th>losers</th>\n    </tr>\n    <tr>\n      <th>Date</th>\n      <th></th>\n      <th></th>\n    </tr>\n  </thead>\n  <tbody>\n    <tr>\n      <th>2010-02-01</th>\n      <td>0.000000</td>\n      <td>0.000000</td>\n    </tr>\n    <tr>\n      <th>2010-03-01</th>\n      <td>0.138225</td>\n      <td>0.013765</td>\n    </tr>\n    <tr>\n      <th>2010-04-01</th>\n      <td>0.300222</td>\n      <td>-0.027240</td>\n    </tr>\n    <tr>\n      <th>2010-05-01</th>\n      <td>0.303310</td>\n      <td>-0.147004</td>\n    </tr>\n  </tbody>\n</table>\n</div>"
     },
     "metadata": {},
     "execution_count": 514
    }
   ],
   "source": [
    "timedf,j,k = generate_timetable(1,3)\n",
    "get_portfolio_performance()"
   ]
  },
  {
   "cell_type": "markdown",
   "metadata": {},
   "source": [
    "## ----prototyping below----"
   ]
  },
  {
   "cell_type": "code",
   "execution_count": null,
   "metadata": {},
   "outputs": [],
   "source": [
    "get_portfolios()"
   ]
  },
  {
   "cell_type": "code",
   "execution_count": 12,
   "metadata": {},
   "outputs": [
    {
     "output_type": "stream",
     "name": "stdout",
     "text": [
      "[*********************100%***********************]  1 of 1 completed\n"
     ]
    },
    {
     "output_type": "execute_result",
     "data": {
      "text/plain": [
       "                   open         high          low        close    adj_close  \\\n",
       "date                                                                          \n",
       "2010-01-01  1116.560059  1150.449951  1071.589966  1073.869995  1073.869995   \n",
       "2010-02-01  1073.890015  1112.420044  1044.500000  1104.489990  1104.489990   \n",
       "2010-03-01  1105.359985  1180.689941  1105.359985  1169.430054  1169.430054   \n",
       "2010-04-01  1171.229980  1219.800049  1170.689941  1186.689941  1186.689941   \n",
       "2010-05-01  1188.579956  1205.130005  1040.780029  1089.410034  1089.410034   \n",
       "...                 ...          ...          ...          ...          ...   \n",
       "2020-12-01  3645.870117  3760.199951  3633.399902  3756.070068  3756.070068   \n",
       "2021-01-01  3764.610107  3870.899902  3662.709961  3714.239990  3714.239990   \n",
       "2021-02-01  3731.169922  3950.429932  3725.620117  3811.149902  3811.149902   \n",
       "2021-03-01  3842.510010  3914.500000  3723.340088  3841.939941  3841.939941   \n",
       "2021-03-05  3793.580078  3851.689941  3730.189941  3841.939941  3841.939941   \n",
       "\n",
       "                  volume  CCI_4_0.015      K_4_3      D_4_3      J_4_3  ...  \\\n",
       "date                                                                    ...   \n",
       "2010-01-01   90947580000          NaN        NaN        NaN        NaN  ...   \n",
       "2010-02-01   84561340000          NaN        NaN        NaN        NaN  ...   \n",
       "2010-03-01  103683550000          NaN        NaN        NaN        NaN  ...   \n",
       "2010-04-01  116741910000   100.803624        NaN        NaN        NaN  ...   \n",
       "2010-05-01  127662780000   -44.060570        NaN        NaN        NaN  ...   \n",
       "...                  ...          ...        ...        ...        ...  ...   \n",
       "2020-12-01   96056410000   120.829302  82.399625  75.920042  95.358791  ...   \n",
       "2021-01-01  105548790000    73.953788  80.068104  77.302729  85.598853  ...   \n",
       "2021-02-01   98596960000    90.174682  79.789843  78.131767  83.105994  ...   \n",
       "2021-03-01   30700830000    64.929367  75.119652  77.127729  71.103498  ...   \n",
       "2021-03-05    3325429131    11.665687  70.844168  75.033208  62.466088  ...   \n",
       "\n",
       "                DMN_4        QS_4      ROC_4     AO_5_34  MACD_4_8_9  \\\n",
       "date                                                                   \n",
       "2010-01-01        NaN         NaN        NaN         NaN         NaN   \n",
       "2010-02-01        NaN         NaN        NaN         NaN         NaN   \n",
       "2010-03-01        NaN         NaN        NaN         NaN         NaN   \n",
       "2010-04-01        NaN   16.859985        NaN         NaN         NaN   \n",
       "2010-05-01  52.811704    2.740021   1.447106         NaN         NaN   \n",
       "...               ...         ...        ...         ...         ...   \n",
       "2020-12-01   9.152227   43.819946   7.306782  515.377558  151.012433   \n",
       "2021-01-01   7.364540   67.337402  10.444246  557.252362  145.442524   \n",
       "2021-02-01   5.684865  116.309937  16.550354  609.737243  147.143438   \n",
       "2021-03-01   4.797617   34.809937   6.083174  661.304307  140.331566   \n",
       "2021-03-05   4.109721   19.349915   2.286163  696.060181  124.678775   \n",
       "\n",
       "            MACDh_4_8_9  MACDs_4_8_9     STDEV_4          PVOL        EFI_13  \n",
       "date                                                                          \n",
       "2010-01-01          NaN          NaN         NaN  9.766588e+13           NaN  \n",
       "2010-02-01          NaN          NaN         NaN  9.339715e+13           NaN  \n",
       "2010-03-01          NaN          NaN         NaN  1.212507e+14           NaN  \n",
       "2010-04-01          NaN          NaN   53.283516  1.385365e+14           NaN  \n",
       "2010-05-01          NaN          NaN   47.754526  1.390771e+14           NaN  \n",
       "...                 ...          ...         ...           ...           ...  \n",
       "2020-12-01    64.069605    86.942828  225.110876  3.607946e+14  7.197334e+12  \n",
       "2021-01-01    46.799757    98.642767  220.937409  3.920335e+14  5.538413e+12  \n",
       "2021-02-01    38.800537   108.342901   79.970676  3.757678e+14  6.112214e+12  \n",
       "2021-03-01    25.590932   114.740634   56.865348  1.179507e+14  5.374081e+12  \n",
       "2021-03-05     7.950513   116.728262   60.485631  1.277610e+13  4.606355e+12  \n",
       "\n",
       "[136 rows x 29 columns]"
      ],
      "text/html": "<div>\n<style scoped>\n    .dataframe tbody tr th:only-of-type {\n        vertical-align: middle;\n    }\n\n    .dataframe tbody tr th {\n        vertical-align: top;\n    }\n\n    .dataframe thead th {\n        text-align: right;\n    }\n</style>\n<table border=\"1\" class=\"dataframe\">\n  <thead>\n    <tr style=\"text-align: right;\">\n      <th></th>\n      <th>open</th>\n      <th>high</th>\n      <th>low</th>\n      <th>close</th>\n      <th>adj_close</th>\n      <th>volume</th>\n      <th>CCI_4_0.015</th>\n      <th>K_4_3</th>\n      <th>D_4_3</th>\n      <th>J_4_3</th>\n      <th>...</th>\n      <th>DMN_4</th>\n      <th>QS_4</th>\n      <th>ROC_4</th>\n      <th>AO_5_34</th>\n      <th>MACD_4_8_9</th>\n      <th>MACDh_4_8_9</th>\n      <th>MACDs_4_8_9</th>\n      <th>STDEV_4</th>\n      <th>PVOL</th>\n      <th>EFI_13</th>\n    </tr>\n    <tr>\n      <th>date</th>\n      <th></th>\n      <th></th>\n      <th></th>\n      <th></th>\n      <th></th>\n      <th></th>\n      <th></th>\n      <th></th>\n      <th></th>\n      <th></th>\n      <th></th>\n      <th></th>\n      <th></th>\n      <th></th>\n      <th></th>\n      <th></th>\n      <th></th>\n      <th></th>\n      <th></th>\n      <th></th>\n      <th></th>\n    </tr>\n  </thead>\n  <tbody>\n    <tr>\n      <th>2010-01-01</th>\n      <td>1116.560059</td>\n      <td>1150.449951</td>\n      <td>1071.589966</td>\n      <td>1073.869995</td>\n      <td>1073.869995</td>\n      <td>90947580000</td>\n      <td>NaN</td>\n      <td>NaN</td>\n      <td>NaN</td>\n      <td>NaN</td>\n      <td>...</td>\n      <td>NaN</td>\n      <td>NaN</td>\n      <td>NaN</td>\n      <td>NaN</td>\n      <td>NaN</td>\n      <td>NaN</td>\n      <td>NaN</td>\n      <td>NaN</td>\n      <td>9.766588e+13</td>\n      <td>NaN</td>\n    </tr>\n    <tr>\n      <th>2010-02-01</th>\n      <td>1073.890015</td>\n      <td>1112.420044</td>\n      <td>1044.500000</td>\n      <td>1104.489990</td>\n      <td>1104.489990</td>\n      <td>84561340000</td>\n      <td>NaN</td>\n      <td>NaN</td>\n      <td>NaN</td>\n      <td>NaN</td>\n      <td>...</td>\n      <td>NaN</td>\n      <td>NaN</td>\n      <td>NaN</td>\n      <td>NaN</td>\n      <td>NaN</td>\n      <td>NaN</td>\n      <td>NaN</td>\n      <td>NaN</td>\n      <td>9.339715e+13</td>\n      <td>NaN</td>\n    </tr>\n    <tr>\n      <th>2010-03-01</th>\n      <td>1105.359985</td>\n      <td>1180.689941</td>\n      <td>1105.359985</td>\n      <td>1169.430054</td>\n      <td>1169.430054</td>\n      <td>103683550000</td>\n      <td>NaN</td>\n      <td>NaN</td>\n      <td>NaN</td>\n      <td>NaN</td>\n      <td>...</td>\n      <td>NaN</td>\n      <td>NaN</td>\n      <td>NaN</td>\n      <td>NaN</td>\n      <td>NaN</td>\n      <td>NaN</td>\n      <td>NaN</td>\n      <td>NaN</td>\n      <td>1.212507e+14</td>\n      <td>NaN</td>\n    </tr>\n    <tr>\n      <th>2010-04-01</th>\n      <td>1171.229980</td>\n      <td>1219.800049</td>\n      <td>1170.689941</td>\n      <td>1186.689941</td>\n      <td>1186.689941</td>\n      <td>116741910000</td>\n      <td>100.803624</td>\n      <td>NaN</td>\n      <td>NaN</td>\n      <td>NaN</td>\n      <td>...</td>\n      <td>NaN</td>\n      <td>16.859985</td>\n      <td>NaN</td>\n      <td>NaN</td>\n      <td>NaN</td>\n      <td>NaN</td>\n      <td>NaN</td>\n      <td>53.283516</td>\n      <td>1.385365e+14</td>\n      <td>NaN</td>\n    </tr>\n    <tr>\n      <th>2010-05-01</th>\n      <td>1188.579956</td>\n      <td>1205.130005</td>\n      <td>1040.780029</td>\n      <td>1089.410034</td>\n      <td>1089.410034</td>\n      <td>127662780000</td>\n      <td>-44.060570</td>\n      <td>NaN</td>\n      <td>NaN</td>\n      <td>NaN</td>\n      <td>...</td>\n      <td>52.811704</td>\n      <td>2.740021</td>\n      <td>1.447106</td>\n      <td>NaN</td>\n      <td>NaN</td>\n      <td>NaN</td>\n      <td>NaN</td>\n      <td>47.754526</td>\n      <td>1.390771e+14</td>\n      <td>NaN</td>\n    </tr>\n    <tr>\n      <th>...</th>\n      <td>...</td>\n      <td>...</td>\n      <td>...</td>\n      <td>...</td>\n      <td>...</td>\n      <td>...</td>\n      <td>...</td>\n      <td>...</td>\n      <td>...</td>\n      <td>...</td>\n      <td>...</td>\n      <td>...</td>\n      <td>...</td>\n      <td>...</td>\n      <td>...</td>\n      <td>...</td>\n      <td>...</td>\n      <td>...</td>\n      <td>...</td>\n      <td>...</td>\n      <td>...</td>\n    </tr>\n    <tr>\n      <th>2020-12-01</th>\n      <td>3645.870117</td>\n      <td>3760.199951</td>\n      <td>3633.399902</td>\n      <td>3756.070068</td>\n      <td>3756.070068</td>\n      <td>96056410000</td>\n      <td>120.829302</td>\n      <td>82.399625</td>\n      <td>75.920042</td>\n      <td>95.358791</td>\n      <td>...</td>\n      <td>9.152227</td>\n      <td>43.819946</td>\n      <td>7.306782</td>\n      <td>515.377558</td>\n      <td>151.012433</td>\n      <td>64.069605</td>\n      <td>86.942828</td>\n      <td>225.110876</td>\n      <td>3.607946e+14</td>\n      <td>7.197334e+12</td>\n    </tr>\n    <tr>\n      <th>2021-01-01</th>\n      <td>3764.610107</td>\n      <td>3870.899902</td>\n      <td>3662.709961</td>\n      <td>3714.239990</td>\n      <td>3714.239990</td>\n      <td>105548790000</td>\n      <td>73.953788</td>\n      <td>80.068104</td>\n      <td>77.302729</td>\n      <td>85.598853</td>\n      <td>...</td>\n      <td>7.364540</td>\n      <td>67.337402</td>\n      <td>10.444246</td>\n      <td>557.252362</td>\n      <td>145.442524</td>\n      <td>46.799757</td>\n      <td>98.642767</td>\n      <td>220.937409</td>\n      <td>3.920335e+14</td>\n      <td>5.538413e+12</td>\n    </tr>\n    <tr>\n      <th>2021-02-01</th>\n      <td>3731.169922</td>\n      <td>3950.429932</td>\n      <td>3725.620117</td>\n      <td>3811.149902</td>\n      <td>3811.149902</td>\n      <td>98596960000</td>\n      <td>90.174682</td>\n      <td>79.789843</td>\n      <td>78.131767</td>\n      <td>83.105994</td>\n      <td>...</td>\n      <td>5.684865</td>\n      <td>116.309937</td>\n      <td>16.550354</td>\n      <td>609.737243</td>\n      <td>147.143438</td>\n      <td>38.800537</td>\n      <td>108.342901</td>\n      <td>79.970676</td>\n      <td>3.757678e+14</td>\n      <td>6.112214e+12</td>\n    </tr>\n    <tr>\n      <th>2021-03-01</th>\n      <td>3842.510010</td>\n      <td>3914.500000</td>\n      <td>3723.340088</td>\n      <td>3841.939941</td>\n      <td>3841.939941</td>\n      <td>30700830000</td>\n      <td>64.929367</td>\n      <td>75.119652</td>\n      <td>77.127729</td>\n      <td>71.103498</td>\n      <td>...</td>\n      <td>4.797617</td>\n      <td>34.809937</td>\n      <td>6.083174</td>\n      <td>661.304307</td>\n      <td>140.331566</td>\n      <td>25.590932</td>\n      <td>114.740634</td>\n      <td>56.865348</td>\n      <td>1.179507e+14</td>\n      <td>5.374081e+12</td>\n    </tr>\n    <tr>\n      <th>2021-03-05</th>\n      <td>3793.580078</td>\n      <td>3851.689941</td>\n      <td>3730.189941</td>\n      <td>3841.939941</td>\n      <td>3841.939941</td>\n      <td>3325429131</td>\n      <td>11.665687</td>\n      <td>70.844168</td>\n      <td>75.033208</td>\n      <td>62.466088</td>\n      <td>...</td>\n      <td>4.109721</td>\n      <td>19.349915</td>\n      <td>2.286163</td>\n      <td>696.060181</td>\n      <td>124.678775</td>\n      <td>7.950513</td>\n      <td>116.728262</td>\n      <td>60.485631</td>\n      <td>1.277610e+13</td>\n      <td>4.606355e+12</td>\n    </tr>\n  </tbody>\n</table>\n<p>136 rows × 29 columns</p>\n</div>"
     },
     "metadata": {},
     "execution_count": 12
    }
   ],
   "source": [
    "df = pdr.get_data_yahoo(\"^GSPC\", start=\"2010-01-01\", interval = \"1mo\")\n",
    "df.ta.cci(length=4,append=True)\n",
    "df.ta.kdj(length=4,append=True)\n",
    "df.ta.rsi(length=4,append=True)\n",
    "df.ta.bop(length=4,append=True)\n",
    "df.ta.willr(length=4,append=True)\n",
    "df.ta.pdist(length=4,append=True)\n",
    "df.ta.kc(length=4,append=True)\n",
    "df.ta.adx(length=4,append=True)\n",
    "df.ta.qstick(length=4,append=True)\n",
    "df.ta.roc(length=4,append=True)\n",
    "df.ta.ao(length=4,append=True)\n",
    "df.ta.macd(fast=4,slow=8,append=True)\n",
    "df.ta.stdev(length=4,append=True)\n",
    "df.ta.pvol(append=True)\n",
    "df.ta.efi(append=True)\n",
    "df"
   ]
  },
  {
   "cell_type": "code",
   "execution_count": 13,
   "metadata": {},
   "outputs": [
    {
     "output_type": "execute_result",
     "data": {
      "text/plain": [
       "open            0\n",
       "high            0\n",
       "low             0\n",
       "close           0\n",
       "adj_close       0\n",
       "volume          0\n",
       "CCI_4_0.015     3\n",
       "K_4_3           5\n",
       "D_4_3           7\n",
       "J_4_3           7\n",
       "RSI_4           4\n",
       "BOP             0\n",
       "WILLR_4         3\n",
       "PDIST           1\n",
       "KCLe_4_2        3\n",
       "KCBe_4_2        3\n",
       "KCUe_4_2        3\n",
       "ADX_4           7\n",
       "DMP_4           4\n",
       "DMN_4           4\n",
       "QS_4            3\n",
       "ROC_4           4\n",
       "AO_5_34        33\n",
       "MACD_4_8_9      7\n",
       "MACDh_4_8_9    15\n",
       "MACDs_4_8_9    15\n",
       "STDEV_4         3\n",
       "PVOL            0\n",
       "EFI_13         12\n",
       "dtype: int64"
      ]
     },
     "metadata": {},
     "execution_count": 13
    }
   ],
   "source": [
    "df.isna().sum()"
   ]
  },
  {
   "cell_type": "code",
   "execution_count": null,
   "metadata": {},
   "outputs": [],
   "source": []
  },
  {
   "cell_type": "code",
   "execution_count": 465,
   "metadata": {},
   "outputs": [
    {
     "output_type": "execute_result",
     "data": {
      "text/plain": [
       "True"
      ]
     },
     "metadata": {},
     "execution_count": 465
    }
   ],
   "source": [
    "hold = None\n",
    "not hold"
   ]
  },
  {
   "cell_type": "code",
   "execution_count": 381,
   "metadata": {},
   "outputs": [],
   "source": [
    "# call the returns of all the winner tickers\n",
    "# ret = pdr.get_data_yahoo(tickers = winner_tickers.to_list(), start=\"2010-02-01\", interval = \"1mo\")['Adj Close'].pct_change()#.dropna()\n",
    "# ret.dot(weights)"
   ]
  },
  {
   "cell_type": "code",
   "execution_count": 379,
   "metadata": {},
   "outputs": [
    {
     "output_type": "execute_result",
     "data": {
      "text/plain": [
       "date\n",
       "2010-02-01    0.000000\n",
       "2010-03-01    0.036022\n",
       "2010-04-01    0.001885\n",
       "2010-05-01   -0.099521\n",
       "2010-06-01   -0.092631\n",
       "2010-07-01    0.020081\n",
       "2010-08-01   -0.085368\n",
       "2010-09-01    0.090408\n",
       "2010-10-01    0.008168\n",
       "2010-11-01   -0.028242\n",
       "dtype: float64"
      ]
     },
     "metadata": {},
     "execution_count": 379
    }
   ],
   "source": [
    "loser_df0 = df0.loc[loser_tickers.to_list()]\n",
    "loser_df0 = loser_df0.pivot_table(index='date',columns='name')['pct_change'].fillna(0) # \n",
    "# winner_df0\n",
    "loser_df0.dot(weights) # gives us the percent change of the loser portfolio"
   ]
  },
  {
   "cell_type": "code",
   "execution_count": 380,
   "metadata": {},
   "outputs": [
    {
     "output_type": "execute_result",
     "data": {
      "text/plain": [
       "date\n",
       "2010-02-01    0.000000\n",
       "2010-03-01    0.036022\n",
       "2010-04-01    0.037975\n",
       "2010-05-01   -0.065326\n",
       "2010-06-01   -0.151906\n",
       "2010-07-01   -0.134875\n",
       "2010-08-01   -0.208729\n",
       "2010-09-01   -0.137191\n",
       "2010-10-01   -0.130144\n",
       "2010-11-01   -0.154711\n",
       "dtype: float64"
      ]
     },
     "metadata": {},
     "execution_count": 380
    }
   ],
   "source": [
    "(loser_df0.dot(weights)+1).cumprod() - 1"
   ]
  },
  {
   "source": [
    "this is us selecting winners and losers based on j, and then "
   ],
   "cell_type": "markdown",
   "metadata": {}
  },
  {
   "source": [
    "df0 df0_hold\n",
    "df0\n",
    " winners and losers\n",
    " winnes are gonna wion\n",
    " losers are gonna losers\n",
    " 1\n",
    " -1\n",
    " will winners for a certain buy and hold not win?\n",
    " will losers not lose?\n",
    " we are trying to be correct about it\n",
    " lagged returns to make statistical observations about an actual positive or negative return?\n",
    " is the paper just a guide?"
   ],
   "cell_type": "markdown",
   "metadata": {}
  },
  {
   "source": [
    "paper used a single factor logisti regression model \n",
    "dependent variable was whether a momentum portfolio would actually be good.\n",
    "\n",
    "in the following time period, which is the best strategy to make?\n"
   ],
   "cell_type": "markdown",
   "metadata": {}
  },
  {
   "source": [
    "what portfolio? we have momentum and reversal. choose which one to make at certain times. \n",
    "buy and hold random stocks? is it making predictions on "
   ],
   "cell_type": "markdown",
   "metadata": {}
  },
  {
   "source": [
    "when you do simple buy and hold?\n",
    "in the first paper ,a no effect? if both are going down we just sell and wait.\n",
    "it would e super cool to see the evolution of the portfolios over the time period.\n",
    "its a machine learning problem because we are making decisions to maximize profitability and cutting down on drawdown.\n",
    "\n",
    "testing its performance on volatile market periods\n",
    "    2008, 2012, 2020\n",
    "its a strategy informed on a prediction task."
   ],
   "cell_type": "markdown",
   "metadata": {}
  },
  {
   "cell_type": "code",
   "execution_count": null,
   "metadata": {},
   "outputs": [],
   "source": []
  },
  {
   "cell_type": "code",
   "execution_count": null,
   "metadata": {},
   "outputs": [],
   "source": [
    "df0.groupby('Name')"
   ]
  },
  {
   "cell_type": "code",
   "execution_count": null,
   "metadata": {},
   "outputs": [],
   "source": []
  },
  {
   "cell_type": "code",
   "execution_count": null,
   "metadata": {},
   "outputs": [],
   "source": []
  },
  {
   "cell_type": "code",
   "execution_count": null,
   "metadata": {},
   "outputs": [],
   "source": []
  },
  {
   "source": [
    "stocks in ascending order, based on simple returns on the previous j quarters lagged returns\n",
    "j=4: calculate 1-4 quarter lagged returns\n",
    "for every k, go through all possible j's. j*k possibilities\n",
    "predict positive or negative based on returns."
   ],
   "cell_type": "markdown",
   "metadata": {}
  },
  {
   "cell_type": "code",
   "execution_count": 104,
   "metadata": {},
   "outputs": [],
   "source": [
    "# mapping j period, looking at the data at a certain j, cumulative product. worrying about positions since we have the times,\n",
    "# we would have needed percentage of change and calculate cumulative product and have that lagged return, that lagged return, we had lagged return from j so what is a loser exactly.\n",
    "# amir asks if the paper calcualtes the j lag return and then j = lag and then for that j, between the 500 we fidn the top n winners and n losers and then put them into respective groups\n",
    "# check out link amir sent\n",
    "# getting lagged values iteratively \n",
    "# we would just need to get j in this case so it would be over the period the trailing window size. we would have to worry about defining  what one step is.\n",
    "\n",
    "\n",
    "# TODO questions I would like to ask: for k holding period, do we just want to get the last value as a label, or pull all the data ahead?\n",
    "# how are we training, exactly? our current abstraction is kind of getting k and calculating their features at once... are we looking at patterns in the different groups?\n",
    "\n"
   ]
  },
  {
   "cell_type": "code",
   "execution_count": null,
   "metadata": {},
   "outputs": [],
   "source": []
  },
  {
   "cell_type": "code",
   "execution_count": 117,
   "metadata": {},
   "outputs": [
    {
     "output_type": "execute_result",
     "data": {
      "text/plain": [
       "           date      open      high       low     close  adj_close  \\\n",
       "Name                                                                 \n",
       "AAPL 2010-02-01  6.870357  7.327500  6.816071  7.307857   6.294721   \n",
       "AAPL 2010-03-01  7.348214  8.481429  7.337500  8.392857   7.229299   \n",
       "AAPL 2010-04-01  8.478929  9.730714  8.312500  9.324643   8.031907   \n",
       "AAPL 2010-05-01  9.422857  9.567143  7.116071  9.174286   7.902396   \n",
       "AAPL 2010-06-01  9.274643  9.964643  8.650000  8.983214   7.737815   \n",
       "\n",
       "            volume  \n",
       "Name                \n",
       "AAPL  1.077608e+10  \n",
       "AAPL  1.215417e+10  \n",
       "AAPL  1.236713e+10  \n",
       "AAPL  1.808265e+10  \n",
       "AAPL  1.665125e+10  "
      ],
      "text/html": "<div>\n<style scoped>\n    .dataframe tbody tr th:only-of-type {\n        vertical-align: middle;\n    }\n\n    .dataframe tbody tr th {\n        vertical-align: top;\n    }\n\n    .dataframe thead th {\n        text-align: right;\n    }\n</style>\n<table border=\"1\" class=\"dataframe\">\n  <thead>\n    <tr style=\"text-align: right;\">\n      <th></th>\n      <th>date</th>\n      <th>open</th>\n      <th>high</th>\n      <th>low</th>\n      <th>close</th>\n      <th>adj_close</th>\n      <th>volume</th>\n    </tr>\n    <tr>\n      <th>Name</th>\n      <th></th>\n      <th></th>\n      <th></th>\n      <th></th>\n      <th></th>\n      <th></th>\n      <th></th>\n    </tr>\n  </thead>\n  <tbody>\n    <tr>\n      <th>AAPL</th>\n      <td>2010-02-01</td>\n      <td>6.870357</td>\n      <td>7.327500</td>\n      <td>6.816071</td>\n      <td>7.307857</td>\n      <td>6.294721</td>\n      <td>1.077608e+10</td>\n    </tr>\n    <tr>\n      <th>AAPL</th>\n      <td>2010-03-01</td>\n      <td>7.348214</td>\n      <td>8.481429</td>\n      <td>7.337500</td>\n      <td>8.392857</td>\n      <td>7.229299</td>\n      <td>1.215417e+10</td>\n    </tr>\n    <tr>\n      <th>AAPL</th>\n      <td>2010-04-01</td>\n      <td>8.478929</td>\n      <td>9.730714</td>\n      <td>8.312500</td>\n      <td>9.324643</td>\n      <td>8.031907</td>\n      <td>1.236713e+10</td>\n    </tr>\n    <tr>\n      <th>AAPL</th>\n      <td>2010-05-01</td>\n      <td>9.422857</td>\n      <td>9.567143</td>\n      <td>7.116071</td>\n      <td>9.174286</td>\n      <td>7.902396</td>\n      <td>1.808265e+10</td>\n    </tr>\n    <tr>\n      <th>AAPL</th>\n      <td>2010-06-01</td>\n      <td>9.274643</td>\n      <td>9.964643</td>\n      <td>8.650000</td>\n      <td>8.983214</td>\n      <td>7.737815</td>\n      <td>1.665125e+10</td>\n    </tr>\n  </tbody>\n</table>\n</div>"
     },
     "metadata": {},
     "execution_count": 117
    }
   ],
   "source": [
    "aapl = imputed_aapl # take a look at apple again, this time with no nulls (dont know how to deal with them help)\n",
    "aapl.dropna().head()"
   ]
  },
  {
   "cell_type": "code",
   "execution_count": 484,
   "metadata": {},
   "outputs": [],
   "source": [
    "# from sklearn.impute import KNNImputer\n",
    "\n",
    "# def effect(x):\n",
    "#     if( x < 0.0 ):\n",
    "#         return \"Reversal\"\n",
    "#     elif(x > 0.0):\n",
    "#         return \"Momentum\"\n",
    "#     else:\n",
    "#         return \"None\"\n",
    "    \n",
    "\n",
    "\n",
    "# ## shamelessly stolen code, still trying to comprehend what wizardry is going on in here\n",
    "# dfs = []\n",
    "# k = 4\n",
    "# # imputer = KNNImputer(n_neighbors = 2)\n",
    "# for ticker in tickers[:10]:\n",
    "#     print('Grabbing ' + ticker + \" data!\")\n",
    "#     curr_df = pdr.get_data_yahoo(ticker, start=\"2009-12-01\", interval = \"1mo\")\n",
    "#     if(curr_df.empty):\n",
    "#         print('Failed to get ' + ticker + ' stock data!')\n",
    "#         continue\n",
    "    \n",
    "#     #imputed_df = imputer.fit_transform(curr_df)\n",
    "#     #imputed_df = pd.DataFrame(imputed_df,columns=['Open','High','Low','Close','Adj Close','Volume'])\n",
    "#     #imputed_df = imputed_df.set_index(curr_df.index)\n",
    "    \n",
    "    \n",
    "#     curr_df = curr_df.dropna()\n",
    "#     #imputed_df['Name'] = ticker\n",
    "#     curr_df['Name'] = ticker\n",
    "#     # curr_df = imputed_df\n",
    "#     print(curr_df.isna().sum())\n",
    "#     curr_df = curr_df.reset_index()\n",
    "#     curr_df.set_index(['Name','Date'],inplace=True)\n",
    "#     curr_df = curr_df[~curr_df.index.duplicated(keep='first')]\n",
    "#     obs_df = (curr_df.reset_index(level=[0])\n",
    "#               ['Adj Close'].resample(str(k) + 'M').first().ffill().pct_change()[1:]).to_frame()\n",
    "#     obs_df.rename(columns={'Adj Close':'Adj Close %Change'},inplace=True)\n",
    "#     obs_df['Name'] = ticker\n",
    "#     obs_df = obs_df.reset_index()\n",
    "#     obs_df.set_index(['Name','Date'],inplace=True)\n",
    "#     obs_df['Cum Returns'] = (obs_df['Adj Close %Change'] + 1).groupby('Name').cumprod()\n",
    "#     obs_df['Effect'] = obs_df['Adj Close %Change'].apply(effect)\n",
    "#     dfs.append(obs_df)\n",
    "#     curr_df = None\n",
    "#     obs_df = None"
   ]
  },
  {
   "cell_type": "code",
   "execution_count": 119,
   "metadata": {},
   "outputs": [
    {
     "output_type": "execute_result",
     "data": {
      "text/plain": [
       "<AxesSubplot:>"
      ]
     },
     "metadata": {},
     "execution_count": 119
    },
    {
     "output_type": "display_data",
     "data": {
      "text/plain": "<Figure size 432x288 with 1 Axes>",
      "image/svg+xml": "<?xml version=\"1.0\" encoding=\"utf-8\" standalone=\"no\"?>\r\n<!DOCTYPE svg PUBLIC \"-//W3C//DTD SVG 1.1//EN\"\r\n  \"http://www.w3.org/Graphics/SVG/1.1/DTD/svg11.dtd\">\r\n<!-- Created with matplotlib (https://matplotlib.org/) -->\r\n<svg height=\"299.615781pt\" version=\"1.1\" viewBox=\"0 0 368.925 299.615781\" width=\"368.925pt\" xmlns=\"http://www.w3.org/2000/svg\" xmlns:xlink=\"http://www.w3.org/1999/xlink\">\r\n <metadata>\r\n  <rdf:RDF xmlns:cc=\"http://creativecommons.org/ns#\" xmlns:dc=\"http://purl.org/dc/elements/1.1/\" xmlns:rdf=\"http://www.w3.org/1999/02/22-rdf-syntax-ns#\">\r\n   <cc:Work>\r\n    <dc:type rdf:resource=\"http://purl.org/dc/dcmitype/StillImage\"/>\r\n    <dc:date>2021-03-05T12:28:05.069288</dc:date>\r\n    <dc:format>image/svg+xml</dc:format>\r\n    <dc:creator>\r\n     <cc:Agent>\r\n      <dc:title>Matplotlib v3.3.3, https://matplotlib.org/</dc:title>\r\n     </cc:Agent>\r\n    </dc:creator>\r\n   </cc:Work>\r\n  </rdf:RDF>\r\n </metadata>\r\n <defs>\r\n  <style type=\"text/css\">*{stroke-linecap:butt;stroke-linejoin:round;}</style>\r\n </defs>\r\n <g id=\"figure_1\">\r\n  <g id=\"patch_1\">\r\n   <path d=\"M -0 299.615781 \r\nL 368.925 299.615781 \r\nL 368.925 0 \r\nL -0 0 \r\nz\r\n\" style=\"fill:none;\"/>\r\n  </g>\r\n  <g id=\"axes_1\">\r\n   <g id=\"patch_2\">\r\n    <path d=\"M 26.925 228.439219 \r\nL 361.725 228.439219 \r\nL 361.725 10.999219 \r\nL 26.925 10.999219 \r\nz\r\n\" style=\"fill:#ffffff;\"/>\r\n   </g>\r\n   <g id=\"patch_3\">\r\n    <path clip-path=\"url(#p6a0ee5a08d)\" d=\"M 68.775 228.439219 \r\nL 152.475 228.439219 \r\nL 152.475 47.239219 \r\nL 68.775 47.239219 \r\nz\r\n\" style=\"fill:#1f77b4;\"/>\r\n   </g>\r\n   <g id=\"patch_4\">\r\n    <path clip-path=\"url(#p6a0ee5a08d)\" d=\"M 236.175 228.439219 \r\nL 319.875 228.439219 \r\nL 319.875 101.599219 \r\nL 236.175 101.599219 \r\nz\r\n\" style=\"fill:#1f77b4;\"/>\r\n   </g>\r\n   <g id=\"matplotlib.axis_1\">\r\n    <g id=\"xtick_1\">\r\n     <g id=\"line2d_1\">\r\n      <defs>\r\n       <path d=\"M 0 0 \r\nL 0 3.5 \r\n\" id=\"m64c91fcbf6\" style=\"stroke:#000000;stroke-width:0.8;\"/>\r\n      </defs>\r\n      <g>\r\n       <use style=\"stroke:#000000;stroke-width:0.8;\" x=\"110.625\" xlink:href=\"#m64c91fcbf6\" y=\"228.439219\"/>\r\n      </g>\r\n     </g>\r\n     <g id=\"text_1\">\r\n      <!-- Momentum -->\r\n      <g transform=\"translate(113.384375 292.415781)rotate(-90)scale(0.1 -0.1)\">\r\n       <defs>\r\n        <path d=\"M 9.8125 72.90625 \r\nL 24.515625 72.90625 \r\nL 43.109375 23.296875 \r\nL 61.8125 72.90625 \r\nL 76.515625 72.90625 \r\nL 76.515625 0 \r\nL 66.890625 0 \r\nL 66.890625 64.015625 \r\nL 48.09375 14.015625 \r\nL 38.1875 14.015625 \r\nL 19.390625 64.015625 \r\nL 19.390625 0 \r\nL 9.8125 0 \r\nz\r\n\" id=\"DejaVuSans-77\"/>\r\n        <path d=\"M 30.609375 48.390625 \r\nQ 23.390625 48.390625 19.1875 42.75 \r\nQ 14.984375 37.109375 14.984375 27.296875 \r\nQ 14.984375 17.484375 19.15625 11.84375 \r\nQ 23.34375 6.203125 30.609375 6.203125 \r\nQ 37.796875 6.203125 41.984375 11.859375 \r\nQ 46.1875 17.53125 46.1875 27.296875 \r\nQ 46.1875 37.015625 41.984375 42.703125 \r\nQ 37.796875 48.390625 30.609375 48.390625 \r\nz\r\nM 30.609375 56 \r\nQ 42.328125 56 49.015625 48.375 \r\nQ 55.71875 40.765625 55.71875 27.296875 \r\nQ 55.71875 13.875 49.015625 6.21875 \r\nQ 42.328125 -1.421875 30.609375 -1.421875 \r\nQ 18.84375 -1.421875 12.171875 6.21875 \r\nQ 5.515625 13.875 5.515625 27.296875 \r\nQ 5.515625 40.765625 12.171875 48.375 \r\nQ 18.84375 56 30.609375 56 \r\nz\r\n\" id=\"DejaVuSans-111\"/>\r\n        <path d=\"M 52 44.1875 \r\nQ 55.375 50.25 60.0625 53.125 \r\nQ 64.75 56 71.09375 56 \r\nQ 79.640625 56 84.28125 50.015625 \r\nQ 88.921875 44.046875 88.921875 33.015625 \r\nL 88.921875 0 \r\nL 79.890625 0 \r\nL 79.890625 32.71875 \r\nQ 79.890625 40.578125 77.09375 44.375 \r\nQ 74.3125 48.1875 68.609375 48.1875 \r\nQ 61.625 48.1875 57.5625 43.546875 \r\nQ 53.515625 38.921875 53.515625 30.90625 \r\nL 53.515625 0 \r\nL 44.484375 0 \r\nL 44.484375 32.71875 \r\nQ 44.484375 40.625 41.703125 44.40625 \r\nQ 38.921875 48.1875 33.109375 48.1875 \r\nQ 26.21875 48.1875 22.15625 43.53125 \r\nQ 18.109375 38.875 18.109375 30.90625 \r\nL 18.109375 0 \r\nL 9.078125 0 \r\nL 9.078125 54.6875 \r\nL 18.109375 54.6875 \r\nL 18.109375 46.1875 \r\nQ 21.1875 51.21875 25.484375 53.609375 \r\nQ 29.78125 56 35.6875 56 \r\nQ 41.65625 56 45.828125 52.96875 \r\nQ 50 49.953125 52 44.1875 \r\nz\r\n\" id=\"DejaVuSans-109\"/>\r\n        <path d=\"M 56.203125 29.59375 \r\nL 56.203125 25.203125 \r\nL 14.890625 25.203125 \r\nQ 15.484375 15.921875 20.484375 11.0625 \r\nQ 25.484375 6.203125 34.421875 6.203125 \r\nQ 39.59375 6.203125 44.453125 7.46875 \r\nQ 49.3125 8.734375 54.109375 11.28125 \r\nL 54.109375 2.78125 \r\nQ 49.265625 0.734375 44.1875 -0.34375 \r\nQ 39.109375 -1.421875 33.890625 -1.421875 \r\nQ 20.796875 -1.421875 13.15625 6.1875 \r\nQ 5.515625 13.8125 5.515625 26.8125 \r\nQ 5.515625 40.234375 12.765625 48.109375 \r\nQ 20.015625 56 32.328125 56 \r\nQ 43.359375 56 49.78125 48.890625 \r\nQ 56.203125 41.796875 56.203125 29.59375 \r\nz\r\nM 47.21875 32.234375 \r\nQ 47.125 39.59375 43.09375 43.984375 \r\nQ 39.0625 48.390625 32.421875 48.390625 \r\nQ 24.90625 48.390625 20.390625 44.140625 \r\nQ 15.875 39.890625 15.1875 32.171875 \r\nz\r\n\" id=\"DejaVuSans-101\"/>\r\n        <path d=\"M 54.890625 33.015625 \r\nL 54.890625 0 \r\nL 45.90625 0 \r\nL 45.90625 32.71875 \r\nQ 45.90625 40.484375 42.875 44.328125 \r\nQ 39.84375 48.1875 33.796875 48.1875 \r\nQ 26.515625 48.1875 22.3125 43.546875 \r\nQ 18.109375 38.921875 18.109375 30.90625 \r\nL 18.109375 0 \r\nL 9.078125 0 \r\nL 9.078125 54.6875 \r\nL 18.109375 54.6875 \r\nL 18.109375 46.1875 \r\nQ 21.34375 51.125 25.703125 53.5625 \r\nQ 30.078125 56 35.796875 56 \r\nQ 45.21875 56 50.046875 50.171875 \r\nQ 54.890625 44.34375 54.890625 33.015625 \r\nz\r\n\" id=\"DejaVuSans-110\"/>\r\n        <path d=\"M 18.3125 70.21875 \r\nL 18.3125 54.6875 \r\nL 36.8125 54.6875 \r\nL 36.8125 47.703125 \r\nL 18.3125 47.703125 \r\nL 18.3125 18.015625 \r\nQ 18.3125 11.328125 20.140625 9.421875 \r\nQ 21.96875 7.515625 27.59375 7.515625 \r\nL 36.8125 7.515625 \r\nL 36.8125 0 \r\nL 27.59375 0 \r\nQ 17.1875 0 13.234375 3.875 \r\nQ 9.28125 7.765625 9.28125 18.015625 \r\nL 9.28125 47.703125 \r\nL 2.6875 47.703125 \r\nL 2.6875 54.6875 \r\nL 9.28125 54.6875 \r\nL 9.28125 70.21875 \r\nz\r\n\" id=\"DejaVuSans-116\"/>\r\n        <path d=\"M 8.5 21.578125 \r\nL 8.5 54.6875 \r\nL 17.484375 54.6875 \r\nL 17.484375 21.921875 \r\nQ 17.484375 14.15625 20.5 10.265625 \r\nQ 23.53125 6.390625 29.59375 6.390625 \r\nQ 36.859375 6.390625 41.078125 11.03125 \r\nQ 45.3125 15.671875 45.3125 23.6875 \r\nL 45.3125 54.6875 \r\nL 54.296875 54.6875 \r\nL 54.296875 0 \r\nL 45.3125 0 \r\nL 45.3125 8.40625 \r\nQ 42.046875 3.421875 37.71875 1 \r\nQ 33.40625 -1.421875 27.6875 -1.421875 \r\nQ 18.265625 -1.421875 13.375 4.4375 \r\nQ 8.5 10.296875 8.5 21.578125 \r\nz\r\nM 31.109375 56 \r\nz\r\n\" id=\"DejaVuSans-117\"/>\r\n       </defs>\r\n       <use xlink:href=\"#DejaVuSans-77\"/>\r\n       <use x=\"86.279297\" xlink:href=\"#DejaVuSans-111\"/>\r\n       <use x=\"147.460938\" xlink:href=\"#DejaVuSans-109\"/>\r\n       <use x=\"244.873047\" xlink:href=\"#DejaVuSans-101\"/>\r\n       <use x=\"306.396484\" xlink:href=\"#DejaVuSans-110\"/>\r\n       <use x=\"369.775391\" xlink:href=\"#DejaVuSans-116\"/>\r\n       <use x=\"408.984375\" xlink:href=\"#DejaVuSans-117\"/>\r\n       <use x=\"472.363281\" xlink:href=\"#DejaVuSans-109\"/>\r\n      </g>\r\n     </g>\r\n    </g>\r\n    <g id=\"xtick_2\">\r\n     <g id=\"line2d_2\">\r\n      <g>\r\n       <use style=\"stroke:#000000;stroke-width:0.8;\" x=\"278.025\" xlink:href=\"#m64c91fcbf6\" y=\"228.439219\"/>\r\n      </g>\r\n     </g>\r\n     <g id=\"text_2\">\r\n      <!-- Reversal -->\r\n      <g transform=\"translate(280.784375 278.389219)rotate(-90)scale(0.1 -0.1)\">\r\n       <defs>\r\n        <path d=\"M 44.390625 34.1875 \r\nQ 47.5625 33.109375 50.5625 29.59375 \r\nQ 53.5625 26.078125 56.59375 19.921875 \r\nL 66.609375 0 \r\nL 56 0 \r\nL 46.6875 18.703125 \r\nQ 43.0625 26.03125 39.671875 28.421875 \r\nQ 36.28125 30.8125 30.421875 30.8125 \r\nL 19.671875 30.8125 \r\nL 19.671875 0 \r\nL 9.8125 0 \r\nL 9.8125 72.90625 \r\nL 32.078125 72.90625 \r\nQ 44.578125 72.90625 50.734375 67.671875 \r\nQ 56.890625 62.453125 56.890625 51.90625 \r\nQ 56.890625 45.015625 53.6875 40.46875 \r\nQ 50.484375 35.9375 44.390625 34.1875 \r\nz\r\nM 19.671875 64.796875 \r\nL 19.671875 38.921875 \r\nL 32.078125 38.921875 \r\nQ 39.203125 38.921875 42.84375 42.21875 \r\nQ 46.484375 45.515625 46.484375 51.90625 \r\nQ 46.484375 58.296875 42.84375 61.546875 \r\nQ 39.203125 64.796875 32.078125 64.796875 \r\nz\r\n\" id=\"DejaVuSans-82\"/>\r\n        <path d=\"M 2.984375 54.6875 \r\nL 12.5 54.6875 \r\nL 29.59375 8.796875 \r\nL 46.6875 54.6875 \r\nL 56.203125 54.6875 \r\nL 35.6875 0 \r\nL 23.484375 0 \r\nz\r\n\" id=\"DejaVuSans-118\"/>\r\n        <path d=\"M 41.109375 46.296875 \r\nQ 39.59375 47.171875 37.8125 47.578125 \r\nQ 36.03125 48 33.890625 48 \r\nQ 26.265625 48 22.1875 43.046875 \r\nQ 18.109375 38.09375 18.109375 28.8125 \r\nL 18.109375 0 \r\nL 9.078125 0 \r\nL 9.078125 54.6875 \r\nL 18.109375 54.6875 \r\nL 18.109375 46.1875 \r\nQ 20.953125 51.171875 25.484375 53.578125 \r\nQ 30.03125 56 36.53125 56 \r\nQ 37.453125 56 38.578125 55.875 \r\nQ 39.703125 55.765625 41.0625 55.515625 \r\nz\r\n\" id=\"DejaVuSans-114\"/>\r\n        <path d=\"M 44.28125 53.078125 \r\nL 44.28125 44.578125 \r\nQ 40.484375 46.53125 36.375 47.5 \r\nQ 32.28125 48.484375 27.875 48.484375 \r\nQ 21.1875 48.484375 17.84375 46.4375 \r\nQ 14.5 44.390625 14.5 40.28125 \r\nQ 14.5 37.15625 16.890625 35.375 \r\nQ 19.28125 33.59375 26.515625 31.984375 \r\nL 29.59375 31.296875 \r\nQ 39.15625 29.25 43.1875 25.515625 \r\nQ 47.21875 21.78125 47.21875 15.09375 \r\nQ 47.21875 7.46875 41.1875 3.015625 \r\nQ 35.15625 -1.421875 24.609375 -1.421875 \r\nQ 20.21875 -1.421875 15.453125 -0.5625 \r\nQ 10.6875 0.296875 5.421875 2 \r\nL 5.421875 11.28125 \r\nQ 10.40625 8.6875 15.234375 7.390625 \r\nQ 20.0625 6.109375 24.8125 6.109375 \r\nQ 31.15625 6.109375 34.5625 8.28125 \r\nQ 37.984375 10.453125 37.984375 14.40625 \r\nQ 37.984375 18.0625 35.515625 20.015625 \r\nQ 33.0625 21.96875 24.703125 23.78125 \r\nL 21.578125 24.515625 \r\nQ 13.234375 26.265625 9.515625 29.90625 \r\nQ 5.8125 33.546875 5.8125 39.890625 \r\nQ 5.8125 47.609375 11.28125 51.796875 \r\nQ 16.75 56 26.8125 56 \r\nQ 31.78125 56 36.171875 55.265625 \r\nQ 40.578125 54.546875 44.28125 53.078125 \r\nz\r\n\" id=\"DejaVuSans-115\"/>\r\n        <path d=\"M 34.28125 27.484375 \r\nQ 23.390625 27.484375 19.1875 25 \r\nQ 14.984375 22.515625 14.984375 16.5 \r\nQ 14.984375 11.71875 18.140625 8.90625 \r\nQ 21.296875 6.109375 26.703125 6.109375 \r\nQ 34.1875 6.109375 38.703125 11.40625 \r\nQ 43.21875 16.703125 43.21875 25.484375 \r\nL 43.21875 27.484375 \r\nz\r\nM 52.203125 31.203125 \r\nL 52.203125 0 \r\nL 43.21875 0 \r\nL 43.21875 8.296875 \r\nQ 40.140625 3.328125 35.546875 0.953125 \r\nQ 30.953125 -1.421875 24.3125 -1.421875 \r\nQ 15.921875 -1.421875 10.953125 3.296875 \r\nQ 6 8.015625 6 15.921875 \r\nQ 6 25.140625 12.171875 29.828125 \r\nQ 18.359375 34.515625 30.609375 34.515625 \r\nL 43.21875 34.515625 \r\nL 43.21875 35.40625 \r\nQ 43.21875 41.609375 39.140625 45 \r\nQ 35.0625 48.390625 27.6875 48.390625 \r\nQ 23 48.390625 18.546875 47.265625 \r\nQ 14.109375 46.140625 10.015625 43.890625 \r\nL 10.015625 52.203125 \r\nQ 14.9375 54.109375 19.578125 55.046875 \r\nQ 24.21875 56 28.609375 56 \r\nQ 40.484375 56 46.34375 49.84375 \r\nQ 52.203125 43.703125 52.203125 31.203125 \r\nz\r\n\" id=\"DejaVuSans-97\"/>\r\n        <path d=\"M 9.421875 75.984375 \r\nL 18.40625 75.984375 \r\nL 18.40625 0 \r\nL 9.421875 0 \r\nz\r\n\" id=\"DejaVuSans-108\"/>\r\n       </defs>\r\n       <use xlink:href=\"#DejaVuSans-82\"/>\r\n       <use x=\"64.982422\" xlink:href=\"#DejaVuSans-101\"/>\r\n       <use x=\"126.505859\" xlink:href=\"#DejaVuSans-118\"/>\r\n       <use x=\"185.685547\" xlink:href=\"#DejaVuSans-101\"/>\r\n       <use x=\"247.208984\" xlink:href=\"#DejaVuSans-114\"/>\r\n       <use x=\"288.322266\" xlink:href=\"#DejaVuSans-115\"/>\r\n       <use x=\"340.421875\" xlink:href=\"#DejaVuSans-97\"/>\r\n       <use x=\"401.701172\" xlink:href=\"#DejaVuSans-108\"/>\r\n      </g>\r\n     </g>\r\n    </g>\r\n   </g>\r\n   <g id=\"matplotlib.axis_2\">\r\n    <g id=\"ytick_1\">\r\n     <g id=\"line2d_3\">\r\n      <defs>\r\n       <path d=\"M 0 0 \r\nL -3.5 0 \r\n\" id=\"mb8b59a4877\" style=\"stroke:#000000;stroke-width:0.8;\"/>\r\n      </defs>\r\n      <g>\r\n       <use style=\"stroke:#000000;stroke-width:0.8;\" x=\"26.925\" xlink:href=\"#mb8b59a4877\" y=\"228.439219\"/>\r\n      </g>\r\n     </g>\r\n     <g id=\"text_3\">\r\n      <!-- 0 -->\r\n      <g transform=\"translate(13.5625 232.238437)scale(0.1 -0.1)\">\r\n       <defs>\r\n        <path d=\"M 31.78125 66.40625 \r\nQ 24.171875 66.40625 20.328125 58.90625 \r\nQ 16.5 51.421875 16.5 36.375 \r\nQ 16.5 21.390625 20.328125 13.890625 \r\nQ 24.171875 6.390625 31.78125 6.390625 \r\nQ 39.453125 6.390625 43.28125 13.890625 \r\nQ 47.125 21.390625 47.125 36.375 \r\nQ 47.125 51.421875 43.28125 58.90625 \r\nQ 39.453125 66.40625 31.78125 66.40625 \r\nz\r\nM 31.78125 74.21875 \r\nQ 44.046875 74.21875 50.515625 64.515625 \r\nQ 56.984375 54.828125 56.984375 36.375 \r\nQ 56.984375 17.96875 50.515625 8.265625 \r\nQ 44.046875 -1.421875 31.78125 -1.421875 \r\nQ 19.53125 -1.421875 13.0625 8.265625 \r\nQ 6.59375 17.96875 6.59375 36.375 \r\nQ 6.59375 54.828125 13.0625 64.515625 \r\nQ 19.53125 74.21875 31.78125 74.21875 \r\nz\r\n\" id=\"DejaVuSans-48\"/>\r\n       </defs>\r\n       <use xlink:href=\"#DejaVuSans-48\"/>\r\n      </g>\r\n     </g>\r\n    </g>\r\n    <g id=\"ytick_2\">\r\n     <g id=\"line2d_4\">\r\n      <g>\r\n       <use style=\"stroke:#000000;stroke-width:0.8;\" x=\"26.925\" xlink:href=\"#mb8b59a4877\" y=\"210.319219\"/>\r\n      </g>\r\n     </g>\r\n     <g id=\"text_4\">\r\n      <!-- 2 -->\r\n      <g transform=\"translate(13.5625 214.118437)scale(0.1 -0.1)\">\r\n       <defs>\r\n        <path d=\"M 19.1875 8.296875 \r\nL 53.609375 8.296875 \r\nL 53.609375 0 \r\nL 7.328125 0 \r\nL 7.328125 8.296875 \r\nQ 12.9375 14.109375 22.625 23.890625 \r\nQ 32.328125 33.6875 34.8125 36.53125 \r\nQ 39.546875 41.84375 41.421875 45.53125 \r\nQ 43.3125 49.21875 43.3125 52.78125 \r\nQ 43.3125 58.59375 39.234375 62.25 \r\nQ 35.15625 65.921875 28.609375 65.921875 \r\nQ 23.96875 65.921875 18.8125 64.3125 \r\nQ 13.671875 62.703125 7.8125 59.421875 \r\nL 7.8125 69.390625 \r\nQ 13.765625 71.78125 18.9375 73 \r\nQ 24.125 74.21875 28.421875 74.21875 \r\nQ 39.75 74.21875 46.484375 68.546875 \r\nQ 53.21875 62.890625 53.21875 53.421875 \r\nQ 53.21875 48.921875 51.53125 44.890625 \r\nQ 49.859375 40.875 45.40625 35.40625 \r\nQ 44.1875 33.984375 37.640625 27.21875 \r\nQ 31.109375 20.453125 19.1875 8.296875 \r\nz\r\n\" id=\"DejaVuSans-50\"/>\r\n       </defs>\r\n       <use xlink:href=\"#DejaVuSans-50\"/>\r\n      </g>\r\n     </g>\r\n    </g>\r\n    <g id=\"ytick_3\">\r\n     <g id=\"line2d_5\">\r\n      <g>\r\n       <use style=\"stroke:#000000;stroke-width:0.8;\" x=\"26.925\" xlink:href=\"#mb8b59a4877\" y=\"192.199219\"/>\r\n      </g>\r\n     </g>\r\n     <g id=\"text_5\">\r\n      <!-- 4 -->\r\n      <g transform=\"translate(13.5625 195.998437)scale(0.1 -0.1)\">\r\n       <defs>\r\n        <path d=\"M 37.796875 64.3125 \r\nL 12.890625 25.390625 \r\nL 37.796875 25.390625 \r\nz\r\nM 35.203125 72.90625 \r\nL 47.609375 72.90625 \r\nL 47.609375 25.390625 \r\nL 58.015625 25.390625 \r\nL 58.015625 17.1875 \r\nL 47.609375 17.1875 \r\nL 47.609375 0 \r\nL 37.796875 0 \r\nL 37.796875 17.1875 \r\nL 4.890625 17.1875 \r\nL 4.890625 26.703125 \r\nz\r\n\" id=\"DejaVuSans-52\"/>\r\n       </defs>\r\n       <use xlink:href=\"#DejaVuSans-52\"/>\r\n      </g>\r\n     </g>\r\n    </g>\r\n    <g id=\"ytick_4\">\r\n     <g id=\"line2d_6\">\r\n      <g>\r\n       <use style=\"stroke:#000000;stroke-width:0.8;\" x=\"26.925\" xlink:href=\"#mb8b59a4877\" y=\"174.079219\"/>\r\n      </g>\r\n     </g>\r\n     <g id=\"text_6\">\r\n      <!-- 6 -->\r\n      <g transform=\"translate(13.5625 177.878437)scale(0.1 -0.1)\">\r\n       <defs>\r\n        <path d=\"M 33.015625 40.375 \r\nQ 26.375 40.375 22.484375 35.828125 \r\nQ 18.609375 31.296875 18.609375 23.390625 \r\nQ 18.609375 15.53125 22.484375 10.953125 \r\nQ 26.375 6.390625 33.015625 6.390625 \r\nQ 39.65625 6.390625 43.53125 10.953125 \r\nQ 47.40625 15.53125 47.40625 23.390625 \r\nQ 47.40625 31.296875 43.53125 35.828125 \r\nQ 39.65625 40.375 33.015625 40.375 \r\nz\r\nM 52.59375 71.296875 \r\nL 52.59375 62.3125 \r\nQ 48.875 64.0625 45.09375 64.984375 \r\nQ 41.3125 65.921875 37.59375 65.921875 \r\nQ 27.828125 65.921875 22.671875 59.328125 \r\nQ 17.53125 52.734375 16.796875 39.40625 \r\nQ 19.671875 43.65625 24.015625 45.921875 \r\nQ 28.375 48.1875 33.59375 48.1875 \r\nQ 44.578125 48.1875 50.953125 41.515625 \r\nQ 57.328125 34.859375 57.328125 23.390625 \r\nQ 57.328125 12.15625 50.6875 5.359375 \r\nQ 44.046875 -1.421875 33.015625 -1.421875 \r\nQ 20.359375 -1.421875 13.671875 8.265625 \r\nQ 6.984375 17.96875 6.984375 36.375 \r\nQ 6.984375 53.65625 15.1875 63.9375 \r\nQ 23.390625 74.21875 37.203125 74.21875 \r\nQ 40.921875 74.21875 44.703125 73.484375 \r\nQ 48.484375 72.75 52.59375 71.296875 \r\nz\r\n\" id=\"DejaVuSans-54\"/>\r\n       </defs>\r\n       <use xlink:href=\"#DejaVuSans-54\"/>\r\n      </g>\r\n     </g>\r\n    </g>\r\n    <g id=\"ytick_5\">\r\n     <g id=\"line2d_7\">\r\n      <g>\r\n       <use style=\"stroke:#000000;stroke-width:0.8;\" x=\"26.925\" xlink:href=\"#mb8b59a4877\" y=\"155.959219\"/>\r\n      </g>\r\n     </g>\r\n     <g id=\"text_7\">\r\n      <!-- 8 -->\r\n      <g transform=\"translate(13.5625 159.758437)scale(0.1 -0.1)\">\r\n       <defs>\r\n        <path d=\"M 31.78125 34.625 \r\nQ 24.75 34.625 20.71875 30.859375 \r\nQ 16.703125 27.09375 16.703125 20.515625 \r\nQ 16.703125 13.921875 20.71875 10.15625 \r\nQ 24.75 6.390625 31.78125 6.390625 \r\nQ 38.8125 6.390625 42.859375 10.171875 \r\nQ 46.921875 13.96875 46.921875 20.515625 \r\nQ 46.921875 27.09375 42.890625 30.859375 \r\nQ 38.875 34.625 31.78125 34.625 \r\nz\r\nM 21.921875 38.8125 \r\nQ 15.578125 40.375 12.03125 44.71875 \r\nQ 8.5 49.078125 8.5 55.328125 \r\nQ 8.5 64.0625 14.71875 69.140625 \r\nQ 20.953125 74.21875 31.78125 74.21875 \r\nQ 42.671875 74.21875 48.875 69.140625 \r\nQ 55.078125 64.0625 55.078125 55.328125 \r\nQ 55.078125 49.078125 51.53125 44.71875 \r\nQ 48 40.375 41.703125 38.8125 \r\nQ 48.828125 37.15625 52.796875 32.3125 \r\nQ 56.78125 27.484375 56.78125 20.515625 \r\nQ 56.78125 9.90625 50.3125 4.234375 \r\nQ 43.84375 -1.421875 31.78125 -1.421875 \r\nQ 19.734375 -1.421875 13.25 4.234375 \r\nQ 6.78125 9.90625 6.78125 20.515625 \r\nQ 6.78125 27.484375 10.78125 32.3125 \r\nQ 14.796875 37.15625 21.921875 38.8125 \r\nz\r\nM 18.3125 54.390625 \r\nQ 18.3125 48.734375 21.84375 45.5625 \r\nQ 25.390625 42.390625 31.78125 42.390625 \r\nQ 38.140625 42.390625 41.71875 45.5625 \r\nQ 45.3125 48.734375 45.3125 54.390625 \r\nQ 45.3125 60.0625 41.71875 63.234375 \r\nQ 38.140625 66.40625 31.78125 66.40625 \r\nQ 25.390625 66.40625 21.84375 63.234375 \r\nQ 18.3125 60.0625 18.3125 54.390625 \r\nz\r\n\" id=\"DejaVuSans-56\"/>\r\n       </defs>\r\n       <use xlink:href=\"#DejaVuSans-56\"/>\r\n      </g>\r\n     </g>\r\n    </g>\r\n    <g id=\"ytick_6\">\r\n     <g id=\"line2d_8\">\r\n      <g>\r\n       <use style=\"stroke:#000000;stroke-width:0.8;\" x=\"26.925\" xlink:href=\"#mb8b59a4877\" y=\"137.839219\"/>\r\n      </g>\r\n     </g>\r\n     <g id=\"text_8\">\r\n      <!-- 10 -->\r\n      <g transform=\"translate(7.2 141.638437)scale(0.1 -0.1)\">\r\n       <defs>\r\n        <path d=\"M 12.40625 8.296875 \r\nL 28.515625 8.296875 \r\nL 28.515625 63.921875 \r\nL 10.984375 60.40625 \r\nL 10.984375 69.390625 \r\nL 28.421875 72.90625 \r\nL 38.28125 72.90625 \r\nL 38.28125 8.296875 \r\nL 54.390625 8.296875 \r\nL 54.390625 0 \r\nL 12.40625 0 \r\nz\r\n\" id=\"DejaVuSans-49\"/>\r\n       </defs>\r\n       <use xlink:href=\"#DejaVuSans-49\"/>\r\n       <use x=\"63.623047\" xlink:href=\"#DejaVuSans-48\"/>\r\n      </g>\r\n     </g>\r\n    </g>\r\n    <g id=\"ytick_7\">\r\n     <g id=\"line2d_9\">\r\n      <g>\r\n       <use style=\"stroke:#000000;stroke-width:0.8;\" x=\"26.925\" xlink:href=\"#mb8b59a4877\" y=\"119.719219\"/>\r\n      </g>\r\n     </g>\r\n     <g id=\"text_9\">\r\n      <!-- 12 -->\r\n      <g transform=\"translate(7.2 123.518437)scale(0.1 -0.1)\">\r\n       <use xlink:href=\"#DejaVuSans-49\"/>\r\n       <use x=\"63.623047\" xlink:href=\"#DejaVuSans-50\"/>\r\n      </g>\r\n     </g>\r\n    </g>\r\n    <g id=\"ytick_8\">\r\n     <g id=\"line2d_10\">\r\n      <g>\r\n       <use style=\"stroke:#000000;stroke-width:0.8;\" x=\"26.925\" xlink:href=\"#mb8b59a4877\" y=\"101.599219\"/>\r\n      </g>\r\n     </g>\r\n     <g id=\"text_10\">\r\n      <!-- 14 -->\r\n      <g transform=\"translate(7.2 105.398437)scale(0.1 -0.1)\">\r\n       <use xlink:href=\"#DejaVuSans-49\"/>\r\n       <use x=\"63.623047\" xlink:href=\"#DejaVuSans-52\"/>\r\n      </g>\r\n     </g>\r\n    </g>\r\n    <g id=\"ytick_9\">\r\n     <g id=\"line2d_11\">\r\n      <g>\r\n       <use style=\"stroke:#000000;stroke-width:0.8;\" x=\"26.925\" xlink:href=\"#mb8b59a4877\" y=\"83.479219\"/>\r\n      </g>\r\n     </g>\r\n     <g id=\"text_11\">\r\n      <!-- 16 -->\r\n      <g transform=\"translate(7.2 87.278437)scale(0.1 -0.1)\">\r\n       <use xlink:href=\"#DejaVuSans-49\"/>\r\n       <use x=\"63.623047\" xlink:href=\"#DejaVuSans-54\"/>\r\n      </g>\r\n     </g>\r\n    </g>\r\n    <g id=\"ytick_10\">\r\n     <g id=\"line2d_12\">\r\n      <g>\r\n       <use style=\"stroke:#000000;stroke-width:0.8;\" x=\"26.925\" xlink:href=\"#mb8b59a4877\" y=\"65.359219\"/>\r\n      </g>\r\n     </g>\r\n     <g id=\"text_12\">\r\n      <!-- 18 -->\r\n      <g transform=\"translate(7.2 69.158437)scale(0.1 -0.1)\">\r\n       <use xlink:href=\"#DejaVuSans-49\"/>\r\n       <use x=\"63.623047\" xlink:href=\"#DejaVuSans-56\"/>\r\n      </g>\r\n     </g>\r\n    </g>\r\n    <g id=\"ytick_11\">\r\n     <g id=\"line2d_13\">\r\n      <g>\r\n       <use style=\"stroke:#000000;stroke-width:0.8;\" x=\"26.925\" xlink:href=\"#mb8b59a4877\" y=\"47.239219\"/>\r\n      </g>\r\n     </g>\r\n     <g id=\"text_13\">\r\n      <!-- 20 -->\r\n      <g transform=\"translate(7.2 51.038437)scale(0.1 -0.1)\">\r\n       <use xlink:href=\"#DejaVuSans-50\"/>\r\n       <use x=\"63.623047\" xlink:href=\"#DejaVuSans-48\"/>\r\n      </g>\r\n     </g>\r\n    </g>\r\n    <g id=\"ytick_12\">\r\n     <g id=\"line2d_14\">\r\n      <g>\r\n       <use style=\"stroke:#000000;stroke-width:0.8;\" x=\"26.925\" xlink:href=\"#mb8b59a4877\" y=\"29.119219\"/>\r\n      </g>\r\n     </g>\r\n     <g id=\"text_14\">\r\n      <!-- 22 -->\r\n      <g transform=\"translate(7.2 32.918437)scale(0.1 -0.1)\">\r\n       <use xlink:href=\"#DejaVuSans-50\"/>\r\n       <use x=\"63.623047\" xlink:href=\"#DejaVuSans-50\"/>\r\n      </g>\r\n     </g>\r\n    </g>\r\n    <g id=\"ytick_13\">\r\n     <g id=\"line2d_15\">\r\n      <g>\r\n       <use style=\"stroke:#000000;stroke-width:0.8;\" x=\"26.925\" xlink:href=\"#mb8b59a4877\" y=\"10.999219\"/>\r\n      </g>\r\n     </g>\r\n     <g id=\"text_15\">\r\n      <!-- 24 -->\r\n      <g transform=\"translate(7.2 14.798437)scale(0.1 -0.1)\">\r\n       <use xlink:href=\"#DejaVuSans-50\"/>\r\n       <use x=\"63.623047\" xlink:href=\"#DejaVuSans-52\"/>\r\n      </g>\r\n     </g>\r\n    </g>\r\n   </g>\r\n   <g id=\"patch_5\">\r\n    <path d=\"M 26.925 228.439219 \r\nL 26.925 10.999219 \r\n\" style=\"fill:none;stroke:#000000;stroke-linecap:square;stroke-linejoin:miter;stroke-width:0.8;\"/>\r\n   </g>\r\n   <g id=\"patch_6\">\r\n    <path d=\"M 361.725 228.439219 \r\nL 361.725 10.999219 \r\n\" style=\"fill:none;stroke:#000000;stroke-linecap:square;stroke-linejoin:miter;stroke-width:0.8;\"/>\r\n   </g>\r\n   <g id=\"patch_7\">\r\n    <path d=\"M 26.925 228.439219 \r\nL 361.725 228.439219 \r\n\" style=\"fill:none;stroke:#000000;stroke-linecap:square;stroke-linejoin:miter;stroke-width:0.8;\"/>\r\n   </g>\r\n   <g id=\"patch_8\">\r\n    <path d=\"M 26.925 10.999219 \r\nL 361.725 10.999219 \r\n\" style=\"fill:none;stroke:#000000;stroke-linecap:square;stroke-linejoin:miter;stroke-width:0.8;\"/>\r\n   </g>\r\n  </g>\r\n </g>\r\n <defs>\r\n  <clipPath id=\"p6a0ee5a08d\">\r\n   <rect height=\"217.44\" width=\"334.8\" x=\"26.925\" y=\"10.999219\"/>\r\n  </clipPath>\r\n </defs>\r\n</svg>\r\n",
      "image/png": "[encoded data removed]"
     },
     "metadata": {
      "needs_background": "light"
     }
    }
   ],
   "source": [
    "dfs[8]['Effect'].value_counts().plot(kind='bar',yticks=range(0,25,2))"
   ]
  },
  {
   "cell_type": "code",
   "execution_count": 485,
   "metadata": {},
   "outputs": [
    {
     "output_type": "execute_result",
     "data": {
      "text/plain": [
       "                 Adj Close %Change  Cum Returns    Effect\n",
       "Name Date                                                \n",
       "AAPL 2010-04-30          -0.088597     0.911403  Reversal\n",
       "     2010-08-31           0.337499     1.219001  Momentum\n",
       "     2010-12-31           0.104601     1.346510  Momentum\n",
       "     2011-04-30           0.195841     1.610212  Momentum\n",
       "     2011-08-31           0.025080     1.650595  Momentum"
      ],
      "text/html": "<div>\n<style scoped>\n    .dataframe tbody tr th:only-of-type {\n        vertical-align: middle;\n    }\n\n    .dataframe tbody tr th {\n        vertical-align: top;\n    }\n\n    .dataframe thead th {\n        text-align: right;\n    }\n</style>\n<table border=\"1\" class=\"dataframe\">\n  <thead>\n    <tr style=\"text-align: right;\">\n      <th></th>\n      <th></th>\n      <th>Adj Close %Change</th>\n      <th>Cum Returns</th>\n      <th>Effect</th>\n    </tr>\n    <tr>\n      <th>Name</th>\n      <th>Date</th>\n      <th></th>\n      <th></th>\n      <th></th>\n    </tr>\n  </thead>\n  <tbody>\n    <tr>\n      <th rowspan=\"5\" valign=\"top\">AAPL</th>\n      <th>2010-04-30</th>\n      <td>-0.088597</td>\n      <td>0.911403</td>\n      <td>Reversal</td>\n    </tr>\n    <tr>\n      <th>2010-08-31</th>\n      <td>0.337499</td>\n      <td>1.219001</td>\n      <td>Momentum</td>\n    </tr>\n    <tr>\n      <th>2010-12-31</th>\n      <td>0.104601</td>\n      <td>1.346510</td>\n      <td>Momentum</td>\n    </tr>\n    <tr>\n      <th>2011-04-30</th>\n      <td>0.195841</td>\n      <td>1.610212</td>\n      <td>Momentum</td>\n    </tr>\n    <tr>\n      <th>2011-08-31</th>\n      <td>0.025080</td>\n      <td>1.650595</td>\n      <td>Momentum</td>\n    </tr>\n  </tbody>\n</table>\n</div>"
     },
     "metadata": {},
     "execution_count": 485
    }
   ],
   "source": [
    "dfs[0][:5]"
   ]
  },
  {
   "cell_type": "code",
   "execution_count": 489,
   "metadata": {},
   "outputs": [
    {
     "output_type": "execute_result",
     "data": {
      "text/plain": [
       "name\n",
       "AAPL   2010-02-01\n",
       "AAPL   2010-03-01\n",
       "AAPL   2010-04-01\n",
       "AAPL   2010-05-01\n",
       "AAPL   2010-06-01\n",
       "          ...    \n",
       "AAPL   2020-12-01\n",
       "AAPL   2021-01-01\n",
       "AAPL   2021-02-01\n",
       "AAPL   2021-03-01\n",
       "AAPL   2021-03-05\n",
       "Name: date, Length: 135, dtype: datetime64[ns]"
      ]
     },
     "metadata": {},
     "execution_count": 489
    }
   ],
   "source": [
    "aapl.date"
   ]
  },
  {
   "cell_type": "code",
   "execution_count": null,
   "metadata": {},
   "outputs": [],
   "source": [
    "new_df = pd.merge_asof(dfs[0].reset_index(),aapl,on='Date')\n",
    "new_df['Name'] = 'AAPL'\n",
    "new_df.set_index(['Name','Date'],inplace=True)\n",
    "new_df = new_df[~new_df.index.duplicated(keep='first')]\n",
    "new_df"
   ]
  },
  {
   "cell_type": "code",
   "execution_count": 483,
   "metadata": {},
   "outputs": [
    {
     "output_type": "error",
     "ename": "NameError",
     "evalue": "name 'new_df' is not defined",
     "traceback": [
      "\u001b[1;31m---------------------------------------------------------------------------\u001b[0m",
      "\u001b[1;31mNameError\u001b[0m                                 Traceback (most recent call last)",
      "\u001b[1;32m<ipython-input-483-7da51bd90949>\u001b[0m in \u001b[0;36m<module>\u001b[1;34m\u001b[0m\n\u001b[0;32m      1\u001b[0m \u001b[1;32mimport\u001b[0m \u001b[0mpandas_ta\u001b[0m \u001b[1;32mas\u001b[0m \u001b[0mta\u001b[0m\u001b[1;33m\u001b[0m\u001b[1;33m\u001b[0m\u001b[0m\n\u001b[1;32m----> 2\u001b[1;33m \u001b[0mnew_df\u001b[0m\u001b[1;33m.\u001b[0m\u001b[0mta\u001b[0m\u001b[1;33m.\u001b[0m\u001b[0mcores\u001b[0m \u001b[1;33m=\u001b[0m \u001b[1;36m7\u001b[0m\u001b[1;33m\u001b[0m\u001b[1;33m\u001b[0m\u001b[0m\n\u001b[0m\u001b[0;32m      3\u001b[0m \u001b[0mnew_df\u001b[0m\u001b[1;33m.\u001b[0m\u001b[0mta\u001b[0m\u001b[1;33m.\u001b[0m\u001b[0msma\u001b[0m\u001b[1;33m(\u001b[0m\u001b[0mlength\u001b[0m\u001b[1;33m=\u001b[0m\u001b[1;36m8\u001b[0m\u001b[1;33m,\u001b[0m \u001b[0mappend\u001b[0m\u001b[1;33m=\u001b[0m\u001b[1;32mTrue\u001b[0m\u001b[1;33m)\u001b[0m\u001b[1;33m\u001b[0m\u001b[1;33m\u001b[0m\u001b[0m\n\u001b[0;32m      4\u001b[0m \u001b[0mnew_df\u001b[0m\u001b[1;33m.\u001b[0m\u001b[0mta\u001b[0m\u001b[1;33m.\u001b[0m\u001b[0mrsi\u001b[0m\u001b[1;33m(\u001b[0m\u001b[0mappend\u001b[0m\u001b[1;33m=\u001b[0m\u001b[1;32mTrue\u001b[0m\u001b[1;33m)\u001b[0m\u001b[1;33m\u001b[0m\u001b[1;33m\u001b[0m\u001b[0m\n\u001b[0;32m      5\u001b[0m \u001b[0mnew_df\u001b[0m\u001b[1;33m.\u001b[0m\u001b[0mta\u001b[0m\u001b[1;33m.\u001b[0m\u001b[0mcci\u001b[0m\u001b[1;33m(\u001b[0m\u001b[0mlength\u001b[0m\u001b[1;33m=\u001b[0m\u001b[1;36m8\u001b[0m\u001b[1;33m,\u001b[0m \u001b[0mappend\u001b[0m\u001b[1;33m=\u001b[0m\u001b[1;32mTrue\u001b[0m\u001b[1;33m)\u001b[0m\u001b[1;33m\u001b[0m\u001b[1;33m\u001b[0m\u001b[0m\n",
      "\u001b[1;31mNameError\u001b[0m: name 'new_df' is not defined"
     ]
    }
   ],
   "source": [
    "import pandas_ta as ta\n",
    "\n",
    "## a few from momentum and trend. whats the best possible params? 10 might be way too b\n",
    "new_df.ta.cores = 7\n",
    "new_df.ta.sma(length=8, append=True)\n",
    "new_df.ta.rsi(append=True)\n",
    "new_df.ta.cci(length=8, append=True)\n",
    "new_df['return std'] = new_df['Cum Returns'].rolling(2).std()\n",
    "new_df.ta.willr(length=k/2, append=True)\n",
    "new_df.ta.roc(length=k/2,append=True)\n",
    "new_df.ta.ema(append=True)\n",
    "new_df.ta.pdist(append=True)\n",
    "new_df.ta.variance(length=4,append=True)\n",
    "new_df.ta.psar(append=True)\n",
    "new_df = new_df.join(pd.get_dummies(new_df.Effect, prefix='Effect')) #one hot\n",
    "new_df"
   ]
  },
  {
   "cell_type": "code",
   "execution_count": null,
   "metadata": {},
   "outputs": [],
   "source": [
    "import seaborn as sns\n",
    "\n",
    "corr = new_df.corr()\n",
    "\n",
    "# Generate a mask for the upper triangle\n",
    "mask = np.triu(np.ones_like(corr, dtype=bool))\n",
    "\n",
    "# Set up the matplotlib figure\n",
    "f, ax = plt.subplots(figsize=(11, 9))\n",
    "\n",
    "# Generate a custom diverging colormap\n",
    "cmap = sns.diverging_palette(230, 20, as_cmap=True)\n",
    "\n",
    "# Draw the heatmap with the mask and correct aspect ratio\n",
    "sns.heatmap(corr, mask=mask, cmap=\"PuBuGn\", vmax=1, vmin=-1, center=0,\n",
    "            square=True, linewidths=.5, cbar_kws={\"shrink\": .5})"
   ]
  },
  {
   "cell_type": "code",
   "execution_count": null,
   "metadata": {},
   "outputs": [],
   "source": [
    "new_df"
   ]
  },
  {
   "cell_type": "code",
   "execution_count": null,
   "metadata": {},
   "outputs": [],
   "source": [
    "# def K_ranking(ticker_df):\n",
    "def K_ranking(start_time, end_time):\n",
    "    '''given a time range, this reads in OHLC data of the s&p500 and converts it into usable features.'''\n",
    "    "
   ]
  },
  {
   "cell_type": "markdown",
   "metadata": {},
   "source": [
    "# Modeling:\n",
    "Below we start to really look at feature engineering, not much here yet"
   ]
  },
  {
   "cell_type": "code",
   "execution_count": null,
   "metadata": {},
   "outputs": [],
   "source": [
    "# pd.read_csv('constituent_performance_4_months.csv')"
   ]
  },
  {
   "cell_type": "code",
   "execution_count": null,
   "metadata": {},
   "outputs": [],
   "source": [
    "# momentum/ model: given a huge dataset with daily/monthly data, we determine in an initial period J to find which tickers do the best/worst, "
   ]
  },
  {
   "cell_type": "code",
   "execution_count": null,
   "metadata": {},
   "outputs": [],
   "source": []
  },
  {
   "cell_type": "markdown",
   "metadata": {},
   "source": [
    "## ---notes below---"
   ]
  },
  {
   "cell_type": "markdown",
   "metadata": {},
   "source": [
    "# For the momentum analysis portion:\n",
    "The way we plan to proceed for now is to give each stock in our index (sp500) equal weights, in a sense, then rank them by some criteria on how well they are performing. we will adopt the observe J and hold K strategy as detailed in the paper, in which there is an observatory period of J quarters/months/days and a holding period of K quarters/months/days (Ben: idk, j might be able to overlap with k, we can do a lot with how we implement it). In short, we classify in the J period whether a particular ticker would be best treated with a momentum or reversal strategy, or some other. The classification task here is thus presented.\n",
    "\n",
    "momentum strategy: buy/give heavier weights over time to well performing stocks, as we assume they will continue to get better as per our understanding of momentum\n",
    "\n",
    "reversal strategy: Amir proposed we short underperforming stocks. This strategy we adopt *might* actually be different from what the paper is proposing, which is to buy and hold underperforming stocks as we predict it to rebound (Ben: fact check me pls).\n",
    "\n",
    "stocks in between: dont buy them, or leave them as they are...? feel free to share your own thoughts.\n",
    "\n",
    "# For the modeling portion: \n",
    "a lot still left untouched, ill think a bit harder about it tmr ...\n",
    "we want 3 models to do this kind of momentum analysis algorithmically vs manually, and pit it against a baseline of a simple buy and hold strategy. The parameters will come from a wealth of technical analysis (read: all the fancy hard to understand financial forecasting stuff) libraries already available (we probably wont be making most of them, beyond the simple stuff) but we do have a deadline to keep in mind."
   ]
  },
  {
   "source": [
    "momentum groups have positive trensds, high return rates, \n",
    "\n",
    "reversal groups are stocks taht are losing. \n",
    "dynamically managing the 500 tickers in s&p.\n",
    "\n",
    "hwo do we predict who is going into momentum group at t+k, and how accurate can we be?\n",
    "based on the pricing trends, who will be in reversal and who will be in momentum?\n",
    "    a lot of room to work with\n",
    "bactesting takes our predictions and our model trained to figure out how to weight the positions of the stocks, we would take that strategy and test it on historical data\n",
    "\n",
    "we would have a lot to talk about in terms of a paper, how to improve, what not to notice\n",
    "how it could be used in the real world market\n",
    "\n",
    "do we want to create our own feature on which ticker is profitable, or \n",
    "- returns? predicting reurns over a certain period\\\\\n",
    "- the momentum to reversal ratio for a particular \n",
    "- more categorical features interpreted from indicators\n",
    "if we could answer these questions, how to implement above\n",
    "predictions on who goes where, then we can find out which features can increase accuracy over time, then weights, risk parameter, where the algo tries to place the stocks momentum and reversal groups and then it meets the parameter that we feed\n",
    "how do I predict, say, can we predict the possible return and then see, based on that,..\n",
    "there are certain indicators \n",
    "moving averages, where they change is a trend reversal indicate where and when that happens\n",
    "if we need more features\n",
    "\n",
    "waht would be a good starting point for us to start on?\n",
    "- creating features? familiarizing ourselgves with this notebook\n",
    "- we bought here and held there\\\n",
    "- maybe correlation analysis? taking old data and shiftiing it around to create and make it as accurate as possible for one of those and then figuring out which one of these affect accuracy of who goes in what group.\n",
    "tldr the sooner we play with the features bnetter \n",
    "who is in momentum who is in reversal based on certain criteria?\n",
    "for momentum and reversal, we are predicting return, get rmse beneath 80, and then visualize how it places and then prefirmance. start iterating on that part. cumulative returns vs actual returns\n",
    "creating better features?\n",
    "tuning parameters to modify the suggestion you would give based on momentum group.\n",
    "no effect is that it dont make it int\n",
    "we have many variables to compare the two. lower profiitability and higher rate. if it kept your risk constrained and you still had a significant strategy\n",
    "\n"
   ],
   "cell_type": "markdown",
   "metadata": {}
  },
  {
   "source": [
    "analyze at j, hold for k. \n",
    "evaluating when it hits the lowest...?\n",
    "\n",
    "\n",
    "\n",
    "\n",
    "so we have stocks, are we predicting profitability? -its not a difficult question to ask. we are predicting \n",
    "\n",
    "shweta as a clasirifation problem, momentum nad reversal. \n",
    "if we went back to momentum and reversal?\n",
    "- with these, can we predict return? pick a momentum or reversal group \n",
    "we label with momentum and reversal. say we have a collection, and a group at certain points. predict return? if you were to hold them for a time. use calculations for holding, having a certain period  and hold? for a certain amount. eg 2010 to 2015, we have all the return data, take the "
   ],
   "cell_type": "markdown",
   "metadata": {}
  },
  {
   "source": [
    "could we create a concrete quesiton\n",
    "xgd regressor\n",
    "> check out the moethodology portion"
   ],
   "cell_type": "markdown",
   "metadata": {}
  }
 ],
 "metadata": {
  "kernelspec": {
   "name": "python3",
   "display_name": "Python 3.7.4 64-bit ('dsc190': pipenv)",
   "metadata": {
    "interpreter": {
     "hash": "e8c7d0e4fde2d427e9a5fa7c228e5b3fde1b07bcd87cbc5bf40713027eb29d09"
    }
   }
  },
  "language_info": {
   "codemirror_mode": {
    "name": "ipython",
    "version": 3
   },
   "file_extension": ".py",
   "mimetype": "text/x-python",
   "name": "python",
   "nbconvert_exporter": "python",
   "pygments_lexer": "ipython3",
   "version": "3.7.4-final"
  }
 },
 "nbformat": 4,
 "nbformat_minor": 2
}