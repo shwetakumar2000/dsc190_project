{
 "cells": [
  {
   "cell_type": "markdown",
   "metadata": {},
   "source": [
    "Ben: A lot of unfamiliar packages here, more on the way. pipenv/virtual environments are your friend. A quick disclaimer that I am barely familiar with this domain of financial modeling, i can be very wrong in my understanding of things. i hope my code is readable."
   ]
  },
  {
   "cell_type": "code",
   "execution_count": 19,
   "metadata": {},
   "outputs": [],
   "source": [
    "import numpy as np\n",
    "import pandas as pd\n",
    "import matplotlib.pyplot as plt\n",
    "from time import sleep\n",
    "\n",
    "from pandas_datareader import data as pdr\n",
    "import pandas_ta as ta #commented out for me for now, I (Ben) had some dependency issues\n",
    "import yfinance as yf\n",
    "# import quandl as qd # not used, ignor ples\n",
    "from backtesting import Backtest, Strategy"
   ]
  },
  {
   "cell_type": "code",
   "execution_count": 20,
   "metadata": {},
   "outputs": [],
   "source": [
    "yf.pdr_override() # for use with pandas-datareader, optional"
   ]
  },
  {
   "cell_type": "markdown",
   "metadata": {},
   "source": [
    "# Data Sources/Exploration\n",
    "## which stocks/tickers will we be looking at?\n",
    "We've more or less arbitrarily settled on the current S&P 500 index, a popular choice.\n",
    "## What data do we need, and where can we get it?\n",
    "We need OHLC (open high low close) data, on a monthly and daily scale. Using yfinance, a module that basically scrapes the ya\"hoo finance site for data on tickers, we can get most of what we need.\n",
    "## "
   ]
  },
  {
   "cell_type": "code",
   "execution_count": null,
   "metadata": {},
   "outputs": [],
   "source": []
  },
  {
   "cell_type": "code",
   "execution_count": 21,
   "metadata": {},
   "outputs": [
    {
     "output_type": "execute_result",
     "data": {
      "text/plain": [
       "0     AAPL\n",
       "1     MSFT\n",
       "2     AMZN\n",
       "3       FB\n",
       "4    GOOGL\n",
       "Name: Ticker, dtype: object"
      ]
     },
     "metadata": {},
     "execution_count": 21
    }
   ],
   "source": [
    "ticker = pd.read_csv('ticker.csv')['Ticker']\n",
    "tickers = ticker.to_list() # This is a list of all tickers in the SP500\n",
    "tickers = [x.replace('.','-') for x in tickers] # yahoo has '-' instead of '.' for tickers, eg BRK.B\n",
    "ticker.head()"
   ]
  },
  {
   "cell_type": "code",
   "execution_count": 22,
   "metadata": {},
   "outputs": [],
   "source": [
    "# tickers"
   ]
  },
  {
   "cell_type": "code",
   "execution_count": 23,
   "metadata": {},
   "outputs": [],
   "source": [
    "# sp_500 = {x:yf.Ticker(x) for x in tickers} # a dict of initialized yfinance tickers\n",
    "# sp_500['AAPL'].history(start='2019-01-01', end='2020-12-31', interval='1mo')\n",
    "# sp_500['AAPL'].history(start='2010-01-01', end='2020-12-31')"
   ]
  },
  {
   "cell_type": "code",
   "execution_count": 24,
   "metadata": {
    "tags": []
   },
   "outputs": [
    {
     "output_type": "stream",
     "name": "stdout",
     "text": [
      "Grabbing AAPL data!\n",
      "[*********************100%***********************]  1 of 1 completed\n",
      "Grabbing MSFT data!\n",
      "[*********************100%***********************]  1 of 1 completed\n",
      "Grabbing AMZN data!\n",
      "[*********************100%***********************]  1 of 1 completed\n",
      "Grabbing FB data!\n",
      "[*********************100%***********************]  1 of 1 completed\n",
      "Grabbing GOOGL data!\n",
      "[*********************100%***********************]  1 of 1 completed\n",
      "Grabbing GOOG data!\n",
      "[*********************100%***********************]  1 of 1 completed\n",
      "Grabbing TSLA data!\n",
      "[*********************100%***********************]  1 of 1 completed\n",
      "Grabbing BRK-B data!\n",
      "[*********************100%***********************]  1 of 1 completed\n",
      "Grabbing JPM data!\n",
      "[*********************100%***********************]  1 of 1 completed\n",
      "Grabbing JNJ data!\n",
      "[*********************100%***********************]  1 of 1 completed\n"
     ]
    },
    {
     "output_type": "execute_result",
     "data": {
      "text/plain": [
       "                  Open        High         Low       Close   Adj Close  \\\n",
       "Date                                                                     \n",
       "2010-02-01    6.870357    7.327500    6.816071    7.307857    6.294721   \n",
       "2010-03-01    7.348214    8.481429    7.337500    8.392857    7.229299   \n",
       "2010-04-01    8.478929    9.730714    8.312500    9.324643    8.031907   \n",
       "2010-05-01    9.422857    9.567143    7.116071    9.174286    7.902396   \n",
       "2010-06-01    9.274643    9.964643    8.650000    8.983214    7.737815   \n",
       "...                ...         ...         ...         ...         ...   \n",
       "2021-01-01  133.520004  145.089996  126.379997  131.960007  131.763107   \n",
       "2021-02-01  133.750000  137.880005  118.389999  121.260002  121.079071   \n",
       "2021-02-05         NaN         NaN         NaN         NaN         NaN   \n",
       "2021-03-01  123.750000  128.720001  118.620003  120.129997  120.129997   \n",
       "2021-03-05  120.980003  121.669998  117.570000  121.230003  121.230003   \n",
       "\n",
       "                  Volume  \n",
       "Date                      \n",
       "2010-02-01  1.077608e+10  \n",
       "2010-03-01  1.215417e+10  \n",
       "2010-04-01  1.236713e+10  \n",
       "2010-05-01  1.808265e+10  \n",
       "2010-06-01  1.665125e+10  \n",
       "...                  ...  \n",
       "2021-01-01  2.240534e+09  \n",
       "2021-02-01  1.833204e+09  \n",
       "2021-02-05           NaN  \n",
       "2021-03-01  5.077193e+08  \n",
       "2021-03-05  1.203074e+08  \n",
       "\n",
       "[172 rows x 6 columns]"
      ],
      "text/html": "<div>\n<style scoped>\n    .dataframe tbody tr th:only-of-type {\n        vertical-align: middle;\n    }\n\n    .dataframe tbody tr th {\n        vertical-align: top;\n    }\n\n    .dataframe thead th {\n        text-align: right;\n    }\n</style>\n<table border=\"1\" class=\"dataframe\">\n  <thead>\n    <tr style=\"text-align: right;\">\n      <th></th>\n      <th>Open</th>\n      <th>High</th>\n      <th>Low</th>\n      <th>Close</th>\n      <th>Adj Close</th>\n      <th>Volume</th>\n    </tr>\n    <tr>\n      <th>Date</th>\n      <th></th>\n      <th></th>\n      <th></th>\n      <th></th>\n      <th></th>\n      <th></th>\n    </tr>\n  </thead>\n  <tbody>\n    <tr>\n      <th>2010-02-01</th>\n      <td>6.870357</td>\n      <td>7.327500</td>\n      <td>6.816071</td>\n      <td>7.307857</td>\n      <td>6.294721</td>\n      <td>1.077608e+10</td>\n    </tr>\n    <tr>\n      <th>2010-03-01</th>\n      <td>7.348214</td>\n      <td>8.481429</td>\n      <td>7.337500</td>\n      <td>8.392857</td>\n      <td>7.229299</td>\n      <td>1.215417e+10</td>\n    </tr>\n    <tr>\n      <th>2010-04-01</th>\n      <td>8.478929</td>\n      <td>9.730714</td>\n      <td>8.312500</td>\n      <td>9.324643</td>\n      <td>8.031907</td>\n      <td>1.236713e+10</td>\n    </tr>\n    <tr>\n      <th>2010-05-01</th>\n      <td>9.422857</td>\n      <td>9.567143</td>\n      <td>7.116071</td>\n      <td>9.174286</td>\n      <td>7.902396</td>\n      <td>1.808265e+10</td>\n    </tr>\n    <tr>\n      <th>2010-06-01</th>\n      <td>9.274643</td>\n      <td>9.964643</td>\n      <td>8.650000</td>\n      <td>8.983214</td>\n      <td>7.737815</td>\n      <td>1.665125e+10</td>\n    </tr>\n    <tr>\n      <th>...</th>\n      <td>...</td>\n      <td>...</td>\n      <td>...</td>\n      <td>...</td>\n      <td>...</td>\n      <td>...</td>\n    </tr>\n    <tr>\n      <th>2021-01-01</th>\n      <td>133.520004</td>\n      <td>145.089996</td>\n      <td>126.379997</td>\n      <td>131.960007</td>\n      <td>131.763107</td>\n      <td>2.240534e+09</td>\n    </tr>\n    <tr>\n      <th>2021-02-01</th>\n      <td>133.750000</td>\n      <td>137.880005</td>\n      <td>118.389999</td>\n      <td>121.260002</td>\n      <td>121.079071</td>\n      <td>1.833204e+09</td>\n    </tr>\n    <tr>\n      <th>2021-02-05</th>\n      <td>NaN</td>\n      <td>NaN</td>\n      <td>NaN</td>\n      <td>NaN</td>\n      <td>NaN</td>\n      <td>NaN</td>\n    </tr>\n    <tr>\n      <th>2021-03-01</th>\n      <td>123.750000</td>\n      <td>128.720001</td>\n      <td>118.620003</td>\n      <td>120.129997</td>\n      <td>120.129997</td>\n      <td>5.077193e+08</td>\n    </tr>\n    <tr>\n      <th>2021-03-05</th>\n      <td>120.980003</td>\n      <td>121.669998</td>\n      <td>117.570000</td>\n      <td>121.230003</td>\n      <td>121.230003</td>\n      <td>1.203074e+08</td>\n    </tr>\n  </tbody>\n</table>\n<p>172 rows × 6 columns</p>\n</div>"
     },
     "metadata": {},
     "execution_count": 24
    }
   ],
   "source": [
    "## below is how I got monthly and daily pandas dataframes of all stocks in one huge dict.  \n",
    "monthly_sp500 = {}\n",
    "# for tkr in tickers: # run all 500 at your own risk, it takes a while lol\n",
    "for tkr in tickers[:10]:\n",
    "    print('Grabbing ' + tkr + \" data!\")\n",
    "    # monthly_sp500[tkr] = yf.Ticker(tkr).history(start='2010-01-01', end='2020-12-31', interval='1mo')\n",
    "    monthly_sp500[tkr] = pdr.get_data_yahoo(tkr, start=\"2010-01-04\", interval = \"1mo\")\n",
    "    sleep(.1) # not planning on ddos-ing yahoo today\n",
    "monthly_sp500['AAPL'] # take AAPL, for example; TODO deal with the pesky NaNs properly"
   ]
  },
  {
   "cell_type": "code",
   "execution_count": 25,
   "metadata": {},
   "outputs": [],
   "source": [
    "# monthly_sp500['AAPL'].loc[monthly_sp500['AAPL'].isna().any(axis=1)]"
   ]
  },
  {
   "cell_type": "code",
   "execution_count": 26,
   "metadata": {
    "tags": []
   },
   "outputs": [
    {
     "output_type": "stream",
     "name": "stdout",
     "text": [
      "Grabbing AAPL data!\n",
      "[*********************100%***********************]  1 of 1 completed\n",
      "Grabbing MSFT data!\n",
      "[*********************100%***********************]  1 of 1 completed\n",
      "Grabbing AMZN data!\n",
      "[*********************100%***********************]  1 of 1 completed\n",
      "Grabbing FB data!\n",
      "[*********************100%***********************]  1 of 1 completed\n",
      "Grabbing GOOGL data!\n",
      "[*********************100%***********************]  1 of 1 completed\n",
      "Grabbing GOOG data!\n",
      "[*********************100%***********************]  1 of 1 completed\n",
      "Grabbing TSLA data!\n",
      "[*********************100%***********************]  1 of 1 completed\n",
      "Grabbing BRK-B data!\n",
      "[*********************100%***********************]  1 of 1 completed\n",
      "Grabbing JPM data!\n",
      "[*********************100%***********************]  1 of 1 completed\n",
      "Grabbing JNJ data!\n",
      "[*********************100%***********************]  1 of 1 completed\n"
     ]
    },
    {
     "output_type": "execute_result",
     "data": {
      "text/plain": [
       "                  Open        High         Low       Close   Adj Close  \\\n",
       "Date                                                                     \n",
       "2010-01-04    7.622500    7.660714    7.585000    7.643214    6.583586   \n",
       "2010-01-05    7.664286    7.699643    7.616071    7.656429    6.594968   \n",
       "2010-01-06    7.656429    7.686786    7.526786    7.534643    6.490066   \n",
       "2010-01-07    7.562500    7.571429    7.466071    7.520714    6.478067   \n",
       "2010-01-08    7.510714    7.571429    7.466429    7.570714    6.521136   \n",
       "...                ...         ...         ...         ...         ...   \n",
       "2021-03-01  123.750000  127.930000  122.790001  127.790001  127.790001   \n",
       "2021-03-02  128.410004  128.720001  125.010002  125.120003  125.120003   \n",
       "2021-03-03  124.809998  125.709999  121.839996  122.059998  122.059998   \n",
       "2021-03-04  121.750000  123.599998  118.620003  120.129997  120.129997   \n",
       "2021-03-05  120.980003  121.669998  117.570000  121.269302  121.269302   \n",
       "\n",
       "               Volume  \n",
       "Date                   \n",
       "2010-01-04  493729600  \n",
       "2010-01-05  601904800  \n",
       "2010-01-06  552160000  \n",
       "2010-01-07  477131200  \n",
       "2010-01-08  447610800  \n",
       "...               ...  \n",
       "2021-03-01  115998300  \n",
       "2021-03-02  102015300  \n",
       "2021-03-03  112430400  \n",
       "2021-03-04  177275300  \n",
       "2021-03-05  120328215  \n",
       "\n",
       "[2812 rows x 6 columns]"
      ],
      "text/html": "<div>\n<style scoped>\n    .dataframe tbody tr th:only-of-type {\n        vertical-align: middle;\n    }\n\n    .dataframe tbody tr th {\n        vertical-align: top;\n    }\n\n    .dataframe thead th {\n        text-align: right;\n    }\n</style>\n<table border=\"1\" class=\"dataframe\">\n  <thead>\n    <tr style=\"text-align: right;\">\n      <th></th>\n      <th>Open</th>\n      <th>High</th>\n      <th>Low</th>\n      <th>Close</th>\n      <th>Adj Close</th>\n      <th>Volume</th>\n    </tr>\n    <tr>\n      <th>Date</th>\n      <th></th>\n      <th></th>\n      <th></th>\n      <th></th>\n      <th></th>\n      <th></th>\n    </tr>\n  </thead>\n  <tbody>\n    <tr>\n      <th>2010-01-04</th>\n      <td>7.622500</td>\n      <td>7.660714</td>\n      <td>7.585000</td>\n      <td>7.643214</td>\n      <td>6.583586</td>\n      <td>493729600</td>\n    </tr>\n    <tr>\n      <th>2010-01-05</th>\n      <td>7.664286</td>\n      <td>7.699643</td>\n      <td>7.616071</td>\n      <td>7.656429</td>\n      <td>6.594968</td>\n      <td>601904800</td>\n    </tr>\n    <tr>\n      <th>2010-01-06</th>\n      <td>7.656429</td>\n      <td>7.686786</td>\n      <td>7.526786</td>\n      <td>7.534643</td>\n      <td>6.490066</td>\n      <td>552160000</td>\n    </tr>\n    <tr>\n      <th>2010-01-07</th>\n      <td>7.562500</td>\n      <td>7.571429</td>\n      <td>7.466071</td>\n      <td>7.520714</td>\n      <td>6.478067</td>\n      <td>477131200</td>\n    </tr>\n    <tr>\n      <th>2010-01-08</th>\n      <td>7.510714</td>\n      <td>7.571429</td>\n      <td>7.466429</td>\n      <td>7.570714</td>\n      <td>6.521136</td>\n      <td>447610800</td>\n    </tr>\n    <tr>\n      <th>...</th>\n      <td>...</td>\n      <td>...</td>\n      <td>...</td>\n      <td>...</td>\n      <td>...</td>\n      <td>...</td>\n    </tr>\n    <tr>\n      <th>2021-03-01</th>\n      <td>123.750000</td>\n      <td>127.930000</td>\n      <td>122.790001</td>\n      <td>127.790001</td>\n      <td>127.790001</td>\n      <td>115998300</td>\n    </tr>\n    <tr>\n      <th>2021-03-02</th>\n      <td>128.410004</td>\n      <td>128.720001</td>\n      <td>125.010002</td>\n      <td>125.120003</td>\n      <td>125.120003</td>\n      <td>102015300</td>\n    </tr>\n    <tr>\n      <th>2021-03-03</th>\n      <td>124.809998</td>\n      <td>125.709999</td>\n      <td>121.839996</td>\n      <td>122.059998</td>\n      <td>122.059998</td>\n      <td>112430400</td>\n    </tr>\n    <tr>\n      <th>2021-03-04</th>\n      <td>121.750000</td>\n      <td>123.599998</td>\n      <td>118.620003</td>\n      <td>120.129997</td>\n      <td>120.129997</td>\n      <td>177275300</td>\n    </tr>\n    <tr>\n      <th>2021-03-05</th>\n      <td>120.980003</td>\n      <td>121.669998</td>\n      <td>117.570000</td>\n      <td>121.269302</td>\n      <td>121.269302</td>\n      <td>120328215</td>\n    </tr>\n  </tbody>\n</table>\n<p>2812 rows × 6 columns</p>\n</div>"
     },
     "metadata": {},
     "execution_count": 26
    }
   ],
   "source": [
    "daily_sp500 = {}\n",
    "# for tkr in tickers:\n",
    "for tkr in tickers[:10]: #this only gets the first 10 fyi\n",
    "    print('Grabbing ' + tkr + \" data!\")\n",
    "    # daily_sp500[tkr] = yf.Ticker(tkr).history(start='2010-01-01', end='2020-12-31', interval='1mo')\n",
    "    daily_sp500[tkr] = pdr.get_data_yahoo(tkr,start=\"2010-01-01\")\n",
    "    sleep(.1)\n",
    "daily_sp500['AAPL'] # take AAPL, for example"
   ]
  },
  {
   "cell_type": "code",
   "execution_count": 27,
   "metadata": {},
   "outputs": [
    {
     "output_type": "execute_result",
     "data": {
      "text/plain": [
       "21.511627906976745"
      ]
     },
     "metadata": {},
     "execution_count": 27
    }
   ],
   "source": [
    "len(monthly_sp500['AAPL'].loc[monthly_sp500['AAPL'].isna().any(axis=1)])/len(monthly_sp500['AAPL']) * 100 #percentage of missingness"
   ]
  },
  {
   "cell_type": "code",
   "execution_count": 28,
   "metadata": {},
   "outputs": [],
   "source": [
    "# from sklearn.impute import KNNImputer\n",
    "# imputer = KNNImputer(n_neighbors = 2)\n",
    "\n",
    "\n",
    "# imputed_aapl = imputer.fit_transform(monthly_sp500['AAPL'].drop('Name', axis=1))\n",
    "# imputed_aapl = pd.DataFrame(imputed_aapl,columns=['Open','High','Low','Close','Adj Close','Volume'])"
   ]
  },
  {
   "cell_type": "code",
   "execution_count": 29,
   "metadata": {},
   "outputs": [],
   "source": [
    "# imputed_aapl = imputed_aapl.set_index(monthly_sp500['AAPL'].index)"
   ]
  },
  {
   "cell_type": "code",
   "execution_count": 30,
   "metadata": {},
   "outputs": [],
   "source": [
    "# len(imputed_aapl.loc[imputed_aapl.isna().any(axis=1)])/len(imputed_aapl) * 100 #percentage of missingness"
   ]
  },
  {
   "cell_type": "code",
   "execution_count": 31,
   "metadata": {},
   "outputs": [
    {
     "output_type": "execute_result",
     "data": {
      "text/plain": [
       "                  Open        High         Low       Close   Adj Close  \\\n",
       "Date                                                                     \n",
       "2010-02-01    6.870357    7.327500    6.816071    7.307857    6.294721   \n",
       "2010-03-01    7.348214    8.481429    7.337500    8.392857    7.229299   \n",
       "2010-04-01    8.478929    9.730714    8.312500    9.324643    8.031907   \n",
       "2010-05-01    9.422857    9.567143    7.116071    9.174286    7.902396   \n",
       "2010-06-01    9.274643    9.964643    8.650000    8.983214    7.737815   \n",
       "...                ...         ...         ...         ...         ...   \n",
       "2021-01-01  157.240005  173.649994  154.130005  163.130005  162.119080   \n",
       "2021-02-01  165.309998  167.940002  157.970001  158.460007  157.478012   \n",
       "2021-02-22         NaN         NaN         NaN         NaN         NaN   \n",
       "2021-03-01  161.449997  161.529999  151.470001  153.070007  153.070007   \n",
       "2021-03-05  153.979996  156.174698  153.149994  156.089996  156.089996   \n",
       "\n",
       "                  Volume  Name  \n",
       "Date                            \n",
       "2010-02-01  1.077608e+10  AAPL  \n",
       "2010-03-01  1.215417e+10  AAPL  \n",
       "2010-04-01  1.236713e+10  AAPL  \n",
       "2010-05-01  1.808265e+10  AAPL  \n",
       "2010-06-01  1.665125e+10  AAPL  \n",
       "...                  ...   ...  \n",
       "2021-01-01  1.844584e+08   JNJ  \n",
       "2021-02-01  1.476050e+08   JNJ  \n",
       "2021-02-22           NaN   JNJ  \n",
       "2021-03-01  3.764600e+07   JNJ  \n",
       "2021-03-05  5.031747e+06   JNJ  \n",
       "\n",
       "[1494 rows x 7 columns]"
      ],
      "text/html": "<div>\n<style scoped>\n    .dataframe tbody tr th:only-of-type {\n        vertical-align: middle;\n    }\n\n    .dataframe tbody tr th {\n        vertical-align: top;\n    }\n\n    .dataframe thead th {\n        text-align: right;\n    }\n</style>\n<table border=\"1\" class=\"dataframe\">\n  <thead>\n    <tr style=\"text-align: right;\">\n      <th></th>\n      <th>Open</th>\n      <th>High</th>\n      <th>Low</th>\n      <th>Close</th>\n      <th>Adj Close</th>\n      <th>Volume</th>\n      <th>Name</th>\n    </tr>\n    <tr>\n      <th>Date</th>\n      <th></th>\n      <th></th>\n      <th></th>\n      <th></th>\n      <th></th>\n      <th></th>\n      <th></th>\n    </tr>\n  </thead>\n  <tbody>\n    <tr>\n      <th>2010-02-01</th>\n      <td>6.870357</td>\n      <td>7.327500</td>\n      <td>6.816071</td>\n      <td>7.307857</td>\n      <td>6.294721</td>\n      <td>1.077608e+10</td>\n      <td>AAPL</td>\n    </tr>\n    <tr>\n      <th>2010-03-01</th>\n      <td>7.348214</td>\n      <td>8.481429</td>\n      <td>7.337500</td>\n      <td>8.392857</td>\n      <td>7.229299</td>\n      <td>1.215417e+10</td>\n      <td>AAPL</td>\n    </tr>\n    <tr>\n      <th>2010-04-01</th>\n      <td>8.478929</td>\n      <td>9.730714</td>\n      <td>8.312500</td>\n      <td>9.324643</td>\n      <td>8.031907</td>\n      <td>1.236713e+10</td>\n      <td>AAPL</td>\n    </tr>\n    <tr>\n      <th>2010-05-01</th>\n      <td>9.422857</td>\n      <td>9.567143</td>\n      <td>7.116071</td>\n      <td>9.174286</td>\n      <td>7.902396</td>\n      <td>1.808265e+10</td>\n      <td>AAPL</td>\n    </tr>\n    <tr>\n      <th>2010-06-01</th>\n      <td>9.274643</td>\n      <td>9.964643</td>\n      <td>8.650000</td>\n      <td>8.983214</td>\n      <td>7.737815</td>\n      <td>1.665125e+10</td>\n      <td>AAPL</td>\n    </tr>\n    <tr>\n      <th>...</th>\n      <td>...</td>\n      <td>...</td>\n      <td>...</td>\n      <td>...</td>\n      <td>...</td>\n      <td>...</td>\n      <td>...</td>\n    </tr>\n    <tr>\n      <th>2021-01-01</th>\n      <td>157.240005</td>\n      <td>173.649994</td>\n      <td>154.130005</td>\n      <td>163.130005</td>\n      <td>162.119080</td>\n      <td>1.844584e+08</td>\n      <td>JNJ</td>\n    </tr>\n    <tr>\n      <th>2021-02-01</th>\n      <td>165.309998</td>\n      <td>167.940002</td>\n      <td>157.970001</td>\n      <td>158.460007</td>\n      <td>157.478012</td>\n      <td>1.476050e+08</td>\n      <td>JNJ</td>\n    </tr>\n    <tr>\n      <th>2021-02-22</th>\n      <td>NaN</td>\n      <td>NaN</td>\n      <td>NaN</td>\n      <td>NaN</td>\n      <td>NaN</td>\n      <td>NaN</td>\n      <td>JNJ</td>\n    </tr>\n    <tr>\n      <th>2021-03-01</th>\n      <td>161.449997</td>\n      <td>161.529999</td>\n      <td>151.470001</td>\n      <td>153.070007</td>\n      <td>153.070007</td>\n      <td>3.764600e+07</td>\n      <td>JNJ</td>\n    </tr>\n    <tr>\n      <th>2021-03-05</th>\n      <td>153.979996</td>\n      <td>156.174698</td>\n      <td>153.149994</td>\n      <td>156.089996</td>\n      <td>156.089996</td>\n      <td>5.031747e+06</td>\n      <td>JNJ</td>\n    </tr>\n  </tbody>\n</table>\n<p>1494 rows × 7 columns</p>\n</div>"
     },
     "metadata": {},
     "execution_count": 31
    }
   ],
   "source": [
    "# everything in one stupid large dataframe\n",
    "sp500m = monthly_sp500[tickers[0]] # monthly\n",
    "sp500m['Name'] = tickers[0]\n",
    "\n",
    "sp500d = daily_sp500[tickers[0]] # daily\n",
    "sp500d['Name'] = tickers[0]\n",
    "\n",
    "for tkr in tickers[1:10]:\n",
    "# for tkr in tickers:\n",
    "    df1 = monthly_sp500[tkr] # monthly\n",
    "    df1['Name'] = tkr\n",
    "    # df.set_index(['Name','Date'],inplace=True)\n",
    "    sp500m = sp500m.append(df1)\n",
    "\n",
    "    df2 = daily_sp500[tkr] # daily\n",
    "    df2['Name'] = tkr\n",
    "    # df.set_index(['Name','Date'],inplace=True)\n",
    "    sp500d = sp500d.append(df2)\n",
    "sp500m"
   ]
  },
  {
   "cell_type": "code",
   "execution_count": 32,
   "metadata": {},
   "outputs": [
    {
     "output_type": "execute_result",
     "data": {
      "text/plain": [
       "                  Open        High         Low       Close   Adj Close  \\\n",
       "Date                                                                     \n",
       "2010-02-01    6.870357    7.327500    6.816071    7.307857    6.294721   \n",
       "2010-03-01    7.348214    8.481429    7.337500    8.392857    7.229299   \n",
       "2010-04-01    8.478929    9.730714    8.312500    9.324643    8.031907   \n",
       "2010-05-01    9.422857    9.567143    7.116071    9.174286    7.902396   \n",
       "2010-06-01    9.274643    9.964643    8.650000    8.983214    7.737815   \n",
       "...                ...         ...         ...         ...         ...   \n",
       "2021-01-01  157.240005  173.649994  154.130005  163.130005  162.119080   \n",
       "2021-02-01  165.309998  167.940002  157.970001  158.460007  157.478012   \n",
       "2021-02-22         NaN         NaN         NaN         NaN         NaN   \n",
       "2021-03-01  161.449997  161.529999  151.470001  153.070007  153.070007   \n",
       "2021-03-05  153.979996  156.174698  153.149994  156.089996  156.089996   \n",
       "\n",
       "                  Volume  Name  \n",
       "Date                            \n",
       "2010-02-01  1.077608e+10  AAPL  \n",
       "2010-03-01  1.215417e+10  AAPL  \n",
       "2010-04-01  1.236713e+10  AAPL  \n",
       "2010-05-01  1.808265e+10  AAPL  \n",
       "2010-06-01  1.665125e+10  AAPL  \n",
       "...                  ...   ...  \n",
       "2021-01-01  1.844584e+08   JNJ  \n",
       "2021-02-01  1.476050e+08   JNJ  \n",
       "2021-02-22           NaN   JNJ  \n",
       "2021-03-01  3.764600e+07   JNJ  \n",
       "2021-03-05  5.031747e+06   JNJ  \n",
       "\n",
       "[1494 rows x 7 columns]"
      ],
      "text/html": "<div>\n<style scoped>\n    .dataframe tbody tr th:only-of-type {\n        vertical-align: middle;\n    }\n\n    .dataframe tbody tr th {\n        vertical-align: top;\n    }\n\n    .dataframe thead th {\n        text-align: right;\n    }\n</style>\n<table border=\"1\" class=\"dataframe\">\n  <thead>\n    <tr style=\"text-align: right;\">\n      <th></th>\n      <th>Open</th>\n      <th>High</th>\n      <th>Low</th>\n      <th>Close</th>\n      <th>Adj Close</th>\n      <th>Volume</th>\n      <th>Name</th>\n    </tr>\n    <tr>\n      <th>Date</th>\n      <th></th>\n      <th></th>\n      <th></th>\n      <th></th>\n      <th></th>\n      <th></th>\n      <th></th>\n    </tr>\n  </thead>\n  <tbody>\n    <tr>\n      <th>2010-02-01</th>\n      <td>6.870357</td>\n      <td>7.327500</td>\n      <td>6.816071</td>\n      <td>7.307857</td>\n      <td>6.294721</td>\n      <td>1.077608e+10</td>\n      <td>AAPL</td>\n    </tr>\n    <tr>\n      <th>2010-03-01</th>\n      <td>7.348214</td>\n      <td>8.481429</td>\n      <td>7.337500</td>\n      <td>8.392857</td>\n      <td>7.229299</td>\n      <td>1.215417e+10</td>\n      <td>AAPL</td>\n    </tr>\n    <tr>\n      <th>2010-04-01</th>\n      <td>8.478929</td>\n      <td>9.730714</td>\n      <td>8.312500</td>\n      <td>9.324643</td>\n      <td>8.031907</td>\n      <td>1.236713e+10</td>\n      <td>AAPL</td>\n    </tr>\n    <tr>\n      <th>2010-05-01</th>\n      <td>9.422857</td>\n      <td>9.567143</td>\n      <td>7.116071</td>\n      <td>9.174286</td>\n      <td>7.902396</td>\n      <td>1.808265e+10</td>\n      <td>AAPL</td>\n    </tr>\n    <tr>\n      <th>2010-06-01</th>\n      <td>9.274643</td>\n      <td>9.964643</td>\n      <td>8.650000</td>\n      <td>8.983214</td>\n      <td>7.737815</td>\n      <td>1.665125e+10</td>\n      <td>AAPL</td>\n    </tr>\n    <tr>\n      <th>...</th>\n      <td>...</td>\n      <td>...</td>\n      <td>...</td>\n      <td>...</td>\n      <td>...</td>\n      <td>...</td>\n      <td>...</td>\n    </tr>\n    <tr>\n      <th>2021-01-01</th>\n      <td>157.240005</td>\n      <td>173.649994</td>\n      <td>154.130005</td>\n      <td>163.130005</td>\n      <td>162.119080</td>\n      <td>1.844584e+08</td>\n      <td>JNJ</td>\n    </tr>\n    <tr>\n      <th>2021-02-01</th>\n      <td>165.309998</td>\n      <td>167.940002</td>\n      <td>157.970001</td>\n      <td>158.460007</td>\n      <td>157.478012</td>\n      <td>1.476050e+08</td>\n      <td>JNJ</td>\n    </tr>\n    <tr>\n      <th>2021-02-22</th>\n      <td>NaN</td>\n      <td>NaN</td>\n      <td>NaN</td>\n      <td>NaN</td>\n      <td>NaN</td>\n      <td>NaN</td>\n      <td>JNJ</td>\n    </tr>\n    <tr>\n      <th>2021-03-01</th>\n      <td>161.449997</td>\n      <td>161.529999</td>\n      <td>151.470001</td>\n      <td>153.070007</td>\n      <td>153.070007</td>\n      <td>3.764600e+07</td>\n      <td>JNJ</td>\n    </tr>\n    <tr>\n      <th>2021-03-05</th>\n      <td>153.979996</td>\n      <td>156.174698</td>\n      <td>153.149994</td>\n      <td>156.089996</td>\n      <td>156.089996</td>\n      <td>5.031747e+06</td>\n      <td>JNJ</td>\n    </tr>\n  </tbody>\n</table>\n<p>1494 rows × 7 columns</p>\n</div>"
     },
     "metadata": {},
     "execution_count": 32
    }
   ],
   "source": [
    "sp500m"
   ]
  },
  {
   "cell_type": "code",
   "execution_count": 33,
   "metadata": {},
   "outputs": [
    {
     "output_type": "stream",
     "name": "stdout",
     "text": [
      "(1494, 7) (27399, 7)\n"
     ]
    },
    {
     "output_type": "execute_result",
     "data": {
      "text/plain": [
       "                  Open        High         Low       Close   Adj Close  \\\n",
       "Date                                                                     \n",
       "2010-01-04    7.622500    7.660714    7.585000    7.643214    6.583586   \n",
       "2010-01-05    7.664286    7.699643    7.616071    7.656429    6.594968   \n",
       "2010-01-06    7.656429    7.686786    7.526786    7.534643    6.490066   \n",
       "2010-01-07    7.562500    7.571429    7.466071    7.520714    6.478067   \n",
       "2010-01-08    7.510714    7.571429    7.466429    7.570714    6.521136   \n",
       "...                ...         ...         ...         ...         ...   \n",
       "2021-03-01  161.449997  161.529999  159.089996  159.320007  159.320007   \n",
       "2021-03-02  159.779999  160.779999  158.600006  159.020004  159.020004   \n",
       "2021-03-03  158.250000  158.899994  156.059998  156.220001  156.220001   \n",
       "2021-03-04  155.990005  156.100006  151.470001  153.070007  153.070007   \n",
       "2021-03-05  153.979996  156.174698  153.149994  156.089996  156.089996   \n",
       "\n",
       "               Volume  Name  \n",
       "Date                         \n",
       "2010-01-04  493729600  AAPL  \n",
       "2010-01-05  601904800  AAPL  \n",
       "2010-01-06  552160000  AAPL  \n",
       "2010-01-07  477131200  AAPL  \n",
       "2010-01-08  447610800  AAPL  \n",
       "...               ...   ...  \n",
       "2021-03-01   10539500   JNJ  \n",
       "2021-03-02    7605800   JNJ  \n",
       "2021-03-03    8489900   JNJ  \n",
       "2021-03-04   11010800   JNJ  \n",
       "2021-03-05    5031972   JNJ  \n",
       "\n",
       "[27399 rows x 7 columns]"
      ],
      "text/html": "<div>\n<style scoped>\n    .dataframe tbody tr th:only-of-type {\n        vertical-align: middle;\n    }\n\n    .dataframe tbody tr th {\n        vertical-align: top;\n    }\n\n    .dataframe thead th {\n        text-align: right;\n    }\n</style>\n<table border=\"1\" class=\"dataframe\">\n  <thead>\n    <tr style=\"text-align: right;\">\n      <th></th>\n      <th>Open</th>\n      <th>High</th>\n      <th>Low</th>\n      <th>Close</th>\n      <th>Adj Close</th>\n      <th>Volume</th>\n      <th>Name</th>\n    </tr>\n    <tr>\n      <th>Date</th>\n      <th></th>\n      <th></th>\n      <th></th>\n      <th></th>\n      <th></th>\n      <th></th>\n      <th></th>\n    </tr>\n  </thead>\n  <tbody>\n    <tr>\n      <th>2010-01-04</th>\n      <td>7.622500</td>\n      <td>7.660714</td>\n      <td>7.585000</td>\n      <td>7.643214</td>\n      <td>6.583586</td>\n      <td>493729600</td>\n      <td>AAPL</td>\n    </tr>\n    <tr>\n      <th>2010-01-05</th>\n      <td>7.664286</td>\n      <td>7.699643</td>\n      <td>7.616071</td>\n      <td>7.656429</td>\n      <td>6.594968</td>\n      <td>601904800</td>\n      <td>AAPL</td>\n    </tr>\n    <tr>\n      <th>2010-01-06</th>\n      <td>7.656429</td>\n      <td>7.686786</td>\n      <td>7.526786</td>\n      <td>7.534643</td>\n      <td>6.490066</td>\n      <td>552160000</td>\n      <td>AAPL</td>\n    </tr>\n    <tr>\n      <th>2010-01-07</th>\n      <td>7.562500</td>\n      <td>7.571429</td>\n      <td>7.466071</td>\n      <td>7.520714</td>\n      <td>6.478067</td>\n      <td>477131200</td>\n      <td>AAPL</td>\n    </tr>\n    <tr>\n      <th>2010-01-08</th>\n      <td>7.510714</td>\n      <td>7.571429</td>\n      <td>7.466429</td>\n      <td>7.570714</td>\n      <td>6.521136</td>\n      <td>447610800</td>\n      <td>AAPL</td>\n    </tr>\n    <tr>\n      <th>...</th>\n      <td>...</td>\n      <td>...</td>\n      <td>...</td>\n      <td>...</td>\n      <td>...</td>\n      <td>...</td>\n      <td>...</td>\n    </tr>\n    <tr>\n      <th>2021-03-01</th>\n      <td>161.449997</td>\n      <td>161.529999</td>\n      <td>159.089996</td>\n      <td>159.320007</td>\n      <td>159.320007</td>\n      <td>10539500</td>\n      <td>JNJ</td>\n    </tr>\n    <tr>\n      <th>2021-03-02</th>\n      <td>159.779999</td>\n      <td>160.779999</td>\n      <td>158.600006</td>\n      <td>159.020004</td>\n      <td>159.020004</td>\n      <td>7605800</td>\n      <td>JNJ</td>\n    </tr>\n    <tr>\n      <th>2021-03-03</th>\n      <td>158.250000</td>\n      <td>158.899994</td>\n      <td>156.059998</td>\n      <td>156.220001</td>\n      <td>156.220001</td>\n      <td>8489900</td>\n      <td>JNJ</td>\n    </tr>\n    <tr>\n      <th>2021-03-04</th>\n      <td>155.990005</td>\n      <td>156.100006</td>\n      <td>151.470001</td>\n      <td>153.070007</td>\n      <td>153.070007</td>\n      <td>11010800</td>\n      <td>JNJ</td>\n    </tr>\n    <tr>\n      <th>2021-03-05</th>\n      <td>153.979996</td>\n      <td>156.174698</td>\n      <td>153.149994</td>\n      <td>156.089996</td>\n      <td>156.089996</td>\n      <td>5031972</td>\n      <td>JNJ</td>\n    </tr>\n  </tbody>\n</table>\n<p>27399 rows × 7 columns</p>\n</div>"
     },
     "metadata": {},
     "execution_count": 33
    }
   ],
   "source": [
    "print(sp500m.shape,sp500d.shape)\n",
    "sp500d"
   ]
  },
  {
   "cell_type": "code",
   "execution_count": 34,
   "metadata": {},
   "outputs": [
    {
     "output_type": "execute_result",
     "data": {
      "text/plain": [
       "             Date        Open        High         Low       Close   Adj Close  \\\n",
       "0      2010-02-01   63.259998   64.699997   61.889999   63.000000   45.095860   \n",
       "2      2010-03-01   63.270000   65.489998   63.020000   65.199997   47.027702   \n",
       "3      2010-04-01   65.370003   66.199997   64.209999   64.300003   46.378559   \n",
       "4      2010-05-01   65.160004   65.620003   58.189999   58.299999   42.050858   \n",
       "6      2010-06-01   58.209999   60.150002   57.549999   59.060001   42.988129   \n",
       "...           ...         ...         ...         ...         ...         ...   \n",
       "90746  2020-11-01  138.979996  151.300003  137.490005  144.679993  142.791168   \n",
       "90748  2020-12-01  146.289993  157.660004  145.860001  157.380005  156.404709   \n",
       "90749  2021-01-01  157.240005  173.649994  154.130005  163.130005  162.119080   \n",
       "90750  2021-02-01  165.309998  167.940002  159.570007  162.759995  161.751358   \n",
       "90752  2021-02-26  162.000000  162.389999  158.000000  158.460007  158.460007   \n",
       "\n",
       "            Volume  Name  \n",
       "0      213341500.0  AAPL  \n",
       "2      249947500.0  AAPL  \n",
       "3      235860700.0  AAPL  \n",
       "4      357775800.0  AAPL  \n",
       "6      357343400.0  AAPL  \n",
       "...            ...   ...  \n",
       "90746  153635100.0   NWS  \n",
       "90748  158930200.0   NWS  \n",
       "90749  184458400.0   NWS  \n",
       "90750  133198000.0   NWS  \n",
       "90752   13194020.0   NWS  \n",
       "\n",
       "[67938 rows x 8 columns]"
      ],
      "text/html": "<div>\n<style scoped>\n    .dataframe tbody tr th:only-of-type {\n        vertical-align: middle;\n    }\n\n    .dataframe tbody tr th {\n        vertical-align: top;\n    }\n\n    .dataframe thead th {\n        text-align: right;\n    }\n</style>\n<table border=\"1\" class=\"dataframe\">\n  <thead>\n    <tr style=\"text-align: right;\">\n      <th></th>\n      <th>Date</th>\n      <th>Open</th>\n      <th>High</th>\n      <th>Low</th>\n      <th>Close</th>\n      <th>Adj Close</th>\n      <th>Volume</th>\n      <th>Name</th>\n    </tr>\n  </thead>\n  <tbody>\n    <tr>\n      <th>0</th>\n      <td>2010-02-01</td>\n      <td>63.259998</td>\n      <td>64.699997</td>\n      <td>61.889999</td>\n      <td>63.000000</td>\n      <td>45.095860</td>\n      <td>213341500.0</td>\n      <td>AAPL</td>\n    </tr>\n    <tr>\n      <th>2</th>\n      <td>2010-03-01</td>\n      <td>63.270000</td>\n      <td>65.489998</td>\n      <td>63.020000</td>\n      <td>65.199997</td>\n      <td>47.027702</td>\n      <td>249947500.0</td>\n      <td>AAPL</td>\n    </tr>\n    <tr>\n      <th>3</th>\n      <td>2010-04-01</td>\n      <td>65.370003</td>\n      <td>66.199997</td>\n      <td>64.209999</td>\n      <td>64.300003</td>\n      <td>46.378559</td>\n      <td>235860700.0</td>\n      <td>AAPL</td>\n    </tr>\n    <tr>\n      <th>4</th>\n      <td>2010-05-01</td>\n      <td>65.160004</td>\n      <td>65.620003</td>\n      <td>58.189999</td>\n      <td>58.299999</td>\n      <td>42.050858</td>\n      <td>357775800.0</td>\n      <td>AAPL</td>\n    </tr>\n    <tr>\n      <th>6</th>\n      <td>2010-06-01</td>\n      <td>58.209999</td>\n      <td>60.150002</td>\n      <td>57.549999</td>\n      <td>59.060001</td>\n      <td>42.988129</td>\n      <td>357343400.0</td>\n      <td>AAPL</td>\n    </tr>\n    <tr>\n      <th>...</th>\n      <td>...</td>\n      <td>...</td>\n      <td>...</td>\n      <td>...</td>\n      <td>...</td>\n      <td>...</td>\n      <td>...</td>\n      <td>...</td>\n    </tr>\n    <tr>\n      <th>90746</th>\n      <td>2020-11-01</td>\n      <td>138.979996</td>\n      <td>151.300003</td>\n      <td>137.490005</td>\n      <td>144.679993</td>\n      <td>142.791168</td>\n      <td>153635100.0</td>\n      <td>NWS</td>\n    </tr>\n    <tr>\n      <th>90748</th>\n      <td>2020-12-01</td>\n      <td>146.289993</td>\n      <td>157.660004</td>\n      <td>145.860001</td>\n      <td>157.380005</td>\n      <td>156.404709</td>\n      <td>158930200.0</td>\n      <td>NWS</td>\n    </tr>\n    <tr>\n      <th>90749</th>\n      <td>2021-01-01</td>\n      <td>157.240005</td>\n      <td>173.649994</td>\n      <td>154.130005</td>\n      <td>163.130005</td>\n      <td>162.119080</td>\n      <td>184458400.0</td>\n      <td>NWS</td>\n    </tr>\n    <tr>\n      <th>90750</th>\n      <td>2021-02-01</td>\n      <td>165.309998</td>\n      <td>167.940002</td>\n      <td>159.570007</td>\n      <td>162.759995</td>\n      <td>161.751358</td>\n      <td>133198000.0</td>\n      <td>NWS</td>\n    </tr>\n    <tr>\n      <th>90752</th>\n      <td>2021-02-26</td>\n      <td>162.000000</td>\n      <td>162.389999</td>\n      <td>158.000000</td>\n      <td>158.460007</td>\n      <td>158.460007</td>\n      <td>13194020.0</td>\n      <td>NWS</td>\n    </tr>\n  </tbody>\n</table>\n<p>67938 rows × 8 columns</p>\n</div>"
     },
     "metadata": {},
     "execution_count": 34
    }
   ],
   "source": [
    "# sp500m.to_csv('SP500_monthly.csv')\n",
    "# sp500d.to_csv('SP500_daily.csv')\n",
    "# df = pd.read_csv('SP500_monthly.csv').infer_objects().set_index('Name').dropna()\n",
    "df = pd.read_csv('SP500_monthly.csv').infer_objects().dropna()\n",
    "df"
   ]
  },
  {
   "cell_type": "code",
   "execution_count": null,
   "metadata": {},
   "outputs": [],
   "source": []
  },
  {
   "cell_type": "code",
   "execution_count": 54,
   "metadata": {},
   "outputs": [
    {
     "output_type": "execute_result",
     "data": {
      "text/plain": [
       "['2010-05-01',\n",
       " '2010-11-01',\n",
       " '2011-05-01',\n",
       " '2011-11-01',\n",
       " '2012-05-01',\n",
       " '2012-11-01',\n",
       " '2013-05-01',\n",
       " '2013-11-01',\n",
       " '2014-05-01',\n",
       " '2014-11-01',\n",
       " '2015-05-01',\n",
       " '2015-11-01',\n",
       " '2016-05-01',\n",
       " '2016-11-01',\n",
       " '2017-05-01',\n",
       " '2017-11-01',\n",
       " '2018-05-01',\n",
       " '2018-11-01',\n",
       " '2019-05-01',\n",
       " '2019-11-01',\n",
       " '2020-05-01',\n",
       " '2020-11-01']"
      ]
     },
     "metadata": {},
     "execution_count": 54
    }
   ],
   "source": [
    "st = pd.to_datetime(df.Date.min())\n",
    "et = pd.to_datetime(df.Date.max())\n",
    "j=1\n",
    "k=2\n",
    "# the 'midpoints' for each observe and hold period. midpoint in this context is where we switch from the observation period len=j to the holding period len=k\n",
    "j_end = pd.date_range(st+pd.DateOffset(months=j*3), et, freq=str(k*3)+\"MS\")\n",
    "j_end.strftime(\"%Y-%m-%d\").to_list()"
   ]
  },
  {
   "cell_type": "code",
   "execution_count": 36,
   "metadata": {},
   "outputs": [
    {
     "output_type": "execute_result",
     "data": {
      "text/plain": [
       "             Date        Open        High         Low       Close   Adj Close  \\\n",
       "4      2010-05-01   65.160004   65.620003   58.189999   58.299999   42.050858   \n",
       "12     2010-11-01   63.880001   64.919998   61.250000   61.549999   45.223030   \n",
       "20     2011-05-01   65.919998   67.370003   64.800003   67.290001   50.316845   \n",
       "28     2011-11-01   63.680000   65.489998   61.049999   64.720001   49.249725   \n",
       "36     2012-05-01   64.910004   65.489998   62.000000   62.430000   48.371529   \n",
       "...           ...         ...         ...         ...         ...         ...   \n",
       "90714  2018-11-01  140.070007  148.750000  139.000000  146.899994  137.354538   \n",
       "90722  2019-05-01  140.949997  142.350006  128.520004  131.149994  124.227379   \n",
       "90730  2019-11-01  132.050003  138.630005  129.679993  137.490005  132.106400   \n",
       "90738  2020-05-01  149.619995  153.619995  143.009995  148.750000  144.833420   \n",
       "90746  2020-11-01  138.979996  151.300003  137.490005  144.679993  142.791168   \n",
       "\n",
       "            Volume  Name  \n",
       "4      357775800.0  AAPL  \n",
       "12     221392600.0  AAPL  \n",
       "20     270892200.0  AAPL  \n",
       "28     236914800.0  AAPL  \n",
       "36     278010100.0  AAPL  \n",
       "...            ...   ...  \n",
       "90714  152746600.0   NWS  \n",
       "90722  159034100.0   NWS  \n",
       "90730  127753600.0   NWS  \n",
       "90738  136208900.0   NWS  \n",
       "90746  153635100.0   NWS  \n",
       "\n",
       "[11154 rows x 8 columns]"
      ],
      "text/html": "<div>\n<style scoped>\n    .dataframe tbody tr th:only-of-type {\n        vertical-align: middle;\n    }\n\n    .dataframe tbody tr th {\n        vertical-align: top;\n    }\n\n    .dataframe thead th {\n        text-align: right;\n    }\n</style>\n<table border=\"1\" class=\"dataframe\">\n  <thead>\n    <tr style=\"text-align: right;\">\n      <th></th>\n      <th>Date</th>\n      <th>Open</th>\n      <th>High</th>\n      <th>Low</th>\n      <th>Close</th>\n      <th>Adj Close</th>\n      <th>Volume</th>\n      <th>Name</th>\n    </tr>\n  </thead>\n  <tbody>\n    <tr>\n      <th>4</th>\n      <td>2010-05-01</td>\n      <td>65.160004</td>\n      <td>65.620003</td>\n      <td>58.189999</td>\n      <td>58.299999</td>\n      <td>42.050858</td>\n      <td>357775800.0</td>\n      <td>AAPL</td>\n    </tr>\n    <tr>\n      <th>12</th>\n      <td>2010-11-01</td>\n      <td>63.880001</td>\n      <td>64.919998</td>\n      <td>61.250000</td>\n      <td>61.549999</td>\n      <td>45.223030</td>\n      <td>221392600.0</td>\n      <td>AAPL</td>\n    </tr>\n    <tr>\n      <th>20</th>\n      <td>2011-05-01</td>\n      <td>65.919998</td>\n      <td>67.370003</td>\n      <td>64.800003</td>\n      <td>67.290001</td>\n      <td>50.316845</td>\n      <td>270892200.0</td>\n      <td>AAPL</td>\n    </tr>\n    <tr>\n      <th>28</th>\n      <td>2011-11-01</td>\n      <td>63.680000</td>\n      <td>65.489998</td>\n      <td>61.049999</td>\n      <td>64.720001</td>\n      <td>49.249725</td>\n      <td>236914800.0</td>\n      <td>AAPL</td>\n    </tr>\n    <tr>\n      <th>36</th>\n      <td>2012-05-01</td>\n      <td>64.910004</td>\n      <td>65.489998</td>\n      <td>62.000000</td>\n      <td>62.430000</td>\n      <td>48.371529</td>\n      <td>278010100.0</td>\n      <td>AAPL</td>\n    </tr>\n    <tr>\n      <th>...</th>\n      <td>...</td>\n      <td>...</td>\n      <td>...</td>\n      <td>...</td>\n      <td>...</td>\n      <td>...</td>\n      <td>...</td>\n      <td>...</td>\n    </tr>\n    <tr>\n      <th>90714</th>\n      <td>2018-11-01</td>\n      <td>140.070007</td>\n      <td>148.750000</td>\n      <td>139.000000</td>\n      <td>146.899994</td>\n      <td>137.354538</td>\n      <td>152746600.0</td>\n      <td>NWS</td>\n    </tr>\n    <tr>\n      <th>90722</th>\n      <td>2019-05-01</td>\n      <td>140.949997</td>\n      <td>142.350006</td>\n      <td>128.520004</td>\n      <td>131.149994</td>\n      <td>124.227379</td>\n      <td>159034100.0</td>\n      <td>NWS</td>\n    </tr>\n    <tr>\n      <th>90730</th>\n      <td>2019-11-01</td>\n      <td>132.050003</td>\n      <td>138.630005</td>\n      <td>129.679993</td>\n      <td>137.490005</td>\n      <td>132.106400</td>\n      <td>127753600.0</td>\n      <td>NWS</td>\n    </tr>\n    <tr>\n      <th>90738</th>\n      <td>2020-05-01</td>\n      <td>149.619995</td>\n      <td>153.619995</td>\n      <td>143.009995</td>\n      <td>148.750000</td>\n      <td>144.833420</td>\n      <td>136208900.0</td>\n      <td>NWS</td>\n    </tr>\n    <tr>\n      <th>90746</th>\n      <td>2020-11-01</td>\n      <td>138.979996</td>\n      <td>151.300003</td>\n      <td>137.490005</td>\n      <td>144.679993</td>\n      <td>142.791168</td>\n      <td>153635100.0</td>\n      <td>NWS</td>\n    </tr>\n  </tbody>\n</table>\n<p>11154 rows × 8 columns</p>\n</div>"
     },
     "metadata": {},
     "execution_count": 36
    }
   ],
   "source": [
    "#df of just the midpoint dates for sanity check\n",
    "df[df['Date'].isin(j_end.strftime(\"%Y-%m-%d\").to_list())]"
   ]
  },
  {
   "cell_type": "code",
   "execution_count": 37,
   "metadata": {},
   "outputs": [
    {
     "output_type": "execute_result",
     "data": {
      "text/plain": [
       "['2010-02-01',\n",
       " '2010-08-01',\n",
       " '2011-02-01',\n",
       " '2011-08-01',\n",
       " '2012-02-01',\n",
       " '2012-08-01',\n",
       " '2013-02-01',\n",
       " '2013-08-01',\n",
       " '2014-02-01',\n",
       " '2014-08-01',\n",
       " '2015-02-01',\n",
       " '2015-08-01',\n",
       " '2016-02-01',\n",
       " '2016-08-01',\n",
       " '2017-02-01',\n",
       " '2017-08-01',\n",
       " '2018-02-01',\n",
       " '2018-08-01',\n",
       " '2019-02-01',\n",
       " '2019-08-01',\n",
       " '2020-02-01',\n",
       " '2020-08-01']"
      ]
     },
     "metadata": {},
     "execution_count": 37
    }
   ],
   "source": [
    "# based on the midpoint, get the start point for each observe and hold period\n",
    "j_start = j_end + pd.DateOffset(months=-j*3)\n",
    "j_start.strftime(\"%Y-%m-%d\").to_list()"
   ]
  },
  {
   "cell_type": "code",
   "execution_count": 38,
   "metadata": {},
   "outputs": [
    {
     "output_type": "execute_result",
     "data": {
      "text/plain": [
       "['2010-11-01',\n",
       " '2011-05-01',\n",
       " '2011-11-01',\n",
       " '2012-05-01',\n",
       " '2012-11-01',\n",
       " '2013-05-01',\n",
       " '2013-11-01',\n",
       " '2014-05-01',\n",
       " '2014-11-01',\n",
       " '2015-05-01',\n",
       " '2015-11-01',\n",
       " '2016-05-01',\n",
       " '2016-11-01',\n",
       " '2017-05-01',\n",
       " '2017-11-01',\n",
       " '2018-05-01',\n",
       " '2018-11-01',\n",
       " '2019-05-01',\n",
       " '2019-11-01',\n",
       " '2020-05-01',\n",
       " '2020-11-01',\n",
       " '2021-05-01']"
      ]
     },
     "metadata": {},
     "execution_count": 38
    }
   ],
   "source": [
    "# based on the midpoint, get the end point for each observe and hold period\n",
    "k_end = j_end + pd.DateOffset(months=k*3)\n",
    "k_end.strftime(\"%Y-%m-%d\").to_list()"
   ]
  },
  {
   "cell_type": "code",
   "execution_count": 39,
   "metadata": {},
   "outputs": [
    {
     "output_type": "execute_result",
     "data": {
      "text/plain": [
       "      j_start   midpoint      k_end\n",
       "0  2010-02-01 2010-05-01 2010-11-01\n",
       "1  2010-08-01 2010-11-01 2011-05-01\n",
       "2  2011-02-01 2011-05-01 2011-11-01\n",
       "3  2011-08-01 2011-11-01 2012-05-01\n",
       "4  2012-02-01 2012-05-01 2012-11-01\n",
       "5  2012-08-01 2012-11-01 2013-05-01\n",
       "6  2013-02-01 2013-05-01 2013-11-01\n",
       "7  2013-08-01 2013-11-01 2014-05-01\n",
       "8  2014-02-01 2014-05-01 2014-11-01\n",
       "9  2014-08-01 2014-11-01 2015-05-01\n",
       "10 2015-02-01 2015-05-01 2015-11-01\n",
       "11 2015-08-01 2015-11-01 2016-05-01\n",
       "12 2016-02-01 2016-05-01 2016-11-01\n",
       "13 2016-08-01 2016-11-01 2017-05-01\n",
       "14 2017-02-01 2017-05-01 2017-11-01\n",
       "15 2017-08-01 2017-11-01 2018-05-01\n",
       "16 2018-02-01 2018-05-01 2018-11-01\n",
       "17 2018-08-01 2018-11-01 2019-05-01\n",
       "18 2019-02-01 2019-05-01 2019-11-01\n",
       "19 2019-08-01 2019-11-01 2020-05-01\n",
       "20 2020-02-01 2020-05-01 2020-11-01\n",
       "21 2020-08-01 2020-11-01 2021-05-01"
      ],
      "text/html": "<div>\n<style scoped>\n    .dataframe tbody tr th:only-of-type {\n        vertical-align: middle;\n    }\n\n    .dataframe tbody tr th {\n        vertical-align: top;\n    }\n\n    .dataframe thead th {\n        text-align: right;\n    }\n</style>\n<table border=\"1\" class=\"dataframe\">\n  <thead>\n    <tr style=\"text-align: right;\">\n      <th></th>\n      <th>j_start</th>\n      <th>midpoint</th>\n      <th>k_end</th>\n    </tr>\n  </thead>\n  <tbody>\n    <tr>\n      <th>0</th>\n      <td>2010-02-01</td>\n      <td>2010-05-01</td>\n      <td>2010-11-01</td>\n    </tr>\n    <tr>\n      <th>1</th>\n      <td>2010-08-01</td>\n      <td>2010-11-01</td>\n      <td>2011-05-01</td>\n    </tr>\n    <tr>\n      <th>2</th>\n      <td>2011-02-01</td>\n      <td>2011-05-01</td>\n      <td>2011-11-01</td>\n    </tr>\n    <tr>\n      <th>3</th>\n      <td>2011-08-01</td>\n      <td>2011-11-01</td>\n      <td>2012-05-01</td>\n    </tr>\n    <tr>\n      <th>4</th>\n      <td>2012-02-01</td>\n      <td>2012-05-01</td>\n      <td>2012-11-01</td>\n    </tr>\n    <tr>\n      <th>5</th>\n      <td>2012-08-01</td>\n      <td>2012-11-01</td>\n      <td>2013-05-01</td>\n    </tr>\n    <tr>\n      <th>6</th>\n      <td>2013-02-01</td>\n      <td>2013-05-01</td>\n      <td>2013-11-01</td>\n    </tr>\n    <tr>\n      <th>7</th>\n      <td>2013-08-01</td>\n      <td>2013-11-01</td>\n      <td>2014-05-01</td>\n    </tr>\n    <tr>\n      <th>8</th>\n      <td>2014-02-01</td>\n      <td>2014-05-01</td>\n      <td>2014-11-01</td>\n    </tr>\n    <tr>\n      <th>9</th>\n      <td>2014-08-01</td>\n      <td>2014-11-01</td>\n      <td>2015-05-01</td>\n    </tr>\n    <tr>\n      <th>10</th>\n      <td>2015-02-01</td>\n      <td>2015-05-01</td>\n      <td>2015-11-01</td>\n    </tr>\n    <tr>\n      <th>11</th>\n      <td>2015-08-01</td>\n      <td>2015-11-01</td>\n      <td>2016-05-01</td>\n    </tr>\n    <tr>\n      <th>12</th>\n      <td>2016-02-01</td>\n      <td>2016-05-01</td>\n      <td>2016-11-01</td>\n    </tr>\n    <tr>\n      <th>13</th>\n      <td>2016-08-01</td>\n      <td>2016-11-01</td>\n      <td>2017-05-01</td>\n    </tr>\n    <tr>\n      <th>14</th>\n      <td>2017-02-01</td>\n      <td>2017-05-01</td>\n      <td>2017-11-01</td>\n    </tr>\n    <tr>\n      <th>15</th>\n      <td>2017-08-01</td>\n      <td>2017-11-01</td>\n      <td>2018-05-01</td>\n    </tr>\n    <tr>\n      <th>16</th>\n      <td>2018-02-01</td>\n      <td>2018-05-01</td>\n      <td>2018-11-01</td>\n    </tr>\n    <tr>\n      <th>17</th>\n      <td>2018-08-01</td>\n      <td>2018-11-01</td>\n      <td>2019-05-01</td>\n    </tr>\n    <tr>\n      <th>18</th>\n      <td>2019-02-01</td>\n      <td>2019-05-01</td>\n      <td>2019-11-01</td>\n    </tr>\n    <tr>\n      <th>19</th>\n      <td>2019-08-01</td>\n      <td>2019-11-01</td>\n      <td>2020-05-01</td>\n    </tr>\n    <tr>\n      <th>20</th>\n      <td>2020-02-01</td>\n      <td>2020-05-01</td>\n      <td>2020-11-01</td>\n    </tr>\n    <tr>\n      <th>21</th>\n      <td>2020-08-01</td>\n      <td>2020-11-01</td>\n      <td>2021-05-01</td>\n    </tr>\n  </tbody>\n</table>\n</div>"
     },
     "metadata": {},
     "execution_count": 39
    }
   ],
   "source": [
    "timedf = pd.DataFrame({'j_start': j_start, 'midpoint': j_end, 'k_end': k_end}).infer_objects() # i put all this garbage in a handy function below\n",
    "timedf"
   ]
  },
  {
   "source": [
    "## ^^^let me know if this timedf time table is useful or not. I wanted an easy way to organize time. we can very easily switch it over to getting that midpoint value instead"
   ],
   "cell_type": "markdown",
   "metadata": {}
  },
  {
   "cell_type": "code",
   "execution_count": 64,
   "metadata": {},
   "outputs": [
    {
     "output_type": "execute_result",
     "data": {
      "text/plain": [
       "      j_start   midpoint      k_end\n",
       "0  2010-02-01 2010-05-01 2010-11-01\n",
       "1  2010-08-01 2010-11-01 2011-05-01\n",
       "2  2011-02-01 2011-05-01 2011-11-01\n",
       "3  2011-08-01 2011-11-01 2012-05-01\n",
       "4  2012-02-01 2012-05-01 2012-11-01\n",
       "5  2012-08-01 2012-11-01 2013-05-01\n",
       "6  2013-02-01 2013-05-01 2013-11-01\n",
       "7  2013-08-01 2013-11-01 2014-05-01\n",
       "8  2014-02-01 2014-05-01 2014-11-01\n",
       "9  2014-08-01 2014-11-01 2015-05-01\n",
       "10 2015-02-01 2015-05-01 2015-11-01\n",
       "11 2015-08-01 2015-11-01 2016-05-01\n",
       "12 2016-02-01 2016-05-01 2016-11-01\n",
       "13 2016-08-01 2016-11-01 2017-05-01\n",
       "14 2017-02-01 2017-05-01 2017-11-01\n",
       "15 2017-08-01 2017-11-01 2018-05-01\n",
       "16 2018-02-01 2018-05-01 2018-11-01\n",
       "17 2018-08-01 2018-11-01 2019-05-01\n",
       "18 2019-02-01 2019-05-01 2019-11-01\n",
       "19 2019-08-01 2019-11-01 2020-05-01\n",
       "20 2020-02-01 2020-05-01 2020-11-01\n",
       "21 2020-08-01 2020-11-01 2021-05-01"
      ],
      "text/html": "<div>\n<style scoped>\n    .dataframe tbody tr th:only-of-type {\n        vertical-align: middle;\n    }\n\n    .dataframe tbody tr th {\n        vertical-align: top;\n    }\n\n    .dataframe thead th {\n        text-align: right;\n    }\n</style>\n<table border=\"1\" class=\"dataframe\">\n  <thead>\n    <tr style=\"text-align: right;\">\n      <th></th>\n      <th>j_start</th>\n      <th>midpoint</th>\n      <th>k_end</th>\n    </tr>\n  </thead>\n  <tbody>\n    <tr>\n      <th>0</th>\n      <td>2010-02-01</td>\n      <td>2010-05-01</td>\n      <td>2010-11-01</td>\n    </tr>\n    <tr>\n      <th>1</th>\n      <td>2010-08-01</td>\n      <td>2010-11-01</td>\n      <td>2011-05-01</td>\n    </tr>\n    <tr>\n      <th>2</th>\n      <td>2011-02-01</td>\n      <td>2011-05-01</td>\n      <td>2011-11-01</td>\n    </tr>\n    <tr>\n      <th>3</th>\n      <td>2011-08-01</td>\n      <td>2011-11-01</td>\n      <td>2012-05-01</td>\n    </tr>\n    <tr>\n      <th>4</th>\n      <td>2012-02-01</td>\n      <td>2012-05-01</td>\n      <td>2012-11-01</td>\n    </tr>\n    <tr>\n      <th>5</th>\n      <td>2012-08-01</td>\n      <td>2012-11-01</td>\n      <td>2013-05-01</td>\n    </tr>\n    <tr>\n      <th>6</th>\n      <td>2013-02-01</td>\n      <td>2013-05-01</td>\n      <td>2013-11-01</td>\n    </tr>\n    <tr>\n      <th>7</th>\n      <td>2013-08-01</td>\n      <td>2013-11-01</td>\n      <td>2014-05-01</td>\n    </tr>\n    <tr>\n      <th>8</th>\n      <td>2014-02-01</td>\n      <td>2014-05-01</td>\n      <td>2014-11-01</td>\n    </tr>\n    <tr>\n      <th>9</th>\n      <td>2014-08-01</td>\n      <td>2014-11-01</td>\n      <td>2015-05-01</td>\n    </tr>\n    <tr>\n      <th>10</th>\n      <td>2015-02-01</td>\n      <td>2015-05-01</td>\n      <td>2015-11-01</td>\n    </tr>\n    <tr>\n      <th>11</th>\n      <td>2015-08-01</td>\n      <td>2015-11-01</td>\n      <td>2016-05-01</td>\n    </tr>\n    <tr>\n      <th>12</th>\n      <td>2016-02-01</td>\n      <td>2016-05-01</td>\n      <td>2016-11-01</td>\n    </tr>\n    <tr>\n      <th>13</th>\n      <td>2016-08-01</td>\n      <td>2016-11-01</td>\n      <td>2017-05-01</td>\n    </tr>\n    <tr>\n      <th>14</th>\n      <td>2017-02-01</td>\n      <td>2017-05-01</td>\n      <td>2017-11-01</td>\n    </tr>\n    <tr>\n      <th>15</th>\n      <td>2017-08-01</td>\n      <td>2017-11-01</td>\n      <td>2018-05-01</td>\n    </tr>\n    <tr>\n      <th>16</th>\n      <td>2018-02-01</td>\n      <td>2018-05-01</td>\n      <td>2018-11-01</td>\n    </tr>\n    <tr>\n      <th>17</th>\n      <td>2018-08-01</td>\n      <td>2018-11-01</td>\n      <td>2019-05-01</td>\n    </tr>\n    <tr>\n      <th>18</th>\n      <td>2019-02-01</td>\n      <td>2019-05-01</td>\n      <td>2019-11-01</td>\n    </tr>\n    <tr>\n      <th>19</th>\n      <td>2019-08-01</td>\n      <td>2019-11-01</td>\n      <td>2020-05-01</td>\n    </tr>\n    <tr>\n      <th>20</th>\n      <td>2020-02-01</td>\n      <td>2020-05-01</td>\n      <td>2020-11-01</td>\n    </tr>\n    <tr>\n      <th>21</th>\n      <td>2020-08-01</td>\n      <td>2020-11-01</td>\n      <td>2021-05-01</td>\n    </tr>\n  </tbody>\n</table>\n</div>"
     },
     "metadata": {},
     "execution_count": 64
    }
   ],
   "source": [
    "def generate_timetable(j=1, k=2):\n",
    "    '''aims to generate the MONTHLY table of times for each observe/hold period. The midpoint in this context is where we switch from the observation period len=j to the holding period len=k'''\n",
    "    \n",
    "    j_end = pd.date_range(st+pd.DateOffset(months=j*3), et, freq=str(k*3)+\"MS\") # the 'midpoints' for each observe and hold period. \n",
    "    j_start = j_end + pd.DateOffset(months=-j*3) # based on the midpoint, get the start point for each observe and hold period\n",
    "    k_end = j_end + pd.DateOffset(months=k*3) # based on the midpoint, get the end point for each observe and hold period\n",
    "    timetable = pd.DataFrame({'j_start': j_start, 'midpoint': j_end, 'k_end': k_end}).infer_objects()\n",
    "    return timetable, j, k\n",
    "timedf, j, k = generate_timetable()\n",
    "timedf"
   ]
  },
  {
   "cell_type": "code",
   "execution_count": 65,
   "metadata": {},
   "outputs": [
    {
     "output_type": "execute_result",
     "data": {
      "text/plain": [
       "0        2010-02-01\n",
       "2        2010-03-01\n",
       "3        2010-04-01\n",
       "4        2010-05-01\n",
       "6        2010-06-01\n",
       "            ...    \n",
       "90746    2020-11-01\n",
       "90748    2020-12-01\n",
       "90749    2021-01-01\n",
       "90750    2021-02-01\n",
       "90752    2021-02-26\n",
       "Name: Date, Length: 67938, dtype: object"
      ]
     },
     "metadata": {},
     "execution_count": 65
    }
   ],
   "source": [
    "df['Date']"
   ]
  },
  {
   "cell_type": "code",
   "execution_count": 66,
   "metadata": {},
   "outputs": [],
   "source": [
    "midpoint = timedf.iloc[0].midpoint"
   ]
  },
  {
   "cell_type": "code",
   "execution_count": 67,
   "metadata": {
    "tags": []
   },
   "outputs": [
    {
     "output_type": "stream",
     "name": "stdout",
     "text": [
      "given  2010-05-01 , getting range  2010-02-01 2010-05-01\n"
     ]
    },
    {
     "output_type": "execute_result",
     "data": {
      "text/plain": [
       "             Date       Open       High        Low      Close  Adj Close  \\\n",
       "0      2010-02-01  63.259998  64.699997  61.889999  63.000000  45.095860   \n",
       "2      2010-03-01  63.270000  65.489998  63.020000  65.199997  47.027702   \n",
       "3      2010-04-01  65.370003  66.199997  64.209999  64.300003  46.378559   \n",
       "4      2010-05-01  65.160004  65.620003  58.189999  58.299999  42.050858   \n",
       "179    2010-02-01  63.259998  64.699997  61.889999  63.000000  45.095860   \n",
       "...           ...        ...        ...        ...        ...        ...   \n",
       "90399  2010-05-01  65.160004  65.620003  58.189999  58.299999  42.050858   \n",
       "90574  2010-02-01  63.259998  64.699997  61.889999  63.000000  45.095860   \n",
       "90576  2010-03-01  63.270000  65.489998  63.020000  65.199997  47.027702   \n",
       "90577  2010-04-01  65.370003  66.199997  64.209999  64.300003  46.378559   \n",
       "90578  2010-05-01  65.160004  65.620003  58.189999  58.299999  42.050858   \n",
       "\n",
       "            Volume  Name  \n",
       "0      213341500.0  AAPL  \n",
       "2      249947500.0  AAPL  \n",
       "3      235860700.0  AAPL  \n",
       "4      357775800.0  AAPL  \n",
       "179    213341500.0  AAPL  \n",
       "...            ...   ...  \n",
       "90399  357775800.0   NWS  \n",
       "90574  213341500.0   NWS  \n",
       "90576  249947500.0   NWS  \n",
       "90577  235860700.0   NWS  \n",
       "90578  357775800.0   NWS  \n",
       "\n",
       "[2028 rows x 8 columns]"
      ],
      "text/html": "<div>\n<style scoped>\n    .dataframe tbody tr th:only-of-type {\n        vertical-align: middle;\n    }\n\n    .dataframe tbody tr th {\n        vertical-align: top;\n    }\n\n    .dataframe thead th {\n        text-align: right;\n    }\n</style>\n<table border=\"1\" class=\"dataframe\">\n  <thead>\n    <tr style=\"text-align: right;\">\n      <th></th>\n      <th>Date</th>\n      <th>Open</th>\n      <th>High</th>\n      <th>Low</th>\n      <th>Close</th>\n      <th>Adj Close</th>\n      <th>Volume</th>\n      <th>Name</th>\n    </tr>\n  </thead>\n  <tbody>\n    <tr>\n      <th>0</th>\n      <td>2010-02-01</td>\n      <td>63.259998</td>\n      <td>64.699997</td>\n      <td>61.889999</td>\n      <td>63.000000</td>\n      <td>45.095860</td>\n      <td>213341500.0</td>\n      <td>AAPL</td>\n    </tr>\n    <tr>\n      <th>2</th>\n      <td>2010-03-01</td>\n      <td>63.270000</td>\n      <td>65.489998</td>\n      <td>63.020000</td>\n      <td>65.199997</td>\n      <td>47.027702</td>\n      <td>249947500.0</td>\n      <td>AAPL</td>\n    </tr>\n    <tr>\n      <th>3</th>\n      <td>2010-04-01</td>\n      <td>65.370003</td>\n      <td>66.199997</td>\n      <td>64.209999</td>\n      <td>64.300003</td>\n      <td>46.378559</td>\n      <td>235860700.0</td>\n      <td>AAPL</td>\n    </tr>\n    <tr>\n      <th>4</th>\n      <td>2010-05-01</td>\n      <td>65.160004</td>\n      <td>65.620003</td>\n      <td>58.189999</td>\n      <td>58.299999</td>\n      <td>42.050858</td>\n      <td>357775800.0</td>\n      <td>AAPL</td>\n    </tr>\n    <tr>\n      <th>179</th>\n      <td>2010-02-01</td>\n      <td>63.259998</td>\n      <td>64.699997</td>\n      <td>61.889999</td>\n      <td>63.000000</td>\n      <td>45.095860</td>\n      <td>213341500.0</td>\n      <td>AAPL</td>\n    </tr>\n    <tr>\n      <th>...</th>\n      <td>...</td>\n      <td>...</td>\n      <td>...</td>\n      <td>...</td>\n      <td>...</td>\n      <td>...</td>\n      <td>...</td>\n      <td>...</td>\n    </tr>\n    <tr>\n      <th>90399</th>\n      <td>2010-05-01</td>\n      <td>65.160004</td>\n      <td>65.620003</td>\n      <td>58.189999</td>\n      <td>58.299999</td>\n      <td>42.050858</td>\n      <td>357775800.0</td>\n      <td>NWS</td>\n    </tr>\n    <tr>\n      <th>90574</th>\n      <td>2010-02-01</td>\n      <td>63.259998</td>\n      <td>64.699997</td>\n      <td>61.889999</td>\n      <td>63.000000</td>\n      <td>45.095860</td>\n      <td>213341500.0</td>\n      <td>NWS</td>\n    </tr>\n    <tr>\n      <th>90576</th>\n      <td>2010-03-01</td>\n      <td>63.270000</td>\n      <td>65.489998</td>\n      <td>63.020000</td>\n      <td>65.199997</td>\n      <td>47.027702</td>\n      <td>249947500.0</td>\n      <td>NWS</td>\n    </tr>\n    <tr>\n      <th>90577</th>\n      <td>2010-04-01</td>\n      <td>65.370003</td>\n      <td>66.199997</td>\n      <td>64.209999</td>\n      <td>64.300003</td>\n      <td>46.378559</td>\n      <td>235860700.0</td>\n      <td>NWS</td>\n    </tr>\n    <tr>\n      <th>90578</th>\n      <td>2010-05-01</td>\n      <td>65.160004</td>\n      <td>65.620003</td>\n      <td>58.189999</td>\n      <td>58.299999</td>\n      <td>42.050858</td>\n      <td>357775800.0</td>\n      <td>NWS</td>\n    </tr>\n  </tbody>\n</table>\n<p>2028 rows × 8 columns</p>\n</div>"
     },
     "metadata": {},
     "execution_count": 67
    }
   ],
   "source": [
    "def get_j_df(id=None, midpoint=None, j=1):\n",
    "    '''this should spit out a dataframe of data in the observational period j given specific id or midpoint value. \n",
    "    if unspecified it throws all of them at you with an extra identifying column \"periods\"'''\n",
    "    if (id): # not really sure why we need this but ill include it. this adds a sector column to the data for future filtering purposes if needed\n",
    "        df_i = pd.DataFrame(columns=df.columns.to_list()+['period']) #dummy empty df\n",
    "        for i in timedf.index: \n",
    "            # print(timedf.iloc[i].j_start,timedf.iloc[i].midpoint)\n",
    "            df_ = df[(timedf.iloc[i].j_start <= pd.to_datetime(df['Date']))&(pd.to_datetime(df['Date']) <= timedf.iloc[i].midpoint)] # gets dates btw start and midpt\n",
    "            df_['period'] = i\n",
    "            df_i = pd.concat([df_i, df_])\n",
    "\n",
    "        return df_i\n",
    "    if (midpoint):\n",
    "        start_time = midpoint + pd.DateOffset(months=-j*3)\n",
    "        print('given ', midpoint.strftime(\"%Y-%m-%d\"), ', getting range ', start_time.strftime(\"%Y-%m-%d\"),midpoint.strftime(\"%Y-%m-%d\"))\n",
    "\n",
    "        return df[(start_time <= pd.to_datetime(df['Date']))&(pd.to_datetime(df['Date']) <= midpoint)]\n",
    "    return df[(timedf.iloc[id].j_start <= pd.to_datetime(df['Date']))&(pd.to_datetime(df['Date']) <= timedf.iloc[id].midpoint)] # gets dates btw start and midpt from table\n",
    "get_j_df(midpoint=midpoint, j=j)"
   ]
  },
  {
   "cell_type": "code",
   "execution_count": 68,
   "metadata": {},
   "outputs": [
    {
     "output_type": "execute_result",
     "data": {
      "text/plain": [
       "             Date       Open       High        Low      Close  Adj Close  \\\n",
       "0      2010-02-01  63.259998  64.699997  61.889999  63.000000  45.095860   \n",
       "2      2010-03-01  63.270000  65.489998  63.020000  65.199997  47.027702   \n",
       "3      2010-04-01  65.370003  66.199997  64.209999  64.300003  46.378559   \n",
       "4      2010-05-01  65.160004  65.620003  58.189999  58.299999  42.050858   \n",
       "179    2010-02-01  63.259998  64.699997  61.889999  63.000000  45.095860   \n",
       "...           ...        ...        ...        ...        ...        ...   \n",
       "90399  2010-05-01  65.160004  65.620003  58.189999  58.299999  42.050858   \n",
       "90574  2010-02-01  63.259998  64.699997  61.889999  63.000000  45.095860   \n",
       "90576  2010-03-01  63.270000  65.489998  63.020000  65.199997  47.027702   \n",
       "90577  2010-04-01  65.370003  66.199997  64.209999  64.300003  46.378559   \n",
       "90578  2010-05-01  65.160004  65.620003  58.189999  58.299999  42.050858   \n",
       "\n",
       "            Volume  Name  \n",
       "0      213341500.0  AAPL  \n",
       "2      249947500.0  AAPL  \n",
       "3      235860700.0  AAPL  \n",
       "4      357775800.0  AAPL  \n",
       "179    213341500.0  AAPL  \n",
       "...            ...   ...  \n",
       "90399  357775800.0   NWS  \n",
       "90574  213341500.0   NWS  \n",
       "90576  249947500.0   NWS  \n",
       "90577  235860700.0   NWS  \n",
       "90578  357775800.0   NWS  \n",
       "\n",
       "[2028 rows x 8 columns]"
      ],
      "text/html": "<div>\n<style scoped>\n    .dataframe tbody tr th:only-of-type {\n        vertical-align: middle;\n    }\n\n    .dataframe tbody tr th {\n        vertical-align: top;\n    }\n\n    .dataframe thead th {\n        text-align: right;\n    }\n</style>\n<table border=\"1\" class=\"dataframe\">\n  <thead>\n    <tr style=\"text-align: right;\">\n      <th></th>\n      <th>Date</th>\n      <th>Open</th>\n      <th>High</th>\n      <th>Low</th>\n      <th>Close</th>\n      <th>Adj Close</th>\n      <th>Volume</th>\n      <th>Name</th>\n    </tr>\n  </thead>\n  <tbody>\n    <tr>\n      <th>0</th>\n      <td>2010-02-01</td>\n      <td>63.259998</td>\n      <td>64.699997</td>\n      <td>61.889999</td>\n      <td>63.000000</td>\n      <td>45.095860</td>\n      <td>213341500.0</td>\n      <td>AAPL</td>\n    </tr>\n    <tr>\n      <th>2</th>\n      <td>2010-03-01</td>\n      <td>63.270000</td>\n      <td>65.489998</td>\n      <td>63.020000</td>\n      <td>65.199997</td>\n      <td>47.027702</td>\n      <td>249947500.0</td>\n      <td>AAPL</td>\n    </tr>\n    <tr>\n      <th>3</th>\n      <td>2010-04-01</td>\n      <td>65.370003</td>\n      <td>66.199997</td>\n      <td>64.209999</td>\n      <td>64.300003</td>\n      <td>46.378559</td>\n      <td>235860700.0</td>\n      <td>AAPL</td>\n    </tr>\n    <tr>\n      <th>4</th>\n      <td>2010-05-01</td>\n      <td>65.160004</td>\n      <td>65.620003</td>\n      <td>58.189999</td>\n      <td>58.299999</td>\n      <td>42.050858</td>\n      <td>357775800.0</td>\n      <td>AAPL</td>\n    </tr>\n    <tr>\n      <th>179</th>\n      <td>2010-02-01</td>\n      <td>63.259998</td>\n      <td>64.699997</td>\n      <td>61.889999</td>\n      <td>63.000000</td>\n      <td>45.095860</td>\n      <td>213341500.0</td>\n      <td>AAPL</td>\n    </tr>\n    <tr>\n      <th>...</th>\n      <td>...</td>\n      <td>...</td>\n      <td>...</td>\n      <td>...</td>\n      <td>...</td>\n      <td>...</td>\n      <td>...</td>\n      <td>...</td>\n    </tr>\n    <tr>\n      <th>90399</th>\n      <td>2010-05-01</td>\n      <td>65.160004</td>\n      <td>65.620003</td>\n      <td>58.189999</td>\n      <td>58.299999</td>\n      <td>42.050858</td>\n      <td>357775800.0</td>\n      <td>NWS</td>\n    </tr>\n    <tr>\n      <th>90574</th>\n      <td>2010-02-01</td>\n      <td>63.259998</td>\n      <td>64.699997</td>\n      <td>61.889999</td>\n      <td>63.000000</td>\n      <td>45.095860</td>\n      <td>213341500.0</td>\n      <td>NWS</td>\n    </tr>\n    <tr>\n      <th>90576</th>\n      <td>2010-03-01</td>\n      <td>63.270000</td>\n      <td>65.489998</td>\n      <td>63.020000</td>\n      <td>65.199997</td>\n      <td>47.027702</td>\n      <td>249947500.0</td>\n      <td>NWS</td>\n    </tr>\n    <tr>\n      <th>90577</th>\n      <td>2010-04-01</td>\n      <td>65.370003</td>\n      <td>66.199997</td>\n      <td>64.209999</td>\n      <td>64.300003</td>\n      <td>46.378559</td>\n      <td>235860700.0</td>\n      <td>NWS</td>\n    </tr>\n    <tr>\n      <th>90578</th>\n      <td>2010-05-01</td>\n      <td>65.160004</td>\n      <td>65.620003</td>\n      <td>58.189999</td>\n      <td>58.299999</td>\n      <td>42.050858</td>\n      <td>357775800.0</td>\n      <td>NWS</td>\n    </tr>\n  </tbody>\n</table>\n<p>2028 rows × 8 columns</p>\n</div>"
     },
     "metadata": {},
     "execution_count": 68
    }
   ],
   "source": [
    "# we can get these ordered based on the timedf table index as well\n",
    "get_j_df(0)"
   ]
  },
  {
   "cell_type": "code",
   "execution_count": 69,
   "metadata": {},
   "outputs": [
    {
     "output_type": "stream",
     "name": "stdout",
     "text": [
      "['2010-05-01' '2010-06-01' '2010-07-01' '2010-08-01' '2010-09-01'\n '2010-10-01' '2010-11-01']\n505\n"
     ]
    }
   ],
   "source": [
    "print(get_k_df(0).Date.unique()) #sanity checking, hey it works\n",
    "print(len(get_k_df(0).Name.unique())) #sanity checking, here i learned that we have 505 tickers"
   ]
  },
  {
   "cell_type": "code",
   "execution_count": 70,
   "metadata": {},
   "outputs": [
    {
     "output_type": "execute_result",
     "data": {
      "text/plain": [
       "505"
      ]
     },
     "metadata": {},
     "execution_count": 70
    }
   ],
   "source": [
    "len(tickers) # read above"
   ]
  },
  {
   "cell_type": "code",
   "execution_count": 71,
   "metadata": {},
   "outputs": [
    {
     "output_type": "stream",
     "name": "stdout",
     "text": [
      "given  2010-05-01 , getting range  2010-05-01 2010-11-01\n"
     ]
    },
    {
     "output_type": "execute_result",
     "data": {
      "text/plain": [
       "             Date       Open       High        Low      Close  Adj Close  \\\n",
       "4      2010-05-01  65.160004  65.620003  58.189999  58.299999  42.050858   \n",
       "6      2010-06-01  58.209999  60.150002  57.549999  59.060001  42.988129   \n",
       "7      2010-07-01  59.070000  61.730000  56.860001  58.090000  42.282089   \n",
       "8      2010-08-01  58.500000  60.250000  56.990002  57.020000  41.503262   \n",
       "10     2010-09-01  57.669998  62.700001  57.439999  61.959999  45.524258   \n",
       "...           ...        ...        ...        ...        ...        ...   \n",
       "90581  2010-07-01  59.070000  61.730000  56.860001  58.090000  42.282089   \n",
       "90582  2010-08-01  58.500000  60.250000  56.990002  57.020000  41.503262   \n",
       "90584  2010-09-01  57.669998  62.700001  57.439999  61.959999  45.524258   \n",
       "90585  2010-10-01  62.090000  64.230003  61.299999  63.740002  46.832088   \n",
       "90586  2010-11-01  63.880001  64.919998  61.250000  61.549999  45.223030   \n",
       "\n",
       "            Volume  Name  \n",
       "4      357775800.0  AAPL  \n",
       "6      357343400.0  AAPL  \n",
       "7      310708000.0  AAPL  \n",
       "8      239384600.0  AAPL  \n",
       "10     209239500.0  AAPL  \n",
       "...            ...   ...  \n",
       "90581  310708000.0   NWS  \n",
       "90582  239384600.0   NWS  \n",
       "90584  209239500.0   NWS  \n",
       "90585  208721800.0   NWS  \n",
       "90586  221392600.0   NWS  \n",
       "\n",
       "[3549 rows x 8 columns]"
      ],
      "text/html": "<div>\n<style scoped>\n    .dataframe tbody tr th:only-of-type {\n        vertical-align: middle;\n    }\n\n    .dataframe tbody tr th {\n        vertical-align: top;\n    }\n\n    .dataframe thead th {\n        text-align: right;\n    }\n</style>\n<table border=\"1\" class=\"dataframe\">\n  <thead>\n    <tr style=\"text-align: right;\">\n      <th></th>\n      <th>Date</th>\n      <th>Open</th>\n      <th>High</th>\n      <th>Low</th>\n      <th>Close</th>\n      <th>Adj Close</th>\n      <th>Volume</th>\n      <th>Name</th>\n    </tr>\n  </thead>\n  <tbody>\n    <tr>\n      <th>4</th>\n      <td>2010-05-01</td>\n      <td>65.160004</td>\n      <td>65.620003</td>\n      <td>58.189999</td>\n      <td>58.299999</td>\n      <td>42.050858</td>\n      <td>357775800.0</td>\n      <td>AAPL</td>\n    </tr>\n    <tr>\n      <th>6</th>\n      <td>2010-06-01</td>\n      <td>58.209999</td>\n      <td>60.150002</td>\n      <td>57.549999</td>\n      <td>59.060001</td>\n      <td>42.988129</td>\n      <td>357343400.0</td>\n      <td>AAPL</td>\n    </tr>\n    <tr>\n      <th>7</th>\n      <td>2010-07-01</td>\n      <td>59.070000</td>\n      <td>61.730000</td>\n      <td>56.860001</td>\n      <td>58.090000</td>\n      <td>42.282089</td>\n      <td>310708000.0</td>\n      <td>AAPL</td>\n    </tr>\n    <tr>\n      <th>8</th>\n      <td>2010-08-01</td>\n      <td>58.500000</td>\n      <td>60.250000</td>\n      <td>56.990002</td>\n      <td>57.020000</td>\n      <td>41.503262</td>\n      <td>239384600.0</td>\n      <td>AAPL</td>\n    </tr>\n    <tr>\n      <th>10</th>\n      <td>2010-09-01</td>\n      <td>57.669998</td>\n      <td>62.700001</td>\n      <td>57.439999</td>\n      <td>61.959999</td>\n      <td>45.524258</td>\n      <td>209239500.0</td>\n      <td>AAPL</td>\n    </tr>\n    <tr>\n      <th>...</th>\n      <td>...</td>\n      <td>...</td>\n      <td>...</td>\n      <td>...</td>\n      <td>...</td>\n      <td>...</td>\n      <td>...</td>\n      <td>...</td>\n    </tr>\n    <tr>\n      <th>90581</th>\n      <td>2010-07-01</td>\n      <td>59.070000</td>\n      <td>61.730000</td>\n      <td>56.860001</td>\n      <td>58.090000</td>\n      <td>42.282089</td>\n      <td>310708000.0</td>\n      <td>NWS</td>\n    </tr>\n    <tr>\n      <th>90582</th>\n      <td>2010-08-01</td>\n      <td>58.500000</td>\n      <td>60.250000</td>\n      <td>56.990002</td>\n      <td>57.020000</td>\n      <td>41.503262</td>\n      <td>239384600.0</td>\n      <td>NWS</td>\n    </tr>\n    <tr>\n      <th>90584</th>\n      <td>2010-09-01</td>\n      <td>57.669998</td>\n      <td>62.700001</td>\n      <td>57.439999</td>\n      <td>61.959999</td>\n      <td>45.524258</td>\n      <td>209239500.0</td>\n      <td>NWS</td>\n    </tr>\n    <tr>\n      <th>90585</th>\n      <td>2010-10-01</td>\n      <td>62.090000</td>\n      <td>64.230003</td>\n      <td>61.299999</td>\n      <td>63.740002</td>\n      <td>46.832088</td>\n      <td>208721800.0</td>\n      <td>NWS</td>\n    </tr>\n    <tr>\n      <th>90586</th>\n      <td>2010-11-01</td>\n      <td>63.880001</td>\n      <td>64.919998</td>\n      <td>61.250000</td>\n      <td>61.549999</td>\n      <td>45.223030</td>\n      <td>221392600.0</td>\n      <td>NWS</td>\n    </tr>\n  </tbody>\n</table>\n<p>3549 rows × 8 columns</p>\n</div>"
     },
     "metadata": {},
     "execution_count": 71
    }
   ],
   "source": [
    "def get_k_df(id=None, midpoint=None, k=k):\n",
    "    '''this should spit out a dataframe of data in the holding period k given specific id or midpoint value. \n",
    "    if unspecified it throws all of them at you with an extra identifying column \"periods\"'''\n",
    "    if (id): # we can decide if this is useful later this adds a sector column to the data for future filtering purposes if needed\n",
    "        df_i = pd.DataFrame(columns=df.columns.to_list()+['period']) #dummy empty df\n",
    "        for i in timedf.index: \n",
    "            # print(timedf.iloc[i].j_start,timedf.iloc[i].midpoint)\n",
    "            df_ = df[(timedf.iloc[i].midpoint <= pd.to_datetime(df['Date']))&(pd.to_datetime(df['Date']) <= timedf.iloc[i].k_end)] # gets dates btw midpt and end\n",
    "            df_['period'] = i\n",
    "            df_i = pd.concat([df_i, df_])\n",
    "\n",
    "        return df_i\n",
    "    if (midpoint):\n",
    "        end_time = midpoint + pd.DateOffset(months=k*3)\n",
    "        print('given ', midpoint.strftime(\"%Y-%m-%d\"), ', getting range ', midpoint.strftime(\"%Y-%m-%d\"), end_time.strftime(\"%Y-%m-%d\"))\n",
    "\n",
    "        return df[(midpoint <= pd.to_datetime(df['Date']))&(pd.to_datetime(df['Date']) <= end_time)]\n",
    "    return df[(timedf.iloc[id].midpoint <= pd.to_datetime(df['Date']))&(pd.to_datetime(df['Date']) <= timedf.iloc[id].k_end)] # gets dates btw midpt and end\n",
    "get_k_df(midpoint=midpoint)"
   ]
  },
  {
   "cell_type": "code",
   "execution_count": 72,
   "metadata": {},
   "outputs": [
    {
     "output_type": "execute_result",
     "data": {
      "text/plain": [
       "             Date       Open       High        Low      Close  Adj Close  \\\n",
       "4      2010-05-01  65.160004  65.620003  58.189999  58.299999  42.050858   \n",
       "6      2010-06-01  58.209999  60.150002  57.549999  59.060001  42.988129   \n",
       "7      2010-07-01  59.070000  61.730000  56.860001  58.090000  42.282089   \n",
       "8      2010-08-01  58.500000  60.250000  56.990002  57.020000  41.503262   \n",
       "10     2010-09-01  57.669998  62.700001  57.439999  61.959999  45.524258   \n",
       "...           ...        ...        ...        ...        ...        ...   \n",
       "90581  2010-07-01  59.070000  61.730000  56.860001  58.090000  42.282089   \n",
       "90582  2010-08-01  58.500000  60.250000  56.990002  57.020000  41.503262   \n",
       "90584  2010-09-01  57.669998  62.700001  57.439999  61.959999  45.524258   \n",
       "90585  2010-10-01  62.090000  64.230003  61.299999  63.740002  46.832088   \n",
       "90586  2010-11-01  63.880001  64.919998  61.250000  61.549999  45.223030   \n",
       "\n",
       "            Volume  Name  \n",
       "4      357775800.0  AAPL  \n",
       "6      357343400.0  AAPL  \n",
       "7      310708000.0  AAPL  \n",
       "8      239384600.0  AAPL  \n",
       "10     209239500.0  AAPL  \n",
       "...            ...   ...  \n",
       "90581  310708000.0   NWS  \n",
       "90582  239384600.0   NWS  \n",
       "90584  209239500.0   NWS  \n",
       "90585  208721800.0   NWS  \n",
       "90586  221392600.0   NWS  \n",
       "\n",
       "[3549 rows x 8 columns]"
      ],
      "text/html": "<div>\n<style scoped>\n    .dataframe tbody tr th:only-of-type {\n        vertical-align: middle;\n    }\n\n    .dataframe tbody tr th {\n        vertical-align: top;\n    }\n\n    .dataframe thead th {\n        text-align: right;\n    }\n</style>\n<table border=\"1\" class=\"dataframe\">\n  <thead>\n    <tr style=\"text-align: right;\">\n      <th></th>\n      <th>Date</th>\n      <th>Open</th>\n      <th>High</th>\n      <th>Low</th>\n      <th>Close</th>\n      <th>Adj Close</th>\n      <th>Volume</th>\n      <th>Name</th>\n    </tr>\n  </thead>\n  <tbody>\n    <tr>\n      <th>4</th>\n      <td>2010-05-01</td>\n      <td>65.160004</td>\n      <td>65.620003</td>\n      <td>58.189999</td>\n      <td>58.299999</td>\n      <td>42.050858</td>\n      <td>357775800.0</td>\n      <td>AAPL</td>\n    </tr>\n    <tr>\n      <th>6</th>\n      <td>2010-06-01</td>\n      <td>58.209999</td>\n      <td>60.150002</td>\n      <td>57.549999</td>\n      <td>59.060001</td>\n      <td>42.988129</td>\n      <td>357343400.0</td>\n      <td>AAPL</td>\n    </tr>\n    <tr>\n      <th>7</th>\n      <td>2010-07-01</td>\n      <td>59.070000</td>\n      <td>61.730000</td>\n      <td>56.860001</td>\n      <td>58.090000</td>\n      <td>42.282089</td>\n      <td>310708000.0</td>\n      <td>AAPL</td>\n    </tr>\n    <tr>\n      <th>8</th>\n      <td>2010-08-01</td>\n      <td>58.500000</td>\n      <td>60.250000</td>\n      <td>56.990002</td>\n      <td>57.020000</td>\n      <td>41.503262</td>\n      <td>239384600.0</td>\n      <td>AAPL</td>\n    </tr>\n    <tr>\n      <th>10</th>\n      <td>2010-09-01</td>\n      <td>57.669998</td>\n      <td>62.700001</td>\n      <td>57.439999</td>\n      <td>61.959999</td>\n      <td>45.524258</td>\n      <td>209239500.0</td>\n      <td>AAPL</td>\n    </tr>\n    <tr>\n      <th>...</th>\n      <td>...</td>\n      <td>...</td>\n      <td>...</td>\n      <td>...</td>\n      <td>...</td>\n      <td>...</td>\n      <td>...</td>\n      <td>...</td>\n    </tr>\n    <tr>\n      <th>90581</th>\n      <td>2010-07-01</td>\n      <td>59.070000</td>\n      <td>61.730000</td>\n      <td>56.860001</td>\n      <td>58.090000</td>\n      <td>42.282089</td>\n      <td>310708000.0</td>\n      <td>NWS</td>\n    </tr>\n    <tr>\n      <th>90582</th>\n      <td>2010-08-01</td>\n      <td>58.500000</td>\n      <td>60.250000</td>\n      <td>56.990002</td>\n      <td>57.020000</td>\n      <td>41.503262</td>\n      <td>239384600.0</td>\n      <td>NWS</td>\n    </tr>\n    <tr>\n      <th>90584</th>\n      <td>2010-09-01</td>\n      <td>57.669998</td>\n      <td>62.700001</td>\n      <td>57.439999</td>\n      <td>61.959999</td>\n      <td>45.524258</td>\n      <td>209239500.0</td>\n      <td>NWS</td>\n    </tr>\n    <tr>\n      <th>90585</th>\n      <td>2010-10-01</td>\n      <td>62.090000</td>\n      <td>64.230003</td>\n      <td>61.299999</td>\n      <td>63.740002</td>\n      <td>46.832088</td>\n      <td>208721800.0</td>\n      <td>NWS</td>\n    </tr>\n    <tr>\n      <th>90586</th>\n      <td>2010-11-01</td>\n      <td>63.880001</td>\n      <td>64.919998</td>\n      <td>61.250000</td>\n      <td>61.549999</td>\n      <td>45.223030</td>\n      <td>221392600.0</td>\n      <td>NWS</td>\n    </tr>\n  </tbody>\n</table>\n<p>3549 rows × 8 columns</p>\n</div>"
     },
     "metadata": {},
     "execution_count": 72
    }
   ],
   "source": [
    "get_k_df(0)"
   ]
  },
  {
   "cell_type": "code",
   "execution_count": null,
   "metadata": {},
   "outputs": [],
   "source": [
    "def create_portfolio(tickerlist):\n",
    "    '''used to group tickers into respective momentum, reversal, etc groups'''\n",
    "    return tickerlist # dummy"
   ]
  },
  {
   "cell_type": "code",
   "execution_count": null,
   "metadata": {},
   "outputs": [],
   "source": []
  },
  {
   "cell_type": "code",
   "execution_count": null,
   "metadata": {},
   "outputs": [],
   "source": [
    "# mapping j period, looking at the data at a certain j, cumulative product. worrying about positions since we have the times,\n",
    "# we would have needed percentage of change and calculate cumulative product and have that lagged return, that lagged return, we had lagged return from j so what is a loser exactly.\n",
    "# amir asks if the paper calcualtes the j lag return and then j = lag and then for that j, between the 500 we fidn the top n winners and n losers and then put them into respective groups\n",
    "# check out link amir sent\n",
    "# getting lagged values iteratively \n",
    "# we would just need to get j in this case so it would be over the period the trailing window size. we would have to worry about defining  what one step is.\n",
    "\n",
    "\n",
    "# TODO questions I would like to ask: for k holding period, do we just want to get the last value as a label, or pull all the data ahead?\n",
    "# how are we training, exactly? our current abstraction is kind of getting k and calculating their features at once... are we looking at patterns in the different groups?\n",
    "\n"
   ]
  },
  {
   "cell_type": "code",
   "execution_count": null,
   "metadata": {},
   "outputs": [],
   "source": []
  },
  {
   "cell_type": "markdown",
   "metadata": {},
   "source": [
    "## ----prototyping below----"
   ]
  },
  {
   "cell_type": "code",
   "execution_count": 79,
   "metadata": {},
   "outputs": [
    {
     "output_type": "error",
     "ename": "NameError",
     "evalue": "name 'imputed_aapl' is not defined",
     "traceback": [
      "\u001b[1;31m---------------------------------------------------------------------------\u001b[0m",
      "\u001b[1;31mNameError\u001b[0m                                 Traceback (most recent call last)",
      "\u001b[1;32m<ipython-input-79-80e26d77a289>\u001b[0m in \u001b[0;36m<module>\u001b[1;34m\u001b[0m\n\u001b[1;32m----> 1\u001b[1;33m \u001b[0maapl\u001b[0m \u001b[1;33m=\u001b[0m \u001b[0mimputed_aapl\u001b[0m \u001b[1;31m# take a look at apple again, this time with no nulls (dont know how to deal with them help)\u001b[0m\u001b[1;33m\u001b[0m\u001b[1;33m\u001b[0m\u001b[0m\n\u001b[0m\u001b[0;32m      2\u001b[0m \u001b[0maapl\u001b[0m\u001b[1;33m.\u001b[0m\u001b[0mdropna\u001b[0m\u001b[1;33m(\u001b[0m\u001b[1;33m)\u001b[0m\u001b[1;33m.\u001b[0m\u001b[0mhead\u001b[0m\u001b[1;33m(\u001b[0m\u001b[1;33m)\u001b[0m\u001b[1;33m\u001b[0m\u001b[1;33m\u001b[0m\u001b[0m\n",
      "\u001b[1;31mNameError\u001b[0m: name 'imputed_aapl' is not defined"
     ]
    }
   ],
   "source": [
    "aapl = imputed_aapl # take a look at apple again, this time with no nulls (dont know how to deal with them help)\n",
    "aapl.dropna().head()"
   ]
  },
  {
   "cell_type": "code",
   "execution_count": 76,
   "metadata": {},
   "outputs": [
    {
     "output_type": "stream",
     "name": "stdout",
     "text": [
      "Grabbing AAPL data!\n",
      "[*********************100%***********************]  1 of 1 completed\n",
      "Open         0\n",
      "High         0\n",
      "Low          0\n",
      "Close        0\n",
      "Adj Close    0\n",
      "Volume       0\n",
      "Name         0\n",
      "dtype: int64\n",
      "Grabbing MSFT data!\n",
      "[*********************100%***********************]  1 of 1 completed\n",
      "Open         0\n",
      "High         0\n",
      "Low          0\n",
      "Close        0\n",
      "Adj Close    0\n",
      "Volume       0\n",
      "Name         0\n",
      "dtype: int64\n",
      "Grabbing AMZN data!\n",
      "[*********************100%***********************]  1 of 1 completed\n",
      "Open         0\n",
      "High         0\n",
      "Low          0\n",
      "Close        0\n",
      "Adj Close    0\n",
      "Volume       0\n",
      "Name         0\n",
      "dtype: int64\n",
      "Grabbing FB data!\n",
      "[*********************100%***********************]  1 of 1 completed\n",
      "Open         0\n",
      "High         0\n",
      "Low          0\n",
      "Close        0\n",
      "Adj Close    0\n",
      "Volume       0\n",
      "Name         0\n",
      "dtype: int64\n",
      "Grabbing GOOGL data!\n",
      "[*********************100%***********************]  1 of 1 completed\n",
      "Open         0\n",
      "High         0\n",
      "Low          0\n",
      "Close        0\n",
      "Adj Close    0\n",
      "Volume       0\n",
      "Name         0\n",
      "dtype: int64\n",
      "Grabbing GOOG data!\n",
      "[*********************100%***********************]  1 of 1 completed\n",
      "Open         0\n",
      "High         0\n",
      "Low          0\n",
      "Close        0\n",
      "Adj Close    0\n",
      "Volume       0\n",
      "Name         0\n",
      "dtype: int64\n",
      "Grabbing TSLA data!\n",
      "[*********************100%***********************]  1 of 1 completed\n",
      "Open         0\n",
      "High         0\n",
      "Low          0\n",
      "Close        0\n",
      "Adj Close    0\n",
      "Volume       0\n",
      "Name         0\n",
      "dtype: int64\n",
      "Grabbing BRK-B data!\n",
      "[*********************100%***********************]  1 of 1 completed\n",
      "Open         0\n",
      "High         0\n",
      "Low          0\n",
      "Close        0\n",
      "Adj Close    0\n",
      "Volume       0\n",
      "Name         0\n",
      "dtype: int64\n",
      "Grabbing JPM data!\n",
      "[*********************100%***********************]  1 of 1 completed\n",
      "Open         0\n",
      "High         0\n",
      "Low          0\n",
      "Close        0\n",
      "Adj Close    0\n",
      "Volume       0\n",
      "Name         0\n",
      "dtype: int64\n",
      "Grabbing JNJ data!\n",
      "[*********************100%***********************]  1 of 1 completed\n",
      "Open         0\n",
      "High         0\n",
      "Low          0\n",
      "Close        0\n",
      "Adj Close    0\n",
      "Volume       0\n",
      "Name         0\n",
      "dtype: int64\n"
     ]
    }
   ],
   "source": [
    "from sklearn.impute import KNNImputer\n",
    "\n",
    "def effect(x):\n",
    "    if( x < 0.0 ):\n",
    "        return \"Reversal\"\n",
    "    elif(x > 0.0):\n",
    "        return \"Momentum\"\n",
    "    else:\n",
    "        return \"None\"\n",
    "    \n",
    "\n",
    "\n",
    "## shamelessly stolen code, still trying to comprehend what wizardry is going on in here\n",
    "dfs = []\n",
    "k = 4\n",
    "# imputer = KNNImputer(n_neighbors = 2)\n",
    "for ticker in tickers[:10]:\n",
    "    print('Grabbing ' + ticker + \" data!\")\n",
    "    curr_df = pdr.get_data_yahoo(ticker, start=\"2009-12-01\", interval = \"1mo\")\n",
    "    if(curr_df.empty):\n",
    "        print('Failed to get ' + ticker + ' stock data!')\n",
    "        continue\n",
    "    \n",
    "    #imputed_df = imputer.fit_transform(curr_df)\n",
    "    #imputed_df = pd.DataFrame(imputed_df,columns=['Open','High','Low','Close','Adj Close','Volume'])\n",
    "    #imputed_df = imputed_df.set_index(curr_df.index)\n",
    "    \n",
    "    \n",
    "    curr_df = curr_df.dropna()\n",
    "    #imputed_df['Name'] = ticker\n",
    "    curr_df['Name'] = ticker\n",
    "    # curr_df = imputed_df\n",
    "    print(curr_df.isna().sum())\n",
    "    curr_df = curr_df.reset_index()\n",
    "    curr_df.set_index(['Name','Date'],inplace=True)\n",
    "    curr_df = curr_df[~curr_df.index.duplicated(keep='first')]\n",
    "    obs_df = (curr_df.reset_index(level=[0])\n",
    "              ['Adj Close'].resample(str(k) + 'M').first().ffill().pct_change()[1:]).to_frame()\n",
    "    obs_df.rename(columns={'Adj Close':'Adj Close %Change'},inplace=True)\n",
    "    obs_df['Name'] = ticker\n",
    "    obs_df = obs_df.reset_index()\n",
    "    obs_df.set_index(['Name','Date'],inplace=True)\n",
    "    obs_df['Cum Returns'] = (obs_df['Adj Close %Change'] + 1).groupby('Name').cumprod()\n",
    "    obs_df['Effect'] = obs_df['Adj Close %Change'].apply(effect)\n",
    "    dfs.append(obs_df)\n",
    "    curr_df = None\n",
    "    obs_df = None"
   ]
  },
  {
   "cell_type": "code",
   "execution_count": 77,
   "metadata": {},
   "outputs": [
    {
     "output_type": "execute_result",
     "data": {
      "text/plain": [
       "<AxesSubplot:>"
      ]
     },
     "metadata": {},
     "execution_count": 77
    },
    {
     "output_type": "display_data",
     "data": {
      "text/plain": "<Figure size 432x288 with 1 Axes>",
      "image/svg+xml": "<?xml version=\"1.0\" encoding=\"utf-8\" standalone=\"no\"?>\r\n<!DOCTYPE svg PUBLIC \"-//W3C//DTD SVG 1.1//EN\"\r\n  \"http://www.w3.org/Graphics/SVG/1.1/DTD/svg11.dtd\">\r\n<!-- Created with matplotlib (https://matplotlib.org/) -->\r\n<svg height=\"299.615781pt\" version=\"1.1\" viewBox=\"0 0 368.925 299.615781\" width=\"368.925pt\" xmlns=\"http://www.w3.org/2000/svg\" xmlns:xlink=\"http://www.w3.org/1999/xlink\">\r\n <metadata>\r\n  <rdf:RDF xmlns:cc=\"http://creativecommons.org/ns#\" xmlns:dc=\"http://purl.org/dc/elements/1.1/\" xmlns:rdf=\"http://www.w3.org/1999/02/22-rdf-syntax-ns#\">\r\n   <cc:Work>\r\n    <dc:type rdf:resource=\"http://purl.org/dc/dcmitype/StillImage\"/>\r\n    <dc:date>2021-03-05T12:17:14.371693</dc:date>\r\n    <dc:format>image/svg+xml</dc:format>\r\n    <dc:creator>\r\n     <cc:Agent>\r\n      <dc:title>Matplotlib v3.3.3, https://matplotlib.org/</dc:title>\r\n     </cc:Agent>\r\n    </dc:creator>\r\n   </cc:Work>\r\n  </rdf:RDF>\r\n </metadata>\r\n <defs>\r\n  <style type=\"text/css\">*{stroke-linecap:butt;stroke-linejoin:round;}</style>\r\n </defs>\r\n <g id=\"figure_1\">\r\n  <g id=\"patch_1\">\r\n   <path d=\"M -0 299.615781 \r\nL 368.925 299.615781 \r\nL 368.925 0 \r\nL -0 0 \r\nz\r\n\" style=\"fill:none;\"/>\r\n  </g>\r\n  <g id=\"axes_1\">\r\n   <g id=\"patch_2\">\r\n    <path d=\"M 26.925 228.439219 \r\nL 361.725 228.439219 \r\nL 361.725 10.999219 \r\nL 26.925 10.999219 \r\nz\r\n\" style=\"fill:#ffffff;\"/>\r\n   </g>\r\n   <g id=\"patch_3\">\r\n    <path clip-path=\"url(#p8ceb0d15ab)\" d=\"M 68.775 228.439219 \r\nL 152.475 228.439219 \r\nL 152.475 47.239219 \r\nL 68.775 47.239219 \r\nz\r\n\" style=\"fill:#1f77b4;\"/>\r\n   </g>\r\n   <g id=\"patch_4\">\r\n    <path clip-path=\"url(#p8ceb0d15ab)\" d=\"M 236.175 228.439219 \r\nL 319.875 228.439219 \r\nL 319.875 101.599219 \r\nL 236.175 101.599219 \r\nz\r\n\" style=\"fill:#1f77b4;\"/>\r\n   </g>\r\n   <g id=\"matplotlib.axis_1\">\r\n    <g id=\"xtick_1\">\r\n     <g id=\"line2d_1\">\r\n      <defs>\r\n       <path d=\"M 0 0 \r\nL 0 3.5 \r\n\" id=\"mf1de517b4a\" style=\"stroke:#000000;stroke-width:0.8;\"/>\r\n      </defs>\r\n      <g>\r\n       <use style=\"stroke:#000000;stroke-width:0.8;\" x=\"110.625\" xlink:href=\"#mf1de517b4a\" y=\"228.439219\"/>\r\n      </g>\r\n     </g>\r\n     <g id=\"text_1\">\r\n      <!-- Momentum -->\r\n      <g transform=\"translate(113.384375 292.415781)rotate(-90)scale(0.1 -0.1)\">\r\n       <defs>\r\n        <path d=\"M 9.8125 72.90625 \r\nL 24.515625 72.90625 \r\nL 43.109375 23.296875 \r\nL 61.8125 72.90625 \r\nL 76.515625 72.90625 \r\nL 76.515625 0 \r\nL 66.890625 0 \r\nL 66.890625 64.015625 \r\nL 48.09375 14.015625 \r\nL 38.1875 14.015625 \r\nL 19.390625 64.015625 \r\nL 19.390625 0 \r\nL 9.8125 0 \r\nz\r\n\" id=\"DejaVuSans-77\"/>\r\n        <path d=\"M 30.609375 48.390625 \r\nQ 23.390625 48.390625 19.1875 42.75 \r\nQ 14.984375 37.109375 14.984375 27.296875 \r\nQ 14.984375 17.484375 19.15625 11.84375 \r\nQ 23.34375 6.203125 30.609375 6.203125 \r\nQ 37.796875 6.203125 41.984375 11.859375 \r\nQ 46.1875 17.53125 46.1875 27.296875 \r\nQ 46.1875 37.015625 41.984375 42.703125 \r\nQ 37.796875 48.390625 30.609375 48.390625 \r\nz\r\nM 30.609375 56 \r\nQ 42.328125 56 49.015625 48.375 \r\nQ 55.71875 40.765625 55.71875 27.296875 \r\nQ 55.71875 13.875 49.015625 6.21875 \r\nQ 42.328125 -1.421875 30.609375 -1.421875 \r\nQ 18.84375 -1.421875 12.171875 6.21875 \r\nQ 5.515625 13.875 5.515625 27.296875 \r\nQ 5.515625 40.765625 12.171875 48.375 \r\nQ 18.84375 56 30.609375 56 \r\nz\r\n\" id=\"DejaVuSans-111\"/>\r\n        <path d=\"M 52 44.1875 \r\nQ 55.375 50.25 60.0625 53.125 \r\nQ 64.75 56 71.09375 56 \r\nQ 79.640625 56 84.28125 50.015625 \r\nQ 88.921875 44.046875 88.921875 33.015625 \r\nL 88.921875 0 \r\nL 79.890625 0 \r\nL 79.890625 32.71875 \r\nQ 79.890625 40.578125 77.09375 44.375 \r\nQ 74.3125 48.1875 68.609375 48.1875 \r\nQ 61.625 48.1875 57.5625 43.546875 \r\nQ 53.515625 38.921875 53.515625 30.90625 \r\nL 53.515625 0 \r\nL 44.484375 0 \r\nL 44.484375 32.71875 \r\nQ 44.484375 40.625 41.703125 44.40625 \r\nQ 38.921875 48.1875 33.109375 48.1875 \r\nQ 26.21875 48.1875 22.15625 43.53125 \r\nQ 18.109375 38.875 18.109375 30.90625 \r\nL 18.109375 0 \r\nL 9.078125 0 \r\nL 9.078125 54.6875 \r\nL 18.109375 54.6875 \r\nL 18.109375 46.1875 \r\nQ 21.1875 51.21875 25.484375 53.609375 \r\nQ 29.78125 56 35.6875 56 \r\nQ 41.65625 56 45.828125 52.96875 \r\nQ 50 49.953125 52 44.1875 \r\nz\r\n\" id=\"DejaVuSans-109\"/>\r\n        <path d=\"M 56.203125 29.59375 \r\nL 56.203125 25.203125 \r\nL 14.890625 25.203125 \r\nQ 15.484375 15.921875 20.484375 11.0625 \r\nQ 25.484375 6.203125 34.421875 6.203125 \r\nQ 39.59375 6.203125 44.453125 7.46875 \r\nQ 49.3125 8.734375 54.109375 11.28125 \r\nL 54.109375 2.78125 \r\nQ 49.265625 0.734375 44.1875 -0.34375 \r\nQ 39.109375 -1.421875 33.890625 -1.421875 \r\nQ 20.796875 -1.421875 13.15625 6.1875 \r\nQ 5.515625 13.8125 5.515625 26.8125 \r\nQ 5.515625 40.234375 12.765625 48.109375 \r\nQ 20.015625 56 32.328125 56 \r\nQ 43.359375 56 49.78125 48.890625 \r\nQ 56.203125 41.796875 56.203125 29.59375 \r\nz\r\nM 47.21875 32.234375 \r\nQ 47.125 39.59375 43.09375 43.984375 \r\nQ 39.0625 48.390625 32.421875 48.390625 \r\nQ 24.90625 48.390625 20.390625 44.140625 \r\nQ 15.875 39.890625 15.1875 32.171875 \r\nz\r\n\" id=\"DejaVuSans-101\"/>\r\n        <path d=\"M 54.890625 33.015625 \r\nL 54.890625 0 \r\nL 45.90625 0 \r\nL 45.90625 32.71875 \r\nQ 45.90625 40.484375 42.875 44.328125 \r\nQ 39.84375 48.1875 33.796875 48.1875 \r\nQ 26.515625 48.1875 22.3125 43.546875 \r\nQ 18.109375 38.921875 18.109375 30.90625 \r\nL 18.109375 0 \r\nL 9.078125 0 \r\nL 9.078125 54.6875 \r\nL 18.109375 54.6875 \r\nL 18.109375 46.1875 \r\nQ 21.34375 51.125 25.703125 53.5625 \r\nQ 30.078125 56 35.796875 56 \r\nQ 45.21875 56 50.046875 50.171875 \r\nQ 54.890625 44.34375 54.890625 33.015625 \r\nz\r\n\" id=\"DejaVuSans-110\"/>\r\n        <path d=\"M 18.3125 70.21875 \r\nL 18.3125 54.6875 \r\nL 36.8125 54.6875 \r\nL 36.8125 47.703125 \r\nL 18.3125 47.703125 \r\nL 18.3125 18.015625 \r\nQ 18.3125 11.328125 20.140625 9.421875 \r\nQ 21.96875 7.515625 27.59375 7.515625 \r\nL 36.8125 7.515625 \r\nL 36.8125 0 \r\nL 27.59375 0 \r\nQ 17.1875 0 13.234375 3.875 \r\nQ 9.28125 7.765625 9.28125 18.015625 \r\nL 9.28125 47.703125 \r\nL 2.6875 47.703125 \r\nL 2.6875 54.6875 \r\nL 9.28125 54.6875 \r\nL 9.28125 70.21875 \r\nz\r\n\" id=\"DejaVuSans-116\"/>\r\n        <path d=\"M 8.5 21.578125 \r\nL 8.5 54.6875 \r\nL 17.484375 54.6875 \r\nL 17.484375 21.921875 \r\nQ 17.484375 14.15625 20.5 10.265625 \r\nQ 23.53125 6.390625 29.59375 6.390625 \r\nQ 36.859375 6.390625 41.078125 11.03125 \r\nQ 45.3125 15.671875 45.3125 23.6875 \r\nL 45.3125 54.6875 \r\nL 54.296875 54.6875 \r\nL 54.296875 0 \r\nL 45.3125 0 \r\nL 45.3125 8.40625 \r\nQ 42.046875 3.421875 37.71875 1 \r\nQ 33.40625 -1.421875 27.6875 -1.421875 \r\nQ 18.265625 -1.421875 13.375 4.4375 \r\nQ 8.5 10.296875 8.5 21.578125 \r\nz\r\nM 31.109375 56 \r\nz\r\n\" id=\"DejaVuSans-117\"/>\r\n       </defs>\r\n       <use xlink:href=\"#DejaVuSans-77\"/>\r\n       <use x=\"86.279297\" xlink:href=\"#DejaVuSans-111\"/>\r\n       <use x=\"147.460938\" xlink:href=\"#DejaVuSans-109\"/>\r\n       <use x=\"244.873047\" xlink:href=\"#DejaVuSans-101\"/>\r\n       <use x=\"306.396484\" xlink:href=\"#DejaVuSans-110\"/>\r\n       <use x=\"369.775391\" xlink:href=\"#DejaVuSans-116\"/>\r\n       <use x=\"408.984375\" xlink:href=\"#DejaVuSans-117\"/>\r\n       <use x=\"472.363281\" xlink:href=\"#DejaVuSans-109\"/>\r\n      </g>\r\n     </g>\r\n    </g>\r\n    <g id=\"xtick_2\">\r\n     <g id=\"line2d_2\">\r\n      <g>\r\n       <use style=\"stroke:#000000;stroke-width:0.8;\" x=\"278.025\" xlink:href=\"#mf1de517b4a\" y=\"228.439219\"/>\r\n      </g>\r\n     </g>\r\n     <g id=\"text_2\">\r\n      <!-- Reversal -->\r\n      <g transform=\"translate(280.784375 278.389219)rotate(-90)scale(0.1 -0.1)\">\r\n       <defs>\r\n        <path d=\"M 44.390625 34.1875 \r\nQ 47.5625 33.109375 50.5625 29.59375 \r\nQ 53.5625 26.078125 56.59375 19.921875 \r\nL 66.609375 0 \r\nL 56 0 \r\nL 46.6875 18.703125 \r\nQ 43.0625 26.03125 39.671875 28.421875 \r\nQ 36.28125 30.8125 30.421875 30.8125 \r\nL 19.671875 30.8125 \r\nL 19.671875 0 \r\nL 9.8125 0 \r\nL 9.8125 72.90625 \r\nL 32.078125 72.90625 \r\nQ 44.578125 72.90625 50.734375 67.671875 \r\nQ 56.890625 62.453125 56.890625 51.90625 \r\nQ 56.890625 45.015625 53.6875 40.46875 \r\nQ 50.484375 35.9375 44.390625 34.1875 \r\nz\r\nM 19.671875 64.796875 \r\nL 19.671875 38.921875 \r\nL 32.078125 38.921875 \r\nQ 39.203125 38.921875 42.84375 42.21875 \r\nQ 46.484375 45.515625 46.484375 51.90625 \r\nQ 46.484375 58.296875 42.84375 61.546875 \r\nQ 39.203125 64.796875 32.078125 64.796875 \r\nz\r\n\" id=\"DejaVuSans-82\"/>\r\n        <path d=\"M 2.984375 54.6875 \r\nL 12.5 54.6875 \r\nL 29.59375 8.796875 \r\nL 46.6875 54.6875 \r\nL 56.203125 54.6875 \r\nL 35.6875 0 \r\nL 23.484375 0 \r\nz\r\n\" id=\"DejaVuSans-118\"/>\r\n        <path d=\"M 41.109375 46.296875 \r\nQ 39.59375 47.171875 37.8125 47.578125 \r\nQ 36.03125 48 33.890625 48 \r\nQ 26.265625 48 22.1875 43.046875 \r\nQ 18.109375 38.09375 18.109375 28.8125 \r\nL 18.109375 0 \r\nL 9.078125 0 \r\nL 9.078125 54.6875 \r\nL 18.109375 54.6875 \r\nL 18.109375 46.1875 \r\nQ 20.953125 51.171875 25.484375 53.578125 \r\nQ 30.03125 56 36.53125 56 \r\nQ 37.453125 56 38.578125 55.875 \r\nQ 39.703125 55.765625 41.0625 55.515625 \r\nz\r\n\" id=\"DejaVuSans-114\"/>\r\n        <path d=\"M 44.28125 53.078125 \r\nL 44.28125 44.578125 \r\nQ 40.484375 46.53125 36.375 47.5 \r\nQ 32.28125 48.484375 27.875 48.484375 \r\nQ 21.1875 48.484375 17.84375 46.4375 \r\nQ 14.5 44.390625 14.5 40.28125 \r\nQ 14.5 37.15625 16.890625 35.375 \r\nQ 19.28125 33.59375 26.515625 31.984375 \r\nL 29.59375 31.296875 \r\nQ 39.15625 29.25 43.1875 25.515625 \r\nQ 47.21875 21.78125 47.21875 15.09375 \r\nQ 47.21875 7.46875 41.1875 3.015625 \r\nQ 35.15625 -1.421875 24.609375 -1.421875 \r\nQ 20.21875 -1.421875 15.453125 -0.5625 \r\nQ 10.6875 0.296875 5.421875 2 \r\nL 5.421875 11.28125 \r\nQ 10.40625 8.6875 15.234375 7.390625 \r\nQ 20.0625 6.109375 24.8125 6.109375 \r\nQ 31.15625 6.109375 34.5625 8.28125 \r\nQ 37.984375 10.453125 37.984375 14.40625 \r\nQ 37.984375 18.0625 35.515625 20.015625 \r\nQ 33.0625 21.96875 24.703125 23.78125 \r\nL 21.578125 24.515625 \r\nQ 13.234375 26.265625 9.515625 29.90625 \r\nQ 5.8125 33.546875 5.8125 39.890625 \r\nQ 5.8125 47.609375 11.28125 51.796875 \r\nQ 16.75 56 26.8125 56 \r\nQ 31.78125 56 36.171875 55.265625 \r\nQ 40.578125 54.546875 44.28125 53.078125 \r\nz\r\n\" id=\"DejaVuSans-115\"/>\r\n        <path d=\"M 34.28125 27.484375 \r\nQ 23.390625 27.484375 19.1875 25 \r\nQ 14.984375 22.515625 14.984375 16.5 \r\nQ 14.984375 11.71875 18.140625 8.90625 \r\nQ 21.296875 6.109375 26.703125 6.109375 \r\nQ 34.1875 6.109375 38.703125 11.40625 \r\nQ 43.21875 16.703125 43.21875 25.484375 \r\nL 43.21875 27.484375 \r\nz\r\nM 52.203125 31.203125 \r\nL 52.203125 0 \r\nL 43.21875 0 \r\nL 43.21875 8.296875 \r\nQ 40.140625 3.328125 35.546875 0.953125 \r\nQ 30.953125 -1.421875 24.3125 -1.421875 \r\nQ 15.921875 -1.421875 10.953125 3.296875 \r\nQ 6 8.015625 6 15.921875 \r\nQ 6 25.140625 12.171875 29.828125 \r\nQ 18.359375 34.515625 30.609375 34.515625 \r\nL 43.21875 34.515625 \r\nL 43.21875 35.40625 \r\nQ 43.21875 41.609375 39.140625 45 \r\nQ 35.0625 48.390625 27.6875 48.390625 \r\nQ 23 48.390625 18.546875 47.265625 \r\nQ 14.109375 46.140625 10.015625 43.890625 \r\nL 10.015625 52.203125 \r\nQ 14.9375 54.109375 19.578125 55.046875 \r\nQ 24.21875 56 28.609375 56 \r\nQ 40.484375 56 46.34375 49.84375 \r\nQ 52.203125 43.703125 52.203125 31.203125 \r\nz\r\n\" id=\"DejaVuSans-97\"/>\r\n        <path d=\"M 9.421875 75.984375 \r\nL 18.40625 75.984375 \r\nL 18.40625 0 \r\nL 9.421875 0 \r\nz\r\n\" id=\"DejaVuSans-108\"/>\r\n       </defs>\r\n       <use xlink:href=\"#DejaVuSans-82\"/>\r\n       <use x=\"64.982422\" xlink:href=\"#DejaVuSans-101\"/>\r\n       <use x=\"126.505859\" xlink:href=\"#DejaVuSans-118\"/>\r\n       <use x=\"185.685547\" xlink:href=\"#DejaVuSans-101\"/>\r\n       <use x=\"247.208984\" xlink:href=\"#DejaVuSans-114\"/>\r\n       <use x=\"288.322266\" xlink:href=\"#DejaVuSans-115\"/>\r\n       <use x=\"340.421875\" xlink:href=\"#DejaVuSans-97\"/>\r\n       <use x=\"401.701172\" xlink:href=\"#DejaVuSans-108\"/>\r\n      </g>\r\n     </g>\r\n    </g>\r\n   </g>\r\n   <g id=\"matplotlib.axis_2\">\r\n    <g id=\"ytick_1\">\r\n     <g id=\"line2d_3\">\r\n      <defs>\r\n       <path d=\"M 0 0 \r\nL -3.5 0 \r\n\" id=\"m37fcc37f41\" style=\"stroke:#000000;stroke-width:0.8;\"/>\r\n      </defs>\r\n      <g>\r\n       <use style=\"stroke:#000000;stroke-width:0.8;\" x=\"26.925\" xlink:href=\"#m37fcc37f41\" y=\"228.439219\"/>\r\n      </g>\r\n     </g>\r\n     <g id=\"text_3\">\r\n      <!-- 0 -->\r\n      <g transform=\"translate(13.5625 232.238437)scale(0.1 -0.1)\">\r\n       <defs>\r\n        <path d=\"M 31.78125 66.40625 \r\nQ 24.171875 66.40625 20.328125 58.90625 \r\nQ 16.5 51.421875 16.5 36.375 \r\nQ 16.5 21.390625 20.328125 13.890625 \r\nQ 24.171875 6.390625 31.78125 6.390625 \r\nQ 39.453125 6.390625 43.28125 13.890625 \r\nQ 47.125 21.390625 47.125 36.375 \r\nQ 47.125 51.421875 43.28125 58.90625 \r\nQ 39.453125 66.40625 31.78125 66.40625 \r\nz\r\nM 31.78125 74.21875 \r\nQ 44.046875 74.21875 50.515625 64.515625 \r\nQ 56.984375 54.828125 56.984375 36.375 \r\nQ 56.984375 17.96875 50.515625 8.265625 \r\nQ 44.046875 -1.421875 31.78125 -1.421875 \r\nQ 19.53125 -1.421875 13.0625 8.265625 \r\nQ 6.59375 17.96875 6.59375 36.375 \r\nQ 6.59375 54.828125 13.0625 64.515625 \r\nQ 19.53125 74.21875 31.78125 74.21875 \r\nz\r\n\" id=\"DejaVuSans-48\"/>\r\n       </defs>\r\n       <use xlink:href=\"#DejaVuSans-48\"/>\r\n      </g>\r\n     </g>\r\n    </g>\r\n    <g id=\"ytick_2\">\r\n     <g id=\"line2d_4\">\r\n      <g>\r\n       <use style=\"stroke:#000000;stroke-width:0.8;\" x=\"26.925\" xlink:href=\"#m37fcc37f41\" y=\"210.319219\"/>\r\n      </g>\r\n     </g>\r\n     <g id=\"text_4\">\r\n      <!-- 2 -->\r\n      <g transform=\"translate(13.5625 214.118437)scale(0.1 -0.1)\">\r\n       <defs>\r\n        <path d=\"M 19.1875 8.296875 \r\nL 53.609375 8.296875 \r\nL 53.609375 0 \r\nL 7.328125 0 \r\nL 7.328125 8.296875 \r\nQ 12.9375 14.109375 22.625 23.890625 \r\nQ 32.328125 33.6875 34.8125 36.53125 \r\nQ 39.546875 41.84375 41.421875 45.53125 \r\nQ 43.3125 49.21875 43.3125 52.78125 \r\nQ 43.3125 58.59375 39.234375 62.25 \r\nQ 35.15625 65.921875 28.609375 65.921875 \r\nQ 23.96875 65.921875 18.8125 64.3125 \r\nQ 13.671875 62.703125 7.8125 59.421875 \r\nL 7.8125 69.390625 \r\nQ 13.765625 71.78125 18.9375 73 \r\nQ 24.125 74.21875 28.421875 74.21875 \r\nQ 39.75 74.21875 46.484375 68.546875 \r\nQ 53.21875 62.890625 53.21875 53.421875 \r\nQ 53.21875 48.921875 51.53125 44.890625 \r\nQ 49.859375 40.875 45.40625 35.40625 \r\nQ 44.1875 33.984375 37.640625 27.21875 \r\nQ 31.109375 20.453125 19.1875 8.296875 \r\nz\r\n\" id=\"DejaVuSans-50\"/>\r\n       </defs>\r\n       <use xlink:href=\"#DejaVuSans-50\"/>\r\n      </g>\r\n     </g>\r\n    </g>\r\n    <g id=\"ytick_3\">\r\n     <g id=\"line2d_5\">\r\n      <g>\r\n       <use style=\"stroke:#000000;stroke-width:0.8;\" x=\"26.925\" xlink:href=\"#m37fcc37f41\" y=\"192.199219\"/>\r\n      </g>\r\n     </g>\r\n     <g id=\"text_5\">\r\n      <!-- 4 -->\r\n      <g transform=\"translate(13.5625 195.998437)scale(0.1 -0.1)\">\r\n       <defs>\r\n        <path d=\"M 37.796875 64.3125 \r\nL 12.890625 25.390625 \r\nL 37.796875 25.390625 \r\nz\r\nM 35.203125 72.90625 \r\nL 47.609375 72.90625 \r\nL 47.609375 25.390625 \r\nL 58.015625 25.390625 \r\nL 58.015625 17.1875 \r\nL 47.609375 17.1875 \r\nL 47.609375 0 \r\nL 37.796875 0 \r\nL 37.796875 17.1875 \r\nL 4.890625 17.1875 \r\nL 4.890625 26.703125 \r\nz\r\n\" id=\"DejaVuSans-52\"/>\r\n       </defs>\r\n       <use xlink:href=\"#DejaVuSans-52\"/>\r\n      </g>\r\n     </g>\r\n    </g>\r\n    <g id=\"ytick_4\">\r\n     <g id=\"line2d_6\">\r\n      <g>\r\n       <use style=\"stroke:#000000;stroke-width:0.8;\" x=\"26.925\" xlink:href=\"#m37fcc37f41\" y=\"174.079219\"/>\r\n      </g>\r\n     </g>\r\n     <g id=\"text_6\">\r\n      <!-- 6 -->\r\n      <g transform=\"translate(13.5625 177.878437)scale(0.1 -0.1)\">\r\n       <defs>\r\n        <path d=\"M 33.015625 40.375 \r\nQ 26.375 40.375 22.484375 35.828125 \r\nQ 18.609375 31.296875 18.609375 23.390625 \r\nQ 18.609375 15.53125 22.484375 10.953125 \r\nQ 26.375 6.390625 33.015625 6.390625 \r\nQ 39.65625 6.390625 43.53125 10.953125 \r\nQ 47.40625 15.53125 47.40625 23.390625 \r\nQ 47.40625 31.296875 43.53125 35.828125 \r\nQ 39.65625 40.375 33.015625 40.375 \r\nz\r\nM 52.59375 71.296875 \r\nL 52.59375 62.3125 \r\nQ 48.875 64.0625 45.09375 64.984375 \r\nQ 41.3125 65.921875 37.59375 65.921875 \r\nQ 27.828125 65.921875 22.671875 59.328125 \r\nQ 17.53125 52.734375 16.796875 39.40625 \r\nQ 19.671875 43.65625 24.015625 45.921875 \r\nQ 28.375 48.1875 33.59375 48.1875 \r\nQ 44.578125 48.1875 50.953125 41.515625 \r\nQ 57.328125 34.859375 57.328125 23.390625 \r\nQ 57.328125 12.15625 50.6875 5.359375 \r\nQ 44.046875 -1.421875 33.015625 -1.421875 \r\nQ 20.359375 -1.421875 13.671875 8.265625 \r\nQ 6.984375 17.96875 6.984375 36.375 \r\nQ 6.984375 53.65625 15.1875 63.9375 \r\nQ 23.390625 74.21875 37.203125 74.21875 \r\nQ 40.921875 74.21875 44.703125 73.484375 \r\nQ 48.484375 72.75 52.59375 71.296875 \r\nz\r\n\" id=\"DejaVuSans-54\"/>\r\n       </defs>\r\n       <use xlink:href=\"#DejaVuSans-54\"/>\r\n      </g>\r\n     </g>\r\n    </g>\r\n    <g id=\"ytick_5\">\r\n     <g id=\"line2d_7\">\r\n      <g>\r\n       <use style=\"stroke:#000000;stroke-width:0.8;\" x=\"26.925\" xlink:href=\"#m37fcc37f41\" y=\"155.959219\"/>\r\n      </g>\r\n     </g>\r\n     <g id=\"text_7\">\r\n      <!-- 8 -->\r\n      <g transform=\"translate(13.5625 159.758437)scale(0.1 -0.1)\">\r\n       <defs>\r\n        <path d=\"M 31.78125 34.625 \r\nQ 24.75 34.625 20.71875 30.859375 \r\nQ 16.703125 27.09375 16.703125 20.515625 \r\nQ 16.703125 13.921875 20.71875 10.15625 \r\nQ 24.75 6.390625 31.78125 6.390625 \r\nQ 38.8125 6.390625 42.859375 10.171875 \r\nQ 46.921875 13.96875 46.921875 20.515625 \r\nQ 46.921875 27.09375 42.890625 30.859375 \r\nQ 38.875 34.625 31.78125 34.625 \r\nz\r\nM 21.921875 38.8125 \r\nQ 15.578125 40.375 12.03125 44.71875 \r\nQ 8.5 49.078125 8.5 55.328125 \r\nQ 8.5 64.0625 14.71875 69.140625 \r\nQ 20.953125 74.21875 31.78125 74.21875 \r\nQ 42.671875 74.21875 48.875 69.140625 \r\nQ 55.078125 64.0625 55.078125 55.328125 \r\nQ 55.078125 49.078125 51.53125 44.71875 \r\nQ 48 40.375 41.703125 38.8125 \r\nQ 48.828125 37.15625 52.796875 32.3125 \r\nQ 56.78125 27.484375 56.78125 20.515625 \r\nQ 56.78125 9.90625 50.3125 4.234375 \r\nQ 43.84375 -1.421875 31.78125 -1.421875 \r\nQ 19.734375 -1.421875 13.25 4.234375 \r\nQ 6.78125 9.90625 6.78125 20.515625 \r\nQ 6.78125 27.484375 10.78125 32.3125 \r\nQ 14.796875 37.15625 21.921875 38.8125 \r\nz\r\nM 18.3125 54.390625 \r\nQ 18.3125 48.734375 21.84375 45.5625 \r\nQ 25.390625 42.390625 31.78125 42.390625 \r\nQ 38.140625 42.390625 41.71875 45.5625 \r\nQ 45.3125 48.734375 45.3125 54.390625 \r\nQ 45.3125 60.0625 41.71875 63.234375 \r\nQ 38.140625 66.40625 31.78125 66.40625 \r\nQ 25.390625 66.40625 21.84375 63.234375 \r\nQ 18.3125 60.0625 18.3125 54.390625 \r\nz\r\n\" id=\"DejaVuSans-56\"/>\r\n       </defs>\r\n       <use xlink:href=\"#DejaVuSans-56\"/>\r\n      </g>\r\n     </g>\r\n    </g>\r\n    <g id=\"ytick_6\">\r\n     <g id=\"line2d_8\">\r\n      <g>\r\n       <use style=\"stroke:#000000;stroke-width:0.8;\" x=\"26.925\" xlink:href=\"#m37fcc37f41\" y=\"137.839219\"/>\r\n      </g>\r\n     </g>\r\n     <g id=\"text_8\">\r\n      <!-- 10 -->\r\n      <g transform=\"translate(7.2 141.638437)scale(0.1 -0.1)\">\r\n       <defs>\r\n        <path d=\"M 12.40625 8.296875 \r\nL 28.515625 8.296875 \r\nL 28.515625 63.921875 \r\nL 10.984375 60.40625 \r\nL 10.984375 69.390625 \r\nL 28.421875 72.90625 \r\nL 38.28125 72.90625 \r\nL 38.28125 8.296875 \r\nL 54.390625 8.296875 \r\nL 54.390625 0 \r\nL 12.40625 0 \r\nz\r\n\" id=\"DejaVuSans-49\"/>\r\n       </defs>\r\n       <use xlink:href=\"#DejaVuSans-49\"/>\r\n       <use x=\"63.623047\" xlink:href=\"#DejaVuSans-48\"/>\r\n      </g>\r\n     </g>\r\n    </g>\r\n    <g id=\"ytick_7\">\r\n     <g id=\"line2d_9\">\r\n      <g>\r\n       <use style=\"stroke:#000000;stroke-width:0.8;\" x=\"26.925\" xlink:href=\"#m37fcc37f41\" y=\"119.719219\"/>\r\n      </g>\r\n     </g>\r\n     <g id=\"text_9\">\r\n      <!-- 12 -->\r\n      <g transform=\"translate(7.2 123.518437)scale(0.1 -0.1)\">\r\n       <use xlink:href=\"#DejaVuSans-49\"/>\r\n       <use x=\"63.623047\" xlink:href=\"#DejaVuSans-50\"/>\r\n      </g>\r\n     </g>\r\n    </g>\r\n    <g id=\"ytick_8\">\r\n     <g id=\"line2d_10\">\r\n      <g>\r\n       <use style=\"stroke:#000000;stroke-width:0.8;\" x=\"26.925\" xlink:href=\"#m37fcc37f41\" y=\"101.599219\"/>\r\n      </g>\r\n     </g>\r\n     <g id=\"text_10\">\r\n      <!-- 14 -->\r\n      <g transform=\"translate(7.2 105.398437)scale(0.1 -0.1)\">\r\n       <use xlink:href=\"#DejaVuSans-49\"/>\r\n       <use x=\"63.623047\" xlink:href=\"#DejaVuSans-52\"/>\r\n      </g>\r\n     </g>\r\n    </g>\r\n    <g id=\"ytick_9\">\r\n     <g id=\"line2d_11\">\r\n      <g>\r\n       <use style=\"stroke:#000000;stroke-width:0.8;\" x=\"26.925\" xlink:href=\"#m37fcc37f41\" y=\"83.479219\"/>\r\n      </g>\r\n     </g>\r\n     <g id=\"text_11\">\r\n      <!-- 16 -->\r\n      <g transform=\"translate(7.2 87.278437)scale(0.1 -0.1)\">\r\n       <use xlink:href=\"#DejaVuSans-49\"/>\r\n       <use x=\"63.623047\" xlink:href=\"#DejaVuSans-54\"/>\r\n      </g>\r\n     </g>\r\n    </g>\r\n    <g id=\"ytick_10\">\r\n     <g id=\"line2d_12\">\r\n      <g>\r\n       <use style=\"stroke:#000000;stroke-width:0.8;\" x=\"26.925\" xlink:href=\"#m37fcc37f41\" y=\"65.359219\"/>\r\n      </g>\r\n     </g>\r\n     <g id=\"text_12\">\r\n      <!-- 18 -->\r\n      <g transform=\"translate(7.2 69.158437)scale(0.1 -0.1)\">\r\n       <use xlink:href=\"#DejaVuSans-49\"/>\r\n       <use x=\"63.623047\" xlink:href=\"#DejaVuSans-56\"/>\r\n      </g>\r\n     </g>\r\n    </g>\r\n    <g id=\"ytick_11\">\r\n     <g id=\"line2d_13\">\r\n      <g>\r\n       <use style=\"stroke:#000000;stroke-width:0.8;\" x=\"26.925\" xlink:href=\"#m37fcc37f41\" y=\"47.239219\"/>\r\n      </g>\r\n     </g>\r\n     <g id=\"text_13\">\r\n      <!-- 20 -->\r\n      <g transform=\"translate(7.2 51.038437)scale(0.1 -0.1)\">\r\n       <use xlink:href=\"#DejaVuSans-50\"/>\r\n       <use x=\"63.623047\" xlink:href=\"#DejaVuSans-48\"/>\r\n      </g>\r\n     </g>\r\n    </g>\r\n    <g id=\"ytick_12\">\r\n     <g id=\"line2d_14\">\r\n      <g>\r\n       <use style=\"stroke:#000000;stroke-width:0.8;\" x=\"26.925\" xlink:href=\"#m37fcc37f41\" y=\"29.119219\"/>\r\n      </g>\r\n     </g>\r\n     <g id=\"text_14\">\r\n      <!-- 22 -->\r\n      <g transform=\"translate(7.2 32.918437)scale(0.1 -0.1)\">\r\n       <use xlink:href=\"#DejaVuSans-50\"/>\r\n       <use x=\"63.623047\" xlink:href=\"#DejaVuSans-50\"/>\r\n      </g>\r\n     </g>\r\n    </g>\r\n    <g id=\"ytick_13\">\r\n     <g id=\"line2d_15\">\r\n      <g>\r\n       <use style=\"stroke:#000000;stroke-width:0.8;\" x=\"26.925\" xlink:href=\"#m37fcc37f41\" y=\"10.999219\"/>\r\n      </g>\r\n     </g>\r\n     <g id=\"text_15\">\r\n      <!-- 24 -->\r\n      <g transform=\"translate(7.2 14.798437)scale(0.1 -0.1)\">\r\n       <use xlink:href=\"#DejaVuSans-50\"/>\r\n       <use x=\"63.623047\" xlink:href=\"#DejaVuSans-52\"/>\r\n      </g>\r\n     </g>\r\n    </g>\r\n   </g>\r\n   <g id=\"patch_5\">\r\n    <path d=\"M 26.925 228.439219 \r\nL 26.925 10.999219 \r\n\" style=\"fill:none;stroke:#000000;stroke-linecap:square;stroke-linejoin:miter;stroke-width:0.8;\"/>\r\n   </g>\r\n   <g id=\"patch_6\">\r\n    <path d=\"M 361.725 228.439219 \r\nL 361.725 10.999219 \r\n\" style=\"fill:none;stroke:#000000;stroke-linecap:square;stroke-linejoin:miter;stroke-width:0.8;\"/>\r\n   </g>\r\n   <g id=\"patch_7\">\r\n    <path d=\"M 26.925 228.439219 \r\nL 361.725 228.439219 \r\n\" style=\"fill:none;stroke:#000000;stroke-linecap:square;stroke-linejoin:miter;stroke-width:0.8;\"/>\r\n   </g>\r\n   <g id=\"patch_8\">\r\n    <path d=\"M 26.925 10.999219 \r\nL 361.725 10.999219 \r\n\" style=\"fill:none;stroke:#000000;stroke-linecap:square;stroke-linejoin:miter;stroke-width:0.8;\"/>\r\n   </g>\r\n  </g>\r\n </g>\r\n <defs>\r\n  <clipPath id=\"p8ceb0d15ab\">\r\n   <rect height=\"217.44\" width=\"334.8\" x=\"26.925\" y=\"10.999219\"/>\r\n  </clipPath>\r\n </defs>\r\n</svg>\r\n",
      "image/png": "[encoded data removed]"
     },
     "metadata": {
      "needs_background": "light"
     }
    }
   ],
   "source": [
    "dfs[8]['Effect'].value_counts().plot(kind='bar',yticks=range(0,25,2))"
   ]
  },
  {
   "cell_type": "code",
   "execution_count": 78,
   "metadata": {},
   "outputs": [
    {
     "output_type": "error",
     "ename": "NameError",
     "evalue": "name 'aapl' is not defined",
     "traceback": [
      "\u001b[1;31m---------------------------------------------------------------------------\u001b[0m",
      "\u001b[1;31mNameError\u001b[0m                                 Traceback (most recent call last)",
      "\u001b[1;32m<ipython-input-78-fe30cb81f33f>\u001b[0m in \u001b[0;36m<module>\u001b[1;34m\u001b[0m\n\u001b[1;32m----> 1\u001b[1;33m \u001b[0mnew_df\u001b[0m \u001b[1;33m=\u001b[0m \u001b[0mpd\u001b[0m\u001b[1;33m.\u001b[0m\u001b[0mmerge_asof\u001b[0m\u001b[1;33m(\u001b[0m\u001b[0mdfs\u001b[0m\u001b[1;33m[\u001b[0m\u001b[1;36m0\u001b[0m\u001b[1;33m]\u001b[0m\u001b[1;33m,\u001b[0m\u001b[0maapl\u001b[0m\u001b[1;33m,\u001b[0m\u001b[0mon\u001b[0m\u001b[1;33m=\u001b[0m\u001b[1;34m'Date'\u001b[0m\u001b[1;33m)\u001b[0m\u001b[1;33m\u001b[0m\u001b[1;33m\u001b[0m\u001b[0m\n\u001b[0m\u001b[0;32m      2\u001b[0m \u001b[0mnew_df\u001b[0m\u001b[1;33m[\u001b[0m\u001b[1;34m'Name'\u001b[0m\u001b[1;33m]\u001b[0m \u001b[1;33m=\u001b[0m \u001b[1;34m'AAPL'\u001b[0m\u001b[1;33m\u001b[0m\u001b[1;33m\u001b[0m\u001b[0m\n\u001b[0;32m      3\u001b[0m \u001b[0mnew_df\u001b[0m\u001b[1;33m.\u001b[0m\u001b[0mset_index\u001b[0m\u001b[1;33m(\u001b[0m\u001b[1;33m[\u001b[0m\u001b[1;34m'Name'\u001b[0m\u001b[1;33m,\u001b[0m\u001b[1;34m'Date'\u001b[0m\u001b[1;33m]\u001b[0m\u001b[1;33m,\u001b[0m\u001b[0minplace\u001b[0m\u001b[1;33m=\u001b[0m\u001b[1;32mTrue\u001b[0m\u001b[1;33m)\u001b[0m\u001b[1;33m\u001b[0m\u001b[1;33m\u001b[0m\u001b[0m\n\u001b[0;32m      4\u001b[0m \u001b[0mnew_df\u001b[0m \u001b[1;33m=\u001b[0m \u001b[0mnew_df\u001b[0m\u001b[1;33m[\u001b[0m\u001b[1;33m~\u001b[0m\u001b[0mnew_df\u001b[0m\u001b[1;33m.\u001b[0m\u001b[0mindex\u001b[0m\u001b[1;33m.\u001b[0m\u001b[0mduplicated\u001b[0m\u001b[1;33m(\u001b[0m\u001b[0mkeep\u001b[0m\u001b[1;33m=\u001b[0m\u001b[1;34m'first'\u001b[0m\u001b[1;33m)\u001b[0m\u001b[1;33m]\u001b[0m\u001b[1;33m\u001b[0m\u001b[1;33m\u001b[0m\u001b[0m\n\u001b[0;32m      5\u001b[0m \u001b[0mnew_df\u001b[0m\u001b[1;33m\u001b[0m\u001b[1;33m\u001b[0m\u001b[0m\n",
      "\u001b[1;31mNameError\u001b[0m: name 'aapl' is not defined"
     ]
    }
   ],
   "source": [
    "new_df = pd.merge_asof(dfs[0],aapl,on='Date')\n",
    "new_df['Name'] = 'AAPL'\n",
    "new_df.set_index(['Name','Date'],inplace=True)\n",
    "new_df = new_df[~new_df.index.duplicated(keep='first')]\n",
    "new_df"
   ]
  },
  {
   "cell_type": "code",
   "execution_count": 1,
   "metadata": {},
   "outputs": [
    {
     "output_type": "error",
     "ename": "NameError",
     "evalue": "name 'new_df' is not defined",
     "traceback": [
      "\u001b[1;31m---------------------------------------------------------------------------\u001b[0m",
      "\u001b[1;31mNameError\u001b[0m                                 Traceback (most recent call last)",
      "\u001b[1;32m<ipython-input-1-7da51bd90949>\u001b[0m in \u001b[0;36m<module>\u001b[1;34m\u001b[0m\n\u001b[0;32m      1\u001b[0m \u001b[1;32mimport\u001b[0m \u001b[0mpandas_ta\u001b[0m \u001b[1;32mas\u001b[0m \u001b[0mta\u001b[0m\u001b[1;33m\u001b[0m\u001b[1;33m\u001b[0m\u001b[0m\n\u001b[1;32m----> 2\u001b[1;33m \u001b[0mnew_df\u001b[0m\u001b[1;33m.\u001b[0m\u001b[0mta\u001b[0m\u001b[1;33m.\u001b[0m\u001b[0mcores\u001b[0m \u001b[1;33m=\u001b[0m \u001b[1;36m7\u001b[0m\u001b[1;33m\u001b[0m\u001b[1;33m\u001b[0m\u001b[0m\n\u001b[0m\u001b[0;32m      3\u001b[0m \u001b[0mnew_df\u001b[0m\u001b[1;33m.\u001b[0m\u001b[0mta\u001b[0m\u001b[1;33m.\u001b[0m\u001b[0msma\u001b[0m\u001b[1;33m(\u001b[0m\u001b[0mlength\u001b[0m\u001b[1;33m=\u001b[0m\u001b[1;36m8\u001b[0m\u001b[1;33m,\u001b[0m \u001b[0mappend\u001b[0m\u001b[1;33m=\u001b[0m\u001b[1;32mTrue\u001b[0m\u001b[1;33m)\u001b[0m\u001b[1;33m\u001b[0m\u001b[1;33m\u001b[0m\u001b[0m\n\u001b[0;32m      4\u001b[0m \u001b[0mnew_df\u001b[0m\u001b[1;33m.\u001b[0m\u001b[0mta\u001b[0m\u001b[1;33m.\u001b[0m\u001b[0mrsi\u001b[0m\u001b[1;33m(\u001b[0m\u001b[0mappend\u001b[0m\u001b[1;33m=\u001b[0m\u001b[1;32mTrue\u001b[0m\u001b[1;33m)\u001b[0m\u001b[1;33m\u001b[0m\u001b[1;33m\u001b[0m\u001b[0m\n\u001b[0;32m      5\u001b[0m \u001b[0mnew_df\u001b[0m\u001b[1;33m.\u001b[0m\u001b[0mta\u001b[0m\u001b[1;33m.\u001b[0m\u001b[0mcci\u001b[0m\u001b[1;33m(\u001b[0m\u001b[0mlength\u001b[0m\u001b[1;33m=\u001b[0m\u001b[1;36m8\u001b[0m\u001b[1;33m,\u001b[0m \u001b[0mappend\u001b[0m\u001b[1;33m=\u001b[0m\u001b[1;32mTrue\u001b[0m\u001b[1;33m)\u001b[0m\u001b[1;33m\u001b[0m\u001b[1;33m\u001b[0m\u001b[0m\n",
      "\u001b[1;31mNameError\u001b[0m: name 'new_df' is not defined"
     ]
    }
   ],
   "source": [
    "import pandas_ta as ta\n",
    "new_df.ta.cores = 7\n",
    "new_df.ta.sma(length=8, append=True)\n",
    "new_df.ta.rsi(append=True)\n",
    "new_df.ta.cci(length=8, append=True)\n",
    "new_df['return std'] = new_df['Cum Returns'].rolling(2).std()\n",
    "new_df.ta.willr(length=k/2, append=True)\n",
    "new_df.ta.roc(length=k/2,append=True)\n",
    "new_df.ta.ema(append=True)\n",
    "new_df.ta.pdist(append=True)\n",
    "new_df.ta.variance(length=4,append=True)\n",
    "new_df.ta.psar(append=True)\n",
    "new_df = new_df.join(pd.get_dummies(new_df.Effect, prefix='Effect')) #one hot\n",
    "new_df"
   ]
  },
  {
   "cell_type": "code",
   "execution_count": null,
   "metadata": {},
   "outputs": [],
   "source": [
    "import seaborn as sns\n",
    "\n",
    "corr = new_df.corr()\n",
    "\n",
    "# Generate a mask for the upper triangle\n",
    "mask = np.triu(np.ones_like(corr, dtype=bool))\n",
    "\n",
    "# Set up the matplotlib figure\n",
    "f, ax = plt.subplots(figsize=(11, 9))\n",
    "\n",
    "# Generate a custom diverging colormap\n",
    "cmap = sns.diverging_palette(230, 20, as_cmap=True)\n",
    "\n",
    "# Draw the heatmap with the mask and correct aspect ratio\n",
    "sns.heatmap(corr, mask=mask, cmap=\"PuBuGn\", vmax=1, vmin=-1, center=0,\n",
    "            square=True, linewidths=.5, cbar_kws={\"shrink\": .5})"
   ]
  },
  {
   "cell_type": "code",
   "execution_count": null,
   "metadata": {},
   "outputs": [],
   "source": [
    "new_df"
   ]
  },
  {
   "cell_type": "code",
   "execution_count": null,
   "metadata": {},
   "outputs": [],
   "source": [
    "# def K_ranking(ticker_df):\n",
    "def K_ranking(start_time, end_time):\n",
    "    '''given a time range, this reads in OHLC data of the s&p500 and converts it into usable features.'''\n",
    "    "
   ]
  },
  {
   "cell_type": "markdown",
   "metadata": {},
   "source": [
    "# Modeling:\n",
    "Below we start to really look at feature engineering, not much here yet"
   ]
  },
  {
   "cell_type": "code",
   "execution_count": null,
   "metadata": {},
   "outputs": [],
   "source": [
    "# pd.read_csv('constituent_performance_4_months.csv')"
   ]
  },
  {
   "cell_type": "code",
   "execution_count": null,
   "metadata": {},
   "outputs": [],
   "source": [
    "# momentum/ model: given a huge dataset with daily/monthly data, we determine in an initial period J to find which tickers do the best/worst, "
   ]
  },
  {
   "cell_type": "code",
   "execution_count": null,
   "metadata": {},
   "outputs": [],
   "source": []
  },
  {
   "cell_type": "markdown",
   "metadata": {},
   "source": [
    "## ---notes below---"
   ]
  },
  {
   "cell_type": "markdown",
   "metadata": {},
   "source": [
    "# For the momentum analysis portion:\n",
    "The way we plan to proceed for now is to give each stock in our index (sp500) equal weights, in a sense, then rank them by some criteria on how well they are performing. we will adopt the observe J and hold K strategy as detailed in the paper, in which there is an observatory period of J quarters/months/days and a holding period of K quarters/months/days (Ben: idk, j might be able to overlap with k, we can do a lot with how we implement it). In short, we classify in the J period whether a particular ticker would be best treated with a momentum or reversal strategy, or some other. The classification task here is thus presented.\n",
    "\n",
    "momentum strategy: buy/give heavier weights over time to well performing stocks, as we assume they will continue to get better as per our understanding of momentum\n",
    "\n",
    "reversal strategy: Amir proposed we short underperforming stocks. This strategy we adopt *might* actually be different from what the paper is proposing, which is to buy and hold underperforming stocks as we predict it to rebound (Ben: fact check me pls).\n",
    "\n",
    "stocks in between: dont buy them, or leave them as they are...? feel free to share your own thoughts.\n",
    "\n",
    "# For the modeling portion: \n",
    "a lot still left untouched, ill think a bit harder about it tmr ...\n",
    "we want 3 models to do this kind of momentum analysis algorithmically vs manually, and pit it against a baseline of a simple buy and hold strategy. The parameters will come from a wealth of technical analysis (read: all the fancy hard to understand financial forecasting stuff) libraries already available (we probably wont be making most of them, beyond the simple stuff) but we do have a deadline to keep in mind."
   ]
  },
  {
   "source": [
    "momentum groups have positive trensds, high return rates, \n",
    "\n",
    "reversal groups are stocks taht are losing. \n",
    "dynamically managing the 500 tickers in s&p.\n",
    "\n",
    "hwo do we predict who is going into momentum group at t+k, and how accurate can we be?\n",
    "based on the pricing trends, who will be in reversal and who will be in momentum?\n",
    "    a lot of room to work with\n",
    "bactesting takes our predictions and our model trained to figure out how to weight the positions of the stocks, we would take that strategy and test it on historical data\n",
    "\n",
    "we would have a lot to talk about in terms of a paper, how to improve, what not to notice\n",
    "how it could be used in the real world market\n",
    "\n",
    "do we want to create our own feature on which ticker is profitable, or \n",
    "- returns? predicting reurns over a certain period\\\\\n",
    "- the momentum to reversal ratio for a particular \n",
    "- more categorical features interpreted from indicators\n",
    "if we could answer these questions, how to implement above\n",
    "predictions on who goes where, then we can find out which features can increase accuracy over time, then weights, risk parameter, where the algo tries to place the stocks momentum and reversal groups and then it meets the parameter that we feed\n",
    "how do I predict, say, can we predict the possible return and then see, based on that,..\n",
    "there are certain indicators \n",
    "moving averages, where they change is a trend reversal indicate where and when that happens\n",
    "if we need more features\n",
    "\n",
    "waht would be a good starting point for us to start on?\n",
    "- creating features? familiarizing ourselgves with this notebook\n",
    "- we bought here and held there\\\n",
    "- maybe correlation analysis? taking old data and shiftiing it around to create and make it as accurate as possible for one of those and then figuring out which one of these affect accuracy of who goes in what group.\n",
    "tldr the sooner we play with the features bnetter \n",
    "who is in momentum who is in reversal based on certain criteria?\n",
    "for momentum and reversal, we are predicting return, get rmse beneath 80, and then visualize how it places and then prefirmance. start iterating on that part. cumulative returns vs actual returns\n",
    "creating better features?\n",
    "tuning parameters to modify the suggestion you would give based on momentum group.\n",
    "no effect is that it dont make it int\n",
    "we have many variables to compare the two. lower profiitability and higher rate. if it kept your risk constrained and you still had a significant strategy\n",
    "\n"
   ],
   "cell_type": "markdown",
   "metadata": {}
  },
  {
   "source": [
    "analyze at j, hold for k. \n",
    "evaluating when it hits the lowest...?\n",
    "\n",
    "\n",
    "\n",
    "\n",
    "so we have stocks, are we predicting profitability? -its not a difficult question to ask. we are predicting \n",
    "\n",
    "shweta as a clasirifation problem, momentum nad reversal. \n",
    "if we went back to momentum and reversal?\n",
    "- with these, can we predict return? pick a momentum or reversal group \n",
    "we label with momentum and reversal. say we have a collection, and a group at certain points. predict return? if you were to hold them for a time. use calculations for holding, having a certain period  and hold? for a certain amount. eg 2010 to 2015, we have all the return data, take the "
   ],
   "cell_type": "markdown",
   "metadata": {}
  },
  {
   "source": [
    "could we create a concrete quesiton\n",
    "xgd regressor\n",
    "> check out the moethodology portion"
   ],
   "cell_type": "markdown",
   "metadata": {}
  }
 ],
 "metadata": {
  "kernelspec": {
   "name": "python3",
   "display_name": "Python 3.7.4 64-bit ('dsc190': pipenv)",
   "metadata": {
    "interpreter": {
     "hash": "e8c7d0e4fde2d427e9a5fa7c228e5b3fde1b07bcd87cbc5bf40713027eb29d09"
    }
   }
  },
  "language_info": {
   "codemirror_mode": {
    "name": "ipython",
    "version": 3
   },
   "file_extension": ".py",
   "mimetype": "text/x-python",
   "name": "python",
   "nbconvert_exporter": "python",
   "pygments_lexer": "ipython3",
   "version": "3.7.4-final"
  }
 },
 "nbformat": 4,
 "nbformat_minor": 2
}